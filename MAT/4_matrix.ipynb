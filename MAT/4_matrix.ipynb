{
 "cells": [
  {
   "cell_type": "markdown",
   "id": "8640cab5",
   "metadata": {},
   "source": [
    "# матрицы"
   ]
  },
  {
   "cell_type": "markdown",
   "id": "4a552d5d",
   "metadata": {},
   "source": [
    "## Матрицы numpy"
   ]
  },
  {
   "cell_type": "code",
   "execution_count": 20,
   "id": "57169e9e",
   "metadata": {},
   "outputs": [],
   "source": [
    "import numpy as np"
   ]
  },
  {
   "cell_type": "markdown",
   "id": "c85c3826",
   "metadata": {},
   "source": [
    "### Создание"
   ]
  },
  {
   "cell_type": "code",
   "execution_count": 21,
   "id": "001c1c4c",
   "metadata": {},
   "outputs": [
    {
     "name": "stdout",
     "output_type": "stream",
     "text": [
      "Массив [1. 2. 3. 4. 5. 6.]\n",
      "Размер (6,)\n",
      "тип элементов float32\n"
     ]
    }
   ],
   "source": [
    "# создание массив - вектор\n",
    "a = np.array([1, 2, 3, 4, 5, 6], dtype='float32')\n",
    "print('Массив', a)\n",
    "print('Размер', a.shape)\n",
    "print('тип элементов',  a.dtype)"
   ]
  },
  {
   "cell_type": "code",
   "execution_count": 22,
   "id": "2eb8b6f3",
   "metadata": {},
   "outputs": [
    {
     "data": {
      "text/plain": [
       "array([[1, 2, 3, 4, 5, 6],\n",
       "       [3, 1, 5, 7, 4, 9],\n",
       "       [1, 3, 1, 0, 4, 6]])"
      ]
     },
     "execution_count": 22,
     "metadata": {},
     "output_type": "execute_result"
    }
   ],
   "source": [
    "# матрица\n",
    "a = np.array([[1, 2, 3, 4, 5, 6],\n",
    "              [3, 1, 5, 7, 4, 9],\n",
    "              [1, 3, 1, 0, 4, 6]])\n",
    "a"
   ]
  },
  {
   "cell_type": "code",
   "execution_count": 23,
   "id": "55761b46",
   "metadata": {},
   "outputs": [
    {
     "name": "stdout",
     "output_type": "stream",
     "text": [
      "Размерность: (3, 6)\n",
      "Тип хранимых данных в массиве: int64\n",
      "Тип объекта: <class 'numpy.ndarray'>\n",
      "Кол-во элементов массива: 18\n",
      "Кол-во измерений: 2\n",
      "размер в байтах: 144\n"
     ]
    }
   ],
   "source": [
    "# общие данные по массиву\n",
    "\n",
    "print(f'Размерность: {a.shape}')\n",
    "print(f'Тип хранимых данных в массиве: {a.dtype}')\n",
    "print(f'Тип объекта: {type(a)}')\n",
    "print(f'Кол-во элементов массива: {a.size}')\n",
    "print(f'Кол-во измерений: {a.ndim}')\n",
    "print(f'размер в байтах: {a.nbytes}')"
   ]
  },
  {
   "cell_type": "code",
   "execution_count": 24,
   "id": "1c1d2b6b",
   "metadata": {},
   "outputs": [
    {
     "data": {
      "text/plain": [
       "(array([[0., 0., 0., 0., 0., 0.],\n",
       "        [0., 0., 0., 0., 0., 0.],\n",
       "        [0., 0., 0., 0., 0., 0.]]),\n",
       " (3, 6))"
      ]
     },
     "execution_count": 24,
     "metadata": {},
     "output_type": "execute_result"
    }
   ],
   "source": [
    "# матрица нулей\n",
    "b = np.zeros((3, 6))\n",
    "b, b.shape"
   ]
  },
  {
   "cell_type": "code",
   "execution_count": 25,
   "id": "0e20f461",
   "metadata": {},
   "outputs": [
    {
     "data": {
      "text/plain": [
       "(array([[1., 1., 1., 1., 1., 1.],\n",
       "        [1., 1., 1., 1., 1., 1.],\n",
       "        [1., 1., 1., 1., 1., 1.]]),\n",
       " (3, 6))"
      ]
     },
     "execution_count": 25,
     "metadata": {},
     "output_type": "execute_result"
    }
   ],
   "source": [
    "# матрица единиц\n",
    "b = np.ones((3, 6))\n",
    "b, b.shape"
   ]
  },
  {
   "cell_type": "code",
   "execution_count": 26,
   "id": "cdea8c46",
   "metadata": {},
   "outputs": [
    {
     "data": {
      "text/plain": [
       "(array([[1, 1, 1, 1, 1, 1],\n",
       "        [1, 1, 1, 1, 1, 1],\n",
       "        [1, 1, 1, 1, 1, 1]]),\n",
       " (3, 6))"
      ]
     },
     "execution_count": 26,
     "metadata": {},
     "output_type": "execute_result"
    }
   ],
   "source": [
    "# создание матрицы единиц размерностью матрица \"а\"\n",
    "b = np.ones_like(a)\n",
    "b, b.shape"
   ]
  },
  {
   "cell_type": "code",
   "execution_count": 27,
   "id": "650d5429",
   "metadata": {},
   "outputs": [
    {
     "data": {
      "text/plain": [
       "array([[4607182418800017408, 4607182418800017408, 4607182418800017408,\n",
       "        4607182418800017408, 4607182418800017408, 4607182418800017408],\n",
       "       [4607182418800017408, 4607182418800017408, 4607182418800017408,\n",
       "        4607182418800017408, 4607182418800017408, 4607182418800017408],\n",
       "       [4607182418800017408, 4607182418800017408, 4607182418800017408,\n",
       "        4607182418800017408, 4607182418800017408, 4607182418800017408]])"
      ]
     },
     "execution_count": 27,
     "metadata": {},
     "output_type": "execute_result"
    }
   ],
   "source": [
    "# создание пустой матрицы (случайные элементы)\n",
    "c = np.empty((3,6), dtype='int')\n",
    "c"
   ]
  },
  {
   "cell_type": "markdown",
   "id": "4f218afa",
   "metadata": {},
   "source": [
    "### Объединение матриц"
   ]
  },
  {
   "cell_type": "code",
   "execution_count": 28,
   "id": "e531139c",
   "metadata": {},
   "outputs": [
    {
     "data": {
      "text/plain": [
       "array([[1, 2, 3, 4, 5, 6, 1, 1, 1, 1, 1, 1],\n",
       "       [3, 1, 5, 7, 4, 9, 1, 1, 1, 1, 1, 1],\n",
       "       [1, 3, 1, 0, 4, 6, 1, 1, 1, 1, 1, 1]])"
      ]
     },
     "execution_count": 28,
     "metadata": {},
     "output_type": "execute_result"
    }
   ],
   "source": [
    "np.concatenate((a, b), axis=1)"
   ]
  },
  {
   "cell_type": "code",
   "execution_count": 29,
   "id": "6f43173c",
   "metadata": {},
   "outputs": [
    {
     "data": {
      "text/plain": [
       "array([[1, 2, 3, 4, 5, 6],\n",
       "       [3, 1, 5, 7, 4, 9],\n",
       "       [1, 3, 1, 0, 4, 6],\n",
       "       [1, 1, 1, 1, 1, 1],\n",
       "       [1, 1, 1, 1, 1, 1],\n",
       "       [1, 1, 1, 1, 1, 1]])"
      ]
     },
     "execution_count": 29,
     "metadata": {},
     "output_type": "execute_result"
    }
   ],
   "source": [
    "np.concatenate((a, b), axis=0)"
   ]
  },
  {
   "cell_type": "code",
   "execution_count": 30,
   "id": "0fc84dc3",
   "metadata": {},
   "outputs": [
    {
     "data": {
      "text/plain": [
       "array([[1, 2, 3, 4, 5, 6],\n",
       "       [3, 1, 5, 7, 4, 9],\n",
       "       [1, 3, 1, 0, 4, 6],\n",
       "       [1, 1, 1, 1, 1, 1],\n",
       "       [1, 1, 1, 1, 1, 1],\n",
       "       [1, 1, 1, 1, 1, 1]])"
      ]
     },
     "execution_count": 30,
     "metadata": {},
     "output_type": "execute_result"
    }
   ],
   "source": [
    "np.vstack((a,b))"
   ]
  },
  {
   "cell_type": "code",
   "execution_count": 31,
   "id": "35c412fa",
   "metadata": {},
   "outputs": [
    {
     "data": {
      "text/plain": [
       "array([[1, 2, 3, 4, 5, 6, 1, 1, 1, 1, 1, 1],\n",
       "       [3, 1, 5, 7, 4, 9, 1, 1, 1, 1, 1, 1],\n",
       "       [1, 3, 1, 0, 4, 6, 1, 1, 1, 1, 1, 1]])"
      ]
     },
     "execution_count": 31,
     "metadata": {},
     "output_type": "execute_result"
    }
   ],
   "source": [
    "np.hstack((a,b))"
   ]
  },
  {
   "cell_type": "markdown",
   "id": "763c81f1",
   "metadata": {},
   "source": [
    "### Удаление данных из массива"
   ]
  },
  {
   "cell_type": "code",
   "execution_count": 32,
   "id": "f125a37d",
   "metadata": {},
   "outputs": [
    {
     "data": {
      "text/plain": [
       "(array([[ 4, 63, 54],\n",
       "        [90, 75, 26]]),\n",
       " (2, 3))"
      ]
     },
     "execution_count": 32,
     "metadata": {},
     "output_type": "execute_result"
    }
   ],
   "source": [
    "a = np.random.randint(1,100,size=(2,3))\n",
    "a, a.shape"
   ]
  },
  {
   "cell_type": "code",
   "execution_count": 33,
   "id": "e9cb5ed2",
   "metadata": {},
   "outputs": [
    {
     "data": {
      "text/plain": [
       "array([[ 4, 63],\n",
       "       [90, 75]])"
      ]
     },
     "execution_count": 33,
     "metadata": {},
     "output_type": "execute_result"
    }
   ],
   "source": [
    "a2 = a[:,:2]\n",
    "a2"
   ]
  },
  {
   "cell_type": "code",
   "execution_count": 34,
   "id": "c823a274",
   "metadata": {},
   "outputs": [
    {
     "data": {
      "text/plain": [
       "(array([[ 4, 63],\n",
       "        [90, 75]]),\n",
       " (2, 2))"
      ]
     },
     "execution_count": 34,
     "metadata": {},
     "output_type": "execute_result"
    }
   ],
   "source": [
    "del a\n",
    "a2,a2.shape"
   ]
  },
  {
   "cell_type": "code",
   "execution_count": 35,
   "id": "581f0591",
   "metadata": {},
   "outputs": [
    {
     "data": {
      "text/plain": [
       "(array([[13, 18, 50],\n",
       "        [91,  3, 26]]),\n",
       " (2, 3))"
      ]
     },
     "execution_count": 35,
     "metadata": {},
     "output_type": "execute_result"
    }
   ],
   "source": [
    "a = np.random.randint(1,100,size=(2,3))\n",
    "a, a.shape"
   ]
  },
  {
   "cell_type": "code",
   "execution_count": 36,
   "id": "25120ff2",
   "metadata": {},
   "outputs": [
    {
     "data": {
      "text/plain": [
       "((2, 2),\n",
       " array([[13, 50],\n",
       "        [91, 26]]))"
      ]
     },
     "execution_count": 36,
     "metadata": {},
     "output_type": "execute_result"
    }
   ],
   "source": [
    "np.delete(a,1,axis=1).shape, np.delete(a,1,axis=1)"
   ]
  },
  {
   "cell_type": "code",
   "execution_count": 37,
   "id": "f8dd8baa",
   "metadata": {},
   "outputs": [
    {
     "data": {
      "text/plain": [
       "((2, 2),\n",
       " array([[18, 50],\n",
       "        [ 3, 26]]))"
      ]
     },
     "execution_count": 37,
     "metadata": {},
     "output_type": "execute_result"
    }
   ],
   "source": [
    "np.delete(a,0,axis=1).shape, np.delete(a,0,axis=1)"
   ]
  },
  {
   "cell_type": "code",
   "execution_count": 38,
   "id": "05678597",
   "metadata": {},
   "outputs": [
    {
     "data": {
      "text/plain": [
       "((1, 3), array([[91,  3, 26]]))"
      ]
     },
     "execution_count": 38,
     "metadata": {},
     "output_type": "execute_result"
    }
   ],
   "source": [
    "np.delete(a,0,axis=0).shape, np.delete(a,0,axis=0)"
   ]
  },
  {
   "cell_type": "markdown",
   "id": "2f8c68d3",
   "metadata": {},
   "source": [
    "### Индексация"
   ]
  },
  {
   "cell_type": "code",
   "execution_count": 39,
   "id": "884a92ed",
   "metadata": {},
   "outputs": [],
   "source": [
    "m = np.array([\n",
    "    [20, 1, 3],\n",
    "    [46, 6, 7],\n",
    "    [101, -1, 36],\n",
    "    [32, 71, 5]\n",
    "    ])"
   ]
  },
  {
   "cell_type": "code",
   "execution_count": 40,
   "id": "9e54b379",
   "metadata": {},
   "outputs": [
    {
     "name": "stdout",
     "output_type": "stream",
     "text": [
      "3\n",
      "7\n",
      "101\n"
     ]
    }
   ],
   "source": [
    "print(m[0, 2])\n",
    "print(m[1, 2])\n",
    "print(m[2, 0])"
   ]
  },
  {
   "cell_type": "markdown",
   "id": "03cf16b7",
   "metadata": {},
   "source": [
    "Чтобы вывести целую строку, второй параметр нужно заменить на :.   \n",
    "Чтобы вывести целый столбец, первый параметр нужно заменить на :.  \n",
    "В данном случае это означает «взять все значения»."
   ]
  },
  {
   "cell_type": "code",
   "execution_count": 41,
   "id": "cde10153",
   "metadata": {},
   "outputs": [
    {
     "data": {
      "text/plain": [
       "array([ 1,  6, -1, 71])"
      ]
     },
     "execution_count": 41,
     "metadata": {},
     "output_type": "execute_result"
    }
   ],
   "source": [
    "m[:,1]"
   ]
  },
  {
   "cell_type": "markdown",
   "id": "f6ba3ffe",
   "metadata": {},
   "source": [
    "### Арифметические операции"
   ]
  },
  {
   "cell_type": "code",
   "execution_count": 42,
   "id": "08164109",
   "metadata": {},
   "outputs": [
    {
     "name": "stdout",
     "output_type": "stream",
     "text": [
      "a= [[13 18 50]\n",
      " [91  3 26]]\n",
      "b= [[14 97 93]\n",
      " [44 67 70]]\n"
     ]
    }
   ],
   "source": [
    "print('a=',a)\n",
    "b = np.random.randint(1,100,size=(2,3))\n",
    "print('b=', b)"
   ]
  },
  {
   "cell_type": "code",
   "execution_count": 43,
   "id": "cff800ca",
   "metadata": {},
   "outputs": [
    {
     "data": {
      "text/plain": [
       "array([[ 27, 115, 143],\n",
       "       [135,  70,  96]])"
      ]
     },
     "execution_count": 43,
     "metadata": {},
     "output_type": "execute_result"
    }
   ],
   "source": [
    "a + b"
   ]
  },
  {
   "cell_type": "code",
   "execution_count": 44,
   "id": "10f54c2b",
   "metadata": {},
   "outputs": [
    {
     "data": {
      "text/plain": [
       "array([[ 182, 1746, 4650],\n",
       "       [4004,  201, 1820]])"
      ]
     },
     "execution_count": 44,
     "metadata": {},
     "output_type": "execute_result"
    }
   ],
   "source": [
    "a * b"
   ]
  },
  {
   "cell_type": "code",
   "execution_count": 45,
   "id": "2723d19f",
   "metadata": {},
   "outputs": [
    {
     "data": {
      "text/plain": [
       "array([[ -1, -79, -43],\n",
       "       [ 47, -64, -44]])"
      ]
     },
     "execution_count": 45,
     "metadata": {},
     "output_type": "execute_result"
    }
   ],
   "source": [
    "a - b"
   ]
  },
  {
   "cell_type": "markdown",
   "id": "1bf6a4af",
   "metadata": {},
   "source": [
    "### Умножение матриц\n",
    "\n",
    "матричное умножения между двумя a и b.  \n",
    "\n",
    "должны быть совместимыми по форме, то есть  \n",
    "\n",
    "Если a имеет форму (m, n), а b имеет форму (n, p), то результат будет массивом формы (m, p).  "
   ]
  },
  {
   "cell_type": "code",
   "execution_count": 46,
   "id": "6de1dad0",
   "metadata": {},
   "outputs": [],
   "source": [
    "a = np.array([[1, 2, 3],\n",
    "              [4, 5, 6]])\n",
    "\n",
    "b = np.array([[1, 2],\n",
    "              [3, 4],\n",
    "              [5, 6]])"
   ]
  },
  {
   "cell_type": "code",
   "execution_count": 47,
   "id": "7835faa0",
   "metadata": {},
   "outputs": [
    {
     "data": {
      "text/plain": [
       "array([[22, 28],\n",
       "       [49, 64]])"
      ]
     },
     "execution_count": 47,
     "metadata": {},
     "output_type": "execute_result"
    }
   ],
   "source": [
    "# оператор матричного умножения,  Работает с объектами поддерживающими матричное умножение (например numpy )\n",
    "a @ b"
   ]
  },
  {
   "cell_type": "code",
   "execution_count": 48,
   "id": "b583dc40",
   "metadata": {},
   "outputs": [
    {
     "data": {
      "text/plain": [
       "array([[22, 28],\n",
       "       [49, 64]])"
      ]
     },
     "execution_count": 48,
     "metadata": {},
     "output_type": "execute_result"
    }
   ],
   "source": [
    "# a.dot(b) — это метод объекта a, работает только с numpy массивами\n",
    "a.dot(b)"
   ]
  },
  {
   "cell_type": "code",
   "execution_count": 49,
   "id": "4f35492d",
   "metadata": {},
   "outputs": [
    {
     "data": {
      "text/plain": [
       "array([[22, 28],\n",
       "       [49, 64]])"
      ]
     },
     "execution_count": 49,
     "metadata": {},
     "output_type": "execute_result"
    }
   ],
   "source": [
    "# np.dot(a, b) — функция из модуля NumPy (работает с любыми объектами которые можно преобразовать в numpy массивы)\n",
    "np.dot(a,b)"
   ]
  },
  {
   "cell_type": "markdown",
   "id": "5e09c268",
   "metadata": {},
   "source": [
    "### Ранг матрицы \n",
    "\n",
    "Ранг матрицы - это максимальное количество линейно независимых строк (или столбцов) в матрице."
   ]
  },
  {
   "cell_type": "code",
   "execution_count": 50,
   "id": "a5b441f6",
   "metadata": {},
   "outputs": [
    {
     "data": {
      "text/plain": [
       "array([[6, 5, 2],\n",
       "       [2, 9, 3],\n",
       "       [9, 2, 1]])"
      ]
     },
     "execution_count": 50,
     "metadata": {},
     "output_type": "execute_result"
    }
   ],
   "source": [
    "a = np.random.randint(1,10,size=(3,3))\n",
    "a"
   ]
  },
  {
   "cell_type": "code",
   "execution_count": 51,
   "id": "8a862a21",
   "metadata": {},
   "outputs": [
    {
     "data": {
      "text/plain": [
       "np.int64(3)"
      ]
     },
     "execution_count": 51,
     "metadata": {},
     "output_type": "execute_result"
    }
   ],
   "source": [
    "np.linalg.matrix_rank(a)"
   ]
  },
  {
   "cell_type": "markdown",
   "id": "75a59fe4",
   "metadata": {},
   "source": [
    "### Транспонирование"
   ]
  },
  {
   "cell_type": "code",
   "execution_count": 52,
   "id": "016f594b",
   "metadata": {},
   "outputs": [
    {
     "data": {
      "text/plain": [
       "array([[2, 6, 6, 4, 6],\n",
       "       [9, 1, 2, 1, 8]])"
      ]
     },
     "execution_count": 52,
     "metadata": {},
     "output_type": "execute_result"
    }
   ],
   "source": [
    "a = np.random.randint(1,10,size=(2,5))\n",
    "a"
   ]
  },
  {
   "cell_type": "code",
   "execution_count": 53,
   "id": "8d8cf690",
   "metadata": {},
   "outputs": [
    {
     "data": {
      "text/plain": [
       "array([[2, 9],\n",
       "       [6, 1],\n",
       "       [6, 2],\n",
       "       [4, 1],\n",
       "       [6, 8]])"
      ]
     },
     "execution_count": 53,
     "metadata": {},
     "output_type": "execute_result"
    }
   ],
   "source": [
    "\n",
    "a.T"
   ]
  },
  {
   "cell_type": "code",
   "execution_count": 54,
   "id": "fa874e77",
   "metadata": {},
   "outputs": [
    {
     "data": {
      "text/plain": [
       "array([[2, 9],\n",
       "       [6, 1],\n",
       "       [6, 2],\n",
       "       [4, 1],\n",
       "       [6, 8]])"
      ]
     },
     "execution_count": 54,
     "metadata": {},
     "output_type": "execute_result"
    }
   ],
   "source": [
    "np.transpose(a)"
   ]
  },
  {
   "cell_type": "markdown",
   "id": "cd021913",
   "metadata": {},
   "source": [
    "### Обратная матрица  \n",
    "Обратная матрица — это такая квадратная матрица , которая при умножении на исходную матрицу даёт единичную матрицу E:"
   ]
  },
  {
   "cell_type": "code",
   "execution_count": 55,
   "id": "65733de2",
   "metadata": {},
   "outputs": [
    {
     "data": {
      "text/plain": [
       "array([[2, 4, 6],\n",
       "       [5, 9, 7],\n",
       "       [9, 2, 8]])"
      ]
     },
     "execution_count": 55,
     "metadata": {},
     "output_type": "execute_result"
    }
   ],
   "source": [
    "a = np.random.randint(1,10,size=(3,3))\n",
    "a"
   ]
  },
  {
   "cell_type": "code",
   "execution_count": 56,
   "id": "4a5a184e",
   "metadata": {},
   "outputs": [
    {
     "data": {
      "text/plain": [
       "array([[-0.26605505,  0.09174312,  0.11926606],\n",
       "       [-0.10550459,  0.17431193, -0.0733945 ],\n",
       "       [ 0.32568807, -0.14678899,  0.00917431]])"
      ]
     },
     "execution_count": 56,
     "metadata": {},
     "output_type": "execute_result"
    }
   ],
   "source": [
    "# вычисляем обратную матрицу\n",
    "a_inv = np.linalg.inv(a)\n",
    "a_inv"
   ]
  },
  {
   "cell_type": "code",
   "execution_count": null,
   "id": "f48a44cd",
   "metadata": {},
   "outputs": [],
   "source": []
  },
  {
   "cell_type": "markdown",
   "id": "97cd252a",
   "metadata": {},
   "source": [
    "## Матрицы Pytorch (Тензоры)\n",
    "\n",
    "`Тензор (tensor)` - это математический и абстрактный объект, который обобщает понятия скаляра, вектора и матрицы.   \n",
    "\n",
    "**Основные характеристики тензоров:**  \n",
    "\n",
    "- `Ранг:` Ранг тензора определяет, сколько индексов ему требуется для полной спецификации. Скаляр (тензор нулевого ранга) не требует индексов, вектор (тензор первого   ранга) требует один индекс, матрица (тензор второго ранга) - два индекса, и так далее.  \n",
    "  \n",
    "- `Размерности:` Тензоры имеют размерности, которые определяют, сколько элементов содержится вдоль каждой из их осей.  \n",
    "\n",
    "- `Компоненты:` Элементы тензора называются его компонентами. Компоненты тензора могут быть числами, функциями или другими объектами в зависимости от контекста.  \n"
   ]
  },
  {
   "cell_type": "code",
   "execution_count": 57,
   "id": "585c1056",
   "metadata": {},
   "outputs": [
    {
     "name": "stdout",
     "output_type": "stream",
     "text": [
      "tensor([[[1., 1.],\n",
      "         [1., 1.]],\n",
      "\n",
      "        [[1., 1.],\n",
      "         [1., 1.]]])\n",
      "[[[1. 1.]\n",
      "  [1. 1.]]\n",
      "\n",
      " [[1. 1.]\n",
      "  [1. 1.]]]\n",
      "Объем памяти, занимаемый массивом: 64 байт\n",
      "Объем памяти, занимаемый тензором: 32 байт\n"
     ]
    }
   ],
   "source": [
    "import torch\n",
    "\n",
    "# создаем тензор ранга 3 размером 2x2x2 со случайными значениями\n",
    "tensor_torch = torch.ones(2, 2, 2)\n",
    "\n",
    "# Выводим созданный тензор\n",
    "print(tensor_torch)\n",
    "\n",
    "# Определяем объем памяти, занимаемый тензором в байтах\n",
    "memory_bytes_torch = tensor_torch.element_size() * tensor_torch.nelement()\n",
    "\n",
    "\n",
    "import numpy as np\n",
    "\n",
    "# Создаем тензор ранга 3 размером 2x2x2 со случайными значениями\n",
    "tensor_numpy = np.ones((2, 2, 2))\n",
    "\n",
    "# Выводим созданный тензор\n",
    "print(tensor_numpy)\n",
    "\n",
    "\n",
    "# Определяем объем памяти, занимаемый массивом в байтах\n",
    "memory_bytes_numpy = tensor_numpy.nbytes\n",
    "\n",
    "\n",
    "# Выводим объем памяти\n",
    "print(f\"Объем памяти, занимаемый массивом: {memory_bytes_numpy} байт\")\n",
    "\n",
    "print(f\"Объем памяти, занимаемый тензором: {memory_bytes_torch} байт\")"
   ]
  },
  {
   "cell_type": "markdown",
   "id": "94eb1ae5",
   "metadata": {},
   "source": [
    "###  Операции"
   ]
  },
  {
   "cell_type": "code",
   "execution_count": 58,
   "id": "08811833",
   "metadata": {},
   "outputs": [
    {
     "data": {
      "text/plain": [
       "tensor([[-1.4437,  1.5997],\n",
       "        [ 0.3603, -0.2474]])"
      ]
     },
     "execution_count": 58,
     "metadata": {},
     "output_type": "execute_result"
    }
   ],
   "source": [
    "a = torch.randn(2, 2)\n",
    "a"
   ]
  },
  {
   "cell_type": "code",
   "execution_count": 59,
   "id": "6a3841ed",
   "metadata": {},
   "outputs": [
    {
     "data": {
      "text/plain": [
       "tensor([-0.5417,  0.6762])"
      ]
     },
     "execution_count": 59,
     "metadata": {},
     "output_type": "execute_result"
    }
   ],
   "source": [
    "# Среднее по оси\n",
    "torch.mean(a, 0)"
   ]
  },
  {
   "cell_type": "code",
   "execution_count": 60,
   "id": "39b591eb",
   "metadata": {},
   "outputs": [
    {
     "data": {
      "text/plain": [
       "tensor(0.0672)"
      ]
     },
     "execution_count": 60,
     "metadata": {},
     "output_type": "execute_result"
    }
   ],
   "source": [
    "# Среднее по тензору\n",
    "torch.mean(a)"
   ]
  },
  {
   "cell_type": "code",
   "execution_count": 61,
   "id": "d14ab49a",
   "metadata": {},
   "outputs": [
    {
     "data": {
      "text/plain": [
       "tensor([[ 2.6608, -2.7053],\n",
       "        [-0.6093,  0.6376]])"
      ]
     },
     "execution_count": 61,
     "metadata": {},
     "output_type": "execute_result"
    }
   ],
   "source": [
    "# матричное умножение\n",
    "a @ a"
   ]
  },
  {
   "cell_type": "code",
   "execution_count": 62,
   "id": "0262d075",
   "metadata": {},
   "outputs": [
    {
     "data": {
      "text/plain": [
       "tensor([[ 9, 13],\n",
       "        [18, 28]])"
      ]
     },
     "execution_count": 62,
     "metadata": {},
     "output_type": "execute_result"
    }
   ],
   "source": [
    "x= torch.tensor([[2,3,4],[5,6,7]])\n",
    "y= torch.tensor([[1,3],[1,1], [1,1]])\n",
    "\n",
    "x @ y"
   ]
  },
  {
   "cell_type": "code",
   "execution_count": 64,
   "id": "fe7351ef",
   "metadata": {},
   "outputs": [
    {
     "name": "stdout",
     "output_type": "stream",
     "text": [
      "x= \n",
      " tensor([[2, 3],\n",
      "        [5, 6]])\n",
      "y= \n",
      " tensor([[1, 3],\n",
      "        [1, 1]])\n",
      "product = \n",
      " tensor([[2, 9],\n",
      "        [5, 6]])\n"
     ]
    }
   ],
   "source": [
    "# поэлементное умножение\n",
    "x= torch.tensor([[2,3],[5,6]])\n",
    "y= torch.tensor([[1,3],[1,1]])\n",
    "\n",
    "print('x= \\n', x)\n",
    "print('y= \\n', y)\n",
    "print('product = \\n', x * y)"
   ]
  },
  {
   "cell_type": "code",
   "execution_count": 44,
   "id": "0df07330",
   "metadata": {},
   "outputs": [
    {
     "data": {
      "text/plain": [
       "tensor([[2, 5],\n",
       "        [3, 6]])"
      ]
     },
     "execution_count": 44,
     "metadata": {},
     "output_type": "execute_result"
    }
   ],
   "source": [
    "# транспонирование\n",
    "x.transpose(1, 0)"
   ]
  },
  {
   "cell_type": "code",
   "execution_count": 45,
   "id": "04e7fa4e",
   "metadata": {},
   "outputs": [
    {
     "data": {
      "text/plain": [
       "tensor([[[0.8392, 0.8937],\n",
       "         [0.1047, 0.6420],\n",
       "         [0.1188, 0.5488]],\n",
       "\n",
       "        [[0.0640, 0.6889],\n",
       "         [0.0699, 0.3821],\n",
       "         [0.8785, 0.6589]]])"
      ]
     },
     "execution_count": 45,
     "metadata": {},
     "output_type": "execute_result"
    }
   ],
   "source": [
    "x = torch.rand(2, 3, 2)\n",
    "x"
   ]
  },
  {
   "cell_type": "code",
   "execution_count": 46,
   "id": "0a252332",
   "metadata": {},
   "outputs": [
    {
     "data": {
      "text/plain": [
       "tensor([[[0.8392, 0.8937],\n",
       "         [0.0640, 0.6889]],\n",
       "\n",
       "        [[0.1047, 0.6420],\n",
       "         [0.0699, 0.3821]],\n",
       "\n",
       "        [[0.1188, 0.5488],\n",
       "         [0.8785, 0.6589]]])"
      ]
     },
     "execution_count": 46,
     "metadata": {},
     "output_type": "execute_result"
    }
   ],
   "source": [
    "x.transpose(1, 0)"
   ]
  },
  {
   "cell_type": "code",
   "execution_count": 47,
   "id": "f3bfcf1c",
   "metadata": {},
   "outputs": [
    {
     "name": "stdout",
     "output_type": "stream",
     "text": [
      "CPU times: user 790 μs, sys: 60 μs, total: 850 μs\n",
      "Wall time: 798 μs\n"
     ]
    },
    {
     "data": {
      "text/plain": [
       "tensor([[[ 31,  34],\n",
       "         [ 71,  78]],\n",
       "\n",
       "        [[155, 166],\n",
       "         [211, 226]]])"
      ]
     },
     "execution_count": 47,
     "metadata": {},
     "output_type": "execute_result"
    }
   ],
   "source": [
    "%%time\n",
    "# Создаем батч матриц (трехмерные тензоры)\n",
    "batch_A = torch.tensor([[[1, 2], [3, 4]], [[5, 6], [7, 8]]])\n",
    "batch_B = torch.tensor([[[9, 10], [11, 12]], [[13, 14], [15, 16]]])\n",
    "\n",
    "# Выполняем пакетное матричное умножение\n",
    "result = torch.bmm(batch_A, batch_B)\n",
    "\n",
    "result"
   ]
  },
  {
   "cell_type": "code",
   "execution_count": 48,
   "id": "eab5b10a",
   "metadata": {},
   "outputs": [
    {
     "name": "stdout",
     "output_type": "stream",
     "text": [
      "CPU times: user 448 μs, sys: 32 μs, total: 480 μs\n",
      "Wall time: 587 μs\n"
     ]
    },
    {
     "data": {
      "text/plain": [
       "tensor([[[ 31,  34],\n",
       "         [ 71,  78]],\n",
       "\n",
       "        [[155, 166],\n",
       "         [211, 226]]])"
      ]
     },
     "execution_count": 48,
     "metadata": {},
     "output_type": "execute_result"
    }
   ],
   "source": [
    "%%time\n",
    "# Создаем батч матриц (трехмерные тензоры)\n",
    "batch_A = torch.tensor([[[1, 2], [3, 4]], [[5, 6], [7, 8]]])\n",
    "batch_B = torch.tensor([[[9, 10], [11, 12]], [[13, 14], [15, 16]]])\n",
    "\n",
    "# Выполняем пакетное матричное умножение\n",
    "result = torch.matmul(batch_A, batch_B)\n",
    "\n",
    "result"
   ]
  },
  {
   "cell_type": "code",
   "execution_count": null,
   "id": "e11985da",
   "metadata": {},
   "outputs": [],
   "source": []
  },
  {
   "cell_type": "markdown",
   "id": "bb323ddc",
   "metadata": {},
   "source": [
    "## Разреженные матрицы"
   ]
  },
  {
   "cell_type": "code",
   "execution_count": 1,
   "id": "9b00e1c9",
   "metadata": {},
   "outputs": [],
   "source": [
    "import numpy as np \n",
    "import sys\n",
    "from scipy.sparse import csr_matrix  "
   ]
  },
  {
   "cell_type": "markdown",
   "id": "7e8b6055",
   "metadata": {},
   "source": [
    "### Создание"
   ]
  },
  {
   "cell_type": "code",
   "execution_count": 2,
   "id": "b7ef3463",
   "metadata": {},
   "outputs": [
    {
     "name": "stdout",
     "output_type": "stream",
     "text": [
      "Матрица в плотном формате:\n",
      "[[0 0 0 1 0]\n",
      " [5 8 0 0 0]\n",
      " [0 0 3 0 6]\n",
      " [0 0 0 0 0]\n",
      " [0 4 0 7 0]]\n",
      "\n",
      "Компоненты CSR:\n",
      "data: [1 5 8 3 6 4 7]\n",
      "indices: [3 0 1 2 4 1 3]\n",
      "indptr: [0 1 3 5 5 7]\n"
     ]
    }
   ],
   "source": [
    "\n",
    "\n",
    "# Определяем ненулевые элементы и их координаты\n",
    "data = np.array([1, 5, 8, 3, 6, 4, 7])\n",
    "row_indices = np.array([0, 1, 1, 2, 2, 4, 4])\n",
    "col_indices = np.array([3, 0, 1, 2, 4, 1, 3])\n",
    "\n",
    "# Создаем CSR матрицу\n",
    "csr = csr_matrix((data, (row_indices, col_indices)), shape=(5, 5))\n",
    "\n",
    "# Печатаем матрицу в плотном виде для наглядности\n",
    "print(\"Матрица в плотном формате:\")\n",
    "print(csr.toarray())\n",
    "\n",
    "# Выводим компоненты CSR\n",
    "print(\"\\nКомпоненты CSR:\")\n",
    "print(\"data:\", csr.data)        # ненулевые элементы\n",
    "print(\"indices:\", csr.indices)  # индексы столбцов\n",
    "print(\"indptr:\", csr.indptr)    # указатели на начало строки"
   ]
  },
  {
   "cell_type": "markdown",
   "id": "7c7b1f41",
   "metadata": {},
   "source": [
    "### умножение матрицы на вектор"
   ]
  },
  {
   "cell_type": "code",
   "execution_count": 3,
   "id": "4f374310",
   "metadata": {},
   "outputs": [
    {
     "name": "stdout",
     "output_type": "stream",
     "text": [
      "Разряженная матрица:\n",
      "<Compressed Sparse Row sparse matrix of dtype 'int64'\n",
      "\twith 4 stored elements and shape (4, 5)>\n",
      "  Coords\tValues\n",
      "  (0, 0)\t1\n",
      "  (1, 2)\t2\n",
      "  (2, 3)\t3\n",
      "  (3, 1)\t4\n",
      "\n",
      "Плотная матрица:\n",
      "[[1 0 0 0 0]\n",
      " [0 0 2 0 0]\n",
      " [0 0 0 3 0]\n",
      " [0 4 0 0 0]]\n",
      "\n",
      "Результат умножения разряженной матрицы на вектор:\n",
      "[[ 1]\n",
      " [ 6]\n",
      " [12]\n",
      " [ 8]]\n"
     ]
    }
   ],
   "source": [
    "import numpy as np\n",
    "from scipy.sparse import csr_matrix\n",
    "\n",
    "# Определяем ненулевые элементы и их координаты - Создаем разряженную матрицу 4x5\n",
    "data = np.array([1, 2, 3, 4])\n",
    "row_indices = np.array([0, 1, 2, 3])\n",
    "col_indices = np.array([0, 2, 3, 1])\n",
    "\n",
    "# Создаем разряженную матрицу в формате CSR\n",
    "sparse_matrix = csr_matrix((data, (row_indices, col_indices)), shape=(4, 5))\n",
    "\n",
    "# Выводим разряженную матрицу\n",
    "print(\"Разряженная матрица:\")\n",
    "print(sparse_matrix)\n",
    "\n",
    "# Конвертируем в плотную матрицу для наглядности\n",
    "dense_matrix = sparse_matrix.toarray()\n",
    "print(\"\\nПлотная матрица:\")\n",
    "print(dense_matrix)\n",
    "\n",
    "# Пример умножения разряженной матрицы на плотную матрицу\n",
    "dense_vector = np.array([[1], [2], [3], [4], [5]])\n",
    "result = sparse_matrix.dot(dense_vector)\n",
    "\n",
    "print(\"\\nРезультат умножения разряженной матрицы на вектор:\")\n",
    "print(result)\n"
   ]
  },
  {
   "cell_type": "code",
   "execution_count": 4,
   "id": "e446bf0f",
   "metadata": {},
   "outputs": [
    {
     "name": "stdout",
     "output_type": "stream",
     "text": [
      "Разряженная матрица (формат CSR):\n",
      "<Compressed Sparse Row sparse matrix of dtype 'int64'\n",
      "\twith 9 stored elements and shape (3, 5)>\n",
      "  Coords\tValues\n",
      "  (0, 4)\t1\n",
      "  (0, 2)\t1\n",
      "  (0, 1)\t1\n",
      "  (1, 4)\t1\n",
      "  (1, 1)\t1\n",
      "  (1, 0)\t1\n",
      "  (2, 4)\t1\n",
      "  (2, 1)\t1\n",
      "  (2, 3)\t1\n",
      "\n",
      "Плотная матрица:\n",
      "[[0 1 1 0 1]\n",
      " [1 1 0 0 1]\n",
      " [0 1 0 1 1]]\n",
      "\n",
      "Признаки:\n",
      "['второй' 'документ' 'первый' 'третий' 'это']\n"
     ]
    }
   ],
   "source": [
    "from sklearn.feature_extraction.text import CountVectorizer\n",
    "\n",
    "# Пример документов\n",
    "documents = [\n",
    "    \"Это первый документ.\",\n",
    "    \"Это второй документ.\",\n",
    "    \"И это третий документ.\"\n",
    "]\n",
    "\n",
    "# Создание разряженной матрицы с помощью CountVectorizer\n",
    "vectorizer = CountVectorizer()\n",
    "sparse_matrix = vectorizer.fit_transform(documents)\n",
    "\n",
    "# Выводим разряженную матрицу\n",
    "print(\"Разряженная матрица (формат CSR):\")\n",
    "print(sparse_matrix)\n",
    "\n",
    "# Конвертируем в плотную матрицу для наглядности\n",
    "dense_matrix = sparse_matrix.toarray()\n",
    "print(\"\\nПлотная матрица:\")\n",
    "print(dense_matrix)\n",
    "\n",
    "# Показываем имена признаков\n",
    "print(\"\\nПризнаки:\")\n",
    "print(vectorizer.get_feature_names_out())"
   ]
  },
  {
   "cell_type": "code",
   "execution_count": null,
   "id": "d03d89c4",
   "metadata": {},
   "outputs": [],
   "source": []
  },
  {
   "cell_type": "code",
   "execution_count": null,
   "id": "3a1932da",
   "metadata": {},
   "outputs": [],
   "source": []
  },
  {
   "cell_type": "code",
   "execution_count": null,
   "id": "d9e05e0f",
   "metadata": {},
   "outputs": [],
   "source": []
  },
  {
   "cell_type": "code",
   "execution_count": null,
   "id": "ca64fd84",
   "metadata": {},
   "outputs": [],
   "source": []
  },
  {
   "cell_type": "code",
   "execution_count": null,
   "id": "671911a2",
   "metadata": {},
   "outputs": [],
   "source": []
  },
  {
   "cell_type": "code",
   "execution_count": null,
   "id": "ea06fa36",
   "metadata": {},
   "outputs": [],
   "source": []
  },
  {
   "cell_type": "code",
   "execution_count": null,
   "id": "fbb56543",
   "metadata": {},
   "outputs": [],
   "source": []
  }
 ],
 "metadata": {
  "kernelspec": {
   "display_name": "env1",
   "language": "python",
   "name": "python3"
  },
  "language_info": {
   "codemirror_mode": {
    "name": "ipython",
    "version": 3
   },
   "file_extension": ".py",
   "mimetype": "text/x-python",
   "name": "python",
   "nbconvert_exporter": "python",
   "pygments_lexer": "ipython3",
   "version": "3.12.3"
  }
 },
 "nbformat": 4,
 "nbformat_minor": 5
}
