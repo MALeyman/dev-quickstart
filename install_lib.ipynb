{
 "cells": [
  {
   "cell_type": "markdown",
   "id": "51a2711a",
   "metadata": {},
   "source": [
    "# Установка библиотек "
   ]
  },
  {
   "cell_type": "markdown",
   "id": "bc1eaa88",
   "metadata": {},
   "source": [
    "```bash\n",
    "\n",
    "# установка  \n",
    "python -m ipykernel install --user --name=condavenv --display-name \"Python (condavenv)\"\n",
    "\n",
    "# установка Gradio\n",
    "conda install -c conda-forge gradio  \n",
    "pip install gradio\n",
    "# установка tqdm\n",
    "conda install tqdm\n",
    "pip install tqdm\n",
    "\n",
    "\n",
    "conda install -c conda-forge matplotlib\n",
    "\n",
    "\n",
    "pip3 install torch torchvision torchaudio\n",
    "conda install pandas \n",
    "\n",
    "pip install opencv-python\n",
    "\n",
    "\n",
    "# ONNX\n",
    "pip install onnxruntime-gpu\n",
    "pip install onnx\n",
    "\n",
    " # установка albumentations\n",
    "conda install -c conda-forge imgaug\n",
    "conda install -c conda-forge albumentations\n",
    "# или\n",
    "pip install albumentations\n",
    "\n",
    "```"
   ]
  },
  {
   "cell_type": "code",
   "execution_count": 5,
   "id": "39ea6d9c",
   "metadata": {},
   "outputs": [
    {
     "name": "stdout",
     "output_type": "stream",
     "text": [
      "gradio 5.35.0\n"
     ]
    },
    {
     "name": "stderr",
     "output_type": "stream",
     "text": [
      "100%|██████████| 10/10 [00:00<00:00, 176974.85it/s]"
     ]
    },
    {
     "name": "stdout",
     "output_type": "stream",
     "text": [
      "onnxruntime GPU\n",
      "Версия cv2 4.12.0\n",
      "Версия PIL Image 11.3.0\n",
      "Версия matplotlib 3.10.3\n",
      "Версия pandas 2.3.1\n",
      "Версия torch 2.7.1+cu126\n",
      "Версия requests 2.32.4\n",
      "Версия albumentations 2.0.8\n"
     ]
    },
    {
     "name": "stderr",
     "output_type": "stream",
     "text": [
      "\n"
     ]
    }
   ],
   "source": [
    "# Проверки\n",
    "import gradio as gr\n",
    "print(\"gradio\", gr.__version__)\n",
    "\n",
    "from tqdm import tqdm\n",
    "for i in tqdm(range(10)):\n",
    "    pass\n",
    "\n",
    "import onnxruntime as ort\n",
    "print(\"onnxruntime\", ort.get_device())  # Должно вывести 'GPU'\n",
    "\n",
    "\n",
    "import cv2\n",
    "print(\"Версия cv2\", cv2.__version__)\n",
    "\n",
    "\n",
    "from PIL import Image\n",
    "print(\"Версия PIL Image\", Image.__version__)\n",
    "\n",
    "import matplotlib\n",
    "print(\"Версия matplotlib\", matplotlib.__version__)\n",
    "\n",
    "import pandas as pd\n",
    "print(\"Версия pandas\", pd.__version__)\n",
    "\n",
    "import torch\n",
    "print(\"Версия torch\", torch.__version__)\n",
    "\n",
    "import requests\n",
    "print(\"Версия requests\", requests.__version__)\n",
    "\n",
    "import albumentations as A\n",
    "print(\"Версия albumentations\", A.__version__)\n",
    "\n",
    "\n"
   ]
  },
  {
   "cell_type": "code",
   "execution_count": null,
   "id": "9c223af4",
   "metadata": {},
   "outputs": [],
   "source": []
  },
  {
   "cell_type": "code",
   "execution_count": null,
   "id": "96c23625",
   "metadata": {},
   "outputs": [],
   "source": []
  }
 ],
 "metadata": {
  "kernelspec": {
   "display_name": "env1",
   "language": "python",
   "name": "python3"
  },
  "language_info": {
   "codemirror_mode": {
    "name": "ipython",
    "version": 3
   },
   "file_extension": ".py",
   "mimetype": "text/x-python",
   "name": "python",
   "nbconvert_exporter": "python",
   "pygments_lexer": "ipython3",
   "version": "3.12.3"
  }
 },
 "nbformat": 4,
 "nbformat_minor": 5
}
