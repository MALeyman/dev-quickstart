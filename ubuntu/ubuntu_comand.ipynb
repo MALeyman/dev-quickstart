{
 "cells": [
  {
   "cell_type": "markdown",
   "id": "38ca3e73",
   "metadata": {},
   "source": [
    "# Команды Ubuntu"
   ]
  },
  {
   "cell_type": "markdown",
   "id": "2220ad3b",
   "metadata": {},
   "source": [
    " ## Работа с файлами\n",
    "\n",
    "```bash\n",
    "\n",
    "# Создание папки и добавление прав\n",
    "sudo mkdir /myfolder                # Создаём папку\n",
    "sudo chown $USER:$USER /myfolder    # Делаем владельцем текущего пользователя\n",
    "sudo chmod 755 /myfolder            # Даём права на чтение и выполнение всем\n",
    "\n",
    "```\n",
    "\n"
   ]
  },
  {
   "cell_type": "markdown",
   "id": "687c8c76",
   "metadata": {},
   "source": [
    "## Процессы\n",
    "\n",
    "```bash\n",
    "\n",
    "# Зависший процесс\n",
    "№ Откройте терминал (Ctrl + Alt + T), введите , \n",
    "xkill\n",
    "# нажмите Enter. Курсор превратится в крестик — кликните по зависшему окну.\n",
    "# Если пишет \"команда не найдена\", установите через \n",
    "\n",
    "sudo apt install x11-utils.\n",
    "\n",
    "```"
   ]
  },
  {
   "cell_type": "markdown",
   "id": "16099c55",
   "metadata": {},
   "source": [
    "## Обновление \n",
    "\n",
    "```bash\n",
    "\n",
    "lsb_release -rs         # Версия системы\n",
    "\n",
    "# Обновление системы\n",
    "maksim@maksim:~$ sudo apt update\n",
    "sudo apt upgrade -y\n",
    "sudo apt install -y gcc build-essential\n",
    "\n",
    "# Видеокарта:\n",
    "\n",
    "sudo lspci -vnn | grep -i VGA -A 12     # информация о видеокарте\n",
    "sudo apt search nvidia-driver           # Поиск драйверов видеокарты\n",
    "sudo apt install nvidia-driver-575      # установка драйвера\n",
    "\n",
    "# установка Cuda\n",
    "sudo apt install -y cuda-toolkit-12-6\n",
    "sudo apt install -y cuda-drivers\n",
    "\n",
    "```"
   ]
  },
  {
   "cell_type": "markdown",
   "id": "4258424a",
   "metadata": {},
   "source": [
    "## Кеш \n",
    "\n",
    "```bash\n",
    "\n",
    "# 1. Очистка кэша APT (пакетов)\n",
    "sudo apt clean     \n",
    "sudo apt autoclean  \n",
    "\n",
    "# 2. Очистка кэша временных файлов\n",
    "sudo rm -rf /var/tmp/*\n",
    "rm -rf ~/.cache/*\n",
    "\n",
    "sudo journalctl --vacuum-time=1d        # Удаление логов старше 1 дней\n",
    "sudo journalctl --vacuum-size=1M        # Удаление логов, если они превышают 1МБ\n",
    "\n",
    "# =============================================\n",
    "# автоматизировать процесс,  создать скрипт: \n",
    "\n",
    "#!/bin/bash\n",
    "sudo apt-get clean\n",
    "sudo apt-get autoclean\n",
    "rm -rf ~/.cache/thumbnails/*\n",
    "sudo journalctl --vacuum-time=7d\n",
    "sudo rm -rf /var/log/*.gz /var/log/*.[0-9] /var/log/*.old\n",
    "echo \"Очистка завершена!\"\n",
    "\n",
    "# Сохранить в файл clean_system.sh, сделать его исполняемым:\n",
    "chmod +x clean_system.sh\n",
    "\n",
    "# И запускать командой:\n",
    "./clean_system.sh\n",
    "\n",
    "\n",
    "#==============================================\n",
    "\n",
    "\n",
    "\n",
    "\n",
    "\n",
    "```\n"
   ]
  },
  {
   "cell_type": "markdown",
   "id": "f05b8157",
   "metadata": {},
   "source": []
  },
  {
   "cell_type": "markdown",
   "id": "9992f879",
   "metadata": {},
   "source": []
  },
  {
   "cell_type": "markdown",
   "id": "11daec27",
   "metadata": {},
   "source": []
  },
  {
   "cell_type": "markdown",
   "id": "de3ef350",
   "metadata": {},
   "source": []
  }
 ],
 "metadata": {
  "language_info": {
   "name": "python"
  }
 },
 "nbformat": 4,
 "nbformat_minor": 5
}
