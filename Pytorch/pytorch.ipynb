{
 "cells": [
  {
   "cell_type": "markdown",
   "id": "d3a0fbe4",
   "metadata": {},
   "source": [
    "# Pytorch  \n",
    "\n",
    "#### Работа с Pytorch  \n",
    "\n",
    "`Тензор (tensor)` - это математический и абстрактный объект, который обобщает понятия скаляра, вектора и матрицы.  \n",
    "\n",
    "**Основные характеристики тензоров:**  \n",
    "\n",
    "- `Ранг:` Ранг тензора определяет, сколько индексов ему требуется для полной спецификации. Скаляр (тензор нулевого ранга) не требует индексов, вектор (тензор первого   ранга) требует один индекс, матрица (тензор второго ранга) - два индекса, и так далее.  \n",
    "\n",
    "- `Размерности:` Тензоры имеют размерности, которые определяют, сколько элементов содержится вдоль каждой из их осей.  \n",
    "\n",
    "- `Компоненты:` Элементы тензора называются его компонентами. Компоненты тензора могут быть числами, функциями или другими объектами в зависимости от контекста.  "
   ]
  },
  {
   "cell_type": "markdown",
   "id": "aa19c1b7",
   "metadata": {},
   "source": [
    "## Установка  \n",
    "\n",
    "https://pytorch.org/ \n",
    "\n",
    "```sh\n",
    "pip3 install torch torchvision torchaudio\n",
    "```"
   ]
  },
  {
   "cell_type": "markdown",
   "id": "7d7797da",
   "metadata": {},
   "source": [
    "## Проверка версии  \n"
   ]
  },
  {
   "cell_type": "code",
   "execution_count": 1,
   "id": "05c77925",
   "metadata": {},
   "outputs": [
    {
     "name": "stdout",
     "output_type": "stream",
     "text": [
      "Name: torch\n",
      "Version: 2.7.1\n",
      "Summary: Tensors and Dynamic neural networks in Python with strong GPU acceleration\n",
      "Home-page: https://pytorch.org/\n",
      "Author: PyTorch Team\n",
      "Author-email: packages@pytorch.org\n",
      "License: BSD-3-Clause\n",
      "Location: /home/maksim/develops/python/env1/lib/python3.12/site-packages\n",
      "Requires: filelock, fsspec, jinja2, networkx, nvidia-cublas-cu12, nvidia-cuda-cupti-cu12, nvidia-cuda-nvrtc-cu12, nvidia-cuda-runtime-cu12, nvidia-cudnn-cu12, nvidia-cufft-cu12, nvidia-cufile-cu12, nvidia-curand-cu12, nvidia-cusolver-cu12, nvidia-cusparse-cu12, nvidia-cusparselt-cu12, nvidia-nccl-cu12, nvidia-nvjitlink-cu12, nvidia-nvtx-cu12, setuptools, sympy, triton, typing-extensions\n",
      "Required-by: segmentation_models_pytorch, timm, torchaudio, torchvision, ultralytics, ultralytics-thop\n"
     ]
    }
   ],
   "source": [
    "# через команду pip\n",
    "!pip show torch"
   ]
  },
  {
   "cell_type": "code",
   "execution_count": 2,
   "id": "545c5e13",
   "metadata": {},
   "outputs": [],
   "source": [
    "# Через conda\n",
    "!conda list | grep torch"
   ]
  },
  {
   "cell_type": "code",
   "execution_count": 3,
   "id": "35f20289",
   "metadata": {},
   "outputs": [
    {
     "name": "stdout",
     "output_type": "stream",
     "text": [
      "2.7.1+cu126\n"
     ]
    }
   ],
   "source": [
    "# Через python код\n",
    "import torch\n",
    "print(torch.__version__)\n"
   ]
  },
  {
   "cell_type": "markdown",
   "id": "70749e7f",
   "metadata": {},
   "source": [
    "## Информация о cuda используемой PyTorch"
   ]
  },
  {
   "cell_type": "code",
   "execution_count": 4,
   "id": "c253d74c",
   "metadata": {},
   "outputs": [
    {
     "name": "stdout",
     "output_type": "stream",
     "text": [
      "12.6\n",
      "True\n",
      "0\n",
      "NVIDIA GeForce RTX 3060\n"
     ]
    }
   ],
   "source": [
    "import torch\n",
    "print(torch.version.cuda)          # версия CUDA, с которой собран PyTorch\n",
    "print(torch.cuda.is_available())   # доступна ли CUDA на вашем устройстве (True/False)\n",
    "print(torch.cuda.current_device()) # номер текущего CUDA-устройства\n",
    "print(torch.cuda.get_device_name(0)) # имя первого CUDA-устройства\n",
    "\n"
   ]
  },
  {
   "cell_type": "code",
   "execution_count": null,
   "id": "939cf0da",
   "metadata": {},
   "outputs": [],
   "source": []
  },
  {
   "cell_type": "markdown",
   "id": "b34b044d",
   "metadata": {},
   "source": [
    "## работа с Pytorch"
   ]
  },
  {
   "cell_type": "code",
   "execution_count": 5,
   "id": "9df9acec",
   "metadata": {},
   "outputs": [
    {
     "name": "stdout",
     "output_type": "stream",
     "text": [
      "tensor([1., 2., 3.])\n"
     ]
    }
   ],
   "source": [
    "# создание тензора\n",
    "import torch\n",
    "x = torch.tensor([1.0, 2.0, 3.0])\n",
    "print(x)\n"
   ]
  },
  {
   "cell_type": "code",
   "execution_count": 6,
   "id": "dfe6c6a0",
   "metadata": {},
   "outputs": [
    {
     "name": "stdout",
     "output_type": "stream",
     "text": [
      "Tensor is on device: cuda:0\n"
     ]
    }
   ],
   "source": [
    "# для работы с GPU\n",
    "if torch.cuda.is_available():\n",
    "    device = torch.device(\"cuda\")\n",
    "    x = x.to(device)\n",
    "    print(f\"Tensor is on device: {x.device}\")\n",
    "else:\n",
    "    print(\"CUDA is not available.\")\n"
   ]
  },
  {
   "cell_type": "markdown",
   "id": "2ddcb66e",
   "metadata": {},
   "source": [
    "### Создание тензоров"
   ]
  },
  {
   "cell_type": "code",
   "execution_count": 7,
   "id": "5d69ff22",
   "metadata": {},
   "outputs": [
    {
     "name": "stdout",
     "output_type": "stream",
     "text": [
      "Тензор из NumPy массива:\n",
      "tensor([1, 2, 3])\n",
      "tensor([[1, 2],\n",
      "        [3, 4]])\n",
      "tensor([[0., 0., 0., 0.],\n",
      "        [0., 0., 0., 0.],\n",
      "        [0., 0., 0., 0.]])\n",
      "tensor([[1., 1., 1.],\n",
      "        [1., 1., 1.]])\n",
      "tensor([0.0000, 0.2500, 0.5000, 0.7500, 1.0000])\n",
      "tensor([0, 2, 4, 6, 8])\n",
      "\n",
      "Тензор со случайными числами (равномерное распределение):\n",
      "tensor([[0.6790, 0.8887],\n",
      "        [0.8453, 0.2497]])\n",
      "\n",
      "Тензор со случайными числами (нормальное распределение):\n",
      "tensor([[-0.6695,  0.0303],\n",
      "        [-1.1026, -0.8060]])\n",
      "\n",
      "Тензор со случайными целыми числами:\n",
      "tensor([[9, 6, 2],\n",
      "        [7, 4, 0]])\n",
      "\n",
      "Тензор из нулей, как reference тензор:\n",
      "tensor([[0, 0],\n",
      "        [0, 0]])\n",
      "\n",
      "Единичная матрица:\n",
      "tensor([[1., 0., 0.],\n",
      "        [0., 1., 0.],\n",
      "        [0., 0., 1.]])\n",
      "\n",
      "Тензор, заполненный одним значением:\n",
      "tensor([[7., 7., 7.],\n",
      "        [7., 7., 7.]])\n"
     ]
    }
   ],
   "source": [
    "import torch\n",
    "import numpy as np\n",
    "\n",
    "# из numpy\n",
    "numpy_array = np.array([1, 2, 3])\n",
    "tensor_from_numpy = torch.from_numpy(numpy_array)\n",
    "print(\"Тензор из NumPy массива:\")\n",
    "print(tensor_from_numpy)\n",
    "\n",
    "\n",
    "# Создание тензора из списка\n",
    "tensor = torch.tensor([[1, 2], [3, 4]])\n",
    "print(tensor)\n",
    "\n",
    "# Тензор из нулей\n",
    "zeros = torch.zeros(3, 4)\n",
    "print(zeros)\n",
    "\n",
    "# Тензор из единиц\n",
    "ones = torch.ones(2, 3)\n",
    "print(ones)\n",
    "\n",
    "# Тензор с равномерно распределёнными значениями\n",
    "linspace = torch.linspace(0, 1, steps=5)\n",
    "print(linspace)\n",
    "\n",
    "# Одномерный тензор с диапазоном значений\n",
    "arange = torch.arange(0, 10, step=2)\n",
    "print(arange)\n",
    "\n",
    "# тензор из распределений\n",
    "random_uniform = torch.rand(2, 2)\n",
    "print(\"\\nТензор со случайными числами (равномерное распределение):\")\n",
    "print(random_uniform)\n",
    "\n",
    "random_normal = torch.randn(2, 2)\n",
    "print(\"\\nТензор со случайными числами (нормальное распределение):\")\n",
    "print(random_normal)\n",
    "\n",
    "random_int = torch.randint(0, 10, (2, 3))\n",
    "print(\"\\nТензор со случайными целыми числами:\")\n",
    "print(random_int)\n",
    "\n",
    "# похожий тензор\n",
    "tensor_ref = torch.tensor([[1, 2], [3, 4]])\n",
    "zeros_like = torch.zeros_like(tensor_ref)\n",
    "print(\"\\nТензор из нулей, как reference тензор:\")\n",
    "print(zeros_like)\n",
    "\n",
    "# Единичная матрица\n",
    "identity_matrix = torch.eye(3)\n",
    "print(\"\\nЕдиничная матрица:\")\n",
    "print(identity_matrix)\n",
    "\n",
    "# Тензор заполненный одним значением\n",
    "full_tensor = torch.full((2, 3), 7.0)\n",
    "print(\"\\nТензор, заполненный одним значением:\")\n",
    "print(full_tensor)\n",
    "\n"
   ]
  },
  {
   "cell_type": "markdown",
   "id": "c3f12c59",
   "metadata": {},
   "source": [
    "### операции\n",
    "\n",
    "пример того, как меняются операции:  \n",
    "\n",
    "* `x.reshape([1,2,8]) -> x.view(1,2,8)`  \n",
    "\n",
    "* `x.sum(axis=-1) -> x.sum(dim=-1)`  \n",
    "\n",
    "* `x.astype(\"int64\") -> x.type(torch.LongTensor)`  \n",
    "\n",
    "Для помощи  [таблица](https://github.com/torch/torch7/wiki/Torch-for-Numpy-users), которая поможет найти аналог **NumPy** операции в **PyTorch**  "
   ]
  },
  {
   "cell_type": "code",
   "execution_count": 8,
   "id": "5c48fe69",
   "metadata": {},
   "outputs": [
    {
     "name": "stdout",
     "output_type": "stream",
     "text": [
      "tensor([5, 7, 9])\n",
      "tensor([ 4, 10, 18])\n",
      "tensor([4.0000, 2.5000, 2.0000])\n",
      "tensor([6, 7, 8])\n",
      "tensor([2, 4, 6])\n",
      "tensor(2)\n",
      "tensor([[2, 3],\n",
      "        [5, 6]])\n"
     ]
    }
   ],
   "source": [
    "# Арифметические операции поэлементно:\n",
    "a = torch.tensor([1, 2, 3])\n",
    "b = torch.tensor([4, 5, 6])\n",
    "\n",
    "print(a + b)  # tensor([5, 7, 9])\n",
    "print(a * b)  # tensor([4, 10, 18])\n",
    "print(b / a)  # tensor([4.0000, 2.5000, 2.0000])\n",
    "\n",
    "# Операции с числами (скалярами):\n",
    "c = torch.tensor([1, 2, 3])\n",
    "print(c + 5)  # tensor([6, 7, 8])\n",
    "print(c * 2)  # tensor([2, 4, 6])\n",
    "\n",
    "# Индексирование и срезы работают как в numpy:\n",
    "x = torch.tensor([[1, 2, 3], [4, 5, 6]])\n",
    "print(x[0, 1])    # 2\n",
    "print(x[:, 1:3])  # все строки, столбцы с 1 по 2\n",
    "\n",
    "\n"
   ]
  },
  {
   "cell_type": "code",
   "execution_count": 9,
   "id": "d9fcaf5c",
   "metadata": {},
   "outputs": [
    {
     "name": "stdout",
     "output_type": "stream",
     "text": [
      "torch:\n",
      " tensor([[ 8, 10, 12],\n",
      "        [14, 16, 18]])\n",
      "тип: torch.LongTensor\n",
      "torch:\n",
      " tensor([[ 8., 10., 12.],\n",
      "        [14., 16., 18.]])\n",
      "тип: torch.FloatTensor\n",
      "среднее:\n",
      " tensor([10., 16.])\n",
      "транспонирование:\n",
      " tensor([[ 8., 14.],\n",
      "        [10., 16.],\n",
      "        [12., 18.]])\n"
     ]
    }
   ],
   "source": [
    "x= torch.tensor([[1,2,3],[4,5,6]])\n",
    "y= torch.tensor([[7,8,9], [10,11,12]])\n",
    "f= x + y\n",
    "print('torch:\\n', f)\n",
    "print('тип:', f.type())\n",
    "f = f.float()\n",
    "print('torch:\\n', f)\n",
    "print('тип:', f.type())\n",
    "print(\"среднее:\\n\", torch.mean(f, 1))\n",
    "print('транспонирование:\\n', f.transpose(1, 0))"
   ]
  },
  {
   "cell_type": "code",
   "execution_count": 10,
   "id": "eacb5d7e",
   "metadata": {},
   "outputs": [
    {
     "name": "stdout",
     "output_type": "stream",
     "text": [
      "Матричное умножение x @ y:\n",
      " tensor([[ 9, 13],\n",
      "        [18, 28]])\n",
      "Поэлементное умножение x * y:\n",
      " tensor([[2, 9],\n",
      "        [5, 6]])\n"
     ]
    }
   ],
   "source": [
    "x= torch.tensor([[2,3,4],[5,6,7]])\n",
    "y= torch.tensor([[1,3],[1,1], [1,1]])\n",
    "print(\"Матричное умножение x @ y:\\n\", x @ y)\n",
    "\n",
    "x= torch.tensor([[2,3],[5,6]])\n",
    "y= torch.tensor([[1,3],[1,1]])\n",
    "print(\"Поэлементное умножение x * y:\\n\", x * y)\n",
    "\n"
   ]
  },
  {
   "cell_type": "code",
   "execution_count": 11,
   "id": "9d46e7c3",
   "metadata": {},
   "outputs": [
    {
     "name": "stdout",
     "output_type": "stream",
     "text": [
      "тензор:\n",
      " tensor([[[0.3391, 0.2428],\n",
      "         [0.2053, 0.1704],\n",
      "         [0.6671, 0.2200]],\n",
      "\n",
      "        [[0.6988, 0.1131],\n",
      "         [0.8432, 0.1329],\n",
      "         [0.8115, 0.3326]]])\n",
      "Транспонирование:\n",
      " tensor([[[0.3391, 0.2428],\n",
      "         [0.6988, 0.1131]],\n",
      "\n",
      "        [[0.2053, 0.1704],\n",
      "         [0.8432, 0.1329]],\n",
      "\n",
      "        [[0.6671, 0.2200],\n",
      "         [0.8115, 0.3326]]])\n"
     ]
    }
   ],
   "source": [
    "x = torch.rand(2, 3, 2)\n",
    "print(\"тензор:\\n\", x)\n",
    "print(\"Транспонирование:\\n\", x.transpose(1, 0))"
   ]
  },
  {
   "cell_type": "code",
   "execution_count": null,
   "id": "621613c8",
   "metadata": {},
   "outputs": [
    {
     "name": "stdout",
     "output_type": "stream",
     "text": [
      "Результат bmm:\n",
      " tensor([[[ 31,  34],\n",
      "         [ 71,  78]],\n",
      "\n",
      "        [[155, 166],\n",
      "         [211, 226]]])\n",
      "CPU times: user 0 ns, sys: 1.03 ms, total: 1.03 ms\n",
      "Wall time: 731 μs\n"
     ]
    }
   ],
   "source": [
    "%%time\n",
    "# ПАКЕТНОЕ УМНОЖЕНИЕ (батч)\n",
    "# Создаем батч матриц (трехмерные тензоры)\n",
    "batch_A = torch.tensor([[[1, 2], [3, 4]], [[5, 6], [7, 8]]])\n",
    "batch_B = torch.tensor([[[9, 10], [11, 12]], [[13, 14], [15, 16]]])\n",
    "\n",
    "# Выполняем пакетное матричное умножение\n",
    "result = torch.bmm(batch_A, batch_B)  # Работает только с 3D тензорами\n",
    "\n",
    "print(\"Результат bmm:\\n\", result)\n",
    "\n"
   ]
  },
  {
   "cell_type": "code",
   "execution_count": null,
   "id": "c42202b2",
   "metadata": {},
   "outputs": [
    {
     "name": "stdout",
     "output_type": "stream",
     "text": [
      "Результат matmul:\n",
      " tensor([[[ 31,  34],\n",
      "         [ 71,  78]],\n",
      "\n",
      "        [[155, 166],\n",
      "         [211, 226]]])\n",
      "CPU times: user 1.59 ms, sys: 0 ns, total: 1.59 ms\n",
      "Wall time: 1.19 ms\n"
     ]
    }
   ],
   "source": [
    "%%time\n",
    "# Создаем батч матриц (трехмерные тензоры)\n",
    "batch_A = torch.tensor([[[1, 2], [3, 4]], [[5, 6], [7, 8]]])\n",
    "batch_B = torch.tensor([[[9, 10], [11, 12]], [[13, 14], [15, 16]]])\n",
    "\n",
    "# Выполняем пакетное матричное умножение \n",
    "result = torch.matmul(batch_A, batch_B) # так предпочтительнее\n",
    "\n",
    "print(\"Результат matmul:\\n\", result)"
   ]
  },
  {
   "cell_type": "markdown",
   "id": "a48e9189",
   "metadata": {},
   "source": [
    "### Преобразование тензора"
   ]
  },
  {
   "attachments": {
    "image.png": {
     "image/png": "[encoded data removed]"
    }
   },
   "cell_type": "markdown",
   "id": "94de0947",
   "metadata": {},
   "source": [
    "![image.png](attachment:image.png) "
   ]
  },
  {
   "cell_type": "code",
   "execution_count": null,
   "id": "7d72ee04",
   "metadata": {},
   "outputs": [
    {
     "name": "stdout",
     "output_type": "stream",
     "text": [
      "тензор:\n",
      " tensor([[0.4206, 0.9752, 0.7356],\n",
      "        [0.0108, 0.6319, 0.8627],\n",
      "        [0.2197, 0.8226, 0.8879],\n",
      "        [0.4053, 0.1408, 0.8286],\n",
      "        [0.1097, 0.5242, 0.8494]])\n",
      "решейп view:\n",
      " tensor([[0.4206, 0.9752, 0.7356, 0.0108, 0.6319],\n",
      "        [0.8627, 0.2197, 0.8226, 0.8879, 0.4053],\n",
      "        [0.1408, 0.8286, 0.1097, 0.5242, 0.8494]])\n",
      "решейп reshape:\n",
      " tensor([[0.4206, 0.9752, 0.7356, 0.0108, 0.6319],\n",
      "        [0.8627, 0.2197, 0.8226, 0.8879, 0.4053],\n",
      "        [0.1408, 0.8286, 0.1097, 0.5242, 0.8494]])\n"
     ]
    }
   ],
   "source": [
    "# решейп\n",
    "x = torch.rand(5, 3)\n",
    "print(\"тензор:\\n\", x)\n",
    "print(\"решейп view:\\n\", x.view([3, 5]))\n",
    "print(\"решейп reshape:\\n\", x.reshape([3, 5])) # предпочтительней не требует непрерывной памяти\n"
   ]
  },
  {
   "cell_type": "code",
   "execution_count": 19,
   "id": "824af792",
   "metadata": {},
   "outputs": [
    {
     "name": "stdout",
     "output_type": "stream",
     "text": [
      "Original: torch.Size([2, 3, 4])\n",
      "Reshape: torch.Size([3, 8])\n",
      "Permute: torch.Size([3, 2, 4])\n",
      "Transpose: torch.Size([3, 2, 4])\n",
      "Unsqueeze: torch.Size([1, 2, 3, 4])\n",
      "Squeeze: torch.Size([2, 3, 4])\n",
      "Flatten: torch.Size([2, 12])\n"
     ]
    }
   ],
   "source": [
    "import torch\n",
    "\n",
    "x = torch.arange(24).reshape(2, 3, 4)\n",
    "\n",
    "print(\"Original:\", x.shape)  # torch.Size([2, 3, 4])\n",
    "\n",
    "# Изменение формы\n",
    "y = x.reshape(3, 8)\n",
    "print(\"Reshape:\", y.shape)   # torch.Size([3, 8])\n",
    "\n",
    "# Переупорядочивание осей\n",
    "z = x.permute(1, 0, 2)\n",
    "print(\"Permute:\", z.shape)   # torch.Size([3, 2, 4])\n",
    "\n",
    "# Транспонирование двух осей\n",
    "t = x.transpose(0, 1)\n",
    "print(\"Transpose:\", t.shape) # torch.Size([3, 2, 4])\n",
    "\n",
    "# Добавление размерности\n",
    "u = x.unsqueeze(0)\n",
    "print(\"Unsqueeze:\", u.shape) # torch.Size([1, 2, 3, 4])\n",
    "\n",
    "# Удаление размерности\n",
    "v = u.squeeze(0)\n",
    "print(\"Squeeze:\", v.shape)   # torch.Size([2, 3, 4])\n",
    "\n",
    "# Выравнивание (флэттен)\n",
    "f = x.flatten(1) \n",
    "print(\"Flatten:\", f.shape)   # torch.Size([2, 12])\n"
   ]
  },
  {
   "cell_type": "code",
   "execution_count": null,
   "id": "01cf79be",
   "metadata": {},
   "outputs": [],
   "source": []
  },
  {
   "cell_type": "markdown",
   "id": "173ce22a",
   "metadata": {},
   "source": [
    "#### Размеры"
   ]
  },
  {
   "cell_type": "code",
   "execution_count": 7,
   "id": "56cf321f",
   "metadata": {},
   "outputs": [
    {
     "data": {
      "text/plain": [
       "tensor([[[0.3937, 0.9492],\n",
       "         [0.1356, 0.8570],\n",
       "         [0.6519, 0.0153]],\n",
       "\n",
       "        [[0.3597, 0.7916],\n",
       "         [0.8614, 0.2602],\n",
       "         [0.4994, 0.2804]]])"
      ]
     },
     "execution_count": 7,
     "metadata": {},
     "output_type": "execute_result"
    }
   ],
   "source": [
    "# случайный тензор\n",
    "x = torch.rand(2, 3, 2)\n",
    "x"
   ]
  },
  {
   "cell_type": "code",
   "execution_count": 12,
   "id": "6538e6c8",
   "metadata": {},
   "outputs": [
    {
     "name": "stdout",
     "output_type": "stream",
     "text": [
      "torch.Size([2, 3, 2])\n",
      "torch.Size([2, 3, 2])\n"
     ]
    }
   ],
   "source": [
    "# Размеры тензора\n",
    "print(x.size())\n",
    "print(x.shape)"
   ]
  },
  {
   "cell_type": "markdown",
   "id": "0ab80650",
   "metadata": {},
   "source": [
    "#### сравнение с numpy"
   ]
  },
  {
   "cell_type": "code",
   "execution_count": null,
   "id": "75611b0a",
   "metadata": {},
   "outputs": [
    {
     "name": "stdout",
     "output_type": "stream",
     "text": [
      "numpy:\n",
      " [[ 8 10 12]\n",
      " [14 16 18]]\n",
      "среднее [11. 13. 15.]\n",
      "транспонирование [[ 8 14]\n",
      " [10 16]\n",
      " [12 18]]\n"
     ]
    }
   ],
   "source": [
    "x= np.array([[1,2,3],[4,5,6]])\n",
    "y= np.array([[7,8,9], [10,11,12]])\n",
    "f= x + y\n",
    "print('numpy:\\n', f)\n",
    "print(\"среднее:\\n\", f.mean(axis=0))\n",
    "print('транспонирование:\\n', f.transpose(1, 0))\n"
   ]
  },
  {
   "cell_type": "code",
   "execution_count": 27,
   "id": "4b18c07a",
   "metadata": {},
   "outputs": [
    {
     "name": "stdout",
     "output_type": "stream",
     "text": [
      "torch:\n",
      " tensor([[ 8, 10, 12],\n",
      "        [14, 16, 18]])\n",
      "тип: torch.LongTensor\n",
      "torch:\n",
      " tensor([[ 8., 10., 12.],\n",
      "        [14., 16., 18.]])\n",
      "тип: torch.FloatTensor\n",
      "среднее:\n",
      " tensor([10., 16.])\n",
      "транспонирование:\n",
      " tensor([[ 8., 14.],\n",
      "        [10., 16.],\n",
      "        [12., 18.]])\n"
     ]
    }
   ],
   "source": [
    "x= torch.tensor([[1,2,3],[4,5,6]])\n",
    "y= torch.tensor([[7,8,9], [10,11,12]])\n",
    "f= x + y\n",
    "print('torch:\\n', f)\n",
    "print('тип:', f.type())\n",
    "f = f.float()\n",
    "print('torch:\\n', f)\n",
    "print('тип:', f.type())\n",
    "print(\"среднее:\\n\", torch.mean(f, 1))\n",
    "print('транспонирование:\\n', f.transpose(1, 0))\n"
   ]
  },
  {
   "cell_type": "code",
   "execution_count": null,
   "id": "0d2ac024",
   "metadata": {},
   "outputs": [],
   "source": []
  },
  {
   "cell_type": "code",
   "execution_count": null,
   "id": "a9f630ef",
   "metadata": {},
   "outputs": [],
   "source": []
  },
  {
   "cell_type": "code",
   "execution_count": null,
   "id": "27465a28",
   "metadata": {},
   "outputs": [],
   "source": []
  },
  {
   "cell_type": "code",
   "execution_count": null,
   "id": "bcd05c0a",
   "metadata": {},
   "outputs": [],
   "source": []
  },
  {
   "cell_type": "code",
   "execution_count": null,
   "id": "2ccff386",
   "metadata": {},
   "outputs": [],
   "source": []
  },
  {
   "cell_type": "code",
   "execution_count": null,
   "id": "12188b92",
   "metadata": {},
   "outputs": [],
   "source": []
  },
  {
   "cell_type": "code",
   "execution_count": null,
   "id": "b00f5875",
   "metadata": {},
   "outputs": [],
   "source": []
  },
  {
   "cell_type": "markdown",
   "id": "03b8672a",
   "metadata": {},
   "source": [
    "### создание тензора, вычисление градиента"
   ]
  },
  {
   "cell_type": "code",
   "execution_count": 77,
   "id": "58a5e997",
   "metadata": {},
   "outputs": [
    {
     "name": "stdout",
     "output_type": "stream",
     "text": [
      "tensor([7., 9.])\n",
      "cuda:0\n"
     ]
    }
   ],
   "source": [
    "import torch\n",
    "\n",
    "# Создаем тензор с включенным отслеживанием градиентов\n",
    "x = torch.tensor([2.0, 3.0], requires_grad=True)\n",
    "\n",
    "# Выполняем операцию\n",
    "y = x ** 2 + 3 * x + 1\n",
    "\n",
    "# Считаем сумму для удобства\n",
    "z = y.sum()\n",
    "\n",
    "# Вычисляем градиенты\n",
    "z.backward()\n",
    "\n",
    "print(x.grad)  # tensor([7., 9.]) — производные по x\n",
    "\n",
    "# Перенос на GPU (если доступен)\n",
    "if torch.cuda.is_available():\n",
    "    x_gpu = x.to('cuda')\n",
    "    print(x_gpu.device)  # cuda:0\n"
   ]
  },
  {
   "cell_type": "code",
   "execution_count": 79,
   "id": "855c40f5",
   "metadata": {},
   "outputs": [],
   "source": [
    "''' \n",
    "y = x ** 2  # y — тензор с несколькими элементами\n",
    "y.backward()  # вызовет ошибку\n",
    "'''\n",
    "\n",
    "y = x ** 2\n",
    "y.sum().backward()  # теперь y — скаляр, ошибка исчезнет"
   ]
  },
  {
   "cell_type": "code",
   "execution_count": null,
   "id": "69793144",
   "metadata": {},
   "outputs": [],
   "source": [
    "y = x ** 2\n",
    "y.backward(torch.ones_like(y))  # явно передаем градиенты  \n"
   ]
  },
  {
   "cell_type": "code",
   "execution_count": null,
   "id": "df46f9a8",
   "metadata": {},
   "outputs": [],
   "source": [
    "# Если два раза вызвать y.backward(torch.ones_like(y))  будет ошибка\n",
    "''' \n",
    "y.backward(torch.ones_like(y)) \n",
    "y.backward(torch.ones_like(y)) \n",
    "'''\n",
    "# По умолчанию, после вызова .backward(), вычислительный граф, который PyTorch строит для отслеживания операций и вычисления градиентов, удаляется."
   ]
  },
  {
   "cell_type": "code",
   "execution_count": 82,
   "id": "59c4a33c",
   "metadata": {},
   "outputs": [
    {
     "name": "stdout",
     "output_type": "stream",
     "text": [
      "Градиенты после первого backward: tensor([2., 2., 2.])\n",
      "Градиенты после второго backward: tensor([2., 2., 2.])\n"
     ]
    }
   ],
   "source": [
    "import torch\n",
    "\n",
    "x = torch.tensor([1.0, 2.0, 3.0], requires_grad=True)\n",
    "y = x * 2\n",
    "\n",
    "# Первый вызов: сохраняем граф\n",
    "y.backward(torch.ones_like(y), retain_graph=True)\n",
    "print(\"Градиенты после первого backward:\", x.grad)\n",
    "\n",
    "# Сбрасываем градиенты (важно, чтобы не накапливались)\n",
    "x.grad.zero_()\n",
    "\n",
    "# Второй вызов: используем сохраненный граф\n",
    "y.backward(torch.ones_like(y)) # retain_graph=True здесь не обязательно, если это последний вызов\n",
    "print(\"Градиенты после второго backward:\", x.grad)\n"
   ]
  },
  {
   "cell_type": "markdown",
   "id": "e27a8515",
   "metadata": {},
   "source": [
    "### Перенос на GPU"
   ]
  },
  {
   "cell_type": "code",
   "execution_count": null,
   "id": "77694af3",
   "metadata": {},
   "outputs": [
    {
     "name": "stdout",
     "output_type": "stream",
     "text": [
      "cuda:0\n",
      "cpu\n"
     ]
    }
   ],
   "source": [
    "\n",
    "import torch\n",
    "tensor = torch.tensor([1, 2, 3])\n",
    "\n",
    "# Перенесите тензор на GPU, если доступен\n",
    "if torch.cuda.is_available():\n",
    "    tensor = tensor.to('cuda')\n",
    "\n",
    "# Проверьте устройство тензора\n",
    "device_name = str(tensor.device)\n",
    "print(device_name)\n",
    "\n",
    "tensor2 = torch.tensor([1, 2, 3])\n",
    "\n",
    "device_name2 = str(tensor2.device)\n",
    "print(device_name2)"
   ]
  },
  {
   "cell_type": "markdown",
   "id": "606d1cc9",
   "metadata": {},
   "source": [
    "## Сравнение с numpy\n",
    "\n",
    "**В чем же разница?**.  \n",
    "\n",
    "1) Автоматическое дифференцирование:  \n",
    "- `NumPy:` NumPy не предоставляет встроенной поддержки для автоматического дифференцирования. Это означает, что вы должны явным образом вычислять градиенты при  необходимости, что может быть неудобно при разработке сложных моделей машинного обучения.  \n",
    "\n",
    "- `PyTorch:` PyTorch обеспечивает автоматическое дифференцирование через свой модуль `autograd`. Это позволяет легко вычислять градиенты функций и использовать их в  процессе обучения нейронных сетей. Эта функциональность делает PyTorch более подходящим для глубокого обучения и исследований.  \n",
    "\n",
    "2) Оптимизация на GPU\n",
    " - `NumPy:` NumPy поддерживает вычисления на CPU, но для оптимизации на GPU требуется использовать дополнительные библиотеки, такие как CuPy. \n",
    "\n",
    " - `PyTorch:` PyTorch предоставляет встроенную поддержку для оптимизации на графических процессорах (GPU) с помощью CUDA. Это позволяет ускорять обучение нейронных сетей  и другие вычисления, используя мощности GPU. \n",
    "\n",
    "\n",
    "### Плюс Numpy:  \n",
    "`Производительность на CPU:`   \n",
    " В некоторых случаях NumPy может предоставить более оптимизированные вычисления на CPU, особенно если вы работаете с большими массивами данных и используете оптимизированные библиотеки BLAS (Basic Linear Algebra Subprograms)."
   ]
  },
  {
   "cell_type": "code",
   "execution_count": 1,
   "id": "6438c8c4",
   "metadata": {},
   "outputs": [
    {
     "name": "stdout",
     "output_type": "stream",
     "text": [
      "tensor([[[1., 1.],\n",
      "         [1., 1.]],\n",
      "\n",
      "        [[1., 1.],\n",
      "         [1., 1.]]])\n",
      "[[[1. 1.]\n",
      "  [1. 1.]]\n",
      "\n",
      " [[1. 1.]\n",
      "  [1. 1.]]]\n",
      "Объем памяти, занимаемый массивом: 64 байт\n",
      "Объем памяти, занимаемый тензором: 32 байт\n"
     ]
    }
   ],
   "source": [
    "import torch\n",
    "\n",
    "# создаем тензор ранга 3 размером 2x2x2 со случайными значениями\n",
    "tensor_torch = torch.ones(2, 2, 2)\n",
    "\n",
    "# Выводим созданный тензор\n",
    "print(tensor_torch)\n",
    "\n",
    "# Определяем объем памяти, занимаемый тензором в байтах\n",
    "memory_bytes_torch = tensor_torch.element_size() * tensor_torch.nelement()\n",
    "\n",
    "\n",
    "import numpy as np\n",
    "\n",
    "# Создаем тензор ранга 3 размером 2x2x2 со случайными значениями\n",
    "tensor_numpy = np.ones((2, 2, 2))\n",
    "\n",
    "# Выводим созданный тензор\n",
    "print(tensor_numpy)\n",
    "\n",
    "\n",
    "# Определяем объем памяти, занимаемый массивом в байтах\n",
    "memory_bytes_numpy = tensor_numpy.nbytes\n",
    "\n",
    "\n",
    "# Выводим объем памяти\n",
    "print(f\"Объем памяти, занимаемый массивом: {memory_bytes_numpy} байт\")\n",
    "\n",
    "print(f\"Объем памяти, занимаемый тензором: {memory_bytes_torch} байт\")"
   ]
  },
  {
   "cell_type": "code",
   "execution_count": null,
   "id": "0b934355",
   "metadata": {},
   "outputs": [],
   "source": []
  }
 ],
 "metadata": {
  "kernelspec": {
   "display_name": "env1",
   "language": "python",
   "name": "python3"
  },
  "language_info": {
   "codemirror_mode": {
    "name": "ipython",
    "version": 3
   },
   "file_extension": ".py",
   "mimetype": "text/x-python",
   "name": "python",
   "nbconvert_exporter": "python",
   "pygments_lexer": "ipython3",
   "version": "3.12.3"
  }
 },
 "nbformat": 4,
 "nbformat_minor": 5
}
