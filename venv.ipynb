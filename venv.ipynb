{
 "cells": [
  {
   "cell_type": "markdown",
   "id": "dddc4806",
   "metadata": {},
   "source": [
    "# Виртуальное окружение"
   ]
  },
  {
   "cell_type": "markdown",
   "id": "bd07664f",
   "metadata": {},
   "source": [
    "## Виртуальное окружение Pip\n",
    "------------------\n",
    "\n",
    "```bash \n",
    "\n",
    "# проверка что установлен пакет venv и python\n",
    "sudo apt update\n",
    "sudo apt install python3 python3-venv\n",
    "\n",
    "# создание venv\n",
    "python3 -m venv myenv\n",
    "\n",
    "# активация\n",
    "source myenv/bin/activate\n",
    "\n",
    "# Деактивация\n",
    "deactivate\n",
    "\n",
    "\n",
    "\n",
    "\n",
    "```"
   ]
  },
  {
   "cell_type": "markdown",
   "id": "f0a69b5f",
   "metadata": {},
   "source": [
    "### работа с venv  \n",
    "------------\n",
    "\n",
    "```bash \n",
    "\n",
    "# установка пакетов\n",
    "pip install пакет==версия\n",
    "\n",
    "# Создание с определённой версией python\n",
    "sudo apt install python3.8 python3.8-venv python3.8-dev  # Установка определённой версии python\n",
    "\n",
    "# создание окружения\n",
    "python3.8 -m venv myenv38\n",
    "source myenv38/bin/activate\n",
    "\n",
    "\n",
    "\n",
    "```\n",
    "\n",
    "\n",
    "\n"
   ]
  },
  {
   "cell_type": "markdown",
   "id": "fc9ba8b1",
   "metadata": {},
   "source": [
    "## Виртуальное окружение conda\n",
    "-------------------\n",
    "\n",
    "```bash\n",
    "\n",
    "# Создание окружения с нужной версией Python\n",
    "conda create -n myenv python=3.8\n",
    "\n",
    "# Активация\n",
    "conda activate myenv\n",
    "\n",
    "# установка пакетов\n",
    "conda install numpy  # через conda\n",
    "pip install пакет    # через pip\n",
    "\n",
    "# Деактивация\n",
    "conda deactivate\n",
    "\n",
    "# удаление\n",
    "conda env remove --name myenv\t\n",
    "\n",
    "# проверка окружений\n",
    "conda info --envs\t\n",
    "conda env list \n",
    "\n",
    "# Просмотр пути к текущему окружению (ссылка на python)\n",
    "which python \n",
    "\n",
    "```"
   ]
  },
  {
   "cell_type": "markdown",
   "id": "718ed4db",
   "metadata": {},
   "source": [
    "\n",
    "```bash \n",
    "\n",
    "# проверка установленных пакетов\n",
    "conda list      # все установленные пакеты в conda окружении\n",
    "pip list        # установленные пакеты через pip\n",
    "\n",
    "pip show  имя   # установленный пакет\n",
    "```"
   ]
  },
  {
   "cell_type": "code",
   "execution_count": null,
   "id": "650f3517",
   "metadata": {},
   "outputs": [],
   "source": []
  },
  {
   "cell_type": "code",
   "execution_count": null,
   "id": "85ceed16",
   "metadata": {},
   "outputs": [],
   "source": []
  },
  {
   "cell_type": "code",
   "execution_count": null,
   "id": "d26a5f03",
   "metadata": {},
   "outputs": [],
   "source": []
  },
  {
   "cell_type": "code",
   "execution_count": null,
   "id": "90aa48d6",
   "metadata": {},
   "outputs": [],
   "source": []
  },
  {
   "cell_type": "code",
   "execution_count": null,
   "id": "77f863b4",
   "metadata": {},
   "outputs": [],
   "source": []
  }
 ],
 "metadata": {
  "kernelspec": {
   "display_name": "condavenv",
   "language": "python",
   "name": "python3"
  },
  "language_info": {
   "codemirror_mode": {
    "name": "ipython",
    "version": 3
   },
   "file_extension": ".py",
   "mimetype": "text/x-python",
   "name": "python",
   "nbconvert_exporter": "python",
   "pygments_lexer": "ipython3",
   "version": "3.11.13"
  }
 },
 "nbformat": 4,
 "nbformat_minor": 5
}
