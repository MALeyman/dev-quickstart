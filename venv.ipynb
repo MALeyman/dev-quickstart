{
 "cells": [
  {
   "cell_type": "markdown",
   "id": "dddc4806",
   "metadata": {},
   "source": [
    "# Виртуальное окружение"
   ]
  },
  {
   "cell_type": "markdown",
   "id": "bd07664f",
   "metadata": {},
   "source": [
    "## Виртуальное окружение Pip\n",
    "```bash\n",
    "# проверка что установлен пакет venv и python\n",
    "sudo apt update\n",
    "sudo apt install python3 python3-venv\n",
    "\n",
    "# создание venv\n",
    "python3 -m venv myenv\n",
    "\n",
    "# активация\n",
    "source myenv/bin/activate\n",
    "\n",
    "# Деактивация\n",
    "deactivate\n",
    "\n",
    "\n",
    "\n",
    "\n",
    "```"
   ]
  },
  {
   "cell_type": "markdown",
   "id": "f0a69b5f",
   "metadata": {},
   "source": [
    "### работа с venv\n",
    "```bash\n",
    "# установка пакетов\n",
    "pip install пакет==версия\n",
    "\n",
    "# Создание с определённой версией python\n",
    "sudo apt install python3.8 python3.8-venv python3.8-dev  # Установка определённой версии python\n",
    "\n",
    "# создание окружения\n",
    "python3.8 -m venv myenv38\n",
    "source myenv38/bin/activate\n",
    "\n",
    "\n",
    "\n",
    "```\n",
    "\n",
    "\n",
    "\n"
   ]
  },
  {
   "cell_type": "markdown",
   "id": "fc9ba8b1",
   "metadata": {},
   "source": [
    "## Виртуальное окружение conda\n",
    "\n",
    "```bash\n",
    "# Создание окружения с нужной версией Python\n",
    "conda create -n myenv python=3.8\n",
    "\n",
    "# Активация\n",
    "conda activate myenv\n",
    "\n",
    "# установка пакетов\n",
    "conda install numpy  # через conda\n",
    "pip install пакет    # через pip\n",
    "\n",
    "# Деактивация\n",
    "conda deactivate\n",
    "\n",
    "```"
   ]
  },
  {
   "cell_type": "markdown",
   "id": "90bfa80f",
   "metadata": {},
   "source": []
  },
  {
   "cell_type": "markdown",
   "id": "876549d9",
   "metadata": {},
   "source": []
  }
 ],
 "metadata": {
  "language_info": {
   "name": "python"
  }
 },
 "nbformat": 4,
 "nbformat_minor": 5
}
