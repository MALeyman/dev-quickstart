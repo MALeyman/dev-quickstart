{
 "cells": [
  {
   "cell_type": "markdown",
   "id": "ba0b4bd2",
   "metadata": {},
   "source": [
    "# Функции потерь"
   ]
  },
  {
   "cell_type": "markdown",
   "id": "5bca54d0",
   "metadata": {},
   "source": [
    "## 1) Регрессия"
   ]
  },
  {
   "cell_type": "markdown",
   "id": "c7660762",
   "metadata": {},
   "source": [
    "### 1. Mean Squared Error Loss (MSELoss)\n",
    "\n",
    "Вычисляет средний квадрат разницы между предсказанными и истинными значениями.  \n",
    "\n",
    "Очень чувствительна к большим ошибкам (выбросам).  "
   ]
  },
  {
   "cell_type": "code",
   "execution_count": 12,
   "id": "ed81f41c",
   "metadata": {},
   "outputs": [
    {
     "name": "stdout",
     "output_type": "stream",
     "text": [
      "MSE Loss: 0.1267\n"
     ]
    }
   ],
   "source": [
    "import torch\n",
    "import torch.nn as nn\n",
    "\n",
    "criterion = nn.MSELoss()\n",
    "\n",
    "predictions = torch.tensor([2.5, 3.0, 1.8])\n",
    "targets = torch.tensor([2.0, 3.2, 1.5])\n",
    "\n",
    "loss = criterion(predictions, targets)\n",
    "print(f\"MSE Loss: {loss.item():.4f}\")\n"
   ]
  },
  {
   "cell_type": "markdown",
   "id": "a9d89c7a",
   "metadata": {},
   "source": [
    "### 2. Mean Absolute Error Loss (L1Loss) \n",
    "\n",
    "Среднее абсолютное отклонение.  \n",
    "\n",
    "Более робастна к выбросам, чем MSE.  "
   ]
  },
  {
   "cell_type": "code",
   "execution_count": 13,
   "id": "0bc61cbe",
   "metadata": {},
   "outputs": [
    {
     "name": "stdout",
     "output_type": "stream",
     "text": [
      "MAE Loss: 0.3333\n"
     ]
    }
   ],
   "source": [
    "criterion_mae = nn.L1Loss()\n",
    "\n",
    "predictions = torch.tensor([2.5, 3.0, 1.8])\n",
    "targets = torch.tensor([2.0, 3.2, 1.5])\n",
    "\n",
    "loss_mae = criterion_mae(predictions, targets)\n",
    "print(f\"MAE Loss: {loss_mae.item():.4f}\")\n"
   ]
  },
  {
   "cell_type": "markdown",
   "id": "69860554",
   "metadata": {},
   "source": [
    "### 3. Huber Loss (Smooth L1 Loss) \n",
    "\n",
    "Комбинация MSE и MAE, помогает уменьшить влияние выбросов."
   ]
  },
  {
   "cell_type": "code",
   "execution_count": 14,
   "id": "e7416315",
   "metadata": {},
   "outputs": [
    {
     "name": "stdout",
     "output_type": "stream",
     "text": [
      "Huber Loss: 0.0633\n"
     ]
    }
   ],
   "source": [
    "criterion_huber = nn.SmoothL1Loss()\n",
    "\n",
    "predictions = torch.tensor([2.5, 3.0, 1.8])\n",
    "targets = torch.tensor([2.0, 3.2, 1.5])\n",
    "\n",
    "loss_huber = criterion_huber(predictions, targets)\n",
    "print(f\"Huber Loss: {loss_huber.item():.4f}\")\n"
   ]
  },
  {
   "cell_type": "markdown",
   "id": "13bc155a",
   "metadata": {},
   "source": [
    "## 2) Классификация"
   ]
  },
  {
   "cell_type": "code",
   "execution_count": null,
   "id": "7a33cf80",
   "metadata": {},
   "outputs": [],
   "source": [
    "import numpy as np\n",
    "from sklearn.datasets import make_classification\n",
    "from sklearn.model_selection import train_test_split\n",
    "from sklearn.linear_model import LogisticRegression\n",
    "from sklearn.metrics import accuracy_score, precision_score, recall_score, f1_score, confusion_matrix\n",
    "\n",
    "\n",
    "\n",
    "import torch\n",
    "import torch.nn as nn\n",
    "\n"
   ]
  },
  {
   "cell_type": "code",
   "execution_count": 11,
   "id": "f711556c",
   "metadata": {},
   "outputs": [],
   "source": [
    "# Шаг 1: Создание данных\n",
    "X, y = make_classification(n_samples=200, n_features=2, n_redundant=0,\n",
    "                           n_informative=2, n_clusters_per_class=1,\n",
    "                           weights=[0.5, 0.5], random_state=42)\n",
    "\n",
    "# Шаг 2: Разделение\n",
    "X_train, X_test, y_train, y_test = train_test_split(X, y, test_size=0.3, random_state=42)\n",
    "\n",
    "# Шаг 3: Обучение модели sklearn\n",
    "model = LogisticRegression()\n",
    "model.fit(X_train, y_train)\n",
    "\n",
    "# Шаг 4: Получение вероятностей для класса 1\n",
    "y_probs = model.predict_proba(X_test)[:, 1]  # вероятности принадлежности к классу 1\n",
    "\n",
    "# Переводим в тензоры\n",
    "y_probs_torch = torch.tensor(y_probs, dtype=torch.float32)\n",
    "y_test_torch = torch.tensor(y_test, dtype=torch.float32)\n",
    "\n"
   ]
  },
  {
   "attachments": {
    "image.png": {
     "image/png": "[encoded data removed]"
    }
   },
   "cell_type": "markdown",
   "id": "472b8daf",
   "metadata": {},
   "source": [
    "### Бинарная кросс-энтропия \n",
    "\n",
    "nn.BCELoss — для вероятностей\n",
    "\n",
    "![image.png](attachment:image.png)"
   ]
  },
  {
   "cell_type": "code",
   "execution_count": 6,
   "id": "d664647a",
   "metadata": {},
   "outputs": [
    {
     "name": "stdout",
     "output_type": "stream",
     "text": [
      "Loss: 0.39712637662887573\n"
     ]
    }
   ],
   "source": [
    "# Шаг 5: Создаем функцию потерь BCELoss\n",
    "criterion = nn.BCELoss()\n",
    "\n",
    "# Вычисляем loss\n",
    "loss = criterion(y_probs_torch, y_test_torch)\n",
    "print(\"Loss:\", loss.item())"
   ]
  },
  {
   "cell_type": "markdown",
   "id": "8e77fbb7",
   "metadata": {},
   "source": [
    "nn.BCEWithLogitsLoss — для логитов"
   ]
  },
  {
   "cell_type": "code",
   "execution_count": 10,
   "id": "424bf27a",
   "metadata": {},
   "outputs": [
    {
     "name": "stdout",
     "output_type": "stream",
     "text": [
      "Loss: 0.6462437510490417\n"
     ]
    }
   ],
   "source": [
    "criterion = nn.BCEWithLogitsLoss()\n",
    "\n",
    "# Вычисляем loss\n",
    "loss = criterion(y_probs_torch, y_test_torch)\n",
    "print(\"Loss:\", loss.item())"
   ]
  },
  {
   "attachments": {
    "image.png": {
     "image/png": "[encoded data removed]"
    }
   },
   "cell_type": "markdown",
   "id": "b63bbcf3",
   "metadata": {},
   "source": [
    "### Категориальная Кросс-энтропия \n",
    "\n",
    "![image.png](attachment:image.png)  "
   ]
  },
  {
   "cell_type": "code",
   "execution_count": null,
   "id": "3652fd10",
   "metadata": {},
   "outputs": [
    {
     "name": "stdout",
     "output_type": "stream",
     "text": [
      "Loss: 0.8826440572738647\n"
     ]
    }
   ],
   "source": [
    "import torch\n",
    "import torch.nn as nn\n",
    "\n",
    "# Пример: 3 класса, батч из 4 объектов.\n",
    "# Пусть выход модели — логиты (не softmax)\n",
    "logits = torch.tensor([\n",
    "    [1.2, 0.5, 2.1],   # пример 1\n",
    "    [0.1, 2.0, 1.5],   # пример 2\n",
    "    [1.5, 0.2, 0.3],   # пример 3\n",
    "    [0.0, 1.0, 1.0]    # пример 4\n",
    "], requires_grad=True)\n",
    "\n",
    "\n",
    "# Правильные метки классов (индексы от 0 до 2)\n",
    "targets = torch.tensor([2, 1, 0, 1])  # размер [4], каждый элемент - класс\n",
    "\n",
    "# Создаем функцию потерь CrossEntropyLoss\n",
    "criterion = nn.CrossEntropyLoss()\n",
    "\n",
    "# Считаем loss\n",
    "loss = criterion(logits, targets)\n",
    "\n",
    "print(\"Loss:\", loss.item())\n"
   ]
  },
  {
   "cell_type": "code",
   "execution_count": 8,
   "id": "72239301",
   "metadata": {},
   "outputs": [
    {
     "name": "stdout",
     "output_type": "stream",
     "text": [
      "Manual cross-entropy loss: 0.6192346215248108\n"
     ]
    }
   ],
   "source": [
    "import torch\n",
    "\n",
    "# Предсказанные вероятности после softmax (пример)\n",
    "probs = torch.tensor([\n",
    "    [0.3, 0.4, 0.3],\n",
    "    [0.1, 0.7, 0.2],\n",
    "    [0.8, 0.1, 0.1],\n",
    "    [0.2, 0.5, 0.3]\n",
    "])\n",
    "\n",
    "targets = torch.tensor([2, 1, 0, 1])\n",
    "\n",
    "# Для cross-entropy вручную нужен log вероятностей и индексы классов\n",
    "log_probs = torch.log(probs)\n",
    "\n",
    "# Выбираем логарифмы для правильных классов:\n",
    "loss_per_sample = -log_probs[range(len(targets)), targets]\n",
    "\n",
    "# Среднее значение по батчу\n",
    "loss_manual = loss_per_sample.mean()\n",
    "\n",
    "print(\"Manual cross-entropy loss:\", loss_manual.item())\n"
   ]
  },
  {
   "cell_type": "markdown",
   "id": "590d5228",
   "metadata": {},
   "source": []
  },
  {
   "cell_type": "markdown",
   "id": "35c60ff3",
   "metadata": {},
   "source": [
    "## 3) Компьютерное зрение"
   ]
  },
  {
   "cell_type": "code",
   "execution_count": null,
   "id": "578aa924",
   "metadata": {},
   "outputs": [],
   "source": []
  },
  {
   "cell_type": "code",
   "execution_count": null,
   "id": "617dbd81",
   "metadata": {},
   "outputs": [],
   "source": []
  },
  {
   "cell_type": "code",
   "execution_count": null,
   "id": "ffe133a8",
   "metadata": {},
   "outputs": [],
   "source": []
  },
  {
   "cell_type": "code",
   "execution_count": null,
   "id": "94358f57",
   "metadata": {},
   "outputs": [],
   "source": []
  }
 ],
 "metadata": {
  "kernelspec": {
   "display_name": "env1",
   "language": "python",
   "name": "python3"
  },
  "language_info": {
   "codemirror_mode": {
    "name": "ipython",
    "version": 3
   },
   "file_extension": ".py",
   "mimetype": "text/x-python",
   "name": "python",
   "nbconvert_exporter": "python",
   "pygments_lexer": "ipython3",
   "version": "3.12.3"
  }
 },
 "nbformat": 4,
 "nbformat_minor": 5
}
