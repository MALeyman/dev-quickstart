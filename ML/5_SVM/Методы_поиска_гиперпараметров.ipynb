{
  "cells": [
    {
      "cell_type": "code",
      "execution_count": 1,
      "metadata": {
        "id": "TmImpx6jpfZD"
      },
      "outputs": [],
      "source": [
        "import pandas as pd\n",
        "import numpy as np\n",
        "\n",
        "from sklearn.model_selection import train_test_split\n",
        "\n",
        "from sklearn.compose import ColumnTransformer, make_column_transformer, make_column_selector\n",
        "from sklearn.pipeline import make_pipeline, Pipeline\n",
        "\n",
        "from sklearn.linear_model import LinearRegression, SGDRegressor, Lasso\n",
        "from sklearn.tree import DecisionTreeRegressor\n",
        "from sklearn.impute import KNNImputer, SimpleImputer\n",
        "\n",
        "from sklearn.model_selection import GridSearchCV, RandomizedSearchCV\n",
        "\n",
        "from sklearn.experimental import enable_halving_search_cv\n",
        "from sklearn.model_selection import HalvingGridSearchCV\n",
        "\n",
        "from sklearn.preprocessing import StandardScaler , OneHotEncoder, MinMaxScaler\n",
        "# import category_encoders as ce\n",
        "\n",
        "import random\n",
        "import seaborn as sns\n"
      ]
    },
    {
      "cell_type": "code",
      "execution_count": 2,
      "metadata": {
        "id": "yLhmNgF7zKFC"
      },
      "outputs": [],
      "source": [
        "df = sns.load_dataset('mpg')"
      ]
    },
    {
      "cell_type": "code",
      "execution_count": 3,
      "metadata": {
        "id": "SkWoNqzN53GI"
      },
      "outputs": [],
      "source": [
        "# sns.get_dataset_names()"
      ]
    },
    {
      "cell_type": "code",
      "execution_count": 4,
      "metadata": {
        "colab": {
          "base_uri": "https://localhost:8080/",
          "height": 206
        },
        "id": "4eIHXM2N1Ue_",
        "outputId": "2e15316d-746b-4157-bc81-21483be9469e"
      },
      "outputs": [
        {
          "data": {
            "application/vnd.google.colaboratory.intrinsic+json": {
              "summary": "{\n  \"name\": \"df\",\n  \"rows\": 398,\n  \"fields\": [\n    {\n      \"column\": \"mpg\",\n      \"properties\": {\n        \"dtype\": \"number\",\n        \"std\": 7.815984312565782,\n        \"min\": 9.0,\n        \"max\": 46.6,\n        \"num_unique_values\": 129,\n        \"samples\": [\n          17.7,\n          30.5,\n          30.0\n        ],\n        \"semantic_type\": \"\",\n        \"description\": \"\"\n      }\n    },\n    {\n      \"column\": \"cylinders\",\n      \"properties\": {\n        \"dtype\": \"number\",\n        \"std\": 1,\n        \"min\": 3,\n        \"max\": 8,\n        \"num_unique_values\": 5,\n        \"samples\": [\n          4,\n          5,\n          6\n        ],\n        \"semantic_type\": \"\",\n        \"description\": \"\"\n      }\n    },\n    {\n      \"column\": \"displacement\",\n      \"properties\": {\n        \"dtype\": \"number\",\n        \"std\": 104.26983817119591,\n        \"min\": 68.0,\n        \"max\": 455.0,\n        \"num_unique_values\": 82,\n        \"samples\": [\n          122.0,\n          307.0,\n          360.0\n        ],\n        \"semantic_type\": \"\",\n        \"description\": \"\"\n      }\n    },\n    {\n      \"column\": \"horsepower\",\n      \"properties\": {\n        \"dtype\": \"number\",\n        \"std\": 38.49115993282849,\n        \"min\": 46.0,\n        \"max\": 230.0,\n        \"num_unique_values\": 93,\n        \"samples\": [\n          92.0,\n          100.0,\n          52.0\n        ],\n        \"semantic_type\": \"\",\n        \"description\": \"\"\n      }\n    },\n    {\n      \"column\": \"weight\",\n      \"properties\": {\n        \"dtype\": \"number\",\n        \"std\": 846,\n        \"min\": 1613,\n        \"max\": 5140,\n        \"num_unique_values\": 351,\n        \"samples\": [\n          3730,\n          1995,\n          2215\n        ],\n        \"semantic_type\": \"\",\n        \"description\": \"\"\n      }\n    },\n    {\n      \"column\": \"acceleration\",\n      \"properties\": {\n        \"dtype\": \"number\",\n        \"std\": 2.757688929812676,\n        \"min\": 8.0,\n        \"max\": 24.8,\n        \"num_unique_values\": 95,\n        \"samples\": [\n          14.7,\n          18.0,\n          14.3\n        ],\n        \"semantic_type\": \"\",\n        \"description\": \"\"\n      }\n    },\n    {\n      \"column\": \"model_year\",\n      \"properties\": {\n        \"dtype\": \"number\",\n        \"std\": 3,\n        \"min\": 70,\n        \"max\": 82,\n        \"num_unique_values\": 13,\n        \"samples\": [\n          81,\n          79,\n          70\n        ],\n        \"semantic_type\": \"\",\n        \"description\": \"\"\n      }\n    },\n    {\n      \"column\": \"origin\",\n      \"properties\": {\n        \"dtype\": \"category\",\n        \"num_unique_values\": 3,\n        \"samples\": [\n          \"usa\",\n          \"japan\",\n          \"europe\"\n        ],\n        \"semantic_type\": \"\",\n        \"description\": \"\"\n      }\n    },\n    {\n      \"column\": \"name\",\n      \"properties\": {\n        \"dtype\": \"string\",\n        \"num_unique_values\": 305,\n        \"samples\": [\n          \"mazda rx-4\",\n          \"ford f108\",\n          \"buick century luxus (sw)\"\n        ],\n        \"semantic_type\": \"\",\n        \"description\": \"\"\n      }\n    }\n  ]\n}",
              "type": "dataframe",
              "variable_name": "df"
            },
            "text/html": [
              "\n",
              "  <div id=\"df-94f8a953-6824-4a3d-93d3-2183dde26a6b\" class=\"colab-df-container\">\n",
              "    <div>\n",
              "<style scoped>\n",
              "    .dataframe tbody tr th:only-of-type {\n",
              "        vertical-align: middle;\n",
              "    }\n",
              "\n",
              "    .dataframe tbody tr th {\n",
              "        vertical-align: top;\n",
              "    }\n",
              "\n",
              "    .dataframe thead th {\n",
              "        text-align: right;\n",
              "    }\n",
              "</style>\n",
              "<table border=\"1\" class=\"dataframe\">\n",
              "  <thead>\n",
              "    <tr style=\"text-align: right;\">\n",
              "      <th></th>\n",
              "      <th>mpg</th>\n",
              "      <th>cylinders</th>\n",
              "      <th>displacement</th>\n",
              "      <th>horsepower</th>\n",
              "      <th>weight</th>\n",
              "      <th>acceleration</th>\n",
              "      <th>model_year</th>\n",
              "      <th>origin</th>\n",
              "      <th>name</th>\n",
              "    </tr>\n",
              "  </thead>\n",
              "  <tbody>\n",
              "    <tr>\n",
              "      <th>0</th>\n",
              "      <td>18.0</td>\n",
              "      <td>8</td>\n",
              "      <td>307.0</td>\n",
              "      <td>130.0</td>\n",
              "      <td>3504</td>\n",
              "      <td>12.0</td>\n",
              "      <td>70</td>\n",
              "      <td>usa</td>\n",
              "      <td>chevrolet chevelle malibu</td>\n",
              "    </tr>\n",
              "    <tr>\n",
              "      <th>1</th>\n",
              "      <td>15.0</td>\n",
              "      <td>8</td>\n",
              "      <td>350.0</td>\n",
              "      <td>165.0</td>\n",
              "      <td>3693</td>\n",
              "      <td>11.5</td>\n",
              "      <td>70</td>\n",
              "      <td>usa</td>\n",
              "      <td>buick skylark 320</td>\n",
              "    </tr>\n",
              "    <tr>\n",
              "      <th>2</th>\n",
              "      <td>18.0</td>\n",
              "      <td>8</td>\n",
              "      <td>318.0</td>\n",
              "      <td>150.0</td>\n",
              "      <td>3436</td>\n",
              "      <td>11.0</td>\n",
              "      <td>70</td>\n",
              "      <td>usa</td>\n",
              "      <td>plymouth satellite</td>\n",
              "    </tr>\n",
              "    <tr>\n",
              "      <th>3</th>\n",
              "      <td>16.0</td>\n",
              "      <td>8</td>\n",
              "      <td>304.0</td>\n",
              "      <td>150.0</td>\n",
              "      <td>3433</td>\n",
              "      <td>12.0</td>\n",
              "      <td>70</td>\n",
              "      <td>usa</td>\n",
              "      <td>amc rebel sst</td>\n",
              "    </tr>\n",
              "    <tr>\n",
              "      <th>4</th>\n",
              "      <td>17.0</td>\n",
              "      <td>8</td>\n",
              "      <td>302.0</td>\n",
              "      <td>140.0</td>\n",
              "      <td>3449</td>\n",
              "      <td>10.5</td>\n",
              "      <td>70</td>\n",
              "      <td>usa</td>\n",
              "      <td>ford torino</td>\n",
              "    </tr>\n",
              "  </tbody>\n",
              "</table>\n",
              "</div>\n",
              "    <div class=\"colab-df-buttons\">\n",
              "\n",
              "  <div class=\"colab-df-container\">\n",
              "    <button class=\"colab-df-convert\" onclick=\"convertToInteractive('df-94f8a953-6824-4a3d-93d3-2183dde26a6b')\"\n",
              "            title=\"Convert this dataframe to an interactive table.\"\n",
              "            style=\"display:none;\">\n",
              "\n",
              "  <svg xmlns=\"http://www.w3.org/2000/svg\" height=\"24px\" viewBox=\"0 -960 960 960\">\n",
              "    <path d=\"M120-120v-720h720v720H120Zm60-500h600v-160H180v160Zm220 220h160v-160H400v160Zm0 220h160v-160H400v160ZM180-400h160v-160H180v160Zm440 0h160v-160H620v160ZM180-180h160v-160H180v160Zm440 0h160v-160H620v160Z\"/>\n",
              "  </svg>\n",
              "    </button>\n",
              "\n",
              "  <style>\n",
              "    .colab-df-container {\n",
              "      display:flex;\n",
              "      gap: 12px;\n",
              "    }\n",
              "\n",
              "    .colab-df-convert {\n",
              "      background-color: #E8F0FE;\n",
              "      border: none;\n",
              "      border-radius: 50%;\n",
              "      cursor: pointer;\n",
              "      display: none;\n",
              "      fill: #1967D2;\n",
              "      height: 32px;\n",
              "      padding: 0 0 0 0;\n",
              "      width: 32px;\n",
              "    }\n",
              "\n",
              "    .colab-df-convert:hover {\n",
              "      background-color: #E2EBFA;\n",
              "      box-shadow: 0px 1px 2px rgba(60, 64, 67, 0.3), 0px 1px 3px 1px rgba(60, 64, 67, 0.15);\n",
              "      fill: #174EA6;\n",
              "    }\n",
              "\n",
              "    .colab-df-buttons div {\n",
              "      margin-bottom: 4px;\n",
              "    }\n",
              "\n",
              "    [theme=dark] .colab-df-convert {\n",
              "      background-color: #3B4455;\n",
              "      fill: #D2E3FC;\n",
              "    }\n",
              "\n",
              "    [theme=dark] .colab-df-convert:hover {\n",
              "      background-color: #434B5C;\n",
              "      box-shadow: 0px 1px 3px 1px rgba(0, 0, 0, 0.15);\n",
              "      filter: drop-shadow(0px 1px 2px rgba(0, 0, 0, 0.3));\n",
              "      fill: #FFFFFF;\n",
              "    }\n",
              "  </style>\n",
              "\n",
              "    <script>\n",
              "      const buttonEl =\n",
              "        document.querySelector('#df-94f8a953-6824-4a3d-93d3-2183dde26a6b button.colab-df-convert');\n",
              "      buttonEl.style.display =\n",
              "        google.colab.kernel.accessAllowed ? 'block' : 'none';\n",
              "\n",
              "      async function convertToInteractive(key) {\n",
              "        const element = document.querySelector('#df-94f8a953-6824-4a3d-93d3-2183dde26a6b');\n",
              "        const dataTable =\n",
              "          await google.colab.kernel.invokeFunction('convertToInteractive',\n",
              "                                                    [key], {});\n",
              "        if (!dataTable) return;\n",
              "\n",
              "        const docLinkHtml = 'Like what you see? Visit the ' +\n",
              "          '<a target=\"_blank\" href=https://colab.research.google.com/notebooks/data_table.ipynb>data table notebook</a>'\n",
              "          + ' to learn more about interactive tables.';\n",
              "        element.innerHTML = '';\n",
              "        dataTable['output_type'] = 'display_data';\n",
              "        await google.colab.output.renderOutput(dataTable, element);\n",
              "        const docLink = document.createElement('div');\n",
              "        docLink.innerHTML = docLinkHtml;\n",
              "        element.appendChild(docLink);\n",
              "      }\n",
              "    </script>\n",
              "  </div>\n",
              "\n",
              "\n",
              "<div id=\"df-2a27829d-9b78-4bec-8274-66c9a51f568a\">\n",
              "  <button class=\"colab-df-quickchart\" onclick=\"quickchart('df-2a27829d-9b78-4bec-8274-66c9a51f568a')\"\n",
              "            title=\"Suggest charts\"\n",
              "            style=\"display:none;\">\n",
              "\n",
              "<svg xmlns=\"http://www.w3.org/2000/svg\" height=\"24px\"viewBox=\"0 0 24 24\"\n",
              "     width=\"24px\">\n",
              "    <g>\n",
              "        <path d=\"M19 3H5c-1.1 0-2 .9-2 2v14c0 1.1.9 2 2 2h14c1.1 0 2-.9 2-2V5c0-1.1-.9-2-2-2zM9 17H7v-7h2v7zm4 0h-2V7h2v10zm4 0h-2v-4h2v4z\"/>\n",
              "    </g>\n",
              "</svg>\n",
              "  </button>\n",
              "\n",
              "<style>\n",
              "  .colab-df-quickchart {\n",
              "      --bg-color: #E8F0FE;\n",
              "      --fill-color: #1967D2;\n",
              "      --hover-bg-color: #E2EBFA;\n",
              "      --hover-fill-color: #174EA6;\n",
              "      --disabled-fill-color: #AAA;\n",
              "      --disabled-bg-color: #DDD;\n",
              "  }\n",
              "\n",
              "  [theme=dark] .colab-df-quickchart {\n",
              "      --bg-color: #3B4455;\n",
              "      --fill-color: #D2E3FC;\n",
              "      --hover-bg-color: #434B5C;\n",
              "      --hover-fill-color: #FFFFFF;\n",
              "      --disabled-bg-color: #3B4455;\n",
              "      --disabled-fill-color: #666;\n",
              "  }\n",
              "\n",
              "  .colab-df-quickchart {\n",
              "    background-color: var(--bg-color);\n",
              "    border: none;\n",
              "    border-radius: 50%;\n",
              "    cursor: pointer;\n",
              "    display: none;\n",
              "    fill: var(--fill-color);\n",
              "    height: 32px;\n",
              "    padding: 0;\n",
              "    width: 32px;\n",
              "  }\n",
              "\n",
              "  .colab-df-quickchart:hover {\n",
              "    background-color: var(--hover-bg-color);\n",
              "    box-shadow: 0 1px 2px rgba(60, 64, 67, 0.3), 0 1px 3px 1px rgba(60, 64, 67, 0.15);\n",
              "    fill: var(--button-hover-fill-color);\n",
              "  }\n",
              "\n",
              "  .colab-df-quickchart-complete:disabled,\n",
              "  .colab-df-quickchart-complete:disabled:hover {\n",
              "    background-color: var(--disabled-bg-color);\n",
              "    fill: var(--disabled-fill-color);\n",
              "    box-shadow: none;\n",
              "  }\n",
              "\n",
              "  .colab-df-spinner {\n",
              "    border: 2px solid var(--fill-color);\n",
              "    border-color: transparent;\n",
              "    border-bottom-color: var(--fill-color);\n",
              "    animation:\n",
              "      spin 1s steps(1) infinite;\n",
              "  }\n",
              "\n",
              "  @keyframes spin {\n",
              "    0% {\n",
              "      border-color: transparent;\n",
              "      border-bottom-color: var(--fill-color);\n",
              "      border-left-color: var(--fill-color);\n",
              "    }\n",
              "    20% {\n",
              "      border-color: transparent;\n",
              "      border-left-color: var(--fill-color);\n",
              "      border-top-color: var(--fill-color);\n",
              "    }\n",
              "    30% {\n",
              "      border-color: transparent;\n",
              "      border-left-color: var(--fill-color);\n",
              "      border-top-color: var(--fill-color);\n",
              "      border-right-color: var(--fill-color);\n",
              "    }\n",
              "    40% {\n",
              "      border-color: transparent;\n",
              "      border-right-color: var(--fill-color);\n",
              "      border-top-color: var(--fill-color);\n",
              "    }\n",
              "    60% {\n",
              "      border-color: transparent;\n",
              "      border-right-color: var(--fill-color);\n",
              "    }\n",
              "    80% {\n",
              "      border-color: transparent;\n",
              "      border-right-color: var(--fill-color);\n",
              "      border-bottom-color: var(--fill-color);\n",
              "    }\n",
              "    90% {\n",
              "      border-color: transparent;\n",
              "      border-bottom-color: var(--fill-color);\n",
              "    }\n",
              "  }\n",
              "</style>\n",
              "\n",
              "  <script>\n",
              "    async function quickchart(key) {\n",
              "      const quickchartButtonEl =\n",
              "        document.querySelector('#' + key + ' button');\n",
              "      quickchartButtonEl.disabled = true;  // To prevent multiple clicks.\n",
              "      quickchartButtonEl.classList.add('colab-df-spinner');\n",
              "      try {\n",
              "        const charts = await google.colab.kernel.invokeFunction(\n",
              "            'suggestCharts', [key], {});\n",
              "      } catch (error) {\n",
              "        console.error('Error during call to suggestCharts:', error);\n",
              "      }\n",
              "      quickchartButtonEl.classList.remove('colab-df-spinner');\n",
              "      quickchartButtonEl.classList.add('colab-df-quickchart-complete');\n",
              "    }\n",
              "    (() => {\n",
              "      let quickchartButtonEl =\n",
              "        document.querySelector('#df-2a27829d-9b78-4bec-8274-66c9a51f568a button');\n",
              "      quickchartButtonEl.style.display =\n",
              "        google.colab.kernel.accessAllowed ? 'block' : 'none';\n",
              "    })();\n",
              "  </script>\n",
              "</div>\n",
              "    </div>\n",
              "  </div>\n"
            ],
            "text/plain": [
              "    mpg  cylinders  displacement  horsepower  weight  acceleration  \\\n",
              "0  18.0          8         307.0       130.0    3504          12.0   \n",
              "1  15.0          8         350.0       165.0    3693          11.5   \n",
              "2  18.0          8         318.0       150.0    3436          11.0   \n",
              "3  16.0          8         304.0       150.0    3433          12.0   \n",
              "4  17.0          8         302.0       140.0    3449          10.5   \n",
              "\n",
              "   model_year origin                       name  \n",
              "0          70    usa  chevrolet chevelle malibu  \n",
              "1          70    usa          buick skylark 320  \n",
              "2          70    usa         plymouth satellite  \n",
              "3          70    usa              amc rebel sst  \n",
              "4          70    usa                ford torino  "
            ]
          },
          "execution_count": 4,
          "metadata": {},
          "output_type": "execute_result"
        }
      ],
      "source": [
        "df.head()"
      ]
    },
    {
      "cell_type": "code",
      "execution_count": 5,
      "metadata": {
        "colab": {
          "base_uri": "https://localhost:8080/"
        },
        "id": "_OBJfngzWf7y",
        "outputId": "67ec019c-2727-4425-d599-fc1b43020318"
      },
      "outputs": [
        {
          "data": {
            "text/plain": [
              "array(['usa', 'japan', 'europe'], dtype=object)"
            ]
          },
          "execution_count": 5,
          "metadata": {},
          "output_type": "execute_result"
        }
      ],
      "source": [
        "df.origin.unique()"
      ]
    },
    {
      "cell_type": "code",
      "execution_count": 6,
      "metadata": {
        "colab": {
          "base_uri": "https://localhost:8080/"
        },
        "id": "7momVJ955SiJ",
        "outputId": "8f2a796c-5dad-4bc9-a3c8-24fbb666d883"
      },
      "outputs": [
        {
          "data": {
            "text/plain": [
              "Index(['mpg', 'cylinders', 'displacement', 'horsepower', 'weight',\n",
              "       'acceleration', 'model_year', 'origin', 'name'],\n",
              "      dtype='object')"
            ]
          },
          "execution_count": 6,
          "metadata": {},
          "output_type": "execute_result"
        }
      ],
      "source": [
        "df.columns"
      ]
    },
    {
      "cell_type": "markdown",
      "metadata": {
        "id": "c6JIHE231WKC"
      },
      "source": [
        "Общая структура данных в наборе \"mpg\" следующая:\n",
        "\n",
        "- origin: производитель автомобиля.\n",
        "- name: модель автомобиля.\n",
        "- displacement: объем двигателя в литрах.\n",
        "- model_year: год выпуска автомобиля.\n",
        "- cylinders: количество цилиндров в двигателе.\n",
        "- mpg: расход топлива в городе (мили на галлон)."
      ]
    },
    {
      "cell_type": "code",
      "execution_count": 7,
      "metadata": {
        "id": "xEETXIvWzO4N"
      },
      "outputs": [],
      "source": [
        "# типы столбцов\n",
        "id = 'name' # столбец ID\n",
        "target = 'mpg' # столбец с целевой переменной\n",
        "features_int = [col for col in df.select_dtypes(exclude='object').columns if col != id and col !=target]\n",
        "features_cat = [col for col in df.select_dtypes(include='object').columns if col != id and col !=target]"
      ]
    },
    {
      "cell_type": "markdown",
      "metadata": {
        "id": "_PoJQKP_qg2y"
      },
      "source": [
        "# EDA"
      ]
    },
    {
      "cell_type": "code",
      "execution_count": 8,
      "metadata": {
        "colab": {
          "base_uri": "https://localhost:8080/"
        },
        "id": "RSUbNfio4iyq",
        "outputId": "a8480d90-eb4a-44e1-c346-610b61689b14"
      },
      "outputs": [
        {
          "data": {
            "text/plain": [
              "(398, 9)"
            ]
          },
          "execution_count": 8,
          "metadata": {},
          "output_type": "execute_result"
        }
      ],
      "source": [
        "df.shape"
      ]
    },
    {
      "cell_type": "code",
      "execution_count": 9,
      "metadata": {
        "colab": {
          "base_uri": "https://localhost:8080/"
        },
        "id": "9ej0nRoPqZ8i",
        "outputId": "97c14551-593b-4beb-fd57-9a279c681979"
      },
      "outputs": [
        {
          "data": {
            "text/plain": [
              "mpg             0\n",
              "cylinders       0\n",
              "displacement    0\n",
              "horsepower      6\n",
              "weight          0\n",
              "acceleration    0\n",
              "model_year      0\n",
              "origin          0\n",
              "name            0\n",
              "dtype: int64"
            ]
          },
          "execution_count": 9,
          "metadata": {},
          "output_type": "execute_result"
        }
      ],
      "source": [
        "df.isna().sum()"
      ]
    },
    {
      "cell_type": "markdown",
      "metadata": {
        "id": "iul2z4weqw_A"
      },
      "source": [
        "есть пропуски horsepower"
      ]
    },
    {
      "cell_type": "code",
      "execution_count": 10,
      "metadata": {
        "colab": {
          "base_uri": "https://localhost:8080/",
          "height": 394
        },
        "id": "gyYvsGAsqaD2",
        "outputId": "093b1500-f3cc-474d-f6c7-6f4f1e227e9c"
      },
      "outputs": [
        {
          "data": {
            "application/vnd.google.colaboratory.intrinsic+json": {
              "summary": "{\n  \"name\": \"df\",\n  \"rows\": 11,\n  \"fields\": [\n    {\n      \"column\": \"mpg\",\n      \"properties\": {\n        \"dtype\": \"number\",\n        \"std\": 133.37523833494922,\n        \"min\": 7.815984312565782,\n        \"max\": 398.0,\n        \"num_unique_values\": 8,\n        \"samples\": [\n          23.514572864321607,\n          23.0,\n          398.0\n        ],\n        \"semantic_type\": \"\",\n        \"description\": \"\"\n      }\n    },\n    {\n      \"column\": \"cylinders\",\n      \"properties\": {\n        \"dtype\": \"number\",\n        \"std\": 139.00710203015527,\n        \"min\": 1.7010042445332119,\n        \"max\": 398.0,\n        \"num_unique_values\": 6,\n        \"samples\": [\n          398.0,\n          5.454773869346734,\n          8.0\n        ],\n        \"semantic_type\": \"\",\n        \"description\": \"\"\n      }\n    },\n    {\n      \"column\": \"displacement\",\n      \"properties\": {\n        \"dtype\": \"number\",\n        \"std\": 143.57617465667641,\n        \"min\": 68.0,\n        \"max\": 455.0,\n        \"num_unique_values\": 8,\n        \"samples\": [\n          193.42587939698493,\n          148.5,\n          398.0\n        ],\n        \"semantic_type\": \"\",\n        \"description\": \"\"\n      }\n    },\n    {\n      \"column\": \"horsepower\",\n      \"properties\": {\n        \"dtype\": \"number\",\n        \"std\": 118.66115898346133,\n        \"min\": 38.49115993282849,\n        \"max\": 392.0,\n        \"num_unique_values\": 8,\n        \"samples\": [\n          104.46938775510205,\n          93.5,\n          392.0\n        ],\n        \"semantic_type\": \"\",\n        \"description\": \"\"\n      }\n    },\n    {\n      \"column\": \"weight\",\n      \"properties\": {\n        \"dtype\": \"number\",\n        \"std\": 1535.5522437115258,\n        \"min\": 398.0,\n        \"max\": 5140.0,\n        \"num_unique_values\": 8,\n        \"samples\": [\n          2970.424623115578,\n          2803.5,\n          398.0\n        ],\n        \"semantic_type\": \"\",\n        \"description\": \"\"\n      }\n    },\n    {\n      \"column\": \"acceleration\",\n      \"properties\": {\n        \"dtype\": \"number\",\n        \"std\": 135.93788360342717,\n        \"min\": 2.757688929812676,\n        \"max\": 398.0,\n        \"num_unique_values\": 8,\n        \"samples\": [\n          15.568090452261307,\n          15.5,\n          398.0\n        ],\n        \"semantic_type\": \"\",\n        \"description\": \"\"\n      }\n    },\n    {\n      \"column\": \"model_year\",\n      \"properties\": {\n        \"dtype\": \"number\",\n        \"std\": 120.24225119423292,\n        \"min\": 3.697626646732623,\n        \"max\": 398.0,\n        \"num_unique_values\": 8,\n        \"samples\": [\n          76.01005025125629,\n          76.0,\n          398.0\n        ],\n        \"semantic_type\": \"\",\n        \"description\": \"\"\n      }\n    },\n    {\n      \"column\": \"origin\",\n      \"properties\": {\n        \"dtype\": \"category\",\n        \"num_unique_values\": 4,\n        \"samples\": [\n          3,\n          \"249\",\n          \"398\"\n        ],\n        \"semantic_type\": \"\",\n        \"description\": \"\"\n      }\n    },\n    {\n      \"column\": \"name\",\n      \"properties\": {\n        \"dtype\": \"category\",\n        \"num_unique_values\": 4,\n        \"samples\": [\n          305,\n          \"6\",\n          \"398\"\n        ],\n        \"semantic_type\": \"\",\n        \"description\": \"\"\n      }\n    }\n  ]\n}",
              "type": "dataframe"
            },
            "text/html": [
              "\n",
              "  <div id=\"df-7cbd8d47-004c-457c-9cd3-bb6f3cf366b7\" class=\"colab-df-container\">\n",
              "    <div>\n",
              "<style scoped>\n",
              "    .dataframe tbody tr th:only-of-type {\n",
              "        vertical-align: middle;\n",
              "    }\n",
              "\n",
              "    .dataframe tbody tr th {\n",
              "        vertical-align: top;\n",
              "    }\n",
              "\n",
              "    .dataframe thead th {\n",
              "        text-align: right;\n",
              "    }\n",
              "</style>\n",
              "<table border=\"1\" class=\"dataframe\">\n",
              "  <thead>\n",
              "    <tr style=\"text-align: right;\">\n",
              "      <th></th>\n",
              "      <th>mpg</th>\n",
              "      <th>cylinders</th>\n",
              "      <th>displacement</th>\n",
              "      <th>horsepower</th>\n",
              "      <th>weight</th>\n",
              "      <th>acceleration</th>\n",
              "      <th>model_year</th>\n",
              "      <th>origin</th>\n",
              "      <th>name</th>\n",
              "    </tr>\n",
              "  </thead>\n",
              "  <tbody>\n",
              "    <tr>\n",
              "      <th>count</th>\n",
              "      <td>398.000000</td>\n",
              "      <td>398.000000</td>\n",
              "      <td>398.000000</td>\n",
              "      <td>392.000000</td>\n",
              "      <td>398.000000</td>\n",
              "      <td>398.000000</td>\n",
              "      <td>398.000000</td>\n",
              "      <td>398</td>\n",
              "      <td>398</td>\n",
              "    </tr>\n",
              "    <tr>\n",
              "      <th>unique</th>\n",
              "      <td>NaN</td>\n",
              "      <td>NaN</td>\n",
              "      <td>NaN</td>\n",
              "      <td>NaN</td>\n",
              "      <td>NaN</td>\n",
              "      <td>NaN</td>\n",
              "      <td>NaN</td>\n",
              "      <td>3</td>\n",
              "      <td>305</td>\n",
              "    </tr>\n",
              "    <tr>\n",
              "      <th>top</th>\n",
              "      <td>NaN</td>\n",
              "      <td>NaN</td>\n",
              "      <td>NaN</td>\n",
              "      <td>NaN</td>\n",
              "      <td>NaN</td>\n",
              "      <td>NaN</td>\n",
              "      <td>NaN</td>\n",
              "      <td>usa</td>\n",
              "      <td>ford pinto</td>\n",
              "    </tr>\n",
              "    <tr>\n",
              "      <th>freq</th>\n",
              "      <td>NaN</td>\n",
              "      <td>NaN</td>\n",
              "      <td>NaN</td>\n",
              "      <td>NaN</td>\n",
              "      <td>NaN</td>\n",
              "      <td>NaN</td>\n",
              "      <td>NaN</td>\n",
              "      <td>249</td>\n",
              "      <td>6</td>\n",
              "    </tr>\n",
              "    <tr>\n",
              "      <th>mean</th>\n",
              "      <td>23.514573</td>\n",
              "      <td>5.454774</td>\n",
              "      <td>193.425879</td>\n",
              "      <td>104.469388</td>\n",
              "      <td>2970.424623</td>\n",
              "      <td>15.568090</td>\n",
              "      <td>76.010050</td>\n",
              "      <td>NaN</td>\n",
              "      <td>NaN</td>\n",
              "    </tr>\n",
              "    <tr>\n",
              "      <th>std</th>\n",
              "      <td>7.815984</td>\n",
              "      <td>1.701004</td>\n",
              "      <td>104.269838</td>\n",
              "      <td>38.491160</td>\n",
              "      <td>846.841774</td>\n",
              "      <td>2.757689</td>\n",
              "      <td>3.697627</td>\n",
              "      <td>NaN</td>\n",
              "      <td>NaN</td>\n",
              "    </tr>\n",
              "    <tr>\n",
              "      <th>min</th>\n",
              "      <td>9.000000</td>\n",
              "      <td>3.000000</td>\n",
              "      <td>68.000000</td>\n",
              "      <td>46.000000</td>\n",
              "      <td>1613.000000</td>\n",
              "      <td>8.000000</td>\n",
              "      <td>70.000000</td>\n",
              "      <td>NaN</td>\n",
              "      <td>NaN</td>\n",
              "    </tr>\n",
              "    <tr>\n",
              "      <th>25%</th>\n",
              "      <td>17.500000</td>\n",
              "      <td>4.000000</td>\n",
              "      <td>104.250000</td>\n",
              "      <td>75.000000</td>\n",
              "      <td>2223.750000</td>\n",
              "      <td>13.825000</td>\n",
              "      <td>73.000000</td>\n",
              "      <td>NaN</td>\n",
              "      <td>NaN</td>\n",
              "    </tr>\n",
              "    <tr>\n",
              "      <th>50%</th>\n",
              "      <td>23.000000</td>\n",
              "      <td>4.000000</td>\n",
              "      <td>148.500000</td>\n",
              "      <td>93.500000</td>\n",
              "      <td>2803.500000</td>\n",
              "      <td>15.500000</td>\n",
              "      <td>76.000000</td>\n",
              "      <td>NaN</td>\n",
              "      <td>NaN</td>\n",
              "    </tr>\n",
              "    <tr>\n",
              "      <th>75%</th>\n",
              "      <td>29.000000</td>\n",
              "      <td>8.000000</td>\n",
              "      <td>262.000000</td>\n",
              "      <td>126.000000</td>\n",
              "      <td>3608.000000</td>\n",
              "      <td>17.175000</td>\n",
              "      <td>79.000000</td>\n",
              "      <td>NaN</td>\n",
              "      <td>NaN</td>\n",
              "    </tr>\n",
              "    <tr>\n",
              "      <th>max</th>\n",
              "      <td>46.600000</td>\n",
              "      <td>8.000000</td>\n",
              "      <td>455.000000</td>\n",
              "      <td>230.000000</td>\n",
              "      <td>5140.000000</td>\n",
              "      <td>24.800000</td>\n",
              "      <td>82.000000</td>\n",
              "      <td>NaN</td>\n",
              "      <td>NaN</td>\n",
              "    </tr>\n",
              "  </tbody>\n",
              "</table>\n",
              "</div>\n",
              "    <div class=\"colab-df-buttons\">\n",
              "\n",
              "  <div class=\"colab-df-container\">\n",
              "    <button class=\"colab-df-convert\" onclick=\"convertToInteractive('df-7cbd8d47-004c-457c-9cd3-bb6f3cf366b7')\"\n",
              "            title=\"Convert this dataframe to an interactive table.\"\n",
              "            style=\"display:none;\">\n",
              "\n",
              "  <svg xmlns=\"http://www.w3.org/2000/svg\" height=\"24px\" viewBox=\"0 -960 960 960\">\n",
              "    <path d=\"M120-120v-720h720v720H120Zm60-500h600v-160H180v160Zm220 220h160v-160H400v160Zm0 220h160v-160H400v160ZM180-400h160v-160H180v160Zm440 0h160v-160H620v160ZM180-180h160v-160H180v160Zm440 0h160v-160H620v160Z\"/>\n",
              "  </svg>\n",
              "    </button>\n",
              "\n",
              "  <style>\n",
              "    .colab-df-container {\n",
              "      display:flex;\n",
              "      gap: 12px;\n",
              "    }\n",
              "\n",
              "    .colab-df-convert {\n",
              "      background-color: #E8F0FE;\n",
              "      border: none;\n",
              "      border-radius: 50%;\n",
              "      cursor: pointer;\n",
              "      display: none;\n",
              "      fill: #1967D2;\n",
              "      height: 32px;\n",
              "      padding: 0 0 0 0;\n",
              "      width: 32px;\n",
              "    }\n",
              "\n",
              "    .colab-df-convert:hover {\n",
              "      background-color: #E2EBFA;\n",
              "      box-shadow: 0px 1px 2px rgba(60, 64, 67, 0.3), 0px 1px 3px 1px rgba(60, 64, 67, 0.15);\n",
              "      fill: #174EA6;\n",
              "    }\n",
              "\n",
              "    .colab-df-buttons div {\n",
              "      margin-bottom: 4px;\n",
              "    }\n",
              "\n",
              "    [theme=dark] .colab-df-convert {\n",
              "      background-color: #3B4455;\n",
              "      fill: #D2E3FC;\n",
              "    }\n",
              "\n",
              "    [theme=dark] .colab-df-convert:hover {\n",
              "      background-color: #434B5C;\n",
              "      box-shadow: 0px 1px 3px 1px rgba(0, 0, 0, 0.15);\n",
              "      filter: drop-shadow(0px 1px 2px rgba(0, 0, 0, 0.3));\n",
              "      fill: #FFFFFF;\n",
              "    }\n",
              "  </style>\n",
              "\n",
              "    <script>\n",
              "      const buttonEl =\n",
              "        document.querySelector('#df-7cbd8d47-004c-457c-9cd3-bb6f3cf366b7 button.colab-df-convert');\n",
              "      buttonEl.style.display =\n",
              "        google.colab.kernel.accessAllowed ? 'block' : 'none';\n",
              "\n",
              "      async function convertToInteractive(key) {\n",
              "        const element = document.querySelector('#df-7cbd8d47-004c-457c-9cd3-bb6f3cf366b7');\n",
              "        const dataTable =\n",
              "          await google.colab.kernel.invokeFunction('convertToInteractive',\n",
              "                                                    [key], {});\n",
              "        if (!dataTable) return;\n",
              "\n",
              "        const docLinkHtml = 'Like what you see? Visit the ' +\n",
              "          '<a target=\"_blank\" href=https://colab.research.google.com/notebooks/data_table.ipynb>data table notebook</a>'\n",
              "          + ' to learn more about interactive tables.';\n",
              "        element.innerHTML = '';\n",
              "        dataTable['output_type'] = 'display_data';\n",
              "        await google.colab.output.renderOutput(dataTable, element);\n",
              "        const docLink = document.createElement('div');\n",
              "        docLink.innerHTML = docLinkHtml;\n",
              "        element.appendChild(docLink);\n",
              "      }\n",
              "    </script>\n",
              "  </div>\n",
              "\n",
              "\n",
              "<div id=\"df-79220b7a-0627-42b4-99c1-7d205dfec220\">\n",
              "  <button class=\"colab-df-quickchart\" onclick=\"quickchart('df-79220b7a-0627-42b4-99c1-7d205dfec220')\"\n",
              "            title=\"Suggest charts\"\n",
              "            style=\"display:none;\">\n",
              "\n",
              "<svg xmlns=\"http://www.w3.org/2000/svg\" height=\"24px\"viewBox=\"0 0 24 24\"\n",
              "     width=\"24px\">\n",
              "    <g>\n",
              "        <path d=\"M19 3H5c-1.1 0-2 .9-2 2v14c0 1.1.9 2 2 2h14c1.1 0 2-.9 2-2V5c0-1.1-.9-2-2-2zM9 17H7v-7h2v7zm4 0h-2V7h2v10zm4 0h-2v-4h2v4z\"/>\n",
              "    </g>\n",
              "</svg>\n",
              "  </button>\n",
              "\n",
              "<style>\n",
              "  .colab-df-quickchart {\n",
              "      --bg-color: #E8F0FE;\n",
              "      --fill-color: #1967D2;\n",
              "      --hover-bg-color: #E2EBFA;\n",
              "      --hover-fill-color: #174EA6;\n",
              "      --disabled-fill-color: #AAA;\n",
              "      --disabled-bg-color: #DDD;\n",
              "  }\n",
              "\n",
              "  [theme=dark] .colab-df-quickchart {\n",
              "      --bg-color: #3B4455;\n",
              "      --fill-color: #D2E3FC;\n",
              "      --hover-bg-color: #434B5C;\n",
              "      --hover-fill-color: #FFFFFF;\n",
              "      --disabled-bg-color: #3B4455;\n",
              "      --disabled-fill-color: #666;\n",
              "  }\n",
              "\n",
              "  .colab-df-quickchart {\n",
              "    background-color: var(--bg-color);\n",
              "    border: none;\n",
              "    border-radius: 50%;\n",
              "    cursor: pointer;\n",
              "    display: none;\n",
              "    fill: var(--fill-color);\n",
              "    height: 32px;\n",
              "    padding: 0;\n",
              "    width: 32px;\n",
              "  }\n",
              "\n",
              "  .colab-df-quickchart:hover {\n",
              "    background-color: var(--hover-bg-color);\n",
              "    box-shadow: 0 1px 2px rgba(60, 64, 67, 0.3), 0 1px 3px 1px rgba(60, 64, 67, 0.15);\n",
              "    fill: var(--button-hover-fill-color);\n",
              "  }\n",
              "\n",
              "  .colab-df-quickchart-complete:disabled,\n",
              "  .colab-df-quickchart-complete:disabled:hover {\n",
              "    background-color: var(--disabled-bg-color);\n",
              "    fill: var(--disabled-fill-color);\n",
              "    box-shadow: none;\n",
              "  }\n",
              "\n",
              "  .colab-df-spinner {\n",
              "    border: 2px solid var(--fill-color);\n",
              "    border-color: transparent;\n",
              "    border-bottom-color: var(--fill-color);\n",
              "    animation:\n",
              "      spin 1s steps(1) infinite;\n",
              "  }\n",
              "\n",
              "  @keyframes spin {\n",
              "    0% {\n",
              "      border-color: transparent;\n",
              "      border-bottom-color: var(--fill-color);\n",
              "      border-left-color: var(--fill-color);\n",
              "    }\n",
              "    20% {\n",
              "      border-color: transparent;\n",
              "      border-left-color: var(--fill-color);\n",
              "      border-top-color: var(--fill-color);\n",
              "    }\n",
              "    30% {\n",
              "      border-color: transparent;\n",
              "      border-left-color: var(--fill-color);\n",
              "      border-top-color: var(--fill-color);\n",
              "      border-right-color: var(--fill-color);\n",
              "    }\n",
              "    40% {\n",
              "      border-color: transparent;\n",
              "      border-right-color: var(--fill-color);\n",
              "      border-top-color: var(--fill-color);\n",
              "    }\n",
              "    60% {\n",
              "      border-color: transparent;\n",
              "      border-right-color: var(--fill-color);\n",
              "    }\n",
              "    80% {\n",
              "      border-color: transparent;\n",
              "      border-right-color: var(--fill-color);\n",
              "      border-bottom-color: var(--fill-color);\n",
              "    }\n",
              "    90% {\n",
              "      border-color: transparent;\n",
              "      border-bottom-color: var(--fill-color);\n",
              "    }\n",
              "  }\n",
              "</style>\n",
              "\n",
              "  <script>\n",
              "    async function quickchart(key) {\n",
              "      const quickchartButtonEl =\n",
              "        document.querySelector('#' + key + ' button');\n",
              "      quickchartButtonEl.disabled = true;  // To prevent multiple clicks.\n",
              "      quickchartButtonEl.classList.add('colab-df-spinner');\n",
              "      try {\n",
              "        const charts = await google.colab.kernel.invokeFunction(\n",
              "            'suggestCharts', [key], {});\n",
              "      } catch (error) {\n",
              "        console.error('Error during call to suggestCharts:', error);\n",
              "      }\n",
              "      quickchartButtonEl.classList.remove('colab-df-spinner');\n",
              "      quickchartButtonEl.classList.add('colab-df-quickchart-complete');\n",
              "    }\n",
              "    (() => {\n",
              "      let quickchartButtonEl =\n",
              "        document.querySelector('#df-79220b7a-0627-42b4-99c1-7d205dfec220 button');\n",
              "      quickchartButtonEl.style.display =\n",
              "        google.colab.kernel.accessAllowed ? 'block' : 'none';\n",
              "    })();\n",
              "  </script>\n",
              "</div>\n",
              "    </div>\n",
              "  </div>\n"
            ],
            "text/plain": [
              "               mpg   cylinders  displacement  horsepower       weight  \\\n",
              "count   398.000000  398.000000    398.000000  392.000000   398.000000   \n",
              "unique         NaN         NaN           NaN         NaN          NaN   \n",
              "top            NaN         NaN           NaN         NaN          NaN   \n",
              "freq           NaN         NaN           NaN         NaN          NaN   \n",
              "mean     23.514573    5.454774    193.425879  104.469388  2970.424623   \n",
              "std       7.815984    1.701004    104.269838   38.491160   846.841774   \n",
              "min       9.000000    3.000000     68.000000   46.000000  1613.000000   \n",
              "25%      17.500000    4.000000    104.250000   75.000000  2223.750000   \n",
              "50%      23.000000    4.000000    148.500000   93.500000  2803.500000   \n",
              "75%      29.000000    8.000000    262.000000  126.000000  3608.000000   \n",
              "max      46.600000    8.000000    455.000000  230.000000  5140.000000   \n",
              "\n",
              "        acceleration  model_year origin        name  \n",
              "count     398.000000  398.000000    398         398  \n",
              "unique           NaN         NaN      3         305  \n",
              "top              NaN         NaN    usa  ford pinto  \n",
              "freq             NaN         NaN    249           6  \n",
              "mean       15.568090   76.010050    NaN         NaN  \n",
              "std         2.757689    3.697627    NaN         NaN  \n",
              "min         8.000000   70.000000    NaN         NaN  \n",
              "25%        13.825000   73.000000    NaN         NaN  \n",
              "50%        15.500000   76.000000    NaN         NaN  \n",
              "75%        17.175000   79.000000    NaN         NaN  \n",
              "max        24.800000   82.000000    NaN         NaN  "
            ]
          },
          "execution_count": 10,
          "metadata": {},
          "output_type": "execute_result"
        }
      ],
      "source": [
        "df.describe(include='all')"
      ]
    },
    {
      "cell_type": "markdown",
      "metadata": {
        "id": "4KT8491prZqH"
      },
      "source": [
        "Пропуски заполним самым частым значением с помощью SimpleImputer.\n",
        "\n",
        "Номинальный признак origin закодируем с помощью OneHotEncoder.\n",
        "\n",
        "Количественные признаки масштабируем для моделей, для которых это необходимо."
      ]
    },
    {
      "cell_type": "markdown",
      "metadata": {
        "id": "aRsdjm8q1TeG"
      },
      "source": [
        "# Делим данные"
      ]
    },
    {
      "cell_type": "code",
      "execution_count": 11,
      "metadata": {
        "id": "fEoCxL6x3IiB"
      },
      "outputs": [],
      "source": [
        "# df.dropna(inplace=True)"
      ]
    },
    {
      "cell_type": "code",
      "execution_count": 12,
      "metadata": {
        "colab": {
          "base_uri": "https://localhost:8080/"
        },
        "id": "SWIoZdccx6Ii",
        "outputId": "f8fd4839-9e69-488d-8f23-bbfb04db72f7"
      },
      "outputs": [
        {
          "data": {
            "text/plain": [
              "((318, 7), (80, 7))"
            ]
          },
          "execution_count": 12,
          "metadata": {},
          "output_type": "execute_result"
        }
      ],
      "source": [
        "X_train, X_test, y_train, y_test = train_test_split(df.drop([target, id], axis=1), df[target], test_size=0.2, random_state=42)\n",
        "X_train.shape, X_test.shape"
      ]
    },
    {
      "cell_type": "markdown",
      "metadata": {
        "id": "2XoR2FLaq5cv"
      },
      "source": [
        "# Моделирование"
      ]
    },
    {
      "cell_type": "markdown",
      "metadata": {
        "id": "DJ5lq_0oTeP1"
      },
      "source": [
        "## подготовка pipeline"
      ]
    },
    {
      "cell_type": "code",
      "execution_count": 13,
      "metadata": {
        "colab": {
          "base_uri": "https://localhost:8080/"
        },
        "id": "yczAXCCOq-R0",
        "outputId": "8dcf4188-1c78-4ff1-97b1-a7c34469e67b"
      },
      "outputs": [
        {
          "data": {
            "text/plain": [
              "['cylinders',\n",
              " 'displacement',\n",
              " 'horsepower',\n",
              " 'weight',\n",
              " 'acceleration',\n",
              " 'model_year']"
            ]
          },
          "execution_count": 13,
          "metadata": {},
          "output_type": "execute_result"
        }
      ],
      "source": [
        "features_int"
      ]
    },
    {
      "cell_type": "code",
      "execution_count": 14,
      "metadata": {
        "colab": {
          "base_uri": "https://localhost:8080/"
        },
        "id": "by7xQ5B2q-U6",
        "outputId": "4b0eaa0f-4dbd-42cb-a046-152fdd9b3ff2"
      },
      "outputs": [
        {
          "data": {
            "text/plain": [
              "['origin']"
            ]
          },
          "execution_count": 14,
          "metadata": {},
          "output_type": "execute_result"
        }
      ],
      "source": [
        "features_cat"
      ]
    },
    {
      "cell_type": "code",
      "execution_count": 15,
      "metadata": {
        "id": "EI0ZFUZEwC2Y"
      },
      "outputs": [],
      "source": [
        "# SimpleImputer + OHE\n",
        "ohe_pipe = Pipeline(\n",
        "    [\n",
        "        (\n",
        "            'imputer',\n",
        "            SimpleImputer(missing_values=np.nan, strategy='most_frequent')\n",
        "        ),\n",
        "        (\n",
        "            'ohe',\n",
        "            OneHotEncoder(drop='first', handle_unknown='ignore', sparse=False)\n",
        "        )\n",
        "    ]\n",
        ")"
      ]
    },
    {
      "cell_type": "code",
      "execution_count": 16,
      "metadata": {
        "id": "Atayiw7uxBPT"
      },
      "outputs": [],
      "source": [
        "num_pipe = Pipeline(\n",
        "    [\n",
        "        (\n",
        "            'imputer',\n",
        "            SimpleImputer(missing_values=np.nan, strategy='most_frequent')\n",
        "        ),\n",
        "        (\n",
        "            'scaler',\n",
        "            StandardScaler()\n",
        "        )\n",
        "    ]\n",
        ")"
      ]
    },
    {
      "cell_type": "code",
      "execution_count": 17,
      "metadata": {
        "id": "UnebJlMPwn3O"
      },
      "outputs": [],
      "source": [
        "data_preprocessor = ColumnTransformer(\n",
        "    [\n",
        "        ('ohe', ohe_pipe, features_cat),\n",
        "        ('num', num_pipe, features_int),\n",
        "    ],\n",
        "    remainder='passthrough'\n",
        ")"
      ]
    },
    {
      "cell_type": "code",
      "execution_count": 18,
      "metadata": {
        "id": "dDxDhYSRwn6b"
      },
      "outputs": [],
      "source": [
        "# итоговый пайплайн: подготовка данных и модель\n",
        "pipe_final = Pipeline(\n",
        "    [\n",
        "        ('preprocessor', data_preprocessor),\n",
        "        ('models', DecisionTreeRegressor(random_state=12345))\n",
        "    ]\n",
        ")"
      ]
    },
    {
      "cell_type": "code",
      "execution_count": 19,
      "metadata": {
        "colab": {
          "base_uri": "https://localhost:8080/",
          "height": 227
        },
        "id": "2J1aR2Zm3OoY",
        "outputId": "cf03bbbf-000a-47de-e5fc-70a751f6b880"
      },
      "outputs": [
        {
          "data": {
            "text/html": [
              "<style>#sk-container-id-1 {color: black;background-color: white;}#sk-container-id-1 pre{padding: 0;}#sk-container-id-1 div.sk-toggleable {background-color: white;}#sk-container-id-1 label.sk-toggleable__label {cursor: pointer;display: block;width: 100%;margin-bottom: 0;padding: 0.3em;box-sizing: border-box;text-align: center;}#sk-container-id-1 label.sk-toggleable__label-arrow:before {content: \"▸\";float: left;margin-right: 0.25em;color: #696969;}#sk-container-id-1 label.sk-toggleable__label-arrow:hover:before {color: black;}#sk-container-id-1 div.sk-estimator:hover label.sk-toggleable__label-arrow:before {color: black;}#sk-container-id-1 div.sk-toggleable__content {max-height: 0;max-width: 0;overflow: hidden;text-align: left;background-color: #f0f8ff;}#sk-container-id-1 div.sk-toggleable__content pre {margin: 0.2em;color: black;border-radius: 0.25em;background-color: #f0f8ff;}#sk-container-id-1 input.sk-toggleable__control:checked~div.sk-toggleable__content {max-height: 200px;max-width: 100%;overflow: auto;}#sk-container-id-1 input.sk-toggleable__control:checked~label.sk-toggleable__label-arrow:before {content: \"▾\";}#sk-container-id-1 div.sk-estimator input.sk-toggleable__control:checked~label.sk-toggleable__label {background-color: #d4ebff;}#sk-container-id-1 div.sk-label input.sk-toggleable__control:checked~label.sk-toggleable__label {background-color: #d4ebff;}#sk-container-id-1 input.sk-hidden--visually {border: 0;clip: rect(1px 1px 1px 1px);clip: rect(1px, 1px, 1px, 1px);height: 1px;margin: -1px;overflow: hidden;padding: 0;position: absolute;width: 1px;}#sk-container-id-1 div.sk-estimator {font-family: monospace;background-color: #f0f8ff;border: 1px dotted black;border-radius: 0.25em;box-sizing: border-box;margin-bottom: 0.5em;}#sk-container-id-1 div.sk-estimator:hover {background-color: #d4ebff;}#sk-container-id-1 div.sk-parallel-item::after {content: \"\";width: 100%;border-bottom: 1px solid gray;flex-grow: 1;}#sk-container-id-1 div.sk-label:hover label.sk-toggleable__label {background-color: #d4ebff;}#sk-container-id-1 div.sk-serial::before {content: \"\";position: absolute;border-left: 1px solid gray;box-sizing: border-box;top: 0;bottom: 0;left: 50%;z-index: 0;}#sk-container-id-1 div.sk-serial {display: flex;flex-direction: column;align-items: center;background-color: white;padding-right: 0.2em;padding-left: 0.2em;position: relative;}#sk-container-id-1 div.sk-item {position: relative;z-index: 1;}#sk-container-id-1 div.sk-parallel {display: flex;align-items: stretch;justify-content: center;background-color: white;position: relative;}#sk-container-id-1 div.sk-item::before, #sk-container-id-1 div.sk-parallel-item::before {content: \"\";position: absolute;border-left: 1px solid gray;box-sizing: border-box;top: 0;bottom: 0;left: 50%;z-index: -1;}#sk-container-id-1 div.sk-parallel-item {display: flex;flex-direction: column;z-index: 1;position: relative;background-color: white;}#sk-container-id-1 div.sk-parallel-item:first-child::after {align-self: flex-end;width: 50%;}#sk-container-id-1 div.sk-parallel-item:last-child::after {align-self: flex-start;width: 50%;}#sk-container-id-1 div.sk-parallel-item:only-child::after {width: 0;}#sk-container-id-1 div.sk-dashed-wrapped {border: 1px dashed gray;margin: 0 0.4em 0.5em 0.4em;box-sizing: border-box;padding-bottom: 0.4em;background-color: white;}#sk-container-id-1 div.sk-label label {font-family: monospace;font-weight: bold;display: inline-block;line-height: 1.2em;}#sk-container-id-1 div.sk-label-container {text-align: center;}#sk-container-id-1 div.sk-container {/* jupyter's `normalize.less` sets `[hidden] { display: none; }` but bootstrap.min.css set `[hidden] { display: none !important; }` so we also need the `!important` here to be able to override the default hidden behavior on the sphinx rendered scikit-learn.org. See: https://github.com/scikit-learn/scikit-learn/issues/21755 */display: inline-block !important;position: relative;}#sk-container-id-1 div.sk-text-repr-fallback {display: none;}</style><div id=\"sk-container-id-1\" class=\"sk-top-container\"><div class=\"sk-text-repr-fallback\"><pre>Pipeline(steps=[(&#x27;preprocessor&#x27;,\n",
              "                 ColumnTransformer(remainder=&#x27;passthrough&#x27;,\n",
              "                                   transformers=[(&#x27;ohe&#x27;,\n",
              "                                                  Pipeline(steps=[(&#x27;imputer&#x27;,\n",
              "                                                                   SimpleImputer(strategy=&#x27;most_frequent&#x27;)),\n",
              "                                                                  (&#x27;ohe&#x27;,\n",
              "                                                                   OneHotEncoder(drop=&#x27;first&#x27;,\n",
              "                                                                                 handle_unknown=&#x27;ignore&#x27;,\n",
              "                                                                                 sparse=False))]),\n",
              "                                                  [&#x27;origin&#x27;]),\n",
              "                                                 (&#x27;num&#x27;,\n",
              "                                                  Pipeline(steps=[(&#x27;imputer&#x27;,\n",
              "                                                                   SimpleImputer(strategy=&#x27;most_frequent&#x27;)),\n",
              "                                                                  (&#x27;scaler&#x27;,\n",
              "                                                                   StandardScaler())]),\n",
              "                                                  [&#x27;cylinders&#x27;, &#x27;displacement&#x27;,\n",
              "                                                   &#x27;horsepower&#x27;, &#x27;weight&#x27;,\n",
              "                                                   &#x27;acceleration&#x27;,\n",
              "                                                   &#x27;model_year&#x27;])])),\n",
              "                (&#x27;models&#x27;, DecisionTreeRegressor(random_state=12345))])</pre><b>In a Jupyter environment, please rerun this cell to show the HTML representation or trust the notebook. <br />On GitHub, the HTML representation is unable to render, please try loading this page with nbviewer.org.</b></div><div class=\"sk-container\" hidden><div class=\"sk-item sk-dashed-wrapped\"><div class=\"sk-label-container\"><div class=\"sk-label sk-toggleable\"><input class=\"sk-toggleable__control sk-hidden--visually\" id=\"sk-estimator-id-1\" type=\"checkbox\" ><label for=\"sk-estimator-id-1\" class=\"sk-toggleable__label sk-toggleable__label-arrow\">Pipeline</label><div class=\"sk-toggleable__content\"><pre>Pipeline(steps=[(&#x27;preprocessor&#x27;,\n",
              "                 ColumnTransformer(remainder=&#x27;passthrough&#x27;,\n",
              "                                   transformers=[(&#x27;ohe&#x27;,\n",
              "                                                  Pipeline(steps=[(&#x27;imputer&#x27;,\n",
              "                                                                   SimpleImputer(strategy=&#x27;most_frequent&#x27;)),\n",
              "                                                                  (&#x27;ohe&#x27;,\n",
              "                                                                   OneHotEncoder(drop=&#x27;first&#x27;,\n",
              "                                                                                 handle_unknown=&#x27;ignore&#x27;,\n",
              "                                                                                 sparse=False))]),\n",
              "                                                  [&#x27;origin&#x27;]),\n",
              "                                                 (&#x27;num&#x27;,\n",
              "                                                  Pipeline(steps=[(&#x27;imputer&#x27;,\n",
              "                                                                   SimpleImputer(strategy=&#x27;most_frequent&#x27;)),\n",
              "                                                                  (&#x27;scaler&#x27;,\n",
              "                                                                   StandardScaler())]),\n",
              "                                                  [&#x27;cylinders&#x27;, &#x27;displacement&#x27;,\n",
              "                                                   &#x27;horsepower&#x27;, &#x27;weight&#x27;,\n",
              "                                                   &#x27;acceleration&#x27;,\n",
              "                                                   &#x27;model_year&#x27;])])),\n",
              "                (&#x27;models&#x27;, DecisionTreeRegressor(random_state=12345))])</pre></div></div></div><div class=\"sk-serial\"><div class=\"sk-item sk-dashed-wrapped\"><div class=\"sk-label-container\"><div class=\"sk-label sk-toggleable\"><input class=\"sk-toggleable__control sk-hidden--visually\" id=\"sk-estimator-id-2\" type=\"checkbox\" ><label for=\"sk-estimator-id-2\" class=\"sk-toggleable__label sk-toggleable__label-arrow\">preprocessor: ColumnTransformer</label><div class=\"sk-toggleable__content\"><pre>ColumnTransformer(remainder=&#x27;passthrough&#x27;,\n",
              "                  transformers=[(&#x27;ohe&#x27;,\n",
              "                                 Pipeline(steps=[(&#x27;imputer&#x27;,\n",
              "                                                  SimpleImputer(strategy=&#x27;most_frequent&#x27;)),\n",
              "                                                 (&#x27;ohe&#x27;,\n",
              "                                                  OneHotEncoder(drop=&#x27;first&#x27;,\n",
              "                                                                handle_unknown=&#x27;ignore&#x27;,\n",
              "                                                                sparse=False))]),\n",
              "                                 [&#x27;origin&#x27;]),\n",
              "                                (&#x27;num&#x27;,\n",
              "                                 Pipeline(steps=[(&#x27;imputer&#x27;,\n",
              "                                                  SimpleImputer(strategy=&#x27;most_frequent&#x27;)),\n",
              "                                                 (&#x27;scaler&#x27;, StandardScaler())]),\n",
              "                                 [&#x27;cylinders&#x27;, &#x27;displacement&#x27;, &#x27;horsepower&#x27;,\n",
              "                                  &#x27;weight&#x27;, &#x27;acceleration&#x27;, &#x27;model_year&#x27;])])</pre></div></div></div><div class=\"sk-parallel\"><div class=\"sk-parallel-item\"><div class=\"sk-item\"><div class=\"sk-label-container\"><div class=\"sk-label sk-toggleable\"><input class=\"sk-toggleable__control sk-hidden--visually\" id=\"sk-estimator-id-3\" type=\"checkbox\" ><label for=\"sk-estimator-id-3\" class=\"sk-toggleable__label sk-toggleable__label-arrow\">ohe</label><div class=\"sk-toggleable__content\"><pre>[&#x27;origin&#x27;]</pre></div></div></div><div class=\"sk-serial\"><div class=\"sk-item\"><div class=\"sk-serial\"><div class=\"sk-item\"><div class=\"sk-estimator sk-toggleable\"><input class=\"sk-toggleable__control sk-hidden--visually\" id=\"sk-estimator-id-4\" type=\"checkbox\" ><label for=\"sk-estimator-id-4\" class=\"sk-toggleable__label sk-toggleable__label-arrow\">SimpleImputer</label><div class=\"sk-toggleable__content\"><pre>SimpleImputer(strategy=&#x27;most_frequent&#x27;)</pre></div></div></div><div class=\"sk-item\"><div class=\"sk-estimator sk-toggleable\"><input class=\"sk-toggleable__control sk-hidden--visually\" id=\"sk-estimator-id-5\" type=\"checkbox\" ><label for=\"sk-estimator-id-5\" class=\"sk-toggleable__label sk-toggleable__label-arrow\">OneHotEncoder</label><div class=\"sk-toggleable__content\"><pre>OneHotEncoder(drop=&#x27;first&#x27;, handle_unknown=&#x27;ignore&#x27;, sparse=False)</pre></div></div></div></div></div></div></div></div><div class=\"sk-parallel-item\"><div class=\"sk-item\"><div class=\"sk-label-container\"><div class=\"sk-label sk-toggleable\"><input class=\"sk-toggleable__control sk-hidden--visually\" id=\"sk-estimator-id-6\" type=\"checkbox\" ><label for=\"sk-estimator-id-6\" class=\"sk-toggleable__label sk-toggleable__label-arrow\">num</label><div class=\"sk-toggleable__content\"><pre>[&#x27;cylinders&#x27;, &#x27;displacement&#x27;, &#x27;horsepower&#x27;, &#x27;weight&#x27;, &#x27;acceleration&#x27;, &#x27;model_year&#x27;]</pre></div></div></div><div class=\"sk-serial\"><div class=\"sk-item\"><div class=\"sk-serial\"><div class=\"sk-item\"><div class=\"sk-estimator sk-toggleable\"><input class=\"sk-toggleable__control sk-hidden--visually\" id=\"sk-estimator-id-7\" type=\"checkbox\" ><label for=\"sk-estimator-id-7\" class=\"sk-toggleable__label sk-toggleable__label-arrow\">SimpleImputer</label><div class=\"sk-toggleable__content\"><pre>SimpleImputer(strategy=&#x27;most_frequent&#x27;)</pre></div></div></div><div class=\"sk-item\"><div class=\"sk-estimator sk-toggleable\"><input class=\"sk-toggleable__control sk-hidden--visually\" id=\"sk-estimator-id-8\" type=\"checkbox\" ><label for=\"sk-estimator-id-8\" class=\"sk-toggleable__label sk-toggleable__label-arrow\">StandardScaler</label><div class=\"sk-toggleable__content\"><pre>StandardScaler()</pre></div></div></div></div></div></div></div></div><div class=\"sk-parallel-item\"><div class=\"sk-item\"><div class=\"sk-label-container\"><div class=\"sk-label sk-toggleable\"><input class=\"sk-toggleable__control sk-hidden--visually\" id=\"sk-estimator-id-9\" type=\"checkbox\" ><label for=\"sk-estimator-id-9\" class=\"sk-toggleable__label sk-toggleable__label-arrow\">remainder</label><div class=\"sk-toggleable__content\"><pre></pre></div></div></div><div class=\"sk-serial\"><div class=\"sk-item\"><div class=\"sk-estimator sk-toggleable\"><input class=\"sk-toggleable__control sk-hidden--visually\" id=\"sk-estimator-id-10\" type=\"checkbox\" ><label for=\"sk-estimator-id-10\" class=\"sk-toggleable__label sk-toggleable__label-arrow\">passthrough</label><div class=\"sk-toggleable__content\"><pre>passthrough</pre></div></div></div></div></div></div></div></div><div class=\"sk-item\"><div class=\"sk-estimator sk-toggleable\"><input class=\"sk-toggleable__control sk-hidden--visually\" id=\"sk-estimator-id-11\" type=\"checkbox\" ><label for=\"sk-estimator-id-11\" class=\"sk-toggleable__label sk-toggleable__label-arrow\">DecisionTreeRegressor</label><div class=\"sk-toggleable__content\"><pre>DecisionTreeRegressor(random_state=12345)</pre></div></div></div></div></div></div></div>"
            ],
            "text/plain": [
              "Pipeline(steps=[('preprocessor',\n",
              "                 ColumnTransformer(remainder='passthrough',\n",
              "                                   transformers=[('ohe',\n",
              "                                                  Pipeline(steps=[('imputer',\n",
              "                                                                   SimpleImputer(strategy='most_frequent')),\n",
              "                                                                  ('ohe',\n",
              "                                                                   OneHotEncoder(drop='first',\n",
              "                                                                                 handle_unknown='ignore',\n",
              "                                                                                 sparse=False))]),\n",
              "                                                  ['origin']),\n",
              "                                                 ('num',\n",
              "                                                  Pipeline(steps=[('imputer',\n",
              "                                                                   SimpleImputer(strategy='most_frequent')),\n",
              "                                                                  ('scaler',\n",
              "                                                                   StandardScaler())]),\n",
              "                                                  ['cylinders', 'displacement',\n",
              "                                                   'horsepower', 'weight',\n",
              "                                                   'acceleration',\n",
              "                                                   'model_year'])])),\n",
              "                ('models', DecisionTreeRegressor(random_state=12345))])"
            ]
          },
          "execution_count": 19,
          "metadata": {},
          "output_type": "execute_result"
        }
      ],
      "source": [
        "pipe_final"
      ]
    },
    {
      "cell_type": "code",
      "execution_count": 20,
      "metadata": {
        "colab": {
          "base_uri": "https://localhost:8080/"
        },
        "id": "X8-ZtKb_xYbj",
        "outputId": "e61a879a-c491-4e3b-fd5b-75ce932af649"
      },
      "outputs": [
        {
          "name": "stderr",
          "output_type": "stream",
          "text": [
            "/usr/local/lib/python3.10/dist-packages/sklearn/preprocessing/_encoders.py:868: FutureWarning: `sparse` was renamed to `sparse_output` in version 1.2 and will be removed in 1.4. `sparse_output` is ignored unless you leave `sparse` to its default value.\n",
            "  warnings.warn(\n"
          ]
        }
      ],
      "source": [
        "# обучаем модель на тренировочной выборке\n",
        "pipe_final.fit(X_train, y_train)\n",
        "\n",
        "# выводим предсказанные значения тренировочной выборки\n",
        "y_train_pred = pipe_final.predict(X_train)\n",
        "y_test_pred = pipe_final.predict(X_test)\n"
      ]
    },
    {
      "cell_type": "code",
      "execution_count": 21,
      "metadata": {
        "colab": {
          "base_uri": "https://localhost:8080/"
        },
        "id": "HXXrfNgPxYe7",
        "outputId": "bce51bfd-fb82-4b56-a85c-71493be33d21"
      },
      "outputs": [
        {
          "name": "stderr",
          "output_type": "stream",
          "text": [
            "/usr/local/lib/python3.10/dist-packages/sklearn/preprocessing/_encoders.py:868: FutureWarning: `sparse` was renamed to `sparse_output` in version 1.2 and will be removed in 1.4. `sparse_output` is ignored unless you leave `sparse` to its default value.\n",
            "  warnings.warn(\n"
          ]
        }
      ],
      "source": [
        "X_train_p = pd.DataFrame(\n",
        "    data_preprocessor.fit_transform(X_train),\n",
        "    columns=data_preprocessor.get_feature_names_out()\n",
        ")\n",
        "\n",
        "X_test_p = pd.DataFrame(\n",
        "    data_preprocessor.transform(X_test),\n",
        "    columns=data_preprocessor.get_feature_names_out()\n",
        ")"
      ]
    },
    {
      "cell_type": "markdown",
      "metadata": {
        "id": "YDAzTJ6HTPCL"
      },
      "source": [
        "## GridSearchCV"
      ]
    },
    {
      "cell_type": "code",
      "execution_count": 22,
      "metadata": {
        "id": "QXT2TU4QyyNl"
      },
      "outputs": [],
      "source": [
        "param_grid = {\n",
        "    'preprocessor__num__imputer':[SimpleImputer(), KNNImputer() ],\n",
        "    'preprocessor__num__scaler': [StandardScaler(), MinMaxScaler(), 'passthrough'] ,\n",
        "    'models' : [LinearRegression(), DecisionTreeRegressor(), SGDRegressor()]\n",
        "}"
      ]
    },
    {
      "cell_type": "code",
      "execution_count": 23,
      "metadata": {
        "colab": {
          "base_uri": "https://localhost:8080/",
          "height": 227
        },
        "id": "DJKAGyBz3lQG",
        "outputId": "a436be68-4343-4b87-9808-2421b384b439"
      },
      "outputs": [
        {
          "data": {
            "text/html": [
              "<style>#sk-container-id-2 {color: black;background-color: white;}#sk-container-id-2 pre{padding: 0;}#sk-container-id-2 div.sk-toggleable {background-color: white;}#sk-container-id-2 label.sk-toggleable__label {cursor: pointer;display: block;width: 100%;margin-bottom: 0;padding: 0.3em;box-sizing: border-box;text-align: center;}#sk-container-id-2 label.sk-toggleable__label-arrow:before {content: \"▸\";float: left;margin-right: 0.25em;color: #696969;}#sk-container-id-2 label.sk-toggleable__label-arrow:hover:before {color: black;}#sk-container-id-2 div.sk-estimator:hover label.sk-toggleable__label-arrow:before {color: black;}#sk-container-id-2 div.sk-toggleable__content {max-height: 0;max-width: 0;overflow: hidden;text-align: left;background-color: #f0f8ff;}#sk-container-id-2 div.sk-toggleable__content pre {margin: 0.2em;color: black;border-radius: 0.25em;background-color: #f0f8ff;}#sk-container-id-2 input.sk-toggleable__control:checked~div.sk-toggleable__content {max-height: 200px;max-width: 100%;overflow: auto;}#sk-container-id-2 input.sk-toggleable__control:checked~label.sk-toggleable__label-arrow:before {content: \"▾\";}#sk-container-id-2 div.sk-estimator input.sk-toggleable__control:checked~label.sk-toggleable__label {background-color: #d4ebff;}#sk-container-id-2 div.sk-label input.sk-toggleable__control:checked~label.sk-toggleable__label {background-color: #d4ebff;}#sk-container-id-2 input.sk-hidden--visually {border: 0;clip: rect(1px 1px 1px 1px);clip: rect(1px, 1px, 1px, 1px);height: 1px;margin: -1px;overflow: hidden;padding: 0;position: absolute;width: 1px;}#sk-container-id-2 div.sk-estimator {font-family: monospace;background-color: #f0f8ff;border: 1px dotted black;border-radius: 0.25em;box-sizing: border-box;margin-bottom: 0.5em;}#sk-container-id-2 div.sk-estimator:hover {background-color: #d4ebff;}#sk-container-id-2 div.sk-parallel-item::after {content: \"\";width: 100%;border-bottom: 1px solid gray;flex-grow: 1;}#sk-container-id-2 div.sk-label:hover label.sk-toggleable__label {background-color: #d4ebff;}#sk-container-id-2 div.sk-serial::before {content: \"\";position: absolute;border-left: 1px solid gray;box-sizing: border-box;top: 0;bottom: 0;left: 50%;z-index: 0;}#sk-container-id-2 div.sk-serial {display: flex;flex-direction: column;align-items: center;background-color: white;padding-right: 0.2em;padding-left: 0.2em;position: relative;}#sk-container-id-2 div.sk-item {position: relative;z-index: 1;}#sk-container-id-2 div.sk-parallel {display: flex;align-items: stretch;justify-content: center;background-color: white;position: relative;}#sk-container-id-2 div.sk-item::before, #sk-container-id-2 div.sk-parallel-item::before {content: \"\";position: absolute;border-left: 1px solid gray;box-sizing: border-box;top: 0;bottom: 0;left: 50%;z-index: -1;}#sk-container-id-2 div.sk-parallel-item {display: flex;flex-direction: column;z-index: 1;position: relative;background-color: white;}#sk-container-id-2 div.sk-parallel-item:first-child::after {align-self: flex-end;width: 50%;}#sk-container-id-2 div.sk-parallel-item:last-child::after {align-self: flex-start;width: 50%;}#sk-container-id-2 div.sk-parallel-item:only-child::after {width: 0;}#sk-container-id-2 div.sk-dashed-wrapped {border: 1px dashed gray;margin: 0 0.4em 0.5em 0.4em;box-sizing: border-box;padding-bottom: 0.4em;background-color: white;}#sk-container-id-2 div.sk-label label {font-family: monospace;font-weight: bold;display: inline-block;line-height: 1.2em;}#sk-container-id-2 div.sk-label-container {text-align: center;}#sk-container-id-2 div.sk-container {/* jupyter's `normalize.less` sets `[hidden] { display: none; }` but bootstrap.min.css set `[hidden] { display: none !important; }` so we also need the `!important` here to be able to override the default hidden behavior on the sphinx rendered scikit-learn.org. See: https://github.com/scikit-learn/scikit-learn/issues/21755 */display: inline-block !important;position: relative;}#sk-container-id-2 div.sk-text-repr-fallback {display: none;}</style><div id=\"sk-container-id-2\" class=\"sk-top-container\"><div class=\"sk-text-repr-fallback\"><pre>Pipeline(steps=[(&#x27;preprocessor&#x27;,\n",
              "                 ColumnTransformer(remainder=&#x27;passthrough&#x27;,\n",
              "                                   transformers=[(&#x27;ohe&#x27;,\n",
              "                                                  Pipeline(steps=[(&#x27;imputer&#x27;,\n",
              "                                                                   SimpleImputer(strategy=&#x27;most_frequent&#x27;)),\n",
              "                                                                  (&#x27;ohe&#x27;,\n",
              "                                                                   OneHotEncoder(drop=&#x27;first&#x27;,\n",
              "                                                                                 handle_unknown=&#x27;ignore&#x27;,\n",
              "                                                                                 sparse=False))]),\n",
              "                                                  [&#x27;origin&#x27;]),\n",
              "                                                 (&#x27;num&#x27;,\n",
              "                                                  Pipeline(steps=[(&#x27;imputer&#x27;,\n",
              "                                                                   SimpleImputer(strategy=&#x27;most_frequent&#x27;)),\n",
              "                                                                  (&#x27;scaler&#x27;,\n",
              "                                                                   StandardScaler())]),\n",
              "                                                  [&#x27;cylinders&#x27;, &#x27;displacement&#x27;,\n",
              "                                                   &#x27;horsepower&#x27;, &#x27;weight&#x27;,\n",
              "                                                   &#x27;acceleration&#x27;,\n",
              "                                                   &#x27;model_year&#x27;])])),\n",
              "                (&#x27;models&#x27;, DecisionTreeRegressor(random_state=12345))])</pre><b>In a Jupyter environment, please rerun this cell to show the HTML representation or trust the notebook. <br />On GitHub, the HTML representation is unable to render, please try loading this page with nbviewer.org.</b></div><div class=\"sk-container\" hidden><div class=\"sk-item sk-dashed-wrapped\"><div class=\"sk-label-container\"><div class=\"sk-label sk-toggleable\"><input class=\"sk-toggleable__control sk-hidden--visually\" id=\"sk-estimator-id-12\" type=\"checkbox\" ><label for=\"sk-estimator-id-12\" class=\"sk-toggleable__label sk-toggleable__label-arrow\">Pipeline</label><div class=\"sk-toggleable__content\"><pre>Pipeline(steps=[(&#x27;preprocessor&#x27;,\n",
              "                 ColumnTransformer(remainder=&#x27;passthrough&#x27;,\n",
              "                                   transformers=[(&#x27;ohe&#x27;,\n",
              "                                                  Pipeline(steps=[(&#x27;imputer&#x27;,\n",
              "                                                                   SimpleImputer(strategy=&#x27;most_frequent&#x27;)),\n",
              "                                                                  (&#x27;ohe&#x27;,\n",
              "                                                                   OneHotEncoder(drop=&#x27;first&#x27;,\n",
              "                                                                                 handle_unknown=&#x27;ignore&#x27;,\n",
              "                                                                                 sparse=False))]),\n",
              "                                                  [&#x27;origin&#x27;]),\n",
              "                                                 (&#x27;num&#x27;,\n",
              "                                                  Pipeline(steps=[(&#x27;imputer&#x27;,\n",
              "                                                                   SimpleImputer(strategy=&#x27;most_frequent&#x27;)),\n",
              "                                                                  (&#x27;scaler&#x27;,\n",
              "                                                                   StandardScaler())]),\n",
              "                                                  [&#x27;cylinders&#x27;, &#x27;displacement&#x27;,\n",
              "                                                   &#x27;horsepower&#x27;, &#x27;weight&#x27;,\n",
              "                                                   &#x27;acceleration&#x27;,\n",
              "                                                   &#x27;model_year&#x27;])])),\n",
              "                (&#x27;models&#x27;, DecisionTreeRegressor(random_state=12345))])</pre></div></div></div><div class=\"sk-serial\"><div class=\"sk-item sk-dashed-wrapped\"><div class=\"sk-label-container\"><div class=\"sk-label sk-toggleable\"><input class=\"sk-toggleable__control sk-hidden--visually\" id=\"sk-estimator-id-13\" type=\"checkbox\" ><label for=\"sk-estimator-id-13\" class=\"sk-toggleable__label sk-toggleable__label-arrow\">preprocessor: ColumnTransformer</label><div class=\"sk-toggleable__content\"><pre>ColumnTransformer(remainder=&#x27;passthrough&#x27;,\n",
              "                  transformers=[(&#x27;ohe&#x27;,\n",
              "                                 Pipeline(steps=[(&#x27;imputer&#x27;,\n",
              "                                                  SimpleImputer(strategy=&#x27;most_frequent&#x27;)),\n",
              "                                                 (&#x27;ohe&#x27;,\n",
              "                                                  OneHotEncoder(drop=&#x27;first&#x27;,\n",
              "                                                                handle_unknown=&#x27;ignore&#x27;,\n",
              "                                                                sparse=False))]),\n",
              "                                 [&#x27;origin&#x27;]),\n",
              "                                (&#x27;num&#x27;,\n",
              "                                 Pipeline(steps=[(&#x27;imputer&#x27;,\n",
              "                                                  SimpleImputer(strategy=&#x27;most_frequent&#x27;)),\n",
              "                                                 (&#x27;scaler&#x27;, StandardScaler())]),\n",
              "                                 [&#x27;cylinders&#x27;, &#x27;displacement&#x27;, &#x27;horsepower&#x27;,\n",
              "                                  &#x27;weight&#x27;, &#x27;acceleration&#x27;, &#x27;model_year&#x27;])])</pre></div></div></div><div class=\"sk-parallel\"><div class=\"sk-parallel-item\"><div class=\"sk-item\"><div class=\"sk-label-container\"><div class=\"sk-label sk-toggleable\"><input class=\"sk-toggleable__control sk-hidden--visually\" id=\"sk-estimator-id-14\" type=\"checkbox\" ><label for=\"sk-estimator-id-14\" class=\"sk-toggleable__label sk-toggleable__label-arrow\">ohe</label><div class=\"sk-toggleable__content\"><pre>[&#x27;origin&#x27;]</pre></div></div></div><div class=\"sk-serial\"><div class=\"sk-item\"><div class=\"sk-serial\"><div class=\"sk-item\"><div class=\"sk-estimator sk-toggleable\"><input class=\"sk-toggleable__control sk-hidden--visually\" id=\"sk-estimator-id-15\" type=\"checkbox\" ><label for=\"sk-estimator-id-15\" class=\"sk-toggleable__label sk-toggleable__label-arrow\">SimpleImputer</label><div class=\"sk-toggleable__content\"><pre>SimpleImputer(strategy=&#x27;most_frequent&#x27;)</pre></div></div></div><div class=\"sk-item\"><div class=\"sk-estimator sk-toggleable\"><input class=\"sk-toggleable__control sk-hidden--visually\" id=\"sk-estimator-id-16\" type=\"checkbox\" ><label for=\"sk-estimator-id-16\" class=\"sk-toggleable__label sk-toggleable__label-arrow\">OneHotEncoder</label><div class=\"sk-toggleable__content\"><pre>OneHotEncoder(drop=&#x27;first&#x27;, handle_unknown=&#x27;ignore&#x27;, sparse=False)</pre></div></div></div></div></div></div></div></div><div class=\"sk-parallel-item\"><div class=\"sk-item\"><div class=\"sk-label-container\"><div class=\"sk-label sk-toggleable\"><input class=\"sk-toggleable__control sk-hidden--visually\" id=\"sk-estimator-id-17\" type=\"checkbox\" ><label for=\"sk-estimator-id-17\" class=\"sk-toggleable__label sk-toggleable__label-arrow\">num</label><div class=\"sk-toggleable__content\"><pre>[&#x27;cylinders&#x27;, &#x27;displacement&#x27;, &#x27;horsepower&#x27;, &#x27;weight&#x27;, &#x27;acceleration&#x27;, &#x27;model_year&#x27;]</pre></div></div></div><div class=\"sk-serial\"><div class=\"sk-item\"><div class=\"sk-serial\"><div class=\"sk-item\"><div class=\"sk-estimator sk-toggleable\"><input class=\"sk-toggleable__control sk-hidden--visually\" id=\"sk-estimator-id-18\" type=\"checkbox\" ><label for=\"sk-estimator-id-18\" class=\"sk-toggleable__label sk-toggleable__label-arrow\">SimpleImputer</label><div class=\"sk-toggleable__content\"><pre>SimpleImputer(strategy=&#x27;most_frequent&#x27;)</pre></div></div></div><div class=\"sk-item\"><div class=\"sk-estimator sk-toggleable\"><input class=\"sk-toggleable__control sk-hidden--visually\" id=\"sk-estimator-id-19\" type=\"checkbox\" ><label for=\"sk-estimator-id-19\" class=\"sk-toggleable__label sk-toggleable__label-arrow\">StandardScaler</label><div class=\"sk-toggleable__content\"><pre>StandardScaler()</pre></div></div></div></div></div></div></div></div><div class=\"sk-parallel-item\"><div class=\"sk-item\"><div class=\"sk-label-container\"><div class=\"sk-label sk-toggleable\"><input class=\"sk-toggleable__control sk-hidden--visually\" id=\"sk-estimator-id-20\" type=\"checkbox\" ><label for=\"sk-estimator-id-20\" class=\"sk-toggleable__label sk-toggleable__label-arrow\">remainder</label><div class=\"sk-toggleable__content\"><pre>[]</pre></div></div></div><div class=\"sk-serial\"><div class=\"sk-item\"><div class=\"sk-estimator sk-toggleable\"><input class=\"sk-toggleable__control sk-hidden--visually\" id=\"sk-estimator-id-21\" type=\"checkbox\" ><label for=\"sk-estimator-id-21\" class=\"sk-toggleable__label sk-toggleable__label-arrow\">passthrough</label><div class=\"sk-toggleable__content\"><pre>passthrough</pre></div></div></div></div></div></div></div></div><div class=\"sk-item\"><div class=\"sk-estimator sk-toggleable\"><input class=\"sk-toggleable__control sk-hidden--visually\" id=\"sk-estimator-id-22\" type=\"checkbox\" ><label for=\"sk-estimator-id-22\" class=\"sk-toggleable__label sk-toggleable__label-arrow\">DecisionTreeRegressor</label><div class=\"sk-toggleable__content\"><pre>DecisionTreeRegressor(random_state=12345)</pre></div></div></div></div></div></div></div>"
            ],
            "text/plain": [
              "Pipeline(steps=[('preprocessor',\n",
              "                 ColumnTransformer(remainder='passthrough',\n",
              "                                   transformers=[('ohe',\n",
              "                                                  Pipeline(steps=[('imputer',\n",
              "                                                                   SimpleImputer(strategy='most_frequent')),\n",
              "                                                                  ('ohe',\n",
              "                                                                   OneHotEncoder(drop='first',\n",
              "                                                                                 handle_unknown='ignore',\n",
              "                                                                                 sparse=False))]),\n",
              "                                                  ['origin']),\n",
              "                                                 ('num',\n",
              "                                                  Pipeline(steps=[('imputer',\n",
              "                                                                   SimpleImputer(strategy='most_frequent')),\n",
              "                                                                  ('scaler',\n",
              "                                                                   StandardScaler())]),\n",
              "                                                  ['cylinders', 'displacement',\n",
              "                                                   'horsepower', 'weight',\n",
              "                                                   'acceleration',\n",
              "                                                   'model_year'])])),\n",
              "                ('models', DecisionTreeRegressor(random_state=12345))])"
            ]
          },
          "execution_count": 23,
          "metadata": {},
          "output_type": "execute_result"
        }
      ],
      "source": [
        "pipe_final"
      ]
    },
    {
      "cell_type": "code",
      "execution_count": 24,
      "metadata": {
        "colab": {
          "base_uri": "https://localhost:8080/",
          "height": 309
        },
        "id": "NDzcyPfHyyQi",
        "outputId": "9c2e9fee-7d6e-491d-a5ac-be1ed556d22a"
      },
      "outputs": [
        {
          "name": "stderr",
          "output_type": "stream",
          "text": [
            "/usr/local/lib/python3.10/dist-packages/sklearn/preprocessing/_encoders.py:868: FutureWarning: `sparse` was renamed to `sparse_output` in version 1.2 and will be removed in 1.4. `sparse_output` is ignored unless you leave `sparse` to its default value.\n",
            "  warnings.warn(\n"
          ]
        },
        {
          "data": {
            "text/html": [
              "<style>#sk-container-id-3 {color: black;background-color: white;}#sk-container-id-3 pre{padding: 0;}#sk-container-id-3 div.sk-toggleable {background-color: white;}#sk-container-id-3 label.sk-toggleable__label {cursor: pointer;display: block;width: 100%;margin-bottom: 0;padding: 0.3em;box-sizing: border-box;text-align: center;}#sk-container-id-3 label.sk-toggleable__label-arrow:before {content: \"▸\";float: left;margin-right: 0.25em;color: #696969;}#sk-container-id-3 label.sk-toggleable__label-arrow:hover:before {color: black;}#sk-container-id-3 div.sk-estimator:hover label.sk-toggleable__label-arrow:before {color: black;}#sk-container-id-3 div.sk-toggleable__content {max-height: 0;max-width: 0;overflow: hidden;text-align: left;background-color: #f0f8ff;}#sk-container-id-3 div.sk-toggleable__content pre {margin: 0.2em;color: black;border-radius: 0.25em;background-color: #f0f8ff;}#sk-container-id-3 input.sk-toggleable__control:checked~div.sk-toggleable__content {max-height: 200px;max-width: 100%;overflow: auto;}#sk-container-id-3 input.sk-toggleable__control:checked~label.sk-toggleable__label-arrow:before {content: \"▾\";}#sk-container-id-3 div.sk-estimator input.sk-toggleable__control:checked~label.sk-toggleable__label {background-color: #d4ebff;}#sk-container-id-3 div.sk-label input.sk-toggleable__control:checked~label.sk-toggleable__label {background-color: #d4ebff;}#sk-container-id-3 input.sk-hidden--visually {border: 0;clip: rect(1px 1px 1px 1px);clip: rect(1px, 1px, 1px, 1px);height: 1px;margin: -1px;overflow: hidden;padding: 0;position: absolute;width: 1px;}#sk-container-id-3 div.sk-estimator {font-family: monospace;background-color: #f0f8ff;border: 1px dotted black;border-radius: 0.25em;box-sizing: border-box;margin-bottom: 0.5em;}#sk-container-id-3 div.sk-estimator:hover {background-color: #d4ebff;}#sk-container-id-3 div.sk-parallel-item::after {content: \"\";width: 100%;border-bottom: 1px solid gray;flex-grow: 1;}#sk-container-id-3 div.sk-label:hover label.sk-toggleable__label {background-color: #d4ebff;}#sk-container-id-3 div.sk-serial::before {content: \"\";position: absolute;border-left: 1px solid gray;box-sizing: border-box;top: 0;bottom: 0;left: 50%;z-index: 0;}#sk-container-id-3 div.sk-serial {display: flex;flex-direction: column;align-items: center;background-color: white;padding-right: 0.2em;padding-left: 0.2em;position: relative;}#sk-container-id-3 div.sk-item {position: relative;z-index: 1;}#sk-container-id-3 div.sk-parallel {display: flex;align-items: stretch;justify-content: center;background-color: white;position: relative;}#sk-container-id-3 div.sk-item::before, #sk-container-id-3 div.sk-parallel-item::before {content: \"\";position: absolute;border-left: 1px solid gray;box-sizing: border-box;top: 0;bottom: 0;left: 50%;z-index: -1;}#sk-container-id-3 div.sk-parallel-item {display: flex;flex-direction: column;z-index: 1;position: relative;background-color: white;}#sk-container-id-3 div.sk-parallel-item:first-child::after {align-self: flex-end;width: 50%;}#sk-container-id-3 div.sk-parallel-item:last-child::after {align-self: flex-start;width: 50%;}#sk-container-id-3 div.sk-parallel-item:only-child::after {width: 0;}#sk-container-id-3 div.sk-dashed-wrapped {border: 1px dashed gray;margin: 0 0.4em 0.5em 0.4em;box-sizing: border-box;padding-bottom: 0.4em;background-color: white;}#sk-container-id-3 div.sk-label label {font-family: monospace;font-weight: bold;display: inline-block;line-height: 1.2em;}#sk-container-id-3 div.sk-label-container {text-align: center;}#sk-container-id-3 div.sk-container {/* jupyter's `normalize.less` sets `[hidden] { display: none; }` but bootstrap.min.css set `[hidden] { display: none !important; }` so we also need the `!important` here to be able to override the default hidden behavior on the sphinx rendered scikit-learn.org. See: https://github.com/scikit-learn/scikit-learn/issues/21755 */display: inline-block !important;position: relative;}#sk-container-id-3 div.sk-text-repr-fallback {display: none;}</style><div id=\"sk-container-id-3\" class=\"sk-top-container\"><div class=\"sk-text-repr-fallback\"><pre>GridSearchCV(cv=5,\n",
              "             estimator=Pipeline(steps=[(&#x27;preprocessor&#x27;,\n",
              "                                        ColumnTransformer(remainder=&#x27;passthrough&#x27;,\n",
              "                                                          transformers=[(&#x27;ohe&#x27;,\n",
              "                                                                         Pipeline(steps=[(&#x27;imputer&#x27;,\n",
              "                                                                                          SimpleImputer(strategy=&#x27;most_frequent&#x27;)),\n",
              "                                                                                         (&#x27;ohe&#x27;,\n",
              "                                                                                          OneHotEncoder(drop=&#x27;first&#x27;,\n",
              "                                                                                                        handle_unknown=&#x27;ignore&#x27;,\n",
              "                                                                                                        sparse=False))]),\n",
              "                                                                         [&#x27;origin&#x27;]),\n",
              "                                                                        (&#x27;num&#x27;,\n",
              "                                                                         Pipeline(steps=[(&#x27;imputer&#x27;,\n",
              "                                                                                          SimpleImputer(strategy=&#x27;most_frequent&#x27;...\n",
              "                                                                          &#x27;acceleration&#x27;,\n",
              "                                                                          &#x27;model_year&#x27;])])),\n",
              "                                       (&#x27;models&#x27;,\n",
              "                                        DecisionTreeRegressor(random_state=12345))]),\n",
              "             n_jobs=-1,\n",
              "             param_grid={&#x27;models&#x27;: [LinearRegression(), DecisionTreeRegressor(),\n",
              "                                    SGDRegressor()],\n",
              "                         &#x27;preprocessor__num__imputer&#x27;: [SimpleImputer(),\n",
              "                                                        KNNImputer()],\n",
              "                         &#x27;preprocessor__num__scaler&#x27;: [StandardScaler(),\n",
              "                                                       MinMaxScaler(),\n",
              "                                                       &#x27;passthrough&#x27;]},\n",
              "             scoring=&#x27;neg_mean_absolute_error&#x27;)</pre><b>In a Jupyter environment, please rerun this cell to show the HTML representation or trust the notebook. <br />On GitHub, the HTML representation is unable to render, please try loading this page with nbviewer.org.</b></div><div class=\"sk-container\" hidden><div class=\"sk-item sk-dashed-wrapped\"><div class=\"sk-label-container\"><div class=\"sk-label sk-toggleable\"><input class=\"sk-toggleable__control sk-hidden--visually\" id=\"sk-estimator-id-23\" type=\"checkbox\" ><label for=\"sk-estimator-id-23\" class=\"sk-toggleable__label sk-toggleable__label-arrow\">GridSearchCV</label><div class=\"sk-toggleable__content\"><pre>GridSearchCV(cv=5,\n",
              "             estimator=Pipeline(steps=[(&#x27;preprocessor&#x27;,\n",
              "                                        ColumnTransformer(remainder=&#x27;passthrough&#x27;,\n",
              "                                                          transformers=[(&#x27;ohe&#x27;,\n",
              "                                                                         Pipeline(steps=[(&#x27;imputer&#x27;,\n",
              "                                                                                          SimpleImputer(strategy=&#x27;most_frequent&#x27;)),\n",
              "                                                                                         (&#x27;ohe&#x27;,\n",
              "                                                                                          OneHotEncoder(drop=&#x27;first&#x27;,\n",
              "                                                                                                        handle_unknown=&#x27;ignore&#x27;,\n",
              "                                                                                                        sparse=False))]),\n",
              "                                                                         [&#x27;origin&#x27;]),\n",
              "                                                                        (&#x27;num&#x27;,\n",
              "                                                                         Pipeline(steps=[(&#x27;imputer&#x27;,\n",
              "                                                                                          SimpleImputer(strategy=&#x27;most_frequent&#x27;...\n",
              "                                                                          &#x27;acceleration&#x27;,\n",
              "                                                                          &#x27;model_year&#x27;])])),\n",
              "                                       (&#x27;models&#x27;,\n",
              "                                        DecisionTreeRegressor(random_state=12345))]),\n",
              "             n_jobs=-1,\n",
              "             param_grid={&#x27;models&#x27;: [LinearRegression(), DecisionTreeRegressor(),\n",
              "                                    SGDRegressor()],\n",
              "                         &#x27;preprocessor__num__imputer&#x27;: [SimpleImputer(),\n",
              "                                                        KNNImputer()],\n",
              "                         &#x27;preprocessor__num__scaler&#x27;: [StandardScaler(),\n",
              "                                                       MinMaxScaler(),\n",
              "                                                       &#x27;passthrough&#x27;]},\n",
              "             scoring=&#x27;neg_mean_absolute_error&#x27;)</pre></div></div></div><div class=\"sk-parallel\"><div class=\"sk-parallel-item\"><div class=\"sk-item\"><div class=\"sk-label-container\"><div class=\"sk-label sk-toggleable\"><input class=\"sk-toggleable__control sk-hidden--visually\" id=\"sk-estimator-id-24\" type=\"checkbox\" ><label for=\"sk-estimator-id-24\" class=\"sk-toggleable__label sk-toggleable__label-arrow\">estimator: Pipeline</label><div class=\"sk-toggleable__content\"><pre>Pipeline(steps=[(&#x27;preprocessor&#x27;,\n",
              "                 ColumnTransformer(remainder=&#x27;passthrough&#x27;,\n",
              "                                   transformers=[(&#x27;ohe&#x27;,\n",
              "                                                  Pipeline(steps=[(&#x27;imputer&#x27;,\n",
              "                                                                   SimpleImputer(strategy=&#x27;most_frequent&#x27;)),\n",
              "                                                                  (&#x27;ohe&#x27;,\n",
              "                                                                   OneHotEncoder(drop=&#x27;first&#x27;,\n",
              "                                                                                 handle_unknown=&#x27;ignore&#x27;,\n",
              "                                                                                 sparse=False))]),\n",
              "                                                  [&#x27;origin&#x27;]),\n",
              "                                                 (&#x27;num&#x27;,\n",
              "                                                  Pipeline(steps=[(&#x27;imputer&#x27;,\n",
              "                                                                   SimpleImputer(strategy=&#x27;most_frequent&#x27;)),\n",
              "                                                                  (&#x27;scaler&#x27;,\n",
              "                                                                   StandardScaler())]),\n",
              "                                                  [&#x27;cylinders&#x27;, &#x27;displacement&#x27;,\n",
              "                                                   &#x27;horsepower&#x27;, &#x27;weight&#x27;,\n",
              "                                                   &#x27;acceleration&#x27;,\n",
              "                                                   &#x27;model_year&#x27;])])),\n",
              "                (&#x27;models&#x27;, DecisionTreeRegressor(random_state=12345))])</pre></div></div></div><div class=\"sk-serial\"><div class=\"sk-item\"><div class=\"sk-serial\"><div class=\"sk-item sk-dashed-wrapped\"><div class=\"sk-label-container\"><div class=\"sk-label sk-toggleable\"><input class=\"sk-toggleable__control sk-hidden--visually\" id=\"sk-estimator-id-25\" type=\"checkbox\" ><label for=\"sk-estimator-id-25\" class=\"sk-toggleable__label sk-toggleable__label-arrow\">preprocessor: ColumnTransformer</label><div class=\"sk-toggleable__content\"><pre>ColumnTransformer(remainder=&#x27;passthrough&#x27;,\n",
              "                  transformers=[(&#x27;ohe&#x27;,\n",
              "                                 Pipeline(steps=[(&#x27;imputer&#x27;,\n",
              "                                                  SimpleImputer(strategy=&#x27;most_frequent&#x27;)),\n",
              "                                                 (&#x27;ohe&#x27;,\n",
              "                                                  OneHotEncoder(drop=&#x27;first&#x27;,\n",
              "                                                                handle_unknown=&#x27;ignore&#x27;,\n",
              "                                                                sparse=False))]),\n",
              "                                 [&#x27;origin&#x27;]),\n",
              "                                (&#x27;num&#x27;,\n",
              "                                 Pipeline(steps=[(&#x27;imputer&#x27;,\n",
              "                                                  SimpleImputer(strategy=&#x27;most_frequent&#x27;)),\n",
              "                                                 (&#x27;scaler&#x27;, StandardScaler())]),\n",
              "                                 [&#x27;cylinders&#x27;, &#x27;displacement&#x27;, &#x27;horsepower&#x27;,\n",
              "                                  &#x27;weight&#x27;, &#x27;acceleration&#x27;, &#x27;model_year&#x27;])])</pre></div></div></div><div class=\"sk-parallel\"><div class=\"sk-parallel-item\"><div class=\"sk-item\"><div class=\"sk-label-container\"><div class=\"sk-label sk-toggleable\"><input class=\"sk-toggleable__control sk-hidden--visually\" id=\"sk-estimator-id-26\" type=\"checkbox\" ><label for=\"sk-estimator-id-26\" class=\"sk-toggleable__label sk-toggleable__label-arrow\">ohe</label><div class=\"sk-toggleable__content\"><pre>[&#x27;origin&#x27;]</pre></div></div></div><div class=\"sk-serial\"><div class=\"sk-item\"><div class=\"sk-serial\"><div class=\"sk-item\"><div class=\"sk-estimator sk-toggleable\"><input class=\"sk-toggleable__control sk-hidden--visually\" id=\"sk-estimator-id-27\" type=\"checkbox\" ><label for=\"sk-estimator-id-27\" class=\"sk-toggleable__label sk-toggleable__label-arrow\">SimpleImputer</label><div class=\"sk-toggleable__content\"><pre>SimpleImputer(strategy=&#x27;most_frequent&#x27;)</pre></div></div></div><div class=\"sk-item\"><div class=\"sk-estimator sk-toggleable\"><input class=\"sk-toggleable__control sk-hidden--visually\" id=\"sk-estimator-id-28\" type=\"checkbox\" ><label for=\"sk-estimator-id-28\" class=\"sk-toggleable__label sk-toggleable__label-arrow\">OneHotEncoder</label><div class=\"sk-toggleable__content\"><pre>OneHotEncoder(drop=&#x27;first&#x27;, handle_unknown=&#x27;ignore&#x27;, sparse=False)</pre></div></div></div></div></div></div></div></div><div class=\"sk-parallel-item\"><div class=\"sk-item\"><div class=\"sk-label-container\"><div class=\"sk-label sk-toggleable\"><input class=\"sk-toggleable__control sk-hidden--visually\" id=\"sk-estimator-id-29\" type=\"checkbox\" ><label for=\"sk-estimator-id-29\" class=\"sk-toggleable__label sk-toggleable__label-arrow\">num</label><div class=\"sk-toggleable__content\"><pre>[&#x27;cylinders&#x27;, &#x27;displacement&#x27;, &#x27;horsepower&#x27;, &#x27;weight&#x27;, &#x27;acceleration&#x27;, &#x27;model_year&#x27;]</pre></div></div></div><div class=\"sk-serial\"><div class=\"sk-item\"><div class=\"sk-serial\"><div class=\"sk-item\"><div class=\"sk-estimator sk-toggleable\"><input class=\"sk-toggleable__control sk-hidden--visually\" id=\"sk-estimator-id-30\" type=\"checkbox\" ><label for=\"sk-estimator-id-30\" class=\"sk-toggleable__label sk-toggleable__label-arrow\">SimpleImputer</label><div class=\"sk-toggleable__content\"><pre>SimpleImputer(strategy=&#x27;most_frequent&#x27;)</pre></div></div></div><div class=\"sk-item\"><div class=\"sk-estimator sk-toggleable\"><input class=\"sk-toggleable__control sk-hidden--visually\" id=\"sk-estimator-id-31\" type=\"checkbox\" ><label for=\"sk-estimator-id-31\" class=\"sk-toggleable__label sk-toggleable__label-arrow\">StandardScaler</label><div class=\"sk-toggleable__content\"><pre>StandardScaler()</pre></div></div></div></div></div></div></div></div><div class=\"sk-parallel-item\"><div class=\"sk-item\"><div class=\"sk-label-container\"><div class=\"sk-label sk-toggleable\"><input class=\"sk-toggleable__control sk-hidden--visually\" id=\"sk-estimator-id-32\" type=\"checkbox\" ><label for=\"sk-estimator-id-32\" class=\"sk-toggleable__label sk-toggleable__label-arrow\">remainder</label><div class=\"sk-toggleable__content\"><pre>[]</pre></div></div></div><div class=\"sk-serial\"><div class=\"sk-item\"><div class=\"sk-estimator sk-toggleable\"><input class=\"sk-toggleable__control sk-hidden--visually\" id=\"sk-estimator-id-33\" type=\"checkbox\" ><label for=\"sk-estimator-id-33\" class=\"sk-toggleable__label sk-toggleable__label-arrow\">passthrough</label><div class=\"sk-toggleable__content\"><pre>passthrough</pre></div></div></div></div></div></div></div></div><div class=\"sk-item\"><div class=\"sk-estimator sk-toggleable\"><input class=\"sk-toggleable__control sk-hidden--visually\" id=\"sk-estimator-id-34\" type=\"checkbox\" ><label for=\"sk-estimator-id-34\" class=\"sk-toggleable__label sk-toggleable__label-arrow\">DecisionTreeRegressor</label><div class=\"sk-toggleable__content\"><pre>DecisionTreeRegressor(random_state=12345)</pre></div></div></div></div></div></div></div></div></div></div></div></div>"
            ],
            "text/plain": [
              "GridSearchCV(cv=5,\n",
              "             estimator=Pipeline(steps=[('preprocessor',\n",
              "                                        ColumnTransformer(remainder='passthrough',\n",
              "                                                          transformers=[('ohe',\n",
              "                                                                         Pipeline(steps=[('imputer',\n",
              "                                                                                          SimpleImputer(strategy='most_frequent')),\n",
              "                                                                                         ('ohe',\n",
              "                                                                                          OneHotEncoder(drop='first',\n",
              "                                                                                                        handle_unknown='ignore',\n",
              "                                                                                                        sparse=False))]),\n",
              "                                                                         ['origin']),\n",
              "                                                                        ('num',\n",
              "                                                                         Pipeline(steps=[('imputer',\n",
              "                                                                                          SimpleImputer(strategy='most_frequent'...\n",
              "                                                                          'acceleration',\n",
              "                                                                          'model_year'])])),\n",
              "                                       ('models',\n",
              "                                        DecisionTreeRegressor(random_state=12345))]),\n",
              "             n_jobs=-1,\n",
              "             param_grid={'models': [LinearRegression(), DecisionTreeRegressor(),\n",
              "                                    SGDRegressor()],\n",
              "                         'preprocessor__num__imputer': [SimpleImputer(),\n",
              "                                                        KNNImputer()],\n",
              "                         'preprocessor__num__scaler': [StandardScaler(),\n",
              "                                                       MinMaxScaler(),\n",
              "                                                       'passthrough']},\n",
              "             scoring='neg_mean_absolute_error')"
            ]
          },
          "execution_count": 24,
          "metadata": {},
          "output_type": "execute_result"
        }
      ],
      "source": [
        "%%time\n",
        "grid = GridSearchCV(\n",
        "    pipe_final,\n",
        "    param_grid=param_grid,\n",
        "    cv=5,\n",
        "    scoring='neg_mean_absolute_error',\n",
        "    n_jobs = -1\n",
        ")\n",
        "grid.fit(X_train, y_train)"
      ]
    },
    {
      "cell_type": "code",
      "execution_count": 25,
      "metadata": {
        "id": "cuyrrHF55OKV"
      },
      "outputs": [],
      "source": [
        "df_cv_results = pd.DataFrame(grid.cv_results_)"
      ]
    },
    {
      "cell_type": "code",
      "execution_count": 26,
      "metadata": {
        "id": "HZyYGiSSyyTG"
      },
      "outputs": [],
      "source": [
        "# df_cv_results"
      ]
    },
    {
      "cell_type": "code",
      "execution_count": 27,
      "metadata": {
        "colab": {
          "base_uri": "https://localhost:8080/"
        },
        "id": "JQLvJAtE3b8c",
        "outputId": "40e07110-b27e-4f8e-8d01-3fc70e6fd771"
      },
      "outputs": [
        {
          "name": "stdout",
          "output_type": "stream",
          "text": [
            "Лучшая модель и её параметры:\n",
            "\n",
            " Pipeline(steps=[('preprocessor',\n",
            "                 ColumnTransformer(remainder='passthrough',\n",
            "                                   transformers=[('ohe',\n",
            "                                                  Pipeline(steps=[('imputer',\n",
            "                                                                   SimpleImputer(strategy='most_frequent')),\n",
            "                                                                  ('ohe',\n",
            "                                                                   OneHotEncoder(drop='first',\n",
            "                                                                                 handle_unknown='ignore',\n",
            "                                                                                 sparse=False))]),\n",
            "                                                  ['origin']),\n",
            "                                                 ('num',\n",
            "                                                  Pipeline(steps=[('imputer',\n",
            "                                                                   SimpleImputer()),\n",
            "                                                                  ('scaler',\n",
            "                                                                   'passthrough')]),\n",
            "                                                  ['cylinders', 'displacement',\n",
            "                                                   'horsepower', 'weight',\n",
            "                                                   'acceleration',\n",
            "                                                   'model_year'])])),\n",
            "                ('models', DecisionTreeRegressor())])\n",
            "Метрика лучшей модели на тренировочной выборке: -2.523313492063492\n"
          ]
        }
      ],
      "source": [
        "\n",
        "print('Лучшая модель и её параметры:\\n\\n', grid.best_estimator_)\n",
        "print ('Метрика лучшей модели на тренировочной выборке:', grid.best_score_)\n"
      ]
    },
    {
      "cell_type": "markdown",
      "metadata": {
        "id": "c7PCkLm_5zA8"
      },
      "source": [
        "## RandomSearch"
      ]
    },
    {
      "cell_type": "code",
      "execution_count": 28,
      "metadata": {
        "colab": {
          "base_uri": "https://localhost:8080/",
          "height": 309
        },
        "id": "7q_H1Y1Z3b_p",
        "outputId": "abbe3074-fb99-4766-80f6-2bae9a10042d"
      },
      "outputs": [
        {
          "name": "stderr",
          "output_type": "stream",
          "text": [
            "/usr/local/lib/python3.10/dist-packages/sklearn/preprocessing/_encoders.py:868: FutureWarning: `sparse` was renamed to `sparse_output` in version 1.2 and will be removed in 1.4. `sparse_output` is ignored unless you leave `sparse` to its default value.\n",
            "  warnings.warn(\n"
          ]
        },
        {
          "data": {
            "text/html": [
              "<style>#sk-container-id-4 {color: black;background-color: white;}#sk-container-id-4 pre{padding: 0;}#sk-container-id-4 div.sk-toggleable {background-color: white;}#sk-container-id-4 label.sk-toggleable__label {cursor: pointer;display: block;width: 100%;margin-bottom: 0;padding: 0.3em;box-sizing: border-box;text-align: center;}#sk-container-id-4 label.sk-toggleable__label-arrow:before {content: \"▸\";float: left;margin-right: 0.25em;color: #696969;}#sk-container-id-4 label.sk-toggleable__label-arrow:hover:before {color: black;}#sk-container-id-4 div.sk-estimator:hover label.sk-toggleable__label-arrow:before {color: black;}#sk-container-id-4 div.sk-toggleable__content {max-height: 0;max-width: 0;overflow: hidden;text-align: left;background-color: #f0f8ff;}#sk-container-id-4 div.sk-toggleable__content pre {margin: 0.2em;color: black;border-radius: 0.25em;background-color: #f0f8ff;}#sk-container-id-4 input.sk-toggleable__control:checked~div.sk-toggleable__content {max-height: 200px;max-width: 100%;overflow: auto;}#sk-container-id-4 input.sk-toggleable__control:checked~label.sk-toggleable__label-arrow:before {content: \"▾\";}#sk-container-id-4 div.sk-estimator input.sk-toggleable__control:checked~label.sk-toggleable__label {background-color: #d4ebff;}#sk-container-id-4 div.sk-label input.sk-toggleable__control:checked~label.sk-toggleable__label {background-color: #d4ebff;}#sk-container-id-4 input.sk-hidden--visually {border: 0;clip: rect(1px 1px 1px 1px);clip: rect(1px, 1px, 1px, 1px);height: 1px;margin: -1px;overflow: hidden;padding: 0;position: absolute;width: 1px;}#sk-container-id-4 div.sk-estimator {font-family: monospace;background-color: #f0f8ff;border: 1px dotted black;border-radius: 0.25em;box-sizing: border-box;margin-bottom: 0.5em;}#sk-container-id-4 div.sk-estimator:hover {background-color: #d4ebff;}#sk-container-id-4 div.sk-parallel-item::after {content: \"\";width: 100%;border-bottom: 1px solid gray;flex-grow: 1;}#sk-container-id-4 div.sk-label:hover label.sk-toggleable__label {background-color: #d4ebff;}#sk-container-id-4 div.sk-serial::before {content: \"\";position: absolute;border-left: 1px solid gray;box-sizing: border-box;top: 0;bottom: 0;left: 50%;z-index: 0;}#sk-container-id-4 div.sk-serial {display: flex;flex-direction: column;align-items: center;background-color: white;padding-right: 0.2em;padding-left: 0.2em;position: relative;}#sk-container-id-4 div.sk-item {position: relative;z-index: 1;}#sk-container-id-4 div.sk-parallel {display: flex;align-items: stretch;justify-content: center;background-color: white;position: relative;}#sk-container-id-4 div.sk-item::before, #sk-container-id-4 div.sk-parallel-item::before {content: \"\";position: absolute;border-left: 1px solid gray;box-sizing: border-box;top: 0;bottom: 0;left: 50%;z-index: -1;}#sk-container-id-4 div.sk-parallel-item {display: flex;flex-direction: column;z-index: 1;position: relative;background-color: white;}#sk-container-id-4 div.sk-parallel-item:first-child::after {align-self: flex-end;width: 50%;}#sk-container-id-4 div.sk-parallel-item:last-child::after {align-self: flex-start;width: 50%;}#sk-container-id-4 div.sk-parallel-item:only-child::after {width: 0;}#sk-container-id-4 div.sk-dashed-wrapped {border: 1px dashed gray;margin: 0 0.4em 0.5em 0.4em;box-sizing: border-box;padding-bottom: 0.4em;background-color: white;}#sk-container-id-4 div.sk-label label {font-family: monospace;font-weight: bold;display: inline-block;line-height: 1.2em;}#sk-container-id-4 div.sk-label-container {text-align: center;}#sk-container-id-4 div.sk-container {/* jupyter's `normalize.less` sets `[hidden] { display: none; }` but bootstrap.min.css set `[hidden] { display: none !important; }` so we also need the `!important` here to be able to override the default hidden behavior on the sphinx rendered scikit-learn.org. See: https://github.com/scikit-learn/scikit-learn/issues/21755 */display: inline-block !important;position: relative;}#sk-container-id-4 div.sk-text-repr-fallback {display: none;}</style><div id=\"sk-container-id-4\" class=\"sk-top-container\"><div class=\"sk-text-repr-fallback\"><pre>RandomizedSearchCV(cv=5,\n",
              "                   estimator=Pipeline(steps=[(&#x27;preprocessor&#x27;,\n",
              "                                              ColumnTransformer(remainder=&#x27;passthrough&#x27;,\n",
              "                                                                transformers=[(&#x27;ohe&#x27;,\n",
              "                                                                               Pipeline(steps=[(&#x27;imputer&#x27;,\n",
              "                                                                                                SimpleImputer(strategy=&#x27;most_frequent&#x27;)),\n",
              "                                                                                               (&#x27;ohe&#x27;,\n",
              "                                                                                                OneHotEncoder(drop=&#x27;first&#x27;,\n",
              "                                                                                                              handle_unknown=&#x27;ignore&#x27;,\n",
              "                                                                                                              sparse=False))]),\n",
              "                                                                               [&#x27;origin&#x27;]),\n",
              "                                                                              (&#x27;num&#x27;,\n",
              "                                                                               Pipeline(steps=[(&#x27;imputer&#x27;,\n",
              "                                                                                                SimpleImputer(strategy=&#x27;most_fre...\n",
              "                                                                                &#x27;acceleration&#x27;,\n",
              "                                                                                &#x27;model_year&#x27;])])),\n",
              "                                             (&#x27;models&#x27;,\n",
              "                                              DecisionTreeRegressor(random_state=12345))]),\n",
              "                   n_jobs=-1,\n",
              "                   param_distributions={&#x27;models&#x27;: [LinearRegression(),\n",
              "                                                   DecisionTreeRegressor(),\n",
              "                                                   SGDRegressor()],\n",
              "                                        &#x27;preprocessor__num__imputer&#x27;: [SimpleImputer(),\n",
              "                                                                       KNNImputer()],\n",
              "                                        &#x27;preprocessor__num__scaler&#x27;: [StandardScaler(),\n",
              "                                                                      MinMaxScaler(),\n",
              "                                                                      &#x27;passthrough&#x27;]},\n",
              "                   scoring=&#x27;neg_mean_absolute_error&#x27;)</pre><b>In a Jupyter environment, please rerun this cell to show the HTML representation or trust the notebook. <br />On GitHub, the HTML representation is unable to render, please try loading this page with nbviewer.org.</b></div><div class=\"sk-container\" hidden><div class=\"sk-item sk-dashed-wrapped\"><div class=\"sk-label-container\"><div class=\"sk-label sk-toggleable\"><input class=\"sk-toggleable__control sk-hidden--visually\" id=\"sk-estimator-id-35\" type=\"checkbox\" ><label for=\"sk-estimator-id-35\" class=\"sk-toggleable__label sk-toggleable__label-arrow\">RandomizedSearchCV</label><div class=\"sk-toggleable__content\"><pre>RandomizedSearchCV(cv=5,\n",
              "                   estimator=Pipeline(steps=[(&#x27;preprocessor&#x27;,\n",
              "                                              ColumnTransformer(remainder=&#x27;passthrough&#x27;,\n",
              "                                                                transformers=[(&#x27;ohe&#x27;,\n",
              "                                                                               Pipeline(steps=[(&#x27;imputer&#x27;,\n",
              "                                                                                                SimpleImputer(strategy=&#x27;most_frequent&#x27;)),\n",
              "                                                                                               (&#x27;ohe&#x27;,\n",
              "                                                                                                OneHotEncoder(drop=&#x27;first&#x27;,\n",
              "                                                                                                              handle_unknown=&#x27;ignore&#x27;,\n",
              "                                                                                                              sparse=False))]),\n",
              "                                                                               [&#x27;origin&#x27;]),\n",
              "                                                                              (&#x27;num&#x27;,\n",
              "                                                                               Pipeline(steps=[(&#x27;imputer&#x27;,\n",
              "                                                                                                SimpleImputer(strategy=&#x27;most_fre...\n",
              "                                                                                &#x27;acceleration&#x27;,\n",
              "                                                                                &#x27;model_year&#x27;])])),\n",
              "                                             (&#x27;models&#x27;,\n",
              "                                              DecisionTreeRegressor(random_state=12345))]),\n",
              "                   n_jobs=-1,\n",
              "                   param_distributions={&#x27;models&#x27;: [LinearRegression(),\n",
              "                                                   DecisionTreeRegressor(),\n",
              "                                                   SGDRegressor()],\n",
              "                                        &#x27;preprocessor__num__imputer&#x27;: [SimpleImputer(),\n",
              "                                                                       KNNImputer()],\n",
              "                                        &#x27;preprocessor__num__scaler&#x27;: [StandardScaler(),\n",
              "                                                                      MinMaxScaler(),\n",
              "                                                                      &#x27;passthrough&#x27;]},\n",
              "                   scoring=&#x27;neg_mean_absolute_error&#x27;)</pre></div></div></div><div class=\"sk-parallel\"><div class=\"sk-parallel-item\"><div class=\"sk-item\"><div class=\"sk-label-container\"><div class=\"sk-label sk-toggleable\"><input class=\"sk-toggleable__control sk-hidden--visually\" id=\"sk-estimator-id-36\" type=\"checkbox\" ><label for=\"sk-estimator-id-36\" class=\"sk-toggleable__label sk-toggleable__label-arrow\">estimator: Pipeline</label><div class=\"sk-toggleable__content\"><pre>Pipeline(steps=[(&#x27;preprocessor&#x27;,\n",
              "                 ColumnTransformer(remainder=&#x27;passthrough&#x27;,\n",
              "                                   transformers=[(&#x27;ohe&#x27;,\n",
              "                                                  Pipeline(steps=[(&#x27;imputer&#x27;,\n",
              "                                                                   SimpleImputer(strategy=&#x27;most_frequent&#x27;)),\n",
              "                                                                  (&#x27;ohe&#x27;,\n",
              "                                                                   OneHotEncoder(drop=&#x27;first&#x27;,\n",
              "                                                                                 handle_unknown=&#x27;ignore&#x27;,\n",
              "                                                                                 sparse=False))]),\n",
              "                                                  [&#x27;origin&#x27;]),\n",
              "                                                 (&#x27;num&#x27;,\n",
              "                                                  Pipeline(steps=[(&#x27;imputer&#x27;,\n",
              "                                                                   SimpleImputer(strategy=&#x27;most_frequent&#x27;)),\n",
              "                                                                  (&#x27;scaler&#x27;,\n",
              "                                                                   StandardScaler())]),\n",
              "                                                  [&#x27;cylinders&#x27;, &#x27;displacement&#x27;,\n",
              "                                                   &#x27;horsepower&#x27;, &#x27;weight&#x27;,\n",
              "                                                   &#x27;acceleration&#x27;,\n",
              "                                                   &#x27;model_year&#x27;])])),\n",
              "                (&#x27;models&#x27;, DecisionTreeRegressor(random_state=12345))])</pre></div></div></div><div class=\"sk-serial\"><div class=\"sk-item\"><div class=\"sk-serial\"><div class=\"sk-item sk-dashed-wrapped\"><div class=\"sk-label-container\"><div class=\"sk-label sk-toggleable\"><input class=\"sk-toggleable__control sk-hidden--visually\" id=\"sk-estimator-id-37\" type=\"checkbox\" ><label for=\"sk-estimator-id-37\" class=\"sk-toggleable__label sk-toggleable__label-arrow\">preprocessor: ColumnTransformer</label><div class=\"sk-toggleable__content\"><pre>ColumnTransformer(remainder=&#x27;passthrough&#x27;,\n",
              "                  transformers=[(&#x27;ohe&#x27;,\n",
              "                                 Pipeline(steps=[(&#x27;imputer&#x27;,\n",
              "                                                  SimpleImputer(strategy=&#x27;most_frequent&#x27;)),\n",
              "                                                 (&#x27;ohe&#x27;,\n",
              "                                                  OneHotEncoder(drop=&#x27;first&#x27;,\n",
              "                                                                handle_unknown=&#x27;ignore&#x27;,\n",
              "                                                                sparse=False))]),\n",
              "                                 [&#x27;origin&#x27;]),\n",
              "                                (&#x27;num&#x27;,\n",
              "                                 Pipeline(steps=[(&#x27;imputer&#x27;,\n",
              "                                                  SimpleImputer(strategy=&#x27;most_frequent&#x27;)),\n",
              "                                                 (&#x27;scaler&#x27;, StandardScaler())]),\n",
              "                                 [&#x27;cylinders&#x27;, &#x27;displacement&#x27;, &#x27;horsepower&#x27;,\n",
              "                                  &#x27;weight&#x27;, &#x27;acceleration&#x27;, &#x27;model_year&#x27;])])</pre></div></div></div><div class=\"sk-parallel\"><div class=\"sk-parallel-item\"><div class=\"sk-item\"><div class=\"sk-label-container\"><div class=\"sk-label sk-toggleable\"><input class=\"sk-toggleable__control sk-hidden--visually\" id=\"sk-estimator-id-38\" type=\"checkbox\" ><label for=\"sk-estimator-id-38\" class=\"sk-toggleable__label sk-toggleable__label-arrow\">ohe</label><div class=\"sk-toggleable__content\"><pre>[&#x27;origin&#x27;]</pre></div></div></div><div class=\"sk-serial\"><div class=\"sk-item\"><div class=\"sk-serial\"><div class=\"sk-item\"><div class=\"sk-estimator sk-toggleable\"><input class=\"sk-toggleable__control sk-hidden--visually\" id=\"sk-estimator-id-39\" type=\"checkbox\" ><label for=\"sk-estimator-id-39\" class=\"sk-toggleable__label sk-toggleable__label-arrow\">SimpleImputer</label><div class=\"sk-toggleable__content\"><pre>SimpleImputer(strategy=&#x27;most_frequent&#x27;)</pre></div></div></div><div class=\"sk-item\"><div class=\"sk-estimator sk-toggleable\"><input class=\"sk-toggleable__control sk-hidden--visually\" id=\"sk-estimator-id-40\" type=\"checkbox\" ><label for=\"sk-estimator-id-40\" class=\"sk-toggleable__label sk-toggleable__label-arrow\">OneHotEncoder</label><div class=\"sk-toggleable__content\"><pre>OneHotEncoder(drop=&#x27;first&#x27;, handle_unknown=&#x27;ignore&#x27;, sparse=False)</pre></div></div></div></div></div></div></div></div><div class=\"sk-parallel-item\"><div class=\"sk-item\"><div class=\"sk-label-container\"><div class=\"sk-label sk-toggleable\"><input class=\"sk-toggleable__control sk-hidden--visually\" id=\"sk-estimator-id-41\" type=\"checkbox\" ><label for=\"sk-estimator-id-41\" class=\"sk-toggleable__label sk-toggleable__label-arrow\">num</label><div class=\"sk-toggleable__content\"><pre>[&#x27;cylinders&#x27;, &#x27;displacement&#x27;, &#x27;horsepower&#x27;, &#x27;weight&#x27;, &#x27;acceleration&#x27;, &#x27;model_year&#x27;]</pre></div></div></div><div class=\"sk-serial\"><div class=\"sk-item\"><div class=\"sk-serial\"><div class=\"sk-item\"><div class=\"sk-estimator sk-toggleable\"><input class=\"sk-toggleable__control sk-hidden--visually\" id=\"sk-estimator-id-42\" type=\"checkbox\" ><label for=\"sk-estimator-id-42\" class=\"sk-toggleable__label sk-toggleable__label-arrow\">SimpleImputer</label><div class=\"sk-toggleable__content\"><pre>SimpleImputer(strategy=&#x27;most_frequent&#x27;)</pre></div></div></div><div class=\"sk-item\"><div class=\"sk-estimator sk-toggleable\"><input class=\"sk-toggleable__control sk-hidden--visually\" id=\"sk-estimator-id-43\" type=\"checkbox\" ><label for=\"sk-estimator-id-43\" class=\"sk-toggleable__label sk-toggleable__label-arrow\">StandardScaler</label><div class=\"sk-toggleable__content\"><pre>StandardScaler()</pre></div></div></div></div></div></div></div></div><div class=\"sk-parallel-item\"><div class=\"sk-item\"><div class=\"sk-label-container\"><div class=\"sk-label sk-toggleable\"><input class=\"sk-toggleable__control sk-hidden--visually\" id=\"sk-estimator-id-44\" type=\"checkbox\" ><label for=\"sk-estimator-id-44\" class=\"sk-toggleable__label sk-toggleable__label-arrow\">remainder</label><div class=\"sk-toggleable__content\"><pre>[]</pre></div></div></div><div class=\"sk-serial\"><div class=\"sk-item\"><div class=\"sk-estimator sk-toggleable\"><input class=\"sk-toggleable__control sk-hidden--visually\" id=\"sk-estimator-id-45\" type=\"checkbox\" ><label for=\"sk-estimator-id-45\" class=\"sk-toggleable__label sk-toggleable__label-arrow\">passthrough</label><div class=\"sk-toggleable__content\"><pre>passthrough</pre></div></div></div></div></div></div></div></div><div class=\"sk-item\"><div class=\"sk-estimator sk-toggleable\"><input class=\"sk-toggleable__control sk-hidden--visually\" id=\"sk-estimator-id-46\" type=\"checkbox\" ><label for=\"sk-estimator-id-46\" class=\"sk-toggleable__label sk-toggleable__label-arrow\">DecisionTreeRegressor</label><div class=\"sk-toggleable__content\"><pre>DecisionTreeRegressor(random_state=12345)</pre></div></div></div></div></div></div></div></div></div></div></div></div>"
            ],
            "text/plain": [
              "RandomizedSearchCV(cv=5,\n",
              "                   estimator=Pipeline(steps=[('preprocessor',\n",
              "                                              ColumnTransformer(remainder='passthrough',\n",
              "                                                                transformers=[('ohe',\n",
              "                                                                               Pipeline(steps=[('imputer',\n",
              "                                                                                                SimpleImputer(strategy='most_frequent')),\n",
              "                                                                                               ('ohe',\n",
              "                                                                                                OneHotEncoder(drop='first',\n",
              "                                                                                                              handle_unknown='ignore',\n",
              "                                                                                                              sparse=False))]),\n",
              "                                                                               ['origin']),\n",
              "                                                                              ('num',\n",
              "                                                                               Pipeline(steps=[('imputer',\n",
              "                                                                                                SimpleImputer(strategy='most_fre...\n",
              "                                                                                'acceleration',\n",
              "                                                                                'model_year'])])),\n",
              "                                             ('models',\n",
              "                                              DecisionTreeRegressor(random_state=12345))]),\n",
              "                   n_jobs=-1,\n",
              "                   param_distributions={'models': [LinearRegression(),\n",
              "                                                   DecisionTreeRegressor(),\n",
              "                                                   SGDRegressor()],\n",
              "                                        'preprocessor__num__imputer': [SimpleImputer(),\n",
              "                                                                       KNNImputer()],\n",
              "                                        'preprocessor__num__scaler': [StandardScaler(),\n",
              "                                                                      MinMaxScaler(),\n",
              "                                                                      'passthrough']},\n",
              "                   scoring='neg_mean_absolute_error')"
            ]
          },
          "execution_count": 28,
          "metadata": {},
          "output_type": "execute_result"
        }
      ],
      "source": [
        "grid_rs = RandomizedSearchCV(\n",
        "    pipe_final,\n",
        "    param_distributions=param_grid,\n",
        "    cv=5,\n",
        "    scoring='neg_mean_absolute_error',\n",
        "    n_jobs = -1\n",
        ")\n",
        "grid_rs.fit(X_train, y_train)"
      ]
    },
    {
      "cell_type": "code",
      "execution_count": 29,
      "metadata": {
        "id": "j58aOyR63cCu"
      },
      "outputs": [],
      "source": [
        "df_cv_results = pd.DataFrame(grid_rs.cv_results_)"
      ]
    },
    {
      "cell_type": "code",
      "execution_count": 30,
      "metadata": {
        "colab": {
          "base_uri": "https://localhost:8080/",
          "height": 313
        },
        "id": "Eq7P-XCB3cF0",
        "outputId": "7c1395d7-b8c2-4879-ac92-d4510a038d7a"
      },
      "outputs": [
        {
          "data": {
            "application/vnd.google.colaboratory.intrinsic+json": {
              "summary": "{\n  \"name\": \"df_cv_results\",\n  \"rows\": 10,\n  \"fields\": [\n    {\n      \"column\": \"mean_fit_time\",\n      \"properties\": {\n        \"dtype\": \"number\",\n        \"std\": 0.03688624418331839,\n        \"min\": 0.08246636390686035,\n        \"max\": 0.2116910457611084,\n        \"num_unique_values\": 10,\n        \"samples\": [\n          0.12041950225830078,\n          0.11730084419250489,\n          0.2116910457611084\n        ],\n        \"semantic_type\": \"\",\n        \"description\": \"\"\n      }\n    },\n    {\n      \"column\": \"std_fit_time\",\n      \"properties\": {\n        \"dtype\": \"number\",\n        \"std\": 0.013605244343038156,\n        \"min\": 0.011450524791616084,\n        \"max\": 0.05317064750294736,\n        \"num_unique_values\": 10,\n        \"samples\": [\n          0.033600146299158674,\n          0.016415957605091135,\n          0.031235833312872087\n        ],\n        \"semantic_type\": \"\",\n        \"description\": \"\"\n      }\n    },\n    {\n      \"column\": \"mean_score_time\",\n      \"properties\": {\n        \"dtype\": \"number\",\n        \"std\": 0.013892245385524643,\n        \"min\": 0.02800431251525879,\n        \"max\": 0.07452902793884278,\n        \"num_unique_values\": 10,\n        \"samples\": [\n          0.053091573715209964,\n          0.06473984718322753,\n          0.07452902793884278\n        ],\n        \"semantic_type\": \"\",\n        \"description\": \"\"\n      }\n    },\n    {\n      \"column\": \"std_score_time\",\n      \"properties\": {\n        \"dtype\": \"number\",\n        \"std\": 0.008151591527584915,\n        \"min\": 0.0033701598708718947,\n        \"max\": 0.033570732914984934,\n        \"num_unique_values\": 10,\n        \"samples\": [\n          0.020952904705174906,\n          0.017563762620168802,\n          0.017572460182101516\n        ],\n        \"semantic_type\": \"\",\n        \"description\": \"\"\n      }\n    },\n    {\n      \"column\": \"param_preprocessor__num__scaler\",\n      \"properties\": {\n        \"dtype\": \"category\",\n        \"num_unique_values\": 3,\n        \"samples\": [\n          \"passthrough\",\n          \"MinMaxScaler()\",\n          \"StandardScaler()\"\n        ],\n        \"semantic_type\": \"\",\n        \"description\": \"\"\n      }\n    },\n    {\n      \"column\": \"param_preprocessor__num__imputer\",\n      \"properties\": {\n        \"dtype\": \"category\",\n        \"num_unique_values\": 2,\n        \"samples\": [\n          \"SimpleImputer()\",\n          \"KNNImputer()\"\n        ],\n        \"semantic_type\": \"\",\n        \"description\": \"\"\n      }\n    },\n    {\n      \"column\": \"param_models\",\n      \"properties\": {\n        \"dtype\": \"category\",\n        \"num_unique_values\": 3,\n        \"samples\": [\n          \"DecisionTreeRegressor()\",\n          \"LinearRegression()\"\n        ],\n        \"semantic_type\": \"\",\n        \"description\": \"\"\n      }\n    },\n    {\n      \"column\": \"params\",\n      \"properties\": {\n        \"dtype\": \"object\",\n        \"semantic_type\": \"\",\n        \"description\": \"\"\n      }\n    },\n    {\n      \"column\": \"split0_test_score\",\n      \"properties\": {\n        \"dtype\": \"number\",\n        \"std\": 998356991469465.2,\n        \"min\": -3157082010996806.0,\n        \"max\": -2.5620084734563315,\n        \"num_unique_values\": 10,\n        \"samples\": [\n          -2.5741686028690194,\n          -2.5922530615071864\n        ],\n        \"semantic_type\": \"\",\n        \"description\": \"\"\n      }\n    },\n    {\n      \"column\": \"split1_test_score\",\n      \"properties\": {\n        \"dtype\": \"number\",\n        \"std\": 1240399092368706.2,\n        \"min\": -3922486339490696.5,\n        \"max\": -2.1765625,\n        \"num_unique_values\": 10,\n        \"samples\": [\n          -2.4061414998562,\n          -2.4064585138940773\n        ],\n        \"semantic_type\": \"\",\n        \"description\": \"\"\n      }\n    },\n    {\n      \"column\": \"split2_test_score\",\n      \"properties\": {\n        \"dtype\": \"number\",\n        \"std\": 1005410372196311.4,\n        \"min\": -3179386759297974.0,\n        \"max\": -2.616884236079539,\n        \"num_unique_values\": 10,\n        \"samples\": [\n          -2.652528848472708,\n          -2.7025353640276424\n        ],\n        \"semantic_type\": \"\",\n        \"description\": \"\"\n      }\n    },\n    {\n      \"column\": \"split3_test_score\",\n      \"properties\": {\n        \"dtype\": \"number\",\n        \"std\": 648543897361774.1,\n        \"min\": -2050875878265675.5,\n        \"max\": -2.6634920634920634,\n        \"num_unique_values\": 10,\n        \"samples\": [\n          -2.7693944288048336,\n          -2.766736483190602\n        ],\n        \"semantic_type\": \"\",\n        \"description\": \"\"\n      }\n    },\n    {\n      \"column\": \"split4_test_score\",\n      \"properties\": {\n        \"dtype\": \"number\",\n        \"std\": 190747216295743.7,\n        \"min\": -603195660831338.9,\n        \"max\": -2.6904761904761907,\n        \"num_unique_values\": 10,\n        \"samples\": [\n          -2.8530963841560846,\n          -2.8625734485678778\n        ],\n        \"semantic_type\": \"\",\n        \"description\": \"\"\n      }\n    },\n    {\n      \"column\": \"mean_test_score\",\n      \"properties\": {\n        \"dtype\": \"number\",\n        \"std\": 816691513938400.2,\n        \"min\": -2582605329776498.0,\n        \"max\": -2.582668650793651,\n        \"num_unique_values\": 10,\n        \"samples\": [\n          -2.651065952831769,\n          -2.666111374237477\n        ],\n        \"semantic_type\": \"\",\n        \"description\": \"\"\n      }\n    },\n    {\n      \"column\": \"std_test_score\",\n      \"properties\": {\n        \"dtype\": \"number\",\n        \"std\": 365574930737815.2,\n        \"min\": 0.15000959386047863,\n        \"max\": 1156049436589795.8,\n        \"num_unique_values\": 10,\n        \"samples\": [\n          0.1553842035520527,\n          0.15679548748490227\n        ],\n        \"semantic_type\": \"\",\n        \"description\": \"\"\n      }\n    },\n    {\n      \"column\": \"rank_test_score\",\n      \"properties\": {\n        \"dtype\": \"int32\",\n        \"num_unique_values\": 10,\n        \"samples\": [\n          3,\n          5\n        ],\n        \"semantic_type\": \"\",\n        \"description\": \"\"\n      }\n    }\n  ]\n}",
              "type": "dataframe",
              "variable_name": "df_cv_results"
            },
            "text/html": [
              "\n",
              "  <div id=\"df-e98007fa-f63d-4a4a-b13b-0a3a7117fec8\" class=\"colab-df-container\">\n",
              "    <div>\n",
              "<style scoped>\n",
              "    .dataframe tbody tr th:only-of-type {\n",
              "        vertical-align: middle;\n",
              "    }\n",
              "\n",
              "    .dataframe tbody tr th {\n",
              "        vertical-align: top;\n",
              "    }\n",
              "\n",
              "    .dataframe thead th {\n",
              "        text-align: right;\n",
              "    }\n",
              "</style>\n",
              "<table border=\"1\" class=\"dataframe\">\n",
              "  <thead>\n",
              "    <tr style=\"text-align: right;\">\n",
              "      <th></th>\n",
              "      <th>mean_fit_time</th>\n",
              "      <th>std_fit_time</th>\n",
              "      <th>mean_score_time</th>\n",
              "      <th>std_score_time</th>\n",
              "      <th>param_preprocessor__num__scaler</th>\n",
              "      <th>param_preprocessor__num__imputer</th>\n",
              "      <th>param_models</th>\n",
              "      <th>params</th>\n",
              "      <th>split0_test_score</th>\n",
              "      <th>split1_test_score</th>\n",
              "      <th>split2_test_score</th>\n",
              "      <th>split3_test_score</th>\n",
              "      <th>split4_test_score</th>\n",
              "      <th>mean_test_score</th>\n",
              "      <th>std_test_score</th>\n",
              "      <th>rank_test_score</th>\n",
              "    </tr>\n",
              "  </thead>\n",
              "  <tbody>\n",
              "    <tr>\n",
              "      <th>0</th>\n",
              "      <td>0.113382</td>\n",
              "      <td>0.017205</td>\n",
              "      <td>0.073529</td>\n",
              "      <td>0.033571</td>\n",
              "      <td>passthrough</td>\n",
              "      <td>KNNImputer()</td>\n",
              "      <td>DecisionTreeRegressor()</td>\n",
              "      <td>{'preprocessor__num__scaler': 'passthrough', '...</td>\n",
              "      <td>-2.753125e+00</td>\n",
              "      <td>-2.176563e+00</td>\n",
              "      <td>-2.629688e+00</td>\n",
              "      <td>-2.663492e+00</td>\n",
              "      <td>-2.690476e+00</td>\n",
              "      <td>-2.582669e+00</td>\n",
              "      <td>2.070475e-01</td>\n",
              "      <td>1</td>\n",
              "    </tr>\n",
              "    <tr>\n",
              "      <th>1</th>\n",
              "      <td>0.117301</td>\n",
              "      <td>0.016416</td>\n",
              "      <td>0.064740</td>\n",
              "      <td>0.017564</td>\n",
              "      <td>passthrough</td>\n",
              "      <td>KNNImputer()</td>\n",
              "      <td>LinearRegression()</td>\n",
              "      <td>{'preprocessor__num__scaler': 'passthrough', '...</td>\n",
              "      <td>-2.592253e+00</td>\n",
              "      <td>-2.406459e+00</td>\n",
              "      <td>-2.702535e+00</td>\n",
              "      <td>-2.766736e+00</td>\n",
              "      <td>-2.862573e+00</td>\n",
              "      <td>-2.666111e+00</td>\n",
              "      <td>1.567955e-01</td>\n",
              "      <td>5</td>\n",
              "    </tr>\n",
              "    <tr>\n",
              "      <th>2</th>\n",
              "      <td>0.114599</td>\n",
              "      <td>0.011451</td>\n",
              "      <td>0.058298</td>\n",
              "      <td>0.016466</td>\n",
              "      <td>MinMaxScaler()</td>\n",
              "      <td>KNNImputer()</td>\n",
              "      <td>DecisionTreeRegressor()</td>\n",
              "      <td>{'preprocessor__num__scaler': MinMaxScaler(), ...</td>\n",
              "      <td>-2.954688e+00</td>\n",
              "      <td>-2.235938e+00</td>\n",
              "      <td>-2.679688e+00</td>\n",
              "      <td>-2.679365e+00</td>\n",
              "      <td>-2.728571e+00</td>\n",
              "      <td>-2.655650e+00</td>\n",
              "      <td>2.332551e-01</td>\n",
              "      <td>4</td>\n",
              "    </tr>\n",
              "    <tr>\n",
              "      <th>3</th>\n",
              "      <td>0.082466</td>\n",
              "      <td>0.028774</td>\n",
              "      <td>0.045677</td>\n",
              "      <td>0.016165</td>\n",
              "      <td>StandardScaler()</td>\n",
              "      <td>KNNImputer()</td>\n",
              "      <td>LinearRegression()</td>\n",
              "      <td>{'preprocessor__num__scaler': StandardScaler()...</td>\n",
              "      <td>-2.592253e+00</td>\n",
              "      <td>-2.406459e+00</td>\n",
              "      <td>-2.702535e+00</td>\n",
              "      <td>-2.766736e+00</td>\n",
              "      <td>-2.862573e+00</td>\n",
              "      <td>-2.666111e+00</td>\n",
              "      <td>1.567955e-01</td>\n",
              "      <td>6</td>\n",
              "    </tr>\n",
              "    <tr>\n",
              "      <th>4</th>\n",
              "      <td>0.138055</td>\n",
              "      <td>0.035127</td>\n",
              "      <td>0.059387</td>\n",
              "      <td>0.016904</td>\n",
              "      <td>passthrough</td>\n",
              "      <td>SimpleImputer()</td>\n",
              "      <td>SGDRegressor()</td>\n",
              "      <td>{'preprocessor__num__scaler': 'passthrough', '...</td>\n",
              "      <td>-3.157082e+15</td>\n",
              "      <td>-3.922486e+15</td>\n",
              "      <td>-3.179387e+15</td>\n",
              "      <td>-2.050876e+15</td>\n",
              "      <td>-6.031957e+14</td>\n",
              "      <td>-2.582605e+15</td>\n",
              "      <td>1.156049e+15</td>\n",
              "      <td>10</td>\n",
              "    </tr>\n",
              "  </tbody>\n",
              "</table>\n",
              "</div>\n",
              "    <div class=\"colab-df-buttons\">\n",
              "\n",
              "  <div class=\"colab-df-container\">\n",
              "    <button class=\"colab-df-convert\" onclick=\"convertToInteractive('df-e98007fa-f63d-4a4a-b13b-0a3a7117fec8')\"\n",
              "            title=\"Convert this dataframe to an interactive table.\"\n",
              "            style=\"display:none;\">\n",
              "\n",
              "  <svg xmlns=\"http://www.w3.org/2000/svg\" height=\"24px\" viewBox=\"0 -960 960 960\">\n",
              "    <path d=\"M120-120v-720h720v720H120Zm60-500h600v-160H180v160Zm220 220h160v-160H400v160Zm0 220h160v-160H400v160ZM180-400h160v-160H180v160Zm440 0h160v-160H620v160ZM180-180h160v-160H180v160Zm440 0h160v-160H620v160Z\"/>\n",
              "  </svg>\n",
              "    </button>\n",
              "\n",
              "  <style>\n",
              "    .colab-df-container {\n",
              "      display:flex;\n",
              "      gap: 12px;\n",
              "    }\n",
              "\n",
              "    .colab-df-convert {\n",
              "      background-color: #E8F0FE;\n",
              "      border: none;\n",
              "      border-radius: 50%;\n",
              "      cursor: pointer;\n",
              "      display: none;\n",
              "      fill: #1967D2;\n",
              "      height: 32px;\n",
              "      padding: 0 0 0 0;\n",
              "      width: 32px;\n",
              "    }\n",
              "\n",
              "    .colab-df-convert:hover {\n",
              "      background-color: #E2EBFA;\n",
              "      box-shadow: 0px 1px 2px rgba(60, 64, 67, 0.3), 0px 1px 3px 1px rgba(60, 64, 67, 0.15);\n",
              "      fill: #174EA6;\n",
              "    }\n",
              "\n",
              "    .colab-df-buttons div {\n",
              "      margin-bottom: 4px;\n",
              "    }\n",
              "\n",
              "    [theme=dark] .colab-df-convert {\n",
              "      background-color: #3B4455;\n",
              "      fill: #D2E3FC;\n",
              "    }\n",
              "\n",
              "    [theme=dark] .colab-df-convert:hover {\n",
              "      background-color: #434B5C;\n",
              "      box-shadow: 0px 1px 3px 1px rgba(0, 0, 0, 0.15);\n",
              "      filter: drop-shadow(0px 1px 2px rgba(0, 0, 0, 0.3));\n",
              "      fill: #FFFFFF;\n",
              "    }\n",
              "  </style>\n",
              "\n",
              "    <script>\n",
              "      const buttonEl =\n",
              "        document.querySelector('#df-e98007fa-f63d-4a4a-b13b-0a3a7117fec8 button.colab-df-convert');\n",
              "      buttonEl.style.display =\n",
              "        google.colab.kernel.accessAllowed ? 'block' : 'none';\n",
              "\n",
              "      async function convertToInteractive(key) {\n",
              "        const element = document.querySelector('#df-e98007fa-f63d-4a4a-b13b-0a3a7117fec8');\n",
              "        const dataTable =\n",
              "          await google.colab.kernel.invokeFunction('convertToInteractive',\n",
              "                                                    [key], {});\n",
              "        if (!dataTable) return;\n",
              "\n",
              "        const docLinkHtml = 'Like what you see? Visit the ' +\n",
              "          '<a target=\"_blank\" href=https://colab.research.google.com/notebooks/data_table.ipynb>data table notebook</a>'\n",
              "          + ' to learn more about interactive tables.';\n",
              "        element.innerHTML = '';\n",
              "        dataTable['output_type'] = 'display_data';\n",
              "        await google.colab.output.renderOutput(dataTable, element);\n",
              "        const docLink = document.createElement('div');\n",
              "        docLink.innerHTML = docLinkHtml;\n",
              "        element.appendChild(docLink);\n",
              "      }\n",
              "    </script>\n",
              "  </div>\n",
              "\n",
              "\n",
              "<div id=\"df-17953668-e8b9-4729-862d-090f8a363b08\">\n",
              "  <button class=\"colab-df-quickchart\" onclick=\"quickchart('df-17953668-e8b9-4729-862d-090f8a363b08')\"\n",
              "            title=\"Suggest charts\"\n",
              "            style=\"display:none;\">\n",
              "\n",
              "<svg xmlns=\"http://www.w3.org/2000/svg\" height=\"24px\"viewBox=\"0 0 24 24\"\n",
              "     width=\"24px\">\n",
              "    <g>\n",
              "        <path d=\"M19 3H5c-1.1 0-2 .9-2 2v14c0 1.1.9 2 2 2h14c1.1 0 2-.9 2-2V5c0-1.1-.9-2-2-2zM9 17H7v-7h2v7zm4 0h-2V7h2v10zm4 0h-2v-4h2v4z\"/>\n",
              "    </g>\n",
              "</svg>\n",
              "  </button>\n",
              "\n",
              "<style>\n",
              "  .colab-df-quickchart {\n",
              "      --bg-color: #E8F0FE;\n",
              "      --fill-color: #1967D2;\n",
              "      --hover-bg-color: #E2EBFA;\n",
              "      --hover-fill-color: #174EA6;\n",
              "      --disabled-fill-color: #AAA;\n",
              "      --disabled-bg-color: #DDD;\n",
              "  }\n",
              "\n",
              "  [theme=dark] .colab-df-quickchart {\n",
              "      --bg-color: #3B4455;\n",
              "      --fill-color: #D2E3FC;\n",
              "      --hover-bg-color: #434B5C;\n",
              "      --hover-fill-color: #FFFFFF;\n",
              "      --disabled-bg-color: #3B4455;\n",
              "      --disabled-fill-color: #666;\n",
              "  }\n",
              "\n",
              "  .colab-df-quickchart {\n",
              "    background-color: var(--bg-color);\n",
              "    border: none;\n",
              "    border-radius: 50%;\n",
              "    cursor: pointer;\n",
              "    display: none;\n",
              "    fill: var(--fill-color);\n",
              "    height: 32px;\n",
              "    padding: 0;\n",
              "    width: 32px;\n",
              "  }\n",
              "\n",
              "  .colab-df-quickchart:hover {\n",
              "    background-color: var(--hover-bg-color);\n",
              "    box-shadow: 0 1px 2px rgba(60, 64, 67, 0.3), 0 1px 3px 1px rgba(60, 64, 67, 0.15);\n",
              "    fill: var(--button-hover-fill-color);\n",
              "  }\n",
              "\n",
              "  .colab-df-quickchart-complete:disabled,\n",
              "  .colab-df-quickchart-complete:disabled:hover {\n",
              "    background-color: var(--disabled-bg-color);\n",
              "    fill: var(--disabled-fill-color);\n",
              "    box-shadow: none;\n",
              "  }\n",
              "\n",
              "  .colab-df-spinner {\n",
              "    border: 2px solid var(--fill-color);\n",
              "    border-color: transparent;\n",
              "    border-bottom-color: var(--fill-color);\n",
              "    animation:\n",
              "      spin 1s steps(1) infinite;\n",
              "  }\n",
              "\n",
              "  @keyframes spin {\n",
              "    0% {\n",
              "      border-color: transparent;\n",
              "      border-bottom-color: var(--fill-color);\n",
              "      border-left-color: var(--fill-color);\n",
              "    }\n",
              "    20% {\n",
              "      border-color: transparent;\n",
              "      border-left-color: var(--fill-color);\n",
              "      border-top-color: var(--fill-color);\n",
              "    }\n",
              "    30% {\n",
              "      border-color: transparent;\n",
              "      border-left-color: var(--fill-color);\n",
              "      border-top-color: var(--fill-color);\n",
              "      border-right-color: var(--fill-color);\n",
              "    }\n",
              "    40% {\n",
              "      border-color: transparent;\n",
              "      border-right-color: var(--fill-color);\n",
              "      border-top-color: var(--fill-color);\n",
              "    }\n",
              "    60% {\n",
              "      border-color: transparent;\n",
              "      border-right-color: var(--fill-color);\n",
              "    }\n",
              "    80% {\n",
              "      border-color: transparent;\n",
              "      border-right-color: var(--fill-color);\n",
              "      border-bottom-color: var(--fill-color);\n",
              "    }\n",
              "    90% {\n",
              "      border-color: transparent;\n",
              "      border-bottom-color: var(--fill-color);\n",
              "    }\n",
              "  }\n",
              "</style>\n",
              "\n",
              "  <script>\n",
              "    async function quickchart(key) {\n",
              "      const quickchartButtonEl =\n",
              "        document.querySelector('#' + key + ' button');\n",
              "      quickchartButtonEl.disabled = true;  // To prevent multiple clicks.\n",
              "      quickchartButtonEl.classList.add('colab-df-spinner');\n",
              "      try {\n",
              "        const charts = await google.colab.kernel.invokeFunction(\n",
              "            'suggestCharts', [key], {});\n",
              "      } catch (error) {\n",
              "        console.error('Error during call to suggestCharts:', error);\n",
              "      }\n",
              "      quickchartButtonEl.classList.remove('colab-df-spinner');\n",
              "      quickchartButtonEl.classList.add('colab-df-quickchart-complete');\n",
              "    }\n",
              "    (() => {\n",
              "      let quickchartButtonEl =\n",
              "        document.querySelector('#df-17953668-e8b9-4729-862d-090f8a363b08 button');\n",
              "      quickchartButtonEl.style.display =\n",
              "        google.colab.kernel.accessAllowed ? 'block' : 'none';\n",
              "    })();\n",
              "  </script>\n",
              "</div>\n",
              "    </div>\n",
              "  </div>\n"
            ],
            "text/plain": [
              "   mean_fit_time  std_fit_time  mean_score_time  std_score_time  \\\n",
              "0       0.113382      0.017205         0.073529        0.033571   \n",
              "1       0.117301      0.016416         0.064740        0.017564   \n",
              "2       0.114599      0.011451         0.058298        0.016466   \n",
              "3       0.082466      0.028774         0.045677        0.016165   \n",
              "4       0.138055      0.035127         0.059387        0.016904   \n",
              "\n",
              "  param_preprocessor__num__scaler param_preprocessor__num__imputer  \\\n",
              "0                     passthrough                     KNNImputer()   \n",
              "1                     passthrough                     KNNImputer()   \n",
              "2                  MinMaxScaler()                     KNNImputer()   \n",
              "3                StandardScaler()                     KNNImputer()   \n",
              "4                     passthrough                  SimpleImputer()   \n",
              "\n",
              "              param_models                                             params  \\\n",
              "0  DecisionTreeRegressor()  {'preprocessor__num__scaler': 'passthrough', '...   \n",
              "1       LinearRegression()  {'preprocessor__num__scaler': 'passthrough', '...   \n",
              "2  DecisionTreeRegressor()  {'preprocessor__num__scaler': MinMaxScaler(), ...   \n",
              "3       LinearRegression()  {'preprocessor__num__scaler': StandardScaler()...   \n",
              "4           SGDRegressor()  {'preprocessor__num__scaler': 'passthrough', '...   \n",
              "\n",
              "   split0_test_score  split1_test_score  split2_test_score  split3_test_score  \\\n",
              "0      -2.753125e+00      -2.176563e+00      -2.629688e+00      -2.663492e+00   \n",
              "1      -2.592253e+00      -2.406459e+00      -2.702535e+00      -2.766736e+00   \n",
              "2      -2.954688e+00      -2.235938e+00      -2.679688e+00      -2.679365e+00   \n",
              "3      -2.592253e+00      -2.406459e+00      -2.702535e+00      -2.766736e+00   \n",
              "4      -3.157082e+15      -3.922486e+15      -3.179387e+15      -2.050876e+15   \n",
              "\n",
              "   split4_test_score  mean_test_score  std_test_score  rank_test_score  \n",
              "0      -2.690476e+00    -2.582669e+00    2.070475e-01                1  \n",
              "1      -2.862573e+00    -2.666111e+00    1.567955e-01                5  \n",
              "2      -2.728571e+00    -2.655650e+00    2.332551e-01                4  \n",
              "3      -2.862573e+00    -2.666111e+00    1.567955e-01                6  \n",
              "4      -6.031957e+14    -2.582605e+15    1.156049e+15               10  "
            ]
          },
          "execution_count": 30,
          "metadata": {},
          "output_type": "execute_result"
        }
      ],
      "source": [
        "df_cv_results.head()"
      ]
    },
    {
      "cell_type": "code",
      "execution_count": 31,
      "metadata": {
        "colab": {
          "base_uri": "https://localhost:8080/"
        },
        "id": "GvIWEaDr9kaw",
        "outputId": "00fcc371-670c-4e48-e8ca-d8add3d56a44"
      },
      "outputs": [
        {
          "name": "stdout",
          "output_type": "stream",
          "text": [
            "Лучшая модель и её параметры:\n",
            "\n",
            " Pipeline(steps=[('preprocessor',\n",
            "                 ColumnTransformer(remainder='passthrough',\n",
            "                                   transformers=[('ohe',\n",
            "                                                  Pipeline(steps=[('imputer',\n",
            "                                                                   SimpleImputer(strategy='most_frequent')),\n",
            "                                                                  ('ohe',\n",
            "                                                                   OneHotEncoder(drop='first',\n",
            "                                                                                 handle_unknown='ignore',\n",
            "                                                                                 sparse=False))]),\n",
            "                                                  ['origin']),\n",
            "                                                 ('num',\n",
            "                                                  Pipeline(steps=[('imputer',\n",
            "                                                                   KNNImputer()),\n",
            "                                                                  ('scaler',\n",
            "                                                                   'passthrough')]),\n",
            "                                                  ['cylinders', 'displacement',\n",
            "                                                   'horsepower', 'weight',\n",
            "                                                   'acceleration',\n",
            "                                                   'model_year'])])),\n",
            "                ('models', DecisionTreeRegressor())])\n",
            "Метрика лучшей модели на тренировочной выборке: -2.582668650793651\n"
          ]
        }
      ],
      "source": [
        "\n",
        "print('Лучшая модель и её параметры:\\n\\n', grid_rs.best_estimator_)\n",
        "print ('Метрика лучшей модели на тренировочной выборке:', grid_rs.best_score_)\n"
      ]
    },
    {
      "cell_type": "code",
      "execution_count": 31,
      "metadata": {
        "id": "m89t8IAWDmI_"
      },
      "outputs": [],
      "source": []
    },
    {
      "cell_type": "markdown",
      "metadata": {
        "id": "Ak1V6kSND3ro"
      },
      "source": [
        "## HalvingGridSearchCV"
      ]
    },
    {
      "cell_type": "markdown",
      "metadata": {
        "id": "tcZdJdMWKa_e"
      },
      "source": [
        "HalvingGridSearchCV сочетает Grid Search и Successive Halving, чтобы улучшить эффективность поиска оптимальных гиперпараметров. Он начинает с оценки всех комбинаций гиперпараметров с небольшим количеством ресурсов (например, малое количество итераций или маленький подвыборку данных), затем отбирает лучшие и оценивает их с большим количеством ресурсов."
      ]
    },
    {
      "cell_type": "markdown",
      "metadata": {
        "id": "nnFbm19ABqGa"
      },
      "source": [
        "Successive Halving (Постепенное сокращение): Идея метода заключается в том, что на начальных этапах рассматривается много комбинаций гиперпараметров, но каждая из них оценивается на небольшом числе обучающих данных. На каждом следующем этапе число комбинаций уменьшается (удаляя наименее эффективные), но увеличивается количество данных, используемых для оценки оставшихся комбинаций.\n",
        "\n",
        "Grid Search (Перебор сетки): Как и в обычном GridSearchCV, HalvingGridSearchCV ищет лучшие гиперпараметры по сетке возможных значений."
      ]
    },
    {
      "cell_type": "markdown",
      "metadata": {
        "id": "eG_RNe-HBvG1"
      },
      "source": [
        "Преимущества\n",
        "Эффективность: Значительно уменьшает время обучения по сравнению с обычным GridSearchCV, особенно на больших датасетах.\n",
        "Гибкость: Позволяет настроить параметры для баланса между временем обучения и качеством модели."
      ]
    },
    {
      "cell_type": "markdown",
      "metadata": {
        "id": "sf79upUjB2ps"
      },
      "source": [
        "Основные параметры\n",
        "- estimator: модель, для которой необходимо провести поиск гиперпараметров.\n",
        "- param_grid: сетка гиперпараметров для перебора.\n",
        "factor: множитель, определяющий, насколько быстро сокращается число комбинаций гиперпараметров (по умолчанию 3).\n",
        "- resource: Этот параметр указывает, какой ресурс будет увеличиваться на каждом этапе. Обычно это количество образцов (n_samples), но может быть и количество признаков (n_features). По умолчанию используется n_samples.\n",
        "- min_resources: Минимальное количество ресурсов, которое будет использовано на первом этапе. Этот параметр задает нижний предел количества данных, которые будут использоваться для оценки на начальном этапе. Если этот параметр не задан, HalvingGridSearchCV автоматически определяет его.\n",
        "- max_resources: Максимальное количество ресурсов, которое может быть использовано. Если не указано, будет использовано количество данных, равное размеру всего набора данных.\n",
        "- factor: Множитель, определяющий, насколько быстро сокращается число комбинаций гиперпараметров и увеличивается количество используемых данных на каждом этапе. Например, при factor=2 количество данных будет удваиваться на каждом этапе.\n",
        "- cv: количество фолдов для кросс-валидации."
      ]
    },
    {
      "cell_type": "code",
      "execution_count": 32,
      "metadata": {
        "colab": {
          "base_uri": "https://localhost:8080/",
          "height": 309
        },
        "id": "_133bf4rElDC",
        "outputId": "7eda7ebd-b8f5-4bf5-f029-15d1c5d8a9af"
      },
      "outputs": [
        {
          "name": "stderr",
          "output_type": "stream",
          "text": [
            "/usr/local/lib/python3.10/dist-packages/sklearn/preprocessing/_encoders.py:868: FutureWarning: `sparse` was renamed to `sparse_output` in version 1.2 and will be removed in 1.4. `sparse_output` is ignored unless you leave `sparse` to its default value.\n",
            "  warnings.warn(\n"
          ]
        },
        {
          "data": {
            "text/html": [
              "<style>#sk-container-id-5 {color: black;background-color: white;}#sk-container-id-5 pre{padding: 0;}#sk-container-id-5 div.sk-toggleable {background-color: white;}#sk-container-id-5 label.sk-toggleable__label {cursor: pointer;display: block;width: 100%;margin-bottom: 0;padding: 0.3em;box-sizing: border-box;text-align: center;}#sk-container-id-5 label.sk-toggleable__label-arrow:before {content: \"▸\";float: left;margin-right: 0.25em;color: #696969;}#sk-container-id-5 label.sk-toggleable__label-arrow:hover:before {color: black;}#sk-container-id-5 div.sk-estimator:hover label.sk-toggleable__label-arrow:before {color: black;}#sk-container-id-5 div.sk-toggleable__content {max-height: 0;max-width: 0;overflow: hidden;text-align: left;background-color: #f0f8ff;}#sk-container-id-5 div.sk-toggleable__content pre {margin: 0.2em;color: black;border-radius: 0.25em;background-color: #f0f8ff;}#sk-container-id-5 input.sk-toggleable__control:checked~div.sk-toggleable__content {max-height: 200px;max-width: 100%;overflow: auto;}#sk-container-id-5 input.sk-toggleable__control:checked~label.sk-toggleable__label-arrow:before {content: \"▾\";}#sk-container-id-5 div.sk-estimator input.sk-toggleable__control:checked~label.sk-toggleable__label {background-color: #d4ebff;}#sk-container-id-5 div.sk-label input.sk-toggleable__control:checked~label.sk-toggleable__label {background-color: #d4ebff;}#sk-container-id-5 input.sk-hidden--visually {border: 0;clip: rect(1px 1px 1px 1px);clip: rect(1px, 1px, 1px, 1px);height: 1px;margin: -1px;overflow: hidden;padding: 0;position: absolute;width: 1px;}#sk-container-id-5 div.sk-estimator {font-family: monospace;background-color: #f0f8ff;border: 1px dotted black;border-radius: 0.25em;box-sizing: border-box;margin-bottom: 0.5em;}#sk-container-id-5 div.sk-estimator:hover {background-color: #d4ebff;}#sk-container-id-5 div.sk-parallel-item::after {content: \"\";width: 100%;border-bottom: 1px solid gray;flex-grow: 1;}#sk-container-id-5 div.sk-label:hover label.sk-toggleable__label {background-color: #d4ebff;}#sk-container-id-5 div.sk-serial::before {content: \"\";position: absolute;border-left: 1px solid gray;box-sizing: border-box;top: 0;bottom: 0;left: 50%;z-index: 0;}#sk-container-id-5 div.sk-serial {display: flex;flex-direction: column;align-items: center;background-color: white;padding-right: 0.2em;padding-left: 0.2em;position: relative;}#sk-container-id-5 div.sk-item {position: relative;z-index: 1;}#sk-container-id-5 div.sk-parallel {display: flex;align-items: stretch;justify-content: center;background-color: white;position: relative;}#sk-container-id-5 div.sk-item::before, #sk-container-id-5 div.sk-parallel-item::before {content: \"\";position: absolute;border-left: 1px solid gray;box-sizing: border-box;top: 0;bottom: 0;left: 50%;z-index: -1;}#sk-container-id-5 div.sk-parallel-item {display: flex;flex-direction: column;z-index: 1;position: relative;background-color: white;}#sk-container-id-5 div.sk-parallel-item:first-child::after {align-self: flex-end;width: 50%;}#sk-container-id-5 div.sk-parallel-item:last-child::after {align-self: flex-start;width: 50%;}#sk-container-id-5 div.sk-parallel-item:only-child::after {width: 0;}#sk-container-id-5 div.sk-dashed-wrapped {border: 1px dashed gray;margin: 0 0.4em 0.5em 0.4em;box-sizing: border-box;padding-bottom: 0.4em;background-color: white;}#sk-container-id-5 div.sk-label label {font-family: monospace;font-weight: bold;display: inline-block;line-height: 1.2em;}#sk-container-id-5 div.sk-label-container {text-align: center;}#sk-container-id-5 div.sk-container {/* jupyter's `normalize.less` sets `[hidden] { display: none; }` but bootstrap.min.css set `[hidden] { display: none !important; }` so we also need the `!important` here to be able to override the default hidden behavior on the sphinx rendered scikit-learn.org. See: https://github.com/scikit-learn/scikit-learn/issues/21755 */display: inline-block !important;position: relative;}#sk-container-id-5 div.sk-text-repr-fallback {display: none;}</style><div id=\"sk-container-id-5\" class=\"sk-top-container\"><div class=\"sk-text-repr-fallback\"><pre>HalvingGridSearchCV(estimator=Pipeline(steps=[(&#x27;preprocessor&#x27;,\n",
              "                                               ColumnTransformer(remainder=&#x27;passthrough&#x27;,\n",
              "                                                                 transformers=[(&#x27;ohe&#x27;,\n",
              "                                                                                Pipeline(steps=[(&#x27;imputer&#x27;,\n",
              "                                                                                                 SimpleImputer(strategy=&#x27;most_frequent&#x27;)),\n",
              "                                                                                                (&#x27;ohe&#x27;,\n",
              "                                                                                                 OneHotEncoder(drop=&#x27;first&#x27;,\n",
              "                                                                                                               handle_unknown=&#x27;ignore&#x27;,\n",
              "                                                                                                               sparse=False))]),\n",
              "                                                                                [&#x27;origin&#x27;]),\n",
              "                                                                               (&#x27;num&#x27;,\n",
              "                                                                                Pipeline(steps=[(&#x27;imputer&#x27;,\n",
              "                                                                                                 SimpleImputer(strategy=&#x27;most_frequen...\n",
              "                                                                                 &#x27;acceleration&#x27;,\n",
              "                                                                                 &#x27;model_year&#x27;])])),\n",
              "                                              (&#x27;models&#x27;,\n",
              "                                               DecisionTreeRegressor(random_state=12345))]),\n",
              "                    n_jobs=-1,\n",
              "                    param_grid={&#x27;models&#x27;: [LinearRegression(),\n",
              "                                           DecisionTreeRegressor(),\n",
              "                                           SGDRegressor()],\n",
              "                                &#x27;preprocessor__num__imputer&#x27;: [SimpleImputer(),\n",
              "                                                               KNNImputer()],\n",
              "                                &#x27;preprocessor__num__scaler&#x27;: [StandardScaler(),\n",
              "                                                              MinMaxScaler(),\n",
              "                                                              &#x27;passthrough&#x27;]},\n",
              "                    scoring=&#x27;neg_mean_absolute_error&#x27;)</pre><b>In a Jupyter environment, please rerun this cell to show the HTML representation or trust the notebook. <br />On GitHub, the HTML representation is unable to render, please try loading this page with nbviewer.org.</b></div><div class=\"sk-container\" hidden><div class=\"sk-item sk-dashed-wrapped\"><div class=\"sk-label-container\"><div class=\"sk-label sk-toggleable\"><input class=\"sk-toggleable__control sk-hidden--visually\" id=\"sk-estimator-id-47\" type=\"checkbox\" ><label for=\"sk-estimator-id-47\" class=\"sk-toggleable__label sk-toggleable__label-arrow\">HalvingGridSearchCV</label><div class=\"sk-toggleable__content\"><pre>HalvingGridSearchCV(estimator=Pipeline(steps=[(&#x27;preprocessor&#x27;,\n",
              "                                               ColumnTransformer(remainder=&#x27;passthrough&#x27;,\n",
              "                                                                 transformers=[(&#x27;ohe&#x27;,\n",
              "                                                                                Pipeline(steps=[(&#x27;imputer&#x27;,\n",
              "                                                                                                 SimpleImputer(strategy=&#x27;most_frequent&#x27;)),\n",
              "                                                                                                (&#x27;ohe&#x27;,\n",
              "                                                                                                 OneHotEncoder(drop=&#x27;first&#x27;,\n",
              "                                                                                                               handle_unknown=&#x27;ignore&#x27;,\n",
              "                                                                                                               sparse=False))]),\n",
              "                                                                                [&#x27;origin&#x27;]),\n",
              "                                                                               (&#x27;num&#x27;,\n",
              "                                                                                Pipeline(steps=[(&#x27;imputer&#x27;,\n",
              "                                                                                                 SimpleImputer(strategy=&#x27;most_frequen...\n",
              "                                                                                 &#x27;acceleration&#x27;,\n",
              "                                                                                 &#x27;model_year&#x27;])])),\n",
              "                                              (&#x27;models&#x27;,\n",
              "                                               DecisionTreeRegressor(random_state=12345))]),\n",
              "                    n_jobs=-1,\n",
              "                    param_grid={&#x27;models&#x27;: [LinearRegression(),\n",
              "                                           DecisionTreeRegressor(),\n",
              "                                           SGDRegressor()],\n",
              "                                &#x27;preprocessor__num__imputer&#x27;: [SimpleImputer(),\n",
              "                                                               KNNImputer()],\n",
              "                                &#x27;preprocessor__num__scaler&#x27;: [StandardScaler(),\n",
              "                                                              MinMaxScaler(),\n",
              "                                                              &#x27;passthrough&#x27;]},\n",
              "                    scoring=&#x27;neg_mean_absolute_error&#x27;)</pre></div></div></div><div class=\"sk-parallel\"><div class=\"sk-parallel-item\"><div class=\"sk-item\"><div class=\"sk-label-container\"><div class=\"sk-label sk-toggleable\"><input class=\"sk-toggleable__control sk-hidden--visually\" id=\"sk-estimator-id-48\" type=\"checkbox\" ><label for=\"sk-estimator-id-48\" class=\"sk-toggleable__label sk-toggleable__label-arrow\">estimator: Pipeline</label><div class=\"sk-toggleable__content\"><pre>Pipeline(steps=[(&#x27;preprocessor&#x27;,\n",
              "                 ColumnTransformer(remainder=&#x27;passthrough&#x27;,\n",
              "                                   transformers=[(&#x27;ohe&#x27;,\n",
              "                                                  Pipeline(steps=[(&#x27;imputer&#x27;,\n",
              "                                                                   SimpleImputer(strategy=&#x27;most_frequent&#x27;)),\n",
              "                                                                  (&#x27;ohe&#x27;,\n",
              "                                                                   OneHotEncoder(drop=&#x27;first&#x27;,\n",
              "                                                                                 handle_unknown=&#x27;ignore&#x27;,\n",
              "                                                                                 sparse=False))]),\n",
              "                                                  [&#x27;origin&#x27;]),\n",
              "                                                 (&#x27;num&#x27;,\n",
              "                                                  Pipeline(steps=[(&#x27;imputer&#x27;,\n",
              "                                                                   SimpleImputer(strategy=&#x27;most_frequent&#x27;)),\n",
              "                                                                  (&#x27;scaler&#x27;,\n",
              "                                                                   StandardScaler())]),\n",
              "                                                  [&#x27;cylinders&#x27;, &#x27;displacement&#x27;,\n",
              "                                                   &#x27;horsepower&#x27;, &#x27;weight&#x27;,\n",
              "                                                   &#x27;acceleration&#x27;,\n",
              "                                                   &#x27;model_year&#x27;])])),\n",
              "                (&#x27;models&#x27;, DecisionTreeRegressor(random_state=12345))])</pre></div></div></div><div class=\"sk-serial\"><div class=\"sk-item\"><div class=\"sk-serial\"><div class=\"sk-item sk-dashed-wrapped\"><div class=\"sk-label-container\"><div class=\"sk-label sk-toggleable\"><input class=\"sk-toggleable__control sk-hidden--visually\" id=\"sk-estimator-id-49\" type=\"checkbox\" ><label for=\"sk-estimator-id-49\" class=\"sk-toggleable__label sk-toggleable__label-arrow\">preprocessor: ColumnTransformer</label><div class=\"sk-toggleable__content\"><pre>ColumnTransformer(remainder=&#x27;passthrough&#x27;,\n",
              "                  transformers=[(&#x27;ohe&#x27;,\n",
              "                                 Pipeline(steps=[(&#x27;imputer&#x27;,\n",
              "                                                  SimpleImputer(strategy=&#x27;most_frequent&#x27;)),\n",
              "                                                 (&#x27;ohe&#x27;,\n",
              "                                                  OneHotEncoder(drop=&#x27;first&#x27;,\n",
              "                                                                handle_unknown=&#x27;ignore&#x27;,\n",
              "                                                                sparse=False))]),\n",
              "                                 [&#x27;origin&#x27;]),\n",
              "                                (&#x27;num&#x27;,\n",
              "                                 Pipeline(steps=[(&#x27;imputer&#x27;,\n",
              "                                                  SimpleImputer(strategy=&#x27;most_frequent&#x27;)),\n",
              "                                                 (&#x27;scaler&#x27;, StandardScaler())]),\n",
              "                                 [&#x27;cylinders&#x27;, &#x27;displacement&#x27;, &#x27;horsepower&#x27;,\n",
              "                                  &#x27;weight&#x27;, &#x27;acceleration&#x27;, &#x27;model_year&#x27;])])</pre></div></div></div><div class=\"sk-parallel\"><div class=\"sk-parallel-item\"><div class=\"sk-item\"><div class=\"sk-label-container\"><div class=\"sk-label sk-toggleable\"><input class=\"sk-toggleable__control sk-hidden--visually\" id=\"sk-estimator-id-50\" type=\"checkbox\" ><label for=\"sk-estimator-id-50\" class=\"sk-toggleable__label sk-toggleable__label-arrow\">ohe</label><div class=\"sk-toggleable__content\"><pre>[&#x27;origin&#x27;]</pre></div></div></div><div class=\"sk-serial\"><div class=\"sk-item\"><div class=\"sk-serial\"><div class=\"sk-item\"><div class=\"sk-estimator sk-toggleable\"><input class=\"sk-toggleable__control sk-hidden--visually\" id=\"sk-estimator-id-51\" type=\"checkbox\" ><label for=\"sk-estimator-id-51\" class=\"sk-toggleable__label sk-toggleable__label-arrow\">SimpleImputer</label><div class=\"sk-toggleable__content\"><pre>SimpleImputer(strategy=&#x27;most_frequent&#x27;)</pre></div></div></div><div class=\"sk-item\"><div class=\"sk-estimator sk-toggleable\"><input class=\"sk-toggleable__control sk-hidden--visually\" id=\"sk-estimator-id-52\" type=\"checkbox\" ><label for=\"sk-estimator-id-52\" class=\"sk-toggleable__label sk-toggleable__label-arrow\">OneHotEncoder</label><div class=\"sk-toggleable__content\"><pre>OneHotEncoder(drop=&#x27;first&#x27;, handle_unknown=&#x27;ignore&#x27;, sparse=False)</pre></div></div></div></div></div></div></div></div><div class=\"sk-parallel-item\"><div class=\"sk-item\"><div class=\"sk-label-container\"><div class=\"sk-label sk-toggleable\"><input class=\"sk-toggleable__control sk-hidden--visually\" id=\"sk-estimator-id-53\" type=\"checkbox\" ><label for=\"sk-estimator-id-53\" class=\"sk-toggleable__label sk-toggleable__label-arrow\">num</label><div class=\"sk-toggleable__content\"><pre>[&#x27;cylinders&#x27;, &#x27;displacement&#x27;, &#x27;horsepower&#x27;, &#x27;weight&#x27;, &#x27;acceleration&#x27;, &#x27;model_year&#x27;]</pre></div></div></div><div class=\"sk-serial\"><div class=\"sk-item\"><div class=\"sk-serial\"><div class=\"sk-item\"><div class=\"sk-estimator sk-toggleable\"><input class=\"sk-toggleable__control sk-hidden--visually\" id=\"sk-estimator-id-54\" type=\"checkbox\" ><label for=\"sk-estimator-id-54\" class=\"sk-toggleable__label sk-toggleable__label-arrow\">SimpleImputer</label><div class=\"sk-toggleable__content\"><pre>SimpleImputer(strategy=&#x27;most_frequent&#x27;)</pre></div></div></div><div class=\"sk-item\"><div class=\"sk-estimator sk-toggleable\"><input class=\"sk-toggleable__control sk-hidden--visually\" id=\"sk-estimator-id-55\" type=\"checkbox\" ><label for=\"sk-estimator-id-55\" class=\"sk-toggleable__label sk-toggleable__label-arrow\">StandardScaler</label><div class=\"sk-toggleable__content\"><pre>StandardScaler()</pre></div></div></div></div></div></div></div></div><div class=\"sk-parallel-item\"><div class=\"sk-item\"><div class=\"sk-label-container\"><div class=\"sk-label sk-toggleable\"><input class=\"sk-toggleable__control sk-hidden--visually\" id=\"sk-estimator-id-56\" type=\"checkbox\" ><label for=\"sk-estimator-id-56\" class=\"sk-toggleable__label sk-toggleable__label-arrow\">remainder</label><div class=\"sk-toggleable__content\"><pre>[]</pre></div></div></div><div class=\"sk-serial\"><div class=\"sk-item\"><div class=\"sk-estimator sk-toggleable\"><input class=\"sk-toggleable__control sk-hidden--visually\" id=\"sk-estimator-id-57\" type=\"checkbox\" ><label for=\"sk-estimator-id-57\" class=\"sk-toggleable__label sk-toggleable__label-arrow\">passthrough</label><div class=\"sk-toggleable__content\"><pre>passthrough</pre></div></div></div></div></div></div></div></div><div class=\"sk-item\"><div class=\"sk-estimator sk-toggleable\"><input class=\"sk-toggleable__control sk-hidden--visually\" id=\"sk-estimator-id-58\" type=\"checkbox\" ><label for=\"sk-estimator-id-58\" class=\"sk-toggleable__label sk-toggleable__label-arrow\">DecisionTreeRegressor</label><div class=\"sk-toggleable__content\"><pre>DecisionTreeRegressor(random_state=12345)</pre></div></div></div></div></div></div></div></div></div></div></div></div>"
            ],
            "text/plain": [
              "HalvingGridSearchCV(estimator=Pipeline(steps=[('preprocessor',\n",
              "                                               ColumnTransformer(remainder='passthrough',\n",
              "                                                                 transformers=[('ohe',\n",
              "                                                                                Pipeline(steps=[('imputer',\n",
              "                                                                                                 SimpleImputer(strategy='most_frequent')),\n",
              "                                                                                                ('ohe',\n",
              "                                                                                                 OneHotEncoder(drop='first',\n",
              "                                                                                                               handle_unknown='ignore',\n",
              "                                                                                                               sparse=False))]),\n",
              "                                                                                ['origin']),\n",
              "                                                                               ('num',\n",
              "                                                                                Pipeline(steps=[('imputer',\n",
              "                                                                                                 SimpleImputer(strategy='most_frequen...\n",
              "                                                                                 'acceleration',\n",
              "                                                                                 'model_year'])])),\n",
              "                                              ('models',\n",
              "                                               DecisionTreeRegressor(random_state=12345))]),\n",
              "                    n_jobs=-1,\n",
              "                    param_grid={'models': [LinearRegression(),\n",
              "                                           DecisionTreeRegressor(),\n",
              "                                           SGDRegressor()],\n",
              "                                'preprocessor__num__imputer': [SimpleImputer(),\n",
              "                                                               KNNImputer()],\n",
              "                                'preprocessor__num__scaler': [StandardScaler(),\n",
              "                                                              MinMaxScaler(),\n",
              "                                                              'passthrough']},\n",
              "                    scoring='neg_mean_absolute_error')"
            ]
          },
          "execution_count": 32,
          "metadata": {},
          "output_type": "execute_result"
        }
      ],
      "source": [
        "grid_hs = HalvingGridSearchCV(\n",
        "    pipe_final,\n",
        "    param_grid,\n",
        "    cv=5,\n",
        "    scoring='neg_mean_absolute_error',\n",
        "    n_jobs = -1\n",
        ")\n",
        "grid_hs.fit(X_train, y_train)"
      ]
    },
    {
      "cell_type": "code",
      "execution_count": 33,
      "metadata": {
        "id": "_6CN68crD5IR"
      },
      "outputs": [],
      "source": [
        "df_cv_results = pd.DataFrame(grid_hs.cv_results_)"
      ]
    },
    {
      "cell_type": "markdown",
      "metadata": {
        "id": "75ksFZQJ7Cxd"
      },
      "source": [
        "## Optuna"
      ]
    },
    {
      "cell_type": "markdown",
      "metadata": {
        "id": "UrK934tzPwm-"
      },
      "source": [
        "Optuna — это библиотека на Python для автоматизированной настройки гиперпараметров. Основной метод, применяемый в Optuna, это Байесовская оптимизация, в частности, с использованием алгоритма Tree-structured Parzen Estimator (TPE).\n",
        "\n",
        "\n",
        "Tree-structured Parzen Estimator (TPE) — это метод байесовской оптимизации, который используется для поиска оптимальных гиперпараметров в задачах машинного обучения. TPE является одним из основных алгоритмов, используемых в библиотеке Optuna. В отличие от методов, основанных на Гауссовских процессах, TPE использует непараметрические методы оценки плотности для моделирования распределения гиперпараметров.\n",
        "\n",
        "Основные концепции TPE\n",
        "1. TPE делит пространство гиперпараметров на две части:\n",
        "\n",
        "- Набор лучших значений: значения гиперпараметров, которые дают наилучшие результаты функции цели.\n",
        "- Остальные значения: все остальные значения гиперпараметров.\n",
        "\n",
        "2. Оценка плотности вероятности\n",
        "TPE строит два оценщика плотности:\n",
        " - l(x): плотность вероятности гиперпараметров для лучших значений функции цели $y^*<y$\n",
        "\n",
        " - g(x): плотность вероятности гиперпараметров для остальных значений $y^* >= y$\n",
        " Здесь $y^*$ — это пороговое значение, которое разделяет лучшие и остальные значения. Обычно  $y^*$\n",
        "  выбирается как некоторое квантиль распределения значений функции цели, например, 10%-й квантиль.\n",
        "\n",
        "3. 3. Функция полезности\n",
        "TPE максимизирует отношение плотностей $ \\frac{l(x)}{g(x)}$\n",
        " , чтобы найти такие значения гиперпараметров x, которые с наибольшей вероятностью улучшат значение функции цели.\n"
      ]
    },
    {
      "cell_type": "code",
      "execution_count": 34,
      "metadata": {
        "colab": {
          "base_uri": "https://localhost:8080/"
        },
        "id": "CYxIRN8p-lmz",
        "outputId": "f1c81382-a598-4fbc-ce5f-4b1fff804c73"
      },
      "outputs": [
        {
          "name": "stdout",
          "output_type": "stream",
          "text": [
            "\u001b[2K     \u001b[90m━━━━━━━━━━━━━━━━━━━━━━━━━━━━━━━━━━━━━━━━\u001b[0m \u001b[32m380.1/380.1 kB\u001b[0m \u001b[31m3.2 MB/s\u001b[0m eta \u001b[36m0:00:00\u001b[0m\n",
            "\u001b[2K     \u001b[90m━━━━━━━━━━━━━━━━━━━━━━━━━━━━━━━━━━━━━━━━\u001b[0m \u001b[32m233.0/233.0 kB\u001b[0m \u001b[31m3.0 MB/s\u001b[0m eta \u001b[36m0:00:00\u001b[0m\n",
            "\u001b[2K     \u001b[90m━━━━━━━━━━━━━━━━━━━━━━━━━━━━━━━━━━━━━━━━\u001b[0m \u001b[32m78.6/78.6 kB\u001b[0m \u001b[31m2.7 MB/s\u001b[0m eta \u001b[36m0:00:00\u001b[0m\n",
            "\u001b[?25h"
          ]
        }
      ],
      "source": [
        "!pip install optuna -q"
      ]
    },
    {
      "cell_type": "code",
      "execution_count": 35,
      "metadata": {
        "colab": {
          "base_uri": "https://localhost:8080/"
        },
        "id": "F_Y5-ILRHQR1",
        "outputId": "8a504cd3-ffd8-45bf-e2a9-8bb438c22a7a"
      },
      "outputs": [
        {
          "name": "stdout",
          "output_type": "stream",
          "text": [
            "\u001b[?25l     \u001b[90m━━━━━━━━━━━━━━━━━━━━━━━━━━━━━━━━━━━━━━━━\u001b[0m \u001b[32m0.0/93.4 kB\u001b[0m \u001b[31m?\u001b[0m eta \u001b[36m-:--:--\u001b[0m\r\u001b[2K     \u001b[91m━━━━━━━━━━━━━━━━━━━━━━━━━━\u001b[0m\u001b[90m╺\u001b[0m\u001b[90m━━━━━━━━━━━━━\u001b[0m \u001b[32m61.4/93.4 kB\u001b[0m \u001b[31m1.6 MB/s\u001b[0m eta \u001b[36m0:00:01\u001b[0m\r\u001b[2K     \u001b[90m━━━━━━━━━━━━━━━━━━━━━━━━━━━━━━━━━━━━━━━━\u001b[0m \u001b[32m93.4/93.4 kB\u001b[0m \u001b[31m1.4 MB/s\u001b[0m eta \u001b[36m0:00:00\u001b[0m\n",
            "\u001b[?25h"
          ]
        }
      ],
      "source": [
        "!pip install optuna-integration -q"
      ]
    },
    {
      "cell_type": "code",
      "execution_count": 36,
      "metadata": {
        "id": "TWhxrhW_-zVF"
      },
      "outputs": [],
      "source": [
        "import optuna"
      ]
    },
    {
      "cell_type": "code",
      "execution_count": 37,
      "metadata": {
        "id": "Dw0cY4z_CcEm"
      },
      "outputs": [],
      "source": [
        "from optuna.integration import OptunaSearchCV\n",
        "from optuna import distributions"
      ]
    },
    {
      "cell_type": "code",
      "execution_count": 38,
      "metadata": {
        "id": "EVSnI2rzIFlP"
      },
      "outputs": [],
      "source": [
        "# инициализируем модель дерева решений\n",
        "model = DecisionTreeRegressor(random_state=123)\n",
        "\n",
        "# создаём словарь с гиперпараметрами\n",
        "parameters = {\n",
        "    'max_depth': distributions.IntDistribution(3, 17),\n",
        "    'min_samples_split': distributions.IntDistribution(9, 10)\n",
        "}"
      ]
    },
    {
      "cell_type": "code",
      "execution_count": 39,
      "metadata": {
        "id": "gayWaFildNXT"
      },
      "outputs": [],
      "source": [
        "model_l = Lasso(random_state=123)\n",
        "parameters_l = {'alpha': distributions.IntDistribution(3, 10)}"
      ]
    },
    {
      "cell_type": "code",
      "execution_count": 40,
      "metadata": {
        "collapsed": true,
        "id": "r8ldVH6RHtBg"
      },
      "outputs": [],
      "source": [
        "def optuna_func(model, parameters):\n",
        "  opt_search = OptunaSearchCV(\n",
        "      model,\n",
        "      parameters,\n",
        "      cv=5,\n",
        "      n_trials=10,\n",
        "      random_state=1234,\n",
        "      verbose=-10\n",
        "  )\n",
        "\n",
        "  # запускаем поиск гиперпараметров\n",
        "  opt_search.fit(X_train_p, y_train)\n",
        "  return opt_search.best_params_, opt_search.best_estimator_"
      ]
    },
    {
      "cell_type": "code",
      "execution_count": 41,
      "metadata": {
        "colab": {
          "base_uri": "https://localhost:8080/"
        },
        "collapsed": true,
        "id": "e8BsA2R6b0Xk",
        "outputId": "14b6100c-ebca-4367-d8eb-7e95d1a95a80"
      },
      "outputs": [
        {
          "name": "stderr",
          "output_type": "stream",
          "text": [
            "<ipython-input-40-f7f053cb1956>:2: ExperimentalWarning: OptunaSearchCV is experimental (supported from v0.17.0). The interface can change in the future.\n",
            "  opt_search = OptunaSearchCV(\n",
            "[I 2024-07-03 15:39:51,763] A new study created in memory with name: no-name-ca57d0e3-63df-43c5-9135-ed73c957cfc7\n",
            "[I 2024-07-03 15:39:51,805] Trial 0 finished with value: 0.7984142531359933 and parameters: {'max_depth': 14, 'min_samples_split': 9}. Best is trial 0 with value: 0.7984142531359933.\n",
            "[I 2024-07-03 15:39:51,838] Trial 1 finished with value: 0.7581564501629479 and parameters: {'max_depth': 3, 'min_samples_split': 10}. Best is trial 0 with value: 0.7984142531359933.\n",
            "[I 2024-07-03 15:39:51,886] Trial 2 finished with value: 0.7946450518036884 and parameters: {'max_depth': 7, 'min_samples_split': 9}. Best is trial 0 with value: 0.7984142531359933.\n",
            "[I 2024-07-03 15:39:51,920] Trial 3 finished with value: 0.7987756923093049 and parameters: {'max_depth': 11, 'min_samples_split': 10}. Best is trial 3 with value: 0.7987756923093049.\n",
            "[I 2024-07-03 15:39:51,971] Trial 4 finished with value: 0.7983071243668723 and parameters: {'max_depth': 17, 'min_samples_split': 9}. Best is trial 3 with value: 0.7987756923093049.\n",
            "[I 2024-07-03 15:39:52,022] Trial 5 finished with value: 0.7804725343307919 and parameters: {'max_depth': 4, 'min_samples_split': 10}. Best is trial 3 with value: 0.7987756923093049.\n",
            "[I 2024-07-03 15:39:52,074] Trial 6 finished with value: 0.7962083199520332 and parameters: {'max_depth': 8, 'min_samples_split': 10}. Best is trial 3 with value: 0.7987756923093049.\n",
            "[I 2024-07-03 15:39:52,120] Trial 7 finished with value: 0.7804725343307919 and parameters: {'max_depth': 4, 'min_samples_split': 10}. Best is trial 3 with value: 0.7987756923093049.\n",
            "[I 2024-07-03 15:39:52,180] Trial 8 finished with value: 0.7954545612148088 and parameters: {'max_depth': 9, 'min_samples_split': 9}. Best is trial 3 with value: 0.7987756923093049.\n",
            "[I 2024-07-03 15:39:52,250] Trial 9 finished with value: 0.798575733832339 and parameters: {'max_depth': 15, 'min_samples_split': 10}. Best is trial 3 with value: 0.7987756923093049.\n"
          ]
        }
      ],
      "source": [
        "best_params_tree, best_estimator_tree = optuna_func(model, parameters)"
      ]
    },
    {
      "cell_type": "code",
      "execution_count": 42,
      "metadata": {
        "id": "J2QFQRo3eBVK"
      },
      "outputs": [],
      "source": [
        "pred_test = best_estimator_tree.predict(X_test_p)\n"
      ]
    },
    {
      "cell_type": "code",
      "execution_count": 43,
      "metadata": {
        "id": "03HMJIWWeQ-m"
      },
      "outputs": [],
      "source": [
        "from sklearn.metrics import mean_squared_error"
      ]
    },
    {
      "cell_type": "code",
      "execution_count": 44,
      "metadata": {
        "colab": {
          "base_uri": "https://localhost:8080/"
        },
        "id": "uvPTE8CTeSOE",
        "outputId": "52ac06b2-538a-4922-f8e0-a1fb86bae406"
      },
      "outputs": [
        {
          "data": {
            "text/plain": [
              "10.774043984237213"
            ]
          },
          "execution_count": 44,
          "metadata": {},
          "output_type": "execute_result"
        }
      ],
      "source": [
        "mse_dtr = mean_squared_error(y_test, pred_test)\n",
        "mse_dtr"
      ]
    },
    {
      "cell_type": "code",
      "execution_count": 45,
      "metadata": {
        "colab": {
          "base_uri": "https://localhost:8080/"
        },
        "collapsed": true,
        "id": "LHVmz97tdzZf",
        "outputId": "dc6db0a6-e27d-42e5-b4b1-3305f2854a35"
      },
      "outputs": [
        {
          "name": "stderr",
          "output_type": "stream",
          "text": [
            "<ipython-input-40-f7f053cb1956>:2: ExperimentalWarning: OptunaSearchCV is experimental (supported from v0.17.0). The interface can change in the future.\n",
            "  opt_search = OptunaSearchCV(\n",
            "[I 2024-07-03 15:39:52,333] A new study created in memory with name: no-name-6932d39a-1144-44ed-82b2-ea0c33bfabf4\n",
            "[I 2024-07-03 15:39:52,405] Trial 0 finished with value: -0.01931215576997376 and parameters: {'alpha': 9}. Best is trial 0 with value: -0.01931215576997376.\n",
            "[I 2024-07-03 15:39:52,470] Trial 1 finished with value: 0.572924477920204 and parameters: {'alpha': 3}. Best is trial 1 with value: 0.572924477920204.\n",
            "[I 2024-07-03 15:39:52,529] Trial 2 finished with value: 0.572924477920204 and parameters: {'alpha': 3}. Best is trial 1 with value: 0.572924477920204.\n",
            "[I 2024-07-03 15:39:52,604] Trial 3 finished with value: -0.01931215576997376 and parameters: {'alpha': 9}. Best is trial 1 with value: 0.572924477920204.\n",
            "[I 2024-07-03 15:39:52,684] Trial 4 finished with value: 0.2698428078515403 and parameters: {'alpha': 5}. Best is trial 1 with value: 0.572924477920204.\n",
            "[I 2024-07-03 15:39:52,772] Trial 5 finished with value: 0.41773548095523444 and parameters: {'alpha': 4}. Best is trial 1 with value: 0.572924477920204.\n",
            "[I 2024-07-03 15:39:52,847] Trial 6 finished with value: -0.01931215576997376 and parameters: {'alpha': 7}. Best is trial 1 with value: 0.572924477920204.\n",
            "[I 2024-07-03 15:39:52,918] Trial 7 finished with value: -0.01931215576997376 and parameters: {'alpha': 8}. Best is trial 1 with value: 0.572924477920204.\n",
            "[I 2024-07-03 15:39:52,994] Trial 8 finished with value: -0.01931215576997376 and parameters: {'alpha': 10}. Best is trial 1 with value: 0.572924477920204.\n",
            "[I 2024-07-03 15:39:53,109] Trial 9 finished with value: 0.08949845360400796 and parameters: {'alpha': 6}. Best is trial 1 with value: 0.572924477920204.\n"
          ]
        }
      ],
      "source": [
        "best_params_l, best_estimator_l = optuna_func(model_l, parameters_l)"
      ]
    },
    {
      "cell_type": "code",
      "execution_count": 46,
      "metadata": {
        "colab": {
          "base_uri": "https://localhost:8080/"
        },
        "id": "Si7juv53d-Fw",
        "outputId": "7cb9b340-1a88-436e-83d1-121d59e265f6"
      },
      "outputs": [
        {
          "data": {
            "text/plain": [
              "18.63578973298567"
            ]
          },
          "execution_count": 46,
          "metadata": {},
          "output_type": "execute_result"
        }
      ],
      "source": [
        "pred_test_l = best_estimator_l.predict(X_test_p)\n",
        "\n",
        "mse_l = mean_squared_error(y_test, pred_test_l)\n",
        "mse_l"
      ]
    },
    {
      "cell_type": "code",
      "execution_count": 47,
      "metadata": {
        "id": "ae57F_rIe07F"
      },
      "outputs": [],
      "source": [
        "models_dict = {'tree': [DecisionTreeRegressor(random_state=123), {\n",
        "                                                                'max_depth': distributions.IntDistribution(3, 10),\n",
        "                                                                'min_samples_split': distributions.IntDistribution(9, 10)\n",
        "                                                            }  ],\n",
        "               'lasso':[Lasso(random_state=123), {'alpha': distributions.IntDistribution(3, 10)}]\n",
        "               }"
      ]
    },
    {
      "cell_type": "code",
      "execution_count": 48,
      "metadata": {
        "colab": {
          "base_uri": "https://localhost:8080/"
        },
        "id": "jw2qrsgUd-I4",
        "outputId": "545d62c2-67c0-4384-dadc-f9f3b3751fda"
      },
      "outputs": [
        {
          "name": "stderr",
          "output_type": "stream",
          "text": [
            "<ipython-input-40-f7f053cb1956>:2: ExperimentalWarning: OptunaSearchCV is experimental (supported from v0.17.0). The interface can change in the future.\n",
            "  opt_search = OptunaSearchCV(\n",
            "[I 2024-07-03 15:39:53,222] A new study created in memory with name: no-name-4449e9bd-aa04-4a3d-b37b-3202632f1b8e\n",
            "[I 2024-07-03 15:39:53,411] Trial 0 finished with value: 0.7954545612148088 and parameters: {'max_depth': 9, 'min_samples_split': 9}. Best is trial 0 with value: 0.7954545612148088.\n",
            "[I 2024-07-03 15:39:53,463] Trial 1 finished with value: 0.7581564501629479 and parameters: {'max_depth': 3, 'min_samples_split': 10}. Best is trial 0 with value: 0.7954545612148088.\n",
            "[I 2024-07-03 15:39:53,513] Trial 2 finished with value: 0.793090558135407 and parameters: {'max_depth': 5, 'min_samples_split': 9}. Best is trial 0 with value: 0.7954545612148088.\n",
            "[I 2024-07-03 15:39:53,603] Trial 3 finished with value: 0.7961771140224546 and parameters: {'max_depth': 7, 'min_samples_split': 10}. Best is trial 3 with value: 0.7961771140224546.\n",
            "[I 2024-07-03 15:39:53,715] Trial 4 finished with value: 0.796781754212995 and parameters: {'max_depth': 10, 'min_samples_split': 9}. Best is trial 4 with value: 0.796781754212995.\n",
            "[I 2024-07-03 15:39:53,835] Trial 5 finished with value: 0.7581564501629479 and parameters: {'max_depth': 3, 'min_samples_split': 10}. Best is trial 4 with value: 0.796781754212995.\n",
            "[I 2024-07-03 15:39:53,941] Trial 6 finished with value: 0.7921529798345912 and parameters: {'max_depth': 5, 'min_samples_split': 10}. Best is trial 4 with value: 0.796781754212995.\n",
            "[I 2024-07-03 15:39:54,112] Trial 7 finished with value: 0.7581564501629479 and parameters: {'max_depth': 3, 'min_samples_split': 10}. Best is trial 4 with value: 0.796781754212995.\n",
            "[I 2024-07-03 15:39:54,236] Trial 8 finished with value: 0.7861600236470336 and parameters: {'max_depth': 6, 'min_samples_split': 9}. Best is trial 4 with value: 0.796781754212995.\n",
            "[I 2024-07-03 15:39:54,396] Trial 9 finished with value: 0.797804393390148 and parameters: {'max_depth': 9, 'min_samples_split': 10}. Best is trial 9 with value: 0.797804393390148.\n",
            "<ipython-input-40-f7f053cb1956>:2: ExperimentalWarning: OptunaSearchCV is experimental (supported from v0.17.0). The interface can change in the future.\n",
            "  opt_search = OptunaSearchCV(\n",
            "[I 2024-07-03 15:39:54,426] A new study created in memory with name: no-name-3a1ffd24-cfe8-4ccb-ada4-d51f9426c10d\n",
            "[I 2024-07-03 15:39:54,512] Trial 0 finished with value: -0.01931215576997376 and parameters: {'alpha': 9}. Best is trial 0 with value: -0.01931215576997376.\n",
            "[I 2024-07-03 15:39:54,595] Trial 1 finished with value: 0.572924477920204 and parameters: {'alpha': 3}. Best is trial 1 with value: 0.572924477920204.\n",
            "[I 2024-07-03 15:39:54,706] Trial 2 finished with value: 0.572924477920204 and parameters: {'alpha': 3}. Best is trial 1 with value: 0.572924477920204.\n",
            "[I 2024-07-03 15:39:54,821] Trial 3 finished with value: -0.01931215576997376 and parameters: {'alpha': 9}. Best is trial 1 with value: 0.572924477920204.\n",
            "[I 2024-07-03 15:39:54,901] Trial 4 finished with value: 0.2698428078515403 and parameters: {'alpha': 5}. Best is trial 1 with value: 0.572924477920204.\n",
            "[I 2024-07-03 15:39:55,040] Trial 5 finished with value: 0.41773548095523444 and parameters: {'alpha': 4}. Best is trial 1 with value: 0.572924477920204.\n",
            "[I 2024-07-03 15:39:55,198] Trial 6 finished with value: -0.01931215576997376 and parameters: {'alpha': 7}. Best is trial 1 with value: 0.572924477920204.\n",
            "[I 2024-07-03 15:39:55,291] Trial 7 finished with value: -0.01931215576997376 and parameters: {'alpha': 8}. Best is trial 1 with value: 0.572924477920204.\n",
            "[I 2024-07-03 15:39:55,417] Trial 8 finished with value: -0.01931215576997376 and parameters: {'alpha': 10}. Best is trial 1 with value: 0.572924477920204.\n",
            "[I 2024-07-03 15:39:55,559] Trial 9 finished with value: 0.08949845360400796 and parameters: {'alpha': 6}. Best is trial 1 with value: 0.572924477920204.\n"
          ]
        }
      ],
      "source": [
        "result = {}\n",
        "for key, value in models_dict.items():\n",
        "  best_params, best_estimator = optuna_func(value[0], value[1])\n",
        "  pred_test = best_estimator.predict(X_test_p)\n",
        "  mse = mean_squared_error(y_test, pred_test)\n",
        "  result[key] = mse\n"
      ]
    },
    {
      "cell_type": "code",
      "execution_count": 49,
      "metadata": {
        "colab": {
          "base_uri": "https://localhost:8080/"
        },
        "id": "X06w0EA6g6OZ",
        "outputId": "35b6f4e9-35b2-4bff-f30b-6bc98519833d"
      },
      "outputs": [
        {
          "data": {
            "text/plain": [
              "{'tree': 10.78942358975419, 'lasso': 18.63578973298567}"
            ]
          },
          "execution_count": 49,
          "metadata": {},
          "output_type": "execute_result"
        }
      ],
      "source": [
        "result"
      ]
    }
  ],
  "metadata": {
    "colab": {
      "provenance": []
    },
    "kernelspec": {
      "display_name": "Python 3",
      "name": "python3"
    },
    "language_info": {
      "name": "python"
    }
  },
  "nbformat": 4,
  "nbformat_minor": 0
}
