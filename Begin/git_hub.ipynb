{
 "cells": [
  {
   "cell_type": "markdown",
   "id": "3198463f",
   "metadata": {},
   "source": [
    "# GitHub  \n",
    "\n"
   ]
  },
  {
   "cell_type": "markdown",
   "id": "7cf03c34",
   "metadata": {},
   "source": [
    "## Установка в Ubuntu  \n",
    "--------------------\n",
    "```bash\n",
    "\n",
    "sudo apt update         # Это команда для обновления списка пакетов.\n",
    "sudo apt install git    # Эта команда устанавливает Git.\n",
    "git --version           # Проверка версии Git.\n",
    "\n",
    "```"
   ]
  },
  {
   "cell_type": "markdown",
   "id": "7b154d27",
   "metadata": {},
   "source": [
    "## Настройка Git\n",
    "--------\n",
    "\n",
    "```bash\n",
    "\n",
    "# Перед началом работы укажите ваше имя и email (они будут использоваться в коммитах)\n",
    "git config --global user.name \"Ваше Имя\"\n",
    "git config --global user.email \"ваш.email@example.com\"\n",
    "\n",
    "git config --list   # Проверьте настройки\n",
    "\n",
    "```"
   ]
  },
  {
   "cell_type": "markdown",
   "id": "8084ed25",
   "metadata": {},
   "source": [
    "## Основные команды Git для работы с GitHub\n",
    "--------\n",
    "\n",
    "```bash\n",
    "\n",
    "# Клонирование репозитория (скачать копию с GitHub) в текущую папку\n",
    "git clone https://github.com/username/repository.git\n",
    "\n",
    "# Просмотр статуса изменений\n",
    "git status\n",
    "\n",
    "# Добавление файлов в индекс (подготовка к коммиту)\n",
    "git add name_file\n",
    "# добавить все изменения:\n",
    "git add .\n",
    "\n",
    "# Создание коммита (фиксация изменений)\n",
    "git commit -m \"Комментарий к коммиту\"\n",
    "\n",
    "git push origin main        # Отправка изменений на GitHub\n",
    "\n",
    "git pull origin main        # Получение обновлений из удалённого репозитория\n",
    "\n",
    "git branch   \t            #\tПроверить ветку\n",
    "\n",
    "git checkout имя_ветки\t    #\tпереход в ветку\n",
    "git switch имя_ветки\t    #\tпереход в ветку (2 способ)\n",
    "git checkout -b новая_ветка\t#\tСоздать ветку\n",
    "\n",
    "git pull --rebase origin main\t#\t подтянуть изменения с сервера и поверх применить локальные изменения\n",
    "\n",
    "\n",
    "\n",
    "```\n"
   ]
  },
  {
   "cell_type": "markdown",
   "id": "49cd7cef",
   "metadata": {},
   "source": [
    "# Закачивать большие файлы на GitHub с помощью Git LFS\n",
    "----------------\n",
    "\n",
    "```bash\n",
    "\n",
    "# 1. Установка Git LFS\n",
    "sudo apt install git-lfs  \n",
    "\n",
    "git lfs install  # Инициализируйте Git LFS в вашем репозитории:\n",
    "\n",
    "# 2. Настройка отслеживания больших файлов\n",
    "# Укажите, какие типы файлов нужно отслеживать через LFS, например   (то создаст или обновит файл .gitattributes с правилами отслеживания.)  \n",
    "git lfs track \"*.zip\"\n",
    "git lfs track \"*.bin\"\n",
    "\n",
    "#3. Добавление и коммит файлов\n",
    "git add largefile.zip\n",
    "git commit -m \"Добавлен большой файл через Git LFS\"\n",
    "\n",
    "# 4. Отправка на GitHub\n",
    "git push origin main\n",
    "\n",
    "\n",
    "```"
   ]
  },
  {
   "cell_type": "code",
   "execution_count": null,
   "id": "fdea516d",
   "metadata": {
    "vscode": {
     "languageId": "plaintext"
    }
   },
   "outputs": [],
   "source": []
  },
  {
   "cell_type": "code",
   "execution_count": null,
   "id": "1c726ebf",
   "metadata": {
    "vscode": {
     "languageId": "plaintext"
    }
   },
   "outputs": [],
   "source": []
  },
  {
   "cell_type": "code",
   "execution_count": null,
   "id": "42d08451",
   "metadata": {
    "vscode": {
     "languageId": "plaintext"
    }
   },
   "outputs": [],
   "source": []
  },
  {
   "cell_type": "code",
   "execution_count": null,
   "id": "62a83791",
   "metadata": {
    "vscode": {
     "languageId": "plaintext"
    }
   },
   "outputs": [],
   "source": []
  },
  {
   "cell_type": "code",
   "execution_count": null,
   "id": "e41fb4f0",
   "metadata": {
    "vscode": {
     "languageId": "plaintext"
    }
   },
   "outputs": [],
   "source": []
  }
 ],
 "metadata": {
  "language_info": {
   "name": "python"
  }
 },
 "nbformat": 4,
 "nbformat_minor": 5
}
