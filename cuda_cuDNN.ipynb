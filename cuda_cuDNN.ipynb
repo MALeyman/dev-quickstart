{
 "cells": [
  {
   "cell_type": "markdown",
   "id": "cc12522b",
   "metadata": {},
   "source": [
    "# Cuda"
   ]
  },
  {
   "cell_type": "markdown",
   "id": "65dc9eb5",
   "metadata": {},
   "source": [
    "\n",
    "```bash\n",
    "# Информация о  Cuda\n",
    "nvcc --version \t\t\t    # версия в системе\n",
    "nvidia-smi     \t\t\t    # информация о видеокарте (драйвер, до какой версии поддерживает cuda)\n",
    "\n",
    "\n",
    "\n",
    "\n",
    "\n",
    "\n",
    "\n",
    "```"
   ]
  },
  {
   "cell_type": "markdown",
   "id": "b7b52ae8",
   "metadata": {},
   "source": [
    "# cuDNN"
   ]
  },
  {
   "cell_type": "markdown",
   "id": "4d1c6107",
   "metadata": {},
   "source": [
    "\n",
    "```bash\n",
    "# Установка cuDNN\n",
    "# Скачайте ключ репозитория\n",
    "wget https://developer.download.nvidia.com/compute/cuda/repos/ubuntu2204/x86_64/cuda-ubuntu2204.pin\n",
    "sudo mv cuda-ubuntu2204.pin /etc/apt/preferences.d/cuda-repository-pin-600\n",
    "\n",
    "# Добавьте репозиторий\n",
    "sudo apt-key adv --fetch-keys https://developer.download.nvidia.com/compute/cuda/repos/ubuntu2204/x86_64/3bf863cc.pub\n",
    "sudo add-apt-repository \"deb https://developer.download.nvidia.com/compute/cuda/repos/ubuntu2204/x86_64/ /\"\n",
    "\n",
    "# Обновите списки пакетов\n",
    "sudo apt update\n",
    "\n",
    "# Установка  \n",
    "sudo apt install libcudnn8 libcudnn8-dev\n",
    "\n",
    "\n",
    "```"
   ]
  },
  {
   "cell_type": "code",
   "execution_count": 3,
   "id": "9e5b428d",
   "metadata": {},
   "outputs": [
    {
     "name": "stdout",
     "output_type": "stream",
     "text": [
      "12.6\n",
      "91002\n",
      "nvcc: NVIDIA (R) Cuda compiler driver\n",
      "Copyright (c) 2005-2024 NVIDIA Corporation\n",
      "Built on Tue_Oct_29_23:50:19_PDT_2024\n",
      "Cuda compilation tools, release 12.6, V12.6.85\n",
      "Build cuda_12.6.r12.6/compiler.35059454_0\n",
      "Sat Jul 12 19:30:31 2025       \n",
      "+-----------------------------------------------------------------------------------------+\n",
      "| NVIDIA-SMI 575.57.08              Driver Version: 575.57.08      CUDA Version: 12.9     |\n",
      "|-----------------------------------------+------------------------+----------------------+\n",
      "| GPU  Name                 Persistence-M | Bus-Id          Disp.A | Volatile Uncorr. ECC |\n",
      "| Fan  Temp   Perf          Pwr:Usage/Cap |           Memory-Usage | GPU-Util  Compute M. |\n",
      "|                                         |                        |               MIG M. |\n",
      "|=========================================+========================+======================|\n",
      "|   0  NVIDIA GeForce RTX 3060        On  |   00000000:01:00.0  On |                  N/A |\n",
      "|  0%   58C    P8             22W /  170W |     523MiB /  12288MiB |     12%      Default |\n",
      "|                                         |                        |                  N/A |\n",
      "+-----------------------------------------+------------------------+----------------------+\n",
      "                                                                                         \n",
      "+-----------------------------------------------------------------------------------------+\n",
      "| Processes:                                                                              |\n",
      "|  GPU   GI   CI              PID   Type   Process name                        GPU Memory |\n",
      "|        ID   ID                                                               Usage      |\n",
      "|=========================================================================================|\n",
      "|    0   N/A  N/A            1614      G   /usr/lib/xorg/Xorg                      175MiB |\n",
      "|    0   N/A  N/A            1804      G   /usr/bin/gnome-shell                     23MiB |\n",
      "|    0   N/A  N/A            5117      G   /usr/share/code/code                    215MiB |\n",
      "|    0   N/A  N/A            5363      G   /opt/google/chrome/chrome                 2MiB |\n",
      "|    0   N/A  N/A            5420      G   ...ersion=20250711-130039.154000         38MiB |\n",
      "|    0   N/A  N/A            6340      G   /usr/bin/gnome-text-editor               13MiB |\n",
      "+-----------------------------------------------------------------------------------------+\n",
      "/usr/local/cuda/bin/nvcc\n"
     ]
    }
   ],
   "source": [
    "import torch\n",
    "#  Информация о  Cuda\n",
    "\n",
    "print(torch.version.cuda) \t            # верчия cuda pytorch\n",
    "print(torch.backends.cudnn.version())   # версия cuDNN\n",
    "!nvcc --version \t\t\t            # версия в системе\n",
    "!nvidia-smi     \t\t\t            # информация о видеокарте (драйвер, до какой версии поддерживает cuda)\n",
    "!which nvcc \t\t\t                # Путь где установлен Cuda"
   ]
  },
  {
   "cell_type": "code",
   "execution_count": null,
   "id": "2a3cd730",
   "metadata": {},
   "outputs": [],
   "source": []
  }
 ],
 "metadata": {
  "kernelspec": {
   "display_name": "condaenv",
   "language": "python",
   "name": "python3"
  },
  "language_info": {
   "codemirror_mode": {
    "name": "ipython",
    "version": 3
   },
   "file_extension": ".py",
   "mimetype": "text/x-python",
   "name": "python",
   "nbconvert_exporter": "python",
   "pygments_lexer": "ipython3",
   "version": "3.12.11"
  }
 },
 "nbformat": 4,
 "nbformat_minor": 5
}
