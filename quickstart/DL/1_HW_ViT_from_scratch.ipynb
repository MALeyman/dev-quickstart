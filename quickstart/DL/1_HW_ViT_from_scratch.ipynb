{
  "cells": [
    {
      "cell_type": "markdown",
      "metadata": {
        "id": "Bjl799e4cQ6h"
      },
      "source": [
        "# 02. Домашнее задание. Обучение Vision Transformer\n",
        "\n",
        "\n",
        "В этом задании вам предлагается дописать реализацию ViT и обучить его на датасете CIFAR-10. Хотя эта модель гораздо больше тех CNN, что мы изучали (и будем изучать), ресурсов colab-а гарантированно хватит, чтобы закончить обучение. Так же рекомендуется просмотреть Lab_5, Lab_3 и Lab_6 , поскольку это задание во многом основано на них.\n",
        "\n",
        "**Ищите комментарии \"Write your code here\" для быстрого обнаружения мест, где вы должны что-то дописать!**\n",
        "\n",
        "![](https://hashtelegraph.com/wp-content/uploads/2024/08/shooting-sparrows-with-a-cannon--1024x576.jpg)"
      ]
    },
    {
      "cell_type": "markdown",
      "metadata": {
        "id": "NzC89Cvilx5h"
      },
      "source": [
        "## 1. Patch Embeddings\n",
        "\n",
        "Отличительной особенностью ViT является эмбеддинги изображений. Чтобы представить изображение в виде входного вектора для трансформера, оно разбивается на фрагменты (patches) заданного размера. В нашей имплементации это будет сделано с помощью обучаемой свертки."
      ]
    },
    {
      "cell_type": "code",
      "execution_count": 1,
      "metadata": {},
      "outputs": [],
      "source": [
        "import torch\n",
        "import torch.nn as nn\n",
        "\n",
        "class PatchEmbeddings(nn.Module):\n",
        "    \"\"\"\n",
        "    Преобразуйте изображение в патчи, а затем спроецируйте их в векторное пространство.\n",
        "    \"\"\"\n",
        "    def __init__(self, config):\n",
        "        super().__init__()\n",
        "        self.image_size = config[\"image_size\"]\n",
        "        self.patch_size = config[\"patch_size\"]\n",
        "        self.num_channels = config[\"num_channels\"]\n",
        "        self.hidden_size = config[\"hidden_size\"]\n",
        "        # Количество фрагментов (патчей), исходя из размера изображения и размера фрагмента\n",
        "        self.num_patches = (self.image_size // self.patch_size) ** 2\n",
        "\n",
        "        # Свертка, разбивающая изображение на патчи и проецирующая их в скрытое пространство\n",
        "        self.projection = nn.Conv2d(\n",
        "            in_channels=self.num_channels,\n",
        "            out_channels=self.hidden_size,\n",
        "            kernel_size=self.patch_size,\n",
        "            stride=self.patch_size\n",
        "        )\n",
        "\n",
        "    def forward(self, x):\n",
        "        # (batch_size, num_channels, image_size, image_size) -> (batch_size, num_patches, hidden_size)\n",
        "        batch_size = x.shape[0]\n",
        "        x = self.projection(x)  # -> (batch_size, hidden_size, num_patches_h, num_patches_w)\n",
        "        x = x.flatten(2).transpose(1, 2)  # -> (batch_size, num_patches, hidden_size)\n",
        "        assert x.shape[0] == batch_size\n",
        "        assert x.shape[1] == self.num_patches\n",
        "        assert x.shape[2] == self.hidden_size\n",
        "        return x\n"
      ]
    },
    {
      "cell_type": "code",
      "execution_count": 2,
      "metadata": {},
      "outputs": [],
      "source": [
        "import torch\n",
        "import torch.nn as nn\n",
        "\n",
        "class Embeddings(nn.Module):\n",
        "    \"\"\"\n",
        "    Combine the patch embeddings with the class token and position embeddings.\n",
        "    \"\"\"\n",
        "\n",
        "    def __init__(self, config):\n",
        "        super().__init__()\n",
        "        self.config = config\n",
        "        self.patch_embeddings = PatchEmbeddings(config)\n",
        "        \n",
        "        # Обучаемый токен [CLS]\n",
        "        self.cls_token = nn.Parameter(torch.randn(1, 1, config[\"hidden_size\"]))\n",
        "        \n",
        "        # Позиционные эмбеддинги: +1 для [CLS]-токена\n",
        "        self.position_embeddings = nn.Parameter(torch.randn(\n",
        "            1, self.patch_embeddings.num_patches + 1, config[\"hidden_size\"]\n",
        "        ))\n",
        "        \n",
        "        self.dropout = nn.Dropout(config[\"hidden_dropout_prob\"])\n",
        "\n",
        "    def forward(self, x):\n",
        "        # Получаем патч-эмбеддинги: (batch_size, num_patches, hidden_size)\n",
        "        x = self.patch_embeddings(x)\n",
        "        \n",
        "        batch_size = x.size(0)\n",
        "\n",
        "        # Расширяем [CLS] токен для всего батча\n",
        "        cls_tokens = self.cls_token.expand(batch_size, -1, -1)  # (batch_size, 1, hidden_size)\n",
        "        \n",
        "        # Добавляем [CLS] токен к началу последовательности\n",
        "        x = torch.cat((cls_tokens, x), dim=1)  # (batch_size, num_patches + 1, hidden_size)\n",
        "\n",
        "        # Добавляем позиционные эмбеддинги\n",
        "        x = x + self.position_embeddings\n",
        "\n",
        "        # Dropout (регуляризация)\n",
        "        x = self.dropout(x)\n",
        "        \n",
        "        return x\n"
      ]
    },
    {
      "cell_type": "markdown",
      "metadata": {
        "id": "cSV0lUN3mWAH"
      },
      "source": [
        "## 2. Attention head\n",
        "\n",
        "Допишите реализацию головы трансформера. Формулы подсчеты attention score можно найти в Лекции 5, посвященной трансформерам"
      ]
    },
    {
      "cell_type": "code",
      "execution_count": 3,
      "metadata": {},
      "outputs": [],
      "source": [
        "import torch\n",
        "import torch.nn as nn\n",
        "from torch.nn.functional import softmax\n",
        "\n",
        "\n",
        "class AttentionHead(nn.Module):\n",
        "    \"\"\"\n",
        "    Голова трансформера — вычисляет внимание для одной \"головы\".\n",
        "    \"\"\"\n",
        "    def __init__(self, hidden_size, attention_head_size, dropout):\n",
        "        super().__init__()\n",
        "        self.hidden_size = hidden_size\n",
        "        self.attention_head_size = attention_head_size\n",
        "\n",
        "        self.query = nn.Linear(hidden_size, attention_head_size)\n",
        "        self.key = nn.Linear(hidden_size, attention_head_size)\n",
        "        self.value = nn.Linear(hidden_size, attention_head_size)\n",
        "\n",
        "        self.dropout = nn.Dropout(dropout)\n",
        "\n",
        "    def forward(self, x):\n",
        "        # x: (batch_size, seq_len, hidden_size)\n",
        "        Q = self.query(x)  # (batch_size, seq_len, head_size)\n",
        "        K = self.key(x)\n",
        "        V = self.value(x)\n",
        "\n",
        "        # Attention scores: (batch_size, seq_len, seq_len)\n",
        "        scores = torch.matmul(Q, K.transpose(-2, -1)) / (self.attention_head_size ** 0.5)\n",
        "        attention_weights = softmax(scores, dim=-1)\n",
        "        attention_weights = self.dropout(attention_weights)\n",
        "\n",
        "        # Weighted sum of values\n",
        "        attention_output = torch.matmul(attention_weights, V)  # (batch_size, seq_len, head_size)\n",
        "        return attention_output\n",
        "\n",
        "\n",
        "class MultiHeadAttention(nn.Module):\n",
        "    \"\"\"\n",
        "    Модуль multi-head attention\n",
        "    \"\"\"\n",
        "    def __init__(self, config):\n",
        "        super().__init__()\n",
        "        self.hidden_size = config[\"hidden_size\"]\n",
        "        self.num_attention_heads = config[\"num_attention_heads\"]\n",
        "\n",
        "        assert self.hidden_size % self.num_attention_heads == 0, \"hidden_size должен делиться на num_attention_heads\"\n",
        "\n",
        "        self.attention_head_size = self.hidden_size // self.num_attention_heads\n",
        "        self.all_head_size = self.num_attention_heads * self.attention_head_size\n",
        "\n",
        "        # Создаем головы внимания\n",
        "        self.heads = nn.ModuleList([\n",
        "            AttentionHead(self.hidden_size, self.attention_head_size, config[\"attention_probs_dropout_prob\"])\n",
        "            for _ in range(self.num_attention_heads)\n",
        "        ])\n",
        "\n",
        "        # Финальная линейная проекция\n",
        "        self.output_projection = nn.Linear(self.all_head_size, self.hidden_size)\n",
        "        self.output_dropout = nn.Dropout(config[\"hidden_dropout_prob\"])\n",
        "\n",
        "    def forward(self, x):\n",
        "        # Считаем внимание в каждой голове\n",
        "        attention_outputs = [head(x) for head in self.heads]  # Список из тензоров (batch, seq_len, head_size)\n",
        "        \n",
        "        # Конкатенируем результаты по размерности скрытого пространства\n",
        "        attention_output = torch.cat(attention_outputs, dim=-1)  # (batch, seq_len, all_head_size)\n",
        "\n",
        "        # Финальное линейное преобразование\n",
        "        attention_output = self.output_projection(attention_output)\n",
        "        attention_output = self.output_dropout(attention_output)\n",
        "        return attention_output\n"
      ]
    },
    {
      "cell_type": "code",
      "execution_count": 4,
      "metadata": {
        "id": "g-L-8B01zt3S"
      },
      "outputs": [],
      "source": [
        "\n",
        "class MLP(nn.Module):\n",
        "    \"\"\"\n",
        "    Многослойный персептрон\n",
        "    \"\"\"\n",
        "\n",
        "    def __init__(self, config):\n",
        "        super().__init__()\n",
        "        self.dense_1 = nn.Linear(config[\"hidden_size\"], config[\"intermediate_size\"])\n",
        "        self.activation = nn.GELU()\n",
        "        self.dense_2 = nn.Linear(config[\"intermediate_size\"], config[\"hidden_size\"])\n",
        "        self.dropout = nn.Dropout(config[\"hidden_dropout_prob\"])\n",
        "\n",
        "    def forward(self, x):\n",
        "        x = self.dense_1(x)\n",
        "        x = self.activation(x)\n",
        "        x = self.dense_2(x)\n",
        "        x = self.dropout(x)\n",
        "        return x\n"
      ]
    },
    {
      "cell_type": "markdown",
      "metadata": {
        "id": "9gBEKwqvzrEJ"
      },
      "source": [
        "## 3. Encoder\n",
        "\n",
        "Схема энкодера трансформера, используемого в ViT\n",
        "\n",
        "![](https://theaisummer.com/static/aa65d942973255da238052d8cdfa4fcd/7d4ec/the-transformer-block-vit.png)\n"
      ]
    },
    {
      "cell_type": "code",
      "execution_count": 5,
      "metadata": {},
      "outputs": [],
      "source": [
        "class Block(nn.Module):\n",
        "    \"\"\"\n",
        "    Блок энкодера, как на рисунке сверху.\n",
        "    Схема: x -> LN -> Attention -> Add -> LN -> MLP -> Add\n",
        "    \"\"\"\n",
        "\n",
        "    def __init__(self, config):\n",
        "        super().__init__()\n",
        "        self.attention = MultiHeadAttention(config)\n",
        "        self.layernorm_1 = nn.LayerNorm(config[\"hidden_size\"])\n",
        "        self.mlp = MLP(config)\n",
        "        self.layernorm_2 = nn.LayerNorm(config[\"hidden_size\"])\n",
        "\n",
        "    def forward(self, x):\n",
        "        # Первый путь: LayerNorm -> Attention -> Residual\n",
        "        residual = x\n",
        "        x = self.layernorm_1(x)\n",
        "        x = self.attention(x)\n",
        "        x = x + residual  # Skip connection\n",
        "\n",
        "        # Второй путь: LayerNorm -> MLP -> Residual\n",
        "        residual = x\n",
        "        x = self.layernorm_2(x)\n",
        "        x = self.mlp(x)\n",
        "        x = x + residual  # Skip connection\n",
        "\n",
        "        return x\n",
        "\n",
        "\n",
        "\n",
        "class Encoder(nn.Module):\n",
        "    \"\"\"\n",
        "    Энкодер, состоящий из config[\"num_blocks\"] блоков.\n",
        "    \"\"\"\n",
        "\n",
        "    def __init__(self, config):\n",
        "        super().__init__()\n",
        "        # Создаём config[\"num_blocks\"] энкодерных блоков\n",
        "        self.blocks = nn.ModuleList([\n",
        "            Block(config) for _ in range(config[\"num_blocks\"])\n",
        "        ])\n",
        "\n",
        "    def forward(self, x):\n",
        "        for block in self.blocks:\n",
        "            x = block(x)\n",
        "        return x\n"
      ]
    },
    {
      "cell_type": "code",
      "execution_count": null,
      "metadata": {
        "id": "589LyN0K4OUF"
      },
      "outputs": [],
      "source": [
        "class ViTForClassfication(nn.Module):\n",
        "    \"\"\"\n",
        "    Vision transformer. Состоит из PatchEmbedder-а, энкодера и линейного слоя\n",
        "    \"\"\"\n",
        "\n",
        "    def __init__(self, config):\n",
        "        super().__init__()\n",
        "        self.config = config\n",
        " \n",
        "        self.image_size = config[\"image_size\"]\n",
        "        self.hidden_size = config[\"hidden_size\"]\n",
        "\n",
        "        self.num_classes = config[\"num_classes\"]\n",
        "\n",
        "        self.embedding = Embeddings(config)\n",
        "        self.encoder = Encoder(config)\n",
        "        self.classifier = nn.Linear(self.hidden_size, self.num_classes)\n",
        "\n",
        "    def forward(self, x):\n",
        "        embedding_output = self.embedding(x)\n",
        "        encoder_output = self.encoder(embedding_output)\n",
        "        # Рассчываем логиты как выходные данные токена [CLS]\n",
        "        logits = self.classifier(encoder_output[:, 0, :])\n",
        "\n",
        "        return logits"
      ]
    },
    {
      "cell_type": "markdown",
      "metadata": {
        "id": "ZLeQnVc9-uKN"
      },
      "source": [
        "## 4. Подготовка датасета\n",
        "\n",
        "Эта часть мало чем отличается от Lab_3, поэтому можете свериться с ней"
      ]
    },
    {
      "cell_type": "code",
      "execution_count": null,
      "metadata": {
        "id": "UbEp406Wqksp"
      },
      "outputs": [],
      "source": [
        "\n",
        "import torch\n",
        "import torchvision\n",
        "import torchvision.transforms as transforms\n",
        "\n",
        "\n",
        "\n",
        "def prepare_data(batch_size=4, num_workers=2, train_sample_size=None, test_sample_size=None):\n",
        "    # Трансформации для обучающего датасета\n",
        "    train_transform = transforms.Compose([\n",
        "        transforms.RandomResizedCrop(32),  # случайный кроп с масштабированием\n",
        "        transforms.RandomHorizontalFlip(),  # случайное горизонтальное отражение\n",
        "        transforms.ToTensor(),\n",
        "        transforms.Normalize((0.5, 0.5, 0.5), (0.5, 0.5, 0.5))\n",
        "    ])\n",
        "\n",
        "    trainset = torchvision.datasets.CIFAR10(root='./data', train=True,\n",
        "                                            download=True, transform=train_transform)\n",
        "\n",
        "    if train_sample_size is not None:\n",
        "        indices = torch.randperm(len(trainset))[:train_sample_size]\n",
        "        trainset = torch.utils.data.Subset(trainset, indices)\n",
        "\n",
        "    trainloader = torch.utils.data.DataLoader(trainset, batch_size=batch_size,\n",
        "                                              shuffle=True, num_workers=num_workers)\n",
        "\n",
        "    # Трансформации для тестового датасета\n",
        "    test_transform = transforms.Compose([\n",
        "        transforms.Resize((32, 32)),\n",
        "        transforms.ToTensor(),\n",
        "        transforms.Normalize((0.5, 0.5, 0.5), (0.5, 0.5, 0.5))\n",
        "    ])\n",
        "\n",
        "    testset = torchvision.datasets.CIFAR10(root='./data', train=False,\n",
        "                                           download=True, transform=test_transform)\n",
        "\n",
        "    if test_sample_size is not None:\n",
        "        indices = torch.randperm(len(testset))[:test_sample_size]\n",
        "        testset = torch.utils.data.Subset(testset, indices)\n",
        "\n",
        "    testloader = torch.utils.data.DataLoader(testset, batch_size=batch_size,\n",
        "                                             shuffle=False, num_workers=num_workers)\n",
        "\n",
        "    return trainloader, testloader\n"
      ]
    },
    {
      "cell_type": "code",
      "execution_count": null,
      "metadata": {},
      "outputs": [
        {
          "data": {
            "image/png": "[encoded data removed]",
            "text/plain": [
              "<Figure size 640x480 with 1 Axes>"
            ]
          },
          "metadata": {},
          "output_type": "display_data"
        }
      ],
      "source": [
        "import random\n",
        "import matplotlib.pyplot as plt\n",
        "import torchvision\n",
        "import torchvision.transforms as transforms\n",
        "\n",
        "transform = transforms.ToTensor()\n",
        "\n",
        "# Загружаем тестовый датасет (или можно train=True)\n",
        "dataset = torchvision.datasets.CIFAR10(root='./data', train=False, download=True, transform=transform)\n",
        "\n",
        "#  случайный индекс\n",
        "index = random.randint(0, len(dataset) - 1)\n",
        "image, label = dataset[index]\n",
        "\n",
        "# классы\n",
        "classes = dataset.classes\n",
        "\n",
        "plt.imshow(image.permute(1, 2, 0)) \n",
        "plt.title(f\"Класс: {classes[label]}\")\n",
        "plt.axis(\"off\")\n",
        "plt.show()\n"
      ]
    },
    {
      "cell_type": "markdown",
      "metadata": {
        "id": "NBu4lpCHRGEs"
      },
      "source": [
        "# Finally, обучение!"
      ]
    },
    {
      "cell_type": "code",
      "execution_count": 13,
      "metadata": {},
      "outputs": [
        {
          "name": "stderr",
          "output_type": "stream",
          "text": [
            "                                                                                     \r"
          ]
        },
        {
          "name": "stdout",
          "output_type": "stream",
          "text": [
            "Epoch [1/10] | Train Loss: 1.9839 | Train Acc: 0.2509 | Test Loss: 1.7468 | Test Acc: 0.3503\n"
          ]
        },
        {
          "name": "stderr",
          "output_type": "stream",
          "text": [
            "                                                                                     \r"
          ]
        },
        {
          "name": "stdout",
          "output_type": "stream",
          "text": [
            "Epoch [2/10] | Train Loss: 1.8233 | Train Acc: 0.3211 | Test Loss: 1.6821 | Test Acc: 0.3684\n"
          ]
        },
        {
          "name": "stderr",
          "output_type": "stream",
          "text": [
            "                                                                                     \r"
          ]
        },
        {
          "name": "stdout",
          "output_type": "stream",
          "text": [
            "Epoch [3/10] | Train Loss: 1.7530 | Train Acc: 0.3527 | Test Loss: 1.7279 | Test Acc: 0.3830\n"
          ]
        },
        {
          "name": "stderr",
          "output_type": "stream",
          "text": [
            "                                                                                     \r"
          ]
        },
        {
          "name": "stdout",
          "output_type": "stream",
          "text": [
            "Epoch [4/10] | Train Loss: 1.6973 | Train Acc: 0.3768 | Test Loss: 1.5188 | Test Acc: 0.4436\n"
          ]
        },
        {
          "name": "stderr",
          "output_type": "stream",
          "text": [
            "                                                                                     \r"
          ]
        },
        {
          "name": "stdout",
          "output_type": "stream",
          "text": [
            "Epoch [5/10] | Train Loss: 1.6384 | Train Acc: 0.4015 | Test Loss: 1.4655 | Test Acc: 0.4658\n"
          ]
        },
        {
          "name": "stderr",
          "output_type": "stream",
          "text": [
            "                                                                                     \r"
          ]
        },
        {
          "name": "stdout",
          "output_type": "stream",
          "text": [
            "Epoch [6/10] | Train Loss: 1.5852 | Train Acc: 0.4211 | Test Loss: 1.4776 | Test Acc: 0.4671\n"
          ]
        },
        {
          "name": "stderr",
          "output_type": "stream",
          "text": [
            "                                                                                     \r"
          ]
        },
        {
          "name": "stdout",
          "output_type": "stream",
          "text": [
            "Epoch [7/10] | Train Loss: 1.5285 | Train Acc: 0.4457 | Test Loss: 1.3644 | Test Acc: 0.4981\n"
          ]
        },
        {
          "name": "stderr",
          "output_type": "stream",
          "text": [
            "                                                                                     \r"
          ]
        },
        {
          "name": "stdout",
          "output_type": "stream",
          "text": [
            "Epoch [8/10] | Train Loss: 1.4687 | Train Acc: 0.4708 | Test Loss: 1.3052 | Test Acc: 0.5306\n"
          ]
        },
        {
          "name": "stderr",
          "output_type": "stream",
          "text": [
            "                                                                                      \r"
          ]
        },
        {
          "name": "stdout",
          "output_type": "stream",
          "text": [
            "Epoch [9/10] | Train Loss: 1.4141 | Train Acc: 0.4924 | Test Loss: 1.2582 | Test Acc: 0.5491\n"
          ]
        },
        {
          "name": "stderr",
          "output_type": "stream",
          "text": [
            "                                                                                       \r"
          ]
        },
        {
          "name": "stdout",
          "output_type": "stream",
          "text": [
            "Epoch [10/10] | Train Loss: 1.3836 | Train Acc: 0.5047 | Test Loss: 1.2482 | Test Acc: 0.5526\n",
            "Best Test Accuracy: 0.5526\n"
          ]
        },
        {
          "data": {
            "image/png": "[encoded data removed]",
            "text/plain": [
              "<Figure size 1200x500 with 2 Axes>"
            ]
          },
          "metadata": {},
          "output_type": "display_data"
        }
      ],
      "source": [
        "import torch\n",
        "import torch.nn as nn\n",
        "import torch.optim as optim\n",
        "import matplotlib.pyplot as plt\n",
        "from tqdm import tqdm\n",
        "import copy\n",
        "\n",
        "def initialize_weights(module):\n",
        "    if isinstance(module, nn.Linear):\n",
        "        nn.init.trunc_normal_(module.weight, std=0.02)\n",
        "        if module.bias is not None:\n",
        "            nn.init.zeros_(module.bias)\n",
        "    elif isinstance(module, nn.Conv2d):\n",
        "        nn.init.kaiming_normal_(module.weight)\n",
        "        if module.bias is not None:\n",
        "            nn.init.zeros_(module.bias)\n",
        "    elif isinstance(module, nn.LayerNorm):\n",
        "        nn.init.ones_(module.weight)\n",
        "        nn.init.zeros_(module.bias)\n",
        "\n",
        "class Trainer:\n",
        "    def __init__(self, model, optimizer, scheduler, loss_fn, device):\n",
        "        self.model = model.to(device)\n",
        "        self.optimizer = optimizer\n",
        "        self.scheduler = scheduler\n",
        "        self.loss_fn = loss_fn\n",
        "        self.device = device\n",
        "\n",
        "\n",
        "    def train(self, trainloader, testloader, epochs):\n",
        "        best_accuracy = 0\n",
        "        best_model_state = None\n",
        "\n",
        "        train_losses = []\n",
        "        train_accuracies = []\n",
        "        test_losses = []\n",
        "        test_accuracies = []\n",
        "\n",
        "        for epoch in range(epochs):\n",
        "            self.model.train()\n",
        "            total_loss = 0\n",
        "            correct = 0\n",
        "            total = 0\n",
        "\n",
        "            loop = tqdm(trainloader, desc=f\"Epoch {epoch+1}/{epochs}\", leave=False)\n",
        "            for images, labels in loop:\n",
        "                images, labels = images.to(self.device), labels.to(self.device)\n",
        "\n",
        "                self.optimizer.zero_grad()\n",
        "                logits = self.model(images)\n",
        "                loss = self.loss_fn(logits, labels)\n",
        "                loss.backward()\n",
        "                self.optimizer.step()\n",
        "\n",
        "                total_loss += loss.item() * images.size(0)\n",
        "\n",
        "                preds = torch.argmax(logits, dim=1)\n",
        "                correct += (preds == labels).sum().item()\n",
        "                total += images.size(0)\n",
        "\n",
        "                loop.set_postfix(loss=loss.item(), acc=correct / total)\n",
        "\n",
        "            train_loss = total_loss / len(trainloader.dataset)\n",
        "            train_acc = correct / total\n",
        "            self.scheduler.step()\n",
        "\n",
        "            test_acc, test_loss = self.evaluate(testloader)\n",
        "            print(f\"Epoch [{epoch+1}/{epochs}] | Train Loss: {train_loss:.4f} | \"\n",
        "                f\"Train Acc: {train_acc:.4f} | Test Loss: {test_loss:.4f} | Test Acc: {test_acc:.4f}\")\n",
        "\n",
        "            train_losses.append(train_loss)\n",
        "            train_accuracies.append(train_acc)\n",
        "            test_losses.append(test_loss)\n",
        "            test_accuracies.append(test_acc)\n",
        "\n",
        "            if test_acc > best_accuracy:\n",
        "                best_accuracy = test_acc\n",
        "                best_model_state = copy.deepcopy(self.model.state_dict())\n",
        "\n",
        "        print(f\"Best Test Accuracy: {best_accuracy:.4f}\")\n",
        "        if best_model_state:\n",
        "            self.model.load_state_dict(best_model_state)\n",
        "\n",
        "        self.plot_metrics(train_losses, train_accuracies, test_losses, test_accuracies)\n",
        "\n",
        "\n",
        "\n",
        "\n",
        "    @torch.no_grad()\n",
        "    def evaluate(self, testloader):\n",
        "        self.model.eval()\n",
        "        total_loss = 0\n",
        "        correct = 0\n",
        "\n",
        "        for images, labels in testloader:\n",
        "            images, labels = images.to(self.device), labels.to(self.device)\n",
        "            logits = self.model(images)\n",
        "            loss = self.loss_fn(logits, labels)\n",
        "            total_loss += loss.item() * images.size(0)\n",
        "\n",
        "            preds = torch.argmax(logits, dim=1)\n",
        "            correct += (preds == labels).sum().item()\n",
        "\n",
        "        avg_loss = total_loss / len(testloader.dataset)\n",
        "        accuracy = correct / len(testloader.dataset)\n",
        "        return accuracy, avg_loss\n",
        "\n",
        "    def plot_metrics(self, train_losses, train_accuracies, test_losses, test_accuracies):\n",
        "        plt.figure(figsize=(12, 5))\n",
        "\n",
        "        plt.subplot(1, 2, 1)\n",
        "        plt.plot(train_losses, label=\"Train Loss\")\n",
        "        plt.plot(test_losses, label=\"Test Loss\")\n",
        "        plt.title(\"Loss over Epochs\")\n",
        "        plt.xlabel(\"Epoch\")\n",
        "        plt.ylabel(\"Loss\")\n",
        "        plt.legend()\n",
        "\n",
        "        plt.subplot(1, 2, 2)\n",
        "        plt.plot(train_accuracies, label=\"Train Accuracy\")\n",
        "        plt.plot(test_accuracies, label=\"Test Accuracy\")\n",
        "        plt.title(\"Accuracy over Epochs\")\n",
        "        plt.xlabel(\"Epoch\")\n",
        "        plt.ylabel(\"Accuracy\")\n",
        "        plt.legend()\n",
        "\n",
        "        plt.tight_layout()\n",
        "        plt.show()\n",
        "\n",
        "\n",
        "\n",
        "def main():\n",
        "    batch_size = 32\n",
        "    epochs = 10\n",
        "    lr = 1e-2\n",
        "\n",
        "    device = torch.device(\"cuda\" if torch.cuda.is_available() else \"cpu\")\n",
        "\n",
        "    config = {\n",
        "        \"patch_size\": 4,\n",
        "        \"hidden_size\": 48,\n",
        "        \"num_blocks\": 4,\n",
        "        \"num_attention_heads\": 4,\n",
        "        \"intermediate_size\": 4 * 48,\n",
        "        \"hidden_dropout_prob\": 0.1,\n",
        "        \"attention_probs_dropout_prob\": 0.1,\n",
        "        \"initializer_range\": 0.02,\n",
        "        \"image_size\": 32,\n",
        "        \"num_classes\": 10,\n",
        "        \"num_channels\": 3,\n",
        "    }\n",
        "\n",
        "    trainloader, testloader = prepare_data(batch_size=batch_size)\n",
        "    model = ViTForClassfication(config)\n",
        "    model.apply(initialize_weights)\n",
        "\n",
        "    optimizer = optim.AdamW(model.parameters(), lr=lr, weight_decay=1e-2)\n",
        "    scheduler = optim.lr_scheduler.CosineAnnealingLR(optimizer, T_max=epochs)\n",
        "    loss_fn = nn.CrossEntropyLoss()\n",
        "\n",
        "    trainer = Trainer(model, optimizer, scheduler, loss_fn, device)\n",
        "    trainer.train(trainloader, testloader, epochs)\n",
        "\n",
        "\n",
        "if __name__ == '__main__':\n",
        "    main()\n"
      ]
    }
  ],
  "metadata": {
    "accelerator": "GPU",
    "colab": {
      "gpuType": "T4",
      "provenance": []
    },
    "kernelspec": {
      "display_name": "rapids-25.02",
      "language": "python",
      "name": "python3"
    },
    "language_info": {
      "codemirror_mode": {
        "name": "ipython",
        "version": 3
      },
      "file_extension": ".py",
      "mimetype": "text/x-python",
      "name": "python",
      "nbconvert_exporter": "python",
      "pygments_lexer": "ipython3",
      "version": "3.12.9"
    }
  },
  "nbformat": 4,
  "nbformat_minor": 0
}
