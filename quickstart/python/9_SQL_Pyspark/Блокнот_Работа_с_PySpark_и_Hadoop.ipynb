{
  "cells": [
    {
      "cell_type": "markdown",
      "metadata": {
        "id": "WrHJtJgUGv94"
      },
      "source": [
        "# PySpark\n",
        "\n",
        "PySpark — это API Apache Spark, который представляет собой систему с открытым исходным кодом, применяемую для распределенной обработки больших данных."
      ]
    },
    {
      "cell_type": "markdown",
      "metadata": {
        "id": "HBDMJX-uGv96"
      },
      "source": [
        "Устанавливаем пакет openjdk-8-jdk-headless.\n",
        "\n",
        "Не показываем пользователю запросы на подтверждение или ввод пароля.\n",
        "\n",
        "Не выводим информационные сообщения о процессе установки.\n",
        "\n",
        "Все вывод команды направляется в /dev/null, где его не читает ни один процесс.\n"
      ]
    },
    {
      "cell_type": "code",
      "execution_count": 81,
      "metadata": {
        "colab": {
          "base_uri": "https://localhost:8080/"
        },
        "id": "4-EOFJDfGv98",
        "outputId": "b37dec5e-e9ed-4c37-f91a-cd1fef8ef8ca"
      },
      "outputs": [
        {
          "output_type": "stream",
          "name": "stdout",
          "text": [
            "Детектированная кодировка: ascii\n"
          ]
        }
      ],
      "source": [
        "import chardet\n",
        "\n",
        "# Определение кодировки вывода apt-get\n",
        "output = !apt-get update\n",
        "detected_encoding = chardet.detect(output[0].encode()).get('encoding')\n",
        "print(f\"Детектированная кодировка: {detected_encoding}\")"
      ]
    },
    {
      "cell_type": "code",
      "execution_count": 82,
      "metadata": {
        "colab": {
          "base_uri": "https://localhost:8080/"
        },
        "id": "5EwO8kIiGv99",
        "outputId": "df7d5496-3a2d-4bd9-b845-0440b368de63"
      },
      "outputs": [
        {
          "output_type": "stream",
          "name": "stdout",
          "text": [
            "/bin/bash: warning: setlocale: LC_ALL: cannot change locale (ru_RU.UTF-8)\n"
          ]
        }
      ],
      "source": [
        "!apt-get install openjdk-8-jdk-headless -qq > /dev/null"
      ]
    },
    {
      "cell_type": "code",
      "execution_count": 16,
      "metadata": {
        "id": "tt7ZS1_wGgjn",
        "colab": {
          "base_uri": "https://localhost:8080/"
        },
        "outputId": "9d77b534-ee6e-4652-8c31-0489ee803fe9"
      },
      "outputs": [
        {
          "metadata": {
            "tags": null
          },
          "name": "stdout",
          "output_type": "stream",
          "text": [
            "/bin/bash: warning: setlocale: LC_ALL: cannot change locale (ru_RU.UTF-8)\n",
            "/bin/bash: warning: setlocale: LC_ALL: cannot change locale (ru_RU.UTF-8)\n",
            "/bin/bash: warning: setlocale: LC_ALL: cannot change locale (ru_RU.UTF-8)\n",
            "/bin/bash: warning: setlocale: LC_ALL: cannot change locale (ru_RU.UTF-8)\n"
          ]
        }
      ],
      "source": [
        "!wget -q http://archive.apache.org/dist/spark/spark-3.5.1/spark-3.5.1-bin-hadoop3.tgz\n",
        "!tar xf spark-3.5.1-bin-hadoop3.tgz\n",
        "!pip install -q findspark"
      ]
    },
    {
      "cell_type": "code",
      "execution_count": 83,
      "metadata": {
        "id": "sdOOq4twHN1K"
      },
      "outputs": [],
      "source": [
        "import os\n",
        "os.environ[\"JAVA_HOME\"] = \"/usr/lib/jvm/java-8-openjdk-amd64\" # ссылка до java\n",
        "os.environ[\"SPARK_HOME\"] = \"/content/spark-3.5.1-bin-hadoop3\" # ссылка до spark"
      ]
    },
    {
      "cell_type": "code",
      "execution_count": 84,
      "metadata": {
        "colab": {
          "base_uri": "https://localhost:8080/"
        },
        "id": "3ACYMwhgHTYz",
        "outputId": "52750252-b062-478b-cced-2a7058fe69a0"
      },
      "outputs": [
        {
          "output_type": "stream",
          "name": "stdout",
          "text": [
            "/bin/bash: warning: setlocale: LC_ALL: cannot change locale (ru_RU.UTF-8)\n",
            "cars.csv    sample_data\t\t     spark-3.5.1-bin-hadoop3.tgz\n",
            "cars.csv.1  spark-3.5.1-bin-hadoop3  spark-3.5.1-bin-hadoop3.tgz.1\n"
          ]
        }
      ],
      "source": [
        "!ls"
      ]
    },
    {
      "cell_type": "code",
      "execution_count": 86,
      "metadata": {
        "id": "qW65eqRjGv9-"
      },
      "outputs": [],
      "source": [
        "import findspark\n",
        "findspark.init()\n",
        "\n",
        "from pyspark.sql import SparkSession # вызывается созданная сессия"
      ]
    },
    {
      "cell_type": "code",
      "execution_count": 88,
      "metadata": {
        "colab": {
          "base_uri": "https://localhost:8080/",
          "height": 219
        },
        "id": "KR1zLBk1998Z",
        "outputId": "907fc0b7-60be-4758-a86c-c46c08014fac"
      },
      "outputs": [
        {
          "output_type": "execute_result",
          "data": {
            "text/plain": [
              "<pyspark.sql.session.SparkSession at 0x7bc9f4bc1990>"
            ],
            "text/html": [
              "\n",
              "            <div>\n",
              "                <p><b>SparkSession - in-memory</b></p>\n",
              "                \n",
              "        <div>\n",
              "            <p><b>SparkContext</b></p>\n",
              "\n",
              "            <p><a href=\"http://24ecedb1a8ed:4040\">Spark UI</a></p>\n",
              "\n",
              "            <dl>\n",
              "              <dt>Version</dt>\n",
              "                <dd><code>v3.5.1</code></dd>\n",
              "              <dt>Master</dt>\n",
              "                <dd><code>local[*]</code></dd>\n",
              "              <dt>AppName</dt>\n",
              "                <dd><code>pyspark-shell</code></dd>\n",
              "            </dl>\n",
              "        </div>\n",
              "        \n",
              "            </div>\n",
              "        "
            ]
          },
          "metadata": {},
          "execution_count": 88
        }
      ],
      "source": [
        "spark = SparkSession.builder.master(\"local[*]\").getOrCreate()\n",
        "spark.conf.set(\"spark.sql.repl.eagerEval.enabled\", True) # Форматирование таблиц SQL\n",
        "spark"
      ]
    },
    {
      "cell_type": "code",
      "execution_count": 21,
      "metadata": {
        "colab": {
          "base_uri": "https://localhost:8080/"
        },
        "id": "hQ3zmGACLKlN",
        "outputId": "d45ff5cd-7c3c-4ea1-d773-01cd1f5d5329"
      },
      "outputs": [
        {
          "output_type": "stream",
          "name": "stdout",
          "text": [
            "/bin/bash: warning: setlocale: LC_ALL: cannot change locale (ru_RU.UTF-8)\n",
            "--2024-12-23 15:25:18--  https://jacobceles.github.io/knowledge_repo/colab_and_pyspark/cars.csv\n",
            "Resolving jacobceles.github.io (jacobceles.github.io)... 185.199.108.153, 185.199.109.153, 185.199.110.153, ...\n",
            "Connecting to jacobceles.github.io (jacobceles.github.io)|185.199.108.153|:443... connected.\n",
            "HTTP request sent, awaiting response... 301 Moved Permanently\n",
            "Location: https://jacobcelestine.com/knowledge_repo/colab_and_pyspark/cars.csv [following]\n",
            "--2024-12-23 15:25:19--  https://jacobcelestine.com/knowledge_repo/colab_and_pyspark/cars.csv\n",
            "Resolving jacobcelestine.com (jacobcelestine.com)... 185.199.108.153, 185.199.109.153, 185.199.110.153, ...\n",
            "Connecting to jacobcelestine.com (jacobcelestine.com)|185.199.108.153|:443... connected.\n",
            "HTTP request sent, awaiting response... 200 OK\n",
            "Length: 22608 (22K) [text/csv]\n",
            "Saving to: 'cars.csv.1'\n",
            "\n",
            "cars.csv.1          100%[===================>]  22.08K  --.-KB/s    in 0.001s  \n",
            "\n",
            "2024-12-23 15:25:19 (17.9 MB/s) - 'cars.csv.1' saved [22608/22608]\n",
            "\n"
          ]
        }
      ],
      "source": [
        "# Downloading and preprocessing Cars Data downloaded origianlly from https://perso.telecom-paristech.fr/eagan/class/igr204/datasets\n",
        "!wget https://jacobceles.github.io/knowledge_repo/colab_and_pyspark/cars.csv"
      ]
    },
    {
      "cell_type": "code",
      "execution_count": 22,
      "metadata": {
        "colab": {
          "base_uri": "https://localhost:8080/"
        },
        "id": "Wpq2jYvIMOJy",
        "outputId": "3690084c-e0f3-46c8-f255-7ceaafcf28d9"
      },
      "outputs": [
        {
          "output_type": "stream",
          "name": "stdout",
          "text": [
            "/bin/bash: warning: setlocale: LC_ALL: cannot change locale (ru_RU.UTF-8)\n",
            "cars.csv    sample_data\t\t     spark-3.5.1-bin-hadoop3.tgz\n",
            "cars.csv.1  spark-3.5.1-bin-hadoop3  spark-3.5.1-bin-hadoop3.tgz.1\n"
          ]
        }
      ],
      "source": [
        "!ls"
      ]
    },
    {
      "cell_type": "code",
      "execution_count": 89,
      "metadata": {
        "colab": {
          "base_uri": "https://localhost:8080/"
        },
        "id": "hz6ALr5mMqZt",
        "outputId": "65c6aafe-fd44-4f68-919f-fa54e526dae9"
      },
      "outputs": [
        {
          "output_type": "stream",
          "name": "stdout",
          "text": [
            "+--------------------+----+---------+------------+----------+------+------------+-----+------+\n",
            "|                 Car| MPG|Cylinders|Displacement|Horsepower|Weight|Acceleration|Model|Origin|\n",
            "+--------------------+----+---------+------------+----------+------+------------+-----+------+\n",
            "|Chevrolet Chevell...|18.0|        8|       307.0|     130.0| 3504.|        12.0|   70|    US|\n",
            "|   Buick Skylark 320|15.0|        8|       350.0|     165.0| 3693.|        11.5|   70|    US|\n",
            "|  Plymouth Satellite|18.0|        8|       318.0|     150.0| 3436.|        11.0|   70|    US|\n",
            "|       AMC Rebel SST|16.0|        8|       304.0|     150.0| 3433.|        12.0|   70|    US|\n",
            "|         Ford Torino|17.0|        8|       302.0|     140.0| 3449.|        10.5|   70|    US|\n",
            "|    Ford Galaxie 500|15.0|        8|       429.0|     198.0| 4341.|        10.0|   70|    US|\n",
            "|    Chevrolet Impala|14.0|        8|       454.0|     220.0| 4354.|         9.0|   70|    US|\n",
            "|   Plymouth Fury iii|14.0|        8|       440.0|     215.0| 4312.|         8.5|   70|    US|\n",
            "|    Pontiac Catalina|14.0|        8|       455.0|     225.0| 4425.|        10.0|   70|    US|\n",
            "|  AMC Ambassador DPL|15.0|        8|       390.0|     190.0| 3850.|         8.5|   70|    US|\n",
            "|Citroen DS-21 Pallas|   0|        4|       133.0|     115.0| 3090.|        17.5|   70|Europe|\n",
            "|Chevrolet Chevell...|   0|        8|       350.0|     165.0| 4142.|        11.5|   70|    US|\n",
            "|    Ford Torino (sw)|   0|        8|       351.0|     153.0| 4034.|        11.0|   70|    US|\n",
            "|Plymouth Satellit...|   0|        8|       383.0|     175.0| 4166.|        10.5|   70|    US|\n",
            "|  AMC Rebel SST (sw)|   0|        8|       360.0|     175.0| 3850.|        11.0|   70|    US|\n",
            "| Dodge Challenger SE|15.0|        8|       383.0|     170.0| 3563.|        10.0|   70|    US|\n",
            "|  Plymouth 'Cuda 340|14.0|        8|       340.0|     160.0| 3609.|         8.0|   70|    US|\n",
            "|Ford Mustang Boss...|   0|        8|       302.0|     140.0| 3353.|         8.0|   70|    US|\n",
            "|Chevrolet Monte C...|15.0|        8|       400.0|     150.0| 3761.|         9.5|   70|    US|\n",
            "|Buick Estate Wago...|14.0|        8|       455.0|     225.0| 3086.|        10.0|   70|    US|\n",
            "+--------------------+----+---------+------------+----------+------+------------+-----+------+\n",
            "only showing top 20 rows\n",
            "\n"
          ]
        }
      ],
      "source": [
        "# Load data from csv to a dataframe.\n",
        "# header=True means the first row is a header\n",
        "# sep=';' means the column are seperated using ''\n",
        "df = spark.read.csv('cars.csv', header=True, sep=\";\") # по умолчанию все данные - строки\n",
        "df.show() # SQL SELECT TOP 20"
      ]
    },
    {
      "cell_type": "code",
      "execution_count": 90,
      "metadata": {
        "colab": {
          "base_uri": "https://localhost:8080/"
        },
        "id": "I1qqkqcfxM0v",
        "outputId": "58db2266-3053-4bc5-efef-b9b6f2858ddc"
      },
      "outputs": [
        {
          "output_type": "stream",
          "name": "stdout",
          "text": [
            "+-------------------------+----+---------+------------+----------+------+------------+-----+------+\n",
            "|Car                      |MPG |Cylinders|Displacement|Horsepower|Weight|Acceleration|Model|Origin|\n",
            "+-------------------------+----+---------+------------+----------+------+------------+-----+------+\n",
            "|Chevrolet Chevelle Malibu|18.0|8        |307.0       |130.0     |3504. |12.0        |70   |US    |\n",
            "|Buick Skylark 320        |15.0|8        |350.0       |165.0     |3693. |11.5        |70   |US    |\n",
            "|Plymouth Satellite       |18.0|8        |318.0       |150.0     |3436. |11.0        |70   |US    |\n",
            "|AMC Rebel SST            |16.0|8        |304.0       |150.0     |3433. |12.0        |70   |US    |\n",
            "|Ford Torino              |17.0|8        |302.0       |140.0     |3449. |10.5        |70   |US    |\n",
            "+-------------------------+----+---------+------------+----------+------+------------+-----+------+\n",
            "only showing top 5 rows\n",
            "\n"
          ]
        }
      ],
      "source": [
        "df.show(5, truncate=False) # SQL SELECT TOP 5 без обрезки"
      ]
    },
    {
      "cell_type": "code",
      "execution_count": 91,
      "metadata": {
        "colab": {
          "base_uri": "https://localhost:8080/",
          "height": 156
        },
        "id": "R9zwzswIxXF9",
        "outputId": "c9a787de-c840-49c1-982d-230e04d54922"
      },
      "outputs": [
        {
          "output_type": "execute_result",
          "data": {
            "text/plain": [
              "+--------------------+----+---------+------------+----------+------+------------+-----+------+\n",
              "|                 Car| MPG|Cylinders|Displacement|Horsepower|Weight|Acceleration|Model|Origin|\n",
              "+--------------------+----+---------+------------+----------+------+------------+-----+------+\n",
              "|Chevrolet Chevell...|18.0|        8|       307.0|     130.0| 3504.|        12.0|   70|    US|\n",
              "|   Buick Skylark 320|15.0|        8|       350.0|     165.0| 3693.|        11.5|   70|    US|\n",
              "|  Plymouth Satellite|18.0|        8|       318.0|     150.0| 3436.|        11.0|   70|    US|\n",
              "|       AMC Rebel SST|16.0|        8|       304.0|     150.0| 3433.|        12.0|   70|    US|\n",
              "|         Ford Torino|17.0|        8|       302.0|     140.0| 3449.|        10.5|   70|    US|\n",
              "+--------------------+----+---------+------------+----------+------+------------+-----+------+"
            ],
            "text/html": [
              "<table border='1'>\n",
              "<tr><th>Car</th><th>MPG</th><th>Cylinders</th><th>Displacement</th><th>Horsepower</th><th>Weight</th><th>Acceleration</th><th>Model</th><th>Origin</th></tr>\n",
              "<tr><td>Chevrolet Chevell...</td><td>18.0</td><td>8</td><td>307.0</td><td>130.0</td><td>3504.</td><td>12.0</td><td>70</td><td>US</td></tr>\n",
              "<tr><td>Buick Skylark 320</td><td>15.0</td><td>8</td><td>350.0</td><td>165.0</td><td>3693.</td><td>11.5</td><td>70</td><td>US</td></tr>\n",
              "<tr><td>Plymouth Satellite</td><td>18.0</td><td>8</td><td>318.0</td><td>150.0</td><td>3436.</td><td>11.0</td><td>70</td><td>US</td></tr>\n",
              "<tr><td>AMC Rebel SST</td><td>16.0</td><td>8</td><td>304.0</td><td>150.0</td><td>3433.</td><td>12.0</td><td>70</td><td>US</td></tr>\n",
              "<tr><td>Ford Torino</td><td>17.0</td><td>8</td><td>302.0</td><td>140.0</td><td>3449.</td><td>10.5</td><td>70</td><td>US</td></tr>\n",
              "</table>\n"
            ]
          },
          "metadata": {},
          "execution_count": 91
        }
      ],
      "source": [
        "df.limit(5) # SQL-запросу LIMIT 5"
      ]
    },
    {
      "cell_type": "code",
      "execution_count": 92,
      "metadata": {
        "colab": {
          "base_uri": "https://localhost:8080/"
        },
        "id": "9o7jsazcu-13",
        "outputId": "ceebb6ec-3c0d-49e2-cace-310fd47f01cb"
      },
      "outputs": [
        {
          "output_type": "execute_result",
          "data": {
            "text/plain": [
              "['Car',\n",
              " 'MPG',\n",
              " 'Cylinders',\n",
              " 'Displacement',\n",
              " 'Horsepower',\n",
              " 'Weight',\n",
              " 'Acceleration',\n",
              " 'Model',\n",
              " 'Origin']"
            ]
          },
          "metadata": {},
          "execution_count": 92
        }
      ],
      "source": [
        "df.columns"
      ]
    },
    {
      "cell_type": "code",
      "execution_count": 93,
      "metadata": {
        "colab": {
          "base_uri": "https://localhost:8080/"
        },
        "id": "w6qwTjGsNxrw",
        "outputId": "29301f1d-dd21-423c-afb9-d2e83d63a68b"
      },
      "outputs": [
        {
          "output_type": "execute_result",
          "data": {
            "text/plain": [
              "[('Car', 'string'),\n",
              " ('MPG', 'string'),\n",
              " ('Cylinders', 'string'),\n",
              " ('Displacement', 'string'),\n",
              " ('Horsepower', 'string'),\n",
              " ('Weight', 'string'),\n",
              " ('Acceleration', 'string'),\n",
              " ('Model', 'string'),\n",
              " ('Origin', 'string')]"
            ]
          },
          "metadata": {},
          "execution_count": 93
        }
      ],
      "source": [
        "df.dtypes"
      ]
    },
    {
      "cell_type": "code",
      "execution_count": 28,
      "metadata": {
        "colab": {
          "base_uri": "https://localhost:8080/"
        },
        "id": "CCGTFlCWRPw4",
        "outputId": "b9490b5b-2a22-4a79-e6a4-e6c01cc998c4"
      },
      "outputs": [
        {
          "metadata": {
            "tags": null
          },
          "name": "stdout",
          "output_type": "stream",
          "text": [
            "root\n",
            " |-- Car: string (nullable = true)\n",
            " |-- MPG: string (nullable = true)\n",
            " |-- Cylinders: string (nullable = true)\n",
            " |-- Displacement: string (nullable = true)\n",
            " |-- Horsepower: string (nullable = true)\n",
            " |-- Weight: string (nullable = true)\n",
            " |-- Acceleration: string (nullable = true)\n",
            " |-- Model: string (nullable = true)\n",
            " |-- Origin: string (nullable = true)\n",
            "\n"
          ]
        }
      ],
      "source": [
        "df.printSchema() # для вывода структуры (схемы) DataFrame"
      ]
    },
    {
      "cell_type": "code",
      "execution_count": 29,
      "metadata": {
        "colab": {
          "base_uri": "https://localhost:8080/"
        },
        "id": "Qym5MjCi894N",
        "outputId": "bc812768-447b-4605-eac1-b2698efd7bc6"
      },
      "outputs": [
        {
          "output_type": "stream",
          "name": "stdout",
          "text": [
            "root\n",
            " |-- Car: string (nullable = true)\n",
            " |-- MPG: double (nullable = true)\n",
            " |-- Cylinders: integer (nullable = true)\n",
            " |-- Displacement: double (nullable = true)\n",
            " |-- Horsepower: double (nullable = true)\n",
            " |-- Weight: decimal(4,0) (nullable = true)\n",
            " |-- Acceleration: double (nullable = true)\n",
            " |-- Model: integer (nullable = true)\n",
            " |-- Origin: string (nullable = true)\n",
            "\n"
          ]
        }
      ],
      "source": [
        "df = spark.read.csv('cars.csv', header=True, sep=\";\", inferSchema=True) # добавить информацию о типах столбцов\n",
        "df.printSchema()"
      ]
    },
    {
      "cell_type": "code",
      "execution_count": 94,
      "metadata": {
        "colab": {
          "base_uri": "https://localhost:8080/"
        },
        "id": "xpsaQ4JMRUiS",
        "outputId": "63908fe3-adfa-415a-9909-f62f76025a01"
      },
      "outputs": [
        {
          "output_type": "execute_result",
          "data": {
            "text/plain": [
              "['Car',\n",
              " 'MPG',\n",
              " 'Cylinders',\n",
              " 'Displacement',\n",
              " 'Horsepower',\n",
              " 'Weight',\n",
              " 'Acceleration',\n",
              " 'Model',\n",
              " 'Origin']"
            ]
          },
          "metadata": {},
          "execution_count": 94
        }
      ],
      "source": [
        "\n",
        "df.columns"
      ]
    },
    {
      "cell_type": "code",
      "execution_count": 95,
      "metadata": {
        "id": "ik62VX34SlFh"
      },
      "outputs": [],
      "source": [
        "from pyspark.sql.types import * # загрузили все типы данных\n",
        "# Creating a list of the schema in the format column_name, data_type\n",
        "labels = [\n",
        "     ('Car',StringType()),\n",
        "     ('MPG',DoubleType()),\n",
        "     ('Cylinders',IntegerType()),\n",
        "     ('Displacement',DoubleType()),\n",
        "     ('Horsepower',DoubleType()),\n",
        "     ('Weight',DoubleType()),\n",
        "     ('Acceleration',DoubleType()),\n",
        "     ('Model',IntegerType()),\n",
        "     ('Origin',StringType())\n",
        "]"
      ]
    },
    {
      "cell_type": "code",
      "execution_count": 32,
      "metadata": {
        "colab": {
          "base_uri": "https://localhost:8080/"
        },
        "id": "T-Fp5y_oU9SF",
        "outputId": "e63791ff-8b57-470a-d350-4a36e1f0de0a"
      },
      "outputs": [
        {
          "output_type": "execute_result",
          "data": {
            "text/plain": [
              "StructType([StructField('Car', StringType(), True), StructField('MPG', DoubleType(), True), StructField('Cylinders', IntegerType(), True), StructField('Displacement', DoubleType(), True), StructField('Horsepower', DoubleType(), True), StructField('Weight', DoubleType(), True), StructField('Acceleration', DoubleType(), True), StructField('Model', IntegerType(), True), StructField('Origin', StringType(), True)])"
            ]
          },
          "metadata": {},
          "execution_count": 32
        }
      ],
      "source": [
        "# Creating the schema that will be passed when reading the csv\n",
        "# StructType - базовый тип данных в PySpark, который используется для создания сложных структур данных\n",
        "# StructField - отдельный столбец в схеме\n",
        "schema = StructType([StructField (x[0], x[1], True) for x in labels])\n",
        "schema"
      ]
    },
    {
      "cell_type": "code",
      "execution_count": 33,
      "metadata": {
        "colab": {
          "base_uri": "https://localhost:8080/"
        },
        "id": "sgC7gtL5VTls",
        "outputId": "87ecbb2b-b6bc-40ed-a88d-ea6215a7c1a8"
      },
      "outputs": [
        {
          "output_type": "stream",
          "name": "stdout",
          "text": [
            "root\n",
            " |-- Car: string (nullable = true)\n",
            " |-- MPG: double (nullable = true)\n",
            " |-- Cylinders: integer (nullable = true)\n",
            " |-- Displacement: double (nullable = true)\n",
            " |-- Horsepower: double (nullable = true)\n",
            " |-- Weight: double (nullable = true)\n",
            " |-- Acceleration: double (nullable = true)\n",
            " |-- Model: integer (nullable = true)\n",
            " |-- Origin: string (nullable = true)\n",
            "\n"
          ]
        }
      ],
      "source": [
        "df = spark.read.csv('cars.csv', header=True, sep=\";\", schema=schema) # передает предварительно определенную схему\n",
        "df.printSchema()\n",
        "# The schema comes as we gave!"
      ]
    },
    {
      "cell_type": "code",
      "execution_count": 96,
      "metadata": {
        "colab": {
          "base_uri": "https://localhost:8080/"
        },
        "id": "Dn2EAhesVmx0",
        "outputId": "171f20fc-d475-445b-e798-3b86dc06ad55"
      },
      "outputs": [
        {
          "output_type": "stream",
          "name": "stdout",
          "text": [
            "+--------------------------------+----+---------+------------+----------+------+------------+-----+------+\n",
            "|Car                             |MPG |Cylinders|Displacement|Horsepower|Weight|Acceleration|Model|Origin|\n",
            "+--------------------------------+----+---------+------------+----------+------+------------+-----+------+\n",
            "|Chevrolet Chevelle Malibu       |18.0|8        |307.0       |130.0     |3504. |12.0        |70   |US    |\n",
            "|Buick Skylark 320               |15.0|8        |350.0       |165.0     |3693. |11.5        |70   |US    |\n",
            "|Plymouth Satellite              |18.0|8        |318.0       |150.0     |3436. |11.0        |70   |US    |\n",
            "|AMC Rebel SST                   |16.0|8        |304.0       |150.0     |3433. |12.0        |70   |US    |\n",
            "|Ford Torino                     |17.0|8        |302.0       |140.0     |3449. |10.5        |70   |US    |\n",
            "|Ford Galaxie 500                |15.0|8        |429.0       |198.0     |4341. |10.0        |70   |US    |\n",
            "|Chevrolet Impala                |14.0|8        |454.0       |220.0     |4354. |9.0         |70   |US    |\n",
            "|Plymouth Fury iii               |14.0|8        |440.0       |215.0     |4312. |8.5         |70   |US    |\n",
            "|Pontiac Catalina                |14.0|8        |455.0       |225.0     |4425. |10.0        |70   |US    |\n",
            "|AMC Ambassador DPL              |15.0|8        |390.0       |190.0     |3850. |8.5         |70   |US    |\n",
            "|Citroen DS-21 Pallas            |0   |4        |133.0       |115.0     |3090. |17.5        |70   |Europe|\n",
            "|Chevrolet Chevelle Concours (sw)|0   |8        |350.0       |165.0     |4142. |11.5        |70   |US    |\n",
            "|Ford Torino (sw)                |0   |8        |351.0       |153.0     |4034. |11.0        |70   |US    |\n",
            "|Plymouth Satellite (sw)         |0   |8        |383.0       |175.0     |4166. |10.5        |70   |US    |\n",
            "|AMC Rebel SST (sw)              |0   |8        |360.0       |175.0     |3850. |11.0        |70   |US    |\n",
            "|Dodge Challenger SE             |15.0|8        |383.0       |170.0     |3563. |10.0        |70   |US    |\n",
            "|Plymouth 'Cuda 340              |14.0|8        |340.0       |160.0     |3609. |8.0         |70   |US    |\n",
            "|Ford Mustang Boss 302           |0   |8        |302.0       |140.0     |3353. |8.0         |70   |US    |\n",
            "|Chevrolet Monte Carlo           |15.0|8        |400.0       |150.0     |3761. |9.5         |70   |US    |\n",
            "|Buick Estate Wagon (sw)         |14.0|8        |455.0       |225.0     |3086. |10.0        |70   |US    |\n",
            "+--------------------------------+----+---------+------------+----------+------+------------+-----+------+\n",
            "only showing top 20 rows\n",
            "\n"
          ]
        }
      ],
      "source": [
        "df.show(truncate=False)"
      ]
    },
    {
      "cell_type": "code",
      "source": [
        "print(df.Car)"
      ],
      "metadata": {
        "colab": {
          "base_uri": "https://localhost:8080/"
        },
        "id": "ZBoOt8NCaMqL",
        "outputId": "4530fe9d-6dfc-4d85-aa97-ed0c7c531f39"
      },
      "execution_count": 99,
      "outputs": [
        {
          "output_type": "stream",
          "name": "stdout",
          "text": [
            "Column<'Car'>\n"
          ]
        }
      ]
    },
    {
      "cell_type": "code",
      "execution_count": 100,
      "metadata": {
        "colab": {
          "base_uri": "https://localhost:8080/"
        },
        "id": "ge9-_ygideWk",
        "outputId": "a64d7737-bad3-40b3-c013-93679d2d9913"
      },
      "outputs": [
        {
          "output_type": "stream",
          "name": "stdout",
          "text": [
            "********************\n",
            "+--------------------------------+\n",
            "|Car                             |\n",
            "+--------------------------------+\n",
            "|Chevrolet Chevelle Malibu       |\n",
            "|Buick Skylark 320               |\n",
            "|Plymouth Satellite              |\n",
            "|AMC Rebel SST                   |\n",
            "|Ford Torino                     |\n",
            "|Ford Galaxie 500                |\n",
            "|Chevrolet Impala                |\n",
            "|Plymouth Fury iii               |\n",
            "|Pontiac Catalina                |\n",
            "|AMC Ambassador DPL              |\n",
            "|Citroen DS-21 Pallas            |\n",
            "|Chevrolet Chevelle Concours (sw)|\n",
            "|Ford Torino (sw)                |\n",
            "|Plymouth Satellite (sw)         |\n",
            "|AMC Rebel SST (sw)              |\n",
            "|Dodge Challenger SE             |\n",
            "|Plymouth 'Cuda 340              |\n",
            "|Ford Mustang Boss 302           |\n",
            "|Chevrolet Monte Carlo           |\n",
            "|Buick Estate Wagon (sw)         |\n",
            "+--------------------------------+\n",
            "only showing top 20 rows\n",
            "\n"
          ]
        }
      ],
      "source": [
        "# 1st method\n",
        "# Column name is case sensitive in this usage\n",
        "\n",
        "print(\"*\"*20)\n",
        "df.select(df.Car).show(truncate=False) # Выборка из столбца car"
      ]
    },
    {
      "cell_type": "code",
      "execution_count": 101,
      "metadata": {
        "colab": {
          "base_uri": "https://localhost:8080/"
        },
        "id": "md5zaET8dsr4",
        "outputId": "7e94c390-c302-4d79-87dc-24ed070faac3"
      },
      "outputs": [
        {
          "output_type": "stream",
          "name": "stdout",
          "text": [
            "Column<'car'>\n",
            "********************\n",
            "+--------------------------------+\n",
            "|car                             |\n",
            "+--------------------------------+\n",
            "|Chevrolet Chevelle Malibu       |\n",
            "|Buick Skylark 320               |\n",
            "|Plymouth Satellite              |\n",
            "|AMC Rebel SST                   |\n",
            "|Ford Torino                     |\n",
            "|Ford Galaxie 500                |\n",
            "|Chevrolet Impala                |\n",
            "|Plymouth Fury iii               |\n",
            "|Pontiac Catalina                |\n",
            "|AMC Ambassador DPL              |\n",
            "|Citroen DS-21 Pallas            |\n",
            "|Chevrolet Chevelle Concours (sw)|\n",
            "|Ford Torino (sw)                |\n",
            "|Plymouth Satellite (sw)         |\n",
            "|AMC Rebel SST (sw)              |\n",
            "|Dodge Challenger SE             |\n",
            "|Plymouth 'Cuda 340              |\n",
            "|Ford Mustang Boss 302           |\n",
            "|Chevrolet Monte Carlo           |\n",
            "|Buick Estate Wagon (sw)         |\n",
            "+--------------------------------+\n",
            "only showing top 20 rows\n",
            "\n"
          ]
        }
      ],
      "source": [
        "# 2nd method\n",
        "# Column name is case insensitive here\n",
        "print(df['car'])\n",
        "print(\"*\"*20)\n",
        "df.select(df['car']).show(truncate=False)"
      ]
    },
    {
      "cell_type": "code",
      "execution_count": 102,
      "metadata": {
        "colab": {
          "base_uri": "https://localhost:8080/"
        },
        "id": "6Gkf14sHec9a",
        "outputId": "fdf1a702-090c-45e9-f0f6-811308096c49"
      },
      "outputs": [
        {
          "output_type": "stream",
          "name": "stdout",
          "text": [
            "+--------------------------------+\n",
            "|car                             |\n",
            "+--------------------------------+\n",
            "|Chevrolet Chevelle Malibu       |\n",
            "|Buick Skylark 320               |\n",
            "|Plymouth Satellite              |\n",
            "|AMC Rebel SST                   |\n",
            "|Ford Torino                     |\n",
            "|Ford Galaxie 500                |\n",
            "|Chevrolet Impala                |\n",
            "|Plymouth Fury iii               |\n",
            "|Pontiac Catalina                |\n",
            "|AMC Ambassador DPL              |\n",
            "|Citroen DS-21 Pallas            |\n",
            "|Chevrolet Chevelle Concours (sw)|\n",
            "|Ford Torino (sw)                |\n",
            "|Plymouth Satellite (sw)         |\n",
            "|AMC Rebel SST (sw)              |\n",
            "|Dodge Challenger SE             |\n",
            "|Plymouth 'Cuda 340              |\n",
            "|Ford Mustang Boss 302           |\n",
            "|Chevrolet Monte Carlo           |\n",
            "|Buick Estate Wagon (sw)         |\n",
            "+--------------------------------+\n",
            "only showing top 20 rows\n",
            "\n"
          ]
        }
      ],
      "source": [
        "# 3rd method\n",
        "# Column name is case insensitive here\n",
        "from pyspark.sql.functions import col # работа с колонкой Spark sql column\n",
        "df.select(col('car')).show(truncate=False)"
      ]
    },
    {
      "cell_type": "code",
      "execution_count": 103,
      "metadata": {
        "colab": {
          "base_uri": "https://localhost:8080/"
        },
        "id": "bPjLMhZ6uAQR",
        "outputId": "cdacb464-96a1-481c-abad-e8340ec3fcf4"
      },
      "outputs": [
        {
          "output_type": "stream",
          "name": "stdout",
          "text": [
            "Column<'Car'> Column<'Cylinders'>\n",
            "****************************************\n",
            "+--------------------------------+---------+\n",
            "|Car                             |Cylinders|\n",
            "+--------------------------------+---------+\n",
            "|Chevrolet Chevelle Malibu       |8        |\n",
            "|Buick Skylark 320               |8        |\n",
            "|Plymouth Satellite              |8        |\n",
            "|AMC Rebel SST                   |8        |\n",
            "|Ford Torino                     |8        |\n",
            "|Ford Galaxie 500                |8        |\n",
            "|Chevrolet Impala                |8        |\n",
            "|Plymouth Fury iii               |8        |\n",
            "|Pontiac Catalina                |8        |\n",
            "|AMC Ambassador DPL              |8        |\n",
            "|Citroen DS-21 Pallas            |4        |\n",
            "|Chevrolet Chevelle Concours (sw)|8        |\n",
            "|Ford Torino (sw)                |8        |\n",
            "|Plymouth Satellite (sw)         |8        |\n",
            "|AMC Rebel SST (sw)              |8        |\n",
            "|Dodge Challenger SE             |8        |\n",
            "|Plymouth 'Cuda 340              |8        |\n",
            "|Ford Mustang Boss 302           |8        |\n",
            "|Chevrolet Monte Carlo           |8        |\n",
            "|Buick Estate Wagon (sw)         |8        |\n",
            "+--------------------------------+---------+\n",
            "only showing top 20 rows\n",
            "\n"
          ]
        }
      ],
      "source": [
        "# 1st method\n",
        "# Column name is case sensitive in this usage\n",
        "print(df.Car, df.Cylinders)\n",
        "print(\"*\"*40)\n",
        "df.select(df.Car, df.Cylinders).show(truncate=False) # выбор в SQL стиле данных 2 столбцов"
      ]
    },
    {
      "cell_type": "code",
      "execution_count": 104,
      "metadata": {
        "colab": {
          "base_uri": "https://localhost:8080/"
        },
        "id": "DMRMUrv7uHWa",
        "outputId": "5cc64cdb-c70c-4f7e-c65b-892c5cc2f6dc"
      },
      "outputs": [
        {
          "output_type": "stream",
          "name": "stdout",
          "text": [
            "Column<'car'> Column<'cylinders'>\n",
            "****************************************\n",
            "+--------------------------------+---------+\n",
            "|car                             |cylinders|\n",
            "+--------------------------------+---------+\n",
            "|Chevrolet Chevelle Malibu       |8        |\n",
            "|Buick Skylark 320               |8        |\n",
            "|Plymouth Satellite              |8        |\n",
            "|AMC Rebel SST                   |8        |\n",
            "|Ford Torino                     |8        |\n",
            "|Ford Galaxie 500                |8        |\n",
            "|Chevrolet Impala                |8        |\n",
            "|Plymouth Fury iii               |8        |\n",
            "|Pontiac Catalina                |8        |\n",
            "|AMC Ambassador DPL              |8        |\n",
            "|Citroen DS-21 Pallas            |4        |\n",
            "|Chevrolet Chevelle Concours (sw)|8        |\n",
            "|Ford Torino (sw)                |8        |\n",
            "|Plymouth Satellite (sw)         |8        |\n",
            "|AMC Rebel SST (sw)              |8        |\n",
            "|Dodge Challenger SE             |8        |\n",
            "|Plymouth 'Cuda 340              |8        |\n",
            "|Ford Mustang Boss 302           |8        |\n",
            "|Chevrolet Monte Carlo           |8        |\n",
            "|Buick Estate Wagon (sw)         |8        |\n",
            "+--------------------------------+---------+\n",
            "only showing top 20 rows\n",
            "\n"
          ]
        }
      ],
      "source": [
        "# 2nd method\n",
        "# Column name is case insensitive in this usage\n",
        "print(df['car'],df['cylinders'])\n",
        "print(\"*\"*40)\n",
        "df.select(df['car'],df['cylinders']).show(truncate=False) # выбор в pandas стиле данных 2 столбцов"
      ]
    },
    {
      "cell_type": "code",
      "execution_count": 40,
      "metadata": {
        "colab": {
          "base_uri": "https://localhost:8080/"
        },
        "id": "RgQ20-4GugjR",
        "outputId": "fe1402b5-59cc-45ad-a68e-f1ba00f9324c"
      },
      "outputs": [
        {
          "output_type": "stream",
          "name": "stdout",
          "text": [
            "+--------------------------------+---------+\n",
            "|car                             |cylinders|\n",
            "+--------------------------------+---------+\n",
            "|Chevrolet Chevelle Malibu       |8        |\n",
            "|Buick Skylark 320               |8        |\n",
            "|Plymouth Satellite              |8        |\n",
            "|AMC Rebel SST                   |8        |\n",
            "|Ford Torino                     |8        |\n",
            "|Ford Galaxie 500                |8        |\n",
            "|Chevrolet Impala                |8        |\n",
            "|Plymouth Fury iii               |8        |\n",
            "|Pontiac Catalina                |8        |\n",
            "|AMC Ambassador DPL              |8        |\n",
            "|Citroen DS-21 Pallas            |4        |\n",
            "|Chevrolet Chevelle Concours (sw)|8        |\n",
            "|Ford Torino (sw)                |8        |\n",
            "|Plymouth Satellite (sw)         |8        |\n",
            "|AMC Rebel SST (sw)              |8        |\n",
            "|Dodge Challenger SE             |8        |\n",
            "|Plymouth 'Cuda 340              |8        |\n",
            "|Ford Mustang Boss 302           |8        |\n",
            "|Chevrolet Monte Carlo           |8        |\n",
            "|Buick Estate Wagon (sw)         |8        |\n",
            "+--------------------------------+---------+\n",
            "only showing top 20 rows\n",
            "\n"
          ]
        }
      ],
      "source": [
        "# 3rd method\n",
        "# Column name is case insensitive in this usage\n",
        "from pyspark.sql.functions import col\n",
        "df.select(col('car'),col('cylinders')).show(truncate=False) # выбор Column SQL Spark стиле данных 2 столбцов\n",
        "\n",
        "# Spark Catalyst - оптимизатор выполнения запросов"
      ]
    },
    {
      "cell_type": "code",
      "execution_count": 41,
      "metadata": {
        "colab": {
          "base_uri": "https://localhost:8080/"
        },
        "id": "oFHUmRKZeCEV",
        "outputId": "539d5684-18a5-482e-8492-8c83d816958c"
      },
      "outputs": [
        {
          "output_type": "stream",
          "name": "stdout",
          "text": [
            "+-------------------------+----+---------+------------+----------+------+------------+-----+------+------------+\n",
            "|Car                      |MPG |Cylinders|Displacement|Horsepower|Weight|Acceleration|Model|Origin|first_column|\n",
            "+-------------------------+----+---------+------------+----------+------+------------+-----+------+------------+\n",
            "|Chevrolet Chevelle Malibu|18.0|8        |307.0       |130.0     |3504.0|12.0        |70   |US    |1           |\n",
            "|Buick Skylark 320        |15.0|8        |350.0       |165.0     |3693.0|11.5        |70   |US    |1           |\n",
            "|Plymouth Satellite       |18.0|8        |318.0       |150.0     |3436.0|11.0        |70   |US    |1           |\n",
            "|AMC Rebel SST            |16.0|8        |304.0       |150.0     |3433.0|12.0        |70   |US    |1           |\n",
            "|Ford Torino              |17.0|8        |302.0       |140.0     |3449.0|10.5        |70   |US    |1           |\n",
            "+-------------------------+----+---------+------------+----------+------+------------+-----+------+------------+\n",
            "only showing top 5 rows\n",
            "\n"
          ]
        }
      ],
      "source": [
        "# CASE 1: Adding a new column\n",
        "# We will add a new column called 'first_column' at the end\n",
        "from pyspark.sql.functions import lit\n",
        "\n",
        "\n",
        "df = df.withColumn('first_column',lit(1)) # withColumn - добавление, lit(1) - обертка для константы\n",
        "\n",
        "# lit means literal. It populates the row with the literal value given.\n",
        "# When adding static data / constant values, it is a good practice to use it.\n",
        "df.show(5,truncate=False)"
      ]
    },
    {
      "cell_type": "code",
      "execution_count": 105,
      "metadata": {
        "colab": {
          "base_uri": "https://localhost:8080/"
        },
        "id": "U9772_mHwAqL",
        "outputId": "60da89a3-5c95-4ba4-e9ef-e7015a84ade4"
      },
      "outputs": [
        {
          "output_type": "stream",
          "name": "stdout",
          "text": [
            "+-------------------------+----+---------+------------+----------+------+------------+-----+------+-------------+------------+\n",
            "|Car                      |MPG |Cylinders|Displacement|Horsepower|Weight|Acceleration|Model|Origin|second_column|third_column|\n",
            "+-------------------------+----+---------+------------+----------+------+------------+-----+------+-------------+------------+\n",
            "|Chevrolet Chevelle Malibu|18.0|8        |307.0       |130.0     |3504. |12.0        |70   |US    |2            |Third Column|\n",
            "|Buick Skylark 320        |15.0|8        |350.0       |165.0     |3693. |11.5        |70   |US    |2            |Third Column|\n",
            "|Plymouth Satellite       |18.0|8        |318.0       |150.0     |3436. |11.0        |70   |US    |2            |Third Column|\n",
            "|AMC Rebel SST            |16.0|8        |304.0       |150.0     |3433. |12.0        |70   |US    |2            |Third Column|\n",
            "|Ford Torino              |17.0|8        |302.0       |140.0     |3449. |10.5        |70   |US    |2            |Third Column|\n",
            "+-------------------------+----+---------+------------+----------+------+------------+-----+------+-------------+------------+\n",
            "only showing top 5 rows\n",
            "\n"
          ]
        }
      ],
      "source": [
        "# CASE 2: Adding multiple columns\n",
        "# We will add two new columns called 'second_column' and 'third_column' at the end\n",
        "df = df.withColumn('second_column', lit(2)) \\\n",
        "       .withColumn('third_column', lit('Third Column')) # цепочку методов добавление 2 колонок\n",
        "\n",
        "# lit means literal. It populates the row with the literal value given.\n",
        "# When adding static data / constant values, it is a good practice to use it.\n",
        "df.show(5,truncate=False)"
      ]
    },
    {
      "cell_type": "code",
      "execution_count": 106,
      "metadata": {
        "colab": {
          "base_uri": "https://localhost:8080/"
        },
        "id": "dGaQS_pOwx_b",
        "outputId": "697cd36a-015f-4982-a635-77a591e7148f"
      },
      "outputs": [
        {
          "output_type": "stream",
          "name": "stdout",
          "text": [
            "+-------------------------+----+---------+------------+----------+------+------------+-----+------+-------------+------------+----------------------------+\n",
            "|Car                      |MPG |Cylinders|Displacement|Horsepower|Weight|Acceleration|Model|Origin|second_column|third_column|car_model                   |\n",
            "+-------------------------+----+---------+------------+----------+------+------------+-----+------+-------------+------------+----------------------------+\n",
            "|Chevrolet Chevelle Malibu|18.0|8        |307.0       |130.0     |3504. |12.0        |70   |US    |2            |Third Column|Chevrolet Chevelle Malibu 70|\n",
            "|Buick Skylark 320        |15.0|8        |350.0       |165.0     |3693. |11.5        |70   |US    |2            |Third Column|Buick Skylark 320 70        |\n",
            "|Plymouth Satellite       |18.0|8        |318.0       |150.0     |3436. |11.0        |70   |US    |2            |Third Column|Plymouth Satellite 70       |\n",
            "|AMC Rebel SST            |16.0|8        |304.0       |150.0     |3433. |12.0        |70   |US    |2            |Third Column|AMC Rebel SST 70            |\n",
            "|Ford Torino              |17.0|8        |302.0       |140.0     |3449. |10.5        |70   |US    |2            |Third Column|Ford Torino 70              |\n",
            "+-------------------------+----+---------+------------+----------+------+------------+-----+------+-------------+------------+----------------------------+\n",
            "only showing top 5 rows\n",
            "\n"
          ]
        }
      ],
      "source": [
        "# CASE 3: Deriving a new column from an exisitng one\n",
        "# We will add a new column called 'car_model' which has the value of car and model appended together with a space in between\n",
        "from pyspark.sql.functions import concat\n",
        "df = df.withColumn('car_model', concat(col(\"Car\"), lit(\" \"), col(\"model\"))) # соединение строковых значений\n",
        "\n",
        "\n",
        "# lit means literal. It populates the row with the literal value given.\n",
        "# When adding static data / constant values, it is a good practice to use it.\n",
        "df.show(5,truncate=False)"
      ]
    },
    {
      "cell_type": "code",
      "execution_count": 44,
      "metadata": {
        "colab": {
          "base_uri": "https://localhost:8080/"
        },
        "id": "QJqgy6lKfk2o",
        "outputId": "648d0fae-746a-4249-9a76-e98d77d45ec8"
      },
      "outputs": [
        {
          "output_type": "stream",
          "name": "stdout",
          "text": [
            "+--------------------------------+----+---------+------------+----------+------+------------+-----+------+--------------+--------------+----------------+-----------------------------------+\n",
            "|Car                             |MPG |Cylinders|Displacement|Horsepower|Weight|Acceleration|Model|Origin|new_column_one|new_column_two|new_column_three|car_model                          |\n",
            "+--------------------------------+----+---------+------------+----------+------+------------+-----+------+--------------+--------------+----------------+-----------------------------------+\n",
            "|Chevrolet Chevelle Malibu       |18.0|8        |307.0       |130.0     |3504.0|12.0        |70   |US    |1             |2             |Third Column    |Chevrolet Chevelle Malibu 70       |\n",
            "|Buick Skylark 320               |15.0|8        |350.0       |165.0     |3693.0|11.5        |70   |US    |1             |2             |Third Column    |Buick Skylark 320 70               |\n",
            "|Plymouth Satellite              |18.0|8        |318.0       |150.0     |3436.0|11.0        |70   |US    |1             |2             |Third Column    |Plymouth Satellite 70              |\n",
            "|AMC Rebel SST                   |16.0|8        |304.0       |150.0     |3433.0|12.0        |70   |US    |1             |2             |Third Column    |AMC Rebel SST 70                   |\n",
            "|Ford Torino                     |17.0|8        |302.0       |140.0     |3449.0|10.5        |70   |US    |1             |2             |Third Column    |Ford Torino 70                     |\n",
            "|Ford Galaxie 500                |15.0|8        |429.0       |198.0     |4341.0|10.0        |70   |US    |1             |2             |Third Column    |Ford Galaxie 500 70                |\n",
            "|Chevrolet Impala                |14.0|8        |454.0       |220.0     |4354.0|9.0         |70   |US    |1             |2             |Third Column    |Chevrolet Impala 70                |\n",
            "|Plymouth Fury iii               |14.0|8        |440.0       |215.0     |4312.0|8.5         |70   |US    |1             |2             |Third Column    |Plymouth Fury iii 70               |\n",
            "|Pontiac Catalina                |14.0|8        |455.0       |225.0     |4425.0|10.0        |70   |US    |1             |2             |Third Column    |Pontiac Catalina 70                |\n",
            "|AMC Ambassador DPL              |15.0|8        |390.0       |190.0     |3850.0|8.5         |70   |US    |1             |2             |Third Column    |AMC Ambassador DPL 70              |\n",
            "|Citroen DS-21 Pallas            |0.0 |4        |133.0       |115.0     |3090.0|17.5        |70   |Europe|1             |2             |Third Column    |Citroen DS-21 Pallas 70            |\n",
            "|Chevrolet Chevelle Concours (sw)|0.0 |8        |350.0       |165.0     |4142.0|11.5        |70   |US    |1             |2             |Third Column    |Chevrolet Chevelle Concours (sw) 70|\n",
            "|Ford Torino (sw)                |0.0 |8        |351.0       |153.0     |4034.0|11.0        |70   |US    |1             |2             |Third Column    |Ford Torino (sw) 70                |\n",
            "|Plymouth Satellite (sw)         |0.0 |8        |383.0       |175.0     |4166.0|10.5        |70   |US    |1             |2             |Third Column    |Plymouth Satellite (sw) 70         |\n",
            "|AMC Rebel SST (sw)              |0.0 |8        |360.0       |175.0     |3850.0|11.0        |70   |US    |1             |2             |Third Column    |AMC Rebel SST (sw) 70              |\n",
            "|Dodge Challenger SE             |15.0|8        |383.0       |170.0     |3563.0|10.0        |70   |US    |1             |2             |Third Column    |Dodge Challenger SE 70             |\n",
            "|Plymouth 'Cuda 340              |14.0|8        |340.0       |160.0     |3609.0|8.0         |70   |US    |1             |2             |Third Column    |Plymouth 'Cuda 340 70              |\n",
            "|Ford Mustang Boss 302           |0.0 |8        |302.0       |140.0     |3353.0|8.0         |70   |US    |1             |2             |Third Column    |Ford Mustang Boss 302 70           |\n",
            "|Chevrolet Monte Carlo           |15.0|8        |400.0       |150.0     |3761.0|9.5         |70   |US    |1             |2             |Third Column    |Chevrolet Monte Carlo 70           |\n",
            "|Buick Estate Wagon (sw)         |14.0|8        |455.0       |225.0     |3086.0|10.0        |70   |US    |1             |2             |Third Column    |Buick Estate Wagon (sw) 70         |\n",
            "+--------------------------------+----+---------+------------+----------+------+------------+-----+------+--------------+--------------+----------------+-----------------------------------+\n",
            "only showing top 20 rows\n",
            "\n"
          ]
        }
      ],
      "source": [
        "#Renaming a column in PySpark\n",
        "df = df.withColumnRenamed('first_column', 'new_column_one') \\\n",
        "       .withColumnRenamed('second_column', 'new_column_two') \\\n",
        "       .withColumnRenamed('third_column', 'new_column_three') # переименование колонок\n",
        "df.show(truncate=False)"
      ]
    },
    {
      "cell_type": "code",
      "execution_count": 107,
      "metadata": {
        "colab": {
          "base_uri": "https://localhost:8080/"
        },
        "id": "M1ek2opVfqea",
        "outputId": "e2e67421-3f85-4f66-c28d-a6ffe55a5025"
      },
      "outputs": [
        {
          "output_type": "stream",
          "name": "stdout",
          "text": [
            "+------+-----+\n",
            "|Origin|count|\n",
            "+------+-----+\n",
            "|Europe|   73|\n",
            "|    US|  254|\n",
            "| Japan|   79|\n",
            "+------+-----+\n",
            "\n"
          ]
        }
      ],
      "source": [
        "# Group By a column in PySpark\n",
        "df.groupBy('Origin').count().show(5) # groupBy + aggregate"
      ]
    },
    {
      "cell_type": "code",
      "execution_count": 46,
      "metadata": {
        "colab": {
          "base_uri": "https://localhost:8080/"
        },
        "id": "hUh_TWcOysoL",
        "outputId": "5b225b48-1fcd-4987-c746-1af9a2f573ce"
      },
      "outputs": [
        {
          "output_type": "stream",
          "name": "stdout",
          "text": [
            "+------+-----+-----+\n",
            "|Origin|Model|count|\n",
            "+------+-----+-----+\n",
            "|Europe|   71|    5|\n",
            "|Europe|   80|    9|\n",
            "|Europe|   79|    4|\n",
            "| Japan|   75|    4|\n",
            "|    US|   72|   18|\n",
            "+------+-----+-----+\n",
            "only showing top 5 rows\n",
            "\n"
          ]
        }
      ],
      "source": [
        "# Group By multiple columns in PySpark\n",
        "df.groupBy('Origin', 'Model').count().show(5)"
      ]
    },
    {
      "cell_type": "code",
      "execution_count": 47,
      "metadata": {
        "colab": {
          "base_uri": "https://localhost:8080/"
        },
        "id": "xsb9PXxpfnmh",
        "outputId": "ae4c7181-01b8-47ea-9e81-9e37bba0cf03"
      },
      "outputs": [
        {
          "output_type": "stream",
          "name": "stdout",
          "text": [
            "+-------------------------+----+---------+------------+----------+------+------------+-----+------+--------------+----------------+----------------------------+\n",
            "|Car                      |MPG |Cylinders|Displacement|Horsepower|Weight|Acceleration|Model|Origin|new_column_two|new_column_three|car_model                   |\n",
            "+-------------------------+----+---------+------------+----------+------+------------+-----+------+--------------+----------------+----------------------------+\n",
            "|Chevrolet Chevelle Malibu|18.0|8        |307.0       |130.0     |3504.0|12.0        |70   |US    |2             |Third Column    |Chevrolet Chevelle Malibu 70|\n",
            "|Buick Skylark 320        |15.0|8        |350.0       |165.0     |3693.0|11.5        |70   |US    |2             |Third Column    |Buick Skylark 320 70        |\n",
            "|Plymouth Satellite       |18.0|8        |318.0       |150.0     |3436.0|11.0        |70   |US    |2             |Third Column    |Plymouth Satellite 70       |\n",
            "|AMC Rebel SST            |16.0|8        |304.0       |150.0     |3433.0|12.0        |70   |US    |2             |Third Column    |AMC Rebel SST 70            |\n",
            "|Ford Torino              |17.0|8        |302.0       |140.0     |3449.0|10.5        |70   |US    |2             |Third Column    |Ford Torino 70              |\n",
            "+-------------------------+----+---------+------------+----------+------+------------+-----+------+--------------+----------------+----------------------------+\n",
            "only showing top 5 rows\n",
            "\n"
          ]
        }
      ],
      "source": [
        "#Remove columns in PySpark\n",
        "df = df.drop('new_column_one')\n",
        "df.show(5,truncate=False)"
      ]
    },
    {
      "cell_type": "code",
      "execution_count": 48,
      "metadata": {
        "colab": {
          "base_uri": "https://localhost:8080/"
        },
        "id": "EKOXrXtvzK_0",
        "outputId": "4b042ba9-8cf5-4778-eac2-0eea0a035a84"
      },
      "outputs": [
        {
          "output_type": "stream",
          "name": "stdout",
          "text": [
            "+-------------------------+----+---------+------------+----------+------+------------+-----+------+----------------------------+\n",
            "|Car                      |MPG |Cylinders|Displacement|Horsepower|Weight|Acceleration|Model|Origin|car_model                   |\n",
            "+-------------------------+----+---------+------------+----------+------+------------+-----+------+----------------------------+\n",
            "|Chevrolet Chevelle Malibu|18.0|8        |307.0       |130.0     |3504.0|12.0        |70   |US    |Chevrolet Chevelle Malibu 70|\n",
            "|Buick Skylark 320        |15.0|8        |350.0       |165.0     |3693.0|11.5        |70   |US    |Buick Skylark 320 70        |\n",
            "|Plymouth Satellite       |18.0|8        |318.0       |150.0     |3436.0|11.0        |70   |US    |Plymouth Satellite 70       |\n",
            "|AMC Rebel SST            |16.0|8        |304.0       |150.0     |3433.0|12.0        |70   |US    |AMC Rebel SST 70            |\n",
            "|Ford Torino              |17.0|8        |302.0       |140.0     |3449.0|10.5        |70   |US    |Ford Torino 70              |\n",
            "+-------------------------+----+---------+------------+----------+------+------------+-----+------+----------------------------+\n",
            "only showing top 5 rows\n",
            "\n"
          ]
        }
      ],
      "source": [
        "#Remove multiple columnss in one go\n",
        "df = df.drop('new_column_two') \\\n",
        "       .drop('new_column_three')\n",
        "df.show(5,truncate=False)"
      ]
    },
    {
      "cell_type": "code",
      "execution_count": 108,
      "metadata": {
        "colab": {
          "base_uri": "https://localhost:8080/"
        },
        "id": "YNfcjOIknA3n",
        "outputId": "00829b76-cf36-4d38-cf4b-3ae2068b8fde"
      },
      "outputs": [
        {
          "output_type": "stream",
          "name": "stdout",
          "text": [
            "TOTAL RECORD COUNT: 406\n",
            "EUROPE FILTERED RECORD COUNT: 73\n",
            "+----------------------------+----+---------+------------+----------+------+------------+-----+------+-------------+------------+-------------------------------+\n",
            "|Car                         |MPG |Cylinders|Displacement|Horsepower|Weight|Acceleration|Model|Origin|second_column|third_column|car_model                      |\n",
            "+----------------------------+----+---------+------------+----------+------+------------+-----+------+-------------+------------+-------------------------------+\n",
            "|Citroen DS-21 Pallas        |0   |4        |133.0       |115.0     |3090. |17.5        |70   |Europe|2            |Third Column|Citroen DS-21 Pallas 70        |\n",
            "|Volkswagen 1131 Deluxe Sedan|26.0|4        |97.00       |46.00     |1835. |20.5        |70   |Europe|2            |Third Column|Volkswagen 1131 Deluxe Sedan 70|\n",
            "|Peugeot 504                 |25.0|4        |110.0       |87.00     |2672. |17.5        |70   |Europe|2            |Third Column|Peugeot 504 70                 |\n",
            "|Audi 100 LS                 |24.0|4        |107.0       |90.00     |2430. |14.5        |70   |Europe|2            |Third Column|Audi 100 LS 70                 |\n",
            "|Saab 99e                    |25.0|4        |104.0       |95.00     |2375. |17.5        |70   |Europe|2            |Third Column|Saab 99e 70                    |\n",
            "|BMW 2002                    |26.0|4        |121.0       |113.0     |2234. |12.5        |70   |Europe|2            |Third Column|BMW 2002 70                    |\n",
            "|Volkswagen Super Beetle 117 |0   |4        |97.00       |48.00     |1978. |20.0        |71   |Europe|2            |Third Column|Volkswagen Super Beetle 117 71 |\n",
            "|Opel 1900                   |28.0|4        |116.0       |90.00     |2123. |14.0        |71   |Europe|2            |Third Column|Opel 1900 71                   |\n",
            "|Peugeot 304                 |30.0|4        |79.00       |70.00     |2074. |19.5        |71   |Europe|2            |Third Column|Peugeot 304 71                 |\n",
            "|Fiat 124B                   |30.0|4        |88.00       |76.00     |2065. |14.5        |71   |Europe|2            |Third Column|Fiat 124B 71                   |\n",
            "|Volkswagen Model 111        |27.0|4        |97.00       |60.00     |1834. |19.0        |71   |Europe|2            |Third Column|Volkswagen Model 111 71        |\n",
            "|Volkswagen Type 3           |23.0|4        |97.00       |54.00     |2254. |23.5        |72   |Europe|2            |Third Column|Volkswagen Type 3 72           |\n",
            "|Volvo 145e (sw)             |18.0|4        |121.0       |112.0     |2933. |14.5        |72   |Europe|2            |Third Column|Volvo 145e (sw) 72             |\n",
            "|Volkswagen 411 (sw)         |22.0|4        |121.0       |76.00     |2511. |18.0        |72   |Europe|2            |Third Column|Volkswagen 411 (sw) 72         |\n",
            "|Peugeot 504 (sw)            |21.0|4        |120.0       |87.00     |2979. |19.5        |72   |Europe|2            |Third Column|Peugeot 504 (sw) 72            |\n",
            "|Renault 12 (sw)             |26.0|4        |96.00       |69.00     |2189. |18.0        |72   |Europe|2            |Third Column|Renault 12 (sw) 72             |\n",
            "|Volkswagen Super Beetle     |26.0|4        |97.00       |46.00     |1950. |21.0        |73   |Europe|2            |Third Column|Volkswagen Super Beetle 73     |\n",
            "|Fiat 124 Sport Coupe        |26.0|4        |98.00       |90.00     |2265. |15.5        |73   |Europe|2            |Third Column|Fiat 124 Sport Coupe 73        |\n",
            "|Fiat 128                    |29.0|4        |68.00       |49.00     |1867. |19.5        |73   |Europe|2            |Third Column|Fiat 128 73                    |\n",
            "|Opel Manta                  |24.0|4        |116.0       |75.00     |2158. |15.5        |73   |Europe|2            |Third Column|Opel Manta 73                  |\n",
            "+----------------------------+----+---------+------------+----------+------+------------+-----+------+-------------+------------+-------------------------------+\n",
            "only showing top 20 rows\n",
            "\n"
          ]
        }
      ],
      "source": [
        "# Filtering rows in PySpark\n",
        "total_count = df.count()\n",
        "print(\"TOTAL RECORD COUNT: \" + str(total_count))\n",
        "\n",
        "europe_filtered_count = df.filter(col('Origin')=='Europe').count()\n",
        "\n",
        "print(\"EUROPE FILTERED RECORD COUNT: \" + str(europe_filtered_count))\n",
        "df.filter(col('Origin')=='Europe').show(truncate=False)"
      ]
    },
    {
      "cell_type": "code",
      "execution_count": null,
      "metadata": {
        "id": "MXJxRwBQ1lyd"
      },
      "outputs": [],
      "source": [
        "# Filtering rows in PySpark based on Multiple conditions\n",
        "total_count = df.count()\n",
        "print(\"TOTAL RECORD COUNT: \" + str(total_count))\n",
        "europe_filtered_count = df.filter((col('Origin')=='Europe') &\n",
        "                                  (col('Cylinders')==4)).count() # Two conditions added here\n",
        "print(\"EUROPE FILTERED RECORD COUNT: \" + str(europe_filtered_count))\n",
        "df.filter(col('Origin')=='Europe').show(truncate=False)"
      ]
    },
    {
      "cell_type": "code",
      "execution_count": 109,
      "metadata": {
        "colab": {
          "base_uri": "https://localhost:8080/"
        },
        "id": "B1RKg1UrmBQz",
        "outputId": "7f78864d-cdd1-421b-81b0-98d98ede9ead"
      },
      "outputs": [
        {
          "output_type": "stream",
          "name": "stdout",
          "text": [
            "+------+\n",
            "|Origin|\n",
            "+------+\n",
            "|Europe|\n",
            "|    US|\n",
            "| Japan|\n",
            "+------+\n",
            "\n"
          ]
        }
      ],
      "source": [
        "#Get Unique Rows in PySpark\n",
        "df.select('Origin').distinct().show() # SQL SELCT DISTINCT"
      ]
    },
    {
      "cell_type": "code",
      "execution_count": 110,
      "metadata": {
        "colab": {
          "base_uri": "https://localhost:8080/"
        },
        "id": "_LQWXPXt0g0N",
        "outputId": "dbb18543-ba31-49c5-e50d-d8474451223c"
      },
      "outputs": [
        {
          "output_type": "stream",
          "name": "stdout",
          "text": [
            "+------+-----+\n",
            "|Origin|model|\n",
            "+------+-----+\n",
            "| Japan|   76|\n",
            "|    US|   81|\n",
            "|    US|   80|\n",
            "|    US|   76|\n",
            "| Japan|   70|\n",
            "|    US|   78|\n",
            "|Europe|   76|\n",
            "|    US|   70|\n",
            "| Japan|   75|\n",
            "|Europe|   80|\n",
            "| Japan|   77|\n",
            "|Europe|   72|\n",
            "|    US|   75|\n",
            "|    US|   79|\n",
            "|    US|   82|\n",
            "|Europe|   75|\n",
            "| Japan|   78|\n",
            "|    US|   71|\n",
            "| Japan|   82|\n",
            "| Japan|   80|\n",
            "+------+-----+\n",
            "only showing top 20 rows\n",
            "\n"
          ]
        }
      ],
      "source": [
        "#Get Unique Rows in PySpark based on mutliple columns\n",
        "df.select('Origin','model').distinct().show() # SQL SELCT DISTINCT"
      ]
    },
    {
      "cell_type": "code",
      "execution_count": null,
      "metadata": {
        "id": "4ZpeJvz0nkBI"
      },
      "outputs": [],
      "source": [
        "# Sort Rows in PySpark\n",
        "# By default the data will be sorted in ascending order\n",
        "df.orderBy('Cylinders').show(truncate=False) # SQL orderBy"
      ]
    },
    {
      "cell_type": "code",
      "execution_count": 54,
      "metadata": {
        "colab": {
          "base_uri": "https://localhost:8080/"
        },
        "id": "v1CEwofMJV-D",
        "outputId": "b0363db8-7516-4e06-cfd2-c3736a81235e"
      },
      "outputs": [
        {
          "output_type": "stream",
          "name": "stdout",
          "text": [
            "+-------------------------+----+---------+------------+----------+------+------------+-----+------+----------------------------+\n",
            "|Car                      |MPG |Cylinders|Displacement|Horsepower|Weight|Acceleration|Model|Origin|car_model                   |\n",
            "+-------------------------+----+---------+------------+----------+------+------------+-----+------+----------------------------+\n",
            "|Plymouth 'Cuda 340       |14.0|8        |340.0       |160.0     |3609.0|8.0         |70   |US    |Plymouth 'Cuda 340 70       |\n",
            "|Pontiac Safari (sw)      |13.0|8        |400.0       |175.0     |5140.0|12.0        |71   |US    |Pontiac Safari (sw) 71      |\n",
            "|Ford Mustang Boss 302    |0.0 |8        |302.0       |140.0     |3353.0|8.0         |70   |US    |Ford Mustang Boss 302 70    |\n",
            "|Buick Skylark 320        |15.0|8        |350.0       |165.0     |3693.0|11.5        |70   |US    |Buick Skylark 320 70        |\n",
            "|Chevrolet Monte Carlo    |15.0|8        |400.0       |150.0     |3761.0|9.5         |70   |US    |Chevrolet Monte Carlo 70    |\n",
            "|AMC Rebel SST            |16.0|8        |304.0       |150.0     |3433.0|12.0        |70   |US    |AMC Rebel SST 70            |\n",
            "|Buick Estate Wagon (sw)  |14.0|8        |455.0       |225.0     |3086.0|10.0        |70   |US    |Buick Estate Wagon (sw) 70  |\n",
            "|Ford Galaxie 500         |15.0|8        |429.0       |198.0     |4341.0|10.0        |70   |US    |Ford Galaxie 500 70         |\n",
            "|Ford F250                |10.0|8        |360.0       |215.0     |4615.0|14.0        |70   |US    |Ford F250 70                |\n",
            "|Plymouth Fury iii        |14.0|8        |440.0       |215.0     |4312.0|8.5         |70   |US    |Plymouth Fury iii 70        |\n",
            "|Chevy C20                |10.0|8        |307.0       |200.0     |4376.0|15.0        |70   |US    |Chevy C20 70                |\n",
            "|AMC Ambassador DPL       |15.0|8        |390.0       |190.0     |3850.0|8.5         |70   |US    |AMC Ambassador DPL 70       |\n",
            "|Dodge D200               |11.0|8        |318.0       |210.0     |4382.0|13.5        |70   |US    |Dodge D200 70               |\n",
            "|Ford Torino (sw)         |0.0 |8        |351.0       |153.0     |4034.0|11.0        |70   |US    |Ford Torino (sw) 70         |\n",
            "|Hi 1200D                 |9.0 |8        |304.0       |193.0     |4732.0|18.5        |70   |US    |Hi 1200D 70                 |\n",
            "|AMC Rebel SST (sw)       |0.0 |8        |360.0       |175.0     |3850.0|11.0        |70   |US    |AMC Rebel SST (sw) 70       |\n",
            "|Chevrolet Impala         |14.0|8        |350.0       |165.0     |4209.0|12.0        |71   |US    |Chevrolet Impala 71         |\n",
            "|Chevrolet Chevelle Malibu|18.0|8        |307.0       |130.0     |3504.0|12.0        |70   |US    |Chevrolet Chevelle Malibu 70|\n",
            "|Pontiac Catalina Brougham|14.0|8        |400.0       |175.0     |4464.0|11.5        |71   |US    |Pontiac Catalina Brougham 71|\n",
            "|Ford Torino              |17.0|8        |302.0       |140.0     |3449.0|10.5        |70   |US    |Ford Torino 70              |\n",
            "+-------------------------+----+---------+------------+----------+------+------------+-----+------+----------------------------+\n",
            "only showing top 20 rows\n",
            "\n"
          ]
        }
      ],
      "source": [
        "# To change the sorting order, you can use the ascending parameter\n",
        "df.orderBy('Cylinders', ascending=False).show(truncate=False) # SQL orderBy"
      ]
    },
    {
      "cell_type": "code",
      "execution_count": 55,
      "metadata": {
        "colab": {
          "base_uri": "https://localhost:8080/"
        },
        "id": "Zx3W4aeL5A4O",
        "outputId": "b19389cd-e752-428b-b09d-af8d36173903"
      },
      "outputs": [
        {
          "output_type": "stream",
          "name": "stdout",
          "text": [
            "+------+-----+\n",
            "|Origin|count|\n",
            "+------+-----+\n",
            "|    US|  254|\n",
            "| Japan|   79|\n",
            "|Europe|   73|\n",
            "+------+-----+\n",
            "\n"
          ]
        }
      ],
      "source": [
        "# Using groupBy aand orderBy together\n",
        "df.groupBy(\"Origin\").count().orderBy('count', ascending=False).show(10) # SQL orderBy + groupBy"
      ]
    },
    {
      "cell_type": "markdown",
      "source": [
        "ETL (Extract, Transform, Load) - процесс извлечения данных из источников, их преобразования и загрузки в целевую систему хранения или использования\n"
      ],
      "metadata": {
        "id": "0-9V09OsejxT"
      }
    },
    {
      "cell_type": "code",
      "execution_count": 111,
      "metadata": {
        "colab": {
          "base_uri": "https://localhost:8080/"
        },
        "id": "bCZIzfYmnx--",
        "outputId": "7dbaf115-8073-40c2-df84-73458ee92be3"
      },
      "outputs": [
        {
          "output_type": "stream",
          "name": "stdout",
          "text": [
            "EUROPE CARS: 3\n",
            "JAPAN CARS: 4\n",
            "AFTER UNION: 7\n"
          ]
        }
      ],
      "source": [
        "# CASE 1: Union When columns are in order\n",
        "df = spark.read.csv('cars.csv', header=True, sep=\";\", inferSchema=True)\n",
        "europe_cars = df.filter((col('Origin')=='Europe') & (col('Cylinders')==5))\n",
        "japan_cars = df.filter((col('Origin')=='Japan') & (col('Cylinders')==3))\n",
        "print(\"EUROPE CARS: \"+str(europe_cars.count()))\n",
        "print(\"JAPAN CARS: \"+str(japan_cars.count()))\n",
        "print(\"AFTER UNION: \"+str(europe_cars.union(japan_cars).count()))"
      ]
    },
    {
      "cell_type": "code",
      "execution_count": 57,
      "metadata": {
        "colab": {
          "base_uri": "https://localhost:8080/"
        },
        "id": "CjWjzWBoMxx0",
        "outputId": "b7dfbd4a-41b2-44f6-b1c8-ead2921b3868"
      },
      "outputs": [
        {
          "output_type": "stream",
          "name": "stdout",
          "text": [
            "+----+----+----+\n",
            "|col0|col1|col2|\n",
            "+----+----+----+\n",
            "|   1|   2|   3|\n",
            "|   6|   4|   5|\n",
            "+----+----+----+\n",
            "\n"
          ]
        }
      ],
      "source": [
        "# CASE 1: Union When columns are not in order\n",
        "# Creating two dataframes with jumbled columns\n",
        "df1 = spark.createDataFrame([[1, 2, 3]], [\"col0\", \"col1\", \"col2\"])\n",
        "df2 = spark.createDataFrame([[4, 5, 6]], [\"col1\", \"col2\", \"col0\"])\n",
        "df1.unionByName(df2).show()"
      ]
    },
    {
      "cell_type": "code",
      "execution_count": null,
      "metadata": {
        "id": "x3vlC7ZerlKb"
      },
      "outputs": [],
      "source": [
        "# Functions available in PySpark\n",
        "from pyspark.sql import functions\n",
        "# Similar to python, we can use the dir function to view the avaiable functions\n",
        "print(dir(functions))"
      ]
    },
    {
      "cell_type": "code",
      "execution_count": null,
      "metadata": {
        "id": "63QDccSjBqC4"
      },
      "outputs": [],
      "source": [
        "# Loading the data\n",
        "from pyspark.sql.functions import col\n",
        "df = spark.read.csv('cars.csv', header=True, sep=\";\", inferSchema=True)"
      ]
    },
    {
      "cell_type": "code",
      "execution_count": 60,
      "metadata": {
        "colab": {
          "base_uri": "https://localhost:8080/"
        },
        "id": "52Gh9c99BZFr",
        "outputId": "0cc4515b-aa93-4ea8-c7f0-aa67d44c1d37"
      },
      "outputs": [
        {
          "output_type": "stream",
          "name": "stdout",
          "text": [
            "Help on function substring in module pyspark.sql.functions:\n",
            "\n",
            "substring(str: 'ColumnOrName', pos: int, len: int) -> pyspark.sql.column.Column\n",
            "    Substring starts at `pos` and is of length `len` when str is String type or\n",
            "    returns the slice of byte array that starts at `pos` in byte and is of length `len`\n",
            "    when str is Binary type.\n",
            "    \n",
            "    .. versionadded:: 1.5.0\n",
            "    \n",
            "    .. versionchanged:: 3.4.0\n",
            "        Supports Spark Connect.\n",
            "    \n",
            "    Notes\n",
            "    -----\n",
            "    The position is not zero based, but 1 based index.\n",
            "    \n",
            "    Parameters\n",
            "    ----------\n",
            "    str : :class:`~pyspark.sql.Column` or str\n",
            "        target column to work on.\n",
            "    pos : int\n",
            "        starting position in str.\n",
            "    len : int\n",
            "        length of chars.\n",
            "    \n",
            "    Returns\n",
            "    -------\n",
            "    :class:`~pyspark.sql.Column`\n",
            "        substring of given value.\n",
            "    \n",
            "    Examples\n",
            "    --------\n",
            "    >>> df = spark.createDataFrame([('abcd',)], ['s',])\n",
            "    >>> df.select(substring(df.s, 1, 2).alias('s')).collect()\n",
            "    [Row(s='ab')]\n",
            "\n",
            "+-------------------------+-------------------------+-------------------------+------------------+\n",
            "|Car                      |lower(Car)               |upper(Car)               |concatenated value|\n",
            "+-------------------------+-------------------------+-------------------------+------------------+\n",
            "|Chevrolet Chevelle Malibu|chevrolet chevelle malibu|CHEVROLET CHEVELLE MALIBU|Chev              |\n",
            "|Buick Skylark 320        |buick skylark 320        |BUICK SKYLARK 320        |Buic              |\n",
            "|Plymouth Satellite       |plymouth satellite       |PLYMOUTH SATELLITE       |Plym              |\n",
            "|AMC Rebel SST            |amc rebel sst            |AMC REBEL SST            |AMC               |\n",
            "|Ford Torino              |ford torino              |FORD TORINO              |Ford              |\n",
            "+-------------------------+-------------------------+-------------------------+------------------+\n",
            "only showing top 5 rows\n",
            "\n"
          ]
        }
      ],
      "source": [
        "from pyspark.sql.functions import col,lower, upper, substring\n",
        "# Prints out the details of a function\n",
        "help(substring)\n",
        "# alias is used to rename the column name in the output\n",
        "df.select(col('Car'),lower(col('Car')),upper(col('Car')),substring(col('Car'),1,4).alias(\"concatenated value\")).show(5, False)"
      ]
    },
    {
      "cell_type": "markdown",
      "metadata": {
        "id": "GZJFdTbk6rBt"
      },
      "source": [
        "**Concatenate the Car column and Model column and add a space between them.**"
      ]
    },
    {
      "cell_type": "code",
      "execution_count": 61,
      "metadata": {
        "colab": {
          "base_uri": "https://localhost:8080/"
        },
        "id": "8Lo951Cg6phi",
        "outputId": "98cc676b-6fe8-4916-b86d-b1943f9b02a0"
      },
      "outputs": [
        {
          "output_type": "stream",
          "name": "stdout",
          "text": [
            "+-------------------------+-----+----------------------------+\n",
            "|Car                      |model|concat(Car,  , model)       |\n",
            "+-------------------------+-----+----------------------------+\n",
            "|Chevrolet Chevelle Malibu|70   |Chevrolet Chevelle Malibu 70|\n",
            "|Buick Skylark 320        |70   |Buick Skylark 320 70        |\n",
            "|Plymouth Satellite       |70   |Plymouth Satellite 70       |\n",
            "|AMC Rebel SST            |70   |AMC Rebel SST 70            |\n",
            "|Ford Torino              |70   |Ford Torino 70              |\n",
            "+-------------------------+-----+----------------------------+\n",
            "only showing top 5 rows\n",
            "\n"
          ]
        }
      ],
      "source": [
        "from pyspark.sql.functions import concat\n",
        "df.select(col(\"Car\"),col(\"model\"),concat(col(\"Car\"), lit(\" \"), col(\"model\"))).show(5, False)"
      ]
    },
    {
      "cell_type": "code",
      "execution_count": 62,
      "metadata": {
        "colab": {
          "base_uri": "https://localhost:8080/"
        },
        "id": "wBDDH-YpBbdk",
        "outputId": "8840ce8f-e285-4f29-d9b3-ecb38eead254"
      },
      "outputs": [
        {
          "output_type": "stream",
          "name": "stdout",
          "text": [
            "+-----------+-----------+\n",
            "|min(Weight)|max(Weight)|\n",
            "+-----------+-----------+\n",
            "|       1613|       5140|\n",
            "+-----------+-----------+\n",
            "\n"
          ]
        }
      ],
      "source": [
        "from pyspark.sql.functions import min, max\n",
        "df.select(min(col('Weight')), max(col('Weight'))).show()"
      ]
    },
    {
      "cell_type": "code",
      "execution_count": null,
      "metadata": {
        "id": "YeiemMsI7Vm2"
      },
      "outputs": [],
      "source": [
        "from pyspark.sql.functions import min, max, lit\n",
        "df.select(min(col('Weight'))+lit(10), max(col('Weight')+lit(10))).show()"
      ]
    },
    {
      "cell_type": "code",
      "execution_count": 64,
      "metadata": {
        "colab": {
          "base_uri": "https://localhost:8080/"
        },
        "id": "sCTeI_JvDCsH",
        "outputId": "83f2788c-aff2-478d-d838-9852d051ee5a"
      },
      "outputs": [
        {
          "output_type": "stream",
          "name": "stdout",
          "text": [
            "+-------------------+\n",
            "|                DOB|\n",
            "+-------------------+\n",
            "|2019-12-25 13:30:00|\n",
            "+-------------------+\n",
            "\n",
            "root\n",
            " |-- DOB: string (nullable = true)\n",
            "\n"
          ]
        }
      ],
      "source": [
        "from pyspark.sql.functions import to_date, to_timestamp, lit\n",
        "df = spark.createDataFrame([('2019-12-25 13:30:00',)], ['DOB'])\n",
        "df.show()\n",
        "df.printSchema()"
      ]
    },
    {
      "cell_type": "code",
      "execution_count": 65,
      "metadata": {
        "colab": {
          "base_uri": "https://localhost:8080/"
        },
        "id": "ZH8ja1eHEW8x",
        "outputId": "f75b8c5d-4f29-4855-cbd2-cabdb96ef3bb"
      },
      "outputs": [
        {
          "output_type": "stream",
          "name": "stdout",
          "text": [
            "+---------------------------------+--------------------------------------+\n",
            "|to_date(DOB, yyyy-MM-dd HH:mm:ss)|to_timestamp(DOB, yyyy-MM-dd HH:mm:ss)|\n",
            "+---------------------------------+--------------------------------------+\n",
            "|                       2019-12-25|                   2019-12-25 13:30:00|\n",
            "+---------------------------------+--------------------------------------+\n",
            "\n",
            "root\n",
            " |-- to_date(DOB, yyyy-MM-dd HH:mm:ss): date (nullable = true)\n",
            " |-- to_timestamp(DOB, yyyy-MM-dd HH:mm:ss): timestamp (nullable = true)\n",
            "\n"
          ]
        }
      ],
      "source": [
        "df = spark.createDataFrame([('2019-12-25 13:30:00',)], ['DOB'])\n",
        "df = df.select(to_date(col('DOB'),'yyyy-MM-dd HH:mm:ss'), to_timestamp(col('DOB'),'yyyy-MM-dd HH:mm:ss'))\n",
        "df.show()\n",
        "df.printSchema()"
      ]
    },
    {
      "cell_type": "code",
      "execution_count": 66,
      "metadata": {
        "colab": {
          "base_uri": "https://localhost:8080/"
        },
        "id": "7g9m_8PPErI1",
        "outputId": "13cc8a29-a2bb-4ef8-ccf5-282eed7d620e"
      },
      "outputs": [
        {
          "output_type": "stream",
          "name": "stdout",
          "text": [
            "+----------------------------------+---------------------------------------+\n",
            "|to_date(DOB, dd/MMM/yyyy HH:mm:ss)|to_timestamp(DOB, dd/MMM/yyyy HH:mm:ss)|\n",
            "+----------------------------------+---------------------------------------+\n",
            "|                        2019-12-25|                    2019-12-25 13:30:00|\n",
            "+----------------------------------+---------------------------------------+\n",
            "\n",
            "root\n",
            " |-- to_date(DOB, dd/MMM/yyyy HH:mm:ss): date (nullable = true)\n",
            " |-- to_timestamp(DOB, dd/MMM/yyyy HH:mm:ss): timestamp (nullable = true)\n",
            "\n"
          ]
        }
      ],
      "source": [
        "df = spark.createDataFrame([('25/Dec/2019 13:30:00',)], ['DOB'])\n",
        "df = df.select(to_date(col('DOB'),'dd/MMM/yyyy HH:mm:ss'), to_timestamp(col('DOB'),'dd/MMM/yyyy HH:mm:ss'))\n",
        "df.show()\n",
        "df.printSchema()"
      ]
    },
    {
      "cell_type": "code",
      "execution_count": null,
      "metadata": {
        "id": "PUCEwQkZ-I7h"
      },
      "outputs": [],
      "source": [
        "from pyspark.sql.functions import date_add, date_sub\n",
        "# create a dummy dataframe\n",
        "df = spark.createDataFrame([('1990-01-01',),('1995-01-03',),('2021-03-30',)], ['Date'])\n",
        "# find out the required dates\n",
        "df.select(date_add(max(col('Date')),3), date_sub(min(col('Date')),3)).show()"
      ]
    },
    {
      "cell_type": "code",
      "execution_count": 68,
      "metadata": {
        "colab": {
          "base_uri": "https://localhost:8080/"
        },
        "id": "UJBC7r3JFyCL",
        "outputId": "87a027e3-323c-4a7d-c39e-a8b85ee05dad"
      },
      "outputs": [
        {
          "output_type": "stream",
          "name": "stdout",
          "text": [
            "+---+--------+\n",
            "| id|car_name|\n",
            "+---+--------+\n",
            "|  1|   Car A|\n",
            "|  2|   Car B|\n",
            "|  3|   Car C|\n",
            "+---+--------+\n",
            "\n",
            "+---+---------+\n",
            "| id|car_price|\n",
            "+---+---------+\n",
            "|  1|     1000|\n",
            "|  2|     2000|\n",
            "|  3|     3000|\n",
            "+---+---------+\n",
            "\n"
          ]
        }
      ],
      "source": [
        "# Create two dataframes\n",
        "cars_df = spark.createDataFrame([[1, 'Car A'],[2, 'Car B'],[3, 'Car C']], [\"id\", \"car_name\"])\n",
        "car_price_df = spark.createDataFrame([[1, 1000],[2, 2000],[3, 3000]], [\"id\", \"car_price\"])\n",
        "cars_df.show()\n",
        "car_price_df.show()"
      ]
    },
    {
      "cell_type": "code",
      "execution_count": null,
      "metadata": {
        "id": "U7Py4EYyKJTN"
      },
      "outputs": [],
      "source": [
        "# Executing an inner join so we can see the id, name and price of each car in one row\n",
        "cars_df.join(car_price_df, cars_df.id == car_price_df.id, 'inner').select(cars_df['id'],cars_df['car_name'],car_price_df['car_price']).show(truncate=False)"
      ]
    },
    {
      "cell_type": "code",
      "execution_count": null,
      "metadata": {
        "id": "g2DaK9-D7QkX"
      },
      "outputs": [],
      "source": [
        "# Load data\n",
        "df = spark.read.csv('cars.csv', header=True, sep=\";\")\n",
        "# Register Temporary Table\n",
        "df.createOrReplaceTempView(\"temp\")\n",
        "# Select all data from temp table\n",
        "spark.sql(\"select * from temp limit 5\").show()\n",
        "# Select count of data in table\n",
        "spark.sql(\"select count(*) as total_count from temp\").show()"
      ]
    },
    {
      "cell_type": "code",
      "execution_count": 71,
      "metadata": {
        "colab": {
          "base_uri": "https://localhost:8080/"
        },
        "id": "0_WvAgyvR7m6",
        "outputId": "fdd7e100-45c1-45b8-89bb-b8dd70c5cba9"
      },
      "outputs": [
        {
          "output_type": "stream",
          "name": "stdout",
          "text": [
            "Car;MPG;Cylinders;Displacement;Horsepower;Weight;Acceleration;Model;Origin\n",
            "Chevrolet Chevelle Malibu;18.0;8;307.0;130.0;3504.;12.0;70;US\n"
          ]
        }
      ],
      "source": [
        "cars = spark.sparkContext.textFile('cars.csv')\n",
        "print(cars.first())\n",
        "cars_header = cars.first()\n",
        "cars_rest = cars.filter(lambda line: line!=cars_header)\n",
        "print(cars_rest.first())"
      ]
    },
    {
      "cell_type": "code",
      "execution_count": null,
      "metadata": {
        "id": "Vi03EU0CMSmO"
      },
      "outputs": [],
      "source": [
        "cars_rest.map(lambda line: line.split(\";\")).count()"
      ]
    },
    {
      "cell_type": "code",
      "execution_count": 73,
      "metadata": {
        "colab": {
          "base_uri": "https://localhost:8080/"
        },
        "id": "fWFpo_WxMnvm",
        "outputId": "98c3b84f-fecb-4580-ba52-b032b9c6bbfd"
      },
      "outputs": [
        {
          "output_type": "execute_result",
          "data": {
            "text/plain": [
              "[('Citroen DS-21 Pallas', '0', '4', '3090.', 'Europe'),\n",
              " ('Volkswagen 1131 Deluxe Sedan', '26.0', '4', '1835.', 'Europe'),\n",
              " ('Peugeot 504', '25.0', '4', '2672.', 'Europe'),\n",
              " ('Audi 100 LS', '24.0', '4', '2430.', 'Europe'),\n",
              " ('Saab 99e', '25.0', '4', '2375.', 'Europe'),\n",
              " ('BMW 2002', '26.0', '4', '2234.', 'Europe'),\n",
              " ('Volkswagen Super Beetle 117', '0', '4', '1978.', 'Europe'),\n",
              " ('Opel 1900', '28.0', '4', '2123.', 'Europe'),\n",
              " ('Peugeot 304', '30.0', '4', '2074.', 'Europe'),\n",
              " ('Fiat 124B', '30.0', '4', '2065.', 'Europe'),\n",
              " ('Volkswagen Model 111', '27.0', '4', '1834.', 'Europe'),\n",
              " ('Volkswagen Type 3', '23.0', '4', '2254.', 'Europe'),\n",
              " ('Volvo 145e (sw)', '18.0', '4', '2933.', 'Europe'),\n",
              " ('Volkswagen 411 (sw)', '22.0', '4', '2511.', 'Europe'),\n",
              " ('Peugeot 504 (sw)', '21.0', '4', '2979.', 'Europe'),\n",
              " ('Renault 12 (sw)', '26.0', '4', '2189.', 'Europe'),\n",
              " ('Volkswagen Super Beetle', '26.0', '4', '1950.', 'Europe'),\n",
              " ('Fiat 124 Sport Coupe', '26.0', '4', '2265.', 'Europe'),\n",
              " ('Fiat 128', '29.0', '4', '1867.', 'Europe'),\n",
              " ('Opel Manta', '24.0', '4', '2158.', 'Europe'),\n",
              " ('Audi 100LS', '20.0', '4', '2582.', 'Europe'),\n",
              " ('Volvo 144ea', '19.0', '4', '2868.', 'Europe'),\n",
              " ('Saab 99le', '24.0', '4', '2660.', 'Europe'),\n",
              " ('Audi Fox', '29.0', '4', '2219.', 'Europe'),\n",
              " ('Volkswagen Dasher', '26.0', '4', '1963.', 'Europe'),\n",
              " ('Opel Manta', '26.0', '4', '2300.', 'Europe'),\n",
              " ('Fiat 128', '24.0', '4', '2108.', 'Europe'),\n",
              " ('Fiat 124 TC', '26.0', '4', '2246.', 'Europe'),\n",
              " ('Fiat x1.9', '31.0', '4', '2000.', 'Europe'),\n",
              " ('Volkswagen Dasher', '25.0', '4', '2223.', 'Europe'),\n",
              " ('Volkswagen Rabbit', '29.0', '4', '1937.', 'Europe'),\n",
              " ('Audi 100LS', '23.0', '4', '2694.', 'Europe'),\n",
              " ('Peugeot 504', '23.0', '4', '2957.', 'Europe'),\n",
              " ('Volvo 244DL', '22.0', '4', '2945.', 'Europe'),\n",
              " ('Saab 99LE', '25.0', '4', '2671.', 'Europe'),\n",
              " ('Fiat 131', '28.0', '4', '2464.', 'Europe'),\n",
              " ('Opel 1900', '25.0', '4', '2220.', 'Europe'),\n",
              " ('Renault 12tl', '27.0', '4', '2202.', 'Europe'),\n",
              " ('Volkswagen Rabbit', '29.0', '4', '1937.', 'Europe'),\n",
              " ('Volkswagen Rabbit', '29.5', '4', '1825.', 'Europe'),\n",
              " ('Volvo 245', '20.0', '4', '3150.', 'Europe'),\n",
              " ('Peugeot 504', '19.0', '4', '3270.', 'Europe'),\n",
              " ('Mercedes-Benz 280s', '16.5', '6', '3820.', 'Europe'),\n",
              " ('Renault 5 GTL', '36.0', '4', '1825.', 'Europe'),\n",
              " ('Volkswagen Rabbit Custom', '29.0', '4', '1940.', 'Europe'),\n",
              " ('Volkswagen Dasher', '30.5', '4', '2190.', 'Europe'),\n",
              " ('BMW 320i', '21.5', '4', '2600.', 'Europe'),\n",
              " ('Volkswagen Rabbit Custom Diesel', '43.1', '4', '1985.', 'Europe'),\n",
              " ('Audi 5000', '20.3', '5', '2830.', 'Europe'),\n",
              " ('Volvo 264gl', '17.0', '6', '3140.', 'Europe'),\n",
              " ('Saab 99gle', '21.6', '4', '2795.', 'Europe'),\n",
              " ('Peugeot 604sl', '16.2', '6', '3410.', 'Europe'),\n",
              " ('Volkswagen Scirocco', '31.5', '4', '1990.', 'Europe'),\n",
              " ('Volkswagen Rabbit Custom', '31.9', '4', '1925.', 'Europe'),\n",
              " ('Mercedes Benz 300d', '25.4', '5', '3530.', 'Europe'),\n",
              " ('Peugeot 504', '27.2', '4', '3190.', 'Europe'),\n",
              " ('Fiat Strada Custom', '37.3', '4', '2130.', 'Europe'),\n",
              " ('Volkswagen Rabbit', '41.5', '4', '2144.', 'Europe'),\n",
              " ('Audi 4000', '34.3', '4', '2188.', 'Europe'),\n",
              " ('Volkswagen Rabbit C (Diesel)', '44.3', '4', '2085.', 'Europe'),\n",
              " ('Volkswagen Dasher (diesel)', '43.4', '4', '2335.', 'Europe'),\n",
              " ('Audi 5000s (diesel)', '36.4', '5', '2950.', 'Europe'),\n",
              " ('Mercedes-Benz 240d', '30.0', '4', '3250.', 'Europe'),\n",
              " ('Renault Lecar Deluxe', '40.9', '4', '1835.', 'Europe'),\n",
              " ('Volkswagen Rabbit', '29.8', '4', '1845.', 'Europe'),\n",
              " ('Triumph TR7 Coupe', '35.0', '4', '2500.', 'Europe'),\n",
              " ('Volkswagen Jetta', '33.0', '4', '2190.', 'Europe'),\n",
              " ('Renault 18i', '34.5', '4', '2320.', 'Europe'),\n",
              " ('Peugeot 505s Turbo Diesel', '28.1', '4', '3230.', 'Europe'),\n",
              " ('Saab 900s', '0', '4', '2800.', 'Europe'),\n",
              " ('Volvo Diesel', '30.7', '6', '3160.', 'Europe'),\n",
              " ('Volkswagen Rabbit l', '36.0', '4', '1980.', 'Europe'),\n",
              " ('Volkswagen Pickup', '44.0', '4', '2130.', 'Europe')]"
            ]
          },
          "metadata": {},
          "execution_count": 73
        }
      ],
      "source": [
        "# Car name is column  0\n",
        "(cars_rest.filter(lambda line: line.split(\";\")[8]=='Europe').\n",
        " map(lambda line: (line.split(\";\")[0],\n",
        "    line.split(\";\")[1],\n",
        "    line.split(\";\")[2],\n",
        "    line.split(\";\")[5],\n",
        "    line.split(\";\")[8])).collect())"
      ]
    },
    {
      "cell_type": "code",
      "execution_count": null,
      "metadata": {
        "id": "6ZcRIX3mMquF"
      },
      "outputs": [],
      "source": [
        "# Car name is column  0\n",
        "(cars_rest.filter(lambda line: line.split(\";\")[8] in ['Europe','Japan']).\n",
        " map(lambda line: (line.split(\";\")[0],\n",
        "    line.split(\";\")[1],\n",
        "    line.split(\";\")[2],\n",
        "    line.split(\";\")[5],\n",
        "    line.split(\";\")[8])).collect())"
      ]
    },
    {
      "cell_type": "code",
      "execution_count": 75,
      "metadata": {
        "colab": {
          "base_uri": "https://localhost:8080/"
        },
        "id": "ktkb6s-kjtgG",
        "outputId": "5cd4962a-d513-4ef2-c3f0-c9bf2219e33f"
      },
      "outputs": [
        {
          "output_type": "stream",
          "name": "stdout",
          "text": [
            "++\n",
            "||\n",
            "++\n",
            "++\n",
            "\n"
          ]
        }
      ],
      "source": [
        "from pyspark.sql.types import StructType\n",
        "sc = spark.sparkContext\n",
        "#Create empty df\n",
        "schema = StructType([])\n",
        "empty = spark.createDataFrame(sc.emptyRDD(), schema)\n",
        "empty.show()"
      ]
    },
    {
      "cell_type": "code",
      "execution_count": 76,
      "metadata": {
        "colab": {
          "base_uri": "https://localhost:8080/"
        },
        "id": "9raf4CkRjuTr",
        "outputId": "8edc687d-c8a0-457e-f0fc-6b91b7eb3376"
      },
      "outputs": [
        {
          "output_type": "stream",
          "name": "stdout",
          "text": [
            "+----+\n",
            "|name|\n",
            "+----+\n",
            "+----+\n",
            "\n"
          ]
        }
      ],
      "source": [
        "from pyspark.sql.types import StructType, StructField\n",
        "#Create empty df with header\n",
        "schema_header = StructType([StructField(\"name\", StringType(), True)])\n",
        "empty_with_header = spark.createDataFrame(sc.emptyRDD(), schema_header)\n",
        "empty_with_header.show()"
      ]
    },
    {
      "cell_type": "code",
      "execution_count": 77,
      "metadata": {
        "colab": {
          "base_uri": "https://localhost:8080/"
        },
        "id": "TvzyL46QkJBl",
        "outputId": "35f5091f-5965-4730-a820-5ee72b158b3f"
      },
      "outputs": [
        {
          "output_type": "stream",
          "name": "stdout",
          "text": [
            "+-----+---+\n",
            "| name|age|\n",
            "+-----+---+\n",
            "|Alice| 13|\n",
            "|Jacob| 24|\n",
            "|Betty|135|\n",
            "+-----+---+\n",
            "\n"
          ]
        }
      ],
      "source": [
        "from pyspark.sql import Row\n",
        "mylist = [\n",
        "  {\"name\":'Alice',\"age\":13},\n",
        "  {\"name\":'Jacob',\"age\":24},\n",
        "  {\"name\":'Betty',\"age\":135},\n",
        "]\n",
        "spark.createDataFrame(Row(**x) for x in mylist).show()"
      ]
    },
    {
      "cell_type": "code",
      "execution_count": null,
      "metadata": {
        "id": "VnRMckA5nLoJ"
      },
      "outputs": [],
      "source": [
        "# You can achieve the same using this - note that we are using spark context here, not a spark session\n",
        "from pyspark.sql import Row\n",
        "df = sc.parallelize([\n",
        "        Row(name='Alice', age=13),\n",
        "        Row(name='Jacob', age=24),\n",
        "        Row(name='Betty', age=135)]).toDF()\n",
        "df.show()"
      ]
    },
    {
      "cell_type": "code",
      "execution_count": 79,
      "metadata": {
        "colab": {
          "base_uri": "https://localhost:8080/"
        },
        "id": "wOuHRAPJmWen",
        "outputId": "ebb07822-60c9-4c8a-aaa2-857d7e952248"
      },
      "outputs": [
        {
          "output_type": "stream",
          "name": "stdout",
          "text": [
            "+-----+---+------+\n",
            "| name|age|height|\n",
            "+-----+---+------+\n",
            "|Alice|  5|    80|\n",
            "|Jacob| 24|    80|\n",
            "+-----+---+------+\n",
            "\n"
          ]
        }
      ],
      "source": [
        "from pyspark.sql import Row\n",
        "from pyspark.sql import Row\n",
        "mylist = [\n",
        "  {\"name\":'Alice',\"age\":5,\"height\":80},\n",
        "  {\"name\":'Jacob',\"age\":24,\"height\":80},\n",
        "  {\"name\":'Alice',\"age\":5,\"height\":80}\n",
        "]\n",
        "df = spark.createDataFrame(Row(**x) for x in mylist)\n",
        "df.dropDuplicates().show()"
      ]
    },
    {
      "cell_type": "code",
      "execution_count": null,
      "metadata": {
        "id": "SHnFylV1n8to"
      },
      "outputs": [],
      "source": [
        "df.dropDuplicates(subset=['height']).show()"
      ]
    },
    {
      "cell_type": "markdown",
      "source": [
        "# ETL процесс"
      ],
      "metadata": {
        "id": "8MKhYetbe-Hr"
      }
    },
    {
      "cell_type": "code",
      "source": [
        "# Extract (Извлечение) из файла\n",
        "\n",
        "from pyspark.sql import SparkSession\n",
        "\n",
        "# Создание SparkSession\n",
        "spark = SparkSession.builder.appName(\"ETLProcess\").getOrCreate()\n",
        "\n",
        "# Извлечение данных из источника\n",
        "df_source = spark.read.csv(\"path/to/source/file.csv\", header=True, inferSchema=True)"
      ],
      "metadata": {
        "id": "PNbMvR3WfBtC"
      },
      "execution_count": null,
      "outputs": []
    },
    {
      "cell_type": "code",
      "source": [
        "spark.read?"
      ],
      "metadata": {
        "id": "sO0JTAmYhP0y"
      },
      "execution_count": 112,
      "outputs": []
    },
    {
      "cell_type": "code",
      "source": [
        "# Extract (Извлечение) из БД Postgres\n",
        "from pyspark.sql import SparkSession\n",
        "from pyspark.sql.functions import to_timestamp, unix_timestamp\n",
        "\n",
        "spark = SparkSession.builder.appName(\"ETLProcess\").getOrCreate()\n",
        "\n",
        "# Извлечение данных из PostgreSQL\n",
        "df_postgres = spark.read \\\n",
        "    .format(\"jdbc\") \\\n",
        "    .option(\"url\", \"jdbc:postgresql:dbserver\") \\\n",
        "    .option(\"dbtable\", \"public.your_table\") \\\n",
        "    .option(\"user\", \"username\") \\\n",
        "    .option(\"password\", \"password\") \\\n",
        "    .option(\"driver\", \"org.postgresql.Driver\") \\\n",
        "    .load()\n",
        "\n",
        "# Преобразование типа timestamp\n",
        "df_postgres = df_postgres.withColumn(\"timestamp_col\", to_timestamp(\"timestamp_col\"))"
      ],
      "metadata": {
        "id": "04O8ZcO2fQgp"
      },
      "execution_count": null,
      "outputs": []
    },
    {
      "cell_type": "code",
      "source": [
        "# Extract (Извлечение) из БД MySQL\n",
        "df_mysql = spark.read \\\n",
        "    .format(\"jdbc\") \\\n",
        "    .option(\"url\", \"jdbc:mysql://mysql-server:3306/your_database\") \\\n",
        "    .option(\"dbtable\", \"your_table\") \\\n",
        "    .option(\"user\", \"username\") \\\n",
        "    .option(\"password\", \"password\") \\\n",
        "    .option(\"driver\", \"com.mysql.cj.jdbc.Driver\") \\\n",
        "    .load()"
      ],
      "metadata": {
        "id": "KCAmRzZTflyo"
      },
      "execution_count": null,
      "outputs": []
    },
    {
      "cell_type": "code",
      "source": [
        "# Extract (Извлечение) из БД mongodb\n",
        "from pyspark.sql import SparkSession\n",
        "\n",
        "spark = SparkSession.builder \\\n",
        "    .appName(\"SparkMongoApp\") \\\n",
        "    .config(\"spark.jars.packages\", \"org.mongodb.spark:mongo-spark-connector_2.12:10.2.1\") \\\n",
        "    .getOrCreate()\n",
        "\n",
        "# Чтение данных из MongoDB\n",
        "df = spark.read.format(\"mongodb\") \\\n",
        "    .option(\"uri\", \"mongodb://localhost:27017/your_database\") \\\n",
        "    .option(\"collection\", \"your_collection\") \\\n",
        "    .load()\n",
        "\n",
        "# Запись данных в MongoDB\n",
        "df.write.format(\"mongodb\") \\\n",
        "    .mode(\"overwrite\") \\\n",
        "    .option(\"uri\", \"mongodb://localhost:27017/your_database\") \\\n",
        "    .option(\"collection\", \"new_collection\") \\\n",
        "    .save()"
      ],
      "metadata": {
        "id": "e-cMhSIrh-WZ"
      },
      "execution_count": 114,
      "outputs": []
    },
    {
      "cell_type": "markdown",
      "source": [
        "![image.png](data:image/png;base64,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)"
      ],
      "metadata": {
        "id": "F0-g9mm6gyAD"
      }
    },
    {
      "cell_type": "code",
      "source": [
        "spark.readStream?"
      ],
      "metadata": {
        "id": "kJJDvjYWhYDZ"
      },
      "execution_count": 113,
      "outputs": []
    },
    {
      "cell_type": "code",
      "source": [
        "# Extract (Извлечение) из kafka\n",
        "\n",
        "from pyspark.sql.functions import from_json, from_kafka\n",
        "\n",
        "# Настройка потребителя Kafka\n",
        "df_kafka = spark.readStream \\\n",
        "    .format(\"kafka\") \\\n",
        "    .option(\"kafka.bootstrap.servers\", \"localhost:9092\") \\\n",
        "    .option(\"subscribe\", \"topic-name\") \\\n",
        "    .load() \\\n",
        "    .select(from_kafka()) \\\n",
        "    .selectExpr(\"CAST(key AS STRING)\", \"CAST(value AS STRING)\")"
      ],
      "metadata": {
        "id": "YyzMzgS3gFZR"
      },
      "execution_count": null,
      "outputs": []
    },
    {
      "cell_type": "code",
      "source": [
        "# Extract (Извлечение) из кластера\n",
        "\n",
        "from pyspark.sql import SparkSession\n",
        "\n",
        "# Создание SparkSession\n",
        "spark = SparkSession.builder \\\n",
        "    .appName(\"SparkOnDataSphere\") \\\n",
        "    .config(\"spark.yarn.access.conf\", \"y4:0\") \\\n",
        "    .getOrCreate()\n",
        "\n",
        "# Подключение к уже существующему кластеру\n",
        "spark = SparkSession.builder \\\n",
        "    .appName(\"SparkOnDataSphere\") \\\n",
        "    .config(\"spark.master\", \"yarn\") \\\n",
        "    .config(\"spark.executor.memory\", \"8g\") \\\n",
        "    .config(\"spark.driver.memory\", \"4g\") \\\n",
        "    .getOrCreate()\n",
        "\n",
        "# Чтение данных из кластера\n",
        "df = spark.read.format(\"org.apache.spark.sql.sources.v2.DataSourceV2\") \\\n",
        "    .option(\"path\", \"/data/your_data_path\") \\\n",
        "    .load()\n",
        "\n",
        "# Использование DataFrame\n",
        "df.show()"
      ],
      "metadata": {
        "id": "zqdedzSHiQRZ"
      },
      "execution_count": null,
      "outputs": []
    }
  ],
  "metadata": {
    "colab": {
      "provenance": []
    },
    "kernelspec": {
      "display_name": "Python 3",
      "name": "python3"
    },
    "language_info": {
      "codemirror_mode": {
        "name": "ipython",
        "version": 3
      },
      "file_extension": ".py",
      "mimetype": "text/x-python",
      "name": "python",
      "nbconvert_exporter": "python",
      "pygments_lexer": "ipython3",
      "version": "3.12.1"
    }
  },
  "nbformat": 4,
  "nbformat_minor": 0
}