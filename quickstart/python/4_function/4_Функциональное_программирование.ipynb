{
 "cells": [
  {
   "cell_type": "markdown",
   "metadata": {},
   "source": [
    "# Анонимные функции и встроенные функции"
   ]
  },
  {
   "cell_type": "markdown",
   "metadata": {},
   "source": [
    "Создайте функцию double, которая принимает на вход число и возвращает его удвоенное значение. \n",
    "Например, подадим на вход 4 – получим 8."
   ]
  },
  {
   "cell_type": "code",
   "execution_count": 1,
   "metadata": {},
   "outputs": [
    {
     "name": "stdout",
     "output_type": "stream",
     "text": [
      "16\n"
     ]
    }
   ],
   "source": [
    "def double(num): \n",
    "    # создаем классическую функцию \n",
    "    return num * 2 #возвращаем удвоенное значение\n",
    "\n",
    "number = double(8) #вызываем функцию double() с аргументом 8\n",
    "print(number) #печатаем на экран значение переменной \n"
   ]
  },
  {
   "cell_type": "code",
   "execution_count": 2,
   "metadata": {},
   "outputs": [
    {
     "name": "stdout",
     "output_type": "stream",
     "text": [
      "16\n"
     ]
    }
   ],
   "source": [
    "number = lambda num: num * 2 #используем анонимную(лямбда) функцию\n",
    "print(number(8)) #печатаем на экран значение переменной \n"
   ]
  },
  {
   "cell_type": "markdown",
   "metadata": {},
   "source": [
    "В программе хранится список из строк, представляющие собой натуральные числа. Необходимо найти строку с максимальным числовым значением. \n",
    "\n",
    "Исходный список не должен меняться. \n",
    "\n",
    "Например, для списка ['4', '23', '15', '8'] программа должна вывести  '23'\n"
   ]
  },
  {
   "cell_type": "code",
   "execution_count": 4,
   "metadata": {},
   "outputs": [
    {
     "name": "stdout",
     "output_type": "stream",
     "text": [
      "23\n"
     ]
    }
   ],
   "source": [
    "numbs = ['4', '23', '15', '8'] #объявляем список \n",
    "max_str = '0' #контрзначение для максимального числа в виде строки\n",
    "for num in numbs: #перебираем строки из списка numbs\n",
    "    if int(num) > int(max_str): #если текущее «число» больше\n",
    "        max_str = num #обновляем значение переменной для максимума\n",
    "print(max_str) #печатаем на экран максимальное значение"
   ]
  },
  {
   "cell_type": "code",
   "execution_count": 5,
   "metadata": {},
   "outputs": [
    {
     "name": "stdout",
     "output_type": "stream",
     "text": [
      "23\n"
     ]
    }
   ],
   "source": [
    "numbs = ['4', '23', '15', '8']\n",
    "#ищем максимальное значение через генератор списков\n",
    "max_str = max([int(num) for num in numbs]) # list comprehension\n",
    "print(max_str) #печатаем максимальное значение на экран"
   ]
  },
  {
   "cell_type": "code",
   "execution_count": 6,
   "metadata": {},
   "outputs": [
    {
     "name": "stdout",
     "output_type": "stream",
     "text": [
      "23\n"
     ]
    }
   ],
   "source": [
    "numbs = ['4', '23', '15', '8']\n",
    "#ищем максимальное значение через генератор списков\n",
    "max_str = max(list(map(int, numbs))) # встроенная функция map\n",
    "print(max_str) #печатаем максимальное значение на экран"
   ]
  },
  {
   "cell_type": "code",
   "execution_count": 7,
   "metadata": {},
   "outputs": [
    {
     "name": "stdout",
     "output_type": "stream",
     "text": [
      "23\n"
     ]
    }
   ],
   "source": [
    "numbs = ['4', '23', '15', '8']\n",
    "#ищем максимальное значение через параметр key и lambda-функцию\n",
    "max_str = max(numbs, key=lambda num: int(num)) # только 1 раз работает\n",
    "print(max_str) #выводим на экран максимальное значение"
   ]
  },
  {
   "cell_type": "code",
   "execution_count": 9,
   "metadata": {},
   "outputs": [
    {
     "name": "stdout",
     "output_type": "stream",
     "text": [
      "8\n",
      "23\n"
     ]
    }
   ],
   "source": [
    "# без преобразования будет ошибка\n",
    "\n",
    "numbs = ['4', '23', '15', '8']\n",
    "#ищем максимальное значение через параметр key и lambda-функцию\n",
    "max_str = max(numbs) # только 1 раз работает\n",
    "max_str_right = max(numbs, key=int) # только 1 раз работает\n",
    "print(max_str) #выводим на экран максимальное значение\n",
    "print(max_str_right) #выводим на экран максимальное значение, результат верный"
   ]
  },
  {
   "cell_type": "markdown",
   "metadata": {},
   "source": [
    "```lambda num: int(num)```\n",
    "\n",
    "```lambda num: int(num) if type(x) == 'str' else num```\n",
    "\n",
    "num - числа в формате string\n",
    "int(num) или выход функции - это преобразованное число\n",
    "\n",
    "```\n",
    "def to_int(num: str) -> int: \n",
    "    if num.isdigit():\n",
    "        return num\n",
    "    return int(num)\n",
    "```"
   ]
  },
  {
   "cell_type": "code",
   "execution_count": null,
   "metadata": {},
   "outputs": [],
   "source": [
    "numbs = ['4', '23', '15', '8', 'abc']\n",
    "\n",
    "try:\n",
    "    max_num = max(numbs, key=int)\n",
    "except ValueError:\n",
    "    print(\"Ошибка: в списке содержатся недопустимые значения\")\n",
    "else:\n",
    "    print(f\"Максимальное число: {max_num}\")"
   ]
  },
  {
   "cell_type": "code",
   "execution_count": 12,
   "metadata": {},
   "outputs": [
    {
     "name": "stdout",
     "output_type": "stream",
     "text": [
      "[0, 1, 4, 9, 16, 25, 36, 49, 64, 81, 100, 121, 144, 169, 196, 225, 256, 289, 324, 361]\n"
     ]
    }
   ],
   "source": [
    "numbers = [num for num in range(20)]\n",
    "squared_numbers = list(map(\n",
    "    lambda numb: (lambda inner_numb: inner_numb ** 2)(numb), \n",
    "    numbers\n",
    "    ))\n",
    "print(squared_numbers) # несколько вложений и сложно выглядит (если вам самим нужно разбираться), то преобразуем в обычную функцию"
   ]
  },
  {
   "cell_type": "code",
   "execution_count": 16,
   "metadata": {},
   "outputs": [
    {
     "name": "stdout",
     "output_type": "stream",
     "text": [
      "1, 8, 625, 7776\n"
     ]
    }
   ],
   "source": [
    "# берется элемент из первого списка и возводится в степень, равную элементу из второго списка на такой же позиции\n",
    "\n",
    "base = [1, 2, 5, 6] #список с основаниями\n",
    "exp = [2, 3, 4, 5] #список с показателями\n",
    "#создаем lambda-функцию для возведения в степень\n",
    "data = list(map(lambda x, y: x**y, base, exp)) # выход - список чисел, __code__.co_argscount - кол-во аргументов в сигнатуре\n",
    "print(\", \".join(map(str, data))) # , - separator строки, перепреобразованием сделаем строкой каждый элемент"
   ]
  },
  {
   "cell_type": "code",
   "execution_count": 18,
   "metadata": {},
   "outputs": [
    {
     "name": "stdout",
     "output_type": "stream",
     "text": [
      "['красный', 'оранжевый']\n"
     ]
    }
   ],
   "source": [
    "# фильтрация списка строк\n",
    "\n",
    "words = ['красный', 'синий', 'оранжевый', 'белый']\n",
    "#указываем последовательность, из которой будем брать данные\n",
    "long_words = list(filter(lambda line: len(line) > 5, words)) # фильтр по длине слова\n",
    "print(long_words)\n"
   ]
  },
  {
   "cell_type": "code",
   "execution_count": 19,
   "metadata": {},
   "outputs": [
    {
     "name": "stdout",
     "output_type": "stream",
     "text": [
      "['шалаш', 'топот']\n"
     ]
    }
   ],
   "source": [
    "# задача палиндромы\n",
    "words = ['шалаш', 'кот', 'топот', 'бег']\n",
    "pal_words = list(filter(lambda word: word == word[::-1], words))\n",
    "print(pal_words)"
   ]
  },
  {
   "cell_type": "markdown",
   "metadata": {},
   "source": [
    "# Вложенные функции"
   ]
  },
  {
   "cell_type": "code",
   "execution_count": 20,
   "metadata": {},
   "outputs": [
    {
     "name": "stdout",
     "output_type": "stream",
     "text": [
      "[2, 6, 10]\n",
      "[]\n",
      "[-86, 182, 18402, 186]\n"
     ]
    }
   ],
   "source": [
    "def double_odd_numbers(numbers):\n",
    "    '''\n",
    "    Функция для проверки на нечетность и удвоения числа\n",
    "    \n",
    "    Удвоить число при условии, что оно нечетное\n",
    "    '''\n",
    "        \n",
    "    def is_odd(n):\n",
    "        return n % 2 != 0\n",
    "    \n",
    "    # Функция для удвоения числа\n",
    "    def double(n):\n",
    "        return n * 2\n",
    "    \n",
    "    # Новый список, состоящий из удвоенных нечетных чисел\n",
    "    result = [double(n) for n in numbers if is_odd(n)]\n",
    "    \n",
    "    return result\n",
    "\n",
    "# Примеры использования\n",
    "print(double_odd_numbers([1, 2, 3, 4, 5]))          # Вывод: [2, 6, 10]\n",
    "print(double_odd_numbers([6, 8, 10, 2]))             # Вывод: []\n",
    "print(double_odd_numbers([-43, 91, 932, 9201, 32, 93])) # Вывод: [-86, 182, 18402, 186]"
   ]
  },
  {
   "cell_type": "code",
   "execution_count": 21,
   "metadata": {},
   "outputs": [
    {
     "name": "stdout",
     "output_type": "stream",
     "text": [
      "['txt', 'mp4', '']\n",
      "['pdf', 'jpeg', '']\n"
     ]
    }
   ],
   "source": [
    "def get_extensions(file_list):\n",
    "    # Вспомогательная функция для получения расширения файла\n",
    "    def _get_extension(filename):\n",
    "        # Разделяем имя файла на части по точке\n",
    "        parts = filename.split('.')\n",
    "        # Если есть расширение, возвращаем его, иначе возвращаем пустую строку\n",
    "        return parts[-1] if len(parts) > 1 else ''\n",
    "    \n",
    "    # Используем вспомогательную функцию для создания списка расширений\n",
    "    return [_get_extension(file) for file in file_list]\n",
    "\n",
    "# Примеры использования\n",
    "print(get_extensions([\"foo.txt\", \"bar.mp4\", \"python3\"]))  # Вывод: ['txt', 'mp4', '']\n",
    "print(get_extensions([\"document.pdf\", \"image.jpeg\", \"archive\"]))  # Вывод: ['pdf', 'jpeg', '']"
   ]
  },
  {
   "cell_type": "code",
   "execution_count": 25,
   "metadata": {},
   "outputs": [
    {
     "name": "stdout",
     "output_type": "stream",
     "text": [
      "[101]\n",
      "[120, 440, 960, 1680]\n",
      "['252525', '494949', '000', '111']\n"
     ]
    }
   ],
   "source": [
    "# функция compute, которая принимает список функций и произвольное количество значений\n",
    "\n",
    "def compute(functions, *values):\n",
    "    '''\n",
    "    :param functions: список функций\n",
    "    :param *values: произвольное число значений 78, 9, 89, 7\n",
    "    '''\n",
    "    results = []\n",
    "    \n",
    "    for value in values:\n",
    "        # Применяем все функции к текущему значению\n",
    "        for func in functions:\n",
    "            value = func(value)\n",
    "        results.append(value)\n",
    "    \n",
    "    return results\n",
    "\n",
    "# Примеры использования\n",
    "def square(num):\n",
    "    return num ** 2\n",
    "\n",
    "def inc(num):\n",
    "    return num + 1\n",
    "\n",
    "def dec(num):\n",
    "    return num - 1\n",
    "\n",
    "print(compute([square, inc], 10))  # Вывод: [101]\n",
    "print(compute([inc, square, dec], 10, 20, 30, 40))  # Вывод: [120, 440, 960, 1680]\n",
    "\n",
    "def repeater(value, n=3):\n",
    "    return str(value) * n\n",
    "\n",
    "print(compute([dec, inc, square, repeater], 5, 7, 0, True))  \n",
    "# Вывод: ['252525', '494949', '000', '111']"
   ]
  },
  {
   "cell_type": "code",
   "execution_count": 33,
   "metadata": {},
   "outputs": [
    {
     "name": "stdout",
     "output_type": "stream",
     "text": [
      "(2, 4, 6, 8, 10)\n",
      "(2, 4, 6, 8, 10)\n",
      "[2, 4, 5, 7, 10]\n",
      "[2, 4, 5, 7, 10]\n",
      "I nvr hrd ths lyrcs bfr\n",
      "I nvr hrd ths lyrcs bfr\n"
     ]
    }
   ],
   "source": [
    "# Фильт строк (аналог функции фильтр)\n",
    "\n",
    "def filter_collection(filter_condition, collection):\n",
    "    # wrapper\n",
    "    # Определяем тип коллекции\n",
    "    if isinstance(collection, list):\n",
    "        # Фильтруем и возвращаем список\n",
    "        return [item for item in collection if filter_condition(item)]\n",
    "    elif isinstance(collection, tuple):\n",
    "        # Фильтруем и возвращаем кортеж\n",
    "        return tuple(item for item in collection if filter_condition(item))\n",
    "    elif isinstance(collection, str):\n",
    "        # Фильтруем и возвращаем строку\n",
    "        return ''.join(item for item in collection if filter_condition(item))\n",
    "    else:\n",
    "        raise TypeError(\"Unsupported collection type\")\n",
    "\n",
    "# Примеры использования\n",
    "def is_even(num):\n",
    "    return num % 2 == 0\n",
    "\n",
    "numbers = (1, 2, 3, 4, 5, 6, 7, 8, 9, 10)\n",
    "even_numbers = filter_collection(is_even, numbers)\n",
    "print(even_numbers)  # Вывод: (2, 4, 6, 8, 10)\n",
    "\n",
    "print(tuple(filter(is_even, numbers)))  # аналог\n",
    "\n",
    "def is_positive(num):\n",
    "    return num > 0\n",
    "\n",
    "numbers = [-1, 2, -3, 4, 5, -6, 7, -8, -9, 10]\n",
    "positive_numbers = filter_collection(is_positive, numbers)\n",
    "print(positive_numbers)  # Вывод: [2, 4, 5, 7, 10]\n",
    "\n",
    "print(list(filter(is_positive, numbers)))  # аналог\n",
    "\n",
    "print(filter_collection(lambda x: x not in 'aeiou', 'I never heard those lyrics before'))  \n",
    "# Вывод: I nvr hrd ths lyrcs bfr\n",
    "\n",
    "print(\"\".join(list(filter(lambda x: x not in 'aeiou', 'I never heard those lyrics before'))))  # аналог"
   ]
  },
  {
   "cell_type": "code",
   "execution_count": 38,
   "metadata": {},
   "outputs": [
    {
     "name": "stdout",
     "output_type": "stream",
     "text": [
      "19\n",
      "19\n",
      "10\n",
      "10\n",
      "1\n",
      "1\n",
      "6000\n",
      "6000\n",
      "45\n",
      "45\n"
     ]
    }
   ],
   "source": [
    "from functools import reduce\n",
    "\n",
    "# агрегация, reduce\n",
    "def aggregation(func, sequence):\n",
    "    # Начальное значение - первый элемент последовательности\n",
    "    result = sequence[0]\n",
    "    \n",
    "    # Применяем функцию к каждому элементу последовательности начиная со второго\n",
    "    for item in sequence[1:]:\n",
    "        result = func(result, item)\n",
    "    \n",
    "    return result\n",
    "\n",
    "# Примеры использования\n",
    "def get_add(x, y):\n",
    "    return x + y\n",
    "\n",
    "print(aggregation(get_add, [5, 2, 4, 3, 5]))  # Вывод: 19\n",
    "print(reduce(get_add, [5, 2, 4, 3, 5]))  # Вывод: 19\n",
    "\n",
    "def get_max(x, y):\n",
    "    return max(x, y)\n",
    "\n",
    "print(aggregation(get_max, [1, 4, 5, 7, 6, 5, 8, 10]))  # Вывод: 10\n",
    "print(reduce(get_max, [1, 4, 5, 7, 6, 5, 8, 10]))  # Вывод: 10\n",
    "\n",
    "def get_min(x, y):\n",
    "    return min(x, y)\n",
    "\n",
    "print(aggregation(get_min, [9, 6, 7, 8, 5, 1, 2, 4]))  # Вывод: 1\n",
    "print(reduce(get_min, [9, 6, 7, 8, 5, 1, 2, 4]))  # Вывод: 1\n",
    "\n",
    "\n",
    "def get_product(x, y):\n",
    "    return x * y\n",
    "\n",
    "print(aggregation(get_product, [2, 6, 5, 10, 5, 1, 2]))  # Вывод: 6000\n",
    "print(reduce(get_product, [2, 6, 5, 10, 5, 1, 2]))  # Вывод: 6000\n",
    "\n",
    "print(aggregation(get_add, [11, 4, 5, 7, 8, 10]))  # Вывод: 45\n",
    "print(reduce(get_add, [11, 4, 5, 7, 8, 10]))  # Вывод: 45"
   ]
  },
  {
   "cell_type": "markdown",
   "metadata": {},
   "source": [
    "# Замыкание"
   ]
  },
  {
   "cell_type": "code",
   "execution_count": 40,
   "metadata": {},
   "outputs": [
    {
     "name": "stdout",
     "output_type": "stream",
     "text": [
      "Умножение 2 на 5 = 10\n",
      "Умножение 2 на 15 = 30\n",
      "Умножение 3 на 5 = 15\n",
      "Умножение 3 на 15 = 45\n",
      "12\n",
      "2000\n",
      "9.0\n",
      "5.0\n",
      "50.0\n",
      "500.0\n",
      "20\n",
      "200\n",
      "2000\n"
     ]
    }
   ],
   "source": [
    "def multiply(x):\n",
    "    # Вложенная функция, которая принимает новое значение y\n",
    "    def inner(y):\n",
    "        return x * y\n",
    "    return inner\n",
    "\n",
    "# Примеры использования\n",
    "multiply_to_2 = multiply(2) # умножить на 2\n",
    "print(f\"Умножение 2 на 5 = {multiply_to_2(5)}\")   # Вывод: 10\n",
    "print(f\"Умножение 2 на 15 = {multiply_to_2(15)}\")  # Вывод: 30\n",
    "\n",
    "multiply_to_3 = multiply(3)\n",
    "print(\"Умножение 3 на 5 =\", multiply_to_3(5))   # Вывод: 15\n",
    "print(\"Умножение 3 на 15 =\", multiply_to_3(15))  # Вывод: 45\n",
    "\n",
    "print(multiply(4)(3))                  # Вывод: 12\n",
    "print(multiply(400)(5))                # Вывод: 2000\n",
    "print(multiply(4.5)(2))                # Вывод: 9.0\n",
    "\n",
    "half = multiply(0.5)\n",
    "print(half(10))                        # Вывод: 5.0\n",
    "print(half(100))                       # Вывод: 50.0\n",
    "print(half(1000))                      # Вывод: 500.0\n",
    "\n",
    "double = multiply(2)\n",
    "print(double(10))                      # Вывод: 20\n",
    "print(double(100))                     # Вывод: 200\n",
    "print(double(1000))                    # Вывод: 2000"
   ]
  },
  {
   "cell_type": "code",
   "execution_count": 49,
   "metadata": {},
   "outputs": [
    {
     "name": "stdout",
     "output_type": "stream",
     "text": [
      "2\n",
      "3\n",
      "1 0\n",
      "2 1\n",
      "2 3\n"
     ]
    }
   ],
   "source": [
    "# посчитать вызовы функции\n",
    "\n",
    "def count_calls():\n",
    "    def counter():\n",
    "        # внутреннее свойство объекта\n",
    "        counter.total_calls += 1\n",
    "    \n",
    "    counter.total_calls = 0\n",
    "    return counter\n",
    "\n",
    "# Примеры использования\n",
    "if __name__ == \"__main__\":\n",
    "    counter = count_calls()\n",
    "    counter()\n",
    "    counter()\n",
    "    print(counter.total_calls)  # Вывод: 2\n",
    "    counter()\n",
    "    print(counter.total_calls)  # Вывод: 3\n",
    "\n",
    "    counter1 = count_calls()\n",
    "    counter2 = count_calls()\n",
    "    counter1()\n",
    "    print(counter1.total_calls, counter2.total_calls)  # Вывод: 1 0\n",
    "    counter1()\n",
    "    counter2()\n",
    "    print(counter1.total_calls, counter2.total_calls)  # Вывод: 2 1\n",
    "    counter2()\n",
    "    counter2()\n",
    "    print(counter1.total_calls, counter2.total_calls)  # Вывод: 2 3"
   ]
  },
  {
   "cell_type": "markdown",
   "metadata": {},
   "source": [
    "Глобавльные переменные не используются в ФП"
   ]
  },
  {
   "cell_type": "code",
   "execution_count": 54,
   "metadata": {},
   "outputs": [],
   "source": [
    "# посчитать вызовы функции\n",
    "\n",
    "def count_calls():\n",
    "    def counter():\n",
    "        # внутреннее свойство объекта\n",
    "        nonlocal total_calls # для доступа к переменной из объемлющей функции\n",
    "        total_calls += 1\n",
    "    \n",
    "    total_calls = 0\n",
    "    return counter\n",
    "\n",
    "\n",
    "def count_calls():\n",
    "    def counter():\n",
    "        # внутреннее свойство объекта\n",
    "        return total_calls + 1\n",
    "    \n",
    "    total_calls = 0\n",
    "    return lambda: counter()"
   ]
  },
  {
   "cell_type": "markdown",
   "metadata": {},
   "source": [
    "# itertools"
   ]
  },
  {
   "cell_type": "code",
   "execution_count": 58,
   "metadata": {},
   "outputs": [
    {
     "name": "stdout",
     "output_type": "stream",
     "text": [
      "0\n",
      "1\n",
      "2\n",
      "3\n",
      "4\n",
      "5\n",
      "6\n"
     ]
    }
   ],
   "source": [
    "import itertools\n",
    "counter = itertools.count() # значение по умолчанию 0, шаг 1\n",
    "#next() функция возвращает следующий элемент в итераторе.По умолчанию начинается с числа 0 и увеличивается на 1.\n",
    "print (next(counter))#Output:0\n",
    "print (next(counter))#Output:1\n",
    "print (next(counter))#Output:2\n",
    "print (next(counter))#Output:3\n",
    "print (next(counter))#Output:4\n",
    "print (next(counter))#Output:5\n",
    "print (next(counter))#Output:6"
   ]
  },
  {
   "cell_type": "code",
   "execution_count": 61,
   "metadata": {},
   "outputs": [
    {
     "name": "stdout",
     "output_type": "stream",
     "text": [
      "5\n",
      "15\n",
      "25\n",
      "35\n",
      "45\n",
      "55\n"
     ]
    }
   ],
   "source": [
    "# Возвращает бесконечный итератор, начинающийся с числа 5 и увеличивающийся на 10. \n",
    "# Доступ к значениям в итераторе осуществляется с помощью функции next()\n",
    "counter_10 = itertools.count(5,10) # значение 5, шаг 10\n",
    "print(next(counter_10))#Output:5\n",
    "print(next(counter_10))#Output:10\n",
    "print(next(counter_10))#Output:15\n",
    "print(next(counter_10))#Output:25\n",
    "print(next(counter_10))#Output:35\n",
    "print(next(counter_10))#Output:45"
   ]
  },
  {
   "cell_type": "code",
   "execution_count": null,
   "metadata": {},
   "outputs": [],
   "source": [
    "#доступ к значениям в итераторе с помощью аргумента for loop.step также может быть плавающим значением.\n",
    "c2 = itertools.count(2.5,2.5)\n",
    "for i in c2:\n",
    "    #including terminating condition, else loop will keep on going.(infinite loop)\n",
    "    if i>25:\n",
    "        break\n",
    "    else:\n",
    "        print (i,end=\" \") #Output:2.5 5.0 7.5 10.0 12.5 15.0 17.5 20.0 22.5 25.0\n",
    "        \n"
   ]
  },
  {
   "cell_type": "code",
   "execution_count": null,
   "metadata": {},
   "outputs": [],
   "source": [
    "# шагом также могут быть отрицательные числа. отрицательные числа считаются в обратном порядке\n",
    "c3=itertools.count(2,-2.5)\n",
    "print (next(c3))#Output:2\n",
    "print (next(c3))#Output:-0.5\n",
    "print (next(c3))#Output:-3.0"
   ]
  },
  {
   "cell_type": "code",
   "execution_count": 62,
   "metadata": {},
   "outputs": [
    {
     "name": "stdout",
     "output_type": "stream",
     "text": [
      "<itertools.chain object at 0x000002A59A3F4E80>\n"
     ]
    }
   ],
   "source": [
    "import itertools\n",
    "l1=itertools.chain([\"red\",\"blue\"],[1,2,3],\"hello\")\n",
    "#Возвращает объект итератора\n",
    "print (l1) # Output:<itertools.chain object at 0x029FE4D8>"
   ]
  },
  {
   "cell_type": "code",
   "execution_count": 63,
   "metadata": {},
   "outputs": [
    {
     "name": "stdout",
     "output_type": "stream",
     "text": [
      "['red', 'blue', 1, 2, 3, 'h', 'e', 'l', 'l', 'o']\n"
     ]
    }
   ],
   "source": [
    "# преобразование объекта итератора в вывод объекта\n",
    "print(list(l1))#Output:['red', 'blue', 1, 2, 3, 'h', 'e', 'l', 'l', 'o']"
   ]
  },
  {
   "cell_type": "code",
   "execution_count": 64,
   "metadata": {},
   "outputs": [
    {
     "name": "stdout",
     "output_type": "stream",
     "text": [
      "['A', 'B', 'C', 'D', 'E', 'F', 'G', 'H', 'I']\n"
     ]
    }
   ],
   "source": [
    "l2=itertools.chain(\"ABC\",\"DEF\",\"GHI\")\n",
    "print (list(l2))#Output:['A', 'B', 'C', 'D', 'E', 'F', 'G', 'H', 'I']"
   ]
  },
  {
   "cell_type": "code",
   "execution_count": 65,
   "metadata": {},
   "outputs": [
    {
     "name": "stdout",
     "output_type": "stream",
     "text": [
      "[('A', 'B', 'C'), ('A', 'C', 'B'), ('B', 'A', 'C'), ('B', 'C', 'A'), ('C', 'A', 'B'), ('C', 'B', 'A')]\n"
     ]
    }
   ],
   "source": [
    "# permutations() - перестановки\n",
    "\n",
    "import itertools\n",
    "l1 = itertools.permutations(\"ABC\")\n",
    "print (list(l1))#Output:[('A', 'B', 'C'), ('A', 'C', 'B'), ('B', 'A', 'C'), ('B', 'C', 'A'), ('C', 'A', 'B'), ('C', 'B', 'A')]"
   ]
  },
  {
   "cell_type": "code",
   "execution_count": 66,
   "metadata": {},
   "outputs": [
    {
     "name": "stdout",
     "output_type": "stream",
     "text": [
      "[(3, 2, 1), (3, 1, 2), (2, 3, 1), (2, 1, 3), (1, 3, 2), (1, 2, 3)]\n"
     ]
    }
   ],
   "source": [
    "l2=itertools.permutations([3,2,1])\n",
    "print (list(l2))#Output:[(3, 2, 1), (3, 1, 2), (2, 3, 1), (2, 1, 3), (1, 3, 2), (1, 2, 3)]"
   ]
  },
  {
   "cell_type": "code",
   "execution_count": 67,
   "metadata": {},
   "outputs": [
    {
     "name": "stdout",
     "output_type": "stream",
     "text": [
      "[(1, 1), (1, 1)]\n"
     ]
    }
   ],
   "source": [
    "l3 = itertools.permutations([1,1])\n",
    "print (list(l3)) #Output:[(1, 1), (1, 1)]"
   ]
  },
  {
   "cell_type": "code",
   "execution_count": 68,
   "metadata": {},
   "outputs": [
    {
     "name": "stdout",
     "output_type": "stream",
     "text": [
      "[('ABC',)]\n"
     ]
    }
   ],
   "source": [
    "l4 = itertools.permutations([\"ABC\"])\n",
    "print (list(l4))#Output:[('ABC',)]"
   ]
  },
  {
   "cell_type": "code",
   "execution_count": 69,
   "metadata": {},
   "outputs": [
    {
     "name": "stdout",
     "output_type": "stream",
     "text": [
      "[(1, 2), (1, 3), (1, 4), (2, 1), (2, 3), (2, 4), (3, 1), (3, 2), (3, 4), (4, 1), (4, 2), (4, 3)]\n"
     ]
    }
   ],
   "source": [
    "l5 = itertools.permutations([1,2,3,4],2)\n",
    "print (list(l5))#Output:[(1, 2), (1, 3), (1, 4), (2, 1), (2, 3), (2, 4), (3, 1), (3, 2), (3, 4), (4, 1), (4, 2), (4, 3)]"
   ]
  },
  {
   "cell_type": "code",
   "execution_count": 70,
   "metadata": {},
   "outputs": [
    {
     "name": "stdout",
     "output_type": "stream",
     "text": [
      "('feature1', 'feature2', 'feature3')\n",
      "('feature1', 'feature3', 'feature2')\n",
      "('feature2', 'feature1', 'feature3')\n",
      "('feature2', 'feature3', 'feature1')\n",
      "('feature3', 'feature1', 'feature2')\n",
      "('feature3', 'feature2', 'feature1')\n"
     ]
    }
   ],
   "source": [
    "from itertools import permutations\n",
    "import pandas as pd\n",
    "\n",
    "# Пример данных\n",
    "data = pd.DataFrame({\n",
    "    'feature1': [1, 2, 3],\n",
    "    'feature2': [4, 5, 6],\n",
    "    'feature3': [7, 8, 9]\n",
    "})\n",
    "\n",
    "# Генерация всех перестановок признаков\n",
    "features = data.columns.tolist()\n",
    "permuted_features = list(permutations(features))\n",
    "\n",
    "for perm in permuted_features:\n",
    "    print(perm)"
   ]
  },
  {
   "cell_type": "code",
   "execution_count": 71,
   "metadata": {},
   "outputs": [
    {
     "name": "stdout",
     "output_type": "stream",
     "text": [
      "(0.01, 0.1, 50, 100)\n",
      "(0.01, 0.1, 100, 50)\n",
      "(0.01, 50, 0.1, 100)\n",
      "(0.01, 50, 100, 0.1)\n",
      "(0.01, 100, 0.1, 50)\n",
      "(0.01, 100, 50, 0.1)\n",
      "(0.1, 0.01, 50, 100)\n",
      "(0.1, 0.01, 100, 50)\n",
      "(0.1, 50, 0.01, 100)\n",
      "(0.1, 50, 100, 0.01)\n",
      "(0.1, 100, 0.01, 50)\n",
      "(0.1, 100, 50, 0.01)\n",
      "(50, 0.01, 0.1, 100)\n",
      "(50, 0.01, 100, 0.1)\n",
      "(50, 0.1, 0.01, 100)\n",
      "(50, 0.1, 100, 0.01)\n",
      "(50, 100, 0.01, 0.1)\n",
      "(50, 100, 0.1, 0.01)\n",
      "(100, 0.01, 0.1, 50)\n",
      "(100, 0.01, 50, 0.1)\n",
      "(100, 0.1, 0.01, 50)\n",
      "(100, 0.1, 50, 0.01)\n",
      "(100, 50, 0.01, 0.1)\n",
      "(100, 50, 0.1, 0.01)\n"
     ]
    }
   ],
   "source": [
    "from itertools import permutations\n",
    "\n",
    "# Пример значений гиперпараметров\n",
    "learning_rates = [0.01, 0.1]\n",
    "n_estimators = [50, 100]\n",
    "\n",
    "# Генерация всех комбинаций гиперпараметров\n",
    "hyperparams = list(permutations(learning_rates + n_estimators))\n",
    "\n",
    "for params in hyperparams:\n",
    "    print(params)"
   ]
  },
  {
   "cell_type": "markdown",
   "metadata": {},
   "source": [
    "# Functools"
   ]
  },
  {
   "cell_type": "code",
   "execution_count": 72,
   "metadata": {},
   "outputs": [
    {
     "name": "stdout",
     "output_type": "stream",
     "text": [
      "Sum of 1 and 2 is 3\n",
      "Sum of 2 and 2 is 4\n",
      "Sum of 3 and 2 is 5\n",
      "Sum of 4 and 2 is 6\n",
      "Sum of 5 and 2 is 7\n",
      "Sum of 6 and 2 is 8\n",
      "Sum of 7 and 2 is 9\n",
      "Sum of 8 and 2 is 10\n",
      "Sum of 9 and 2 is 11\n"
     ]
    }
   ],
   "source": [
    "from functools import partial # зафиксировать аргументы\n",
    " \n",
    "def add(x,y):\n",
    "      return x + y\n",
    " \n",
    "add_partials = []\n",
    "for i in range (1, 10):\n",
    "      function = partial(add, i)\n",
    "      add_partials.append(function)\n",
    "      print('Sum of {} and 2 is {}'.format(i,add_partials[i-1](2)))"
   ]
  },
  {
   "cell_type": "code",
   "execution_count": 74,
   "metadata": {},
   "outputs": [
    {
     "name": "stdout",
     "output_type": "stream",
     "text": [
      "<function add at 0x000002A59A9EF380>\n",
      "{'y': 5}\n",
      "functools.partial(<function add at 0x000002A59A9EF380>, y=5)\n"
     ]
    }
   ],
   "source": [
    "from functools import partial\n",
    " \n",
    "def add(x,y):\n",
    "      return x + y\n",
    " \n",
    "# создайте новую функцию, которая умножает значение на 2\n",
    "result = partial(add,y=5)\n",
    "print(result.func)\n",
    "print(result.keywords)\n",
    "print(result)"
   ]
  },
  {
   "cell_type": "markdown",
   "metadata": {},
   "source": [
    "# Рекурсия"
   ]
  },
  {
   "cell_type": "markdown",
   "metadata": {},
   "source": [
    "## Вычисление факториала"
   ]
  },
  {
   "cell_type": "code",
   "execution_count": 87,
   "metadata": {},
   "outputs": [
    {
     "name": "stdout",
     "output_type": "stream",
     "text": [
      "330652177144116372595018778066441848536765021855923937116013806354820133339911166774726909168510073646273149461962714720323801914114452998605141527590886835057103132498721841125372484516782310305886786036506845195181388234028257178854518790119548768972158342163204004863590180783935484742777796047161291172213569193388737871282337456018280474418816084928896428207187937949372400830704309158727989729198932089443651497843963584331385104607844641147204400652724774895706116336924137717336375333537937839596917646683058840802459122198080528501214816228432895875152786115889662540609344137191713438257078317944879918620289499096298571401173081643113550142905160312219102635120026451677859933619652611489930147908449449212745152723039968780454460747096676649134863495097580145578650645087521884858404539459004627725819048970247360794586905516268714382855816126651954852845064331936741905508613974215580712960000000000000000000000000000000000000000000000000000000000000000000000000000000000000000000000000000000000000000\n"
     ]
    }
   ],
   "source": [
    "def get_factorial(n: int) -> int:\n",
    "    product = 1\n",
    "    for i in range(2, n + 1):\n",
    "        product *= i\n",
    "    return product\n",
    "\n",
    "print(get_factorial(455))"
   ]
  },
  {
   "attachments": {
    "image.png": {
     "image/png": "[encoded data removed]"
    }
   },
   "cell_type": "markdown",
   "metadata": {},
   "source": [
    "![image.png](attachment:image.png)"
   ]
  },
  {
   "cell_type": "code",
   "execution_count": 85,
   "metadata": {},
   "outputs": [
    {
     "name": "stdout",
     "output_type": "stream",
     "text": [
      "330652177144116372595018778066441848536765021855923937116013806354820133339911166774726909168510073646273149461962714720323801914114452998605141527590886835057103132498721841125372484516782310305886786036506845195181388234028257178854518790119548768972158342163204004863590180783935484742777796047161291172213569193388737871282337456018280474418816084928896428207187937949372400830704309158727989729198932089443651497843963584331385104607844641147204400652724774895706116336924137717336375333537937839596917646683058840802459122198080528501214816228432895875152786115889662540609344137191713438257078317944879918620289499096298571401173081643113550142905160312219102635120026451677859933619652611489930147908449449212745152723039968780454460747096676649134863495097580145578650645087521884858404539459004627725819048970247360794586905516268714382855816126651954852845064331936741905508613974215580712960000000000000000000000000000000000000000000000000000000000000000000000000000000000000000000000000000000000000000\n"
     ]
    }
   ],
   "source": [
    "def factorial(n: int) -> int:\n",
    "    if n == 1:\n",
    "        return 1 # работа функции закончится\n",
    "    previous_fact = factorial(n - 1) # рекурсивный вызов\n",
    "    return previous_fact * n\n",
    "\n",
    "print(factorial(455))"
   ]
  },
  {
   "cell_type": "code",
   "execution_count": 88,
   "metadata": {},
   "outputs": [
    {
     "name": "stdout",
     "output_type": "stream",
     "text": [
      "330652177144116372595018778066441848536765021855923937116013806354820133339911166774726909168510073646273149461962714720323801914114452998605141527590886835057103132498721841125372484516782310305886786036506845195181388234028257178854518790119548768972158342163204004863590180783935484742777796047161291172213569193388737871282337456018280474418816084928896428207187937949372400830704309158727989729198932089443651497843963584331385104607844641147204400652724774895706116336924137717336375333537937839596917646683058840802459122198080528501214816228432895875152786115889662540609344137191713438257078317944879918620289499096298571401173081643113550142905160312219102635120026451677859933619652611489930147908449449212745152723039968780454460747096676649134863495097580145578650645087521884858404539459004627725819048970247360794586905516268714382855816126651954852845064331936741905508613974215580712960000000000000000000000000000000000000000000000000000000000000000000000000000000000000000000000000000000000000000\n"
     ]
    }
   ],
   "source": [
    "factorial_cache = {1: 1}\n",
    "\n",
    "def factorial(n: int) -> int:\n",
    "    if n not in factorial_cache:\n",
    "        factorial_cache[n] = n * factorial(n - 1)\n",
    "    return factorial_cache[n]\n",
    "\n",
    "print(factorial(455))"
   ]
  },
  {
   "cell_type": "markdown",
   "metadata": {},
   "source": [
    "## Числа Фибоначчи"
   ]
  },
  {
   "attachments": {
    "image.png": {
     "image/png": "[encoded data removed]"
    }
   },
   "cell_type": "markdown",
   "metadata": {},
   "source": [
    "![image.png](attachment:image.png)"
   ]
  },
  {
   "cell_type": "code",
   "execution_count": 93,
   "metadata": {},
   "outputs": [
    {
     "data": {
      "text/plain": [
       "9227465"
      ]
     },
     "execution_count": 93,
     "metadata": {},
     "output_type": "execute_result"
    }
   ],
   "source": [
    "def fibonacci(n):\n",
    "    if n == 0:\n",
    "        return 0\n",
    "    if n == 1:\n",
    "        return 1\n",
    "    return fibonacci(n - 1) + fibonacci(n - 2)\n",
    "\n",
    "fibonacci(35)"
   ]
  },
  {
   "cell_type": "code",
   "execution_count": 92,
   "metadata": {},
   "outputs": [
    {
     "data": {
      "text/plain": [
       "139583862445"
      ]
     },
     "execution_count": 92,
     "metadata": {},
     "output_type": "execute_result"
    }
   ],
   "source": [
    "def fibonacci(n, memo={}):\n",
    "    if n in memo:\n",
    "        return memo[n]\n",
    "    if n == 0:\n",
    "        return 0\n",
    "    if n == 1:\n",
    "        return 1\n",
    "    \n",
    "    # Сохраняем результат в словаре\n",
    "    memo[n] = fibonacci(n - 1, memo) + fibonacci(n - 2, memo)\n",
    "    return memo[n]\n",
    "\n",
    "fibonacci(55)"
   ]
  }
 ],
 "metadata": {
  "kernelspec": {
   "display_name": ".folder",
   "language": "python",
   "name": "python3"
  },
  "language_info": {
   "codemirror_mode": {
    "name": "ipython",
    "version": 3
   },
   "file_extension": ".py",
   "mimetype": "text/x-python",
   "name": "python",
   "nbconvert_exporter": "python",
   "pygments_lexer": "ipython3",
   "version": "3.12.1"
  }
 },
 "nbformat": 4,
 "nbformat_minor": 2
}
