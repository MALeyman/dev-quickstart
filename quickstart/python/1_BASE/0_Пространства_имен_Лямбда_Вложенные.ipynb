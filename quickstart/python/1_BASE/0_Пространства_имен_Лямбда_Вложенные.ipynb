{
 "cells": [
  {
   "cell_type": "code",
   "execution_count": 2,
   "metadata": {},
   "outputs": [
    {
     "name": "stdout",
     "output_type": "stream",
     "text": [
      "In\n",
      "Out\n",
      "_\n",
      "__\n",
      "___\n",
      "__builtin__\n",
      "__builtins__\n",
      "__doc__\n",
      "__loader__\n",
      "__name__\n",
      "__package__\n",
      "__spec__\n",
      "__vsc_ipynb_file__\n",
      "_dh\n",
      "_i\n",
      "_i1\n",
      "_i2\n",
      "_ih\n",
      "_ii\n",
      "_iii\n",
      "_oh\n",
      "exit\n",
      "get_ipython\n",
      "open\n",
      "quit\n",
      "space\n"
     ]
    }
   ],
   "source": [
    "for name in dir():\n",
    "    print(name)"
   ]
  },
  {
   "cell_type": "code",
   "execution_count": 5,
   "metadata": {},
   "outputs": [
    {
     "name": "stdout",
     "output_type": "stream",
     "text": [
      "ArithmeticError\n",
      "AssertionError\n",
      "AttributeError\n",
      "BaseException\n",
      "BaseExceptionGroup\n",
      "BlockingIOError\n",
      "BrokenPipeError\n",
      "BufferError\n",
      "BytesWarning\n",
      "ChildProcessError\n",
      "ConnectionAbortedError\n",
      "ConnectionError\n",
      "ConnectionRefusedError\n",
      "ConnectionResetError\n",
      "DeprecationWarning\n",
      "EOFError\n",
      "Ellipsis\n",
      "EncodingWarning\n",
      "EnvironmentError\n",
      "Exception\n",
      "ExceptionGroup\n",
      "False\n",
      "FileExistsError\n",
      "FileNotFoundError\n",
      "FloatingPointError\n",
      "FutureWarning\n",
      "GeneratorExit\n",
      "IOError\n",
      "ImportError\n",
      "ImportWarning\n",
      "IndentationError\n",
      "IndexError\n",
      "InterruptedError\n",
      "IsADirectoryError\n",
      "KeyError\n",
      "KeyboardInterrupt\n",
      "LookupError\n",
      "MemoryError\n",
      "ModuleNotFoundError\n",
      "NameError\n",
      "None\n",
      "NotADirectoryError\n",
      "NotImplemented\n",
      "NotImplementedError\n",
      "OSError\n",
      "OverflowError\n",
      "PendingDeprecationWarning\n",
      "PermissionError\n",
      "ProcessLookupError\n",
      "RecursionError\n",
      "ReferenceError\n",
      "ResourceWarning\n",
      "RuntimeError\n",
      "RuntimeWarning\n",
      "StopAsyncIteration\n",
      "StopIteration\n",
      "SyntaxError\n",
      "SyntaxWarning\n",
      "SystemError\n",
      "SystemExit\n",
      "TabError\n",
      "TimeoutError\n",
      "True\n",
      "TypeError\n",
      "UnboundLocalError\n",
      "UnicodeDecodeError\n",
      "UnicodeEncodeError\n",
      "UnicodeError\n",
      "UnicodeTranslateError\n",
      "UnicodeWarning\n",
      "UserWarning\n",
      "ValueError\n",
      "Warning\n",
      "WindowsError\n",
      "ZeroDivisionError\n",
      "__IPYTHON__\n",
      "__build_class__\n",
      "__debug__\n",
      "__doc__\n",
      "__import__\n",
      "__loader__\n",
      "__name__\n",
      "__package__\n",
      "__spec__\n",
      "abs\n",
      "aiter\n",
      "all\n",
      "anext\n",
      "any\n",
      "ascii\n",
      "bin\n",
      "bool\n",
      "breakpoint\n",
      "bytearray\n",
      "bytes\n",
      "callable\n",
      "chr\n",
      "classmethod\n",
      "compile\n",
      "complex\n",
      "copyright\n",
      "credits\n",
      "delattr\n",
      "dict\n",
      "dir\n",
      "display\n",
      "divmod\n",
      "enumerate\n",
      "eval\n",
      "exec\n",
      "execfile\n",
      "filter\n",
      "float\n",
      "format\n",
      "frozenset\n",
      "get_ipython\n",
      "getattr\n",
      "globals\n",
      "hasattr\n",
      "hash\n",
      "help\n",
      "hex\n",
      "id\n",
      "input\n",
      "int\n",
      "isinstance\n",
      "issubclass\n",
      "iter\n",
      "len\n",
      "license\n",
      "list\n",
      "locals\n",
      "map\n",
      "max\n",
      "memoryview\n",
      "min\n",
      "next\n",
      "object\n",
      "oct\n",
      "open\n",
      "ord\n",
      "pow\n",
      "print\n",
      "property\n",
      "range\n",
      "repr\n",
      "reversed\n",
      "round\n",
      "runfile\n",
      "set\n",
      "setattr\n",
      "slice\n",
      "sorted\n",
      "staticmethod\n",
      "str\n",
      "sum\n",
      "super\n",
      "tuple\n",
      "type\n",
      "vars\n",
      "zip\n"
     ]
    }
   ],
   "source": [
    "for name in dir(__builtins__):\n",
    "    print(name)"
   ]
  },
  {
   "cell_type": "code",
   "execution_count": 6,
   "metadata": {},
   "outputs": [],
   "source": [
    "if __name__ == '__main__':\n",
    "    pass"
   ]
  },
  {
   "cell_type": "code",
   "execution_count": 8,
   "metadata": {},
   "outputs": [
    {
     "name": "stdout",
     "output_type": "stream",
     "text": [
      "{'__name__': '__main__', '__doc__': 'Automatically created module for IPython interactive environment', '__package__': None, '__loader__': None, '__spec__': None, '__builtin__': <module 'builtins' (built-in)>, '__builtins__': <module 'builtins' (built-in)>, '_ih': ['', 'print(dir())', 'space = dir()\\n\\nfor name in dir():\\n    print(name)', 'space = dir(__builtins__)', 'space = dir(__builtins__)\\nprint(space)', 'for name in dir(__builtins__):\\n    print(name)', \"if __name__ == '__main__':\\n    pass\", 'print(globals())', 'print(globals())'], '_oh': {}, '_dh': [WindowsPath('c:/Users/user/Documents/new-python-repo')], 'In': ['', 'print(dir())', 'space = dir()\\n\\nfor name in dir():\\n    print(name)', 'space = dir(__builtins__)', 'space = dir(__builtins__)\\nprint(space)', 'for name in dir(__builtins__):\\n    print(name)', \"if __name__ == '__main__':\\n    pass\", 'print(globals())', 'print(globals())'], 'Out': {}, 'get_ipython': <bound method InteractiveShell.get_ipython of <ipykernel.zmqshell.ZMQInteractiveShell object at 0x0000021630B7B620>>, 'exit': <IPython.core.autocall.ZMQExitAutocall object at 0x000002163228A6C0>, 'quit': <IPython.core.autocall.ZMQExitAutocall object at 0x000002163228A6C0>, 'open': <function open at 0x0000021630093560>, '_': '', '__': '', '___': '', '__vsc_ipynb_file__': 'c:\\\\Users\\\\user\\\\Documents\\\\new-python-repo\\\\Блокнот_Пространства_имен.ipynb', '_i': 'print(globals())', '_ii': \"if __name__ == '__main__':\\n    pass\", '_iii': 'for name in dir(__builtins__):\\n    print(name)', '_i1': 'print(dir())', '_i2': 'space = dir()\\n\\nfor name in dir():\\n    print(name)', 'space': ['ArithmeticError', 'AssertionError', 'AttributeError', 'BaseException', 'BaseExceptionGroup', 'BlockingIOError', 'BrokenPipeError', 'BufferError', 'BytesWarning', 'ChildProcessError', 'ConnectionAbortedError', 'ConnectionError', 'ConnectionRefusedError', 'ConnectionResetError', 'DeprecationWarning', 'EOFError', 'Ellipsis', 'EncodingWarning', 'EnvironmentError', 'Exception', 'ExceptionGroup', 'False', 'FileExistsError', 'FileNotFoundError', 'FloatingPointError', 'FutureWarning', 'GeneratorExit', 'IOError', 'ImportError', 'ImportWarning', 'IndentationError', 'IndexError', 'InterruptedError', 'IsADirectoryError', 'KeyError', 'KeyboardInterrupt', 'LookupError', 'MemoryError', 'ModuleNotFoundError', 'NameError', 'None', 'NotADirectoryError', 'NotImplemented', 'NotImplementedError', 'OSError', 'OverflowError', 'PendingDeprecationWarning', 'PermissionError', 'ProcessLookupError', 'RecursionError', 'ReferenceError', 'ResourceWarning', 'RuntimeError', 'RuntimeWarning', 'StopAsyncIteration', 'StopIteration', 'SyntaxError', 'SyntaxWarning', 'SystemError', 'SystemExit', 'TabError', 'TimeoutError', 'True', 'TypeError', 'UnboundLocalError', 'UnicodeDecodeError', 'UnicodeEncodeError', 'UnicodeError', 'UnicodeTranslateError', 'UnicodeWarning', 'UserWarning', 'ValueError', 'Warning', 'WindowsError', 'ZeroDivisionError', '__IPYTHON__', '__build_class__', '__debug__', '__doc__', '__import__', '__loader__', '__name__', '__package__', '__spec__', 'abs', 'aiter', 'all', 'anext', 'any', 'ascii', 'bin', 'bool', 'breakpoint', 'bytearray', 'bytes', 'callable', 'chr', 'classmethod', 'compile', 'complex', 'copyright', 'credits', 'delattr', 'dict', 'dir', 'display', 'divmod', 'enumerate', 'eval', 'exec', 'execfile', 'filter', 'float', 'format', 'frozenset', 'get_ipython', 'getattr', 'globals', 'hasattr', 'hash', 'help', 'hex', 'id', 'input', 'int', 'isinstance', 'issubclass', 'iter', 'len', 'license', 'list', 'locals', 'map', 'max', 'memoryview', 'min', 'next', 'object', 'oct', 'open', 'ord', 'pow', 'print', 'property', 'range', 'repr', 'reversed', 'round', 'runfile', 'set', 'setattr', 'slice', 'sorted', 'staticmethod', 'str', 'sum', 'super', 'tuple', 'type', 'vars', 'zip'], 'name': 'zip', '_i3': 'space = dir(__builtins__)', '_i4': 'space = dir(__builtins__)\\nprint(space)', '_i5': 'for name in dir(__builtins__):\\n    print(name)', '_i6': \"if __name__ == '__main__':\\n    pass\", '_i7': 'print(globals())', '_i8': 'print(globals())'}\n"
     ]
    }
   ],
   "source": [
    "print(globals())"
   ]
  },
  {
   "cell_type": "code",
   "execution_count": 9,
   "metadata": {},
   "outputs": [
    {
     "name": "stdout",
     "output_type": "stream",
     "text": [
      "__name__\n",
      "__doc__\n",
      "__package__\n",
      "__loader__\n",
      "__spec__\n",
      "__builtin__\n",
      "__builtins__\n",
      "_ih\n",
      "_oh\n",
      "_dh\n",
      "In\n",
      "Out\n",
      "get_ipython\n",
      "exit\n",
      "quit\n",
      "open\n",
      "_\n",
      "__\n",
      "___\n",
      "__vsc_ipynb_file__\n",
      "_i\n",
      "_ii\n",
      "_iii\n",
      "_i1\n",
      "_i2\n",
      "space\n",
      "name\n",
      "_i3\n",
      "_i4\n",
      "_i5\n",
      "_i6\n",
      "_i7\n",
      "_i8\n",
      "_i9\n"
     ]
    }
   ],
   "source": [
    "for name in globals():\n",
    "    print(name)"
   ]
  },
  {
   "cell_type": "code",
   "execution_count": 12,
   "metadata": {},
   "outputs": [
    {
     "name": "stdout",
     "output_type": "stream",
     "text": [
      "num_first\n",
      "num_second\n",
      "summa\n"
     ]
    }
   ],
   "source": [
    "def add(num_first, num_second):\n",
    "    summa = num_first + num_second\n",
    "    for name in locals():\n",
    "        print(name)\n",
    "    # print(f'Результат {num_first} + {num_second} = {summa}')\n",
    "\n",
    "add(6, 7)\n",
    "# add(-67, 98)\n",
    "# print(summa) #NameError"
   ]
  },
  {
   "cell_type": "code",
   "execution_count": 15,
   "metadata": {},
   "outputs": [
    {
     "name": "stdout",
     "output_type": "stream",
     "text": [
      "Результат 6 + 7 = 0\n",
      "0\n",
      "Результат -67 + 98 = 0\n",
      "0\n"
     ]
    }
   ],
   "source": [
    "def add(num_first, num_second):\n",
    "    summa = 0\n",
    "    def test():\n",
    "        nonlocal summa\n",
    "        summa = num_first + num_second\n",
    "        for name in locals():\n",
    "            print(name)\n",
    "        print(f'Результат {num_first} + {num_second} = {summa}')\n",
    "    print(summa) #NameError не будет\n",
    "\n",
    "add(6, 7)\n",
    "add(-67, 98)\n"
   ]
  },
  {
   "cell_type": "code",
   "execution_count": 16,
   "metadata": {},
   "outputs": [
    {
     "name": "stdout",
     "output_type": "stream",
     "text": [
      "25\n",
      "35707663896921\n"
     ]
    }
   ],
   "source": [
    "get_square = lambda x: x**2 # IDE linter и prettier не допустит сохранение в переменную\n",
    "\n",
    "print(get_square(5))\n",
    "print(get_square(5975589))"
   ]
  },
  {
   "cell_type": "code",
   "execution_count": 17,
   "metadata": {},
   "outputs": [
    {
     "data": {
      "text/plain": [
       "<function __main__.<lambda>(x)>"
      ]
     },
     "execution_count": 17,
     "metadata": {},
     "output_type": "execute_result"
    }
   ],
   "source": [
    "lambda x: x**2"
   ]
  },
  {
   "cell_type": "code",
   "execution_count": null,
   "metadata": {},
   "outputs": [],
   "source": [
    "# function  -> None\n",
    "\n",
    "# lambda x: pass\n",
    "lambda x: None"
   ]
  },
  {
   "cell_type": "code",
   "execution_count": 18,
   "metadata": {},
   "outputs": [
    {
     "name": "stdout",
     "output_type": "stream",
     "text": [
      "150\n"
     ]
    }
   ],
   "source": [
    "def add(a):\n",
    "    return lambda b: a+b\n",
    "\n",
    "# Присваиваем переменной лямбда функцию ( lambda b: 100+b )\n",
    "add_to_100 = add(100)\n",
    "\n",
    "# Через переменную обращаемся к лямбда функции ( lambda b: 100+b )\n",
    "# Параметр b = 50\n",
    "print(add_to_100(50))"
   ]
  },
  {
   "cell_type": "code",
   "execution_count": 19,
   "metadata": {},
   "outputs": [
    {
     "name": "stdout",
     "output_type": "stream",
     "text": [
      "[4, 2, 90, 100]\n"
     ]
    }
   ],
   "source": [
    "# Создаем список lst\n",
    "lst = [4, 67, 43, 2, 90, 11, 100, 7, 5]\n",
    "\n",
    "# Передаем функции filter() 2 параметра\n",
    "# Первый параметр: лямбда функция, которая возвращает True, если элемент списка четный\n",
    "# Второй параметр: сам список, который необходимо профильтровать\n",
    "filtered_lst = list(filter(lambda item: (item % 2 == 0), lst))\n",
    "print(filtered_lst)\n"
   ]
  },
  {
   "cell_type": "code",
   "execution_count": 20,
   "metadata": {},
   "outputs": [
    {
     "name": "stdout",
     "output_type": "stream",
     "text": [
      "[104, 167, 143, 102, 190, 111, 200, 107, 105]\n"
     ]
    }
   ],
   "source": [
    "lst = [4, 67, 43, 2, 90, 11, 100, 7, 5]\n",
    "\n",
    "# Вызываем функцию map() и передаем ей 2 параметра\n",
    "# Первый параметр: лямбда функция с одним параметром, к которому она прибавляет 100\n",
    "# Второй параметр: сам список, каждый элемент которого надо изменить в соответствии со значением лямбда функции\n",
    "mapped_lst = list(map(lambda item: item + 100, lst))\n",
    "print(mapped_lst)"
   ]
  },
  {
   "cell_type": "code",
   "execution_count": 21,
   "metadata": {},
   "outputs": [
    {
     "data": {
      "text/plain": [
       "206"
      ]
     },
     "execution_count": 21,
     "metadata": {},
     "output_type": "execute_result"
    }
   ],
   "source": [
    "# Импортируем метод reduce из стандартного модуля functools\n",
    "from functools import reduce\n",
    "\n",
    "# Создаем список lst\n",
    "lst = [4, 67, 43, 2, 90]\n",
    "\n",
    "# Вызываем функцию reduce() и передаем ей 2 параметра:\n",
    "# Первый параметр: лямбда функция, которая складывает два элемента\n",
    "# Второй параметр: список, элементы которого будут последовательно складываться\n",
    "reduce(lambda a,b: a+b, lst)"
   ]
  },
  {
   "attachments": {
    "image.png": {
     "image/png": "[encoded data removed]"
    }
   },
   "cell_type": "markdown",
   "metadata": {},
   "source": [
    "![image.png](attachment:image.png)"
   ]
  },
  {
   "cell_type": "code",
   "execution_count": 25,
   "metadata": {},
   "outputs": [
    {
     "name": "stdout",
     "output_type": "stream",
     "text": [
      "test\n"
     ]
    }
   ],
   "source": [
    "test = lambda: print('test')\n",
    "test()"
   ]
  },
  {
   "cell_type": "code",
   "execution_count": 27,
   "metadata": {},
   "outputs": [],
   "source": [
    "def calculate(x, y, operation='a'):\n",
    "    def addition():\n",
    "        print(x + y)\n",
    "\n",
    "    def subtraction():\n",
    "        print(x - y)\n",
    "\n",
    "    def division():\n",
    "        if y == 0:\n",
    "            print(\"На ноль делить нельзя!\")\n",
    "        else:\n",
    "            print(x / y)\n",
    "\n",
    "    def multiplication():\n",
    "        print(x * y)\n",
    "\n",
    "    if operation == 'a':\n",
    "        addition()\n",
    "    elif operation == 's':\n",
    "        subtraction()\n",
    "    elif operation == 'd':\n",
    "        division()\n",
    "    elif operation == 'm':\n",
    "        multiplication()\n",
    "    else:\n",
    "        print(\"Ошибка. Данной операции не существует.\")"
   ]
  },
  {
   "cell_type": "code",
   "execution_count": 28,
   "metadata": {},
   "outputs": [
    {
     "name": "stdout",
     "output_type": "stream",
     "text": [
      "7\n",
      "17.2\n",
      "7\n",
      "6.4\n",
      "25.0\n",
      "На ноль делить нельзя!\n",
      "Ошибка. Данной операции не существует.\n"
     ]
    }
   ],
   "source": [
    "calculate(2, 5)          # Печатает 7\n",
    "calculate(2.2, 15, 'a')  # Печатает 17.2\n",
    "calculate(22, 15, 's')   # Печатает 7\n",
    "calculate(2, 3.2, 'm')   # Печатает 6.4\n",
    "calculate(10, 0.4, 'd')  # Печатает 25.0\n",
    "calculate(10, 0, 'd')    # Печатает \"На ноль делить нельзя!\"\n",
    "calculate(10, 4, 'w')    # Печатает \"Ошибка. Данной операции не существует.\""
   ]
  },
  {
   "cell_type": "code",
   "execution_count": 30,
   "metadata": {},
   "outputs": [],
   "source": [
    "def calculate_dict(x, y, operation='a'):\n",
    "    def addition():\n",
    "        print(x + y)\n",
    "\n",
    "    def subtraction():\n",
    "        print(x - y)\n",
    "\n",
    "    def division():\n",
    "        if y == 0:\n",
    "            print(\"На ноль делить нельзя!\")\n",
    "        else:\n",
    "            print(x / y)\n",
    "\n",
    "    def multiplication():\n",
    "        print(x * y)\n",
    "\n",
    "    # Словарь, связывающий операции с функциями\n",
    "    operations = {\n",
    "        'a': addition,\n",
    "        's': subtraction,\n",
    "        'd': division,\n",
    "        'm': multiplication\n",
    "    } # старый switch case\n",
    "    \n",
    "    # Выбор и вызов соответствующей функции\n",
    "    if operation in operations:\n",
    "        operations[operation]()  # Вызов функции\n",
    "    else:\n",
    "        print(\"Ошибка. Данной операции не существует.\")"
   ]
  },
  {
   "cell_type": "code",
   "execution_count": 31,
   "metadata": {},
   "outputs": [
    {
     "name": "stdout",
     "output_type": "stream",
     "text": [
      "7\n",
      "17.2\n",
      "7\n",
      "6.4\n",
      "25.0\n",
      "На ноль делить нельзя!\n",
      "Ошибка. Данной операции не существует.\n"
     ]
    }
   ],
   "source": [
    "calculate_dict(2, 5)          # Печатает 7\n",
    "calculate_dict(2.2, 15, 'a')  # Печатает 17.2\n",
    "calculate_dict(22, 15, 's')   # Печатает 7\n",
    "calculate_dict(2, 3.2, 'm')   # Печатает 6.4\n",
    "calculate_dict(10, 0.4, 'd')  # Печатает 25.0\n",
    "calculate_dict(10, 0, 'd')    # Печатает \"На ноль делить нельзя!\"\n",
    "calculate_dict(10, 4, 'w')    # Печатает \"Ошибка. Данной операции не существует.\""
   ]
  }
 ],
 "metadata": {
  "kernelspec": {
   "display_name": "env1",
   "language": "python",
   "name": "python3"
  },
  "language_info": {
   "codemirror_mode": {
    "name": "ipython",
    "version": 3
   },
   "file_extension": ".py",
   "mimetype": "text/x-python",
   "name": "python",
   "nbconvert_exporter": "python",
   "pygments_lexer": "ipython3",
   "version": "3.12.3"
  }
 },
 "nbformat": 4,
 "nbformat_minor": 4
}
