{
 "cells": [
  {
   "cell_type": "markdown",
   "metadata": {},
   "source": [
    "# 1. Классы и экземпляры"
   ]
  },
  {
   "cell_type": "markdown",
   "metadata": {},
   "source": [
    "## 1.1 Введение в ООП\n",
    "\n",
    "- Развитие методологии “структурное программирование”\n",
    "- Задача программиста - описание свойств, определяющих поведение объектов и моделирование взаимодействия между объектами\n",
    "- Близко к естественному восприятию реального мира человеком, что упрощает задачу построения архитектуры"
   ]
  },
  {
   "cell_type": "markdown",
   "metadata": {},
   "source": [
    "### 1.1.1 Ценность ООП для разработчика"
   ]
  },
  {
   "cell_type": "markdown",
   "metadata": {},
   "source": [
    " - Повышение читабельности кода\n",
    " - Способ организации кода\n",
    " - Выделение значимых и незначимых (с точки зрения поставленной проблемы) свойств объектов, возможность скрыть незначимые от внешнего контрагента\n",
    " - Повторное использование кода\n",
    " - Лучшие возможности для совместной разработки\n",
    " - Удобное покрытие тестами "
   ]
  },
  {
   "cell_type": "markdown",
   "metadata": {},
   "source": [
    "### 1.1.2 Принципы ООП"
   ]
  },
  {
   "cell_type": "markdown",
   "metadata": {},
   "source": [
    "- Инкапсуляция\n",
    "- Наследование\n",
    "- Полиморфизм"
   ]
  },
  {
   "cell_type": "markdown",
   "metadata": {},
   "source": [
    "### 1.1.3 Признаки плохого ООП кода\n",
    "\n",
    "- Низкая гибкость системы\n",
    "- Избыточные зависимости между компонентами\n",
    "- Избыточная (ненужная) функциональность\n",
    "- Невозможность повторного использования компонентов"
   ]
  },
  {
   "cell_type": "markdown",
   "metadata": {},
   "source": [
    "\n",
    "### 1.1.4 Объявление класса"
   ]
  },
  {
   "cell_type": "code",
   "execution_count": 1,
   "metadata": {},
   "outputs": [],
   "source": [
    "class Car:\n",
    "    \"\"\" Common car object\n",
    "    \"\"\"\n"
   ]
  },
  {
   "cell_type": "code",
   "execution_count": 2,
   "metadata": {},
   "outputs": [],
   "source": [
    "class House:\n",
    "    pass"
   ]
  },
  {
   "cell_type": "code",
   "execution_count": 3,
   "metadata": {},
   "outputs": [
    {
     "name": "stdout",
     "output_type": "stream",
     "text": [
      "Help on class Car in module __main__:\n",
      "\n",
      "class Car(builtins.object)\n",
      " |  Common car object\n",
      " |\n",
      " |  Data descriptors defined here:\n",
      " |\n",
      " |  __dict__\n",
      " |      dictionary for instance variables\n",
      " |\n",
      " |  __weakref__\n",
      " |      list of weak references to the object\n",
      "\n"
     ]
    }
   ],
   "source": [
    "help(Car)"
   ]
  },
  {
   "cell_type": "markdown",
   "metadata": {},
   "source": [
    "или"
   ]
  },
  {
   "cell_type": "code",
   "execution_count": 4,
   "metadata": {
    "scrolled": true
   },
   "outputs": [],
   "source": [
    "class Car(object):\n",
    "    pass\n"
   ]
  },
  {
   "cell_type": "code",
   "execution_count": 5,
   "metadata": {},
   "outputs": [
    {
     "name": "stdout",
     "output_type": "stream",
     "text": [
      "Help on class Car in module __main__:\n",
      "\n",
      "class Car(builtins.object)\n",
      " |  Data descriptors defined here:\n",
      " |\n",
      " |  __dict__\n",
      " |      dictionary for instance variables\n",
      " |\n",
      " |  __weakref__\n",
      " |      list of weak references to the object\n",
      "\n"
     ]
    }
   ],
   "source": [
    "help(Car)"
   ]
  },
  {
   "cell_type": "markdown",
   "metadata": {},
   "source": [
    "### 1.1.5 Аттрибуты класса"
   ]
  },
  {
   "cell_type": "code",
   "execution_count": 6,
   "metadata": {},
   "outputs": [],
   "source": [
    "class Car:\n",
    "    model = \"Abstract model\"\n",
    "    \n",
    "    def number_of_wheels(self):\n",
    "        return 4"
   ]
  },
  {
   "cell_type": "code",
   "execution_count": 7,
   "metadata": {},
   "outputs": [
    {
     "name": "stdout",
     "output_type": "stream",
     "text": [
      "Help on class Car in module __main__:\n",
      "\n",
      "class Car(builtins.object)\n",
      " |  Methods defined here:\n",
      " |\n",
      " |  number_of_wheels(self)\n",
      " |\n",
      " |  ----------------------------------------------------------------------\n",
      " |  Data descriptors defined here:\n",
      " |\n",
      " |  __dict__\n",
      " |      dictionary for instance variables\n",
      " |\n",
      " |  __weakref__\n",
      " |      list of weak references to the object\n",
      " |\n",
      " |  ----------------------------------------------------------------------\n",
      " |  Data and other attributes defined here:\n",
      " |\n",
      " |  model = 'Abstract model'\n",
      "\n"
     ]
    }
   ],
   "source": [
    "help(Car)"
   ]
  },
  {
   "cell_type": "markdown",
   "metadata": {},
   "source": [
    "### 1.1.6 Инкапсуляция в Python\n",
    "\n",
    "- Инкапсуляция - это упаковка данных и методов для их обработки в единый компонент\n",
    "- Строгой изоляции нет, но есть соглашения."
   ]
  },
  {
   "cell_type": "code",
   "execution_count": 8,
   "metadata": {},
   "outputs": [],
   "source": [
    "class Car:\n",
    "    num_wheels = 4\n",
    "    \n",
    "    def number_of_wheels(self):\n",
    "        return self.num_wheels"
   ]
  },
  {
   "cell_type": "markdown",
   "metadata": {},
   "source": [
    "'Служебный' аттрибут"
   ]
  },
  {
   "cell_type": "code",
   "execution_count": 10,
   "metadata": {},
   "outputs": [
    {
     "name": "stdout",
     "output_type": "stream",
     "text": [
      "Это служебный метод!\n"
     ]
    }
   ],
   "source": [
    "class A:\n",
    "    def _private(self):\n",
    "        print(\"Это служебный метод!\")\n",
    "\n",
    "a = A()\n",
    "a._private()"
   ]
  },
  {
   "cell_type": "markdown",
   "metadata": {},
   "source": [
    "Скрытый аттрибут"
   ]
  },
  {
   "cell_type": "code",
   "execution_count": null,
   "metadata": {},
   "outputs": [
    {
     "ename": "AttributeError",
     "evalue": "'A' object has no attribute '__private'",
     "output_type": "error",
     "traceback": [
      "\u001b[31m---------------------------------------------------------------------------\u001b[39m",
      "\u001b[31mAttributeError\u001b[39m                            Traceback (most recent call last)",
      "\u001b[36mCell\u001b[39m\u001b[36m \u001b[39m\u001b[32mIn[11]\u001b[39m\u001b[32m, line 6\u001b[39m\n\u001b[32m      3\u001b[39m         \u001b[38;5;28mprint\u001b[39m(\u001b[33m\"\u001b[39m\u001b[33mЭто служебный метод!\u001b[39m\u001b[33m\"\u001b[39m)\n\u001b[32m      5\u001b[39m a = A()\n\u001b[32m----> \u001b[39m\u001b[32m6\u001b[39m \u001b[43ma\u001b[49m\u001b[43m.\u001b[49m\u001b[43m__private\u001b[49m()\n",
      "\u001b[31mAttributeError\u001b[39m: 'A' object has no attribute '__private'"
     ]
    }
   ],
   "source": [
    "# Когда в классе имя атрибута или метода начинается с двух подчёркиваний, интерпретатор Python автоматически переименовывает его, добавляя к имени префикс _ИмяКласса\n",
    "class A:\n",
    "    def __private(self):\n",
    "        print(\"Это служебный метод!\")\n",
    "\n",
    "a = A()\n",
    "a.__private()"
   ]
  },
  {
   "cell_type": "code",
   "execution_count": 12,
   "metadata": {},
   "outputs": [
    {
     "name": "stdout",
     "output_type": "stream",
     "text": [
      "['_A__private', '__class__', '__delattr__', '__dict__', '__dir__', '__doc__', '__eq__', '__format__', '__ge__', '__getattribute__', '__getstate__', '__gt__', '__hash__', '__init__', '__init_subclass__', '__le__', '__lt__', '__module__', '__ne__', '__new__', '__reduce__', '__reduce_ex__', '__repr__', '__setattr__', '__sizeof__', '__str__', '__subclasshook__', '__weakref__']\n",
      "Это служебный метод!\n"
     ]
    }
   ],
   "source": [
    "print(dir(a))\n",
    "a._A__private()"
   ]
  },
  {
   "cell_type": "markdown",
   "metadata": {},
   "source": [
    "Name mangling (искажение имен):\n",
    "\n",
    "```\n",
    "Since there is a valid use-case for class-private members (namely to avoid name clashes of names with names defined by subclasses), there is limited support for such a mechanism, called name mangling. Any identifier of the form __spam (at least two leading underscores, at most one trailing underscore) is textually replaced with _classname__spam, where classname is the current class name with leading underscore(s) stripped. This mangling is done without regard to the syntactic position of the identifier, as long as it occurs within the definition of a class.\n",
    "```"
   ]
  },
  {
   "cell_type": "markdown",
   "metadata": {},
   "source": [
    "Опасности при использовании скрытых аттрибутов:"
   ]
  },
  {
   "cell_type": "code",
   "execution_count": 13,
   "metadata": {},
   "outputs": [
    {
     "name": "stdout",
     "output_type": "stream",
     "text": [
      "1\n"
     ]
    }
   ],
   "source": [
    "class BaseClass(object):\n",
    "    def __init__(self):\n",
    "        self.func = self.__method\n",
    "\n",
    "    def __method(self):\n",
    "        print(1)\n",
    "\n",
    "    def execute(self):\n",
    "        self.func()\n",
    "\n",
    "\n",
    "class AdvancedClass(BaseClass):\n",
    "    def __method(self):\n",
    "        print(2)\n",
    "\n",
    "o = AdvancedClass()\n",
    "o.execute()"
   ]
  },
  {
   "cell_type": "code",
   "execution_count": 14,
   "metadata": {},
   "outputs": [
    {
     "name": "stdout",
     "output_type": "stream",
     "text": [
      "<function BaseClass.__init__ at 0x7f6649b2d120>\n",
      "<function BaseClass.__init__ at 0x7f6649b2d120>\n",
      "o.func references to: <bound method BaseClass.__method of <__main__.AdvancedClass object at 0x7f6658135190>>\n"
     ]
    }
   ],
   "source": [
    "print(o.__class__.__bases__[0].__dict__['__init__'])\n",
    "print(o.__class__.__init__)\n",
    "print(\"o.func references to:\", o.func)"
   ]
  },
  {
   "cell_type": "markdown",
   "metadata": {},
   "source": [
    "## 1.2 Иерархия классов и объектов"
   ]
  },
  {
   "cell_type": "code",
   "execution_count": null,
   "metadata": {},
   "outputs": [],
   "source": [
    "type(1), isinstance(int, object)"
   ]
  },
  {
   "cell_type": "markdown",
   "metadata": {},
   "source": [
    "PyObject\n",
    "\n",
    "```\n",
    "All object types are extensions of this type. This is a type which contains the information Python needs to treat a pointer to an object as an object. In a normal “release” build, it contains only the object’s reference count and a pointer to the corresponding type object. It corresponds to the fields defined by the expansion of the PyObject_HEAD macro.\n",
    "```"
   ]
  },
  {
   "cell_type": "raw",
   "metadata": {},
   "source": [
    "typedef struct {\n",
    "    PyObject_HEAD\n",
    "    long ob_ival;\n",
    "} PyIntObject;"
   ]
  },
  {
   "cell_type": "markdown",
   "metadata": {},
   "source": [
    "## 1.3 Экземпляры класса"
   ]
  },
  {
   "cell_type": "markdown",
   "metadata": {},
   "source": [
    "### 1.3.1 Создание экземпляра класса"
   ]
  },
  {
   "cell_type": "code",
   "execution_count": 17,
   "metadata": {},
   "outputs": [],
   "source": [
    "class Dog:\n",
    "    name = \"Class-wide\"\n",
    "    \n",
    "    def say(self):\n",
    "        print(\"{0} says: Bow-wow!\".format(self.name))\n",
    "\n",
    "one_dog = Dog()"
   ]
  },
  {
   "cell_type": "markdown",
   "metadata": {},
   "source": [
    "### 1.3.2 Доступ к атрибутам класса и атрибутам экземпляра класса"
   ]
  },
  {
   "cell_type": "code",
   "execution_count": 18,
   "metadata": {},
   "outputs": [
    {
     "name": "stdout",
     "output_type": "stream",
     "text": [
      "Bob says: Bow-wow!\n",
      "One dog name is: Bob and another dog name is: Jack\n"
     ]
    }
   ],
   "source": [
    "one_dog.name = 'Bob'\n",
    "one_dog.say()\n",
    "\n",
    "another_dog = Dog()\n",
    "another_dog.name = 'Jack'\n",
    "\n",
    "print(\"One dog name is: {0} and another dog name is: {1}\".format(one_dog.name, another_dog.name))"
   ]
  },
  {
   "cell_type": "code",
   "execution_count": 19,
   "metadata": {},
   "outputs": [
    {
     "name": "stdout",
     "output_type": "stream",
     "text": [
      "hasattr result: True\n",
      "getattr result: Bob\n",
      "delattr result: None\n"
     ]
    }
   ],
   "source": [
    "print(\"hasattr result: {0}\".format(hasattr(one_dog, 'name')))\n",
    "print(\"getattr result: {0}\".format(getattr(one_dog, 'name')))\n",
    "print(\"delattr result: {0}\".format(delattr(one_dog, 'name')))"
   ]
  },
  {
   "cell_type": "markdown",
   "metadata": {},
   "source": [
    "Прямой доступ к аттрибутам возможен через служебный метод __dict__"
   ]
  },
  {
   "cell_type": "code",
   "execution_count": 20,
   "metadata": {},
   "outputs": [
    {
     "name": "stdout",
     "output_type": "stream",
     "text": [
      "Help on Dog in module __main__ object:\n",
      "\n",
      "class Dog(builtins.object)\n",
      " |  Methods defined here:\n",
      " |\n",
      " |  say(self)\n",
      " |\n",
      " |  ----------------------------------------------------------------------\n",
      " |  Data descriptors defined here:\n",
      " |\n",
      " |  __dict__\n",
      " |      dictionary for instance variables\n",
      " |\n",
      " |  __weakref__\n",
      " |      list of weak references to the object\n",
      " |\n",
      " |  ----------------------------------------------------------------------\n",
      " |  Data and other attributes defined here:\n",
      " |\n",
      " |  name = 'Class-wide'\n",
      "\n"
     ]
    }
   ],
   "source": [
    "help(one_dog)"
   ]
  },
  {
   "cell_type": "markdown",
   "metadata": {},
   "source": [
    "### 1.3.3 Секретный атрибут __dict__"
   ]
  },
  {
   "cell_type": "code",
   "execution_count": 21,
   "metadata": {},
   "outputs": [
    {
     "name": "stdout",
     "output_type": "stream",
     "text": [
      "{}\n",
      "{'__module__': '__main__', 'name': 'Class-wide', 'say': <function Dog.say at 0x7f6649b2e200>, '__dict__': <attribute '__dict__' of 'Dog' objects>, '__weakref__': <attribute '__weakref__' of 'Dog' objects>, '__doc__': None}\n"
     ]
    }
   ],
   "source": [
    "print(one_dog.__dict__)\n",
    "print(one_dog.__class__.__dict__)"
   ]
  },
  {
   "cell_type": "code",
   "execution_count": 22,
   "metadata": {},
   "outputs": [
    {
     "name": "stdout",
     "output_type": "stream",
     "text": [
      "One dog pseudoname: Pseudobob\n",
      "One dog fn: 123\n"
     ]
    }
   ],
   "source": [
    "one_dog.__dict__['pseudoname'] = 'Pseudobob'\n",
    "one_dog.__dict__['fn'] = lambda *args: 123\n",
    "print(\"One dog pseudoname: {0}\".format(one_dog.pseudoname))\n",
    "print(\"One dog fn: {0}\".format(one_dog.fn()))"
   ]
  },
  {
   "cell_type": "markdown",
   "metadata": {},
   "source": [
    "### 1.3.4 Кастомизация класса"
   ]
  },
  {
   "cell_type": "markdown",
   "metadata": {},
   "source": [
    "https://docs.python.org/3/reference/datamodel.html#basic-customization"
   ]
  },
  {
   "cell_type": "code",
   "execution_count": 23,
   "metadata": {},
   "outputs": [],
   "source": [
    "class Dog:\n",
    "    def __new__(cls, *args, **kwargs): # <- allocator\n",
    "        print(args, kwargs)\n",
    "        instance = super().__new__(cls)\n",
    "        return instance\n",
    "    \n",
    "    def __init__(self, name):          # <- initializator\n",
    "        self.name = name\n",
    "        \n",
    "    def __del__(self):\n",
    "        print(\"{0} says: good-bye!\".format(self.name))\n",
    "    \n",
    "    def say(self):\n",
    "        print(\"Bow-wow!\")"
   ]
  },
  {
   "cell_type": "code",
   "execution_count": 24,
   "metadata": {},
   "outputs": [
    {
     "name": "stdout",
     "output_type": "stream",
     "text": [
      "('somedog',) {}\n"
     ]
    },
    {
     "data": {
      "text/plain": [
       "'somedog'"
      ]
     },
     "execution_count": 24,
     "metadata": {},
     "output_type": "execute_result"
    }
   ],
   "source": [
    "d = Dog('somedog')\n",
    "d.name"
   ]
  },
  {
   "cell_type": "markdown",
   "metadata": {},
   "source": [
    "### 1.3.5 Деструктор класса"
   ]
  },
  {
   "cell_type": "code",
   "execution_count": 25,
   "metadata": {},
   "outputs": [
    {
     "name": "stdout",
     "output_type": "stream",
     "text": [
      "somedog says: good-bye!\n"
     ]
    }
   ],
   "source": [
    "del d"
   ]
  },
  {
   "cell_type": "markdown",
   "metadata": {},
   "source": [
    "# 2. Методы"
   ]
  },
  {
   "cell_type": "markdown",
   "metadata": {},
   "source": [
    "Методы класса - это процедуры, выполняющиеся в контексте класса или экземпляра класса"
   ]
  },
  {
   "cell_type": "markdown",
   "metadata": {},
   "source": [
    "## 2.1 Доступ к аттрибутам класса или экземпляра класса"
   ]
  },
  {
   "cell_type": "code",
   "execution_count": null,
   "metadata": {},
   "outputs": [],
   "source": [
    "class Dog:    \n",
    "    def __init__(self, name):          # <- initializator\n",
    "        self.name = name\n",
    "    \n",
    "    def say(self):\n",
    "        print(\"{0} says: Bow-wow!\".format(self.name))\n",
    "\n",
    "dog = Dog(\"Bob\")\n",
    "dog.say()"
   ]
  },
  {
   "cell_type": "markdown",
   "metadata": {},
   "source": [
    "## 2.2 Доступ к приватным аттрибутам"
   ]
  },
  {
   "cell_type": "code",
   "execution_count": null,
   "metadata": {},
   "outputs": [],
   "source": [
    "class Dog:    \n",
    "    def __init__(self):          # <- initializator\n",
    "        self.__name = \"nameless\"\n",
    "    \n",
    "    def set_name(self, name):\n",
    "        self.__name = name\n",
    "        \n",
    "    def _say(this, word):\n",
    "        print(\"{0} says: {1}\".format(this.__name, word))\n",
    "    \n",
    "    def say_bow(self):\n",
    "        self._say(\"Bow!\")\n",
    "        \n",
    "    def say_wow(self):\n",
    "        self._say(\"Wow!\")\n",
    "\n",
    "dog2 = Dog()\n",
    "dog2.set_name('Bob')\n",
    "dog2.say_bow()\n",
    "dog2._say('Wow!')     # <- bad practice"
   ]
  },
  {
   "cell_type": "markdown",
   "metadata": {},
   "source": [
    "## 2.3 Первый аргумент - ссылка на экземпляр класса"
   ]
  },
  {
   "cell_type": "markdown",
   "metadata": {},
   "source": [
    "## 2.4 classmethod"
   ]
  },
  {
   "cell_type": "code",
   "execution_count": null,
   "metadata": {},
   "outputs": [],
   "source": [
    "from utils.decoders import UINT32, re_cidr\n",
    "\n",
    "class IPv4(UINT32):\n",
    "    @classmethod\n",
    "    def from_cidr(cls, value):\n",
    "        cidr = re_cidr.match(value)\n",
    "\n",
    "        if not cidr:\n",
    "            raise ValueError(\"Invalid CIDR string\")\n",
    "\n",
    "        return cls([int(cidr.group(group + 1)) for group in range(4)])\n",
    "\n",
    "    def __str__(self):\n",
    "        return '.'.join(['%d' % b for b in self._value[:]])\n",
    "\n",
    "    def __repr__(self):\n",
    "        return str(self)\n",
    "\n",
    "ip = IPv4.from_cidr(\"192.168.0.1\")\n",
    "#ip = IPv4(3232235521)\n",
    "#ip = IPv4([192, 168, 0, 1])\n",
    "print(int(ip), str(ip))"
   ]
  },
  {
   "cell_type": "markdown",
   "metadata": {},
   "source": [
    "## 2.5 staticmethod"
   ]
  },
  {
   "cell_type": "code",
   "execution_count": null,
   "metadata": {},
   "outputs": [],
   "source": [
    "class MyClass(object):\n",
    "    @staticmethod\n",
    "    def the_static_method(x):\n",
    "        print(x)\n",
    "\n",
    "MyClass.the_static_method(2)"
   ]
  },
  {
   "cell_type": "markdown",
   "metadata": {},
   "source": [
    "## 2.6 property"
   ]
  },
  {
   "cell_type": "code",
   "execution_count": null,
   "metadata": {},
   "outputs": [],
   "source": [
    "class NumericList(object):\n",
    "\n",
    "    ...\n",
    "\n",
    "    @property\n",
    "    def packed(self):\n",
    "        return string_at(self._value, self._size)\n"
   ]
  },
  {
   "cell_type": "code",
   "execution_count": null,
   "metadata": {},
   "outputs": [],
   "source": [
    "class NumericList:\n",
    "    def __init__(self, value, size):\n",
    "        self.value = value\n",
    "        self.size = size\n",
    "\n",
    "    @property\n",
    "    def packed(self):\n",
    "        return self.value + self.size\n",
    "\n",
    "numlist = NumericList(2, 2)\n",
    "print(\"Packed value: {0}\".format(numlist.packed))"
   ]
  },
  {
   "cell_type": "code",
   "execution_count": null,
   "metadata": {},
   "outputs": [],
   "source": [
    "class C:\n",
    "    def __init__(self):\n",
    "        self._x = None\n",
    "\n",
    "    def getx(self):\n",
    "        return self._x\n",
    "\n",
    "    def setx(self, value):\n",
    "        self._x = value\n",
    "\n",
    "    def delx(self):\n",
    "        del self._x\n",
    "\n",
    "    x = property(getx, setx, delx, \"I'm the 'x' property.\")\n",
    "\n",
    "c = C()\n",
    "c.x = 5\n",
    "print(\"c.x={0}\".format(c.x))"
   ]
  },
  {
   "cell_type": "markdown",
   "metadata": {},
   "source": [
    "# 3. Наследование"
   ]
  },
  {
   "cell_type": "code",
   "execution_count": 28,
   "metadata": {},
   "outputs": [
    {
     "name": "stdout",
     "output_type": "stream",
     "text": [
      "<class '__main__.Dog'> says: Bow!\n"
     ]
    }
   ],
   "source": [
    "# create absctract animal\n",
    "class Animal(object):\n",
    "    def say(self):\n",
    "        raise NotImplementedError('subclasses must override say()!')\n",
    "        \n",
    "# create specific animal\n",
    "class Dog(Animal):\n",
    "    name = None\n",
    "    \n",
    "    def say(self):\n",
    "        print(\"{0} says: Bow!\".format(self.__class__))\n",
    "\n",
    "dog = Dog()\n",
    "dog.say()"
   ]
  },
  {
   "cell_type": "code",
   "execution_count": 29,
   "metadata": {},
   "outputs": [
    {
     "name": "stdout",
     "output_type": "stream",
     "text": [
      "Шарик\n",
      "<class '__main__.Dog'> says: Bow!\n"
     ]
    }
   ],
   "source": [
    "import abc\n",
    "\n",
    "# create absctract animal\n",
    "class Animal(object):\n",
    "    @abc.abstractmethod\n",
    "    def say(self):\n",
    "        # ошибка не перегрузки метода\n",
    "        raise NotImplementedError('subclasses must override say()!')\n",
    "        \n",
    "# create specific animal\n",
    "class Dog(Animal):\n",
    "    __name = None\n",
    "    \n",
    "    def __init__(self, name):\n",
    "        self.__name = name\n",
    "    \n",
    "    @property    \n",
    "    def name(self):\n",
    "        return self.__name\n",
    "    \n",
    "    @name.setter    \n",
    "    def name(self, value):\n",
    "        self.__name = value\n",
    "    \n",
    "    def say(self):\n",
    "        return \"{0} says: Bow!\".format(self.__class__) # полиморфизм\n",
    "\n",
    "dog = Dog(\"Шарик\")\n",
    "print(dog.name)\n",
    "print(dog.say())"
   ]
  },
  {
   "cell_type": "markdown",
   "metadata": {},
   "source": [
    "## 3.1 Абстрактный класс vs Интерфейс"
   ]
  },
  {
   "cell_type": "code",
   "execution_count": 45,
   "metadata": {},
   "outputs": [],
   "source": [
    "import abc\n",
    "\n",
    "class Animal(object):\n",
    "    # абстрактный класс, он не создается\n",
    "    # Шаблон для шаблонов\n",
    "    @abc.abstractmethod\n",
    "    def say(self):\n",
    "        raise NotImplementedError('subclasses must override say()!')\n"
   ]
  },
  {
   "cell_type": "code",
   "execution_count": 46,
   "metadata": {},
   "outputs": [
    {
     "ename": "NotImplementedError",
     "evalue": "subclasses must override say()!",
     "output_type": "error",
     "traceback": [
      "\u001b[1;31m---------------------------------------------------------------------------\u001b[0m",
      "\u001b[1;31mNotImplementedError\u001b[0m                       Traceback (most recent call last)",
      "Cell \u001b[1;32mIn[46], line 3\u001b[0m\n\u001b[0;32m      1\u001b[0m \u001b[38;5;66;03m# create absctract animal\u001b[39;00m\n\u001b[0;32m      2\u001b[0m abstract_animal \u001b[38;5;241m=\u001b[39m Animal()\n\u001b[1;32m----> 3\u001b[0m \u001b[43mabstract_animal\u001b[49m\u001b[38;5;241;43m.\u001b[39;49m\u001b[43msay\u001b[49m\u001b[43m(\u001b[49m\u001b[43m)\u001b[49m\n",
      "Cell \u001b[1;32mIn[45], line 7\u001b[0m, in \u001b[0;36mAnimal.say\u001b[1;34m(self)\u001b[0m\n\u001b[0;32m      5\u001b[0m \u001b[38;5;129m@abc\u001b[39m\u001b[38;5;241m.\u001b[39mabstractmethod\n\u001b[0;32m      6\u001b[0m \u001b[38;5;28;01mdef\u001b[39;00m \u001b[38;5;21msay\u001b[39m(\u001b[38;5;28mself\u001b[39m):\n\u001b[1;32m----> 7\u001b[0m     \u001b[38;5;28;01mraise\u001b[39;00m \u001b[38;5;167;01mNotImplementedError\u001b[39;00m(\u001b[38;5;124m'\u001b[39m\u001b[38;5;124msubclasses must override say()!\u001b[39m\u001b[38;5;124m'\u001b[39m)\n",
      "\u001b[1;31mNotImplementedError\u001b[0m: subclasses must override say()!"
     ]
    }
   ],
   "source": [
    "# create absctract animal\n",
    "abstract_animal = Animal()\n",
    "abstract_animal.say()"
   ]
  },
  {
   "cell_type": "code",
   "execution_count": 47,
   "metadata": {},
   "outputs": [
    {
     "name": "stdout",
     "output_type": "stream",
     "text": [
      "<class '__main__.Dog'> says: Bow!\n"
     ]
    }
   ],
   "source": [
    "# create specific animal\n",
    "class Dog(Animal):\n",
    "    name = None\n",
    "    \n",
    "    def say(self):\n",
    "        print(\"{0} says: Bow!\".format(self.__class__))\n",
    "\n",
    "dog = Dog()\n",
    "dog.say()"
   ]
  },
  {
   "cell_type": "code",
   "execution_count": 48,
   "metadata": {},
   "outputs": [],
   "source": [
    "# Альтернативный вариант: использование модуля <abc>\n",
    "import abc"
   ]
  },
  {
   "cell_type": "markdown",
   "metadata": {},
   "source": [
    "Миксины или Mixins — это форма множественного наследования в Python и мощный инструмент"
   ]
  },
  {
   "cell_type": "code",
   "execution_count": 50,
   "metadata": {},
   "outputs": [
    {
     "name": "stdout",
     "output_type": "stream",
     "text": [
      "Playing PlayableVideoFile as MP4 format.\n",
      "Playing PlayableAudioFile as MP3 format.\n"
     ]
    }
   ],
   "source": [
    "class PlayableMixin:\n",
    "    # Миксин аналог интерфейса\n",
    "    def play(self):\n",
    "        print(f\"Playing {self.__class__.__name__} as {self.format} format.\")\n",
    "\n",
    "class VideoFile:\n",
    "    format = \"MP4\"\n",
    "\n",
    "class AudioFile:\n",
    "    format = \"MP3\"\n",
    "\n",
    "class PlayableVideoFile(VideoFile, PlayableMixin):\n",
    "    pass\n",
    "\n",
    "class PlayableAudioFile(AudioFile, PlayableMixin):\n",
    "    pass\n",
    "\n",
    "video = PlayableVideoFile()\n",
    "video.play()  # Playing PlayableVideoFile as MP4 format.\n",
    "\n",
    "audio = PlayableAudioFile()\n",
    "audio.play()  # Playing PlayableAudioFile as MP3 format."
   ]
  },
  {
   "cell_type": "code",
   "execution_count": 53,
   "metadata": {},
   "outputs": [
    {
     "name": "stdout",
     "output_type": "stream",
     "text": [
      "[<class '__main__.MKDWithGround'>, <class '__main__.HouseBase'>, <class '__main__.GroundBase'>, <class '__main__.Base'>, <class 'object'>]\n"
     ]
    }
   ],
   "source": [
    "class Base:\n",
    "    pass\n",
    "\n",
    "class Window:\n",
    "    pass\n",
    "\n",
    "class HouseBase(Base):\n",
    "    def check(self):\n",
    "        print(f\"Метод из mixin {self.__class__}\")\n",
    "\n",
    "class GroundBase(Base):\n",
    "    def check(self):\n",
    "        print(f\"Метод из mixin {self.__class__}\")\n",
    "        \n",
    "class MKDWithGround(HouseBase, GroundBase):\n",
    "    pass\n",
    "\n",
    "print(MKDWithGround.mro()) # __mro__ проходит по дереву наследования до object"
   ]
  },
  {
   "cell_type": "code",
   "execution_count": 55,
   "metadata": {},
   "outputs": [
    {
     "data": {
      "text/plain": [
       "['__class__',\n",
       " '__delattr__',\n",
       " '__dict__',\n",
       " '__dir__',\n",
       " '__doc__',\n",
       " '__eq__',\n",
       " '__format__',\n",
       " '__ge__',\n",
       " '__getattribute__',\n",
       " '__getstate__',\n",
       " '__gt__',\n",
       " '__hash__',\n",
       " '__init__',\n",
       " '__init_subclass__',\n",
       " '__le__',\n",
       " '__lt__',\n",
       " '__module__',\n",
       " '__ne__',\n",
       " '__new__',\n",
       " '__reduce__',\n",
       " '__reduce_ex__',\n",
       " '__repr__',\n",
       " '__setattr__',\n",
       " '__sizeof__',\n",
       " '__str__',\n",
       " '__subclasshook__',\n",
       " '__weakref__',\n",
       " 'check']"
      ]
     },
     "execution_count": 55,
     "metadata": {},
     "output_type": "execute_result"
    }
   ],
   "source": [
    "dir(MKDWithGround)"
   ]
  },
  {
   "cell_type": "code",
   "execution_count": 54,
   "metadata": {},
   "outputs": [
    {
     "name": "stdout",
     "output_type": "stream",
     "text": [
      "[<class '__main__.MKDAnother'>, <class '__main__.Base'>, <class '__main__.Window'>, <class 'object'>]\n"
     ]
    }
   ],
   "source": [
    "class MKDAnother(Base, Window):\n",
    "    pass\n",
    "\n",
    "print(MKDAnother.mro())"
   ]
  },
  {
   "cell_type": "markdown",
   "metadata": {},
   "source": [
    "## 3.2 Множественное наследование"
   ]
  },
  {
   "cell_type": "code",
   "execution_count": null,
   "metadata": {},
   "outputs": [],
   "source": [
    "# class DES_3200_28(IDlinkSwitch, IL2SwitchMixin, QBridgeMIBMixin, \n",
    "#                   DlinkL2MgmtMixin, LLDPMixin, DDMMixin, CableDiagMixin, \n",
    "#                   AgentGeneralMixin, IpAddrMixin):\n",
    "#     product = 'DES-3200-28'\n",
    "#     portnum = 28"
   ]
  },
  {
   "cell_type": "markdown",
   "metadata": {},
   "source": [
    "Mixin - полный аналог множественного наследования, но обычно примеси не применяются в качестве самостоятельных объектов"
   ]
  },
  {
   "cell_type": "markdown",
   "metadata": {},
   "source": [
    "## 3.3 MRO"
   ]
  },
  {
   "cell_type": "code",
   "execution_count": null,
   "metadata": {},
   "outputs": [],
   "source": [
    "class X(object): pass\n",
    "class Y(object): pass\n",
    "class A(X, Y): pass\n",
    "class B(Y, X): pass\n",
    "\n",
    "class C(A, B): pass"
   ]
  },
  {
   "cell_type": "markdown",
   "metadata": {},
   "source": [
    "Финальный список формируется так: сначала добавляется данный класс, потом рассматривается первый класс из линеаризации первого родителя, если он не встречается в других списках, то добавляется в финальный и так далее. Если участвует, то переходим к рассмотрению следующего родителя. "
   ]
  },
  {
   "cell_type": "markdown",
   "metadata": {},
   "source": [
    "## 3.4 Композиция"
   ]
  },
  {
   "attachments": {
    "image.png": {
     "image/png": "[encoded data removed]"
    }
   },
   "cell_type": "markdown",
   "metadata": {},
   "source": [
    "![image.png](attachment:image.png)"
   ]
  },
  {
   "cell_type": "markdown",
   "metadata": {},
   "source": [
    "Композиция — это концепция, которая моделирует отношения. Она позволяет создавать сложные типы, комбинируя объекты других типов. "
   ]
  },
  {
   "cell_type": "code",
   "execution_count": 65,
   "metadata": {},
   "outputs": [],
   "source": [
    "class Door:\n",
    "    colour = 'brown'\n",
    "\n",
    "    def __init__(self, number, status):\n",
    "        self.number = number\n",
    "        self.status = status\n",
    "\n",
    "    @classmethod\n",
    "    def knock(cls):\n",
    "        print(\"Knock!\")\n",
    "\n",
    "    @classmethod\n",
    "    def paint(cls, colour):\n",
    "        cls.colour = colour\n",
    "\n",
    "    @staticmethod\n",
    "    def open(self):\n",
    "        self.status = 'open'\n",
    "\n",
    "    def close(self):\n",
    "        self.status = 'closed'\n",
    "\n",
    "# 1. Inheritance\n",
    "class SecurityDoor(Door):\n",
    "    colour = 'gray'\n",
    "    locked = True\n",
    "\n",
    "    def open(self):\n",
    "        if not self.locked:\n",
    "            self.status = 'open'"
   ]
  },
  {
   "cell_type": "code",
   "execution_count": 69,
   "metadata": {},
   "outputs": [
    {
     "name": "stdout",
     "output_type": "stream",
     "text": [
      "Inheritance SecurityDoor status: <closed>\n"
     ]
    }
   ],
   "source": [
    "door_inheritance = SecurityDoor(99, 'closed')\n",
    "door_inheritance.open()\n",
    "print(\"Inheritance SecurityDoor status: <%s>\" % door_inheritance.status)"
   ]
  },
  {
   "cell_type": "code",
   "execution_count": 70,
   "metadata": {},
   "outputs": [],
   "source": [
    "# 2. Inheritance (call parent method instead of derived class method)\n",
    "class SecurityDoor(Door):\n",
    "    colour = 'gray'\n",
    "    locked = True\n",
    "\n",
    "    def open(self):\n",
    "        if not self.locked:\n",
    "            super().open() # переопределение"
   ]
  },
  {
   "cell_type": "code",
   "execution_count": 71,
   "metadata": {},
   "outputs": [
    {
     "name": "stdout",
     "output_type": "stream",
     "text": [
      "Inheritance SecurityDoor status: <closed>\n"
     ]
    }
   ],
   "source": [
    "door_inheritance2 = SecurityDoor(99, 'closed')\n",
    "door_inheritance2.open()\n",
    "print(\"Inheritance SecurityDoor status: <%s>\" % door_inheritance2.status)"
   ]
  },
  {
   "cell_type": "code",
   "execution_count": 73,
   "metadata": {},
   "outputs": [],
   "source": [
    "# 3. Composition\n",
    "class SecurityDoor:\n",
    "    colour = 'gray'\n",
    "    locked = True\n",
    "    \n",
    "    # __SecurityDoor__colour\n",
    "    \n",
    "    def __init__(self, number, status):\n",
    "        self.door = Door(number, status) # класс внутри другого класса, классы как поля\n",
    "\n",
    "    def open(self):\n",
    "        if not self.locked:\n",
    "            self.door.open()\n",
    "    \n",
    "    @property\n",
    "    def status(self):\n",
    "        return self.door.status\n",
    "    \n",
    "    #def __getattr__(self, attr):\n",
    "    #    return getattr(self.door, attr)"
   ]
  },
  {
   "cell_type": "code",
   "execution_count": 74,
   "metadata": {},
   "outputs": [
    {
     "name": "stdout",
     "output_type": "stream",
     "text": [
      "Composition SecurityDoor status: <closed>\n"
     ]
    }
   ],
   "source": [
    "door_composition = SecurityDoor(99, 'closed')\n",
    "door_composition.open()\n",
    "print(\"Composition SecurityDoor status: <%s>\" % door_composition.status)"
   ]
  },
  {
   "cell_type": "markdown",
   "metadata": {},
   "source": [
    "# 4. Полиморфизм"
   ]
  },
  {
   "cell_type": "markdown",
   "metadata": {},
   "source": [
    "## 4.1 Полиморфизм"
   ]
  },
  {
   "cell_type": "code",
   "execution_count": null,
   "metadata": {},
   "outputs": [],
   "source": [
    "class IPNetworkv4(UINT32):\n",
    "\n",
    "    ...\n",
    "\n",
    "    def __contains__(self, ip):\n",
    "        return int(ip) & self.network_mask == self.network_addr\n"
   ]
  },
  {
   "cell_type": "code",
   "execution_count": 76,
   "metadata": {},
   "outputs": [],
   "source": [
    "class CarBase:\n",
    "    def __init__(self, color, consumption, reserve, mileage=0):\n",
    "        self.color = color # цвет\n",
    "        self.consumption = consumption #расход топлива\n",
    "        self.reserve = reserve # резерв топлива, равен топливу\n",
    "        self.mileage = mileage # пробег\n",
    "        self.engine_on = False # включение двигателя\n",
    "        \n",
    "    def start_engine(self):\n",
    "        if not self.engine_on and self.reserve > 0:\n",
    "            self.engine_on = True\n",
    "            return \"Двигатель запущен.\"\n",
    "        return \"Двигатель уже был запущен.\"\n",
    "\n",
    "    def stop_engine(self):\n",
    "        if self.engine_on:\n",
    "            self.engine_on = False\n",
    "            return \"Двигатель остановлен.\"\n",
    "        return \"Двигатель уже был остановлен.\"\n",
    "\n",
    "    def drive(self, distance):\n",
    "        if not self.engine_on:\n",
    "            return \"Двигатель не запущен.\"\n",
    "        if self.reserve / self.consumption * 100 < distance:\n",
    "            return \"Малый запас топлива.\"\n",
    "        self.mileage += distance\n",
    "        self.reserve -= distance / 100 * self.consumption\n",
    "        return f\"Проехали {distance} км. Остаток топлива: {self.reserve} л.\"\n",
    "    \n",
    "    def get_mileage(self):\n",
    "        return self.mileage\n",
    "\n",
    "    def get_reserve(self):\n",
    "        return self.reserve\n",
    "\n",
    "    def get_consumption(self):\n",
    "        return self.consumption"
   ]
  },
  {
   "cell_type": "code",
   "execution_count": 89,
   "metadata": {},
   "outputs": [],
   "source": [
    "class Car(CarBase):\n",
    "    def __init__(self, color, consumption, tank_volume, mileage=0):\n",
    "        super().__init__(color, consumption, tank_volume, mileage)\n",
    "        self.tank_volume = tank_volume # объем топливного бака\n",
    "\n",
    "    def refuel(self):\n",
    "        self.reserve = self.tank_volume"
   ]
  },
  {
   "cell_type": "code",
   "execution_count": 93,
   "metadata": {},
   "outputs": [],
   "source": [
    "class ElectricCar(CarBase):\n",
    "\n",
    "    def __init__(self, color, consumption, bat_capacity, mileage=0):\n",
    "        # инициализация, полиморфизм внутреннего метода, переопределение методов класса\n",
    "        super().__init__(color, consumption, bat_capacity, mileage) # отправили в родителя\n",
    "        self.bat_capacity = bat_capacity\n",
    "\n",
    "    def drive(self, distance):\n",
    "        if not self.engine_on:\n",
    "            return \"Двигатель не запущен.\"\n",
    "        if self.reserve / self.consumption * 100 < distance:\n",
    "            return \"Малый заряд батареи.\"\n",
    "        self.mileage += distance\n",
    "        self.reserve -= distance / 100 * self.consumption\n",
    "        return f\"Проехали {distance} км. Остаток заряда: {self.reserve} кВт*ч.\"\n",
    "    \n",
    "    def recharge(self):\n",
    "        self.reserve = self.bat_capacity\n",
    "\n",
    "\n",
    "def range_reserve(car):\n",
    "    return car.get_reserve() / car.get_consumption() * 100\n",
    "\n"
   ]
  },
  {
   "cell_type": "code",
   "execution_count": 91,
   "metadata": {},
   "outputs": [
    {
     "name": "stdout",
     "output_type": "stream",
     "text": [
      "Запас хода: 550.0 км.\n",
      "Запас хода: 600.0 км.\n"
     ]
    }
   ],
   "source": [
    "\n",
    "car_1 = Car(\"black\", 10, 55, 1000)\n",
    "car_2 = ElectricCar(\"white\", 15, 90, 1000)\n",
    "print(f\"Запас хода: {range_reserve(car_1)} км.\")\n",
    "print(f\"Запас хода: {range_reserve(car_2)} км.\")"
   ]
  },
  {
   "cell_type": "code",
   "execution_count": 118,
   "metadata": {},
   "outputs": [
    {
     "data": {
      "text/plain": [
       "{'color': 'white',\n",
       " 'consumption': 15,\n",
       " 'reserve': 90,\n",
       " 'mileage': 1000,\n",
       " 'engine_on': False,\n",
       " 'bat_capacity': 90}"
      ]
     },
     "execution_count": 118,
     "metadata": {},
     "output_type": "execute_result"
    }
   ],
   "source": [
    "car_2.__dict__"
   ]
  },
  {
   "cell_type": "code",
   "execution_count": 94,
   "metadata": {},
   "outputs": [
    {
     "name": "stdout",
     "output_type": "stream",
     "text": [
      "12\n",
      "20\n",
      "2\n"
     ]
    }
   ],
   "source": [
    "# Использование len()\n",
    "# полностью функциональный полиморфизм, функциональный полиморфизм\n",
    "# Sequence, MutableSequence, MutableMapping перегруженный метод __len__\n",
    "\n",
    "text = 'Data Science'\n",
    "print(len(text))\n",
    "\n",
    "numbers = [num for num in range(20)]\n",
    "print(len(numbers))\n",
    "\n",
    "data_dict = {'name': 'Alice', 'age': 20}\n",
    "print(len(data_dict))"
   ]
  },
  {
   "cell_type": "markdown",
   "metadata": {},
   "source": [
    "## 4.2 Множественная диспетчеризация (мультиметоды)"
   ]
  },
  {
   "cell_type": "markdown",
   "metadata": {},
   "source": [
    "Pythonic way от великого пожизненного диктатора (создатель языка Гвидо ван Россум)"
   ]
  },
  {
   "cell_type": "markdown",
   "metadata": {},
   "source": [
    "Множественная диспетчеризация - это техника программирования, которая позволяет выбирать различные реализации функций динамически на основе типов или свойств нескольких аргументов. "
   ]
  },
  {
   "cell_type": "code",
   "execution_count": 99,
   "metadata": {},
   "outputs": [
    {
     "name": "stdout",
     "output_type": "stream",
     "text": [
      "Two ints passed\n",
      "Two floats passed\n",
      "Two strings passed\n"
     ]
    }
   ],
   "source": [
    "#from mm import multimethod\n",
    "\n",
    "registry = {}\n",
    "\n",
    "class MultiMethod(object):\n",
    "    '''\n",
    "    Класс с различными реализациями метода\n",
    "    '''\n",
    "    def __init__(self, name):\n",
    "        self.name = name\n",
    "        self.typemap = {}\n",
    "    def __call__(self, *args):\n",
    "        # для использования объекта как функции\n",
    "        types = tuple(arg.__class__ for arg in args) # a generator expression!\n",
    "        function = self.typemap.get(types)\n",
    "        if function is None:\n",
    "            raise TypeError(\"no match\") # ошибка type error\n",
    "        return function(*args)\n",
    "    def register(self, types, function):\n",
    "        # регистрации новых комбинаций типов и соответствующих функций\n",
    "        if types in self.typemap:\n",
    "            raise TypeError(\"duplicate registration\")\n",
    "        self.typemap[types] = function\n",
    "\n",
    "def multimethod(*types):\n",
    "    # * - означает, что types - tuple\n",
    "    def register(function):\n",
    "        name = function.__name__\n",
    "        mm = registry.get(name)\n",
    "        if mm is None:\n",
    "            mm = registry[name] = MultiMethod(name)\n",
    "        mm.register(types, function)\n",
    "        return mm\n",
    "    return register\n",
    "\n",
    "# будущая лекция про декораторы, вариант полиморфизма как в других языках\n",
    "# декоратор вкладывает переменные в функцию\n",
    "\n",
    "@multimethod(int, int)\n",
    "def foo(a, b):\n",
    "    print(\"Two ints passed\")\n",
    "\n",
    "@multimethod(float, float)\n",
    "def foo(a, b):\n",
    "    print(\"Two floats passed\")\n",
    "\n",
    "@multimethod(str, str)\n",
    "def foo(a, b):\n",
    "    print(\"Two strings passed\")\n",
    "\n",
    "foo(1,1)\n",
    "foo(1.0,1.0)\n",
    "foo(\"1.0\",\"1.0\")\n",
    "# foo(1,\"1.0\") # TypeError"
   ]
  },
  {
   "cell_type": "markdown",
   "metadata": {},
   "source": [
    "# 5. Магические методы"
   ]
  },
  {
   "cell_type": "code",
   "execution_count": 100,
   "metadata": {},
   "outputs": [
    {
     "data": {
      "text/plain": [
       "'__abs__, __add__, __and__, __bool__, __ceil__, __class__, __delattr__, __dir__, __divmod__, __doc__, __eq__, __float__, __floor__, __floordiv__, __format__, __ge__, __getattribute__, __getnewargs__, __getstate__, __gt__, __hash__, __index__, __init__, __init_subclass__, __int__, __invert__, __le__, __lshift__, __lt__, __mod__, __mul__, __ne__, __neg__, __new__, __or__, __pos__, __pow__, __radd__, __rand__, __rdivmod__, __reduce__, __reduce_ex__, __repr__, __rfloordiv__, __rlshift__, __rmod__, __rmul__, __ror__, __round__, __rpow__, __rrshift__, __rshift__, __rsub__, __rtruediv__, __rxor__, __setattr__, __sizeof__, __str__, __sub__, __subclasshook__, __truediv__, __trunc__, __xor__, as_integer_ratio, bit_count, bit_length, conjugate, denominator, from_bytes, imag, is_integer, numerator, real, to_bytes'"
      ]
     },
     "execution_count": 100,
     "metadata": {},
     "output_type": "execute_result"
    }
   ],
   "source": [
    "', '.join((method for method in dir(1)))\n"
   ]
  },
  {
   "cell_type": "code",
   "execution_count": 101,
   "metadata": {},
   "outputs": [],
   "source": [
    "class BrokenInt(int):\n",
    "    def __add__(self, other):\n",
    "        return str(self) + str(other)"
   ]
  },
  {
   "cell_type": "code",
   "execution_count": 102,
   "metadata": {},
   "outputs": [
    {
     "name": "stdout",
     "output_type": "stream",
     "text": [
      "11\n"
     ]
    }
   ],
   "source": [
    "bi = BrokenInt(1)\n",
    "bi += 1\n",
    "print(bi)"
   ]
  },
  {
   "cell_type": "markdown",
   "metadata": {},
   "source": [
    "Магический метод ```__slots__```"
   ]
  },
  {
   "cell_type": "markdown",
   "metadata": {},
   "source": [
    "__slots__ - это специальный атрибут класса, который позволяет ограничить набор атрибутов, которые могут иметь объекты этого класса."
   ]
  },
  {
   "cell_type": "code",
   "execution_count": 38,
   "metadata": {},
   "outputs": [],
   "source": [
    "class Automobile:\n",
    "    __slots__ = ['_color', '_engine_volume'] # создать список полей класса\n",
    "    # экономия памяти, ускорение доступа к аттрибутам\n",
    "    \n",
    "    def __init__(self, color, engine_volume):\n",
    "        self._color = color\n",
    "        self._engine_volume = engine_volume\n",
    "        # self.consumption = 100\n",
    "    \n",
    "    @property \n",
    "    def name(self):\n",
    "        return self._name\n",
    "    \n",
    "    @name.setter \n",
    "    def name(self, value):\n",
    "        self._name = value\n"
   ]
  },
  {
   "cell_type": "code",
   "execution_count": 39,
   "metadata": {},
   "outputs": [
    {
     "name": "stdout",
     "output_type": "stream",
     "text": [
      "Зелёный\n"
     ]
    }
   ],
   "source": [
    "auto = Automobile(\"Зелёный\", 2000)\n",
    "\n",
    "print(auto._color)\n",
    "# auto.name = 'BMW'"
   ]
  },
  {
   "cell_type": "code",
   "execution_count": 149,
   "metadata": {},
   "outputs": [
    {
     "data": {
      "text/plain": [
       "['__class__',\n",
       " '__delattr__',\n",
       " '__dir__',\n",
       " '__doc__',\n",
       " '__eq__',\n",
       " '__format__',\n",
       " '__ge__',\n",
       " '__getattribute__',\n",
       " '__getstate__',\n",
       " '__gt__',\n",
       " '__hash__',\n",
       " '__init__',\n",
       " '__init_subclass__',\n",
       " '__le__',\n",
       " '__lt__',\n",
       " '__module__',\n",
       " '__ne__',\n",
       " '__new__',\n",
       " '__reduce__',\n",
       " '__reduce_ex__',\n",
       " '__repr__',\n",
       " '__setattr__',\n",
       " '__sizeof__',\n",
       " '__slots__',\n",
       " '__str__',\n",
       " '__subclasshook__',\n",
       " '_color',\n",
       " '_engine_volume',\n",
       " 'name']"
      ]
     },
     "execution_count": 149,
     "metadata": {},
     "output_type": "execute_result"
    }
   ],
   "source": [
    "dir(auto)"
   ]
  },
  {
   "cell_type": "code",
   "execution_count": 114,
   "metadata": {},
   "outputs": [
    {
     "name": "stdout",
     "output_type": "stream",
     "text": [
      "Зелёный\n"
     ]
    }
   ],
   "source": [
    "auto = Automobile(\"Зелёный\", 2000)\n",
    "\n",
    "print(auto._color)\n",
    "# auto.name = 'BMW'"
   ]
  },
  {
   "cell_type": "code",
   "execution_count": 116,
   "metadata": {},
   "outputs": [
    {
     "name": "stdout",
     "output_type": "stream",
     "text": [
      "['__class__', '__delattr__', '__dir__', '__doc__', '__eq__', '__format__', '__ge__', '__getattribute__', '__getstate__', '__gt__', '__hash__', '__init__', '__init_subclass__', '__le__', '__lt__', '__module__', '__ne__', '__new__', '__reduce__', '__reduce_ex__', '__repr__', '__setattr__', '__sizeof__', '__slots__', '__str__', '__subclasshook__', '_color', '_engine_volume', 'name']\n"
     ]
    }
   ],
   "source": [
    "print(dir(auto))"
   ]
  },
  {
   "cell_type": "code",
   "execution_count": 117,
   "metadata": {},
   "outputs": [
    {
     "data": {
      "text/plain": [
       "['_color', '_engine_volume']"
      ]
     },
     "execution_count": 117,
     "metadata": {},
     "output_type": "execute_result"
    }
   ],
   "source": [
    "auto.__slots__"
   ]
  },
  {
   "cell_type": "code",
   "execution_count": 119,
   "metadata": {},
   "outputs": [],
   "source": [
    "class MySecondClass:\n",
    "    __slots__ = ['a', 'b']\n",
    "    \n",
    "    def __init__(self):\n",
    "        self.d = 4"
   ]
  },
  {
   "cell_type": "code",
   "execution_count": 120,
   "metadata": {},
   "outputs": [
    {
     "ename": "AttributeError",
     "evalue": "'MySecondClass' object has no attribute 'd'",
     "output_type": "error",
     "traceback": [
      "\u001b[1;31m---------------------------------------------------------------------------\u001b[0m",
      "\u001b[1;31mAttributeError\u001b[0m                            Traceback (most recent call last)",
      "Cell \u001b[1;32mIn[120], line 1\u001b[0m\n\u001b[1;32m----> 1\u001b[0m msc \u001b[38;5;241m=\u001b[39m \u001b[43mMySecondClass\u001b[49m\u001b[43m(\u001b[49m\u001b[43m)\u001b[49m\n",
      "Cell \u001b[1;32mIn[119], line 5\u001b[0m, in \u001b[0;36mMySecondClass.__init__\u001b[1;34m(self)\u001b[0m\n\u001b[0;32m      4\u001b[0m \u001b[38;5;28;01mdef\u001b[39;00m \u001b[38;5;21m__init__\u001b[39m(\u001b[38;5;28mself\u001b[39m):\n\u001b[1;32m----> 5\u001b[0m     \u001b[38;5;28;43mself\u001b[39;49m\u001b[38;5;241;43m.\u001b[39;49m\u001b[43md\u001b[49m \u001b[38;5;241m=\u001b[39m \u001b[38;5;241m4\u001b[39m\n",
      "\u001b[1;31mAttributeError\u001b[0m: 'MySecondClass' object has no attribute 'd'"
     ]
    }
   ],
   "source": [
    "msc = MySecondClass()"
   ]
  },
  {
   "cell_type": "code",
   "execution_count": 151,
   "metadata": {},
   "outputs": [],
   "source": [
    "class ElectricCar(CarBase):\n",
    "\n",
    "    def __init__(self, color, consumption, bat_capacity, mileage=0):\n",
    "        # инициализация, полиморфизм внутреннего метода, переопределение методов класса\n",
    "        super().__init__(color, consumption, bat_capacity, mileage) # отправили в родителя\n",
    "        self.bat_capacity = bat_capacity\n",
    "\n",
    "    def drive(self, distance):\n",
    "        if not self.engine_on:\n",
    "            return \"Двигатель не запущен.\"\n",
    "        if self.reserve / self.consumption * 100 < distance:\n",
    "            return \"Малый заряд батареи.\"\n",
    "        self.mileage += distance\n",
    "        self.reserve -= distance / 100 * self.consumption\n",
    "        return f\"Проехали {distance} км. Остаток заряда: {self.reserve} кВт*ч.\"\n",
    "    \n",
    "    def recharge(self):\n",
    "        self.reserve = self.bat_capacity\n",
    "        \n",
    "    def __eq__(self, other):\n",
    "        # сравнение экземпляров\n",
    "        if isinstance(other, ElectricCar):\n",
    "            return (self.color == other.color and\n",
    "                    self.consumption == other.consumption and\n",
    "                    self.bat_capacity == other.bat_capacity and\n",
    "                    self.mileage == other.mileage)\n",
    "        return NotImplemented\n",
    "    \n",
    "    def __hash__(self):\n",
    "        return hash((self.color, self.consumption, self.bat_capacity, self.mileage))\n",
    "    \n",
    "    def __lt__(self, other):\n",
    "        # less than\n",
    "        if isinstance(other, ElectricCar):\n",
    "            return self.bat_capacity < other.bat_capacity\n",
    "        return NotImplemented\n",
    "\n",
    "    def __gt__(self, other):\n",
    "        # grater than\n",
    "        if isinstance(other, ElectricCar):\n",
    "            return self.bat_capacity > other.bat_capacity\n",
    "        return NotImplemented\n",
    "\n",
    "\n",
    "def range_reserve(car):\n",
    "    return car.get_reserve() / car.get_consumption() * 100"
   ]
  },
  {
   "cell_type": "code",
   "execution_count": null,
   "metadata": {},
   "outputs": [],
   "source": [
    "object"
   ]
  },
  {
   "cell_type": "code",
   "execution_count": null,
   "metadata": {},
   "outputs": [],
   "source": [
    "test = (1,)\n"
   ]
  },
  {
   "cell_type": "code",
   "execution_count": 143,
   "metadata": {},
   "outputs": [],
   "source": [
    "car_01 = ElectricCar(\"Красный\", 10, 50) \n",
    "car_02 = Car(\"Зеленый\", 12, 60) \n",
    "car_03 = ElectricCar(\"Синий\", 15, 75)\n",
    "car_04 = ElectricCar(\"Синий\", 15, 75)"
   ]
  },
  {
   "cell_type": "code",
   "execution_count": 144,
   "metadata": {},
   "outputs": [
    {
     "data": {
      "text/plain": [
       "False"
      ]
     },
     "execution_count": 144,
     "metadata": {},
     "output_type": "execute_result"
    }
   ],
   "source": [
    "car_01 == car_03"
   ]
  },
  {
   "cell_type": "code",
   "execution_count": 145,
   "metadata": {},
   "outputs": [
    {
     "data": {
      "text/plain": [
       "True"
      ]
     },
     "execution_count": 145,
     "metadata": {},
     "output_type": "execute_result"
    }
   ],
   "source": [
    "car_04 == car_03"
   ]
  },
  {
   "cell_type": "code",
   "execution_count": 153,
   "metadata": {},
   "outputs": [
    {
     "data": {
      "text/plain": [
       "False"
      ]
     },
     "execution_count": 153,
     "metadata": {},
     "output_type": "execute_result"
    }
   ],
   "source": [
    "car_04 is car_03 # указатели по памяти, __is__ dunder method"
   ]
  },
  {
   "cell_type": "code",
   "execution_count": 155,
   "metadata": {},
   "outputs": [
    {
     "data": {
      "text/plain": [
       "True"
      ]
     },
     "execution_count": 155,
     "metadata": {},
     "output_type": "execute_result"
    }
   ],
   "source": [
    "car_03 is car_03 # указатели по памяти"
   ]
  },
  {
   "cell_type": "code",
   "execution_count": 154,
   "metadata": {},
   "outputs": [
    {
     "data": {
      "text/plain": [
       "True"
      ]
     },
     "execution_count": 154,
     "metadata": {},
     "output_type": "execute_result"
    }
   ],
   "source": [
    "car_04 is not car_03 # указатели по памяти"
   ]
  },
  {
   "cell_type": "code",
   "execution_count": 146,
   "metadata": {},
   "outputs": [
    {
     "data": {
      "text/plain": [
       "False"
      ]
     },
     "execution_count": 146,
     "metadata": {},
     "output_type": "execute_result"
    }
   ],
   "source": [
    "car_04 < car_03 # less than"
   ]
  },
  {
   "cell_type": "code",
   "execution_count": 148,
   "metadata": {},
   "outputs": [
    {
     "ename": "TypeError",
     "evalue": "'<' not supported between instances of 'ElectricCar' and 'Car'",
     "output_type": "error",
     "traceback": [
      "\u001b[1;31m---------------------------------------------------------------------------\u001b[0m",
      "\u001b[1;31mTypeError\u001b[0m                                 Traceback (most recent call last)",
      "Cell \u001b[1;32mIn[148], line 1\u001b[0m\n\u001b[1;32m----> 1\u001b[0m \u001b[43mcar_04\u001b[49m\u001b[43m \u001b[49m\u001b[38;5;241;43m<\u001b[39;49m\u001b[43m \u001b[49m\u001b[43mcar_02\u001b[49m \u001b[38;5;66;03m# сравнение объектов двух типов\u001b[39;00m\n",
      "\u001b[1;31mTypeError\u001b[0m: '<' not supported between instances of 'ElectricCar' and 'Car'"
     ]
    }
   ],
   "source": [
    "car_04 < car_02 # сравнение объектов двух типов"
   ]
  },
  {
   "cell_type": "markdown",
   "metadata": {},
   "source": [
    "Сравнить машины"
   ]
  },
  {
   "cell_type": "code",
   "execution_count": 122,
   "metadata": {},
   "outputs": [
    {
     "data": {
      "text/plain": [
       "['__class__',\n",
       " '__delattr__',\n",
       " '__dict__',\n",
       " '__dir__',\n",
       " '__doc__',\n",
       " '__eq__',\n",
       " '__format__',\n",
       " '__ge__',\n",
       " '__getattribute__',\n",
       " '__getstate__',\n",
       " '__gt__',\n",
       " '__hash__',\n",
       " '__init__',\n",
       " '__init_subclass__',\n",
       " '__le__',\n",
       " '__lt__',\n",
       " '__module__',\n",
       " '__ne__',\n",
       " '__new__',\n",
       " '__reduce__',\n",
       " '__reduce_ex__',\n",
       " '__repr__',\n",
       " '__setattr__',\n",
       " '__sizeof__',\n",
       " '__str__',\n",
       " '__subclasshook__',\n",
       " '__weakref__',\n",
       " 'bat_capacity',\n",
       " 'color',\n",
       " 'consumption',\n",
       " 'drive',\n",
       " 'engine_on',\n",
       " 'get_consumption',\n",
       " 'get_mileage',\n",
       " 'get_reserve',\n",
       " 'mileage',\n",
       " 'recharge',\n",
       " 'reserve',\n",
       " 'start_engine',\n",
       " 'stop_engine']"
      ]
     },
     "execution_count": 122,
     "metadata": {},
     "output_type": "execute_result"
    }
   ],
   "source": [
    "dir(car_03)"
   ]
  },
  {
   "cell_type": "markdown",
   "metadata": {},
   "source": [
    "# Пример задания"
   ]
  },
  {
   "cell_type": "markdown",
   "metadata": {},
   "source": [
    "Cпроектируйте объектную модель соревнования, вы должны учитывать разные спецификации автомобилей, погодные условия, и то что в один момент времени может проходить только одно соревнование, как итог, запустите гонку с разными автомобилями и продемонстрируйте победителей)\n",
    "\n",
    "Требования к решению:\n",
    " 1. Описать 3 класса:\n",
    "  - Автомобиль\n",
    "  - Погода\n",
    "  - Соревнование\n",
    " 2. Выполнить требования к классу Автомобиль:\n",
    "  - Зафиксировать спецификации автомобилей как атрибут класса\n",
    " 3. Выполнить требования к классу Погода:\n",
    "  - Реализовать доступ к функции получения скорости ветра как к переменной экземпляра класса\n",
    " 4. Выполнить требования к классу Соревнование:\n",
    "  - в качестве входных аргументов принимает 1 параметр — длина дистанции\n",
    "  - не позволять создание более 1 экземпляра класса (обратите внимание на метод класса new)"
   ]
  },
  {
   "cell_type": "code",
   "execution_count": null,
   "metadata": {},
   "outputs": [],
   "source": [
    "#!/usr/bin/env python\n",
    "\n",
    "from random import randint\n",
    "\n",
    "CAR_SPECS = {\n",
    "    'ferrary': {\"max_speed\": 340, \"drag_coef\": 0.324, \"time_to_max\": 26},\n",
    "    'bugatti': {\"max_speed\": 407, \"drag_coef\": 0.39, \"time_to_max\": 32},\n",
    "    'toyota': {\"max_speed\": 180, \"drag_coef\": 0.25, \"time_to_max\": 40},\n",
    "    'lada': {\"max_speed\": 180, \"drag_coef\": 0.32, \"time_to_max\": 56},\n",
    "    'sx4': {\"max_speed\": 180, \"drag_coef\": 0.33, \"time_to_max\": 44},\n",
    "}\n",
    "\n",
    "\n",
    "def start(competitors, distance, wind_speed):\n",
    "    for competitor_name in competitors:\n",
    "        competitor_time = 0\n",
    "        competitor_speed = 0\n",
    "        car = CAR_SPECS[competitor_name]\n",
    "\n",
    "        for distance in range(distance):\n",
    "            _wind_speed = randint(0, wind_speed)\n",
    "\n",
    "            if competitor_time == 0:\n",
    "                _speed = 1\n",
    "            else:\n",
    "                _speed = (competitor_time / car[\"time_to_max\"]) * car['max_speed']\n",
    "                if _speed > _wind_speed:\n",
    "                    _speed -= (car[\"drag_coef\"] * _wind_speed)\n",
    "\n",
    "            competitor_time += float(1) / _speed\n",
    "\n",
    "        print(\"Car <%s> result: %f\" % (competitor_name, competitor_time))\n",
    "\n",
    "\n",
    "competitors = ('ferrary', 'bugatti', 'toyota', 'lada', 'sx4')\n",
    "start(competitors, distance=10000, wind_speed=20)"
   ]
  },
  {
   "cell_type": "code",
   "execution_count": null,
   "metadata": {},
   "outputs": [],
   "source": []
  }
 ],
 "metadata": {
  "kernelspec": {
   "display_name": "env1",
   "language": "python",
   "name": "python3"
  },
  "language_info": {
   "codemirror_mode": {
    "name": "ipython",
    "version": 3
   },
   "file_extension": ".py",
   "mimetype": "text/x-python",
   "name": "python",
   "nbconvert_exporter": "python",
   "pygments_lexer": "ipython3",
   "version": "3.12.3"
  }
 },
 "nbformat": 4,
 "nbformat_minor": 4
}
