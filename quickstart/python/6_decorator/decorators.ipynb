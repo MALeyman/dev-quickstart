{
 "cells": [
  {
   "cell_type": "markdown",
   "metadata": {},
   "source": [
    "Создано: 28.12.2024\n",
    "\n",
    "Автор: Лейман М.А.\n"
   ]
  },
  {
   "cell_type": "markdown",
   "metadata": {},
   "source": [
    "# Декораторы"
   ]
  },
  {
   "cell_type": "markdown",
   "metadata": {},
   "source": [
    "## Задача 1 Права администратора"
   ]
  },
  {
   "cell_type": "code",
   "execution_count": 11,
   "metadata": {},
   "outputs": [],
   "source": [
    "# Определение глобальной переменной user_role\n",
    "user_role = \"\"\n",
    "\n",
    "def role_required(role: str):\n",
    "    def decorator(func):\n",
    "        def wrapper(*args, **kwargs):\n",
    "            if user_role == role:\n",
    "                return func(*args, **kwargs)\n",
    "            else:\n",
    "                return \"Permission denied\"\n",
    "        return wrapper\n",
    "    return decorator\n",
    "\n",
    "@role_required(\"admin\")\n",
    "def secret_resource() -> str:\n",
    "    return \"Permission accepted\"\n"
   ]
  },
  {
   "cell_type": "code",
   "execution_count": 12,
   "metadata": {},
   "outputs": [
    {
     "name": "stdout",
     "output_type": "stream",
     "text": [
      "\n",
      "\n",
      "Permission accepted\n",
      "\n",
      "\n",
      "Permission denied\n",
      "\n",
      "\n"
     ]
    }
   ],
   "source": [
    " #Пример использования\n",
    "if __name__ == \"__main__\":\n",
    "    print(\"\\n\")\n",
    "    # Пример 1: Пользователь с ролью admin\n",
    "    user_role = \"admin\"\n",
    "    print(secret_resource())  # Ожидаемый вывод: Permission accepted\n",
    "    print(\"\\n\")\n",
    "    # Пример 2: Пользователь с ролью manager\n",
    "    user_role = \"manager\"\n",
    "    print(secret_resource())  # Ожидаемый вывод: Permission denied\n",
    "    print(\"\\n\")"
   ]
  },
  {
   "cell_type": "markdown",
   "metadata": {},
   "source": [
    "## Задача 2 Кэширование"
   ]
  },
  {
   "cell_type": "code",
   "execution_count": 2,
   "metadata": {},
   "outputs": [],
   "source": [
    "import sqlite3\n",
    "import psycopg2\n",
    "from psycopg2 import sql\n",
    "from psycopg2.extras import RealDictCursor\n",
    "from functools import wraps\n"
   ]
  },
  {
   "cell_type": "code",
   "execution_count": null,
   "metadata": {},
   "outputs": [],
   "source": [
    "\n",
    "def cache(db: str, expiration: int):\n",
    "    \"\"\"\n",
    "        Декоратор для кэширования с заданными параметрами\n",
    "    \"\"\"\n",
    "    def decorator(func):\n",
    "        cache_store = {}  # Хранилище кэша\n",
    "\n",
    "        @wraps(func)\n",
    "        def wrapper(thing):\n",
    "            if thing in cache_store:\n",
    "                cached_data, expire_time = cache_store[thing]\n",
    "\n",
    "                if expire_time > 0:\n",
    "                    cache_store[thing] = (cached_data, expire_time - 1)\n",
    "                    return f\"Info about: {thing} cached in {db}, expire={expire_time - 1}\"\n",
    "                else:\n",
    "                    # Сброс кэша\n",
    "                    del cache_store[thing]\n",
    "\n",
    "            # Если данных в кэше нет или они были сброшены\n",
    "            result = func(thing)\n",
    "            cache_store[thing] = (result, expiration)\n",
    "            return f\"Info about: {thing} from {db}, now cached with expire={expiration}\"\n",
    "\n",
    "        return wrapper\n",
    "\n",
    "    return decorator\n",
    "\n",
    "# Функция для получения информации о предмете\n",
    "def get_info(thing: str) -> str:\n",
    "    return f\"Info about: {thing}\"\n",
    "\n",
    "# Пример использования:\n",
    "@cache(db=\"postgresql\", expiration=5)\n",
    "def get_postgresql_info(thing):\n",
    "    return get_info(thing)\n",
    "\n",
    "@cache(db=\"sqlite\", expiration=3)\n",
    "def get_sqlite_info(thing):\n",
    "    return get_info(thing)"
   ]
  },
  {
   "cell_type": "code",
   "execution_count": 35,
   "metadata": {},
   "outputs": [
    {
     "name": "stdout",
     "output_type": "stream",
     "text": [
      "Info about: bike_store cached in postgresql, expire=4\n",
      "Info about: bike_store cached in postgresql, expire=3\n",
      "Info about: bike_store cached in postgresql, expire=2\n",
      "Info about: bike_store cached in postgresql, expire=1\n",
      "Info about: bike_store cached in postgresql, expire=0\n",
      "Info about: bike_store from postgresql, now cached with expire=5\n",
      "Info about: bike_store cached in postgresql, expire=4\n",
      "Info about: bike_store cached in sqlite, expire=0\n",
      "Info about: bike_store from sqlite, now cached with expire=3\n",
      "Info about: bike_store cached in sqlite, expire=2\n",
      "Info about: bike_store cached in sqlite, expire=1\n",
      "Info about: bike_store cached in sqlite, expire=0\n"
     ]
    }
   ],
   "source": [
    "\n",
    "# Тестирование\n",
    "if __name__ == \"__main__\":\n",
    "    print(get_postgresql_info(\"bike_store\"))\n",
    "    print(get_postgresql_info(\"bike_store\"))\n",
    "    print(get_postgresql_info(\"bike_store\"))\n",
    "    print(get_postgresql_info(\"bike_store\"))\n",
    "    print(get_postgresql_info(\"bike_store\"))\n",
    "    print(get_postgresql_info(\"bike_store\"))\n",
    "    print(get_postgresql_info(\"bike_store\"))\n",
    "\n",
    "    print(get_sqlite_info(\"bike_store\"))\n",
    "    print(get_sqlite_info(\"bike_store\"))\n",
    "    print(get_sqlite_info(\"bike_store\"))\n",
    "    print(get_sqlite_info(\"bike_store\"))\n",
    "    print(get_sqlite_info(\"bike_store\"))"
   ]
  },
  {
   "cell_type": "markdown",
   "metadata": {},
   "source": [
    "### Хранение хеша в БД"
   ]
  },
  {
   "cell_type": "code",
   "execution_count": 4,
   "metadata": {},
   "outputs": [],
   "source": [
    "\n",
    "def setup_database():\n",
    "    \"\"\"\n",
    "        Создание Тестовой базы данных SQLite и с таблицей работников\n",
    "    \"\"\"\n",
    "    conn = sqlite3.connect(\"example.db\")\n",
    "    cursor = conn.cursor()\n",
    "\n",
    "    # Создание таблицы\n",
    "    cursor.execute(\"\"\"\n",
    "        CREATE TABLE IF NOT EXISTS items (\n",
    "            id INTEGER PRIMARY KEY AUTOINCREMENT,\n",
    "            name TEXT NOT NULL,\n",
    "            description TEXT\n",
    "        )\n",
    "    \"\"\")\n",
    "\n",
    "    # Заполнение таблицы данными\n",
    "    items = [\n",
    "        (\"Иван\", \"Разработчик\"),\n",
    "        (\"Пётр\", \"Администратор\"),\n",
    "        (\"Михаил\", \"Директор\"),\n",
    "    ]\n",
    "    cursor.executemany(\"INSERT INTO items (name, description) VALUES (?, ?)\", items)\n",
    "\n",
    "    conn.commit()\n",
    "    conn.close()\n",
    "\n",
    "setup_database()"
   ]
  },
  {
   "cell_type": "code",
   "execution_count": null,
   "metadata": {},
   "outputs": [
    {
     "name": "stdout",
     "output_type": "stream",
     "text": [
      "БД 'db1' уже существует\n",
      "БД 'db1' настроена\n"
     ]
    }
   ],
   "source": [
    "\n",
    "def create_postgresql_database(db_name: str, user: str, password: str, host: str, port: int):\n",
    "    try:\n",
    "        # Подключаемся к postgres, чтобы создать базу данных\n",
    "        conn = psycopg2.connect(\n",
    "            dbname=db_name,\n",
    "            user=user,\n",
    "            password=password,\n",
    "            host=host,\n",
    "            port=port\n",
    "        )\n",
    "        conn.autocommit = True  # Устанавливаем autocommit для создания базы\n",
    "        cursor = conn.cursor()\n",
    "\n",
    "        # Проверяем, существует ли база данных\n",
    "        cursor.execute(\"SELECT 1 FROM pg_database WHERE datname = %s\", (db_name,))\n",
    "        exists = cursor.fetchone()\n",
    "\n",
    "        if not exists:\n",
    "            cursor.execute(sql.SQL(\"CREATE DATABASE {}\").format(sql.Identifier(db_name)))\n",
    "            print(f\"БД  '{db_name}' Создана.\")\n",
    "        else:\n",
    "            print(f\"БД '{db_name}' уже существует\")\n",
    "\n",
    "        cursor.close()\n",
    "        conn.close()\n",
    "    except psycopg2.Error as e:\n",
    "        print(f\"Ошибка создания БД PostgreSQL: {e}\")\n",
    "\n",
    "\n",
    "\n",
    "# Создание базы данных PostgreSQL и заполнение таблицы\n",
    "def setup_postgresql_database():\n",
    "    \"\"\"\n",
    "        Cоздание базы данных PostgreSQL и заполнение таблицы \n",
    "    \"\"\"\n",
    "    # Учетные данные для подключения\n",
    "    user = \"postgres\"\n",
    "    password = \"postgres\"\n",
    "    host = \"localhost\"\n",
    "    port = 5432\n",
    "    db_name = \"db1\"\n",
    "\n",
    "    # Создаем базу данных, если она отсутствует\n",
    "    create_postgresql_database(db_name, user, password, host, port)\n",
    "\n",
    "    import time\n",
    "    time.sleep(5)\n",
    "\n",
    "    # Подключаемся к созданной базе\n",
    "    conn = psycopg2.connect(\n",
    "        dbname=db_name,\n",
    "        user=user,\n",
    "        password=password,\n",
    "        host=host,\n",
    "        port=port\n",
    "    )\n",
    "    cursor = conn.cursor()\n",
    "\n",
    "    # Создание таблицы кэша\n",
    "    cursor.execute(\"\"\"\n",
    "        CREATE TABLE IF NOT EXISTS cache (\n",
    "            id SERIAL PRIMARY KEY,\n",
    "            db TEXT NOT NULL,\n",
    "            name TEXT NOT NULL,\n",
    "            description TEXT,\n",
    "            expire_time INTEGER\n",
    "        )\n",
    "    \"\"\")\n",
    "    \n",
    "    conn.commit()\n",
    "    cursor.close()\n",
    "    conn.close()\n",
    "    print(f\"БД '{db_name}' настроена\")\n",
    "\n",
    "setup_postgresql_database()"
   ]
  },
  {
   "cell_type": "code",
   "execution_count": 7,
   "metadata": {},
   "outputs": [],
   "source": [
    "\n",
    "def cache(db: str, expiration: int):\n",
    "    \"\"\"\n",
    "        Декоратор для кэширования\n",
    "    \"\"\"\n",
    "    def decorator(func):\n",
    "        @wraps(func)\n",
    "        def wrapper(thing):\n",
    "            conn = psycopg2.connect(\n",
    "                dbname=\"db1\",\n",
    "                user=\"postgres\",\n",
    "                password=\"postgres\",\n",
    "                host=\"localhost\",\n",
    "                port=5432\n",
    "            )\n",
    "            conn.autocommit = True\n",
    "            cursor = conn.cursor()\n",
    "\n",
    "            # Проверка наличия записи в кэше\n",
    "            cursor.execute(\"\"\"\n",
    "                SELECT description, expire_time FROM cache\n",
    "                WHERE db = %s AND name = %s\n",
    "            \"\"\", (db, thing))\n",
    "            row = cursor.fetchone()\n",
    "\n",
    "            if row:\n",
    "                cached_data, expire_time = row\n",
    "\n",
    "                if expire_time > 0:\n",
    "                    # Уменьшение времени жизни кэша\n",
    "                    cursor.execute(\"\"\"\n",
    "                        UPDATE cache\n",
    "                        SET expire_time = %s\n",
    "                        WHERE db = %s AND name = %s\n",
    "                    \"\"\", (expire_time - 1, db, thing))\n",
    "                    conn.commit()\n",
    "                    conn.close()\n",
    "                    return f\"Информация о: {thing} кэшировано в {db}, expire={expire_time - 1}\"\n",
    "\n",
    "                # Удаление записи при истечении срока действия\n",
    "                cursor.execute(\"\"\"\n",
    "                    DELETE FROM cache\n",
    "                    WHERE db = %s AND name = %s\n",
    "                \"\"\", (db, thing))\n",
    "\n",
    "            # Если данных нет в кэше или срок действия истёк\n",
    "            result = func(thing)\n",
    "\n",
    "            # Сохранение данных в кэш\n",
    "            cursor.execute(\"\"\"\n",
    "                INSERT INTO cache (db, name, description, expire_time)\n",
    "                VALUES (%s, %s, %s, %s)\n",
    "            \"\"\", (db, thing, result, expiration))\n",
    "\n",
    "            conn.commit()\n",
    "            conn.close()\n",
    "            return f\"Информация о: {thing} из  {db}, кэширована  с expire={expiration}\"\n",
    "\n",
    "        return wrapper\n",
    "\n",
    "    return decorator\n"
   ]
  },
  {
   "cell_type": "code",
   "execution_count": null,
   "metadata": {},
   "outputs": [
    {
     "name": "stdout",
     "output_type": "stream",
     "text": [
      "Информация о: users из  sqlite, кэширована  с expire=6\n",
      "Информация о: bikeStore из  sqlite, кэширована  с expire=6\n",
      "Информация о: library из  sqlite, кэширована  с expire=6\n",
      "Информация о: example.db из  sqlite, кэширована  с expire=6\n",
      "Информация о: db1 из  postgresql, кэширована  с expire=4\n",
      "Информация о: library из  postgresql, кэширована  с expire=4\n"
     ]
    }
   ],
   "source": [
    "\n",
    "def get_info(thing: str) -> str:\n",
    "    ''' \n",
    "        Заглушка: реальная информация могла бы приходить из БД или API\n",
    "    '''\n",
    "    info = {\n",
    "        \"bikeStore\": \"Магазин, торгующий велосипедами\",\n",
    "        \"users\": \"Информация о пользователях\",\n",
    "        \"library\": \"Библиотека\",\n",
    "        \"db1\": \"Хэширование БД\",\n",
    "        \"example.db\": \"Тестовая БД с таблицей работников\"\n",
    "    }\n",
    "\n",
    "    # Нормализуем входной параметр, чтобы избежать ошибок из-за регистра\n",
    "    normalized_thing = thing.strip()\n",
    "    \n",
    "    # Проверяем, есть ли информация для переданного ключа\n",
    "    result = info.get(normalized_thing, f\"Информация не найдена для {normalized_thing}\")\n",
    "    return result\n",
    "\n",
    "\n",
    "# Пример использования декоратора для SQLite и PostgreSQL\n",
    "@cache(db=\"sqlite\", expiration=6)\n",
    "def get_sqlite_info(thing):\n",
    "    return get_info(thing)\n",
    "\n",
    "@cache(db=\"postgresql\", expiration=4)\n",
    "def get_postgresql_info(thing):\n",
    "    return get_info(thing)\n",
    "\n",
    "# Тестирование\n",
    "if __name__ == \"__main__\":\n",
    "    # # Подготовка баз данных\n",
    "    # setup_sqlite()\n",
    "    # setup_postgresql()\n",
    "\n",
    "    # Тестирование SQLite\n",
    "    print(get_sqlite_info(\"users\"))\n",
    "    print(get_sqlite_info(\"bikeStore\"))\n",
    "    print(get_sqlite_info(\"library\"))\n",
    "    print(get_sqlite_info(\"example.db\"))  \n",
    "\n",
    "    # Тестирование PostgreSQL\n",
    "    print(get_postgresql_info(\"db1\"))\n",
    "    print(get_postgresql_info(\"library\"))\n",
    "    print(get_postgresql_info(\"library\"))\n",
    "    print(get_postgresql_info(\"library\"))\n",
    "    print(get_postgresql_info(\"library\"))\n",
    "    print(get_postgresql_info(\"library\"))  \n"
   ]
  },
  {
   "cell_type": "code",
   "execution_count": 13,
   "metadata": {},
   "outputs": [
    {
     "name": "stdout",
     "output_type": "stream",
     "text": [
      "Информация о: users кэшировано в sqlite, expire=1\n",
      "Информация о: bikeStore кэшировано в sqlite, expire=1\n",
      "Информация о: library кэшировано в sqlite, expire=1\n",
      "Информация о: example.db кэшировано в sqlite, expire=1\n",
      "Информация о: db1 из  postgresql, кэширована  с expire=4\n",
      "Информация о: library кэшировано в postgresql, expire=1\n",
      "Информация о: library кэшировано в postgresql, expire=0\n",
      "Информация о: library из  postgresql, кэширована  с expire=4\n",
      "Информация о: library кэшировано в postgresql, expire=3\n",
      "Информация о: library кэшировано в postgresql, expire=2\n",
      "Информация о: library кэшировано в postgresql, expire=1\n"
     ]
    }
   ],
   "source": [
    "# Тестирование\n",
    "if __name__ == \"__main__\":\n",
    "    # # Подготовка баз данных\n",
    "    # setup_sqlite()\n",
    "    # setup_postgresql()\n",
    "\n",
    "    # Тестирование SQLite\n",
    "    print(get_sqlite_info(\"users\"))\n",
    "    print(get_sqlite_info(\"bikeStore\"))\n",
    "    print(get_sqlite_info(\"library\"))\n",
    "    print(get_sqlite_info(\"example.db\"))  \n",
    "\n",
    "    # Тестирование PostgreSQL\n",
    "    print(get_postgresql_info(\"db1\"))\n",
    "    print(get_postgresql_info(\"library\"))\n",
    "    print(get_postgresql_info(\"library\"))\n",
    "    print(get_postgresql_info(\"library\"))\n",
    "    print(get_postgresql_info(\"library\"))\n",
    "    print(get_postgresql_info(\"library\"))  \n",
    "    print(get_postgresql_info(\"library\"))"
   ]
  },
  {
   "cell_type": "markdown",
   "metadata": {},
   "source": [
    "## Задача 3 Контекстный менеджер safe_write"
   ]
  },
  {
   "cell_type": "code",
   "execution_count": 56,
   "metadata": {},
   "outputs": [],
   "source": [
    "class safe_write:\n",
    "    def __init__(self, filename):\n",
    "        self.filename = filename\n",
    "        self.original_data = None\n",
    "\n",
    "    def __enter__(self):\n",
    "        # Сохраняем оригинальное содержимое файла\n",
    "        try:\n",
    "            with open(self.filename, 'r') as file:\n",
    "                self.original_data = file.read()\n",
    "        except FileNotFoundError:\n",
    "            self.original_data = None  # Если файла нет, это не проблема\n",
    "\n",
    "        # Открываем файл в режиме записи\n",
    "        self.file = open(self.filename, 'w')\n",
    "        return self.file\n",
    "\n",
    "    def __exit__(self, exc_type, exc_value, traceback):\n",
    "        self.file.close()  # Закрываем файл\n",
    "        if exc_type is not None:  # Если возникло исключение\n",
    "            # Восстанавливаем оригинальное содержимое\n",
    "            with open(self.filename, 'w') as file:\n",
    "                if self.original_data is not None:\n",
    "                    file.write(self.original_data)\n",
    "            print(f\"Во время записи в файл было возбуждено исключение {exc_type.__name__}\")\n",
    "            return True  # Подавляем исключение\n"
   ]
  },
  {
   "cell_type": "code",
   "execution_count": 57,
   "metadata": {},
   "outputs": [
    {
     "name": "stdout",
     "output_type": "stream",
     "text": [
      "Я знаю, что ничего не знаю, но другие не знают и этого. \n",
      "\n"
     ]
    }
   ],
   "source": [
    "with safe_write('Файл.txt') as file:\n",
    "    file.write('Я знаю, что ничего не знаю, но другие не знают и этого. \\n')\n",
    "    \n",
    "with open('Файл.txt') as file:\n",
    "    print(file.read())   "
   ]
  },
  {
   "cell_type": "code",
   "execution_count": 58,
   "metadata": {},
   "outputs": [
    {
     "name": "stdout",
     "output_type": "stream",
     "text": [
      "Во время записи в файл было возбуждено исключение ValueError\n",
      "Я знаю, что ничего не знаю, но другие не знают и этого. \n",
      "\n"
     ]
    }
   ],
   "source": [
    "with safe_write('Файл.txt') as file:\n",
    "    print(\n",
    "        'Если ты будешь любознательным, то будешь много знающим.',\n",
    "        file=file,\n",
    "        flush=True\n",
    "    )\n",
    "    raise ValueError\n",
    "\n",
    "with open('Файл.txt') as file:\n",
    "    print(file.read())\n"
   ]
  },
  {
   "cell_type": "code",
   "execution_count": null,
   "metadata": {},
   "outputs": [],
   "source": []
  }
 ],
 "metadata": {
  "kernelspec": {
   "display_name": ".myenv",
   "language": "python",
   "name": "python3"
  },
  "language_info": {
   "codemirror_mode": {
    "name": "ipython",
    "version": 3
   },
   "file_extension": ".py",
   "mimetype": "text/x-python",
   "name": "python",
   "nbconvert_exporter": "python",
   "pygments_lexer": "ipython3",
   "version": "3.12.8"
  }
 },
 "nbformat": 4,
 "nbformat_minor": 2
}
