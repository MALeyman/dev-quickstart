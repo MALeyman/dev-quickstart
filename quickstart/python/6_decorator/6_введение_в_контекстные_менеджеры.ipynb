{
 "cells": [
  {
   "cell_type": "markdown",
   "metadata": {},
   "source": [
    "# Контекстные менеджеры и работа с ними"
   ]
  },
  {
   "cell_type": "markdown",
   "metadata": {},
   "source": [
    "> #### Краткое описание\n",
    "> * Изучите инструкции `with` и протокол контекстного менеджера\n",
    "> * Реализуйте класс контекстного менеджера для запроса MongoDB\n",
    "> * Преобразуйте блок `try...finally` в блок `with` и улучшите читаемость кода."
   ]
  },
  {
   "cell_type": "code",
   "execution_count": 7,
   "metadata": {},
   "outputs": [
    {
     "ename": "FileNotFoundError",
     "evalue": "[Errno 2] No such file or directory: 'output4.txt'",
     "output_type": "error",
     "traceback": [
      "\u001b[1;31m---------------------------------------------------------------------------\u001b[0m",
      "\u001b[1;31mFileNotFoundError\u001b[0m                         Traceback (most recent call last)",
      "Cell \u001b[1;32mIn[7], line 1\u001b[0m\n\u001b[1;32m----> 1\u001b[0m file \u001b[38;5;241m=\u001b[39m \u001b[38;5;28;43mopen\u001b[39;49m\u001b[43m(\u001b[49m\u001b[38;5;124;43m'\u001b[39;49m\u001b[38;5;124;43moutput4.txt\u001b[39;49m\u001b[38;5;124;43m'\u001b[39;49m\u001b[43m,\u001b[49m\u001b[43m \u001b[49m\u001b[43mmode\u001b[49m\u001b[38;5;241;43m=\u001b[39;49m\u001b[38;5;124;43m'\u001b[39;49m\u001b[38;5;124;43mr\u001b[39;49m\u001b[38;5;124;43m'\u001b[39;49m\u001b[43m,\u001b[49m\u001b[43m \u001b[49m\u001b[43mencoding\u001b[49m\u001b[38;5;241;43m=\u001b[39;49m\u001b[38;5;124;43m'\u001b[39;49m\u001b[38;5;124;43mutf-8\u001b[39;49m\u001b[38;5;124;43m'\u001b[39;49m\u001b[43m)\u001b[49m\n\u001b[0;32m      2\u001b[0m file\u001b[38;5;241m.\u001b[39mwrite(\u001b[38;5;124m'\u001b[39m\u001b[38;5;130;01m\\n\u001b[39;00m\u001b[38;5;124mPython generation!\u001b[39m\u001b[38;5;124m'\u001b[39m)\n\u001b[0;32m      3\u001b[0m file\u001b[38;5;241m.\u001b[39mclose()\n",
      "File \u001b[1;32mc:\\Users\\user\\Documents\\new-python-repo\\.folder\\Lib\\site-packages\\IPython\\core\\interactiveshell.py:324\u001b[0m, in \u001b[0;36m_modified_open\u001b[1;34m(file, *args, **kwargs)\u001b[0m\n\u001b[0;32m    317\u001b[0m \u001b[38;5;28;01mif\u001b[39;00m file \u001b[38;5;129;01min\u001b[39;00m {\u001b[38;5;241m0\u001b[39m, \u001b[38;5;241m1\u001b[39m, \u001b[38;5;241m2\u001b[39m}:\n\u001b[0;32m    318\u001b[0m     \u001b[38;5;28;01mraise\u001b[39;00m \u001b[38;5;167;01mValueError\u001b[39;00m(\n\u001b[0;32m    319\u001b[0m         \u001b[38;5;124mf\u001b[39m\u001b[38;5;124m\"\u001b[39m\u001b[38;5;124mIPython won\u001b[39m\u001b[38;5;124m'\u001b[39m\u001b[38;5;124mt let you open fd=\u001b[39m\u001b[38;5;132;01m{\u001b[39;00mfile\u001b[38;5;132;01m}\u001b[39;00m\u001b[38;5;124m by default \u001b[39m\u001b[38;5;124m\"\u001b[39m\n\u001b[0;32m    320\u001b[0m         \u001b[38;5;124m\"\u001b[39m\u001b[38;5;124mas it is likely to crash IPython. If you know what you are doing, \u001b[39m\u001b[38;5;124m\"\u001b[39m\n\u001b[0;32m    321\u001b[0m         \u001b[38;5;124m\"\u001b[39m\u001b[38;5;124myou can use builtins\u001b[39m\u001b[38;5;124m'\u001b[39m\u001b[38;5;124m open.\u001b[39m\u001b[38;5;124m\"\u001b[39m\n\u001b[0;32m    322\u001b[0m     )\n\u001b[1;32m--> 324\u001b[0m \u001b[38;5;28;01mreturn\u001b[39;00m \u001b[43mio_open\u001b[49m\u001b[43m(\u001b[49m\u001b[43mfile\u001b[49m\u001b[43m,\u001b[49m\u001b[43m \u001b[49m\u001b[38;5;241;43m*\u001b[39;49m\u001b[43margs\u001b[49m\u001b[43m,\u001b[49m\u001b[43m \u001b[49m\u001b[38;5;241;43m*\u001b[39;49m\u001b[38;5;241;43m*\u001b[39;49m\u001b[43mkwargs\u001b[49m\u001b[43m)\u001b[49m\n",
      "\u001b[1;31mFileNotFoundError\u001b[0m: [Errno 2] No such file or directory: 'output4.txt'"
     ]
    }
   ],
   "source": [
    "file = open('output4.txt', mode='r', encoding='utf-8')\n",
    "file.write('\\nPython generation!')\n",
    "file.close()"
   ]
  },
  {
   "cell_type": "code",
   "execution_count": 8,
   "metadata": {},
   "outputs": [],
   "source": [
    "file = open('output.txt', mode='a', encoding='utf-8')\n",
    "\n",
    "try:\n",
    "    file.write('\\nPython generation!')\n",
    "except Exception as error:\n",
    "    print(f'При записи в файл возникла ошибка: {error}')\n",
    "finally:\n",
    "    file.close()"
   ]
  },
  {
   "cell_type": "code",
   "execution_count": 9,
   "metadata": {},
   "outputs": [],
   "source": [
    "with open('output.txt', mode='a', encoding='utf-8') as file:\n",
    "    file.write('\\nPython generation!')"
   ]
  },
  {
   "cell_type": "code",
   "execution_count": 13,
   "metadata": {},
   "outputs": [],
   "source": [
    "with open('file.txt', encoding='utf-8') as file, open('output.txt', mode='w', encoding='utf-8') as output:\n",
    "    for index, line in enumerate(file, 1):\n",
    "        output.write(f'{index}. {line}')"
   ]
  },
  {
   "cell_type": "code",
   "execution_count": null,
   "metadata": {},
   "outputs": [],
   "source": [
    "with open('file.txt', encoding='utf-8') as file:\n",
    "    with open('output.txt', mode='w', encoding='utf-8') as output:\n",
    "        for index, line in enumerate(file, 1):\n",
    "            output.write(f'{index}. {line}')"
   ]
  },
  {
   "cell_type": "markdown",
   "metadata": {},
   "source": [
    "---"
   ]
  },
  {
   "cell_type": "markdown",
   "metadata": {},
   "source": [
    "\n",
    "## `with` Инструкция и протокол контекстного менеджера\n",
    "\n",
    "Инструкция `with` - это структура потока управления, которая позволяет нам инкапсулировать блоки `try...except...finally` для удобного повторного использования. В результате мы написали более чистый и читаемый код ([PEP 343](https://www.python.org/dev/peps/pep-0343/) | [Python Docs](https://docs.python.org/3/reference/compound_stmts.html#with)).\n",
    "\n",
    "Оператор `with` поддерживает контекст выполнения, который реализуется с помощью пары методов, выполняемых  перед вводом тела оператора (``__enter__()`) и (2) после выхода из тела оператора (``__exit__()``) ([Источник](https://docs.python.org/3.6/library/stdtypes.html#context-manager-types)).\n",
    "\n",
    "Базовая структура выглядит следующим образом:\n",
    "```python\n",
    "    with context-expression [as var]:\n",
    "        with_statement_body\n",
    "```\n",
    "\n",
    "Для `контекстного выражения` требуется объект, поддерживающий протокол контекстного менеджера, то есть класс, содержащий методы `__enter__()` и `__exit__()`. Мы также можем указать на [контекстный менеджер, написанный с использованием генераторов и декоратора `contextmanager`](https://docs.python.org/3/library/contextlib.html#contextlib.contextmanager).\n",
    "\n",
    "[В этом блоге](http://arnavk.com/posts/python-context-managers/) дается подробное объяснение специальных методов dunder (двойное подчеркивание).:\n",
    "\n",
    "> * ``__enter__`` должен возвращать объект, который присваивается переменной после as. По умолчанию это значение равно None и является необязательным. Общий шаблон заключается в том, чтобы возвращать self и сохранять требуемую функциональность в пределах одного класса.\n",
    "> * ``__exit__` вызывается для исходного объекта контекстного менеджера, а не для объекта, возвращаемого с помощью ``__enter__`.\n",
    ">* Если в ``__init__` или ``__enter__` возникает ошибка, то блок кода никогда не выполняется и ``__exit__` не вызывается.\n",
    "> * После ввода блока кода всегда вызывается `__exit__`, даже если в блоке кода возникает исключение.\n",
    "> * Если `__exit__` возвращает `True`, исключение подавляется.\n",
    "и __выйти__\n",
    "\n",
    "Внутри нашего класса мы можем реализовать метод ``__init__()` для настройки нашего объекта, поскольку инструкции не нужно повторять для каждого экземпляра. Для контекстного менеджера базы данных мы можем настроить наше соединение внутри ``__init__()` и возвращать объект или курсор из метода ``__enter__()`.\n",
    "\n",
    "Переменная, которая следует за ключевым словом `as`, необязательна, но она должна быть включена и использоваться для ссылки на объект, возвращаемый из `__enter__()` внутри нашего `with_statement_body`."
   ]
  },
  {
   "cell_type": "code",
   "execution_count": 1,
   "metadata": {},
   "outputs": [
    {
     "data": {
      "text/plain": [
       "'3.6.1 |Continuum Analytics, Inc.| (default, Mar 22 2017, 19:25:17) \\n[GCC 4.2.1 Compatible Apple LLVM 6.0 (clang-600.0.57)]'"
      ]
     },
     "execution_count": 1,
     "metadata": {},
     "output_type": "execute_result"
    }
   ],
   "source": [
    "import sys\n",
    "sys.version"
   ]
  },
  {
   "cell_type": "code",
   "execution_count": 14,
   "metadata": {
    "collapsed": true
   },
   "outputs": [],
   "source": [
    "# Давайте разберемся с потоком управления... создадим объект с помощью методов __enter__ и __exit__\n",
    "\n",
    "class Foo():\n",
    "    def __init__(self):\n",
    "        print('__init__ called')\n",
    "        self.init_var = 0\n",
    "        \n",
    "    def __enter__(self):\n",
    "        print('__enter__ called')\n",
    "        return self\n",
    "    \n",
    "    def __exit__(self, exc_type, exc_value, exc_traceback):\n",
    "        print('__exit__ called')\n",
    "        if exc_type:\n",
    "            print(f'exc_type: {exc_type}')\n",
    "            print(f'exc_value: {exc_value}')\n",
    "            print(f'exc_traceback: {exc_traceback}')\n",
    "            \n",
    "    def add_two(self):\n",
    "        self.init_var += 2"
   ]
  },
  {
   "cell_type": "markdown",
   "metadata": {},
   "source": [
    "Протокол контекстных менеджеров состоит всего из двух методов:\n",
    "\n",
    "__enter__() – вводит контекст и при необходимости возвращает некоторый объект. Значение, возвращаемое этим методом, привязывается к переменной в предложении as оператора with\n",
    "\n",
    "__exit__() – предоставляет выход из контекста и возвращает логический флаг (тип bool), указывающий на то, следует ли подавлять возбужденное исключение. При возбуждении исключения во время выполнения тела блока with, аргументы содержат тип исключения exc_type, объект исключения exc_value и информацию о трассировке traceback. В противном случае все три аргумента равны None"
   ]
  },
  {
   "cell_type": "code",
   "execution_count": 17,
   "metadata": {},
   "outputs": [],
   "source": [
    "class Cat:\n",
    "    def __init__(self, name):\n",
    "        self.name = name"
   ]
  },
  {
   "cell_type": "markdown",
   "metadata": {},
   "source": [
    "* exc_type – тип исключения, в данном случае IndexError или другое\n",
    "\n",
    "* exc_value – объект самого исключения\n",
    "\n",
    "* traceback – информация о трассировке\n"
   ]
  },
  {
   "cell_type": "code",
   "execution_count": 20,
   "metadata": {},
   "outputs": [],
   "source": [
    "class CustomContextManager:\n",
    "    def __enter__(self):\n",
    "        print('Вход в контекстный менеджер...')\n",
    "        return 'Python generation!'\n",
    "\n",
    "    def __exit__(self, exc_type, exc_value, traceback):\n",
    "        print('Выход из контекстного менеджера...')\n",
    "        print(exc_type, exc_value, traceback, sep='\\n')"
   ]
  },
  {
   "cell_type": "code",
   "execution_count": 21,
   "metadata": {},
   "outputs": [],
   "source": [
    "class CustomContextManager:\n",
    "    def __enter__(self):\n",
    "        print('Вход в контекстный менеджер...')\n",
    "        return 'Python generation!'\n",
    "\n",
    "    def __exit__(self, exc_type, exc_value, traceback):\n",
    "        print('Выход из контекстного менеджера...')\n",
    "        if isinstance(exc_value, IndexError):\n",
    "            print(f'Тип возникшего исключения: {exc_type}')\n",
    "            print(f'Текст исключения: {exc_value}')\n",
    "            return True                                 # подавляем возбужденное исключение IndexError"
   ]
  },
  {
   "cell_type": "code",
   "execution_count": null,
   "metadata": {},
   "outputs": [],
   "source": [
    "class CustomContextManager:\n",
    "    def __init__(self, value):\n",
    "        self.value = value\n",
    "\n",
    "    def __enter__(self):\n",
    "        print('Вход в контекстный менеджер...')\n",
    "        self.name = 'Кемаль'\n",
    "        self.breed = 'Британский'\n",
    "        return self\n",
    "\n",
    "    def __exit__(self, exc_type, exc_value, traceback):\n",
    "        print('Выход из контекстного менеджера...')\n",
    "        \n",
    "    def __repr__(self):\n",
    "        return f'CustomContextManager(value={repr(self.value)})' \n",
    "\n",
    "\n",
    "with CustomContextManager('pygen') as manager:\n",
    "    print(manager.value)\n",
    "    print(manager.name)\n",
    "    print(manager.breed)"
   ]
  },
  {
   "cell_type": "code",
   "execution_count": 22,
   "metadata": {},
   "outputs": [
    {
     "name": "stdout",
     "output_type": "stream",
     "text": [
      "Вход в контекстный менеджер...\n",
      "Python generation!\n",
      "Выход из контекстного менеджера...\n",
      "Тип возникшего исключения: <class 'IndexError'>\n",
      "Текст исключения: string index out of range\n"
     ]
    }
   ],
   "source": [
    "with CustomContextManager() as manager:\n",
    "    print(manager)\n",
    "    print(manager[100]) "
   ]
  },
  {
   "cell_type": "code",
   "execution_count": 19,
   "metadata": {},
   "outputs": [
    {
     "ename": "TypeError",
     "evalue": "'Cat' object does not support the context manager protocol",
     "output_type": "error",
     "traceback": [
      "\u001b[1;31m---------------------------------------------------------------------------\u001b[0m",
      "\u001b[1;31mTypeError\u001b[0m                                 Traceback (most recent call last)",
      "Cell \u001b[1;32mIn[19], line 1\u001b[0m\n\u001b[1;32m----> 1\u001b[0m \u001b[38;5;28;43;01mwith\u001b[39;49;00m\u001b[43m \u001b[49m\u001b[43mCat\u001b[49m\u001b[43m(\u001b[49m\u001b[38;5;124;43m\"\u001b[39;49m\u001b[38;5;124;43mTest\u001b[39;49m\u001b[38;5;124;43m\"\u001b[39;49m\u001b[43m)\u001b[49m\u001b[43m \u001b[49m\u001b[38;5;28;43;01mas\u001b[39;49;00m\u001b[43m \u001b[49m\u001b[43mmanager\u001b[49m\u001b[43m:\u001b[49m\n\u001b[0;32m      2\u001b[0m \u001b[43m    \u001b[49m\u001b[38;5;28;43mprint\u001b[39;49m\u001b[43m(\u001b[49m\u001b[43mmanager\u001b[49m\u001b[43m)\u001b[49m\n",
      "\u001b[1;31mTypeError\u001b[0m: 'Cat' object does not support the context manager protocol"
     ]
    }
   ],
   "source": [
    "with Cat(\"Test\") as manager:\n",
    "    print(manager) # 'Cat' object does not support the context manager protocol"
   ]
  },
  {
   "cell_type": "code",
   "execution_count": 24,
   "metadata": {},
   "outputs": [
    {
     "name": "stdout",
     "output_type": "stream",
     "text": [
      "['_CHUNK_SIZE', '__class__', '__del__', '__delattr__', '__dict__', '__dir__', '__doc__', '__enter__', '__eq__', '__exit__', '__format__', '__ge__', '__getattribute__', '__getstate__', '__gt__', '__hash__', '__init__', '__init_subclass__', '__iter__', '__le__', '__lt__', '__module__', '__ne__', '__new__', '__next__', '__reduce__', '__reduce_ex__', '__repr__', '__setattr__', '__sizeof__', '__str__', '__subclasshook__', '_checkClosed', '_checkReadable', '_checkSeekable', '_checkWritable', '_finalizing', 'buffer', 'close', 'closed', 'detach', 'encoding', 'errors', 'fileno', 'flush', 'isatty', 'line_buffering', 'mode', 'name', 'newlines', 'read', 'readable', 'readline', 'readlines', 'reconfigure', 'seek', 'seekable', 'tell', 'truncate', 'writable', 'write', 'write_through', 'writelines']\n",
      "True\n",
      "True\n"
     ]
    }
   ],
   "source": [
    "with open('output.txt', mode='w', encoding='utf-8') as file:\n",
    "    print(dir(file))                      # наличие метода __enter__()\n",
    "    print('__enter__' in dir(file))                      # наличие метода __enter__()\n",
    "    print('__exit__' in dir(file))                       # наличие метода __exit__()\n",
    "    file.write('Python generation!')"
   ]
  },
  {
   "cell_type": "markdown",
   "metadata": {},
   "source": [
    "# Использование существующих в Python декораторов"
   ]
  },
  {
   "cell_type": "code",
   "execution_count": 25,
   "metadata": {},
   "outputs": [
    {
     "name": "stdout",
     "output_type": "stream",
     "text": [
      "0.1111111111111111111111111111\n",
      "0.11111\n",
      "0.1111111111\n"
     ]
    }
   ],
   "source": [
    "from decimal import Decimal, localcontext\n",
    "\n",
    "num1 = Decimal('1')\n",
    "num2 = Decimal('9')\n",
    "\n",
    "print(num1 / num2)                   # по умолчанию 28 знаков после запятой\n",
    "\n",
    "with localcontext() as ctx:\n",
    "    ctx.prec = 5                     # устанавливаем 5 знаков после запятой\n",
    "    print(num1 / num2)\n",
    "\n",
    "with localcontext() as ctx:\n",
    "    ctx.prec = 10                    # устанавливаем 10 знаков после запятой\n",
    "    print(num1 / num2)"
   ]
  },
  {
   "cell_type": "code",
   "execution_count": 26,
   "metadata": {},
   "outputs": [
    {
     "name": "stdout",
     "output_type": "stream",
     "text": [
      "file.txt ---> 0 bytes\n",
      "output.txt ---> 18 bytes\n",
      "output2.txt ---> 20 bytes\n",
      "output3.txt ---> 20 bytes\n",
      "Блокнот_введение_в_контекстные_менеджеры.ipynb ---> 42822 bytes\n",
      "Блокнот_Примеры_и_магия_декораторов.ipynb ---> 101548 bytes\n"
     ]
    }
   ],
   "source": [
    "import os\n",
    "\n",
    "'''\n",
    "\n",
    "scandir  возвращает итератор типа ScandirIterator\n",
    "\n",
    "'''\n",
    "with os.scandir('.') as entries:\n",
    "    for entry in entries:\n",
    "        print(entry.name, '--->', entry.stat().st_size, 'bytes')"
   ]
  },
  {
   "cell_type": "code",
   "execution_count": 27,
   "metadata": {},
   "outputs": [
    {
     "name": "stdout",
     "output_type": "stream",
     "text": [
      "Python generation!\n"
     ]
    }
   ],
   "source": [
    "from tempfile import TemporaryFile\n",
    "\n",
    "# создавать и удалять временные файлы автоматически\n",
    "with TemporaryFile(mode='r+') as file:\n",
    "    file.write('Python generation!')\n",
    "    file.seek(0)\n",
    "    content = file.read()\n",
    "    print(content)"
   ]
  },
  {
   "cell_type": "code",
   "execution_count": null,
   "metadata": {},
   "outputs": [],
   "source": [
    "from threading import Lock\n",
    "\n",
    "\n",
    "with Lock() as lock:\n",
    "    # защищенная область\n",
    "    # смело выполняем любые действия, не думая о гонке потоков"
   ]
  },
  {
   "cell_type": "code",
   "execution_count": 3,
   "metadata": {},
   "outputs": [
    {
     "name": "stdout",
     "output_type": "stream",
     "text": [
      "__init__ called\n"
     ]
    }
   ],
   "source": [
    "my_object = Foo()"
   ]
  },
  {
   "cell_type": "code",
   "execution_count": 4,
   "metadata": {},
   "outputs": [
    {
     "data": {
      "text/plain": [
       "0"
      ]
     },
     "execution_count": 4,
     "metadata": {},
     "output_type": "execute_result"
    }
   ],
   "source": [
    "my_object.init_var"
   ]
  },
  {
   "cell_type": "code",
   "execution_count": 5,
   "metadata": {},
   "outputs": [
    {
     "data": {
      "text/plain": [
       "2"
      ]
     },
     "execution_count": 5,
     "metadata": {},
     "output_type": "execute_result"
    }
   ],
   "source": [
    "my_object.add_two()\n",
    "my_object.init_var"
   ]
  },
  {
   "cell_type": "code",
   "execution_count": 6,
   "metadata": {},
   "outputs": [
    {
     "name": "stdout",
     "output_type": "stream",
     "text": [
      "__enter__ called\n",
      "inside with statement body\n",
      "__exit__ called\n"
     ]
    }
   ],
   "source": [
    "# регулярный поток без исключений\n",
    "with my_object as obj:\n",
    "    print('inside with statement body')"
   ]
  },
  {
   "cell_type": "code",
   "execution_count": 7,
   "metadata": {},
   "outputs": [
    {
     "name": "stdout",
     "output_type": "stream",
     "text": [
      "__enter__ called\n",
      "2\n",
      "__exit__ called\n"
     ]
    }
   ],
   "source": [
    "# к чему мы можем получить доступ в объекте, который возвращается внутри with statement context\n",
    "with my_object as obj:\n",
    "    print(obj.init_var)"
   ]
  },
  {
   "cell_type": "code",
   "execution_count": 8,
   "metadata": {},
   "outputs": [
    {
     "name": "stdout",
     "output_type": "stream",
     "text": [
      "__enter__ called\n",
      "4\n",
      "__exit__ called\n"
     ]
    }
   ],
   "source": [
    "# добавление 2 к внутреннему оператору var\n",
    "with my_object as obj:\n",
    "    my_object.add_two()\n",
    "    print(obj.init_var)"
   ]
  },
  {
   "cell_type": "code",
   "execution_count": 9,
   "metadata": {},
   "outputs": [
    {
     "name": "stdout",
     "output_type": "stream",
     "text": [
      "__init__ called\n",
      "__enter__ called\n",
      "0\n",
      "__exit__ called\n"
     ]
    }
   ],
   "source": [
    "# использование нового экземпляра в контекстном выражении\n",
    "with Foo() as obj:\n",
    "    print(obj.init_var)"
   ]
  },
  {
   "cell_type": "markdown",
   "metadata": {},
   "source": [
    "# Применение менеджеров (создание)"
   ]
  },
  {
   "cell_type": "markdown",
   "metadata": {},
   "source": [
    "Для чего применяются:\n",
    "\n",
    "* открытие и закрытие\n",
    "\n",
    "* создание и удаление\n",
    "\n",
    "* изменение данных и возврат к начальным данным\n",
    "\n",
    "* блокировка и освобождение\n",
    "\n",
    "* вход и выход\n",
    "\n",
    "* старт и стоп\n",
    "\n",
    "* и т.д."
   ]
  },
  {
   "cell_type": "markdown",
   "metadata": {},
   "source": [
    "## Пример 1. Контекстный менеджер Trace выводит информацию"
   ]
  },
  {
   "cell_type": "code",
   "execution_count": 1,
   "metadata": {},
   "outputs": [],
   "source": [
    "class Trace:\n",
    "    def __enter__(self):\n",
    "        print('Начало выполнения блока with')\n",
    "\n",
    "    def __exit__(self, exc_type, exc_value, traceback):\n",
    "        if exc_value:\n",
    "            print(f'Во время выполнения блока with было возбуждено исключение {exc_value}')\n",
    "        print('Конец выполнения блока with')\n",
    "        return True                           # обрабатываем все типы исключений"
   ]
  },
  {
   "cell_type": "code",
   "execution_count": 2,
   "metadata": {},
   "outputs": [
    {
     "name": "stdout",
     "output_type": "stream",
     "text": [
      "Начало выполнения блока with\n",
      "Python generation!\n",
      "Конец выполнения блока with\n"
     ]
    }
   ],
   "source": [
    "with Trace():\n",
    "    print('Python generation!')"
   ]
  },
  {
   "cell_type": "code",
   "execution_count": 5,
   "metadata": {},
   "outputs": [
    {
     "name": "stdout",
     "output_type": "stream",
     "text": [
      "Начало выполнения блока with\n",
      "Python generation!\n",
      "0.5\n",
      "Конец выполнения блока with\n"
     ]
    }
   ],
   "source": [
    "with Trace():\n",
    "    print('Python generation!')\n",
    "    print(1 / 2)"
   ]
  },
  {
   "cell_type": "code",
   "execution_count": 4,
   "metadata": {},
   "outputs": [
    {
     "name": "stdout",
     "output_type": "stream",
     "text": [
      "Начало выполнения блока with\n",
      "Python generation!\n",
      "Во время выполнения блока with было возбуждено исключение division by zero\n",
      "Конец выполнения блока with\n"
     ]
    }
   ],
   "source": [
    "with Trace():\n",
    "    print('Python generation!')\n",
    "    print(1 / 0)"
   ]
  },
  {
   "cell_type": "markdown",
   "metadata": {},
   "source": [
    "## Пример 2. Контекстный менеджер WritableTextFile"
   ]
  },
  {
   "cell_type": "code",
   "execution_count": 6,
   "metadata": {},
   "outputs": [],
   "source": [
    "class WritableTextFile:\n",
    "    def __init__(self, path):\n",
    "        self.path = path\n",
    "\n",
    "    def __enter__(self):\n",
    "        self.file = open(self.path, mode='w', encoding='utf-8')\n",
    "        return self.file\n",
    "\n",
    "    def __exit__(self, exc_type, exc_value, traceback):\n",
    "        if self.file:\n",
    "            self.file.close()"
   ]
  },
  {
   "cell_type": "code",
   "execution_count": 7,
   "metadata": {},
   "outputs": [],
   "source": [
    "with WritableTextFile('output.txt') as file:\n",
    "    file.write('Python generation!')"
   ]
  },
  {
   "cell_type": "markdown",
   "metadata": {},
   "source": [
    "## Пример 3. Контекстный менеджер RedirectedStdout"
   ]
  },
  {
   "cell_type": "code",
   "execution_count": 33,
   "metadata": {},
   "outputs": [],
   "source": [
    "import sys\n",
    "\n",
    "class RedirectedStdout:\n",
    "    def __init__(self, new_output):\n",
    "        self.new_output = new_output\n",
    "\n",
    "    def __enter__(self):\n",
    "        self.standard_output = sys.stdout\n",
    "        sys.stdout = self.new_output\n",
    "\n",
    "    def __exit__(self, exc_type, exc_value, traceback):\n",
    "        sys.stdout = self.standard_output "
   ]
  },
  {
   "cell_type": "code",
   "execution_count": 34,
   "metadata": {},
   "outputs": [
    {
     "name": "stdout",
     "output_type": "stream",
     "text": [
      "Возврат к стандартному потоку вывода\n"
     ]
    }
   ],
   "source": [
    "with open('output.txt', mode='w', encoding='utf-8') as file:\n",
    "    with RedirectedStdout(file):\n",
    "        print('Python generation!')\n",
    "    print('Возврат к стандартному потоку вывода')"
   ]
  },
  {
   "cell_type": "markdown",
   "metadata": {},
   "source": [
    "# Одноразовые, многоразовые и реентерабельные"
   ]
  },
  {
   "cell_type": "markdown",
   "metadata": {},
   "source": [
    "Контекстные менеджеры обычно делят на три категории:\n",
    "\n",
    "* одноразовые\n",
    "\n",
    "Большинство контекстных менеджеров написаны таким образом, что они могут эффективно использоваться в операторе with только один раз. Такие менеджеры называют одноразовыми, и они должны создаваться заново каждый раз перед использованием. Когда они уже используются или использовались в операторе with – попытка использовать их во второй раз может привести к возбуждению исключения или приведет к неправильной их работе.\n",
    "\n",
    "* многоразовые\n",
    "\n",
    "Многоразовый контекстный менеджер – это менеджер, который можно повторно использовать в рамках невложенных операторов with. Примером многоразового контекстного менеджера может служить Timer, позволяющий измерять время выполнения блока кода:\n",
    "\n",
    "* реентерабельные\n",
    "\n",
    "Реентерабельный контекстный менеджер – это менеджер, который можно повторно использовать в рамках вложенных операторов with. Примером реентерабельного контекстного менеджера может служить Indenter, который позволяет печатать текст на разных уровнях отступа:\n",
    "\n",
    "Выглядит как рекурсия контекстных менеджеров."
   ]
  },
  {
   "cell_type": "code",
   "execution_count": 36,
   "metadata": {},
   "outputs": [],
   "source": [
    "# создаваться заново каждый раз перед использованием\n",
    "file = open('output.txt', mode='w', encoding='utf-8')\n",
    "\n",
    "with file:\n",
    "    file.write('Python generation!')\n",
    "    \n",
    "# with file:\n",
    "#     file.write('Python generation!') # не переспользуется"
   ]
  },
  {
   "cell_type": "code",
   "execution_count": 37,
   "metadata": {},
   "outputs": [],
   "source": [
    "# можно повторно использовать в рамках невложенных операторов with\n",
    "from time import perf_counter\n",
    "\n",
    "class Timer:\n",
    "    def __enter__(self):\n",
    "        self.start = perf_counter()\n",
    "        return self\n",
    "\n",
    "    def __exit__(self, exc_type, exc_value, traceback):\n",
    "        self.elapsed = perf_counter() - self.start"
   ]
  },
  {
   "cell_type": "code",
   "execution_count": 38,
   "metadata": {},
   "outputs": [
    {
     "name": "stdout",
     "output_type": "stream",
     "text": [
      "Затраченное время: 1.5001615000655875\n",
      "Затраченное время: 0.7000687000108883\n",
      "Затраченное время: 1.0000844000605866\n"
     ]
    }
   ],
   "source": [
    "from time import sleep\n",
    "\n",
    "timer = Timer()\n",
    "\n",
    "with timer:\n",
    "    sleep(1.5)\n",
    "print('Затраченное время:', timer.elapsed)\n",
    "\n",
    "with timer:\n",
    "    sleep(0.7)\n",
    "print('Затраченное время:', timer.elapsed)\n",
    "\n",
    "with timer:\n",
    "    sleep(1)\n",
    "print('Затраченное время:', timer.elapsed)"
   ]
  },
  {
   "cell_type": "code",
   "execution_count": 40,
   "metadata": {},
   "outputs": [],
   "source": [
    "# Реентерабельный контекстный менеджер - можно повторно использовать в рамках вложенных операторов with\n",
    "class Indenter:\n",
    "    def __init__(self):\n",
    "        self.level = -1\n",
    "\n",
    "    def __enter__(self):\n",
    "        self.level += 1 # +1 каждый раз, когда поток выполнения входит в контекст\n",
    "        return self\n",
    "\n",
    "    def __exit__(self, exc_type, exc_value, traceback):\n",
    "        self.level -= 1 # -1 каждый раз, когда поток выполнения входит в контекст\n",
    "\n",
    "    def print(self, text):\n",
    "        print('    ' * self.level + text)"
   ]
  },
  {
   "cell_type": "code",
   "execution_count": 41,
   "metadata": {},
   "outputs": [
    {
     "name": "stdout",
     "output_type": "stream",
     "text": [
      "python\n",
      "    beegeek\n",
      "        stepik\n",
      "    pygen\n",
      "bye-bye\n"
     ]
    }
   ],
   "source": [
    "with Indenter() as indent:\n",
    "    indent.print('python')\n",
    "    with indent:\n",
    "        indent.print('beegeek')\n",
    "        with indent:\n",
    "            indent.print('stepik')\n",
    "        indent.print('pygen')\n",
    "    indent.print('bye-bye')"
   ]
  },
  {
   "cell_type": "markdown",
   "metadata": {},
   "source": [
    "## Декоратор @contextmanager"
   ]
  },
  {
   "cell_type": "markdown",
   "metadata": {},
   "source": [
    "В Python создавать контекстные менеджеры можно намного проще с помощью декоратора @contextmanager из модуля contextlib. Декоратор @contextmanager позволяет создать контекстный менеджер на основе функции, автоматически предоставляя оба требуемых метода __enter__() и __exit__()."
   ]
  },
  {
   "cell_type": "code",
   "execution_count": 42,
   "metadata": {},
   "outputs": [],
   "source": [
    "class CustomContextManager:\n",
    "    def __enter__(self):\n",
    "        print('Вход в контекстный менеджер...')\n",
    "        return 'Python generation!'\n",
    "\n",
    "    def __exit__(self, exc_type, exc_value, traceback):\n",
    "        print('Выход из контекстного менеджера...')"
   ]
  },
  {
   "cell_type": "code",
   "execution_count": 47,
   "metadata": {},
   "outputs": [],
   "source": [
    "from contextlib import contextmanager\n",
    "\n",
    "@contextmanager\n",
    "def custom_context_manager():\n",
    "    print('Вход в контекстный менеджер...')\n",
    "    yield 'Python generation!'\n",
    "    print('Выход из контекстного менеджера...')"
   ]
  },
  {
   "cell_type": "code",
   "execution_count": 48,
   "metadata": {},
   "outputs": [
    {
     "name": "stdout",
     "output_type": "stream",
     "text": [
      "Вход в контекстный менеджер...\n",
      "Python generation!\n",
      "Выход из контекстного менеджера...\n"
     ]
    }
   ],
   "source": [
    "with custom_context_manager() as manager:\n",
    "    print(manager)"
   ]
  },
  {
   "cell_type": "code",
   "execution_count": 49,
   "metadata": {},
   "outputs": [],
   "source": [
    "from contextlib import contextmanager\n",
    "\n",
    "@contextmanager\n",
    "def custom_context_manager():\n",
    "    print('Вход в контекстный менеджер...')\n",
    "    try:\n",
    "        yield 'Python generation!'\n",
    "    except IndexError as error:\n",
    "        print(f'Тип возбужденного исключения: {type(error)}')\n",
    "        print(f'Текст исключения: {error}')\n",
    "    except:\n",
    "        raise           # если исключение не планируется подавлять, оно должно быть возбуждено повторно\n",
    "    finally:\n",
    "        print('Выход из контекстного менеджера...')"
   ]
  },
  {
   "cell_type": "code",
   "execution_count": 50,
   "metadata": {},
   "outputs": [
    {
     "name": "stdout",
     "output_type": "stream",
     "text": [
      "Вход в контекстный менеджер...\n",
      "Python generation!\n",
      "Тип возбужденного исключения: <class 'IndexError'>\n",
      "Текст исключения: string index out of range\n",
      "Выход из контекстного менеджера...\n"
     ]
    }
   ],
   "source": [
    "with custom_context_manager() as manager:\n",
    "    print(manager)\n",
    "    print(manager[100]) "
   ]
  },
  {
   "cell_type": "markdown",
   "metadata": {},
   "source": [
    "## Применение с  БД"
   ]
  },
  {
   "cell_type": "code",
   "execution_count": null,
   "metadata": {},
   "outputs": [],
   "source": [
    "from contextlib import contextmanager\n",
    "import psycopg2\n",
    "\n",
    "@contextmanager\n",
    "def db_connection(host, database, user, password):\n",
    "    conn = psycopg2.connect(\n",
    "        host=host,\n",
    "        database=database,\n",
    "        user=user,\n",
    "        password=password\n",
    "    )\n",
    "    try:\n",
    "        cur = conn.cursor()\n",
    "        yield cur\n",
    "        conn.commit()\n",
    "    except Exception as e:\n",
    "        conn.rollback()\n",
    "        raise e\n",
    "    finally:\n",
    "        conn.close()\n",
    "\n",
    "with db_connection('localhost', 'postgres', 'postgres', 'postgres') as conn:\n",
    "    cur = conn.cursor()\n",
    "    cur.execute(\"INSERT INTO users (name, email) VALUES (%s, %s)\", ('John Doe', 'john@example.com'))\n",
    "    cur.execute(\"SELECT * FROM users WHERE email = %s\", ('john@example.com',))\n",
    "    row = cur.fetchone()\n",
    "    print(row)\n",
    "\n",
    "# После выхода из блока 'with' соединение автоматически закрыто\n"
   ]
  },
  {
   "cell_type": "code",
   "execution_count": null,
   "metadata": {},
   "outputs": [],
   "source": [
    "import asyncio\n",
    "from contextlib import contextmanager, AsyncExitStack\n",
    "import psycopg2\n",
    "\n",
    "@contextmanager\n",
    "def asyncio_db_connection(host, database, user, password):\n",
    "    conn = psycopg2.connect(\n",
    "        host=host,\n",
    "        database=database,\n",
    "        user=user,\n",
    "        password=password\n",
    "    )\n",
    "    try:\n",
    "        yield conn\n",
    "    finally:\n",
    "        conn.close()\n",
    "\n",
    "async def main():\n",
    "    async with AsyncExitStack() as stack:\n",
    "        db_conn = await stack.enter_async_context(asyncio_db_connection('localhost', 'postgres', 'postgres', 'postgres'))\n",
    "        async with db_conn.cursor() as cur:\n",
    "            await cur.execute(\"SELECT * FROM users WHERE id = %s\", (1,))\n",
    "            row = await cur.fetchone()\n",
    "            print(row)\n",
    "    \n",
    "asyncio.run(main())\n",
    "\n",
    "# После выхода из блока 'with' соединение автоматически закрыто\n"
   ]
  },
  {
   "cell_type": "markdown",
   "metadata": {},
   "source": [
    "## Когда использовать контекстные менеджеры\n",
    "\n",
    "Дэйв Брондсема выступил с [замечательным докладом о декораторах и контекстных менеджерах](https://www.youtube.com/watch?v=cSbD5SKwak0) на конференции PyCon 2012. [Он упомянул] (https://youtu.be/cSbD5SKwak0?t=13m15s), что нам следует использовать контекстные менеджеры, когда мы видим в нашем коде любой из следующих шаблонов:\n",
    "* `Открыть` - `Закрыть` (смотрите пример ниже)\n",
    "* `Заблокировать` - `Разблокировать`\n",
    "* `Изменить` - `Сбросить`\n",
    "* `Войти` - `Выйти`\n",
    "* `Начать` - `Остановить`\n",
    "\n",
    "Арнав Кхаре подробно описывает множество отличных примеров использования [контекстных менеджеров в реальном мире] (http://arnavk.com/posts/python-context-managers/) и предоставляет начальный код для каждого примера."
   ]
  },
  {
   "cell_type": "markdown",
   "metadata": {},
   "source": [
    "---"
   ]
  },
  {
   "cell_type": "markdown",
   "metadata": {},
   "source": [
    "---"
   ]
  },
  {
   "cell_type": "markdown",
   "metadata": {},
   "source": [
    "#### Дополнительные ресурсы\n",
    "\n",
    "* [Jeff Knupp - Python with Context Managers](https://jeffknupp.com/blog/2016/03/07/python-with-context-managers/)\n",
    "* [*Python Tips* - Context Managers](http://book.pythontips.com/en/latest/context_managers.html)\n",
    "* [StackOverflow *(Praise Be)* discussion](http://stackoverflow.com/questions/3693771/trying-to-understand-python-with-statement-and-context-managers)\n",
    "* [Arnav Khare - Python in the real world: Context Managers](http://arnavk.com/posts/python-context-managers/)\n",
    "* [Context Managers: Advanced Techniques YouTube video](https://www.youtube.com/watch?v=ORo1-sXmvGg&t=1822s)\n",
    "* [Dave Brondsema - Decorators and Context Managers](https://www.youtube.com/watch?v=cSbD5SKwak0) (PyCon 2012)"
   ]
  }
 ],
 "metadata": {
  "anaconda-cloud": {},
  "kernelspec": {
   "display_name": "env1",
   "language": "python",
   "name": "python3"
  },
  "language_info": {
   "codemirror_mode": {
    "name": "ipython",
    "version": 3
   },
   "file_extension": ".py",
   "mimetype": "text/x-python",
   "name": "python",
   "nbconvert_exporter": "python",
   "pygments_lexer": "ipython3",
   "version": "3.12.3"
  }
 },
 "nbformat": 4,
 "nbformat_minor": 2
}
