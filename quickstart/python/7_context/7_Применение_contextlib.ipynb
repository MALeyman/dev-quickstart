{
 "cells": [
  {
   "cell_type": "markdown",
   "metadata": {},
   "source": [
    "# 1. Создание контекстного менеджера с помощью @contextmanager"
   ]
  },
  {
   "cell_type": "code",
   "execution_count": 1,
   "metadata": {},
   "outputs": [],
   "source": [
    "from contextlib import contextmanager\n",
    "import sqlite3\n",
    "\n",
    "@contextmanager\n",
    "def file_open(filename, mode='r'):\n",
    "    f = open(filename, mode)\n",
    "    try:\n",
    "        yield f\n",
    "    finally:\n",
    "        f.close()\n",
    "\n",
    "with file_open('example.txt', 'w') as f:\n",
    "    f.write(\"Hello, world!\")\n",
    "\n",
    "# Аналогично работает с файлами в других модулях:\n",
    "with sqlite3.connect('database.db') as conn:\n",
    "    cursor = conn.cursor()\n",
    "    # Выполнение операций с базой данных\n"
   ]
  },
  {
   "cell_type": "markdown",
   "metadata": {},
   "source": [
    "Этот пример демонстрирует, как создать контекстный менеджер для открытия и закрытия файлов или соединений с базами данных."
   ]
  },
  {
   "cell_type": "code",
   "execution_count": null,
   "metadata": {},
   "outputs": [],
   "source": [
    "from contextlib import suppress\n",
    "\n",
    "with suppress(FileNotFoundError, PermissionError):\n",
    "    with open('nonexistent_file.txt', 'r') as file:\n",
    "        content = file.read()\n",
    "print(content)  # Игнорирует FileNotFoundError и PermissionError\n",
    "\n",
    "# Аналогично можно игнорировать несколько типов исключений"
   ]
  },
  {
   "cell_type": "code",
   "execution_count": null,
   "metadata": {},
   "outputs": [],
   "source": [
    "from contextlib import nullcontext\n",
    "\n",
    "def expensive_operation():\n",
    "    print(\"Выполняется дорогостоящая операция\")\n",
    "    # Здесь могла бы быть сложная логика или ресурсоемкая операция\n",
    "    print(\"Операция завершена\")\n",
    "\n",
    "# Функция для определения, когда пропускать выполнение\n",
    "def should_skip_execution():\n",
    "    return True  # В реальном сценарии это могло бы быть условие\n",
    "\n",
    "# Использование nullcontext для пропуска выполнения\n",
    "if should_skip_execution():\n",
    "    with nullcontext() as _:\n",
    "        expensive_operation()\n",
    "else:\n",
    "    print(\"Выполняется обычный код\")\n",
    "\n",
    "print(\"Программа продолжает работу\")\n"
   ]
  },
  {
   "cell_type": "markdown",
   "metadata": {},
   "source": [
    "# 2. Использование @closing для автоматического закрытия ресурсов"
   ]
  },
  {
   "cell_type": "code",
   "execution_count": 2,
   "metadata": {},
   "outputs": [],
   "source": [
    "from contextlib import closing\n",
    "import urllib\n",
    "\n",
    "def read_url(url):\n",
    "    with closing(urllib.request.urlopen(url)) as page:\n",
    "        return page.read()\n",
    "\n",
    "# Аналогично работает с другими объектами, поддерживающими контекстные менеджеры\n"
   ]
  },
  {
   "cell_type": "markdown",
   "metadata": {},
   "source": [
    "Здесь @closing гарантирует закрытие объекта после выполнения блока кода."
   ]
  },
  {
   "cell_type": "markdown",
   "metadata": {},
   "source": [
    "# 3. Создание контекстного менеджера для многоканального ввода-вывода"
   ]
  },
  {
   "cell_type": "code",
   "execution_count": null,
   "metadata": {},
   "outputs": [],
   "source": [
    "import select\n",
    "from contextlib import contextmanager\n",
    "\n",
    "@contextmanager\n",
    "def multiplex_io(inputs, outputs, timeout=1.0):\n",
    "    readable, writable, errored = select.select(inputs, outputs, [], timeout)\n",
    "    yield readable, writable, errored\n",
    "    for fd in readable:\n",
    "        fd.recv(1024)\n",
    "    for fd in writable:\n",
    "        fd.sendall(b\"\")\n",
    "    for fd in errored:\n",
    "        fd.close()\n",
    "\n",
    "# Пример использования\n",
    "inputs = [open('input.txt', 'rb'), socket.socket(socket.AF_INET, socket.SOCK_STREAM)]\n",
    "outputs = [open('output.txt', 'wb'), socket.socket(socket.AF_INET, socket.SOCK_STREAM)]\n",
    "\n",
    "with multiplex_io(inputs, outputs) as (readable, writable, errored):\n",
    "    print(\"Waiting...\")\n",
    "    # Здесь можно обработать данные из файлов и сетевых сокетов\n"
   ]
  },
  {
   "cell_type": "markdown",
   "metadata": {},
   "source": [
    "Этот пример демонстрирует использование контекстного менеджера для многоканального ввода-вывода."
   ]
  },
  {
   "cell_type": "markdown",
   "metadata": {},
   "source": [
    "# 4. Использование @redirect_stdout для изменения вывода"
   ]
  },
  {
   "cell_type": "code",
   "execution_count": 1,
   "metadata": {},
   "outputs": [
    {
     "name": "stdout",
     "output_type": "stream",
     "text": [
      "This will be printed normally\n",
      "Second line\n"
     ]
    }
   ],
   "source": [
    "from contextlib import redirect_stdout\n",
    "\n",
    "with open('output.txt', 'w') as f:\n",
    "    with redirect_stdout(f):\n",
    "        print(\"This will be written to output.txt\")\n",
    "print(\"This will be printed normally\")\n",
    "\n",
    "# Вывод в файл и обычный вывод могут быть объединены:\n",
    "with open('combined_output.txt', 'w') as f:\n",
    "    with redirect_stdout(f):\n",
    "        print(\"First line\")\n",
    "    print(\"Second line\")  # Это будет обычным выводом\n"
   ]
  },
  {
   "cell_type": "markdown",
   "metadata": {},
   "source": [
    "Здесь @redirect_stdout позволяет изменить стандартный поток вывода на указанный файл или объект."
   ]
  },
  {
   "cell_type": "markdown",
   "metadata": {},
   "source": [
    "# 5. Создание контекстного менеджера с повторяющимся использованием"
   ]
  },
  {
   "cell_type": "code",
   "execution_count": 4,
   "metadata": {},
   "outputs": [
    {
     "name": "stdout",
     "output_type": "stream",
     "text": [
      "Entering context\n",
      "<__main__.ReusableContextManager object at 0x000001C3BB79D460>\n",
      "<__main__.ReusableContextManager object at 0x000001C3BB79D460>\n"
     ]
    }
   ],
   "source": [
    "import contextlib\n",
    "\n",
    "class ReusableContextManager:\n",
    "    def __enter__(self):\n",
    "        return self\n",
    "\n",
    "    def __exit__(self, exc_type, exc_value, traceback):\n",
    "        return False  # Не игнорируем исключения\n",
    "\n",
    "@contextlib.contextmanager\n",
    "def repeat_context_manager():\n",
    "    manager = ReusableContextManager()\n",
    "    yield manager\n",
    "\n",
    "with repeat_context_manager() as manager:\n",
    "    print(\"Entering context\")\n",
    "    # Здесь можно использовать manager несколько раз\n",
    "    print(manager)\n",
    "    print(manager)\n"
   ]
  },
  {
   "cell_type": "markdown",
   "metadata": {},
   "source": [
    "Этот пример демонстрирует создание контекстного менеджера, который может быть повторно использован внутри блока with."
   ]
  },
  {
   "cell_type": "markdown",
   "metadata": {},
   "source": [
    "# 6. Использование @suppress для игнорирования определенных исключений"
   ]
  },
  {
   "cell_type": "code",
   "execution_count": 5,
   "metadata": {},
   "outputs": [
    {
     "name": "stdout",
     "output_type": "stream",
     "text": [
      "File not found\n"
     ]
    }
   ],
   "source": [
    "from contextlib import suppress\n",
    "\n",
    "try:\n",
    "    with open('nonexistent_file.txt', 'r') as f:\n",
    "        content = f.read()\n",
    "except FileNotFoundError:\n",
    "    print(\"File not found\")\n",
    "else:\n",
    "    print(\"File contents:\", content)\n",
    "\n",
    "# Аналогично работает с другими исключениями:\n",
    "with suppress(FileNotFoundError, PermissionError):\n",
    "    with open('protected_file.txt', 'r') as f:\n",
    "        content = f.read()\n",
    "    print(content)\n"
   ]
  },
  {
   "cell_type": "markdown",
   "metadata": {},
   "source": [
    "Здесь @suppress позволяет игнорировать конкретные исключения при выполнении кода в блоке with."
   ]
  },
  {
   "cell_type": "markdown",
   "metadata": {},
   "source": [
    "# 7. ExitStack из модуля contextlib"
   ]
  },
  {
   "cell_type": "markdown",
   "metadata": {},
   "source": [
    "## Базовый пример с несколькими файлами"
   ]
  },
  {
   "cell_type": "code",
   "execution_count": 7,
   "metadata": {},
   "outputs": [
    {
     "name": "stdout",
     "output_type": "stream",
     "text": [
      "Processing file 1:\n",
      "First 20 characters of file 1: Hello, world!\n",
      "Processing file 2:\n",
      "First 20 characters of file 2: This will be written\n",
      "Processing file 3:\n",
      "First 20 characters of file 3: \n",
      "Python generation!\n"
     ]
    }
   ],
   "source": [
    "from contextlib import ExitStack\n",
    "\n",
    "def process_multiple_files(file_paths):\n",
    "    with ExitStack() as stack:\n",
    "        files = [stack.enter_context(open(path, 'r')) for path in file_paths]\n",
    "        \n",
    "        # Обработка файлов\n",
    "        for i, file in enumerate(files):\n",
    "            print(f\"Processing file {i+1}:\")\n",
    "            content = file.read()\n",
    "            print(f\"First 20 characters of file {i+1}: {content[:20]}\")\n",
    "        \n",
    "        # Все файлы будут автоматически закрыты при выходе из блока with\n",
    "\n",
    "# Использование\n",
    "file_paths = ['example.txt', 'output.txt', 'output3.txt']\n",
    "process_multiple_files(file_paths)\n"
   ]
  },
  {
   "cell_type": "markdown",
   "metadata": {},
   "source": [
    "## Работа с несколькими базами данных "
   ]
  },
  {
   "cell_type": "code",
   "execution_count": null,
   "metadata": {},
   "outputs": [],
   "source": [
    "import sqlite3\n",
    "from contextlib import ExitStack\n",
    "\n",
    "def process_multiple_databases(db_paths):\n",
    "    with ExitStack() as stack:\n",
    "        connections = [stack.enter_context(sqlite3.connect(path)) for path in db_paths]\n",
    "        \n",
    "        # Обработка баз данных\n",
    "        for i, conn in enumerate(connections):\n",
    "            print(f\"\\nProcessing database {i+1}: {conn.filename}\")\n",
    "            cursor = conn.cursor()\n",
    "            cursor.execute(\"SELECT * FROM some_table\")\n",
    "            row = cursor.fetchone()\n",
    "            while row:\n",
    "                print(row)\n",
    "                row = cursor.fetchone()\n",
    "        \n",
    "        # Все соединения будут автоматически закрыты при выходе из блока with\n",
    "\n",
    "# Использование\n",
    "db_paths = ['database1.db', 'database2.db', 'database3.db']\n",
    "process_multiple_databases(db_paths)"
   ]
  },
  {
   "cell_type": "code",
   "execution_count": null,
   "metadata": {},
   "outputs": [],
   "source": [
    "from contextlib import ExitStack\n",
    "import sqlite3\n",
    "import psycopg2\n",
    "import mysql.connector\n",
    "\n",
    "def connect_to_db(db_type, db_name):\n",
    "    if db_type == \"sqlite\":\n",
    "        conn = sqlite3.connect(db_name)\n",
    "    elif db_type == \"postgres\":\n",
    "        conn = psycopg2.connect(db_name) # расширится подключение\n",
    "    elif db_type == \"mysql\":\n",
    "        conn = mysql.connector.connect(db_name) # расширится подключение\n",
    "    else:\n",
    "        raise ValueError(\"Unsupported database type\")\n",
    "    \n",
    "    return conn\n",
    "\n",
    "def query_database(db_type, db_name, query):\n",
    "    with connect_to_db(db_type, db_name) as conn:\n",
    "        with ExitStack() as stack:\n",
    "            cursor = conn.cursor()\n",
    "            \n",
    "            # Открываем соединения с другими базами данных\n",
    "            other_conn1 = stack.enter_context(connect_to_db(db_type, f\"other_{db_name}_1\"))\n",
    "            other_cursor1 = other_conn1.cursor()\n",
    "            \n",
    "            other_conn2 = stack.enter_context(connect_to_db(db_type, f\"other_{db_name}_2\"))\n",
    "            other_cursor2 = other_conn2.cursor()\n",
    "            \n",
    "            # Выполняем запросы\n",
    "            cursor.execute(query)\n",
    "            other_cursor1.execute(\"SELECT * FROM other_table\")\n",
    "            other_cursor2.execute(\"SELECT * FROM another_table\")\n",
    "            \n",
    "            # Получаем результаты\n",
    "            result = cursor.fetchall()\n",
    "            result1 = other_cursor1.fetchall()\n",
    "            result2 = other_cursor2.fetchall()\n",
    "        \n",
    "        # Закрываем соединения\n",
    "        conn.close()\n",
    "        other_conn1.close()\n",
    "        other_conn2.close()\n",
    "\n",
    "# Использование\n",
    "query_database(\"sqlite\", \"main.db\", \"SELECT * FROM main_table\")\n"
   ]
  },
  {
   "cell_type": "markdown",
   "metadata": {},
   "source": [
    "## Управление ресурсами с разными типами контекстных менеджеров"
   ]
  },
  {
   "cell_type": "code",
   "execution_count": 15,
   "metadata": {},
   "outputs": [
    {
     "name": "stdout",
     "output_type": "stream",
     "text": [
      "File1: Hello, world!\n",
      "File2: Hello, world!\n",
      "URL content: b'<!doctype html>\\n<htm'\n",
      "Buffer content: Buffered data\n"
     ]
    }
   ],
   "source": [
    "from contextlib import ExitStack\n",
    "import urllib.request\n",
    "import io\n",
    "\n",
    "def process_resources():\n",
    "    with ExitStack() as stack:\n",
    "        file1 = stack.enter_context(open('file.txt', 'r'))\n",
    "        file2 = stack.enter_context(open('example.txt', 'r'))\n",
    "        url_content = stack.enter_context(urllib.request.urlopen('https://ru.wikipedia.org/wiki/Python'))\n",
    "        buffer = io.StringIO()\n",
    "        \n",
    "        # Обработка ресурсов\n",
    "        content1 = file1.read()\n",
    "        content2 = file2.read()\n",
    "        url_data = url_content.read()\n",
    "        buffer.write(\"Buffered data\")\n",
    "        \n",
    "        print(f\"File1: {content1[:20]}\")\n",
    "        print(f\"File2: {content2[:20]}\")\n",
    "        print(f\"URL content: {url_data[:20]}\")\n",
    "        print(f\"Buffer content: {buffer.getvalue()[:20]}\")\n",
    "\n",
    "# Использование\n",
    "process_resources()\n"
   ]
  },
  {
   "cell_type": "markdown",
   "metadata": {},
   "source": [
    "## Динамическое управление контекстными менеджерами"
   ]
  },
  {
   "cell_type": "code",
   "execution_count": 20,
   "metadata": {},
   "outputs": [
    {
     "name": "stdout",
     "output_type": "stream",
     "text": [
      "\n",
      "Processing resource 1\n",
      "Hello, world!\n",
      "\n",
      "Processing resource 2\n"
     ]
    }
   ],
   "source": [
    "from contextlib import ExitStack\n",
    "\n",
    "# Создаем таблицу some_table если она не существует\n",
    "create_table_query = \"\"\"\n",
    "    CREATE TABLE IF NOT EXISTS some_table (\n",
    "        id INTEGER PRIMARY KEY,\n",
    "        column1 TEXT,\n",
    "        column2 INTEGER,\n",
    "        -- добавьте другие столбцы по необходимости\n",
    "        created_at TIMESTAMP DEFAULT CURRENT_TIMESTAMP\n",
    "    )\n",
    "\"\"\"\n",
    "\n",
    "def dynamic_resource_management(resource_types, resource_params):\n",
    "    with ExitStack() as stack:\n",
    "        resources = []\n",
    "        for resource_type, params in resource_params.items():\n",
    "            if resource_type == 'file':\n",
    "                resources.append(stack.enter_context(open(params['path'], params.get('mode', 'r'))))\n",
    "            elif resource_type == 'database':\n",
    "                conn = sqlite3.connect(params['path'])\n",
    "                cursor = conn.cursor()\n",
    "                resources.append((conn, cursor))\n",
    "            # Добавьте другие типы ресурсов по необходимости\n",
    "        \n",
    "        # Обработка ресурсов\n",
    "        for i, resource in enumerate(resources):\n",
    "            print(f\"\\nProcessing resource {i+1}\")\n",
    "            if isinstance(resource, tuple):  # База данных\n",
    "                conn, cursor = resource\n",
    "                cursor.execute(create_table_query)\n",
    "                cursor.execute(\"SELECT * FROM some_table\")\n",
    "                row = cursor.fetchone()\n",
    "                while row:\n",
    "                    print(row)\n",
    "                    row = cursor.fetchone()\n",
    "            else:  # Файл\n",
    "                content = resource.read()\n",
    "                print(content[:50])\n",
    "        \n",
    "        # Автоматическое закрытие всех ресурсов\n",
    "\n",
    "# Использование\n",
    "resource_types = ['file', 'database']\n",
    "resource_params = {\n",
    "    'file': {'path': 'example.txt', 'mode': 'r'},\n",
    "    'database': {'path': 'example.db'}\n",
    "}\n",
    "dynamic_resource_management(resource_types, resource_params)\n"
   ]
  }
 ],
 "metadata": {
  "kernelspec": {
   "display_name": "Python 3",
   "language": "python",
   "name": "python3"
  },
  "language_info": {
   "codemirror_mode": {
    "name": "ipython",
    "version": 3
   },
   "file_extension": ".py",
   "mimetype": "text/x-python",
   "name": "python",
   "nbconvert_exporter": "python",
   "pygments_lexer": "ipython3",
   "version": "3.12.1"
  }
 },
 "nbformat": 4,
 "nbformat_minor": 2
}
