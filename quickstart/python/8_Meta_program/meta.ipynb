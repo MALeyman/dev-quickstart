{
 "cells": [
  {
   "cell_type": "markdown",
   "metadata": {},
   "source": [
    "# Метапрограммирование в Python"
   ]
  },
  {
   "cell_type": "markdown",
   "metadata": {},
   "source": [
    "## Задача 1 Применение метаклассов"
   ]
  },
  {
   "cell_type": "code",
   "execution_count": 5,
   "metadata": {},
   "outputs": [],
   "source": [
    "class AttrLoggingMeta(type):\n",
    "    def __new__(cls, name, bases, dct):\n",
    "        # Оборачивание всех методов и атрибутов для логирования\n",
    "        for attr_name, attr_value in dct.items():\n",
    "            if callable(attr_value):\n",
    "                dct[attr_name] = cls.wrap_method(attr_name, attr_value)\n",
    "        \n",
    "        # Создание класса через базовый метакласс\n",
    "        new_class = super().__new__(cls, name, bases, dct)\n",
    "        return new_class\n",
    "\n",
    "    @staticmethod\n",
    "    def wrap_method(name, method):\n",
    "        def wrapped_method(self, *args, **kwargs):\n",
    "            print(f\"Вызов метода {name}\")\n",
    "            return method(self, *args, **kwargs)\n",
    "        return wrapped_method\n",
    "\n",
    "    def __call__(cls, *args, **kwargs):\n",
    "        instance = super().__call__(*args, **kwargs)\n",
    "        for name, value in cls.__dict__.items():\n",
    "            if isinstance(value, property):\n",
    "                cls.wrap_property(instance, name)\n",
    "        return instance\n",
    "\n",
    "    @staticmethod\n",
    "    def wrap_property(instance, name):\n",
    "        prop = getattr(type(instance), name)\n",
    "\n",
    "        def getter(self):\n",
    "            value = prop.fget(self)\n",
    "            type(self).log_read(name, value, self)\n",
    "            return value\n",
    "\n",
    "        def setter(self, value):\n",
    "            type(self).log_write(name, value, self)\n",
    "            prop.fset(self, value)\n",
    "\n",
    "        setattr(type(instance), name, property(getter, setter))\n",
    "\n",
    "    @staticmethod\n",
    "    def log_access(name, value):\n",
    "        print(f\"Доступ к атрибуту {name} со значением {value}\")\n",
    "\n",
    "    @staticmethod\n",
    "    def log_read(name, value, instance):\n",
    "        print(f\"Чтение атрибута {name}: {value}\")\n",
    "\n",
    "    @staticmethod\n",
    "    def log_write(name, value, instance):\n",
    "        print(f\"Запись атрибута {name} со значением {value}\")\n",
    "\n",
    "class LoggedClass(metaclass=AttrLoggingMeta):\n",
    "    def __init__(self):\n",
    "        self._custom_method = 42\n",
    "\n",
    "    @property\n",
    "    def custom_method(self):\n",
    "        return self._custom_method\n",
    "\n",
    "    @custom_method.setter\n",
    "    def custom_method(self, value):\n",
    "        self._custom_method = value\n",
    "\n",
    "    def other_custom_method(self):\n",
    "        print(\"Выполнение other_custom_method\")\n"
   ]
  },
  {
   "cell_type": "code",
   "execution_count": 6,
   "metadata": {},
   "outputs": [
    {
     "name": "stdout",
     "output_type": "stream",
     "text": [
      "Вызов метода __init__\n",
      "Чтение атрибута custom_method: 42\n",
      "42\n",
      "Запись атрибута custom_method со значением 78\n",
      "Вызов метода other_custom_method\n",
      "Выполнение other_custom_method\n"
     ]
    }
   ],
   "source": [
    "if __name__ == \"__main__\":\n",
    "    instance = LoggedClass()\n",
    "    print(instance.custom_method)  # Доступ к атрибуту\n",
    "    instance.custom_method = 78   # Изменение атрибута\n",
    "    instance.other_custom_method()  # Вызов метода"
   ]
  },
  {
   "cell_type": "markdown",
   "metadata": {},
   "source": [
    "## Задача 2 Динамическое создание класса"
   ]
  },
  {
   "cell_type": "code",
   "execution_count": 2,
   "metadata": {},
   "outputs": [],
   "source": [
    "\n",
    "def create_class_with_methods(class_name, attributes, methods):\n",
    "    return type(class_name, (object,), {**attributes, **methods})\n"
   ]
  },
  {
   "cell_type": "code",
   "execution_count": 3,
   "metadata": {},
   "outputs": [
    {
     "name": "stdout",
     "output_type": "stream",
     "text": [
      "Здравствуйте, я Human и мне 25 годков.\n"
     ]
    }
   ],
   "source": [
    "if __name__ == \"__main__\":\n",
    "    # Задача 2: динамическое создание класса\n",
    "    attributes = {'species': 'Human', 'age': 25}\n",
    "    methods = {\n",
    "        'greet': lambda self: f\"Здравствуйте, я {self.species} и мне {self.age} годков.\"\n",
    "    }\n",
    "    DynamicClass = create_class_with_methods('DynamicClass', attributes, methods)\n",
    "    dynamic_instance = DynamicClass()\n",
    "    print(dynamic_instance.greet())\n"
   ]
  },
  {
   "cell_type": "code",
   "execution_count": 9,
   "metadata": {},
   "outputs": [
    {
     "name": "stdout",
     "output_type": "stream",
     "text": [
      "Здравствуйте, я МИША и мне 45 годков.\n",
      "Новый аттрибут добавлен name = Вася\n",
      "Изменение атрибута age = 35\n",
      "МИША\n",
      "Пока!\n"
     ]
    }
   ],
   "source": [
    "def create_class_with_methods(class_name, attributes, methods):\n",
    "    # Создаём класс с аттрибутами и методами\n",
    "    new_class = type(class_name, (object,), {**attributes, **methods})\n",
    "    \n",
    "    # Создаём экземпляр класса\n",
    "    instance = new_class()\n",
    "\n",
    "    # Добавляем атрибуты непосредственно к экземпляру\n",
    "    for attr, value in attributes.items():\n",
    "        setattr(instance, attr, value)\n",
    "\n",
    "    return new_class, instance\n",
    "\n",
    "if __name__ == \"__main__\":\n",
    "    # Задача 2: динамическое создание класса\n",
    "    attributes = {'species': 'МИША', 'age': 45}\n",
    "    methods = {\n",
    "        'greet': lambda self: f\"Здравствуйте, я {self.species} и мне {self.age} годков.\"\n",
    "    }\n",
    "    \n",
    "    # Создание класса и экземпляра\n",
    "    DynamicClass, dynamic_instance = create_class_with_methods('DynamicClass', attributes, methods)\n",
    "    \n",
    "    # Демонстрация работы с методом\n",
    "    print(dynamic_instance.greet())\n",
    "\n",
    "    # Демонстрация динамических изменений\n",
    "    # Добавление нового атрибута\n",
    "    setattr(dynamic_instance, 'name', 'Вася')\n",
    "    print(f\"Новый аттрибут добавлен name = {getattr(dynamic_instance, 'name')}\")\n",
    "\n",
    "    # Изменение существующего атрибута\n",
    "    setattr(dynamic_instance, 'age', 35)\n",
    "    print(f\"Изменение атрибута age = {getattr(dynamic_instance, 'age')}\")\n",
    "  \n",
    "    # Удаление атрибута\n",
    "    delattr(dynamic_instance, 'species')\n",
    "    try:\n",
    "        print(getattr(dynamic_instance, 'species'))\n",
    "    except AttributeError:\n",
    "        print(\"Attribute 'species' has been deleted.\")\n",
    "\n",
    "    # Добавление нового метода\n",
    "    setattr(dynamic_instance, 'say_goodbye', lambda: \"Пока!\")\n",
    "    print(dynamic_instance.say_goodbye())\n"
   ]
  },
  {
   "cell_type": "markdown",
   "metadata": {},
   "source": [
    "## Задача 3 Генерация кода"
   ]
  },
  {
   "cell_type": "code",
   "execution_count": 23,
   "metadata": {},
   "outputs": [
    {
     "name": "stdout",
     "output_type": "stream",
     "text": [
      "5\n",
      "5\n"
     ]
    }
   ],
   "source": [
    "def generate_complex_function(function_name, parameters, function_body):  \n",
    "    # Создаём строку с определением функции  \n",
    "    func_definition = f\"def {function_name}({', '.join(parameters)}):\\n\"  \n",
    "    func_definition += f\"    {function_body.replace('\\n', '\\n    ')}\"  # Добавляем отступы  \n",
    "    \n",
    "    # Выполняем определение функции  \n",
    "    exec(func_definition, globals())  \n",
    "    return eval(function_name)  \n",
    "\n",
    "if __name__ == \"__main__\":  \n",
    "    function_name = 'complex_function'  \n",
    "    parameters = ['x', 'y']  \n",
    "    function_body = \"\"\"  \n",
    "if x > y:  \n",
    "    return x - y  \n",
    "else:  \n",
    "    return y - x  \n",
    "\"\"\"  \n",
    "    \n",
    "    complex_func = generate_complex_function(function_name, parameters, function_body)  \n",
    "    print(complex_func(10, 5))  # 5  \n",
    "    print(complex_func(5, 10))   # 5"
   ]
  },
  {
   "cell_type": "code",
   "execution_count": 21,
   "metadata": {},
   "outputs": [
    {
     "name": "stdout",
     "output_type": "stream",
     "text": [
      "5\n",
      "5\n"
     ]
    }
   ],
   "source": [
    "def generate_complex_function(function_name, parameters, function_body):\n",
    "    # Создание строки с кодом для функции\n",
    "    params_str = ', '.join(parameters)\n",
    "    \n",
    "    # Добавление отступов в тело функции\n",
    "    indented_body = \"\\n    \".join(function_body.split(\"\\n\"))\n",
    "    function_code = f\"\"\"\n",
    "def {function_name}({params_str}):\n",
    "    {indented_body}\n",
    "\"\"\"\n",
    "    \n",
    "    # Выполнение сгенерированного кода с помощью exec\n",
    "    exec(function_code)\n",
    "    \n",
    "    # Возвращаем ссылку на сгенерированную функцию\n",
    "    return globals()[function_name]\n",
    "\n",
    "if __name__ == \"__main__\":\n",
    "    # Пример использования\n",
    "    function_name = 'complex_function'\n",
    "    parameters = ['x', 'y']\n",
    "    function_body = \"\"\"\n",
    "if x > y:\n",
    "    return x - y\n",
    "else:\n",
    "    return y - x\n",
    "\"\"\"\n",
    "    \n",
    "    # Генерация функции\n",
    "    complex_func = generate_complex_function(function_name, parameters, function_body)\n",
    "    \n",
    "    # Вызов сгенерированной функции\n",
    "    print(complex_func(10, 5))  # Output: 5\n",
    "    print(complex_func(5, 10))  # Output: 5\n"
   ]
  },
  {
   "cell_type": "code",
   "execution_count": null,
   "metadata": {},
   "outputs": [],
   "source": []
  }
 ],
 "metadata": {
  "kernelspec": {
   "display_name": ".myenv",
   "language": "python",
   "name": "python3"
  },
  "language_info": {
   "codemirror_mode": {
    "name": "ipython",
    "version": 3
   },
   "file_extension": ".py",
   "mimetype": "text/x-python",
   "name": "python",
   "nbconvert_exporter": "python",
   "pygments_lexer": "ipython3",
   "version": "3.12.8"
  }
 },
 "nbformat": 4,
 "nbformat_minor": 2
}
