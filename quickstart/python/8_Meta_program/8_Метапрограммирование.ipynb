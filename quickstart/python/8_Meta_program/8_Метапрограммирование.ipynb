{
 "cells": [
  {
   "cell_type": "code",
   "execution_count": 1,
   "metadata": {},
   "outputs": [],
   "source": [
    "from abc import ABCMeta, abstractmethod"
   ]
  },
  {
   "cell_type": "code",
   "execution_count": 2,
   "metadata": {},
   "outputs": [],
   "source": [
    "class BasePlugin(metaclass=ABCMeta):  \n",
    "    \"\"\"\n",
    "    Атрибут класса supported_formatsи метод run обязаны быть \n",
    "    реализованы\n",
    "    в наследниках этого класса\n",
    "    \"\"\"\n",
    "    @property  \n",
    "    @abstractmethod  \n",
    "    def supported_formats(self) -> list:  \n",
    "        pass  \n",
    "\n",
    "    @abstractmethod  \n",
    "    def run(self, input_data: dict):  \n",
    "        pass"
   ]
  },
  {
   "cell_type": "code",
   "execution_count": 3,
   "metadata": {},
   "outputs": [],
   "source": [
    "class VideoPlugin(BasePlugin):  \n",
    "    @property  \n",
    "    def supported_formats(self) -> list:  \n",
    "        return ['mp4', 'mkv', 'm8j']  \n",
    "    \n",
    "    def run(self):  \n",
    "        print('Processing video...')\n",
    "\n",
    "\n",
    "plugin = VideoPlugin()"
   ]
  },
  {
   "cell_type": "code",
   "execution_count": 4,
   "metadata": {},
   "outputs": [],
   "source": [
    "class MetaClass(type):\n",
    " \"\"\"\n",
    " Описание принимаемых параметров:\n",
    " mcs–объект метакласса, например <__main__.MetaClass>\n",
    " name –строка, имя класса, для которого используется \n",
    "данный метакласс, например \"User\"\n",
    " bases –кортеж из классов-родителей, например (SomeMixin, AbstractUser)\n",
    " attrs–dict-like объект, хранит в себе значения атрибутов и методов класса\n",
    " cls–созданный класс, например <__main__.User>\n",
    " extra_kwargs–дополнительные keyword-аргументы переданные в сигнатуру класса\n",
    " argsи kwargs–аргументы переданные в конструктор класса \n",
    "при создании нового экземпляра\n",
    " \"\"\"\n",
    "def __new__(mcs, name, bases, attrs, **extra_kwargs):\n",
    "    return super().__new__(mcs, name, bases, attrs)  \n",
    "\n",
    "def __init__(cls, name, bases, attrs, **extra_kwargs):  \n",
    "    super().__init__(cls) \n",
    "     \n",
    "@classmethod  \n",
    "def __prepare__(mcs, cls, bases, **extra_kwargs):  \n",
    "    return super().__prepare__(mcs, cls, bases, **kwargs)  \n",
    "\n",
    "def __call__(cls, *args, **kwargs):  \n",
    "    return super().__call__(*args, **kwargs)"
   ]
  },
  {
   "cell_type": "markdown",
   "metadata": {},
   "source": [
    "# Использование метаклассов"
   ]
  },
  {
   "cell_type": "markdown",
   "metadata": {},
   "source": [
    "Метаклассы позволяют настраивать создание классов в Python. Определив метакласс для класса, вы можете контролировать создание экземпляров класса, его атрибуты и поведение. Метаклассы часто используются для реализации фреймворков, ORM (объектно-реляционных отображений) и других сложных шаблонов программирования."
   ]
  },
  {
   "cell_type": "markdown",
   "metadata": {},
   "source": [
    "## Задача 1. Атрибуты класса в верхний регистр\n",
    "Напишите программу на Python для создания метакласса UpperAttrMeta, который преобразует все имена атрибутов класса в верхний регистр."
   ]
  },
  {
   "cell_type": "code",
   "execution_count": 5,
   "metadata": {},
   "outputs": [
    {
     "name": "stdout",
     "output_type": "stream",
     "text": [
      "normal\n",
      "another\n"
     ]
    }
   ],
   "source": [
    "class UpperAttrMeta(type):\n",
    "    def __new__(cls, name, bases, attrs):\n",
    "        # Создать новый словарь с именами атрибутов в верхнем регистре\n",
    "        upper_attrs = {k.upper(): v for k, v in attrs.items()}\n",
    "        \n",
    "        # Обновить исходные атрибуты до версии в верхнем регистре\n",
    "        attrs.clear() # очищение\n",
    "        attrs.update(upper_attrs)\n",
    "        \n",
    "        # Вызов суперкласса для фактического создания класса\n",
    "        return super().__new__(cls, name, bases, attrs)\n",
    "\n",
    "# Пример использования\n",
    "class LowerCaseClass(metaclass=UpperAttrMeta):\n",
    "    normal_attr = \"normal\"\n",
    "    another_attr = \"another\"\n",
    "    __private_attr = \"private\"\n",
    "\n",
    "# Доступ к атрибутам теперь будет осуществляться с помощью печати имен\n",
    "print(LowerCaseClass.NORMAL_ATTR)  # Вывод: normal\n",
    "print(LowerCaseClass.ANOTHER_ATTR)  # Вывод: another\n",
    "# print(LowerCaseClass.__name__)  # Вывод: another, AttributeError\n",
    "# print(LowerCaseClass.__PRIVATE_ATTR)  # Вывод: private, AttributeError"
   ]
  },
  {
   "cell_type": "code",
   "execution_count": 6,
   "metadata": {},
   "outputs": [
    {
     "name": "stdout",
     "output_type": "stream",
     "text": [
      "False\n",
      "True\n",
      "bar\n"
     ]
    }
   ],
   "source": [
    "# Определяем метакласс, который преобразует все имена атрибутов в верхний регистр\n",
    "class UpperAttrMeta(type):\n",
    "    def __new__(cls, name, bases, dct):\n",
    "        # Создаем новый словарь для хранения атрибутов в верхнем регистре\n",
    "        uppercase_attr = {}\n",
    "        for name, value in dct.items():\n",
    "            if not name.startswith('__'):\n",
    "                # Преобразовать название атрибута в верхний регистр\n",
    "                uppercase_attr[name.upper()] = value\n",
    "            else:\n",
    "                # Сохраните специальные методы в том виде, в каком они указаны \n",
    "                uppercase_attr[name] = value\n",
    "        # Создаем новый класс с измененными атрибутами\n",
    "        return super().__new__(cls, name, bases, uppercase_attr)\n",
    "\n",
    "# Создаем класс, используя метакласс\n",
    "class MyClass(metaclass=UpperAttrMeta):\n",
    "    foo = 'bar'\n",
    "    baz = 'qux'\n",
    "\n",
    "# Проверить класс\n",
    "print(hasattr(MyClass, 'foo'))  # False, потому что имена атрибутов печатаются в верхнем регистре\n",
    "print(hasattr(MyClass, 'FOO'))  # True, потому что 'foo' преобразуется в 'FOO'\n",
    "print(MyClass.FOO)  # 'bar', получая доступ к атрибуту верхнего регистра"
   ]
  },
  {
   "cell_type": "markdown",
   "metadata": {},
   "source": [
    "## Задача 2. Проверка атрибутов - целых чисел\n",
    "Напишите программу на Python для создания метакласса «ValidateAttrMeta», который гарантирует, что все атрибуты класса являются целыми числами. Если какой-либо атрибут не является целым числом, вызовите исключение TypeError."
   ]
  },
  {
   "cell_type": "code",
   "execution_count": 7,
   "metadata": {},
   "outputs": [
    {
     "name": "stdout",
     "output_type": "stream",
     "text": [
      "Ошибка валидации: Aтрибут 'invalid_attr' должен быть целым числом.\n",
      "Значения атрибутов IntegerOnlyClass:\n",
      "42\n"
     ]
    }
   ],
   "source": [
    "class ValidateAttrMeta(type):\n",
    "    def __new__(cls, name, bases, attrs):\n",
    "        # Создаем копию исходных атрибутов\n",
    "        validated_attrs = attrs.copy()\n",
    "        \n",
    "        # Проверяем каждый атрибут\n",
    "        for attr_name, attr_value in validated_attrs.items():\n",
    "            # Игнорируем приватные атрибуты\n",
    "            if not attr_name.startswith('_'):\n",
    "                # Проверяем, является ли значение целым числом\n",
    "                if not isinstance(attr_value, int):\n",
    "                    raise TypeError(f\"Aтрибут '{attr_name}' должен быть целым числом.\")\n",
    "        \n",
    "        # Создаем класс с валидированными атрибутами\n",
    "        return super().__new__(cls, name, bases, validated_attrs)\n",
    "\n",
    "# Пример использования\n",
    "class IntegerOnlyClass(metaclass=ValidateAttrMeta):\n",
    "    integer_attr = 42\n",
    "    # float_attr = 3.14\n",
    "    # string_attr = \"hello\"\n",
    "    # list_attr = [1, 2, 3]\n",
    "\n",
    "# Попытка создания класса с некорректным атрибутом\n",
    "try:\n",
    "    class InvalidClass(metaclass=ValidateAttrMeta):\n",
    "        invalid_attr = \"not an integer\"\n",
    "except TypeError as e:\n",
    "    print(f\"Ошибка валидации: {e}\")\n",
    "\n",
    "# Вывод значений атрибутов\n",
    "print(\"Значения атрибутов IntegerOnlyClass:\")\n",
    "print(IntegerOnlyClass.integer_attr)\n",
    "# print(IntegerOnlyClass.float_attr)\n",
    "# print(IntegerOnlyClass.string_attr)\n",
    "# print(IntegerOnlyClass.list_attr)"
   ]
  },
  {
   "cell_type": "code",
   "execution_count": 20,
   "metadata": {},
   "outputs": [
    {
     "name": "stdout",
     "output_type": "stream",
     "text": [
      "100\n",
      "200\n",
      "not an integer\n"
     ]
    }
   ],
   "source": [
    "# Определить метакласс, который гарантирует, что все атрибуты являются целыми числами\n",
    "class ValidateAttrMeta(type):\n",
    "    # Переопределить метод __new__ для метакласса\n",
    "    def __new__(cls, name, bases, dct):\n",
    "        # Выполнить итерацию по всем атрибутам класса\n",
    "        for key, value in dct.items():\n",
    "            # Проверить, не является ли атрибут специальным методом и не является ли целым числом\n",
    "            if not key.startswith('__') and not isinstance(value, int):\n",
    "                # Вызывает ошибку типа, если атрибут не является целым числом\n",
    "                raise TypeError(f\"Attribute {key} is not an integer\")\n",
    "        # Создаем новый класс с проверенными атрибутами\n",
    "        return super().__new__(cls, name, bases, dct)\n",
    "\n",
    "# Создаем класс, используя метакласс\n",
    "class MyIntClass(metaclass=ValidateAttrMeta):\n",
    "    # Определяем целочисленный атрибут\n",
    "    foo = 100\n",
    "    # Определяем другой целочисленный атрибут\n",
    "    bar = 200\n",
    "    # Определяем нецелочисленный атрибут (раскомментируйте, чтобы проверить TypeError)\n",
    "    # baz = 'not an integer'  # При раскомментировании этого параметра должна возникнуть TypeError\n",
    "    \n",
    "\n",
    "# Проверьте класс\n",
    "# Выведите значение атрибута foo\n",
    "print(MyIntClass.foo)  # 100\n",
    "# Выведите значение атрибута bar\n",
    "print(MyIntClass.bar)  # 200\n",
    "try:\n",
    "    MyIntClass.baz = 'not an integer'\n",
    "    print(MyIntClass.baz)\n",
    "except TypeError as e:\n",
    "    print(f\"Ошибка валидации: {e}\")"
   ]
  },
  {
   "cell_type": "markdown",
   "metadata": {},
   "source": [
    "## Задача 3. Шаблон проектирования «Одиночка»\n",
    "Напишите программу на Python для создания метакласса SingletonMeta, который гарантирует, что у класса будет только один экземпляр (шаблон проектирования «Одиночка»)."
   ]
  },
  {
   "cell_type": "code",
   "execution_count": 6,
   "metadata": {},
   "outputs": [
    {
     "name": "stdout",
     "output_type": "stream",
     "text": [
      "Initializing database: MySQL\n",
      "True\n",
      "MySQL\n",
      "MySQL\n",
      "MySQL\n",
      "True\n"
     ]
    }
   ],
   "source": [
    "class SingletonMeta(type):\n",
    "    _instances = {}\n",
    "\n",
    "    def __call__(cls, *args, **kwargs):\n",
    "        if cls not in cls._instances:\n",
    "            cls._instances[cls] = super(SingletonMeta, cls).__call__(*args, **kwargs)\n",
    "        return cls._instances[cls]\n",
    "\n",
    "# Пример использования\n",
    "class Database(metaclass=SingletonMeta):\n",
    "    def __init__(self, name):\n",
    "        self.name = name\n",
    "        print(f\"Initializing database: {name}\")\n",
    "\n",
    "# Создание экземпляров\n",
    "db1 = Database(\"MySQL\") # создается\n",
    "db2 = Database(\"PostgreSQL\") # возвращается ссылка на Database(\"MySQL\")\n",
    "\n",
    "# Проверка наличия только одного экземпляра\n",
    "print(db1 is db2)  # Выведет: True\n",
    "print(db1.name)    # Выведет: Initializing database: MySQL\n",
    "print(db2.name)     # Выведет: Initializing database: MySQL\n",
    "\n",
    "# Попытка создания нового экземпляра (не должно вызвать инициализации)\n",
    "db3 = Database(\"MongoDB\") # возвращается ссылка на Database(\"MySQL\")\n",
    "print(db3.name)      # Выведет: Initializing database: MongoDB\n",
    "\n",
    "# Проверка идентичности всех экземпляров\n",
    "db4 = Database(\"SQLite\") # возвращается ссылка на Database(\"MySQL\")\n",
    "print(db4 is db1)    # Выведет: True"
   ]
  },
  {
   "cell_type": "code",
   "execution_count": 6,
   "metadata": {},
   "outputs": [
    {
     "name": "stdout",
     "output_type": "stream",
     "text": [
      "True\n"
     ]
    }
   ],
   "source": [
    "# Определяем метакласс SingletonMeta\n",
    "class SingletonMeta(type):\n",
    "    # Словарь для хранения экземпляров классов\n",
    "    _instances = {}\n",
    "\n",
    "    # Переопределяем метод __call__ метакласса\n",
    "    def __call__(cls, *args, **kwargs):\n",
    "        # Проверяет, не создан ли уже экземпляр класса\n",
    "        if cls not in cls._instances:\n",
    "            # Если нет, создайте новый экземпляр и сохраните его в словаре _instances\n",
    "            cls._instances[cls] = super().__call__(*args, **kwargs)\n",
    "        # Верните существующий экземпляр, если он уже создан\n",
    "        return cls._instances[cls]\n",
    "\n",
    "# Создайте класс SingletonClass, используя SingletonMeta в качестве метакласса\n",
    "class SingletonClass(metaclass=SingletonMeta):\n",
    "    pass\n",
    "\n",
    "# Протестировать класс singleton\n",
    "# Создайте два экземпляра SingletonClass\n",
    "instance1 = SingletonClass()\n",
    "instance2 = SingletonClass()\n",
    "# Проверьте, ссылаются ли оба экземпляра на один и тот же объект\n",
    "print(instance1 is instance2)  # True "
   ]
  },
  {
   "cell_type": "markdown",
   "metadata": {},
   "source": [
    "# Динамическое cоздание класса"
   ]
  },
  {
   "cell_type": "markdown",
   "metadata": {},
   "source": [
    "Динамическая природа Python позволяет изменять классы и объекты во время выполнения программы. Вы можете добавлять, удалять или изменять атрибуты и методы классов и объектов динамически с помощью встроенных функций, таких как 'setattr', 'getattr' и 'delattr'."
   ]
  },
  {
   "cell_type": "markdown",
   "metadata": {},
   "source": [
    "## Задача 4. Динамическое создание класса\n",
    "Напишите функцию Python «create_class», которая принимает имя класса и словарь атрибутов и методов и возвращает динамически созданный класс с этими атрибутами и методами."
   ]
  },
  {
   "cell_type": "code",
   "execution_count": 21,
   "metadata": {},
   "outputs": [
    {
     "name": "stdout",
     "output_type": "stream",
     "text": [
      "10\n",
      "20\n",
      "15\n",
      "7\n",
      "Новый атрибут\n"
     ]
    }
   ],
   "source": [
    "def create_class(class_name, attributes_and_methods):\n",
    "    # Создаем новый класс с помощью метакласса\n",
    "    class Meta(type):\n",
    "        def __new__(meta, name, bases, attrs):\n",
    "            # Создаем новую переменную для хранения атрибутов\n",
    "            new_attrs = {}\n",
    "            \n",
    "            # Добавляем все атрибуты из входного словаря\n",
    "            for attr_name, attr_value in attributes_and_methods.items():\n",
    "                new_attrs[attr_name] = attr_value\n",
    "            \n",
    "            # Создаем новый класс с обновленными атрибутами\n",
    "            return super().__new__(meta, name, (), new_attrs)\n",
    "    \n",
    "    # Создаем класс с помощью нашего метакласса\n",
    "    return Meta(class_name, (), {})\n",
    "\n",
    "# Пример использования\n",
    "if __name__ == \"__main__\":\n",
    "    # Определение атрибутов и методов\n",
    "    attributes_and_methods = {\n",
    "        \"x\": 10,\n",
    "        \"y\": 20,\n",
    "        \"add\": lambda self, other: self.x + other,\n",
    "        \"subtract\": lambda self, other: self.x - other\n",
    "    }\n",
    "    \n",
    "    # Создание класса\n",
    "    MyNewClass = create_class(\"MyNewClass\", attributes_and_methods)\n",
    "    \n",
    "    # Создание экземпляра и использование методов\n",
    "    obj = MyNewClass()\n",
    "    print(obj.x)  # Выведет: 10\n",
    "    print(obj.y)  # Выведет: 20\n",
    "    print(obj.add(5))  # Выведет: 15\n",
    "    print(obj.subtract(3))  # Выведет: 7\n",
    "    \n",
    "    # Добавление нового атрибута после создания класса\n",
    "    MyNewClass.new_attr = \"Новый атрибут\"\n",
    "    print(MyNewClass.new_attr)  # Выведет: Новый атрибут"
   ]
  },
  {
   "cell_type": "code",
   "execution_count": 22,
   "metadata": {},
   "outputs": [
    {
     "name": "stdout",
     "output_type": "stream",
     "text": [
      "Hello, Marsel Sidykov!\n",
      "30\n"
     ]
    }
   ],
   "source": [
    "# Функция для динамического создания класса с заданными атрибутами и методами\n",
    "def create_class(name, attrs):\n",
    "    # Используйте функцию type для создания нового класса с заданным именем, наследуемого от object \n",
    "    return type(name, (object,), attrs)\n",
    "\n",
    "# Определите атрибуты и методы для динамического класса\n",
    "attrs = {\n",
    "     # Добавить метод 'greet', который возвращает строку\n",
    "    'greet': lambda self: \"Hello, Marsel Sidykov!\",\n",
    "    # Добавить атрибут 'age' со значением 30\n",
    "    'age': 30\n",
    "}\n",
    "\n",
    "# Создать класс динамически, используя определенные атрибуты и методы\n",
    "MyDynamicClass = create_class('MyDynamicClass', attrs)\n",
    "\n",
    "# Протестировать динамический класс\n",
    "# Создаем экземпляр динамически создаваемого класса\n",
    "instance = MyDynamicClass()\n",
    "# Вызываем метод 'greet' экземпляра\n",
    "print(instance.greet())  # Output: \"Hello, Sonia Toutatis!\"\n",
    "# Доступ к атрибуту 'age' экземпляра\n",
    "print(instance.age)  # Output: 25 "
   ]
  },
  {
   "cell_type": "markdown",
   "metadata": {},
   "source": [
    "## Задача 5. Динамическое создание класса\n",
    "Напишите на Python функцию «add_method», которая принимает класс, имя метода и сам метод и добавляет этот метод в класс."
   ]
  },
  {
   "cell_type": "code",
   "execution_count": 23,
   "metadata": {},
   "outputs": [
    {
     "name": "stdout",
     "output_type": "stream",
     "text": [
      "Hello, I'm MyClass!\n"
     ]
    }
   ],
   "source": [
    "def add_method(cls, method_name, method):\n",
    "    setattr(cls, method_name, method)\n",
    "\n",
    "# Пример использования\n",
    "class MyClass:\n",
    "    pass\n",
    "\n",
    "def greet(self):\n",
    "    return f\"Hello, I'm {self.__class__.__name__}!\"\n",
    "\n",
    "# Добавляем метод greet к MyClass\n",
    "add_method(MyClass, \"greet\", greet)\n",
    "\n",
    "# Создаем экземпляр класса\n",
    "obj = MyClass()\n",
    "\n",
    "# Используем новый метод\n",
    "print(obj.greet())  # Выведет: Hello, I'm MyClass!"
   ]
  },
  {
   "cell_type": "markdown",
   "metadata": {},
   "source": [
    "## Задача 6. Динамическое создание класса \n",
    "Напишите функцию Python «create_inherited_class», которая принимает базовый класс, имя класса и словарь дополнительных атрибутов и методов и возвращает динамически созданный подкласс."
   ]
  },
  {
   "cell_type": "code",
   "execution_count": 24,
   "metadata": {},
   "outputs": [
    {
     "name": "stdout",
     "output_type": "stream",
     "text": [
      "Это метод базового класса\n",
      "Это новый атрибут\n",
      "Это новый метод в подклассе: SubClass\n",
      "True\n",
      "True\n"
     ]
    }
   ],
   "source": [
    "def create_inherited_class(base_class, class_name, extra_attributes_and_methods):\n",
    "    # Создаем новый класс, наследуясь от base_class\n",
    "    NewClass = type(class_name, (base_class,), extra_attributes_and_methods)\n",
    "    \n",
    "    return NewClass\n",
    "\n",
    "# Пример использования\n",
    "if __name__ == \"__main__\":\n",
    "    # Определение базового класса\n",
    "    class BaseClass:\n",
    "        def base_method(self):\n",
    "            return \"Это метод базового класса\"\n",
    "\n",
    "    # Определение дополнительных атрибутов и методов\n",
    "    extra_attributes_and_methods = {\n",
    "        \"new_attribute\": \"Это новый атрибут\",\n",
    "        \"new_method\": lambda self: f\"Это новый метод в подклассе: {self.__class__.__name__}\"\n",
    "    }\n",
    "\n",
    "    # Создание подкласса\n",
    "    SubClass = create_inherited_class(BaseClass, \"SubClass\", extra_attributes_and_methods)\n",
    "\n",
    "    # Создание экземпляра подкласса\n",
    "    sub_instance = SubClass()\n",
    "\n",
    "    # Использование методов и атрибутов\n",
    "    print(sub_instance.base_method())  # Вызов метода из базового класса\n",
    "    print(sub_instance.new_attribute)  # Доступ к новому атрибуту\n",
    "    print(sub_instance.new_method())   # Вызов нового метода\n",
    "\n",
    "    # Проверка наследования\n",
    "    print(isinstance(sub_instance, BaseClass))  # Выведет: True\n",
    "    print(type(sub_instance) == SubClass)         # Выведет: True"
   ]
  },
  {
   "cell_type": "code",
   "execution_count": 25,
   "metadata": {},
   "outputs": [
    {
     "name": "stdout",
     "output_type": "stream",
     "text": [
      "Base method\n",
      "Additional method\n"
     ]
    }
   ],
   "source": [
    "# Функция для создания подкласса с динамическим определением\n",
    "def create_inherited_class(base_class, name, attrs):\n",
    "    # Создаем новый класс, наследуемый от base_class, с дополнительными атрибутами и методами\n",
    "    return type(name, (base_class,), attrs)\n",
    "\n",
    "# Определяем базовый класс\n",
    "class BaseClass:\n",
    "    # Метод, который будет наследоваться подклассами\n",
    "    def base_method(self):\n",
    "        return \"Base method\"\n",
    "\n",
    "# Определяет дополнительные атрибуты и методы \n",
    "additional_attrs = {\n",
    "    # Добавляет новый метод в подкласс\n",
    "    'additional_method': lambda self: \"Additional method\"\n",
    "}\n",
    "\n",
    "# Создать подкласс динамически, используя базовый класс и дополнительные атрибуты\n",
    "DynamicSubclass = create_inherited_class(BaseClass, 'DynamicSubclass', additional_attrs)\n",
    "\n",
    "# Протестировать динамический подкласс\n",
    "# Создаем экземпляр динамически создаваемого подкласса\n",
    "instance = DynamicSubclass()\n",
    "# Вызываем унаследованный метод из базового класса\n",
    "print(instance.base_method())       # Вывод: \"Base method\"\n",
    "# Вызовите только что добавленный метод в подклассе\n",
    "print(instance.additional_method())  # Вывод: \"Additional method\""
   ]
  },
  {
   "cell_type": "markdown",
   "metadata": {},
   "source": [
    "# Генерация кода"
   ]
  },
  {
   "cell_type": "markdown",
   "metadata": {},
   "source": [
    "Функции Python «exec» и «eval» позволяют выполнять динамически сгенерированный код во время выполнения. Эту функцию можно использовать для создания шаблонов кода, анализа предметно-ориентированных языков (DSL) или реализации инструментов для генерации кода"
   ]
  },
  {
   "cell_type": "markdown",
   "metadata": {},
   "source": [
    "## Задача 7. Генерация кода\n",
    "Напишите функцию Python «generate_code», которая принимает строку шаблона с заполнителями и словарь значений и возвращает сгенерированный код с заполнителями, заменёнными соответствующими значениями."
   ]
  },
  {
   "cell_type": "code",
   "execution_count": 25,
   "metadata": {},
   "outputs": [
    {
     "name": "stdout",
     "output_type": "stream",
     "text": [
      "Привет, Александр! Сегодня суббота.\n"
     ]
    }
   ],
   "source": [
    "def generate_code(template: str, values: dict) -> str:\n",
    "    \"\"\"\n",
    "    Генерирует код, заменяя заполнители в шаблоне соответствующими значениями из словаря.\n",
    "\n",
    "    :param template: Шаблон строки с заполнителями в формате {placeholder}.\n",
    "    :param values: Словарь значений для замены заполнителей.\n",
    "    :return: Сгенерированная строка с заменёнными значениями.\n",
    "    \"\"\"\n",
    "    return template.format(**values)\n",
    "\n",
    "# Пример использования\n",
    "template = \"Привет, {name}! Сегодня {day}.\"\n",
    "values = {\n",
    "    \"name\": \"Александр\",\n",
    "    \"day\": \"суббота\"\n",
    "}\n",
    "\n",
    "generated_code = generate_code(template, values)\n",
    "print(generated_code)\n"
   ]
  },
  {
   "cell_type": "code",
   "execution_count": null,
   "metadata": {},
   "outputs": [],
   "source": [
    "def generate_code(template_string, values_dict):\n",
    "    class CodeGenerator(type):\n",
    "        def __new__(cls, name, bases, dct):\n",
    "            template = dct.get('__template__', '')\n",
    "            if template:\n",
    "                for key, value in values_dict.items():\n",
    "                    template = template.replace(f'{{{key}}}', str(value))\n",
    "                dct['__code__'] = compile(template, '<string>', 'exec')\n",
    "            return super().__new__(cls, name, bases, dct)\n",
    "\n",
    "    class GeneratedCode(metaclass=CodeGenerator):\n",
    "        __template__ = template_string\n",
    "\n",
    "    return GeneratedCode.__code__\n",
    "\n",
    "# Пример использования:\n",
    "template_string = \"\"\"\n",
    "def generated_function(arg1, arg2):\n",
    "    print(f\"Результат: {arg1} + {arg2}\")\n",
    "\"\"\"\n",
    "\n",
    "values_dict = {\n",
    "    'arg1': 5,\n",
    "    'arg2': 3\n",
    "}\n",
    "\n",
    "generated_code = generate_code(template_string, values_dict)\n",
    "\n",
    "# Выполнение сгенерированного кода\n",
    "exec(generated_code) # выполнение кода через exec"
   ]
  },
  {
   "cell_type": "markdown",
   "metadata": {},
   "source": [
    "Используйте eval() вместо exec(), так как eval() работает только с выражениями, а не блоками кода"
   ]
  },
  {
   "cell_type": "markdown",
   "metadata": {},
   "source": [
    "## Задача 8. Генерация кода\n",
    "Напишите функцию Python «generate_function», которая принимает имя функции и её тело в виде строк и возвращает динамически сгенерированную функцию."
   ]
  },
  {
   "cell_type": "code",
   "execution_count": 26,
   "metadata": {},
   "outputs": [
    {
     "name": "stdout",
     "output_type": "stream",
     "text": [
      "Привет, мир!\n"
     ]
    }
   ],
   "source": [
    "def generate_function(func_name: str, func_body: str):\n",
    "    \"\"\"\n",
    "    Генерирует динамическую функцию с заданным именем и телом.\n",
    "\n",
    "    :param func_name: Имя создаваемой функции.\n",
    "    :param func_body: Тело функции в виде строки.\n",
    "    :return: Динамически созданная функция.\n",
    "    \"\"\"\n",
    "    # Формируем код для создания функции\n",
    "    code = f\"def {func_name}():\\n\"\n",
    "    \n",
    "    # Добавляем тело функции с отступами\n",
    "    for line in func_body.splitlines():\n",
    "        code += \"    \" + line + \"\\n\"\n",
    "    \n",
    "    # Выполняем код для создания функции\n",
    "    exec(code, globals())\n",
    "    \n",
    "    # Возвращаем ссылку на созданную функцию\n",
    "    return globals()[func_name]\n",
    "\n",
    "# Пример использования\n",
    "if __name__ == \"__main__\":\n",
    "    function_name = \"greet\"\n",
    "    function_body = \"\"\"\n",
    "print(\"Привет, мир!\")\n",
    "\"\"\"\n",
    "    \n",
    "    # Генерация функции\n",
    "    generated_function = generate_function(function_name, function_body)\n",
    "    \n",
    "    # Вызов сгенерированной функции\n",
    "    generated_function()  # Вывод: Привет, мир!\n"
   ]
  },
  {
   "cell_type": "markdown",
   "metadata": {},
   "source": [
    "* Использование exec() может быть небезопасным, если входные данные не контролируются, так как это позволяет выполнять произвольный код. Убедитесь, что входные данные безопасны и проверены перед выполнением.\n",
    "* Динамическое создание функций может быть полезным в определённых случаях, но старайтесь использовать его осторожно и по необходимости."
   ]
  },
  {
   "cell_type": "code",
   "execution_count": 27,
   "metadata": {},
   "outputs": [
    {
     "name": "stdout",
     "output_type": "stream",
     "text": [
      "Привет от динамически сгенерированной функции!\n"
     ]
    }
   ],
   "source": [
    "# Функция для динамической генерации функции\n",
    "def generate_function(name, body):\n",
    "    # Выполняет код функции в локальной области\n",
    "    exec(f\"def {name}():\\n    {body}\")\n",
    "    # Возвращает сгенерированную функцию из локальной области\n",
    "    return locals()[name]\n",
    "\n",
    "# Определяем имя функции и тело\n",
    "function_name = 'dynamic_function'\n",
    "function_body = \"print('Привет от динамически сгенерированной функции!')\"\n",
    "\n",
    "# Сгенерировать функцию\n",
    "dynamic_func = generate_function(function_name, function_body)\n",
    "\n",
    "# Протестировать динамически сгенерированную функцию\n",
    "dynamic_func()  # Output: \"Привет от динамически сгенерированной функции!\""
   ]
  },
  {
   "cell_type": "markdown",
   "metadata": {},
   "source": [
    "## Задача 9. Генерация кода\n",
    "Напишите функцию Python «generate_inherited_class», которая принимает имя класса, базовый класс и словарь атрибутов и методов и возвращает динамически сгенерированный подкласс."
   ]
  },
  {
   "cell_type": "code",
   "execution_count": 21,
   "metadata": {},
   "outputs": [
    {
     "name": "stdout",
     "output_type": "stream",
     "text": [
      "Это новый атрибут.\n",
      "Это метод нового класса.\n",
      "Это метод базового класса.\n"
     ]
    }
   ],
   "source": [
    "def generate_inherited_class(class_name: str, base_class: type, attributes_methods: dict) -> type:\n",
    "    \"\"\"\n",
    "    Генерирует динамически подкласс с заданным именем, базовым классом и атрибутами/методами.\n",
    "\n",
    "    :param class_name: Имя создаваемого класса.\n",
    "    :param base_class: Базовый класс, от которого будет наследоваться новый класс.\n",
    "    :param attributes_methods: Словарь с атрибутами и методами класса.\n",
    "    :return: Динамически созданный подкласс.\n",
    "    \"\"\"\n",
    "    \n",
    "    # Создание класса с использованием type\n",
    "    new_class = type(class_name, (base_class,), attributes_methods)\n",
    "    \n",
    "    return new_class\n",
    "\n",
    "# Пример использования\n",
    "if __name__ == \"__main__\":\n",
    "    # Определяем базовый класс\n",
    "    class BaseClass:\n",
    "        def base_method(self):\n",
    "            return \"Это метод базового класса.\"\n",
    "\n",
    "    # Определяем атрибуты и методы для нового класса\n",
    "    attributes_methods = {\n",
    "        \"new_attribute\": \"Это новый атрибут.\",\n",
    "        \n",
    "        \"new_method\": lambda self: \"Это метод нового класса.\"\n",
    "    }\n",
    "\n",
    "    # Генерация подкласса\n",
    "    GeneratedClass = generate_inherited_class(\"DerivedClass\", BaseClass, attributes_methods)\n",
    "\n",
    "    # Создание экземпляра нового класса\n",
    "    instance = GeneratedClass()\n",
    "\n",
    "    # Использование атрибута и метода нового класса\n",
    "    print(instance.new_attribute)  # Вывод: Это новый атрибут.\n",
    "    print(instance.new_method())   # Вывод: Это метод нового класса.\n",
    "    print(instance.base_method())   # Вывод: Это метод базового класса.\n"
   ]
  },
  {
   "cell_type": "code",
   "execution_count": 31,
   "metadata": {},
   "outputs": [
    {
     "name": "stdout",
     "output_type": "stream",
     "text": [
      "(10, 20)\n",
      "(11, 21)\n"
     ]
    }
   ],
   "source": [
    "def generate_inherited_class(base_class_name, base_class, attributes_methods):\n",
    "    # Create the constructor\n",
    "    def __init__(self, *args):\n",
    "        for i, attr in enumerate(attributes_methods['attributes']):\n",
    "            setattr(self, attr, args[i] if i < len(args) else attributes_methods['attributes'][attr])\n",
    "\n",
    "    # Create methods dynamically\n",
    "    methods = {}\n",
    "    for method_name, method_code in attributes_methods['methods'].items():\n",
    "        exec(f\"def {method_name}(self):\\n\" + \"\\n\".join(f\"    {line}\" for line in method_code.splitlines()), methods)\n",
    "\n",
    "    # Combine the constructor and methods into a dictionary\n",
    "    methods['__init__'] = __init__\n",
    "\n",
    "    # Create the new class\n",
    "    new_class = type(attributes_methods['class_name'], (base_class,), methods)\n",
    "    \n",
    "    # Register the new class in globals\n",
    "    globals()[attributes_methods['class_name']] = new_class\n",
    "\n",
    "# Example usage:\n",
    "class BaseClass:\n",
    "    pass\n",
    "\n",
    "attributes_methods = {\n",
    "    'class_name': 'MySubClass',\n",
    "    'attributes': {'x': 0, 'y': 0},\n",
    "    'methods': {\n",
    "        'move': 'self.x += 1\\nself.y += 1',\n",
    "        'get_position': 'return (self.x, self.y)'\n",
    "    }\n",
    "}\n",
    "\n",
    "generate_inherited_class('BaseClass', BaseClass, attributes_methods)\n",
    "\n",
    "# Create an instance of the new class\n",
    "instance = globals()[attributes_methods['class_name']](10, 20)\n",
    "print(instance.get_position())  # Outputs: (10, 20)\n",
    "instance.move()\n",
    "print(instance.get_position())  # Outputs: (11, 21)\n"
   ]
  },
  {
   "cell_type": "code",
   "execution_count": 32,
   "metadata": {},
   "outputs": [
    {
     "name": "stdout",
     "output_type": "stream",
     "text": [
      "(10, 20)\n",
      "(11, 21)\n"
     ]
    }
   ],
   "source": [
    "def generate_inherited_class(class_name, base_class, attributes_methods):\n",
    "    # Формируем код для нового класса\n",
    "    class_code = f\"\"\"\n",
    "class {class_name}({base_class.__name__}):\n",
    "    def __init__(self, {', '.join(attributes_methods['attributes'].keys())}):\n",
    "        super().__init__()\n",
    "        {self_assignments(attributes_methods['attributes'])}\n",
    "    \n",
    "    {methods_definitions(attributes_methods['methods'])}\n",
    "\"\"\"\n",
    "    \n",
    "    # Выполняем созданный код\n",
    "    exec(class_code, globals())\n",
    "    \n",
    "    # Возвращаем созданный класс\n",
    "    return globals()[class_name]\n",
    "\n",
    "def self_assignments(attributes):\n",
    "    \"\"\"Генерирует строки присваивания для атрибутов.\"\"\"\n",
    "    return \"\\n        \".join([f\"self.{attr} = {attr}\" for attr in attributes])\n",
    "\n",
    "def methods_definitions(methods):\n",
    "    \"\"\"Генерирует определения методов.\"\"\"\n",
    "    method_defs = []\n",
    "    for method_name, method_code in methods.items():\n",
    "        method_defs.append(f\"def {method_name}(self):\\n        \" + \"\\n        \".join(method_code.splitlines()))\n",
    "    return \"\\n\\n    \".join(method_defs)\n",
    "\n",
    "# Пример использования:\n",
    "class BaseClass:\n",
    "    def __init__(self):\n",
    "        pass\n",
    "\n",
    "attributes_methods = {\n",
    "    'attributes': {'x': 0, 'y': 0},\n",
    "    'methods': {\n",
    "        'move': 'self.x += 1\\nself.y += 1',\n",
    "        'get_position': 'return (self.x, self.y)'\n",
    "    }\n",
    "}\n",
    "\n",
    "# Генерируем подкласс\n",
    "MySubClass = generate_inherited_class('MySubClass', BaseClass, attributes_methods)\n",
    "\n",
    "# Создаем экземпляр нового класса\n",
    "instance = MySubClass(10, 20)\n",
    "print(instance.get_position())  # Вывод: (0, 0)\n",
    "instance.move()\n",
    "print(instance.get_position())  # Вывод: (1, 1)\n"
   ]
  },
  {
   "cell_type": "markdown",
   "metadata": {},
   "source": [
    "Таким образом, вы можете динамически создавать подклассы в Python с помощью данной функции."
   ]
  },
  {
   "cell_type": "code",
   "execution_count": 30,
   "metadata": {},
   "outputs": [
    {
     "name": "stdout",
     "output_type": "stream",
     "text": [
      "Сказать 'Гав-Гав'\n",
      "4\n"
     ]
    }
   ],
   "source": [
    "# Функция для динамического создания подкласса\n",
    "def generate_inherited_class(name, base_class, attrs):\n",
    "    # Создайте новый класс, который наследуется от базового класса с дополнительными атрибутами\n",
    "    return type(name, (base_class,), attrs)\n",
    "\n",
    "# Определяет базовый класс\n",
    "class Animal:\n",
    "    # Метод, который будет унаследован подклассами\n",
    "    def speak(self):\n",
    "        return \"Animal sound\"\n",
    "\n",
    "# Определяем атрибуты и методы для подкласса\n",
    "subclass_attrs = {\n",
    "    # Переопределяем метод speak\n",
    "    'speak': lambda self: \"Сказать 'Гав-Гав'\",\n",
    "    # Добавляем новый атрибут\n",
    "    'legs': 4\n",
    "}\n",
    "\n",
    "# Генерируем подкласс динамически\n",
    "Dog = generate_inherited_class('Dog', Animal, subclass_attrs)\n",
    "\n",
    "# Протестируйте динамически созданный подкласс\n",
    "# Создайте экземпляр Dog\n",
    "dog = Dog()\n",
    "# Вызовите метод speak (переопределенный)\n",
    "print(dog.speak())  # Вывод: \"Сказать 'Гав-Гав'\"\n",
    "# Доступ к атрибуту legs\n",
    "print(dog.legs)     # Вывод: 4"
   ]
  }
 ],
 "metadata": {
  "kernelspec": {
   "display_name": "Python (condavenv)",
   "language": "python",
   "name": "condavenv"
  },
  "language_info": {
   "codemirror_mode": {
    "name": "ipython",
    "version": 3
   },
   "file_extension": ".py",
   "mimetype": "text/x-python",
   "name": "python",
   "nbconvert_exporter": "python",
   "pygments_lexer": "ipython3",
   "version": "3.11.13"
  }
 },
 "nbformat": 4,
 "nbformat_minor": 4
}
