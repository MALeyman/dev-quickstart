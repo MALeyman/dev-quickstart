{
 "cells": [
  {
   "cell_type": "markdown",
   "id": "ba0b4bd2",
   "metadata": {},
   "source": [
    "# Функции потерь"
   ]
  },
  {
   "cell_type": "code",
   "execution_count": 1,
   "id": "3f0bb840",
   "metadata": {},
   "outputs": [],
   "source": [
    "import torch\n",
    "import torch.nn as nn\n",
    "import torch.nn.functional as F\n"
   ]
  },
  {
   "cell_type": "markdown",
   "id": "5bca54d0",
   "metadata": {},
   "source": [
    "## 1) Регрессия"
   ]
  },
  {
   "cell_type": "markdown",
   "id": "22d339a2",
   "metadata": {},
   "source": [
    "#### Кастомные функции"
   ]
  },
  {
   "cell_type": "code",
   "execution_count": 2,
   "id": "a81b1fd7",
   "metadata": {},
   "outputs": [
    {
     "name": "stdout",
     "output_type": "stream",
     "text": [
      "MSE Loss: 0.1267\n",
      "rmse Loss: 0.3559\n",
      "mae Loss: 0.3333\n"
     ]
    }
   ],
   "source": [
    "import torch\n",
    "preds = torch.tensor([2.5, 3.0, 1.8])\n",
    "targets = torch.tensor([2.0, 3.2, 1.5])\n",
    "\n",
    "\n",
    "def mse_custom(preds, targets):\n",
    "    return torch.mean((preds - targets) ** 2)\n",
    "\n",
    "def rmse_custom(preds, targets):\n",
    "    return torch.sqrt(mse_custom(preds, targets))\n",
    "\n",
    "def mae_custom(preds, targets):\n",
    "    return torch.mean(torch.abs(preds - targets))\n",
    "\n",
    "loss_mse = mse_custom(preds, targets)\n",
    "print(f\"MSE Loss: {loss_mse.item():.4f}\")\n",
    "\n",
    "loss_rmse= rmse_custom(preds, targets)\n",
    "print(f\"rmse Loss: {loss_rmse.item():.4f}\")\n",
    "\n",
    "loss_mae = mae_custom(preds, targets)\n",
    "print(f\"mae Loss: {loss_mae.item():.4f}\")\n"
   ]
  },
  {
   "cell_type": "markdown",
   "id": "c7660762",
   "metadata": {},
   "source": [
    "### 1. Mean Squared Error Loss (MSELoss)\n",
    "\n",
    "Вычисляет средний квадрат разницы между предсказанными и истинными значениями.  \n",
    "\n",
    "Очень чувствительна к большим ошибкам (выбросам).  "
   ]
  },
  {
   "cell_type": "code",
   "execution_count": 3,
   "id": "ed81f41c",
   "metadata": {},
   "outputs": [
    {
     "name": "stdout",
     "output_type": "stream",
     "text": [
      "MSE Loss: 0.1267\n"
     ]
    }
   ],
   "source": [
    "import torch\n",
    "import torch.nn as nn\n",
    "\n",
    "\n",
    "criterion = nn.MSELoss()\n",
    "\n",
    "predictions = torch.tensor([2.5, 3.0, 1.8])\n",
    "targets = torch.tensor([2.0, 3.2, 1.5])\n",
    "\n",
    "loss = criterion(predictions, targets)\n",
    "print(f\"MSE Loss: {loss.item():.4f}\")\n",
    "\n"
   ]
  },
  {
   "cell_type": "markdown",
   "id": "a9d89c7a",
   "metadata": {},
   "source": [
    "### 2. Mean Absolute Error Loss (L1Loss) \n",
    "\n",
    "Среднее абсолютное отклонение.  \n",
    "\n",
    "Более робастна к выбросам, чем MSE.  "
   ]
  },
  {
   "cell_type": "code",
   "execution_count": 4,
   "id": "0bc61cbe",
   "metadata": {},
   "outputs": [
    {
     "name": "stdout",
     "output_type": "stream",
     "text": [
      "MAE Loss: 0.3333\n"
     ]
    }
   ],
   "source": [
    "criterion_mae = nn.L1Loss()\n",
    "\n",
    "predictions = torch.tensor([2.5, 3.0, 1.8])\n",
    "targets = torch.tensor([2.0, 3.2, 1.5])\n",
    "\n",
    "loss_mae = criterion_mae(predictions, targets)\n",
    "print(f\"MAE Loss: {loss_mae.item():.4f}\")\n"
   ]
  },
  {
   "cell_type": "markdown",
   "id": "69860554",
   "metadata": {},
   "source": [
    "### 3. Huber Loss (Smooth L1 Loss) \n",
    "\n",
    "Комбинация MSE и MAE, помогает уменьшить влияние выбросов."
   ]
  },
  {
   "cell_type": "code",
   "execution_count": 5,
   "id": "e7416315",
   "metadata": {},
   "outputs": [
    {
     "name": "stdout",
     "output_type": "stream",
     "text": [
      "Huber Loss: 0.0633\n"
     ]
    }
   ],
   "source": [
    "criterion_huber = nn.SmoothL1Loss()\n",
    "\n",
    "predictions = torch.tensor([2.5, 3.0, 1.8])\n",
    "targets = torch.tensor([2.0, 3.2, 1.5])\n",
    "\n",
    "loss_huber = criterion_huber(predictions, targets)\n",
    "print(f\"Huber Loss: {loss_huber.item():.4f}\")\n"
   ]
  },
  {
   "cell_type": "markdown",
   "id": "13bc155a",
   "metadata": {},
   "source": [
    "## 2) Классификация"
   ]
  },
  {
   "cell_type": "code",
   "execution_count": 6,
   "id": "7a33cf80",
   "metadata": {},
   "outputs": [],
   "source": [
    "import numpy as np\n",
    "from sklearn.datasets import make_classification\n",
    "from sklearn.model_selection import train_test_split\n",
    "from sklearn.linear_model import LogisticRegression\n",
    "\n",
    "\n",
    "import torch\n",
    "import torch.nn as nn\n",
    "\n"
   ]
  },
  {
   "cell_type": "code",
   "execution_count": 7,
   "id": "f711556c",
   "metadata": {},
   "outputs": [],
   "source": [
    "# Шаг 1: Создание данных\n",
    "X, y = make_classification(n_samples=200, n_features=2, n_redundant=0,\n",
    "                           n_informative=2, n_clusters_per_class=1,\n",
    "                           weights=[0.5, 0.5], random_state=42)\n",
    "\n",
    "# Шаг 2: Разделение\n",
    "X_train, X_test, y_train, y_test = train_test_split(X, y, test_size=0.3, random_state=42)\n",
    "\n",
    "# Шаг 3: Обучение модели sklearn\n",
    "model = LogisticRegression()\n",
    "model.fit(X_train, y_train)\n",
    "\n",
    "# Шаг 4: Получение вероятностей для класса 1\n",
    "y_probs = model.predict_proba(X_test)[:, 1]  # вероятности принадлежности к классу 1\n",
    "\n",
    "# Переводим в тензоры\n",
    "y_probs_torch = torch.tensor(y_probs, dtype=torch.float32)\n",
    "y_test_torch = torch.tensor(y_test, dtype=torch.float32)\n",
    "\n"
   ]
  },
  {
   "attachments": {
    "image.png": {
     "image/png": "[encoded data removed]"
    }
   },
   "cell_type": "markdown",
   "id": "472b8daf",
   "metadata": {},
   "source": [
    "### Бинарная кросс-энтропия \n",
    "\n",
    "nn.BCELoss — для вероятностей\n",
    "\n",
    "![image.png](attachment:image.png)"
   ]
  },
  {
   "cell_type": "code",
   "execution_count": 8,
   "id": "d664647a",
   "metadata": {},
   "outputs": [
    {
     "name": "stdout",
     "output_type": "stream",
     "text": [
      "Loss: 0.39712637662887573\n"
     ]
    }
   ],
   "source": [
    "# Шаг 5: Создаем функцию потерь BCELoss для вероятностей\n",
    "criterion = nn.BCELoss()\n",
    "\n",
    "# Вычисляем loss\n",
    "loss = criterion(y_probs_torch, y_test_torch)\n",
    "print(\"Loss:\", loss.item())"
   ]
  },
  {
   "cell_type": "markdown",
   "id": "8e77fbb7",
   "metadata": {},
   "source": [
    "nn.BCEWithLogitsLoss — для логитов"
   ]
  },
  {
   "cell_type": "code",
   "execution_count": 9,
   "id": "424bf27a",
   "metadata": {},
   "outputs": [
    {
     "name": "stdout",
     "output_type": "stream",
     "text": [
      "Logits shape: torch.Size([8, 1, 64, 64])\n",
      "Targets shape: torch.Size([3])\n",
      "Loss: 0.8048728108406067\n"
     ]
    }
   ],
   "source": [
    "import torch\n",
    "\n",
    "# Параметры\n",
    "batch_size = 8\n",
    "height = 64\n",
    "width = 64\n",
    "\n",
    "# Случайные логиты модели (до сигмоида, могут быть положительные и отрицательные)\n",
    "logits_binary = torch.randn(batch_size, 1, height, width, requires_grad=True)\n",
    "\n",
    "# Бинарные метки (0 или 1)\n",
    "# Формируем случайные метки для каждого пикселя, размер совпадает с логитами по spatial размеру\n",
    "targets_binary = torch.randint(0, 2, (batch_size, 1, height, width)).float()\n",
    "\n",
    "print(\"Logits shape:\", logits_binary.shape)  # (8,1,64,64)\n",
    "print(\"Targets shape:\", targets.shape)  # (8,1,64,64)\n",
    "\n",
    "# Теперь такие данные можно подать в nn.BCEWithLogitsLoss\n",
    "criterion = torch.nn.BCEWithLogitsLoss()\n",
    "loss = criterion(logits_binary, targets_binary)\n",
    "print(\"Loss:\", loss.item())"
   ]
  },
  {
   "cell_type": "code",
   "execution_count": 10,
   "id": "c2ebcf7b",
   "metadata": {},
   "outputs": [
    {
     "name": "stdout",
     "output_type": "stream",
     "text": [
      "Loss_bce: 0.8048727512359619\n"
     ]
    }
   ],
   "source": [
    "# Для логитов\n",
    "def bce_loss_torch(y_real, y_pred):\n",
    "    y_pred = y_pred.view(-1)\n",
    "    y_real = y_real.view(-1)\n",
    "    y_pred = y_pred.type(torch.float32)\n",
    "    y_real = y_real.type(torch.float32)\n",
    "\n",
    "    loss = F.relu(y_pred) - y_real * y_pred + torch.log(1. + torch.exp(-abs(y_pred)))\n",
    "    return torch.mean(loss)\n",
    "\n",
    "\n",
    "loss_bce = bce_loss_torch(targets_binary, logits_binary)\n",
    "print(\"Loss_bce:\", loss_bce.item())"
   ]
  },
  {
   "attachments": {
    "image.png": {
     "image/png": "[encoded data removed]"
    }
   },
   "cell_type": "markdown",
   "id": "b63bbcf3",
   "metadata": {},
   "source": [
    "### Категориальная Кросс-энтропия \n",
    "\n",
    "![image.png](attachment:image.png)  "
   ]
  },
  {
   "cell_type": "code",
   "execution_count": 26,
   "id": "3652fd10",
   "metadata": {},
   "outputs": [
    {
     "name": "stdout",
     "output_type": "stream",
     "text": [
      "Loss: 0.5884541869163513\n"
     ]
    }
   ],
   "source": [
    "import torch\n",
    "import torch.nn as nn\n",
    "\n",
    "# Пример: 3 класса, батч из 4 объектов.\n",
    "# Пусть выход модели — логиты (не softmax)\n",
    "logits = torch.tensor([         # (batch_size, num_classes)\n",
    "    [1.2, 0.5, 2.1],   # пример 1\n",
    "    [0.1, 2.0, 1.5],   # пример 2\n",
    "    [1.5, 0.2, 0.3],   # пример 3\n",
    "    [0.0, 1.0, 1.0]    # пример 4\n",
    "], requires_grad=True)\n",
    "\n",
    "\n",
    "# Правильные метки классов (индексы от 0 до 2)\n",
    "targets = torch.tensor([2, 1, 0, 1])  # размер [batch_size], каждый элемент - класс\n",
    "\n",
    "# Создаем функцию потерь CrossEntropyLoss\n",
    "criterion = nn.CrossEntropyLoss()\n",
    "\n",
    "# Считаем loss\n",
    "loss = criterion(logits, targets)\n",
    "\n",
    "print(\"Loss:\", loss.item())\n"
   ]
  },
  {
   "cell_type": "code",
   "execution_count": 32,
   "id": "72239301",
   "metadata": {},
   "outputs": [
    {
     "name": "stdout",
     "output_type": "stream",
     "text": [
      "log_probs:  tensor([[-2.3026, -1.2040, -0.5108],\n",
      "        [-2.3026, -0.3567, -1.6094],\n",
      "        [-0.2231, -2.3026, -2.3026],\n",
      "        [-1.6094, -0.3567, -2.3026]])\n",
      "loss_per_sample:  tensor([0.5108, 0.3567, 0.2231, 0.3567])\n",
      "Manual cross-entropy loss: 0.3618297576904297\n"
     ]
    }
   ],
   "source": [
    "import torch\n",
    "\n",
    "# Предсказанные вероятности после softmax (пример)\n",
    "probs = torch.tensor([\n",
    "    [0.1, 0.3, 0.6],\n",
    "    [0.1, 0.7, 0.2],\n",
    "    [0.8, 0.1, 0.1],\n",
    "    [0.2, 0.7, 0.1]\n",
    "])\n",
    "\n",
    "targets = torch.tensor([2, 1, 0, 1])\n",
    "\n",
    "# Для cross-entropy вручную нужен log вероятностей и индексы классов\n",
    "log_probs = torch.log(probs)\n",
    "print(\"log_probs: \", log_probs)\n",
    "# Выбираем логарифмы для правильных классов:\n",
    "loss_per_sample = -log_probs[range(len(targets)), targets]\n",
    "print(\"loss_per_sample: \", loss_per_sample)\n",
    "# Среднее значение по батчу\n",
    "loss_manual = loss_per_sample.mean()\n",
    "\n",
    "print(\"Manual cross-entropy loss:\", loss_manual.item())\n"
   ]
  },
  {
   "attachments": {
    "image.png": {
     "image/png": "[encoded data removed]"
    }
   },
   "cell_type": "markdown",
   "id": "35c60ff3",
   "metadata": {},
   "source": [
    "## 3) Компьютерное зрение \n",
    "\n",
    "![image.png](attachment:image.png)"
   ]
  },
  {
   "cell_type": "markdown",
   "id": "01bfd7c0",
   "metadata": {},
   "source": [
    "### 1. Классификация"
   ]
  },
  {
   "cell_type": "code",
   "execution_count": 31,
   "id": "bebb3294",
   "metadata": {},
   "outputs": [
    {
     "name": "stdout",
     "output_type": "stream",
     "text": [
      "0.8023167848587036\n"
     ]
    }
   ],
   "source": [
    "# bce_loss_torch  или  torch.nn.BCEWithLogitsLoss\n",
    "\n",
    "def bce_loss_torch(y_real, y_pred):\n",
    "    y_pred = y_pred.view(-1)\n",
    "    y_real = y_real.view(-1)\n",
    "    y_pred = y_pred.type(torch.float32)\n",
    "    y_real = y_real.type(torch.float32)\n",
    "\n",
    "    loss = F.relu(y_pred) - y_real * y_pred + torch.log(1. + torch.exp(-abs(y_pred)))\n",
    "    return torch.mean(loss)\n",
    "\n",
    "loss = bce_loss_torch(targets_binary, logits_binary)  # targets - индексы классов\n",
    "print(loss.item())"
   ]
  },
  {
   "cell_type": "code",
   "execution_count": 32,
   "id": "578aa924",
   "metadata": {},
   "outputs": [
    {
     "name": "stdout",
     "output_type": "stream",
     "text": [
      "0.5884541869163513\n"
     ]
    }
   ],
   "source": [
    "criterion = nn.CrossEntropyLoss()\n",
    "# logits = model(inputs)  # (batch_size, num_classes)\n",
    "loss = criterion(logits, targets)  # targets - индексы классов\n",
    "print(loss.item())"
   ]
  },
  {
   "cell_type": "code",
   "execution_count": 33,
   "id": "617dbd81",
   "metadata": {},
   "outputs": [
    {
     "data": {
      "text/plain": [
       "0.1300818920135498"
      ]
     },
     "execution_count": 33,
     "metadata": {},
     "output_type": "execute_result"
    }
   ],
   "source": [
    "import torch.nn.functional as F\n",
    "\n",
    "class FocalLoss(nn.Module):\n",
    "    def __init__(self, alpha=1, gamma=2, reduction='mean'):\n",
    "        super().__init__()\n",
    "        self.alpha = alpha\n",
    "        self.gamma = gamma\n",
    "        self.reduction = reduction\n",
    "    \n",
    "    def forward(self, inputs, targets):\n",
    "        ce_loss = F.cross_entropy(inputs, targets, reduction='none')\n",
    "        pt = torch.exp(-ce_loss)\n",
    "        focal_loss = self.alpha * (1 - pt) ** self.gamma * ce_loss\n",
    "        if self.reduction == 'mean':\n",
    "            return focal_loss.mean()\n",
    "        elif self.reduction == 'sum':\n",
    "            return focal_loss.sum()\n",
    "        else:\n",
    "            return focal_loss\n",
    "\n",
    "\n",
    "loss = FocalLoss()\n",
    "loss(logits, targets).item()"
   ]
  },
  {
   "cell_type": "markdown",
   "id": "dab879ba",
   "metadata": {},
   "source": [
    "### 2. Сегментация"
   ]
  },
  {
   "cell_type": "markdown",
   "id": "c6a9f3ec",
   "metadata": {},
   "source": [
    "#### Кросэнтропия"
   ]
  },
  {
   "cell_type": "code",
   "execution_count": null,
   "id": "db9f006a",
   "metadata": {},
   "outputs": [
    {
     "name": "stdout",
     "output_type": "stream",
     "text": [
      "Loss: 0.39712637662887573\n"
     ]
    }
   ],
   "source": [
    "# БИНАРНАЯ сегментация  с вероятностями\n",
    "criterion = nn.BCELoss()\n",
    "\n",
    "# Вычисляем loss\n",
    "loss = criterion(y_probs_torch, y_test_torch)\n",
    "print(\"Loss:\", loss.item())"
   ]
  },
  {
   "cell_type": "code",
   "execution_count": null,
   "id": "1c5201e0",
   "metadata": {},
   "outputs": [
    {
     "name": "stdout",
     "output_type": "stream",
     "text": [
      "0.8023167848587036\n"
     ]
    }
   ],
   "source": [
    "# Многоклассовая сегментация  с логитами\n",
    "criterion = torch.nn.BCEWithLogitsLoss()\n",
    "loss = criterion(logits_binary, targets_binary)\n",
    "\n",
    "print(loss.item())"
   ]
  },
  {
   "cell_type": "markdown",
   "id": "b429fe09",
   "metadata": {},
   "source": [
    "#### dice_loss"
   ]
  },
  {
   "cell_type": "code",
   "execution_count": null,
   "id": "ffe133a8",
   "metadata": {},
   "outputs": [],
   "source": [
    "# бинарная сегментация\n",
    "def dice_loss(pred, target, smooth=1e-6):\n",
    "    intersection = (pred * target).sum()\n",
    "    union = pred.sum() + target.sum()\n",
    "    dice = (2 * intersection + smooth) / (union + smooth)\n",
    "    return 1 - dice\n"
   ]
  },
  {
   "cell_type": "code",
   "execution_count": null,
   "id": "94358f57",
   "metadata": {},
   "outputs": [],
   "source": [
    "import torch\n",
    "import torch.nn.functional as F\n",
    "# многоклассовая\n",
    "def dice_loss(y_real, y_pred, num_classes=19, smooth=1e-8):\n",
    "    \"\"\"\n",
    "    Многоклассовая Dice Loss с поддержкой пропуска отсутствующих классов.\n",
    "    \n",
    "    Args:\n",
    "        y_real: [B, H, W] Ground truth маска (целые числа 0..num_classes-1)\n",
    "        y_pred: [B, C, H, W] Логиты модели\n",
    "        num_classes: Количество классов\n",
    "        smooth: Сглаживающий коэффициент\n",
    "        \n",
    "    Returns:\n",
    "        Среднее значение Dice Loss по присутствующим классам\n",
    "    \"\"\"\n",
    "    # Применяем softmax к предсказаниям\n",
    "    y_pred_softmax = torch.softmax(y_pred, dim=1)\n",
    "    \n",
    "    # Конвертируем маски в one-hot представление\n",
    "    y_real_onehot = F.one_hot(y_real, num_classes=num_classes).permute(0, 3, 1, 2).float()\n",
    "    \n",
    "    # Вычисляем intersection и union для всех классов\n",
    "    intersection = torch.sum(y_pred_softmax * y_real_onehot, dim=(0, 2, 3))\n",
    "    union = torch.sum(y_pred_softmax, dim=(0, 2, 3)) + torch.sum(y_real_onehot, dim=(0, 2, 3))\n",
    "    \n",
    "    # Определяем присутствующие классы\n",
    "    class_present = torch.sum(y_real_onehot, dim=(0, 2, 3)) > 0\n",
    "    \n",
    "    # Вычисляем Dice для каждого класса\n",
    "    dice_per_class = (2. * intersection + smooth) / (union + smooth)\n",
    "    \n",
    "    # Усредняем только по присутствующим классам\n",
    "    if torch.any(class_present):\n",
    "        dice_avg = torch.mean(dice_per_class[class_present])\n",
    "        return 1 - dice_avg\n",
    "    return torch.tensor(1.0, device=y_pred.device, requires_grad=True)\n"
   ]
  },
  {
   "cell_type": "markdown",
   "id": "4a504c9c",
   "metadata": {},
   "source": [
    "####  IoU loss"
   ]
  },
  {
   "cell_type": "code",
   "execution_count": null,
   "id": "fe442220",
   "metadata": {},
   "outputs": [],
   "source": [
    "# Бинарная\n",
    "import torch\n",
    "import torch.nn.functional as F\n",
    "\n",
    "def iou_loss_binary(pred, target, smooth=1e-6):\n",
    "    \"\"\"\n",
    "    IoU loss для бинарной сегментации.\n",
    "    pred: вероятности модели после sigmoid, shape [B, 1, H, W]\n",
    "    target: бинарные метки (0 или 1), shape такой же\n",
    "    smooth: сглаживающий параметр для стабильности\n",
    "    \n",
    "    Возвращает число — потерю (чем меньше, тем лучше).\n",
    "    \"\"\"\n",
    "    pred = pred.view(-1)\n",
    "    target = target.view(-1)\n",
    "    \n",
    "    intersection = (pred * target).sum()\n",
    "    union = pred.sum() + target.sum() - intersection\n",
    "    \n",
    "    iou = (intersection + smooth) / (union + smooth)\n",
    "    return 1 - iou\n"
   ]
  },
  {
   "cell_type": "code",
   "execution_count": null,
   "id": "04e82241",
   "metadata": {},
   "outputs": [],
   "source": [
    "# многоклассовая\n",
    "import torch\n",
    "import torch.nn.functional as F\n",
    "\n",
    "def iou_loss_multiclass(y_pred, y_true, num_classes, smooth=1e-6):\n",
    "    \"\"\"\n",
    "    Многоклассовая IoU Loss.\n",
    "    y_pred: логиты модели, shape [B, C, H, W]\n",
    "    y_true: цели, shape [B, H, W] с индексами классов\n",
    "    num_classes: число классов\n",
    "    smooth: сглаживание\n",
    "    \n",
    "    Возвращает усредненную IoU Loss по классам, присутствующим в батче.\n",
    "    \"\"\"\n",
    "    y_pred_soft = F.softmax(y_pred, dim=1)  # вероятности по классам\n",
    "    \n",
    "    y_true_onehot = F.one_hot(y_true, num_classes)  # [B, H, W, C]\n",
    "    y_true_onehot = y_true_onehot.permute(0, 3, 1, 2).float()  # [B, C, H, W]\n",
    "    \n",
    "    intersection = (y_pred_soft * y_true_onehot).sum(dim=(0, 2, 3))\n",
    "    union = (y_pred_soft + y_true_onehot).sum(dim=(0, 2, 3)) - intersection\n",
    "    \n",
    "    iou = (intersection + smooth) / (union + smooth)\n",
    "    \n",
    "    # Выбираем классы, которые есть в y_true\n",
    "    class_present = (y_true_onehot.sum(dim=(0,2,3)) > 0)\n",
    "    \n",
    "    if class_present.sum() == 0:\n",
    "        # Если классов нет, вернуть максимальную потерю\n",
    "        return torch.tensor(1.0, device=y_pred.device, requires_grad=True)\n",
    "    \n",
    "    iou_loss = 1 - iou[class_present].mean()\n",
    "    return iou_loss\n",
    "\n"
   ]
  },
  {
   "cell_type": "markdown",
   "id": "92e9f654",
   "metadata": {},
   "source": [
    "#### FocalLoss   \n",
    "учитывает дисбаланс классов "
   ]
  },
  {
   "cell_type": "code",
   "execution_count": null,
   "id": "2e425537",
   "metadata": {},
   "outputs": [],
   "source": [
    "# Бинарная сегментация\n",
    "import torch\n",
    "import torch.nn as nn\n",
    "import torch.nn.functional as F\n",
    "\n",
    "class BinaryFocalLoss(nn.Module):\n",
    "    def __init__(self, gamma=2.0, alpha=0.25, reduction='mean'):\n",
    "        super(BinaryFocalLoss, self).__init__()\n",
    "        self.gamma = gamma\n",
    "        self.alpha = alpha\n",
    "        self.reduction = reduction\n",
    "        self.bce = nn.BCEWithLogitsLoss(reduction='none')  # без усреднения\n",
    "    \n",
    "    def forward(self, inputs, targets):\n",
    "        \"\"\"\n",
    "        inputs: логиты модели размером [B, 1, ...] или [B, ...]\n",
    "        targets: бинарные метки того же размера (0 или 1)\n",
    "        \"\"\"\n",
    "        bce_loss = self.bce(inputs, targets.float())\n",
    "        # Применяем sigmoid, чтобы получить вероятности предсказания класса 1\n",
    "        probas = torch.sigmoid(inputs)\n",
    "        p_t = probas * targets + (1 - probas) * (1 - targets)  # вероятности правильного класса\n",
    "        \n",
    "        focal_factor = (1 - p_t) ** self.gamma\n",
    "        \n",
    "        if self.alpha is not None:\n",
    "            alpha_t = self.alpha * targets + (1 - self.alpha) * (1 - targets)\n",
    "            loss = alpha_t * focal_factor * bce_loss\n",
    "        else:\n",
    "            loss = focal_factor * bce_loss\n",
    "            \n",
    "        if self.reduction == 'mean':\n",
    "            return loss.mean()\n",
    "        elif self.reduction == 'sum':\n",
    "            return loss.sum()\n",
    "        else:\n",
    "            return loss\n",
    "\n"
   ]
  },
  {
   "cell_type": "code",
   "execution_count": null,
   "id": "81d547de",
   "metadata": {},
   "outputs": [],
   "source": [
    "import torch\n",
    "import torch.nn.functional as F\n",
    "\n",
    "def focal_loss(y_real, y_pred, gamma=2.0, alpha=0.8, reduction='mean'):\n",
    "    \"\"\"\n",
    "    y_real: тензор бинарных меток (0/1), float32, shape любую, например [B, 1, H, W]\n",
    "    y_pred: логиты модели (сырые предсказания без sigmoid), того же размера\n",
    "    gamma: параметр фокусировки\n",
    "    alpha: баланс классов\n",
    "    reduction: 'mean', 'sum' или 'none'\n",
    "    \"\"\"\n",
    "    y_real = y_real.type(torch.float32)\n",
    "    \n",
    "    bce_loss = F.binary_cross_entropy_with_logits(y_pred, y_real, reduction='none')\n",
    "    pt = torch.exp(-bce_loss)  # вероятность правильного класса\n",
    "    \n",
    "    focal_loss = alpha * (1 - pt) ** gamma * bce_loss\n",
    "    \n",
    "    if reduction == 'mean':\n",
    "        return focal_loss.mean()\n",
    "    elif reduction == 'sum':\n",
    "        return focal_loss.sum()\n",
    "    else:\n",
    "        return focal_loss\n"
   ]
  },
  {
   "cell_type": "code",
   "execution_count": null,
   "id": "e190a906",
   "metadata": {},
   "outputs": [],
   "source": [
    "# Многоклассовая\n",
    "class FocalLoss(nn.Module):\n",
    "    def __init__(self, gamma=2.0, alpha=0.25, reduction='mean', ignore_index=-100):\n",
    "        super(FocalLoss, self).__init__()\n",
    "        self.gamma = gamma\n",
    "        self.alpha = alpha\n",
    "        self.reduction = reduction\n",
    "        self.ignore_index = ignore_index\n",
    "        self.ce_loss = nn.CrossEntropyLoss(reduction='none', ignore_index=self.ignore_index)\n",
    "    def forward(self, inputs, targets):\n",
    "        \"\"\"\n",
    "        inputs: логиты модели, shape [B, C, ...]\n",
    "        targets: целочисленные метки классов, shape [B, ...]\n",
    "        \"\"\"\n",
    "        logpt = -self.ce_loss(inputs, targets)  \n",
    "        pt = torch.exp(logpt)  # вероятности правильных классов\n",
    "\n",
    "        # Фокусируемся на сложных примерах\n",
    "        focal_term = (1 - pt) ** self.gamma\n",
    "\n",
    "        # Балансировка классов\n",
    "        if self.alpha is not None:\n",
    "            alpha_t = self.alpha\n",
    "            loss = -alpha_t * focal_term * logpt\n",
    "        else:\n",
    "            loss = -focal_term * logpt\n",
    "\n",
    "        if self.reduction == 'mean':\n",
    "            return loss.mean()\n",
    "        elif self.reduction == 'sum':\n",
    "            return loss.sum()\n",
    "        else:\n",
    "            return loss\n",
    "\n"
   ]
  },
  {
   "cell_type": "markdown",
   "id": "de5750ea",
   "metadata": {},
   "source": [
    "#### lovasz_hinge \n"
   ]
  },
  {
   "cell_type": "code",
   "execution_count": null,
   "id": "d72d71e5",
   "metadata": {},
   "outputs": [],
   "source": [
    "# Бинарная сегментация\n",
    "\n",
    "# оригинальная функция\n",
    "def lovasz_grad(gt_sorted):\n",
    "    p = len(gt_sorted)\n",
    "    gts = gt_sorted.sum()\n",
    "    intersection = gts - gt_sorted.float().cumsum(0)\n",
    "    union = gts + (1 - gt_sorted).float().cumsum(0)\n",
    "    jaccard = 1. - intersection / union\n",
    "    if p > 1:\n",
    "        jaccard[1:p] = jaccard[1:p] - jaccard[0:-1]\n",
    "    return jaccard\n",
    "\n",
    "def lovasz_hinge_flat(logits, labels):\n",
    "    if len(labels) == 0:\n",
    "        # no pixels to train on\n",
    "        return logits.sum() * 0.\n",
    "    signs = 2. * labels.float() - 1.\n",
    "    errors = (1. - logits * signs)\n",
    "    errors_sorted, perm = torch.sort(errors, dim=0, descending=True)\n",
    "    perm = perm.data\n",
    "    gt_sorted = labels[perm]\n",
    "    grad = lovasz_grad(gt_sorted)\n",
    "    loss = torch.dot(F.relu(errors_sorted), grad)\n",
    "    return loss\n"
   ]
  },
  {
   "cell_type": "code",
   "execution_count": null,
   "id": "8a89f494",
   "metadata": {},
   "outputs": [],
   "source": [
    "# Не оригинальная (не оптимальная)\n",
    "\n",
    "# https://arxiv.org/pdf/1705.08790.pdf\n",
    "def grad_lovasz(sorted_errors):\n",
    "\n",
    "    err_cumm = sorted_errors.float().cumsum(0)\n",
    "    opp_err_cumm = (1 - sorted_errors).float().cumsum(0)\n",
    "    p = len(sorted_errors)\n",
    "    err = sorted_errors.sum()\n",
    "    intersection = err - err_cumm\n",
    "    union = err + opp_err_cumm\n",
    "    grad = 1 - intersection / union\n",
    "    if p > 1:\n",
    "        grad[1:p] = grad[1:p] - grad[0:p-1]\n",
    "    return grad\n",
    "\n",
    "\n",
    "# https://arxiv.org/pdf/1512.07797.pdf. \n",
    "def lovasz_hinge(y_real, y_pred):\n",
    "\n",
    "    y_pred = y_pred.view(-1)\n",
    "    y_real = y_real.view(-1)\n",
    "    sgn = 2 * y_real.float() - 1\n",
    "    errs = (1 - y_pred * torch.tensor(sgn, requires_grad=True))\n",
    "    sorted_errors, indices = torch.sort(errs, dim=0, descending=True)\n",
    "    indices = indices.data\n",
    "    errs_for_grad = y_real[indices]\n",
    "    grad = grad_lovasz(errs_for_grad)\n",
    "    loss = torch.dot(F.relu(sorted_errors), torch.tensor(grad, requires_grad=True))\n",
    "    return loss"
   ]
  },
  {
   "cell_type": "code",
   "execution_count": null,
   "id": "b8bdfa54",
   "metadata": {},
   "outputs": [],
   "source": [
    "# многоклассовая \n",
    "\n",
    "import torch\n",
    "import torch.nn.functional as F\n",
    "\n",
    "def lovasz_grad(gt_sorted):\n",
    "    \"\"\"\n",
    "    Вычисляет градиенты Lovász расширения.\n",
    "    gt_sorted: отсортированные метки (0/1), 1D tensor\n",
    "    \"\"\"\n",
    "    p = gt_sorted.numel()\n",
    "    gts = gt_sorted.sum().item()\n",
    "    intersection = gts - gt_sorted.float().cumsum(0)\n",
    "    union = gts + (1 - gt_sorted).float().cumsum(0)\n",
    "    jaccard = 1. - intersection / union\n",
    "    if p > 1:\n",
    "        jaccard[1:p] = jaccard[1:p] - jaccard[0:-1]\n",
    "    return jaccard\n",
    "\n",
    "\n",
    "def lovasz_hinge_binary(logits, labels):\n",
    "    \"\"\"\n",
    "    Lovász hinge loss для бинарной сегментации.\n",
    "    \n",
    "    logits: 1D tensor (N) — логиты модели для написанных пикселей\n",
    "    labels: 1D tensor (N) — бинарные метки {0,1}\n",
    "    \n",
    "    Returns скалярный loss.\n",
    "    \"\"\"\n",
    "    if labels.numel() == 0:\n",
    "        return logits.sum() * 0.  # чтобы не ломать вычисления при пустом входе\n",
    "\n",
    "    labels = labels.float()\n",
    "    signs = 2. * labels - 1.\n",
    "    errors = 1. - logits * signs\n",
    "    errors_sorted, perm = torch.sort(errors, descending=True)\n",
    "    perm = perm.detach()\n",
    "    labels_sorted = labels[perm]\n",
    "    grad = lovasz_grad(labels_sorted)\n",
    "    loss = torch.dot(F.relu(errors_sorted), grad)\n",
    "    return loss\n",
    "\n",
    "\n",
    "def lovasz_hinge(logits, labels, ignore_index=None, classes='present'):\n",
    "    \"\"\"\n",
    "    Многоклассовая Lovász hinge loss через поэлементное вычисление Binary Lovász hinge loss по классам.\n",
    "\n",
    "    logits: tensor [B, C, H, W] — логйты модели (сырые выходы)\n",
    "    labels: tensor [B, H, W] — метки классов (LongTensor с индексами классов)\n",
    "    ignore_index: int или None — значение метки для игнорирования\n",
    "    classes: 'all' или 'present' — считать loss для всех классов или только для присутствующих в батче.\n",
    "\n",
    "    Returns среднее значение loss (scalar).\n",
    "    \"\"\"\n",
    "\n",
    "    B, C, H, W = logits.shape\n",
    "    total_loss = 0.\n",
    "    count = 0\n",
    "\n",
    "    for c in range(C):\n",
    "        # бинарная маска по текущему классу\n",
    "        fg = (labels == c).float()\n",
    "\n",
    "        if ignore_index is not None:\n",
    "            mask = (labels != ignore_index).float()\n",
    "            fg = fg * mask\n",
    "\n",
    "        if classes == 'present' and fg.sum() == 0:\n",
    "            continue  # пропускаем класс, если он не представлен в батче\n",
    "\n",
    "        for b in range(B):\n",
    "            logits_flat = logits[b, c].view(-1)\n",
    "            fg_flat = fg[b].view(-1)\n",
    "\n",
    "            if ignore_index is not None:\n",
    "                valid_mask = (labels[b] != ignore_index).view(-1)\n",
    "                logits_flat = logits_flat[valid_mask]\n",
    "                fg_flat = fg_flat[valid_mask]\n",
    "\n",
    "                if logits_flat.numel() == 0:\n",
    "                    continue  # ничего не считаем для пустых примеров\n",
    "\n",
    "            loss_b = lovasz_hinge_binary(logits_flat, fg_flat)\n",
    "            total_loss += loss_b\n",
    "            count += 1\n",
    "\n",
    "    if count == 0:\n",
    "        # если нет классов для подсчета — возвращаем 0\n",
    "        return torch.tensor(0., device=logits.device)\n",
    "\n",
    "    return total_loss / count\n",
    "\n",
    "\n",
    "# \n",
    "\n",
    "# logits = выход модели (logits), shape [B, C, H, W]\n",
    "# labels = целевые метки, shape [B, H, W] с целочисленными классами (int64)\n",
    "\n",
    "# loss = lovasz_hinge(logits, labels, ignore_index=255, classes='present')\n",
    "# loss.backward()\n",
    "\n"
   ]
  },
  {
   "cell_type": "markdown",
   "id": "32d6245b",
   "metadata": {},
   "source": [
    "### 3. Детекция"
   ]
  },
  {
   "cell_type": "markdown",
   "id": "c9b4c021",
   "metadata": {},
   "source": [
    "#### 1. Smooth L1 Loss (для регрессии координат коробок)"
   ]
  },
  {
   "cell_type": "code",
   "execution_count": 45,
   "id": "cf3cc00e",
   "metadata": {},
   "outputs": [
    {
     "name": "stdout",
     "output_type": "stream",
     "text": [
      "Localization Loss: 0.6350587010383606\n"
     ]
    }
   ],
   "source": [
    "import torch\n",
    "import torch.nn as nn\n",
    "\n",
    "criterion_loc = nn.SmoothL1Loss()\n",
    "\n",
    "# Пример:\n",
    "# pred_boxes и target_boxes — тензоры формы [N, 4], где 4 — координаты бокса\n",
    "pred_boxes = torch.randn(10, 4, requires_grad=True)\n",
    "target_boxes = torch.randn(10, 4)\n",
    "\n",
    "loss_loc = criterion_loc(pred_boxes, target_boxes)\n",
    "print(\"Localization Loss:\", loss_loc.item())\n"
   ]
  },
  {
   "cell_type": "markdown",
   "id": "a5933fb1",
   "metadata": {},
   "source": [
    "#### 2. Cross Entropy Loss (для классификации объектов)"
   ]
  },
  {
   "cell_type": "code",
   "execution_count": 42,
   "id": "16728f89",
   "metadata": {},
   "outputs": [
    {
     "name": "stdout",
     "output_type": "stream",
     "text": [
      "Classification Loss: 1.504645586013794\n"
     ]
    }
   ],
   "source": [
    "criterion_cls = nn.CrossEntropyLoss()\n",
    "\n",
    "# pred_cls — логиты модели размером [N, num_classes]\n",
    "# target_cls — целочисленные метки классов размером [N]\n",
    "pred_cls = torch.randn(10, 3, requires_grad=True)  # например 3 класса\n",
    "target_cls = torch.randint(0, 3, (10,))\n",
    "\n",
    "loss_cls = criterion_cls(pred_cls, target_cls)\n",
    "print(\"Classification Loss:\", loss_cls.item())\n"
   ]
  },
  {
   "cell_type": "markdown",
   "id": "c7fd2ddf",
   "metadata": {},
   "source": [
    "#### 3. Focal Loss для борьбы с несбалансированностью классов (Для классификации объектов)"
   ]
  },
  {
   "cell_type": "code",
   "execution_count": 43,
   "id": "437fd8d5",
   "metadata": {},
   "outputs": [
    {
     "name": "stdout",
     "output_type": "stream",
     "text": [
      "FocalLoss 0.26159900426864624\n"
     ]
    }
   ],
   "source": [
    "import torch\n",
    "import torch.nn as nn\n",
    "import torch.nn.functional as F\n",
    "\n",
    "class FocalLoss(nn.Module):\n",
    "    def __init__(self, gamma=2., alpha=0.25, reduction='mean'):\n",
    "        super(FocalLoss, self).__init__()\n",
    "        self.gamma = gamma\n",
    "        self.alpha = alpha\n",
    "        self.reduction = reduction\n",
    "        self.ce = nn.CrossEntropyLoss(reduction='none')\n",
    "\n",
    "    def forward(self, inputs, targets):\n",
    "        ce_loss = self.ce(inputs, targets)\n",
    "        pt = torch.exp(-ce_loss)\n",
    "        focal_loss = self.alpha * (1 - pt) ** self.gamma * ce_loss\n",
    "\n",
    "        if self.reduction == 'mean':\n",
    "            return focal_loss.mean()\n",
    "        elif self.reduction == 'sum':\n",
    "            return focal_loss.sum()\n",
    "        else:\n",
    "            return focal_loss\n",
    "\n",
    "\n",
    "focal_loss = FocalLoss()\n",
    "loss = focal_loss(pred_cls, target_cls)\n",
    "print(\"FocalLoss\", loss.item())"
   ]
  },
  {
   "cell_type": "code",
   "execution_count": 46,
   "id": "866291c5",
   "metadata": {},
   "outputs": [
    {
     "name": "stdout",
     "output_type": "stream",
     "text": [
      "LOSS =  2.1397042274475098\n"
     ]
    }
   ],
   "source": [
    "loss_final = loss_loc + loss_cls\n",
    "print(\"LOSS = \", loss_final.item())\n"
   ]
  },
  {
   "cell_type": "markdown",
   "id": "91fca1f4",
   "metadata": {},
   "source": [
    "#### 4. Метрики в стиле Yolo"
   ]
  },
  {
   "cell_type": "code",
   "execution_count": null,
   "id": "886f561b",
   "metadata": {},
   "outputs": [],
   "source": [
    "import torch\n",
    "import torch.nn.functional as F\n",
    "\n",
    "\n",
    "####### =========================          box_loss              ==============================\n",
    "\n",
    "def bbox_iou_ciou(box1, box2, eps=1e-7):\n",
    "    \"\"\"\n",
    "    Вычисление Complete IoU (CIoU) между двумя наборами боксов.\n",
    "    box1, box2: тензоры Nx4 в формате [x_center, y_center, width, height]\n",
    "    \"\"\"\n",
    "    # Преобразуем в [x1, y1, x2, y2]\n",
    "    box1_x1 = box1[:, 0] - box1[:, 2] / 2\n",
    "    box1_y1 = box1[:, 1] - box1[:, 3] / 2\n",
    "    box1_x2 = box1[:, 0] + box1[:, 2] / 2\n",
    "    box1_y2 = box1[:, 1] + box1[:, 3] / 2\n",
    "\n",
    "    box2_x1 = box2[:, 0] - box2[:, 2] / 2\n",
    "    box2_y1 = box2[:, 1] - box2[:, 3] / 2\n",
    "    box2_x2 = box2[:, 0] + box2[:, 2] / 2\n",
    "    box2_y2 = box2[:, 1] + box2[:, 3] / 2\n",
    "\n",
    "    # Пересечение\n",
    "    inter_x1 = torch.max(box1_x1, box2_x1)\n",
    "    inter_y1 = torch.max(box1_y1, box2_y1)\n",
    "    inter_x2 = torch.min(box1_x2, box2_x2)\n",
    "    inter_y2 = torch.min(box1_y2, box2_y2)\n",
    "\n",
    "    inter_area = (inter_x2 - inter_x1).clamp(0) * (inter_y2 - inter_y1).clamp(0)\n",
    "\n",
    "    # Площади боксов\n",
    "    area1 = (box1_x2 - box1_x1) * (box1_y2 - box1_y1)\n",
    "    area2 = (box2_x2 - box2_x1) * (box2_y2 - box2_y1)\n",
    "\n",
    "    union = area1 + area2 - inter_area + eps\n",
    "\n",
    "    iou = inter_area / union\n",
    "\n",
    "    # Центры\n",
    "    center_x1 = box1[:, 0]\n",
    "    center_y1 = box1[:, 1]\n",
    "    center_x2 = box2[:, 0]\n",
    "    center_y2 = box2[:, 1]\n",
    "\n",
    "    center_dist = (center_x1 - center_x2) ** 2 + (center_y1 - center_y2) ** 2\n",
    "\n",
    "    # Охватывающий (enclosing) бокс\n",
    "    enclose_x1 = torch.min(box1_x1, box2_x1)\n",
    "    enclose_y1 = torch.min(box1_y1, box2_y1)\n",
    "    enclose_x2 = torch.max(box1_x2, box2_x2)\n",
    "    enclose_y2 = torch.max(box1_y2, box2_y2)\n",
    "\n",
    "    enclose_diagonal = (enclose_x2 - enclose_x1) ** 2 + (enclose_y2 - enclose_y1) ** 2 + eps\n",
    "\n",
    "    # Аспектное соотношение\n",
    "    w1 = box1[:, 2]\n",
    "    h1 = box1[:, 3]\n",
    "    w2 = box2[:, 2]\n",
    "    h2 = box2[:, 3]\n",
    "\n",
    "    v = (4 / (3.141592653589793 ** 2)) * (torch.atan(w2 / (h2 + eps)) - torch.atan(w1 / (h1 + eps))) ** 2\n",
    "    with torch.no_grad():\n",
    "        alpha = v / (1 - iou + v + eps)\n",
    "\n",
    "    ciou = iou - (center_dist / enclose_diagonal) - (alpha * v)\n",
    "\n",
    "    return ciou\n",
    "\n",
    "\n",
    "def ciou_loss(pred_boxes, target_boxes):\n",
    "    \"\"\"\n",
    "    pred_boxes: [N,4] в формате [x_center, y_center, w, h]\n",
    "    target_boxes: [N,4] - target boxes такого же формата\n",
    "    Возвращает scalar loss\n",
    "    \"\"\"\n",
    "    ciou = bbox_iou_ciou(pred_boxes, target_boxes)\n",
    "    loss = 1 - ciou\n",
    "    return loss.mean()\n",
    "\n",
    "\n",
    "\n",
    "\n",
    "####### ==========================    Классификация    cls_loss    ========================\n",
    "\n",
    "import torch.nn as nn\n",
    "\n",
    "cls_criterion = nn.CrossEntropyLoss()\n",
    "\n",
    "\n",
    "\n",
    "####### =========================       DFL   dfl_loss        ===============================\n",
    "\n",
    "import torch\n",
    "import torch.nn.functional as F\n",
    "\n",
    "def distribution_focal_loss(pred, target):\n",
    "    \"\"\"\n",
    "    Simplified DFL.\n",
    "\n",
    "    pred: [N, n_bins] - logits предсказания распределения для одной из координат бокса (обычно dim 16, 20 и т.п.)\n",
    "    target: [N] - target float координата (например, x или y в нормализованном виде)\n",
    "\n",
    "    Возвращает scalar loss.\n",
    "    \"\"\"\n",
    "    # target состоит из float координат - нужно представить в виде распределения «между» соседними integer значениями\n",
    "    target_left = target.long()\n",
    "    target_right = target_left + 1\n",
    "\n",
    "    weight_right = target - target_left.float()\n",
    "    weight_left = 1 - weight_right\n",
    "\n",
    "    loss = 0\n",
    "    loss += weight_left * F.cross_entropy(pred, target_left, reduction='none')\n",
    "    loss += weight_right * F.cross_entropy(pred, target_right.clamp(max=pred.size(1) - 1), reduction='none')\n",
    "\n",
    "    return loss.mean()\n",
    "\n",
    "\n",
    "\n",
    "\n",
    "\n",
    "################     =====================      Итоговый лосс       =============================\n",
    "\n",
    "class YOLOLossExample(nn.Module):\n",
    "    def __init__(self, lambda_box=5.0, lambda_noobj=0.5):\n",
    "        super(YOLOLossExample, self).__init__()\n",
    "        self.lambda_box = lambda_box\n",
    "        self.lambda_noobj = lambda_noobj\n",
    "        self.cls_loss_fn = nn.CrossEntropyLoss()\n",
    "        # DFL нет встроенного loss в PyTorch, надо писать свой (см. выше)\n",
    "\n",
    "    def forward(self, pred_boxes, target_boxes, pred_cls, target_cls, pred_obj, target_obj, pred_dfl, target_dfl):\n",
    "        \"\"\"\n",
    "        pred_boxes: [N,4] - предсказанные боксы (логиты координат, для ciou_loss нужны реальные координаты)\n",
    "        target_boxes: [N,4] - целевые боксы\n",
    "        pred_cls: [N,num_classes] - логиты классов\n",
    "        target_cls: [N] - индексы классов целевых\n",
    "        pred_obj: [N] - логиты confidence (objectness)\n",
    "        target_obj: [N] - 0/1 индикатор объекта\n",
    "        pred_dfl: [N,n_bins] - DFL logits для координат\n",
    "        target_dfl: [N] - флоат-координаты целевые\n",
    "\n",
    "        Возвращает общий loss.\n",
    "        \"\"\"\n",
    "\n",
    "        # box_loss c помощью ciou_loss\n",
    "        loss_box = ciou_loss(pred_boxes, target_boxes)\n",
    "\n",
    "        # классификационный loss\n",
    "        loss_cls = self.cls_loss_fn(pred_cls, target_cls)\n",
    "\n",
    "        # objectness loss (BCE)\n",
    "        loss_obj = F.binary_cross_entropy_with_logits(pred_obj, target_obj.float())\n",
    "\n",
    "        # DFL loss\n",
    "        loss_dfl = distribution_focal_loss(pred_dfl, target_dfl)\n",
    "\n",
    "        return self.lambda_box * loss_box + loss_cls + loss_obj + loss_dfl\n"
   ]
  },
  {
   "cell_type": "markdown",
   "id": "008ffbce",
   "metadata": {},
   "source": [
    "### 4. Восстановление и улучшение качества изображений"
   ]
  },
  {
   "cell_type": "markdown",
   "id": "0686094d",
   "metadata": {},
   "source": [
    "#### 1. Mean Squared Error (MSE) — Среднеквадратичная ошибка  \n",
    "Очень распространённая функция для регрессии пикселей, штрафует большие ошибки сильнее."
   ]
  },
  {
   "cell_type": "code",
   "execution_count": null,
   "id": "767b4b54",
   "metadata": {},
   "outputs": [],
   "source": [
    "import torch.nn as nn\n",
    "\n",
    "criterion = nn.MSELoss()\n",
    "\n",
    "# Пример использования:\n",
    "# output и target — тензоры формы [B, C, H, W]\n",
    "loss = criterion(output, target)\n"
   ]
  },
  {
   "cell_type": "markdown",
   "id": "d4a33559",
   "metadata": {},
   "source": [
    "#### 2. Mean Absolute Error (MAE) / L1 Loss — Средняя абсолютная ошибка  \n",
    "Более устойчива к выбросам и резким изменениям, чем MSE."
   ]
  },
  {
   "cell_type": "code",
   "execution_count": null,
   "id": "f85fd1b5",
   "metadata": {},
   "outputs": [],
   "source": [
    "criterion = nn.L1Loss()\n",
    "\n",
    "loss = criterion(output, target)\n"
   ]
  },
  {
   "cell_type": "markdown",
   "id": "23bba688",
   "metadata": {},
   "source": [
    "#### 3. Perceptual Loss (Feature Loss) \n"
   ]
  },
  {
   "cell_type": "code",
   "execution_count": null,
   "id": "8a105ff6",
   "metadata": {},
   "outputs": [],
   "source": [
    "import torch\n",
    "import torchvision.models as models\n",
    "import torch.nn.functional as F\n",
    "\n",
    "class PerceptualLoss(nn.Module):\n",
    "    def __init__(self, feature_layer=16):  # Например, берем слой relu3_3 в VGG16\n",
    "        super().__init__()\n",
    "        vgg = models.vgg16(pretrained=True).features\n",
    "        self.features = vgg[:feature_layer].eval()  # Выделяем часть модели\n",
    "        for param in self.features.parameters():\n",
    "            param.requires_grad = False\n",
    "\n",
    "    def forward(self, output, target):\n",
    "        # Нормализуем по ImageNet если надо\n",
    "        output_features = self.features(output)\n",
    "        target_features = self.features(target)\n",
    "        loss = F.l1_loss(output_features, target_features)\n",
    "        return loss"
   ]
  },
  {
   "cell_type": "markdown",
   "id": "51cd784d",
   "metadata": {},
   "source": [
    "#### 4. Structural Similarity Index (SSIM) Loss \n",
    "\n",
    "SSIM — метрика, учитывающая структуру, освещение и контраст, ближе к человеческому восприятию качества."
   ]
  },
  {
   "cell_type": "code",
   "execution_count": null,
   "id": "9b36cfaf",
   "metadata": {},
   "outputs": [],
   "source": [
    "import torch\n",
    "import torch.nn as nn\n",
    "import torch.nn.functional as F\n",
    "\n",
    "def gaussian(window_size, sigma):\n",
    "    x = torch.arange(window_size).float()\n",
    "    center = window_size // 2\n",
    "    gauss = torch.exp(-((x - center) ** 2) / (2 * sigma ** 2))\n",
    "    return gauss / gauss.sum()\n",
    "\n",
    "def create_window(window_size, channel):\n",
    "    _1D_window = gaussian(window_size, 1.5).unsqueeze(1)  # [window_size, 1]\n",
    "    _2D_window = _1D_window.mm(_1D_window.t()).float().unsqueeze(0).unsqueeze(0)  # [1,1,window_size,window_size]\n",
    "    window = _2D_window.expand(channel, 1, window_size, window_size).contiguous()\n",
    "    return window\n",
    "\n",
    "def ssim(img1, img2, window_size=11, window=None, size_average=True, full=False, val_range=None):\n",
    "    \"\"\"\n",
    "    Возвращает SSIM индекс между img1 и img2 с размером окна window_size.\n",
    "    img1, img2 : тензоры размера (B, C, H, W)\n",
    "    \"\"\"\n",
    "    if val_range is None:\n",
    "        max_val = 1 if torch.max(img1) <= 1 else 255\n",
    "        min_val = 0\n",
    "        L = max_val - min_val\n",
    "    else:\n",
    "        L = val_range\n",
    "\n",
    "    padd = window_size // 2\n",
    "    (B, C, H, W) = img1.size()\n",
    "\n",
    "    if window is None:\n",
    "        window = create_window(window_size, C).to(img1.device)\n",
    "\n",
    "    mu1 = F.conv2d(img1, window, padding=padd, groups=C)\n",
    "    mu2 = F.conv2d(img2, window, padding=padd, groups=C)\n",
    "\n",
    "    mu1_sq = mu1.pow(2)\n",
    "    mu2_sq = mu2.pow(2)\n",
    "    mu1_mu2 = mu1 * mu2\n",
    "\n",
    "    sigma1_sq = F.conv2d(img1 * img1, window, padding=padd, groups=C) - mu1_sq\n",
    "    sigma2_sq = F.conv2d(img2 * img2, window, padding=padd, groups=C) - mu2_sq\n",
    "    sigma12 = F.conv2d(img1 * img2, window, padding=padd, groups=C) - mu1_mu2\n",
    "\n",
    "    C1 = (0.01 * L) ** 2\n",
    "    C2 = (0.03 * L) ** 2\n",
    "\n",
    "    ssim_map = ((2 * mu1_mu2 + C1) * (2 * sigma12 + C2)) / ((mu1_sq + mu2_sq + C1) * (sigma1_sq + sigma2_sq + C2))\n",
    "\n",
    "    if size_average:\n",
    "        ssim_val = ssim_map.mean()\n",
    "    else:\n",
    "        ssim_val = ssim_map.mean(1).mean(1).mean(1)\n",
    "\n",
    "    if full:\n",
    "        # Возвращаем полноценный SSIM и карту contrast sensitivity (необязательно)\n",
    "        cs_map = (2.0 * sigma12 + C2) / (sigma1_sq + sigma2_sq + C2)\n",
    "        if size_average:\n",
    "            cs = cs_map.mean()\n",
    "        else:\n",
    "            cs = cs_map.mean(1).mean(1).mean(1)\n",
    "        return ssim_val, cs\n",
    "\n",
    "    return ssim_val\n",
    "\n",
    "\n",
    "class SSIMLoss(nn.Module):\n",
    "    def __init__(self, window_size=11, size_average=True):\n",
    "        super(SSIMLoss, self).__init__()\n",
    "        self.window_size = window_size\n",
    "        self.size_average = size_average\n",
    "\n",
    "    def forward(self, img1, img2):\n",
    "        return 1 - ssim(img1, img2, window_size=self.window_size, size_average=self.size_average)\n"
   ]
  },
  {
   "cell_type": "code",
   "execution_count": null,
   "id": "070122a4",
   "metadata": {},
   "outputs": [
    {
     "name": "stdout",
     "output_type": "stream",
     "text": [
      "SSIM Loss: 0.9631375670433044\n"
     ]
    }
   ],
   "source": [
    "criterion = SSIMLoss()\n",
    "\n",
    "output = torch.rand(4, 3, 128, 128, requires_grad=True)  # output модели, значения в диапазоне [0,1]\n",
    "target = torch.rand(4, 3, 128, 128)  # эталонное изображение\n",
    "\n",
    "loss = criterion(output, target)\n",
    "print(\"SSIM Loss:\", loss.item())\n",
    "\n",
    "loss.backward()  # можно применять в оптимизации\n"
   ]
  },
  {
   "cell_type": "markdown",
   "id": "b496852e",
   "metadata": {},
   "source": [
    "#### PSNR "
   ]
  },
  {
   "cell_type": "code",
   "execution_count": null,
   "id": "ba4db0d1",
   "metadata": {},
   "outputs": [],
   "source": [
    "import torch\n",
    "\n",
    "def psnr_loss(output, target, max_val=1.0, eps=1e-8):\n",
    "    \"\"\"\n",
    "    Функция потерь на основе PSNR.\n",
    "    output, target: тензоры с изображениями в диапазоне [0, max_val]\n",
    "    max_val: максимальное значение пикселя (обычно 1 или 255)\n",
    "    Возвращает отрицательное значение PSNR (чтобы минимизировать).\n",
    "    \"\"\"\n",
    "    mse = torch.mean((output - target) ** 2)\n",
    "    psnr = 10 * torch.log10(max_val ** 2 / (mse + eps))\n",
    "    return -psnr  # отрицательное, чтобы минимизировать в обучении\n"
   ]
  },
  {
   "cell_type": "markdown",
   "id": "40f94331",
   "metadata": {},
   "source": [
    "#### 6. Adversarial Loss (GAN loss) — используется в GAN-подходах к реставрации  \n",
    "Для GAN, в качестве потерь добавляют adversarial loss для улучшения реалистичности результатов."
   ]
  },
  {
   "cell_type": "code",
   "execution_count": null,
   "id": "95edba4a",
   "metadata": {},
   "outputs": [],
   "source": [
    "import torch.nn as nn\n",
    "\n",
    "class ImageRestoreLoss(nn.Module):\n",
    "    def __init__(self, alpha=0.8, beta=0.2):\n",
    "        super().__init__()\n",
    "        self.mse = nn.MSELoss()\n",
    "        self.perceptual = PerceptualLoss()\n",
    "\n",
    "        self.alpha = alpha\n",
    "        self.beta = beta\n",
    "\n",
    "    def forward(self, output, target):\n",
    "        loss_mse = self.mse(output, target)\n",
    "        loss_perc = self.perceptual(output, target)\n",
    "        return self.alpha * loss_mse + self.beta * loss_perc\n"
   ]
  },
  {
   "cell_type": "code",
   "execution_count": null,
   "id": "d9ec6329",
   "metadata": {},
   "outputs": [],
   "source": []
  },
  {
   "cell_type": "code",
   "execution_count": null,
   "id": "d77cfa4a",
   "metadata": {},
   "outputs": [],
   "source": []
  },
  {
   "cell_type": "code",
   "execution_count": null,
   "id": "b3c2877d",
   "metadata": {},
   "outputs": [],
   "source": []
  },
  {
   "cell_type": "code",
   "execution_count": null,
   "id": "8d1f6faf",
   "metadata": {},
   "outputs": [],
   "source": []
  },
  {
   "cell_type": "code",
   "execution_count": null,
   "id": "c3c73681",
   "metadata": {},
   "outputs": [],
   "source": []
  },
  {
   "cell_type": "code",
   "execution_count": null,
   "id": "d4692ae8",
   "metadata": {},
   "outputs": [],
   "source": []
  }
 ],
 "metadata": {
  "kernelspec": {
   "display_name": "env1",
   "language": "python",
   "name": "python3"
  },
  "language_info": {
   "codemirror_mode": {
    "name": "ipython",
    "version": 3
   },
   "file_extension": ".py",
   "mimetype": "text/x-python",
   "name": "python",
   "nbconvert_exporter": "python",
   "pygments_lexer": "ipython3",
   "version": "3.12.3"
  }
 },
 "nbformat": 4,
 "nbformat_minor": 5
}
