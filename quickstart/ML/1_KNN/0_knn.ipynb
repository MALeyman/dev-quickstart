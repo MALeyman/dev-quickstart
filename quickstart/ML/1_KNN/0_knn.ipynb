{
 "cells": [
  {
   "cell_type": "markdown",
   "metadata": {},
   "source": [
    "Выполнил: Лейман М.А.  \n",
    "\n",
    "Дата создания: 09.02.2025"
   ]
  },
  {
   "cell_type": "markdown",
   "metadata": {},
   "source": [
    "# Машинное обучение. KNN,  Метрики."
   ]
  },
  {
   "cell_type": "markdown",
   "metadata": {},
   "source": [
    "## Задание 1\n",
    "Введение в машинное обучение.\n",
    "KNN. Метрики качества. Матрица ошибок.\n",
    "Виды данных (числовые / категориальные"
   ]
  },
  {
   "cell_type": "markdown",
   "metadata": {},
   "source": [
    "#### Просмотр загруженного датасета"
   ]
  },
  {
   "cell_type": "code",
   "execution_count": 1,
   "metadata": {},
   "outputs": [
    {
     "name": "stdout",
     "output_type": "stream",
     "text": [
      "ls: невозможно получить доступ к 'dataset': Нет такого файла или каталога\n"
     ]
    }
   ],
   "source": [
    "!ls dataset"
   ]
  },
  {
   "cell_type": "code",
   "execution_count": 5,
   "metadata": {},
   "outputs": [
    {
     "name": "stdout",
     "output_type": "stream",
     "text": [
      "Requirement already satisfied: scikit-learn in /home/maksim/develops/python/MAKSIM/.venv/lib/python3.12/site-packages (1.6.1)\n",
      "Requirement already satisfied: numpy>=1.19.5 in /home/maksim/develops/python/MAKSIM/.venv/lib/python3.12/site-packages (from scikit-learn) (2.2.2)\n",
      "Requirement already satisfied: scipy>=1.6.0 in /home/maksim/develops/python/MAKSIM/.venv/lib/python3.12/site-packages (from scikit-learn) (1.15.1)\n",
      "Requirement already satisfied: joblib>=1.2.0 in /home/maksim/develops/python/MAKSIM/.venv/lib/python3.12/site-packages (from scikit-learn) (1.4.2)\n",
      "Requirement already satisfied: threadpoolctl>=3.1.0 in /home/maksim/develops/python/MAKSIM/.venv/lib/python3.12/site-packages (from scikit-learn) (3.5.0)\n",
      "Note: you may need to restart the kernel to use updated packages.\n"
     ]
    }
   ],
   "source": [
    "%pip install scikit-learn"
   ]
  },
  {
   "cell_type": "code",
   "execution_count": 2,
   "metadata": {},
   "outputs": [
    {
     "name": "stdout",
     "output_type": "stream",
     "text": [
      "/home/maksim/anaconda3/envs/myenv/bin/python\n"
     ]
    }
   ],
   "source": [
    "!which python "
   ]
  },
  {
   "cell_type": "markdown",
   "metadata": {},
   "source": [
    "### Импорты"
   ]
  },
  {
   "cell_type": "code",
   "execution_count": 2,
   "metadata": {},
   "outputs": [],
   "source": [
    "import pandas as pd\n",
    "import numpy as np\n",
    "import matplotlib.pyplot as plt\n",
    "import seaborn as sns\n",
    "from sklearn.model_selection import train_test_split\n",
    "from sklearn.preprocessing import StandardScaler\n",
    "from sklearn.neighbors import KNeighborsClassifier\n",
    "from sklearn.model_selection import train_test_split\n",
    "from sklearn.metrics import confusion_matrix, accuracy_score, precision_score, recall_score, f1_score, roc_auc_score"
   ]
  },
  {
   "cell_type": "markdown",
   "metadata": {},
   "source": [
    "### 1. Загрузка данных"
   ]
  },
  {
   "cell_type": "code",
   "execution_count": 4,
   "metadata": {},
   "outputs": [],
   "source": [
    "# Загружаем данные\n",
    "df_train = pd.read_csv(\"dataset/train.csv\")\n",
    "df_test = pd.read_csv(\"dataset/test.csv\")"
   ]
  },
  {
   "cell_type": "markdown",
   "metadata": {},
   "source": [
    "### Просмотр данных"
   ]
  },
  {
   "cell_type": "code",
   "execution_count": 6,
   "metadata": {},
   "outputs": [
    {
     "name": "stdout",
     "output_type": "stream",
     "text": [
      "Train dataset:\n",
      "<class 'pandas.core.frame.DataFrame'>\n",
      "RangeIndex: 414 entries, 0 to 413\n",
      "Data columns (total 8 columns):\n",
      " #   Column   Non-Null Count  Dtype  \n",
      "---  ------   --------------  -----  \n",
      " 0   id       414 non-null    int64  \n",
      " 1   gravity  414 non-null    float64\n",
      " 2   ph       414 non-null    float64\n",
      " 3   osmo     414 non-null    int64  \n",
      " 4   cond     414 non-null    float64\n",
      " 5   urea     414 non-null    int64  \n",
      " 6   calc     414 non-null    float64\n",
      " 7   target   414 non-null    int64  \n",
      "dtypes: float64(4), int64(4)\n",
      "memory usage: 26.0 KB\n",
      "None\n",
      "\n",
      "первые сторки:\n",
      "   id  gravity    ph  osmo  cond  urea  calc  target\n",
      "0   0    1.013  6.19   443  14.8   124  1.45       0\n",
      "1   1    1.025  5.40   703  23.6   394  4.18       0\n",
      "2   2    1.009  6.13   371  24.5   159  9.04       0\n",
      "3   3    1.021  4.91   442  20.8   398  6.63       1\n",
      "4   4    1.021  5.53   874  17.8   385  2.21       1\n"
     ]
    }
   ],
   "source": [
    "# Просмотр данных\n",
    "print(\"Train dataset:\")\n",
    "print(df_train.info())\n",
    "print(\"\\nпервые сторки:\")\n",
    "print(df_train.head())\n"
   ]
  },
  {
   "cell_type": "markdown",
   "metadata": {},
   "source": [
    "### 2. Анализ EDA"
   ]
  },
  {
   "cell_type": "code",
   "execution_count": 14,
   "metadata": {},
   "outputs": [
    {
     "name": "stdout",
     "output_type": "stream",
     "text": [
      "\n",
      "EDA Резюме:\n",
      "         count        mean         std      min      25%      50%      75%  \\\n",
      "id       414.0  206.500000  119.655756    0.000  103.250  206.500  309.750   \n",
      "gravity  414.0    1.017894    0.006675    1.005    1.012    1.018    1.022   \n",
      "ph       414.0    5.955459    0.642260    4.760    5.530    5.740    6.280   \n",
      "osmo     414.0  651.545894  234.676567  187.000  455.250  679.500  840.000   \n",
      "cond     414.0   21.437923    7.514750    5.100   15.500   22.200   27.600   \n",
      "urea     414.0  278.657005  136.442249   10.000  170.000  277.000  385.000   \n",
      "calc     414.0    4.114638    3.217641    0.170    1.450    3.130    6.630   \n",
      "target   414.0    0.444444    0.497505    0.000    0.000    0.000    1.000   \n",
      "\n",
      "             max  Пропуски  Медиана     Дисперсия  Квантиль_0.1  Квантиль_0.9  \\\n",
      "id        413.00         0  206.500  14317.500000        41.300       371.700   \n",
      "gravity     1.04         0    1.018      0.000045         1.008         1.025   \n",
      "ph          7.94         0    5.740      0.412498         5.330         6.810   \n",
      "osmo     1236.00         0  679.500  55073.091109       343.600       925.200   \n",
      "cond       38.00         0   22.200     56.471464        10.900        29.000   \n",
      "urea      620.00         0  277.000  18616.487396        95.000       443.000   \n",
      "calc       14.34         0    3.130     10.353210         1.053         8.515   \n",
      "target      1.00         0    0.000      0.247511         0.000         1.000   \n",
      "\n",
      "         Квартиль_1  Квартиль_3  \n",
      "id          103.250     309.750  \n",
      "gravity       1.012       1.022  \n",
      "ph            5.530       6.280  \n",
      "osmo        455.250     840.000  \n",
      "cond         15.500      27.600  \n",
      "urea        170.000     385.000  \n",
      "calc          1.450       6.630  \n",
      "target        0.000       1.000  \n"
     ]
    }
   ],
   "source": [
    "# EDA: анализ переменных\n",
    "eda_stats = df_train.describe().T\n",
    "eda_stats['Пропуски'] = df_train.isnull().sum()\n",
    "eda_stats['Медиана'] = df_train.quantile(0.5)\n",
    "eda_stats['Дисперсия'] = df_train.var()\n",
    "eda_stats['Квантиль_0.1'] = df_train.quantile(0.1)\n",
    "eda_stats['Квантиль_0.9'] = df_train.quantile(0.9)\n",
    "eda_stats['Квартиль_1'] = df_train.quantile(0.25)\n",
    "eda_stats['Квартиль_3'] = df_train.quantile(0.75)\n",
    "print(\"\\nEDA Резюме:\")\n",
    "print(eda_stats)"
   ]
  },
  {
   "cell_type": "markdown",
   "metadata": {},
   "source": [
    "### 3. Для целевой переменной target посчитать долю 1"
   ]
  },
  {
   "cell_type": "code",
   "execution_count": 17,
   "metadata": {},
   "outputs": [
    {
     "name": "stdout",
     "output_type": "stream",
     "text": [
      "\n",
      "Доля 1 в target: 44.44%\n"
     ]
    }
   ],
   "source": [
    "# Доля 1 в целевой переменной\n",
    "target_ratio = df_train['target'].mean()\n",
    "print(f\"\\nДоля 1 в target: {target_ratio:.2%}\")\n"
   ]
  },
  {
   "cell_type": "markdown",
   "metadata": {},
   "source": [
    "### 4. Графики"
   ]
  },
  {
   "cell_type": "code",
   "execution_count": 18,
   "metadata": {},
   "outputs": [
    {
     "data": {
      "image/png": "[encoded data removed]",
      "text/plain": [
       "<Figure size 1200x500 with 1 Axes>"
      ]
     },
     "metadata": {},
     "output_type": "display_data"
    }
   ],
   "source": [
    "# Графики\n",
    "plt.figure(figsize=(12, 5))\n",
    "sns.countplot(x=df_train['target'])\n",
    "plt.title(\"Распределение целевой переменной\")\n",
    "plt.show()"
   ]
  },
  {
   "cell_type": "markdown",
   "metadata": {},
   "source": [
    "### 5. Обучение модели KNN"
   ]
  },
  {
   "cell_type": "code",
   "execution_count": 21,
   "metadata": {},
   "outputs": [],
   "source": [
    "# Разделение данных\n",
    "X = df_train.drop(columns=['target'])\n",
    "y = df_train['target']\n",
    "X_train, X_val, y_train, y_val = train_test_split(X, y, test_size=0.2, random_state=42)"
   ]
  },
  {
   "cell_type": "code",
   "execution_count": 22,
   "metadata": {},
   "outputs": [],
   "source": [
    "# Масштабирование данных\n",
    "scaler = StandardScaler()\n",
    "X_train = scaler.fit_transform(X_train)\n",
    "X_val = scaler.transform(X_val)\n"
   ]
  },
  {
   "cell_type": "code",
   "execution_count": 24,
   "metadata": {},
   "outputs": [
    {
     "name": "stdout",
     "output_type": "stream",
     "text": [
      "\n",
      "Лучший k: 19 с точностью 0.8193\n"
     ]
    }
   ],
   "source": [
    "# Подбор k и обучение модели\n",
    "best_k = 1\n",
    "best_score = 0\n",
    "for k in range(1, 21):\n",
    "    model = KNeighborsClassifier(n_neighbors=k)\n",
    "    model.fit(X_train, y_train)\n",
    "    score = model.score(X_val, y_val)\n",
    "    if score > best_score:\n",
    "        best_k = k\n",
    "        best_score = score\n",
    "\n",
    "print(f\"\\nЛучший k: {best_k} с точностью {best_score:.4f}\")"
   ]
  },
  {
   "cell_type": "code",
   "execution_count": 25,
   "metadata": {},
   "outputs": [],
   "source": [
    "# Обучение финальной модели\n",
    "knn = KNeighborsClassifier(n_neighbors=best_k)\n",
    "knn.fit(X_train, y_train)\n",
    "y_pred = knn.predict(X_val)"
   ]
  },
  {
   "cell_type": "code",
   "execution_count": 30,
   "metadata": {},
   "outputs": [
    {
     "name": "stdout",
     "output_type": "stream",
     "text": [
      "\n",
      "Метрики качества:\n",
      "Accuracy: 0.4940\n",
      "Precision: 0.4138\n",
      "Recall: 0.3243\n",
      "F1-score: 0.3636\n",
      "ROC AUC: 0.4774\n"
     ]
    },
    {
     "data": {
      "image/png": "[encoded data removed]",
      "text/plain": [
       "<Figure size 600x500 with 2 Axes>"
      ]
     },
     "metadata": {},
     "output_type": "display_data"
    }
   ],
   "source": [
    "# Оценка качества\n",
    "conf_matrix = confusion_matrix(y_val, y_pred)\n",
    "accuracy = accuracy_score(y_val, y_pred)\n",
    "precision = precision_score(y_val, y_pred)\n",
    "recall = recall_score(y_val, y_pred)\n",
    "f1 = f1_score(y_val, y_pred)\n",
    "roc_auc = roc_auc_score(y_val, y_pred)\n",
    "\n",
    "print(\"\\nМетрики качества:\")\n",
    "print(f\"Accuracy: {accuracy:.4f}\")\n",
    "print(f\"Precision: {precision:.4f}\")\n",
    "print(f\"Recall: {recall:.4f}\")\n",
    "print(f\"F1-score: {f1:.4f}\")\n",
    "print(f\"ROC AUC: {roc_auc:.4f}\")\n",
    "\n",
    "# Визуализация матрицы ошибок\n",
    "plt.figure(figsize=(6, 5))\n",
    "sns.heatmap(conf_matrix, annot=True, fmt=\"d\", cmap=\"Blues\", xticklabels=[0, 1], yticklabels=[0, 1])\n",
    "plt.xlabel(\"Предсказание\")\n",
    "plt.ylabel(\"Реальное\")\n",
    "plt.title(\"Матрица\")\n",
    "plt.show()"
   ]
  },
  {
   "cell_type": "markdown",
   "metadata": {},
   "source": [
    "#### Сбалансированные классы "
   ]
  },
  {
   "cell_type": "code",
   "execution_count": null,
   "metadata": {},
   "outputs": [
    {
     "name": "stdout",
     "output_type": "stream",
     "text": [
      "Количество  1: 184\n",
      "Количество  0: 230\n",
      "Минимальное количество: 184\n",
      "Длина train: 331\n",
      "Длина test 37\n",
      "Длина df_class_0_remaining 46\n",
      "Размер X_train: (331, 7)\n",
      "Размер X_test: (83, 7)\n",
      "Размер X_train: (331, 7)\n",
      "Размер X_test: (83, 7)\n",
      "Доля 1 в тренировочной выборке: 0.5015105740181269\n",
      "Доля 1 в тестовой выборке: 0.21686746987951808\n"
     ]
    }
   ],
   "source": [
    "\n",
    "# Подсчитаем количество классов 0 и 1\n",
    "df_class_0 = df_train[df_train['target'] == 0]\n",
    "df_class_1 = df_train[df_train['target'] == 1]\n",
    "\n",
    "print(f\"Количество  1: {len(df_class_1)}\")\n",
    "print(f\"Количество  0: {len(df_class_0)}\")\n",
    "\n",
    "# Найдем минимальное количество для классов 0 и 1\n",
    "min_class_size = min(len(df_class_0), len(df_class_1))\n",
    "print(f\"Минимальное количество: {min_class_size}\")\n",
    "\n",
    "\n",
    "# Обрезаем лишние 0, чтобы сделать баланс между классами\n",
    "df_class_0_balanced = df_class_0[:min_class_size]\n",
    "df_class_1_balanced = df_class_1\n",
    "\n",
    "# Объединяем сбалансированные данные (классы 0 и 1)\n",
    "df_balanced = pd.concat([df_class_0_balanced, df_class_1_balanced])\n",
    "\n",
    "# Разделяем на тренировочную и тестовую выборки (80% для тренировки и 10% для теста)\n",
    "X = df_balanced.drop(columns=['target'])\n",
    "y = df_balanced['target']\n",
    "\n",
    "X_train, X_test, y_train, y_test = train_test_split(X, y, test_size=0.1, random_state=42, stratify=y)\n",
    "print(f\"Длина train: {len(y_train)}\")\n",
    "print(f\"Длина test {len(y_test)}\")\n",
    "\n",
    "# Добавляем оставшиеся 0 в тестовую выборку\n",
    "df_class_0_remaining = df_class_0[min_class_size:]\n",
    "print(f\"Длина df_class_0_remaining {len(df_class_0_remaining)}\")\n",
    "# Объединяем остаточные данные класса 0 с тестовой выборкой\n",
    "X_test = pd.concat([X_test, df_class_0_remaining.drop(columns=['target'])])\n",
    "y_test = pd.concat([y_test, df_class_0_remaining['target']])\n",
    "print(f\"Размер X_train: {X_train.shape}\")\n",
    "print(f\"Размер X_test: {X_test.shape}\")\n",
    "\n",
    "\n",
    "# Печатаем размерности выборок\n",
    "print(f\"Размер X_train: {X_train.shape}\")\n",
    "print(f\"Размер X_test: {X_test.shape}\")\n",
    "\n",
    "# Проверим, сколько классов в тренировочной и тестовой выборках\n",
    "print(f\"Доля 1 в тренировочной выборке: {y_train.mean()}\")\n",
    "print(f\"Доля 1 в тестовой выборке: {y_test.mean()}\")\n"
   ]
  },
  {
   "cell_type": "code",
   "execution_count": 50,
   "metadata": {},
   "outputs": [],
   "source": [
    "# Масштабирование данных\n",
    "scaler = StandardScaler()\n",
    "X_train = scaler.fit_transform(X_train)\n",
    "X_test = scaler.transform(X_test)\n"
   ]
  },
  {
   "cell_type": "code",
   "execution_count": 53,
   "metadata": {},
   "outputs": [
    {
     "name": "stdout",
     "output_type": "stream",
     "text": [
      "\n",
      "Лучший k: 2 с точностью 0.7108\n",
      "\n",
      "Метрики качества:\n",
      "Accuracy: 0.7108\n",
      "Precision: 0.3929\n",
      "Recall: 0.6111\n",
      "F1-score: 0.4783\n",
      "ROC AUC: 0.6748\n"
     ]
    },
    {
     "data": {
      "image/png": "[encoded data removed]",
      "text/plain": [
       "<Figure size 600x500 with 2 Axes>"
      ]
     },
     "metadata": {},
     "output_type": "display_data"
    }
   ],
   "source": [
    "\n",
    "\n",
    "# Подбор k и обучение модели\n",
    "best_k = 1\n",
    "best_score = 0\n",
    "for k in range(1, 23):\n",
    "    model = KNeighborsClassifier(n_neighbors=k)\n",
    "    model.fit(X_train, y_train)\n",
    "    score = model.score(X_test, y_test)\n",
    "    if score > best_score:\n",
    "        best_k = k\n",
    "        best_score = score\n",
    "\n",
    "print(f\"\\nЛучший k: {best_k} с точностью {best_score:.4f}\")\n",
    "\n",
    "# Обучение финальной модели\n",
    "knn = KNeighborsClassifier(n_neighbors=best_k)\n",
    "knn.fit(X_train, y_train)\n",
    "y_pred = knn.predict(X_test)\n",
    "\n",
    "# Оценка качества\n",
    "conf_matrix = confusion_matrix(y_test, y_pred)\n",
    "accuracy = accuracy_score(y_test, y_pred)\n",
    "precision = precision_score(y_test, y_pred)\n",
    "recall = recall_score(y_test, y_pred)\n",
    "f1 = f1_score(y_test, y_pred)\n",
    "roc_auc = roc_auc_score(y_test, y_pred)\n",
    "\n",
    "\n",
    "\n",
    "print(\"\\nМетрики качества:\")\n",
    "print(f\"Accuracy: {accuracy:.4f}\")\n",
    "print(f\"Precision: {precision:.4f}\")\n",
    "print(f\"Recall: {recall:.4f}\")\n",
    "print(f\"F1-score: {f1:.4f}\")\n",
    "print(f\"ROC AUC: {roc_auc:.4f}\")\n",
    "\n",
    "# Визуализация матрицы ошибок\n",
    "plt.figure(figsize=(6, 5))\n",
    "sns.heatmap(conf_matrix, annot=True, fmt=\"d\", cmap=\"Blues\", xticklabels=[0, 1], yticklabels=[0, 1])\n",
    "plt.xlabel(\"Предсказание\")\n",
    "plt.ylabel(\"Реальное\")\n",
    "plt.title(\"Матрица\")\n",
    "plt.show()"
   ]
  },
  {
   "cell_type": "code",
   "execution_count": null,
   "metadata": {},
   "outputs": [],
   "source": []
  },
  {
   "cell_type": "code",
   "execution_count": null,
   "metadata": {},
   "outputs": [],
   "source": []
  }
 ],
 "metadata": {
  "kernelspec": {
   "display_name": "myenv",
   "language": "python",
   "name": "python3"
  },
  "language_info": {
   "codemirror_mode": {
    "name": "ipython",
    "version": 3
   },
   "file_extension": ".py",
   "mimetype": "text/x-python",
   "name": "python",
   "nbconvert_exporter": "python",
   "pygments_lexer": "ipython3",
   "version": "3.12.9"
  }
 },
 "nbformat": 4,
 "nbformat_minor": 2
}
