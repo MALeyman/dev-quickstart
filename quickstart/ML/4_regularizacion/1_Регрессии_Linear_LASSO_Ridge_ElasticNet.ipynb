{
 "cells": [
  {
   "cell_type": "code",
   "execution_count": 12,
   "metadata": {
    "id": "voSAalzOGKJh"
   },
   "outputs": [],
   "source": [
    "# Импорт библиотек\n",
    "import numpy as np\n",
    "import pandas as pd\n",
    "\n",
    "import plotly.graph_objects as go\n",
    "import matplotlib.pyplot as plt\n",
    "import seaborn as sns\n",
    "\n",
    "from sklearn.datasets import make_regression\n",
    "\n",
    "from sklearn.model_selection import train_test_split\n",
    "\n",
    "from sklearn.linear_model import LinearRegression, Lasso, Ridge, ElasticNet\n",
    "\n",
    "from sklearn.preprocessing import StandardScaler\n",
    "\n",
    "from sklearn.metrics import mean_absolute_error, mean_squared_error, root_mean_squared_error, r2_score\n"
   ]
  },
  {
   "cell_type": "markdown",
   "metadata": {
    "id": "kRhKfjQ4n_Gm"
   },
   "source": [
    "# Функции, которые используются в ноутбуке"
   ]
  },
  {
   "cell_type": "code",
   "execution_count": 2,
   "metadata": {
    "id": "cCD1wfiin-Fw"
   },
   "outputs": [],
   "source": [
    "# функция для изучения данных\n",
    "def total_describe(data, info=True, describe=True, head=True):\n",
    "    if info:\n",
    "        print('Общая информация:')\n",
    "        print()\n",
    "        print(data.info())\n",
    "        print('____________________________________________________________________')\n",
    "        print()\n",
    "    if describe:\n",
    "        print('Описание числовых значений:')\n",
    "        print()\n",
    "        print(data.describe(include='all'))\n",
    "        print('____________________________________________________________________')\n",
    "        print()\n",
    "    if head:\n",
    "        print('Первые несколько строк:')\n",
    "        return(data.head())"
   ]
  },
  {
   "cell_type": "markdown",
   "metadata": {
    "id": "tlLSWNfUmc8g"
   },
   "source": [
    "# 1 способ создания данных"
   ]
  },
  {
   "cell_type": "code",
   "execution_count": 3,
   "metadata": {
    "colab": {
     "base_uri": "https://localhost:8080/"
    },
    "id": "bphzOTz6a3Xx",
    "outputId": "d1f35f2d-0f86-456b-c254-1ef71c71cfee"
   },
   "outputs": [
    {
     "data": {
      "text/html": [
       "<div>\n",
       "<style scoped>\n",
       "    .dataframe tbody tr th:only-of-type {\n",
       "        vertical-align: middle;\n",
       "    }\n",
       "\n",
       "    .dataframe tbody tr th {\n",
       "        vertical-align: top;\n",
       "    }\n",
       "\n",
       "    .dataframe thead th {\n",
       "        text-align: right;\n",
       "    }\n",
       "</style>\n",
       "<table border=\"1\" class=\"dataframe\">\n",
       "  <thead>\n",
       "    <tr style=\"text-align: right;\">\n",
       "      <th></th>\n",
       "      <th>x11</th>\n",
       "      <th>x2</th>\n",
       "      <th>y</th>\n",
       "    </tr>\n",
       "  </thead>\n",
       "  <tbody>\n",
       "    <tr>\n",
       "      <th>0</th>\n",
       "      <td>98888.119882</td>\n",
       "      <td>197776.603394</td>\n",
       "      <td>494630.563086</td>\n",
       "    </tr>\n",
       "    <tr>\n",
       "      <th>1</th>\n",
       "      <td>100318.902185</td>\n",
       "      <td>200638.776151</td>\n",
       "      <td>501785.082752</td>\n",
       "    </tr>\n",
       "    <tr>\n",
       "      <th>2</th>\n",
       "      <td>100279.041292</td>\n",
       "      <td>200559.045032</td>\n",
       "      <td>501585.768955</td>\n",
       "    </tr>\n",
       "    <tr>\n",
       "      <th>3</th>\n",
       "      <td>101010.515285</td>\n",
       "      <td>202021.282352</td>\n",
       "      <td>505242.428253</td>\n",
       "    </tr>\n",
       "    <tr>\n",
       "      <th>4</th>\n",
       "      <td>99419.121866</td>\n",
       "      <td>198838.740980</td>\n",
       "      <td>497285.706625</td>\n",
       "    </tr>\n",
       "  </tbody>\n",
       "</table>\n",
       "</div>"
      ],
      "text/plain": [
       "             x11             x2              y\n",
       "0   98888.119882  197776.603394  494630.563086\n",
       "1  100318.902185  200638.776151  501785.082752\n",
       "2  100279.041292  200559.045032  501585.768955\n",
       "3  101010.515285  202021.282352  505242.428253\n",
       "4   99419.121866  198838.740980  497285.706625"
      ]
     },
     "execution_count": 3,
     "metadata": {},
     "output_type": "execute_result"
    }
   ],
   "source": [
    "\n",
    "# Устанавливаем seed для воспроизводимости\n",
    "np.random.seed(42)\n",
    "n = 100\n",
    "noise = 3*np.random.uniform(n)\n",
    "x11 = np.random.normal(loc=100000, scale=1000.0, size=n)\n",
    "x12 = np.random.power(2)\n",
    "# x13 = np.random.normal(loc=0.0, scale=1.0, size=n)\n",
    "# x14 = np.random.normal(loc=0.0, scale=1.0, size=n)\n",
    "\n",
    "x2 = 2 * x11 + np.random.rand(n)\n",
    "# x3 = np.random.rand(n)\n",
    "# x4 = np.random.rand(n)\n",
    "# x5 = np.random.rand(n)\n",
    "# x3 = 3 * x12 + np.random.rand(n) * 0.1\n",
    "# x4 = 4 * x3 + np.random.rand(n) * 0.1\n",
    "# x5 = 6 * x14 + np.random.rand(n) * 0.1\n",
    "\n",
    "# Целевая переменная y зависит от x1 и x2 с добавлением случайного шума\n",
    "# y = 3 * x11 + 5 * x12 + x13 + x14 + noise\n",
    "y = 3 * x11 + x2 + x12 + noise\n",
    "\n",
    "\n",
    "# Создание DataFrame из данных\n",
    "df = pd.DataFrame({'x11': x11,\n",
    "                  #  'x12': x2, 'x13':x13, 'x14':x14,\n",
    "                   'x2':x2,\n",
    "                  #  'x3':x3, 'x4':x4, 'x5':x5,\n",
    "                   'y': y\n",
    "                   })\n",
    "\n",
    "# Вывод первых пяти строк данных\n",
    "df.head()"
   ]
  },
  {
   "cell_type": "markdown",
   "metadata": {
    "id": "b4b5dGdMmlAp"
   },
   "source": [
    "# 2 способ создания данных"
   ]
  },
  {
   "cell_type": "code",
   "execution_count": 4,
   "metadata": {
    "colab": {
     "base_uri": "https://localhost:8080/",
     "height": 206
    },
    "id": "JTQNSE1OlIgQ",
    "outputId": "cf2d8119-deb9-40f9-b4ef-a35f9d7929f2"
   },
   "outputs": [
    {
     "data": {
      "text/html": [
       "<div>\n",
       "<style scoped>\n",
       "    .dataframe tbody tr th:only-of-type {\n",
       "        vertical-align: middle;\n",
       "    }\n",
       "\n",
       "    .dataframe tbody tr th {\n",
       "        vertical-align: top;\n",
       "    }\n",
       "\n",
       "    .dataframe thead th {\n",
       "        text-align: right;\n",
       "    }\n",
       "</style>\n",
       "<table border=\"1\" class=\"dataframe\">\n",
       "  <thead>\n",
       "    <tr style=\"text-align: right;\">\n",
       "      <th></th>\n",
       "      <th>feature1</th>\n",
       "      <th>feature_new</th>\n",
       "    </tr>\n",
       "  </thead>\n",
       "  <tbody>\n",
       "    <tr>\n",
       "      <th>0</th>\n",
       "      <td>0.582624</td>\n",
       "      <td>1.810721</td>\n",
       "    </tr>\n",
       "    <tr>\n",
       "      <th>1</th>\n",
       "      <td>-1.310930</td>\n",
       "      <td>-2.444750</td>\n",
       "    </tr>\n",
       "    <tr>\n",
       "      <th>2</th>\n",
       "      <td>-0.762516</td>\n",
       "      <td>-0.584574</td>\n",
       "    </tr>\n",
       "    <tr>\n",
       "      <th>3</th>\n",
       "      <td>0.177450</td>\n",
       "      <td>1.308829</td>\n",
       "    </tr>\n",
       "    <tr>\n",
       "      <th>4</th>\n",
       "      <td>-1.306872</td>\n",
       "      <td>-1.698879</td>\n",
       "    </tr>\n",
       "  </tbody>\n",
       "</table>\n",
       "</div>"
      ],
      "text/plain": [
       "   feature1  feature_new\n",
       "0  0.582624     1.810721\n",
       "1 -1.310930    -2.444750\n",
       "2 -0.762516    -0.584574\n",
       "3  0.177450     1.308829\n",
       "4 -1.306872    -1.698879"
      ]
     },
     "execution_count": 4,
     "metadata": {},
     "output_type": "execute_result"
    }
   ],
   "source": [
    "# генерируем данные для X и y\n",
    "N = 1\n",
    "X, y = make_regression(n_samples=10000,n_features = N, noise=100, random_state=0)\n",
    "# Create a DataFrame from the X array\n",
    "list_features=['feature'+str(i) for i in range(1, N+1)]\n",
    "\n",
    "df = pd.DataFrame(X, columns=list_features)\n",
    "df['feature_new'] = df['feature1'].map(lambda x: x*2+np.random.rand())\n",
    "df.head()"
   ]
  },
  {
   "cell_type": "markdown",
   "metadata": {
    "id": "QOLXC9WFmouJ"
   },
   "source": [
    "# Подготовка данных"
   ]
  },
  {
   "cell_type": "code",
   "execution_count": 5,
   "metadata": {
    "colab": {
     "base_uri": "https://localhost:8080/"
    },
    "id": "vK-3faUacTJF",
    "outputId": "475bbcda-a241-4c4e-f6a9-c5af6c82736c"
   },
   "outputs": [
    {
     "name": "stdout",
     "output_type": "stream",
     "text": [
      "list.remove(x): x not in list\n"
     ]
    }
   ],
   "source": [
    "features = list(df.columns)\n",
    "target = 'y'\n",
    "try:\n",
    "  features.remove(target)\n",
    "except Exception as e:\n",
    "  print(e)"
   ]
  },
  {
   "cell_type": "code",
   "execution_count": 6,
   "metadata": {
    "colab": {
     "base_uri": "https://localhost:8080/"
    },
    "id": "rM_vQKYTb944",
    "outputId": "b8b36ea9-80cb-4ede-9f72-640143cae24d"
   },
   "outputs": [
    {
     "name": "stdout",
     "output_type": "stream",
     "text": [
      "'y'\n"
     ]
    }
   ],
   "source": [
    "X = df[features]\n",
    "try:\n",
    "  y = df[target]\n",
    "except Exception as e:\n",
    "  print(e)"
   ]
  },
  {
   "cell_type": "code",
   "execution_count": 7,
   "metadata": {
    "colab": {
     "base_uri": "https://localhost:8080/",
     "height": 468
    },
    "id": "KQi3nTxxpiCM",
    "outputId": "a4c5a0e1-6ea3-4ac6-fb30-584117d489db"
   },
   "outputs": [
    {
     "data": {
      "image/png": "[encoded data removed]",
      "text/plain": [
       "<Figure size 1000x500 with 2 Axes>"
      ]
     },
     "metadata": {},
     "output_type": "display_data"
    }
   ],
   "source": [
    "# Расчет матрицы парных корреляций\n",
    "\n",
    "correlation_matrix = X.corr()\n",
    "\n",
    "# Визуализация матрицы парных корреляций\n",
    "plt.figure(figsize=(10, 5))\n",
    "sns.heatmap(correlation_matrix, annot=True, cmap='coolwarm')\n",
    "plt.title('Матрица парных корреляций')\n",
    "plt.show()"
   ]
  },
  {
   "cell_type": "code",
   "execution_count": 8,
   "metadata": {
    "id": "Tpd9uyuyyh91"
   },
   "outputs": [],
   "source": [
    "# разделение данных на train и test\n",
    "X_train, X_test, y_train, y_test = train_test_split(X, y, test_size=0.3, random_state=0)"
   ]
  },
  {
   "cell_type": "code",
   "execution_count": 9,
   "metadata": {
    "id": "ZmtR26100GDN"
   },
   "outputs": [],
   "source": [
    "# Нормализация признаков для лучшей сходимости. Рассказать про важность нормализации именно для регуляризации\n",
    "scaler = StandardScaler()\n",
    "X_train_scaled = scaler.fit_transform(X_train)\n",
    "X_test_scaled = scaler.transform(X_test)"
   ]
  },
  {
   "cell_type": "code",
   "execution_count": 84,
   "metadata": {
    "colab": {
     "base_uri": "https://localhost:8080/"
    },
    "id": "hIhku_FDWh17",
    "outputId": "8d1c92e0-34d1-48cc-ac26-9c18c3fc824f"
   },
   "outputs": [
    {
     "name": "stdout",
     "output_type": "stream",
     "text": [
      "[ 80  90 100 110 120 130 140 150 160 170 180 190 200 210 220 230 240 250\n",
      " 260 270 280 290]\n"
     ]
    }
   ],
   "source": [
    "# задаем интервал перебора для alpha\n",
    "# альфа зависит от размера выборки\n",
    "\n",
    "start = 0.0      # Начальное значение диапазона\n",
    "stop = 1000       # Конечное значение диапазона (не включается в результат)\n",
    "step = 10       # Шаг между значениями\n",
    "float_range = np.arange(start, stop, step)\n",
    "print(float_range)"
   ]
  },
  {
   "cell_type": "markdown",
   "metadata": {
    "id": "O5qvQ1iWgGkg"
   },
   "source": [
    "# RIDGE  регрессия"
   ]
  },
  {
   "cell_type": "code",
   "execution_count": 15,
   "metadata": {},
   "outputs": [
    {
     "data": {
      "text/plain": [
       "array([[ 1.16904643,  1.11905701],\n",
       "       [-0.32534471, -0.42700228],\n",
       "       [ 0.01477098, -0.1738131 ],\n",
       "       ...,\n",
       "       [ 0.1054514 ,  0.35664454],\n",
       "       [ 0.0484644 ,  0.04881249],\n",
       "       [ 1.44501268,  1.37798224]])"
      ]
     },
     "execution_count": 15,
     "metadata": {},
     "output_type": "execute_result"
    }
   ],
   "source": [
    "X_train_scaled"
   ]
  },
  {
   "cell_type": "code",
   "execution_count": 18,
   "metadata": {},
   "outputs": [
    {
     "data": {
      "text/plain": [
       "array([ 192.67662371,   33.08916165,   42.72502236, ...,    7.96002549,\n",
       "          4.34254451, -238.24287007])"
      ]
     },
     "execution_count": 18,
     "metadata": {},
     "output_type": "execute_result"
    }
   ],
   "source": [
    "y_test"
   ]
  },
  {
   "cell_type": "code",
   "execution_count": 17,
   "metadata": {},
   "outputs": [
    {
     "data": {
      "text/plain": [
       "array([ 9.29453689,  1.65269832,  2.08341664, ..., -0.92263968,\n",
       "        8.07951377, -5.57326264])"
      ]
     },
     "execution_count": 17,
     "metadata": {},
     "output_type": "execute_result"
    }
   ],
   "source": [
    "y_pred_test"
   ]
  },
  {
   "cell_type": "code",
   "execution_count": 85,
   "metadata": {
    "id": "16kmqplC_Qo_"
   },
   "outputs": [
    {
     "name": "stdout",
     "output_type": "stream",
     "text": [
      "R^2 score on test data: 0.00895069147530414, RMSE 101.72108041896944, alpha 80\n",
      "[10.32335249 -2.5254871 ]\n",
      "R^2 score on test data: 0.00897374978469856, RMSE 101.7198970622145, alpha 90\n",
      "[ 9.92767075 -2.13536871]\n",
      "R^2 score on test data: 0.00899334033896293, RMSE 101.71889166048526, alpha 100\n",
      "[ 9.5772807  -1.79053409]\n",
      "R^2 score on test data: 0.009010108731527633, RMSE 101.71803108628768, alpha 110\n",
      "[ 9.26477887 -1.48357976]\n",
      "R^2 score on test data: 0.009024551619212784, RMSE 101.71728985397831, alpha 120\n",
      "[ 8.9842921 -1.2086326]\n",
      "R^2 score on test data: 0.009037056933001275, RMSE 101.71664805672573, alpha 130\n",
      "[ 8.73110161 -0.96097383]\n",
      "R^2 score on test data: 0.00904793181959096, RMSE 101.71608993290566, alpha 140\n",
      "[ 8.50137262 -0.7367687 ]\n",
      "R^2 score on test data: 0.009057422446246077, RMSE 101.71560284993932, alpha 150\n",
      "[ 8.29195664 -0.53286873]\n",
      "R^2 score on test data: 0.009065728290580166, RMSE 101.7151765710847, alpha 160\n",
      "[ 8.1002445  -0.34666477]\n",
      "R^2 score on test data: 0.009073012618144638, RMSE 101.71480271781954, alpha 170\n",
      "[ 7.92405562 -0.17597625]\n",
      "R^2 score on test data: 0.00907941027769854, RMSE 101.7144743698494, alpha 180\n",
      "[ 7.76155348 -0.01896667]\n",
      "R^2 score on test data: 0.009085033578462465, RMSE 101.71418576352777, alpha 190\n",
      "[7.61118032 0.12592171]\n",
      "R^2 score on test data: 0.009089976775510933, RMSE 101.71393206169313, alpha 200\n",
      "[7.4716062 0.2600188]\n",
      "R^2 score on test data: 0.009094319531392614, RMSE 101.71370917603734, alpha 210\n",
      "[7.34168883 0.38446691]\n",
      "R^2 score on test data: 0.009098129615306871, RMSE 101.71351362859657, alpha 220\n",
      "[7.22044157 0.50025263]\n",
      "R^2 score on test data: 0.009101465027905653, RMSE 101.71334244271509, alpha 230\n",
      "[7.10700782 0.60823256]\n",
      "R^2 score on test data: 0.009104375688783528, RMSE 101.7131930564492, alpha 240\n",
      "[7.00064027 0.70915399]\n",
      "R^2 score on test data: 0.009106904787708703, RMSE 101.71306325322621, alpha 250\n",
      "[6.90068401 0.80367182]\n",
      "R^2 score on test data: 0.00910908987491199, RMSE 101.7129511058934, alpha 260\n",
      "[6.80656266 0.89236239]\n",
      "R^2 score on test data: 0.009110963747142486, RMSE 101.71285493124758, alpha 270\n",
      "[6.71776697 0.97573496]\n",
      "R^2 score on test data: 0.009112555172582582, RMSE 101.71277325283356, alpha 280\n",
      "[6.63384531 1.05424113]\n",
      "R^2 score on test data: 0.009113889487666893, RMSE 101.71270477031618, alpha 290\n",
      "[6.55439575 1.12828283]\n"
     ]
    }
   ],
   "source": [
    "R_2_scores = []\n",
    "avg_coefficients = []\n",
    "mae_list = []\n",
    "mse_list = []\n",
    "rmse_list = []\n",
    "\n",
    "for alpha in float_range:\n",
    "  if alpha == 0:\n",
    "    model = LinearRegression() # когда alpha 0 и не задана, частный случай\n",
    "  else:\n",
    "    model = Ridge(alpha=alpha, max_iter=1000) # alpha — величина регуляризации\n",
    "  # Обучение модели на обучающих данных.\n",
    "  model.fit(X_train_scaled, y_train)\n",
    "  y_pred_test = model.predict(X_test_scaled)\n",
    "  # Оценка качества модели на тестовых данных.\n",
    "  mae = mean_absolute_error(y_test, y_pred_test )\n",
    "  mae_list.append(mae)\n",
    "  mse = mean_squared_error(y_test, y_pred_test )\n",
    "  mse_list.append(mse)\n",
    "  rmse = root_mean_squared_error(y_test, y_pred_test )\n",
    "  rmse_list.append(rmse)\n",
    "  R_2_score = r2_score(y_test, y_pred_test)\n",
    "  R_2_scores.append(R_2_score)\n",
    "  print(f\"R^2 score on test data: {R_2_score}, RMSE {rmse}, alpha {alpha}\" )\n",
    "  # print(\"R^2 score on test data:\", model.score(X_test_scaled, y_test))\n",
    "\n",
    "  # Веса (коэффициенты) модели с L1-регуляризацией.\n",
    "  coefficients = model.coef_\n",
    "  print(coefficients)\n",
    "  avg_coefficients.append(coefficients)\n",
    "  # print(avg_coefficients)\n"
   ]
  },
  {
   "cell_type": "code",
   "execution_count": 24,
   "metadata": {
    "id": "kI3Bs76kY0ah"
   },
   "outputs": [
    {
     "data": {
      "text/plain": [
       "array([[17.33709591, -9.49443609],\n",
       "       [15.7278503 , -7.8908179 ],\n",
       "       [14.4621834 , -6.63077037],\n",
       "       [13.44052069, -5.61471896],\n",
       "       [12.598376  , -4.77817754],\n",
       "       [11.89214721, -4.077544  ],\n",
       "       [11.29129524, -3.48227929],\n",
       "       [10.7737929 , -2.97035621],\n",
       "       [10.32335249, -2.5254871 ],\n",
       "       [ 9.92767075, -2.13536871],\n",
       "       [ 9.5772807 , -1.79053409],\n",
       "       [ 9.26477887, -1.48357976],\n",
       "       [ 8.9842921 , -1.2086326 ],\n",
       "       [ 8.73110161, -0.96097383],\n",
       "       [ 8.50137262, -0.7367687 ],\n",
       "       [ 8.29195664, -0.53286873],\n",
       "       [ 8.1002445 , -0.34666477],\n",
       "       [ 7.92405562, -0.17597625],\n",
       "       [ 7.76155348, -0.01896667],\n",
       "       [ 7.61118032,  0.12592171],\n",
       "       [ 7.4716062 ,  0.2600188 ],\n",
       "       [ 7.34168883,  0.38446691],\n",
       "       [ 7.22044157,  0.50025263],\n",
       "       [ 7.10700782,  0.60823256],\n",
       "       [ 7.00064027,  0.70915399],\n",
       "       [ 6.90068401,  0.80367182],\n",
       "       [ 6.80656266,  0.89236239],\n",
       "       [ 6.71776697,  0.97573496],\n",
       "       [ 6.63384531,  1.05424113],\n",
       "       [ 6.55439575,  1.12828283],\n",
       "       [ 6.47905938,  1.19821893],\n",
       "       [ 6.40751475,  1.26437089],\n",
       "       [ 6.33947307,  1.32702746],\n",
       "       [ 6.27467418,  1.3864488 ],\n",
       "       [ 6.21288308,  1.44286988],\n",
       "       [ 6.15388697,  1.4965035 ],\n",
       "       [ 6.09749269,  1.5475428 ],\n",
       "       [ 6.04352449,  1.59616351],\n",
       "       [ 5.99182212,  1.64252586],\n",
       "       [ 5.94223916,  1.68677626],\n",
       "       [ 5.89464157,  1.72904874],\n",
       "       [ 5.84890639,  1.76946624],\n",
       "       [ 5.80492061,  1.80814175],\n",
       "       [ 5.76258023,  1.84517926],\n",
       "       [ 5.72178932,  1.88067468],\n",
       "       [ 5.68245929,  1.91471658],\n",
       "       [ 5.6445082 ,  1.9473869 ],\n",
       "       [ 5.60786013,  1.97876154],\n",
       "       [ 5.57244465,  2.0089109 ],\n",
       "       [ 5.53819632,  2.03790042],\n",
       "       [ 5.50505427,  2.06579095],\n",
       "       [ 5.47296182,  2.09263916],\n",
       "       [ 5.44186608,  2.11849792],\n",
       "       [ 5.41171768,  2.14341658],\n",
       "       [ 5.38247046,  2.16744129],\n",
       "       [ 5.35408123,  2.19061522],\n",
       "       [ 5.32650953,  2.21297883],\n",
       "       [ 5.2997174 ,  2.23457006],\n",
       "       [ 5.27366921,  2.25542451],\n",
       "       [ 5.24833149,  2.27557565],\n",
       "       [ 5.22367273,  2.29505497],\n",
       "       [ 5.19966329,  2.31389209],\n",
       "       [ 5.17627523,  2.33211495],\n",
       "       [ 5.15348218,  2.34974989],\n",
       "       [ 5.13125929,  2.36682177],\n",
       "       [ 5.10958303,  2.38335406],\n",
       "       [ 5.08843121,  2.39936899],\n",
       "       [ 5.06778278,  2.41488755],\n",
       "       [ 5.04761784,  2.42992965],\n",
       "       [ 5.02791753,  2.44451413],\n",
       "       [ 5.00866395,  2.45865888],\n",
       "       [ 4.98984012,  2.47238085],\n",
       "       [ 4.97142992,  2.48569616],\n",
       "       [ 4.95341804,  2.4986201 ],\n",
       "       [ 4.9357899 ,  2.51116725],\n",
       "       [ 4.91853164,  2.52335143],\n",
       "       [ 4.90163008,  2.53518584],\n",
       "       [ 4.88507262,  2.54668302],\n",
       "       [ 4.86884731,  2.55785495],\n",
       "       [ 4.85294271,  2.56871303],\n",
       "       [ 4.83734791,  2.57926816],\n",
       "       [ 4.82205251,  2.58953074],\n",
       "       [ 4.80704657,  2.59951068],\n",
       "       [ 4.79232057,  2.6092175 ],\n",
       "       [ 4.77786543,  2.61866025],\n",
       "       [ 4.76367245,  2.62784762],\n",
       "       [ 4.74973331,  2.63678792],\n",
       "       [ 4.73604005,  2.64548911],\n",
       "       [ 4.72258502,  2.65395881],\n",
       "       [ 4.7093609 ,  2.66220432],\n",
       "       [ 4.69636068,  2.67023265],\n",
       "       [ 4.68357762,  2.67805052],\n",
       "       [ 4.67100526,  2.68566438],\n",
       "       [ 4.65863739,  2.69308043],\n",
       "       [ 4.64646806,  2.7003046 ],\n",
       "       [ 4.63449153,  2.70734262],\n",
       "       [ 4.62270229,  2.71419997],\n",
       "       [ 4.61109506,  2.72088195],\n",
       "       [ 4.59966473,  2.72739363],\n",
       "       [ 4.58840641,  2.7337399 ]])"
      ]
     },
     "execution_count": 24,
     "metadata": {},
     "output_type": "execute_result"
    }
   ],
   "source": [
    "avg_coefficients = np.transpose(avg_coefficients)\n",
    "avg_coefficients"
   ]
  },
  {
   "cell_type": "code",
   "execution_count": 28,
   "metadata": {
    "colab": {
     "base_uri": "https://localhost:8080/",
     "height": 542
    },
    "id": "w9ZbzzXaW9-8",
    "outputId": "492d4548-9171-4ac7-f49a-9834a1a60b54"
   },
   "outputs": [
    {
     "data": {
      "application/vnd.plotly.v1+json": {
       "config": {
        "plotlyServerURL": "https://plot.ly"
       },
       "data": [
        {
         "mode": "lines",
         "name": "feature1",
         "type": "scatter",
         "x": [
          0,
          10,
          20,
          30,
          40,
          50,
          60,
          70,
          80,
          90,
          100,
          110,
          120,
          130,
          140,
          150,
          160,
          170,
          180,
          190,
          200,
          210,
          220,
          230,
          240,
          250,
          260,
          270,
          280,
          290,
          300,
          310,
          320,
          330,
          340,
          350,
          360,
          370,
          380,
          390,
          400,
          410,
          420,
          430,
          440,
          450,
          460,
          470,
          480,
          490,
          500,
          510,
          520,
          530,
          540,
          550,
          560,
          570,
          580,
          590,
          600,
          610,
          620,
          630,
          640,
          650,
          660,
          670,
          680,
          690,
          700,
          710,
          720,
          730,
          740,
          750,
          760,
          770,
          780,
          790,
          800,
          810,
          820,
          830,
          840,
          850,
          860,
          870,
          880,
          890,
          900,
          910,
          920,
          930,
          940,
          950,
          960,
          970,
          980,
          990
         ],
         "y": [
          17.337095913113973,
          -9.494436086926346
         ]
        },
        {
         "mode": "lines",
         "name": "feature_new",
         "type": "scatter",
         "x": [
          0,
          10,
          20,
          30,
          40,
          50,
          60,
          70,
          80,
          90,
          100,
          110,
          120,
          130,
          140,
          150,
          160,
          170,
          180,
          190,
          200,
          210,
          220,
          230,
          240,
          250,
          260,
          270,
          280,
          290,
          300,
          310,
          320,
          330,
          340,
          350,
          360,
          370,
          380,
          390,
          400,
          410,
          420,
          430,
          440,
          450,
          460,
          470,
          480,
          490,
          500,
          510,
          520,
          530,
          540,
          550,
          560,
          570,
          580,
          590,
          600,
          610,
          620,
          630,
          640,
          650,
          660,
          670,
          680,
          690,
          700,
          710,
          720,
          730,
          740,
          750,
          760,
          770,
          780,
          790,
          800,
          810,
          820,
          830,
          840,
          850,
          860,
          870,
          880,
          890,
          900,
          910,
          920,
          930,
          940,
          950,
          960,
          970,
          980,
          990
         ],
         "y": [
          15.727850298859034,
          -7.890817902112958
         ]
        },
        {
         "mode": "lines",
         "name": "rmse",
         "type": "scatter",
         "x": [
          0,
          10,
          20,
          30,
          40,
          50,
          60,
          70,
          80,
          90,
          100,
          110,
          120,
          130,
          140,
          150,
          160,
          170,
          180,
          190,
          200,
          210,
          220,
          230,
          240,
          250,
          260,
          270,
          280,
          290,
          300,
          310,
          320,
          330,
          340,
          350,
          360,
          370,
          380,
          390,
          400,
          410,
          420,
          430,
          440,
          450,
          460,
          470,
          480,
          490,
          500,
          510,
          520,
          530,
          540,
          550,
          560,
          570,
          580,
          590,
          600,
          610,
          620,
          630,
          640,
          650,
          660,
          670,
          680,
          690,
          700,
          710,
          720,
          730,
          740,
          750,
          760,
          770,
          780,
          790,
          800,
          810,
          820,
          830,
          840,
          850,
          860,
          870,
          880,
          890,
          900,
          910,
          920,
          930,
          940,
          950,
          960,
          970,
          980,
          990
         ],
         "y": [
          101.74869315415332,
          101.74135685144726,
          101.73598671105756,
          101.73191637255961,
          101.72874530588761,
          101.72621966420435,
          101.72417147432343,
          101.7224855356293,
          101.72108041896944,
          101.7198970622145,
          101.71889166048526,
          101.71803108628768,
          101.71728985397831,
          101.71664805672573,
          101.71608993290566,
          101.71560284993932,
          101.7151765710847,
          101.71480271781954,
          101.7144743698494,
          101.71418576352777,
          101.71393206169313,
          101.71370917603734,
          101.71351362859657,
          101.71334244271509,
          101.7131930564492,
          101.71306325322621,
          101.7129511058934,
          101.71285493124758,
          101.71277325283356,
          101.71270477031618,
          101.7126483341147,
          101.7126029242785,
          101.71256763280176,
          101.71254164874455,
          101.71252424565505,
          101.71251477089031,
          101.71251263651044,
          101.71251731148291,
          101.71252831498336,
          101.71254521061726,
          101.71256760141898,
          101.71259512550884,
          101.71262745231004,
          101.71266427924299,
          101.71270532882845,
          101.71275034614224,
          101.71279909657207,
          101.71285136383648,
          101.71290694823028,
          101.71296566506733,
          101.71302734329493,
          101.71309182425864,
          101.71315896059853,
          101.71322861526099,
          101.71330066061228,
          101.71337497764179,
          101.71345145524468,
          101.71352998957474,
          101.71361048345962,
          101.71369284587183,
          101.71377699144882,
          101.7138628400575,
          101.71395031639817,
          101.71403934964391,
          101.71412987311159,
          101.71422182396164,
          101.71431514292335,
          101.71440977404346,
          101.71450566445564,
          101.71460276416892,
          101.71470102587324,
          101.71480040476062,
          101.71490085836038,
          101.7150023463872,
          101.71510483060088,
          101.71520827467687,
          101.71531264408625,
          101.71541790598492,
          101.71552402911065,
          101.71563098368776,
          101.71573874133844,
          101.71584727500056,
          101.71595655885095,
          101.7160665682343,
          101.71617727959654,
          101.71628867042308,
          101.71640071918094,
          101.71651340526479,
          101.71662670894645,
          101.71674061132782,
          101.71685509429653,
          101.71697014048475,
          101.71708573323029,
          101.71720185654024,
          101.71731849505684,
          101.71743563402539,
          101.71755325926411,
          101.71767135713577,
          101.71778991452106,
          101.71790891879341
         ]
        }
       ],
       "layout": {
        "template": {
         "data": {
          "bar": [
           {
            "error_x": {
             "color": "#2a3f5f"
            },
            "error_y": {
             "color": "#2a3f5f"
            },
            "marker": {
             "line": {
              "color": "#E5ECF6",
              "width": 0.5
             },
             "pattern": {
              "fillmode": "overlay",
              "size": 10,
              "solidity": 0.2
             }
            },
            "type": "bar"
           }
          ],
          "barpolar": [
           {
            "marker": {
             "line": {
              "color": "#E5ECF6",
              "width": 0.5
             },
             "pattern": {
              "fillmode": "overlay",
              "size": 10,
              "solidity": 0.2
             }
            },
            "type": "barpolar"
           }
          ],
          "carpet": [
           {
            "aaxis": {
             "endlinecolor": "#2a3f5f",
             "gridcolor": "white",
             "linecolor": "white",
             "minorgridcolor": "white",
             "startlinecolor": "#2a3f5f"
            },
            "baxis": {
             "endlinecolor": "#2a3f5f",
             "gridcolor": "white",
             "linecolor": "white",
             "minorgridcolor": "white",
             "startlinecolor": "#2a3f5f"
            },
            "type": "carpet"
           }
          ],
          "choropleth": [
           {
            "colorbar": {
             "outlinewidth": 0,
             "ticks": ""
            },
            "type": "choropleth"
           }
          ],
          "contour": [
           {
            "colorbar": {
             "outlinewidth": 0,
             "ticks": ""
            },
            "colorscale": [
             [
              0,
              "#0d0887"
             ],
             [
              0.1111111111111111,
              "#46039f"
             ],
             [
              0.2222222222222222,
              "#7201a8"
             ],
             [
              0.3333333333333333,
              "#9c179e"
             ],
             [
              0.4444444444444444,
              "#bd3786"
             ],
             [
              0.5555555555555556,
              "#d8576b"
             ],
             [
              0.6666666666666666,
              "#ed7953"
             ],
             [
              0.7777777777777778,
              "#fb9f3a"
             ],
             [
              0.8888888888888888,
              "#fdca26"
             ],
             [
              1,
              "#f0f921"
             ]
            ],
            "type": "contour"
           }
          ],
          "contourcarpet": [
           {
            "colorbar": {
             "outlinewidth": 0,
             "ticks": ""
            },
            "type": "contourcarpet"
           }
          ],
          "heatmap": [
           {
            "colorbar": {
             "outlinewidth": 0,
             "ticks": ""
            },
            "colorscale": [
             [
              0,
              "#0d0887"
             ],
             [
              0.1111111111111111,
              "#46039f"
             ],
             [
              0.2222222222222222,
              "#7201a8"
             ],
             [
              0.3333333333333333,
              "#9c179e"
             ],
             [
              0.4444444444444444,
              "#bd3786"
             ],
             [
              0.5555555555555556,
              "#d8576b"
             ],
             [
              0.6666666666666666,
              "#ed7953"
             ],
             [
              0.7777777777777778,
              "#fb9f3a"
             ],
             [
              0.8888888888888888,
              "#fdca26"
             ],
             [
              1,
              "#f0f921"
             ]
            ],
            "type": "heatmap"
           }
          ],
          "heatmapgl": [
           {
            "colorbar": {
             "outlinewidth": 0,
             "ticks": ""
            },
            "colorscale": [
             [
              0,
              "#0d0887"
             ],
             [
              0.1111111111111111,
              "#46039f"
             ],
             [
              0.2222222222222222,
              "#7201a8"
             ],
             [
              0.3333333333333333,
              "#9c179e"
             ],
             [
              0.4444444444444444,
              "#bd3786"
             ],
             [
              0.5555555555555556,
              "#d8576b"
             ],
             [
              0.6666666666666666,
              "#ed7953"
             ],
             [
              0.7777777777777778,
              "#fb9f3a"
             ],
             [
              0.8888888888888888,
              "#fdca26"
             ],
             [
              1,
              "#f0f921"
             ]
            ],
            "type": "heatmapgl"
           }
          ],
          "histogram": [
           {
            "marker": {
             "pattern": {
              "fillmode": "overlay",
              "size": 10,
              "solidity": 0.2
             }
            },
            "type": "histogram"
           }
          ],
          "histogram2d": [
           {
            "colorbar": {
             "outlinewidth": 0,
             "ticks": ""
            },
            "colorscale": [
             [
              0,
              "#0d0887"
             ],
             [
              0.1111111111111111,
              "#46039f"
             ],
             [
              0.2222222222222222,
              "#7201a8"
             ],
             [
              0.3333333333333333,
              "#9c179e"
             ],
             [
              0.4444444444444444,
              "#bd3786"
             ],
             [
              0.5555555555555556,
              "#d8576b"
             ],
             [
              0.6666666666666666,
              "#ed7953"
             ],
             [
              0.7777777777777778,
              "#fb9f3a"
             ],
             [
              0.8888888888888888,
              "#fdca26"
             ],
             [
              1,
              "#f0f921"
             ]
            ],
            "type": "histogram2d"
           }
          ],
          "histogram2dcontour": [
           {
            "colorbar": {
             "outlinewidth": 0,
             "ticks": ""
            },
            "colorscale": [
             [
              0,
              "#0d0887"
             ],
             [
              0.1111111111111111,
              "#46039f"
             ],
             [
              0.2222222222222222,
              "#7201a8"
             ],
             [
              0.3333333333333333,
              "#9c179e"
             ],
             [
              0.4444444444444444,
              "#bd3786"
             ],
             [
              0.5555555555555556,
              "#d8576b"
             ],
             [
              0.6666666666666666,
              "#ed7953"
             ],
             [
              0.7777777777777778,
              "#fb9f3a"
             ],
             [
              0.8888888888888888,
              "#fdca26"
             ],
             [
              1,
              "#f0f921"
             ]
            ],
            "type": "histogram2dcontour"
           }
          ],
          "mesh3d": [
           {
            "colorbar": {
             "outlinewidth": 0,
             "ticks": ""
            },
            "type": "mesh3d"
           }
          ],
          "parcoords": [
           {
            "line": {
             "colorbar": {
              "outlinewidth": 0,
              "ticks": ""
             }
            },
            "type": "parcoords"
           }
          ],
          "pie": [
           {
            "automargin": true,
            "type": "pie"
           }
          ],
          "scatter": [
           {
            "fillpattern": {
             "fillmode": "overlay",
             "size": 10,
             "solidity": 0.2
            },
            "type": "scatter"
           }
          ],
          "scatter3d": [
           {
            "line": {
             "colorbar": {
              "outlinewidth": 0,
              "ticks": ""
             }
            },
            "marker": {
             "colorbar": {
              "outlinewidth": 0,
              "ticks": ""
             }
            },
            "type": "scatter3d"
           }
          ],
          "scattercarpet": [
           {
            "marker": {
             "colorbar": {
              "outlinewidth": 0,
              "ticks": ""
             }
            },
            "type": "scattercarpet"
           }
          ],
          "scattergeo": [
           {
            "marker": {
             "colorbar": {
              "outlinewidth": 0,
              "ticks": ""
             }
            },
            "type": "scattergeo"
           }
          ],
          "scattergl": [
           {
            "marker": {
             "colorbar": {
              "outlinewidth": 0,
              "ticks": ""
             }
            },
            "type": "scattergl"
           }
          ],
          "scattermapbox": [
           {
            "marker": {
             "colorbar": {
              "outlinewidth": 0,
              "ticks": ""
             }
            },
            "type": "scattermapbox"
           }
          ],
          "scatterpolar": [
           {
            "marker": {
             "colorbar": {
              "outlinewidth": 0,
              "ticks": ""
             }
            },
            "type": "scatterpolar"
           }
          ],
          "scatterpolargl": [
           {
            "marker": {
             "colorbar": {
              "outlinewidth": 0,
              "ticks": ""
             }
            },
            "type": "scatterpolargl"
           }
          ],
          "scatterternary": [
           {
            "marker": {
             "colorbar": {
              "outlinewidth": 0,
              "ticks": ""
             }
            },
            "type": "scatterternary"
           }
          ],
          "surface": [
           {
            "colorbar": {
             "outlinewidth": 0,
             "ticks": ""
            },
            "colorscale": [
             [
              0,
              "#0d0887"
             ],
             [
              0.1111111111111111,
              "#46039f"
             ],
             [
              0.2222222222222222,
              "#7201a8"
             ],
             [
              0.3333333333333333,
              "#9c179e"
             ],
             [
              0.4444444444444444,
              "#bd3786"
             ],
             [
              0.5555555555555556,
              "#d8576b"
             ],
             [
              0.6666666666666666,
              "#ed7953"
             ],
             [
              0.7777777777777778,
              "#fb9f3a"
             ],
             [
              0.8888888888888888,
              "#fdca26"
             ],
             [
              1,
              "#f0f921"
             ]
            ],
            "type": "surface"
           }
          ],
          "table": [
           {
            "cells": {
             "fill": {
              "color": "#EBF0F8"
             },
             "line": {
              "color": "white"
             }
            },
            "header": {
             "fill": {
              "color": "#C8D4E3"
             },
             "line": {
              "color": "white"
             }
            },
            "type": "table"
           }
          ]
         },
         "layout": {
          "annotationdefaults": {
           "arrowcolor": "#2a3f5f",
           "arrowhead": 0,
           "arrowwidth": 1
          },
          "autotypenumbers": "strict",
          "coloraxis": {
           "colorbar": {
            "outlinewidth": 0,
            "ticks": ""
           }
          },
          "colorscale": {
           "diverging": [
            [
             0,
             "#8e0152"
            ],
            [
             0.1,
             "#c51b7d"
            ],
            [
             0.2,
             "#de77ae"
            ],
            [
             0.3,
             "#f1b6da"
            ],
            [
             0.4,
             "#fde0ef"
            ],
            [
             0.5,
             "#f7f7f7"
            ],
            [
             0.6,
             "#e6f5d0"
            ],
            [
             0.7,
             "#b8e186"
            ],
            [
             0.8,
             "#7fbc41"
            ],
            [
             0.9,
             "#4d9221"
            ],
            [
             1,
             "#276419"
            ]
           ],
           "sequential": [
            [
             0,
             "#0d0887"
            ],
            [
             0.1111111111111111,
             "#46039f"
            ],
            [
             0.2222222222222222,
             "#7201a8"
            ],
            [
             0.3333333333333333,
             "#9c179e"
            ],
            [
             0.4444444444444444,
             "#bd3786"
            ],
            [
             0.5555555555555556,
             "#d8576b"
            ],
            [
             0.6666666666666666,
             "#ed7953"
            ],
            [
             0.7777777777777778,
             "#fb9f3a"
            ],
            [
             0.8888888888888888,
             "#fdca26"
            ],
            [
             1,
             "#f0f921"
            ]
           ],
           "sequentialminus": [
            [
             0,
             "#0d0887"
            ],
            [
             0.1111111111111111,
             "#46039f"
            ],
            [
             0.2222222222222222,
             "#7201a8"
            ],
            [
             0.3333333333333333,
             "#9c179e"
            ],
            [
             0.4444444444444444,
             "#bd3786"
            ],
            [
             0.5555555555555556,
             "#d8576b"
            ],
            [
             0.6666666666666666,
             "#ed7953"
            ],
            [
             0.7777777777777778,
             "#fb9f3a"
            ],
            [
             0.8888888888888888,
             "#fdca26"
            ],
            [
             1,
             "#f0f921"
            ]
           ]
          },
          "colorway": [
           "#636efa",
           "#EF553B",
           "#00cc96",
           "#ab63fa",
           "#FFA15A",
           "#19d3f3",
           "#FF6692",
           "#B6E880",
           "#FF97FF",
           "#FECB52"
          ],
          "font": {
           "color": "#2a3f5f"
          },
          "geo": {
           "bgcolor": "white",
           "lakecolor": "white",
           "landcolor": "#E5ECF6",
           "showlakes": true,
           "showland": true,
           "subunitcolor": "white"
          },
          "hoverlabel": {
           "align": "left"
          },
          "hovermode": "closest",
          "mapbox": {
           "style": "light"
          },
          "paper_bgcolor": "white",
          "plot_bgcolor": "#E5ECF6",
          "polar": {
           "angularaxis": {
            "gridcolor": "white",
            "linecolor": "white",
            "ticks": ""
           },
           "bgcolor": "#E5ECF6",
           "radialaxis": {
            "gridcolor": "white",
            "linecolor": "white",
            "ticks": ""
           }
          },
          "scene": {
           "xaxis": {
            "backgroundcolor": "#E5ECF6",
            "gridcolor": "white",
            "gridwidth": 2,
            "linecolor": "white",
            "showbackground": true,
            "ticks": "",
            "zerolinecolor": "white"
           },
           "yaxis": {
            "backgroundcolor": "#E5ECF6",
            "gridcolor": "white",
            "gridwidth": 2,
            "linecolor": "white",
            "showbackground": true,
            "ticks": "",
            "zerolinecolor": "white"
           },
           "zaxis": {
            "backgroundcolor": "#E5ECF6",
            "gridcolor": "white",
            "gridwidth": 2,
            "linecolor": "white",
            "showbackground": true,
            "ticks": "",
            "zerolinecolor": "white"
           }
          },
          "shapedefaults": {
           "line": {
            "color": "#2a3f5f"
           }
          },
          "ternary": {
           "aaxis": {
            "gridcolor": "white",
            "linecolor": "white",
            "ticks": ""
           },
           "baxis": {
            "gridcolor": "white",
            "linecolor": "white",
            "ticks": ""
           },
           "bgcolor": "#E5ECF6",
           "caxis": {
            "gridcolor": "white",
            "linecolor": "white",
            "ticks": ""
           }
          },
          "title": {
           "x": 0.05
          },
          "xaxis": {
           "automargin": true,
           "gridcolor": "white",
           "linecolor": "white",
           "ticks": "",
           "title": {
            "standoff": 15
           },
           "zerolinecolor": "white",
           "zerolinewidth": 2
          },
          "yaxis": {
           "automargin": true,
           "gridcolor": "white",
           "linecolor": "white",
           "ticks": "",
           "title": {
            "standoff": 15
           },
           "zerolinecolor": "white",
           "zerolinewidth": 2
          }
         }
        }
       }
      }
     },
     "metadata": {},
     "output_type": "display_data"
    }
   ],
   "source": [
    "x = float_range\n",
    "y = avg_coefficients\n",
    "selected_y = y[0]\n",
    "# Create traces\n",
    "fig = go.Figure()\n",
    "for i, feature in enumerate(features):\n",
    "# for i in range(10):\n",
    "  selected_y = y[i]\n",
    "  fig.add_trace(go.Scatter(x=x, y=selected_y,\n",
    "                mode='lines',\n",
    "                name=feature))\n",
    "\n",
    "\n",
    "fig.add_trace(go.Scatter(x=x, y=rmse_list,\n",
    "                mode='lines',\n",
    "                name='rmse'))\n",
    "fig.show()\n",
    "# график интерактивный (нажмите мышкой на feature_new, feature1, mse)"
   ]
  },
  {
   "cell_type": "markdown",
   "metadata": {
    "id": "zCENid_bxGYa"
   },
   "source": [
    "По графику видно, что оптимальным коэффициентом регуляризации является значение 100, где достигается наименьшая ошибка"
   ]
  },
  {
   "cell_type": "markdown",
   "metadata": {
    "id": "LPzvhNLkqJjL"
   },
   "source": [
    "# LASSO  регрессия"
   ]
  },
  {
   "cell_type": "code",
   "execution_count": 29,
   "metadata": {
    "id": "i5h6eZc4qs5e"
   },
   "outputs": [],
   "source": [
    "start = 0.0      # Начальное значение диапазона\n",
    "stop = 0.2     # Конечное значение диапазона (не включается в результат)\n",
    "step = 0.001       # Шаг между значениями\n",
    "\n",
    "float_range = np.arange(start, stop, step)\n"
   ]
  },
  {
   "cell_type": "code",
   "execution_count": 33,
   "metadata": {},
   "outputs": [
    {
     "data": {
      "text/plain": [
       "array([[17.33709591, 17.24119392, 17.14530081, 17.04938994, 16.95349467,\n",
       "        16.85759906, 16.76171148, 16.66579492, 16.56987615, 16.47398628,\n",
       "        16.37801525, 16.28211432, 16.18632044, 16.09029793, 15.99440238,\n",
       "        15.89845729, 15.80269093, 15.70665345, 15.61081877, 15.51495383,\n",
       "        15.41905728, 15.32312776, 15.22716383, 15.13149493, 15.03547477,\n",
       "        14.93941647, 14.84369492, 14.74757474, 14.65181951, 14.55605274,\n",
       "        14.45984385, 14.36404185, 14.26822812, 14.17240272, 14.07656575,\n",
       "        13.98071732, 13.8848576 , 13.78845513, 13.69255934, 13.59665274,\n",
       "        13.50073562, 13.4053977 , 13.30947567, 13.2135446 , 13.11760499,\n",
       "        13.02165745, 12.9257026 , 12.82974119, 12.733774  , 12.63780192,\n",
       "        12.54182591, 12.44584702, 12.34986642, 12.25464738, 12.15868309,\n",
       "        12.06272115, 11.96676317, 11.87081084, 11.77486603, 11.67893076,\n",
       "        11.58300718, 11.48709764, 11.39120465, 11.29533091, 11.19947935,\n",
       "        11.10365309, 11.00785547, 10.9120901 , 10.81538619, 10.71968718,\n",
       "        10.62403376, 10.52843076, 10.43288333, 10.33841094, 10.24299567,\n",
       "        10.14865147, 10.05338704,  9.95918459,  9.86409156,  9.76909492,\n",
       "         9.67420276,  9.57942367,  9.48476679,  9.39024185,  9.29494943,\n",
       "         9.20074116,  9.10581899,  9.01111784,  8.91666532,  8.82164047,\n",
       "         8.72696824,  8.63187209,  8.53730219,  8.44256065,  8.34786527,\n",
       "         8.2527411 ,  8.15776606,  8.06324532,  7.96866356,  7.87395737,\n",
       "         7.8423688 ,  7.8413688 ,  7.8403688 ,  7.8393688 ,  7.8383688 ,\n",
       "         7.8373688 ,  7.8363688 ,  7.8353688 ,  7.8343688 ,  7.8333688 ,\n",
       "         7.8323688 ,  7.8313688 ,  7.8303688 ,  7.8293688 ,  7.8283688 ,\n",
       "         7.8273688 ,  7.8263688 ,  7.8253688 ,  7.8243688 ,  7.8233688 ,\n",
       "         7.8223688 ,  7.8213688 ,  7.8203688 ,  7.8193688 ,  7.8183688 ,\n",
       "         7.8173688 ,  7.8163688 ,  7.8153688 ,  7.8143688 ,  7.8133688 ,\n",
       "         7.8123688 ,  7.8113688 ,  7.8103688 ,  7.8093688 ,  7.8083688 ,\n",
       "         7.8073688 ,  7.8063688 ,  7.8053688 ,  7.8043688 ,  7.8033688 ,\n",
       "         7.8023688 ,  7.8013688 ,  7.8003688 ,  7.7993688 ,  7.7983688 ,\n",
       "         7.7973688 ,  7.7963688 ,  7.7953688 ,  7.7943688 ,  7.7933688 ,\n",
       "         7.7923688 ,  7.7913688 ,  7.7903688 ,  7.7893688 ,  7.7883688 ,\n",
       "         7.7873688 ,  7.7863688 ,  7.7853688 ,  7.7843688 ,  7.7833688 ,\n",
       "         7.7823688 ,  7.7813688 ,  7.7803688 ,  7.7793688 ,  7.7783688 ,\n",
       "         7.7773688 ,  7.7763688 ,  7.7753688 ,  7.7743688 ,  7.7733688 ,\n",
       "         7.7723688 ,  7.7713688 ,  7.7703688 ,  7.7693688 ,  7.7683688 ,\n",
       "         7.7673688 ,  7.7663688 ,  7.7653688 ,  7.7643688 ,  7.7633688 ,\n",
       "         7.7623688 ,  7.7613688 ,  7.7603688 ,  7.7593688 ,  7.7583688 ,\n",
       "         7.7573688 ,  7.7563688 ,  7.7553688 ,  7.7543688 ,  7.7533688 ,\n",
       "         7.7523688 ,  7.7513688 ,  7.7503688 ,  7.7493688 ,  7.7483688 ,\n",
       "         7.7473688 ,  7.7463688 ,  7.7453688 ,  7.7443688 ,  7.7433688 ],\n",
       "       [-9.49443609, -9.39854124, -9.30265518, -9.20675156, -9.11086336,\n",
       "        -9.01497482, -8.91909424, -8.82318499, -8.72727353, -8.63139069,\n",
       "        -8.53542752, -8.43953374, -8.34374587, -8.24773177, -8.1518433 ,\n",
       "        -8.05590581, -7.96014517, -7.86411626, -7.76828802, -7.67242983,\n",
       "        -7.57654038, -7.48061829, -7.38466216, -7.28899795, -7.19298618,\n",
       "        -7.09693667, -7.00122037, -6.90510963, -6.80936001, -6.71359896,\n",
       "        -6.61740044, -6.52160454, -6.42579703, -6.32997797, -6.23414746,\n",
       "        -6.13830561, -6.0424526 , -5.94606253, -5.85017383, -5.75427441,\n",
       "        -5.6583646 , -5.5630279 , -5.46711324, -5.37118961, -5.27525755,\n",
       "        -5.17931763, -5.08337049, -4.98741685, -4.89145749, -4.79549329,\n",
       "        -4.6995252 , -4.60355427, -4.50758164, -4.41236257, -4.31640608,\n",
       "        -4.22045192, -4.12450167, -4.02855702, -3.93261981, -3.83669203,\n",
       "        -3.74077583, -3.64487351, -3.54898757, -3.45312069, -3.35727574,\n",
       "        -3.26145583, -3.16566426, -3.06990461, -2.97321626, -2.87752226,\n",
       "        -2.78187338, -2.68627439, -2.59073038, -2.49625013, -2.40083689,\n",
       "        -2.30648348, -2.2112195 , -2.11700635, -2.02191196, -1.92691297,\n",
       "        -1.83201735, -1.73723361, -1.6425708 , -1.54803854, -1.45274687,\n",
       "        -1.35852796, -1.26360265, -1.16889603, -1.07443544, -0.97940852,\n",
       "        -0.88473053, -0.78963306, -0.69505631, -0.60030973, -0.50560883,\n",
       "        -0.41048364, -0.31550601, -0.22097791, -0.12638943, -0.03167783,\n",
       "        -0.        , -0.        , -0.        , -0.        , -0.        ,\n",
       "        -0.        , -0.        , -0.        , -0.        , -0.        ,\n",
       "        -0.        , -0.        , -0.        , -0.        , -0.        ,\n",
       "        -0.        , -0.        , -0.        , -0.        , -0.        ,\n",
       "        -0.        , -0.        , -0.        , -0.        , -0.        ,\n",
       "        -0.        , -0.        , -0.        , -0.        , -0.        ,\n",
       "        -0.        , -0.        , -0.        , -0.        , -0.        ,\n",
       "        -0.        , -0.        , -0.        , -0.        , -0.        ,\n",
       "        -0.        , -0.        , -0.        , -0.        , -0.        ,\n",
       "        -0.        , -0.        , -0.        , -0.        , -0.        ,\n",
       "        -0.        , -0.        , -0.        , -0.        , -0.        ,\n",
       "        -0.        , -0.        , -0.        , -0.        , -0.        ,\n",
       "        -0.        , -0.        , -0.        , -0.        , -0.        ,\n",
       "        -0.        , -0.        , -0.        , -0.        , -0.        ,\n",
       "        -0.        , -0.        , -0.        , -0.        , -0.        ,\n",
       "        -0.        , -0.        , -0.        , -0.        , -0.        ,\n",
       "        -0.        , -0.        , -0.        , -0.        , -0.        ,\n",
       "        -0.        , -0.        , -0.        , -0.        , -0.        ,\n",
       "        -0.        , -0.        , -0.        , -0.        , -0.        ,\n",
       "        -0.        , -0.        , -0.        , -0.        , -0.        ]])"
      ]
     },
     "execution_count": 33,
     "metadata": {},
     "output_type": "execute_result"
    }
   ],
   "source": [
    "avg_coefficients"
   ]
  },
  {
   "cell_type": "code",
   "execution_count": 64,
   "metadata": {
    "id": "umU3XWuVqLKH"
   },
   "outputs": [
    {
     "name": "stderr",
     "output_type": "stream",
     "text": [
      "C:\\Users\\user\\AppData\\Roaming\\Python\\Python312\\site-packages\\sklearn\\utils\\validation.py:2732: UserWarning:\n",
      "\n",
      "X has feature names, but LinearRegression was fitted without feature names\n",
      "\n",
      "C:\\Users\\user\\AppData\\Roaming\\Python\\Python312\\site-packages\\sklearn\\utils\\validation.py:2732: UserWarning:\n",
      "\n",
      "X has feature names, but Lasso was fitted without feature names\n",
      "\n",
      "C:\\Users\\user\\AppData\\Roaming\\Python\\Python312\\site-packages\\sklearn\\utils\\validation.py:2732: UserWarning:\n",
      "\n",
      "X has feature names, but Lasso was fitted without feature names\n",
      "\n",
      "C:\\Users\\user\\AppData\\Roaming\\Python\\Python312\\site-packages\\sklearn\\utils\\validation.py:2732: UserWarning:\n",
      "\n",
      "X has feature names, but Lasso was fitted without feature names\n",
      "\n"
     ]
    },
    {
     "name": "stdout",
     "output_type": "stream",
     "text": [
      "Coefficients (weights) with L1 regularization: 0.0 101.74869315415332\n",
      "[17.33709591 -9.49443609]\n",
      "Coefficients (weights) with L1 regularization: 0.001 101.74823263784599\n",
      "[17.24119392 -9.39854124]\n",
      "Coefficients (weights) with L1 regularization: 0.002 101.74777403391558\n",
      "[17.14530081 -9.30265518]\n",
      "Coefficients (weights) with L1 regularization: 0.003 101.74731722257421\n",
      "[17.04938994 -9.20675156]\n"
     ]
    },
    {
     "name": "stderr",
     "output_type": "stream",
     "text": [
      "C:\\Users\\user\\AppData\\Roaming\\Python\\Python312\\site-packages\\sklearn\\utils\\validation.py:2732: UserWarning:\n",
      "\n",
      "X has feature names, but Lasso was fitted without feature names\n",
      "\n",
      "C:\\Users\\user\\AppData\\Roaming\\Python\\Python312\\site-packages\\sklearn\\utils\\validation.py:2732: UserWarning:\n",
      "\n",
      "X has feature names, but Lasso was fitted without feature names\n",
      "\n",
      "C:\\Users\\user\\AppData\\Roaming\\Python\\Python312\\site-packages\\sklearn\\utils\\validation.py:2732: UserWarning:\n",
      "\n",
      "X has feature names, but Lasso was fitted without feature names\n",
      "\n",
      "C:\\Users\\user\\AppData\\Roaming\\Python\\Python312\\site-packages\\sklearn\\utils\\validation.py:2732: UserWarning:\n",
      "\n",
      "X has feature names, but Lasso was fitted without feature names\n",
      "\n",
      "C:\\Users\\user\\AppData\\Roaming\\Python\\Python312\\site-packages\\sklearn\\utils\\validation.py:2732: UserWarning:\n",
      "\n",
      "X has feature names, but Lasso was fitted without feature names\n",
      "\n"
     ]
    },
    {
     "name": "stdout",
     "output_type": "stream",
     "text": [
      "Coefficients (weights) with L1 regularization: 0.004 101.74686235360701\n",
      "[16.95349467 -9.11086336]\n",
      "Coefficients (weights) with L1 regularization: 0.005 101.7464093553837\n",
      "[16.85759906 -9.01497482]\n",
      "Coefficients (weights) with L1 regularization: 0.006 101.74595826498404\n",
      "[16.76171148 -8.91909424]\n",
      "Coefficients (weights) with L1 regularization: 0.007 101.74550891902254\n",
      "[16.66579492 -8.82318499]\n",
      "Coefficients (weights) with L1 regularization: 0.008 101.74506143645884\n",
      "[16.56987615 -8.72727353]\n",
      "Coefficients (weights) with L1 regularization: 0.009000000000000001 101.74461595331853\n",
      "[16.47398628 -8.63139069]\n",
      "Coefficients (weights) with L1 regularization: 0.01 101.74417198971523\n",
      "[16.37801525 -8.53542752]\n",
      "Coefficients (weights) with L1 regularization: 0.011 101.74373020468234\n",
      "[16.28211432 -8.43953374]\n",
      "Coefficients (weights) with L1 regularization: 0.012 101.74329075318062\n",
      "[16.18632044 -8.34374587]\n",
      "Coefficients (weights) with L1 regularization: 0.013000000000000001 101.74285219021625\n",
      "[16.09029793 -8.24773177]\n"
     ]
    },
    {
     "name": "stderr",
     "output_type": "stream",
     "text": [
      "C:\\Users\\user\\AppData\\Roaming\\Python\\Python312\\site-packages\\sklearn\\utils\\validation.py:2732: UserWarning:\n",
      "\n",
      "X has feature names, but Lasso was fitted without feature names\n",
      "\n",
      "C:\\Users\\user\\AppData\\Roaming\\Python\\Python312\\site-packages\\sklearn\\utils\\validation.py:2732: UserWarning:\n",
      "\n",
      "X has feature names, but Lasso was fitted without feature names\n",
      "\n",
      "C:\\Users\\user\\AppData\\Roaming\\Python\\Python312\\site-packages\\sklearn\\utils\\validation.py:2732: UserWarning:\n",
      "\n",
      "X has feature names, but Lasso was fitted without feature names\n",
      "\n",
      "C:\\Users\\user\\AppData\\Roaming\\Python\\Python312\\site-packages\\sklearn\\utils\\validation.py:2732: UserWarning:\n",
      "\n",
      "X has feature names, but Lasso was fitted without feature names\n",
      "\n",
      "C:\\Users\\user\\AppData\\Roaming\\Python\\Python312\\site-packages\\sklearn\\utils\\validation.py:2732: UserWarning:\n",
      "\n",
      "X has feature names, but Lasso was fitted without feature names\n",
      "\n",
      "C:\\Users\\user\\AppData\\Roaming\\Python\\Python312\\site-packages\\sklearn\\utils\\validation.py:2732: UserWarning:\n",
      "\n",
      "X has feature names, but Lasso was fitted without feature names\n",
      "\n",
      "C:\\Users\\user\\AppData\\Roaming\\Python\\Python312\\site-packages\\sklearn\\utils\\validation.py:2732: UserWarning:\n",
      "\n",
      "X has feature names, but Lasso was fitted without feature names\n",
      "\n",
      "C:\\Users\\user\\AppData\\Roaming\\Python\\Python312\\site-packages\\sklearn\\utils\\validation.py:2732: UserWarning:\n",
      "\n",
      "X has feature names, but Lasso was fitted without feature names\n",
      "\n",
      "C:\\Users\\user\\AppData\\Roaming\\Python\\Python312\\site-packages\\sklearn\\utils\\validation.py:2732: UserWarning:\n",
      "\n",
      "X has feature names, but Lasso was fitted without feature names\n",
      "\n",
      "C:\\Users\\user\\AppData\\Roaming\\Python\\Python312\\site-packages\\sklearn\\utils\\validation.py:2732: UserWarning:\n",
      "\n",
      "X has feature names, but Lasso was fitted without feature names\n",
      "\n",
      "C:\\Users\\user\\AppData\\Roaming\\Python\\Python312\\site-packages\\sklearn\\utils\\validation.py:2732: UserWarning:\n",
      "\n",
      "X has feature names, but Lasso was fitted without feature names\n",
      "\n",
      "C:\\Users\\user\\AppData\\Roaming\\Python\\Python312\\site-packages\\sklearn\\utils\\validation.py:2732: UserWarning:\n",
      "\n",
      "X has feature names, but Lasso was fitted without feature names\n",
      "\n",
      "C:\\Users\\user\\AppData\\Roaming\\Python\\Python312\\site-packages\\sklearn\\utils\\validation.py:2732: UserWarning:\n",
      "\n",
      "X has feature names, but Lasso was fitted without feature names\n",
      "\n"
     ]
    },
    {
     "name": "stdout",
     "output_type": "stream",
     "text": [
      "Coefficients (weights) with L1 regularization: 0.014 101.74241604639643\n",
      "[15.99440238 -8.1518433 ]\n",
      "Coefficients (weights) with L1 regularization: 0.015 101.74198156465803\n",
      "[15.89845729 -8.05590581]\n",
      "Coefficients (weights) with L1 regularization: 0.016 101.74154971308175\n",
      "[15.80269093 -7.96014517]\n",
      "Coefficients (weights) with L1 regularization: 0.017 101.74111858795675\n",
      "[15.70665345 -7.86411626]\n",
      "Coefficients (weights) with L1 regularization: 0.018000000000000002 101.74069019051223\n",
      "[15.61081877 -7.76828802]\n",
      "Coefficients (weights) with L1 regularization: 0.019 101.74026353711442\n",
      "[15.51495383 -7.67242983]\n",
      "Coefficients (weights) with L1 regularization: 0.02 101.7398386240022\n",
      "[15.41905728 -7.57654038]\n",
      "Coefficients (weights) with L1 regularization: 0.021 101.73941544733137\n",
      "[15.32312776 -7.48061829]\n"
     ]
    },
    {
     "name": "stderr",
     "output_type": "stream",
     "text": [
      "C:\\Users\\user\\AppData\\Roaming\\Python\\Python312\\site-packages\\sklearn\\utils\\validation.py:2732: UserWarning:\n",
      "\n",
      "X has feature names, but Lasso was fitted without feature names\n",
      "\n",
      "C:\\Users\\user\\AppData\\Roaming\\Python\\Python312\\site-packages\\sklearn\\utils\\validation.py:2732: UserWarning:\n",
      "\n",
      "X has feature names, but Lasso was fitted without feature names\n",
      "\n",
      "C:\\Users\\user\\AppData\\Roaming\\Python\\Python312\\site-packages\\sklearn\\utils\\validation.py:2732: UserWarning:\n",
      "\n",
      "X has feature names, but Lasso was fitted without feature names\n",
      "\n",
      "C:\\Users\\user\\AppData\\Roaming\\Python\\Python312\\site-packages\\sklearn\\utils\\validation.py:2732: UserWarning:\n",
      "\n",
      "X has feature names, but Lasso was fitted without feature names\n",
      "\n",
      "C:\\Users\\user\\AppData\\Roaming\\Python\\Python312\\site-packages\\sklearn\\utils\\validation.py:2732: UserWarning:\n",
      "\n",
      "X has feature names, but Lasso was fitted without feature names\n",
      "\n",
      "C:\\Users\\user\\AppData\\Roaming\\Python\\Python312\\site-packages\\sklearn\\utils\\validation.py:2732: UserWarning:\n",
      "\n",
      "X has feature names, but Lasso was fitted without feature names\n",
      "\n",
      "C:\\Users\\user\\AppData\\Roaming\\Python\\Python312\\site-packages\\sklearn\\utils\\validation.py:2732: UserWarning:\n",
      "\n",
      "X has feature names, but Lasso was fitted without feature names\n",
      "\n"
     ]
    },
    {
     "name": "stdout",
     "output_type": "stream",
     "text": [
      "Coefficients (weights) with L1 regularization: 0.022 101.73899400317839\n",
      "[15.22716383 -7.38466216]\n",
      "Coefficients (weights) with L1 regularization: 0.023 101.73857564175131\n",
      "[15.13149493 -7.28899795]\n",
      "Coefficients (weights) with L1 regularization: 0.024 101.73815771356126\n",
      "[15.03547477 -7.19298618]\n",
      "Coefficients (weights) with L1 regularization: 0.025 101.73774150832443\n",
      "[14.93941647 -7.09693667]\n",
      "Coefficients (weights) with L1 regularization: 0.026000000000000002 101.73732854073545\n",
      "[14.84369492 -7.00122037]\n",
      "Coefficients (weights) with L1 regularization: 0.027 101.7369158387278\n",
      "[14.74757474 -6.90510963]\n",
      "Coefficients (weights) with L1 regularization: 0.028 101.73650647639184\n",
      "[14.65181951 -6.80936001]\n",
      "Coefficients (weights) with L1 regularization: 0.029 101.73609893553252\n",
      "[14.55605274 -6.71359896]\n",
      "Coefficients (weights) with L1 regularization: 0.03 101.73569151321747\n",
      "[14.45984385 -6.61740044]\n",
      "Coefficients (weights) with L1 regularization: 0.031 101.73528757802094\n",
      "[14.36404185 -6.52160454]\n",
      "Coefficients (weights) with L1 regularization: 0.032 101.73488546610906\n",
      "[14.26822812 -6.42579703]\n",
      "Coefficients (weights) with L1 regularization: 0.033 101.73448517844908\n",
      "[14.17240272 -6.32997797]\n",
      "Coefficients (weights) with L1 regularization: 0.034 101.73408671611026\n",
      "[14.07656575 -6.23414746]\n"
     ]
    },
    {
     "name": "stderr",
     "output_type": "stream",
     "text": [
      "C:\\Users\\user\\AppData\\Roaming\\Python\\Python312\\site-packages\\sklearn\\utils\\validation.py:2732: UserWarning:\n",
      "\n",
      "X has feature names, but Lasso was fitted without feature names\n",
      "\n",
      "C:\\Users\\user\\AppData\\Roaming\\Python\\Python312\\site-packages\\sklearn\\utils\\validation.py:2732: UserWarning:\n",
      "\n",
      "X has feature names, but Lasso was fitted without feature names\n",
      "\n",
      "C:\\Users\\user\\AppData\\Roaming\\Python\\Python312\\site-packages\\sklearn\\utils\\validation.py:2732: UserWarning:\n",
      "\n",
      "X has feature names, but Lasso was fitted without feature names\n",
      "\n",
      "C:\\Users\\user\\AppData\\Roaming\\Python\\Python312\\site-packages\\sklearn\\utils\\validation.py:2732: UserWarning:\n",
      "\n",
      "X has feature names, but Lasso was fitted without feature names\n",
      "\n",
      "C:\\Users\\user\\AppData\\Roaming\\Python\\Python312\\site-packages\\sklearn\\utils\\validation.py:2732: UserWarning:\n",
      "\n",
      "X has feature names, but Lasso was fitted without feature names\n",
      "\n",
      "C:\\Users\\user\\AppData\\Roaming\\Python\\Python312\\site-packages\\sklearn\\utils\\validation.py:2732: UserWarning:\n",
      "\n",
      "X has feature names, but Lasso was fitted without feature names\n",
      "\n",
      "C:\\Users\\user\\AppData\\Roaming\\Python\\Python312\\site-packages\\sklearn\\utils\\validation.py:2732: UserWarning:\n",
      "\n",
      "X has feature names, but Lasso was fitted without feature names\n",
      "\n"
     ]
    },
    {
     "name": "stdout",
     "output_type": "stream",
     "text": [
      "Coefficients (weights) with L1 regularization: 0.035 101.73369008027001\n",
      "[13.98071732 -6.13830561]\n",
      "Coefficients (weights) with L1 regularization: 0.036000000000000004 101.73329527222013\n",
      "[13.8848576 -6.0424526]\n",
      "Coefficients (weights) with L1 regularization: 0.037 101.7329002619461\n",
      "[13.78845513 -5.94606253]\n",
      "Coefficients (weights) with L1 regularization: 0.038 101.73250907059365\n",
      "[13.69255934 -5.85017383]\n",
      "Coefficients (weights) with L1 regularization: 0.039 101.73211971135343\n",
      "[13.59665274 -5.75427441]\n",
      "Coefficients (weights) with L1 regularization: 0.04 101.73173218608287\n",
      "[13.50073562 -5.6583646 ]\n",
      "Coefficients (weights) with L1 regularization: 0.041 101.73134870291116\n",
      "[13.4053977 -5.5630279]\n"
     ]
    },
    {
     "name": "stderr",
     "output_type": "stream",
     "text": [
      "C:\\Users\\user\\AppData\\Roaming\\Python\\Python312\\site-packages\\sklearn\\utils\\validation.py:2732: UserWarning:\n",
      "\n",
      "X has feature names, but Lasso was fitted without feature names\n",
      "\n",
      "C:\\Users\\user\\AppData\\Roaming\\Python\\Python312\\site-packages\\sklearn\\utils\\validation.py:2732: UserWarning:\n",
      "\n",
      "X has feature names, but Lasso was fitted without feature names\n",
      "\n",
      "C:\\Users\\user\\AppData\\Roaming\\Python\\Python312\\site-packages\\sklearn\\utils\\validation.py:2732: UserWarning:\n",
      "\n",
      "X has feature names, but Lasso was fitted without feature names\n",
      "\n",
      "C:\\Users\\user\\AppData\\Roaming\\Python\\Python312\\site-packages\\sklearn\\utils\\validation.py:2732: UserWarning:\n",
      "\n",
      "X has feature names, but Lasso was fitted without feature names\n",
      "\n",
      "C:\\Users\\user\\AppData\\Roaming\\Python\\Python312\\site-packages\\sklearn\\utils\\validation.py:2732: UserWarning:\n",
      "\n",
      "X has feature names, but Lasso was fitted without feature names\n",
      "\n",
      "C:\\Users\\user\\AppData\\Roaming\\Python\\Python312\\site-packages\\sklearn\\utils\\validation.py:2732: UserWarning:\n",
      "\n",
      "X has feature names, but Lasso was fitted without feature names\n",
      "\n",
      "C:\\Users\\user\\AppData\\Roaming\\Python\\Python312\\site-packages\\sklearn\\utils\\validation.py:2732: UserWarning:\n",
      "\n",
      "X has feature names, but Lasso was fitted without feature names\n",
      "\n",
      "C:\\Users\\user\\AppData\\Roaming\\Python\\Python312\\site-packages\\sklearn\\utils\\validation.py:2732: UserWarning:\n",
      "\n",
      "X has feature names, but Lasso was fitted without feature names\n",
      "\n",
      "C:\\Users\\user\\AppData\\Roaming\\Python\\Python312\\site-packages\\sklearn\\utils\\validation.py:2732: UserWarning:\n",
      "\n",
      "X has feature names, but Lasso was fitted without feature names\n",
      "\n",
      "C:\\Users\\user\\AppData\\Roaming\\Python\\Python312\\site-packages\\sklearn\\utils\\validation.py:2732: UserWarning:\n",
      "\n",
      "X has feature names, but Lasso was fitted without feature names\n",
      "\n",
      "C:\\Users\\user\\AppData\\Roaming\\Python\\Python312\\site-packages\\sklearn\\utils\\validation.py:2732: UserWarning:\n",
      "\n",
      "X has feature names, but Lasso was fitted without feature names\n",
      "\n",
      "C:\\Users\\user\\AppData\\Roaming\\Python\\Python312\\site-packages\\sklearn\\utils\\validation.py:2732: UserWarning:\n",
      "\n",
      "X has feature names, but Lasso was fitted without feature names\n",
      "\n",
      "C:\\Users\\user\\AppData\\Roaming\\Python\\Python312\\site-packages\\sklearn\\utils\\validation.py:2732: UserWarning:\n",
      "\n",
      "X has feature names, but Lasso was fitted without feature names\n",
      "\n",
      "C:\\Users\\user\\AppData\\Roaming\\Python\\Python312\\site-packages\\sklearn\\utils\\validation.py:2732: UserWarning:\n",
      "\n",
      "X has feature names, but Lasso was fitted without feature names\n",
      "\n"
     ]
    },
    {
     "name": "stdout",
     "output_type": "stream",
     "text": [
      "Coefficients (weights) with L1 regularization: 0.042 101.73096489601481\n",
      "[13.30947567 -5.46711324]\n",
      "Coefficients (weights) with L1 regularization: 0.043000000000000003 101.73058292975303\n",
      "[13.2135446  -5.37118961]\n",
      "Coefficients (weights) with L1 regularization: 0.044 101.73020280659945\n",
      "[13.11760499 -5.27525755]\n",
      "Coefficients (weights) with L1 regularization: 0.045 101.72982452921407\n",
      "[13.02165745 -5.17931763]\n",
      "Coefficients (weights) with L1 regularization: 0.046 101.72944810045321\n",
      "[12.9257026  -5.08337049]\n",
      "Coefficients (weights) with L1 regularization: 0.047 101.72907352337984\n",
      "[12.82974119 -4.98741685]\n",
      "Coefficients (weights) with L1 regularization: 0.048 101.72870080127441\n",
      "[12.733774   -4.89145749]\n",
      "Coefficients (weights) with L1 regularization: 0.049 101.72832993764612\n",
      "[12.63780192 -4.79549329]\n",
      "Coefficients (weights) with L1 regularization: 0.05 101.72796093624471\n",
      "[12.54182591 -4.6995252 ]\n",
      "Coefficients (weights) with L1 regularization: 0.051000000000000004 101.72759380107276\n",
      "[12.44584702 -4.60355427]\n",
      "Coefficients (weights) with L1 regularization: 0.052000000000000005 101.72722853639843\n",
      "[12.34986642 -4.50758164]\n",
      "Coefficients (weights) with L1 regularization: 0.053 101.72686782198355\n",
      "[12.25464738 -4.41236257]\n",
      "Coefficients (weights) with L1 regularization: 0.054 101.72650635278856\n",
      "[12.15868309 -4.31640608]\n",
      "Coefficients (weights) with L1 regularization: 0.055 101.72614676783627\n",
      "[12.06272115 -4.22045192]\n"
     ]
    },
    {
     "name": "stderr",
     "output_type": "stream",
     "text": [
      "C:\\Users\\user\\AppData\\Roaming\\Python\\Python312\\site-packages\\sklearn\\utils\\validation.py:2732: UserWarning:\n",
      "\n",
      "X has feature names, but Lasso was fitted without feature names\n",
      "\n",
      "C:\\Users\\user\\AppData\\Roaming\\Python\\Python312\\site-packages\\sklearn\\utils\\validation.py:2732: UserWarning:\n",
      "\n",
      "X has feature names, but Lasso was fitted without feature names\n",
      "\n",
      "C:\\Users\\user\\AppData\\Roaming\\Python\\Python312\\site-packages\\sklearn\\utils\\validation.py:2732: UserWarning:\n",
      "\n",
      "X has feature names, but Lasso was fitted without feature names\n",
      "\n",
      "C:\\Users\\user\\AppData\\Roaming\\Python\\Python312\\site-packages\\sklearn\\utils\\validation.py:2732: UserWarning:\n",
      "\n",
      "X has feature names, but Lasso was fitted without feature names\n",
      "\n",
      "C:\\Users\\user\\AppData\\Roaming\\Python\\Python312\\site-packages\\sklearn\\utils\\validation.py:2732: UserWarning:\n",
      "\n",
      "X has feature names, but Lasso was fitted without feature names\n",
      "\n",
      "C:\\Users\\user\\AppData\\Roaming\\Python\\Python312\\site-packages\\sklearn\\utils\\validation.py:2732: UserWarning:\n",
      "\n",
      "X has feature names, but Lasso was fitted without feature names\n",
      "\n",
      "C:\\Users\\user\\AppData\\Roaming\\Python\\Python312\\site-packages\\sklearn\\utils\\validation.py:2732: UserWarning:\n",
      "\n",
      "X has feature names, but Lasso was fitted without feature names\n",
      "\n",
      "C:\\Users\\user\\AppData\\Roaming\\Python\\Python312\\site-packages\\sklearn\\utils\\validation.py:2732: UserWarning:\n",
      "\n",
      "X has feature names, but Lasso was fitted without feature names\n",
      "\n",
      "C:\\Users\\user\\AppData\\Roaming\\Python\\Python312\\site-packages\\sklearn\\utils\\validation.py:2732: UserWarning:\n",
      "\n",
      "X has feature names, but Lasso was fitted without feature names\n",
      "\n",
      "C:\\Users\\user\\AppData\\Roaming\\Python\\Python312\\site-packages\\sklearn\\utils\\validation.py:2732: UserWarning:\n",
      "\n",
      "X has feature names, but Lasso was fitted without feature names\n",
      "\n",
      "C:\\Users\\user\\AppData\\Roaming\\Python\\Python312\\site-packages\\sklearn\\utils\\validation.py:2732: UserWarning:\n",
      "\n",
      "X has feature names, but Lasso was fitted without feature names\n",
      "\n",
      "C:\\Users\\user\\AppData\\Roaming\\Python\\Python312\\site-packages\\sklearn\\utils\\validation.py:2732: UserWarning:\n",
      "\n",
      "X has feature names, but Lasso was fitted without feature names\n",
      "\n",
      "C:\\Users\\user\\AppData\\Roaming\\Python\\Python312\\site-packages\\sklearn\\utils\\validation.py:2732: UserWarning:\n",
      "\n",
      "X has feature names, but Lasso was fitted without feature names\n",
      "\n"
     ]
    },
    {
     "name": "stdout",
     "output_type": "stream",
     "text": [
      "Coefficients (weights) with L1 regularization: 0.056 101.72578907248327\n",
      "[11.96676317 -4.12450167]\n",
      "Coefficients (weights) with L1 regularization: 0.057 101.72543327241743\n",
      "[11.87081084 -4.02855702]\n",
      "Coefficients (weights) with L1 regularization: 0.058 101.7250793736741\n",
      "[11.77486603 -3.93261981]\n",
      "Coefficients (weights) with L1 regularization: 0.059000000000000004 101.72472738265277\n",
      "[11.67893076 -3.83669203]\n",
      "Coefficients (weights) with L1 regularization: 0.06 101.72437730613453\n",
      "[11.58300718 -3.74077583]\n",
      "Coefficients (weights) with L1 regularization: 0.061 101.72402915130023\n",
      "[11.48709764 -3.64487351]\n",
      "Coefficients (weights) with L1 regularization: 0.062 101.7236829257494\n",
      "[11.39120465 -3.54898757]\n"
     ]
    },
    {
     "name": "stderr",
     "output_type": "stream",
     "text": [
      "C:\\Users\\user\\AppData\\Roaming\\Python\\Python312\\site-packages\\sklearn\\utils\\validation.py:2732: UserWarning:\n",
      "\n",
      "X has feature names, but Lasso was fitted without feature names\n",
      "\n",
      "C:\\Users\\user\\AppData\\Roaming\\Python\\Python312\\site-packages\\sklearn\\utils\\validation.py:2732: UserWarning:\n",
      "\n",
      "X has feature names, but Lasso was fitted without feature names\n",
      "\n",
      "C:\\Users\\user\\AppData\\Roaming\\Python\\Python312\\site-packages\\sklearn\\utils\\validation.py:2732: UserWarning:\n",
      "\n",
      "X has feature names, but Lasso was fitted without feature names\n",
      "\n",
      "C:\\Users\\user\\AppData\\Roaming\\Python\\Python312\\site-packages\\sklearn\\utils\\validation.py:2732: UserWarning:\n",
      "\n",
      "X has feature names, but Lasso was fitted without feature names\n",
      "\n",
      "C:\\Users\\user\\AppData\\Roaming\\Python\\Python312\\site-packages\\sklearn\\utils\\validation.py:2732: UserWarning:\n",
      "\n",
      "X has feature names, but Lasso was fitted without feature names\n",
      "\n",
      "C:\\Users\\user\\AppData\\Roaming\\Python\\Python312\\site-packages\\sklearn\\utils\\validation.py:2732: UserWarning:\n",
      "\n",
      "X has feature names, but Lasso was fitted without feature names\n",
      "\n",
      "C:\\Users\\user\\AppData\\Roaming\\Python\\Python312\\site-packages\\sklearn\\utils\\validation.py:2732: UserWarning:\n",
      "\n",
      "X has feature names, but Lasso was fitted without feature names\n",
      "\n",
      "C:\\Users\\user\\AppData\\Roaming\\Python\\Python312\\site-packages\\sklearn\\utils\\validation.py:2732: UserWarning:\n",
      "\n",
      "X has feature names, but Lasso was fitted without feature names\n",
      "\n",
      "C:\\Users\\user\\AppData\\Roaming\\Python\\Python312\\site-packages\\sklearn\\utils\\validation.py:2732: UserWarning:\n",
      "\n",
      "X has feature names, but Lasso was fitted without feature names\n",
      "\n"
     ]
    },
    {
     "name": "stdout",
     "output_type": "stream",
     "text": [
      "Coefficients (weights) with L1 regularization: 0.063 101.72333863751992\n",
      "[11.29533091 -3.45312069]\n",
      "Coefficients (weights) with L1 regularization: 0.064 101.72299629510844\n",
      "[11.19947935 -3.35727574]\n",
      "Coefficients (weights) with L1 regularization: 0.065 101.72265590749171\n",
      "[11.10365309 -3.26145583]\n",
      "Coefficients (weights) with L1 regularization: 0.066 101.7223174841487\n",
      "[11.00785547 -3.16566426]\n",
      "Coefficients (weights) with L1 regularization: 0.067 101.72198103508372\n",
      "[10.9120901  -3.06990461]\n",
      "Coefficients (weights) with L1 regularization: 0.068 101.72164343270728\n",
      "[10.81538619 -2.97321626]\n",
      "Coefficients (weights) with L1 regularization: 0.069 101.72131095136736\n",
      "[10.71968718 -2.87752226]\n",
      "Coefficients (weights) with L1 regularization: 0.07 101.72098048112196\n",
      "[10.62403376 -2.78187338]\n",
      "Coefficients (weights) with L1 regularization: 0.07100000000000001 101.72065203458772\n",
      "[10.52843076 -2.68627439]\n",
      "Coefficients (weights) with L1 regularization: 0.07200000000000001 101.72032562505007\n",
      "[10.43288333 -2.59073038]\n",
      "Coefficients (weights) with L1 regularization: 0.073 101.72000443319477\n",
      "[10.33841094 -2.49625013]\n",
      "Coefficients (weights) with L1 regularization: 0.074 101.71968213359573\n",
      "[10.24299567 -2.40083689]\n",
      "Coefficients (weights) with L1 regularization: 0.075 101.71936499309227\n",
      "[10.14865147 -2.30648348]\n",
      "Coefficients (weights) with L1 regularization: 0.076 101.71904684558697\n",
      "[10.05338704 -2.2112195 ]\n"
     ]
    },
    {
     "name": "stderr",
     "output_type": "stream",
     "text": [
      "C:\\Users\\user\\AppData\\Roaming\\Python\\Python312\\site-packages\\sklearn\\utils\\validation.py:2732: UserWarning:\n",
      "\n",
      "X has feature names, but Lasso was fitted without feature names\n",
      "\n",
      "C:\\Users\\user\\AppData\\Roaming\\Python\\Python312\\site-packages\\sklearn\\utils\\validation.py:2732: UserWarning:\n",
      "\n",
      "X has feature names, but Lasso was fitted without feature names\n",
      "\n",
      "C:\\Users\\user\\AppData\\Roaming\\Python\\Python312\\site-packages\\sklearn\\utils\\validation.py:2732: UserWarning:\n",
      "\n",
      "X has feature names, but Lasso was fitted without feature names\n",
      "\n",
      "C:\\Users\\user\\AppData\\Roaming\\Python\\Python312\\site-packages\\sklearn\\utils\\validation.py:2732: UserWarning:\n",
      "\n",
      "X has feature names, but Lasso was fitted without feature names\n",
      "\n",
      "C:\\Users\\user\\AppData\\Roaming\\Python\\Python312\\site-packages\\sklearn\\utils\\validation.py:2732: UserWarning:\n",
      "\n",
      "X has feature names, but Lasso was fitted without feature names\n",
      "\n",
      "C:\\Users\\user\\AppData\\Roaming\\Python\\Python312\\site-packages\\sklearn\\utils\\validation.py:2732: UserWarning:\n",
      "\n",
      "X has feature names, but Lasso was fitted without feature names\n",
      "\n",
      "C:\\Users\\user\\AppData\\Roaming\\Python\\Python312\\site-packages\\sklearn\\utils\\validation.py:2732: UserWarning:\n",
      "\n",
      "X has feature names, but Lasso was fitted without feature names\n",
      "\n",
      "C:\\Users\\user\\AppData\\Roaming\\Python\\Python312\\site-packages\\sklearn\\utils\\validation.py:2732: UserWarning:\n",
      "\n",
      "X has feature names, but Lasso was fitted without feature names\n",
      "\n",
      "C:\\Users\\user\\AppData\\Roaming\\Python\\Python312\\site-packages\\sklearn\\utils\\validation.py:2732: UserWarning:\n",
      "\n",
      "X has feature names, but Lasso was fitted without feature names\n",
      "\n",
      "C:\\Users\\user\\AppData\\Roaming\\Python\\Python312\\site-packages\\sklearn\\utils\\validation.py:2732: UserWarning:\n",
      "\n",
      "X has feature names, but Lasso was fitted without feature names\n",
      "\n",
      "C:\\Users\\user\\AppData\\Roaming\\Python\\Python312\\site-packages\\sklearn\\utils\\validation.py:2732: UserWarning:\n",
      "\n",
      "X has feature names, but Lasso was fitted without feature names\n",
      "\n",
      "C:\\Users\\user\\AppData\\Roaming\\Python\\Python312\\site-packages\\sklearn\\utils\\validation.py:2732: UserWarning:\n",
      "\n",
      "X has feature names, but Lasso was fitted without feature names\n",
      "\n"
     ]
    },
    {
     "name": "stdout",
     "output_type": "stream",
     "text": [
      "Coefficients (weights) with L1 regularization: 0.077 101.71873378265752\n",
      "[ 9.95918459 -2.11700635]\n",
      "Coefficients (weights) with L1 regularization: 0.078 101.71841983233844\n",
      "[ 9.86409156 -2.02191196]\n",
      "Coefficients (weights) with L1 regularization: 0.079 101.71810801481536\n",
      "[ 9.76909492 -1.92691297]\n",
      "Coefficients (weights) with L1 regularization: 0.08 101.71779834868873\n",
      "[ 9.67420276 -1.83201735]\n",
      "Coefficients (weights) with L1 regularization: 0.081 101.71749085348148\n",
      "[ 9.57942367 -1.73723361]\n",
      "Coefficients (weights) with L1 regularization: 0.082 101.7171855496786\n",
      "[ 9.48476679 -1.6425708 ]\n",
      "Coefficients (weights) with L1 regularization: 0.083 101.71688245876838\n",
      "[ 9.39024185 -1.54803854]\n"
     ]
    },
    {
     "name": "stderr",
     "output_type": "stream",
     "text": [
      "C:\\Users\\user\\AppData\\Roaming\\Python\\Python312\\site-packages\\sklearn\\utils\\validation.py:2732: UserWarning:\n",
      "\n",
      "X has feature names, but Lasso was fitted without feature names\n",
      "\n",
      "C:\\Users\\user\\AppData\\Roaming\\Python\\Python312\\site-packages\\sklearn\\utils\\validation.py:2732: UserWarning:\n",
      "\n",
      "X has feature names, but Lasso was fitted without feature names\n",
      "\n",
      "C:\\Users\\user\\AppData\\Roaming\\Python\\Python312\\site-packages\\sklearn\\utils\\validation.py:2732: UserWarning:\n",
      "\n",
      "X has feature names, but Lasso was fitted without feature names\n",
      "\n",
      "C:\\Users\\user\\AppData\\Roaming\\Python\\Python312\\site-packages\\sklearn\\utils\\validation.py:2732: UserWarning:\n",
      "\n",
      "X has feature names, but Lasso was fitted without feature names\n",
      "\n",
      "C:\\Users\\user\\AppData\\Roaming\\Python\\Python312\\site-packages\\sklearn\\utils\\validation.py:2732: UserWarning:\n",
      "\n",
      "X has feature names, but Lasso was fitted without feature names\n",
      "\n",
      "C:\\Users\\user\\AppData\\Roaming\\Python\\Python312\\site-packages\\sklearn\\utils\\validation.py:2732: UserWarning:\n",
      "\n",
      "X has feature names, but Lasso was fitted without feature names\n",
      "\n",
      "C:\\Users\\user\\AppData\\Roaming\\Python\\Python312\\site-packages\\sklearn\\utils\\validation.py:2732: UserWarning:\n",
      "\n",
      "X has feature names, but Lasso was fitted without feature names\n",
      "\n",
      "C:\\Users\\user\\AppData\\Roaming\\Python\\Python312\\site-packages\\sklearn\\utils\\validation.py:2732: UserWarning:\n",
      "\n",
      "X has feature names, but Lasso was fitted without feature names\n",
      "\n",
      "C:\\Users\\user\\AppData\\Roaming\\Python\\Python312\\site-packages\\sklearn\\utils\\validation.py:2732: UserWarning:\n",
      "\n",
      "X has feature names, but Lasso was fitted without feature names\n",
      "\n",
      "C:\\Users\\user\\AppData\\Roaming\\Python\\Python312\\site-packages\\sklearn\\utils\\validation.py:2732: UserWarning:\n",
      "\n",
      "X has feature names, but Lasso was fitted without feature names\n",
      "\n"
     ]
    },
    {
     "name": "stdout",
     "output_type": "stream",
     "text": [
      "Coefficients (weights) with L1 regularization: 0.084 101.71657895396675\n",
      "[ 9.29494943 -1.45274687]\n",
      "Coefficients (weights) with L1 regularization: 0.085 101.71628043612228\n",
      "[ 9.20074116 -1.35852796]\n",
      "Coefficients (weights) with L1 regularization: 0.08600000000000001 101.71598167567475\n",
      "[ 9.10581899 -1.26360265]\n",
      "Coefficients (weights) with L1 regularization: 0.08700000000000001 101.71568538253128\n",
      "[ 9.01111784 -1.16889603]\n",
      "Coefficients (weights) with L1 regularization: 0.088 101.71539162233866\n",
      "[ 8.91666532 -1.07443544]\n",
      "Coefficients (weights) with L1 regularization: 0.089 101.7150980686545\n",
      "[ 8.82164047 -0.97940852]\n",
      "Coefficients (weights) with L1 regularization: 0.09 101.71480734169008\n",
      "[ 8.72696824 -0.88473053]\n",
      "Coefficients (weights) with L1 regularization: 0.091 101.71451726393292\n",
      "[ 8.63187209 -0.78963306]\n",
      "Coefficients (weights) with L1 regularization: 0.092 101.71423048113708\n",
      "[ 8.53730219 -0.69505631]\n",
      "Coefficients (weights) with L1 regularization: 0.093 101.71394505109197\n",
      "[ 8.44256065 -0.60030973]\n"
     ]
    },
    {
     "name": "stderr",
     "output_type": "stream",
     "text": [
      "C:\\Users\\user\\AppData\\Roaming\\Python\\Python312\\site-packages\\sklearn\\utils\\validation.py:2732: UserWarning:\n",
      "\n",
      "X has feature names, but Lasso was fitted without feature names\n",
      "\n",
      "C:\\Users\\user\\AppData\\Roaming\\Python\\Python312\\site-packages\\sklearn\\utils\\validation.py:2732: UserWarning:\n",
      "\n",
      "X has feature names, but Lasso was fitted without feature names\n",
      "\n",
      "C:\\Users\\user\\AppData\\Roaming\\Python\\Python312\\site-packages\\sklearn\\utils\\validation.py:2732: UserWarning:\n",
      "\n",
      "X has feature names, but Lasso was fitted without feature names\n",
      "\n",
      "C:\\Users\\user\\AppData\\Roaming\\Python\\Python312\\site-packages\\sklearn\\utils\\validation.py:2732: UserWarning:\n",
      "\n",
      "X has feature names, but Lasso was fitted without feature names\n",
      "\n",
      "C:\\Users\\user\\AppData\\Roaming\\Python\\Python312\\site-packages\\sklearn\\utils\\validation.py:2732: UserWarning:\n",
      "\n",
      "X has feature names, but Lasso was fitted without feature names\n",
      "\n",
      "C:\\Users\\user\\AppData\\Roaming\\Python\\Python312\\site-packages\\sklearn\\utils\\validation.py:2732: UserWarning:\n",
      "\n",
      "X has feature names, but Lasso was fitted without feature names\n",
      "\n",
      "C:\\Users\\user\\AppData\\Roaming\\Python\\Python312\\site-packages\\sklearn\\utils\\validation.py:2732: UserWarning:\n",
      "\n",
      "X has feature names, but Lasso was fitted without feature names\n",
      "\n",
      "C:\\Users\\user\\AppData\\Roaming\\Python\\Python312\\site-packages\\sklearn\\utils\\validation.py:2732: UserWarning:\n",
      "\n",
      "X has feature names, but Lasso was fitted without feature names\n",
      "\n",
      "C:\\Users\\user\\AppData\\Roaming\\Python\\Python312\\site-packages\\sklearn\\utils\\validation.py:2732: UserWarning:\n",
      "\n",
      "X has feature names, but Lasso was fitted without feature names\n",
      "\n"
     ]
    },
    {
     "name": "stdout",
     "output_type": "stream",
     "text": [
      "Coefficients (weights) with L1 regularization: 0.094 101.71366157619268\n",
      "[ 8.34786527 -0.50560883]\n",
      "Coefficients (weights) with L1 regularization: 0.095 101.71337877084342\n",
      "[ 8.2527411  -0.41048364]\n",
      "Coefficients (weights) with L1 regularization: 0.096 101.7130982097407\n",
      "[ 8.15776606 -0.31550601]\n",
      "Coefficients (weights) with L1 regularization: 0.097 101.7128206969589\n",
      "[ 8.06324532 -0.22097791]\n",
      "Coefficients (weights) with L1 regularization: 0.098 101.71254484403188\n",
      "[ 7.96866356 -0.12638943]\n",
      "Coefficients (weights) with L1 regularization: 0.099 101.71227048804852\n",
      "[ 7.87395737 -0.03167783]\n",
      "Coefficients (weights) with L1 regularization: 0.1 101.71217721021077\n",
      "[ 7.8423688 -0.       ]\n",
      "Coefficients (weights) with L1 regularization: 0.101 101.7121992056825\n",
      "[ 7.8413688 -0.       ]\n",
      "Coefficients (weights) with L1 regularization: 0.10200000000000001 101.71222121086859\n",
      "[ 7.8403688 -0.       ]\n",
      "Coefficients (weights) with L1 regularization: 0.10300000000000001 101.71224322576903\n",
      "[ 7.8393688 -0.       ]\n",
      "Coefficients (weights) with L1 regularization: 0.10400000000000001 101.71226525038384\n",
      "[ 7.8383688 -0.       ]\n",
      "Coefficients (weights) with L1 regularization: 0.105 101.712287284713\n",
      "[ 7.8373688 -0.       ]\n",
      "Coefficients (weights) with L1 regularization: 0.106 101.7123093287565\n",
      "[ 7.8363688 -0.       ]\n",
      "Coefficients (weights) with L1 regularization: 0.107 101.71233138251435\n",
      "[ 7.8353688 -0.       ]\n",
      "Coefficients (weights) with L1 regularization: 0.108 101.71235344598651\n",
      "[ 7.8343688 -0.       ]\n",
      "Coefficients (weights) with L1 regularization: 0.109 101.712375519173\n",
      "[ 7.8333688 -0.       ]\n",
      "Coefficients (weights) with L1 regularization: 0.11 101.7123976020738\n",
      "[ 7.8323688 -0.       ]\n"
     ]
    },
    {
     "name": "stderr",
     "output_type": "stream",
     "text": [
      "C:\\Users\\user\\AppData\\Roaming\\Python\\Python312\\site-packages\\sklearn\\utils\\validation.py:2732: UserWarning:\n",
      "\n",
      "X has feature names, but Lasso was fitted without feature names\n",
      "\n",
      "C:\\Users\\user\\AppData\\Roaming\\Python\\Python312\\site-packages\\sklearn\\utils\\validation.py:2732: UserWarning:\n",
      "\n",
      "X has feature names, but Lasso was fitted without feature names\n",
      "\n",
      "C:\\Users\\user\\AppData\\Roaming\\Python\\Python312\\site-packages\\sklearn\\utils\\validation.py:2732: UserWarning:\n",
      "\n",
      "X has feature names, but Lasso was fitted without feature names\n",
      "\n",
      "C:\\Users\\user\\AppData\\Roaming\\Python\\Python312\\site-packages\\sklearn\\utils\\validation.py:2732: UserWarning:\n",
      "\n",
      "X has feature names, but Lasso was fitted without feature names\n",
      "\n",
      "C:\\Users\\user\\AppData\\Roaming\\Python\\Python312\\site-packages\\sklearn\\utils\\validation.py:2732: UserWarning:\n",
      "\n",
      "X has feature names, but Lasso was fitted without feature names\n",
      "\n",
      "C:\\Users\\user\\AppData\\Roaming\\Python\\Python312\\site-packages\\sklearn\\utils\\validation.py:2732: UserWarning:\n",
      "\n",
      "X has feature names, but Lasso was fitted without feature names\n",
      "\n",
      "C:\\Users\\user\\AppData\\Roaming\\Python\\Python312\\site-packages\\sklearn\\utils\\validation.py:2732: UserWarning:\n",
      "\n",
      "X has feature names, but Lasso was fitted without feature names\n",
      "\n",
      "C:\\Users\\user\\AppData\\Roaming\\Python\\Python312\\site-packages\\sklearn\\utils\\validation.py:2732: UserWarning:\n",
      "\n",
      "X has feature names, but Lasso was fitted without feature names\n",
      "\n",
      "C:\\Users\\user\\AppData\\Roaming\\Python\\Python312\\site-packages\\sklearn\\utils\\validation.py:2732: UserWarning:\n",
      "\n",
      "X has feature names, but Lasso was fitted without feature names\n",
      "\n",
      "C:\\Users\\user\\AppData\\Roaming\\Python\\Python312\\site-packages\\sklearn\\utils\\validation.py:2732: UserWarning:\n",
      "\n",
      "X has feature names, but Lasso was fitted without feature names\n",
      "\n",
      "C:\\Users\\user\\AppData\\Roaming\\Python\\Python312\\site-packages\\sklearn\\utils\\validation.py:2732: UserWarning:\n",
      "\n",
      "X has feature names, but Lasso was fitted without feature names\n",
      "\n"
     ]
    },
    {
     "name": "stdout",
     "output_type": "stream",
     "text": [
      "Coefficients (weights) with L1 regularization: 0.111 101.71241969468893\n",
      "[ 7.8313688 -0.       ]\n",
      "Coefficients (weights) with L1 regularization: 0.112 101.71244179701836\n",
      "[ 7.8303688 -0.       ]\n",
      "Coefficients (weights) with L1 regularization: 0.113 101.71246390906208\n",
      "[ 7.8293688 -0.       ]\n",
      "Coefficients (weights) with L1 regularization: 0.114 101.7124860308201\n",
      "[ 7.8283688 -0.       ]\n",
      "Coefficients (weights) with L1 regularization: 0.115 101.71250816229241\n",
      "[ 7.8273688 -0.       ]\n",
      "Coefficients (weights) with L1 regularization: 0.116 101.71253030347899\n",
      "[ 7.8263688 -0.       ]\n",
      "Coefficients (weights) with L1 regularization: 0.117 101.71255245437985\n",
      "[ 7.8253688 -0.       ]\n",
      "Coefficients (weights) with L1 regularization: 0.11800000000000001 101.71257461499496\n",
      "[ 7.8243688 -0.       ]\n",
      "Coefficients (weights) with L1 regularization: 0.11900000000000001 101.71259678532437\n",
      "[ 7.8233688 -0.       ]\n",
      "Coefficients (weights) with L1 regularization: 0.12 101.712618965368\n",
      "[ 7.8223688 -0.       ]\n"
     ]
    },
    {
     "name": "stderr",
     "output_type": "stream",
     "text": [
      "C:\\Users\\user\\AppData\\Roaming\\Python\\Python312\\site-packages\\sklearn\\utils\\validation.py:2732: UserWarning:\n",
      "\n",
      "X has feature names, but Lasso was fitted without feature names\n",
      "\n",
      "C:\\Users\\user\\AppData\\Roaming\\Python\\Python312\\site-packages\\sklearn\\utils\\validation.py:2732: UserWarning:\n",
      "\n",
      "X has feature names, but Lasso was fitted without feature names\n",
      "\n",
      "C:\\Users\\user\\AppData\\Roaming\\Python\\Python312\\site-packages\\sklearn\\utils\\validation.py:2732: UserWarning:\n",
      "\n",
      "X has feature names, but Lasso was fitted without feature names\n",
      "\n",
      "C:\\Users\\user\\AppData\\Roaming\\Python\\Python312\\site-packages\\sklearn\\utils\\validation.py:2732: UserWarning:\n",
      "\n",
      "X has feature names, but Lasso was fitted without feature names\n",
      "\n",
      "C:\\Users\\user\\AppData\\Roaming\\Python\\Python312\\site-packages\\sklearn\\utils\\validation.py:2732: UserWarning:\n",
      "\n",
      "X has feature names, but Lasso was fitted without feature names\n",
      "\n",
      "C:\\Users\\user\\AppData\\Roaming\\Python\\Python312\\site-packages\\sklearn\\utils\\validation.py:2732: UserWarning:\n",
      "\n",
      "X has feature names, but Lasso was fitted without feature names\n",
      "\n",
      "C:\\Users\\user\\AppData\\Roaming\\Python\\Python312\\site-packages\\sklearn\\utils\\validation.py:2732: UserWarning:\n",
      "\n",
      "X has feature names, but Lasso was fitted without feature names\n",
      "\n",
      "C:\\Users\\user\\AppData\\Roaming\\Python\\Python312\\site-packages\\sklearn\\utils\\validation.py:2732: UserWarning:\n",
      "\n",
      "X has feature names, but Lasso was fitted without feature names\n",
      "\n"
     ]
    },
    {
     "name": "stdout",
     "output_type": "stream",
     "text": [
      "Coefficients (weights) with L1 regularization: 0.121 101.71264115512588\n",
      "[ 7.8213688 -0.       ]\n",
      "Coefficients (weights) with L1 regularization: 0.122 101.712663354598\n",
      "[ 7.8203688 -0.       ]\n",
      "Coefficients (weights) with L1 regularization: 0.123 101.71268556378438\n",
      "[ 7.8193688 -0.       ]\n",
      "Coefficients (weights) with L1 regularization: 0.124 101.71270778268497\n",
      "[ 7.8183688 -0.       ]\n",
      "Coefficients (weights) with L1 regularization: 0.125 101.71273001129978\n",
      "[ 7.8173688 -0.       ]\n",
      "Coefficients (weights) with L1 regularization: 0.126 101.71275224962882\n",
      "[ 7.8163688 -0.       ]\n",
      "Coefficients (weights) with L1 regularization: 0.127 101.71277449767206\n",
      "[ 7.8153688 -0.       ]\n",
      "Coefficients (weights) with L1 regularization: 0.128 101.71279675542951\n",
      "[ 7.8143688 -0.       ]\n"
     ]
    },
    {
     "name": "stderr",
     "output_type": "stream",
     "text": [
      "C:\\Users\\user\\AppData\\Roaming\\Python\\Python312\\site-packages\\sklearn\\utils\\validation.py:2732: UserWarning:\n",
      "\n",
      "X has feature names, but Lasso was fitted without feature names\n",
      "\n",
      "C:\\Users\\user\\AppData\\Roaming\\Python\\Python312\\site-packages\\sklearn\\utils\\validation.py:2732: UserWarning:\n",
      "\n",
      "X has feature names, but Lasso was fitted without feature names\n",
      "\n",
      "C:\\Users\\user\\AppData\\Roaming\\Python\\Python312\\site-packages\\sklearn\\utils\\validation.py:2732: UserWarning:\n",
      "\n",
      "X has feature names, but Lasso was fitted without feature names\n",
      "\n",
      "C:\\Users\\user\\AppData\\Roaming\\Python\\Python312\\site-packages\\sklearn\\utils\\validation.py:2732: UserWarning:\n",
      "\n",
      "X has feature names, but Lasso was fitted without feature names\n",
      "\n",
      "C:\\Users\\user\\AppData\\Roaming\\Python\\Python312\\site-packages\\sklearn\\utils\\validation.py:2732: UserWarning:\n",
      "\n",
      "X has feature names, but Lasso was fitted without feature names\n",
      "\n",
      "C:\\Users\\user\\AppData\\Roaming\\Python\\Python312\\site-packages\\sklearn\\utils\\validation.py:2732: UserWarning:\n",
      "\n",
      "X has feature names, but Lasso was fitted without feature names\n",
      "\n",
      "C:\\Users\\user\\AppData\\Roaming\\Python\\Python312\\site-packages\\sklearn\\utils\\validation.py:2732: UserWarning:\n",
      "\n",
      "X has feature names, but Lasso was fitted without feature names\n",
      "\n",
      "C:\\Users\\user\\AppData\\Roaming\\Python\\Python312\\site-packages\\sklearn\\utils\\validation.py:2732: UserWarning:\n",
      "\n",
      "X has feature names, but Lasso was fitted without feature names\n",
      "\n"
     ]
    },
    {
     "name": "stdout",
     "output_type": "stream",
     "text": [
      "Coefficients (weights) with L1 regularization: 0.129 101.71281902290113\n",
      "[ 7.8133688 -0.       ]\n",
      "Coefficients (weights) with L1 regularization: 0.13 101.71284130008696\n",
      "[ 7.8123688 -0.       ]\n",
      "Coefficients (weights) with L1 regularization: 0.131 101.71286358698698\n",
      "[ 7.8113688 -0.       ]\n",
      "Coefficients (weights) with L1 regularization: 0.132 101.71288588360119\n",
      "[ 7.8103688 -0.       ]\n",
      "Coefficients (weights) with L1 regularization: 0.133 101.71290818992955\n",
      "[ 7.8093688 -0.       ]\n",
      "Coefficients (weights) with L1 regularization: 0.134 101.7129305059721\n",
      "[ 7.8083688 -0.       ]\n",
      "Coefficients (weights) with L1 regularization: 0.135 101.71295283172877\n",
      "[ 7.8073688 -0.       ]\n",
      "Coefficients (weights) with L1 regularization: 0.136 101.71297516719963\n",
      "[ 7.8063688 -0.       ]\n",
      "Coefficients (weights) with L1 regularization: 0.137 101.7129975123846\n",
      "[ 7.8053688 -0.       ]\n",
      "Coefficients (weights) with L1 regularization: 0.138 101.71301986728373\n",
      "[ 7.8043688 -0.       ]\n"
     ]
    },
    {
     "name": "stderr",
     "output_type": "stream",
     "text": [
      "C:\\Users\\user\\AppData\\Roaming\\Python\\Python312\\site-packages\\sklearn\\utils\\validation.py:2732: UserWarning:\n",
      "\n",
      "X has feature names, but Lasso was fitted without feature names\n",
      "\n",
      "C:\\Users\\user\\AppData\\Roaming\\Python\\Python312\\site-packages\\sklearn\\utils\\validation.py:2732: UserWarning:\n",
      "\n",
      "X has feature names, but Lasso was fitted without feature names\n",
      "\n",
      "C:\\Users\\user\\AppData\\Roaming\\Python\\Python312\\site-packages\\sklearn\\utils\\validation.py:2732: UserWarning:\n",
      "\n",
      "X has feature names, but Lasso was fitted without feature names\n",
      "\n",
      "C:\\Users\\user\\AppData\\Roaming\\Python\\Python312\\site-packages\\sklearn\\utils\\validation.py:2732: UserWarning:\n",
      "\n",
      "X has feature names, but Lasso was fitted without feature names\n",
      "\n",
      "C:\\Users\\user\\AppData\\Roaming\\Python\\Python312\\site-packages\\sklearn\\utils\\validation.py:2732: UserWarning:\n",
      "\n",
      "X has feature names, but Lasso was fitted without feature names\n",
      "\n",
      "C:\\Users\\user\\AppData\\Roaming\\Python\\Python312\\site-packages\\sklearn\\utils\\validation.py:2732: UserWarning:\n",
      "\n",
      "X has feature names, but Lasso was fitted without feature names\n",
      "\n",
      "C:\\Users\\user\\AppData\\Roaming\\Python\\Python312\\site-packages\\sklearn\\utils\\validation.py:2732: UserWarning:\n",
      "\n",
      "X has feature names, but Lasso was fitted without feature names\n",
      "\n",
      "C:\\Users\\user\\AppData\\Roaming\\Python\\Python312\\site-packages\\sklearn\\utils\\validation.py:2732: UserWarning:\n",
      "\n",
      "X has feature names, but Lasso was fitted without feature names\n",
      "\n",
      "C:\\Users\\user\\AppData\\Roaming\\Python\\Python312\\site-packages\\sklearn\\utils\\validation.py:2732: UserWarning:\n",
      "\n",
      "X has feature names, but Lasso was fitted without feature names\n",
      "\n",
      "C:\\Users\\user\\AppData\\Roaming\\Python\\Python312\\site-packages\\sklearn\\utils\\validation.py:2732: UserWarning:\n",
      "\n",
      "X has feature names, but Lasso was fitted without feature names\n",
      "\n"
     ]
    },
    {
     "name": "stdout",
     "output_type": "stream",
     "text": [
      "Coefficients (weights) with L1 regularization: 0.139 101.71304223189699\n",
      "[ 7.8033688 -0.       ]\n",
      "Coefficients (weights) with L1 regularization: 0.14 101.71306460622438\n",
      "[ 7.8023688 -0.       ]\n",
      "Coefficients (weights) with L1 regularization: 0.14100000000000001 101.7130869902659\n",
      "[ 7.8013688 -0.       ]\n",
      "Coefficients (weights) with L1 regularization: 0.14200000000000002 101.71310938402151\n",
      "[ 7.8003688 -0.       ]\n",
      "Coefficients (weights) with L1 regularization: 0.14300000000000002 101.71313178749124\n",
      "[ 7.7993688 -0.       ]\n",
      "Coefficients (weights) with L1 regularization: 0.14400000000000002 101.71315420067508\n",
      "[ 7.7983688 -0.       ]\n",
      "Coefficients (weights) with L1 regularization: 0.145 101.713176623573\n",
      "[ 7.7973688 -0.       ]\n",
      "Coefficients (weights) with L1 regularization: 0.146 101.71319905618502\n",
      "[ 7.7963688 -0.       ]\n",
      "Coefficients (weights) with L1 regularization: 0.147 101.71322149851112\n",
      "[ 7.7953688 -0.       ]\n",
      "Coefficients (weights) with L1 regularization: 0.148 101.71324395055127\n",
      "[ 7.7943688 -0.       ]\n"
     ]
    },
    {
     "name": "stderr",
     "output_type": "stream",
     "text": [
      "C:\\Users\\user\\AppData\\Roaming\\Python\\Python312\\site-packages\\sklearn\\utils\\validation.py:2732: UserWarning:\n",
      "\n",
      "X has feature names, but Lasso was fitted without feature names\n",
      "\n",
      "C:\\Users\\user\\AppData\\Roaming\\Python\\Python312\\site-packages\\sklearn\\utils\\validation.py:2732: UserWarning:\n",
      "\n",
      "X has feature names, but Lasso was fitted without feature names\n",
      "\n",
      "C:\\Users\\user\\AppData\\Roaming\\Python\\Python312\\site-packages\\sklearn\\utils\\validation.py:2732: UserWarning:\n",
      "\n",
      "X has feature names, but Lasso was fitted without feature names\n",
      "\n",
      "C:\\Users\\user\\AppData\\Roaming\\Python\\Python312\\site-packages\\sklearn\\utils\\validation.py:2732: UserWarning:\n",
      "\n",
      "X has feature names, but Lasso was fitted without feature names\n",
      "\n",
      "C:\\Users\\user\\AppData\\Roaming\\Python\\Python312\\site-packages\\sklearn\\utils\\validation.py:2732: UserWarning:\n",
      "\n",
      "X has feature names, but Lasso was fitted without feature names\n",
      "\n",
      "C:\\Users\\user\\AppData\\Roaming\\Python\\Python312\\site-packages\\sklearn\\utils\\validation.py:2732: UserWarning:\n",
      "\n",
      "X has feature names, but Lasso was fitted without feature names\n",
      "\n",
      "C:\\Users\\user\\AppData\\Roaming\\Python\\Python312\\site-packages\\sklearn\\utils\\validation.py:2732: UserWarning:\n",
      "\n",
      "X has feature names, but Lasso was fitted without feature names\n",
      "\n",
      "C:\\Users\\user\\AppData\\Roaming\\Python\\Python312\\site-packages\\sklearn\\utils\\validation.py:2732: UserWarning:\n",
      "\n",
      "X has feature names, but Lasso was fitted without feature names\n",
      "\n",
      "C:\\Users\\user\\AppData\\Roaming\\Python\\Python312\\site-packages\\sklearn\\utils\\validation.py:2732: UserWarning:\n",
      "\n",
      "X has feature names, but Lasso was fitted without feature names\n",
      "\n",
      "C:\\Users\\user\\AppData\\Roaming\\Python\\Python312\\site-packages\\sklearn\\utils\\validation.py:2732: UserWarning:\n",
      "\n",
      "X has feature names, but Lasso was fitted without feature names\n",
      "\n"
     ]
    },
    {
     "name": "stdout",
     "output_type": "stream",
     "text": [
      "Coefficients (weights) with L1 regularization: 0.149 101.71326641230553\n",
      "[ 7.7933688 -0.       ]\n",
      "Coefficients (weights) with L1 regularization: 0.15 101.71328888377383\n",
      "[ 7.7923688 -0.       ]\n",
      "Coefficients (weights) with L1 regularization: 0.151 101.71331136495618\n",
      "[ 7.7913688 -0.       ]\n",
      "Coefficients (weights) with L1 regularization: 0.152 101.7133338558526\n",
      "[ 7.7903688 -0.       ]\n",
      "Coefficients (weights) with L1 regularization: 0.153 101.71335635646304\n",
      "[ 7.7893688 -0.       ]\n",
      "Coefficients (weights) with L1 regularization: 0.154 101.71337886678754\n",
      "[ 7.7883688 -0.       ]\n",
      "Coefficients (weights) with L1 regularization: 0.155 101.71340138682605\n",
      "[ 7.7873688 -0.       ]\n"
     ]
    },
    {
     "name": "stderr",
     "output_type": "stream",
     "text": [
      "C:\\Users\\user\\AppData\\Roaming\\Python\\Python312\\site-packages\\sklearn\\utils\\validation.py:2732: UserWarning:\n",
      "\n",
      "X has feature names, but Lasso was fitted without feature names\n",
      "\n",
      "C:\\Users\\user\\AppData\\Roaming\\Python\\Python312\\site-packages\\sklearn\\utils\\validation.py:2732: UserWarning:\n",
      "\n",
      "X has feature names, but Lasso was fitted without feature names\n",
      "\n",
      "C:\\Users\\user\\AppData\\Roaming\\Python\\Python312\\site-packages\\sklearn\\utils\\validation.py:2732: UserWarning:\n",
      "\n",
      "X has feature names, but Lasso was fitted without feature names\n",
      "\n",
      "C:\\Users\\user\\AppData\\Roaming\\Python\\Python312\\site-packages\\sklearn\\utils\\validation.py:2732: UserWarning:\n",
      "\n",
      "X has feature names, but Lasso was fitted without feature names\n",
      "\n",
      "C:\\Users\\user\\AppData\\Roaming\\Python\\Python312\\site-packages\\sklearn\\utils\\validation.py:2732: UserWarning:\n",
      "\n",
      "X has feature names, but Lasso was fitted without feature names\n",
      "\n",
      "C:\\Users\\user\\AppData\\Roaming\\Python\\Python312\\site-packages\\sklearn\\utils\\validation.py:2732: UserWarning:\n",
      "\n",
      "X has feature names, but Lasso was fitted without feature names\n",
      "\n",
      "C:\\Users\\user\\AppData\\Roaming\\Python\\Python312\\site-packages\\sklearn\\utils\\validation.py:2732: UserWarning:\n",
      "\n",
      "X has feature names, but Lasso was fitted without feature names\n",
      "\n"
     ]
    },
    {
     "name": "stdout",
     "output_type": "stream",
     "text": [
      "Coefficients (weights) with L1 regularization: 0.156 101.71342391657859\n",
      "[ 7.7863688 -0.       ]\n",
      "Coefficients (weights) with L1 regularization: 0.157 101.71344645604515\n",
      "[ 7.7853688 -0.       ]\n",
      "Coefficients (weights) with L1 regularization: 0.158 101.71346900522572\n",
      "[ 7.7843688 -0.       ]\n",
      "Coefficients (weights) with L1 regularization: 0.159 101.7134915641203\n",
      "[ 7.7833688 -0.       ]\n",
      "Coefficients (weights) with L1 regularization: 0.16 101.71351413272887\n",
      "[ 7.7823688 -0.       ]\n",
      "Coefficients (weights) with L1 regularization: 0.161 101.71353671105143\n",
      "[ 7.7813688 -0.       ]\n",
      "Coefficients (weights) with L1 regularization: 0.162 101.71355929908799\n",
      "[ 7.7803688 -0.       ]\n",
      "Coefficients (weights) with L1 regularization: 0.163 101.71358189683852\n",
      "[ 7.7793688 -0.       ]\n",
      "Coefficients (weights) with L1 regularization: 0.164 101.713604504303\n",
      "[ 7.7783688 -0.       ]\n"
     ]
    },
    {
     "name": "stderr",
     "output_type": "stream",
     "text": [
      "C:\\Users\\user\\AppData\\Roaming\\Python\\Python312\\site-packages\\sklearn\\utils\\validation.py:2732: UserWarning:\n",
      "\n",
      "X has feature names, but Lasso was fitted without feature names\n",
      "\n",
      "C:\\Users\\user\\AppData\\Roaming\\Python\\Python312\\site-packages\\sklearn\\utils\\validation.py:2732: UserWarning:\n",
      "\n",
      "X has feature names, but Lasso was fitted without feature names\n",
      "\n",
      "C:\\Users\\user\\AppData\\Roaming\\Python\\Python312\\site-packages\\sklearn\\utils\\validation.py:2732: UserWarning:\n",
      "\n",
      "X has feature names, but Lasso was fitted without feature names\n",
      "\n",
      "C:\\Users\\user\\AppData\\Roaming\\Python\\Python312\\site-packages\\sklearn\\utils\\validation.py:2732: UserWarning:\n",
      "\n",
      "X has feature names, but Lasso was fitted without feature names\n",
      "\n",
      "C:\\Users\\user\\AppData\\Roaming\\Python\\Python312\\site-packages\\sklearn\\utils\\validation.py:2732: UserWarning:\n",
      "\n",
      "X has feature names, but Lasso was fitted without feature names\n",
      "\n",
      "C:\\Users\\user\\AppData\\Roaming\\Python\\Python312\\site-packages\\sklearn\\utils\\validation.py:2732: UserWarning:\n",
      "\n",
      "X has feature names, but Lasso was fitted without feature names\n",
      "\n",
      "C:\\Users\\user\\AppData\\Roaming\\Python\\Python312\\site-packages\\sklearn\\utils\\validation.py:2732: UserWarning:\n",
      "\n",
      "X has feature names, but Lasso was fitted without feature names\n",
      "\n",
      "C:\\Users\\user\\AppData\\Roaming\\Python\\Python312\\site-packages\\sklearn\\utils\\validation.py:2732: UserWarning:\n",
      "\n",
      "X has feature names, but Lasso was fitted without feature names\n",
      "\n",
      "C:\\Users\\user\\AppData\\Roaming\\Python\\Python312\\site-packages\\sklearn\\utils\\validation.py:2732: UserWarning:\n",
      "\n",
      "X has feature names, but Lasso was fitted without feature names\n",
      "\n",
      "C:\\Users\\user\\AppData\\Roaming\\Python\\Python312\\site-packages\\sklearn\\utils\\validation.py:2732: UserWarning:\n",
      "\n",
      "X has feature names, but Lasso was fitted without feature names\n",
      "\n",
      "C:\\Users\\user\\AppData\\Roaming\\Python\\Python312\\site-packages\\sklearn\\utils\\validation.py:2732: UserWarning:\n",
      "\n",
      "X has feature names, but Lasso was fitted without feature names\n",
      "\n",
      "C:\\Users\\user\\AppData\\Roaming\\Python\\Python312\\site-packages\\sklearn\\utils\\validation.py:2732: UserWarning:\n",
      "\n",
      "X has feature names, but Lasso was fitted without feature names\n",
      "\n",
      "C:\\Users\\user\\AppData\\Roaming\\Python\\Python312\\site-packages\\sklearn\\utils\\validation.py:2732: UserWarning:\n",
      "\n",
      "X has feature names, but Lasso was fitted without feature names\n",
      "\n",
      "C:\\Users\\user\\AppData\\Roaming\\Python\\Python312\\site-packages\\sklearn\\utils\\validation.py:2732: UserWarning:\n",
      "\n",
      "X has feature names, but Lasso was fitted without feature names\n",
      "\n",
      "C:\\Users\\user\\AppData\\Roaming\\Python\\Python312\\site-packages\\sklearn\\utils\\validation.py:2732: UserWarning:\n",
      "\n",
      "X has feature names, but Lasso was fitted without feature names\n",
      "\n",
      "C:\\Users\\user\\AppData\\Roaming\\Python\\Python312\\site-packages\\sklearn\\utils\\validation.py:2732: UserWarning:\n",
      "\n",
      "X has feature names, but Lasso was fitted without feature names\n",
      "\n",
      "C:\\Users\\user\\AppData\\Roaming\\Python\\Python312\\site-packages\\sklearn\\utils\\validation.py:2732: UserWarning:\n",
      "\n",
      "X has feature names, but Lasso was fitted without feature names\n",
      "\n",
      "C:\\Users\\user\\AppData\\Roaming\\Python\\Python312\\site-packages\\sklearn\\utils\\validation.py:2732: UserWarning:\n",
      "\n",
      "X has feature names, but Lasso was fitted without feature names\n",
      "\n",
      "C:\\Users\\user\\AppData\\Roaming\\Python\\Python312\\site-packages\\sklearn\\utils\\validation.py:2732: UserWarning:\n",
      "\n",
      "X has feature names, but Lasso was fitted without feature names\n",
      "\n"
     ]
    },
    {
     "name": "stdout",
     "output_type": "stream",
     "text": [
      "Coefficients (weights) with L1 regularization: 0.165 101.71362712148148\n",
      "[ 7.7773688 -0.       ]\n",
      "Coefficients (weights) with L1 regularization: 0.166 101.7136497483739\n",
      "[ 7.7763688 -0.       ]\n",
      "Coefficients (weights) with L1 regularization: 0.167 101.71367238498027\n",
      "[ 7.7753688 -0.       ]\n",
      "Coefficients (weights) with L1 regularization: 0.168 101.7136950313006\n",
      "[ 7.7743688 -0.       ]\n",
      "Coefficients (weights) with L1 regularization: 0.169 101.71371768733488\n",
      "[ 7.7733688 -0.       ]\n",
      "Coefficients (weights) with L1 regularization: 0.17 101.71374035308307\n",
      "[ 7.7723688 -0.       ]\n",
      "Coefficients (weights) with L1 regularization: 0.171 101.71376302854519\n",
      "[ 7.7713688 -0.       ]\n",
      "Coefficients (weights) with L1 regularization: 0.17200000000000001 101.71378571372124\n",
      "[ 7.7703688 -0.       ]\n",
      "Coefficients (weights) with L1 regularization: 0.17300000000000001 101.71380840861119\n",
      "[ 7.7693688 -0.       ]\n",
      "Coefficients (weights) with L1 regularization: 0.17400000000000002 101.71383111321505\n",
      "[ 7.7683688 -0.       ]\n",
      "Coefficients (weights) with L1 regularization: 0.17500000000000002 101.71385382753282\n",
      "[ 7.7673688 -0.       ]\n"
     ]
    },
    {
     "name": "stderr",
     "output_type": "stream",
     "text": [
      "C:\\Users\\user\\AppData\\Roaming\\Python\\Python312\\site-packages\\sklearn\\utils\\validation.py:2732: UserWarning:\n",
      "\n",
      "X has feature names, but Lasso was fitted without feature names\n",
      "\n",
      "C:\\Users\\user\\AppData\\Roaming\\Python\\Python312\\site-packages\\sklearn\\utils\\validation.py:2732: UserWarning:\n",
      "\n",
      "X has feature names, but Lasso was fitted without feature names\n",
      "\n",
      "C:\\Users\\user\\AppData\\Roaming\\Python\\Python312\\site-packages\\sklearn\\utils\\validation.py:2732: UserWarning:\n",
      "\n",
      "X has feature names, but Lasso was fitted without feature names\n",
      "\n",
      "C:\\Users\\user\\AppData\\Roaming\\Python\\Python312\\site-packages\\sklearn\\utils\\validation.py:2732: UserWarning:\n",
      "\n",
      "X has feature names, but Lasso was fitted without feature names\n",
      "\n",
      "C:\\Users\\user\\AppData\\Roaming\\Python\\Python312\\site-packages\\sklearn\\utils\\validation.py:2732: UserWarning:\n",
      "\n",
      "X has feature names, but Lasso was fitted without feature names\n",
      "\n",
      "C:\\Users\\user\\AppData\\Roaming\\Python\\Python312\\site-packages\\sklearn\\utils\\validation.py:2732: UserWarning:\n",
      "\n",
      "X has feature names, but Lasso was fitted without feature names\n",
      "\n",
      "C:\\Users\\user\\AppData\\Roaming\\Python\\Python312\\site-packages\\sklearn\\utils\\validation.py:2732: UserWarning:\n",
      "\n",
      "X has feature names, but Lasso was fitted without feature names\n",
      "\n",
      "C:\\Users\\user\\AppData\\Roaming\\Python\\Python312\\site-packages\\sklearn\\utils\\validation.py:2732: UserWarning:\n",
      "\n",
      "X has feature names, but Lasso was fitted without feature names\n",
      "\n",
      "C:\\Users\\user\\AppData\\Roaming\\Python\\Python312\\site-packages\\sklearn\\utils\\validation.py:2732: UserWarning:\n",
      "\n",
      "X has feature names, but Lasso was fitted without feature names\n",
      "\n",
      "C:\\Users\\user\\AppData\\Roaming\\Python\\Python312\\site-packages\\sklearn\\utils\\validation.py:2732: UserWarning:\n",
      "\n",
      "X has feature names, but Lasso was fitted without feature names\n",
      "\n",
      "C:\\Users\\user\\AppData\\Roaming\\Python\\Python312\\site-packages\\sklearn\\utils\\validation.py:2732: UserWarning:\n",
      "\n",
      "X has feature names, but Lasso was fitted without feature names\n",
      "\n"
     ]
    },
    {
     "name": "stdout",
     "output_type": "stream",
     "text": [
      "Coefficients (weights) with L1 regularization: 0.176 101.71387655156448\n",
      "[ 7.7663688 -0.       ]\n",
      "Coefficients (weights) with L1 regularization: 0.177 101.71389928531002\n",
      "[ 7.7653688 -0.       ]\n",
      "Coefficients (weights) with L1 regularization: 0.178 101.71392202876946\n",
      "[ 7.7643688 -0.       ]\n",
      "Coefficients (weights) with L1 regularization: 0.179 101.71394478194276\n",
      "[ 7.7633688 -0.       ]\n",
      "Coefficients (weights) with L1 regularization: 0.18 101.71396754482993\n",
      "[ 7.7623688 -0.       ]\n",
      "Coefficients (weights) with L1 regularization: 0.181 101.71399031743097\n",
      "[ 7.7613688 -0.       ]\n",
      "Coefficients (weights) with L1 regularization: 0.182 101.71401309974584\n",
      "[ 7.7603688 -0.       ]\n",
      "Coefficients (weights) with L1 regularization: 0.183 101.71403589177459\n",
      "[ 7.7593688 -0.       ]\n",
      "Coefficients (weights) with L1 regularization: 0.184 101.71405869351717\n",
      "[ 7.7583688 -0.       ]\n",
      "Coefficients (weights) with L1 regularization: 0.185 101.71408150497358\n",
      "[ 7.7573688 -0.       ]\n",
      "Coefficients (weights) with L1 regularization: 0.186 101.71410432614383\n",
      "[ 7.7563688 -0.       ]\n"
     ]
    },
    {
     "name": "stderr",
     "output_type": "stream",
     "text": [
      "C:\\Users\\user\\AppData\\Roaming\\Python\\Python312\\site-packages\\sklearn\\utils\\validation.py:2732: UserWarning:\n",
      "\n",
      "X has feature names, but Lasso was fitted without feature names\n",
      "\n",
      "C:\\Users\\user\\AppData\\Roaming\\Python\\Python312\\site-packages\\sklearn\\utils\\validation.py:2732: UserWarning:\n",
      "\n",
      "X has feature names, but Lasso was fitted without feature names\n",
      "\n",
      "C:\\Users\\user\\AppData\\Roaming\\Python\\Python312\\site-packages\\sklearn\\utils\\validation.py:2732: UserWarning:\n",
      "\n",
      "X has feature names, but Lasso was fitted without feature names\n",
      "\n",
      "C:\\Users\\user\\AppData\\Roaming\\Python\\Python312\\site-packages\\sklearn\\utils\\validation.py:2732: UserWarning:\n",
      "\n",
      "X has feature names, but Lasso was fitted without feature names\n",
      "\n",
      "C:\\Users\\user\\AppData\\Roaming\\Python\\Python312\\site-packages\\sklearn\\utils\\validation.py:2732: UserWarning:\n",
      "\n",
      "X has feature names, but Lasso was fitted without feature names\n",
      "\n",
      "C:\\Users\\user\\AppData\\Roaming\\Python\\Python312\\site-packages\\sklearn\\utils\\validation.py:2732: UserWarning:\n",
      "\n",
      "X has feature names, but Lasso was fitted without feature names\n",
      "\n",
      "C:\\Users\\user\\AppData\\Roaming\\Python\\Python312\\site-packages\\sklearn\\utils\\validation.py:2732: UserWarning:\n",
      "\n",
      "X has feature names, but Lasso was fitted without feature names\n",
      "\n",
      "C:\\Users\\user\\AppData\\Roaming\\Python\\Python312\\site-packages\\sklearn\\utils\\validation.py:2732: UserWarning:\n",
      "\n",
      "X has feature names, but Lasso was fitted without feature names\n",
      "\n",
      "C:\\Users\\user\\AppData\\Roaming\\Python\\Python312\\site-packages\\sklearn\\utils\\validation.py:2732: UserWarning:\n",
      "\n",
      "X has feature names, but Lasso was fitted without feature names\n",
      "\n",
      "C:\\Users\\user\\AppData\\Roaming\\Python\\Python312\\site-packages\\sklearn\\utils\\validation.py:2732: UserWarning:\n",
      "\n",
      "X has feature names, but Lasso was fitted without feature names\n",
      "\n"
     ]
    },
    {
     "name": "stdout",
     "output_type": "stream",
     "text": [
      "Coefficients (weights) with L1 regularization: 0.187 101.71412715702789\n",
      "[ 7.7553688 -0.       ]\n",
      "Coefficients (weights) with L1 regularization: 0.188 101.71414999762577\n",
      "[ 7.7543688 -0.       ]\n",
      "Coefficients (weights) with L1 regularization: 0.189 101.71417284793746\n",
      "[ 7.7533688 -0.       ]\n",
      "Coefficients (weights) with L1 regularization: 0.19 101.71419570796296\n",
      "[ 7.7523688 -0.       ]\n",
      "Coefficients (weights) with L1 regularization: 0.191 101.71421857770224\n",
      "[ 7.7513688 -0.       ]\n",
      "Coefficients (weights) with L1 regularization: 0.192 101.71424145715531\n",
      "[ 7.7503688 -0.       ]\n",
      "Coefficients (weights) with L1 regularization: 0.193 101.7142643463222\n",
      "[ 7.7493688 -0.       ]\n",
      "Coefficients (weights) with L1 regularization: 0.194 101.71428724520283\n",
      "[ 7.7483688 -0.       ]\n",
      "Coefficients (weights) with L1 regularization: 0.195 101.71431015379723\n",
      "[ 7.7473688 -0.       ]\n",
      "Coefficients (weights) with L1 regularization: 0.196 101.7143330721054\n",
      "[ 7.7463688 -0.       ]\n",
      "Coefficients (weights) with L1 regularization: 0.197 101.71435600012734\n",
      "[ 7.7453688 -0.       ]\n",
      "Coefficients (weights) with L1 regularization: 0.198 101.71437893786302\n",
      "[ 7.7443688 -0.       ]\n",
      "Coefficients (weights) with L1 regularization: 0.199 101.71440188531244\n",
      "[ 7.7433688 -0.       ]\n"
     ]
    },
    {
     "name": "stderr",
     "output_type": "stream",
     "text": [
      "C:\\Users\\user\\AppData\\Roaming\\Python\\Python312\\site-packages\\sklearn\\utils\\validation.py:2732: UserWarning:\n",
      "\n",
      "X has feature names, but Lasso was fitted without feature names\n",
      "\n",
      "C:\\Users\\user\\AppData\\Roaming\\Python\\Python312\\site-packages\\sklearn\\utils\\validation.py:2732: UserWarning:\n",
      "\n",
      "X has feature names, but Lasso was fitted without feature names\n",
      "\n",
      "C:\\Users\\user\\AppData\\Roaming\\Python\\Python312\\site-packages\\sklearn\\utils\\validation.py:2732: UserWarning:\n",
      "\n",
      "X has feature names, but Lasso was fitted without feature names\n",
      "\n"
     ]
    }
   ],
   "source": [
    "R_2_scores = []\n",
    "avg_coefficients = []\n",
    "mae_list = []\n",
    "mse_list = []\n",
    "rmse_list = []\n",
    "\n",
    "# Нормализация признаков для лучшей сходимости.\n",
    "scaler = StandardScaler()\n",
    "X_train_scaled = scaler.fit_transform(X_train)\n",
    "X_test_scaled = scaler.transform(X_test)\n",
    "\n",
    "for alpha in float_range:\n",
    "\n",
    "  if alpha == 0:\n",
    "    model = LinearRegression()\n",
    "  else:\n",
    "    model = Lasso(alpha=alpha, max_iter=1000)\n",
    "  # Обучение модели на обучающих данных.\n",
    "  model.fit(X_train_scaled, y_train)\n",
    "  y_pred_test = model.predict(X_test_scaled)\n",
    "  # Оценка качества модели на тестовых данных.\n",
    "  mae = mean_absolute_error(y_test, y_pred_test )\n",
    "  mae_list.append(mae)\n",
    "  mse = mean_squared_error(y_test, y_pred_test )\n",
    "  mse_list.append(mse)\n",
    "  rmse = root_mean_squared_error(y_test, y_pred_test )\n",
    "  rmse_list.append(rmse)\n",
    "  R_2_score = model.score(X_test, y_test)\n",
    "  R_2_scores.append(R_2_score)\n",
    "  # print(\"R^2 score on test data:\", R_2_score)\n",
    "\n",
    "  # Веса (коэффициенты) модели с L1-регуляризацией.\n",
    "  coefficients = model.coef_\n",
    "  avg_coefficient = np.mean(coefficients)\n",
    "  avg_coefficients.append(coefficients)\n",
    "  print(f\"Coefficients (weights) with L1 regularization: {alpha} {rmse}\")\n",
    "  print(coefficients)\n",
    "avg_coefficients = np.transpose(avg_coefficients)\n"
   ]
  },
  {
   "cell_type": "code",
   "execution_count": 32,
   "metadata": {
    "colab": {
     "base_uri": "https://localhost:8080/",
     "height": 542
    },
    "id": "0p6A-XfiqRtQ",
    "outputId": "ad119893-3a64-42e9-ef64-14f43716b560"
   },
   "outputs": [
    {
     "data": {
      "application/vnd.plotly.v1+json": {
       "config": {
        "plotlyServerURL": "https://plot.ly"
       },
       "data": [
        {
         "mode": "lines",
         "name": "feature1",
         "type": "scatter",
         "x": [
          0,
          0.001,
          0.002,
          0.003,
          0.004,
          0.005,
          0.006,
          0.007,
          0.008,
          0.009000000000000001,
          0.01,
          0.011,
          0.012,
          0.013000000000000001,
          0.014,
          0.015,
          0.016,
          0.017,
          0.018000000000000002,
          0.019,
          0.02,
          0.021,
          0.022,
          0.023,
          0.024,
          0.025,
          0.026000000000000002,
          0.027,
          0.028,
          0.029,
          0.03,
          0.031,
          0.032,
          0.033,
          0.034,
          0.035,
          0.036000000000000004,
          0.037,
          0.038,
          0.039,
          0.04,
          0.041,
          0.042,
          0.043000000000000003,
          0.044,
          0.045,
          0.046,
          0.047,
          0.048,
          0.049,
          0.05,
          0.051000000000000004,
          0.052000000000000005,
          0.053,
          0.054,
          0.055,
          0.056,
          0.057,
          0.058,
          0.059000000000000004,
          0.06,
          0.061,
          0.062,
          0.063,
          0.064,
          0.065,
          0.066,
          0.067,
          0.068,
          0.069,
          0.07,
          0.07100000000000001,
          0.07200000000000001,
          0.073,
          0.074,
          0.075,
          0.076,
          0.077,
          0.078,
          0.079,
          0.08,
          0.081,
          0.082,
          0.083,
          0.084,
          0.085,
          0.08600000000000001,
          0.08700000000000001,
          0.088,
          0.089,
          0.09,
          0.091,
          0.092,
          0.093,
          0.094,
          0.095,
          0.096,
          0.097,
          0.098,
          0.099,
          0.1,
          0.101,
          0.10200000000000001,
          0.10300000000000001,
          0.10400000000000001,
          0.105,
          0.106,
          0.107,
          0.108,
          0.109,
          0.11,
          0.111,
          0.112,
          0.113,
          0.114,
          0.115,
          0.116,
          0.117,
          0.11800000000000001,
          0.11900000000000001,
          0.12,
          0.121,
          0.122,
          0.123,
          0.124,
          0.125,
          0.126,
          0.127,
          0.128,
          0.129,
          0.13,
          0.131,
          0.132,
          0.133,
          0.134,
          0.135,
          0.136,
          0.137,
          0.138,
          0.139,
          0.14,
          0.14100000000000001,
          0.14200000000000002,
          0.14300000000000002,
          0.14400000000000002,
          0.145,
          0.146,
          0.147,
          0.148,
          0.149,
          0.15,
          0.151,
          0.152,
          0.153,
          0.154,
          0.155,
          0.156,
          0.157,
          0.158,
          0.159,
          0.16,
          0.161,
          0.162,
          0.163,
          0.164,
          0.165,
          0.166,
          0.167,
          0.168,
          0.169,
          0.17,
          0.171,
          0.17200000000000001,
          0.17300000000000001,
          0.17400000000000002,
          0.17500000000000002,
          0.176,
          0.177,
          0.178,
          0.179,
          0.18,
          0.181,
          0.182,
          0.183,
          0.184,
          0.185,
          0.186,
          0.187,
          0.188,
          0.189,
          0.19,
          0.191,
          0.192,
          0.193,
          0.194,
          0.195,
          0.196,
          0.197,
          0.198,
          0.199
         ],
         "y": [
          17.337095913113973,
          17.24119392248985,
          17.145300808635895,
          17.049389943825698,
          16.953494669121053,
          16.857599055164723,
          16.761711477075536,
          16.66579492459985,
          16.56987614717645,
          16.47398628035106,
          16.37801524665985,
          16.282114323337492,
          16.186320441180733,
          16.090297929879572,
          15.994402380602562,
          15.898457290793106,
          15.802690933777836,
          15.706653454059605,
          15.61081877238213,
          15.514953827927123,
          15.419057284935297,
          15.32312776236032,
          15.227163833658112,
          15.131494930408012,
          15.035474770886994,
          14.93941646710941,
          14.843694920432808,
          14.747574742702815,
          14.651819513765606,
          14.556052736152598,
          14.459843846042311,
          14.364041853832877,
          14.268228123459014,
          14.17240272234577,
          14.076565745573822,
          13.980717318139996,
          13.884857597361215,
          13.788455125897537,
          13.692559344264902,
          13.596652735305039,
          13.500735619516371,
          13.405397697586041,
          13.309475673298754,
          13.213544597902507,
          13.117604993950767,
          13.021657445916516,
          12.925702604561193,
          12.829741191566258,
          12.733774004440146,
          12.637801921717328,
          12.541825908464055,
          12.445847022109074,
          12.349866418615797,
          12.254647379047892,
          12.15868308727221,
          12.062721154371928,
          11.966763165852553,
          11.870810839608636,
          11.774866034394691,
          11.67893075878095,
          11.583007180618905,
          11.487097637045576,
          11.39120464505371,
          11.295330912659274,
          11.19947935069778,
          11.103653085282557,
          11.007855470960665,
          10.912090104602953,
          10.815386190376655,
          10.719687176803728,
          10.624033759152494,
          10.528430759328645,
          10.43288333037972,
          10.338410942712786,
          10.242995673481621,
          10.148651473964053,
          10.053387043053,
          9.959184593651836,
          9.864091557425274,
          9.769094920237542,
          9.674202759221918,
          9.57942366895384,
          9.484766791061572,
          9.390241845429092,
          9.294949429062063,
          9.200741156185497,
          9.105818990427862,
          9.011117836758682,
          8.91666532069364,
          8.82164047109823,
          8.726968242416437,
          8.631872088942373,
          8.53730218650019,
          8.442560646383436,
          8.347865265585405,
          8.252741101816369,
          8.157766060240668,
          8.063245320757563,
          7.968663562135565,
          7.8739573734595325,
          7.8423687951132575,
          7.841368795113256,
          7.840368795113258,
          7.839368795113257,
          7.838368795113259,
          7.837368795113258,
          7.836368795113256,
          7.835368795113258,
          7.8343687951132575,
          7.833368795113259,
          7.832368795113258,
          7.8313687951132565,
          7.830368795113258,
          7.829368795113258,
          7.828368795113257,
          7.827368795113258,
          7.826368795113257,
          7.825368795113258,
          7.824368795113258,
          7.8233687951132564,
          7.822368795113258,
          7.821368795113257,
          7.820368795113257,
          7.819368795113258,
          7.818368795113257,
          7.817368795113258,
          7.816368795113258,
          7.815368795113257,
          7.814368795113258,
          7.813368795113257,
          7.812368795113257,
          7.811368795113258,
          7.810368795113257,
          7.809368795113258,
          7.808368795113257,
          7.807368795113257,
          7.806368795113258,
          7.8053687951132575,
          7.804368795113257,
          7.803368795113258,
          7.802368795113257,
          7.801368795113258,
          7.800368795113258,
          7.799368795113257,
          7.798368795113257,
          7.7973687951132575,
          7.796368795113257,
          7.795368795113258,
          7.794368795113257,
          7.793368795113258,
          7.792368795113258,
          7.791368795113257,
          7.790368795113258,
          7.7893687951132575,
          7.788368795113259,
          7.787368795113258,
          7.786368795113257,
          7.785368795113256,
          7.784368795113258,
          7.783368795113257,
          7.782368795113258,
          7.7813687951132575,
          7.780368795113256,
          7.779368795113258,
          7.778368795113257,
          7.777368795113258,
          7.776368795113258,
          7.775368795113257,
          7.774368795113258,
          7.7733687951132575,
          7.772368795113257,
          7.771368795113258,
          7.7703687951132565,
          7.769368795113258,
          7.768368795113258,
          7.767368795113256,
          7.766368795113258,
          7.7653687951132575,
          7.764368795113257,
          7.763368795113258,
          7.762368795113257,
          7.761368795113259,
          7.760368795113257,
          7.759368795113257,
          7.758368795113258,
          7.757368795113257,
          7.756368795113257,
          7.755368795113258,
          7.754368795113257,
          7.753368795113258,
          7.752368795113257,
          7.751368795113257,
          7.750368795113258,
          7.7493687951132575,
          7.748368795113257,
          7.747368795113257,
          7.746368795113257,
          7.745368795113258,
          7.744368795113258,
          7.743368795113257
         ]
        },
        {
         "mode": "lines",
         "name": "feature_new",
         "type": "scatter",
         "x": [
          0,
          0.001,
          0.002,
          0.003,
          0.004,
          0.005,
          0.006,
          0.007,
          0.008,
          0.009000000000000001,
          0.01,
          0.011,
          0.012,
          0.013000000000000001,
          0.014,
          0.015,
          0.016,
          0.017,
          0.018000000000000002,
          0.019,
          0.02,
          0.021,
          0.022,
          0.023,
          0.024,
          0.025,
          0.026000000000000002,
          0.027,
          0.028,
          0.029,
          0.03,
          0.031,
          0.032,
          0.033,
          0.034,
          0.035,
          0.036000000000000004,
          0.037,
          0.038,
          0.039,
          0.04,
          0.041,
          0.042,
          0.043000000000000003,
          0.044,
          0.045,
          0.046,
          0.047,
          0.048,
          0.049,
          0.05,
          0.051000000000000004,
          0.052000000000000005,
          0.053,
          0.054,
          0.055,
          0.056,
          0.057,
          0.058,
          0.059000000000000004,
          0.06,
          0.061,
          0.062,
          0.063,
          0.064,
          0.065,
          0.066,
          0.067,
          0.068,
          0.069,
          0.07,
          0.07100000000000001,
          0.07200000000000001,
          0.073,
          0.074,
          0.075,
          0.076,
          0.077,
          0.078,
          0.079,
          0.08,
          0.081,
          0.082,
          0.083,
          0.084,
          0.085,
          0.08600000000000001,
          0.08700000000000001,
          0.088,
          0.089,
          0.09,
          0.091,
          0.092,
          0.093,
          0.094,
          0.095,
          0.096,
          0.097,
          0.098,
          0.099,
          0.1,
          0.101,
          0.10200000000000001,
          0.10300000000000001,
          0.10400000000000001,
          0.105,
          0.106,
          0.107,
          0.108,
          0.109,
          0.11,
          0.111,
          0.112,
          0.113,
          0.114,
          0.115,
          0.116,
          0.117,
          0.11800000000000001,
          0.11900000000000001,
          0.12,
          0.121,
          0.122,
          0.123,
          0.124,
          0.125,
          0.126,
          0.127,
          0.128,
          0.129,
          0.13,
          0.131,
          0.132,
          0.133,
          0.134,
          0.135,
          0.136,
          0.137,
          0.138,
          0.139,
          0.14,
          0.14100000000000001,
          0.14200000000000002,
          0.14300000000000002,
          0.14400000000000002,
          0.145,
          0.146,
          0.147,
          0.148,
          0.149,
          0.15,
          0.151,
          0.152,
          0.153,
          0.154,
          0.155,
          0.156,
          0.157,
          0.158,
          0.159,
          0.16,
          0.161,
          0.162,
          0.163,
          0.164,
          0.165,
          0.166,
          0.167,
          0.168,
          0.169,
          0.17,
          0.171,
          0.17200000000000001,
          0.17300000000000001,
          0.17400000000000002,
          0.17500000000000002,
          0.176,
          0.177,
          0.178,
          0.179,
          0.18,
          0.181,
          0.182,
          0.183,
          0.184,
          0.185,
          0.186,
          0.187,
          0.188,
          0.189,
          0.19,
          0.191,
          0.192,
          0.193,
          0.194,
          0.195,
          0.196,
          0.197,
          0.198,
          0.199
         ],
         "y": [
          -9.494436086926346,
          -9.39854124285789,
          -9.302655182337269,
          -9.206751557277952,
          -9.110863358599532,
          -9.014974824232183,
          -8.91909424134066,
          -8.823184988346767,
          -8.727273533771186,
          -8.631390686179378,
          -8.535427524122511,
          -8.439533736147201,
          -8.343745865209204,
          -8.247731766151576,
          -8.151843295784301,
          -8.055905805150907,
          -7.960145170289999,
          -7.864116260011093,
          -7.76828801802207,
          -7.672429831070113,
          -7.576540377423845,
          -7.480618290540456,
          -7.384662158857194,
          -7.2889979543184165,
          -7.192986182342937,
          -7.0969366666954405,
          -7.0012203715825665,
          -6.905109631772496,
          -6.809360008124441,
          -6.713598957082837,
          -6.617400436534951,
          -6.5216045407146845,
          -6.425797030002212,
          -6.3299779711145,
          -6.2341474581337035,
          -6.138305614743948,
          -6.042452596610049,
          -5.946062527667543,
          -5.850173827384802,
          -5.754274413481598,
          -5.65836460309054,
          -5.5630279039614505,
          -5.467113236620005,
          -5.3711896132228105,
          -5.27525755083558,
          -5.179317627793251,
          -5.083370488023092,
          -4.9874168456275605,
          -4.891457489739813,
          -4.795493289668089,
          -4.699525200343681,
          -4.6035542680903925,
          -4.5075816367319055,
          -4.412362571482697,
          -4.316406080538895,
          -4.220451923697978,
          -4.124501669814748,
          -4.028557018742711,
          -3.9326198097160536,
          -3.8366920302113474,
          -3.740775825313665,
          -3.644873507615814,
          -3.5489875676775022,
          -3.4531206850755773,
          -3.357275740076436,
          -3.2614558259635005,
          -3.1656642620549347,
          -3.0699046074478638,
          -2.973216261443871,
          -2.8775222627958073,
          -2.7818733812287504,
          -2.6862743880095454,
          -2.590730382069291,
          -2.4962501275085223,
          -2.4008368933669297,
          -2.3064834807451695,
          -2.21121950084505,
          -2.1170063497038427,
          -2.0219119645301036,
          -1.926912966028721,
          -1.8320173465082823,
          -1.7372336102854358,
          -1.642570802984612,
          -1.5480385424132037,
          -1.4527468709556548,
          -1.358527957496204,
          -1.263602648338498,
          -1.1688960302375155,
          -1.074435438590424,
          -0.9794085239633171,
          -0.8847305270843729,
          -0.7896330573999402,
          -0.6950563121476698,
          -0.6003097317307844,
          -0.5056088258752302,
          -0.4104836400552256,
          -0.3155060103723914,
          -0.22097791177808446,
          -0.12638943485760457,
          -0.03167783462656117,
          0,
          0,
          0,
          0,
          0,
          0,
          0,
          0,
          0,
          0,
          0,
          0,
          0,
          0,
          0,
          0,
          0,
          0,
          0,
          0,
          0,
          0,
          0,
          0,
          0,
          0,
          0,
          0,
          0,
          0,
          0,
          0,
          0,
          0,
          0,
          0,
          0,
          0,
          0,
          0,
          0,
          0,
          0,
          0,
          0,
          0,
          0,
          0,
          0,
          0,
          0,
          0,
          0,
          0,
          0,
          0,
          0,
          0,
          0,
          0,
          0,
          0,
          0,
          0,
          0,
          0,
          0,
          0,
          0,
          0,
          0,
          0,
          0,
          0,
          0,
          0,
          0,
          0,
          0,
          0,
          0,
          0,
          0,
          0,
          0,
          0,
          0,
          0,
          0,
          0,
          0,
          0,
          0,
          0,
          0,
          0,
          0,
          0,
          0,
          0
         ]
        },
        {
         "mode": "lines",
         "name": "rmse",
         "type": "scatter",
         "x": [
          0,
          0.001,
          0.002,
          0.003,
          0.004,
          0.005,
          0.006,
          0.007,
          0.008,
          0.009000000000000001,
          0.01,
          0.011,
          0.012,
          0.013000000000000001,
          0.014,
          0.015,
          0.016,
          0.017,
          0.018000000000000002,
          0.019,
          0.02,
          0.021,
          0.022,
          0.023,
          0.024,
          0.025,
          0.026000000000000002,
          0.027,
          0.028,
          0.029,
          0.03,
          0.031,
          0.032,
          0.033,
          0.034,
          0.035,
          0.036000000000000004,
          0.037,
          0.038,
          0.039,
          0.04,
          0.041,
          0.042,
          0.043000000000000003,
          0.044,
          0.045,
          0.046,
          0.047,
          0.048,
          0.049,
          0.05,
          0.051000000000000004,
          0.052000000000000005,
          0.053,
          0.054,
          0.055,
          0.056,
          0.057,
          0.058,
          0.059000000000000004,
          0.06,
          0.061,
          0.062,
          0.063,
          0.064,
          0.065,
          0.066,
          0.067,
          0.068,
          0.069,
          0.07,
          0.07100000000000001,
          0.07200000000000001,
          0.073,
          0.074,
          0.075,
          0.076,
          0.077,
          0.078,
          0.079,
          0.08,
          0.081,
          0.082,
          0.083,
          0.084,
          0.085,
          0.08600000000000001,
          0.08700000000000001,
          0.088,
          0.089,
          0.09,
          0.091,
          0.092,
          0.093,
          0.094,
          0.095,
          0.096,
          0.097,
          0.098,
          0.099,
          0.1,
          0.101,
          0.10200000000000001,
          0.10300000000000001,
          0.10400000000000001,
          0.105,
          0.106,
          0.107,
          0.108,
          0.109,
          0.11,
          0.111,
          0.112,
          0.113,
          0.114,
          0.115,
          0.116,
          0.117,
          0.11800000000000001,
          0.11900000000000001,
          0.12,
          0.121,
          0.122,
          0.123,
          0.124,
          0.125,
          0.126,
          0.127,
          0.128,
          0.129,
          0.13,
          0.131,
          0.132,
          0.133,
          0.134,
          0.135,
          0.136,
          0.137,
          0.138,
          0.139,
          0.14,
          0.14100000000000001,
          0.14200000000000002,
          0.14300000000000002,
          0.14400000000000002,
          0.145,
          0.146,
          0.147,
          0.148,
          0.149,
          0.15,
          0.151,
          0.152,
          0.153,
          0.154,
          0.155,
          0.156,
          0.157,
          0.158,
          0.159,
          0.16,
          0.161,
          0.162,
          0.163,
          0.164,
          0.165,
          0.166,
          0.167,
          0.168,
          0.169,
          0.17,
          0.171,
          0.17200000000000001,
          0.17300000000000001,
          0.17400000000000002,
          0.17500000000000002,
          0.176,
          0.177,
          0.178,
          0.179,
          0.18,
          0.181,
          0.182,
          0.183,
          0.184,
          0.185,
          0.186,
          0.187,
          0.188,
          0.189,
          0.19,
          0.191,
          0.192,
          0.193,
          0.194,
          0.195,
          0.196,
          0.197,
          0.198,
          0.199
         ],
         "y": [
          101.74869315415332,
          101.74823263784599,
          101.74777403391558,
          101.74731722257421,
          101.74686235360701,
          101.7464093553837,
          101.74595826498404,
          101.74550891902254,
          101.74506143645884,
          101.74461595331853,
          101.74417198971523,
          101.74373020468234,
          101.74329075318062,
          101.74285219021625,
          101.74241604639643,
          101.74198156465803,
          101.74154971308175,
          101.74111858795675,
          101.74069019051223,
          101.74026353711442,
          101.7398386240022,
          101.73941544733137,
          101.73899400317839,
          101.73857564175131,
          101.73815771356126,
          101.73774150832443,
          101.73732854073545,
          101.7369158387278,
          101.73650647639184,
          101.73609893553252,
          101.73569151321747,
          101.73528757802094,
          101.73488546610906,
          101.73448517844908,
          101.73408671611026,
          101.73369008027001,
          101.73329527222013,
          101.7329002619461,
          101.73250907059365,
          101.73211971135343,
          101.73173218608287,
          101.73134870291116,
          101.73096489601481,
          101.73058292975303,
          101.73020280659945,
          101.72982452921407,
          101.72944810045321,
          101.72907352337984,
          101.72870080127441,
          101.72832993764612,
          101.72796093624471,
          101.72759380107276,
          101.72722853639843,
          101.72686782198355,
          101.72650635278856,
          101.72614676783627,
          101.72578907248327,
          101.72543327241743,
          101.7250793736741,
          101.72472738265277,
          101.72437730613453,
          101.72402915130023,
          101.7236829257494,
          101.72333863751992,
          101.72299629510844,
          101.72265590749171,
          101.7223174841487,
          101.72198103508372,
          101.72164343270728,
          101.72131095136736,
          101.72098048112196,
          101.72065203458772,
          101.72032562505007,
          101.72000443319477,
          101.71968213359573,
          101.71936499309227,
          101.71904684558697,
          101.71873378265752,
          101.71841983233844,
          101.71810801481536,
          101.71779834868873,
          101.71749085348148,
          101.7171855496786,
          101.71688245876838,
          101.71657895396675,
          101.71628043612228,
          101.71598167567475,
          101.71568538253128,
          101.71539162233866,
          101.7150980686545,
          101.71480734169008,
          101.71451726393292,
          101.71423048113708,
          101.71394505109197,
          101.71366157619268,
          101.71337877084342,
          101.7130982097407,
          101.7128206969589,
          101.71254484403188,
          101.71227048804852,
          101.71217721021077,
          101.7121992056825,
          101.71222121086859,
          101.71224322576903,
          101.71226525038384,
          101.712287284713,
          101.7123093287565,
          101.71233138251435,
          101.71235344598651,
          101.712375519173,
          101.7123976020738,
          101.71241969468893,
          101.71244179701836,
          101.71246390906208,
          101.7124860308201,
          101.71250816229241,
          101.71253030347899,
          101.71255245437985,
          101.71257461499496,
          101.71259678532437,
          101.712618965368,
          101.71264115512588,
          101.712663354598,
          101.71268556378438,
          101.71270778268497,
          101.71273001129978,
          101.71275224962882,
          101.71277449767206,
          101.71279675542951,
          101.71281902290113,
          101.71284130008696,
          101.71286358698698,
          101.71288588360119,
          101.71290818992955,
          101.7129305059721,
          101.71295283172877,
          101.71297516719963,
          101.7129975123846,
          101.71301986728373,
          101.71304223189699,
          101.71306460622438,
          101.7130869902659,
          101.71310938402151,
          101.71313178749124,
          101.71315420067508,
          101.713176623573,
          101.71319905618502,
          101.71322149851112,
          101.71324395055127,
          101.71326641230553,
          101.71328888377383,
          101.71331136495618,
          101.7133338558526,
          101.71335635646304,
          101.71337886678754,
          101.71340138682605,
          101.71342391657859,
          101.71344645604515,
          101.71346900522572,
          101.7134915641203,
          101.71351413272887,
          101.71353671105143,
          101.71355929908799,
          101.71358189683852,
          101.713604504303,
          101.71362712148148,
          101.7136497483739,
          101.71367238498027,
          101.7136950313006,
          101.71371768733488,
          101.71374035308307,
          101.71376302854519,
          101.71378571372124,
          101.71380840861119,
          101.71383111321505,
          101.71385382753282,
          101.71387655156448,
          101.71389928531002,
          101.71392202876946,
          101.71394478194276,
          101.71396754482993,
          101.71399031743097,
          101.71401309974584,
          101.71403589177459,
          101.71405869351717,
          101.71408150497358,
          101.71410432614383,
          101.71412715702789,
          101.71414999762577,
          101.71417284793746,
          101.71419570796296,
          101.71421857770224,
          101.71424145715531,
          101.7142643463222,
          101.71428724520283,
          101.71431015379723,
          101.7143330721054,
          101.71435600012734,
          101.71437893786302,
          101.71440188531244
         ]
        }
       ],
       "layout": {
        "template": {
         "data": {
          "bar": [
           {
            "error_x": {
             "color": "#2a3f5f"
            },
            "error_y": {
             "color": "#2a3f5f"
            },
            "marker": {
             "line": {
              "color": "#E5ECF6",
              "width": 0.5
             },
             "pattern": {
              "fillmode": "overlay",
              "size": 10,
              "solidity": 0.2
             }
            },
            "type": "bar"
           }
          ],
          "barpolar": [
           {
            "marker": {
             "line": {
              "color": "#E5ECF6",
              "width": 0.5
             },
             "pattern": {
              "fillmode": "overlay",
              "size": 10,
              "solidity": 0.2
             }
            },
            "type": "barpolar"
           }
          ],
          "carpet": [
           {
            "aaxis": {
             "endlinecolor": "#2a3f5f",
             "gridcolor": "white",
             "linecolor": "white",
             "minorgridcolor": "white",
             "startlinecolor": "#2a3f5f"
            },
            "baxis": {
             "endlinecolor": "#2a3f5f",
             "gridcolor": "white",
             "linecolor": "white",
             "minorgridcolor": "white",
             "startlinecolor": "#2a3f5f"
            },
            "type": "carpet"
           }
          ],
          "choropleth": [
           {
            "colorbar": {
             "outlinewidth": 0,
             "ticks": ""
            },
            "type": "choropleth"
           }
          ],
          "contour": [
           {
            "colorbar": {
             "outlinewidth": 0,
             "ticks": ""
            },
            "colorscale": [
             [
              0,
              "#0d0887"
             ],
             [
              0.1111111111111111,
              "#46039f"
             ],
             [
              0.2222222222222222,
              "#7201a8"
             ],
             [
              0.3333333333333333,
              "#9c179e"
             ],
             [
              0.4444444444444444,
              "#bd3786"
             ],
             [
              0.5555555555555556,
              "#d8576b"
             ],
             [
              0.6666666666666666,
              "#ed7953"
             ],
             [
              0.7777777777777778,
              "#fb9f3a"
             ],
             [
              0.8888888888888888,
              "#fdca26"
             ],
             [
              1,
              "#f0f921"
             ]
            ],
            "type": "contour"
           }
          ],
          "contourcarpet": [
           {
            "colorbar": {
             "outlinewidth": 0,
             "ticks": ""
            },
            "type": "contourcarpet"
           }
          ],
          "heatmap": [
           {
            "colorbar": {
             "outlinewidth": 0,
             "ticks": ""
            },
            "colorscale": [
             [
              0,
              "#0d0887"
             ],
             [
              0.1111111111111111,
              "#46039f"
             ],
             [
              0.2222222222222222,
              "#7201a8"
             ],
             [
              0.3333333333333333,
              "#9c179e"
             ],
             [
              0.4444444444444444,
              "#bd3786"
             ],
             [
              0.5555555555555556,
              "#d8576b"
             ],
             [
              0.6666666666666666,
              "#ed7953"
             ],
             [
              0.7777777777777778,
              "#fb9f3a"
             ],
             [
              0.8888888888888888,
              "#fdca26"
             ],
             [
              1,
              "#f0f921"
             ]
            ],
            "type": "heatmap"
           }
          ],
          "heatmapgl": [
           {
            "colorbar": {
             "outlinewidth": 0,
             "ticks": ""
            },
            "colorscale": [
             [
              0,
              "#0d0887"
             ],
             [
              0.1111111111111111,
              "#46039f"
             ],
             [
              0.2222222222222222,
              "#7201a8"
             ],
             [
              0.3333333333333333,
              "#9c179e"
             ],
             [
              0.4444444444444444,
              "#bd3786"
             ],
             [
              0.5555555555555556,
              "#d8576b"
             ],
             [
              0.6666666666666666,
              "#ed7953"
             ],
             [
              0.7777777777777778,
              "#fb9f3a"
             ],
             [
              0.8888888888888888,
              "#fdca26"
             ],
             [
              1,
              "#f0f921"
             ]
            ],
            "type": "heatmapgl"
           }
          ],
          "histogram": [
           {
            "marker": {
             "pattern": {
              "fillmode": "overlay",
              "size": 10,
              "solidity": 0.2
             }
            },
            "type": "histogram"
           }
          ],
          "histogram2d": [
           {
            "colorbar": {
             "outlinewidth": 0,
             "ticks": ""
            },
            "colorscale": [
             [
              0,
              "#0d0887"
             ],
             [
              0.1111111111111111,
              "#46039f"
             ],
             [
              0.2222222222222222,
              "#7201a8"
             ],
             [
              0.3333333333333333,
              "#9c179e"
             ],
             [
              0.4444444444444444,
              "#bd3786"
             ],
             [
              0.5555555555555556,
              "#d8576b"
             ],
             [
              0.6666666666666666,
              "#ed7953"
             ],
             [
              0.7777777777777778,
              "#fb9f3a"
             ],
             [
              0.8888888888888888,
              "#fdca26"
             ],
             [
              1,
              "#f0f921"
             ]
            ],
            "type": "histogram2d"
           }
          ],
          "histogram2dcontour": [
           {
            "colorbar": {
             "outlinewidth": 0,
             "ticks": ""
            },
            "colorscale": [
             [
              0,
              "#0d0887"
             ],
             [
              0.1111111111111111,
              "#46039f"
             ],
             [
              0.2222222222222222,
              "#7201a8"
             ],
             [
              0.3333333333333333,
              "#9c179e"
             ],
             [
              0.4444444444444444,
              "#bd3786"
             ],
             [
              0.5555555555555556,
              "#d8576b"
             ],
             [
              0.6666666666666666,
              "#ed7953"
             ],
             [
              0.7777777777777778,
              "#fb9f3a"
             ],
             [
              0.8888888888888888,
              "#fdca26"
             ],
             [
              1,
              "#f0f921"
             ]
            ],
            "type": "histogram2dcontour"
           }
          ],
          "mesh3d": [
           {
            "colorbar": {
             "outlinewidth": 0,
             "ticks": ""
            },
            "type": "mesh3d"
           }
          ],
          "parcoords": [
           {
            "line": {
             "colorbar": {
              "outlinewidth": 0,
              "ticks": ""
             }
            },
            "type": "parcoords"
           }
          ],
          "pie": [
           {
            "automargin": true,
            "type": "pie"
           }
          ],
          "scatter": [
           {
            "fillpattern": {
             "fillmode": "overlay",
             "size": 10,
             "solidity": 0.2
            },
            "type": "scatter"
           }
          ],
          "scatter3d": [
           {
            "line": {
             "colorbar": {
              "outlinewidth": 0,
              "ticks": ""
             }
            },
            "marker": {
             "colorbar": {
              "outlinewidth": 0,
              "ticks": ""
             }
            },
            "type": "scatter3d"
           }
          ],
          "scattercarpet": [
           {
            "marker": {
             "colorbar": {
              "outlinewidth": 0,
              "ticks": ""
             }
            },
            "type": "scattercarpet"
           }
          ],
          "scattergeo": [
           {
            "marker": {
             "colorbar": {
              "outlinewidth": 0,
              "ticks": ""
             }
            },
            "type": "scattergeo"
           }
          ],
          "scattergl": [
           {
            "marker": {
             "colorbar": {
              "outlinewidth": 0,
              "ticks": ""
             }
            },
            "type": "scattergl"
           }
          ],
          "scattermapbox": [
           {
            "marker": {
             "colorbar": {
              "outlinewidth": 0,
              "ticks": ""
             }
            },
            "type": "scattermapbox"
           }
          ],
          "scatterpolar": [
           {
            "marker": {
             "colorbar": {
              "outlinewidth": 0,
              "ticks": ""
             }
            },
            "type": "scatterpolar"
           }
          ],
          "scatterpolargl": [
           {
            "marker": {
             "colorbar": {
              "outlinewidth": 0,
              "ticks": ""
             }
            },
            "type": "scatterpolargl"
           }
          ],
          "scatterternary": [
           {
            "marker": {
             "colorbar": {
              "outlinewidth": 0,
              "ticks": ""
             }
            },
            "type": "scatterternary"
           }
          ],
          "surface": [
           {
            "colorbar": {
             "outlinewidth": 0,
             "ticks": ""
            },
            "colorscale": [
             [
              0,
              "#0d0887"
             ],
             [
              0.1111111111111111,
              "#46039f"
             ],
             [
              0.2222222222222222,
              "#7201a8"
             ],
             [
              0.3333333333333333,
              "#9c179e"
             ],
             [
              0.4444444444444444,
              "#bd3786"
             ],
             [
              0.5555555555555556,
              "#d8576b"
             ],
             [
              0.6666666666666666,
              "#ed7953"
             ],
             [
              0.7777777777777778,
              "#fb9f3a"
             ],
             [
              0.8888888888888888,
              "#fdca26"
             ],
             [
              1,
              "#f0f921"
             ]
            ],
            "type": "surface"
           }
          ],
          "table": [
           {
            "cells": {
             "fill": {
              "color": "#EBF0F8"
             },
             "line": {
              "color": "white"
             }
            },
            "header": {
             "fill": {
              "color": "#C8D4E3"
             },
             "line": {
              "color": "white"
             }
            },
            "type": "table"
           }
          ]
         },
         "layout": {
          "annotationdefaults": {
           "arrowcolor": "#2a3f5f",
           "arrowhead": 0,
           "arrowwidth": 1
          },
          "autotypenumbers": "strict",
          "coloraxis": {
           "colorbar": {
            "outlinewidth": 0,
            "ticks": ""
           }
          },
          "colorscale": {
           "diverging": [
            [
             0,
             "#8e0152"
            ],
            [
             0.1,
             "#c51b7d"
            ],
            [
             0.2,
             "#de77ae"
            ],
            [
             0.3,
             "#f1b6da"
            ],
            [
             0.4,
             "#fde0ef"
            ],
            [
             0.5,
             "#f7f7f7"
            ],
            [
             0.6,
             "#e6f5d0"
            ],
            [
             0.7,
             "#b8e186"
            ],
            [
             0.8,
             "#7fbc41"
            ],
            [
             0.9,
             "#4d9221"
            ],
            [
             1,
             "#276419"
            ]
           ],
           "sequential": [
            [
             0,
             "#0d0887"
            ],
            [
             0.1111111111111111,
             "#46039f"
            ],
            [
             0.2222222222222222,
             "#7201a8"
            ],
            [
             0.3333333333333333,
             "#9c179e"
            ],
            [
             0.4444444444444444,
             "#bd3786"
            ],
            [
             0.5555555555555556,
             "#d8576b"
            ],
            [
             0.6666666666666666,
             "#ed7953"
            ],
            [
             0.7777777777777778,
             "#fb9f3a"
            ],
            [
             0.8888888888888888,
             "#fdca26"
            ],
            [
             1,
             "#f0f921"
            ]
           ],
           "sequentialminus": [
            [
             0,
             "#0d0887"
            ],
            [
             0.1111111111111111,
             "#46039f"
            ],
            [
             0.2222222222222222,
             "#7201a8"
            ],
            [
             0.3333333333333333,
             "#9c179e"
            ],
            [
             0.4444444444444444,
             "#bd3786"
            ],
            [
             0.5555555555555556,
             "#d8576b"
            ],
            [
             0.6666666666666666,
             "#ed7953"
            ],
            [
             0.7777777777777778,
             "#fb9f3a"
            ],
            [
             0.8888888888888888,
             "#fdca26"
            ],
            [
             1,
             "#f0f921"
            ]
           ]
          },
          "colorway": [
           "#636efa",
           "#EF553B",
           "#00cc96",
           "#ab63fa",
           "#FFA15A",
           "#19d3f3",
           "#FF6692",
           "#B6E880",
           "#FF97FF",
           "#FECB52"
          ],
          "font": {
           "color": "#2a3f5f"
          },
          "geo": {
           "bgcolor": "white",
           "lakecolor": "white",
           "landcolor": "#E5ECF6",
           "showlakes": true,
           "showland": true,
           "subunitcolor": "white"
          },
          "hoverlabel": {
           "align": "left"
          },
          "hovermode": "closest",
          "mapbox": {
           "style": "light"
          },
          "paper_bgcolor": "white",
          "plot_bgcolor": "#E5ECF6",
          "polar": {
           "angularaxis": {
            "gridcolor": "white",
            "linecolor": "white",
            "ticks": ""
           },
           "bgcolor": "#E5ECF6",
           "radialaxis": {
            "gridcolor": "white",
            "linecolor": "white",
            "ticks": ""
           }
          },
          "scene": {
           "xaxis": {
            "backgroundcolor": "#E5ECF6",
            "gridcolor": "white",
            "gridwidth": 2,
            "linecolor": "white",
            "showbackground": true,
            "ticks": "",
            "zerolinecolor": "white"
           },
           "yaxis": {
            "backgroundcolor": "#E5ECF6",
            "gridcolor": "white",
            "gridwidth": 2,
            "linecolor": "white",
            "showbackground": true,
            "ticks": "",
            "zerolinecolor": "white"
           },
           "zaxis": {
            "backgroundcolor": "#E5ECF6",
            "gridcolor": "white",
            "gridwidth": 2,
            "linecolor": "white",
            "showbackground": true,
            "ticks": "",
            "zerolinecolor": "white"
           }
          },
          "shapedefaults": {
           "line": {
            "color": "#2a3f5f"
           }
          },
          "ternary": {
           "aaxis": {
            "gridcolor": "white",
            "linecolor": "white",
            "ticks": ""
           },
           "baxis": {
            "gridcolor": "white",
            "linecolor": "white",
            "ticks": ""
           },
           "bgcolor": "#E5ECF6",
           "caxis": {
            "gridcolor": "white",
            "linecolor": "white",
            "ticks": ""
           }
          },
          "title": {
           "x": 0.05
          },
          "xaxis": {
           "automargin": true,
           "gridcolor": "white",
           "linecolor": "white",
           "ticks": "",
           "title": {
            "standoff": 15
           },
           "zerolinecolor": "white",
           "zerolinewidth": 2
          },
          "yaxis": {
           "automargin": true,
           "gridcolor": "white",
           "linecolor": "white",
           "ticks": "",
           "title": {
            "standoff": 15
           },
           "zerolinecolor": "white",
           "zerolinewidth": 2
          }
         }
        }
       }
      }
     },
     "metadata": {},
     "output_type": "display_data"
    }
   ],
   "source": [
    "x = float_range\n",
    "y = avg_coefficients\n",
    "selected_y = y[0]\n",
    "# Create traces\n",
    "fig = go.Figure()\n",
    "for i, feature in enumerate(features):\n",
    "# for i in range(10):\n",
    "  selected_y = y[i]\n",
    "  fig.add_trace(go.Scatter(x=x, y=selected_y,\n",
    "                mode='lines',\n",
    "                name=feature))\n",
    "fig.add_trace(go.Scatter(x=x, y=rmse_list,\n",
    "                mode='lines',\n",
    "                name='rmse'))\n",
    "fig.show()\n",
    "# график интерактивный (нажмите мышкой на feature_new, feature1, mse)"
   ]
  },
  {
   "cell_type": "markdown",
   "metadata": {
    "id": "YXqhDWn4wrnp"
   },
   "source": [
    "По графику видно, что оптимальным коэффициентом регуляризации является значение 0.1, где достигается наименьшая ошибка"
   ]
  },
  {
   "cell_type": "markdown",
   "metadata": {
    "id": "JlpmI42QrCeU"
   },
   "source": [
    "# Сравним как работает линейная регрессия и регрессии с регуляризацией для оптимального значения параметра регуляризации"
   ]
  },
  {
   "cell_type": "code",
   "execution_count": 65,
   "metadata": {
    "id": "tos9phQrH7uS"
   },
   "outputs": [],
   "source": [
    "# построим линейную регрессию\n",
    "model = LinearRegression()\n",
    "model.fit(X_train_scaled, y_train)\n",
    "y_pred_test = model.predict(X_test_scaled)\n",
    "y_pred_train = model.predict(X_train_scaled)\n",
    "\n",
    "mse_test = mean_squared_error(y_test, y_pred_test )\n",
    "rmse_test = root_mean_squared_error(y_test, y_pred_test )\n",
    "\n",
    "mse_train = mean_squared_error(y_train, y_pred_train )\n",
    "rmse_train = root_mean_squared_error(y_train, y_pred_train )\n",
    "\n",
    "coefficients = model.coef_"
   ]
  },
  {
   "cell_type": "code",
   "execution_count": 38,
   "metadata": {
    "colab": {
     "base_uri": "https://localhost:8080/"
    },
    "id": "webjRfvTfpuW",
    "outputId": "9627d012-537d-4aa8-c57f-48f642512b71"
   },
   "outputs": [
    {
     "data": {
      "text/plain": [
       "-1.2639155750313074"
      ]
     },
     "execution_count": 38,
     "metadata": {},
     "output_type": "execute_result"
    }
   ],
   "source": [
    "model.intercept_"
   ]
  },
  {
   "cell_type": "code",
   "execution_count": 39,
   "metadata": {
    "colab": {
     "base_uri": "https://localhost:8080/"
    },
    "id": "nxYmGqy_IBhy",
    "outputId": "396b0961-6703-4a4a-c764-bbaee2fcebf2"
   },
   "outputs": [
    {
     "data": {
      "text/plain": [
       "(10352.796558578046, 9869.831044131315)"
      ]
     },
     "execution_count": 39,
     "metadata": {},
     "output_type": "execute_result"
    }
   ],
   "source": [
    "mse_test, mse_train"
   ]
  },
  {
   "cell_type": "code",
   "execution_count": 40,
   "metadata": {},
   "outputs": [
    {
     "data": {
      "text/plain": [
       "(101.74869315415332, 99.3470233279856)"
      ]
     },
     "execution_count": 40,
     "metadata": {},
     "output_type": "execute_result"
    }
   ],
   "source": [
    "rmse_test, rmse_train"
   ]
  },
  {
   "cell_type": "code",
   "execution_count": 41,
   "metadata": {
    "colab": {
     "base_uri": "https://localhost:8080/"
    },
    "id": "3Qm_Vro1IEZc",
    "outputId": "6bea4de3-8170-450c-8a23-41610f3d6a9f"
   },
   "outputs": [
    {
     "data": {
      "text/plain": [
       "array([17.33709591, -9.49443609])"
      ]
     },
     "execution_count": 41,
     "metadata": {},
     "output_type": "execute_result"
    }
   ],
   "source": [
    "coefficients"
   ]
  },
  {
   "cell_type": "markdown",
   "metadata": {
    "id": "Cpip6OIarOxv"
   },
   "source": [
    "мы получили модель y = -1.2639155750313078 + 17.33709591 * feature1 - 9.49443609 * feature_new\n",
    "\n",
    "В данных наблюдается мультиколлинеарность, возможно по этой причине коэффициенты слишком высокие\n",
    "\n",
    "\n",
    "Проведем регуляризацию L1 и L2\n",
    "\n",
    "\n",
    "\n",
    "\n"
   ]
  },
  {
   "cell_type": "code",
   "execution_count": 66,
   "metadata": {},
   "outputs": [],
   "source": [
    "# построим регрессию Лассо с оптимальным параметром регуляризации, который мы подобрали перебором\n",
    "model_reg_lasso = Lasso(alpha=0.1, max_iter=1000) # alpha — величина регуляризации"
   ]
  },
  {
   "cell_type": "code",
   "execution_count": 67,
   "metadata": {
    "id": "At2ahwkpHGHj"
   },
   "outputs": [],
   "source": [
    "# обучение\n",
    "model_reg_lasso.fit(X_train_scaled, y_train)\n",
    "y_pred_test_lasso = model_reg_lasso.predict(X_test_scaled)\n",
    "y_pred_train_lasso = model_reg_lasso.predict(X_train_scaled)\n",
    "\n",
    "mse_test_lasso = mean_squared_error(y_test, y_pred_test )\n",
    "rmse_test_lasso = root_mean_squared_error(y_test, y_pred_test )\n",
    "\n",
    "mse_train_lasso = mean_squared_error(y_train, y_pred_train )\n",
    "rmse_train_lasso = root_mean_squared_error(y_train, y_pred_train )\n",
    "\n",
    "coefficients_lasso = model_reg_lasso.coef_"
   ]
  },
  {
   "cell_type": "code",
   "execution_count": 68,
   "metadata": {
    "colab": {
     "base_uri": "https://localhost:8080/"
    },
    "id": "gRRZpZBtHz-k",
    "outputId": "bd766f3a-a852-4511-d9f4-b89590eb3c04"
   },
   "outputs": [
    {
     "data": {
      "text/plain": [
       "(10352.796558578046, 9869.831044131315)"
      ]
     },
     "execution_count": 68,
     "metadata": {},
     "output_type": "execute_result"
    }
   ],
   "source": [
    "mse_test_lasso, mse_train_lasso"
   ]
  },
  {
   "cell_type": "code",
   "execution_count": 69,
   "metadata": {},
   "outputs": [
    {
     "data": {
      "text/plain": [
       "(101.74869315415332, 99.3470233279856)"
      ]
     },
     "execution_count": 69,
     "metadata": {},
     "output_type": "execute_result"
    }
   ],
   "source": [
    "rmse_test_lasso, rmse_train_lasso"
   ]
  },
  {
   "cell_type": "code",
   "execution_count": 70,
   "metadata": {
    "colab": {
     "base_uri": "https://localhost:8080/"
    },
    "id": "hRZ5vYIhf4pV",
    "outputId": "0f5ae620-0e1e-4e35-9c79-dc0f2360ff06"
   },
   "outputs": [
    {
     "data": {
      "text/plain": [
       "-1.2639155750313076"
      ]
     },
     "execution_count": 70,
     "metadata": {},
     "output_type": "execute_result"
    }
   ],
   "source": [
    "model_reg_lasso.intercept_"
   ]
  },
  {
   "cell_type": "code",
   "execution_count": 71,
   "metadata": {
    "colab": {
     "base_uri": "https://localhost:8080/"
    },
    "id": "nQllMu_sH3N6",
    "outputId": "faf28f63-4bed-4cc2-e4a3-0cfaa2453702"
   },
   "outputs": [
    {
     "data": {
      "text/plain": [
       "array([ 7.8423688, -0.       ])"
      ]
     },
     "execution_count": 71,
     "metadata": {},
     "output_type": "execute_result"
    }
   ],
   "source": [
    "model_reg_lasso.coef_"
   ]
  },
  {
   "cell_type": "markdown",
   "metadata": {
    "id": "F63b48-jruxy"
   },
   "source": [
    "ТО есть мы получили модель y = -1.2639155750313076 + 7.8423688 * feature1 - 0. * feature_new\n",
    "\n",
    "y = -1.2639155750313076 + 7.8423688 * feature_new"
   ]
  },
  {
   "cell_type": "code",
   "execution_count": 86,
   "metadata": {
    "id": "k6MNVZ5WxsRF"
   },
   "outputs": [],
   "source": [
    "# построим регрессию гребневую L2 с оптимальным параметром регуляризации, который мы подобрали перебором\n",
    "model_reg_ridge = Ridge(alpha=100, max_iter=1000) # alpha — величина регуляризации\n",
    "\n",
    "# обучение\n",
    "model_reg_ridge.fit(X_train_scaled, y_train)\n",
    "y_pred_test_ridge = model_reg_ridge.predict(X_test_scaled)\n",
    "y_pred_train_ridge = model_reg_ridge.predict(X_train_scaled)\n",
    "\n",
    "mse_test_ridge = mean_squared_error(y_test, y_pred_test_ridge )\n",
    "rmse_test_ridge = root_mean_squared_error(y_test, y_pred_test_ridge )\n",
    "\n",
    "mse_train_ridge = mean_squared_error(y_train, y_pred_train_ridge )\n",
    "rmse_train_ridge = root_mean_squared_error(y_train, y_pred_train_ridge )\n",
    "\n",
    "coefficients_ridge = model_reg_ridge.coef_"
   ]
  },
  {
   "cell_type": "code",
   "execution_count": 87,
   "metadata": {
    "colab": {
     "base_uri": "https://localhost:8080/"
    },
    "id": "6Jh-klZvx3Pn",
    "outputId": "6d8e67e3-60e4-4c31-e3e5-bc1a21163972"
   },
   "outputs": [
    {
     "data": {
      "text/plain": [
       "(10346.732920637536, 9871.089787382929)"
      ]
     },
     "execution_count": 87,
     "metadata": {},
     "output_type": "execute_result"
    }
   ],
   "source": [
    "mse_test_ridge, mse_train_ridge"
   ]
  },
  {
   "cell_type": "code",
   "execution_count": 88,
   "metadata": {},
   "outputs": [
    {
     "data": {
      "text/plain": [
       "(101.71889166048526, 99.35335820888456)"
      ]
     },
     "execution_count": 88,
     "metadata": {},
     "output_type": "execute_result"
    }
   ],
   "source": [
    "rmse_test_ridge, rmse_train_ridge"
   ]
  },
  {
   "cell_type": "code",
   "execution_count": 90,
   "metadata": {
    "colab": {
     "base_uri": "https://localhost:8080/"
    },
    "id": "gUHlVoATx4tN",
    "outputId": "65f5e7e4-3b2d-4d7e-9eb6-7f0e804a6769"
   },
   "outputs": [
    {
     "data": {
      "text/plain": [
       "-1.2639155750313076"
      ]
     },
     "execution_count": 90,
     "metadata": {},
     "output_type": "execute_result"
    }
   ],
   "source": [
    "model_reg_ridge.intercept_"
   ]
  },
  {
   "cell_type": "code",
   "execution_count": 91,
   "metadata": {
    "colab": {
     "base_uri": "https://localhost:8080/"
    },
    "id": "9EKB2V14x4w4",
    "outputId": "71e3f140-b4f3-4343-85b0-14270df51da3"
   },
   "outputs": [
    {
     "data": {
      "text/plain": [
       "array([ 9.5772807 , -1.79053409])"
      ]
     },
     "execution_count": 91,
     "metadata": {},
     "output_type": "execute_result"
    }
   ],
   "source": [
    "coefficients_ridge"
   ]
  },
  {
   "cell_type": "markdown",
   "metadata": {
    "id": "2wh6nZjxx-Vt"
   },
   "source": [
    "ТО есть мы получили модель y = -1.2639155750313078 + 9.5772807 * feature1 - 1.79053409 * feature_new"
   ]
  },
  {
   "cell_type": "markdown",
   "metadata": {
    "id": "F4EU-9iYvmbz"
   },
   "source": [
    "Модель с регуляризацией L1 занулила коэффициент при feature1, модель с L2 регуляризацией снизила коэффициент"
   ]
  },
  {
   "cell_type": "markdown",
   "metadata": {},
   "source": [
    "# ElasticNet"
   ]
  },
  {
   "cell_type": "code",
   "execution_count": 95,
   "metadata": {},
   "outputs": [],
   "source": [
    "from sklearn.model_selection import GridSearchCV\n",
    "param_grid = {\n",
    "    'alpha': [0.00005, 0.0005, 0.001, 0.01, 0.05, 0.06, 0.08, 1, 2, 3],\n",
    "    'l1_ratio': [0.1, 0.2, 0.3, 0.4, 0.5, 0.6, 0.7, 0.8, 1]\n",
    "}\n",
    "\n",
    "elastic_net = GridSearchCV(ElasticNet(), param_grid, scoring='neg_mean_squared_error', cv=10)"
   ]
  },
  {
   "cell_type": "code",
   "execution_count": 96,
   "metadata": {},
   "outputs": [
    {
     "data": {
      "text/html": [
       "<style>#sk-container-id-2 {\n",
       "  /* Definition of color scheme common for light and dark mode */\n",
       "  --sklearn-color-text: #000;\n",
       "  --sklearn-color-text-muted: #666;\n",
       "  --sklearn-color-line: gray;\n",
       "  /* Definition of color scheme for unfitted estimators */\n",
       "  --sklearn-color-unfitted-level-0: #fff5e6;\n",
       "  --sklearn-color-unfitted-level-1: #f6e4d2;\n",
       "  --sklearn-color-unfitted-level-2: #ffe0b3;\n",
       "  --sklearn-color-unfitted-level-3: chocolate;\n",
       "  /* Definition of color scheme for fitted estimators */\n",
       "  --sklearn-color-fitted-level-0: #f0f8ff;\n",
       "  --sklearn-color-fitted-level-1: #d4ebff;\n",
       "  --sklearn-color-fitted-level-2: #b3dbfd;\n",
       "  --sklearn-color-fitted-level-3: cornflowerblue;\n",
       "\n",
       "  /* Specific color for light theme */\n",
       "  --sklearn-color-text-on-default-background: var(--sg-text-color, var(--theme-code-foreground, var(--jp-content-font-color1, black)));\n",
       "  --sklearn-color-background: var(--sg-background-color, var(--theme-background, var(--jp-layout-color0, white)));\n",
       "  --sklearn-color-border-box: var(--sg-text-color, var(--theme-code-foreground, var(--jp-content-font-color1, black)));\n",
       "  --sklearn-color-icon: #696969;\n",
       "\n",
       "  @media (prefers-color-scheme: dark) {\n",
       "    /* Redefinition of color scheme for dark theme */\n",
       "    --sklearn-color-text-on-default-background: var(--sg-text-color, var(--theme-code-foreground, var(--jp-content-font-color1, white)));\n",
       "    --sklearn-color-background: var(--sg-background-color, var(--theme-background, var(--jp-layout-color0, #111)));\n",
       "    --sklearn-color-border-box: var(--sg-text-color, var(--theme-code-foreground, var(--jp-content-font-color1, white)));\n",
       "    --sklearn-color-icon: #878787;\n",
       "  }\n",
       "}\n",
       "\n",
       "#sk-container-id-2 {\n",
       "  color: var(--sklearn-color-text);\n",
       "}\n",
       "\n",
       "#sk-container-id-2 pre {\n",
       "  padding: 0;\n",
       "}\n",
       "\n",
       "#sk-container-id-2 input.sk-hidden--visually {\n",
       "  border: 0;\n",
       "  clip: rect(1px 1px 1px 1px);\n",
       "  clip: rect(1px, 1px, 1px, 1px);\n",
       "  height: 1px;\n",
       "  margin: -1px;\n",
       "  overflow: hidden;\n",
       "  padding: 0;\n",
       "  position: absolute;\n",
       "  width: 1px;\n",
       "}\n",
       "\n",
       "#sk-container-id-2 div.sk-dashed-wrapped {\n",
       "  border: 1px dashed var(--sklearn-color-line);\n",
       "  margin: 0 0.4em 0.5em 0.4em;\n",
       "  box-sizing: border-box;\n",
       "  padding-bottom: 0.4em;\n",
       "  background-color: var(--sklearn-color-background);\n",
       "}\n",
       "\n",
       "#sk-container-id-2 div.sk-container {\n",
       "  /* jupyter's `normalize.less` sets `[hidden] { display: none; }`\n",
       "     but bootstrap.min.css set `[hidden] { display: none !important; }`\n",
       "     so we also need the `!important` here to be able to override the\n",
       "     default hidden behavior on the sphinx rendered scikit-learn.org.\n",
       "     See: https://github.com/scikit-learn/scikit-learn/issues/21755 */\n",
       "  display: inline-block !important;\n",
       "  position: relative;\n",
       "}\n",
       "\n",
       "#sk-container-id-2 div.sk-text-repr-fallback {\n",
       "  display: none;\n",
       "}\n",
       "\n",
       "div.sk-parallel-item,\n",
       "div.sk-serial,\n",
       "div.sk-item {\n",
       "  /* draw centered vertical line to link estimators */\n",
       "  background-image: linear-gradient(var(--sklearn-color-text-on-default-background), var(--sklearn-color-text-on-default-background));\n",
       "  background-size: 2px 100%;\n",
       "  background-repeat: no-repeat;\n",
       "  background-position: center center;\n",
       "}\n",
       "\n",
       "/* Parallel-specific style estimator block */\n",
       "\n",
       "#sk-container-id-2 div.sk-parallel-item::after {\n",
       "  content: \"\";\n",
       "  width: 100%;\n",
       "  border-bottom: 2px solid var(--sklearn-color-text-on-default-background);\n",
       "  flex-grow: 1;\n",
       "}\n",
       "\n",
       "#sk-container-id-2 div.sk-parallel {\n",
       "  display: flex;\n",
       "  align-items: stretch;\n",
       "  justify-content: center;\n",
       "  background-color: var(--sklearn-color-background);\n",
       "  position: relative;\n",
       "}\n",
       "\n",
       "#sk-container-id-2 div.sk-parallel-item {\n",
       "  display: flex;\n",
       "  flex-direction: column;\n",
       "}\n",
       "\n",
       "#sk-container-id-2 div.sk-parallel-item:first-child::after {\n",
       "  align-self: flex-end;\n",
       "  width: 50%;\n",
       "}\n",
       "\n",
       "#sk-container-id-2 div.sk-parallel-item:last-child::after {\n",
       "  align-self: flex-start;\n",
       "  width: 50%;\n",
       "}\n",
       "\n",
       "#sk-container-id-2 div.sk-parallel-item:only-child::after {\n",
       "  width: 0;\n",
       "}\n",
       "\n",
       "/* Serial-specific style estimator block */\n",
       "\n",
       "#sk-container-id-2 div.sk-serial {\n",
       "  display: flex;\n",
       "  flex-direction: column;\n",
       "  align-items: center;\n",
       "  background-color: var(--sklearn-color-background);\n",
       "  padding-right: 1em;\n",
       "  padding-left: 1em;\n",
       "}\n",
       "\n",
       "\n",
       "/* Toggleable style: style used for estimator/Pipeline/ColumnTransformer box that is\n",
       "clickable and can be expanded/collapsed.\n",
       "- Pipeline and ColumnTransformer use this feature and define the default style\n",
       "- Estimators will overwrite some part of the style using the `sk-estimator` class\n",
       "*/\n",
       "\n",
       "/* Pipeline and ColumnTransformer style (default) */\n",
       "\n",
       "#sk-container-id-2 div.sk-toggleable {\n",
       "  /* Default theme specific background. It is overwritten whether we have a\n",
       "  specific estimator or a Pipeline/ColumnTransformer */\n",
       "  background-color: var(--sklearn-color-background);\n",
       "}\n",
       "\n",
       "/* Toggleable label */\n",
       "#sk-container-id-2 label.sk-toggleable__label {\n",
       "  cursor: pointer;\n",
       "  display: flex;\n",
       "  width: 100%;\n",
       "  margin-bottom: 0;\n",
       "  padding: 0.5em;\n",
       "  box-sizing: border-box;\n",
       "  text-align: center;\n",
       "  align-items: start;\n",
       "  justify-content: space-between;\n",
       "  gap: 0.5em;\n",
       "}\n",
       "\n",
       "#sk-container-id-2 label.sk-toggleable__label .caption {\n",
       "  font-size: 0.6rem;\n",
       "  font-weight: lighter;\n",
       "  color: var(--sklearn-color-text-muted);\n",
       "}\n",
       "\n",
       "#sk-container-id-2 label.sk-toggleable__label-arrow:before {\n",
       "  /* Arrow on the left of the label */\n",
       "  content: \"▸\";\n",
       "  float: left;\n",
       "  margin-right: 0.25em;\n",
       "  color: var(--sklearn-color-icon);\n",
       "}\n",
       "\n",
       "#sk-container-id-2 label.sk-toggleable__label-arrow:hover:before {\n",
       "  color: var(--sklearn-color-text);\n",
       "}\n",
       "\n",
       "/* Toggleable content - dropdown */\n",
       "\n",
       "#sk-container-id-2 div.sk-toggleable__content {\n",
       "  max-height: 0;\n",
       "  max-width: 0;\n",
       "  overflow: hidden;\n",
       "  text-align: left;\n",
       "  /* unfitted */\n",
       "  background-color: var(--sklearn-color-unfitted-level-0);\n",
       "}\n",
       "\n",
       "#sk-container-id-2 div.sk-toggleable__content.fitted {\n",
       "  /* fitted */\n",
       "  background-color: var(--sklearn-color-fitted-level-0);\n",
       "}\n",
       "\n",
       "#sk-container-id-2 div.sk-toggleable__content pre {\n",
       "  margin: 0.2em;\n",
       "  border-radius: 0.25em;\n",
       "  color: var(--sklearn-color-text);\n",
       "  /* unfitted */\n",
       "  background-color: var(--sklearn-color-unfitted-level-0);\n",
       "}\n",
       "\n",
       "#sk-container-id-2 div.sk-toggleable__content.fitted pre {\n",
       "  /* unfitted */\n",
       "  background-color: var(--sklearn-color-fitted-level-0);\n",
       "}\n",
       "\n",
       "#sk-container-id-2 input.sk-toggleable__control:checked~div.sk-toggleable__content {\n",
       "  /* Expand drop-down */\n",
       "  max-height: 200px;\n",
       "  max-width: 100%;\n",
       "  overflow: auto;\n",
       "}\n",
       "\n",
       "#sk-container-id-2 input.sk-toggleable__control:checked~label.sk-toggleable__label-arrow:before {\n",
       "  content: \"▾\";\n",
       "}\n",
       "\n",
       "/* Pipeline/ColumnTransformer-specific style */\n",
       "\n",
       "#sk-container-id-2 div.sk-label input.sk-toggleable__control:checked~label.sk-toggleable__label {\n",
       "  color: var(--sklearn-color-text);\n",
       "  background-color: var(--sklearn-color-unfitted-level-2);\n",
       "}\n",
       "\n",
       "#sk-container-id-2 div.sk-label.fitted input.sk-toggleable__control:checked~label.sk-toggleable__label {\n",
       "  background-color: var(--sklearn-color-fitted-level-2);\n",
       "}\n",
       "\n",
       "/* Estimator-specific style */\n",
       "\n",
       "/* Colorize estimator box */\n",
       "#sk-container-id-2 div.sk-estimator input.sk-toggleable__control:checked~label.sk-toggleable__label {\n",
       "  /* unfitted */\n",
       "  background-color: var(--sklearn-color-unfitted-level-2);\n",
       "}\n",
       "\n",
       "#sk-container-id-2 div.sk-estimator.fitted input.sk-toggleable__control:checked~label.sk-toggleable__label {\n",
       "  /* fitted */\n",
       "  background-color: var(--sklearn-color-fitted-level-2);\n",
       "}\n",
       "\n",
       "#sk-container-id-2 div.sk-label label.sk-toggleable__label,\n",
       "#sk-container-id-2 div.sk-label label {\n",
       "  /* The background is the default theme color */\n",
       "  color: var(--sklearn-color-text-on-default-background);\n",
       "}\n",
       "\n",
       "/* On hover, darken the color of the background */\n",
       "#sk-container-id-2 div.sk-label:hover label.sk-toggleable__label {\n",
       "  color: var(--sklearn-color-text);\n",
       "  background-color: var(--sklearn-color-unfitted-level-2);\n",
       "}\n",
       "\n",
       "/* Label box, darken color on hover, fitted */\n",
       "#sk-container-id-2 div.sk-label.fitted:hover label.sk-toggleable__label.fitted {\n",
       "  color: var(--sklearn-color-text);\n",
       "  background-color: var(--sklearn-color-fitted-level-2);\n",
       "}\n",
       "\n",
       "/* Estimator label */\n",
       "\n",
       "#sk-container-id-2 div.sk-label label {\n",
       "  font-family: monospace;\n",
       "  font-weight: bold;\n",
       "  display: inline-block;\n",
       "  line-height: 1.2em;\n",
       "}\n",
       "\n",
       "#sk-container-id-2 div.sk-label-container {\n",
       "  text-align: center;\n",
       "}\n",
       "\n",
       "/* Estimator-specific */\n",
       "#sk-container-id-2 div.sk-estimator {\n",
       "  font-family: monospace;\n",
       "  border: 1px dotted var(--sklearn-color-border-box);\n",
       "  border-radius: 0.25em;\n",
       "  box-sizing: border-box;\n",
       "  margin-bottom: 0.5em;\n",
       "  /* unfitted */\n",
       "  background-color: var(--sklearn-color-unfitted-level-0);\n",
       "}\n",
       "\n",
       "#sk-container-id-2 div.sk-estimator.fitted {\n",
       "  /* fitted */\n",
       "  background-color: var(--sklearn-color-fitted-level-0);\n",
       "}\n",
       "\n",
       "/* on hover */\n",
       "#sk-container-id-2 div.sk-estimator:hover {\n",
       "  /* unfitted */\n",
       "  background-color: var(--sklearn-color-unfitted-level-2);\n",
       "}\n",
       "\n",
       "#sk-container-id-2 div.sk-estimator.fitted:hover {\n",
       "  /* fitted */\n",
       "  background-color: var(--sklearn-color-fitted-level-2);\n",
       "}\n",
       "\n",
       "/* Specification for estimator info (e.g. \"i\" and \"?\") */\n",
       "\n",
       "/* Common style for \"i\" and \"?\" */\n",
       "\n",
       ".sk-estimator-doc-link,\n",
       "a:link.sk-estimator-doc-link,\n",
       "a:visited.sk-estimator-doc-link {\n",
       "  float: right;\n",
       "  font-size: smaller;\n",
       "  line-height: 1em;\n",
       "  font-family: monospace;\n",
       "  background-color: var(--sklearn-color-background);\n",
       "  border-radius: 1em;\n",
       "  height: 1em;\n",
       "  width: 1em;\n",
       "  text-decoration: none !important;\n",
       "  margin-left: 0.5em;\n",
       "  text-align: center;\n",
       "  /* unfitted */\n",
       "  border: var(--sklearn-color-unfitted-level-1) 1pt solid;\n",
       "  color: var(--sklearn-color-unfitted-level-1);\n",
       "}\n",
       "\n",
       ".sk-estimator-doc-link.fitted,\n",
       "a:link.sk-estimator-doc-link.fitted,\n",
       "a:visited.sk-estimator-doc-link.fitted {\n",
       "  /* fitted */\n",
       "  border: var(--sklearn-color-fitted-level-1) 1pt solid;\n",
       "  color: var(--sklearn-color-fitted-level-1);\n",
       "}\n",
       "\n",
       "/* On hover */\n",
       "div.sk-estimator:hover .sk-estimator-doc-link:hover,\n",
       ".sk-estimator-doc-link:hover,\n",
       "div.sk-label-container:hover .sk-estimator-doc-link:hover,\n",
       ".sk-estimator-doc-link:hover {\n",
       "  /* unfitted */\n",
       "  background-color: var(--sklearn-color-unfitted-level-3);\n",
       "  color: var(--sklearn-color-background);\n",
       "  text-decoration: none;\n",
       "}\n",
       "\n",
       "div.sk-estimator.fitted:hover .sk-estimator-doc-link.fitted:hover,\n",
       ".sk-estimator-doc-link.fitted:hover,\n",
       "div.sk-label-container:hover .sk-estimator-doc-link.fitted:hover,\n",
       ".sk-estimator-doc-link.fitted:hover {\n",
       "  /* fitted */\n",
       "  background-color: var(--sklearn-color-fitted-level-3);\n",
       "  color: var(--sklearn-color-background);\n",
       "  text-decoration: none;\n",
       "}\n",
       "\n",
       "/* Span, style for the box shown on hovering the info icon */\n",
       ".sk-estimator-doc-link span {\n",
       "  display: none;\n",
       "  z-index: 9999;\n",
       "  position: relative;\n",
       "  font-weight: normal;\n",
       "  right: .2ex;\n",
       "  padding: .5ex;\n",
       "  margin: .5ex;\n",
       "  width: min-content;\n",
       "  min-width: 20ex;\n",
       "  max-width: 50ex;\n",
       "  color: var(--sklearn-color-text);\n",
       "  box-shadow: 2pt 2pt 4pt #999;\n",
       "  /* unfitted */\n",
       "  background: var(--sklearn-color-unfitted-level-0);\n",
       "  border: .5pt solid var(--sklearn-color-unfitted-level-3);\n",
       "}\n",
       "\n",
       ".sk-estimator-doc-link.fitted span {\n",
       "  /* fitted */\n",
       "  background: var(--sklearn-color-fitted-level-0);\n",
       "  border: var(--sklearn-color-fitted-level-3);\n",
       "}\n",
       "\n",
       ".sk-estimator-doc-link:hover span {\n",
       "  display: block;\n",
       "}\n",
       "\n",
       "/* \"?\"-specific style due to the `<a>` HTML tag */\n",
       "\n",
       "#sk-container-id-2 a.estimator_doc_link {\n",
       "  float: right;\n",
       "  font-size: 1rem;\n",
       "  line-height: 1em;\n",
       "  font-family: monospace;\n",
       "  background-color: var(--sklearn-color-background);\n",
       "  border-radius: 1rem;\n",
       "  height: 1rem;\n",
       "  width: 1rem;\n",
       "  text-decoration: none;\n",
       "  /* unfitted */\n",
       "  color: var(--sklearn-color-unfitted-level-1);\n",
       "  border: var(--sklearn-color-unfitted-level-1) 1pt solid;\n",
       "}\n",
       "\n",
       "#sk-container-id-2 a.estimator_doc_link.fitted {\n",
       "  /* fitted */\n",
       "  border: var(--sklearn-color-fitted-level-1) 1pt solid;\n",
       "  color: var(--sklearn-color-fitted-level-1);\n",
       "}\n",
       "\n",
       "/* On hover */\n",
       "#sk-container-id-2 a.estimator_doc_link:hover {\n",
       "  /* unfitted */\n",
       "  background-color: var(--sklearn-color-unfitted-level-3);\n",
       "  color: var(--sklearn-color-background);\n",
       "  text-decoration: none;\n",
       "}\n",
       "\n",
       "#sk-container-id-2 a.estimator_doc_link.fitted:hover {\n",
       "  /* fitted */\n",
       "  background-color: var(--sklearn-color-fitted-level-3);\n",
       "}\n",
       "</style><div id=\"sk-container-id-2\" class=\"sk-top-container\"><div class=\"sk-text-repr-fallback\"><pre>GridSearchCV(cv=10, estimator=ElasticNet(),\n",
       "             param_grid={&#x27;alpha&#x27;: [5e-05, 0.0005, 0.001, 0.01, 0.05, 0.06, 0.08,\n",
       "                                   1, 2, 3],\n",
       "                         &#x27;l1_ratio&#x27;: [0.1, 0.2, 0.3, 0.4, 0.5, 0.6, 0.7, 0.8,\n",
       "                                      1]},\n",
       "             scoring=&#x27;neg_mean_squared_error&#x27;)</pre><b>In a Jupyter environment, please rerun this cell to show the HTML representation or trust the notebook. <br />On GitHub, the HTML representation is unable to render, please try loading this page with nbviewer.org.</b></div><div class=\"sk-container\" hidden><div class=\"sk-item sk-dashed-wrapped\"><div class=\"sk-label-container\"><div class=\"sk-label  sk-toggleable\"><input class=\"sk-toggleable__control sk-hidden--visually\" id=\"sk-estimator-id-4\" type=\"checkbox\" ><label for=\"sk-estimator-id-4\" class=\"sk-toggleable__label  sk-toggleable__label-arrow\"><div><div>GridSearchCV</div></div><div><a class=\"sk-estimator-doc-link \" rel=\"noreferrer\" target=\"_blank\" href=\"https://scikit-learn.org/1.6/modules/generated/sklearn.model_selection.GridSearchCV.html\">?<span>Documentation for GridSearchCV</span></a><span class=\"sk-estimator-doc-link \">i<span>Not fitted</span></span></div></label><div class=\"sk-toggleable__content \"><pre>GridSearchCV(cv=10, estimator=ElasticNet(),\n",
       "             param_grid={&#x27;alpha&#x27;: [5e-05, 0.0005, 0.001, 0.01, 0.05, 0.06, 0.08,\n",
       "                                   1, 2, 3],\n",
       "                         &#x27;l1_ratio&#x27;: [0.1, 0.2, 0.3, 0.4, 0.5, 0.6, 0.7, 0.8,\n",
       "                                      1]},\n",
       "             scoring=&#x27;neg_mean_squared_error&#x27;)</pre></div> </div></div><div class=\"sk-parallel\"><div class=\"sk-parallel-item\"><div class=\"sk-item\"><div class=\"sk-label-container\"><div class=\"sk-label  sk-toggleable\"><input class=\"sk-toggleable__control sk-hidden--visually\" id=\"sk-estimator-id-5\" type=\"checkbox\" ><label for=\"sk-estimator-id-5\" class=\"sk-toggleable__label  sk-toggleable__label-arrow\"><div><div>estimator: ElasticNet</div></div></label><div class=\"sk-toggleable__content \"><pre>ElasticNet()</pre></div> </div></div><div class=\"sk-serial\"><div class=\"sk-item\"><div class=\"sk-estimator  sk-toggleable\"><input class=\"sk-toggleable__control sk-hidden--visually\" id=\"sk-estimator-id-6\" type=\"checkbox\" ><label for=\"sk-estimator-id-6\" class=\"sk-toggleable__label  sk-toggleable__label-arrow\"><div><div>ElasticNet</div></div><div><a class=\"sk-estimator-doc-link \" rel=\"noreferrer\" target=\"_blank\" href=\"https://scikit-learn.org/1.6/modules/generated/sklearn.linear_model.ElasticNet.html\">?<span>Documentation for ElasticNet</span></a></div></label><div class=\"sk-toggleable__content \"><pre>ElasticNet()</pre></div> </div></div></div></div></div></div></div></div></div>"
      ],
      "text/plain": [
       "GridSearchCV(cv=10, estimator=ElasticNet(),\n",
       "             param_grid={'alpha': [5e-05, 0.0005, 0.001, 0.01, 0.05, 0.06, 0.08,\n",
       "                                   1, 2, 3],\n",
       "                         'l1_ratio': [0.1, 0.2, 0.3, 0.4, 0.5, 0.6, 0.7, 0.8,\n",
       "                                      1]},\n",
       "             scoring='neg_mean_squared_error')"
      ]
     },
     "execution_count": 96,
     "metadata": {},
     "output_type": "execute_result"
    }
   ],
   "source": [
    "elastic_net"
   ]
  },
  {
   "cell_type": "code",
   "execution_count": 97,
   "metadata": {},
   "outputs": [
    {
     "data": {
      "text/html": [
       "<style>#sk-container-id-3 {\n",
       "  /* Definition of color scheme common for light and dark mode */\n",
       "  --sklearn-color-text: #000;\n",
       "  --sklearn-color-text-muted: #666;\n",
       "  --sklearn-color-line: gray;\n",
       "  /* Definition of color scheme for unfitted estimators */\n",
       "  --sklearn-color-unfitted-level-0: #fff5e6;\n",
       "  --sklearn-color-unfitted-level-1: #f6e4d2;\n",
       "  --sklearn-color-unfitted-level-2: #ffe0b3;\n",
       "  --sklearn-color-unfitted-level-3: chocolate;\n",
       "  /* Definition of color scheme for fitted estimators */\n",
       "  --sklearn-color-fitted-level-0: #f0f8ff;\n",
       "  --sklearn-color-fitted-level-1: #d4ebff;\n",
       "  --sklearn-color-fitted-level-2: #b3dbfd;\n",
       "  --sklearn-color-fitted-level-3: cornflowerblue;\n",
       "\n",
       "  /* Specific color for light theme */\n",
       "  --sklearn-color-text-on-default-background: var(--sg-text-color, var(--theme-code-foreground, var(--jp-content-font-color1, black)));\n",
       "  --sklearn-color-background: var(--sg-background-color, var(--theme-background, var(--jp-layout-color0, white)));\n",
       "  --sklearn-color-border-box: var(--sg-text-color, var(--theme-code-foreground, var(--jp-content-font-color1, black)));\n",
       "  --sklearn-color-icon: #696969;\n",
       "\n",
       "  @media (prefers-color-scheme: dark) {\n",
       "    /* Redefinition of color scheme for dark theme */\n",
       "    --sklearn-color-text-on-default-background: var(--sg-text-color, var(--theme-code-foreground, var(--jp-content-font-color1, white)));\n",
       "    --sklearn-color-background: var(--sg-background-color, var(--theme-background, var(--jp-layout-color0, #111)));\n",
       "    --sklearn-color-border-box: var(--sg-text-color, var(--theme-code-foreground, var(--jp-content-font-color1, white)));\n",
       "    --sklearn-color-icon: #878787;\n",
       "  }\n",
       "}\n",
       "\n",
       "#sk-container-id-3 {\n",
       "  color: var(--sklearn-color-text);\n",
       "}\n",
       "\n",
       "#sk-container-id-3 pre {\n",
       "  padding: 0;\n",
       "}\n",
       "\n",
       "#sk-container-id-3 input.sk-hidden--visually {\n",
       "  border: 0;\n",
       "  clip: rect(1px 1px 1px 1px);\n",
       "  clip: rect(1px, 1px, 1px, 1px);\n",
       "  height: 1px;\n",
       "  margin: -1px;\n",
       "  overflow: hidden;\n",
       "  padding: 0;\n",
       "  position: absolute;\n",
       "  width: 1px;\n",
       "}\n",
       "\n",
       "#sk-container-id-3 div.sk-dashed-wrapped {\n",
       "  border: 1px dashed var(--sklearn-color-line);\n",
       "  margin: 0 0.4em 0.5em 0.4em;\n",
       "  box-sizing: border-box;\n",
       "  padding-bottom: 0.4em;\n",
       "  background-color: var(--sklearn-color-background);\n",
       "}\n",
       "\n",
       "#sk-container-id-3 div.sk-container {\n",
       "  /* jupyter's `normalize.less` sets `[hidden] { display: none; }`\n",
       "     but bootstrap.min.css set `[hidden] { display: none !important; }`\n",
       "     so we also need the `!important` here to be able to override the\n",
       "     default hidden behavior on the sphinx rendered scikit-learn.org.\n",
       "     See: https://github.com/scikit-learn/scikit-learn/issues/21755 */\n",
       "  display: inline-block !important;\n",
       "  position: relative;\n",
       "}\n",
       "\n",
       "#sk-container-id-3 div.sk-text-repr-fallback {\n",
       "  display: none;\n",
       "}\n",
       "\n",
       "div.sk-parallel-item,\n",
       "div.sk-serial,\n",
       "div.sk-item {\n",
       "  /* draw centered vertical line to link estimators */\n",
       "  background-image: linear-gradient(var(--sklearn-color-text-on-default-background), var(--sklearn-color-text-on-default-background));\n",
       "  background-size: 2px 100%;\n",
       "  background-repeat: no-repeat;\n",
       "  background-position: center center;\n",
       "}\n",
       "\n",
       "/* Parallel-specific style estimator block */\n",
       "\n",
       "#sk-container-id-3 div.sk-parallel-item::after {\n",
       "  content: \"\";\n",
       "  width: 100%;\n",
       "  border-bottom: 2px solid var(--sklearn-color-text-on-default-background);\n",
       "  flex-grow: 1;\n",
       "}\n",
       "\n",
       "#sk-container-id-3 div.sk-parallel {\n",
       "  display: flex;\n",
       "  align-items: stretch;\n",
       "  justify-content: center;\n",
       "  background-color: var(--sklearn-color-background);\n",
       "  position: relative;\n",
       "}\n",
       "\n",
       "#sk-container-id-3 div.sk-parallel-item {\n",
       "  display: flex;\n",
       "  flex-direction: column;\n",
       "}\n",
       "\n",
       "#sk-container-id-3 div.sk-parallel-item:first-child::after {\n",
       "  align-self: flex-end;\n",
       "  width: 50%;\n",
       "}\n",
       "\n",
       "#sk-container-id-3 div.sk-parallel-item:last-child::after {\n",
       "  align-self: flex-start;\n",
       "  width: 50%;\n",
       "}\n",
       "\n",
       "#sk-container-id-3 div.sk-parallel-item:only-child::after {\n",
       "  width: 0;\n",
       "}\n",
       "\n",
       "/* Serial-specific style estimator block */\n",
       "\n",
       "#sk-container-id-3 div.sk-serial {\n",
       "  display: flex;\n",
       "  flex-direction: column;\n",
       "  align-items: center;\n",
       "  background-color: var(--sklearn-color-background);\n",
       "  padding-right: 1em;\n",
       "  padding-left: 1em;\n",
       "}\n",
       "\n",
       "\n",
       "/* Toggleable style: style used for estimator/Pipeline/ColumnTransformer box that is\n",
       "clickable and can be expanded/collapsed.\n",
       "- Pipeline and ColumnTransformer use this feature and define the default style\n",
       "- Estimators will overwrite some part of the style using the `sk-estimator` class\n",
       "*/\n",
       "\n",
       "/* Pipeline and ColumnTransformer style (default) */\n",
       "\n",
       "#sk-container-id-3 div.sk-toggleable {\n",
       "  /* Default theme specific background. It is overwritten whether we have a\n",
       "  specific estimator or a Pipeline/ColumnTransformer */\n",
       "  background-color: var(--sklearn-color-background);\n",
       "}\n",
       "\n",
       "/* Toggleable label */\n",
       "#sk-container-id-3 label.sk-toggleable__label {\n",
       "  cursor: pointer;\n",
       "  display: flex;\n",
       "  width: 100%;\n",
       "  margin-bottom: 0;\n",
       "  padding: 0.5em;\n",
       "  box-sizing: border-box;\n",
       "  text-align: center;\n",
       "  align-items: start;\n",
       "  justify-content: space-between;\n",
       "  gap: 0.5em;\n",
       "}\n",
       "\n",
       "#sk-container-id-3 label.sk-toggleable__label .caption {\n",
       "  font-size: 0.6rem;\n",
       "  font-weight: lighter;\n",
       "  color: var(--sklearn-color-text-muted);\n",
       "}\n",
       "\n",
       "#sk-container-id-3 label.sk-toggleable__label-arrow:before {\n",
       "  /* Arrow on the left of the label */\n",
       "  content: \"▸\";\n",
       "  float: left;\n",
       "  margin-right: 0.25em;\n",
       "  color: var(--sklearn-color-icon);\n",
       "}\n",
       "\n",
       "#sk-container-id-3 label.sk-toggleable__label-arrow:hover:before {\n",
       "  color: var(--sklearn-color-text);\n",
       "}\n",
       "\n",
       "/* Toggleable content - dropdown */\n",
       "\n",
       "#sk-container-id-3 div.sk-toggleable__content {\n",
       "  max-height: 0;\n",
       "  max-width: 0;\n",
       "  overflow: hidden;\n",
       "  text-align: left;\n",
       "  /* unfitted */\n",
       "  background-color: var(--sklearn-color-unfitted-level-0);\n",
       "}\n",
       "\n",
       "#sk-container-id-3 div.sk-toggleable__content.fitted {\n",
       "  /* fitted */\n",
       "  background-color: var(--sklearn-color-fitted-level-0);\n",
       "}\n",
       "\n",
       "#sk-container-id-3 div.sk-toggleable__content pre {\n",
       "  margin: 0.2em;\n",
       "  border-radius: 0.25em;\n",
       "  color: var(--sklearn-color-text);\n",
       "  /* unfitted */\n",
       "  background-color: var(--sklearn-color-unfitted-level-0);\n",
       "}\n",
       "\n",
       "#sk-container-id-3 div.sk-toggleable__content.fitted pre {\n",
       "  /* unfitted */\n",
       "  background-color: var(--sklearn-color-fitted-level-0);\n",
       "}\n",
       "\n",
       "#sk-container-id-3 input.sk-toggleable__control:checked~div.sk-toggleable__content {\n",
       "  /* Expand drop-down */\n",
       "  max-height: 200px;\n",
       "  max-width: 100%;\n",
       "  overflow: auto;\n",
       "}\n",
       "\n",
       "#sk-container-id-3 input.sk-toggleable__control:checked~label.sk-toggleable__label-arrow:before {\n",
       "  content: \"▾\";\n",
       "}\n",
       "\n",
       "/* Pipeline/ColumnTransformer-specific style */\n",
       "\n",
       "#sk-container-id-3 div.sk-label input.sk-toggleable__control:checked~label.sk-toggleable__label {\n",
       "  color: var(--sklearn-color-text);\n",
       "  background-color: var(--sklearn-color-unfitted-level-2);\n",
       "}\n",
       "\n",
       "#sk-container-id-3 div.sk-label.fitted input.sk-toggleable__control:checked~label.sk-toggleable__label {\n",
       "  background-color: var(--sklearn-color-fitted-level-2);\n",
       "}\n",
       "\n",
       "/* Estimator-specific style */\n",
       "\n",
       "/* Colorize estimator box */\n",
       "#sk-container-id-3 div.sk-estimator input.sk-toggleable__control:checked~label.sk-toggleable__label {\n",
       "  /* unfitted */\n",
       "  background-color: var(--sklearn-color-unfitted-level-2);\n",
       "}\n",
       "\n",
       "#sk-container-id-3 div.sk-estimator.fitted input.sk-toggleable__control:checked~label.sk-toggleable__label {\n",
       "  /* fitted */\n",
       "  background-color: var(--sklearn-color-fitted-level-2);\n",
       "}\n",
       "\n",
       "#sk-container-id-3 div.sk-label label.sk-toggleable__label,\n",
       "#sk-container-id-3 div.sk-label label {\n",
       "  /* The background is the default theme color */\n",
       "  color: var(--sklearn-color-text-on-default-background);\n",
       "}\n",
       "\n",
       "/* On hover, darken the color of the background */\n",
       "#sk-container-id-3 div.sk-label:hover label.sk-toggleable__label {\n",
       "  color: var(--sklearn-color-text);\n",
       "  background-color: var(--sklearn-color-unfitted-level-2);\n",
       "}\n",
       "\n",
       "/* Label box, darken color on hover, fitted */\n",
       "#sk-container-id-3 div.sk-label.fitted:hover label.sk-toggleable__label.fitted {\n",
       "  color: var(--sklearn-color-text);\n",
       "  background-color: var(--sklearn-color-fitted-level-2);\n",
       "}\n",
       "\n",
       "/* Estimator label */\n",
       "\n",
       "#sk-container-id-3 div.sk-label label {\n",
       "  font-family: monospace;\n",
       "  font-weight: bold;\n",
       "  display: inline-block;\n",
       "  line-height: 1.2em;\n",
       "}\n",
       "\n",
       "#sk-container-id-3 div.sk-label-container {\n",
       "  text-align: center;\n",
       "}\n",
       "\n",
       "/* Estimator-specific */\n",
       "#sk-container-id-3 div.sk-estimator {\n",
       "  font-family: monospace;\n",
       "  border: 1px dotted var(--sklearn-color-border-box);\n",
       "  border-radius: 0.25em;\n",
       "  box-sizing: border-box;\n",
       "  margin-bottom: 0.5em;\n",
       "  /* unfitted */\n",
       "  background-color: var(--sklearn-color-unfitted-level-0);\n",
       "}\n",
       "\n",
       "#sk-container-id-3 div.sk-estimator.fitted {\n",
       "  /* fitted */\n",
       "  background-color: var(--sklearn-color-fitted-level-0);\n",
       "}\n",
       "\n",
       "/* on hover */\n",
       "#sk-container-id-3 div.sk-estimator:hover {\n",
       "  /* unfitted */\n",
       "  background-color: var(--sklearn-color-unfitted-level-2);\n",
       "}\n",
       "\n",
       "#sk-container-id-3 div.sk-estimator.fitted:hover {\n",
       "  /* fitted */\n",
       "  background-color: var(--sklearn-color-fitted-level-2);\n",
       "}\n",
       "\n",
       "/* Specification for estimator info (e.g. \"i\" and \"?\") */\n",
       "\n",
       "/* Common style for \"i\" and \"?\" */\n",
       "\n",
       ".sk-estimator-doc-link,\n",
       "a:link.sk-estimator-doc-link,\n",
       "a:visited.sk-estimator-doc-link {\n",
       "  float: right;\n",
       "  font-size: smaller;\n",
       "  line-height: 1em;\n",
       "  font-family: monospace;\n",
       "  background-color: var(--sklearn-color-background);\n",
       "  border-radius: 1em;\n",
       "  height: 1em;\n",
       "  width: 1em;\n",
       "  text-decoration: none !important;\n",
       "  margin-left: 0.5em;\n",
       "  text-align: center;\n",
       "  /* unfitted */\n",
       "  border: var(--sklearn-color-unfitted-level-1) 1pt solid;\n",
       "  color: var(--sklearn-color-unfitted-level-1);\n",
       "}\n",
       "\n",
       ".sk-estimator-doc-link.fitted,\n",
       "a:link.sk-estimator-doc-link.fitted,\n",
       "a:visited.sk-estimator-doc-link.fitted {\n",
       "  /* fitted */\n",
       "  border: var(--sklearn-color-fitted-level-1) 1pt solid;\n",
       "  color: var(--sklearn-color-fitted-level-1);\n",
       "}\n",
       "\n",
       "/* On hover */\n",
       "div.sk-estimator:hover .sk-estimator-doc-link:hover,\n",
       ".sk-estimator-doc-link:hover,\n",
       "div.sk-label-container:hover .sk-estimator-doc-link:hover,\n",
       ".sk-estimator-doc-link:hover {\n",
       "  /* unfitted */\n",
       "  background-color: var(--sklearn-color-unfitted-level-3);\n",
       "  color: var(--sklearn-color-background);\n",
       "  text-decoration: none;\n",
       "}\n",
       "\n",
       "div.sk-estimator.fitted:hover .sk-estimator-doc-link.fitted:hover,\n",
       ".sk-estimator-doc-link.fitted:hover,\n",
       "div.sk-label-container:hover .sk-estimator-doc-link.fitted:hover,\n",
       ".sk-estimator-doc-link.fitted:hover {\n",
       "  /* fitted */\n",
       "  background-color: var(--sklearn-color-fitted-level-3);\n",
       "  color: var(--sklearn-color-background);\n",
       "  text-decoration: none;\n",
       "}\n",
       "\n",
       "/* Span, style for the box shown on hovering the info icon */\n",
       ".sk-estimator-doc-link span {\n",
       "  display: none;\n",
       "  z-index: 9999;\n",
       "  position: relative;\n",
       "  font-weight: normal;\n",
       "  right: .2ex;\n",
       "  padding: .5ex;\n",
       "  margin: .5ex;\n",
       "  width: min-content;\n",
       "  min-width: 20ex;\n",
       "  max-width: 50ex;\n",
       "  color: var(--sklearn-color-text);\n",
       "  box-shadow: 2pt 2pt 4pt #999;\n",
       "  /* unfitted */\n",
       "  background: var(--sklearn-color-unfitted-level-0);\n",
       "  border: .5pt solid var(--sklearn-color-unfitted-level-3);\n",
       "}\n",
       "\n",
       ".sk-estimator-doc-link.fitted span {\n",
       "  /* fitted */\n",
       "  background: var(--sklearn-color-fitted-level-0);\n",
       "  border: var(--sklearn-color-fitted-level-3);\n",
       "}\n",
       "\n",
       ".sk-estimator-doc-link:hover span {\n",
       "  display: block;\n",
       "}\n",
       "\n",
       "/* \"?\"-specific style due to the `<a>` HTML tag */\n",
       "\n",
       "#sk-container-id-3 a.estimator_doc_link {\n",
       "  float: right;\n",
       "  font-size: 1rem;\n",
       "  line-height: 1em;\n",
       "  font-family: monospace;\n",
       "  background-color: var(--sklearn-color-background);\n",
       "  border-radius: 1rem;\n",
       "  height: 1rem;\n",
       "  width: 1rem;\n",
       "  text-decoration: none;\n",
       "  /* unfitted */\n",
       "  color: var(--sklearn-color-unfitted-level-1);\n",
       "  border: var(--sklearn-color-unfitted-level-1) 1pt solid;\n",
       "}\n",
       "\n",
       "#sk-container-id-3 a.estimator_doc_link.fitted {\n",
       "  /* fitted */\n",
       "  border: var(--sklearn-color-fitted-level-1) 1pt solid;\n",
       "  color: var(--sklearn-color-fitted-level-1);\n",
       "}\n",
       "\n",
       "/* On hover */\n",
       "#sk-container-id-3 a.estimator_doc_link:hover {\n",
       "  /* unfitted */\n",
       "  background-color: var(--sklearn-color-unfitted-level-3);\n",
       "  color: var(--sklearn-color-background);\n",
       "  text-decoration: none;\n",
       "}\n",
       "\n",
       "#sk-container-id-3 a.estimator_doc_link.fitted:hover {\n",
       "  /* fitted */\n",
       "  background-color: var(--sklearn-color-fitted-level-3);\n",
       "}\n",
       "</style><div id=\"sk-container-id-3\" class=\"sk-top-container\"><div class=\"sk-text-repr-fallback\"><pre>GridSearchCV(cv=10, estimator=ElasticNet(),\n",
       "             param_grid={&#x27;alpha&#x27;: [5e-05, 0.0005, 0.001, 0.01, 0.05, 0.06, 0.08,\n",
       "                                   1, 2, 3],\n",
       "                         &#x27;l1_ratio&#x27;: [0.1, 0.2, 0.3, 0.4, 0.5, 0.6, 0.7, 0.8,\n",
       "                                      1]},\n",
       "             scoring=&#x27;neg_mean_squared_error&#x27;)</pre><b>In a Jupyter environment, please rerun this cell to show the HTML representation or trust the notebook. <br />On GitHub, the HTML representation is unable to render, please try loading this page with nbviewer.org.</b></div><div class=\"sk-container\" hidden><div class=\"sk-item sk-dashed-wrapped\"><div class=\"sk-label-container\"><div class=\"sk-label fitted sk-toggleable\"><input class=\"sk-toggleable__control sk-hidden--visually\" id=\"sk-estimator-id-7\" type=\"checkbox\" ><label for=\"sk-estimator-id-7\" class=\"sk-toggleable__label fitted sk-toggleable__label-arrow\"><div><div>GridSearchCV</div></div><div><a class=\"sk-estimator-doc-link fitted\" rel=\"noreferrer\" target=\"_blank\" href=\"https://scikit-learn.org/1.6/modules/generated/sklearn.model_selection.GridSearchCV.html\">?<span>Documentation for GridSearchCV</span></a><span class=\"sk-estimator-doc-link fitted\">i<span>Fitted</span></span></div></label><div class=\"sk-toggleable__content fitted\"><pre>GridSearchCV(cv=10, estimator=ElasticNet(),\n",
       "             param_grid={&#x27;alpha&#x27;: [5e-05, 0.0005, 0.001, 0.01, 0.05, 0.06, 0.08,\n",
       "                                   1, 2, 3],\n",
       "                         &#x27;l1_ratio&#x27;: [0.1, 0.2, 0.3, 0.4, 0.5, 0.6, 0.7, 0.8,\n",
       "                                      1]},\n",
       "             scoring=&#x27;neg_mean_squared_error&#x27;)</pre></div> </div></div><div class=\"sk-parallel\"><div class=\"sk-parallel-item\"><div class=\"sk-item\"><div class=\"sk-label-container\"><div class=\"sk-label fitted sk-toggleable\"><input class=\"sk-toggleable__control sk-hidden--visually\" id=\"sk-estimator-id-8\" type=\"checkbox\" ><label for=\"sk-estimator-id-8\" class=\"sk-toggleable__label fitted sk-toggleable__label-arrow\"><div><div>best_estimator_: ElasticNet</div></div></label><div class=\"sk-toggleable__content fitted\"><pre>ElasticNet(alpha=0.01, l1_ratio=0.6)</pre></div> </div></div><div class=\"sk-serial\"><div class=\"sk-item\"><div class=\"sk-estimator fitted sk-toggleable\"><input class=\"sk-toggleable__control sk-hidden--visually\" id=\"sk-estimator-id-9\" type=\"checkbox\" ><label for=\"sk-estimator-id-9\" class=\"sk-toggleable__label fitted sk-toggleable__label-arrow\"><div><div>ElasticNet</div></div><div><a class=\"sk-estimator-doc-link fitted\" rel=\"noreferrer\" target=\"_blank\" href=\"https://scikit-learn.org/1.6/modules/generated/sklearn.linear_model.ElasticNet.html\">?<span>Documentation for ElasticNet</span></a></div></label><div class=\"sk-toggleable__content fitted\"><pre>ElasticNet(alpha=0.01, l1_ratio=0.6)</pre></div> </div></div></div></div></div></div></div></div></div>"
      ],
      "text/plain": [
       "GridSearchCV(cv=10, estimator=ElasticNet(),\n",
       "             param_grid={'alpha': [5e-05, 0.0005, 0.001, 0.01, 0.05, 0.06, 0.08,\n",
       "                                   1, 2, 3],\n",
       "                         'l1_ratio': [0.1, 0.2, 0.3, 0.4, 0.5, 0.6, 0.7, 0.8,\n",
       "                                      1]},\n",
       "             scoring='neg_mean_squared_error')"
      ]
     },
     "execution_count": 97,
     "metadata": {},
     "output_type": "execute_result"
    }
   ],
   "source": [
    "elastic_net.fit(X_train_scaled, y_train)"
   ]
  },
  {
   "cell_type": "code",
   "execution_count": 98,
   "metadata": {},
   "outputs": [
    {
     "data": {
      "text/plain": [
       "{'alpha': 0.01, 'l1_ratio': 0.6}"
      ]
     },
     "execution_count": 98,
     "metadata": {},
     "output_type": "execute_result"
    }
   ],
   "source": [
    "elastic_net.best_params_"
   ]
  },
  {
   "cell_type": "code",
   "execution_count": 99,
   "metadata": {},
   "outputs": [
    {
     "data": {
      "text/plain": [
       "-9878.78626134223"
      ]
     },
     "execution_count": 99,
     "metadata": {},
     "output_type": "execute_result"
    }
   ],
   "source": [
    "elastic_net.best_score_"
   ]
  },
  {
   "cell_type": "code",
   "execution_count": 100,
   "metadata": {},
   "outputs": [],
   "source": [
    "# построим регрессию гребневую L2 с оптимальным параметром регуляризации, который мы подобрали перебором\n",
    "model_reg_elastic = ElasticNet(alpha=0.01, l1_ratio=0.6, max_iter=1000) # alpha — величина регуляризации\n",
    "\n",
    "# обучение\n",
    "model_reg_elastic.fit(X_train_scaled, y_train)\n",
    "y_pred_test_elastic = model_reg_elastic.predict(X_test_scaled)\n",
    "y_pred_train_elastic = model_reg_elastic.predict(X_train_scaled)\n",
    "\n",
    "mse_test_elastic = mean_squared_error(y_test, y_pred_test_ridge )\n",
    "rmse_test_elastic = root_mean_squared_error(y_test, y_pred_test_ridge )\n",
    "\n",
    "mse_train_elastic = mean_squared_error(y_train, y_pred_train_ridge )\n",
    "rmse_train_elastic = root_mean_squared_error(y_train, y_pred_train_ridge )\n",
    "\n",
    "coefficients_elastic = model_reg_elastic.coef_"
   ]
  },
  {
   "cell_type": "code",
   "execution_count": 101,
   "metadata": {},
   "outputs": [
    {
     "data": {
      "text/plain": [
       "(9871.089787382929, 10346.732920637536)"
      ]
     },
     "execution_count": 101,
     "metadata": {},
     "output_type": "execute_result"
    }
   ],
   "source": [
    "mse_train_elastic, mse_test_elastic"
   ]
  },
  {
   "cell_type": "code",
   "execution_count": 102,
   "metadata": {},
   "outputs": [
    {
     "data": {
      "text/plain": [
       "(99.35335820888456, 101.71889166048526)"
      ]
     },
     "execution_count": 102,
     "metadata": {},
     "output_type": "execute_result"
    }
   ],
   "source": [
    "rmse_train_elastic, rmse_test_elastic"
   ]
  },
  {
   "cell_type": "code",
   "execution_count": 104,
   "metadata": {},
   "outputs": [
    {
     "data": {
      "text/plain": [
       "-1.2639155750313074"
      ]
     },
     "execution_count": 104,
     "metadata": {},
     "output_type": "execute_result"
    }
   ],
   "source": [
    "model_reg_elastic.intercept_"
   ]
  },
  {
   "cell_type": "code",
   "execution_count": 103,
   "metadata": {},
   "outputs": [
    {
     "data": {
      "text/plain": [
       "array([13.21213815, -5.38525691])"
      ]
     },
     "execution_count": 103,
     "metadata": {},
     "output_type": "execute_result"
    }
   ],
   "source": [
    "model_reg_elastic.coef_"
   ]
  },
  {
   "cell_type": "markdown",
   "metadata": {},
   "source": [
    "ТО есть мы получили модель y = -1.2639155750313078 + 13.21213815 * feature1 - 5.38525691 * feature_new"
   ]
  }
 ],
 "metadata": {
  "colab": {
   "provenance": []
  },
  "kernelspec": {
   "display_name": "Python 3 (ipykernel)",
   "language": "python",
   "name": "python3"
  },
  "language_info": {
   "codemirror_mode": {
    "name": "ipython",
    "version": 3
   },
   "file_extension": ".py",
   "mimetype": "text/x-python",
   "name": "python",
   "nbconvert_exporter": "python",
   "pygments_lexer": "ipython3",
   "version": "3.12.8"
  }
 },
 "nbformat": 4,
 "nbformat_minor": 4
}
