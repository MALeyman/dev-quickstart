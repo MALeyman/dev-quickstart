{
 "cells": [
  {
   "cell_type": "markdown",
   "metadata": {
    "id": "IDXQB-9mglBR"
   },
   "source": [
    "# <font color='744fdb' size=6> **Метод главных компонент (principal component analysis, PCA)**\n"
   ]
  },
  {
   "cell_type": "code",
   "execution_count": 1,
   "metadata": {
    "id": "SB-oPNwu8pTs"
   },
   "outputs": [],
   "source": [
    "import numpy as np\n",
    "\n",
    "from sklearn.decomposition import PCA\n",
    "\n",
    "import matplotlib.pyplot as plt\n",
    "import seaborn as sns"
   ]
  },
  {
   "cell_type": "code",
   "execution_count": 2,
   "metadata": {
    "id": "PyN6oQFK8pWz"
   },
   "outputs": [],
   "source": [
    "x = np.arange(1,21)\n",
    "y = 2 * x + np.random.randn(20)*2"
   ]
  },
  {
   "cell_type": "code",
   "execution_count": 3,
   "metadata": {
    "colab": {
     "base_uri": "https://localhost:8080/",
     "height": 445
    },
    "id": "Ay9yIft38ykW",
    "outputId": "bbeb8609-1263-4ebe-9563-b19fc660fe3d"
   },
   "outputs": [
    {
     "data": {
      "image/png": "[encoded data removed]",
      "text/plain": [
       "<Figure size 500x500 with 1 Axes>"
      ]
     },
     "metadata": {},
     "output_type": "display_data"
    }
   ],
   "source": [
    "plt.figure(figsize=(5,5))\n",
    "sns.scatterplot(x=x, y=y)\n",
    "plt.grid(True)\n",
    "plt.show()"
   ]
  },
  {
   "cell_type": "code",
   "execution_count": 4,
   "metadata": {
    "id": "6b3sJYiP9nji"
   },
   "outputs": [],
   "source": [
    "# центрируем\n",
    "x_centr = x - x.mean()\n",
    "y_centr = y - y.mean()"
   ]
  },
  {
   "cell_type": "code",
   "execution_count": 5,
   "metadata": {
    "colab": {
     "base_uri": "https://localhost:8080/",
     "height": 445
    },
    "id": "GzZl2hrR97YP",
    "outputId": "b28e8aac-95b8-40de-d473-13f38aee8f00"
   },
   "outputs": [
    {
     "data": {
      "image/png": "[encoded data removed]",
      "text/plain": [
       "<Figure size 500x500 with 1 Axes>"
      ]
     },
     "metadata": {},
     "output_type": "display_data"
    }
   ],
   "source": [
    "plt.figure(figsize=(5,5))\n",
    "sns.scatterplot(x=x_centr, y=y_centr)\n",
    "plt.grid(True)\n",
    "plt.show()"
   ]
  },
  {
   "cell_type": "markdown",
   "metadata": {
    "id": "hBNLS--tFMcC"
   },
   "source": [
    "Ковариационная матрица - это матрица, у которой $ (i,j) $-элемент является корреляцией признаков $(X_i, X_j)$. Вспомним формулу ковариации:\n",
    "$$\n",
    "Cov(X_i, X_j) = E \\left[ (X_i - E(X_i)) \\cdot (X_j - E(X_j)) \\right] = E(X_i X_j) - E(X_i) \\cdot E(X_j)\n",
    "$$\n",
    "\n",
    "В нашем случае она упрощается, так как $E(X_i) = E(X_j) = 0$:\n",
    "$$\n",
    "Cov(X_i, X_j) = E(X_i X_j)\n",
    "$$\n",
    "\n",
    "Заметим, что когда $X_i = X_j$:\n",
    "$$\n",
    "Cov(X_i, X_i) = Var(X_i)\n",
    "$$\n",
    "\n",
    "и это справедливо для любых случайных величин.\n"
   ]
  },
  {
   "cell_type": "markdown",
   "metadata": {
    "id": "a1mHUjiSFpPW"
   },
   "source": [
    "Замечание: Ковариационная матрица является обобщением дисперсии на случай многомерных случайных величин – она так же описывает форму (разброс) случайной величины, как и дисперсия."
   ]
  },
  {
   "cell_type": "markdown",
   "metadata": {},
   "source": [
    "Мат. ожидание - это центр тяжести величины (положение сл. величины)\n",
    "\n",
    "Дисперсия - размеры величины (размер или разброс сл. величины)"
   ]
  },
  {
   "cell_type": "code",
   "execution_count": 6,
   "metadata": {
    "id": "Tkyr82tPQJR5"
   },
   "outputs": [],
   "source": [
    "X_centr = np.vstack((x_centr, y_centr))"
   ]
  },
  {
   "cell_type": "code",
   "execution_count": 7,
   "metadata": {
    "id": "4hF5ylyN-H2a"
   },
   "outputs": [],
   "source": [
    "covmat = np.cov(X_centr)"
   ]
  },
  {
   "cell_type": "code",
   "execution_count": 8,
   "metadata": {
    "colab": {
     "base_uri": "https://localhost:8080/"
    },
    "id": "4KrULB33-aVE",
    "outputId": "a11aa030-063a-4475-eafb-709c9e536423"
   },
   "outputs": [
    {
     "data": {
      "text/plain": [
       "array([[ 35.        ,  68.40478571],\n",
       "       [ 68.40478571, 138.15856966]])"
      ]
     },
     "execution_count": 8,
     "metadata": {},
     "output_type": "execute_result"
    }
   ],
   "source": [
    "covmat"
   ]
  },
  {
   "cell_type": "markdown",
   "metadata": {
    "id": "Ynk5HLDeHiLE"
   },
   "source": [
    "Найдем вектор, при котором максимизировался бы  размер (дисперсия) проекции нашей выборки на него"
   ]
  },
  {
   "cell_type": "markdown",
   "metadata": {
    "id": "VLASKEMkKuR-"
   },
   "source": [
    "Рассмотрим выборку данных $X$ и вектор направления $w$. Проекция данных $X$ на $w$ определяется как $Xw$. Нам нужно максимизировать дисперсию этой проекции, которая вычисляется как:\n",
    "$$\n",
    "\\text{Var}(Xw) = w^T Q w\n",
    "$$\n",
    "\n",
    "Для нахождения $w$, которое максимизирует дисперсию, необходимо нормировать $w$ так, чтобы $w^T w = 1$.\n",
    "\n",
    "Формулируем задачу оптимизации:\n",
    "$$\n",
    "\\max_{w} \\, w^T Q w \\quad \\text{при условии} \\quad w^T w = 1\n",
    "$$\n",
    "\n",
    "Для решения этой задачи используем метод Лагранжа. Записываем лагранжиан:\n",
    "$$\n",
    "L(w, \\lambda) = w^T Q w - \\lambda (w^T w - 1)\n",
    "$$\n",
    "\n",
    "Находим производные по $w$ и $\\lambda$ и приравниваем их к нулю:\n",
    "$$\n",
    "\\frac{\\partial L}{\\partial w} = 2Q w - 2\\lambda w = 0\n",
    "$$\n",
    "$$\n",
    "Q w = \\lambda w\n",
    "$$\n",
    "\n",
    "Это и есть определение собственного вектора и собственного значения.\n",
    "\n",
    "Собственные значения $\\lambda$ представляют дисперсии вдоль направлений, определяемых соответствующими собственными векторами. Для максимизации дисперсии нужно выбрать вектор, соответствующий наибольшему собственному значению.\n",
    "\n",
    "\n",
    "Таким образом, направление максимальной дисперсии у проекции всегда совпадает с собственным вектором, имеющим максимальное собственное значение."
   ]
  },
  {
   "cell_type": "markdown",
   "metadata": {
    "id": "ewcJCXO_PtQ5"
   },
   "source": [
    "###Пример расчета собственнх значений"
   ]
  },
  {
   "cell_type": "markdown",
   "metadata": {
    "id": "atqW7TDULTLm"
   },
   "source": [
    "\n",
    "\n",
    "Предположим, у нас есть ковариационная матрица:\n",
    "$$\n",
    "Q = \\begin{pmatrix}\n",
    "4 & 2 \\\\\n",
    "2 & 3\n",
    "\\end{pmatrix}\n",
    "$$\n",
    "\n",
    "Найдём собственные значения и векторы:\n",
    "\n",
    "1. Решаем характеристическое уравнение:\n",
    "$$\n",
    "\\det(Q - \\lambda I) = 0\n",
    "$$\n",
    "\n",
    "$$\n",
    "\\begin{vmatrix}\n",
    "4 - \\lambda & 2 \\\\\n",
    "2 & 3 - \\lambda\n",
    "\\end{vmatrix} = 0\n",
    "$$\n",
    "$$\n",
    "(4 - \\lambda)(3 - \\lambda) - 4 = \\lambda^2 - 7\\lambda + 8 = 0\n",
    "$$\n",
    "Собственные значения: $\\lambda_1 = \\frac{1+\\sqrt{17}}{2}$, $\\lambda_2 = \\frac{1-\\sqrt{17}}{2}$.\n"
   ]
  },
  {
   "cell_type": "markdown",
   "metadata": {
    "id": "7F2INzSAQBE_"
   },
   "source": [
    "### Собственные вектора и продолжение работы с методом"
   ]
  },
  {
   "cell_type": "markdown",
   "metadata": {
    "id": "6OEf0aCGQnxi"
   },
   "source": [
    "Функция `np.linalg.eig` из библиотеки NumPy вычисляет собственные значения и собственные векторы квадратной матрицы."
   ]
  },
  {
   "cell_type": "code",
   "execution_count": 9,
   "metadata": {
    "colab": {
     "base_uri": "https://localhost:8080/"
    },
    "id": "Wi9Aen90Q-UV",
    "outputId": "5b17b075-574d-443a-fb76-9f575cfb3647"
   },
   "outputs": [
    {
     "data": {
      "text/plain": [
       "array([[ -9.5       ,  -8.5       ,  -7.5       ,  -6.5       ,\n",
       "         -5.5       ,  -4.5       ,  -3.5       ,  -2.5       ,\n",
       "         -1.5       ,  -0.5       ,   0.5       ,   1.5       ,\n",
       "          2.5       ,   3.5       ,   4.5       ,   5.5       ,\n",
       "          6.5       ,   7.5       ,   8.5       ,   9.5       ],\n",
       "       [-18.78367527, -13.77284844, -18.75733308, -15.79416379,\n",
       "        -10.44454477,  -5.26793451,  -6.10065298,  -4.87716683,\n",
       "         -2.6271823 ,  -0.74776716,   1.87567107,   1.05306014,\n",
       "          2.79586529,   9.16369931,  12.13915522,   9.69305076,\n",
       "         12.49619405,  13.00569206,  18.49515985,  16.45572138]])"
      ]
     },
     "execution_count": 9,
     "metadata": {},
     "output_type": "execute_result"
    }
   ],
   "source": [
    "X_centr"
   ]
  },
  {
   "cell_type": "code",
   "execution_count": 10,
   "metadata": {
    "id": "eej6w59qRDnD"
   },
   "outputs": [],
   "source": [
    "a, vecs = np.linalg.eig(covmat) # собственные вектора"
   ]
  },
  {
   "cell_type": "code",
   "execution_count": 11,
   "metadata": {
    "colab": {
     "base_uri": "https://localhost:8080/"
    },
    "id": "pYIVG2b6XRrD",
    "outputId": "8f44b8e8-fc75-4afc-be6e-0a3011c8dd4d"
   },
   "outputs": [
    {
     "data": {
      "text/plain": [
       "array([  0.90760146, 172.2509682 ])"
      ]
     },
     "execution_count": 11,
     "metadata": {},
     "output_type": "execute_result"
    }
   ],
   "source": [
    "a"
   ]
  },
  {
   "cell_type": "code",
   "execution_count": 12,
   "metadata": {
    "colab": {
     "base_uri": "https://localhost:8080/"
    },
    "id": "AUzOZRuIXSYu",
    "outputId": "445d0ec1-dcdf-4cb1-a0fc-24d7f2b6a747"
   },
   "outputs": [
    {
     "data": {
      "text/plain": [
       "array([[-0.89500211, -0.4460619 ],\n",
       "       [ 0.4460619 , -0.89500211]])"
      ]
     },
     "execution_count": 12,
     "metadata": {},
     "output_type": "execute_result"
    }
   ],
   "source": [
    "vecs"
   ]
  },
  {
   "cell_type": "code",
   "execution_count": 13,
   "metadata": {
    "colab": {
     "base_uri": "https://localhost:8080/"
    },
    "id": "ZfRnXRZx7iOv",
    "outputId": "8b54d5fa-9826-448d-dfac-4e9d69e420ba"
   },
   "outputs": [
    {
     "data": {
      "text/plain": [
       "np.float64(-0.8950021123149264)"
      ]
     },
     "execution_count": 13,
     "metadata": {},
     "output_type": "execute_result"
    }
   ],
   "source": [
    "vecs[1,1]"
   ]
  },
  {
   "cell_type": "code",
   "execution_count": 14,
   "metadata": {
    "colab": {
     "base_uri": "https://localhost:8080/"
    },
    "id": "gaYAYoZH6_1l",
    "outputId": "fe791e08-42a7-44dd-a93f-a1719225ea9c"
   },
   "outputs": [
    {
     "data": {
      "text/plain": [
       "array([-18.78367527, -13.77284844, -18.75733308, -15.79416379,\n",
       "       -10.44454477,  -5.26793451,  -6.10065298,  -4.87716683,\n",
       "        -2.6271823 ,  -0.74776716,   1.87567107,   1.05306014,\n",
       "         2.79586529,   9.16369931,  12.13915522,   9.69305076,\n",
       "        12.49619405,  13.00569206,  18.49515985,  16.45572138])"
      ]
     },
     "execution_count": 14,
     "metadata": {},
     "output_type": "execute_result"
    }
   ],
   "source": [
    "X_centr[1]"
   ]
  },
  {
   "cell_type": "code",
   "execution_count": 15,
   "metadata": {
    "colab": {
     "base_uri": "https://localhost:8080/"
    },
    "id": "Lc66NIdy7baX",
    "outputId": "86d24951-3124-417d-83dc-f9e45807e5eb"
   },
   "outputs": [
    {
     "data": {
      "text/plain": [
       "array([-9.5, -8.5, -7.5, -6.5, -5.5, -4.5, -3.5, -2.5, -1.5, -0.5,  0.5,\n",
       "        1.5,  2.5,  3.5,  4.5,  5.5,  6.5,  7.5,  8.5,  9.5])"
      ]
     },
     "execution_count": 15,
     "metadata": {},
     "output_type": "execute_result"
    }
   ],
   "source": [
    "X_centr[0]"
   ]
  },
  {
   "cell_type": "code",
   "execution_count": 16,
   "metadata": {
    "colab": {
     "base_uri": "https://localhost:8080/"
    },
    "id": "O-1A1dnX7fFd",
    "outputId": "14e915cf-d2b2-4956-f29f-9a98c4885e19"
   },
   "outputs": [
    {
     "data": {
      "text/plain": [
       "array([ 21.04901709,  16.1182546 ,  20.13331698,  17.03521231,\n",
       "        11.80123009,   6.72209107,   7.02131395,   5.48022937,\n",
       "         3.02042656,   0.89228414,  -1.90176052,  -1.6115839 ,\n",
       "        -3.61746009,  -9.76274689, -12.87184811, -11.12864136,\n",
       "       -14.08352243, -14.98558612, -20.34473329, -18.96549345])"
      ]
     },
     "execution_count": 16,
     "metadata": {},
     "output_type": "execute_result"
    }
   ],
   "source": [
    "X_centr[0] * vecs[0,1] + X_centr[1] * vecs[1,1]"
   ]
  },
  {
   "cell_type": "code",
   "execution_count": 17,
   "metadata": {
    "id": "PGd_l24GcC24"
   },
   "outputs": [],
   "source": [
    "_, vecs = np.linalg.eig(covmat)\n",
    "v = -vecs[:,1]\n",
    "Xnew = np.dot(v,X_centr)"
   ]
  },
  {
   "cell_type": "code",
   "execution_count": 18,
   "metadata": {},
   "outputs": [
    {
     "data": {
      "text/plain": [
       "array([[ -9.5       ,  -8.5       ,  -7.5       ,  -6.5       ,\n",
       "         -5.5       ,  -4.5       ,  -3.5       ,  -2.5       ,\n",
       "         -1.5       ,  -0.5       ,   0.5       ,   1.5       ,\n",
       "          2.5       ,   3.5       ,   4.5       ,   5.5       ,\n",
       "          6.5       ,   7.5       ,   8.5       ,   9.5       ],\n",
       "       [-18.78367527, -13.77284844, -18.75733308, -15.79416379,\n",
       "        -10.44454477,  -5.26793451,  -6.10065298,  -4.87716683,\n",
       "         -2.6271823 ,  -0.74776716,   1.87567107,   1.05306014,\n",
       "          2.79586529,   9.16369931,  12.13915522,   9.69305076,\n",
       "         12.49619405,  13.00569206,  18.49515985,  16.45572138]])"
      ]
     },
     "execution_count": 18,
     "metadata": {},
     "output_type": "execute_result"
    }
   ],
   "source": [
    "X_centr"
   ]
  },
  {
   "cell_type": "code",
   "execution_count": 19,
   "metadata": {
    "colab": {
     "base_uri": "https://localhost:8080/"
    },
    "id": "8ob4zH0LdUEj",
    "outputId": "51982798-8f9f-45a9-faa3-74426200851a"
   },
   "outputs": [
    {
     "data": {
      "text/plain": [
       "array([-21.04901709, -16.1182546 , -20.13331698, -17.03521231,\n",
       "       -11.80123009,  -6.72209107,  -7.02131395,  -5.48022937,\n",
       "        -3.02042656,  -0.89228414,   1.90176052,   1.6115839 ,\n",
       "         3.61746009,   9.76274689,  12.87184811,  11.12864136,\n",
       "        14.08352243,  14.98558612,  20.34473329,  18.96549345])"
      ]
     },
     "execution_count": 19,
     "metadata": {},
     "output_type": "execute_result"
    }
   ],
   "source": [
    "Xnew"
   ]
  },
  {
   "cell_type": "markdown",
   "metadata": {
    "id": "UXAylk4Id2YX"
   },
   "source": [
    "### Найдем через библиотеку"
   ]
  },
  {
   "cell_type": "code",
   "execution_count": 36,
   "metadata": {},
   "outputs": [],
   "source": [
    "#PCA?"
   ]
  },
  {
   "cell_type": "code",
   "execution_count": 40,
   "metadata": {
    "id": "zzPsnKoCXgcf"
   },
   "outputs": [],
   "source": [
    "from sklearn.decomposition import PCA\n",
    "pca = PCA(n_components = 1)\n",
    "XPCAreduced = pca.fit_transform(X_centr.T)"
   ]
  },
  {
   "cell_type": "code",
   "execution_count": 45,
   "metadata": {},
   "outputs": [
    {
     "data": {
      "text/plain": [
       "array([[ -9.5       ,  -8.5       ,  -7.5       ,  -6.5       ,\n",
       "         -5.5       ,  -4.5       ,  -3.5       ,  -2.5       ,\n",
       "         -1.5       ,  -0.5       ,   0.5       ,   1.5       ,\n",
       "          2.5       ,   3.5       ,   4.5       ,   5.5       ,\n",
       "          6.5       ,   7.5       ,   8.5       ,   9.5       ],\n",
       "       [-18.78367527, -13.77284844, -18.75733308, -15.79416379,\n",
       "        -10.44454477,  -5.26793451,  -6.10065298,  -4.87716683,\n",
       "         -2.6271823 ,  -0.74776716,   1.87567107,   1.05306014,\n",
       "          2.79586529,   9.16369931,  12.13915522,   9.69305076,\n",
       "         12.49619405,  13.00569206,  18.49515985,  16.45572138]])"
      ]
     },
     "execution_count": 45,
     "metadata": {},
     "output_type": "execute_result"
    }
   ],
   "source": [
    "X_centr"
   ]
  },
  {
   "cell_type": "code",
   "execution_count": 41,
   "metadata": {},
   "outputs": [
    {
     "data": {
      "text/plain": [
       "array([-21.04901709, -16.1182546 , -20.13331698, -17.03521231,\n",
       "       -11.80123009,  -6.72209107,  -7.02131395,  -5.48022937,\n",
       "        -3.02042656,  -0.89228414,   1.90176052,   1.6115839 ,\n",
       "         3.61746009,   9.76274689,  12.87184811,  11.12864136,\n",
       "        14.08352243,  14.98558612,  20.34473329,  18.96549345])"
      ]
     },
     "execution_count": 41,
     "metadata": {},
     "output_type": "execute_result"
    }
   ],
   "source": [
    "Xnew"
   ]
  },
  {
   "cell_type": "code",
   "execution_count": 42,
   "metadata": {
    "colab": {
     "base_uri": "https://localhost:8080/"
    },
    "id": "MsbzZs03XgfW",
    "outputId": "44283ced-c1ce-4464-b727-7289a47b4e78"
   },
   "outputs": [
    {
     "data": {
      "text/plain": [
       "array([[-21.04901709],\n",
       "       [-16.1182546 ],\n",
       "       [-20.13331698],\n",
       "       [-17.03521231],\n",
       "       [-11.80123009],\n",
       "       [ -6.72209107],\n",
       "       [ -7.02131395],\n",
       "       [ -5.48022937],\n",
       "       [ -3.02042656],\n",
       "       [ -0.89228414],\n",
       "       [  1.90176052],\n",
       "       [  1.6115839 ],\n",
       "       [  3.61746009],\n",
       "       [  9.76274689],\n",
       "       [ 12.87184811],\n",
       "       [ 11.12864136],\n",
       "       [ 14.08352243],\n",
       "       [ 14.98558612],\n",
       "       [ 20.34473329],\n",
       "       [ 18.96549345]])"
      ]
     },
     "execution_count": 42,
     "metadata": {},
     "output_type": "execute_result"
    }
   ],
   "source": [
    "XPCAreduced"
   ]
  },
  {
   "cell_type": "code",
   "execution_count": 43,
   "metadata": {},
   "outputs": [
    {
     "data": {
      "text/html": [
       "<style>#sk-container-id-2 {\n",
       "  /* Definition of color scheme common for light and dark mode */\n",
       "  --sklearn-color-text: #000;\n",
       "  --sklearn-color-text-muted: #666;\n",
       "  --sklearn-color-line: gray;\n",
       "  /* Definition of color scheme for unfitted estimators */\n",
       "  --sklearn-color-unfitted-level-0: #fff5e6;\n",
       "  --sklearn-color-unfitted-level-1: #f6e4d2;\n",
       "  --sklearn-color-unfitted-level-2: #ffe0b3;\n",
       "  --sklearn-color-unfitted-level-3: chocolate;\n",
       "  /* Definition of color scheme for fitted estimators */\n",
       "  --sklearn-color-fitted-level-0: #f0f8ff;\n",
       "  --sklearn-color-fitted-level-1: #d4ebff;\n",
       "  --sklearn-color-fitted-level-2: #b3dbfd;\n",
       "  --sklearn-color-fitted-level-3: cornflowerblue;\n",
       "\n",
       "  /* Specific color for light theme */\n",
       "  --sklearn-color-text-on-default-background: var(--sg-text-color, var(--theme-code-foreground, var(--jp-content-font-color1, black)));\n",
       "  --sklearn-color-background: var(--sg-background-color, var(--theme-background, var(--jp-layout-color0, white)));\n",
       "  --sklearn-color-border-box: var(--sg-text-color, var(--theme-code-foreground, var(--jp-content-font-color1, black)));\n",
       "  --sklearn-color-icon: #696969;\n",
       "\n",
       "  @media (prefers-color-scheme: dark) {\n",
       "    /* Redefinition of color scheme for dark theme */\n",
       "    --sklearn-color-text-on-default-background: var(--sg-text-color, var(--theme-code-foreground, var(--jp-content-font-color1, white)));\n",
       "    --sklearn-color-background: var(--sg-background-color, var(--theme-background, var(--jp-layout-color0, #111)));\n",
       "    --sklearn-color-border-box: var(--sg-text-color, var(--theme-code-foreground, var(--jp-content-font-color1, white)));\n",
       "    --sklearn-color-icon: #878787;\n",
       "  }\n",
       "}\n",
       "\n",
       "#sk-container-id-2 {\n",
       "  color: var(--sklearn-color-text);\n",
       "}\n",
       "\n",
       "#sk-container-id-2 pre {\n",
       "  padding: 0;\n",
       "}\n",
       "\n",
       "#sk-container-id-2 input.sk-hidden--visually {\n",
       "  border: 0;\n",
       "  clip: rect(1px 1px 1px 1px);\n",
       "  clip: rect(1px, 1px, 1px, 1px);\n",
       "  height: 1px;\n",
       "  margin: -1px;\n",
       "  overflow: hidden;\n",
       "  padding: 0;\n",
       "  position: absolute;\n",
       "  width: 1px;\n",
       "}\n",
       "\n",
       "#sk-container-id-2 div.sk-dashed-wrapped {\n",
       "  border: 1px dashed var(--sklearn-color-line);\n",
       "  margin: 0 0.4em 0.5em 0.4em;\n",
       "  box-sizing: border-box;\n",
       "  padding-bottom: 0.4em;\n",
       "  background-color: var(--sklearn-color-background);\n",
       "}\n",
       "\n",
       "#sk-container-id-2 div.sk-container {\n",
       "  /* jupyter's `normalize.less` sets `[hidden] { display: none; }`\n",
       "     but bootstrap.min.css set `[hidden] { display: none !important; }`\n",
       "     so we also need the `!important` here to be able to override the\n",
       "     default hidden behavior on the sphinx rendered scikit-learn.org.\n",
       "     See: https://github.com/scikit-learn/scikit-learn/issues/21755 */\n",
       "  display: inline-block !important;\n",
       "  position: relative;\n",
       "}\n",
       "\n",
       "#sk-container-id-2 div.sk-text-repr-fallback {\n",
       "  display: none;\n",
       "}\n",
       "\n",
       "div.sk-parallel-item,\n",
       "div.sk-serial,\n",
       "div.sk-item {\n",
       "  /* draw centered vertical line to link estimators */\n",
       "  background-image: linear-gradient(var(--sklearn-color-text-on-default-background), var(--sklearn-color-text-on-default-background));\n",
       "  background-size: 2px 100%;\n",
       "  background-repeat: no-repeat;\n",
       "  background-position: center center;\n",
       "}\n",
       "\n",
       "/* Parallel-specific style estimator block */\n",
       "\n",
       "#sk-container-id-2 div.sk-parallel-item::after {\n",
       "  content: \"\";\n",
       "  width: 100%;\n",
       "  border-bottom: 2px solid var(--sklearn-color-text-on-default-background);\n",
       "  flex-grow: 1;\n",
       "}\n",
       "\n",
       "#sk-container-id-2 div.sk-parallel {\n",
       "  display: flex;\n",
       "  align-items: stretch;\n",
       "  justify-content: center;\n",
       "  background-color: var(--sklearn-color-background);\n",
       "  position: relative;\n",
       "}\n",
       "\n",
       "#sk-container-id-2 div.sk-parallel-item {\n",
       "  display: flex;\n",
       "  flex-direction: column;\n",
       "}\n",
       "\n",
       "#sk-container-id-2 div.sk-parallel-item:first-child::after {\n",
       "  align-self: flex-end;\n",
       "  width: 50%;\n",
       "}\n",
       "\n",
       "#sk-container-id-2 div.sk-parallel-item:last-child::after {\n",
       "  align-self: flex-start;\n",
       "  width: 50%;\n",
       "}\n",
       "\n",
       "#sk-container-id-2 div.sk-parallel-item:only-child::after {\n",
       "  width: 0;\n",
       "}\n",
       "\n",
       "/* Serial-specific style estimator block */\n",
       "\n",
       "#sk-container-id-2 div.sk-serial {\n",
       "  display: flex;\n",
       "  flex-direction: column;\n",
       "  align-items: center;\n",
       "  background-color: var(--sklearn-color-background);\n",
       "  padding-right: 1em;\n",
       "  padding-left: 1em;\n",
       "}\n",
       "\n",
       "\n",
       "/* Toggleable style: style used for estimator/Pipeline/ColumnTransformer box that is\n",
       "clickable and can be expanded/collapsed.\n",
       "- Pipeline and ColumnTransformer use this feature and define the default style\n",
       "- Estimators will overwrite some part of the style using the `sk-estimator` class\n",
       "*/\n",
       "\n",
       "/* Pipeline and ColumnTransformer style (default) */\n",
       "\n",
       "#sk-container-id-2 div.sk-toggleable {\n",
       "  /* Default theme specific background. It is overwritten whether we have a\n",
       "  specific estimator or a Pipeline/ColumnTransformer */\n",
       "  background-color: var(--sklearn-color-background);\n",
       "}\n",
       "\n",
       "/* Toggleable label */\n",
       "#sk-container-id-2 label.sk-toggleable__label {\n",
       "  cursor: pointer;\n",
       "  display: flex;\n",
       "  width: 100%;\n",
       "  margin-bottom: 0;\n",
       "  padding: 0.5em;\n",
       "  box-sizing: border-box;\n",
       "  text-align: center;\n",
       "  align-items: start;\n",
       "  justify-content: space-between;\n",
       "  gap: 0.5em;\n",
       "}\n",
       "\n",
       "#sk-container-id-2 label.sk-toggleable__label .caption {\n",
       "  font-size: 0.6rem;\n",
       "  font-weight: lighter;\n",
       "  color: var(--sklearn-color-text-muted);\n",
       "}\n",
       "\n",
       "#sk-container-id-2 label.sk-toggleable__label-arrow:before {\n",
       "  /* Arrow on the left of the label */\n",
       "  content: \"▸\";\n",
       "  float: left;\n",
       "  margin-right: 0.25em;\n",
       "  color: var(--sklearn-color-icon);\n",
       "}\n",
       "\n",
       "#sk-container-id-2 label.sk-toggleable__label-arrow:hover:before {\n",
       "  color: var(--sklearn-color-text);\n",
       "}\n",
       "\n",
       "/* Toggleable content - dropdown */\n",
       "\n",
       "#sk-container-id-2 div.sk-toggleable__content {\n",
       "  max-height: 0;\n",
       "  max-width: 0;\n",
       "  overflow: hidden;\n",
       "  text-align: left;\n",
       "  /* unfitted */\n",
       "  background-color: var(--sklearn-color-unfitted-level-0);\n",
       "}\n",
       "\n",
       "#sk-container-id-2 div.sk-toggleable__content.fitted {\n",
       "  /* fitted */\n",
       "  background-color: var(--sklearn-color-fitted-level-0);\n",
       "}\n",
       "\n",
       "#sk-container-id-2 div.sk-toggleable__content pre {\n",
       "  margin: 0.2em;\n",
       "  border-radius: 0.25em;\n",
       "  color: var(--sklearn-color-text);\n",
       "  /* unfitted */\n",
       "  background-color: var(--sklearn-color-unfitted-level-0);\n",
       "}\n",
       "\n",
       "#sk-container-id-2 div.sk-toggleable__content.fitted pre {\n",
       "  /* unfitted */\n",
       "  background-color: var(--sklearn-color-fitted-level-0);\n",
       "}\n",
       "\n",
       "#sk-container-id-2 input.sk-toggleable__control:checked~div.sk-toggleable__content {\n",
       "  /* Expand drop-down */\n",
       "  max-height: 200px;\n",
       "  max-width: 100%;\n",
       "  overflow: auto;\n",
       "}\n",
       "\n",
       "#sk-container-id-2 input.sk-toggleable__control:checked~label.sk-toggleable__label-arrow:before {\n",
       "  content: \"▾\";\n",
       "}\n",
       "\n",
       "/* Pipeline/ColumnTransformer-specific style */\n",
       "\n",
       "#sk-container-id-2 div.sk-label input.sk-toggleable__control:checked~label.sk-toggleable__label {\n",
       "  color: var(--sklearn-color-text);\n",
       "  background-color: var(--sklearn-color-unfitted-level-2);\n",
       "}\n",
       "\n",
       "#sk-container-id-2 div.sk-label.fitted input.sk-toggleable__control:checked~label.sk-toggleable__label {\n",
       "  background-color: var(--sklearn-color-fitted-level-2);\n",
       "}\n",
       "\n",
       "/* Estimator-specific style */\n",
       "\n",
       "/* Colorize estimator box */\n",
       "#sk-container-id-2 div.sk-estimator input.sk-toggleable__control:checked~label.sk-toggleable__label {\n",
       "  /* unfitted */\n",
       "  background-color: var(--sklearn-color-unfitted-level-2);\n",
       "}\n",
       "\n",
       "#sk-container-id-2 div.sk-estimator.fitted input.sk-toggleable__control:checked~label.sk-toggleable__label {\n",
       "  /* fitted */\n",
       "  background-color: var(--sklearn-color-fitted-level-2);\n",
       "}\n",
       "\n",
       "#sk-container-id-2 div.sk-label label.sk-toggleable__label,\n",
       "#sk-container-id-2 div.sk-label label {\n",
       "  /* The background is the default theme color */\n",
       "  color: var(--sklearn-color-text-on-default-background);\n",
       "}\n",
       "\n",
       "/* On hover, darken the color of the background */\n",
       "#sk-container-id-2 div.sk-label:hover label.sk-toggleable__label {\n",
       "  color: var(--sklearn-color-text);\n",
       "  background-color: var(--sklearn-color-unfitted-level-2);\n",
       "}\n",
       "\n",
       "/* Label box, darken color on hover, fitted */\n",
       "#sk-container-id-2 div.sk-label.fitted:hover label.sk-toggleable__label.fitted {\n",
       "  color: var(--sklearn-color-text);\n",
       "  background-color: var(--sklearn-color-fitted-level-2);\n",
       "}\n",
       "\n",
       "/* Estimator label */\n",
       "\n",
       "#sk-container-id-2 div.sk-label label {\n",
       "  font-family: monospace;\n",
       "  font-weight: bold;\n",
       "  display: inline-block;\n",
       "  line-height: 1.2em;\n",
       "}\n",
       "\n",
       "#sk-container-id-2 div.sk-label-container {\n",
       "  text-align: center;\n",
       "}\n",
       "\n",
       "/* Estimator-specific */\n",
       "#sk-container-id-2 div.sk-estimator {\n",
       "  font-family: monospace;\n",
       "  border: 1px dotted var(--sklearn-color-border-box);\n",
       "  border-radius: 0.25em;\n",
       "  box-sizing: border-box;\n",
       "  margin-bottom: 0.5em;\n",
       "  /* unfitted */\n",
       "  background-color: var(--sklearn-color-unfitted-level-0);\n",
       "}\n",
       "\n",
       "#sk-container-id-2 div.sk-estimator.fitted {\n",
       "  /* fitted */\n",
       "  background-color: var(--sklearn-color-fitted-level-0);\n",
       "}\n",
       "\n",
       "/* on hover */\n",
       "#sk-container-id-2 div.sk-estimator:hover {\n",
       "  /* unfitted */\n",
       "  background-color: var(--sklearn-color-unfitted-level-2);\n",
       "}\n",
       "\n",
       "#sk-container-id-2 div.sk-estimator.fitted:hover {\n",
       "  /* fitted */\n",
       "  background-color: var(--sklearn-color-fitted-level-2);\n",
       "}\n",
       "\n",
       "/* Specification for estimator info (e.g. \"i\" and \"?\") */\n",
       "\n",
       "/* Common style for \"i\" and \"?\" */\n",
       "\n",
       ".sk-estimator-doc-link,\n",
       "a:link.sk-estimator-doc-link,\n",
       "a:visited.sk-estimator-doc-link {\n",
       "  float: right;\n",
       "  font-size: smaller;\n",
       "  line-height: 1em;\n",
       "  font-family: monospace;\n",
       "  background-color: var(--sklearn-color-background);\n",
       "  border-radius: 1em;\n",
       "  height: 1em;\n",
       "  width: 1em;\n",
       "  text-decoration: none !important;\n",
       "  margin-left: 0.5em;\n",
       "  text-align: center;\n",
       "  /* unfitted */\n",
       "  border: var(--sklearn-color-unfitted-level-1) 1pt solid;\n",
       "  color: var(--sklearn-color-unfitted-level-1);\n",
       "}\n",
       "\n",
       ".sk-estimator-doc-link.fitted,\n",
       "a:link.sk-estimator-doc-link.fitted,\n",
       "a:visited.sk-estimator-doc-link.fitted {\n",
       "  /* fitted */\n",
       "  border: var(--sklearn-color-fitted-level-1) 1pt solid;\n",
       "  color: var(--sklearn-color-fitted-level-1);\n",
       "}\n",
       "\n",
       "/* On hover */\n",
       "div.sk-estimator:hover .sk-estimator-doc-link:hover,\n",
       ".sk-estimator-doc-link:hover,\n",
       "div.sk-label-container:hover .sk-estimator-doc-link:hover,\n",
       ".sk-estimator-doc-link:hover {\n",
       "  /* unfitted */\n",
       "  background-color: var(--sklearn-color-unfitted-level-3);\n",
       "  color: var(--sklearn-color-background);\n",
       "  text-decoration: none;\n",
       "}\n",
       "\n",
       "div.sk-estimator.fitted:hover .sk-estimator-doc-link.fitted:hover,\n",
       ".sk-estimator-doc-link.fitted:hover,\n",
       "div.sk-label-container:hover .sk-estimator-doc-link.fitted:hover,\n",
       ".sk-estimator-doc-link.fitted:hover {\n",
       "  /* fitted */\n",
       "  background-color: var(--sklearn-color-fitted-level-3);\n",
       "  color: var(--sklearn-color-background);\n",
       "  text-decoration: none;\n",
       "}\n",
       "\n",
       "/* Span, style for the box shown on hovering the info icon */\n",
       ".sk-estimator-doc-link span {\n",
       "  display: none;\n",
       "  z-index: 9999;\n",
       "  position: relative;\n",
       "  font-weight: normal;\n",
       "  right: .2ex;\n",
       "  padding: .5ex;\n",
       "  margin: .5ex;\n",
       "  width: min-content;\n",
       "  min-width: 20ex;\n",
       "  max-width: 50ex;\n",
       "  color: var(--sklearn-color-text);\n",
       "  box-shadow: 2pt 2pt 4pt #999;\n",
       "  /* unfitted */\n",
       "  background: var(--sklearn-color-unfitted-level-0);\n",
       "  border: .5pt solid var(--sklearn-color-unfitted-level-3);\n",
       "}\n",
       "\n",
       ".sk-estimator-doc-link.fitted span {\n",
       "  /* fitted */\n",
       "  background: var(--sklearn-color-fitted-level-0);\n",
       "  border: var(--sklearn-color-fitted-level-3);\n",
       "}\n",
       "\n",
       ".sk-estimator-doc-link:hover span {\n",
       "  display: block;\n",
       "}\n",
       "\n",
       "/* \"?\"-specific style due to the `<a>` HTML tag */\n",
       "\n",
       "#sk-container-id-2 a.estimator_doc_link {\n",
       "  float: right;\n",
       "  font-size: 1rem;\n",
       "  line-height: 1em;\n",
       "  font-family: monospace;\n",
       "  background-color: var(--sklearn-color-background);\n",
       "  border-radius: 1rem;\n",
       "  height: 1rem;\n",
       "  width: 1rem;\n",
       "  text-decoration: none;\n",
       "  /* unfitted */\n",
       "  color: var(--sklearn-color-unfitted-level-1);\n",
       "  border: var(--sklearn-color-unfitted-level-1) 1pt solid;\n",
       "}\n",
       "\n",
       "#sk-container-id-2 a.estimator_doc_link.fitted {\n",
       "  /* fitted */\n",
       "  border: var(--sklearn-color-fitted-level-1) 1pt solid;\n",
       "  color: var(--sklearn-color-fitted-level-1);\n",
       "}\n",
       "\n",
       "/* On hover */\n",
       "#sk-container-id-2 a.estimator_doc_link:hover {\n",
       "  /* unfitted */\n",
       "  background-color: var(--sklearn-color-unfitted-level-3);\n",
       "  color: var(--sklearn-color-background);\n",
       "  text-decoration: none;\n",
       "}\n",
       "\n",
       "#sk-container-id-2 a.estimator_doc_link.fitted:hover {\n",
       "  /* fitted */\n",
       "  background-color: var(--sklearn-color-fitted-level-3);\n",
       "}\n",
       "</style><div id=\"sk-container-id-2\" class=\"sk-top-container\"><div class=\"sk-text-repr-fallback\"><pre>PCA(n_components=1)</pre><b>In a Jupyter environment, please rerun this cell to show the HTML representation or trust the notebook. <br />On GitHub, the HTML representation is unable to render, please try loading this page with nbviewer.org.</b></div><div class=\"sk-container\" hidden><div class=\"sk-item\"><div class=\"sk-estimator fitted sk-toggleable\"><input class=\"sk-toggleable__control sk-hidden--visually\" id=\"sk-estimator-id-2\" type=\"checkbox\" checked><label for=\"sk-estimator-id-2\" class=\"sk-toggleable__label fitted sk-toggleable__label-arrow\"><div><div>PCA</div></div><div><a class=\"sk-estimator-doc-link fitted\" rel=\"noreferrer\" target=\"_blank\" href=\"https://scikit-learn.org/1.6/modules/generated/sklearn.decomposition.PCA.html\">?<span>Documentation for PCA</span></a><span class=\"sk-estimator-doc-link fitted\">i<span>Fitted</span></span></div></label><div class=\"sk-toggleable__content fitted\"><pre>PCA(n_components=1)</pre></div> </div></div></div></div>"
      ],
      "text/plain": [
       "PCA(n_components=1)"
      ]
     },
     "execution_count": 43,
     "metadata": {},
     "output_type": "execute_result"
    }
   ],
   "source": [
    "pca"
   ]
  },
  {
   "cell_type": "code",
   "execution_count": 44,
   "metadata": {
    "colab": {
     "base_uri": "https://localhost:8080/"
    },
    "id": "f87mpc9BXgiB",
    "outputId": "f13547d9-e2d9-4dbb-9d3b-63733f0134e2"
   },
   "outputs": [
    {
     "data": {
      "text/plain": [
       "array([0.99475855])"
      ]
     },
     "execution_count": 44,
     "metadata": {},
     "output_type": "execute_result"
    }
   ],
   "source": [
    "pca.explained_variance_ratio_"
   ]
  },
  {
   "cell_type": "markdown",
   "metadata": {
    "id": "Z__VBgC8d-xx"
   },
   "source": [
    "### Пример применения для графиков"
   ]
  },
  {
   "cell_type": "code",
   "execution_count": 25,
   "metadata": {},
   "outputs": [],
   "source": [
    "import numpy as np\n",
    "import matplotlib.pyplot as plt\n",
    "from sklearn.decomposition import PCA, KernelPCA"
   ]
  },
  {
   "cell_type": "code",
   "execution_count": 37,
   "metadata": {},
   "outputs": [],
   "source": [
    "#KernelPCA?"
   ]
  },
  {
   "cell_type": "code",
   "execution_count": 27,
   "metadata": {},
   "outputs": [],
   "source": [
    "# Создание набора данных с размерностью 10\n",
    "np.random.seed(42)\n",
    "data = np.random.rand(100, 10)  # 100 образцов с 10 признаками"
   ]
  },
  {
   "cell_type": "code",
   "execution_count": 28,
   "metadata": {},
   "outputs": [],
   "source": [
    "import pandas as pd"
   ]
  },
  {
   "cell_type": "code",
   "execution_count": 29,
   "metadata": {},
   "outputs": [
    {
     "data": {
      "text/html": [
       "<div>\n",
       "<style scoped>\n",
       "    .dataframe tbody tr th:only-of-type {\n",
       "        vertical-align: middle;\n",
       "    }\n",
       "\n",
       "    .dataframe tbody tr th {\n",
       "        vertical-align: top;\n",
       "    }\n",
       "\n",
       "    .dataframe thead th {\n",
       "        text-align: right;\n",
       "    }\n",
       "</style>\n",
       "<table border=\"1\" class=\"dataframe\">\n",
       "  <thead>\n",
       "    <tr style=\"text-align: right;\">\n",
       "      <th></th>\n",
       "      <th>0</th>\n",
       "      <th>1</th>\n",
       "      <th>2</th>\n",
       "      <th>3</th>\n",
       "      <th>4</th>\n",
       "      <th>5</th>\n",
       "      <th>6</th>\n",
       "      <th>7</th>\n",
       "      <th>8</th>\n",
       "      <th>9</th>\n",
       "    </tr>\n",
       "  </thead>\n",
       "  <tbody>\n",
       "    <tr>\n",
       "      <th>0</th>\n",
       "      <td>0.374540</td>\n",
       "      <td>0.950714</td>\n",
       "      <td>0.731994</td>\n",
       "      <td>0.598658</td>\n",
       "      <td>0.156019</td>\n",
       "      <td>0.155995</td>\n",
       "      <td>0.058084</td>\n",
       "      <td>0.866176</td>\n",
       "      <td>0.601115</td>\n",
       "      <td>0.708073</td>\n",
       "    </tr>\n",
       "    <tr>\n",
       "      <th>1</th>\n",
       "      <td>0.020584</td>\n",
       "      <td>0.969910</td>\n",
       "      <td>0.832443</td>\n",
       "      <td>0.212339</td>\n",
       "      <td>0.181825</td>\n",
       "      <td>0.183405</td>\n",
       "      <td>0.304242</td>\n",
       "      <td>0.524756</td>\n",
       "      <td>0.431945</td>\n",
       "      <td>0.291229</td>\n",
       "    </tr>\n",
       "    <tr>\n",
       "      <th>2</th>\n",
       "      <td>0.611853</td>\n",
       "      <td>0.139494</td>\n",
       "      <td>0.292145</td>\n",
       "      <td>0.366362</td>\n",
       "      <td>0.456070</td>\n",
       "      <td>0.785176</td>\n",
       "      <td>0.199674</td>\n",
       "      <td>0.514234</td>\n",
       "      <td>0.592415</td>\n",
       "      <td>0.046450</td>\n",
       "    </tr>\n",
       "    <tr>\n",
       "      <th>3</th>\n",
       "      <td>0.607545</td>\n",
       "      <td>0.170524</td>\n",
       "      <td>0.065052</td>\n",
       "      <td>0.948886</td>\n",
       "      <td>0.965632</td>\n",
       "      <td>0.808397</td>\n",
       "      <td>0.304614</td>\n",
       "      <td>0.097672</td>\n",
       "      <td>0.684233</td>\n",
       "      <td>0.440152</td>\n",
       "    </tr>\n",
       "    <tr>\n",
       "      <th>4</th>\n",
       "      <td>0.122038</td>\n",
       "      <td>0.495177</td>\n",
       "      <td>0.034389</td>\n",
       "      <td>0.909320</td>\n",
       "      <td>0.258780</td>\n",
       "      <td>0.662522</td>\n",
       "      <td>0.311711</td>\n",
       "      <td>0.520068</td>\n",
       "      <td>0.546710</td>\n",
       "      <td>0.184854</td>\n",
       "    </tr>\n",
       "    <tr>\n",
       "      <th>...</th>\n",
       "      <td>...</td>\n",
       "      <td>...</td>\n",
       "      <td>...</td>\n",
       "      <td>...</td>\n",
       "      <td>...</td>\n",
       "      <td>...</td>\n",
       "      <td>...</td>\n",
       "      <td>...</td>\n",
       "      <td>...</td>\n",
       "      <td>...</td>\n",
       "    </tr>\n",
       "    <tr>\n",
       "      <th>95</th>\n",
       "      <td>0.600517</td>\n",
       "      <td>0.665037</td>\n",
       "      <td>0.175371</td>\n",
       "      <td>0.914412</td>\n",
       "      <td>0.418771</td>\n",
       "      <td>0.383139</td>\n",
       "      <td>0.518918</td>\n",
       "      <td>0.046966</td>\n",
       "      <td>0.166283</td>\n",
       "      <td>0.738034</td>\n",
       "    </tr>\n",
       "    <tr>\n",
       "      <th>96</th>\n",
       "      <td>0.082799</td>\n",
       "      <td>0.603152</td>\n",
       "      <td>0.245349</td>\n",
       "      <td>0.389296</td>\n",
       "      <td>0.288694</td>\n",
       "      <td>0.355673</td>\n",
       "      <td>0.719046</td>\n",
       "      <td>0.297122</td>\n",
       "      <td>0.566405</td>\n",
       "      <td>0.476050</td>\n",
       "    </tr>\n",
       "    <tr>\n",
       "      <th>97</th>\n",
       "      <td>0.663671</td>\n",
       "      <td>0.936830</td>\n",
       "      <td>0.732572</td>\n",
       "      <td>0.214940</td>\n",
       "      <td>0.031183</td>\n",
       "      <td>0.262264</td>\n",
       "      <td>0.595078</td>\n",
       "      <td>0.051426</td>\n",
       "      <td>0.496366</td>\n",
       "      <td>0.596843</td>\n",
       "    </tr>\n",
       "    <tr>\n",
       "      <th>98</th>\n",
       "      <td>0.334244</td>\n",
       "      <td>0.770912</td>\n",
       "      <td>0.106598</td>\n",
       "      <td>0.075138</td>\n",
       "      <td>0.728189</td>\n",
       "      <td>0.495491</td>\n",
       "      <td>0.688402</td>\n",
       "      <td>0.434827</td>\n",
       "      <td>0.246402</td>\n",
       "      <td>0.819102</td>\n",
       "    </tr>\n",
       "    <tr>\n",
       "      <th>99</th>\n",
       "      <td>0.799416</td>\n",
       "      <td>0.694696</td>\n",
       "      <td>0.272145</td>\n",
       "      <td>0.590231</td>\n",
       "      <td>0.360974</td>\n",
       "      <td>0.091582</td>\n",
       "      <td>0.917314</td>\n",
       "      <td>0.136819</td>\n",
       "      <td>0.950237</td>\n",
       "      <td>0.446006</td>\n",
       "    </tr>\n",
       "  </tbody>\n",
       "</table>\n",
       "<p>100 rows × 10 columns</p>\n",
       "</div>"
      ],
      "text/plain": [
       "           0         1         2         3         4         5         6  \\\n",
       "0   0.374540  0.950714  0.731994  0.598658  0.156019  0.155995  0.058084   \n",
       "1   0.020584  0.969910  0.832443  0.212339  0.181825  0.183405  0.304242   \n",
       "2   0.611853  0.139494  0.292145  0.366362  0.456070  0.785176  0.199674   \n",
       "3   0.607545  0.170524  0.065052  0.948886  0.965632  0.808397  0.304614   \n",
       "4   0.122038  0.495177  0.034389  0.909320  0.258780  0.662522  0.311711   \n",
       "..       ...       ...       ...       ...       ...       ...       ...   \n",
       "95  0.600517  0.665037  0.175371  0.914412  0.418771  0.383139  0.518918   \n",
       "96  0.082799  0.603152  0.245349  0.389296  0.288694  0.355673  0.719046   \n",
       "97  0.663671  0.936830  0.732572  0.214940  0.031183  0.262264  0.595078   \n",
       "98  0.334244  0.770912  0.106598  0.075138  0.728189  0.495491  0.688402   \n",
       "99  0.799416  0.694696  0.272145  0.590231  0.360974  0.091582  0.917314   \n",
       "\n",
       "           7         8         9  \n",
       "0   0.866176  0.601115  0.708073  \n",
       "1   0.524756  0.431945  0.291229  \n",
       "2   0.514234  0.592415  0.046450  \n",
       "3   0.097672  0.684233  0.440152  \n",
       "4   0.520068  0.546710  0.184854  \n",
       "..       ...       ...       ...  \n",
       "95  0.046966  0.166283  0.738034  \n",
       "96  0.297122  0.566405  0.476050  \n",
       "97  0.051426  0.496366  0.596843  \n",
       "98  0.434827  0.246402  0.819102  \n",
       "99  0.136819  0.950237  0.446006  \n",
       "\n",
       "[100 rows x 10 columns]"
      ]
     },
     "execution_count": 29,
     "metadata": {},
     "output_type": "execute_result"
    }
   ],
   "source": [
    "pd.DataFrame(data)"
   ]
  },
  {
   "cell_type": "code",
   "execution_count": 30,
   "metadata": {},
   "outputs": [],
   "source": [
    "# Применение PCA для снижения размерности до 2\n",
    "pca = PCA(n_components=2)\n",
    "reduced_data = pca.fit_transform(data)"
   ]
  },
  {
   "cell_type": "code",
   "execution_count": 31,
   "metadata": {
    "colab": {
     "base_uri": "https://localhost:8080/",
     "height": 564
    },
    "id": "UxvKOcDSZN0k",
    "outputId": "6f6793f8-48b8-4619-d844-950ae7922ed9"
   },
   "outputs": [
    {
     "data": {
      "image/png": "[encoded data removed]",
      "text/plain": [
       "<Figure size 800x600 with 1 Axes>"
      ]
     },
     "metadata": {},
     "output_type": "display_data"
    }
   ],
   "source": [
    "# Построение графика\n",
    "plt.figure(figsize=(8, 6))\n",
    "plt.scatter(reduced_data[:, 0], reduced_data[:, 1], c='blue', edgecolor='k', s=50)\n",
    "plt.title('PCA Reduction to 2 Dimensions')\n",
    "plt.xlabel('Principal Component 1')\n",
    "plt.ylabel('Principal Component 2')\n",
    "plt.grid(True)\n",
    "plt.show()\n"
   ]
  },
  {
   "cell_type": "code",
   "execution_count": 32,
   "metadata": {
    "id": "Cx572iuuf06M"
   },
   "outputs": [],
   "source": [
    "# Расчет сохраненной и потерянной дисперсии\n",
    "explained_variance_ratio = pca.explained_variance_ratio_\n",
    "total_explained_variance = np.sum(explained_variance_ratio)\n",
    "lost_variance = 1 - total_explained_variance"
   ]
  },
  {
   "attachments": {
    "image-2.png": {
     "image/png": "[encoded data removed]"
    }
   },
   "cell_type": "markdown",
   "metadata": {},
   "source": [
    "![image-2.png](attachment:image-2.png)"
   ]
  },
  {
   "cell_type": "code",
   "execution_count": 33,
   "metadata": {},
   "outputs": [
    {
     "data": {
      "text/plain": [
       "array([0.16110575, 0.13898059])"
      ]
     },
     "execution_count": 33,
     "metadata": {},
     "output_type": "execute_result"
    }
   ],
   "source": [
    "explained_variance_ratio"
   ]
  },
  {
   "cell_type": "code",
   "execution_count": 34,
   "metadata": {
    "colab": {
     "base_uri": "https://localhost:8080/"
    },
    "id": "OaO2_jTpZN3W",
    "outputId": "76893a9a-2767-43f6-b6d3-a07a97acf0ea"
   },
   "outputs": [
    {
     "data": {
      "text/plain": [
       "np.float64(0.3000863461120907)"
      ]
     },
     "execution_count": 34,
     "metadata": {},
     "output_type": "execute_result"
    }
   ],
   "source": [
    "total_explained_variance"
   ]
  },
  {
   "cell_type": "code",
   "execution_count": 35,
   "metadata": {
    "colab": {
     "base_uri": "https://localhost:8080/"
    },
    "id": "a1jpat1pZN6M",
    "outputId": "6d14abc3-a786-444d-eb1d-b74bae698a1e"
   },
   "outputs": [
    {
     "data": {
      "text/plain": [
       "np.float64(0.6999136538879094)"
      ]
     },
     "execution_count": 35,
     "metadata": {},
     "output_type": "execute_result"
    }
   ],
   "source": [
    "lost_variance"
   ]
  },
  {
   "cell_type": "markdown",
   "metadata": {},
   "source": [
    "**Текущая ситуация:**\n",
    "\n",
    "Два компонента объясняют около 71.39% вариации данных\n",
    "\n",
    "Оставшиеся 28.61% информации теряются при уменьшении размерности\n",
    "\n",
    "Первый компонент объясняет больше вариации (37.74%), чем второй (33.65%)\n",
    "\n",
    "**Рекомендации:**\n",
    "\n",
    "Если потеря 28.61% информации критична для вашей задачи, рассмотрите возможность использования дополнительных компонентов\n",
    "\n",
    "Если двухмерное представление достаточно для анализа, текущее решение сохраняет основную структуру данных\n",
    "\n",
    "При необходимости визуализации данных двухкомпонентное представление будет отражать около 71% информации о вариации данных"
   ]
  }
 ],
 "metadata": {
  "colab": {
   "provenance": []
  },
  "kernelspec": {
   "display_name": "Python 3 (ipykernel)",
   "language": "python",
   "name": "python3"
  },
  "language_info": {
   "codemirror_mode": {
    "name": "ipython",
    "version": 3
   },
   "file_extension": ".py",
   "mimetype": "text/x-python",
   "name": "python",
   "nbconvert_exporter": "python",
   "pygments_lexer": "ipython3",
   "version": "3.12.9"
  }
 },
 "nbformat": 4,
 "nbformat_minor": 4
}
