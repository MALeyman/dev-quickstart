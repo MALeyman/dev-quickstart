{
 "cells": [
  {
   "cell_type": "markdown",
   "metadata": {
    "id": "zSuKyjSxvt0D"
   },
   "source": [
    "# <font color='#11a642' size='6'> **Импорт и установка библиотек**"
   ]
  },
  {
   "cell_type": "code",
   "execution_count": 5,
   "metadata": {
    "id": "unRyVUGuvt-O"
   },
   "outputs": [],
   "source": [
    "import pandas as pd\n",
    "import numpy as np\n",
    "\n",
    "from sklearn.pipeline import Pipeline\n",
    "from sklearn.preprocessing import OneHotEncoder\n",
    "from sklearn.compose import ColumnTransformer\n",
    "from category_encoders import TargetEncoder\n",
    "from sklearn.preprocessing import StandardScaler\n",
    "from sklearn.model_selection import train_test_split\n",
    "\n",
    "from sklearn.metrics import (precision_score, recall_score,\n",
    "                             roc_auc_score, roc_curve, f1_score)\n",
    "\n",
    "import matplotlib.pyplot as plt"
   ]
  },
  {
   "cell_type": "markdown",
   "metadata": {
    "id": "aiA-R90MvCF9"
   },
   "source": [
    "# <font color='#11a642' size='6'> **Загрузка данных**"
   ]
  },
  {
   "cell_type": "markdown",
   "metadata": {},
   "source": [
    "https://www.kaggle.com/competitions/playground-series-s4e7/data"
   ]
  },
  {
   "cell_type": "code",
   "execution_count": 6,
   "metadata": {
    "id": "2e3DRmX-u6wT"
   },
   "outputs": [],
   "source": [
    "df_train = pd.read_csv('../../data/playground_data/train.csv')\n",
    "df_test = pd.read_csv('../../data/playground_data/test.csv')\n",
    "df_sample_submission = pd.read_csv('../../data/playground_data/sample_submission.csv')"
   ]
  },
  {
   "cell_type": "code",
   "execution_count": 7,
   "metadata": {},
   "outputs": [
    {
     "data": {
      "text/plain": [
       "(11504798, 12)"
      ]
     },
     "execution_count": 7,
     "metadata": {},
     "output_type": "execute_result"
    }
   ],
   "source": [
    "df_train.shape"
   ]
  },
  {
   "cell_type": "code",
   "execution_count": 8,
   "metadata": {},
   "outputs": [
    {
     "data": {
      "text/plain": [
       "(7669866, 11)"
      ]
     },
     "execution_count": 8,
     "metadata": {},
     "output_type": "execute_result"
    }
   ],
   "source": [
    "df_test.shape"
   ]
  },
  {
   "cell_type": "code",
   "execution_count": 9,
   "metadata": {
    "colab": {
     "base_uri": "https://localhost:8080/",
     "height": 206
    },
    "id": "mboz_jJeu65O",
    "outputId": "12d95830-0a57-4790-9b86-20e01d07f527"
   },
   "outputs": [
    {
     "data": {
      "text/html": [
       "<div>\n",
       "<style scoped>\n",
       "    .dataframe tbody tr th:only-of-type {\n",
       "        vertical-align: middle;\n",
       "    }\n",
       "\n",
       "    .dataframe tbody tr th {\n",
       "        vertical-align: top;\n",
       "    }\n",
       "\n",
       "    .dataframe thead th {\n",
       "        text-align: right;\n",
       "    }\n",
       "</style>\n",
       "<table border=\"1\" class=\"dataframe\">\n",
       "  <thead>\n",
       "    <tr style=\"text-align: right;\">\n",
       "      <th></th>\n",
       "      <th>id</th>\n",
       "      <th>Response</th>\n",
       "    </tr>\n",
       "  </thead>\n",
       "  <tbody>\n",
       "    <tr>\n",
       "      <th>0</th>\n",
       "      <td>11504798</td>\n",
       "      <td>0.5</td>\n",
       "    </tr>\n",
       "    <tr>\n",
       "      <th>1</th>\n",
       "      <td>11504799</td>\n",
       "      <td>0.5</td>\n",
       "    </tr>\n",
       "    <tr>\n",
       "      <th>2</th>\n",
       "      <td>11504800</td>\n",
       "      <td>0.5</td>\n",
       "    </tr>\n",
       "    <tr>\n",
       "      <th>3</th>\n",
       "      <td>11504801</td>\n",
       "      <td>0.5</td>\n",
       "    </tr>\n",
       "    <tr>\n",
       "      <th>4</th>\n",
       "      <td>11504802</td>\n",
       "      <td>0.5</td>\n",
       "    </tr>\n",
       "  </tbody>\n",
       "</table>\n",
       "</div>"
      ],
      "text/plain": [
       "         id  Response\n",
       "0  11504798       0.5\n",
       "1  11504799       0.5\n",
       "2  11504800       0.5\n",
       "3  11504801       0.5\n",
       "4  11504802       0.5"
      ]
     },
     "execution_count": 9,
     "metadata": {},
     "output_type": "execute_result"
    }
   ],
   "source": [
    "# это данные даны для примера, в таком виде необходимо сделать выборку и загрузить на kaggle\n",
    "#  (для тех, кто хочет увидеть себя в лидерборде и оценить на сколько ваше решение лучше/хуже остальных)\n",
    "df_sample_submission.head()"
   ]
  },
  {
   "cell_type": "code",
   "execution_count": 10,
   "metadata": {
    "colab": {
     "base_uri": "https://localhost:8080/",
     "height": 226
    },
    "id": "jS8phP1ayowq",
    "outputId": "71d50c1b-6782-454f-97e6-312f32fc9d6a"
   },
   "outputs": [
    {
     "data": {
      "text/html": [
       "<div>\n",
       "<style scoped>\n",
       "    .dataframe tbody tr th:only-of-type {\n",
       "        vertical-align: middle;\n",
       "    }\n",
       "\n",
       "    .dataframe tbody tr th {\n",
       "        vertical-align: top;\n",
       "    }\n",
       "\n",
       "    .dataframe thead th {\n",
       "        text-align: right;\n",
       "    }\n",
       "</style>\n",
       "<table border=\"1\" class=\"dataframe\">\n",
       "  <thead>\n",
       "    <tr style=\"text-align: right;\">\n",
       "      <th></th>\n",
       "      <th>id</th>\n",
       "      <th>Gender</th>\n",
       "      <th>Age</th>\n",
       "      <th>Driving_License</th>\n",
       "      <th>Region_Code</th>\n",
       "      <th>Previously_Insured</th>\n",
       "      <th>Vehicle_Age</th>\n",
       "      <th>Vehicle_Damage</th>\n",
       "      <th>Annual_Premium</th>\n",
       "      <th>Policy_Sales_Channel</th>\n",
       "      <th>Vintage</th>\n",
       "    </tr>\n",
       "  </thead>\n",
       "  <tbody>\n",
       "    <tr>\n",
       "      <th>0</th>\n",
       "      <td>11504798</td>\n",
       "      <td>Female</td>\n",
       "      <td>20</td>\n",
       "      <td>1</td>\n",
       "      <td>47.0</td>\n",
       "      <td>0</td>\n",
       "      <td>&lt; 1 Year</td>\n",
       "      <td>No</td>\n",
       "      <td>2630.0</td>\n",
       "      <td>160.0</td>\n",
       "      <td>228</td>\n",
       "    </tr>\n",
       "    <tr>\n",
       "      <th>1</th>\n",
       "      <td>11504799</td>\n",
       "      <td>Male</td>\n",
       "      <td>47</td>\n",
       "      <td>1</td>\n",
       "      <td>28.0</td>\n",
       "      <td>0</td>\n",
       "      <td>1-2 Year</td>\n",
       "      <td>Yes</td>\n",
       "      <td>37483.0</td>\n",
       "      <td>124.0</td>\n",
       "      <td>123</td>\n",
       "    </tr>\n",
       "    <tr>\n",
       "      <th>2</th>\n",
       "      <td>11504800</td>\n",
       "      <td>Male</td>\n",
       "      <td>47</td>\n",
       "      <td>1</td>\n",
       "      <td>43.0</td>\n",
       "      <td>0</td>\n",
       "      <td>1-2 Year</td>\n",
       "      <td>Yes</td>\n",
       "      <td>2630.0</td>\n",
       "      <td>26.0</td>\n",
       "      <td>271</td>\n",
       "    </tr>\n",
       "    <tr>\n",
       "      <th>3</th>\n",
       "      <td>11504801</td>\n",
       "      <td>Female</td>\n",
       "      <td>22</td>\n",
       "      <td>1</td>\n",
       "      <td>47.0</td>\n",
       "      <td>1</td>\n",
       "      <td>&lt; 1 Year</td>\n",
       "      <td>No</td>\n",
       "      <td>24502.0</td>\n",
       "      <td>152.0</td>\n",
       "      <td>115</td>\n",
       "    </tr>\n",
       "    <tr>\n",
       "      <th>4</th>\n",
       "      <td>11504802</td>\n",
       "      <td>Male</td>\n",
       "      <td>51</td>\n",
       "      <td>1</td>\n",
       "      <td>19.0</td>\n",
       "      <td>0</td>\n",
       "      <td>1-2 Year</td>\n",
       "      <td>No</td>\n",
       "      <td>34115.0</td>\n",
       "      <td>124.0</td>\n",
       "      <td>148</td>\n",
       "    </tr>\n",
       "  </tbody>\n",
       "</table>\n",
       "</div>"
      ],
      "text/plain": [
       "         id  Gender  Age  Driving_License  Region_Code  Previously_Insured  \\\n",
       "0  11504798  Female   20                1         47.0                   0   \n",
       "1  11504799    Male   47                1         28.0                   0   \n",
       "2  11504800    Male   47                1         43.0                   0   \n",
       "3  11504801  Female   22                1         47.0                   1   \n",
       "4  11504802    Male   51                1         19.0                   0   \n",
       "\n",
       "  Vehicle_Age Vehicle_Damage  Annual_Premium  Policy_Sales_Channel  Vintage  \n",
       "0    < 1 Year             No          2630.0                 160.0      228  \n",
       "1    1-2 Year            Yes         37483.0                 124.0      123  \n",
       "2    1-2 Year            Yes          2630.0                  26.0      271  \n",
       "3    < 1 Year             No         24502.0                 152.0      115  \n",
       "4    1-2 Year             No         34115.0                 124.0      148  "
      ]
     },
     "execution_count": 10,
     "metadata": {},
     "output_type": "execute_result"
    }
   ],
   "source": [
    "# это тестовые данные, для которых необходимо предсказать target, то есть применить модель,\n",
    "#  которую вы разработаете на данных df_train\n",
    "df_test.head()"
   ]
  },
  {
   "cell_type": "code",
   "execution_count": 11,
   "metadata": {
    "colab": {
     "base_uri": "https://localhost:8080/",
     "height": 226
    },
    "id": "009eOyTLu68F",
    "outputId": "e5cd2baf-2bfe-4f90-d1a0-9ceb641edbb3"
   },
   "outputs": [
    {
     "data": {
      "text/html": [
       "<div>\n",
       "<style scoped>\n",
       "    .dataframe tbody tr th:only-of-type {\n",
       "        vertical-align: middle;\n",
       "    }\n",
       "\n",
       "    .dataframe tbody tr th {\n",
       "        vertical-align: top;\n",
       "    }\n",
       "\n",
       "    .dataframe thead th {\n",
       "        text-align: right;\n",
       "    }\n",
       "</style>\n",
       "<table border=\"1\" class=\"dataframe\">\n",
       "  <thead>\n",
       "    <tr style=\"text-align: right;\">\n",
       "      <th></th>\n",
       "      <th>id</th>\n",
       "      <th>Gender</th>\n",
       "      <th>Age</th>\n",
       "      <th>Driving_License</th>\n",
       "      <th>Region_Code</th>\n",
       "      <th>Previously_Insured</th>\n",
       "      <th>Vehicle_Age</th>\n",
       "      <th>Vehicle_Damage</th>\n",
       "      <th>Annual_Premium</th>\n",
       "      <th>Policy_Sales_Channel</th>\n",
       "      <th>Vintage</th>\n",
       "      <th>Response</th>\n",
       "    </tr>\n",
       "  </thead>\n",
       "  <tbody>\n",
       "    <tr>\n",
       "      <th>0</th>\n",
       "      <td>0</td>\n",
       "      <td>Male</td>\n",
       "      <td>21</td>\n",
       "      <td>1</td>\n",
       "      <td>35.0</td>\n",
       "      <td>0</td>\n",
       "      <td>1-2 Year</td>\n",
       "      <td>Yes</td>\n",
       "      <td>65101.0</td>\n",
       "      <td>124.0</td>\n",
       "      <td>187</td>\n",
       "      <td>0</td>\n",
       "    </tr>\n",
       "    <tr>\n",
       "      <th>1</th>\n",
       "      <td>1</td>\n",
       "      <td>Male</td>\n",
       "      <td>43</td>\n",
       "      <td>1</td>\n",
       "      <td>28.0</td>\n",
       "      <td>0</td>\n",
       "      <td>&gt; 2 Years</td>\n",
       "      <td>Yes</td>\n",
       "      <td>58911.0</td>\n",
       "      <td>26.0</td>\n",
       "      <td>288</td>\n",
       "      <td>1</td>\n",
       "    </tr>\n",
       "    <tr>\n",
       "      <th>2</th>\n",
       "      <td>2</td>\n",
       "      <td>Female</td>\n",
       "      <td>25</td>\n",
       "      <td>1</td>\n",
       "      <td>14.0</td>\n",
       "      <td>1</td>\n",
       "      <td>&lt; 1 Year</td>\n",
       "      <td>No</td>\n",
       "      <td>38043.0</td>\n",
       "      <td>152.0</td>\n",
       "      <td>254</td>\n",
       "      <td>0</td>\n",
       "    </tr>\n",
       "    <tr>\n",
       "      <th>3</th>\n",
       "      <td>3</td>\n",
       "      <td>Female</td>\n",
       "      <td>35</td>\n",
       "      <td>1</td>\n",
       "      <td>1.0</td>\n",
       "      <td>0</td>\n",
       "      <td>1-2 Year</td>\n",
       "      <td>Yes</td>\n",
       "      <td>2630.0</td>\n",
       "      <td>156.0</td>\n",
       "      <td>76</td>\n",
       "      <td>0</td>\n",
       "    </tr>\n",
       "    <tr>\n",
       "      <th>4</th>\n",
       "      <td>4</td>\n",
       "      <td>Female</td>\n",
       "      <td>36</td>\n",
       "      <td>1</td>\n",
       "      <td>15.0</td>\n",
       "      <td>1</td>\n",
       "      <td>1-2 Year</td>\n",
       "      <td>No</td>\n",
       "      <td>31951.0</td>\n",
       "      <td>152.0</td>\n",
       "      <td>294</td>\n",
       "      <td>0</td>\n",
       "    </tr>\n",
       "  </tbody>\n",
       "</table>\n",
       "</div>"
      ],
      "text/plain": [
       "   id  Gender  Age  Driving_License  Region_Code  Previously_Insured  \\\n",
       "0   0    Male   21                1         35.0                   0   \n",
       "1   1    Male   43                1         28.0                   0   \n",
       "2   2  Female   25                1         14.0                   1   \n",
       "3   3  Female   35                1          1.0                   0   \n",
       "4   4  Female   36                1         15.0                   1   \n",
       "\n",
       "  Vehicle_Age Vehicle_Damage  Annual_Premium  Policy_Sales_Channel  Vintage  \\\n",
       "0    1-2 Year            Yes         65101.0                 124.0      187   \n",
       "1   > 2 Years            Yes         58911.0                  26.0      288   \n",
       "2    < 1 Year             No         38043.0                 152.0      254   \n",
       "3    1-2 Year            Yes          2630.0                 156.0       76   \n",
       "4    1-2 Year             No         31951.0                 152.0      294   \n",
       "\n",
       "   Response  \n",
       "0         0  \n",
       "1         1  \n",
       "2         0  \n",
       "3         0  \n",
       "4         0  "
      ]
     },
     "execution_count": 11,
     "metadata": {},
     "output_type": "execute_result"
    }
   ],
   "source": [
    "# на этих данных дальше необходимо разработать модель\n",
    "df_train.head()"
   ]
  },
  {
   "cell_type": "markdown",
   "metadata": {
    "id": "PRjc_7JIE8vW"
   },
   "source": [
    "## <font color='#11a642' size='5'> Определим роли для независимых признаков"
   ]
  },
  {
   "cell_type": "code",
   "execution_count": 12,
   "metadata": {
    "id": "nhlKchvOCXvC"
   },
   "outputs": [],
   "source": [
    "id = 'id'\n",
    "target = 'Response'"
   ]
  },
  {
   "cell_type": "code",
   "execution_count": 13,
   "metadata": {
    "id": "npvv3EryDpO-"
   },
   "outputs": [],
   "source": [
    "# на основании описание данных https://www.kaggle.com/datasets/annantkumarsingh/health-insurance-cross-sell-prediction-data/discussion/516324\n",
    "features_cat_from_description = ['Region_Code', 'Vehicle_Age', 'Policy_Sales_Channel']"
   ]
  },
  {
   "cell_type": "code",
   "execution_count": 14,
   "metadata": {
    "colab": {
     "base_uri": "https://localhost:8080/"
    },
    "id": "ML5O5e47ES01",
    "outputId": "fbdea04b-439a-4cbd-ef75-71547d93b372"
   },
   "outputs": [
    {
     "data": {
      "text/plain": [
       "['Age', 'Driving_License', 'Previously_Insured', 'Annual_Premium', 'Vintage']"
      ]
     },
     "execution_count": 14,
     "metadata": {},
     "output_type": "execute_result"
    }
   ],
   "source": [
    "features_num = [feature for feature in df_train.select_dtypes(include='number').columns.to_list()\n",
    "               if feature not in [id, target, *features_cat_from_description]]\n",
    "features_num"
   ]
  },
  {
   "cell_type": "code",
   "execution_count": 15,
   "metadata": {
    "colab": {
     "base_uri": "https://localhost:8080/"
    },
    "id": "1RWjsSHPDobB",
    "outputId": "a7affdbf-753f-4d18-f7c9-ab811d06bdf9"
   },
   "outputs": [
    {
     "data": {
      "text/plain": [
       "['Gender',\n",
       " 'Region_Code',\n",
       " 'Vehicle_Age',\n",
       " 'Vehicle_Damage',\n",
       " 'Policy_Sales_Channel']"
      ]
     },
     "execution_count": 15,
     "metadata": {},
     "output_type": "execute_result"
    }
   ],
   "source": [
    "features_cat = [feature for feature in df_train.columns.to_list() if feature\n",
    "                not in [id, target, *features_num]]\n",
    "features_cat"
   ]
  },
  {
   "cell_type": "code",
   "execution_count": 16,
   "metadata": {
    "colab": {
     "base_uri": "https://localhost:8080/"
    },
    "id": "wd9aBVfojgD6",
    "outputId": "e404090b-78b8-40f4-d02c-b3156c336bd3"
   },
   "outputs": [
    {
     "name": "stdout",
     "output_type": "stream",
     "text": [
      "invalid literal for int() with base 10: 'Male'\n",
      "invalid literal for int() with base 10: '1-2 Year'\n",
      "invalid literal for int() with base 10: 'Yes'\n"
     ]
    }
   ],
   "source": [
    "for column in features_cat:\n",
    "  try:\n",
    "    df_train[column] = df_train[column].astype(int).astype(object)\n",
    "  except Exception as e:\n",
    "    print(e)"
   ]
  },
  {
   "cell_type": "code",
   "execution_count": 17,
   "metadata": {
    "id": "Mv2PnTowGK1O"
   },
   "outputs": [],
   "source": [
    "features_cat_bin = ['Gender', ]"
   ]
  },
  {
   "cell_type": "markdown",
   "metadata": {
    "id": "VFcGl34aL0CF"
   },
   "source": [
    "# <font color='#11a642' size='6'> **Функции**"
   ]
  },
  {
   "cell_type": "code",
   "execution_count": 18,
   "metadata": {
    "id": "wtzgH_EAL2Ov"
   },
   "outputs": [],
   "source": [
    "def calculate_metrics_and_plot_roc(model, X_train, y_train, X_test, y_test):\n",
    "    # Предсказание вероятностей на обучающей и тестовой выборке\n",
    "    y_train_proba = model.predict_proba(X_train)[:, 1]\n",
    "    y_test_proba = model.predict_proba(X_test)[:, 1]\n",
    "\n",
    "    # Расчет AUC-ROC\n",
    "    roc_auc_train = roc_auc_score(y_train, y_train_proba)\n",
    "    roc_auc_test = roc_auc_score(y_test, y_test_proba)\n",
    "    print(f\"ROC-AUC Train: {roc_auc_train:.2f}\")\n",
    "    print(f\"ROC-AUC Test: {roc_auc_test:.2f}\")\n",
    "\n",
    "    # Построение ROC-кривой\n",
    "    fpr_train, tpr_train, _ = roc_curve(y_train, y_train_proba)\n",
    "    fpr_test, tpr_test, _ = roc_curve(y_test, y_test_proba)\n",
    "    plt.figure()\n",
    "    plt.plot(fpr_train, tpr_train, color='blue', lw=2, label='ROC Curve Train')\n",
    "    plt.plot(fpr_test, tpr_test, color='darkorange', lw=2, label='ROC Curve Test')\n",
    "    plt.plot([0, 1], [0, 1], color='navy', lw=2, linestyle='--')\n",
    "    plt.xlabel('False Positive Rate')\n",
    "    plt.ylabel('True Positive Rate')\n",
    "    plt.title(f'ROC Curve ({type(model).__name__})')\n",
    "    plt.legend()\n",
    "    plt.show()\n",
    "\n",
    "    # Поиск порога, максимизирующего F1-score\n",
    "    thresholds = np.arange(0.0, 1.0, 0.01)\n",
    "    f1_scores = [f1_score(y_test, y_test_proba >= t) for t in thresholds]\n",
    "    optimal_threshold = thresholds[np.argmax(f1_scores)]\n",
    "    print(f\"Optimal Threshold: {optimal_threshold:.2f}\")\n",
    "\n",
    "    # Пересчет метрик с учетом оптимального порога\n",
    "    y_train_pred_optimal = (y_train_proba >= optimal_threshold).astype(int)\n",
    "    y_test_pred_optimal = (y_test_proba >= optimal_threshold).astype(int)\n",
    "\n",
    "    train_precision = precision_score(y_train, y_train_pred_optimal)\n",
    "    train_recall = recall_score(y_train, y_train_pred_optimal)\n",
    "    test_precision = precision_score(y_test, y_test_pred_optimal)\n",
    "    test_recall = recall_score(y_test, y_test_pred_optimal)\n",
    "\n",
    "    print(f\"Optimal Training Precision: {train_precision:.2f}\")\n",
    "    print(f\"Optimal Training Recall: {train_recall:.2f}\")\n",
    "    print(f\"Optimal Test Precision: {test_precision:.2f}\")\n",
    "    print(f\"Optimal Test Recall: {test_recall:.2f}\")\n",
    "\n",
    "    metrics = {\n",
    "        'params': [\n",
    "            'Training_Precision', 'Test_Precision',\n",
    "            'Training_Recall', 'Test_Recall',\n",
    "            'ROC_AUC_Train', 'ROC_AUC_Test'\n",
    "        ],\n",
    "        'values': [\n",
    "            train_precision, test_precision,\n",
    "            train_recall, test_recall,\n",
    "            roc_auc_train, roc_auc_test\n",
    "        ]\n",
    "    }\n",
    "    return metrics"
   ]
  },
  {
   "cell_type": "markdown",
   "metadata": {
    "id": "j0mQVQAG4Hvb"
   },
   "source": [
    "# <font color='#11a642' size='6'> **Разведочный анализ данных**"
   ]
  },
  {
   "cell_type": "markdown",
   "metadata": {
    "id": "kvgXZ_1C6jFH"
   },
   "source": [
    "## <font color='#11a642' size='5'> Анализ пропусков\n"
   ]
  },
  {
   "cell_type": "code",
   "execution_count": 19,
   "metadata": {
    "colab": {
     "base_uri": "https://localhost:8080/"
    },
    "id": "M9DLDGg-CRm5",
    "outputId": "c79e05dd-98b0-41b2-e7c6-9fc390554812"
   },
   "outputs": [
    {
     "data": {
      "text/plain": [
       "id                      0\n",
       "Gender                  0\n",
       "Age                     0\n",
       "Driving_License         0\n",
       "Region_Code             0\n",
       "Previously_Insured      0\n",
       "Vehicle_Age             0\n",
       "Vehicle_Damage          0\n",
       "Annual_Premium          0\n",
       "Policy_Sales_Channel    0\n",
       "Vintage                 0\n",
       "Response                0\n",
       "dtype: int64"
      ]
     },
     "execution_count": 19,
     "metadata": {},
     "output_type": "execute_result"
    }
   ],
   "source": [
    "df_train.isna().sum()"
   ]
  },
  {
   "cell_type": "markdown",
   "metadata": {
    "id": "cd-lxD1y6v0Q"
   },
   "source": [
    "# <font color='#11a642' size='6'> **Разделите данные на трейн и тест**"
   ]
  },
  {
   "cell_type": "code",
   "execution_count": 20,
   "metadata": {
    "colab": {
     "base_uri": "https://localhost:8080/"
    },
    "id": "3fHwY-2J7PXr",
    "outputId": "16c4334f-c92a-440d-8554-df52f2810747"
   },
   "outputs": [
    {
     "data": {
      "text/plain": [
       "((9203838, 10), (2300960, 10))"
      ]
     },
     "execution_count": 20,
     "metadata": {},
     "output_type": "execute_result"
    }
   ],
   "source": [
    "\n",
    "X_train, X_test, y_train, y_test = train_test_split(df_train[[*features_cat, *features_num]],\n",
    "                                                    df_train[target],\n",
    "                                                    test_size=0.2,\n",
    "                                                    stratify=df_train[target],\n",
    "                                                    random_state=42)\n",
    "X_train.shape, X_test.shape"
   ]
  },
  {
   "cell_type": "markdown",
   "metadata": {
    "id": "bvhVO_Sl7RH3"
   },
   "source": [
    "# <font color='#11a642' size='6'> **Подготовка данных к обучению**"
   ]
  },
  {
   "cell_type": "code",
   "execution_count": 21,
   "metadata": {
    "id": "dLMMFhY2UxbG"
   },
   "outputs": [],
   "source": [
    "bin_pipe = Pipeline(\n",
    "    [\n",
    "        (\n",
    "            'ohe',\n",
    "            OneHotEncoder(drop='first', handle_unknown='ignore', sparse_output=False)\n",
    "        )\n",
    "    ]\n",
    ")"
   ]
  },
  {
   "cell_type": "code",
   "execution_count": 22,
   "metadata": {
    "id": "mNKgXaYyUxec"
   },
   "outputs": [],
   "source": [
    "cat_pipe = Pipeline(\n",
    "    [\n",
    "        ('cat_encoding', TargetEncoder()),\n",
    "        ('scaling', StandardScaler())\n",
    "    ]\n",
    ")"
   ]
  },
  {
   "cell_type": "code",
   "execution_count": 23,
   "metadata": {
    "id": "vkQGF3C_q27y"
   },
   "outputs": [],
   "source": [
    "num_pipe = Pipeline(\n",
    "    [\n",
    "        ('scaling', StandardScaler())\n",
    "    ]\n",
    ")"
   ]
  },
  {
   "cell_type": "code",
   "execution_count": 24,
   "metadata": {
    "id": "XAKdElyGUxhV"
   },
   "outputs": [],
   "source": [
    "data_preprocessor = ColumnTransformer(\n",
    "    [\n",
    "        ('bin_pipe', bin_pipe, features_cat_bin),\n",
    "        ('cat_pipe', cat_pipe, [feature for feature in features_cat if feature not in features_cat_bin]),\n",
    "        ('num_pipe', num_pipe, features_num),\n",
    "    ],\n",
    "    remainder='passthrough'\n",
    ")"
   ]
  },
  {
   "cell_type": "code",
   "execution_count": 25,
   "metadata": {
    "colab": {
     "base_uri": "https://localhost:8080/"
    },
    "id": "DkcWjqbBUxkL",
    "outputId": "2c0bfb16-a45a-441c-9299-52372fdc1dfd"
   },
   "outputs": [],
   "source": [
    "\n",
    "X_train_transform = data_preprocessor.fit_transform(X_train, y_train)"
   ]
  },
  {
   "cell_type": "code",
   "execution_count": 26,
   "metadata": {
    "colab": {
     "base_uri": "https://localhost:8080/"
    },
    "id": "jWDaS9bYd15e",
    "outputId": "4bad9033-eb09-4f8f-9696-4d1d7e9dd1c3"
   },
   "outputs": [],
   "source": [
    "\n",
    "df_test_transform = data_preprocessor.transform(df_test)"
   ]
  },
  {
   "cell_type": "code",
   "execution_count": 27,
   "metadata": {
    "colab": {
     "base_uri": "https://localhost:8080/"
    },
    "id": "fa0Ou-Paaah0",
    "outputId": "8575097b-f6c6-40e2-d922-87c5930d6fa1"
   },
   "outputs": [],
   "source": [
    "\n",
    "X_test_transform = data_preprocessor.transform(X_test)"
   ]
  },
  {
   "cell_type": "code",
   "execution_count": 28,
   "metadata": {
    "id": "VDgaHlVYaS7V"
   },
   "outputs": [],
   "source": [
    "columns = data_preprocessor.get_feature_names_out()\n",
    "\n",
    "# Создание DataFrame из трансформированных данных\n",
    "X_train_transform_df = pd.DataFrame(X_train_transform, columns=columns)\n",
    "X_test_transform_df = pd.DataFrame(X_test_transform, columns=columns)"
   ]
  },
  {
   "cell_type": "code",
   "execution_count": 29,
   "metadata": {
    "id": "cuEpEB6qd_uz"
   },
   "outputs": [],
   "source": [
    "df_test_transform_df = pd.DataFrame(df_test_transform, columns=columns)"
   ]
  },
  {
   "cell_type": "code",
   "execution_count": 31,
   "metadata": {
    "colab": {
     "base_uri": "https://localhost:8080/",
     "height": 226
    },
    "id": "COtO0gu6i4JS",
    "outputId": "25dc90fa-6293-4e00-9dde-09dc9956ba4c"
   },
   "outputs": [
    {
     "data": {
      "text/html": [
       "<div>\n",
       "<style scoped>\n",
       "    .dataframe tbody tr th:only-of-type {\n",
       "        vertical-align: middle;\n",
       "    }\n",
       "\n",
       "    .dataframe tbody tr th {\n",
       "        vertical-align: top;\n",
       "    }\n",
       "\n",
       "    .dataframe thead th {\n",
       "        text-align: right;\n",
       "    }\n",
       "</style>\n",
       "<table border=\"1\" class=\"dataframe\">\n",
       "  <thead>\n",
       "    <tr style=\"text-align: right;\">\n",
       "      <th></th>\n",
       "      <th>bin_pipe__Gender_Male</th>\n",
       "      <th>cat_pipe__Region_Code</th>\n",
       "      <th>cat_pipe__Vehicle_Age</th>\n",
       "      <th>cat_pipe__Vehicle_Damage</th>\n",
       "      <th>cat_pipe__Policy_Sales_Channel</th>\n",
       "      <th>num_pipe__Age</th>\n",
       "      <th>num_pipe__Driving_License</th>\n",
       "      <th>num_pipe__Previously_Insured</th>\n",
       "      <th>num_pipe__Annual_Premium</th>\n",
       "      <th>num_pipe__Vintage</th>\n",
       "    </tr>\n",
       "  </thead>\n",
       "  <tbody>\n",
       "    <tr>\n",
       "      <th>0</th>\n",
       "      <td>0.0</td>\n",
       "      <td>-0.806192</td>\n",
       "      <td>-1.074825</td>\n",
       "      <td>-1.005153</td>\n",
       "      <td>-1.146694</td>\n",
       "      <td>-1.226250</td>\n",
       "      <td>0.044424</td>\n",
       "      <td>-0.928633</td>\n",
       "      <td>-1.691597</td>\n",
       "      <td>0.801514</td>\n",
       "    </tr>\n",
       "    <tr>\n",
       "      <th>1</th>\n",
       "      <td>1.0</td>\n",
       "      <td>1.393129</td>\n",
       "      <td>0.720858</td>\n",
       "      <td>0.994873</td>\n",
       "      <td>0.777066</td>\n",
       "      <td>0.574669</td>\n",
       "      <td>0.044424</td>\n",
       "      <td>-0.928633</td>\n",
       "      <td>0.426598</td>\n",
       "      <td>-0.511345</td>\n",
       "    </tr>\n",
       "    <tr>\n",
       "      <th>2</th>\n",
       "      <td>1.0</td>\n",
       "      <td>-0.652626</td>\n",
       "      <td>0.720858</td>\n",
       "      <td>0.994873</td>\n",
       "      <td>0.950805</td>\n",
       "      <td>0.574669</td>\n",
       "      <td>0.044424</td>\n",
       "      <td>-0.928633</td>\n",
       "      <td>-1.691597</td>\n",
       "      <td>1.339160</td>\n",
       "    </tr>\n",
       "    <tr>\n",
       "      <th>3</th>\n",
       "      <td>0.0</td>\n",
       "      <td>-0.806192</td>\n",
       "      <td>-1.074825</td>\n",
       "      <td>-1.005153</td>\n",
       "      <td>-1.084663</td>\n",
       "      <td>-1.092848</td>\n",
       "      <td>0.044424</td>\n",
       "      <td>1.076852</td>\n",
       "      <td>-0.362324</td>\n",
       "      <td>-0.611372</td>\n",
       "    </tr>\n",
       "    <tr>\n",
       "      <th>4</th>\n",
       "      <td>1.0</td>\n",
       "      <td>0.887943</td>\n",
       "      <td>0.720858</td>\n",
       "      <td>-1.005153</td>\n",
       "      <td>0.777066</td>\n",
       "      <td>0.841472</td>\n",
       "      <td>0.044424</td>\n",
       "      <td>-0.928633</td>\n",
       "      <td>0.221907</td>\n",
       "      <td>-0.198760</td>\n",
       "    </tr>\n",
       "  </tbody>\n",
       "</table>\n",
       "</div>"
      ],
      "text/plain": [
       "   bin_pipe__Gender_Male  cat_pipe__Region_Code  cat_pipe__Vehicle_Age  \\\n",
       "0                    0.0              -0.806192              -1.074825   \n",
       "1                    1.0               1.393129               0.720858   \n",
       "2                    1.0              -0.652626               0.720858   \n",
       "3                    0.0              -0.806192              -1.074825   \n",
       "4                    1.0               0.887943               0.720858   \n",
       "\n",
       "   cat_pipe__Vehicle_Damage  cat_pipe__Policy_Sales_Channel  num_pipe__Age  \\\n",
       "0                 -1.005153                       -1.146694      -1.226250   \n",
       "1                  0.994873                        0.777066       0.574669   \n",
       "2                  0.994873                        0.950805       0.574669   \n",
       "3                 -1.005153                       -1.084663      -1.092848   \n",
       "4                 -1.005153                        0.777066       0.841472   \n",
       "\n",
       "   num_pipe__Driving_License  num_pipe__Previously_Insured  \\\n",
       "0                   0.044424                     -0.928633   \n",
       "1                   0.044424                     -0.928633   \n",
       "2                   0.044424                     -0.928633   \n",
       "3                   0.044424                      1.076852   \n",
       "4                   0.044424                     -0.928633   \n",
       "\n",
       "   num_pipe__Annual_Premium  num_pipe__Vintage  \n",
       "0                 -1.691597           0.801514  \n",
       "1                  0.426598          -0.511345  \n",
       "2                 -1.691597           1.339160  \n",
       "3                 -0.362324          -0.611372  \n",
       "4                  0.221907          -0.198760  "
      ]
     },
     "execution_count": 31,
     "metadata": {},
     "output_type": "execute_result"
    }
   ],
   "source": [
    "df_test_transform_df.head()"
   ]
  },
  {
   "cell_type": "code",
   "execution_count": 32,
   "metadata": {
    "colab": {
     "base_uri": "https://localhost:8080/"
    },
    "id": "QBt3QXEHO0Im",
    "outputId": "9122774d-b612-4907-edd3-b1a2b45ecc22"
   },
   "outputs": [
    {
     "data": {
      "text/plain": [
       "(7669866, 10)"
      ]
     },
     "execution_count": 32,
     "metadata": {},
     "output_type": "execute_result"
    }
   ],
   "source": [
    "df_test_transform_df.shape"
   ]
  },
  {
   "cell_type": "markdown",
   "metadata": {
    "id": "0jfwAloKXimA"
   },
   "source": [
    "# <font color='#11a642' size='6'> **Modeling**"
   ]
  },
  {
   "cell_type": "markdown",
   "metadata": {
    "id": "tZ1fZFxkVP5i"
   },
   "source": [
    "## <font color='#11a642' size='5'> LogisticRegression"
   ]
  },
  {
   "cell_type": "code",
   "execution_count": null,
   "metadata": {
    "colab": {
     "base_uri": "https://localhost:8080/"
    },
    "id": "7BVleRMgVFB6",
    "outputId": "d94d60cf-d94b-43e9-c919-dbfb51ccf35d"
   },
   "outputs": [
    {
     "name": "stdout",
     "output_type": "stream",
     "text": [
      "Logistic Regression accuracy score with all the features: 0.8761\n",
      "CPU times: total: 36.4 s\n",
      "Wall time: 18 s\n"
     ]
    }
   ],
   "source": [
    "\n",
    "from sklearn.linear_model import LogisticRegression\n",
    "from sklearn.metrics import accuracy_score\n",
    "\n",
    "logreg = LogisticRegression(max_iter=200)\n",
    "logreg.fit(X_train_transform_df, y_train)\n",
    "y_pred = logreg.predict(X_test_transform_df)\n",
    "\n",
    "print('Logistic Regression accuracy score with all the features: {0:0.4f}'. format(accuracy_score(y_test, y_pred)))"
   ]
  },
  {
   "cell_type": "code",
   "execution_count": 49,
   "metadata": {
    "colab": {
     "base_uri": "https://localhost:8080/",
     "height": 597
    },
    "id": "LFjuc3SKXSoB",
    "outputId": "e83d0a61-35ec-4f8c-878f-012d5cc6a1b0"
   },
   "outputs": [
    {
     "name": "stdout",
     "output_type": "stream",
     "text": [
      "ROC-AUC Train: 0.85\n",
      "ROC-AUC Test: 0.85\n"
     ]
    },
    {
     "data": {
      "image/png": "[encoded data removed]",
      "text/plain": [
       "<Figure size 640x480 with 1 Axes>"
      ]
     },
     "metadata": {},
     "output_type": "display_data"
    },
    {
     "name": "stdout",
     "output_type": "stream",
     "text": [
      "Optimal Threshold: 0.22\n",
      "Optimal Training Precision: 0.32\n",
      "Optimal Training Recall: 0.80\n",
      "Optimal Test Precision: 0.32\n",
      "Optimal Test Recall: 0.80\n"
     ]
    }
   ],
   "source": [
    "logreg_metrics = calculate_metrics_and_plot_roc(logreg, X_train_transform_df, y_train, X_test_transform_df, y_test)"
   ]
  },
  {
   "cell_type": "code",
   "execution_count": 50,
   "metadata": {
    "colab": {
     "base_uri": "https://localhost:8080/"
    },
    "id": "hCiVoieHXdk9",
    "outputId": "9d3132c2-6133-4859-c113-035621bd38f8"
   },
   "outputs": [
    {
     "data": {
      "text/plain": [
       "{'params': ['Training_Precision',\n",
       "  'Test_Precision',\n",
       "  'Training_Recall',\n",
       "  'Test_Recall',\n",
       "  'ROC_AUC_Train',\n",
       "  'ROC_AUC_Test'],\n",
       " 'values': [0.31689157958181885,\n",
       "  0.3168738651621296,\n",
       "  0.8048658757101075,\n",
       "  0.8047079275790426,\n",
       "  0.8492808818770068,\n",
       "  0.8490479298127326]}"
      ]
     },
     "execution_count": 50,
     "metadata": {},
     "output_type": "execute_result"
    }
   ],
   "source": [
    "logreg_metrics"
   ]
  },
  {
   "cell_type": "markdown",
   "metadata": {
    "id": "g0u6r6RaVvXt"
   },
   "source": [
    "## <font color='#11a642' size='5'> Logreg with PCA"
   ]
  },
  {
   "cell_type": "markdown",
   "metadata": {
    "id": "0WFvj2zWlbxu"
   },
   "source": [
    "`explained variance ratio` - это отношение объясненной дисперсии к общей дисперсии данных. В контексте PCA, explained variance ratio показывает, какую долю дисперсии в данных объясняют каждая из главных компонент. Это позволяет оценить, насколько хорошо главные компоненты представляют данные и какую информацию они удерживают."
   ]
  },
  {
   "cell_type": "code",
   "execution_count": 5,
   "metadata": {},
   "outputs": [
    {
     "name": "stdout",
     "output_type": "stream",
     "text": [
      "<class 'pandas.core.frame.DataFrame'>\n",
      "RangeIndex: 11504798 entries, 0 to 11504797\n",
      "Data columns (total 12 columns):\n",
      " #   Column                Dtype  \n",
      "---  ------                -----  \n",
      " 0   id                    int64  \n",
      " 1   Gender                object \n",
      " 2   Age                   int64  \n",
      " 3   Driving_License       int64  \n",
      " 4   Region_Code           float64\n",
      " 5   Previously_Insured    int64  \n",
      " 6   Vehicle_Age           object \n",
      " 7   Vehicle_Damage        object \n",
      " 8   Annual_Premium        float64\n",
      " 9   Policy_Sales_Channel  float64\n",
      " 10  Vintage               int64  \n",
      " 11  Response              int64  \n",
      "dtypes: float64(3), int64(6), object(3)\n",
      "memory usage: 1.0+ GB\n"
     ]
    }
   ],
   "source": [
    "df_train.info()"
   ]
  },
  {
   "cell_type": "code",
   "execution_count": 51,
   "metadata": {
    "colab": {
     "base_uri": "https://localhost:8080/"
    },
    "id": "CN00rqVnVJ7l",
    "outputId": "a1664f3a-9488-42c4-cc41-c58a16a2448c"
   },
   "outputs": [
    {
     "data": {
      "text/plain": [
       "array([0.36386254, 0.14115815, 0.12125352, 0.10805468, 0.10731538,\n",
       "       0.06401556, 0.03266005, 0.0256932 , 0.01832879, 0.01765813])"
      ]
     },
     "execution_count": 51,
     "metadata": {},
     "output_type": "execute_result"
    }
   ],
   "source": [
    "from sklearn.decomposition import PCA\n",
    "pca = PCA()\n",
    "X_train_pca = pca.fit_transform(X_train_transform_df) # снижаем размерность\n",
    "pca.explained_variance_ratio_"
   ]
  },
  {
   "cell_type": "code",
   "execution_count": 52,
   "metadata": {
    "colab": {
     "base_uri": "https://localhost:8080/"
    },
    "id": "g-nbA9dPpoPT",
    "outputId": "17d7676d-8a37-47a0-eb0c-7262fa1d6f55"
   },
   "outputs": [
    {
     "data": {
      "text/plain": [
       "array([[ 0.050666  ,  0.28409356,  0.4747863 ,  0.38249798,  0.46868683,\n",
       "         0.42477732, -0.03467049, -0.37503126,  0.05276043, -0.01611802],\n",
       "       [ 0.00950265,  0.42651698,  0.15398407, -0.47877594,  0.08382657,\n",
       "         0.25535111, -0.07771182,  0.49901764,  0.48624542,  0.03649733]])"
      ]
     },
     "execution_count": 52,
     "metadata": {},
     "output_type": "execute_result"
    }
   ],
   "source": [
    "# Собственные векторы (главные компоненты)\n",
    "eigenvectors = pca.components_\n",
    "eigenvectors[:2]"
   ]
  },
  {
   "cell_type": "code",
   "execution_count": 53,
   "metadata": {
    "colab": {
     "base_uri": "https://localhost:8080/"
    },
    "id": "IiBDsqsEqMYQ",
    "outputId": "35ae9234-f250-441c-83a9-d49b5227f4b2"
   },
   "outputs": [
    {
     "name": "stdout",
     "output_type": "stream",
     "text": [
      "Explained Variance Ratio: [0.36386254 0.14115815 0.12125352 0.10805468 0.10731538 0.06401556\n",
      " 0.03266005 0.0256932  0.01832879 0.01765813]\n",
      "\n",
      "Eigenvectors (First Two Principal Components):\n",
      "   bin_pipe__Gender_Male  cat_pipe__Region_Code  cat_pipe__Vehicle_Age  \\\n",
      "0               0.050666               0.284094               0.474786   \n",
      "1               0.009503               0.426517               0.153984   \n",
      "\n",
      "   cat_pipe__Vehicle_Damage  cat_pipe__Policy_Sales_Channel  num_pipe__Age  \\\n",
      "0                  0.382498                        0.468687       0.424777   \n",
      "1                 -0.478776                        0.083827       0.255351   \n",
      "\n",
      "   num_pipe__Driving_License  num_pipe__Previously_Insured  \\\n",
      "0                  -0.034670                     -0.375031   \n",
      "1                  -0.077712                      0.499018   \n",
      "\n",
      "   num_pipe__Annual_Premium  num_pipe__Vintage  \n",
      "0                  0.052760          -0.016118  \n",
      "1                  0.486245           0.036497  \n"
     ]
    }
   ],
   "source": [
    "# Первая и вторая главные компоненты\n",
    "first_principal_component = X_train_pca[:, 0]\n",
    "second_principal_component = X_train_pca[:, 1]\n",
    "\n",
    "# Собственные векторы (главные компоненты)\n",
    "eigenvectors = pca.components_\n",
    "\n",
    "# Создание DataFrame для удобного вывода\n",
    "eigenvectors_df = pd.DataFrame(eigenvectors, columns=X_train_transform_df.columns)\n",
    "eigenvectors_first_two = eigenvectors_df.iloc[:2]\n",
    "\n",
    "# Вывод результатов\n",
    "print(\"Explained Variance Ratio:\", pca.explained_variance_ratio_)\n",
    "print(\"\\nEigenvectors (First Two Principal Components):\")\n",
    "print(eigenvectors_first_two)\n"
   ]
  },
  {
   "cell_type": "code",
   "execution_count": 38,
   "metadata": {
    "id": "jLcDTIuxs_De"
   },
   "outputs": [],
   "source": [
    "# %%time\n",
    "# plt.figure(figsize=(8, 6))\n",
    "# sc = plt.scatter(X_train_pca[:, 0], X_train_pca[:, 2], c=y_train, cmap='viridis', edgecolor='k', s=50)\n",
    "# plt.xlabel('Первая главная компонента')\n",
    "# plt.ylabel('3 главная компонента')\n",
    "# plt.title('Проекция на первые две главные компоненты с учетом таргета')\n",
    "# plt.grid(True)\n",
    "# plt.show()"
   ]
  },
  {
   "cell_type": "code",
   "execution_count": 39,
   "metadata": {
    "id": "aw4_z-xVKtyV"
   },
   "outputs": [],
   "source": [
    "# %%time\n",
    "# plt.figure(figsize=(8, 6))\n",
    "# sc = plt.scatter(X_train_pca[:, 0], X_train_pca[:, 1], c=y_train, cmap='viridis', edgecolor='k', s=50)\n",
    "# plt.xlabel('1 главная компонента')\n",
    "# plt.ylabel('2 главная компонента')\n",
    "# plt.title('Проекция на первые две главные компоненты с учетом таргета')\n",
    "# plt.grid(True)\n",
    "# plt.show()"
   ]
  },
  {
   "cell_type": "code",
   "execution_count": 40,
   "metadata": {
    "id": "8XCJrXVWKltd"
   },
   "outputs": [],
   "source": [
    "# %%time\n",
    "# plt.figure(figsize=(8, 6))\n",
    "# sc = plt.scatter(X_train_pca[:, 1], X_train_pca[:, 2], c=y_train, cmap='viridis', edgecolor='k', s=50)\n",
    "# plt.xlabel('2 главная компонента')\n",
    "# plt.ylabel('3 главная компонента')\n",
    "# plt.title('Проекция на первые две главные компоненты с учетом таргета')\n",
    "# plt.grid(True)\n",
    "# plt.show()\n"
   ]
  },
  {
   "cell_type": "markdown",
   "metadata": {
    "id": "1LKlXqoyXZOq"
   },
   "source": [
    "Этот код выполняет анализ главных компонент (PCA) и определяет количество компонент, необходимых для сохранения 95% дисперсии (вариации) данных."
   ]
  },
  {
   "cell_type": "code",
   "execution_count": 54,
   "metadata": {
    "colab": {
     "base_uri": "https://localhost:8080/"
    },
    "id": "EyQuXjfLVJ_H",
    "outputId": "f75ced42-f847-4d23-aaac-7499f1f00d5d"
   },
   "outputs": [
    {
     "name": "stdout",
     "output_type": "stream",
     "text": [
      "The number of dimensions required to preserve 80% of variance is 5\n"
     ]
    }
   ],
   "source": [
    "pca= PCA()\n",
    "pca.fit(X_train_transform_df)\n",
    "cumsum = np.cumsum(pca.explained_variance_ratio_)\n",
    "dim = np.argmax(cumsum >= 0.8) + 1\n",
    "print('The number of dimensions required to preserve 80% of variance is',dim)"
   ]
  },
  {
   "cell_type": "code",
   "execution_count": 55,
   "metadata": {
    "colab": {
     "base_uri": "https://localhost:8080/"
    },
    "id": "VoqWmvmbXlZq",
    "outputId": "16063239-9a4d-445d-b277-535c34f612c7"
   },
   "outputs": [
    {
     "data": {
      "text/plain": [
       "array([0.36386254, 0.14115815, 0.12125352, 0.10805468, 0.10731538,\n",
       "       0.06401556, 0.03266005, 0.0256932 , 0.01832879, 0.01765813])"
      ]
     },
     "execution_count": 55,
     "metadata": {},
     "output_type": "execute_result"
    }
   ],
   "source": [
    "pca.explained_variance_ratio_"
   ]
  },
  {
   "cell_type": "code",
   "execution_count": null,
   "metadata": {
    "id": "AZaWmuieXgdf"
   },
   "outputs": [],
   "source": [
    "cumsum"
   ]
  },
  {
   "cell_type": "code",
   "execution_count": 43,
   "metadata": {
    "colab": {
     "base_uri": "https://localhost:8080/",
     "height": 598
    },
    "id": "WbnskQuMVKCb",
    "outputId": "d5e7c0df-e23b-4c2d-e7cb-863c3c2adb98"
   },
   "outputs": [
    {
     "name": "stderr",
     "output_type": "stream",
     "text": [
      "<ipython-input-43-3b4f58ee1a53>:3: MatplotlibDeprecationWarning: Passing the emit parameter of set_xlim() positionally is deprecated since Matplotlib 3.6; the parameter will become keyword-only two minor releases later.\n",
      "  plt.xlim(0,14,1)\n"
     ]
    },
    {
     "data": {
      "image/png": "[encoded data removed]",
      "text/plain": [
       "<Figure size 800x600 with 1 Axes>"
      ]
     },
     "metadata": {},
     "output_type": "display_data"
    }
   ],
   "source": [
    "plt.figure(figsize=(8,6))\n",
    "plt.plot(np.cumsum(pca.explained_variance_ratio_))\n",
    "plt.xlim(0,14,1)\n",
    "plt.xlabel('Number of components')\n",
    "plt.ylabel('Cumulative explained variance')\n",
    "plt.show()"
   ]
  },
  {
   "cell_type": "code",
   "execution_count": 44,
   "metadata": {
    "colab": {
     "base_uri": "https://localhost:8080/",
     "height": 75
    },
    "id": "ihQPoMQlVFFZ",
    "outputId": "36270532-b380-40f8-f7b4-7503b444ff64"
   },
   "outputs": [
    {
     "data": {
      "text/html": [
       "<style>#sk-container-id-1 {color: black;background-color: white;}#sk-container-id-1 pre{padding: 0;}#sk-container-id-1 div.sk-toggleable {background-color: white;}#sk-container-id-1 label.sk-toggleable__label {cursor: pointer;display: block;width: 100%;margin-bottom: 0;padding: 0.3em;box-sizing: border-box;text-align: center;}#sk-container-id-1 label.sk-toggleable__label-arrow:before {content: \"▸\";float: left;margin-right: 0.25em;color: #696969;}#sk-container-id-1 label.sk-toggleable__label-arrow:hover:before {color: black;}#sk-container-id-1 div.sk-estimator:hover label.sk-toggleable__label-arrow:before {color: black;}#sk-container-id-1 div.sk-toggleable__content {max-height: 0;max-width: 0;overflow: hidden;text-align: left;background-color: #f0f8ff;}#sk-container-id-1 div.sk-toggleable__content pre {margin: 0.2em;color: black;border-radius: 0.25em;background-color: #f0f8ff;}#sk-container-id-1 input.sk-toggleable__control:checked~div.sk-toggleable__content {max-height: 200px;max-width: 100%;overflow: auto;}#sk-container-id-1 input.sk-toggleable__control:checked~label.sk-toggleable__label-arrow:before {content: \"▾\";}#sk-container-id-1 div.sk-estimator input.sk-toggleable__control:checked~label.sk-toggleable__label {background-color: #d4ebff;}#sk-container-id-1 div.sk-label input.sk-toggleable__control:checked~label.sk-toggleable__label {background-color: #d4ebff;}#sk-container-id-1 input.sk-hidden--visually {border: 0;clip: rect(1px 1px 1px 1px);clip: rect(1px, 1px, 1px, 1px);height: 1px;margin: -1px;overflow: hidden;padding: 0;position: absolute;width: 1px;}#sk-container-id-1 div.sk-estimator {font-family: monospace;background-color: #f0f8ff;border: 1px dotted black;border-radius: 0.25em;box-sizing: border-box;margin-bottom: 0.5em;}#sk-container-id-1 div.sk-estimator:hover {background-color: #d4ebff;}#sk-container-id-1 div.sk-parallel-item::after {content: \"\";width: 100%;border-bottom: 1px solid gray;flex-grow: 1;}#sk-container-id-1 div.sk-label:hover label.sk-toggleable__label {background-color: #d4ebff;}#sk-container-id-1 div.sk-serial::before {content: \"\";position: absolute;border-left: 1px solid gray;box-sizing: border-box;top: 0;bottom: 0;left: 50%;z-index: 0;}#sk-container-id-1 div.sk-serial {display: flex;flex-direction: column;align-items: center;background-color: white;padding-right: 0.2em;padding-left: 0.2em;position: relative;}#sk-container-id-1 div.sk-item {position: relative;z-index: 1;}#sk-container-id-1 div.sk-parallel {display: flex;align-items: stretch;justify-content: center;background-color: white;position: relative;}#sk-container-id-1 div.sk-item::before, #sk-container-id-1 div.sk-parallel-item::before {content: \"\";position: absolute;border-left: 1px solid gray;box-sizing: border-box;top: 0;bottom: 0;left: 50%;z-index: -1;}#sk-container-id-1 div.sk-parallel-item {display: flex;flex-direction: column;z-index: 1;position: relative;background-color: white;}#sk-container-id-1 div.sk-parallel-item:first-child::after {align-self: flex-end;width: 50%;}#sk-container-id-1 div.sk-parallel-item:last-child::after {align-self: flex-start;width: 50%;}#sk-container-id-1 div.sk-parallel-item:only-child::after {width: 0;}#sk-container-id-1 div.sk-dashed-wrapped {border: 1px dashed gray;margin: 0 0.4em 0.5em 0.4em;box-sizing: border-box;padding-bottom: 0.4em;background-color: white;}#sk-container-id-1 div.sk-label label {font-family: monospace;font-weight: bold;display: inline-block;line-height: 1.2em;}#sk-container-id-1 div.sk-label-container {text-align: center;}#sk-container-id-1 div.sk-container {/* jupyter's `normalize.less` sets `[hidden] { display: none; }` but bootstrap.min.css set `[hidden] { display: none !important; }` so we also need the `!important` here to be able to override the default hidden behavior on the sphinx rendered scikit-learn.org. See: https://github.com/scikit-learn/scikit-learn/issues/21755 */display: inline-block !important;position: relative;}#sk-container-id-1 div.sk-text-repr-fallback {display: none;}</style><div id=\"sk-container-id-1\" class=\"sk-top-container\"><div class=\"sk-text-repr-fallback\"><pre>PCA(n_components=5)</pre><b>In a Jupyter environment, please rerun this cell to show the HTML representation or trust the notebook. <br />On GitHub, the HTML representation is unable to render, please try loading this page with nbviewer.org.</b></div><div class=\"sk-container\" hidden><div class=\"sk-item\"><div class=\"sk-estimator sk-toggleable\"><input class=\"sk-toggleable__control sk-hidden--visually\" id=\"sk-estimator-id-1\" type=\"checkbox\" checked><label for=\"sk-estimator-id-1\" class=\"sk-toggleable__label sk-toggleable__label-arrow\">PCA</label><div class=\"sk-toggleable__content\"><pre>PCA(n_components=5)</pre></div></div></div></div></div>"
      ],
      "text/plain": [
       "PCA(n_components=5)"
      ]
     },
     "execution_count": 44,
     "metadata": {},
     "output_type": "execute_result"
    }
   ],
   "source": [
    "pca= PCA(n_components=dim)\n",
    "pca.fit(X_train_transform_df)"
   ]
  },
  {
   "cell_type": "code",
   "execution_count": 45,
   "metadata": {
    "id": "IWUcoCQ0WCxW"
   },
   "outputs": [],
   "source": [
    "pca_train = pca.transform(X_train_transform_df)"
   ]
  },
  {
   "cell_type": "code",
   "execution_count": 46,
   "metadata": {
    "id": "Hj2rV7pOWC0r"
   },
   "outputs": [],
   "source": [
    "pca_test = pca.transform(X_test_transform_df)"
   ]
  },
  {
   "cell_type": "code",
   "execution_count": 47,
   "metadata": {
    "id": "e-bcQkChWC4Z"
   },
   "outputs": [],
   "source": [
    "logreg_pca = LogisticRegression(max_iter=200)\n",
    "logreg_pca.fit(pca_train, y_train)\n",
    "y_pred = logreg_pca.predict(pca_test)"
   ]
  },
  {
   "cell_type": "code",
   "execution_count": 48,
   "metadata": {
    "colab": {
     "base_uri": "https://localhost:8080/",
     "height": 597
    },
    "id": "TZwfhXMAYBwu",
    "outputId": "c53f12de-1e12-43ed-b333-2a9466157e9a"
   },
   "outputs": [
    {
     "name": "stdout",
     "output_type": "stream",
     "text": [
      "ROC-AUC Train: 0.84\n",
      "ROC-AUC Test: 0.84\n"
     ]
    },
    {
     "data": {
      "image/png": "[encoded data removed]",
      "text/plain": [
       "<Figure size 640x480 with 1 Axes>"
      ]
     },
     "metadata": {},
     "output_type": "display_data"
    },
    {
     "name": "stdout",
     "output_type": "stream",
     "text": [
      "Optimal Threshold: 0.24\n",
      "Optimal Training Precision: 0.31\n",
      "Optimal Training Recall: 0.81\n",
      "Optimal Test Precision: 0.31\n",
      "Optimal Test Recall: 0.81\n"
     ]
    }
   ],
   "source": [
    "logreg_pca_metrics = calculate_metrics_and_plot_roc(logreg_pca, pca_train, y_train, pca_test, y_test)"
   ]
  },
  {
   "cell_type": "code",
   "execution_count": 49,
   "metadata": {
    "colab": {
     "base_uri": "https://localhost:8080/"
    },
    "id": "msg3tDTVYBz9",
    "outputId": "b82a9a87-b2ce-4a35-ad6f-3a4d0c56113d"
   },
   "outputs": [
    {
     "data": {
      "text/plain": [
       "{'params': ['Training_Precision',\n",
       "  'Test_Precision',\n",
       "  'Training_Recall',\n",
       "  'Test_Recall',\n",
       "  'ROC_AUC_Train',\n",
       "  'ROC_AUC_Test'],\n",
       " 'values': [0.3053305989450422,\n",
       "  0.30521235188643114,\n",
       "  0.8138319345398204,\n",
       "  0.8137640806750244,\n",
       "  0.8435489531712232,\n",
       "  0.843222716334554]}"
      ]
     },
     "execution_count": 49,
     "metadata": {},
     "output_type": "execute_result"
    }
   ],
   "source": [
    "logreg_pca_metrics"
   ]
  },
  {
   "cell_type": "code",
   "execution_count": 51,
   "metadata": {
    "id": "1vwfOnPZYB53"
   },
   "outputs": [],
   "source": [
    "pca_df_test_transform = pca.transform(df_test_transform_df)"
   ]
  },
  {
   "cell_type": "code",
   "execution_count": 52,
   "metadata": {
    "id": "aK5zHlA9TEzW"
   },
   "outputs": [],
   "source": [
    "y_pred_for_submit = logreg_pca.predict_proba(pca_df_test_transform)"
   ]
  },
  {
   "cell_type": "code",
   "execution_count": 53,
   "metadata": {
    "id": "u9O92X2EhIkB"
   },
   "outputs": [],
   "source": [
    "df_test['Response'] = y_pred_for_submit[:,1]"
   ]
  },
  {
   "cell_type": "code",
   "execution_count": 54,
   "metadata": {
    "id": "F7Cu-a7Og9GT"
   },
   "outputs": [],
   "source": [
    "df_test[[id, 'Response']].to_csv('/playground_data/submissions.csv', index=False)"
   ]
  }
 ],
 "metadata": {
  "colab": {
   "provenance": []
  },
  "kernelspec": {
   "display_name": "env1",
   "language": "python",
   "name": "python3"
  },
  "language_info": {
   "codemirror_mode": {
    "name": "ipython",
    "version": 3
   },
   "file_extension": ".py",
   "mimetype": "text/x-python",
   "name": "python",
   "nbconvert_exporter": "python",
   "pygments_lexer": "ipython3",
   "version": "3.12.3"
  }
 },
 "nbformat": 4,
 "nbformat_minor": 4
}
