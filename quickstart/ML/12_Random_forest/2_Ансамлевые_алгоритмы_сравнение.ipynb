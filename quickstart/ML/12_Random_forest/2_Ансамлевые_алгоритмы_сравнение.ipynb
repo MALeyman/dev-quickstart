{
 "cells": [
  {
   "cell_type": "markdown",
   "id": "b7121993",
   "metadata": {
    "id": "b7121993",
    "papermill": {
     "duration": 0.012859,
     "end_time": "2023-01-31T22:08:15.334526",
     "exception": false,
     "start_time": "2023-01-31T22:08:15.321667",
     "status": "completed"
    },
    "tags": []
   },
   "source": [
    "# Ансамблевые алгоритмы машинного обучения на Python с scikit-learn\n",
    "\n",
    "> Ансамбли могут повысить точность вашего набора данных.\n",
    "\n",
    "> В этой записной книжке вы узнаете, как можно создавать некоторые из самых мощных типов ансамблей в Python с помощью Scikit-Learn.\n",
    "\n",
    "# Объединять предсказания Модели в Ансамблевые Предсказания\n",
    "\n",
    "Тремя наиболее популярными методами объединения прогнозов из разных моделей являются:\n",
    "\n",
    "- **Bagging**. Построение нескольких моделей (обычно одного типа) из разных подвыборок обучающего набора данных.\n",
    "- **Boosting**. Построение нескольких моделей (обычно одного типа), каждая из которых учится исправлять ошибки прогнозирования предыдущей модели в цепочке.\n",
    "- **Voting**. Для объединения прогнозов используется построение нескольких\n",
    "\n",
    "*   Новый пункт\n",
    "*   Новый пункт\n",
    "\n",
    "моделей (обычно разных типов) и простая статистика (например, вычисление среднего значения).\n",
    "\n",
    "***\n",
    "\n",
    "Стандартной задачей классификации, используемой для демонстрации каждого алгоритма ансамбля, является набор данных о начале диабета у индейцев Пима. Это задача бинарной классификации, в которой все входные переменные являются числовыми и имеют разные масштабы.\n",
    "***"
   ]
  },
  {
   "cell_type": "markdown",
   "id": "d444535f",
   "metadata": {
    "id": "d444535f",
    "papermill": {
     "duration": 0.01058,
     "end_time": "2023-01-31T22:08:15.356308",
     "exception": false,
     "start_time": "2023-01-31T22:08:15.345728",
     "status": "completed"
    },
    "tags": []
   },
   "source": [
    "## Импорт библиотек"
   ]
  },
  {
   "cell_type": "code",
   "execution_count": 13,
   "id": "c9448b34",
   "metadata": {
    "execution": {
     "iopub.execute_input": "2023-01-31T22:08:15.381230Z",
     "iopub.status.busy": "2023-01-31T22:08:15.380541Z",
     "iopub.status.idle": "2023-01-31T22:08:16.506870Z",
     "shell.execute_reply": "2023-01-31T22:08:16.505696Z"
    },
    "id": "c9448b34",
    "papermill": {
     "duration": 1.14256,
     "end_time": "2023-01-31T22:08:16.509900",
     "exception": false,
     "start_time": "2023-01-31T22:08:15.367340",
     "status": "completed"
    },
    "tags": []
   },
   "outputs": [],
   "source": [
    "import pandas as pd\n",
    "import numpy as np\n",
    "import matplotlib.pyplot as plt\n",
    "import seaborn as sns\n",
    "\n",
    "%matplotlib inline\n",
    "sns.set_style(\"whitegrid\")\n",
    "plt.style.use(\"fivethirtyeight\")"
   ]
  },
  {
   "cell_type": "markdown",
   "id": "6465409f",
   "metadata": {
    "id": "6465409f",
    "papermill": {
     "duration": 0.010143,
     "end_time": "2023-01-31T22:08:16.531128",
     "exception": false,
     "start_time": "2023-01-31T22:08:16.520985",
     "status": "completed"
    },
    "tags": []
   },
   "source": [
    "## Загрузка данных"
   ]
  },
  {
   "cell_type": "code",
   "execution_count": 14,
   "id": "hpwkPIkV4LmN",
   "metadata": {
    "colab": {
     "base_uri": "https://localhost:8080/"
    },
    "id": "hpwkPIkV4LmN",
    "outputId": "22a301c3-95fe-434c-e613-7f88e61a445e"
   },
   "outputs": [
    {
     "name": "stdout",
     "output_type": "stream",
     "text": [
      "Path to dataset files: C:\\Users\\user\\.cache\\kagglehub\\datasets\\uciml\\pima-indians-diabetes-database\\versions\\1\n"
     ]
    }
   ],
   "source": [
    "import kagglehub\n",
    "\n",
    "# Download latest version\n",
    "path = kagglehub.dataset_download(\"uciml/pima-indians-diabetes-database\") #Индейцы Пима задача диабета\n",
    "\n",
    "print(\"Path to dataset files:\", path)"
   ]
  },
  {
   "cell_type": "code",
   "execution_count": 15,
   "id": "1248c496",
   "metadata": {
    "colab": {
     "base_uri": "https://localhost:8080/",
     "height": 243
    },
    "execution": {
     "iopub.execute_input": "2023-01-31T22:08:16.557964Z",
     "iopub.status.busy": "2023-01-31T22:08:16.557545Z",
     "iopub.status.idle": "2023-01-31T22:08:16.602408Z",
     "shell.execute_reply": "2023-01-31T22:08:16.601106Z"
    },
    "id": "1248c496",
    "outputId": "5e768ec8-8b40-42fb-a9e4-b9c9aa800a1e",
    "papermill": {
     "duration": 0.063101,
     "end_time": "2023-01-31T22:08:16.605656",
     "exception": false,
     "start_time": "2023-01-31T22:08:16.542555",
     "status": "completed"
    },
    "tags": []
   },
   "outputs": [
    {
     "data": {
      "text/html": [
       "<div>\n",
       "<style scoped>\n",
       "    .dataframe tbody tr th:only-of-type {\n",
       "        vertical-align: middle;\n",
       "    }\n",
       "\n",
       "    .dataframe tbody tr th {\n",
       "        vertical-align: top;\n",
       "    }\n",
       "\n",
       "    .dataframe thead th {\n",
       "        text-align: right;\n",
       "    }\n",
       "</style>\n",
       "<table border=\"1\" class=\"dataframe\">\n",
       "  <thead>\n",
       "    <tr style=\"text-align: right;\">\n",
       "      <th></th>\n",
       "      <th>Pregnancies</th>\n",
       "      <th>Glucose</th>\n",
       "      <th>BloodPressure</th>\n",
       "      <th>SkinThickness</th>\n",
       "      <th>Insulin</th>\n",
       "      <th>BMI</th>\n",
       "      <th>DiabetesPedigreeFunction</th>\n",
       "      <th>Age</th>\n",
       "      <th>Outcome</th>\n",
       "    </tr>\n",
       "  </thead>\n",
       "  <tbody>\n",
       "    <tr>\n",
       "      <th>0</th>\n",
       "      <td>6</td>\n",
       "      <td>148</td>\n",
       "      <td>72</td>\n",
       "      <td>35</td>\n",
       "      <td>0</td>\n",
       "      <td>33.6</td>\n",
       "      <td>0.627</td>\n",
       "      <td>50</td>\n",
       "      <td>1</td>\n",
       "    </tr>\n",
       "    <tr>\n",
       "      <th>1</th>\n",
       "      <td>1</td>\n",
       "      <td>85</td>\n",
       "      <td>66</td>\n",
       "      <td>29</td>\n",
       "      <td>0</td>\n",
       "      <td>26.6</td>\n",
       "      <td>0.351</td>\n",
       "      <td>31</td>\n",
       "      <td>0</td>\n",
       "    </tr>\n",
       "    <tr>\n",
       "      <th>2</th>\n",
       "      <td>8</td>\n",
       "      <td>183</td>\n",
       "      <td>64</td>\n",
       "      <td>0</td>\n",
       "      <td>0</td>\n",
       "      <td>23.3</td>\n",
       "      <td>0.672</td>\n",
       "      <td>32</td>\n",
       "      <td>1</td>\n",
       "    </tr>\n",
       "    <tr>\n",
       "      <th>3</th>\n",
       "      <td>1</td>\n",
       "      <td>89</td>\n",
       "      <td>66</td>\n",
       "      <td>23</td>\n",
       "      <td>94</td>\n",
       "      <td>28.1</td>\n",
       "      <td>0.167</td>\n",
       "      <td>21</td>\n",
       "      <td>0</td>\n",
       "    </tr>\n",
       "    <tr>\n",
       "      <th>4</th>\n",
       "      <td>0</td>\n",
       "      <td>137</td>\n",
       "      <td>40</td>\n",
       "      <td>35</td>\n",
       "      <td>168</td>\n",
       "      <td>43.1</td>\n",
       "      <td>2.288</td>\n",
       "      <td>33</td>\n",
       "      <td>1</td>\n",
       "    </tr>\n",
       "  </tbody>\n",
       "</table>\n",
       "</div>"
      ],
      "text/plain": [
       "   Pregnancies  Glucose  BloodPressure  SkinThickness  Insulin   BMI  \\\n",
       "0            6      148             72             35        0  33.6   \n",
       "1            1       85             66             29        0  26.6   \n",
       "2            8      183             64              0        0  23.3   \n",
       "3            1       89             66             23       94  28.1   \n",
       "4            0      137             40             35      168  43.1   \n",
       "\n",
       "   DiabetesPedigreeFunction  Age  Outcome  \n",
       "0                     0.627   50        1  \n",
       "1                     0.351   31        0  \n",
       "2                     0.672   32        1  \n",
       "3                     0.167   21        0  \n",
       "4                     2.288   33        1  "
      ]
     },
     "execution_count": 15,
     "metadata": {},
     "output_type": "execute_result"
    }
   ],
   "source": [
    "df = pd.read_csv(path + \"/diabetes.csv\")\n",
    "df.head()\n",
    "\n",
    "#Построить регрессоры\n",
    "# Для решения классификации сделать из cost классы"
   ]
  },
  {
   "cell_type": "code",
   "execution_count": 16,
   "id": "HtpyzJeHZZcq",
   "metadata": {
    "colab": {
     "base_uri": "https://localhost:8080/",
     "height": 582
    },
    "id": "HtpyzJeHZZcq",
    "outputId": "47f41366-a166-42ad-8599-fcaf3e3ae756"
   },
   "outputs": [
    {
     "data": {
      "text/html": [
       "<div>\n",
       "<style scoped>\n",
       "    .dataframe tbody tr th:only-of-type {\n",
       "        vertical-align: middle;\n",
       "    }\n",
       "\n",
       "    .dataframe tbody tr th {\n",
       "        vertical-align: top;\n",
       "    }\n",
       "\n",
       "    .dataframe thead th {\n",
       "        text-align: right;\n",
       "    }\n",
       "</style>\n",
       "<table border=\"1\" class=\"dataframe\">\n",
       "  <thead>\n",
       "    <tr style=\"text-align: right;\">\n",
       "      <th></th>\n",
       "      <th>count</th>\n",
       "      <th>mean</th>\n",
       "      <th>std</th>\n",
       "      <th>min</th>\n",
       "      <th>25%</th>\n",
       "      <th>50%</th>\n",
       "      <th>75%</th>\n",
       "      <th>max</th>\n",
       "    </tr>\n",
       "  </thead>\n",
       "  <tbody>\n",
       "    <tr>\n",
       "      <th>Pregnancies</th>\n",
       "      <td>768.0</td>\n",
       "      <td>3.845052</td>\n",
       "      <td>3.369578</td>\n",
       "      <td>0.000</td>\n",
       "      <td>1.00000</td>\n",
       "      <td>3.0000</td>\n",
       "      <td>6.00000</td>\n",
       "      <td>17.00</td>\n",
       "    </tr>\n",
       "    <tr>\n",
       "      <th>Glucose</th>\n",
       "      <td>768.0</td>\n",
       "      <td>120.894531</td>\n",
       "      <td>31.972618</td>\n",
       "      <td>0.000</td>\n",
       "      <td>99.00000</td>\n",
       "      <td>117.0000</td>\n",
       "      <td>140.25000</td>\n",
       "      <td>199.00</td>\n",
       "    </tr>\n",
       "    <tr>\n",
       "      <th>BloodPressure</th>\n",
       "      <td>768.0</td>\n",
       "      <td>69.105469</td>\n",
       "      <td>19.355807</td>\n",
       "      <td>0.000</td>\n",
       "      <td>62.00000</td>\n",
       "      <td>72.0000</td>\n",
       "      <td>80.00000</td>\n",
       "      <td>122.00</td>\n",
       "    </tr>\n",
       "    <tr>\n",
       "      <th>SkinThickness</th>\n",
       "      <td>768.0</td>\n",
       "      <td>20.536458</td>\n",
       "      <td>15.952218</td>\n",
       "      <td>0.000</td>\n",
       "      <td>0.00000</td>\n",
       "      <td>23.0000</td>\n",
       "      <td>32.00000</td>\n",
       "      <td>99.00</td>\n",
       "    </tr>\n",
       "    <tr>\n",
       "      <th>Insulin</th>\n",
       "      <td>768.0</td>\n",
       "      <td>79.799479</td>\n",
       "      <td>115.244002</td>\n",
       "      <td>0.000</td>\n",
       "      <td>0.00000</td>\n",
       "      <td>30.5000</td>\n",
       "      <td>127.25000</td>\n",
       "      <td>846.00</td>\n",
       "    </tr>\n",
       "    <tr>\n",
       "      <th>BMI</th>\n",
       "      <td>768.0</td>\n",
       "      <td>31.992578</td>\n",
       "      <td>7.884160</td>\n",
       "      <td>0.000</td>\n",
       "      <td>27.30000</td>\n",
       "      <td>32.0000</td>\n",
       "      <td>36.60000</td>\n",
       "      <td>67.10</td>\n",
       "    </tr>\n",
       "    <tr>\n",
       "      <th>DiabetesPedigreeFunction</th>\n",
       "      <td>768.0</td>\n",
       "      <td>0.471876</td>\n",
       "      <td>0.331329</td>\n",
       "      <td>0.078</td>\n",
       "      <td>0.24375</td>\n",
       "      <td>0.3725</td>\n",
       "      <td>0.62625</td>\n",
       "      <td>2.42</td>\n",
       "    </tr>\n",
       "    <tr>\n",
       "      <th>Age</th>\n",
       "      <td>768.0</td>\n",
       "      <td>33.240885</td>\n",
       "      <td>11.760232</td>\n",
       "      <td>21.000</td>\n",
       "      <td>24.00000</td>\n",
       "      <td>29.0000</td>\n",
       "      <td>41.00000</td>\n",
       "      <td>81.00</td>\n",
       "    </tr>\n",
       "    <tr>\n",
       "      <th>Outcome</th>\n",
       "      <td>768.0</td>\n",
       "      <td>0.348958</td>\n",
       "      <td>0.476951</td>\n",
       "      <td>0.000</td>\n",
       "      <td>0.00000</td>\n",
       "      <td>0.0000</td>\n",
       "      <td>1.00000</td>\n",
       "      <td>1.00</td>\n",
       "    </tr>\n",
       "  </tbody>\n",
       "</table>\n",
       "</div>"
      ],
      "text/plain": [
       "                          count        mean         std     min       25%  \\\n",
       "Pregnancies               768.0    3.845052    3.369578   0.000   1.00000   \n",
       "Glucose                   768.0  120.894531   31.972618   0.000  99.00000   \n",
       "BloodPressure             768.0   69.105469   19.355807   0.000  62.00000   \n",
       "SkinThickness             768.0   20.536458   15.952218   0.000   0.00000   \n",
       "Insulin                   768.0   79.799479  115.244002   0.000   0.00000   \n",
       "BMI                       768.0   31.992578    7.884160   0.000  27.30000   \n",
       "DiabetesPedigreeFunction  768.0    0.471876    0.331329   0.078   0.24375   \n",
       "Age                       768.0   33.240885   11.760232  21.000  24.00000   \n",
       "Outcome                   768.0    0.348958    0.476951   0.000   0.00000   \n",
       "\n",
       "                               50%        75%     max  \n",
       "Pregnancies                 3.0000    6.00000   17.00  \n",
       "Glucose                   117.0000  140.25000  199.00  \n",
       "BloodPressure              72.0000   80.00000  122.00  \n",
       "SkinThickness              23.0000   32.00000   99.00  \n",
       "Insulin                    30.5000  127.25000  846.00  \n",
       "BMI                        32.0000   36.60000   67.10  \n",
       "DiabetesPedigreeFunction    0.3725    0.62625    2.42  \n",
       "Age                        29.0000   41.00000   81.00  \n",
       "Outcome                     0.0000    1.00000    1.00  "
      ]
     },
     "execution_count": 16,
     "metadata": {},
     "output_type": "execute_result"
    }
   ],
   "source": [
    "df.describe().T"
   ]
  },
  {
   "cell_type": "code",
   "execution_count": 17,
   "id": "d50b7275",
   "metadata": {
    "colab": {
     "base_uri": "https://localhost:8080/"
    },
    "execution": {
     "iopub.execute_input": "2023-01-31T22:08:16.634279Z",
     "iopub.status.busy": "2023-01-31T22:08:16.633675Z",
     "iopub.status.idle": "2023-01-31T22:08:16.661075Z",
     "shell.execute_reply": "2023-01-31T22:08:16.659702Z"
    },
    "id": "d50b7275",
    "outputId": "044c3bcc-6f97-4ac2-bfd1-286f1cf1a1f5",
    "papermill": {
     "duration": 0.047827,
     "end_time": "2023-01-31T22:08:16.664727",
     "exception": false,
     "start_time": "2023-01-31T22:08:16.616900",
     "status": "completed"
    },
    "tags": []
   },
   "outputs": [
    {
     "name": "stdout",
     "output_type": "stream",
     "text": [
      "<class 'pandas.core.frame.DataFrame'>\n",
      "RangeIndex: 768 entries, 0 to 767\n",
      "Data columns (total 9 columns):\n",
      " #   Column                    Non-Null Count  Dtype  \n",
      "---  ------                    --------------  -----  \n",
      " 0   Pregnancies               768 non-null    int64  \n",
      " 1   Glucose                   768 non-null    int64  \n",
      " 2   BloodPressure             768 non-null    int64  \n",
      " 3   SkinThickness             768 non-null    int64  \n",
      " 4   Insulin                   768 non-null    int64  \n",
      " 5   BMI                       768 non-null    float64\n",
      " 6   DiabetesPedigreeFunction  768 non-null    float64\n",
      " 7   Age                       768 non-null    int64  \n",
      " 8   Outcome                   768 non-null    int64  \n",
      "dtypes: float64(2), int64(7)\n",
      "memory usage: 54.1 KB\n"
     ]
    }
   ],
   "source": [
    "df.info()"
   ]
  },
  {
   "cell_type": "code",
   "execution_count": 18,
   "id": "c9c223ed",
   "metadata": {
    "colab": {
     "base_uri": "https://localhost:8080/"
    },
    "execution": {
     "iopub.execute_input": "2023-01-31T22:08:16.690422Z",
     "iopub.status.busy": "2023-01-31T22:08:16.690032Z",
     "iopub.status.idle": "2023-01-31T22:08:16.700089Z",
     "shell.execute_reply": "2023-01-31T22:08:16.698811Z"
    },
    "id": "c9c223ed",
    "outputId": "f8c87a95-3033-4538-d47b-2901bb086f1a",
    "papermill": {
     "duration": 0.025116,
     "end_time": "2023-01-31T22:08:16.702337",
     "exception": false,
     "start_time": "2023-01-31T22:08:16.677221",
     "status": "completed"
    },
    "tags": []
   },
   "outputs": [
    {
     "data": {
      "text/plain": [
       "Pregnancies                 0\n",
       "Glucose                     0\n",
       "BloodPressure               0\n",
       "SkinThickness               0\n",
       "Insulin                     0\n",
       "BMI                         0\n",
       "DiabetesPedigreeFunction    0\n",
       "Age                         0\n",
       "Outcome                     0\n",
       "dtype: int64"
      ]
     },
     "execution_count": 18,
     "metadata": {},
     "output_type": "execute_result"
    }
   ],
   "source": [
    "df.isnull().sum()"
   ]
  },
  {
   "cell_type": "code",
   "execution_count": 19,
   "id": "06257485",
   "metadata": {
    "colab": {
     "base_uri": "https://localhost:8080/",
     "height": 300
    },
    "execution": {
     "iopub.execute_input": "2023-01-31T22:08:16.727628Z",
     "iopub.status.busy": "2023-01-31T22:08:16.727233Z",
     "iopub.status.idle": "2023-01-31T22:08:16.764387Z",
     "shell.execute_reply": "2023-01-31T22:08:16.763488Z"
    },
    "id": "06257485",
    "outputId": "1c43e276-2a41-4e87-dfde-8366910483f3",
    "papermill": {
     "duration": 0.052236,
     "end_time": "2023-01-31T22:08:16.766918",
     "exception": false,
     "start_time": "2023-01-31T22:08:16.714682",
     "status": "completed"
    },
    "tags": []
   },
   "outputs": [
    {
     "data": {
      "text/html": [
       "<div>\n",
       "<style scoped>\n",
       "    .dataframe tbody tr th:only-of-type {\n",
       "        vertical-align: middle;\n",
       "    }\n",
       "\n",
       "    .dataframe tbody tr th {\n",
       "        vertical-align: top;\n",
       "    }\n",
       "\n",
       "    .dataframe thead th {\n",
       "        text-align: right;\n",
       "    }\n",
       "</style>\n",
       "<table border=\"1\" class=\"dataframe\">\n",
       "  <thead>\n",
       "    <tr style=\"text-align: right;\">\n",
       "      <th></th>\n",
       "      <th>Pregnancies</th>\n",
       "      <th>Glucose</th>\n",
       "      <th>BloodPressure</th>\n",
       "      <th>SkinThickness</th>\n",
       "      <th>Insulin</th>\n",
       "      <th>BMI</th>\n",
       "      <th>DiabetesPedigreeFunction</th>\n",
       "      <th>Age</th>\n",
       "      <th>Outcome</th>\n",
       "    </tr>\n",
       "  </thead>\n",
       "  <tbody>\n",
       "    <tr>\n",
       "      <th>count</th>\n",
       "      <td>768.00</td>\n",
       "      <td>768.00</td>\n",
       "      <td>768.00</td>\n",
       "      <td>768.00</td>\n",
       "      <td>768.00</td>\n",
       "      <td>768.00</td>\n",
       "      <td>768.00</td>\n",
       "      <td>768.00</td>\n",
       "      <td>768.00</td>\n",
       "    </tr>\n",
       "    <tr>\n",
       "      <th>mean</th>\n",
       "      <td>3.85</td>\n",
       "      <td>120.89</td>\n",
       "      <td>69.11</td>\n",
       "      <td>20.54</td>\n",
       "      <td>79.80</td>\n",
       "      <td>31.99</td>\n",
       "      <td>0.47</td>\n",
       "      <td>33.24</td>\n",
       "      <td>0.35</td>\n",
       "    </tr>\n",
       "    <tr>\n",
       "      <th>std</th>\n",
       "      <td>3.37</td>\n",
       "      <td>31.97</td>\n",
       "      <td>19.36</td>\n",
       "      <td>15.95</td>\n",
       "      <td>115.24</td>\n",
       "      <td>7.88</td>\n",
       "      <td>0.33</td>\n",
       "      <td>11.76</td>\n",
       "      <td>0.48</td>\n",
       "    </tr>\n",
       "    <tr>\n",
       "      <th>min</th>\n",
       "      <td>0.00</td>\n",
       "      <td>0.00</td>\n",
       "      <td>0.00</td>\n",
       "      <td>0.00</td>\n",
       "      <td>0.00</td>\n",
       "      <td>0.00</td>\n",
       "      <td>0.08</td>\n",
       "      <td>21.00</td>\n",
       "      <td>0.00</td>\n",
       "    </tr>\n",
       "    <tr>\n",
       "      <th>25%</th>\n",
       "      <td>1.00</td>\n",
       "      <td>99.00</td>\n",
       "      <td>62.00</td>\n",
       "      <td>0.00</td>\n",
       "      <td>0.00</td>\n",
       "      <td>27.30</td>\n",
       "      <td>0.24</td>\n",
       "      <td>24.00</td>\n",
       "      <td>0.00</td>\n",
       "    </tr>\n",
       "    <tr>\n",
       "      <th>50%</th>\n",
       "      <td>3.00</td>\n",
       "      <td>117.00</td>\n",
       "      <td>72.00</td>\n",
       "      <td>23.00</td>\n",
       "      <td>30.50</td>\n",
       "      <td>32.00</td>\n",
       "      <td>0.37</td>\n",
       "      <td>29.00</td>\n",
       "      <td>0.00</td>\n",
       "    </tr>\n",
       "    <tr>\n",
       "      <th>75%</th>\n",
       "      <td>6.00</td>\n",
       "      <td>140.25</td>\n",
       "      <td>80.00</td>\n",
       "      <td>32.00</td>\n",
       "      <td>127.25</td>\n",
       "      <td>36.60</td>\n",
       "      <td>0.63</td>\n",
       "      <td>41.00</td>\n",
       "      <td>1.00</td>\n",
       "    </tr>\n",
       "    <tr>\n",
       "      <th>max</th>\n",
       "      <td>17.00</td>\n",
       "      <td>199.00</td>\n",
       "      <td>122.00</td>\n",
       "      <td>99.00</td>\n",
       "      <td>846.00</td>\n",
       "      <td>67.10</td>\n",
       "      <td>2.42</td>\n",
       "      <td>81.00</td>\n",
       "      <td>1.00</td>\n",
       "    </tr>\n",
       "  </tbody>\n",
       "</table>\n",
       "</div>"
      ],
      "text/plain": [
       "       Pregnancies  Glucose  BloodPressure  SkinThickness  Insulin    BMI  \\\n",
       "count       768.00   768.00         768.00         768.00   768.00 768.00   \n",
       "mean          3.85   120.89          69.11          20.54    79.80  31.99   \n",
       "std           3.37    31.97          19.36          15.95   115.24   7.88   \n",
       "min           0.00     0.00           0.00           0.00     0.00   0.00   \n",
       "25%           1.00    99.00          62.00           0.00     0.00  27.30   \n",
       "50%           3.00   117.00          72.00          23.00    30.50  32.00   \n",
       "75%           6.00   140.25          80.00          32.00   127.25  36.60   \n",
       "max          17.00   199.00         122.00          99.00   846.00  67.10   \n",
       "\n",
       "       DiabetesPedigreeFunction    Age  Outcome  \n",
       "count                    768.00 768.00   768.00  \n",
       "mean                       0.47  33.24     0.35  \n",
       "std                        0.33  11.76     0.48  \n",
       "min                        0.08  21.00     0.00  \n",
       "25%                        0.24  24.00     0.00  \n",
       "50%                        0.37  29.00     0.00  \n",
       "75%                        0.63  41.00     1.00  \n",
       "max                        2.42  81.00     1.00  "
      ]
     },
     "execution_count": 19,
     "metadata": {},
     "output_type": "execute_result"
    }
   ],
   "source": [
    "pd.set_option('display.float_format', '{:.2f}'.format)\n",
    "df.describe()"
   ]
  },
  {
   "cell_type": "code",
   "execution_count": 20,
   "id": "8a62d76d",
   "metadata": {
    "_kg_hide-output": true,
    "execution": {
     "iopub.execute_input": "2023-01-31T22:08:16.792008Z",
     "iopub.status.busy": "2023-01-31T22:08:16.791515Z",
     "iopub.status.idle": "2023-01-31T22:08:16.801935Z",
     "shell.execute_reply": "2023-01-31T22:08:16.800850Z"
    },
    "id": "8a62d76d",
    "papermill": {
     "duration": 0.025417,
     "end_time": "2023-01-31T22:08:16.804128",
     "exception": false,
     "start_time": "2023-01-31T22:08:16.778711",
     "status": "completed"
    },
    "tags": []
   },
   "outputs": [],
   "source": [
    "categorical_val = []\n",
    "continous_val = []\n",
    "for column in df.columns:\n",
    "#     print('==============================')\n",
    "#     print(f\"{column} : {df[column].unique()}\")\n",
    "    if len(df[column].unique()) <= 10:\n",
    "        categorical_val.append(column)\n",
    "    else:\n",
    "        continous_val.append(column)"
   ]
  },
  {
   "cell_type": "markdown",
   "id": "ef0e12be",
   "metadata": {
    "id": "ef0e12be",
    "papermill": {
     "duration": 0.01098,
     "end_time": "2023-01-31T22:08:16.826383",
     "exception": false,
     "start_time": "2023-01-31T22:08:16.815403",
     "status": "completed"
    },
    "tags": []
   },
   "source": [
    "# Предварительная обработка данных (Препроцессинг)"
   ]
  },
  {
   "cell_type": "code",
   "execution_count": 21,
   "id": "b68cfca5",
   "metadata": {
    "colab": {
     "base_uri": "https://localhost:8080/"
    },
    "execution": {
     "iopub.execute_input": "2023-01-31T22:08:16.852120Z",
     "iopub.status.busy": "2023-01-31T22:08:16.851085Z",
     "iopub.status.idle": "2023-01-31T22:08:16.859404Z",
     "shell.execute_reply": "2023-01-31T22:08:16.858221Z"
    },
    "id": "b68cfca5",
    "outputId": "e11365f2-8565-4709-d0d5-478b884a3d9d",
    "papermill": {
     "duration": 0.024251,
     "end_time": "2023-01-31T22:08:16.862144",
     "exception": false,
     "start_time": "2023-01-31T22:08:16.837893",
     "status": "completed"
    },
    "tags": []
   },
   "outputs": [
    {
     "data": {
      "text/plain": [
       "Index(['Pregnancies', 'Glucose', 'BloodPressure', 'SkinThickness', 'Insulin',\n",
       "       'BMI', 'DiabetesPedigreeFunction', 'Age', 'Outcome'],\n",
       "      dtype='object')"
      ]
     },
     "execution_count": 21,
     "metadata": {},
     "output_type": "execute_result"
    }
   ],
   "source": [
    "df.columns"
   ]
  },
  {
   "cell_type": "code",
   "execution_count": 22,
   "id": "265ace8a",
   "metadata": {
    "colab": {
     "base_uri": "https://localhost:8080/"
    },
    "execution": {
     "iopub.execute_input": "2023-01-31T22:08:16.887935Z",
     "iopub.status.busy": "2023-01-31T22:08:16.887471Z",
     "iopub.status.idle": "2023-01-31T22:08:16.899841Z",
     "shell.execute_reply": "2023-01-31T22:08:16.898385Z"
    },
    "id": "265ace8a",
    "outputId": "ec1517f5-766c-4247-89c9-27db18652a63",
    "papermill": {
     "duration": 0.028061,
     "end_time": "2023-01-31T22:08:16.902123",
     "exception": false,
     "start_time": "2023-01-31T22:08:16.874062",
     "status": "completed"
    },
    "tags": []
   },
   "outputs": [
    {
     "name": "stdout",
     "output_type": "stream",
     "text": [
      "Outcome ==> Пропущенные значения вариант1 : Pregnancies                0.00\n",
      "Glucose                    0.00\n",
      "BloodPressure              0.00\n",
      "SkinThickness              0.00\n",
      "Insulin                    0.00\n",
      "BMI                        0.00\n",
      "DiabetesPedigreeFunction   0.00\n",
      "Age                        0.00\n",
      "Outcome                    0.00\n",
      "dtype: float64\n",
      "============================================\n",
      "Pregnancies ==> Значения  вариант2 равные 0: 111\n",
      "============================================\n",
      "Glucose ==> Значения  вариант2 равные 0: 5\n",
      "============================================\n",
      "BloodPressure ==> Значения  вариант2 равные 0: 35\n",
      "============================================\n",
      "SkinThickness ==> Значения  вариант2 равные 0: 227\n",
      "============================================\n",
      "Insulin ==> Значения  вариант2 равные 0: 374\n",
      "============================================\n",
      "BMI ==> Значения  вариант2 равные 0: 11\n",
      "============================================\n",
      "DiabetesPedigreeFunction ==> Значения  вариант2 равные 0: 0\n",
      "============================================\n",
      "Age ==> Значения  вариант2 равные 0: 0\n"
     ]
    }
   ],
   "source": [
    "# Сколько пропущенных значений отсутствует в каждом элементе\n",
    "feature_columns = [\n",
    "    'Pregnancies', 'Glucose', 'BloodPressure', 'SkinThickness',\n",
    "    'Insulin', 'BMI', 'DiabetesPedigreeFunction', 'Age'\n",
    "]\n",
    "\n",
    "print(f\"{column} ==> Пропущенные значения вариант1 : {df.isna().mean()}\")\n",
    "for column in feature_columns:\n",
    "    print(\"============================================\")\n",
    "    print(f\"{column} ==> Значения  вариант2 равные 0: {len(df.loc[df[column] == 0])}\")"
   ]
  },
  {
   "cell_type": "code",
   "execution_count": 23,
   "id": "ae391180",
   "metadata": {
    "colab": {
     "base_uri": "https://localhost:8080/"
    },
    "execution": {
     "iopub.execute_input": "2023-01-31T22:08:16.927846Z",
     "iopub.status.busy": "2023-01-31T22:08:16.927391Z",
     "iopub.status.idle": "2023-01-31T22:08:17.298385Z",
     "shell.execute_reply": "2023-01-31T22:08:17.296537Z"
    },
    "id": "ae391180",
    "outputId": "2d9483a8-5c02-4412-d7d0-a099293ccd48",
    "papermill": {
     "duration": 0.387449,
     "end_time": "2023-01-31T22:08:17.301586",
     "exception": false,
     "start_time": "2023-01-31T22:08:16.914137",
     "status": "completed"
    },
    "tags": []
   },
   "outputs": [
    {
     "name": "stdout",
     "output_type": "stream",
     "text": [
      "============================================\n",
      "Pregnancies ==> Значения  вариант2 равные 0 : 0\n",
      "============================================\n",
      "Glucose ==> Значения  вариант2 равные 0 : 0\n",
      "============================================\n",
      "BloodPressure ==> Значения  вариант2 равные 0 : 0\n",
      "============================================\n",
      "SkinThickness ==> Значения  вариант2 равные 0 : 0\n",
      "============================================\n",
      "Insulin ==> Значения  вариант2 равные 0 : 0\n",
      "============================================\n",
      "BMI ==> Значения  вариант2 равные 0 : 0\n",
      "============================================\n",
      "DiabetesPedigreeFunction ==> Значения  вариант2 равные 0 : 0\n",
      "============================================\n",
      "Age ==> Значения  вариант2 равные 0 : 0\n"
     ]
    }
   ],
   "source": [
    "from sklearn.impute import SimpleImputer\n",
    "\n",
    "\n",
    "fill_values = SimpleImputer(missing_values=0, strategy=\"mean\", copy=False)\n",
    "df[feature_columns] = fill_values.fit_transform(df[feature_columns])\n",
    "\n",
    "for column in feature_columns:\n",
    "    print(\"============================================\")\n",
    "    print(f\"{column} ==> Значения  вариант2 равные 0 : {len(df.loc[df[column] == 0])}\")"
   ]
  },
  {
   "cell_type": "code",
   "execution_count": 24,
   "id": "70c8559d",
   "metadata": {
    "execution": {
     "iopub.execute_input": "2023-01-31T22:08:17.327391Z",
     "iopub.status.busy": "2023-01-31T22:08:17.326982Z",
     "iopub.status.idle": "2023-01-31T22:08:17.337292Z",
     "shell.execute_reply": "2023-01-31T22:08:17.336002Z"
    },
    "id": "70c8559d",
    "papermill": {
     "duration": 0.025607,
     "end_time": "2023-01-31T22:08:17.339549",
     "exception": false,
     "start_time": "2023-01-31T22:08:17.313942",
     "status": "completed"
    },
    "tags": []
   },
   "outputs": [],
   "source": [
    "from sklearn.model_selection import train_test_split\n",
    "\n",
    "\n",
    "X = df[feature_columns]\n",
    "y = df.Outcome\n",
    "\n",
    "X_train, X_test, y_train, y_test = train_test_split(X, y, test_size=0.3, random_state=1234)"
   ]
  },
  {
   "cell_type": "code",
   "execution_count": 25,
   "id": "018e0a65",
   "metadata": {
    "execution": {
     "iopub.execute_input": "2023-01-31T22:08:17.365810Z",
     "iopub.status.busy": "2023-01-31T22:08:17.364994Z",
     "iopub.status.idle": "2023-01-31T22:08:17.374174Z",
     "shell.execute_reply": "2023-01-31T22:08:17.372848Z"
    },
    "id": "018e0a65",
    "papermill": {
     "duration": 0.024982,
     "end_time": "2023-01-31T22:08:17.376537",
     "exception": false,
     "start_time": "2023-01-31T22:08:17.351555",
     "status": "completed"
    },
    "tags": []
   },
   "outputs": [],
   "source": [
    "from sklearn.metrics import confusion_matrix, accuracy_score, f1_score, precision_score, recall_score, classification_report\n",
    "\n",
    "\n",
    "def evaluate(model, X_train, X_test, y_train, y_test):\n",
    "    y_test_pred = model.predict(X_test)\n",
    "    y_train_pred = model.predict(X_train)\n",
    "\n",
    "    print(\"РЕЗУЛЬТАТЫ ОБУЧЕНИЯ (ОБУЧАЮЩАЯ ВЫБОРКА): \\n===============================\")\n",
    "    clf_report = pd.DataFrame(classification_report(y_train, y_train_pred, output_dict=True))\n",
    "    print(f\"МАТРИЦА ОШИБОК (CONFUSION MATRIX):\\n{confusion_matrix(y_train, y_train_pred)}\")\n",
    "    print(f\"ACCURACY ПАРАМЕТР:\\n{accuracy_score(y_train, y_train_pred):.4f}\")\n",
    "    print(f\"PRECISION ПАРАМЕТР:\\n{precision_score(y_train, y_train_pred):.4f}\")\n",
    "    print(f\"RECALL ПАРАМЕТР:\\n{recall_score(y_train, y_train_pred):.4f}\")\n",
    "    print(f\"F1 МЕРА:\\n{f1_score(y_train, y_train_pred):.4f}\")\n",
    "    print(f\"ОТЧЕТ О КЛАССИФИКАЦИИ:\\n{clf_report}\")\n",
    "\n",
    "    print(\"РЕЗУЛЬТАТЫ ТЕСТОВОЙ ВЫБОРКИ: \\n===============================\")\n",
    "    clf_report = pd.DataFrame(classification_report(y_test, y_test_pred, output_dict=True))\n",
    "    print(f\"МАТРИЦА ОШИБОК (CONFUSION MATRIX):\\n{confusion_matrix(y_test, y_test_pred)}\")\n",
    "    print(f\"ACCURACY ПАРАМЕТР:\\n{accuracy_score(y_test, y_test_pred):.4f}\")\n",
    "    print(f\"PRECISION ПАРАМЕТР:\\n{precision_score(y_test, y_test_pred):.4f}\")\n",
    "    print(f\"RECALL ПАРАМЕТР:\\n{recall_score(y_test, y_test_pred):.4f}\")\n",
    "    print(f\"F1 МЕРА:\\n{f1_score(y_test, y_test_pred):.4f}\")\n",
    "    print(f\"ОТЧЕТ О КЛАССИФИКАЦИИ:\\n{clf_report}\")"
   ]
  },
  {
   "cell_type": "markdown",
   "id": "4f232ccc",
   "metadata": {
    "id": "4f232ccc",
    "papermill": {
     "duration": 0.011344,
     "end_time": "2023-01-31T22:08:17.399723",
     "exception": false,
     "start_time": "2023-01-31T22:08:17.388379",
     "status": "completed"
    },
    "tags": []
   },
   "source": [
    "# Bagging Algorithms\n",
    "Агрегация Bootstrap или bagging  включает в себя взятие нескольких выборок из  обучающего набора данных (с заменой) и обучение модели для каждой выборки.\n",
    "\n",
    "Окончательный прогноз на выходе усредняется по прогнозам всех подмоделей.\n",
    "\n",
    "Ниже приведены три bagging алгоритма:\n",
    "\n",
    "1. Bagged Decision Trees\n",
    "2. Random Forest\n",
    "3. Extra Trees"
   ]
  },
  {
   "cell_type": "markdown",
   "id": "b053fabe",
   "metadata": {
    "id": "b053fabe",
    "papermill": {
     "duration": 0.01127,
     "end_time": "2023-01-31T22:08:17.422670",
     "exception": false,
     "start_time": "2023-01-31T22:08:17.411400",
     "status": "completed"
    },
    "tags": []
   },
   "source": [
    "## 1. Bagged Decision Trees\n",
    "Bagging лучше всего работает с алгоритмами, которые имеют высокую дисперсию. Популярным примером являются деревья решений, часто построенные без обрезки (pruning).\n",
    "\n",
    "**BaggingClassifier**:\n",
    "\n",
    "BaggingClassifier - это комплексный метаоценщик, который подбирает базовые классификаторы для каждого из случайных подмножеств исходного набора данных, а затем агрегирует их индивидуальные прогнозы (либо путем голосования (voting), либо путем усреднения) для формирования окончательного прогноза. Такая метаоценка обычно может использоваться как способ уменьшить дисперсию оценки \"черного ящика\" (например, дерева решений) путем введения рандомизации в процедуру ее построения и последующего создания из нее ансамбля.\n",
    "\n",
    "Этот алгоритм включает в себя несколько работ из литературы. Когда случайные подмножества набора данных рисуются как случайные подмножества выборок, тогда этот алгоритм известен как вставка. Если образцы отбираются с заменой, то этот метод известен как Bagging. Когда случайные подмножества набора данных рисуются как случайные подмножества объектов, тогда метод известен как случайные подпространства (Random Subspaces). Наконец, когда базовые оценки строятся на подмножествах как выборок, так и признаков, тогда метод известен как случайные исправления (Random Patches).\n",
    "\n",
    "**Параметры BaggingClassifier:**\n",
    "- `base_estimator`: базовый оценщик для подгонки к случайным подмножествам набора данных. Если нет, то базовой оценкой является дерево решений.\n",
    "***\n",
    "- `n_estimators`: количество базовых оценок в ансамбле.\n",
    "***\n",
    "- `max_samples`: количество выборок, которые нужно извлечь из X для обучения каждого базового оценщика.\n",
    "***\n",
    "- `max_features`: количество объектов, которые нужно извлечь из X для обучения каждого базового оценщика.\n",
    "***\n",
    "- `bootstrap`: Рисуются ли образцы с заменой. Если значение равно False, выполняется выборка без замены.\n",
    "***\n",
    "- `bootstrap_features`: Рисуются ли объекты с заменой.\n",
    "***\n",
    "- `oob_score`: следует ли использовать готовые образцы для оценки ошибки обобщения.\n",
    "***\n",
    "- `warm_start`: если установлено значение True, повторно используйте решение предыдущего вызова для подгонки и добавьте больше оценок в ансамбль, в противном случае просто подогоните совершенно новый ансамбль."
   ]
  },
  {
   "cell_type": "code",
   "execution_count": 67,
   "id": "6dd91b45",
   "metadata": {},
   "outputs": [],
   "source": [
    "from sklearn.ensemble import BaggingClassifier\n",
    "from sklearn.tree import DecisionTreeClassifier\n",
    "from sklearn.model_selection import cross_val_score\n",
    "import tqdm"
   ]
  },
  {
   "cell_type": "code",
   "execution_count": 73,
   "id": "11281a47",
   "metadata": {},
   "outputs": [],
   "source": [
    "my_random_state=1234"
   ]
  },
  {
   "cell_type": "code",
   "execution_count": 69,
   "id": "58d611cf",
   "metadata": {},
   "outputs": [
    {
     "name": "stderr",
     "output_type": "stream",
     "text": [
      "Progress: 100%|██████████| 17/17 [01:15<00:00,  4.44s/it]\n"
     ]
    }
   ],
   "source": [
    "f1_score_dict = {}\n",
    "tree = DecisionTreeClassifier()\n",
    "for n in tqdm.tqdm(range(10, 500, 30), desc=\"Progress\"):\n",
    "  rf = BaggingClassifier(n_estimators=n,\n",
    "                              random_state=my_random_state,\n",
    "                              max_samples=0.3,\n",
    "                              n_jobs=-1)\n",
    "  scores = cross_val_score(rf, X_train, y_train, cv=5, scoring='f1_weighted')\n",
    "  avg_f1_score = np.mean(scores)\n",
    "  f1_score_dict[n] = avg_f1_score"
   ]
  },
  {
   "cell_type": "code",
   "execution_count": 70,
   "id": "733926dc",
   "metadata": {},
   "outputs": [
    {
     "data": {
      "text/plain": [
       "{10: 0.739523297934462,\n",
       " 40: 0.7613409304569574,\n",
       " 70: 0.7685423585368787,\n",
       " 100: 0.7676499030468142,\n",
       " 130: 0.7744877873555401,\n",
       " 160: 0.7699325705193439,\n",
       " 190: 0.7731083648900675,\n",
       " 220: 0.7736922786696578,\n",
       " 250: 0.7719687250637867,\n",
       " 280: 0.772447145318222,\n",
       " 310: 0.7723691574318696,\n",
       " 340: 0.7704036099331668,\n",
       " 370: 0.773794767012577,\n",
       " 400: 0.7713391094031168,\n",
       " 430: 0.7714075878542526,\n",
       " 460: 0.7679479523237065,\n",
       " 490: 0.7713391094031168}"
      ]
     },
     "execution_count": 70,
     "metadata": {},
     "output_type": "execute_result"
    }
   ],
   "source": [
    "f1_score_dict"
   ]
  },
  {
   "cell_type": "code",
   "execution_count": 71,
   "id": "6b68455f",
   "metadata": {},
   "outputs": [
    {
     "data": {
      "application/vnd.plotly.v1+json": {
       "config": {
        "plotlyServerURL": "https://plot.ly"
       },
       "data": [
        {
         "hovertemplate": "number of trees=%{x}<br>f1_score=%{y}<extra></extra>",
         "legendgroup": "",
         "line": {
          "color": "#636efa",
          "dash": "solid"
         },
         "marker": {
          "symbol": "circle"
         },
         "mode": "lines",
         "name": "",
         "orientation": "v",
         "showlegend": false,
         "type": "scatter",
         "x": [
          10,
          40,
          70,
          100,
          130,
          160,
          190,
          220,
          250,
          280,
          310,
          340,
          370,
          400,
          430,
          460,
          490
         ],
         "xaxis": "x",
         "y": [
          0.739523297934462,
          0.7613409304569574,
          0.7685423585368787,
          0.7676499030468142,
          0.7744877873555401,
          0.7699325705193439,
          0.7731083648900675,
          0.7736922786696578,
          0.7719687250637867,
          0.772447145318222,
          0.7723691574318696,
          0.7704036099331668,
          0.773794767012577,
          0.7713391094031168,
          0.7714075878542526,
          0.7679479523237065,
          0.7713391094031168
         ],
         "yaxis": "y"
        }
       ],
       "layout": {
        "legend": {
         "tracegroupgap": 0
        },
        "margin": {
         "t": 60
        },
        "template": {
         "data": {
          "bar": [
           {
            "error_x": {
             "color": "#2a3f5f"
            },
            "error_y": {
             "color": "#2a3f5f"
            },
            "marker": {
             "line": {
              "color": "#E5ECF6",
              "width": 0.5
             },
             "pattern": {
              "fillmode": "overlay",
              "size": 10,
              "solidity": 0.2
             }
            },
            "type": "bar"
           }
          ],
          "barpolar": [
           {
            "marker": {
             "line": {
              "color": "#E5ECF6",
              "width": 0.5
             },
             "pattern": {
              "fillmode": "overlay",
              "size": 10,
              "solidity": 0.2
             }
            },
            "type": "barpolar"
           }
          ],
          "carpet": [
           {
            "aaxis": {
             "endlinecolor": "#2a3f5f",
             "gridcolor": "white",
             "linecolor": "white",
             "minorgridcolor": "white",
             "startlinecolor": "#2a3f5f"
            },
            "baxis": {
             "endlinecolor": "#2a3f5f",
             "gridcolor": "white",
             "linecolor": "white",
             "minorgridcolor": "white",
             "startlinecolor": "#2a3f5f"
            },
            "type": "carpet"
           }
          ],
          "choropleth": [
           {
            "colorbar": {
             "outlinewidth": 0,
             "ticks": ""
            },
            "type": "choropleth"
           }
          ],
          "contour": [
           {
            "colorbar": {
             "outlinewidth": 0,
             "ticks": ""
            },
            "colorscale": [
             [
              0,
              "#0d0887"
             ],
             [
              0.1111111111111111,
              "#46039f"
             ],
             [
              0.2222222222222222,
              "#7201a8"
             ],
             [
              0.3333333333333333,
              "#9c179e"
             ],
             [
              0.4444444444444444,
              "#bd3786"
             ],
             [
              0.5555555555555556,
              "#d8576b"
             ],
             [
              0.6666666666666666,
              "#ed7953"
             ],
             [
              0.7777777777777778,
              "#fb9f3a"
             ],
             [
              0.8888888888888888,
              "#fdca26"
             ],
             [
              1,
              "#f0f921"
             ]
            ],
            "type": "contour"
           }
          ],
          "contourcarpet": [
           {
            "colorbar": {
             "outlinewidth": 0,
             "ticks": ""
            },
            "type": "contourcarpet"
           }
          ],
          "heatmap": [
           {
            "colorbar": {
             "outlinewidth": 0,
             "ticks": ""
            },
            "colorscale": [
             [
              0,
              "#0d0887"
             ],
             [
              0.1111111111111111,
              "#46039f"
             ],
             [
              0.2222222222222222,
              "#7201a8"
             ],
             [
              0.3333333333333333,
              "#9c179e"
             ],
             [
              0.4444444444444444,
              "#bd3786"
             ],
             [
              0.5555555555555556,
              "#d8576b"
             ],
             [
              0.6666666666666666,
              "#ed7953"
             ],
             [
              0.7777777777777778,
              "#fb9f3a"
             ],
             [
              0.8888888888888888,
              "#fdca26"
             ],
             [
              1,
              "#f0f921"
             ]
            ],
            "type": "heatmap"
           }
          ],
          "heatmapgl": [
           {
            "colorbar": {
             "outlinewidth": 0,
             "ticks": ""
            },
            "colorscale": [
             [
              0,
              "#0d0887"
             ],
             [
              0.1111111111111111,
              "#46039f"
             ],
             [
              0.2222222222222222,
              "#7201a8"
             ],
             [
              0.3333333333333333,
              "#9c179e"
             ],
             [
              0.4444444444444444,
              "#bd3786"
             ],
             [
              0.5555555555555556,
              "#d8576b"
             ],
             [
              0.6666666666666666,
              "#ed7953"
             ],
             [
              0.7777777777777778,
              "#fb9f3a"
             ],
             [
              0.8888888888888888,
              "#fdca26"
             ],
             [
              1,
              "#f0f921"
             ]
            ],
            "type": "heatmapgl"
           }
          ],
          "histogram": [
           {
            "marker": {
             "pattern": {
              "fillmode": "overlay",
              "size": 10,
              "solidity": 0.2
             }
            },
            "type": "histogram"
           }
          ],
          "histogram2d": [
           {
            "colorbar": {
             "outlinewidth": 0,
             "ticks": ""
            },
            "colorscale": [
             [
              0,
              "#0d0887"
             ],
             [
              0.1111111111111111,
              "#46039f"
             ],
             [
              0.2222222222222222,
              "#7201a8"
             ],
             [
              0.3333333333333333,
              "#9c179e"
             ],
             [
              0.4444444444444444,
              "#bd3786"
             ],
             [
              0.5555555555555556,
              "#d8576b"
             ],
             [
              0.6666666666666666,
              "#ed7953"
             ],
             [
              0.7777777777777778,
              "#fb9f3a"
             ],
             [
              0.8888888888888888,
              "#fdca26"
             ],
             [
              1,
              "#f0f921"
             ]
            ],
            "type": "histogram2d"
           }
          ],
          "histogram2dcontour": [
           {
            "colorbar": {
             "outlinewidth": 0,
             "ticks": ""
            },
            "colorscale": [
             [
              0,
              "#0d0887"
             ],
             [
              0.1111111111111111,
              "#46039f"
             ],
             [
              0.2222222222222222,
              "#7201a8"
             ],
             [
              0.3333333333333333,
              "#9c179e"
             ],
             [
              0.4444444444444444,
              "#bd3786"
             ],
             [
              0.5555555555555556,
              "#d8576b"
             ],
             [
              0.6666666666666666,
              "#ed7953"
             ],
             [
              0.7777777777777778,
              "#fb9f3a"
             ],
             [
              0.8888888888888888,
              "#fdca26"
             ],
             [
              1,
              "#f0f921"
             ]
            ],
            "type": "histogram2dcontour"
           }
          ],
          "mesh3d": [
           {
            "colorbar": {
             "outlinewidth": 0,
             "ticks": ""
            },
            "type": "mesh3d"
           }
          ],
          "parcoords": [
           {
            "line": {
             "colorbar": {
              "outlinewidth": 0,
              "ticks": ""
             }
            },
            "type": "parcoords"
           }
          ],
          "pie": [
           {
            "automargin": true,
            "type": "pie"
           }
          ],
          "scatter": [
           {
            "fillpattern": {
             "fillmode": "overlay",
             "size": 10,
             "solidity": 0.2
            },
            "type": "scatter"
           }
          ],
          "scatter3d": [
           {
            "line": {
             "colorbar": {
              "outlinewidth": 0,
              "ticks": ""
             }
            },
            "marker": {
             "colorbar": {
              "outlinewidth": 0,
              "ticks": ""
             }
            },
            "type": "scatter3d"
           }
          ],
          "scattercarpet": [
           {
            "marker": {
             "colorbar": {
              "outlinewidth": 0,
              "ticks": ""
             }
            },
            "type": "scattercarpet"
           }
          ],
          "scattergeo": [
           {
            "marker": {
             "colorbar": {
              "outlinewidth": 0,
              "ticks": ""
             }
            },
            "type": "scattergeo"
           }
          ],
          "scattergl": [
           {
            "marker": {
             "colorbar": {
              "outlinewidth": 0,
              "ticks": ""
             }
            },
            "type": "scattergl"
           }
          ],
          "scattermapbox": [
           {
            "marker": {
             "colorbar": {
              "outlinewidth": 0,
              "ticks": ""
             }
            },
            "type": "scattermapbox"
           }
          ],
          "scatterpolar": [
           {
            "marker": {
             "colorbar": {
              "outlinewidth": 0,
              "ticks": ""
             }
            },
            "type": "scatterpolar"
           }
          ],
          "scatterpolargl": [
           {
            "marker": {
             "colorbar": {
              "outlinewidth": 0,
              "ticks": ""
             }
            },
            "type": "scatterpolargl"
           }
          ],
          "scatterternary": [
           {
            "marker": {
             "colorbar": {
              "outlinewidth": 0,
              "ticks": ""
             }
            },
            "type": "scatterternary"
           }
          ],
          "surface": [
           {
            "colorbar": {
             "outlinewidth": 0,
             "ticks": ""
            },
            "colorscale": [
             [
              0,
              "#0d0887"
             ],
             [
              0.1111111111111111,
              "#46039f"
             ],
             [
              0.2222222222222222,
              "#7201a8"
             ],
             [
              0.3333333333333333,
              "#9c179e"
             ],
             [
              0.4444444444444444,
              "#bd3786"
             ],
             [
              0.5555555555555556,
              "#d8576b"
             ],
             [
              0.6666666666666666,
              "#ed7953"
             ],
             [
              0.7777777777777778,
              "#fb9f3a"
             ],
             [
              0.8888888888888888,
              "#fdca26"
             ],
             [
              1,
              "#f0f921"
             ]
            ],
            "type": "surface"
           }
          ],
          "table": [
           {
            "cells": {
             "fill": {
              "color": "#EBF0F8"
             },
             "line": {
              "color": "white"
             }
            },
            "header": {
             "fill": {
              "color": "#C8D4E3"
             },
             "line": {
              "color": "white"
             }
            },
            "type": "table"
           }
          ]
         },
         "layout": {
          "annotationdefaults": {
           "arrowcolor": "#2a3f5f",
           "arrowhead": 0,
           "arrowwidth": 1
          },
          "autotypenumbers": "strict",
          "coloraxis": {
           "colorbar": {
            "outlinewidth": 0,
            "ticks": ""
           }
          },
          "colorscale": {
           "diverging": [
            [
             0,
             "#8e0152"
            ],
            [
             0.1,
             "#c51b7d"
            ],
            [
             0.2,
             "#de77ae"
            ],
            [
             0.3,
             "#f1b6da"
            ],
            [
             0.4,
             "#fde0ef"
            ],
            [
             0.5,
             "#f7f7f7"
            ],
            [
             0.6,
             "#e6f5d0"
            ],
            [
             0.7,
             "#b8e186"
            ],
            [
             0.8,
             "#7fbc41"
            ],
            [
             0.9,
             "#4d9221"
            ],
            [
             1,
             "#276419"
            ]
           ],
           "sequential": [
            [
             0,
             "#0d0887"
            ],
            [
             0.1111111111111111,
             "#46039f"
            ],
            [
             0.2222222222222222,
             "#7201a8"
            ],
            [
             0.3333333333333333,
             "#9c179e"
            ],
            [
             0.4444444444444444,
             "#bd3786"
            ],
            [
             0.5555555555555556,
             "#d8576b"
            ],
            [
             0.6666666666666666,
             "#ed7953"
            ],
            [
             0.7777777777777778,
             "#fb9f3a"
            ],
            [
             0.8888888888888888,
             "#fdca26"
            ],
            [
             1,
             "#f0f921"
            ]
           ],
           "sequentialminus": [
            [
             0,
             "#0d0887"
            ],
            [
             0.1111111111111111,
             "#46039f"
            ],
            [
             0.2222222222222222,
             "#7201a8"
            ],
            [
             0.3333333333333333,
             "#9c179e"
            ],
            [
             0.4444444444444444,
             "#bd3786"
            ],
            [
             0.5555555555555556,
             "#d8576b"
            ],
            [
             0.6666666666666666,
             "#ed7953"
            ],
            [
             0.7777777777777778,
             "#fb9f3a"
            ],
            [
             0.8888888888888888,
             "#fdca26"
            ],
            [
             1,
             "#f0f921"
            ]
           ]
          },
          "colorway": [
           "#636efa",
           "#EF553B",
           "#00cc96",
           "#ab63fa",
           "#FFA15A",
           "#19d3f3",
           "#FF6692",
           "#B6E880",
           "#FF97FF",
           "#FECB52"
          ],
          "font": {
           "color": "#2a3f5f"
          },
          "geo": {
           "bgcolor": "white",
           "lakecolor": "white",
           "landcolor": "#E5ECF6",
           "showlakes": true,
           "showland": true,
           "subunitcolor": "white"
          },
          "hoverlabel": {
           "align": "left"
          },
          "hovermode": "closest",
          "mapbox": {
           "style": "light"
          },
          "paper_bgcolor": "white",
          "plot_bgcolor": "#E5ECF6",
          "polar": {
           "angularaxis": {
            "gridcolor": "white",
            "linecolor": "white",
            "ticks": ""
           },
           "bgcolor": "#E5ECF6",
           "radialaxis": {
            "gridcolor": "white",
            "linecolor": "white",
            "ticks": ""
           }
          },
          "scene": {
           "xaxis": {
            "backgroundcolor": "#E5ECF6",
            "gridcolor": "white",
            "gridwidth": 2,
            "linecolor": "white",
            "showbackground": true,
            "ticks": "",
            "zerolinecolor": "white"
           },
           "yaxis": {
            "backgroundcolor": "#E5ECF6",
            "gridcolor": "white",
            "gridwidth": 2,
            "linecolor": "white",
            "showbackground": true,
            "ticks": "",
            "zerolinecolor": "white"
           },
           "zaxis": {
            "backgroundcolor": "#E5ECF6",
            "gridcolor": "white",
            "gridwidth": 2,
            "linecolor": "white",
            "showbackground": true,
            "ticks": "",
            "zerolinecolor": "white"
           }
          },
          "shapedefaults": {
           "line": {
            "color": "#2a3f5f"
           }
          },
          "ternary": {
           "aaxis": {
            "gridcolor": "white",
            "linecolor": "white",
            "ticks": ""
           },
           "baxis": {
            "gridcolor": "white",
            "linecolor": "white",
            "ticks": ""
           },
           "bgcolor": "#E5ECF6",
           "caxis": {
            "gridcolor": "white",
            "linecolor": "white",
            "ticks": ""
           }
          },
          "title": {
           "x": 0.05
          },
          "xaxis": {
           "automargin": true,
           "gridcolor": "white",
           "linecolor": "white",
           "ticks": "",
           "title": {
            "standoff": 15
           },
           "zerolinecolor": "white",
           "zerolinewidth": 2
          },
          "yaxis": {
           "automargin": true,
           "gridcolor": "white",
           "linecolor": "white",
           "ticks": "",
           "title": {
            "standoff": 15
           },
           "zerolinecolor": "white",
           "zerolinewidth": 2
          }
         }
        },
        "xaxis": {
         "anchor": "y",
         "domain": [
          0,
          1
         ],
         "title": {
          "text": "number of trees"
         }
        },
        "yaxis": {
         "anchor": "x",
         "domain": [
          0,
          1
         ],
         "title": {
          "text": "f1_score"
         }
        }
       }
      }
     },
     "metadata": {},
     "output_type": "display_data"
    }
   ],
   "source": [
    "import plotly.express as px\n",
    "px.line(x=f1_score_dict.keys(), y=f1_score_dict.values(), labels={'y':'f1_score','x':'number of trees' })"
   ]
  },
  {
   "cell_type": "code",
   "execution_count": 79,
   "id": "7d4de1b1",
   "metadata": {},
   "outputs": [],
   "source": [
    "tree_params = {'criterion':['entropy', ],\n",
    "               'max_depth':[1, 2, 3, 4, 5,7,10,15],\n",
    "               'ccp_alpha':[0.01, 0.02, 0.03, 0.04, 0.05, 0.1, 0.5, 1]}"
   ]
  },
  {
   "cell_type": "code",
   "execution_count": 80,
   "id": "726190e1",
   "metadata": {},
   "outputs": [],
   "source": [
    "best_f1_score = 0\n",
    "for criterion in tree_params['criterion']:\n",
    "  for max_depth in tree_params['max_depth']:\n",
    "    for ccp_alpha in tree_params['ccp_alpha']:\n",
    "      dtree = DecisionTreeClassifier(criterion=criterion,\n",
    "                                     max_depth=max_depth,\n",
    "                                     ccp_alpha=ccp_alpha,\n",
    "                                     random_state=my_random_state,\n",
    "                                     )\n",
    "      scores = cross_val_score(dtree, X_train, y_train, cv=5, scoring='f1_weighted')\n",
    "      avg_f1_score = np.mean(scores)\n",
    "      if avg_f1_score>best_f1_score:\n",
    "        best_f1_score = avg_f1_score\n",
    "        best_params = {'criterion':criterion,\n",
    "                        'max_depth':max_depth,\n",
    "                        'ccp_alpha':ccp_alpha}"
   ]
  },
  {
   "cell_type": "code",
   "execution_count": 81,
   "id": "cf881441",
   "metadata": {},
   "outputs": [
    {
     "data": {
      "text/plain": [
       "{'criterion': 'entropy', 'max_depth': 4, 'ccp_alpha': 0.02}"
      ]
     },
     "execution_count": 81,
     "metadata": {},
     "output_type": "execute_result"
    }
   ],
   "source": [
    "best_params"
   ]
  },
  {
   "cell_type": "code",
   "execution_count": 82,
   "id": "b14c6f3f",
   "metadata": {},
   "outputs": [],
   "source": [
    "best_tree = DecisionTreeClassifier(**best_params)"
   ]
  },
  {
   "cell_type": "code",
   "execution_count": 85,
   "id": "8ff749fb",
   "metadata": {},
   "outputs": [],
   "source": [
    "some_tree = DecisionTreeClassifier()"
   ]
  },
  {
   "cell_type": "code",
   "execution_count": 88,
   "id": "2e1726da",
   "metadata": {
    "colab": {
     "base_uri": "https://localhost:8080/"
    },
    "execution": {
     "iopub.execute_input": "2023-01-31T22:08:17.448002Z",
     "iopub.status.busy": "2023-01-31T22:08:17.447568Z",
     "iopub.status.idle": "2023-01-31T22:08:22.550387Z",
     "shell.execute_reply": "2023-01-31T22:08:22.548831Z"
    },
    "id": "2e1726da",
    "outputId": "1b917642-7b25-43ce-a5b0-8f20033cacc9",
    "papermill": {
     "duration": 5.11859,
     "end_time": "2023-01-31T22:08:22.552988",
     "exception": false,
     "start_time": "2023-01-31T22:08:17.434398",
     "status": "completed"
    },
    "tags": []
   },
   "outputs": [
    {
     "name": "stdout",
     "output_type": "stream",
     "text": [
      "РЕЗУЛЬТАТЫ ОБУЧЕНИЯ (ОБУЧАЮЩАЯ ВЫБОРКА): \n",
      "===============================\n",
      "МАТРИЦА ОШИБОК (CONFUSION MATRIX):\n",
      "[[315  38]\n",
      " [ 66 118]]\n",
      "ACCURACY ПАРАМЕТР:\n",
      "0.8063\n",
      "PRECISION ПАРАМЕТР:\n",
      "0.7564\n",
      "RECALL ПАРАМЕТР:\n",
      "0.6413\n",
      "F1 МЕРА:\n",
      "0.6941\n",
      "ОТЧЕТ О КЛАССИФИКАЦИИ:\n",
      "               0      1  accuracy  macro avg  weighted avg\n",
      "precision   0.83   0.76      0.81       0.79          0.80\n",
      "recall      0.89   0.64      0.81       0.77          0.81\n",
      "f1-score    0.86   0.69      0.81       0.78          0.80\n",
      "support   353.00 184.00      0.81     537.00        537.00\n",
      "РЕЗУЛЬТАТЫ ТЕСТОВОЙ ВЫБОРКИ: \n",
      "===============================\n",
      "МАТРИЦА ОШИБОК (CONFUSION MATRIX):\n",
      "[[130  17]\n",
      " [ 43  41]]\n",
      "ACCURACY ПАРАМЕТР:\n",
      "0.7403\n",
      "PRECISION ПАРАМЕТР:\n",
      "0.7069\n",
      "RECALL ПАРАМЕТР:\n",
      "0.4881\n",
      "F1 МЕРА:\n",
      "0.5775\n",
      "ОТЧЕТ О КЛАССИФИКАЦИИ:\n",
      "               0     1  accuracy  macro avg  weighted avg\n",
      "precision   0.75  0.71      0.74       0.73          0.74\n",
      "recall      0.88  0.49      0.74       0.69          0.74\n",
      "f1-score    0.81  0.58      0.74       0.69          0.73\n",
      "support   147.00 84.00      0.74     231.00        231.00\n"
     ]
    }
   ],
   "source": [
    "bagging_clf = BaggingClassifier(estimator=best_tree, n_estimators=1000, )\n",
    "bagging_clf.fit(X_train, y_train)\n",
    "\n",
    "evaluate(bagging_clf, X_train, X_test, y_train, y_test)"
   ]
  },
  {
   "cell_type": "code",
   "execution_count": 105,
   "id": "7JqZZd6x3I-o",
   "metadata": {
    "id": "7JqZZd6x3I-o"
   },
   "outputs": [],
   "source": [
    "scores = {}\n",
    "scores_f1 = {}"
   ]
  },
  {
   "cell_type": "code",
   "execution_count": 106,
   "id": "b342650f",
   "metadata": {
    "execution": {
     "iopub.execute_input": "2023-01-31T22:08:22.579133Z",
     "iopub.status.busy": "2023-01-31T22:08:22.578681Z",
     "iopub.status.idle": "2023-01-31T22:08:23.086268Z",
     "shell.execute_reply": "2023-01-31T22:08:23.084949Z"
    },
    "id": "b342650f",
    "papermill": {
     "duration": 0.523687,
     "end_time": "2023-01-31T22:08:23.089393",
     "exception": false,
     "start_time": "2023-01-31T22:08:22.565706",
     "status": "completed"
    },
    "tags": []
   },
   "outputs": [],
   "source": [
    "scores['Bagging Classifier'] = {\n",
    "        'Train': accuracy_score(y_train, bagging_clf.predict(X_train)),\n",
    "        'Test': accuracy_score(y_test, bagging_clf.predict(X_test)),\n",
    "}"
   ]
  },
  {
   "cell_type": "code",
   "execution_count": 107,
   "id": "Nrbd71gZU74j",
   "metadata": {
    "execution": {
     "iopub.execute_input": "2023-01-31T22:08:22.579133Z",
     "iopub.status.busy": "2023-01-31T22:08:22.578681Z",
     "iopub.status.idle": "2023-01-31T22:08:23.086268Z",
     "shell.execute_reply": "2023-01-31T22:08:23.084949Z"
    },
    "id": "Nrbd71gZU74j",
    "papermill": {
     "duration": 0.523687,
     "end_time": "2023-01-31T22:08:23.089393",
     "exception": false,
     "start_time": "2023-01-31T22:08:22.565706",
     "status": "completed"
    },
    "tags": []
   },
   "outputs": [],
   "source": [
    "scores_f1['Bagging Classifier'] = {\n",
    "        'Train': f1_score(y_train, bagging_clf.predict(X_train)),\n",
    "        'Test': f1_score(y_test, bagging_clf.predict(X_test))\n",
    "}"
   ]
  },
  {
   "cell_type": "markdown",
   "id": "602e9fa1",
   "metadata": {
    "id": "602e9fa1",
    "papermill": {
     "duration": 0.012373,
     "end_time": "2023-01-31T22:08:23.114801",
     "exception": false,
     "start_time": "2023-01-31T22:08:23.102428",
     "status": "completed"
    },
    "tags": []
   },
   "source": [
    "## 2. Random Forest\n",
    "\n",
    "Случайный лес - это метаоценщик, который соответствует нескольким классификаторам дерева решений для различных подвыборок набора данных и использует усреднение для повышения точности прогнозирования и контроля чрезмерной подгонки.\n",
    "\n",
    "Размер подвыборки всегда совпадает с исходным размером входной выборки, но выборки рисуются с заменой, если `bootstrap=True` (по умолчанию).\n",
    "\n",
    "- **Параметры алгоритма случайного леса:**- `n_estimators`: количество деревьев в лесу.\n",
    "***\n",
    "- `criterion`: функция для измерения качества разделения. Поддерживаемыми критериями являются \"джини\" для примеси Джини и `энтропия\" для получения информации.\n",
    "***\n",
    "- `max_depth`: Максимальная глубина дерева. Если нет, то узлы расширяются до тех пор, пока все листья не станут чистыми или пока все листья не будут содержать меньше выборок `min_samples_split`.\n",
    "***\n",
    "- `min_samples_split`: минимальное количество выборок, необходимое для разделения внутреннего узла.\n",
    "***\n",
    "- `min_samples_leaf`: минимальное количество выборок, необходимое для нахождения в конечном узле. Точка разделения на любой глубине будет учитываться только в том случае, если она оставляет по крайней мере обучающие выборки `min_samples_leaf` в каждой из левой и правой ветвей. Это может привести к сглаживанию модели, особенно при регрессии.\n",
    "***\n",
    "- `min_weight_fraction_leaf`: минимальная взвешенная доля от общего количества весов (всех входных выборок), необходимая для нахождения в конечном узле. Образцы имеют одинаковый вес, если sample_weight не указан.\n",
    "***\n",
    "- `max_features`: количество функций, которые следует учитывать при поиске наилучшего разделения.\n",
    "***\n",
    "- `max_leaf_nodes`: Вырастите дерево с помощью `max_leaf_nodes` наилучшим образом. Наилучшие узлы определяются как относительное уменьшение содержания примесей. Если нет, то неограниченное количество конечных узлов.\n",
    "***\n",
    "- `min_impurity_decrease`: Узел будет разделен, если это разделение приведет к уменьшению примеси, большему или равному этому значению.\n",
    "***\n",
    "- `min_impurity_split`: порог для ранней остановки роста дерева. Узел разделится, если его примесь превысит пороговое значение, в противном случае это лист.\n",
    "***\n",
    "- `bootstrap`: используются ли образцы bootstrap при построении деревьев. Если значение False, то для построения каждого дерева используется весь набор данных.\n",
    "***\n",
    "- `oob_score`: следует ли использовать готовые образцы для оценки точности обобщения.\n",
    "***\n",
    "- `warm_start`: если установлено значение True, повторно используйте решение предыдущего вызова для подгонки и добавьте больше оценок в ансамбль, в противном случае просто подогоните совершенно новый ансамбль."
   ]
  },
  {
   "cell_type": "code",
   "execution_count": 92,
   "id": "06b0df3a",
   "metadata": {},
   "outputs": [
    {
     "name": "stdout",
     "output_type": "stream",
     "text": [
      "\u001b[1;31mInit signature:\u001b[0m\n",
      "\u001b[0mRandomForestClassifier\u001b[0m\u001b[1;33m(\u001b[0m\u001b[1;33m\n",
      "\u001b[0m    \u001b[0mn_estimators\u001b[0m\u001b[1;33m=\u001b[0m\u001b[1;36m100\u001b[0m\u001b[1;33m,\u001b[0m\u001b[1;33m\n",
      "\u001b[0m    \u001b[1;33m*\u001b[0m\u001b[1;33m,\u001b[0m\u001b[1;33m\n",
      "\u001b[0m    \u001b[0mcriterion\u001b[0m\u001b[1;33m=\u001b[0m\u001b[1;34m'gini'\u001b[0m\u001b[1;33m,\u001b[0m\u001b[1;33m\n",
      "\u001b[0m    \u001b[0mmax_depth\u001b[0m\u001b[1;33m=\u001b[0m\u001b[1;32mNone\u001b[0m\u001b[1;33m,\u001b[0m\u001b[1;33m\n",
      "\u001b[0m    \u001b[0mmin_samples_split\u001b[0m\u001b[1;33m=\u001b[0m\u001b[1;36m2\u001b[0m\u001b[1;33m,\u001b[0m\u001b[1;33m\n",
      "\u001b[0m    \u001b[0mmin_samples_leaf\u001b[0m\u001b[1;33m=\u001b[0m\u001b[1;36m1\u001b[0m\u001b[1;33m,\u001b[0m\u001b[1;33m\n",
      "\u001b[0m    \u001b[0mmin_weight_fraction_leaf\u001b[0m\u001b[1;33m=\u001b[0m\u001b[1;36m0.0\u001b[0m\u001b[1;33m,\u001b[0m\u001b[1;33m\n",
      "\u001b[0m    \u001b[0mmax_features\u001b[0m\u001b[1;33m=\u001b[0m\u001b[1;34m'sqrt'\u001b[0m\u001b[1;33m,\u001b[0m\u001b[1;33m\n",
      "\u001b[0m    \u001b[0mmax_leaf_nodes\u001b[0m\u001b[1;33m=\u001b[0m\u001b[1;32mNone\u001b[0m\u001b[1;33m,\u001b[0m\u001b[1;33m\n",
      "\u001b[0m    \u001b[0mmin_impurity_decrease\u001b[0m\u001b[1;33m=\u001b[0m\u001b[1;36m0.0\u001b[0m\u001b[1;33m,\u001b[0m\u001b[1;33m\n",
      "\u001b[0m    \u001b[0mbootstrap\u001b[0m\u001b[1;33m=\u001b[0m\u001b[1;32mTrue\u001b[0m\u001b[1;33m,\u001b[0m\u001b[1;33m\n",
      "\u001b[0m    \u001b[0moob_score\u001b[0m\u001b[1;33m=\u001b[0m\u001b[1;32mFalse\u001b[0m\u001b[1;33m,\u001b[0m\u001b[1;33m\n",
      "\u001b[0m    \u001b[0mn_jobs\u001b[0m\u001b[1;33m=\u001b[0m\u001b[1;32mNone\u001b[0m\u001b[1;33m,\u001b[0m\u001b[1;33m\n",
      "\u001b[0m    \u001b[0mrandom_state\u001b[0m\u001b[1;33m=\u001b[0m\u001b[1;32mNone\u001b[0m\u001b[1;33m,\u001b[0m\u001b[1;33m\n",
      "\u001b[0m    \u001b[0mverbose\u001b[0m\u001b[1;33m=\u001b[0m\u001b[1;36m0\u001b[0m\u001b[1;33m,\u001b[0m\u001b[1;33m\n",
      "\u001b[0m    \u001b[0mwarm_start\u001b[0m\u001b[1;33m=\u001b[0m\u001b[1;32mFalse\u001b[0m\u001b[1;33m,\u001b[0m\u001b[1;33m\n",
      "\u001b[0m    \u001b[0mclass_weight\u001b[0m\u001b[1;33m=\u001b[0m\u001b[1;32mNone\u001b[0m\u001b[1;33m,\u001b[0m\u001b[1;33m\n",
      "\u001b[0m    \u001b[0mccp_alpha\u001b[0m\u001b[1;33m=\u001b[0m\u001b[1;36m0.0\u001b[0m\u001b[1;33m,\u001b[0m\u001b[1;33m\n",
      "\u001b[0m    \u001b[0mmax_samples\u001b[0m\u001b[1;33m=\u001b[0m\u001b[1;32mNone\u001b[0m\u001b[1;33m,\u001b[0m\u001b[1;33m\n",
      "\u001b[0m    \u001b[0mmonotonic_cst\u001b[0m\u001b[1;33m=\u001b[0m\u001b[1;32mNone\u001b[0m\u001b[1;33m,\u001b[0m\u001b[1;33m\n",
      "\u001b[0m\u001b[1;33m)\u001b[0m\u001b[1;33m\u001b[0m\u001b[1;33m\u001b[0m\u001b[0m\n",
      "\u001b[1;31mDocstring:\u001b[0m     \n",
      "A random forest classifier.\n",
      "\n",
      "A random forest is a meta estimator that fits a number of decision tree\n",
      "classifiers on various sub-samples of the dataset and uses averaging to\n",
      "improve the predictive accuracy and control over-fitting.\n",
      "Trees in the forest use the best split strategy, i.e. equivalent to passing\n",
      "`splitter=\"best\"` to the underlying :class:`~sklearn.tree.DecisionTreeClassifier`.\n",
      "The sub-sample size is controlled with the `max_samples` parameter if\n",
      "`bootstrap=True` (default), otherwise the whole dataset is used to build\n",
      "each tree.\n",
      "\n",
      "For a comparison between tree-based ensemble models see the example\n",
      ":ref:`sphx_glr_auto_examples_ensemble_plot_forest_hist_grad_boosting_comparison.py`.\n",
      "\n",
      "Read more in the :ref:`User Guide <forest>`.\n",
      "\n",
      "Parameters\n",
      "----------\n",
      "n_estimators : int, default=100\n",
      "    The number of trees in the forest.\n",
      "\n",
      "    .. versionchanged:: 0.22\n",
      "       The default value of ``n_estimators`` changed from 10 to 100\n",
      "       in 0.22.\n",
      "\n",
      "criterion : {\"gini\", \"entropy\", \"log_loss\"}, default=\"gini\"\n",
      "    The function to measure the quality of a split. Supported criteria are\n",
      "    \"gini\" for the Gini impurity and \"log_loss\" and \"entropy\" both for the\n",
      "    Shannon information gain, see :ref:`tree_mathematical_formulation`.\n",
      "    Note: This parameter is tree-specific.\n",
      "\n",
      "max_depth : int, default=None\n",
      "    The maximum depth of the tree. If None, then nodes are expanded until\n",
      "    all leaves are pure or until all leaves contain less than\n",
      "    min_samples_split samples.\n",
      "\n",
      "min_samples_split : int or float, default=2\n",
      "    The minimum number of samples required to split an internal node:\n",
      "\n",
      "    - If int, then consider `min_samples_split` as the minimum number.\n",
      "    - If float, then `min_samples_split` is a fraction and\n",
      "      `ceil(min_samples_split * n_samples)` are the minimum\n",
      "      number of samples for each split.\n",
      "\n",
      "    .. versionchanged:: 0.18\n",
      "       Added float values for fractions.\n",
      "\n",
      "min_samples_leaf : int or float, default=1\n",
      "    The minimum number of samples required to be at a leaf node.\n",
      "    A split point at any depth will only be considered if it leaves at\n",
      "    least ``min_samples_leaf`` training samples in each of the left and\n",
      "    right branches.  This may have the effect of smoothing the model,\n",
      "    especially in regression.\n",
      "\n",
      "    - If int, then consider `min_samples_leaf` as the minimum number.\n",
      "    - If float, then `min_samples_leaf` is a fraction and\n",
      "      `ceil(min_samples_leaf * n_samples)` are the minimum\n",
      "      number of samples for each node.\n",
      "\n",
      "    .. versionchanged:: 0.18\n",
      "       Added float values for fractions.\n",
      "\n",
      "min_weight_fraction_leaf : float, default=0.0\n",
      "    The minimum weighted fraction of the sum total of weights (of all\n",
      "    the input samples) required to be at a leaf node. Samples have\n",
      "    equal weight when sample_weight is not provided.\n",
      "\n",
      "max_features : {\"sqrt\", \"log2\", None}, int or float, default=\"sqrt\"\n",
      "    The number of features to consider when looking for the best split:\n",
      "\n",
      "    - If int, then consider `max_features` features at each split.\n",
      "    - If float, then `max_features` is a fraction and\n",
      "      `max(1, int(max_features * n_features_in_))` features are considered at each\n",
      "      split.\n",
      "    - If \"sqrt\", then `max_features=sqrt(n_features)`.\n",
      "    - If \"log2\", then `max_features=log2(n_features)`.\n",
      "    - If None, then `max_features=n_features`.\n",
      "\n",
      "    .. versionchanged:: 1.1\n",
      "        The default of `max_features` changed from `\"auto\"` to `\"sqrt\"`.\n",
      "\n",
      "    Note: the search for a split does not stop until at least one\n",
      "    valid partition of the node samples is found, even if it requires to\n",
      "    effectively inspect more than ``max_features`` features.\n",
      "\n",
      "max_leaf_nodes : int, default=None\n",
      "    Grow trees with ``max_leaf_nodes`` in best-first fashion.\n",
      "    Best nodes are defined as relative reduction in impurity.\n",
      "    If None then unlimited number of leaf nodes.\n",
      "\n",
      "min_impurity_decrease : float, default=0.0\n",
      "    A node will be split if this split induces a decrease of the impurity\n",
      "    greater than or equal to this value.\n",
      "\n",
      "    The weighted impurity decrease equation is the following::\n",
      "\n",
      "        N_t / N * (impurity - N_t_R / N_t * right_impurity\n",
      "                            - N_t_L / N_t * left_impurity)\n",
      "\n",
      "    where ``N`` is the total number of samples, ``N_t`` is the number of\n",
      "    samples at the current node, ``N_t_L`` is the number of samples in the\n",
      "    left child, and ``N_t_R`` is the number of samples in the right child.\n",
      "\n",
      "    ``N``, ``N_t``, ``N_t_R`` and ``N_t_L`` all refer to the weighted sum,\n",
      "    if ``sample_weight`` is passed.\n",
      "\n",
      "    .. versionadded:: 0.19\n",
      "\n",
      "bootstrap : bool, default=True\n",
      "    Whether bootstrap samples are used when building trees. If False, the\n",
      "    whole dataset is used to build each tree.\n",
      "\n",
      "oob_score : bool or callable, default=False\n",
      "    Whether to use out-of-bag samples to estimate the generalization score.\n",
      "    By default, :func:`~sklearn.metrics.accuracy_score` is used.\n",
      "    Provide a callable with signature `metric(y_true, y_pred)` to use a\n",
      "    custom metric. Only available if `bootstrap=True`.\n",
      "\n",
      "n_jobs : int, default=None\n",
      "    The number of jobs to run in parallel. :meth:`fit`, :meth:`predict`,\n",
      "    :meth:`decision_path` and :meth:`apply` are all parallelized over the\n",
      "    trees. ``None`` means 1 unless in a :obj:`joblib.parallel_backend`\n",
      "    context. ``-1`` means using all processors. See :term:`Glossary\n",
      "    <n_jobs>` for more details.\n",
      "\n",
      "random_state : int, RandomState instance or None, default=None\n",
      "    Controls both the randomness of the bootstrapping of the samples used\n",
      "    when building trees (if ``bootstrap=True``) and the sampling of the\n",
      "    features to consider when looking for the best split at each node\n",
      "    (if ``max_features < n_features``).\n",
      "    See :term:`Glossary <random_state>` for details.\n",
      "\n",
      "verbose : int, default=0\n",
      "    Controls the verbosity when fitting and predicting.\n",
      "\n",
      "warm_start : bool, default=False\n",
      "    When set to ``True``, reuse the solution of the previous call to fit\n",
      "    and add more estimators to the ensemble, otherwise, just fit a whole\n",
      "    new forest. See :term:`Glossary <warm_start>` and\n",
      "    :ref:`tree_ensemble_warm_start` for details.\n",
      "\n",
      "class_weight : {\"balanced\", \"balanced_subsample\"}, dict or list of dicts,             default=None\n",
      "    Weights associated with classes in the form ``{class_label: weight}``.\n",
      "    If not given, all classes are supposed to have weight one. For\n",
      "    multi-output problems, a list of dicts can be provided in the same\n",
      "    order as the columns of y.\n",
      "\n",
      "    Note that for multioutput (including multilabel) weights should be\n",
      "    defined for each class of every column in its own dict. For example,\n",
      "    for four-class multilabel classification weights should be\n",
      "    [{0: 1, 1: 1}, {0: 1, 1: 5}, {0: 1, 1: 1}, {0: 1, 1: 1}] instead of\n",
      "    [{1:1}, {2:5}, {3:1}, {4:1}].\n",
      "\n",
      "    The \"balanced\" mode uses the values of y to automatically adjust\n",
      "    weights inversely proportional to class frequencies in the input data\n",
      "    as ``n_samples / (n_classes * np.bincount(y))``\n",
      "\n",
      "    The \"balanced_subsample\" mode is the same as \"balanced\" except that\n",
      "    weights are computed based on the bootstrap sample for every tree\n",
      "    grown.\n",
      "\n",
      "    For multi-output, the weights of each column of y will be multiplied.\n",
      "\n",
      "    Note that these weights will be multiplied with sample_weight (passed\n",
      "    through the fit method) if sample_weight is specified.\n",
      "\n",
      "ccp_alpha : non-negative float, default=0.0\n",
      "    Complexity parameter used for Minimal Cost-Complexity Pruning. The\n",
      "    subtree with the largest cost complexity that is smaller than\n",
      "    ``ccp_alpha`` will be chosen. By default, no pruning is performed. See\n",
      "    :ref:`minimal_cost_complexity_pruning` for details. See\n",
      "    :ref:`sphx_glr_auto_examples_tree_plot_cost_complexity_pruning.py`\n",
      "    for an example of such pruning.\n",
      "\n",
      "    .. versionadded:: 0.22\n",
      "\n",
      "max_samples : int or float, default=None\n",
      "    If bootstrap is True, the number of samples to draw from X\n",
      "    to train each base estimator.\n",
      "\n",
      "    - If None (default), then draw `X.shape[0]` samples.\n",
      "    - If int, then draw `max_samples` samples.\n",
      "    - If float, then draw `max(round(n_samples * max_samples), 1)` samples. Thus,\n",
      "      `max_samples` should be in the interval `(0.0, 1.0]`.\n",
      "\n",
      "    .. versionadded:: 0.22\n",
      "\n",
      "monotonic_cst : array-like of int of shape (n_features), default=None\n",
      "    Indicates the monotonicity constraint to enforce on each feature.\n",
      "      - 1: monotonic increase\n",
      "      - 0: no constraint\n",
      "      - -1: monotonic decrease\n",
      "\n",
      "    If monotonic_cst is None, no constraints are applied.\n",
      "\n",
      "    Monotonicity constraints are not supported for:\n",
      "      - multiclass classifications (i.e. when `n_classes > 2`),\n",
      "      - multioutput classifications (i.e. when `n_outputs_ > 1`),\n",
      "      - classifications trained on data with missing values.\n",
      "\n",
      "    The constraints hold over the probability of the positive class.\n",
      "\n",
      "    Read more in the :ref:`User Guide <monotonic_cst_gbdt>`.\n",
      "\n",
      "    .. versionadded:: 1.4\n",
      "\n",
      "Attributes\n",
      "----------\n",
      "estimator_ : :class:`~sklearn.tree.DecisionTreeClassifier`\n",
      "    The child estimator template used to create the collection of fitted\n",
      "    sub-estimators.\n",
      "\n",
      "    .. versionadded:: 1.2\n",
      "       `base_estimator_` was renamed to `estimator_`.\n",
      "\n",
      "estimators_ : list of DecisionTreeClassifier\n",
      "    The collection of fitted sub-estimators.\n",
      "\n",
      "classes_ : ndarray of shape (n_classes,) or a list of such arrays\n",
      "    The classes labels (single output problem), or a list of arrays of\n",
      "    class labels (multi-output problem).\n",
      "\n",
      "n_classes_ : int or list\n",
      "    The number of classes (single output problem), or a list containing the\n",
      "    number of classes for each output (multi-output problem).\n",
      "\n",
      "n_features_in_ : int\n",
      "    Number of features seen during :term:`fit`.\n",
      "\n",
      "    .. versionadded:: 0.24\n",
      "\n",
      "feature_names_in_ : ndarray of shape (`n_features_in_`,)\n",
      "    Names of features seen during :term:`fit`. Defined only when `X`\n",
      "    has feature names that are all strings.\n",
      "\n",
      "    .. versionadded:: 1.0\n",
      "\n",
      "n_outputs_ : int\n",
      "    The number of outputs when ``fit`` is performed.\n",
      "\n",
      "feature_importances_ : ndarray of shape (n_features,)\n",
      "    The impurity-based feature importances.\n",
      "    The higher, the more important the feature.\n",
      "    The importance of a feature is computed as the (normalized)\n",
      "    total reduction of the criterion brought by that feature.  It is also\n",
      "    known as the Gini importance.\n",
      "\n",
      "    Warning: impurity-based feature importances can be misleading for\n",
      "    high cardinality features (many unique values). See\n",
      "    :func:`sklearn.inspection.permutation_importance` as an alternative.\n",
      "\n",
      "oob_score_ : float\n",
      "    Score of the training dataset obtained using an out-of-bag estimate.\n",
      "    This attribute exists only when ``oob_score`` is True.\n",
      "\n",
      "oob_decision_function_ : ndarray of shape (n_samples, n_classes) or             (n_samples, n_classes, n_outputs)\n",
      "    Decision function computed with out-of-bag estimate on the training\n",
      "    set. If n_estimators is small it might be possible that a data point\n",
      "    was never left out during the bootstrap. In this case,\n",
      "    `oob_decision_function_` might contain NaN. This attribute exists\n",
      "    only when ``oob_score`` is True.\n",
      "\n",
      "estimators_samples_ : list of arrays\n",
      "    The subset of drawn samples (i.e., the in-bag samples) for each base\n",
      "    estimator. Each subset is defined by an array of the indices selected.\n",
      "\n",
      "    .. versionadded:: 1.4\n",
      "\n",
      "See Also\n",
      "--------\n",
      "sklearn.tree.DecisionTreeClassifier : A decision tree classifier.\n",
      "sklearn.ensemble.ExtraTreesClassifier : Ensemble of extremely randomized\n",
      "    tree classifiers.\n",
      "sklearn.ensemble.HistGradientBoostingClassifier : A Histogram-based Gradient\n",
      "    Boosting Classification Tree, very fast for big datasets (n_samples >=\n",
      "    10_000).\n",
      "\n",
      "Notes\n",
      "-----\n",
      "The default values for the parameters controlling the size of the trees\n",
      "(e.g. ``max_depth``, ``min_samples_leaf``, etc.) lead to fully grown and\n",
      "unpruned trees which can potentially be very large on some data sets. To\n",
      "reduce memory consumption, the complexity and size of the trees should be\n",
      "controlled by setting those parameter values.\n",
      "\n",
      "The features are always randomly permuted at each split. Therefore,\n",
      "the best found split may vary, even with the same training data,\n",
      "``max_features=n_features`` and ``bootstrap=False``, if the improvement\n",
      "of the criterion is identical for several splits enumerated during the\n",
      "search of the best split. To obtain a deterministic behaviour during\n",
      "fitting, ``random_state`` has to be fixed.\n",
      "\n",
      "References\n",
      "----------\n",
      ".. [1] L. Breiman, \"Random Forests\", Machine Learning, 45(1), 5-32, 2001.\n",
      "\n",
      "Examples\n",
      "--------\n",
      ">>> from sklearn.ensemble import RandomForestClassifier\n",
      ">>> from sklearn.datasets import make_classification\n",
      ">>> X, y = make_classification(n_samples=1000, n_features=4,\n",
      "...                            n_informative=2, n_redundant=0,\n",
      "...                            random_state=0, shuffle=False)\n",
      ">>> clf = RandomForestClassifier(max_depth=2, random_state=0)\n",
      ">>> clf.fit(X, y)\n",
      "RandomForestClassifier(...)\n",
      ">>> print(clf.predict([[0, 0, 0, 0]]))\n",
      "[1]\n",
      "\u001b[1;31mFile:\u001b[0m           c:\\users\\user\\appdata\\roaming\\python\\python312\\site-packages\\sklearn\\ensemble\\_forest.py\n",
      "\u001b[1;31mType:\u001b[0m           ABCMeta\n",
      "\u001b[1;31mSubclasses:\u001b[0m     "
     ]
    }
   ],
   "source": [
    "RandomForestClassifier?"
   ]
  },
  {
   "cell_type": "code",
   "execution_count": 94,
   "id": "ad7303cb",
   "metadata": {},
   "outputs": [
    {
     "data": {
      "text/plain": [
       "(537, 8)"
      ]
     },
     "execution_count": 94,
     "metadata": {},
     "output_type": "execute_result"
    }
   ],
   "source": [
    "X_train.shape"
   ]
  },
  {
   "cell_type": "markdown",
   "id": "050cc2fc",
   "metadata": {},
   "source": [
    "{'criterion': 'entropy', 'max_depth': 4, 'ccp_alpha': 0.02}"
   ]
  },
  {
   "cell_type": "code",
   "execution_count": 93,
   "id": "77b7deec",
   "metadata": {
    "colab": {
     "base_uri": "https://localhost:8080/"
    },
    "execution": {
     "iopub.execute_input": "2023-01-31T22:08:23.141722Z",
     "iopub.status.busy": "2023-01-31T22:08:23.140637Z",
     "iopub.status.idle": "2023-01-31T22:08:25.408144Z",
     "shell.execute_reply": "2023-01-31T22:08:25.406552Z"
    },
    "id": "77b7deec",
    "outputId": "ab2b8109-eefa-4e8d-e6a8-bfb87c096219",
    "papermill": {
     "duration": 2.283456,
     "end_time": "2023-01-31T22:08:25.410823",
     "exception": false,
     "start_time": "2023-01-31T22:08:23.127367",
     "status": "completed"
    },
    "tags": []
   },
   "outputs": [
    {
     "name": "stdout",
     "output_type": "stream",
     "text": [
      "РЕЗУЛЬТАТЫ ОБУЧЕНИЯ (ОБУЧАЮЩАЯ ВЫБОРКА): \n",
      "===============================\n",
      "МАТРИЦА ОШИБОК (CONFUSION MATRIX):\n",
      "[[353   0]\n",
      " [  0 184]]\n",
      "ACCURACY ПАРАМЕТР:\n",
      "1.0000\n",
      "PRECISION ПАРАМЕТР:\n",
      "1.0000\n",
      "RECALL ПАРАМЕТР:\n",
      "1.0000\n",
      "F1 МЕРА:\n",
      "1.0000\n",
      "ОТЧЕТ О КЛАССИФИКАЦИИ:\n",
      "               0      1  accuracy  macro avg  weighted avg\n",
      "precision   1.00   1.00      1.00       1.00          1.00\n",
      "recall      1.00   1.00      1.00       1.00          1.00\n",
      "f1-score    1.00   1.00      1.00       1.00          1.00\n",
      "support   353.00 184.00      1.00     537.00        537.00\n",
      "РЕЗУЛЬТАТЫ ТЕСТОВОЙ ВЫБОРКИ: \n",
      "===============================\n",
      "МАТРИЦА ОШИБОК (CONFUSION MATRIX):\n",
      "[[133  14]\n",
      " [ 44  40]]\n",
      "ACCURACY ПАРАМЕТР:\n",
      "0.7489\n",
      "PRECISION ПАРАМЕТР:\n",
      "0.7407\n",
      "RECALL ПАРАМЕТР:\n",
      "0.4762\n",
      "F1 МЕРА:\n",
      "0.5797\n",
      "ОТЧЕТ О КЛАССИФИКАЦИИ:\n",
      "               0     1  accuracy  macro avg  weighted avg\n",
      "precision   0.75  0.74      0.75       0.75          0.75\n",
      "recall      0.90  0.48      0.75       0.69          0.75\n",
      "f1-score    0.82  0.58      0.75       0.70          0.73\n",
      "support   147.00 84.00      0.75     231.00        231.00\n"
     ]
    }
   ],
   "source": [
    "from sklearn.ensemble import RandomForestClassifier\n",
    "\n",
    "rf_clf = RandomForestClassifier(random_state=1234, n_estimators=1000)\n",
    "rf_clf.fit(X_train, y_train)\n",
    "evaluate(rf_clf, X_train, X_test, y_train, y_test)"
   ]
  },
  {
   "cell_type": "markdown",
   "id": "991f9ae4",
   "metadata": {},
   "source": [
    "{'criterion': 'entropy', 'max_depth': 4, 'ccp_alpha': 0.02}"
   ]
  },
  {
   "cell_type": "code",
   "execution_count": 108,
   "id": "42183a52",
   "metadata": {},
   "outputs": [
    {
     "name": "stderr",
     "output_type": "stream",
     "text": [
      "Progress: 100%|██████████| 25/25 [03:20<00:00,  8.03s/it]\n"
     ]
    }
   ],
   "source": [
    "f1_score_dict = {}\n",
    "for n in tqdm.tqdm(range(10, 500, 20), desc=\"Progress\"):\n",
    "  rf = RandomForestClassifier(n_estimators=n,\n",
    "                              criterion='entropy',\n",
    "                              max_depth=4, \n",
    "                              ccp_alpha=0.02, \n",
    "                              random_state=my_random_state,\n",
    "                              max_samples=0.3,\n",
    "                              n_jobs=-1)\n",
    "  scores_val = cross_val_score(rf, X_train, y_train, cv=5, scoring='f1_weighted')\n",
    "  avg_f1_score = np.mean(scores_val)\n",
    "  f1_score_dict[n] = avg_f1_score"
   ]
  },
  {
   "cell_type": "code",
   "execution_count": 109,
   "id": "027345a5",
   "metadata": {},
   "outputs": [
    {
     "data": {
      "application/vnd.plotly.v1+json": {
       "config": {
        "plotlyServerURL": "https://plot.ly"
       },
       "data": [
        {
         "hovertemplate": "number of trees=%{x}<br>f1_score=%{y}<extra></extra>",
         "legendgroup": "",
         "line": {
          "color": "#636efa",
          "dash": "solid"
         },
         "marker": {
          "symbol": "circle"
         },
         "mode": "lines",
         "name": "",
         "orientation": "v",
         "showlegend": false,
         "type": "scatter",
         "x": [
          10,
          30,
          50,
          70,
          90,
          110,
          130,
          150,
          170,
          190,
          210,
          230,
          250,
          270,
          290,
          310,
          330,
          350,
          370,
          390,
          410,
          430,
          450,
          470,
          490
         ],
         "xaxis": "x",
         "y": [
          0.7341277495066774,
          0.7511732549173399,
          0.760347536975334,
          0.7602994425108089,
          0.757061021165296,
          0.7586808876858249,
          0.7586808876858249,
          0.7597768361093006,
          0.7591236700507722,
          0.7597022835076762,
          0.759259501142729,
          0.759259501142729,
          0.7602769798428286,
          0.7592066244902175,
          0.7587455442510999,
          0.7564586333448671,
          0.7587790039182157,
          0.757061021165296,
          0.7598342443971322,
          0.7641785884761465,
          0.7598536613825277,
          0.7594247497639915,
          0.758865553292483,
          0.7560903744586536,
          0.756494272979609
         ],
         "yaxis": "y"
        }
       ],
       "layout": {
        "legend": {
         "tracegroupgap": 0
        },
        "margin": {
         "t": 60
        },
        "template": {
         "data": {
          "bar": [
           {
            "error_x": {
             "color": "#2a3f5f"
            },
            "error_y": {
             "color": "#2a3f5f"
            },
            "marker": {
             "line": {
              "color": "#E5ECF6",
              "width": 0.5
             },
             "pattern": {
              "fillmode": "overlay",
              "size": 10,
              "solidity": 0.2
             }
            },
            "type": "bar"
           }
          ],
          "barpolar": [
           {
            "marker": {
             "line": {
              "color": "#E5ECF6",
              "width": 0.5
             },
             "pattern": {
              "fillmode": "overlay",
              "size": 10,
              "solidity": 0.2
             }
            },
            "type": "barpolar"
           }
          ],
          "carpet": [
           {
            "aaxis": {
             "endlinecolor": "#2a3f5f",
             "gridcolor": "white",
             "linecolor": "white",
             "minorgridcolor": "white",
             "startlinecolor": "#2a3f5f"
            },
            "baxis": {
             "endlinecolor": "#2a3f5f",
             "gridcolor": "white",
             "linecolor": "white",
             "minorgridcolor": "white",
             "startlinecolor": "#2a3f5f"
            },
            "type": "carpet"
           }
          ],
          "choropleth": [
           {
            "colorbar": {
             "outlinewidth": 0,
             "ticks": ""
            },
            "type": "choropleth"
           }
          ],
          "contour": [
           {
            "colorbar": {
             "outlinewidth": 0,
             "ticks": ""
            },
            "colorscale": [
             [
              0,
              "#0d0887"
             ],
             [
              0.1111111111111111,
              "#46039f"
             ],
             [
              0.2222222222222222,
              "#7201a8"
             ],
             [
              0.3333333333333333,
              "#9c179e"
             ],
             [
              0.4444444444444444,
              "#bd3786"
             ],
             [
              0.5555555555555556,
              "#d8576b"
             ],
             [
              0.6666666666666666,
              "#ed7953"
             ],
             [
              0.7777777777777778,
              "#fb9f3a"
             ],
             [
              0.8888888888888888,
              "#fdca26"
             ],
             [
              1,
              "#f0f921"
             ]
            ],
            "type": "contour"
           }
          ],
          "contourcarpet": [
           {
            "colorbar": {
             "outlinewidth": 0,
             "ticks": ""
            },
            "type": "contourcarpet"
           }
          ],
          "heatmap": [
           {
            "colorbar": {
             "outlinewidth": 0,
             "ticks": ""
            },
            "colorscale": [
             [
              0,
              "#0d0887"
             ],
             [
              0.1111111111111111,
              "#46039f"
             ],
             [
              0.2222222222222222,
              "#7201a8"
             ],
             [
              0.3333333333333333,
              "#9c179e"
             ],
             [
              0.4444444444444444,
              "#bd3786"
             ],
             [
              0.5555555555555556,
              "#d8576b"
             ],
             [
              0.6666666666666666,
              "#ed7953"
             ],
             [
              0.7777777777777778,
              "#fb9f3a"
             ],
             [
              0.8888888888888888,
              "#fdca26"
             ],
             [
              1,
              "#f0f921"
             ]
            ],
            "type": "heatmap"
           }
          ],
          "heatmapgl": [
           {
            "colorbar": {
             "outlinewidth": 0,
             "ticks": ""
            },
            "colorscale": [
             [
              0,
              "#0d0887"
             ],
             [
              0.1111111111111111,
              "#46039f"
             ],
             [
              0.2222222222222222,
              "#7201a8"
             ],
             [
              0.3333333333333333,
              "#9c179e"
             ],
             [
              0.4444444444444444,
              "#bd3786"
             ],
             [
              0.5555555555555556,
              "#d8576b"
             ],
             [
              0.6666666666666666,
              "#ed7953"
             ],
             [
              0.7777777777777778,
              "#fb9f3a"
             ],
             [
              0.8888888888888888,
              "#fdca26"
             ],
             [
              1,
              "#f0f921"
             ]
            ],
            "type": "heatmapgl"
           }
          ],
          "histogram": [
           {
            "marker": {
             "pattern": {
              "fillmode": "overlay",
              "size": 10,
              "solidity": 0.2
             }
            },
            "type": "histogram"
           }
          ],
          "histogram2d": [
           {
            "colorbar": {
             "outlinewidth": 0,
             "ticks": ""
            },
            "colorscale": [
             [
              0,
              "#0d0887"
             ],
             [
              0.1111111111111111,
              "#46039f"
             ],
             [
              0.2222222222222222,
              "#7201a8"
             ],
             [
              0.3333333333333333,
              "#9c179e"
             ],
             [
              0.4444444444444444,
              "#bd3786"
             ],
             [
              0.5555555555555556,
              "#d8576b"
             ],
             [
              0.6666666666666666,
              "#ed7953"
             ],
             [
              0.7777777777777778,
              "#fb9f3a"
             ],
             [
              0.8888888888888888,
              "#fdca26"
             ],
             [
              1,
              "#f0f921"
             ]
            ],
            "type": "histogram2d"
           }
          ],
          "histogram2dcontour": [
           {
            "colorbar": {
             "outlinewidth": 0,
             "ticks": ""
            },
            "colorscale": [
             [
              0,
              "#0d0887"
             ],
             [
              0.1111111111111111,
              "#46039f"
             ],
             [
              0.2222222222222222,
              "#7201a8"
             ],
             [
              0.3333333333333333,
              "#9c179e"
             ],
             [
              0.4444444444444444,
              "#bd3786"
             ],
             [
              0.5555555555555556,
              "#d8576b"
             ],
             [
              0.6666666666666666,
              "#ed7953"
             ],
             [
              0.7777777777777778,
              "#fb9f3a"
             ],
             [
              0.8888888888888888,
              "#fdca26"
             ],
             [
              1,
              "#f0f921"
             ]
            ],
            "type": "histogram2dcontour"
           }
          ],
          "mesh3d": [
           {
            "colorbar": {
             "outlinewidth": 0,
             "ticks": ""
            },
            "type": "mesh3d"
           }
          ],
          "parcoords": [
           {
            "line": {
             "colorbar": {
              "outlinewidth": 0,
              "ticks": ""
             }
            },
            "type": "parcoords"
           }
          ],
          "pie": [
           {
            "automargin": true,
            "type": "pie"
           }
          ],
          "scatter": [
           {
            "fillpattern": {
             "fillmode": "overlay",
             "size": 10,
             "solidity": 0.2
            },
            "type": "scatter"
           }
          ],
          "scatter3d": [
           {
            "line": {
             "colorbar": {
              "outlinewidth": 0,
              "ticks": ""
             }
            },
            "marker": {
             "colorbar": {
              "outlinewidth": 0,
              "ticks": ""
             }
            },
            "type": "scatter3d"
           }
          ],
          "scattercarpet": [
           {
            "marker": {
             "colorbar": {
              "outlinewidth": 0,
              "ticks": ""
             }
            },
            "type": "scattercarpet"
           }
          ],
          "scattergeo": [
           {
            "marker": {
             "colorbar": {
              "outlinewidth": 0,
              "ticks": ""
             }
            },
            "type": "scattergeo"
           }
          ],
          "scattergl": [
           {
            "marker": {
             "colorbar": {
              "outlinewidth": 0,
              "ticks": ""
             }
            },
            "type": "scattergl"
           }
          ],
          "scattermapbox": [
           {
            "marker": {
             "colorbar": {
              "outlinewidth": 0,
              "ticks": ""
             }
            },
            "type": "scattermapbox"
           }
          ],
          "scatterpolar": [
           {
            "marker": {
             "colorbar": {
              "outlinewidth": 0,
              "ticks": ""
             }
            },
            "type": "scatterpolar"
           }
          ],
          "scatterpolargl": [
           {
            "marker": {
             "colorbar": {
              "outlinewidth": 0,
              "ticks": ""
             }
            },
            "type": "scatterpolargl"
           }
          ],
          "scatterternary": [
           {
            "marker": {
             "colorbar": {
              "outlinewidth": 0,
              "ticks": ""
             }
            },
            "type": "scatterternary"
           }
          ],
          "surface": [
           {
            "colorbar": {
             "outlinewidth": 0,
             "ticks": ""
            },
            "colorscale": [
             [
              0,
              "#0d0887"
             ],
             [
              0.1111111111111111,
              "#46039f"
             ],
             [
              0.2222222222222222,
              "#7201a8"
             ],
             [
              0.3333333333333333,
              "#9c179e"
             ],
             [
              0.4444444444444444,
              "#bd3786"
             ],
             [
              0.5555555555555556,
              "#d8576b"
             ],
             [
              0.6666666666666666,
              "#ed7953"
             ],
             [
              0.7777777777777778,
              "#fb9f3a"
             ],
             [
              0.8888888888888888,
              "#fdca26"
             ],
             [
              1,
              "#f0f921"
             ]
            ],
            "type": "surface"
           }
          ],
          "table": [
           {
            "cells": {
             "fill": {
              "color": "#EBF0F8"
             },
             "line": {
              "color": "white"
             }
            },
            "header": {
             "fill": {
              "color": "#C8D4E3"
             },
             "line": {
              "color": "white"
             }
            },
            "type": "table"
           }
          ]
         },
         "layout": {
          "annotationdefaults": {
           "arrowcolor": "#2a3f5f",
           "arrowhead": 0,
           "arrowwidth": 1
          },
          "autotypenumbers": "strict",
          "coloraxis": {
           "colorbar": {
            "outlinewidth": 0,
            "ticks": ""
           }
          },
          "colorscale": {
           "diverging": [
            [
             0,
             "#8e0152"
            ],
            [
             0.1,
             "#c51b7d"
            ],
            [
             0.2,
             "#de77ae"
            ],
            [
             0.3,
             "#f1b6da"
            ],
            [
             0.4,
             "#fde0ef"
            ],
            [
             0.5,
             "#f7f7f7"
            ],
            [
             0.6,
             "#e6f5d0"
            ],
            [
             0.7,
             "#b8e186"
            ],
            [
             0.8,
             "#7fbc41"
            ],
            [
             0.9,
             "#4d9221"
            ],
            [
             1,
             "#276419"
            ]
           ],
           "sequential": [
            [
             0,
             "#0d0887"
            ],
            [
             0.1111111111111111,
             "#46039f"
            ],
            [
             0.2222222222222222,
             "#7201a8"
            ],
            [
             0.3333333333333333,
             "#9c179e"
            ],
            [
             0.4444444444444444,
             "#bd3786"
            ],
            [
             0.5555555555555556,
             "#d8576b"
            ],
            [
             0.6666666666666666,
             "#ed7953"
            ],
            [
             0.7777777777777778,
             "#fb9f3a"
            ],
            [
             0.8888888888888888,
             "#fdca26"
            ],
            [
             1,
             "#f0f921"
            ]
           ],
           "sequentialminus": [
            [
             0,
             "#0d0887"
            ],
            [
             0.1111111111111111,
             "#46039f"
            ],
            [
             0.2222222222222222,
             "#7201a8"
            ],
            [
             0.3333333333333333,
             "#9c179e"
            ],
            [
             0.4444444444444444,
             "#bd3786"
            ],
            [
             0.5555555555555556,
             "#d8576b"
            ],
            [
             0.6666666666666666,
             "#ed7953"
            ],
            [
             0.7777777777777778,
             "#fb9f3a"
            ],
            [
             0.8888888888888888,
             "#fdca26"
            ],
            [
             1,
             "#f0f921"
            ]
           ]
          },
          "colorway": [
           "#636efa",
           "#EF553B",
           "#00cc96",
           "#ab63fa",
           "#FFA15A",
           "#19d3f3",
           "#FF6692",
           "#B6E880",
           "#FF97FF",
           "#FECB52"
          ],
          "font": {
           "color": "#2a3f5f"
          },
          "geo": {
           "bgcolor": "white",
           "lakecolor": "white",
           "landcolor": "#E5ECF6",
           "showlakes": true,
           "showland": true,
           "subunitcolor": "white"
          },
          "hoverlabel": {
           "align": "left"
          },
          "hovermode": "closest",
          "mapbox": {
           "style": "light"
          },
          "paper_bgcolor": "white",
          "plot_bgcolor": "#E5ECF6",
          "polar": {
           "angularaxis": {
            "gridcolor": "white",
            "linecolor": "white",
            "ticks": ""
           },
           "bgcolor": "#E5ECF6",
           "radialaxis": {
            "gridcolor": "white",
            "linecolor": "white",
            "ticks": ""
           }
          },
          "scene": {
           "xaxis": {
            "backgroundcolor": "#E5ECF6",
            "gridcolor": "white",
            "gridwidth": 2,
            "linecolor": "white",
            "showbackground": true,
            "ticks": "",
            "zerolinecolor": "white"
           },
           "yaxis": {
            "backgroundcolor": "#E5ECF6",
            "gridcolor": "white",
            "gridwidth": 2,
            "linecolor": "white",
            "showbackground": true,
            "ticks": "",
            "zerolinecolor": "white"
           },
           "zaxis": {
            "backgroundcolor": "#E5ECF6",
            "gridcolor": "white",
            "gridwidth": 2,
            "linecolor": "white",
            "showbackground": true,
            "ticks": "",
            "zerolinecolor": "white"
           }
          },
          "shapedefaults": {
           "line": {
            "color": "#2a3f5f"
           }
          },
          "ternary": {
           "aaxis": {
            "gridcolor": "white",
            "linecolor": "white",
            "ticks": ""
           },
           "baxis": {
            "gridcolor": "white",
            "linecolor": "white",
            "ticks": ""
           },
           "bgcolor": "#E5ECF6",
           "caxis": {
            "gridcolor": "white",
            "linecolor": "white",
            "ticks": ""
           }
          },
          "title": {
           "x": 0.05
          },
          "xaxis": {
           "automargin": true,
           "gridcolor": "white",
           "linecolor": "white",
           "ticks": "",
           "title": {
            "standoff": 15
           },
           "zerolinecolor": "white",
           "zerolinewidth": 2
          },
          "yaxis": {
           "automargin": true,
           "gridcolor": "white",
           "linecolor": "white",
           "ticks": "",
           "title": {
            "standoff": 15
           },
           "zerolinecolor": "white",
           "zerolinewidth": 2
          }
         }
        },
        "xaxis": {
         "anchor": "y",
         "domain": [
          0,
          1
         ],
         "title": {
          "text": "number of trees"
         }
        },
        "yaxis": {
         "anchor": "x",
         "domain": [
          0,
          1
         ],
         "title": {
          "text": "f1_score"
         }
        }
       }
      }
     },
     "metadata": {},
     "output_type": "display_data"
    }
   ],
   "source": [
    "import plotly.express as px\n",
    "px.line(x=f1_score_dict.keys(), y=f1_score_dict.values(), labels={'y':'f1_score','x':'number of trees' })"
   ]
  },
  {
   "cell_type": "code",
   "execution_count": 112,
   "id": "af313ebc",
   "metadata": {},
   "outputs": [
    {
     "name": "stdout",
     "output_type": "stream",
     "text": [
      "РЕЗУЛЬТАТЫ ОБУЧЕНИЯ (ОБУЧАЮЩАЯ ВЫБОРКА): \n",
      "===============================\n",
      "МАТРИЦА ОШИБОК (CONFUSION MATRIX):\n",
      "[[323  30]\n",
      " [ 86  98]]\n",
      "ACCURACY ПАРАМЕТР:\n",
      "0.7840\n",
      "PRECISION ПАРАМЕТР:\n",
      "0.7656\n",
      "RECALL ПАРАМЕТР:\n",
      "0.5326\n",
      "F1 МЕРА:\n",
      "0.6282\n",
      "ОТЧЕТ О КЛАССИФИКАЦИИ:\n",
      "               0      1  accuracy  macro avg  weighted avg\n",
      "precision   0.79   0.77      0.78       0.78          0.78\n",
      "recall      0.92   0.53      0.78       0.72          0.78\n",
      "f1-score    0.85   0.63      0.78       0.74          0.77\n",
      "support   353.00 184.00      0.78     537.00        537.00\n",
      "РЕЗУЛЬТАТЫ ТЕСТОВОЙ ВЫБОРКИ: \n",
      "===============================\n",
      "МАТРИЦА ОШИБОК (CONFUSION MATRIX):\n",
      "[[134  13]\n",
      " [ 50  34]]\n",
      "ACCURACY ПАРАМЕТР:\n",
      "0.7273\n",
      "PRECISION ПАРАМЕТР:\n",
      "0.7234\n",
      "RECALL ПАРАМЕТР:\n",
      "0.4048\n",
      "F1 МЕРА:\n",
      "0.5191\n",
      "ОТЧЕТ О КЛАССИФИКАЦИИ:\n",
      "               0     1  accuracy  macro avg  weighted avg\n",
      "precision   0.73  0.72      0.73       0.73          0.73\n",
      "recall      0.91  0.40      0.73       0.66          0.73\n",
      "f1-score    0.81  0.52      0.73       0.66          0.70\n",
      "support   147.00 84.00      0.73     231.00        231.00\n"
     ]
    }
   ],
   "source": [
    "from sklearn.ensemble import RandomForestClassifier\n",
    "\n",
    "rf_clf = RandomForestClassifier(\n",
    "                                criterion='entropy', \n",
    "                                max_depth=4, \n",
    "                                ccp_alpha=0.02, \n",
    "                                random_state=1234, \n",
    "                                n_estimators=50\n",
    "                                )\n",
    "rf_clf.fit(X_train, y_train)\n",
    "evaluate(rf_clf, X_train, X_test, y_train, y_test)"
   ]
  },
  {
   "cell_type": "code",
   "execution_count": 120,
   "id": "b9e127e5",
   "metadata": {},
   "outputs": [
    {
     "data": {
      "text/plain": [
       "array([0, 1], dtype=int64)"
      ]
     },
     "execution_count": 120,
     "metadata": {},
     "output_type": "execute_result"
    }
   ],
   "source": [
    "rf_clf.classes_"
   ]
  },
  {
   "cell_type": "code",
   "execution_count": 121,
   "id": "db921136",
   "metadata": {},
   "outputs": [
    {
     "data": {
      "text/html": [
       "<style>#sk-container-id-1 {\n",
       "  /* Definition of color scheme common for light and dark mode */\n",
       "  --sklearn-color-text: #000;\n",
       "  --sklearn-color-text-muted: #666;\n",
       "  --sklearn-color-line: gray;\n",
       "  /* Definition of color scheme for unfitted estimators */\n",
       "  --sklearn-color-unfitted-level-0: #fff5e6;\n",
       "  --sklearn-color-unfitted-level-1: #f6e4d2;\n",
       "  --sklearn-color-unfitted-level-2: #ffe0b3;\n",
       "  --sklearn-color-unfitted-level-3: chocolate;\n",
       "  /* Definition of color scheme for fitted estimators */\n",
       "  --sklearn-color-fitted-level-0: #f0f8ff;\n",
       "  --sklearn-color-fitted-level-1: #d4ebff;\n",
       "  --sklearn-color-fitted-level-2: #b3dbfd;\n",
       "  --sklearn-color-fitted-level-3: cornflowerblue;\n",
       "\n",
       "  /* Specific color for light theme */\n",
       "  --sklearn-color-text-on-default-background: var(--sg-text-color, var(--theme-code-foreground, var(--jp-content-font-color1, black)));\n",
       "  --sklearn-color-background: var(--sg-background-color, var(--theme-background, var(--jp-layout-color0, white)));\n",
       "  --sklearn-color-border-box: var(--sg-text-color, var(--theme-code-foreground, var(--jp-content-font-color1, black)));\n",
       "  --sklearn-color-icon: #696969;\n",
       "\n",
       "  @media (prefers-color-scheme: dark) {\n",
       "    /* Redefinition of color scheme for dark theme */\n",
       "    --sklearn-color-text-on-default-background: var(--sg-text-color, var(--theme-code-foreground, var(--jp-content-font-color1, white)));\n",
       "    --sklearn-color-background: var(--sg-background-color, var(--theme-background, var(--jp-layout-color0, #111)));\n",
       "    --sklearn-color-border-box: var(--sg-text-color, var(--theme-code-foreground, var(--jp-content-font-color1, white)));\n",
       "    --sklearn-color-icon: #878787;\n",
       "  }\n",
       "}\n",
       "\n",
       "#sk-container-id-1 {\n",
       "  color: var(--sklearn-color-text);\n",
       "}\n",
       "\n",
       "#sk-container-id-1 pre {\n",
       "  padding: 0;\n",
       "}\n",
       "\n",
       "#sk-container-id-1 input.sk-hidden--visually {\n",
       "  border: 0;\n",
       "  clip: rect(1px 1px 1px 1px);\n",
       "  clip: rect(1px, 1px, 1px, 1px);\n",
       "  height: 1px;\n",
       "  margin: -1px;\n",
       "  overflow: hidden;\n",
       "  padding: 0;\n",
       "  position: absolute;\n",
       "  width: 1px;\n",
       "}\n",
       "\n",
       "#sk-container-id-1 div.sk-dashed-wrapped {\n",
       "  border: 1px dashed var(--sklearn-color-line);\n",
       "  margin: 0 0.4em 0.5em 0.4em;\n",
       "  box-sizing: border-box;\n",
       "  padding-bottom: 0.4em;\n",
       "  background-color: var(--sklearn-color-background);\n",
       "}\n",
       "\n",
       "#sk-container-id-1 div.sk-container {\n",
       "  /* jupyter's `normalize.less` sets `[hidden] { display: none; }`\n",
       "     but bootstrap.min.css set `[hidden] { display: none !important; }`\n",
       "     so we also need the `!important` here to be able to override the\n",
       "     default hidden behavior on the sphinx rendered scikit-learn.org.\n",
       "     See: https://github.com/scikit-learn/scikit-learn/issues/21755 */\n",
       "  display: inline-block !important;\n",
       "  position: relative;\n",
       "}\n",
       "\n",
       "#sk-container-id-1 div.sk-text-repr-fallback {\n",
       "  display: none;\n",
       "}\n",
       "\n",
       "div.sk-parallel-item,\n",
       "div.sk-serial,\n",
       "div.sk-item {\n",
       "  /* draw centered vertical line to link estimators */\n",
       "  background-image: linear-gradient(var(--sklearn-color-text-on-default-background), var(--sklearn-color-text-on-default-background));\n",
       "  background-size: 2px 100%;\n",
       "  background-repeat: no-repeat;\n",
       "  background-position: center center;\n",
       "}\n",
       "\n",
       "/* Parallel-specific style estimator block */\n",
       "\n",
       "#sk-container-id-1 div.sk-parallel-item::after {\n",
       "  content: \"\";\n",
       "  width: 100%;\n",
       "  border-bottom: 2px solid var(--sklearn-color-text-on-default-background);\n",
       "  flex-grow: 1;\n",
       "}\n",
       "\n",
       "#sk-container-id-1 div.sk-parallel {\n",
       "  display: flex;\n",
       "  align-items: stretch;\n",
       "  justify-content: center;\n",
       "  background-color: var(--sklearn-color-background);\n",
       "  position: relative;\n",
       "}\n",
       "\n",
       "#sk-container-id-1 div.sk-parallel-item {\n",
       "  display: flex;\n",
       "  flex-direction: column;\n",
       "}\n",
       "\n",
       "#sk-container-id-1 div.sk-parallel-item:first-child::after {\n",
       "  align-self: flex-end;\n",
       "  width: 50%;\n",
       "}\n",
       "\n",
       "#sk-container-id-1 div.sk-parallel-item:last-child::after {\n",
       "  align-self: flex-start;\n",
       "  width: 50%;\n",
       "}\n",
       "\n",
       "#sk-container-id-1 div.sk-parallel-item:only-child::after {\n",
       "  width: 0;\n",
       "}\n",
       "\n",
       "/* Serial-specific style estimator block */\n",
       "\n",
       "#sk-container-id-1 div.sk-serial {\n",
       "  display: flex;\n",
       "  flex-direction: column;\n",
       "  align-items: center;\n",
       "  background-color: var(--sklearn-color-background);\n",
       "  padding-right: 1em;\n",
       "  padding-left: 1em;\n",
       "}\n",
       "\n",
       "\n",
       "/* Toggleable style: style used for estimator/Pipeline/ColumnTransformer box that is\n",
       "clickable and can be expanded/collapsed.\n",
       "- Pipeline and ColumnTransformer use this feature and define the default style\n",
       "- Estimators will overwrite some part of the style using the `sk-estimator` class\n",
       "*/\n",
       "\n",
       "/* Pipeline and ColumnTransformer style (default) */\n",
       "\n",
       "#sk-container-id-1 div.sk-toggleable {\n",
       "  /* Default theme specific background. It is overwritten whether we have a\n",
       "  specific estimator or a Pipeline/ColumnTransformer */\n",
       "  background-color: var(--sklearn-color-background);\n",
       "}\n",
       "\n",
       "/* Toggleable label */\n",
       "#sk-container-id-1 label.sk-toggleable__label {\n",
       "  cursor: pointer;\n",
       "  display: flex;\n",
       "  width: 100%;\n",
       "  margin-bottom: 0;\n",
       "  padding: 0.5em;\n",
       "  box-sizing: border-box;\n",
       "  text-align: center;\n",
       "  align-items: start;\n",
       "  justify-content: space-between;\n",
       "  gap: 0.5em;\n",
       "}\n",
       "\n",
       "#sk-container-id-1 label.sk-toggleable__label .caption {\n",
       "  font-size: 0.6rem;\n",
       "  font-weight: lighter;\n",
       "  color: var(--sklearn-color-text-muted);\n",
       "}\n",
       "\n",
       "#sk-container-id-1 label.sk-toggleable__label-arrow:before {\n",
       "  /* Arrow on the left of the label */\n",
       "  content: \"▸\";\n",
       "  float: left;\n",
       "  margin-right: 0.25em;\n",
       "  color: var(--sklearn-color-icon);\n",
       "}\n",
       "\n",
       "#sk-container-id-1 label.sk-toggleable__label-arrow:hover:before {\n",
       "  color: var(--sklearn-color-text);\n",
       "}\n",
       "\n",
       "/* Toggleable content - dropdown */\n",
       "\n",
       "#sk-container-id-1 div.sk-toggleable__content {\n",
       "  max-height: 0;\n",
       "  max-width: 0;\n",
       "  overflow: hidden;\n",
       "  text-align: left;\n",
       "  /* unfitted */\n",
       "  background-color: var(--sklearn-color-unfitted-level-0);\n",
       "}\n",
       "\n",
       "#sk-container-id-1 div.sk-toggleable__content.fitted {\n",
       "  /* fitted */\n",
       "  background-color: var(--sklearn-color-fitted-level-0);\n",
       "}\n",
       "\n",
       "#sk-container-id-1 div.sk-toggleable__content pre {\n",
       "  margin: 0.2em;\n",
       "  border-radius: 0.25em;\n",
       "  color: var(--sklearn-color-text);\n",
       "  /* unfitted */\n",
       "  background-color: var(--sklearn-color-unfitted-level-0);\n",
       "}\n",
       "\n",
       "#sk-container-id-1 div.sk-toggleable__content.fitted pre {\n",
       "  /* unfitted */\n",
       "  background-color: var(--sklearn-color-fitted-level-0);\n",
       "}\n",
       "\n",
       "#sk-container-id-1 input.sk-toggleable__control:checked~div.sk-toggleable__content {\n",
       "  /* Expand drop-down */\n",
       "  max-height: 200px;\n",
       "  max-width: 100%;\n",
       "  overflow: auto;\n",
       "}\n",
       "\n",
       "#sk-container-id-1 input.sk-toggleable__control:checked~label.sk-toggleable__label-arrow:before {\n",
       "  content: \"▾\";\n",
       "}\n",
       "\n",
       "/* Pipeline/ColumnTransformer-specific style */\n",
       "\n",
       "#sk-container-id-1 div.sk-label input.sk-toggleable__control:checked~label.sk-toggleable__label {\n",
       "  color: var(--sklearn-color-text);\n",
       "  background-color: var(--sklearn-color-unfitted-level-2);\n",
       "}\n",
       "\n",
       "#sk-container-id-1 div.sk-label.fitted input.sk-toggleable__control:checked~label.sk-toggleable__label {\n",
       "  background-color: var(--sklearn-color-fitted-level-2);\n",
       "}\n",
       "\n",
       "/* Estimator-specific style */\n",
       "\n",
       "/* Colorize estimator box */\n",
       "#sk-container-id-1 div.sk-estimator input.sk-toggleable__control:checked~label.sk-toggleable__label {\n",
       "  /* unfitted */\n",
       "  background-color: var(--sklearn-color-unfitted-level-2);\n",
       "}\n",
       "\n",
       "#sk-container-id-1 div.sk-estimator.fitted input.sk-toggleable__control:checked~label.sk-toggleable__label {\n",
       "  /* fitted */\n",
       "  background-color: var(--sklearn-color-fitted-level-2);\n",
       "}\n",
       "\n",
       "#sk-container-id-1 div.sk-label label.sk-toggleable__label,\n",
       "#sk-container-id-1 div.sk-label label {\n",
       "  /* The background is the default theme color */\n",
       "  color: var(--sklearn-color-text-on-default-background);\n",
       "}\n",
       "\n",
       "/* On hover, darken the color of the background */\n",
       "#sk-container-id-1 div.sk-label:hover label.sk-toggleable__label {\n",
       "  color: var(--sklearn-color-text);\n",
       "  background-color: var(--sklearn-color-unfitted-level-2);\n",
       "}\n",
       "\n",
       "/* Label box, darken color on hover, fitted */\n",
       "#sk-container-id-1 div.sk-label.fitted:hover label.sk-toggleable__label.fitted {\n",
       "  color: var(--sklearn-color-text);\n",
       "  background-color: var(--sklearn-color-fitted-level-2);\n",
       "}\n",
       "\n",
       "/* Estimator label */\n",
       "\n",
       "#sk-container-id-1 div.sk-label label {\n",
       "  font-family: monospace;\n",
       "  font-weight: bold;\n",
       "  display: inline-block;\n",
       "  line-height: 1.2em;\n",
       "}\n",
       "\n",
       "#sk-container-id-1 div.sk-label-container {\n",
       "  text-align: center;\n",
       "}\n",
       "\n",
       "/* Estimator-specific */\n",
       "#sk-container-id-1 div.sk-estimator {\n",
       "  font-family: monospace;\n",
       "  border: 1px dotted var(--sklearn-color-border-box);\n",
       "  border-radius: 0.25em;\n",
       "  box-sizing: border-box;\n",
       "  margin-bottom: 0.5em;\n",
       "  /* unfitted */\n",
       "  background-color: var(--sklearn-color-unfitted-level-0);\n",
       "}\n",
       "\n",
       "#sk-container-id-1 div.sk-estimator.fitted {\n",
       "  /* fitted */\n",
       "  background-color: var(--sklearn-color-fitted-level-0);\n",
       "}\n",
       "\n",
       "/* on hover */\n",
       "#sk-container-id-1 div.sk-estimator:hover {\n",
       "  /* unfitted */\n",
       "  background-color: var(--sklearn-color-unfitted-level-2);\n",
       "}\n",
       "\n",
       "#sk-container-id-1 div.sk-estimator.fitted:hover {\n",
       "  /* fitted */\n",
       "  background-color: var(--sklearn-color-fitted-level-2);\n",
       "}\n",
       "\n",
       "/* Specification for estimator info (e.g. \"i\" and \"?\") */\n",
       "\n",
       "/* Common style for \"i\" and \"?\" */\n",
       "\n",
       ".sk-estimator-doc-link,\n",
       "a:link.sk-estimator-doc-link,\n",
       "a:visited.sk-estimator-doc-link {\n",
       "  float: right;\n",
       "  font-size: smaller;\n",
       "  line-height: 1em;\n",
       "  font-family: monospace;\n",
       "  background-color: var(--sklearn-color-background);\n",
       "  border-radius: 1em;\n",
       "  height: 1em;\n",
       "  width: 1em;\n",
       "  text-decoration: none !important;\n",
       "  margin-left: 0.5em;\n",
       "  text-align: center;\n",
       "  /* unfitted */\n",
       "  border: var(--sklearn-color-unfitted-level-1) 1pt solid;\n",
       "  color: var(--sklearn-color-unfitted-level-1);\n",
       "}\n",
       "\n",
       ".sk-estimator-doc-link.fitted,\n",
       "a:link.sk-estimator-doc-link.fitted,\n",
       "a:visited.sk-estimator-doc-link.fitted {\n",
       "  /* fitted */\n",
       "  border: var(--sklearn-color-fitted-level-1) 1pt solid;\n",
       "  color: var(--sklearn-color-fitted-level-1);\n",
       "}\n",
       "\n",
       "/* On hover */\n",
       "div.sk-estimator:hover .sk-estimator-doc-link:hover,\n",
       ".sk-estimator-doc-link:hover,\n",
       "div.sk-label-container:hover .sk-estimator-doc-link:hover,\n",
       ".sk-estimator-doc-link:hover {\n",
       "  /* unfitted */\n",
       "  background-color: var(--sklearn-color-unfitted-level-3);\n",
       "  color: var(--sklearn-color-background);\n",
       "  text-decoration: none;\n",
       "}\n",
       "\n",
       "div.sk-estimator.fitted:hover .sk-estimator-doc-link.fitted:hover,\n",
       ".sk-estimator-doc-link.fitted:hover,\n",
       "div.sk-label-container:hover .sk-estimator-doc-link.fitted:hover,\n",
       ".sk-estimator-doc-link.fitted:hover {\n",
       "  /* fitted */\n",
       "  background-color: var(--sklearn-color-fitted-level-3);\n",
       "  color: var(--sklearn-color-background);\n",
       "  text-decoration: none;\n",
       "}\n",
       "\n",
       "/* Span, style for the box shown on hovering the info icon */\n",
       ".sk-estimator-doc-link span {\n",
       "  display: none;\n",
       "  z-index: 9999;\n",
       "  position: relative;\n",
       "  font-weight: normal;\n",
       "  right: .2ex;\n",
       "  padding: .5ex;\n",
       "  margin: .5ex;\n",
       "  width: min-content;\n",
       "  min-width: 20ex;\n",
       "  max-width: 50ex;\n",
       "  color: var(--sklearn-color-text);\n",
       "  box-shadow: 2pt 2pt 4pt #999;\n",
       "  /* unfitted */\n",
       "  background: var(--sklearn-color-unfitted-level-0);\n",
       "  border: .5pt solid var(--sklearn-color-unfitted-level-3);\n",
       "}\n",
       "\n",
       ".sk-estimator-doc-link.fitted span {\n",
       "  /* fitted */\n",
       "  background: var(--sklearn-color-fitted-level-0);\n",
       "  border: var(--sklearn-color-fitted-level-3);\n",
       "}\n",
       "\n",
       ".sk-estimator-doc-link:hover span {\n",
       "  display: block;\n",
       "}\n",
       "\n",
       "/* \"?\"-specific style due to the `<a>` HTML tag */\n",
       "\n",
       "#sk-container-id-1 a.estimator_doc_link {\n",
       "  float: right;\n",
       "  font-size: 1rem;\n",
       "  line-height: 1em;\n",
       "  font-family: monospace;\n",
       "  background-color: var(--sklearn-color-background);\n",
       "  border-radius: 1rem;\n",
       "  height: 1rem;\n",
       "  width: 1rem;\n",
       "  text-decoration: none;\n",
       "  /* unfitted */\n",
       "  color: var(--sklearn-color-unfitted-level-1);\n",
       "  border: var(--sklearn-color-unfitted-level-1) 1pt solid;\n",
       "}\n",
       "\n",
       "#sk-container-id-1 a.estimator_doc_link.fitted {\n",
       "  /* fitted */\n",
       "  border: var(--sklearn-color-fitted-level-1) 1pt solid;\n",
       "  color: var(--sklearn-color-fitted-level-1);\n",
       "}\n",
       "\n",
       "/* On hover */\n",
       "#sk-container-id-1 a.estimator_doc_link:hover {\n",
       "  /* unfitted */\n",
       "  background-color: var(--sklearn-color-unfitted-level-3);\n",
       "  color: var(--sklearn-color-background);\n",
       "  text-decoration: none;\n",
       "}\n",
       "\n",
       "#sk-container-id-1 a.estimator_doc_link.fitted:hover {\n",
       "  /* fitted */\n",
       "  background-color: var(--sklearn-color-fitted-level-3);\n",
       "}\n",
       "</style><div id=\"sk-container-id-1\" class=\"sk-top-container\"><div class=\"sk-text-repr-fallback\"><pre>DecisionTreeClassifier()</pre><b>In a Jupyter environment, please rerun this cell to show the HTML representation or trust the notebook. <br />On GitHub, the HTML representation is unable to render, please try loading this page with nbviewer.org.</b></div><div class=\"sk-container\" hidden><div class=\"sk-item\"><div class=\"sk-estimator  sk-toggleable\"><input class=\"sk-toggleable__control sk-hidden--visually\" id=\"sk-estimator-id-1\" type=\"checkbox\" checked><label for=\"sk-estimator-id-1\" class=\"sk-toggleable__label  sk-toggleable__label-arrow\"><div><div>DecisionTreeClassifier</div></div><div><a class=\"sk-estimator-doc-link \" rel=\"noreferrer\" target=\"_blank\" href=\"https://scikit-learn.org/1.6/modules/generated/sklearn.tree.DecisionTreeClassifier.html\">?<span>Documentation for DecisionTreeClassifier</span></a><span class=\"sk-estimator-doc-link \">i<span>Not fitted</span></span></div></label><div class=\"sk-toggleable__content \"><pre>DecisionTreeClassifier()</pre></div> </div></div></div></div>"
      ],
      "text/plain": [
       "DecisionTreeClassifier()"
      ]
     },
     "execution_count": 121,
     "metadata": {},
     "output_type": "execute_result"
    }
   ],
   "source": [
    "rf_clf.estimator_"
   ]
  },
  {
   "cell_type": "code",
   "execution_count": 124,
   "id": "55644389",
   "metadata": {},
   "outputs": [],
   "source": [
    "important_lst = rf_clf.feature_importances_ # на основании критерия Джинни (или энтропия) оценивается важность столбцов\n",
    "feature_names = X_train.columns"
   ]
  },
  {
   "cell_type": "code",
   "execution_count": 126,
   "id": "2b085c37",
   "metadata": {},
   "outputs": [
    {
     "name": "stdout",
     "output_type": "stream",
     "text": [
      "Pregnancies: 0.038\n",
      "Glucose: 0.393\n",
      "BloodPressure: 0.031\n",
      "SkinThickness: 0.016\n",
      "Insulin: 0.086\n",
      "BMI: 0.220\n",
      "DiabetesPedigreeFunction: 0.068\n",
      "Age: 0.147\n"
     ]
    }
   ],
   "source": [
    "for feature, importance in zip(feature_names, important_lst):\n",
    "    print(f\"{feature}: {importance:.3f}\")"
   ]
  },
  {
   "cell_type": "code",
   "execution_count": 131,
   "id": "060ae1ca",
   "metadata": {},
   "outputs": [
    {
     "data": {
      "text/html": [
       "<div>\n",
       "<style scoped>\n",
       "    .dataframe tbody tr th:only-of-type {\n",
       "        vertical-align: middle;\n",
       "    }\n",
       "\n",
       "    .dataframe tbody tr th {\n",
       "        vertical-align: top;\n",
       "    }\n",
       "\n",
       "    .dataframe thead th {\n",
       "        text-align: right;\n",
       "    }\n",
       "</style>\n",
       "<table border=\"1\" class=\"dataframe\">\n",
       "  <thead>\n",
       "    <tr style=\"text-align: right;\">\n",
       "      <th></th>\n",
       "      <th>feature</th>\n",
       "      <th>importance</th>\n",
       "    </tr>\n",
       "  </thead>\n",
       "  <tbody>\n",
       "    <tr>\n",
       "      <th>1</th>\n",
       "      <td>Glucose</td>\n",
       "      <td>0.39</td>\n",
       "    </tr>\n",
       "    <tr>\n",
       "      <th>5</th>\n",
       "      <td>BMI</td>\n",
       "      <td>0.22</td>\n",
       "    </tr>\n",
       "    <tr>\n",
       "      <th>7</th>\n",
       "      <td>Age</td>\n",
       "      <td>0.15</td>\n",
       "    </tr>\n",
       "    <tr>\n",
       "      <th>4</th>\n",
       "      <td>Insulin</td>\n",
       "      <td>0.09</td>\n",
       "    </tr>\n",
       "    <tr>\n",
       "      <th>6</th>\n",
       "      <td>DiabetesPedigreeFunction</td>\n",
       "      <td>0.07</td>\n",
       "    </tr>\n",
       "    <tr>\n",
       "      <th>0</th>\n",
       "      <td>Pregnancies</td>\n",
       "      <td>0.04</td>\n",
       "    </tr>\n",
       "    <tr>\n",
       "      <th>2</th>\n",
       "      <td>BloodPressure</td>\n",
       "      <td>0.03</td>\n",
       "    </tr>\n",
       "    <tr>\n",
       "      <th>3</th>\n",
       "      <td>SkinThickness</td>\n",
       "      <td>0.02</td>\n",
       "    </tr>\n",
       "  </tbody>\n",
       "</table>\n",
       "</div>"
      ],
      "text/plain": [
       "                    feature  importance\n",
       "1                   Glucose        0.39\n",
       "5                       BMI        0.22\n",
       "7                       Age        0.15\n",
       "4                   Insulin        0.09\n",
       "6  DiabetesPedigreeFunction        0.07\n",
       "0               Pregnancies        0.04\n",
       "2             BloodPressure        0.03\n",
       "3             SkinThickness        0.02"
      ]
     },
     "execution_count": 131,
     "metadata": {},
     "output_type": "execute_result"
    }
   ],
   "source": [
    "feature_importances_df = pd.DataFrame({\n",
    "    'feature': feature_names,\n",
    "    'importance': important_lst\n",
    "})\n",
    "feature_importances_df = feature_importances_df.sort_values(by='importance', ascending=False)\n",
    "feature_importances_df "
   ]
  },
  {
   "cell_type": "code",
   "execution_count": 132,
   "id": "3ff13518",
   "metadata": {},
   "outputs": [
    {
     "name": "stderr",
     "output_type": "stream",
     "text": [
      "C:\\Users\\user\\AppData\\Local\\Temp\\ipykernel_9144\\3065290149.py:9: FutureWarning:\n",
      "\n",
      "\n",
      "\n",
      "Passing `palette` without assigning `hue` is deprecated and will be removed in v0.14.0. Assign the `y` variable to `hue` and set `legend=False` for the same effect.\n",
      "\n",
      "\n"
     ]
    },
    {
     "data": {
      "image/png": "[encoded data removed]",
      "text/plain": [
       "<Figure size 1200x800 with 1 Axes>"
      ]
     },
     "metadata": {},
     "output_type": "display_data"
    },
    {
     "name": "stdout",
     "output_type": "stream",
     "text": [
      "\n",
      "Важность признаков:\n",
      "                 feature  importance\n",
      "                 Glucose        0.39\n",
      "                     BMI        0.22\n",
      "                     Age        0.15\n",
      "                 Insulin        0.09\n",
      "DiabetesPedigreeFunction        0.07\n",
      "             Pregnancies        0.04\n",
      "           BloodPressure        0.03\n",
      "           SkinThickness        0.02\n"
     ]
    }
   ],
   "source": [
    "import matplotlib.pyplot as plt\n",
    "import seaborn as sns\n",
    "\n",
    "# Настройка стиля графика\n",
    "plt.figure(figsize=(12, 8))\n",
    "sns.set_style(\"whitegrid\")\n",
    "\n",
    "# Создание горизонтального бар-чарта\n",
    "ax = sns.barplot(\n",
    "    x='importance',\n",
    "    y='feature',\n",
    "    data=feature_importances_df,\n",
    "    palette='viridis'\n",
    ")\n",
    "\n",
    "# Добавление заголовка и меток\n",
    "plt.title('Важность признаков в RandomForestClassifier', pad=20)\n",
    "plt.xlabel('Важность признака')\n",
    "plt.ylabel('Название признака')\n",
    "\n",
    "# Добавление значений на график\n",
    "for i, v in enumerate(feature_importances_df['importance']):\n",
    "    ax.text(v, i, f' {v:.3f}', va='center')\n",
    "\n",
    "# Настройка отображения\n",
    "plt.tight_layout()\n",
    "plt.show()\n",
    "\n",
    "# Вывод значений в консоль\n",
    "print(\"\\nВажность признаков:\")\n",
    "print(feature_importances_df.to_string(index=False))"
   ]
  },
  {
   "cell_type": "code",
   "execution_count": 113,
   "id": "Y5nWjssn2-m6",
   "metadata": {
    "colab": {
     "base_uri": "https://localhost:8080/"
    },
    "id": "Y5nWjssn2-m6",
    "outputId": "cd43bf61-dbe8-46c4-c0cc-5e174571b128"
   },
   "outputs": [
    {
     "data": {
      "text/plain": [
       "{'Bagging Classifier': {'Train': 0.8063314711359404,\n",
       "  'Test': 0.7402597402597403}}"
      ]
     },
     "execution_count": 113,
     "metadata": {},
     "output_type": "execute_result"
    }
   ],
   "source": [
    "scores"
   ]
  },
  {
   "cell_type": "code",
   "execution_count": 114,
   "id": "3bb813e2",
   "metadata": {
    "execution": {
     "iopub.execute_input": "2023-01-31T22:08:25.436044Z",
     "iopub.status.busy": "2023-01-31T22:08:25.435600Z",
     "iopub.status.idle": "2023-01-31T22:08:25.800718Z",
     "shell.execute_reply": "2023-01-31T22:08:25.799241Z"
    },
    "id": "3bb813e2",
    "papermill": {
     "duration": 0.38067,
     "end_time": "2023-01-31T22:08:25.803321",
     "exception": false,
     "start_time": "2023-01-31T22:08:25.422651",
     "status": "completed"
    },
    "tags": []
   },
   "outputs": [],
   "source": [
    "scores['Random Forest'] = {\n",
    "        'Train': accuracy_score(y_train, rf_clf.predict(X_train)),\n",
    "        'Test': accuracy_score(y_test, rf_clf.predict(X_test)),\n",
    "    }"
   ]
  },
  {
   "cell_type": "code",
   "execution_count": 115,
   "id": "BlcfZQpiVHaQ",
   "metadata": {
    "execution": {
     "iopub.execute_input": "2023-01-31T22:08:22.579133Z",
     "iopub.status.busy": "2023-01-31T22:08:22.578681Z",
     "iopub.status.idle": "2023-01-31T22:08:23.086268Z",
     "shell.execute_reply": "2023-01-31T22:08:23.084949Z"
    },
    "id": "BlcfZQpiVHaQ",
    "papermill": {
     "duration": 0.523687,
     "end_time": "2023-01-31T22:08:23.089393",
     "exception": false,
     "start_time": "2023-01-31T22:08:22.565706",
     "status": "completed"
    },
    "tags": []
   },
   "outputs": [],
   "source": [
    "scores_f1['Random Forest'] = {\n",
    "        'Train': f1_score(y_train, rf_clf.predict(X_train)),\n",
    "        'Test': f1_score(y_test, rf_clf.predict(X_test)),\n",
    "}"
   ]
  },
  {
   "cell_type": "code",
   "execution_count": 116,
   "id": "prgMLaY2XS5S",
   "metadata": {
    "colab": {
     "base_uri": "https://localhost:8080/"
    },
    "id": "prgMLaY2XS5S",
    "outputId": "34e6f9e4-130c-4596-f89f-c1a485d2f580"
   },
   "outputs": [
    {
     "data": {
      "text/plain": [
       "{'Bagging Classifier': {'Train': 0.6941176470588235,\n",
       "  'Test': 0.5774647887323944},\n",
       " 'Random Forest': {'Train': 0.6282051282051282, 'Test': 0.5190839694656488}}"
      ]
     },
     "execution_count": 116,
     "metadata": {},
     "output_type": "execute_result"
    }
   ],
   "source": [
    "scores_f1"
   ]
  },
  {
   "cell_type": "markdown",
   "id": "370116e2",
   "metadata": {
    "id": "370116e2",
    "papermill": {
     "duration": 0.011736,
     "end_time": "2023-01-31T22:08:25.827573",
     "exception": false,
     "start_time": "2023-01-31T22:08:25.815837",
     "status": "completed"
    },
    "tags": []
   },
   "source": [
    "## 3. Extra Trees\n",
    "Дополнительные деревья (Extra Trees) - это еще одна модификация bagging, при которой случайные деревья строятся из выборок обучающего набора данных.\n",
    "\n",
    "Вы можете построить модель дополнительных деревьев для классификации, используя класс ExtraTreesClassifier.\n",
    "\n",
    "**ExtraTreeClassifier**:\n",
    "\n",
    "Этот класс реализует мета-оценку, которая соответствует ряду рандомизированных деревьев решений (также известных как дополнительные деревья) для различных подвыборок набора данных и использует усреднение для повышения точности прогнозирования и контроля чрезмерной подгонки.\n",
    "\n",
    "**Параметры ExtraTreeClassifier**:\n",
    "- `n_estimators`: количество деревьев в лесу.\n",
    "***\n",
    "- `criterion`: функция для измерения качества разделения. Поддерживаемыми критериями являются `gini` для примеси Джини Gini impurity и `entropy` для получения информации information gain.\n",
    "***\n",
    "- `max_depth`: Максимальная глубина дерева. Если нет, то узлы расширяются до тех пор, пока все листья не станут чистыми или пока все листья не будут содержать меньше выборок `min_samples_split`.\n",
    "***\n",
    "- `min_samples_split`: минимальное количество выборок, необходимое для разделения внутреннего узла.\n",
    "***\n",
    "- `min_samples_leaf`: минимальное количество выборок, необходимое для нахождения в конечном узле. Точка разделения на любой глубине будет учитываться только в том случае, если она оставляет по крайней мере обучающие выборки `min_samples_leaf` в каждой из левой и правой ветвей. Это может привести к сглаживанию модели, особенно при регрессии.\n",
    "***\n",
    "- `min_weight_fraction_leaf`: минимальная взвешенная доля от общей суммы весов (всех входных выборок), необходимая для нахождения в конечном узле. Образцы имеют одинаковый вес, если sample_weight не указан.\n",
    "***\n",
    "- `max_features`: количество функций, которые следует учитывать при поиске наилучшего разделения.\n",
    "***\n",
    "- `max_leaf_nodes`: Вырастите дерево с помощью `max_leaf_nodes` наилучшим образом. Наилучшие узлы определяются как относительное уменьшение содержания примесей. Если нет, то неограниченное количество конечных узлов.\n",
    "***\n",
    "- `min_impurity_decrease`: Узел будет разделен, если это разделение приведет к уменьшению примеси, большему или равному этому значению.\n",
    "***\n",
    "- `min_impurity_split`: порог для ранней остановки роста дерева. Узел разделится, если его примесь превысит пороговое значение, в противном случае это лист.\n",
    "***\n",
    "- `bootstrap`: используются ли образцы bootstrap при построении деревьев. Если значение False, то для построения каждого дерева используется весь набор данных.\n",
    "***\n",
    "- `oob_score`: следует ли использовать готовые образцы для оценки точности обобщения.\n",
    "***\n",
    "- `warm_start`: если установлено значение True, повторно используйте решение предыдущего вызова для подгонки и добавьте больше оценок в ансамбль, в противном случае просто подогоните совершенно новый ансамбль."
   ]
  },
  {
   "cell_type": "code",
   "execution_count": 35,
   "id": "c626d14c",
   "metadata": {
    "execution": {
     "iopub.execute_input": "2023-01-31T22:08:25.854256Z",
     "iopub.status.busy": "2023-01-31T22:08:25.853466Z",
     "iopub.status.idle": "2023-01-31T22:08:27.913740Z",
     "shell.execute_reply": "2023-01-31T22:08:27.912566Z"
    },
    "id": "c626d14c",
    "papermill": {
     "duration": 2.077058,
     "end_time": "2023-01-31T22:08:27.917094",
     "exception": false,
     "start_time": "2023-01-31T22:08:25.840036",
     "status": "completed"
    },
    "tags": []
   },
   "outputs": [
    {
     "name": "stdout",
     "output_type": "stream",
     "text": [
      "РЕЗУЛЬТАТЫ ОБУЧЕНИЯ (ОБУЧАЮЩАЯ ВЫБОРКА): \n",
      "===============================\n",
      "МАТРИЦА ОШИБОК (CONFUSION MATRIX):\n",
      "[[353   0]\n",
      " [  0 184]]\n",
      "ACCURACY ПАРАМЕТР:\n",
      "1.0000\n",
      "PRECISION ПАРАМЕТР:\n",
      "1.0000\n",
      "RECALL ПАРАМЕТР:\n",
      "1.0000\n",
      "F1 МЕРА:\n",
      "1.0000\n",
      "ОТЧЕТ О КЛАССИФИКАЦИИ:\n",
      "               0      1  accuracy  macro avg  weighted avg\n",
      "precision   1.00   1.00      1.00       1.00          1.00\n",
      "recall      1.00   1.00      1.00       1.00          1.00\n",
      "f1-score    1.00   1.00      1.00       1.00          1.00\n",
      "support   353.00 184.00      1.00     537.00        537.00\n",
      "РЕЗУЛЬТАТЫ ТЕСТОВОЙ ВЫБОРКИ: \n",
      "===============================\n",
      "МАТРИЦА ОШИБОК (CONFUSION MATRIX):\n",
      "[[131  16]\n",
      " [ 44  40]]\n",
      "ACCURACY ПАРАМЕТР:\n",
      "0.7403\n",
      "PRECISION ПАРАМЕТР:\n",
      "0.7143\n",
      "RECALL ПАРАМЕТР:\n",
      "0.4762\n",
      "F1 МЕРА:\n",
      "0.5714\n",
      "ОТЧЕТ О КЛАССИФИКАЦИИ:\n",
      "               0     1  accuracy  macro avg  weighted avg\n",
      "precision   0.75  0.71      0.74       0.73          0.74\n",
      "recall      0.89  0.48      0.74       0.68          0.74\n",
      "f1-score    0.81  0.57      0.74       0.69          0.73\n",
      "support   147.00 84.00      0.74     231.00        231.00\n"
     ]
    }
   ],
   "source": [
    "from sklearn.ensemble import ExtraTreesClassifier\n",
    "\n",
    "ex_tree_clf = ExtraTreesClassifier(n_estimators=1000, max_features=7, random_state=1234)\n",
    "ex_tree_clf.fit(X_train, y_train)\n",
    "evaluate(ex_tree_clf, X_train, X_test, y_train, y_test)"
   ]
  },
  {
   "cell_type": "code",
   "execution_count": 36,
   "id": "7667b9f1",
   "metadata": {
    "execution": {
     "iopub.execute_input": "2023-01-31T22:08:27.945412Z",
     "iopub.status.busy": "2023-01-31T22:08:27.944252Z",
     "iopub.status.idle": "2023-01-31T22:08:28.332274Z",
     "shell.execute_reply": "2023-01-31T22:08:28.330869Z"
    },
    "id": "7667b9f1",
    "papermill": {
     "duration": 0.405009,
     "end_time": "2023-01-31T22:08:28.335081",
     "exception": false,
     "start_time": "2023-01-31T22:08:27.930072",
     "status": "completed"
    },
    "tags": []
   },
   "outputs": [],
   "source": [
    "scores['Extra Tree'] = {\n",
    "        'Train': accuracy_score(y_train, ex_tree_clf.predict(X_train)),\n",
    "        'Test': accuracy_score(y_test, ex_tree_clf.predict(X_test)),\n",
    "    }"
   ]
  },
  {
   "cell_type": "code",
   "execution_count": 37,
   "id": "91RdQdrcVJ1F",
   "metadata": {
    "execution": {
     "iopub.execute_input": "2023-01-31T22:08:22.579133Z",
     "iopub.status.busy": "2023-01-31T22:08:22.578681Z",
     "iopub.status.idle": "2023-01-31T22:08:23.086268Z",
     "shell.execute_reply": "2023-01-31T22:08:23.084949Z"
    },
    "id": "91RdQdrcVJ1F",
    "papermill": {
     "duration": 0.523687,
     "end_time": "2023-01-31T22:08:23.089393",
     "exception": false,
     "start_time": "2023-01-31T22:08:22.565706",
     "status": "completed"
    },
    "tags": []
   },
   "outputs": [],
   "source": [
    "scores_f1['Extra Tree'] = {\n",
    "        'Train': f1_score(y_train, ex_tree_clf.predict(X_train)),\n",
    "        'Test': f1_score(y_test, ex_tree_clf.predict(X_test)),\n",
    "}"
   ]
  },
  {
   "cell_type": "code",
   "execution_count": 38,
   "id": "J9uespnyXJ7b",
   "metadata": {
    "id": "J9uespnyXJ7b"
   },
   "outputs": [
    {
     "data": {
      "text/plain": [
       "{'Bagging Classifier': {'Train': 1.0, 'Test': 0.5793103448275863},\n",
       " 'Random Forest': {'Train': 1.0, 'Test': 0.5797101449275363},\n",
       " 'Extra Tree': {'Train': 1.0, 'Test': 0.5714285714285714}}"
      ]
     },
     "execution_count": 38,
     "metadata": {},
     "output_type": "execute_result"
    }
   ],
   "source": [
    "scores_f1"
   ]
  },
  {
   "cell_type": "markdown",
   "id": "f3860239",
   "metadata": {
    "id": "f3860239",
    "papermill": {
     "duration": 0.012126,
     "end_time": "2023-01-31T22:08:28.359114",
     "exception": false,
     "start_time": "2023-01-31T22:08:28.346988",
     "status": "completed"
    },
    "tags": []
   },
   "source": [
    "# Boosting Algorithms\n",
    "Boosting ensemble algorithms создает последовательность моделей, которые пытаются исправить ошибки моделей, предшествующих им в последовательности.\n",
    "\n",
    "После создания модели делают прогнозы, которые могут быть взвешены по их продемонстрированной точности, и результаты объединяются для создания окончательного выходного прогноза.\n",
    "\n",
    "Двумя наиболее распространенными алгоритмами машинного обучения boosting ensemble являются:\n",
    "\n",
    "1. AdaBoost\n",
    "2. Stochastic Gradient Boosting\n",
    "***"
   ]
  },
  {
   "cell_type": "markdown",
   "id": "fe5fc3af",
   "metadata": {
    "id": "fe5fc3af",
    "papermill": {
     "duration": 0.011389,
     "end_time": "2023-01-31T22:08:28.382371",
     "exception": false,
     "start_time": "2023-01-31T22:08:28.370982",
     "status": "completed"
    },
    "tags": []
   },
   "source": [
    "## 1. AdaBoost\n",
    "AdaBoost был, пожалуй, первым успешным алгоритмом усиления ансамбля. Обычно это работает путем взвешивания экземпляров в наборе данных по тому, насколько легко или сложно их классифицировать, что позволяет алгоритму уделять им меньше внимания при построении последующих моделей.\n",
    "\n",
    "Вы можете построить модель AdaBoost для классификации, используя класс AdaBoost Classifier.\n",
    "\n",
    "**AdaBoostClassifier**:\n",
    "\n",
    "Классификатор AdaBoost - это метаоценщик, который начинается с подгонки классификатора к исходному набору данных, а затем подгоняет дополнительные копии классификатора к тому же набору данных, но где веса неправильно классифицированных экземпляров корректируются таким образом, чтобы последующие классификаторы больше фокусировались на сложных случаях.\n",
    "\n",
    "**AdaBoostClassifier Params**:\n",
    "- `base_estimator`: базовый оценщик, на основе которого строится расширенный ансамбль.\n",
    "***\n",
    "- `n_estimators`: максимальное количество оценок, при которых повышение завершается. В случае идеальной подгонки процедура обучения прекращается досрочно.\n",
    "***\n",
    "- `learning_rate`: скорость обучения уменьшает вклад каждого классификатора на `learning_rate`. Существует компромисс между `learning_rate` и `n_estimators`.\n",
    "***\n",
    "- `algorithm`: если 'SAME.R', то используйте алгоритм реального повышения SAMME.R. `base_estimator` должен поддерживать вычисление вероятностей классов. Если \"SAMME\", то используйте алгоритм дискретного повышения SAMME. Алгоритм SAMME.R обычно сходится быстрее, чем SAMME, достигая меньшей ошибки тестирования при меньшем количестве итераций повышения."
   ]
  },
  {
   "cell_type": "code",
   "execution_count": 39,
   "id": "bc82f888",
   "metadata": {
    "execution": {
     "iopub.execute_input": "2023-01-31T22:08:28.408270Z",
     "iopub.status.busy": "2023-01-31T22:08:28.407878Z",
     "iopub.status.idle": "2023-01-31T22:08:28.506820Z",
     "shell.execute_reply": "2023-01-31T22:08:28.505529Z"
    },
    "id": "bc82f888",
    "papermill": {
     "duration": 0.114945,
     "end_time": "2023-01-31T22:08:28.509475",
     "exception": false,
     "start_time": "2023-01-31T22:08:28.394530",
     "status": "completed"
    },
    "tags": []
   },
   "outputs": [
    {
     "name": "stdout",
     "output_type": "stream",
     "text": [
      "РЕЗУЛЬТАТЫ ОБУЧЕНИЯ (ОБУЧАЮЩАЯ ВЫБОРКА): \n",
      "===============================\n",
      "МАТРИЦА ОШИБОК (CONFUSION MATRIX):\n",
      "[[317  36]\n",
      " [ 73 111]]\n",
      "ACCURACY ПАРАМЕТР:\n",
      "0.7970\n",
      "PRECISION ПАРАМЕТР:\n",
      "0.7551\n",
      "RECALL ПАРАМЕТР:\n",
      "0.6033\n",
      "F1 МЕРА:\n",
      "0.6707\n",
      "ОТЧЕТ О КЛАССИФИКАЦИИ:\n",
      "               0      1  accuracy  macro avg  weighted avg\n",
      "precision   0.81   0.76      0.80       0.78          0.79\n",
      "recall      0.90   0.60      0.80       0.75          0.80\n",
      "f1-score    0.85   0.67      0.80       0.76          0.79\n",
      "support   353.00 184.00      0.80     537.00        537.00\n",
      "РЕЗУЛЬТАТЫ ТЕСТОВОЙ ВЫБОРКИ: \n",
      "===============================\n",
      "МАТРИЦА ОШИБОК (CONFUSION MATRIX):\n",
      "[[132  15]\n",
      " [ 43  41]]\n",
      "ACCURACY ПАРАМЕТР:\n",
      "0.7489\n",
      "PRECISION ПАРАМЕТР:\n",
      "0.7321\n",
      "RECALL ПАРАМЕТР:\n",
      "0.4881\n",
      "F1 МЕРА:\n",
      "0.5857\n",
      "ОТЧЕТ О КЛАССИФИКАЦИИ:\n",
      "               0     1  accuracy  macro avg  weighted avg\n",
      "precision   0.75  0.73      0.75       0.74          0.75\n",
      "recall      0.90  0.49      0.75       0.69          0.75\n",
      "f1-score    0.82  0.59      0.75       0.70          0.73\n",
      "support   147.00 84.00      0.75     231.00        231.00\n"
     ]
    }
   ],
   "source": [
    "from sklearn.ensemble import AdaBoostClassifier\n",
    "\n",
    "ada_boost_clf = AdaBoostClassifier(n_estimators=100)\n",
    "ada_boost_clf.fit(X_train, y_train) #тренировка на данных\n",
    "evaluate(ada_boost_clf, X_train, X_test, y_train, y_test)"
   ]
  },
  {
   "cell_type": "code",
   "execution_count": 40,
   "id": "0ebf7d12",
   "metadata": {
    "execution": {
     "iopub.execute_input": "2023-01-31T22:08:28.535526Z",
     "iopub.status.busy": "2023-01-31T22:08:28.535114Z",
     "iopub.status.idle": "2023-01-31T22:08:28.561354Z",
     "shell.execute_reply": "2023-01-31T22:08:28.560099Z"
    },
    "id": "0ebf7d12",
    "papermill": {
     "duration": 0.042581,
     "end_time": "2023-01-31T22:08:28.564220",
     "exception": false,
     "start_time": "2023-01-31T22:08:28.521639",
     "status": "completed"
    },
    "tags": []
   },
   "outputs": [],
   "source": [
    "scores['AdaBoost'] = {\n",
    "        'Train': accuracy_score(y_train, ada_boost_clf.predict(X_train)),\n",
    "        'Test': accuracy_score(y_test, ada_boost_clf.predict(X_test)),\n",
    "    }"
   ]
  },
  {
   "cell_type": "code",
   "execution_count": 41,
   "id": "i2e81jxrVK_A",
   "metadata": {
    "execution": {
     "iopub.execute_input": "2023-01-31T22:08:22.579133Z",
     "iopub.status.busy": "2023-01-31T22:08:22.578681Z",
     "iopub.status.idle": "2023-01-31T22:08:23.086268Z",
     "shell.execute_reply": "2023-01-31T22:08:23.084949Z"
    },
    "id": "i2e81jxrVK_A",
    "papermill": {
     "duration": 0.523687,
     "end_time": "2023-01-31T22:08:23.089393",
     "exception": false,
     "start_time": "2023-01-31T22:08:22.565706",
     "status": "completed"
    },
    "tags": []
   },
   "outputs": [],
   "source": [
    "scores_f1['AdaBoost'] = {\n",
    "        'Train': f1_score(y_train, ada_boost_clf.predict(X_train)),\n",
    "        'Test': f1_score(y_test, ada_boost_clf.predict(X_test)),\n",
    "}"
   ]
  },
  {
   "cell_type": "code",
   "execution_count": 42,
   "id": "KJ9m8dS6XD-h",
   "metadata": {
    "id": "KJ9m8dS6XD-h"
   },
   "outputs": [
    {
     "data": {
      "text/plain": [
       "{'Bagging Classifier': {'Train': 1.0, 'Test': 0.5793103448275863},\n",
       " 'Random Forest': {'Train': 1.0, 'Test': 0.5797101449275363},\n",
       " 'Extra Tree': {'Train': 1.0, 'Test': 0.5714285714285714},\n",
       " 'AdaBoost': {'Train': 0.6706948640483383, 'Test': 0.5857142857142857}}"
      ]
     },
     "execution_count": 42,
     "metadata": {},
     "output_type": "execute_result"
    }
   ],
   "source": [
    "scores_f1"
   ]
  },
  {
   "cell_type": "markdown",
   "id": "ez17xge0QSYj",
   "metadata": {
    "id": "ez17xge0QSYj"
   },
   "source": [
    "## 2. Catboost"
   ]
  },
  {
   "cell_type": "code",
   "execution_count": 43,
   "id": "nugu2IXIQjoT",
   "metadata": {
    "id": "nugu2IXIQjoT"
   },
   "outputs": [
    {
     "name": "stdout",
     "output_type": "stream",
     "text": [
      "Defaulting to user installation because normal site-packages is not writeable\n",
      "Requirement already satisfied: catboost in c:\\users\\user\\appdata\\roaming\\python\\python312\\site-packages (1.2.7)\n",
      "Requirement already satisfied: graphviz in c:\\users\\user\\appdata\\roaming\\python\\python312\\site-packages (from catboost) (0.20.3)\n",
      "Requirement already satisfied: matplotlib in c:\\program files\\python312\\lib\\site-packages (from catboost) (3.9.2)\n",
      "Requirement already satisfied: numpy<2.0,>=1.16.0 in c:\\program files\\python312\\lib\\site-packages (from catboost) (1.26.4)\n",
      "Requirement already satisfied: pandas>=0.24 in c:\\program files\\python312\\lib\\site-packages (from catboost) (2.2.3)\n",
      "Requirement already satisfied: scipy in c:\\users\\user\\appdata\\roaming\\python\\python312\\site-packages (from catboost) (1.14.1)\n",
      "Requirement already satisfied: plotly in c:\\program files\\python312\\lib\\site-packages (from catboost) (5.24.1)\n",
      "Requirement already satisfied: six in c:\\program files\\python312\\lib\\site-packages (from catboost) (1.16.0)\n",
      "Requirement already satisfied: python-dateutil>=2.8.2 in c:\\program files\\python312\\lib\\site-packages (from pandas>=0.24->catboost) (2.9.0.post0)\n",
      "Requirement already satisfied: pytz>=2020.1 in c:\\program files\\python312\\lib\\site-packages (from pandas>=0.24->catboost) (2024.2)\n",
      "Requirement already satisfied: tzdata>=2022.7 in c:\\program files\\python312\\lib\\site-packages (from pandas>=0.24->catboost) (2024.1)\n",
      "Requirement already satisfied: contourpy>=1.0.1 in c:\\program files\\python312\\lib\\site-packages (from matplotlib->catboost) (1.3.0)\n",
      "Requirement already satisfied: cycler>=0.10 in c:\\program files\\python312\\lib\\site-packages (from matplotlib->catboost) (0.12.1)\n",
      "Requirement already satisfied: fonttools>=4.22.0 in c:\\program files\\python312\\lib\\site-packages (from matplotlib->catboost) (4.53.1)\n",
      "Requirement already satisfied: kiwisolver>=1.3.1 in c:\\program files\\python312\\lib\\site-packages (from matplotlib->catboost) (1.4.7)\n",
      "Requirement already satisfied: packaging>=20.0 in c:\\program files\\python312\\lib\\site-packages (from matplotlib->catboost) (24.1)\n",
      "Requirement already satisfied: pillow>=8 in c:\\program files\\python312\\lib\\site-packages (from matplotlib->catboost) (10.4.0)\n",
      "Requirement already satisfied: pyparsing>=2.3.1 in c:\\program files\\python312\\lib\\site-packages (from matplotlib->catboost) (3.1.4)\n",
      "Requirement already satisfied: tenacity>=6.2.0 in c:\\program files\\python312\\lib\\site-packages (from plotly->catboost) (9.0.0)\n"
     ]
    }
   ],
   "source": [
    "!pip install catboost"
   ]
  },
  {
   "cell_type": "code",
   "execution_count": 44,
   "id": "N7Lhuo6fQRUY",
   "metadata": {
    "id": "N7Lhuo6fQRUY"
   },
   "outputs": [
    {
     "name": "stdout",
     "output_type": "stream",
     "text": [
      "Learning rate set to 0.065258\n",
      "0:\tlearn: 0.6749171\ttotal: 151ms\tremaining: 15s\n",
      "1:\tlearn: 0.6598767\ttotal: 153ms\tremaining: 7.5s\n",
      "2:\tlearn: 0.6478977\ttotal: 155ms\tremaining: 5s\n",
      "3:\tlearn: 0.6340635\ttotal: 156ms\tremaining: 3.75s\n",
      "4:\tlearn: 0.6219915\ttotal: 158ms\tremaining: 3s\n",
      "5:\tlearn: 0.6113912\ttotal: 159ms\tremaining: 2.49s\n",
      "6:\tlearn: 0.5990318\ttotal: 160ms\tremaining: 2.13s\n",
      "7:\tlearn: 0.5897569\ttotal: 162ms\tremaining: 1.86s\n",
      "8:\tlearn: 0.5795330\ttotal: 163ms\tremaining: 1.65s\n",
      "9:\tlearn: 0.5716967\ttotal: 165ms\tremaining: 1.49s\n",
      "10:\tlearn: 0.5625286\ttotal: 167ms\tremaining: 1.35s\n",
      "11:\tlearn: 0.5551196\ttotal: 168ms\tremaining: 1.23s\n",
      "12:\tlearn: 0.5478452\ttotal: 170ms\tremaining: 1.14s\n",
      "13:\tlearn: 0.5394996\ttotal: 172ms\tremaining: 1.05s\n",
      "14:\tlearn: 0.5338327\ttotal: 173ms\tremaining: 982ms\n",
      "15:\tlearn: 0.5269406\ttotal: 175ms\tremaining: 917ms\n",
      "16:\tlearn: 0.5205044\ttotal: 176ms\tremaining: 860ms\n",
      "17:\tlearn: 0.5139206\ttotal: 178ms\tremaining: 811ms\n",
      "18:\tlearn: 0.5079825\ttotal: 180ms\tremaining: 766ms\n",
      "19:\tlearn: 0.5042162\ttotal: 181ms\tremaining: 725ms\n",
      "20:\tlearn: 0.4998715\ttotal: 183ms\tremaining: 689ms\n",
      "21:\tlearn: 0.4951065\ttotal: 184ms\tremaining: 654ms\n",
      "22:\tlearn: 0.4903749\ttotal: 186ms\tremaining: 622ms\n",
      "23:\tlearn: 0.4863095\ttotal: 187ms\tremaining: 594ms\n",
      "24:\tlearn: 0.4823707\ttotal: 189ms\tremaining: 567ms\n",
      "25:\tlearn: 0.4778767\ttotal: 190ms\tremaining: 542ms\n",
      "26:\tlearn: 0.4728615\ttotal: 192ms\tremaining: 519ms\n",
      "27:\tlearn: 0.4700213\ttotal: 193ms\tremaining: 497ms\n",
      "28:\tlearn: 0.4672219\ttotal: 195ms\tremaining: 477ms\n",
      "29:\tlearn: 0.4644605\ttotal: 197ms\tremaining: 459ms\n",
      "30:\tlearn: 0.4614388\ttotal: 199ms\tremaining: 442ms\n",
      "31:\tlearn: 0.4581008\ttotal: 201ms\tremaining: 426ms\n",
      "32:\tlearn: 0.4540160\ttotal: 202ms\tremaining: 410ms\n",
      "33:\tlearn: 0.4517586\ttotal: 204ms\tremaining: 395ms\n",
      "34:\tlearn: 0.4487037\ttotal: 205ms\tremaining: 382ms\n",
      "35:\tlearn: 0.4460431\ttotal: 207ms\tremaining: 368ms\n",
      "36:\tlearn: 0.4443172\ttotal: 209ms\tremaining: 356ms\n",
      "37:\tlearn: 0.4425349\ttotal: 211ms\tremaining: 344ms\n",
      "38:\tlearn: 0.4404886\ttotal: 213ms\tremaining: 332ms\n",
      "39:\tlearn: 0.4379535\ttotal: 214ms\tremaining: 321ms\n",
      "40:\tlearn: 0.4360458\ttotal: 216ms\tremaining: 311ms\n",
      "41:\tlearn: 0.4334801\ttotal: 218ms\tremaining: 300ms\n",
      "42:\tlearn: 0.4314699\ttotal: 219ms\tremaining: 291ms\n",
      "43:\tlearn: 0.4293871\ttotal: 221ms\tremaining: 281ms\n",
      "44:\tlearn: 0.4272202\ttotal: 223ms\tremaining: 272ms\n",
      "45:\tlearn: 0.4254491\ttotal: 225ms\tremaining: 264ms\n",
      "46:\tlearn: 0.4238519\ttotal: 226ms\tremaining: 255ms\n",
      "47:\tlearn: 0.4214634\ttotal: 228ms\tremaining: 247ms\n",
      "48:\tlearn: 0.4200546\ttotal: 230ms\tremaining: 239ms\n",
      "49:\tlearn: 0.4186337\ttotal: 231ms\tremaining: 231ms\n",
      "50:\tlearn: 0.4167436\ttotal: 233ms\tremaining: 224ms\n",
      "51:\tlearn: 0.4147597\ttotal: 235ms\tremaining: 217ms\n",
      "52:\tlearn: 0.4129486\ttotal: 236ms\tremaining: 209ms\n",
      "53:\tlearn: 0.4112012\ttotal: 237ms\tremaining: 202ms\n",
      "54:\tlearn: 0.4097543\ttotal: 239ms\tremaining: 195ms\n",
      "55:\tlearn: 0.4084062\ttotal: 240ms\tremaining: 189ms\n",
      "56:\tlearn: 0.4073611\ttotal: 242ms\tremaining: 182ms\n",
      "57:\tlearn: 0.4051533\ttotal: 244ms\tremaining: 176ms\n",
      "58:\tlearn: 0.4029944\ttotal: 246ms\tremaining: 171ms\n",
      "59:\tlearn: 0.4011740\ttotal: 248ms\tremaining: 165ms\n",
      "60:\tlearn: 0.3996828\ttotal: 249ms\tremaining: 159ms\n",
      "61:\tlearn: 0.3981263\ttotal: 251ms\tremaining: 154ms\n",
      "62:\tlearn: 0.3970666\ttotal: 252ms\tremaining: 148ms\n",
      "63:\tlearn: 0.3954313\ttotal: 253ms\tremaining: 143ms\n",
      "64:\tlearn: 0.3942592\ttotal: 255ms\tremaining: 137ms\n",
      "65:\tlearn: 0.3934295\ttotal: 257ms\tremaining: 133ms\n",
      "66:\tlearn: 0.3912726\ttotal: 259ms\tremaining: 128ms\n",
      "67:\tlearn: 0.3903847\ttotal: 261ms\tremaining: 123ms\n",
      "68:\tlearn: 0.3893084\ttotal: 263ms\tremaining: 118ms\n",
      "69:\tlearn: 0.3884818\ttotal: 264ms\tremaining: 113ms\n",
      "70:\tlearn: 0.3875746\ttotal: 266ms\tremaining: 109ms\n",
      "71:\tlearn: 0.3862776\ttotal: 267ms\tremaining: 104ms\n",
      "72:\tlearn: 0.3851544\ttotal: 269ms\tremaining: 99.5ms\n",
      "73:\tlearn: 0.3836603\ttotal: 271ms\tremaining: 95.3ms\n",
      "74:\tlearn: 0.3824872\ttotal: 273ms\tremaining: 90.9ms\n",
      "75:\tlearn: 0.3814339\ttotal: 274ms\tremaining: 86.6ms\n",
      "76:\tlearn: 0.3805402\ttotal: 276ms\tremaining: 82.5ms\n",
      "77:\tlearn: 0.3794442\ttotal: 278ms\tremaining: 78.4ms\n",
      "78:\tlearn: 0.3778547\ttotal: 279ms\tremaining: 74.3ms\n",
      "79:\tlearn: 0.3767696\ttotal: 281ms\tremaining: 70.2ms\n",
      "80:\tlearn: 0.3751414\ttotal: 282ms\tremaining: 66.2ms\n",
      "81:\tlearn: 0.3744581\ttotal: 284ms\tremaining: 62.3ms\n",
      "82:\tlearn: 0.3740228\ttotal: 286ms\tremaining: 58.5ms\n",
      "83:\tlearn: 0.3731920\ttotal: 287ms\tremaining: 54.7ms\n",
      "84:\tlearn: 0.3717075\ttotal: 289ms\tremaining: 51ms\n",
      "85:\tlearn: 0.3707331\ttotal: 290ms\tremaining: 47.3ms\n",
      "86:\tlearn: 0.3694747\ttotal: 292ms\tremaining: 43.6ms\n",
      "87:\tlearn: 0.3683651\ttotal: 294ms\tremaining: 40ms\n",
      "88:\tlearn: 0.3672510\ttotal: 295ms\tremaining: 36.5ms\n",
      "89:\tlearn: 0.3660698\ttotal: 296ms\tremaining: 32.9ms\n",
      "90:\tlearn: 0.3650429\ttotal: 298ms\tremaining: 29.5ms\n",
      "91:\tlearn: 0.3639296\ttotal: 300ms\tremaining: 26.1ms\n",
      "92:\tlearn: 0.3630161\ttotal: 301ms\tremaining: 22.7ms\n",
      "93:\tlearn: 0.3620851\ttotal: 303ms\tremaining: 19.3ms\n",
      "94:\tlearn: 0.3612726\ttotal: 304ms\tremaining: 16ms\n",
      "95:\tlearn: 0.3596412\ttotal: 305ms\tremaining: 12.7ms\n",
      "96:\tlearn: 0.3583824\ttotal: 307ms\tremaining: 9.48ms\n",
      "97:\tlearn: 0.3575621\ttotal: 308ms\tremaining: 6.29ms\n",
      "98:\tlearn: 0.3563547\ttotal: 309ms\tremaining: 3.12ms\n",
      "99:\tlearn: 0.3553171\ttotal: 311ms\tremaining: 0us\n",
      "РЕЗУЛЬТАТЫ ОБУЧЕНИЯ (ОБУЧАЮЩАЯ ВЫБОРКА): \n",
      "===============================\n",
      "МАТРИЦА ОШИБОК (CONFUSION MATRIX):\n",
      "[[323  30]\n",
      " [ 49 135]]\n",
      "ACCURACY ПАРАМЕТР:\n",
      "0.8529\n",
      "PRECISION ПАРАМЕТР:\n",
      "0.8182\n",
      "RECALL ПАРАМЕТР:\n",
      "0.7337\n",
      "F1 МЕРА:\n",
      "0.7736\n",
      "ОТЧЕТ О КЛАССИФИКАЦИИ:\n",
      "               0      1  accuracy  macro avg  weighted avg\n",
      "precision   0.87   0.82      0.85       0.84          0.85\n",
      "recall      0.92   0.73      0.85       0.82          0.85\n",
      "f1-score    0.89   0.77      0.85       0.83          0.85\n",
      "support   353.00 184.00      0.85     537.00        537.00\n",
      "РЕЗУЛЬТАТЫ ТЕСТОВОЙ ВЫБОРКИ: \n",
      "===============================\n",
      "МАТРИЦА ОШИБОК (CONFUSION MATRIX):\n",
      "[[134  13]\n",
      " [ 42  42]]\n",
      "ACCURACY ПАРАМЕТР:\n",
      "0.7619\n",
      "PRECISION ПАРАМЕТР:\n",
      "0.7636\n",
      "RECALL ПАРАМЕТР:\n",
      "0.5000\n",
      "F1 МЕРА:\n",
      "0.6043\n",
      "ОТЧЕТ О КЛАССИФИКАЦИИ:\n",
      "               0     1  accuracy  macro avg  weighted avg\n",
      "precision   0.76  0.76      0.76       0.76          0.76\n",
      "recall      0.91  0.50      0.76       0.71          0.76\n",
      "f1-score    0.83  0.60      0.76       0.72          0.75\n",
      "support   147.00 84.00      0.76     231.00        231.00\n"
     ]
    }
   ],
   "source": [
    "from catboost import CatBoostClassifier\n",
    "\n",
    "cat_clf = CatBoostClassifier(n_estimators=100)\n",
    "cat_clf.fit(X_train, y_train) #тренировка на данных\n",
    "evaluate(cat_clf, X_train, X_test, y_train, y_test)"
   ]
  },
  {
   "cell_type": "code",
   "execution_count": 45,
   "id": "QjYb9ja9TQpF",
   "metadata": {
    "id": "QjYb9ja9TQpF"
   },
   "outputs": [],
   "source": [
    "scores['CatBoostClassifier Boosting'] = {\n",
    "        'Train': accuracy_score(y_train, cat_clf.predict(X_train)),\n",
    "        'Test': accuracy_score(y_test, cat_clf.predict(X_test)),\n",
    "    }"
   ]
  },
  {
   "cell_type": "code",
   "execution_count": 46,
   "id": "YqAGSuD-VMGc",
   "metadata": {
    "execution": {
     "iopub.execute_input": "2023-01-31T22:08:22.579133Z",
     "iopub.status.busy": "2023-01-31T22:08:22.578681Z",
     "iopub.status.idle": "2023-01-31T22:08:23.086268Z",
     "shell.execute_reply": "2023-01-31T22:08:23.084949Z"
    },
    "id": "YqAGSuD-VMGc",
    "papermill": {
     "duration": 0.523687,
     "end_time": "2023-01-31T22:08:23.089393",
     "exception": false,
     "start_time": "2023-01-31T22:08:22.565706",
     "status": "completed"
    },
    "tags": []
   },
   "outputs": [],
   "source": [
    "scores_f1['CatBoostClassifier Boosting'] = {\n",
    "        'Train': f1_score(y_train, cat_clf.predict(X_train)),\n",
    "        'Test': f1_score(y_test, cat_clf.predict(X_test)),\n",
    "}"
   ]
  },
  {
   "cell_type": "code",
   "execution_count": 47,
   "id": "uJt6A6AaW6Ig",
   "metadata": {
    "id": "uJt6A6AaW6Ig"
   },
   "outputs": [
    {
     "data": {
      "text/plain": [
       "{'Bagging Classifier': {'Train': 1.0, 'Test': 0.5793103448275863},\n",
       " 'Random Forest': {'Train': 1.0, 'Test': 0.5797101449275363},\n",
       " 'Extra Tree': {'Train': 1.0, 'Test': 0.5714285714285714},\n",
       " 'AdaBoost': {'Train': 0.6706948640483383, 'Test': 0.5857142857142857},\n",
       " 'CatBoostClassifier Boosting': {'Train': 0.7736389684813754,\n",
       "  'Test': 0.60431654676259}}"
      ]
     },
     "execution_count": 47,
     "metadata": {},
     "output_type": "execute_result"
    }
   ],
   "source": [
    "scores_f1"
   ]
  },
  {
   "cell_type": "markdown",
   "id": "jx6jjjSdRxkw",
   "metadata": {
    "id": "jx6jjjSdRxkw"
   },
   "source": [
    "## 3. XGBoost"
   ]
  },
  {
   "cell_type": "code",
   "execution_count": 48,
   "id": "7oc8WJBSRw5Y",
   "metadata": {
    "id": "7oc8WJBSRw5Y"
   },
   "outputs": [
    {
     "name": "stdout",
     "output_type": "stream",
     "text": [
      "Defaulting to user installation because normal site-packages is not writeable\n",
      "Collecting xgboost\n",
      "  Downloading xgboost-3.0.0-py3-none-win_amd64.whl.metadata (2.1 kB)\n",
      "Requirement already satisfied: numpy in c:\\program files\\python312\\lib\\site-packages (from xgboost) (1.26.4)\n",
      "Requirement already satisfied: scipy in c:\\users\\user\\appdata\\roaming\\python\\python312\\site-packages (from xgboost) (1.14.1)\n",
      "Downloading xgboost-3.0.0-py3-none-win_amd64.whl (150.0 MB)\n",
      "   ---------------------------------------- 0.0/150.0 MB ? eta -:--:--\n",
      "   ---------------------------------------- 0.5/150.0 MB 5.6 MB/s eta 0:00:27\n",
      "   ---------------------------------------- 1.8/150.0 MB 9.1 MB/s eta 0:00:17\n",
      "   - -------------------------------------- 4.7/150.0 MB 9.8 MB/s eta 0:00:15\n",
      "   - -------------------------------------- 7.3/150.0 MB 10.3 MB/s eta 0:00:14\n",
      "   -- ------------------------------------- 9.7/150.0 MB 10.6 MB/s eta 0:00:14\n",
      "   --- ------------------------------------ 12.1/150.0 MB 10.6 MB/s eta 0:00:13\n",
      "   --- ------------------------------------ 14.2/150.0 MB 10.6 MB/s eta 0:00:13\n",
      "   ---- ----------------------------------- 16.3/150.0 MB 10.7 MB/s eta 0:00:13\n",
      "   ---- ----------------------------------- 18.1/150.0 MB 10.5 MB/s eta 0:00:13\n",
      "   ----- ---------------------------------- 20.2/150.0 MB 10.2 MB/s eta 0:00:13\n",
      "   ----- ---------------------------------- 21.8/150.0 MB 10.1 MB/s eta 0:00:13\n",
      "   ------ --------------------------------- 23.9/150.0 MB 10.0 MB/s eta 0:00:13\n",
      "   ------ --------------------------------- 25.4/150.0 MB 9.9 MB/s eta 0:00:13\n",
      "   ------- -------------------------------- 27.3/150.0 MB 9.7 MB/s eta 0:00:13\n",
      "   ------- -------------------------------- 28.8/150.0 MB 9.5 MB/s eta 0:00:13\n",
      "   -------- ------------------------------- 30.1/150.0 MB 9.4 MB/s eta 0:00:13\n",
      "   -------- ------------------------------- 31.7/150.0 MB 9.2 MB/s eta 0:00:13\n",
      "   -------- ------------------------------- 33.0/150.0 MB 9.0 MB/s eta 0:00:13\n",
      "   --------- ------------------------------ 34.6/150.0 MB 8.9 MB/s eta 0:00:13\n",
      "   --------- ------------------------------ 35.9/150.0 MB 8.8 MB/s eta 0:00:13\n",
      "   --------- ------------------------------ 37.5/150.0 MB 8.7 MB/s eta 0:00:13\n",
      "   ---------- ----------------------------- 38.8/150.0 MB 8.7 MB/s eta 0:00:13\n",
      "   ---------- ----------------------------- 40.6/150.0 MB 8.6 MB/s eta 0:00:13\n",
      "   ----------- ---------------------------- 42.2/150.0 MB 8.5 MB/s eta 0:00:13\n",
      "   ----------- ---------------------------- 43.8/150.0 MB 8.5 MB/s eta 0:00:13\n",
      "   ------------ --------------------------- 45.4/150.0 MB 8.5 MB/s eta 0:00:13\n",
      "   ------------ --------------------------- 47.2/150.0 MB 8.5 MB/s eta 0:00:13\n",
      "   ------------ --------------------------- 48.5/150.0 MB 8.4 MB/s eta 0:00:13\n",
      "   ------------- -------------------------- 50.1/150.0 MB 8.4 MB/s eta 0:00:12\n",
      "   ------------- -------------------------- 51.9/150.0 MB 8.4 MB/s eta 0:00:12\n",
      "   -------------- ------------------------- 53.5/150.0 MB 8.3 MB/s eta 0:00:12\n",
      "   -------------- ------------------------- 55.3/150.0 MB 8.3 MB/s eta 0:00:12\n",
      "   --------------- ------------------------ 56.9/150.0 MB 8.3 MB/s eta 0:00:12\n",
      "   --------------- ------------------------ 58.5/150.0 MB 8.3 MB/s eta 0:00:11\n",
      "   ---------------- ----------------------- 60.3/150.0 MB 8.3 MB/s eta 0:00:11\n",
      "   ---------------- ----------------------- 62.1/150.0 MB 8.3 MB/s eta 0:00:11\n",
      "   ---------------- ----------------------- 63.4/150.0 MB 8.3 MB/s eta 0:00:11\n",
      "   ----------------- ---------------------- 65.3/150.0 MB 8.3 MB/s eta 0:00:11\n",
      "   ----------------- ---------------------- 67.1/150.0 MB 8.3 MB/s eta 0:00:10\n",
      "   ------------------ --------------------- 68.9/150.0 MB 8.3 MB/s eta 0:00:10\n",
      "   ------------------ --------------------- 70.5/150.0 MB 8.3 MB/s eta 0:00:10\n",
      "   ------------------- -------------------- 72.4/150.0 MB 8.3 MB/s eta 0:00:10\n",
      "   ------------------- -------------------- 73.9/150.0 MB 8.3 MB/s eta 0:00:10\n",
      "   -------------------- ------------------- 75.5/150.0 MB 8.3 MB/s eta 0:00:10\n",
      "   -------------------- ------------------- 77.3/150.0 MB 8.3 MB/s eta 0:00:09\n",
      "   --------------------- ------------------ 79.2/150.0 MB 8.3 MB/s eta 0:00:09\n",
      "   --------------------- ------------------ 81.0/150.0 MB 8.3 MB/s eta 0:00:09\n",
      "   ---------------------- ----------------- 82.8/150.0 MB 8.3 MB/s eta 0:00:09\n",
      "   ---------------------- ----------------- 84.7/150.0 MB 8.3 MB/s eta 0:00:08\n",
      "   ----------------------- ---------------- 86.5/150.0 MB 8.3 MB/s eta 0:00:08\n",
      "   ----------------------- ---------------- 88.3/150.0 MB 8.3 MB/s eta 0:00:08\n",
      "   ------------------------ --------------- 90.2/150.0 MB 8.3 MB/s eta 0:00:08\n",
      "   ------------------------ --------------- 92.3/150.0 MB 8.3 MB/s eta 0:00:07\n",
      "   ------------------------- -------------- 94.1/150.0 MB 8.4 MB/s eta 0:00:07\n",
      "   ------------------------- -------------- 95.9/150.0 MB 8.3 MB/s eta 0:00:07\n",
      "   -------------------------- ------------- 97.8/150.0 MB 8.4 MB/s eta 0:00:07\n",
      "   -------------------------- ------------- 99.9/150.0 MB 8.4 MB/s eta 0:00:06\n",
      "   --------------------------- ------------ 101.7/150.0 MB 8.4 MB/s eta 0:00:06\n",
      "   --------------------------- ------------ 103.5/150.0 MB 8.4 MB/s eta 0:00:06\n",
      "   ---------------------------- ----------- 105.6/150.0 MB 8.4 MB/s eta 0:00:06\n",
      "   ---------------------------- ----------- 107.7/150.0 MB 8.4 MB/s eta 0:00:06\n",
      "   ----------------------------- ---------- 109.6/150.0 MB 8.4 MB/s eta 0:00:05\n",
      "   ----------------------------- ---------- 111.7/150.0 MB 8.4 MB/s eta 0:00:05\n",
      "   ------------------------------ --------- 113.5/150.0 MB 8.5 MB/s eta 0:00:05\n",
      "   ------------------------------ --------- 115.6/150.0 MB 8.5 MB/s eta 0:00:05\n",
      "   ------------------------------- -------- 117.7/150.0 MB 8.5 MB/s eta 0:00:04\n",
      "   ------------------------------- -------- 119.8/150.0 MB 8.5 MB/s eta 0:00:04\n",
      "   -------------------------------- ------- 121.9/150.0 MB 8.6 MB/s eta 0:00:04\n",
      "   --------------------------------- ------ 124.3/150.0 MB 8.6 MB/s eta 0:00:03\n",
      "   --------------------------------- ------ 126.6/150.0 MB 8.6 MB/s eta 0:00:03\n",
      "   ---------------------------------- ----- 129.0/150.0 MB 8.7 MB/s eta 0:00:03\n",
      "   ----------------------------------- ---- 131.3/150.0 MB 8.7 MB/s eta 0:00:03\n",
      "   ----------------------------------- ---- 133.7/150.0 MB 8.7 MB/s eta 0:00:02\n",
      "   ------------------------------------ --- 136.1/150.0 MB 8.8 MB/s eta 0:00:02\n",
      "   ------------------------------------ --- 138.7/150.0 MB 8.8 MB/s eta 0:00:02\n",
      "   ------------------------------------- -- 141.0/150.0 MB 8.8 MB/s eta 0:00:02\n",
      "   -------------------------------------- - 143.4/150.0 MB 8.9 MB/s eta 0:00:01\n",
      "   -------------------------------------- - 146.0/150.0 MB 8.9 MB/s eta 0:00:01\n",
      "   ---------------------------------------  148.4/150.0 MB 8.9 MB/s eta 0:00:01\n",
      "   ---------------------------------------  149.9/150.0 MB 9.0 MB/s eta 0:00:01\n",
      "   ---------------------------------------- 150.0/150.0 MB 8.8 MB/s eta 0:00:00\n",
      "Installing collected packages: xgboost\n",
      "Successfully installed xgboost-3.0.0\n"
     ]
    }
   ],
   "source": [
    "!pip install xgboost"
   ]
  },
  {
   "cell_type": "code",
   "execution_count": 49,
   "id": "LPpHbGSUR5Z8",
   "metadata": {
    "id": "LPpHbGSUR5Z8"
   },
   "outputs": [
    {
     "name": "stdout",
     "output_type": "stream",
     "text": [
      "РЕЗУЛЬТАТЫ ОБУЧЕНИЯ (ОБУЧАЮЩАЯ ВЫБОРКА): \n",
      "===============================\n",
      "МАТРИЦА ОШИБОК (CONFUSION MATRIX):\n",
      "[[353   0]\n",
      " [  0 184]]\n",
      "ACCURACY ПАРАМЕТР:\n",
      "1.0000\n",
      "PRECISION ПАРАМЕТР:\n",
      "1.0000\n",
      "RECALL ПАРАМЕТР:\n",
      "1.0000\n",
      "F1 МЕРА:\n",
      "1.0000\n",
      "ОТЧЕТ О КЛАССИФИКАЦИИ:\n",
      "               0      1  accuracy  macro avg  weighted avg\n",
      "precision   1.00   1.00      1.00       1.00          1.00\n",
      "recall      1.00   1.00      1.00       1.00          1.00\n",
      "f1-score    1.00   1.00      1.00       1.00          1.00\n",
      "support   353.00 184.00      1.00     537.00        537.00\n",
      "РЕЗУЛЬТАТЫ ТЕСТОВОЙ ВЫБОРКИ: \n",
      "===============================\n",
      "МАТРИЦА ОШИБОК (CONFUSION MATRIX):\n",
      "[[127  20]\n",
      " [ 39  45]]\n",
      "ACCURACY ПАРАМЕТР:\n",
      "0.7446\n",
      "PRECISION ПАРАМЕТР:\n",
      "0.6923\n",
      "RECALL ПАРАМЕТР:\n",
      "0.5357\n",
      "F1 МЕРА:\n",
      "0.6040\n",
      "ОТЧЕТ О КЛАССИФИКАЦИИ:\n",
      "               0     1  accuracy  macro avg  weighted avg\n",
      "precision   0.77  0.69      0.74       0.73          0.74\n",
      "recall      0.86  0.54      0.74       0.70          0.74\n",
      "f1-score    0.81  0.60      0.74       0.71          0.74\n",
      "support   147.00 84.00      0.74     231.00        231.00\n"
     ]
    }
   ],
   "source": [
    "from xgboost import XGBClassifier\n",
    "\n",
    "xgboost_clf = XGBClassifier(n_estimators=100)\n",
    "xgboost_clf.fit(X_train, y_train) #тренировка на данных\n",
    "evaluate(xgboost_clf, X_train, X_test, y_train, y_test)"
   ]
  },
  {
   "cell_type": "code",
   "execution_count": 50,
   "id": "BSKDn0vpTFN9",
   "metadata": {
    "id": "BSKDn0vpTFN9"
   },
   "outputs": [],
   "source": [
    "scores['XGBClassifier Boosting'] = {\n",
    "        'Train': accuracy_score(y_train, xgboost_clf.predict(X_train)),\n",
    "        'Test': accuracy_score(y_test, xgboost_clf.predict(X_test)),\n",
    "    }"
   ]
  },
  {
   "cell_type": "code",
   "execution_count": 51,
   "id": "sYLGhfQBVNMQ",
   "metadata": {
    "execution": {
     "iopub.execute_input": "2023-01-31T22:08:22.579133Z",
     "iopub.status.busy": "2023-01-31T22:08:22.578681Z",
     "iopub.status.idle": "2023-01-31T22:08:23.086268Z",
     "shell.execute_reply": "2023-01-31T22:08:23.084949Z"
    },
    "id": "sYLGhfQBVNMQ",
    "papermill": {
     "duration": 0.523687,
     "end_time": "2023-01-31T22:08:23.089393",
     "exception": false,
     "start_time": "2023-01-31T22:08:22.565706",
     "status": "completed"
    },
    "tags": []
   },
   "outputs": [],
   "source": [
    "scores_f1['XGBClassifier Boosting'] = {\n",
    "        'Train': f1_score(y_train, xgboost_clf.predict(X_train)),\n",
    "        'Test': f1_score(y_test, xgboost_clf.predict(X_test)),\n",
    "}"
   ]
  },
  {
   "cell_type": "code",
   "execution_count": 52,
   "id": "geYvuSmFW0JO",
   "metadata": {
    "id": "geYvuSmFW0JO"
   },
   "outputs": [
    {
     "data": {
      "text/plain": [
       "{'Bagging Classifier': {'Train': 1.0, 'Test': 0.5793103448275863},\n",
       " 'Random Forest': {'Train': 1.0, 'Test': 0.5797101449275363},\n",
       " 'Extra Tree': {'Train': 1.0, 'Test': 0.5714285714285714},\n",
       " 'AdaBoost': {'Train': 0.6706948640483383, 'Test': 0.5857142857142857},\n",
       " 'CatBoostClassifier Boosting': {'Train': 0.7736389684813754,\n",
       "  'Test': 0.60431654676259},\n",
       " 'XGBClassifier Boosting': {'Train': 1.0, 'Test': 0.6040268456375839}}"
      ]
     },
     "execution_count": 52,
     "metadata": {},
     "output_type": "execute_result"
    }
   ],
   "source": [
    "scores_f1"
   ]
  },
  {
   "cell_type": "markdown",
   "id": "7e89d6c3",
   "metadata": {
    "id": "7e89d6c3",
    "papermill": {
     "duration": 0.011751,
     "end_time": "2023-01-31T22:08:28.588422",
     "exception": false,
     "start_time": "2023-01-31T22:08:28.576671",
     "status": "completed"
    },
    "tags": []
   },
   "source": [
    "## 4. Stochastic Gradient Boosting\n",
    "Stochastic Gradient Boosting (также называемые машинами для повышения градиента) - это одна из самых сложных ансамблевых техник. Это также метод, который зарекомендовал себя, пожалуй, как один из лучших методов, доступных для улучшения производительности с помощью ансамблей.\n",
    "\n",
    "**GradientBoostingClassifier**:\n",
    "\n",
    "GB строит аддитивную модель поэтапно; она позволяет оптимизировать произвольные дифференцируемые функции потерь. На каждом этапе деревья регрессии `n_classes_` подгоняются по отрицательному градиенту биномиальной или мультиномиальной функции потери отклонения. Бинарная классификация - это особый случай, когда индуцируется только одно дерево регрессии.\n",
    "\n",
    "**Параметры классификатора GradientBoostingClassifier**:\n",
    "\n",
    "- `loss`: функция потерь должна быть оптимизирована. \"отклонение\" относится к отклонению (= логистическая регрессия) для классификации с вероятностными выходными данными. При потере \"экспоненциального\" градиентного усиления восстанавливается алгоритм AdaBoost.\n",
    "***\n",
    "- `learning_rate`: скорость обучения уменьшает вклад каждого дерева на `learning_rate`. Существует компромисс между learning_rate и n_estimators.\n",
    "***\n",
    "- `n_estimators`: количество этапов повышения, которые необходимо выполнить. Градиентное усиление довольно устойчиво к чрезмерной подгонке, поэтому большое количество обычно приводит к повышению производительности.\n",
    "***\n",
    "- `подвыборка`: доля выборок, которая будет использоваться для подбора индивидуальных базовых учащихся. Если значение меньше 1,0, это приводит к увеличению стохастического градиента. `подвыборка` взаимодействует с параметром `n_estimators`. Выбор \"подвыборки < 1,0` приводит к уменьшению дисперсии и увеличению смещения.\n",
    "***\n",
    "- `criterion`: функция для измерения качества разделения. Поддерживаемыми критериями являются \"friedman_mse\" для среднеквадратичной ошибки с оценкой улучшения по Фридману, \"`mse`\" для среднеквадратичной ошибки и \"`mae`\" для средней абсолютной ошибки. Значение по умолчанию \"friedman_mse\", как правило, является наилучшим, поскольку в некоторых случаях оно может обеспечить лучшее приближение.\n",
    "***\n",
    "- `min_samples_split`: минимальное количество выборок, необходимое для разделения внутреннего узла.\n",
    "***\n",
    "- `min_samples_leaf`: минимальное количество выборок, необходимое для нахождения в конечном узле. Точка разделения на любой глубине будет учитываться только в том случае, если она оставляет по крайней мере обучающие выборки `min_samples_leaf` в каждой из левой и правой ветвей. Это может привести к сглаживанию модели, особенно при регрессии.\n",
    "***\n",
    "- `min_weight_fraction_leaf`: минимальная взвешенная доля от общей суммы весов (всех входных выборок), необходимая для нахождения в конечном узле. Образцы имеют одинаковый вес, если sample_weight не указан.\n",
    "***\n",
    "- `max_depth`: максимальная глубина отдельных регрессионных оценок. Максимальная глубина ограничивает количество узлов в дереве. Настройте этот параметр для достижения наилучшей производительности; наилучшее значение зависит от взаимодействия входных переменных.\n",
    "***\n",
    "- `min_impurity_decrease`: Узел будет разделен, если это разделение приведет к уменьшению примеси, большему или равному этому значению.\n",
    "***\n",
    "- `min_impurity_split`: порог для ранней остановки роста дерева. Узел разделится, если его примесь превысит пороговое значение, в противном случае это лист.\n",
    "***\n",
    "- `max_features`: количество функций, которые следует учитывать при поиске наилучшего разделения.\n",
    "***\n",
    "- `max_leaf_nodes`: Выращивайте деревья с помощью `max_leaf_nodes` наилучшим образом. Наилучшие узлы определяются как относительное уменьшение содержания примесей. Если нет, то неограниченное количество конечных узлов.\n",
    "***\n",
    "- `warm_start`: если установлено значение `True`, повторно используйте решение предыдущего вызова для подгонки и добавьте больше оценок в ансамбль, в противном случае просто удалите предыдущее решение.\n",
    "***\n",
    "- `validation_fraction`: доля обучающих данных, которую следует отложить в качестве набора проверки для ранней остановки. Должно быть в диапазоне от 0 до 1. Используется только в том случае, если для параметра `n_iter_no_change` задано целое число.\n",
    "***\n",
    "- `n_iter_no_change`: используется для определения того, будет ли использоваться досрочная остановка для прекращения обучения, если оценка проверки не улучшается. По умолчанию для отключения ранней остановки установлено значение \"Нет\". Если задано значение number, оно будет использовать размер обучающих данных `validation_fraction` в качестве проверки и завершит обучение, когда оценка проверки не улучшится во всех предыдущих `n_iter_no_change` числах итераций. Раскол носит стратифицированный характер.\n",
    "***\n",
    "- `tol`: Допуск к ранней остановке. Когда потери не увеличиваются по крайней мере на tol для итераций `n_iter_no_change` (если задано число), обучение прекращается.\n",
    "***\n",
    "- `ccp_alpha`: Параметр сложности, используемый для сокращения сложности с минимальными затратами. Будет выбрано поддерево с наибольшей стоимостной сложностью, которая меньше, чем `ccp_alpha`.\n",
    "***"
   ]
  },
  {
   "cell_type": "code",
   "execution_count": 53,
   "id": "d8e0ca05",
   "metadata": {
    "execution": {
     "iopub.execute_input": "2023-01-31T22:08:28.614256Z",
     "iopub.status.busy": "2023-01-31T22:08:28.613849Z",
     "iopub.status.idle": "2023-01-31T22:08:28.784590Z",
     "shell.execute_reply": "2023-01-31T22:08:28.783080Z"
    },
    "id": "d8e0ca05",
    "papermill": {
     "duration": 0.187487,
     "end_time": "2023-01-31T22:08:28.787948",
     "exception": false,
     "start_time": "2023-01-31T22:08:28.600461",
     "status": "completed"
    },
    "tags": []
   },
   "outputs": [
    {
     "name": "stdout",
     "output_type": "stream",
     "text": [
      "РЕЗУЛЬТАТЫ ОБУЧЕНИЯ (ОБУЧАЮЩАЯ ВЫБОРКА): \n",
      "===============================\n",
      "МАТРИЦА ОШИБОК (CONFUSION MATRIX):\n",
      "[[344   9]\n",
      " [ 23 161]]\n",
      "ACCURACY ПАРАМЕТР:\n",
      "0.9404\n",
      "PRECISION ПАРАМЕТР:\n",
      "0.9471\n",
      "RECALL ПАРАМЕТР:\n",
      "0.8750\n",
      "F1 МЕРА:\n",
      "0.9096\n",
      "ОТЧЕТ О КЛАССИФИКАЦИИ:\n",
      "               0      1  accuracy  macro avg  weighted avg\n",
      "precision   0.94   0.95      0.94       0.94          0.94\n",
      "recall      0.97   0.88      0.94       0.92          0.94\n",
      "f1-score    0.96   0.91      0.94       0.93          0.94\n",
      "support   353.00 184.00      0.94     537.00        537.00\n",
      "РЕЗУЛЬТАТЫ ТЕСТОВОЙ ВЫБОРКИ: \n",
      "===============================\n",
      "МАТРИЦА ОШИБОК (CONFUSION MATRIX):\n",
      "[[128  19]\n",
      " [ 44  40]]\n",
      "ACCURACY ПАРАМЕТР:\n",
      "0.7273\n",
      "PRECISION ПАРАМЕТР:\n",
      "0.6780\n",
      "RECALL ПАРАМЕТР:\n",
      "0.4762\n",
      "F1 МЕРА:\n",
      "0.5594\n",
      "ОТЧЕТ О КЛАССИФИКАЦИИ:\n",
      "               0     1  accuracy  macro avg  weighted avg\n",
      "precision   0.74  0.68      0.73       0.71          0.72\n",
      "recall      0.87  0.48      0.73       0.67          0.73\n",
      "f1-score    0.80  0.56      0.73       0.68          0.71\n",
      "support   147.00 84.00      0.73     231.00        231.00\n"
     ]
    }
   ],
   "source": [
    "from sklearn.ensemble import GradientBoostingClassifier\n",
    "\n",
    "grad_boost_clf = GradientBoostingClassifier(n_estimators=100, random_state=1234)\n",
    "grad_boost_clf.fit(X_train, y_train)\n",
    "evaluate(grad_boost_clf, X_train, X_test, y_train, y_test)"
   ]
  },
  {
   "cell_type": "code",
   "execution_count": 54,
   "id": "666bb917",
   "metadata": {
    "execution": {
     "iopub.execute_input": "2023-01-31T22:08:28.814756Z",
     "iopub.status.busy": "2023-01-31T22:08:28.814358Z",
     "iopub.status.idle": "2023-01-31T22:08:28.826816Z",
     "shell.execute_reply": "2023-01-31T22:08:28.825326Z"
    },
    "id": "666bb917",
    "papermill": {
     "duration": 0.028709,
     "end_time": "2023-01-31T22:08:28.829458",
     "exception": false,
     "start_time": "2023-01-31T22:08:28.800749",
     "status": "completed"
    },
    "tags": []
   },
   "outputs": [],
   "source": [
    "scores['Gradient Boosting'] = {\n",
    "        'Train': accuracy_score(y_train, grad_boost_clf.predict(X_train)),\n",
    "        'Test': accuracy_score(y_test, grad_boost_clf.predict(X_test)),\n",
    "    }"
   ]
  },
  {
   "cell_type": "code",
   "execution_count": 55,
   "id": "Gk0iXOIyVOdF",
   "metadata": {
    "execution": {
     "iopub.execute_input": "2023-01-31T22:08:22.579133Z",
     "iopub.status.busy": "2023-01-31T22:08:22.578681Z",
     "iopub.status.idle": "2023-01-31T22:08:23.086268Z",
     "shell.execute_reply": "2023-01-31T22:08:23.084949Z"
    },
    "id": "Gk0iXOIyVOdF",
    "papermill": {
     "duration": 0.523687,
     "end_time": "2023-01-31T22:08:23.089393",
     "exception": false,
     "start_time": "2023-01-31T22:08:22.565706",
     "status": "completed"
    },
    "tags": []
   },
   "outputs": [],
   "source": [
    "scores_f1['Gradient Boosting'] = {\n",
    "        'Train': f1_score(y_train, grad_boost_clf.predict(X_train)),\n",
    "        'Test': f1_score(y_test, grad_boost_clf.predict(X_test)),\n",
    "}"
   ]
  },
  {
   "cell_type": "code",
   "execution_count": 56,
   "id": "QkbS07vvWXVE",
   "metadata": {
    "id": "QkbS07vvWXVE"
   },
   "outputs": [
    {
     "data": {
      "text/plain": [
       "{'Bagging Classifier': {'Train': 1.0, 'Test': 0.5793103448275863},\n",
       " 'Random Forest': {'Train': 1.0, 'Test': 0.5797101449275363},\n",
       " 'Extra Tree': {'Train': 1.0, 'Test': 0.5714285714285714},\n",
       " 'AdaBoost': {'Train': 0.6706948640483383, 'Test': 0.5857142857142857},\n",
       " 'CatBoostClassifier Boosting': {'Train': 0.7736389684813754,\n",
       "  'Test': 0.60431654676259},\n",
       " 'XGBClassifier Boosting': {'Train': 1.0, 'Test': 0.6040268456375839},\n",
       " 'Gradient Boosting': {'Train': 0.9096045197740112,\n",
       "  'Test': 0.5594405594405595}}"
      ]
     },
     "execution_count": 56,
     "metadata": {},
     "output_type": "execute_result"
    }
   ],
   "source": [
    "scores_f1"
   ]
  },
  {
   "cell_type": "markdown",
   "id": "d3f0044b",
   "metadata": {
    "id": "d3f0044b",
    "papermill": {
     "duration": 0.011808,
     "end_time": "2023-01-31T22:08:28.854224",
     "exception": false,
     "start_time": "2023-01-31T22:08:28.842416",
     "status": "completed"
    },
    "tags": []
   },
   "source": [
    "# Ансамбль для Voting\n",
    "\n",
    "Voting  - один из простейших способов объединения прогнозов, полученных с помощью нескольких алгоритмов машинного обучения.\n",
    "\n",
    "Это работает путем предварительного создания двух или более автономных моделей из вашего обучающего набора данных. Затем классификатор голосования можно использовать для переноса ваших моделей и усреднения прогнозов подмоделей, когда их попросят сделать прогнозы для новых данных.\n",
    "\n",
    "Предсказания подмоделей могут быть взвешены, но задать веса для классификаторов вручную или даже эвристически сложно. Более продвинутые методы позволяют узнать, как наилучшим образом взвешивать прогнозы из подмоделей, но это называется стекированием (stacked generalization) и в настоящее время не предоставляется в Scikit-learn.\n",
    "\n",
    "**Классификатор Voting ** :\n",
    "- `estimators`: Вызов метода `fit` в `VotingClassifier` приведет к подбору клонов тех исходных оценок, которые будут сохранены в атрибуте класса `self.estimators_`.\n",
    "***\n",
    "- `voting`: если \"hard\", использует предсказанные метки классов для голосования по правилу большинства. В противном случае, если \"soft\", спрогнозируйте метку класса на основе argmax сумм предсказанных вероятностей, что рекомендуется для ансамбля хорошо откалиброванных классификаторов.\n",
    "***"
   ]
  },
  {
   "cell_type": "code",
   "execution_count": 57,
   "id": "cc9eeb76",
   "metadata": {
    "execution": {
     "iopub.execute_input": "2023-01-31T22:08:28.881226Z",
     "iopub.status.busy": "2023-01-31T22:08:28.879821Z",
     "iopub.status.idle": "2023-01-31T22:08:28.959618Z",
     "shell.execute_reply": "2023-01-31T22:08:28.958165Z"
    },
    "id": "cc9eeb76",
    "papermill": {
     "duration": 0.09688,
     "end_time": "2023-01-31T22:08:28.963233",
     "exception": false,
     "start_time": "2023-01-31T22:08:28.866353",
     "status": "completed"
    },
    "tags": []
   },
   "outputs": [
    {
     "name": "stdout",
     "output_type": "stream",
     "text": [
      "РЕЗУЛЬТАТЫ ОБУЧЕНИЯ (ОБУЧАЮЩАЯ ВЫБОРКА): \n",
      "===============================\n",
      "МАТРИЦА ОШИБОК (CONFUSION MATRIX):\n",
      "[[330  23]\n",
      " [ 71 113]]\n",
      "ACCURACY ПАРАМЕТР:\n",
      "0.8250\n",
      "PRECISION ПАРАМЕТР:\n",
      "0.8309\n",
      "RECALL ПАРАМЕТР:\n",
      "0.6141\n",
      "F1 МЕРА:\n",
      "0.7063\n",
      "ОТЧЕТ О КЛАССИФИКАЦИИ:\n",
      "               0      1  accuracy  macro avg  weighted avg\n",
      "precision   0.82   0.83      0.82       0.83          0.83\n",
      "recall      0.93   0.61      0.82       0.77          0.82\n",
      "f1-score    0.88   0.71      0.82       0.79          0.82\n",
      "support   353.00 184.00      0.82     537.00        537.00\n",
      "РЕЗУЛЬТАТЫ ТЕСТОВОЙ ВЫБОРКИ: \n",
      "===============================\n",
      "МАТРИЦА ОШИБОК (CONFUSION MATRIX):\n",
      "[[136  11]\n",
      " [ 47  37]]\n",
      "ACCURACY ПАРАМЕТР:\n",
      "0.7489\n",
      "PRECISION ПАРАМЕТР:\n",
      "0.7708\n",
      "RECALL ПАРАМЕТР:\n",
      "0.4405\n",
      "F1 МЕРА:\n",
      "0.5606\n",
      "ОТЧЕТ О КЛАССИФИКАЦИИ:\n",
      "               0     1  accuracy  macro avg  weighted avg\n",
      "precision   0.74  0.77      0.75       0.76          0.75\n",
      "recall      0.93  0.44      0.75       0.68          0.75\n",
      "f1-score    0.82  0.56      0.75       0.69          0.73\n",
      "support   147.00 84.00      0.75     231.00        231.00\n"
     ]
    }
   ],
   "source": [
    "from sklearn.ensemble import VotingClassifier # Похоже Стэккинг\n",
    "from sklearn.linear_model import LogisticRegression\n",
    "from sklearn.svm import SVC\n",
    "\n",
    "estimators = []\n",
    "log_reg = LogisticRegression(solver='liblinear')\n",
    "estimators.append(('Logistic', log_reg))\n",
    "\n",
    "tree = DecisionTreeClassifier()\n",
    "estimators.append(('Tree', tree))\n",
    "\n",
    "svm_clf = SVC(gamma='scale')\n",
    "estimators.append(('SVM', svm_clf))\n",
    "\n",
    "voting = VotingClassifier(estimators=estimators)\n",
    "voting.fit(X_train, y_train)\n",
    "\n",
    "evaluate(voting, X_train, X_test, y_train, y_test)"
   ]
  },
  {
   "cell_type": "code",
   "execution_count": 58,
   "id": "5be32103",
   "metadata": {
    "execution": {
     "iopub.execute_input": "2023-01-31T22:08:28.990153Z",
     "iopub.status.busy": "2023-01-31T22:08:28.989726Z",
     "iopub.status.idle": "2023-01-31T22:08:29.022479Z",
     "shell.execute_reply": "2023-01-31T22:08:29.021340Z"
    },
    "id": "5be32103",
    "papermill": {
     "duration": 0.049169,
     "end_time": "2023-01-31T22:08:29.025100",
     "exception": false,
     "start_time": "2023-01-31T22:08:28.975931",
     "status": "completed"
    },
    "tags": []
   },
   "outputs": [],
   "source": [
    "scores['Voting'] = {\n",
    "        'Train': accuracy_score(y_train, voting.predict(X_train)),\n",
    "        'Test': accuracy_score(y_test, voting.predict(X_test)),\n",
    "    }"
   ]
  },
  {
   "cell_type": "code",
   "execution_count": 59,
   "id": "W1lGig2FVPg2",
   "metadata": {
    "execution": {
     "iopub.execute_input": "2023-01-31T22:08:22.579133Z",
     "iopub.status.busy": "2023-01-31T22:08:22.578681Z",
     "iopub.status.idle": "2023-01-31T22:08:23.086268Z",
     "shell.execute_reply": "2023-01-31T22:08:23.084949Z"
    },
    "id": "W1lGig2FVPg2",
    "papermill": {
     "duration": 0.523687,
     "end_time": "2023-01-31T22:08:23.089393",
     "exception": false,
     "start_time": "2023-01-31T22:08:22.565706",
     "status": "completed"
    },
    "tags": []
   },
   "outputs": [],
   "source": [
    "scores_f1['Voting'] = {\n",
    "        'Train': f1_score(y_train, voting.predict(X_train)),\n",
    "        'Test': f1_score(y_test, voting.predict(X_test)),\n",
    "}"
   ]
  },
  {
   "cell_type": "code",
   "execution_count": 60,
   "id": "4ud_sEEfWnCw",
   "metadata": {
    "id": "4ud_sEEfWnCw"
   },
   "outputs": [
    {
     "data": {
      "text/plain": [
       "{'Bagging Classifier': {'Train': 1.0, 'Test': 0.5793103448275863},\n",
       " 'Random Forest': {'Train': 1.0, 'Test': 0.5797101449275363},\n",
       " 'Extra Tree': {'Train': 1.0, 'Test': 0.5714285714285714},\n",
       " 'AdaBoost': {'Train': 0.6706948640483383, 'Test': 0.5857142857142857},\n",
       " 'CatBoostClassifier Boosting': {'Train': 0.7736389684813754,\n",
       "  'Test': 0.60431654676259},\n",
       " 'XGBClassifier Boosting': {'Train': 1.0, 'Test': 0.6040268456375839},\n",
       " 'Gradient Boosting': {'Train': 0.9096045197740112,\n",
       "  'Test': 0.5594405594405595},\n",
       " 'Voting': {'Train': 0.70625, 'Test': 0.5606060606060606}}"
      ]
     },
     "execution_count": 60,
     "metadata": {},
     "output_type": "execute_result"
    }
   ],
   "source": [
    "scores_f1"
   ]
  },
  {
   "cell_type": "markdown",
   "id": "afba9229",
   "metadata": {
    "id": "afba9229",
    "papermill": {
     "duration": 0.012006,
     "end_time": "2023-01-31T22:08:29.049516",
     "exception": false,
     "start_time": "2023-01-31T22:08:29.037510",
     "status": "completed"
    },
    "tags": []
   },
   "source": [
    "# Сравнение моделей"
   ]
  },
  {
   "cell_type": "code",
   "execution_count": 117,
   "id": "5db618bd",
   "metadata": {
    "execution": {
     "iopub.execute_input": "2023-01-31T22:08:29.076345Z",
     "iopub.status.busy": "2023-01-31T22:08:29.075724Z",
     "iopub.status.idle": "2023-01-31T22:08:29.438682Z",
     "shell.execute_reply": "2023-01-31T22:08:29.437560Z"
    },
    "id": "5db618bd",
    "papermill": {
     "duration": 0.379033,
     "end_time": "2023-01-31T22:08:29.441129",
     "exception": false,
     "start_time": "2023-01-31T22:08:29.062096",
     "status": "completed"
    },
    "tags": []
   },
   "outputs": [
    {
     "data": {
      "text/plain": [
       "<Axes: >"
      ]
     },
     "execution_count": 117,
     "metadata": {},
     "output_type": "execute_result"
    },
    {
     "data": {
      "image/png": "[encoded data removed]",
      "text/plain": [
       "<Figure size 1500x800 with 1 Axes>"
      ]
     },
     "metadata": {},
     "output_type": "display_data"
    }
   ],
   "source": [
    "# Сравнение моделей по Accuracy\n",
    "\n",
    "scores_df = pd.DataFrame(scores)\n",
    "\n",
    "scores_df.plot(kind='barh', figsize=(15, 8))"
   ]
  },
  {
   "cell_type": "code",
   "execution_count": 118,
   "id": "7gwjzuFYWALk",
   "metadata": {
    "id": "7gwjzuFYWALk"
   },
   "outputs": [
    {
     "data": {
      "text/plain": [
       "<Axes: >"
      ]
     },
     "execution_count": 118,
     "metadata": {},
     "output_type": "execute_result"
    },
    {
     "data": {
      "image/png": "[encoded data removed]",
      "text/plain": [
       "<Figure size 1500x800 with 1 Axes>"
      ]
     },
     "metadata": {},
     "output_type": "display_data"
    }
   ],
   "source": [
    "# Сравнение моделей по F1 мере\n",
    "\n",
    "scores_f1_df = pd.DataFrame(scores_f1)\n",
    "\n",
    "scores_f1_df.plot(kind='barh', figsize=(15, 8))"
   ]
  },
  {
   "cell_type": "code",
   "execution_count": 119,
   "id": "OGMH8j8_WPbO",
   "metadata": {
    "id": "OGMH8j8_WPbO"
   },
   "outputs": [
    {
     "data": {
      "text/html": [
       "<div>\n",
       "<style scoped>\n",
       "    .dataframe tbody tr th:only-of-type {\n",
       "        vertical-align: middle;\n",
       "    }\n",
       "\n",
       "    .dataframe tbody tr th {\n",
       "        vertical-align: top;\n",
       "    }\n",
       "\n",
       "    .dataframe thead th {\n",
       "        text-align: right;\n",
       "    }\n",
       "</style>\n",
       "<table border=\"1\" class=\"dataframe\">\n",
       "  <thead>\n",
       "    <tr style=\"text-align: right;\">\n",
       "      <th></th>\n",
       "      <th>Bagging Classifier</th>\n",
       "      <th>Random Forest</th>\n",
       "    </tr>\n",
       "  </thead>\n",
       "  <tbody>\n",
       "    <tr>\n",
       "      <th>Train</th>\n",
       "      <td>0.69</td>\n",
       "      <td>0.63</td>\n",
       "    </tr>\n",
       "    <tr>\n",
       "      <th>Test</th>\n",
       "      <td>0.58</td>\n",
       "      <td>0.52</td>\n",
       "    </tr>\n",
       "  </tbody>\n",
       "</table>\n",
       "</div>"
      ],
      "text/plain": [
       "       Bagging Classifier  Random Forest\n",
       "Train                0.69           0.63\n",
       "Test                 0.58           0.52"
      ]
     },
     "execution_count": 119,
     "metadata": {},
     "output_type": "execute_result"
    }
   ],
   "source": [
    "scores_f1_df"
   ]
  },
  {
   "cell_type": "markdown",
   "id": "684c2c9b",
   "metadata": {
    "id": "684c2c9b",
    "papermill": {
     "duration": 0.01271,
     "end_time": "2023-01-31T22:08:29.467016",
     "exception": false,
     "start_time": "2023-01-31T22:08:29.454306",
     "status": "completed"
    },
    "tags": []
   },
   "source": [
    "## Краткое описание\n",
    "В этом блокноте сравнили для себя алгоритмы ансамблевого машинного обучения  для повышения производительности моделей в  задаче определения диабета.\n",
    "\n",
    "Вы узнали о:\n",
    "\n",
    "1. Bagging Ensembles, включая Bagged Decision Trees, Random Forest, и Extra Trees.\n",
    "2. Boosting Ensembles, включая AdaBoost и Stochastic Gradient Boosting.\n",
    "3. Voting Ensembles для усреднения прогнозов для любых произвольных моделей.\n",
    "\n",
    "## Ссылки:\n",
    "- [Ансамбли в машинном обучении. ШАД](https://academy.yandex.ru/handbook/ml/article/ansambli-v-mashinnom-obuchenii)\n",
    "- [Градиентный бустинг. ШАД](https://academy.yandex.ru/handbook/ml/article/gradientnyj-busting)\n",
    "- [Алгоритмы пакетирования и случайного лесного ансамбля для машинного Learning](https://machinelearningmastery.com/bagging-and-random-forest-ensemble-algorithms-for-machine-learning/)\n",
    "- [Ансамблевые алгоритмы машинного обучения на Python с scikit-learn](https://machinelearningmastery.com/ensemble-machine-learning-algorithms-python-scikit-learn/)\n",
    "[Библиотека Scikit-learn](https://scikit-learn.org/stable /)\n"
   ]
  }
 ],
 "metadata": {
  "colab": {
   "provenance": []
  },
  "kernelspec": {
   "display_name": "Python 3 (ipykernel)",
   "language": "python",
   "name": "python3"
  },
  "language_info": {
   "codemirror_mode": {
    "name": "ipython",
    "version": 3
   },
   "file_extension": ".py",
   "mimetype": "text/x-python",
   "name": "python",
   "nbconvert_exporter": "python",
   "pygments_lexer": "ipython3",
   "version": "3.12.9"
  },
  "papermill": {
   "default_parameters": {},
   "duration": 23.963558,
   "end_time": "2023-01-31T22:08:30.328073",
   "environment_variables": {},
   "exception": null,
   "input_path": "__notebook__.ipynb",
   "output_path": "__notebook__.ipynb",
   "parameters": {},
   "start_time": "2023-01-31T22:08:06.364515",
   "version": "2.3.4"
  }
 },
 "nbformat": 4,
 "nbformat_minor": 5
}
