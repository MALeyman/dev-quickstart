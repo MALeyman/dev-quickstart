{
 "cells": [
  {
   "cell_type": "markdown",
   "id": "d3a0fbe4",
   "metadata": {},
   "source": [
    "# Pytorch  \n",
    "\n",
    "#### Работа с Pytorch"
   ]
  },
  {
   "cell_type": "markdown",
   "id": "aa19c1b7",
   "metadata": {},
   "source": [
    "## Установка  \n",
    "\n",
    "https://pytorch.org/ \n",
    "\n",
    "```sh\n",
    "pip3 install torch torchvision torchaudio\n",
    "```"
   ]
  },
  {
   "cell_type": "markdown",
   "id": "7d7797da",
   "metadata": {},
   "source": [
    "## Проверка версии  \n"
   ]
  },
  {
   "cell_type": "code",
   "execution_count": null,
   "id": "05c77925",
   "metadata": {},
   "outputs": [
    {
     "name": "stdout",
     "output_type": "stream",
     "text": [
      "Name: torch\n",
      "Version: 2.7.1\n",
      "Summary: Tensors and Dynamic neural networks in Python with strong GPU acceleration\n",
      "Home-page: https://pytorch.org/\n",
      "Author: PyTorch Team\n",
      "Author-email: packages@pytorch.org\n",
      "License: BSD-3-Clause\n",
      "Location: /home/maksim/miniconda3/envs/condaenv/lib/python3.12/site-packages\n",
      "Requires: filelock, fsspec, jinja2, networkx, nvidia-cublas-cu12, nvidia-cuda-cupti-cu12, nvidia-cuda-nvrtc-cu12, nvidia-cuda-runtime-cu12, nvidia-cudnn-cu12, nvidia-cufft-cu12, nvidia-cufile-cu12, nvidia-curand-cu12, nvidia-cusolver-cu12, nvidia-cusparse-cu12, nvidia-cusparselt-cu12, nvidia-nccl-cu12, nvidia-nvjitlink-cu12, nvidia-nvtx-cu12, setuptools, sympy, triton, typing-extensions\n",
      "Required-by: torchaudio, torchvision\n"
     ]
    }
   ],
   "source": [
    "# через команду pip\n",
    "!pip show torch"
   ]
  },
  {
   "cell_type": "code",
   "execution_count": 5,
   "id": "545c5e13",
   "metadata": {},
   "outputs": [
    {
     "name": "stdout",
     "output_type": "stream",
     "text": [
      "torch                       2.7.1            pypi_0           pypi\n",
      "torchaudio                  2.7.1            pypi_0           pypi\n",
      "torchvision                 0.22.1           pypi_0           pypi\n"
     ]
    }
   ],
   "source": [
    "# Через conda\n",
    "!conda list | grep torch"
   ]
  },
  {
   "cell_type": "code",
   "execution_count": 1,
   "id": "35f20289",
   "metadata": {},
   "outputs": [
    {
     "name": "stdout",
     "output_type": "stream",
     "text": [
      "2.7.1+cu126\n"
     ]
    }
   ],
   "source": [
    "# Через python код\n",
    "import torch\n",
    "print(torch.__version__)\n"
   ]
  },
  {
   "cell_type": "markdown",
   "id": "70749e7f",
   "metadata": {},
   "source": [
    "## Информация о cuda используемой PyTorch"
   ]
  },
  {
   "cell_type": "code",
   "execution_count": 6,
   "id": "c253d74c",
   "metadata": {},
   "outputs": [
    {
     "name": "stdout",
     "output_type": "stream",
     "text": [
      "12.6\n",
      "True\n",
      "0\n",
      "NVIDIA GeForce RTX 3060\n"
     ]
    }
   ],
   "source": [
    "import torch\n",
    "print(torch.version.cuda)          # версия CUDA, с которой собран PyTorch\n",
    "print(torch.cuda.is_available())   # доступна ли CUDA на вашем устройстве (True/False)\n",
    "print(torch.cuda.current_device()) # номер текущего CUDA-устройства\n",
    "print(torch.cuda.get_device_name(0)) # имя первого CUDA-устройства\n",
    "\n"
   ]
  },
  {
   "cell_type": "code",
   "execution_count": null,
   "id": "939cf0da",
   "metadata": {},
   "outputs": [],
   "source": []
  },
  {
   "cell_type": "markdown",
   "id": "b34b044d",
   "metadata": {},
   "source": [
    "## работа с Pytorch"
   ]
  },
  {
   "cell_type": "code",
   "execution_count": 74,
   "id": "9df9acec",
   "metadata": {},
   "outputs": [
    {
     "name": "stdout",
     "output_type": "stream",
     "text": [
      "tensor([1., 2., 3.])\n"
     ]
    }
   ],
   "source": [
    "# создание тензора\n",
    "import torch\n",
    "x = torch.tensor([1.0, 2.0, 3.0])\n",
    "print(x)\n"
   ]
  },
  {
   "cell_type": "code",
   "execution_count": 75,
   "id": "dfe6c6a0",
   "metadata": {},
   "outputs": [
    {
     "name": "stdout",
     "output_type": "stream",
     "text": [
      "Tensor is on device: cuda:0\n"
     ]
    }
   ],
   "source": [
    "# для работы с GPU\n",
    "if torch.cuda.is_available():\n",
    "    device = torch.device(\"cuda\")\n",
    "    x = x.to(device)\n",
    "    print(f\"Tensor is on device: {x.device}\")\n",
    "else:\n",
    "    print(\"CUDA is not available.\")\n"
   ]
  },
  {
   "cell_type": "markdown",
   "id": "2ddcb66e",
   "metadata": {},
   "source": [
    "### Создание тензоров"
   ]
  },
  {
   "cell_type": "code",
   "execution_count": null,
   "id": "5d69ff22",
   "metadata": {},
   "outputs": [],
   "source": [
    "import torch\n",
    "\n",
    "# Создание тензора из списка\n",
    "tensor = torch.tensor([[1, 2], [3, 4]])\n",
    "print(tensor)\n",
    "\n",
    "# Тензор из нулей\n",
    "zeros = torch.zeros(3, 4)\n",
    "print(zeros)\n",
    "\n",
    "# Тензор из единиц\n",
    "ones = torch.ones(2, 3)\n",
    "print(ones)\n",
    "\n",
    "# Тензор с равномерно распределёнными значениями\n",
    "linspace = torch.linspace(0, 1, steps=5)\n",
    "print(linspace)\n",
    "\n",
    "# Одномерный тензор с диапазоном значений\n",
    "arange = torch.arange(0, 10, step=2)\n",
    "print(arange)\n"
   ]
  },
  {
   "cell_type": "markdown",
   "id": "c3f12c59",
   "metadata": {},
   "source": [
    "### операции"
   ]
  },
  {
   "cell_type": "code",
   "execution_count": 76,
   "id": "5c48fe69",
   "metadata": {},
   "outputs": [
    {
     "name": "stdout",
     "output_type": "stream",
     "text": [
      "tensor([5, 7, 9])\n",
      "tensor([ 4, 10, 18])\n",
      "tensor([4.0000, 2.5000, 2.0000])\n",
      "tensor([6, 7, 8])\n",
      "tensor([2, 4, 6])\n",
      "tensor(2)\n",
      "tensor([[2, 3],\n",
      "        [5, 6]])\n"
     ]
    }
   ],
   "source": [
    "# Арифметические операции поэлементно:\n",
    "a = torch.tensor([1, 2, 3])\n",
    "b = torch.tensor([4, 5, 6])\n",
    "\n",
    "print(a + b)  # tensor([5, 7, 9])\n",
    "print(a * b)  # tensor([4, 10, 18])\n",
    "print(b / a)  # tensor([4.0000, 2.5000, 2.0000])\n",
    "\n",
    "# Операции с числами (скалярами):\n",
    "c = torch.tensor([1, 2, 3])\n",
    "print(c + 5)  # tensor([6, 7, 8])\n",
    "print(c * 2)  # tensor([2, 4, 6])\n",
    "\n",
    "# Индексирование и срезы работают как в numpy:\n",
    "x = torch.tensor([[1, 2, 3], [4, 5, 6]])\n",
    "print(x[0, 1])    # 2\n",
    "print(x[:, 1:3])  # все строки, столбцы с 1 по 2\n",
    "\n",
    "\n"
   ]
  },
  {
   "cell_type": "markdown",
   "id": "03b8672a",
   "metadata": {},
   "source": [
    "### создание тензора, вычисление градиента и перенос на GPU"
   ]
  },
  {
   "cell_type": "code",
   "execution_count": 77,
   "id": "58a5e997",
   "metadata": {},
   "outputs": [
    {
     "name": "stdout",
     "output_type": "stream",
     "text": [
      "tensor([7., 9.])\n",
      "cuda:0\n"
     ]
    }
   ],
   "source": [
    "import torch\n",
    "\n",
    "# Создаем тензор с включенным отслеживанием градиентов\n",
    "x = torch.tensor([2.0, 3.0], requires_grad=True)\n",
    "\n",
    "# Выполняем операцию\n",
    "y = x ** 2 + 3 * x + 1\n",
    "\n",
    "# Считаем сумму для удобства\n",
    "z = y.sum()\n",
    "\n",
    "# Вычисляем градиенты\n",
    "z.backward()\n",
    "\n",
    "print(x.grad)  # tensor([7., 9.]) — производные по x\n",
    "\n",
    "# Перенос на GPU (если доступен)\n",
    "if torch.cuda.is_available():\n",
    "    x_gpu = x.to('cuda')\n",
    "    print(x_gpu.device)  # cuda:0\n"
   ]
  },
  {
   "cell_type": "code",
   "execution_count": 79,
   "id": "855c40f5",
   "metadata": {},
   "outputs": [],
   "source": [
    "''' \n",
    "y = x ** 2  # y — тензор с несколькими элементами\n",
    "y.backward()  # вызовет ошибку\n",
    "'''\n",
    "\n",
    "y = x ** 2\n",
    "y.sum().backward()  # теперь y — скаляр, ошибка исчезнет"
   ]
  },
  {
   "cell_type": "code",
   "execution_count": null,
   "id": "69793144",
   "metadata": {},
   "outputs": [],
   "source": [
    "y = x ** 2\n",
    "y.backward(torch.ones_like(y))  # явно передаем градиенты  \n"
   ]
  },
  {
   "cell_type": "code",
   "execution_count": null,
   "id": "df46f9a8",
   "metadata": {},
   "outputs": [],
   "source": [
    "# Если два раза вызвать y.backward(torch.ones_like(y))  будет ошибка\n",
    "''' \n",
    "y.backward(torch.ones_like(y)) \n",
    "y.backward(torch.ones_like(y)) \n",
    "'''\n",
    "# По умолчанию, после вызова .backward(), вычислительный граф, который PyTorch строит для отслеживания операций и вычисления градиентов, удаляется."
   ]
  },
  {
   "cell_type": "code",
   "execution_count": 82,
   "id": "59c4a33c",
   "metadata": {},
   "outputs": [
    {
     "name": "stdout",
     "output_type": "stream",
     "text": [
      "Градиенты после первого backward: tensor([2., 2., 2.])\n",
      "Градиенты после второго backward: tensor([2., 2., 2.])\n"
     ]
    }
   ],
   "source": [
    "import torch\n",
    "\n",
    "x = torch.tensor([1.0, 2.0, 3.0], requires_grad=True)\n",
    "y = x * 2\n",
    "\n",
    "# Первый вызов: сохраняем граф\n",
    "y.backward(torch.ones_like(y), retain_graph=True)\n",
    "print(\"Градиенты после первого backward:\", x.grad)\n",
    "\n",
    "# Сбрасываем градиенты (важно, чтобы не накапливались)\n",
    "x.grad.zero_()\n",
    "\n",
    "# Второй вызов: используем сохраненный граф\n",
    "y.backward(torch.ones_like(y)) # retain_graph=True здесь не обязательно, если это последний вызов\n",
    "print(\"Градиенты после второго backward:\", x.grad)\n"
   ]
  },
  {
   "cell_type": "code",
   "execution_count": null,
   "id": "77694af3",
   "metadata": {},
   "outputs": [],
   "source": []
  },
  {
   "cell_type": "code",
   "execution_count": null,
   "id": "6438c8c4",
   "metadata": {},
   "outputs": [],
   "source": []
  },
  {
   "cell_type": "code",
   "execution_count": null,
   "id": "0b934355",
   "metadata": {},
   "outputs": [],
   "source": []
  }
 ],
 "metadata": {
  "kernelspec": {
   "display_name": "Python 3",
   "language": "python",
   "name": "python3"
  },
  "language_info": {
   "codemirror_mode": {
    "name": "ipython",
    "version": 3
   },
   "file_extension": ".py",
   "mimetype": "text/x-python",
   "name": "python",
   "nbconvert_exporter": "python",
   "pygments_lexer": "ipython3",
   "version": "3.12.11"
  }
 },
 "nbformat": 4,
 "nbformat_minor": 5
}
