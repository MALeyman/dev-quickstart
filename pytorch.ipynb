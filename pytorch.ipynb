{
 "cells": [
  {
   "cell_type": "markdown",
   "id": "d3a0fbe4",
   "metadata": {},
   "source": [
    "# Pytorch  \n",
    "\n",
    "#### Работа с Pytorch"
   ]
  },
  {
   "cell_type": "markdown",
   "id": "aa19c1b7",
   "metadata": {},
   "source": [
    "## Установка  \n",
    "\n",
    "https://pytorch.org/ \n",
    "\n",
    "```sh\n",
    "pip3 install torch torchvision torchaudio\n",
    "```"
   ]
  },
  {
   "cell_type": "markdown",
   "id": "7d7797da",
   "metadata": {},
   "source": [
    "## Проверка версии  \n"
   ]
  },
  {
   "cell_type": "code",
   "execution_count": null,
   "id": "05c77925",
   "metadata": {},
   "outputs": [
    {
     "name": "stdout",
     "output_type": "stream",
     "text": [
      "Name: torch\n",
      "Version: 2.7.1\n",
      "Summary: Tensors and Dynamic neural networks in Python with strong GPU acceleration\n",
      "Home-page: https://pytorch.org/\n",
      "Author: PyTorch Team\n",
      "Author-email: packages@pytorch.org\n",
      "License: BSD-3-Clause\n",
      "Location: /home/maksim/miniconda3/envs/condaenv/lib/python3.12/site-packages\n",
      "Requires: filelock, fsspec, jinja2, networkx, nvidia-cublas-cu12, nvidia-cuda-cupti-cu12, nvidia-cuda-nvrtc-cu12, nvidia-cuda-runtime-cu12, nvidia-cudnn-cu12, nvidia-cufft-cu12, nvidia-cufile-cu12, nvidia-curand-cu12, nvidia-cusolver-cu12, nvidia-cusparse-cu12, nvidia-cusparselt-cu12, nvidia-nccl-cu12, nvidia-nvjitlink-cu12, nvidia-nvtx-cu12, setuptools, sympy, triton, typing-extensions\n",
      "Required-by: torchaudio, torchvision\n"
     ]
    }
   ],
   "source": [
    "# через команду pip\n",
    "!pip show torch"
   ]
  },
  {
   "cell_type": "code",
   "execution_count": 5,
   "id": "545c5e13",
   "metadata": {},
   "outputs": [
    {
     "name": "stdout",
     "output_type": "stream",
     "text": [
      "torch                       2.7.1            pypi_0           pypi\n",
      "torchaudio                  2.7.1            pypi_0           pypi\n",
      "torchvision                 0.22.1           pypi_0           pypi\n"
     ]
    }
   ],
   "source": [
    "# Через conda\n",
    "!conda list | grep torch"
   ]
  },
  {
   "cell_type": "code",
   "execution_count": 1,
   "id": "35f20289",
   "metadata": {},
   "outputs": [
    {
     "name": "stdout",
     "output_type": "stream",
     "text": [
      "2.7.1+cu126\n"
     ]
    }
   ],
   "source": [
    "# Через python код\n",
    "import torch\n",
    "print(torch.__version__)\n"
   ]
  },
  {
   "cell_type": "markdown",
   "id": "70749e7f",
   "metadata": {},
   "source": [
    "## Информация о cuda используемой PyTorch"
   ]
  },
  {
   "cell_type": "code",
   "execution_count": 6,
   "id": "c253d74c",
   "metadata": {},
   "outputs": [
    {
     "name": "stdout",
     "output_type": "stream",
     "text": [
      "12.6\n",
      "True\n",
      "0\n",
      "NVIDIA GeForce RTX 3060\n"
     ]
    }
   ],
   "source": [
    "import torch\n",
    "print(torch.version.cuda)          # версия CUDA, с которой собран PyTorch\n",
    "print(torch.cuda.is_available())   # доступна ли CUDA на вашем устройстве (True/False)\n",
    "print(torch.cuda.current_device()) # номер текущего CUDA-устройства\n",
    "print(torch.cuda.get_device_name(0)) # имя первого CUDA-устройства\n",
    "\n"
   ]
  },
  {
   "cell_type": "code",
   "execution_count": null,
   "id": "939cf0da",
   "metadata": {},
   "outputs": [],
   "source": []
  },
  {
   "cell_type": "code",
   "execution_count": null,
   "id": "9df9acec",
   "metadata": {},
   "outputs": [],
   "source": []
  },
  {
   "cell_type": "code",
   "execution_count": null,
   "id": "dfe6c6a0",
   "metadata": {},
   "outputs": [],
   "source": []
  },
  {
   "cell_type": "code",
   "execution_count": null,
   "id": "5d69ff22",
   "metadata": {},
   "outputs": [],
   "source": []
  },
  {
   "cell_type": "code",
   "execution_count": null,
   "id": "5c48fe69",
   "metadata": {},
   "outputs": [],
   "source": []
  }
 ],
 "metadata": {
  "kernelspec": {
   "display_name": "condaenv",
   "language": "python",
   "name": "python3"
  },
  "language_info": {
   "codemirror_mode": {
    "name": "ipython",
    "version": 3
   },
   "file_extension": ".py",
   "mimetype": "text/x-python",
   "name": "python",
   "nbconvert_exporter": "python",
   "pygments_lexer": "ipython3",
   "version": "3.12.11"
  }
 },
 "nbformat": 4,
 "nbformat_minor": 5
}
