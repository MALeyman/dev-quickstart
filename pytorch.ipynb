{
 "cells": [
  {
   "cell_type": "markdown",
   "id": "d3a0fbe4",
   "metadata": {},
   "source": [
    "# Pytorch  \n",
    "\n",
    "#### Работа с Pytorch"
   ]
  },
  {
   "cell_type": "markdown",
   "id": "aa19c1b7",
   "metadata": {},
   "source": [
    "## Установка  \n",
    "\n",
    "https://pytorch.org/ \n",
    "\n",
    "```sh\n",
    "pip3 install torch torchvision torchaudio\n",
    "```"
   ]
  },
  {
   "cell_type": "markdown",
   "id": "7d7797da",
   "metadata": {},
   "source": [
    "## Проверка версии  \n"
   ]
  },
  {
   "cell_type": "code",
   "execution_count": null,
   "id": "05c77925",
   "metadata": {},
   "outputs": [
    {
     "name": "stdout",
     "output_type": "stream",
     "text": [
      "Name: torch\n",
      "Version: 2.7.1\n",
      "Summary: Tensors and Dynamic neural networks in Python with strong GPU acceleration\n",
      "Home-page: https://pytorch.org/\n",
      "Author: PyTorch Team\n",
      "Author-email: packages@pytorch.org\n",
      "License: BSD-3-Clause\n",
      "Location: /home/maksim/miniconda3/envs/condaenv/lib/python3.12/site-packages\n",
      "Requires: filelock, fsspec, jinja2, networkx, nvidia-cublas-cu12, nvidia-cuda-cupti-cu12, nvidia-cuda-nvrtc-cu12, nvidia-cuda-runtime-cu12, nvidia-cudnn-cu12, nvidia-cufft-cu12, nvidia-cufile-cu12, nvidia-curand-cu12, nvidia-cusolver-cu12, nvidia-cusparse-cu12, nvidia-cusparselt-cu12, nvidia-nccl-cu12, nvidia-nvjitlink-cu12, nvidia-nvtx-cu12, setuptools, sympy, triton, typing-extensions\n",
      "Required-by: torchaudio, torchvision\n"
     ]
    }
   ],
   "source": [
    "# через команду pip\n",
    "!pip show torch"
   ]
  },
  {
   "cell_type": "code",
   "execution_count": 5,
   "id": "545c5e13",
   "metadata": {},
   "outputs": [
    {
     "name": "stdout",
     "output_type": "stream",
     "text": [
      "torch                       2.7.1            pypi_0           pypi\n",
      "torchaudio                  2.7.1            pypi_0           pypi\n",
      "torchvision                 0.22.1           pypi_0           pypi\n"
     ]
    }
   ],
   "source": [
    "# Через conda\n",
    "!conda list | grep torch"
   ]
  },
  {
   "cell_type": "code",
   "execution_count": 1,
   "id": "35f20289",
   "metadata": {},
   "outputs": [
    {
     "name": "stdout",
     "output_type": "stream",
     "text": [
      "2.7.1+cu126\n"
     ]
    }
   ],
   "source": [
    "# Через python код\n",
    "import torch\n",
    "print(torch.__version__)\n"
   ]
  },
  {
   "cell_type": "markdown",
   "id": "70749e7f",
   "metadata": {},
   "source": [
    "## Информация о cuda используемой PyTorch"
   ]
  },
  {
   "cell_type": "code",
   "execution_count": 6,
   "id": "c253d74c",
   "metadata": {},
   "outputs": [
    {
     "name": "stdout",
     "output_type": "stream",
     "text": [
      "12.6\n",
      "True\n",
      "0\n",
      "NVIDIA GeForce RTX 3060\n"
     ]
    }
   ],
   "source": [
    "import torch\n",
    "print(torch.version.cuda)          # версия CUDA, с которой собран PyTorch\n",
    "print(torch.cuda.is_available())   # доступна ли CUDA на вашем устройстве (True/False)\n",
    "print(torch.cuda.current_device()) # номер текущего CUDA-устройства\n",
    "print(torch.cuda.get_device_name(0)) # имя первого CUDA-устройства\n",
    "\n"
   ]
  },
  {
<<<<<<< HEAD
=======
   "cell_type": "markdown",
   "id": "0631ebb9",
   "metadata": {},
   "source": [
    "## Инструкция начала работы"
   ]
  },
  {
>>>>>>> b493197 (Github)
   "cell_type": "code",
   "execution_count": null,
   "id": "939cf0da",
   "metadata": {},
<<<<<<< HEAD
   "outputs": [],
   "source": []
=======
   "outputs": [
    {
     "name": "stdout",
     "output_type": "stream",
     "text": [
      "tensor([1., 2., 3.])\n"
     ]
    }
   ],
   "source": [
    "# Создание тензора\n",
    "import torch\n",
    "x = torch.tensor([1.0, 2.0, 3.0])\n",
    "print(x)\n"
   ]
>>>>>>> b493197 (Github)
  },
  {
   "cell_type": "code",
   "execution_count": null,
   "id": "9df9acec",
   "metadata": {},
<<<<<<< HEAD
   "outputs": [],
   "source": []
  },
  {
   "cell_type": "code",
   "execution_count": null,
   "id": "dfe6c6a0",
   "metadata": {},
   "outputs": [],
   "source": []
=======
   "outputs": [
    {
     "name": "stdout",
     "output_type": "stream",
     "text": [
      "Tensor is on device: cuda:0\n"
     ]
    }
   ],
   "source": [
    "# работа с GPU\n",
    "if torch.cuda.is_available():\n",
    "    device = torch.device(\"cuda\")\n",
    "    x = x.to(device)\n",
    "    print(f\"Tensor is on device: {x.device}\")\n",
    "else:\n",
    "    print(\"CUDA is not available.\")\n"
   ]
  },
  {
   "cell_type": "markdown",
   "id": "e449ed28",
   "metadata": {},
   "source": [
    "### Создание тензоров"
   ]
  },
  {
   "cell_type": "code",
   "execution_count": 9,
   "id": "dfe6c6a0",
   "metadata": {},
   "outputs": [
    {
     "name": "stdout",
     "output_type": "stream",
     "text": [
      "tensor([[1, 2],\n",
      "        [3, 4]])\n",
      "tensor([[0., 0., 0., 0.],\n",
      "        [0., 0., 0., 0.],\n",
      "        [0., 0., 0., 0.]])\n",
      "tensor([[1., 1., 1.],\n",
      "        [1., 1., 1.]])\n",
      "tensor([0.0000, 0.2500, 0.5000, 0.7500, 1.0000])\n",
      "tensor([0, 2, 4, 6, 8])\n"
     ]
    }
   ],
   "source": [
    "import torch\n",
    "\n",
    "# Создание тензора из списка\n",
    "tensor = torch.tensor([[1, 2], [3, 4]])\n",
    "print(tensor)\n",
    "\n",
    "# Тензор из нулей\n",
    "zeros = torch.zeros(3, 4)\n",
    "print(zeros)\n",
    "\n",
    "# Тензор из единиц\n",
    "ones = torch.ones(2, 3)\n",
    "print(ones)\n",
    "\n",
    "# Тензор с равномерно распределёнными значениями\n",
    "linspace = torch.linspace(0, 1, steps=5)\n",
    "print(linspace)\n",
    "\n",
    "# Одномерный тензор с диапазоном значений\n",
    "arange = torch.arange(0, 10, step=2)\n",
    "print(arange)\n"
   ]
  },
  {
   "cell_type": "markdown",
   "id": "0bd9dd5d",
   "metadata": {},
   "source": [
    "### Арифметические операции"
   ]
>>>>>>> b493197 (Github)
  },
  {
   "cell_type": "code",
   "execution_count": null,
   "id": "5d69ff22",
   "metadata": {},
<<<<<<< HEAD
=======
   "outputs": [
    {
     "name": "stdout",
     "output_type": "stream",
     "text": [
      "tensor([5, 7, 9])\n",
      "tensor([ 4, 10, 18])\n",
      "tensor([4.0000, 2.5000, 2.0000])\n"
     ]
    }
   ],
   "source": [
    "# Арифметические операции поэлементно:\n",
    "a = torch.tensor([1, 2, 3])\n",
    "b = torch.tensor([4, 5, 6])\n",
    "\n",
    "print(a + b)  # tensor([5, 7, 9])\n",
    "print(a * b)  # tensor([4, 10, 18])\n",
    "print(b / a)  # tensor([4.0000, 2.5000, 2.0000])\n"
   ]
  },
  {
   "cell_type": "code",
   "execution_count": 11,
   "id": "5c48fe69",
   "metadata": {},
   "outputs": [
    {
     "name": "stdout",
     "output_type": "stream",
     "text": [
      "tensor([6, 7, 8])\n",
      "tensor([2, 4, 6])\n"
     ]
    }
   ],
   "source": [
    "# Операции с числами (скалярами):\n",
    "c = torch.tensor([1, 2, 3])\n",
    "print(c + 5)  # tensor([6, 7, 8])\n",
    "print(c * 2)  # tensor([2, 4, 6])\n",
    "\n"
   ]
  },
  {
   "cell_type": "code",
   "execution_count": 12,
   "id": "26b9117f",
   "metadata": {},
   "outputs": [
    {
     "name": "stdout",
     "output_type": "stream",
     "text": [
      "tensor(2)\n",
      "tensor([[2, 3],\n",
      "        [5, 6]])\n"
     ]
    }
   ],
   "source": [
    "# Индексирование и срезы работают как в numpy:\n",
    "x = torch.tensor([[1, 2, 3], [4, 5, 6]])\n",
    "print(x[0, 1])    # 2\n",
    "print(x[:, 1:3])  # все строки, столбцы с 1 по 2\n",
    "\n"
   ]
  },
  {
   "cell_type": "code",
   "execution_count": 29,
   "id": "70a8e99e",
   "metadata": {},
   "outputs": [
    {
     "name": "stdout",
     "output_type": "stream",
     "text": [
      "tensor([7., 9.])\n",
      "cuda:0\n"
     ]
    }
   ],
   "source": [
    "# создание тензора, вычисление градиента и перенос на GPU\n",
    "import torch\n",
    "\n",
    "# Создаем тензор с включенным отслеживанием градиентов\n",
    "x = torch.tensor([2.0, 3.0], requires_grad=True)\n",
    "\n",
    "# Выполняем операцию\n",
    "y = x ** 2 + 3 * x + 1\n",
    "\n",
    "# Считаем сумму для удобства\n",
    "z = y.sum()\n",
    "\n",
    "# Вычисляем градиенты\n",
    "z.backward()\n",
    "\n",
    "print(x.grad)  # tensor([7., 9.]) — производные по x\n",
    "\n",
    "# Перенос на GPU (если доступен)\n",
    "if torch.cuda.is_available():\n",
    "    x_gpu = x.to('cuda')\n",
    "    print(x_gpu.device)  # cuda:0\n",
    "\n"
   ]
  },
  {
   "cell_type": "code",
   "execution_count": null,
   "id": "0dd8a7ce",
   "metadata": {},
   "outputs": [
    {
     "ename": "RuntimeError",
     "evalue": "grad can be implicitly created only for scalar outputs",
     "output_type": "error",
     "traceback": [
      "\u001b[31m---------------------------------------------------------------------------\u001b[39m",
      "\u001b[31mRuntimeError\u001b[39m                              Traceback (most recent call last)",
      "\u001b[36mCell\u001b[39m\u001b[36m \u001b[39m\u001b[32mIn[28]\u001b[39m\u001b[32m, line 3\u001b[39m\n\u001b[32m      1\u001b[39m \u001b[38;5;66;03m# ТАК БУДЕТ ОШИБКА\u001b[39;00m\n\u001b[32m      2\u001b[39m y = x ** \u001b[32m2\u001b[39m + \u001b[32m3\u001b[39m * x + \u001b[32m1\u001b[39m\n\u001b[32m----> \u001b[39m\u001b[32m3\u001b[39m y.backward()\n",
      "\u001b[36mFile \u001b[39m\u001b[32m~/miniconda3/envs/condaenv/lib/python3.12/site-packages/torch/_tensor.py:648\u001b[39m, in \u001b[36mTensor.backward\u001b[39m\u001b[34m(self, gradient, retain_graph, create_graph, inputs)\u001b[39m\n\u001b[32m    638\u001b[39m \u001b[38;5;28;01mif\u001b[39;00m has_torch_function_unary(\u001b[38;5;28mself\u001b[39m):\n\u001b[32m    639\u001b[39m     \u001b[38;5;28;01mreturn\u001b[39;00m handle_torch_function(\n\u001b[32m    640\u001b[39m         Tensor.backward,\n\u001b[32m    641\u001b[39m         (\u001b[38;5;28mself\u001b[39m,),\n\u001b[32m   (...)\u001b[39m\u001b[32m    646\u001b[39m         inputs=inputs,\n\u001b[32m    647\u001b[39m     )\n\u001b[32m--> \u001b[39m\u001b[32m648\u001b[39m torch.autograd.backward(\n\u001b[32m    649\u001b[39m     \u001b[38;5;28mself\u001b[39m, gradient, retain_graph, create_graph, inputs=inputs\n\u001b[32m    650\u001b[39m )\n",
      "\u001b[36mFile \u001b[39m\u001b[32m~/miniconda3/envs/condaenv/lib/python3.12/site-packages/torch/autograd/__init__.py:346\u001b[39m, in \u001b[36mbackward\u001b[39m\u001b[34m(tensors, grad_tensors, retain_graph, create_graph, grad_variables, inputs)\u001b[39m\n\u001b[32m    337\u001b[39m inputs = (\n\u001b[32m    338\u001b[39m     (inputs,)\n\u001b[32m    339\u001b[39m     \u001b[38;5;28;01mif\u001b[39;00m \u001b[38;5;28misinstance\u001b[39m(inputs, (torch.Tensor, graph.GradientEdge))\n\u001b[32m   (...)\u001b[39m\u001b[32m    342\u001b[39m     \u001b[38;5;28;01melse\u001b[39;00m ()\n\u001b[32m    343\u001b[39m )\n\u001b[32m    345\u001b[39m grad_tensors_ = _tensor_or_tensors_to_tuple(grad_tensors, \u001b[38;5;28mlen\u001b[39m(tensors))\n\u001b[32m--> \u001b[39m\u001b[32m346\u001b[39m grad_tensors_ = _make_grads(tensors, grad_tensors_, is_grads_batched=\u001b[38;5;28;01mFalse\u001b[39;00m)\n\u001b[32m    347\u001b[39m \u001b[38;5;28;01mif\u001b[39;00m retain_graph \u001b[38;5;129;01mis\u001b[39;00m \u001b[38;5;28;01mNone\u001b[39;00m:\n\u001b[32m    348\u001b[39m     retain_graph = create_graph\n",
      "\u001b[36mFile \u001b[39m\u001b[32m~/miniconda3/envs/condaenv/lib/python3.12/site-packages/torch/autograd/__init__.py:199\u001b[39m, in \u001b[36m_make_grads\u001b[39m\u001b[34m(outputs, grads, is_grads_batched)\u001b[39m\n\u001b[32m    197\u001b[39m     out_numel_is_1 = out.numel() == \u001b[32m1\u001b[39m\n\u001b[32m    198\u001b[39m \u001b[38;5;28;01mif\u001b[39;00m \u001b[38;5;129;01mnot\u001b[39;00m out_numel_is_1:\n\u001b[32m--> \u001b[39m\u001b[32m199\u001b[39m     \u001b[38;5;28;01mraise\u001b[39;00m \u001b[38;5;167;01mRuntimeError\u001b[39;00m(\n\u001b[32m    200\u001b[39m         \u001b[33m\"\u001b[39m\u001b[33mgrad can be implicitly created only for scalar outputs\u001b[39m\u001b[33m\"\u001b[39m\n\u001b[32m    201\u001b[39m     )\n\u001b[32m    202\u001b[39m \u001b[38;5;28;01mif\u001b[39;00m \u001b[38;5;129;01mnot\u001b[39;00m out_dtype.is_floating_point:\n\u001b[32m    203\u001b[39m     msg = (\n\u001b[32m    204\u001b[39m         \u001b[33m\"\u001b[39m\u001b[33mgrad can be implicitly created only for real scalar outputs\u001b[39m\u001b[33m\"\u001b[39m\n\u001b[32m    205\u001b[39m         \u001b[33mf\u001b[39m\u001b[33m\"\u001b[39m\u001b[33m but got \u001b[39m\u001b[38;5;132;01m{\u001b[39;00mout_dtype\u001b[38;5;132;01m}\u001b[39;00m\u001b[33m\"\u001b[39m\n\u001b[32m    206\u001b[39m     )\n",
      "\u001b[31mRuntimeError\u001b[39m: grad can be implicitly created only for scalar outputs"
     ]
    }
   ],
   "source": [
    "# ТАК БУДЕТ ОШИБКА  так как градиент вычисляется не от вектора а от скалярной функции\n",
    "y = x ** 2 + 3 * x + 1\n",
    "y.backward()\n"
   ]
  },
  {
   "cell_type": "code",
   "execution_count": null,
   "id": "640f8858",
   "metadata": {},
   "outputs": [
    {
     "name": "stdout",
     "output_type": "stream",
     "text": [
      "tensor([34., 42., 50.])\n"
     ]
    }
   ],
   "source": [
    "# Тут ошибки нет из-за torch.ones_like(y) (заменяет сумму всех элементов y  с весом 1)\n",
    "''' \n",
    "    y.backward(w) сначала вычисляет скаляр l=dot(y,w) а затем считает производные   dl/dx.\n",
    "'''\n",
    "y = x ** 2 + 3 * x + 1\n",
    "y.backward(torch.ones_like(y))\n",
    "print(x.grad)  "
   ]
  },
  {
   "cell_type": "code",
   "execution_count": null,
   "id": "2051a175",
   "metadata": {},
   "outputs": [
    {
     "name": "stdout",
     "output_type": "stream",
     "text": [
      "Градиенты после первого backward: tensor([2., 2., 2.])\n",
      "Градиенты после второго backward: tensor([4., 4., 4.])\n"
     ]
    }
   ],
   "source": [
    "''' \n",
    "Если дважды вызвать \n",
    "    y.backward(torch.ones_like(y))\n",
    "    y.backward(torch.ones_like(y))\n",
    "то будет ошибка, так как после первого вызова \"backward\" граф вычислений удаляется\n",
    "Нужно использовать  \"retain_graph=True\"\n",
    "'''\n",
    "# Чтобы не было ошибки нужно установить retain_graph=True\n",
    "\n",
    "x = torch.tensor([1.0, 2.0, 3.0], requires_grad=True)\n",
    "y = x * 2\n",
    "\n",
    "# Первый вызов: сохраняем граф\n",
    "y.backward(torch.ones_like(y), retain_graph=True)\n",
    "print(\"Градиенты после первого backward:\", x.grad)\n",
    "\n",
    "y.backward(torch.ones_like(y), retain_graph=True)\n",
    "print(\"Градиенты после второго backward:\", x.grad)"
   ]
  },
  {
   "cell_type": "code",
   "execution_count": null,
   "id": "073a5588",
   "metadata": {},
   "outputs": [
    {
     "name": "stdout",
     "output_type": "stream",
     "text": [
      "Градиенты после первого backward: tensor([2., 2., 2.])\n",
      "Градиенты после второго backward: tensor([2., 2., 2.])\n"
     ]
    }
   ],
   "source": [
    "x = torch.tensor([1.0, 2.0, 3.0], requires_grad=True)\n",
    "y = x * 2\n",
    "\n",
    "# Первый вызов: сохраняем граф\n",
    "y.backward(torch.ones_like(y), retain_graph=True)\n",
    "print(\"Градиенты после первого backward:\", x.grad)\n",
    "\n",
    "# Сбрасываем градиенты (важно, чтобы не накапливались)\n",
    "x.grad.zero_()\n",
    "\n",
    "# Второй вызов: используем сохраненный граф\n",
    "y.backward(torch.ones_like(y)) # retain_graph=True здесь не обязательно, если это последний вызов\n",
    "print(\"Градиенты после второго backward:\", x.grad)\n"
   ]
  },
  {
   "cell_type": "code",
   "execution_count": null,
   "id": "827fffd3",
   "metadata": {},
>>>>>>> b493197 (Github)
   "outputs": [],
   "source": []
  },
  {
   "cell_type": "code",
   "execution_count": null,
<<<<<<< HEAD
   "id": "5c48fe69",
=======
   "id": "428ae2a0",
   "metadata": {},
   "outputs": [],
   "source": []
  },
  {
   "cell_type": "code",
   "execution_count": null,
   "id": "0273996a",
   "metadata": {},
   "outputs": [],
   "source": []
  },
  {
   "cell_type": "code",
   "execution_count": null,
   "id": "c8c56805",
   "metadata": {},
   "outputs": [],
   "source": []
  },
  {
   "cell_type": "code",
   "execution_count": null,
   "id": "6f033cc2",
   "metadata": {},
   "outputs": [],
   "source": []
  },
  {
   "cell_type": "code",
   "execution_count": null,
   "id": "ccd30564",
>>>>>>> b493197 (Github)
   "metadata": {},
   "outputs": [],
   "source": []
  }
 ],
 "metadata": {
  "kernelspec": {
   "display_name": "condaenv",
   "language": "python",
   "name": "python3"
  },
  "language_info": {
   "codemirror_mode": {
    "name": "ipython",
    "version": 3
   },
   "file_extension": ".py",
   "mimetype": "text/x-python",
   "name": "python",
   "nbconvert_exporter": "python",
   "pygments_lexer": "ipython3",
   "version": "3.12.11"
  }
 },
 "nbformat": 4,
 "nbformat_minor": 5
}
