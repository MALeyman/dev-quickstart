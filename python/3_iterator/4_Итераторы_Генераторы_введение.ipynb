{
 "cells": [
  {
   "cell_type": "markdown",
   "id": "c535f43b",
   "metadata": {
    "id": "c535f43b"
   },
   "source": [
    "# Итераторы\n",
    "\n",
    "Итераторы позволяют обойти все элементы итерируемых объектов и по всюду используются в `python`.\n",
    "\n",
    "Итератор (`iterator`) --- это объект, который должен определить метод `__next__` (т.е. реагировать на функцию \n",
    "\n",
    "next https://docs.python.org/3/library/functions.html#next), \n",
    "\n",
    "выдавать следующий элемент коллекции по вызову этого метода и бросать исключение \n",
    "\n",
    "StopIteration https://docs.python.org/3/library/exceptions.html#StopIteration, \n",
    "\n",
    "когда эти элементы исчерпались.\n"
   ]
  },
  {
   "cell_type": "markdown",
   "id": "70eae589",
   "metadata": {},
   "source": [
    "## Стандартный итератор\n",
    "\n",
    "Получить стандартный итератор по коллекции можно встроенной функцией [iter](https://docs.python.org/3/library/functions.html#iter)."
   ]
  },
  {
   "cell_type": "code",
   "execution_count": 39,
   "id": "a8d06999",
   "metadata": {
    "id": "a8d06999",
    "outputId": "650ef39c-c4c5-4492-b6a1-7e7578f676f8"
   },
   "outputs": [
    {
     "name": "stdout",
     "output_type": "stream",
     "text": [
      "<list_iterator object at 0x7c8912ec9810>\n"
     ]
    }
   ],
   "source": [
    "a_list = list(range(1, 6, 2))\n",
    "iterator = iter(a_list)\n",
    "print(iterator)"
   ]
  },
  {
   "cell_type": "code",
   "execution_count": null,
   "id": "4676c2a1",
   "metadata": {},
   "outputs": [],
   "source": [
    "iterator = iter(range(3)) # вынимает __iter__"
   ]
  },
  {
   "cell_type": "code",
   "execution_count": null,
   "id": "a953c889",
   "metadata": {},
   "outputs": [
    {
     "data": {
      "text/plain": [
       "5"
      ]
     },
     "execution_count": 21,
     "metadata": {},
     "output_type": "execute_result"
    }
   ],
   "source": [
    "# range(0, 3) -> [0, 1, 2]\n",
    "next(iterator) # 1\n",
    "next(iterator) # 3\n",
    "next(iterator) # 5\n",
    "# next(iterator) # ошибка StopIteration в next"
   ]
  },
  {
   "cell_type": "markdown",
   "id": "4429fb1b",
   "metadata": {
    "id": "4429fb1b"
   },
   "source": [
    "В ячейке выше объявлен список `a_list = [0, 1, 2]`, а далее с помощью вызова функции [iter](https://docs.python.org/3/library/functions.html#iter) создан стандартный итератор `iterator` по нему. Теперь у этого итератора можно спросить следующий элемент списка функцией [next](https://docs.python.org/3/library/functions.html#next)."
   ]
  },
  {
   "cell_type": "code",
   "execution_count": null,
   "id": "7a7ed25c",
   "metadata": {
    "id": "7a7ed25c",
    "outputId": "accc3a89-fb33-4d7c-8892-f6e98e735e7d"
   },
   "outputs": [
    {
     "name": "stdout",
     "output_type": "stream",
     "text": [
      "0\n"
     ]
    }
   ],
   "source": [
    "a = next(iterator)\n",
    "print(a)"
   ]
  },
  {
   "cell_type": "markdown",
   "id": "9d252577",
   "metadata": {
    "id": "9d252577"
   },
   "source": [
    "Первый вызов функции `next` возвращает первый элемент контейнера, от которого создан контейнер."
   ]
  },
  {
   "cell_type": "code",
   "execution_count": null,
   "id": "b50c98ed",
   "metadata": {
    "id": "b50c98ed",
    "outputId": "653cd080-2332-49ac-c927-a4103f06befe"
   },
   "outputs": [
    {
     "name": "stdout",
     "output_type": "stream",
     "text": [
      "1\n"
     ]
    }
   ],
   "source": [
    "b = next(iterator)\n",
    "print(b)"
   ]
  },
  {
   "cell_type": "markdown",
   "id": "a8f90596",
   "metadata": {
    "id": "a8f90596"
   },
   "source": [
    "Второй вызов функции `next` --- второй элемент списка."
   ]
  },
  {
   "cell_type": "code",
   "execution_count": null,
   "id": "615bebc2",
   "metadata": {
    "id": "615bebc2",
    "outputId": "7ba506fc-b42b-44ee-e8f0-bf12753d957d"
   },
   "outputs": [
    {
     "name": "stdout",
     "output_type": "stream",
     "text": [
      "2\n"
     ]
    }
   ],
   "source": [
    "c = next(iterator)\n",
    "print(c)"
   ]
  },
  {
   "cell_type": "markdown",
   "id": "da42f924",
   "metadata": {
    "id": "da42f924"
   },
   "source": [
    "Третий вызов --- третий элемент списка."
   ]
  },
  {
   "cell_type": "code",
   "execution_count": null,
   "id": "7a1e4d3c",
   "metadata": {
    "id": "7a1e4d3c",
    "outputId": "2de3d81c-5fa2-4c1f-a992-9cef0c411187"
   },
   "outputs": [
    {
     "ename": "StopIteration",
     "evalue": "",
     "output_type": "error",
     "traceback": [
      "\u001b[1;31m---------------------------------------------------------------------------\u001b[0m",
      "\u001b[1;31mStopIteration\u001b[0m                             Traceback (most recent call last)",
      "Cell \u001b[1;32mIn [9], line 1\u001b[0m\n\u001b[1;32m----> 1\u001b[0m d \u001b[38;5;241m=\u001b[39m \u001b[38;5;28;43mnext\u001b[39;49m\u001b[43m(\u001b[49m\u001b[43miterator\u001b[49m\u001b[43m)\u001b[49m\n\u001b[0;32m      2\u001b[0m \u001b[38;5;28mprint\u001b[39m(d)\n",
      "\u001b[1;31mStopIteration\u001b[0m: "
     ]
    }
   ],
   "source": [
    "d = next(iterator)\n",
    "print(d)"
   ]
  },
  {
   "cell_type": "markdown",
   "id": "4da3ee38",
   "metadata": {
    "id": "4da3ee38"
   },
   "source": [
    "Четвертый вызов функции `next` должен вернуть четвертый элемент, но т.к. список `a_list` содержит всего 3 элемента, то итератор уже исчерпан и возбуждается исключение `StopIteration`.\n",
    "\n",
    "Вообще говоря, можно изменить список при итерации по нему, но желательно по возможности избегать этого."
   ]
  },
  {
   "cell_type": "code",
   "execution_count": null,
   "id": "2307d7fa",
   "metadata": {
    "id": "2307d7fa",
    "outputId": "d9c8ae14-5d86-4244-e236-2271c68d7070"
   },
   "outputs": [
    {
     "name": "stdout",
     "output_type": "stream",
     "text": [
      "0 0 1 2\n",
      "[42, 0, 1, 2]\n"
     ]
    }
   ],
   "source": [
    "iterator = iter(a_list)\n",
    "a = next(iterator)\n",
    "\n",
    "a_list.insert(0, 42)\n",
    "b, c, d = next(iterator), next(iterator), next(iterator)\n",
    "\n",
    "print(a, b, c, d)\n",
    "print(a_list)"
   ]
  },
  {
   "cell_type": "markdown",
   "id": "7256f4e2",
   "metadata": {
    "id": "7256f4e2"
   },
   "source": [
    "Цикл `for` использует итераторы для прохода по итерируемым объектам и сам вызывает функцию `next` до тех пор, пока не встретит исключение `StopIteration`.\n",
    "\n",
    "Среди итерируемых объектов \n",
    "- все последовательности: списки, кортежи, строки, `range` и т.п.;\n",
    "- множества, словари и все связанные с ними `view` (`dict_keys`, `dict_values` и `dict_items`);\n",
    "- массивы `NumPy`;\n",
    "- таблицы и столбцы `pandas`.  \n",
    "\n",
    "## Нестандартные встроенные итераторы\n",
    "\n",
    "В `python` существуют разные итераторы, которые могут пригодиться для разных целей, например, для того чтобы пробежаться по коллекции в другом порядке.\n",
    "\n",
    "### `reversed`\n",
    "\n",
    "Встроенная функция [reversed](https://docs.python.org/3/library/functions.html#reversed) создаёт итератор, который пробегает по коллекции в обратном порядке относительно стандартного итератора `iter`."
   ]
  },
  {
   "cell_type": "code",
   "execution_count": null,
   "id": "bdbce04c",
   "metadata": {
    "id": "bdbce04c",
    "outputId": "cfbb397b-7ab3-4aba-dc65-e78962d9ca53"
   },
   "outputs": [
    {
     "name": "stdout",
     "output_type": "stream",
     "text": [
      "<list_reverseiterator object at 0x000001DE6483FFA0>\n",
      "[3, 2, 1]\n"
     ]
    }
   ],
   "source": [
    "x = [1, 2, 3]\n",
    "reversed_iterator = reversed(x)\n",
    "print(reversed_iterator)\n",
    "print(list(reversed_iterator))"
   ]
  },
  {
   "cell_type": "markdown",
   "id": "2f8cd16e",
   "metadata": {
    "id": "2f8cd16e"
   },
   "source": [
    "### `enumerate`\n",
    "\n",
    "Встроенная функция [enumerate](https://docs.python.org/3/library/functions.html#enumerate) возвращает \"нумерующий итератор\", т.е. итератор, который помимо следующего элемента контейнера возвращает ещё и его номер."
   ]
  },
  {
   "cell_type": "code",
   "execution_count": null,
   "id": "bf1065cd",
   "metadata": {
    "id": "bf1065cd",
    "outputId": "ef749d62-7a0b-4167-aa57-4002b8c1b522"
   },
   "outputs": [
    {
     "name": "stdout",
     "output_type": "stream",
     "text": [
      "['a', 'b', 'c']\n",
      "<enumerate object at 0x000001DE6513BE40>\n",
      "[(0, 'a'), (1, 'b'), (2, 'c')]\n"
     ]
    }
   ],
   "source": [
    "L = list(\"abc\")\n",
    "enumerated_iterator = enumerate(L)\n",
    "\n",
    "print(L)\n",
    "print(enumerated_iterator)\n",
    "print(list(enumerated_iterator))"
   ]
  },
  {
   "cell_type": "markdown",
   "id": "c5c6ad1c",
   "metadata": {
    "id": "c5c6ad1c"
   },
   "source": [
    "Часто используется в циклах, если нужен доступ к элементам контейнера по индексу. При этом, следующая запись\n",
    "```python\n",
    "for i, _ in enumerate(iterable):\n",
    "    ...\n",
    "```\n",
    "считается предпочтительнее, чем\n",
    "```python\n",
    "for i in range(len(iterable)):\n",
    "    ...\n",
    "```"
   ]
  },
  {
   "cell_type": "code",
   "execution_count": null,
   "id": "d59ab969",
   "metadata": {
    "id": "d59ab969",
    "outputId": "26d28765-6cd2-447b-ffc6-538fb683f027"
   },
   "outputs": [
    {
     "name": "stdout",
     "output_type": "stream",
     "text": [
      "0 a\n",
      "1 b\n",
      "2 c\n"
     ]
    }
   ],
   "source": [
    "for i, x in enumerate(L):\n",
    "    print(i, x)"
   ]
  },
  {
   "cell_type": "markdown",
   "id": "ceec79de",
   "metadata": {
    "id": "ceec79de"
   },
   "source": [
    "Конечно, эти итераторы можно комбинировать."
   ]
  },
  {
   "cell_type": "code",
   "execution_count": null,
   "id": "41bb012f",
   "metadata": {
    "id": "41bb012f",
    "outputId": "bb6f5868-095b-46e0-9a81-ac0f923628e4"
   },
   "outputs": [
    {
     "name": "stdout",
     "output_type": "stream",
     "text": [
      "0 c\n",
      "1 b\n",
      "2 a\n"
     ]
    }
   ],
   "source": [
    "for i, x in enumerate(reversed(L)):\n",
    "    print(i, x)"
   ]
  },
  {
   "cell_type": "markdown",
   "id": "58f900e1",
   "metadata": {
    "id": "58f900e1"
   },
   "source": [
    "### `zip`\n",
    "\n",
    "Встроенная функция [zip](https://docs.python.org/3/library/functions.html#zip) создаёт итератор по нескольким итерируемым объектам, т.е. позволяет пробежаться по нескольким контейнерам одновременно.\n",
    "\n",
    "В случае двух контейнеров название функции `zip` хорошо иллюстрирует принцип её действия.\n",
    "\n",
    "```{figure} /_static/lecture_specific/iterators/zip.svg\n",
    "```"
   ]
  },
  {
   "cell_type": "code",
   "execution_count": null,
   "id": "ba51de68",
   "metadata": {
    "id": "ba51de68",
    "outputId": "110bfde2-fd23-48c8-a7e0-2cf3528f0802"
   },
   "outputs": [
    {
     "name": "stdout",
     "output_type": "stream",
     "text": [
      "<zip object at 0x7c89128071c0>\n",
      "[('A', 1), ('B', 2), ('C', 3)]\n"
     ]
    }
   ],
   "source": [
    "X = \"ABC\"\n",
    "Y = [1, 2, 3, 4]\n",
    "\n",
    "zip_XY = zip(X, Y)\n",
    "print(zip_XY)\n",
    "print(list(zip_XY))"
   ]
  },
  {
   "cell_type": "markdown",
   "id": "a8360c6d",
   "metadata": {
    "id": "a8360c6d"
   },
   "source": [
    "В ячейке выше приведен пример с двумя коллекциями `X` и `Y`. В общем случае можно передавать произвольное количество коллекций в функцию `zip`. Типичное её применение в цикле выглядит следующем образом.\n",
    "\n",
    "```python\n",
    "for x1, x2, ..., xn in zip(X1, X2, ..., Xn):\n",
    "    ...\n",
    "```"
   ]
  },
  {
   "cell_type": "code",
   "execution_count": null,
   "id": "99192027",
   "metadata": {
    "id": "99192027",
    "outputId": "d7cdd02a-51c2-47fc-e572-9d987ca9805a"
   },
   "outputs": [
    {
     "name": "stdout",
     "output_type": "stream",
     "text": [
      "0: x='A', y=1\n",
      "1: x='B', y=2\n",
      "2: x='C', y=3\n"
     ]
    }
   ],
   "source": [
    "for i, x, y in zip(range(len(X)), X, Y):\n",
    "    print(f\"{i}: {x=}, {y=}\")"
   ]
  },
  {
   "cell_type": "markdown",
   "id": "49effd75",
   "metadata": {
    "id": "49effd75"
   },
   "source": [
    "Предыдущий цикл можно заменить конструкцией вида."
   ]
  },
  {
   "cell_type": "code",
   "execution_count": null,
   "id": "0ea691bf",
   "metadata": {
    "id": "0ea691bf",
    "outputId": "893e5b18-01fb-428d-f7b4-a091a1508c58"
   },
   "outputs": [
    {
     "name": "stdout",
     "output_type": "stream",
     "text": [
      "0: x='A', y=1\n",
      "1: x='B', y=2\n",
      "2: x='C', y=3\n"
     ]
    }
   ],
   "source": [
    "for i, (x, y) in enumerate(zip(X, Y)):\n",
    "    print(f\"{i}: {x=}, {y=}\")"
   ]
  },
  {
   "cell_type": "markdown",
   "id": "540b0a07",
   "metadata": {
    "id": "540b0a07"
   },
   "source": [
    "Функция `zip` может быть использована для того, чтобы пробежаться по столбцам матрицы, т.е. как бы транспонировать её."
   ]
  },
  {
   "cell_type": "code",
   "execution_count": null,
   "id": "133af991",
   "metadata": {
    "id": "133af991",
    "outputId": "97b95fda-df6e-450a-d75b-1bbc1062144d"
   },
   "outputs": [
    {
     "name": "stdout",
     "output_type": "stream",
     "text": [
      "[11, 12, 13]\n",
      "[21, 22, 23]\n",
      "\n",
      "(11, 21)\n",
      "(12, 22)\n",
      "(13, 23)\n"
     ]
    }
   ],
   "source": [
    "m = [\n",
    "    [11, 12, 13],\n",
    "    [21, 22, 23],\n",
    "]\n",
    "\n",
    "for row in m:\n",
    "    print(row)\n",
    "\n",
    "print()\n",
    "\n",
    "for column in zip(*m):\n",
    "    print(column)\n"
   ]
  },
  {
   "cell_type": "markdown",
   "id": "35e22990",
   "metadata": {
    "id": "35e22990"
   },
   "source": [
    "Если коллекции внутри `zip` содержат разное количество элементов, то итерация прекратится, как только закончится элементы в самом коротком из них, а функция [zip_longest](https://docs.python.org/3/library/itertools.html#itertools.zip_longest) из модуля стандартной библиотеки [itertools](https://docs.python.org/3/library/itertools.html#module-itertools) позволяет итерировать до упора, пока хотя бы в одной последовательности остались элементы."
   ]
  },
  {
   "cell_type": "markdown",
   "id": "4fa96b21",
   "metadata": {
    "id": "4fa96b21"
   },
   "source": [
    "## Модуль `itertools`\n",
    "\n",
    "В модуле [itertools](https://docs.python.org/3/library/itertools.html#module-itertools) определен ещё ряд полезных итераторов.\n",
    "\n",
    "Рассмотрим его подробнее в блоке Функциональное программирование\n"
   ]
  },
  {
   "cell_type": "markdown",
   "id": "10634968",
   "metadata": {},
   "source": [
    "\n",
    "# Генераторы\n",
    "\n",
    "## Выражение `yield`\n",
    "\n",
    "Если тело функции содержит хотя бы одно ключевое слово [yield](https://docs.python.org/3/reference/simple_stmts.html#yield), то это так называемая [функция-генератор](https://docs.python.org/3/glossary.html#term-generator). Вызов функции генератора не приводит к исполнению тела функции. Вместо этого функция-генератор возвращает [объект генератора](https://docs.python.org/3/glossary.html#term-generator-iterator)."
   ]
  },
  {
   "cell_type": "code",
   "execution_count": 41,
   "id": "a99e036d",
   "metadata": {},
   "outputs": [
    {
     "name": "stdout",
     "output_type": "stream",
     "text": [
      "<class 'function'>\n",
      "<class 'generator'>\n"
     ]
    }
   ],
   "source": [
    "def generator_function():\n",
    "    print(\"Начало функции.\")\n",
    "    yield 0\n",
    "\n",
    "print(type(generator_function))\n",
    "\n",
    "generator_object = generator_function()\n",
    "print(type(generator_object))"
   ]
  },
  {
   "cell_type": "code",
   "execution_count": 42,
   "id": "d69f8c62",
   "metadata": {},
   "outputs": [
    {
     "data": {
      "text/plain": [
       "list"
      ]
     },
     "execution_count": 42,
     "metadata": {},
     "output_type": "execute_result"
    }
   ],
   "source": [
    "obj_a = [number for number in range(20)] # list comprehension\n",
    "type(obj_a)"
   ]
  },
  {
   "cell_type": "code",
   "execution_count": 43,
   "id": "90c7dec1",
   "metadata": {},
   "outputs": [
    {
     "data": {
      "text/plain": [
       "generator"
      ]
     },
     "execution_count": 43,
     "metadata": {},
     "output_type": "execute_result"
    }
   ],
   "source": [
    "obj_b = (number for number in range(20)) # list comprehension с круглыми скобками == генератор\n",
    "type(obj_b)"
   ]
  },
  {
   "cell_type": "code",
   "execution_count": 44,
   "id": "f76c5b50",
   "metadata": {},
   "outputs": [
    {
     "data": {
      "text/plain": [
       "generator"
      ]
     },
     "execution_count": 44,
     "metadata": {},
     "output_type": "execute_result"
    }
   ],
   "source": [
    "def get_obj_b():\n",
    "    for number in range(20):\n",
    "        yield number\n",
    "        \n",
    "type(get_obj_b())"
   ]
  },
  {
   "cell_type": "code",
   "execution_count": 45,
   "id": "69e7fce1",
   "metadata": {},
   "outputs": [
    {
     "data": {
      "text/plain": [
       "<generator object <genexpr> at 0x7c89280d68c0>"
      ]
     },
     "execution_count": 45,
     "metadata": {},
     "output_type": "execute_result"
    }
   ],
   "source": [
    "obj_b"
   ]
  },
  {
   "cell_type": "code",
   "execution_count": 46,
   "id": "ebdce906",
   "metadata": {},
   "outputs": [
    {
     "name": "stdout",
     "output_type": "stream",
     "text": [
      "0\n",
      "1\n",
      "2\n",
      "3\n",
      "4\n",
      "5\n",
      "6\n",
      "7\n",
      "8\n",
      "9\n",
      "10\n",
      "11\n",
      "12\n",
      "13\n",
      "14\n",
      "15\n",
      "16\n",
      "17\n",
      "18\n",
      "19\n"
     ]
    }
   ],
   "source": [
    "for test in obj_b:\n",
    "    # перемещение по генератору\n",
    "    print(test)"
   ]
  },
  {
   "cell_type": "code",
   "execution_count": 50,
   "id": "15191e36",
   "metadata": {},
   "outputs": [
    {
     "data": {
      "text/plain": [
       "'GEN_CLOSED'"
      ]
     },
     "execution_count": 50,
     "metadata": {},
     "output_type": "execute_result"
    }
   ],
   "source": [
    "from inspect import getgeneratorstate\n",
    "\n",
    "getgeneratorstate(obj_b)"
   ]
  },
  {
   "cell_type": "code",
   "execution_count": 49,
   "id": "ee580f85",
   "metadata": {},
   "outputs": [
    {
     "name": "stdout",
     "output_type": "stream",
     "text": [
      "0\n",
      "1\n",
      "2\n",
      "3\n",
      "4\n",
      "5\n",
      "6\n",
      "7\n",
      "8\n",
      "9\n",
      "10\n",
      "11\n",
      "12\n",
      "13\n",
      "14\n",
      "15\n",
      "16\n",
      "17\n",
      "18\n",
      "19\n"
     ]
    }
   ],
   "source": [
    "for test in obj_a:\n",
    "    # перемещение по генератору\n",
    "    print(test)"
   ]
  },
  {
   "cell_type": "code",
   "execution_count": 57,
   "id": "286a1c58",
   "metadata": {},
   "outputs": [],
   "source": [
    "iter_a = iter(obj_a)\n"
   ]
  },
  {
   "cell_type": "code",
   "execution_count": 60,
   "id": "4768e09a",
   "metadata": {},
   "outputs": [
    {
     "data": {
      "text/plain": [
       "2"
      ]
     },
     "execution_count": 60,
     "metadata": {},
     "output_type": "execute_result"
    }
   ],
   "source": [
    "next(iter_a)"
   ]
  },
  {
   "cell_type": "markdown",
   "id": "58746b9f",
   "metadata": {},
   "source": [
    "Объект генератора хранит в себе исходный код функции генератора, её пространство локальных переменных, а так же текущую точку выполнения. В этом и  заключается главная разница между функцией и генератором.\n",
    "\n",
    "Функция не хранит своё состояние между своими вызовами, ключевое слово `return` возвращает управление вызывающему коду. Ключевое слово (выражение) `yield` в свою очередь, передаёт управление вызывающему коду, но запоминает место и состояние (значение локальных переменных и т.п.), а не сбрасывает его. Это позволяет в последствии возобновить исполнение кода в генераторе.\n",
    "\n",
    "Применение функции `next` к объекту генератора возобновляет (или начинает) исполнение кода в генерации до тех пор, пока не встретится выражение `yield`. Значение справа от `yield` возвращается функцией `next` вызывающему коду. Исполнение кода в генераторе ставится на паузу до следующего вызова функции `next`.\n",
    "\n",
    "```{note}\n",
    "Вообще говоря, у объекта генератора есть метод `send`, который позволяет не только получать объекты из генератора, но и передавать объекты из вызывающего кода в код генератора. Вызов этого метода тоже возобновляет исполнение генератора. Если `g` --- объект генератора, то выражение `g.send(None)` в точности эквивалентно выражению `next(g)`.\n",
    "```\n",
    "\n",
    "Продемонстрируем особенность объекта генератора на примере. Для этого напишем функцию-генератор обратного отсчета с 2."
   ]
  },
  {
   "cell_type": "code",
   "execution_count": 65,
   "id": "378681ed",
   "metadata": {},
   "outputs": [],
   "source": [
    "def countdown_from_2():\n",
    "    print(f\"Начинаю обратный отсчет с двух.\")\n",
    "    yield 2\n",
    "    print(\"Продолжаю обратный отсчет. Следующее значение 1.\")\n",
    "    yield 1\n",
    "    print(\"Обратный отсчет закончен.\")\n",
    "    return\n",
    "\n",
    "g = countdown_from_2()"
   ]
  },
  {
   "cell_type": "markdown",
   "id": "0f7804e4",
   "metadata": {},
   "source": [
    "Выше объявлена функция-генератор `countdown_from_2`. И далее результата вызова этой функции связывается с именем `g`. Заметьте, что на экране не появилось сообщений, потому что на этот момент исполнение инструкций в тела функций ещё не началось:  был создан только объект генератора.\n",
    "\n",
    "Применим функцию `next` к объекту генератора."
   ]
  },
  {
   "cell_type": "code",
   "execution_count": 66,
   "id": "c1206c55",
   "metadata": {},
   "outputs": [
    {
     "name": "stdout",
     "output_type": "stream",
     "text": [
      "Начинаю обратный отсчет с двух.\n",
      "Функция next вернула значение 2.\n"
     ]
    }
   ],
   "source": [
    "print(f\"Функция next вернула значение {next(g)}.\")"
   ]
  },
  {
   "cell_type": "markdown",
   "id": "0b380b27",
   "metadata": {},
   "source": [
    "Теперь мы видим, что инструкции в теле цикла начали исполняться, но не до конца, а только до инструкции `yield 2`.\n",
    "```python\n",
    "def countdown_from_2():\n",
    "    print(f\"Начинаю обратный отсчет с двух.\")\n",
    "    yield 2 # <--- pause\n",
    "    print(\"Продолжаю обратный отсчет. Следующее значение 1.\")\n",
    "    yield 1\n",
    "    print(\"Обратный отсчет закончен.\")\n",
    "    return\n",
    "```\n",
    "\n",
    "Применим функцию `next` ещё раз."
   ]
  },
  {
   "cell_type": "code",
   "execution_count": null,
   "id": "0418eabc",
   "metadata": {},
   "outputs": [
    {
     "name": "stdout",
     "output_type": "stream",
     "text": [
      "Продолжаю обратный отсчет. Следующее значение 1.\n",
      "Функция next вернула значение 1.\n"
     ]
    }
   ],
   "source": [
    "print(f\"Функция next вернула значение {next(g)}.\")"
   ]
  },
  {
   "cell_type": "markdown",
   "id": "af2e8bce",
   "metadata": {},
   "source": [
    "Инструкции продолжились исполняться, пока не встретился очередной `yield`.\n",
    "\n",
    "```python\n",
    "def countdown_from_2():\n",
    "    print(f\"Начинаю обратный отсчет с двух.\")\n",
    "    yield 2\n",
    "    print(\"Продолжаю обратный отсчет. Следующее значение 1.\")\n",
    "    yield 1 # <--- pause\n",
    "    print(\"Обратный отсчет закончен.\")\n",
    "    return\n",
    "```\n",
    "\n",
    "Последний раз применим функцию `next`. Заметим, что дальше по пути исполнения программы встречается ключевое слово `return`, а не `yield`.\n",
    "\n",
    "```python\n",
    "def countdown_from_2():\n",
    "    print(f\"Начинаю обратный отсчет с двух.\")\n",
    "    yield 2\n",
    "    print(\"Продолжаю обратный отсчет. Следующее значение 1.\")\n",
    "    yield 1\n",
    "    print(\"Обратный отсчет закончен.\")\n",
    "    return # <--- raise StopIteration\n",
    "```\n",
    "\n",
    "Ключевое слово `return` в генераторе возбуждает исключение `StopIteration`, что приводит к выходу из тела функции генератора."
   ]
  },
  {
   "cell_type": "code",
   "execution_count": null,
   "id": "fcfee20a",
   "metadata": {},
   "outputs": [
    {
     "name": "stdout",
     "output_type": "stream",
     "text": [
      "Обратный отсчет закончен.\n",
      "Генератор исчерпан.\n"
     ]
    }
   ],
   "source": [
    "try:\n",
    "    next(g)\n",
    "except StopIteration:\n",
    "    print(\"Генератор исчерпан.\")"
   ]
  },
  {
   "cell_type": "markdown",
   "id": "c94fd713",
   "metadata": {},
   "source": [
    "## Итераторы vs генераторы\n",
    "\n",
    "Функции генераторы удобно задействовать для создания итераторов, т.к. они поддерживают тот же интерфейс: по запросу функции `next` выдаётся очередное значение, по исчерпании элементов возбуждается исключение `StopIteration`.\n",
    "\n",
    "В качестве примера рассмотрим наивную реализацию альтернативы `range`, но для действительных чисел."
   ]
  },
  {
   "cell_type": "code",
   "execution_count": 70,
   "id": "b96a41be",
   "metadata": {},
   "outputs": [
    {
     "name": "stdout",
     "output_type": "stream",
     "text": [
      "0\n",
      "0.1\n",
      "0.2\n",
      "0.30000000000000004\n",
      "0.4\n",
      "0.5\n",
      "0.6\n",
      "0.7\n",
      "0.7999999999999999\n",
      "0.8999999999999999\n",
      "0.9999999999999999\n"
     ]
    }
   ],
   "source": [
    "def frange(start, stop, step=1.0):\n",
    "    while start < stop:\n",
    "        yield start\n",
    "        start += step\n",
    "\n",
    "for x in frange(0, 1, 0.1):\n",
    "    print(x)"
   ]
  },
  {
   "cell_type": "markdown",
   "id": "7f6b7ed4",
   "metadata": {},
   "source": [
    "Ключевое отличие генератора от классического итератора заключается в том, что итератор выдаёт уже существующие в каком-то контейнере значения, а генератор вычисляет новые значения на лету. Это позволяет экономить ресурсы системы, если для дальнейших вычислений не требуются, чтобы все значения где-то хранились в одном месте.\n",
    "\n",
    "В качестве примера рассмотрим вычисление числа $\\pi$ через сумму ряда\n",
    "\n",
    "$$\n",
    "\\sum_{n=1}^\\infty \\dfrac{1}{n^2} = \\dfrac{\\pi^2}{6}.\n",
    "$$"
   ]
  },
  {
   "cell_type": "code",
   "execution_count": 77,
   "id": "63d05939",
   "metadata": {},
   "outputs": [
    {
     "name": "stdout",
     "output_type": "stream",
     "text": [
      "3.141591698659512 3.141591698659512\n"
     ]
    }
   ],
   "source": [
    "from math import sqrt # корень квадратный\n",
    "\n",
    "def list_of_terms(N):\n",
    "    return [1./(n * n) for n in range(1, N)]\n",
    "\n",
    "\n",
    "def generator_of_terms(N):\n",
    "    for n in range(1, N):\n",
    "        yield 1/(n * n)\n",
    "\n",
    "\n",
    "def pi_from_sum(S):\n",
    "    return sqrt(6*S)\n",
    "\n",
    "\n",
    "N = 1_000_000\n",
    "S1 = sum(list_of_terms(N))\n",
    "S2 = sum(generator_of_terms(N))\n",
    "\n",
    "print(pi_from_sum(S1), pi_from_sum(S2))"
   ]
  },
  {
   "cell_type": "code",
   "execution_count": 79,
   "id": "7f0abc52",
   "metadata": {},
   "outputs": [
    {
     "data": {
      "text/plain": [
       "1.6449330668477264"
      ]
     },
     "execution_count": 79,
     "metadata": {},
     "output_type": "execute_result"
    }
   ],
   "source": [
    "S1"
   ]
  },
  {
   "cell_type": "code",
   "execution_count": 80,
   "id": "80284595",
   "metadata": {},
   "outputs": [
    {
     "data": {
      "text/plain": [
       "1.6449330668477264"
      ]
     },
     "execution_count": 80,
     "metadata": {},
     "output_type": "execute_result"
    }
   ],
   "source": [
    "S2"
   ]
  },
  {
   "cell_type": "code",
   "execution_count": 81,
   "id": "6730e855",
   "metadata": {},
   "outputs": [
    {
     "name": "stdout",
     "output_type": "stream",
     "text": [
      "8448728\n",
      "208\n"
     ]
    }
   ],
   "source": [
    "import sys\n",
    "\n",
    "print(sys.getsizeof(list_of_terms(N)))\n",
    "print(sys.getsizeof(generator_of_terms(N)))"
   ]
  },
  {
   "cell_type": "code",
   "execution_count": 82,
   "id": "68a26325",
   "metadata": {},
   "outputs": [],
   "source": [
    "def get_names():\n",
    "    print('Start')\n",
    "    print('Continue')\n",
    "    yield 'Тинки-Винки'\n",
    "    print('Continue - 2')\n",
    "    yield 'Дипси'\n",
    "    print('Continue - 3')\n",
    "    return 'Новый телепузик' # завершаем генератор\n",
    "    print('Continue - 4')\n",
    "    yield 'Ляля'\n",
    "    print('Continue - 5')\n",
    "    yield 'По'\n",
    "\n",
    "gen = get_names()"
   ]
  },
  {
   "cell_type": "code",
   "execution_count": 83,
   "id": "1d377c1b",
   "metadata": {},
   "outputs": [
    {
     "name": "stdout",
     "output_type": "stream",
     "text": [
      "Start\n",
      "Continue\n",
      "Значение, полученное генератором Тинки-Винки\n",
      "Continue - 2\n",
      "Значение, полученное генератором Дипси\n",
      "Continue - 3\n",
      "Возвращаемое значение Новый телепузик\n"
     ]
    }
   ],
   "source": [
    "while True:\n",
    "    try:\n",
    "        print('Значение, полученное генератором', next(gen))\n",
    "    except StopIteration as e:\n",
    "        print('Возвращаемое значение', e.value)\n",
    "        break"
   ]
  },
  {
   "cell_type": "markdown",
   "id": "86979da2",
   "metadata": {},
   "source": [
    "Профилирование по памяти продемонстрирует, что функция с генератором гораздо экономнее при больших `N`, чем функция со списком. Это объясняется тем, что ни в один момент времени не создаётся список, чтобы хранить члены ряда. Вместо этого, они вычисляются по запросу функции `sum`. Такой подход, когда вычисления откладываются до тех пор, пока не потребуется их результат, называют [ленивыми вычислениями](https://ru.wikipedia.org/wiki/%D0%9B%D0%B5%D0%BD%D0%B8%D0%B2%D1%8B%D0%B5_%D0%B2%D1%8B%D1%87%D0%B8%D1%81%D0%BB%D0%B5%D0%BD%D0%B8%D1%8F).\n",
    "\n",
    "Т.к. генератор поддерживает протокол итерации, то при необходимости можно получить список из генератора.  "
   ]
  },
  {
   "attachments": {
    "image.png": {
     "image/png": "[encoded data removed]"
    }
   },
   "cell_type": "markdown",
   "id": "330083ed",
   "metadata": {},
   "source": [
    "![image.png](attachment:image.png)"
   ]
  },
  {
   "cell_type": "code",
   "execution_count": null,
   "id": "040f99f1",
   "metadata": {},
   "outputs": [
    {
     "name": "stdout",
     "output_type": "stream",
     "text": [
      "[0, 0.1, 0.2, 0.30000000000000004, 0.4, 0.5, 0.6, 0.7, 0.7999999999999999, 0.8999999999999999, 0.9999999999999999]\n"
     ]
    }
   ],
   "source": [
    "print(list(frange(0, 1, 0.1)))"
   ]
  },
  {
   "cell_type": "markdown",
   "id": "68850ef9",
   "metadata": {},
   "source": [
    "Но это может привести к зацикливанию, если генератор никогда не исчерпается. В этом заключается ещё одно крупное отличие генераторов от итераторов: генераторы могут генерировать бесконечную последовательность элементов, а итераторы всегда пробегаются по расположенной в памяти, а значит конечной, последовательности элементов. Например, следующий генератор выдаёт бесконечную последовательность натуральных чисел.\n",
    "\n",
    "```{note}\n",
    "В модуле [itertools](https://docs.python.org/3/library/itertools.html) реализован генератор [count](https://docs.python.org/3/library/itertools.html#itertools.count), с помощью которого можно добиться точно такого же поведения.\n",
    "```"
   ]
  },
  {
   "cell_type": "code",
   "execution_count": null,
   "id": "0cd3fd54",
   "metadata": {},
   "outputs": [],
   "source": [
    "def count():\n",
    "    x = 1\n",
    "    while True:\n",
    "        yield x\n",
    "        x += 1"
   ]
  },
  {
   "cell_type": "markdown",
   "id": "a8a1348b",
   "metadata": {},
   "source": [
    "Т.к. такой генератор никогда не исчерпается, то он никогда и не бросит исключения `StopIteration`, а значит применять его в цикле `for` можно только в случае, если предусмотрен выход оператором `break`. Иначе программа зациклится.\n",
    "\n",
    "## Генераторные выражения\n",
    "\n",
    "Если вместо квадратных скобочек в списковом включении указать круглые, то вы получите [генераторное выражение](https://docs.python.org/3/glossary.html#term-generator-expression). Разница заключается в том, что в случае спискового включения все вычисления производятся сразу и в результате выходит список, а в случае генераторного выражения вы получаете объект генератора, что само по себе не приводит к никаким вычислениям.\n",
    "\n",
    "Чтобы продемонстрировать это, создадим список и генератор схожим выражением и измерим, сколько байт занимает каждый из них.\n",
    "\n",
    "```{note}\n",
    "Метод [getsizeof](https://docs.python.org/3/library/sys.html#sys.getsizeof) измеряет количество байт, которое занимает объект в памяти. Он корректно работает для всех встроенных объектов и объектов из стандартной библиотеки, но может давать ложную информацию для пользовательских объектов и объектов из сторонних библиотек.\n",
    "```"
   ]
  },
  {
   "cell_type": "code",
   "execution_count": null,
   "id": "93f74e43",
   "metadata": {},
   "outputs": [
    {
     "name": "stdout",
     "output_type": "stream",
     "text": [
      "Список занимает 8448728 байт\n",
      "Генератор занимает 104 байт\n",
      "333332833333500000 333332833333500000\n"
     ]
    }
   ],
   "source": [
    "from sys import getsizeof\n",
    "\n",
    "l = [x * x for x in range(1_000_000)]\n",
    "g = (x * x for x in range(1_000_000))\n",
    "\n",
    "print(f\"Список занимает {getsizeof(l)} байт\")\n",
    "print(f\"Генератор занимает {getsizeof(g)} байт\")\n",
    "\n",
    "print(sum(l), sum(g))"
   ]
  }
 ],
 "metadata": {
  "colab": {
   "provenance": []
  },
  "kernelspec": {
   "display_name": "env1",
   "language": "python",
   "name": "python3"
  },
  "language_info": {
   "codemirror_mode": {
    "name": "ipython",
    "version": 3
   },
   "file_extension": ".py",
   "mimetype": "text/x-python",
   "name": "python",
   "nbconvert_exporter": "python",
   "pygments_lexer": "ipython3",
   "version": "3.12.3"
  }
 },
 "nbformat": 4,
 "nbformat_minor": 5
}
