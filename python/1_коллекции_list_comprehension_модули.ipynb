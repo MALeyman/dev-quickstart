{
 "cells": [
  {
   "cell_type": "markdown",
   "metadata": {},
   "source": [
    "# Базовые типы данных Python\n",
    "Нельзя указать переменную, не присвоив ей какое-либо значение. Но \n",
    "можно присвоить значение None и использовать переменную дальше по \n",
    "коду"
   ]
  },
  {
   "cell_type": "code",
   "execution_count": null,
   "metadata": {},
   "outputs": [],
   "source": [
    "value = None \n",
    "a = 123 \n",
    "b = 1.23 \n",
    "print(a) #123 \n",
    "print(b) #1.23 \n",
    "value = 1234\n",
    "print(value) #1234"
   ]
  },
  {
   "cell_type": "markdown",
   "metadata": {},
   "source": [
    "## Как узнать какой тип данных в переменной?\n",
    "Возникают такие ситуации, когда мы хотим узнать тип данных у \n",
    "переменной, для того, чтобы это выполнить необходимо применить \n",
    "функции type(varName)."
   ]
  },
  {
   "cell_type": "code",
   "execution_count": 2,
   "metadata": {},
   "outputs": [
    {
     "name": "stdout",
     "output_type": "stream",
     "text": [
      "<class 'str'>\n"
     ]
    }
   ],
   "source": [
    "name = 'Tolkien'\n",
    "print(type(name)) # функция, которая указывает на тип данных"
   ]
  },
  {
   "cell_type": "markdown",
   "metadata": {},
   "source": [
    "## Как объявить строку?\n",
    "Чтобы создать строку и сохранить ее в переменную необходимо написать \n",
    "следующим образом: "
   ]
  },
  {
   "cell_type": "code",
   "execution_count": 36,
   "metadata": {},
   "outputs": [
    {
     "name": "stdout",
     "output_type": "stream",
     "text": [
      "hello, world\n"
     ]
    }
   ],
   "source": [
    "s = 'hello,' # создание 1-ой строки\n",
    "w = \"world\" # создание 2-ой строки\n",
    "print(s, w)"
   ]
  },
  {
   "cell_type": "markdown",
   "metadata": {},
   "source": [
    "Как мы видим, строку можно создавать как одинарными кавычками, так \n",
    "и двойными.\n"
   ]
  },
  {
   "cell_type": "markdown",
   "metadata": {},
   "source": [
    "## Как сделать комментарий?\n",
    "Если Вы хотите закомментировать 1 строку достаточно применить \n",
    "специальный символ “#”, если Вам нужно закомментировать сразу \n",
    "несколько строк выделите их и нажмите ctrl + / или же используйте \n",
    "тройные кавычки ```"
   ]
  },
  {
   "cell_type": "code",
   "execution_count": 38,
   "metadata": {},
   "outputs": [
    {
     "ename": "SyntaxError",
     "evalue": "invalid character '’' (U+2019) (4238356165.py, line 3)",
     "output_type": "error",
     "traceback": [
      "\u001b[1;36m  Cell \u001b[1;32mIn[38], line 3\u001b[1;36m\u001b[0m\n\u001b[1;33m    ’’’print(1)\u001b[0m\n\u001b[1;37m    ^\u001b[0m\n\u001b[1;31mSyntaxError\u001b[0m\u001b[1;31m:\u001b[0m invalid character '’' (U+2019)\n"
     ]
    }
   ],
   "source": [
    "# print(1)\n",
    "# —-----------------\n",
    "'''print(1)\n",
    "print(1)\n",
    "print(1)\n",
    "print(1)\n",
    "print(1)'''"
   ]
  },
  {
   "cell_type": "markdown",
   "metadata": {},
   "source": [
    "# Списки\n",
    "**Список** - это упорядоченный конечный набор элементов. \n",
    "\n",
    "**Список** - это тот же самый массив, в котором можно хранить элементы любых типов данных."
   ]
  },
  {
   "cell_type": "code",
   "execution_count": 1,
   "metadata": {},
   "outputs": [],
   "source": [
    "list_1 = [] # Создание пустого списка\n",
    "list_2 = list() # Создание пустого списка\n",
    "list_1 = [7, 9, 11, 13, 15, 17] # создание списка"
   ]
  },
  {
   "cell_type": "markdown",
   "metadata": {},
   "source": [
    "В списках существует нумерация, которая начинается с 0, чтобы \n",
    "вывести первый элемент списка воспользуемся следующей \n",
    "конструкцией"
   ]
  },
  {
   "cell_type": "code",
   "execution_count": 2,
   "metadata": {},
   "outputs": [
    {
     "name": "stdout",
     "output_type": "stream",
     "text": [
      "7\n"
     ]
    }
   ],
   "source": [
    "list_1 = [7, 9, 11, 13, 15, 17]\n",
    "print(list_1[0]) # 7"
   ]
  },
  {
   "cell_type": "code",
   "execution_count": 1,
   "metadata": {},
   "outputs": [
    {
     "name": "stdout",
     "output_type": "stream",
     "text": [
      "(57, 5, 3, [7, 8, 8, 4])\n"
     ]
    }
   ],
   "source": [
    "tuple_test = (57, 5, 3, [7, 8, 8, 4])\n",
    "print(tuple_test)"
   ]
  },
  {
   "cell_type": "code",
   "execution_count": 3,
   "metadata": {},
   "outputs": [],
   "source": [
    "tuple_test[-1].append(8)"
   ]
  },
  {
   "cell_type": "code",
   "execution_count": 4,
   "metadata": {},
   "outputs": [
    {
     "data": {
      "text/plain": [
       "(57, 5, 3, [7, 8, 8, 4, 8])"
      ]
     },
     "execution_count": 4,
     "metadata": {},
     "output_type": "execute_result"
    }
   ],
   "source": [
    "tuple_test"
   ]
  },
  {
   "cell_type": "markdown",
   "metadata": {},
   "source": [
    "Можно список заполнять не только при его создание, но и во время работы программы"
   ]
  },
  {
   "cell_type": "code",
   "execution_count": 5,
   "metadata": {},
   "outputs": [
    {
     "name": "stdout",
     "output_type": "stream",
     "text": [
      "[4, 5, 7, 2, 3, 4, 9, 12, 13, 16]\n",
      "Число в списке: 4\n",
      "Число в списке: 5\n",
      "Число в списке: 7\n",
      "Число в списке: 2\n",
      "Число в списке: 3\n",
      "Число в списке: 4\n",
      "Число в списке: 9\n",
      "Число в списке: 12\n",
      "Число в списке: 13\n",
      "Число в списке: 16\n"
     ]
    }
   ],
   "source": [
    "MAX_LEN = 10\n",
    "numbers_lst = [] # создание пустого списка\n",
    "for i in range(MAX_LEN):\n",
    "    # пример цикла for, от 0 до MAX_LEN - 1 с шагом 1\n",
    "    number = int(input(\"Введите число: \"))\n",
    "    numbers_lst.append(number)\n",
    "print(numbers_lst)\n",
    "\n",
    "for elem in numbers_lst:\n",
    "    # цикл foreach, Iterable, индексы\n",
    "    print(f'Число в списке: {elem}')"
   ]
  },
  {
   "cell_type": "code",
   "execution_count": 4,
   "metadata": {},
   "outputs": [
    {
     "name": "stdout",
     "output_type": "stream",
     "text": [
      "[10, 10, 10, 10, 22]\n"
     ]
    }
   ],
   "source": [
    "list_1 = list() # создание пустого списка\n",
    "for i in range(5): # цикл выполнится 5 раз\n",
    "   n = int(input()) # пользователь вводит целое число\n",
    "   list_1.append(n) # сохранение элемента в конец списка\n",
    "# 1-я итерация цикла(повторение 1): n = 12, list_1 = [12]\n",
    "# 2-я итерация цикла(повторение 2): n = 7, list_1 = [12, 7]\n",
    "# 3-я итерация цикла(повторение 3): n = -1, list_1 = [12, 7, -1]\n",
    "# 4-я итерация цикла(повторение 4): n = 21, list_1 = [12, 7, -1, 21]\n",
    "# 5-я итерация цикла(повторение 5): n = 0, list_1 = [12, 7, -1, 21, 0]\n",
    "print(list_1) # [12, 7, -1, 21, 0]"
   ]
  },
  {
   "cell_type": "markdown",
   "metadata": {},
   "source": [
    "Чтобы узнать количество элементов в списке необходимо использовать функцию \n",
    "len(имя_списка):"
   ]
  },
  {
   "cell_type": "code",
   "execution_count": 5,
   "metadata": {},
   "outputs": [
    {
     "name": "stdout",
     "output_type": "stream",
     "text": [
      "6\n"
     ]
    }
   ],
   "source": [
    "list_1 = [7, 9, 11, 13, 15, 17]\n",
    "print(len(list_1)) # 6"
   ]
  },
  {
   "cell_type": "markdown",
   "metadata": {},
   "source": [
    "Мы можем пользоваться нумерацией, для того чтобы узнать какой элемент стоит на той или иной позиции. Но это не всегда удобно, особенно, когда список будет состоять из 1000, 1000000… элементов. В этом случае необходимо использовать цикл for."
   ]
  },
  {
   "cell_type": "markdown",
   "metadata": {},
   "source": [
    "##  Взаимодействие цикла for со списком:"
   ]
  },
  {
   "cell_type": "code",
   "execution_count": null,
   "metadata": {},
   "outputs": [],
   "source": [
    "list_1 = [12, 7, -1, 21, 0]\n",
    "for i in list_1:\n",
    "   print(i) # вывод каждого элемента списка\n",
    "# 1-я итерация цикла(повторение 1): i = 12\n",
    "# 2-я итерация цикла(повторение 2): i = 7\n",
    "# 3-я итерация цикла(повторение 3): i = -1\n",
    "# 4-я итерация цикла(повторение 4): i = 21\n",
    "# 5-я итерация цикла(повторение 5): i = 0"
   ]
  },
  {
   "cell_type": "markdown",
   "metadata": {},
   "source": [
    "## Индексы элементов в списке"
   ]
  },
  {
   "cell_type": "code",
   "execution_count": 7,
   "metadata": {},
   "outputs": [
    {
     "data": {
      "text/plain": [
       "5"
      ]
     },
     "execution_count": 7,
     "metadata": {},
     "output_type": "execute_result"
    }
   ],
   "source": [
    "len(list_1)"
   ]
  },
  {
   "cell_type": "code",
   "execution_count": 8,
   "metadata": {},
   "outputs": [
    {
     "data": {
      "text/plain": [
       "range(0, 5)"
      ]
     },
     "execution_count": 8,
     "metadata": {},
     "output_type": "execute_result"
    }
   ],
   "source": [
    "range(len(list_1))"
   ]
  },
  {
   "cell_type": "code",
   "execution_count": 6,
   "metadata": {},
   "outputs": [
    {
     "name": "stdout",
     "output_type": "stream",
     "text": [
      "12\n",
      "7\n",
      "-1\n",
      "21\n",
      "0\n"
     ]
    }
   ],
   "source": [
    "list_1 = [12, 7, -1, 21, 0]\n",
    "for i in range(len(list_1)):\n",
    "   print(list_1[i]) # вывод каждого элемента списка\n",
    "# 1-я итерация цикла(повторение 1): list_1[0] = 12\n",
    "# 2-я итерация цикла(повторение 2): list_1[1] = 7\n",
    "# 3-я итерация цикла(повторение 3): list_1[2] = -1\n",
    "# 4-я итерация цикла(повторение 4): list_1[3] = 21\n",
    "# 5-я итерация цикла(повторение 5): list_1[4] = 0"
   ]
  },
  {
   "cell_type": "markdown",
   "metadata": {},
   "source": [
    "##  Основные действия со списками"
   ]
  },
  {
   "cell_type": "markdown",
   "metadata": {},
   "source": [
    "### Удаление последнего элемента списка\n",
    "Метод pop удаляет последний элемент из списка:"
   ]
  },
  {
   "cell_type": "code",
   "execution_count": 9,
   "metadata": {},
   "outputs": [
    {
     "name": "stdout",
     "output_type": "stream",
     "text": [
      "0\n",
      "[12, 7, -1, 21]\n",
      "21\n",
      "[12, 7, -1]\n",
      "-1\n",
      "[12, 7]\n"
     ]
    }
   ],
   "source": [
    "list_1 = [12, 7, -1, 21, 0]\n",
    "print(list_1.pop()) # 0 \n",
    "print(list_1) # [12, 7, -1, 21]\n",
    "print(list_1.pop()) # 21\n",
    "print(list_1) # [12, 7, -1]\n",
    "print(list_1.pop()) # -1\n",
    "print(list_1) # [12, 7]"
   ]
  },
  {
   "cell_type": "markdown",
   "metadata": {},
   "source": [
    "### Удаление конкретного элемента из списка\n",
    "Надо указать значение индекса в качестве аргумента функции pop:"
   ]
  },
  {
   "cell_type": "code",
   "execution_count": 10,
   "metadata": {},
   "outputs": [
    {
     "name": "stdout",
     "output_type": "stream",
     "text": [
      "12\n",
      "[7, -1, 21, 0]\n"
     ]
    }
   ],
   "source": [
    "list_1 = [12, 7, -1, 21, 0]\n",
    "print(list_1.pop(0)) # 12 \n",
    "print(list_1) # [7, -1, 21, 0]\n"
   ]
  },
  {
   "cell_type": "code",
   "execution_count": 11,
   "metadata": {},
   "outputs": [
    {
     "name": "stdout",
     "output_type": "stream",
     "text": [
      "21\n",
      "[7, -1, 0]\n"
     ]
    }
   ],
   "source": [
    "print(list_1.pop(2)) # 12 \n",
    "print(list_1) # [7, -1, 21, 0]"
   ]
  },
  {
   "cell_type": "markdown",
   "metadata": {},
   "source": [
    "### Добавление элемента на нужную позицию\n",
    "Функция insert — указание индекса (позиции) и значения"
   ]
  },
  {
   "cell_type": "code",
   "execution_count": 12,
   "metadata": {},
   "outputs": [
    {
     "name": "stdout",
     "output_type": "stream",
     "text": [
      "None\n",
      "[12, 7, 11, -1, 21, 0]\n"
     ]
    }
   ],
   "source": [
    "list_1 = [12, 7, -1, 21, 0]\n",
    "print(list_1.insert(2, 11))\n",
    "print(list_1) # [12, 7, 11, -1, 21, 0]"
   ]
  },
  {
   "cell_type": "code",
   "execution_count": 13,
   "metadata": {},
   "outputs": [
    {
     "name": "stdout",
     "output_type": "stream",
     "text": [
      "None\n",
      "[12, 7, 8, 11, -1, 21, 0]\n"
     ]
    }
   ],
   "source": [
    "print(list_1.insert(2, 8))\n",
    "print(list_1) # [12, 7, 11, -1, 21, 0]"
   ]
  },
  {
   "cell_type": "markdown",
   "metadata": {},
   "source": [
    "### Cрез списка\n",
    "Отрицательное число в индексе — счёт с конца списка"
   ]
  },
  {
   "cell_type": "code",
   "execution_count": 14,
   "metadata": {},
   "outputs": [
    {
     "name": "stdout",
     "output_type": "stream",
     "text": [
      "1\n",
      "2\n",
      "10\n",
      "6\n",
      "[1, 2, 3, 4, 5, 6, 7, 8, 9, 10]\n",
      "[1, 2]\n",
      "[9, 10]\n"
     ]
    }
   ],
   "source": [
    "list_1 = [1, 2, 3, 4, 5, 6, 7, 8, 9, 10]\n",
    "print(list_1[0])                           # 1\n",
    "print(list_1[1])                           # 2\n",
    "print(list_1[len(list_1)-1])                 # 10\n",
    "print(list_1[-5])                          # 6\n",
    "print(list_1[:])                     # [1, 2, 3, 4, 5, 6, 7, 8, 9, 10]\n",
    "print(list_1[:2])                          # [1, 2]\n",
    "print(list_1[len(list_1)-2:])                #[9, 10]\n"
   ]
  },
  {
   "cell_type": "code",
   "execution_count": 16,
   "metadata": {},
   "outputs": [
    {
     "data": {
      "text/plain": [
       "[1, 2, 3, 4, 5, 6, 7, 8, 9, 10]"
      ]
     },
     "execution_count": 16,
     "metadata": {},
     "output_type": "execute_result"
    }
   ],
   "source": [
    "list_1"
   ]
  },
  {
   "cell_type": "code",
   "execution_count": 24,
   "metadata": {},
   "outputs": [
    {
     "data": {
      "text/plain": [
       "[6, 7, 8, 9, 10]"
      ]
     },
     "execution_count": 24,
     "metadata": {},
     "output_type": "execute_result"
    }
   ],
   "source": [
    "list_1[-5:]"
   ]
  },
  {
   "cell_type": "code",
   "execution_count": 18,
   "metadata": {},
   "outputs": [
    {
     "data": {
      "text/plain": [
       "[5, 6, 7, 8]"
      ]
     },
     "execution_count": 18,
     "metadata": {},
     "output_type": "execute_result"
    }
   ],
   "source": [
    "list_1[4:8]"
   ]
  },
  {
   "cell_type": "code",
   "execution_count": 25,
   "metadata": {},
   "outputs": [
    {
     "name": "stdout",
     "output_type": "stream",
     "text": [
      "[3, 4, 5, 6, 7, 8, 9]\n",
      "[]\n",
      "[1, 7]\n",
      "[1, 7]\n"
     ]
    }
   ],
   "source": [
    "print(list_1[2:9])                         # [3, 4, 5, 6, 7, 8, 9]\n",
    "print(list_1[6:-18])                       # []\n",
    "print(list_1[0:len(list_1):6])               # [1, 7]\n",
    "print(list_1[::6])                         # [1, 7]"
   ]
  },
  {
   "cell_type": "markdown",
   "metadata": {},
   "source": [
    "# Кортежи\n",
    "Кортеж — это неизменяемая структура данных. Кортеж занимает меньше места в памяти и работают быстрее, по сравнению со списками"
   ]
  },
  {
   "cell_type": "code",
   "execution_count": 26,
   "metadata": {},
   "outputs": [
    {
     "name": "stdout",
     "output_type": "stream",
     "text": [
      "<class 'tuple'>\n",
      "<class 'tuple'>\n",
      "<class 'int'>\n",
      "<class 'tuple'>\n"
     ]
    }
   ],
   "source": [
    "t = () # создание пустого кортежа\n",
    "print(type(t)) # class <'tuple'>\n",
    "t = (1,)\n",
    "print(type(t))\n",
    "t = (1)\n",
    "print(type(t))\n",
    "t = (28, 9, 1990)\n",
    "print(type(t))"
   ]
  },
  {
   "cell_type": "code",
   "execution_count": 29,
   "metadata": {},
   "outputs": [
    {
     "name": "stdout",
     "output_type": "stream",
     "text": [
      "5,6,7\n"
     ]
    }
   ],
   "source": [
    "a, b, c = (5, 6, 7)\n",
    "print(a, b, c, sep=\",\")"
   ]
  },
  {
   "cell_type": "code",
   "execution_count": 30,
   "metadata": {},
   "outputs": [
    {
     "ename": "ValueError",
     "evalue": "not enough values to unpack (expected 3, got 2)",
     "output_type": "error",
     "traceback": [
      "\u001b[1;31m---------------------------------------------------------------------------\u001b[0m",
      "\u001b[1;31mValueError\u001b[0m                                Traceback (most recent call last)",
      "Cell \u001b[1;32mIn[30], line 1\u001b[0m\n\u001b[1;32m----> 1\u001b[0m a, b, c \u001b[38;5;241m=\u001b[39m (\u001b[38;5;241m5\u001b[39m, \u001b[38;5;241m6\u001b[39m)\n\u001b[0;32m      2\u001b[0m \u001b[38;5;28mprint\u001b[39m(a, b, c, sep\u001b[38;5;241m=\u001b[39m\u001b[38;5;124m\"\u001b[39m\u001b[38;5;124m,\u001b[39m\u001b[38;5;124m\"\u001b[39m)\n",
      "\u001b[1;31mValueError\u001b[0m: not enough values to unpack (expected 3, got 2)"
     ]
    }
   ],
   "source": [
    "a, b, c = (5, 6)\n",
    "print(a, b, c, sep=\",\")"
   ]
  },
  {
   "cell_type": "code",
   "execution_count": 39,
   "metadata": {},
   "outputs": [
    {
     "data": {
      "text/plain": [
       "1"
      ]
     },
     "execution_count": 39,
     "metadata": {},
     "output_type": "execute_result"
    }
   ],
   "source": [
    "a = (1,)\n",
    "a[0]"
   ]
  },
  {
   "cell_type": "code",
   "execution_count": 34,
   "metadata": {},
   "outputs": [
    {
     "data": {
      "text/plain": [
       "1"
      ]
     },
     "execution_count": 34,
     "metadata": {},
     "output_type": "execute_result"
    }
   ],
   "source": [
    "len(a)"
   ]
  },
  {
   "cell_type": "code",
   "execution_count": 44,
   "metadata": {},
   "outputs": [],
   "source": [
    "t, *_ = (1,)"
   ]
  },
  {
   "cell_type": "code",
   "execution_count": 45,
   "metadata": {},
   "outputs": [
    {
     "data": {
      "text/plain": [
       "(1,)"
      ]
     },
     "execution_count": 45,
     "metadata": {},
     "output_type": "execute_result"
    }
   ],
   "source": [
    "t, *_"
   ]
  },
  {
   "cell_type": "markdown",
   "metadata": {},
   "source": [
    "## Распаковка кортежа\n",
    "Можно распаковать кортеж в независимые переменные"
   ]
  },
  {
   "cell_type": "code",
   "execution_count": 31,
   "metadata": {},
   "outputs": [
    {
     "name": "stdout",
     "output_type": "stream",
     "text": [
      "r:red g:green b:blue\n"
     ]
    }
   ],
   "source": [
    "t = tuple(['red', 'green', 'blue'])\n",
    "red, green, blue = t\n",
    "print('r:{} g:{} b:{}'.format(red, green, blue)) # r:red g:green b:blue\n"
   ]
  },
  {
   "cell_type": "markdown",
   "metadata": {},
   "source": [
    "# Словари\n",
    "Словари — неупорядоченные коллекции произвольных объектов с доступом по ключу.\n",
    "В списках в качестве ключа используется индекс элемента. В словаре для определения \n",
    "элемента используется значение ключа (строка, число)."
   ]
  },
  {
   "cell_type": "code",
   "execution_count": 42,
   "metadata": {},
   "outputs": [
    {
     "name": "stdout",
     "output_type": "stream",
     "text": [
      "{'up': '↑', 'left': '←', 'down': '↓', 'right': '→'}\n",
      "←\n",
      "↑\n",
      "⇐\n"
     ]
    }
   ],
   "source": [
    "dictionary = dict()\n",
    "dictionary = {'up': '↑', 'left': '←', 'down': '↓', 'right': '→'}\n",
    "print(dictionary)  # {'up':'↑', 'left':'←', 'down':'↓', 'right':'→'}\n",
    "print(dictionary['left'])  # ← типы ключей могут отличаться\n",
    "print(dictionary['up'])   # ↑ типы ключей могут отличаться\n",
    "dictionary['left'] = '⇐' \n",
    "print(dictionary['left']) # ⇐ "
   ]
  },
  {
   "cell_type": "code",
   "execution_count": null,
   "metadata": {},
   "outputs": [],
   "source": [
    "print(dictionary['type']) # KeyError: 'type' "
   ]
  },
  {
   "cell_type": "code",
   "execution_count": 48,
   "metadata": {},
   "outputs": [],
   "source": [
    "del dictionary['up'] # удаление элемента"
   ]
  },
  {
   "cell_type": "code",
   "execution_count": 49,
   "metadata": {},
   "outputs": [
    {
     "data": {
      "text/plain": [
       "{'down': '↓', 'right': '→'}"
      ]
     },
     "execution_count": 49,
     "metadata": {},
     "output_type": "execute_result"
    }
   ],
   "source": [
    "dictionary"
   ]
  },
  {
   "cell_type": "markdown",
   "metadata": {},
   "source": [
    "# Множества\n",
    "Множества содержат в себе уникальные элементы, не обязательно упорядоченные.\n",
    "Одно множество может содержать значения любых типов. \n",
    "Если у Вас есть два множества, Вы можете совершать над ними любые стандартные операции, например, объединение, \n",
    "пересечение и разность."
   ]
  },
  {
   "cell_type": "code",
   "execution_count": null,
   "metadata": {},
   "outputs": [],
   "source": [
    "exple_set = set()"
   ]
  },
  {
   "cell_type": "code",
   "execution_count": 52,
   "metadata": {},
   "outputs": [
    {
     "name": "stdout",
     "output_type": "stream",
     "text": [
      "{'red', 'blue', 'green'}\n",
      "{'red', 'blue', 'green'}\n",
      "{'red', 'blue', 'gray', 'green'}\n",
      "{'blue', 'gray', 'green'}\n"
     ]
    }
   ],
   "source": [
    "colors = {'red', 'green', 'blue'}\n",
    "print(colors) # {'red', 'green', 'blue'}\n",
    "colors.add('red')\n",
    "print(colors)  # {'red', 'green', 'blue'}\n",
    "colors.add('gray') \n",
    "print(colors)  # {'red', 'green', 'blue','gray'}\n",
    "colors.remove('red')\n",
    "print(colors)  # {'green', 'blue','gray'}"
   ]
  },
  {
   "cell_type": "code",
   "execution_count": 53,
   "metadata": {},
   "outputs": [
    {
     "ename": "KeyError",
     "evalue": "'red'",
     "output_type": "error",
     "traceback": [
      "\u001b[1;31m---------------------------------------------------------------------------\u001b[0m",
      "\u001b[1;31mKeyError\u001b[0m                                  Traceback (most recent call last)",
      "Cell \u001b[1;32mIn[53], line 1\u001b[0m\n\u001b[1;32m----> 1\u001b[0m \u001b[43mcolors\u001b[49m\u001b[38;5;241;43m.\u001b[39;49m\u001b[43mremove\u001b[49m\u001b[43m(\u001b[49m\u001b[38;5;124;43m'\u001b[39;49m\u001b[38;5;124;43mred\u001b[39;49m\u001b[38;5;124;43m'\u001b[39;49m\u001b[43m)\u001b[49m \u001b[38;5;66;03m# KeyError: 'red'\u001b[39;00m\n",
      "\u001b[1;31mKeyError\u001b[0m: 'red'"
     ]
    }
   ],
   "source": [
    "colors.remove('red') # KeyError: 'red'"
   ]
  },
  {
   "cell_type": "code",
   "execution_count": 54,
   "metadata": {},
   "outputs": [],
   "source": [
    "\n",
    "colors.discard('red')  # ok"
   ]
  },
  {
   "cell_type": "markdown",
   "metadata": {},
   "source": [
    "##  Операции со множествами в Python"
   ]
  },
  {
   "cell_type": "code",
   "execution_count": 55,
   "metadata": {},
   "outputs": [],
   "source": [
    "a = {1, 2, 3, 5, 8}\n",
    "b = {2, 5, 8, 13, 21}\n",
    "c = a.copy()            # c = {1, 2, 3, 5, 8}\n",
    "u = a.union(b)          # u = {1, 2, 3, 5, 8, 13, }\n",
    "i = a.intersection(b)   # i = {8, 2, 5}\n",
    "dl = a.difference(b)    # dl = {1, 3}\n",
    "dr = b.difference(a)    # dr = {13, 21}\n",
    "q = a.union(b).difference(a.intersection(b)) # {1, 21, 3, 13}"
   ]
  },
  {
   "cell_type": "markdown",
   "metadata": {},
   "source": [
    "#  Замороженное множество(frozenset) \n",
    "**Неизменяемое или замороженное множество(frozenset)** — множество, с которым не будут \n",
    "работать методы удаления и добавления."
   ]
  },
  {
   "cell_type": "code",
   "execution_count": null,
   "metadata": {},
   "outputs": [],
   "source": [
    "a = {1, 2, 3, 5, 8}\n",
    "b = frozenset(a)\n",
    "print(b) # frozenset({1, 2, 3, 5, 8})"
   ]
  },
  {
   "cell_type": "markdown",
   "metadata": {},
   "source": [
    "# List Comprehension\n",
    "Одна из культовых фишек Python — list comprehension (редко переводится на русский, но можно \n",
    "использовать определение «генератора списка»). \n",
    "Comprehension легко читать, и их используют как начинающие, так и опытные разработчики. \n",
    "List comprehension — это упрощенный подход к созданию списка, который задействует цикл for, а также инструкции \n",
    "if-else для определения того, что в итоге окажется в финальном списке"
   ]
  },
  {
   "cell_type": "markdown",
   "metadata": {},
   "source": [
    "##  Простая ситуация — список\n",
    "```\n",
    "list_1 = [exp for item in iterable]\n",
    "```"
   ]
  },
  {
   "cell_type": "code",
   "execution_count": 57,
   "metadata": {},
   "outputs": [
    {
     "ename": "SyntaxError",
     "evalue": "invalid syntax (3708763196.py, line 1)",
     "output_type": "error",
     "traceback": [
      "\u001b[1;36m  Cell \u001b[1;32mIn[57], line 1\u001b[1;36m\u001b[0m\n\u001b[1;33m    num * 2 for num in numbers\u001b[0m\n\u001b[1;37m            ^\u001b[0m\n\u001b[1;31mSyntaxError\u001b[0m\u001b[1;31m:\u001b[0m invalid syntax\n"
     ]
    }
   ],
   "source": [
    "num * 2 for num in numbers"
   ]
  },
  {
   "cell_type": "code",
   "execution_count": 59,
   "metadata": {},
   "outputs": [
    {
     "data": {
      "text/plain": [
       "[2, 4, 6, 8, 10]"
      ]
     },
     "execution_count": 59,
     "metadata": {},
     "output_type": "execute_result"
    }
   ],
   "source": [
    "[num * 2 for num in numbers]"
   ]
  },
  {
   "cell_type": "code",
   "execution_count": 56,
   "metadata": {},
   "outputs": [
    {
     "name": "stdout",
     "output_type": "stream",
     "text": [
      "[2, 4, 6, 8, 10]\n"
     ]
    }
   ],
   "source": [
    "numbers = [1, 2, 3, 4, 5]\n",
    "double_numbers = [num * 2 for num in numbers]\n",
    "\n",
    "'''\n",
    "double_numbers = []\n",
    "for num in numbers:\n",
    "    double_numbers.append(num * 2)\n",
    "'''\n",
    "\n",
    "print(double_numbers)  # Output: [2, 4, 6, 8, 10]"
   ]
  },
  {
   "cell_type": "markdown",
   "metadata": {},
   "source": [
    "##  Выборка по заданному условию\n",
    "\n",
    "```\n",
    "list_1 = [exp for item in iterable (if conditional)]\n",
    "```"
   ]
  },
  {
   "cell_type": "code",
   "execution_count": 64,
   "metadata": {},
   "outputs": [
    {
     "name": "stdout",
     "output_type": "stream",
     "text": [
      "[4, 16]\n"
     ]
    }
   ],
   "source": [
    "'''\n",
    "even_squares = []\n",
    "for num in numbers:\n",
    "    if(num % 2 == 0):\n",
    "        even_squares.append(num ** 2)\n",
    "'''\n",
    "numbers = [1, 2, 3, 4, 5]\n",
    "print([num ** 2 for num in numbers if num % 2 == 0])\n",
    "\n"
   ]
  },
  {
   "cell_type": "code",
   "execution_count": 60,
   "metadata": {},
   "outputs": [
    {
     "name": "stdout",
     "output_type": "stream",
     "text": [
      "[4, 16]\n",
      "['BANANA', 'CHERRY']\n",
      "[2, 4, 6]\n"
     ]
    }
   ],
   "source": [
    "# Example 1: Squaring even numbers\n",
    "numbers = [1, 2, 3, 4, 5]\n",
    "even_squares = [num ** 2 for num in numbers if num % 2 == 0]\n",
    "print(even_squares)  # Output: [4, 16]\n",
    "\n",
    "# Example 2: Filtering strings\n",
    "words = ['apple', 'banana', 'cherry', 'date']\n",
    "long_words = [word.upper() for word in words if len(word) > 5]\n",
    "print(long_words)  # Output: ['BANANA', 'CHERRY']\n",
    "\n",
    "# Example 3: Nested loops with condition\n",
    "matrix = [[1, 2, 3], [4, 5, 6]]\n",
    "even_numbers = [num for sublist in matrix for num in sublist if num % 2 == 0]\n",
    "print(even_numbers)  # Output: [2, 4, 6]"
   ]
  },
  {
   "cell_type": "markdown",
   "metadata": {},
   "source": [
    "# Задача 1\n",
    "Создать список, состоящий из четных чисел в диапазоне от 1 до 100."
   ]
  },
  {
   "cell_type": "code",
   "execution_count": 13,
   "metadata": {},
   "outputs": [
    {
     "name": "stdout",
     "output_type": "stream",
     "text": [
      "[1, 2, 3, 4, 5, 6, 7, 8, 9, 10, 11, 12, 13, 14, 15, 16, 17, 18, 19, 20, 21, 22, 23, 24, 25, 26, 27, 28, 29, 30, 31, 32, 33, 34, 35, 36, 37, 38, 39, 40, 41, 42, 43, 44, 45, 46, 47, 48, 49, 50, 51, 52, 53, 54, 55, 56, 57, 58, 59, 60, 61, 62, 63, 64, 65, 66, 67, 68, 69, 70, 71, 72, 73, 74, 75, 76, 77, 78, 79, 80, 81, 82, 83, 84, 85, 86, 87, 88, 89, 90, 91, 92, 93, 94, 95, 96, 97, 98, 99, 100]\n"
     ]
    }
   ],
   "source": [
    "# Создать список чисел от 1 до 100\n",
    "list_1 = []\n",
    "for i in range(1, 101):\n",
    "    list_1.append(i)\n",
    "print(list_1) # [1, 2, 3,..., 100]\n",
    "\n"
   ]
  },
  {
   "cell_type": "code",
   "execution_count": 14,
   "metadata": {},
   "outputs": [],
   "source": [
    "# Эту же функцию можно записать так:\n",
    "list_1 = [i for i in range(1, 101)] # [1, 2, 3,..., 100]"
   ]
  },
  {
   "cell_type": "markdown",
   "metadata": {},
   "source": [
    "# Задача 2\n",
    "Добавить условие (только чётные числа)"
   ]
  },
  {
   "cell_type": "code",
   "execution_count": 15,
   "metadata": {},
   "outputs": [],
   "source": [
    "list_1 = [i for i in range(1, 101) if i % 2 == 0] # [2, 4, 6,..., 100]"
   ]
  },
  {
   "cell_type": "markdown",
   "metadata": {},
   "source": [
    "Допустим, вы решили создать пары каждому из чисел (кортежи)"
   ]
  },
  {
   "cell_type": "code",
   "execution_count": 16,
   "metadata": {},
   "outputs": [],
   "source": [
    "list_1 = [(i, i) for i in range(1, 101) if i % 2 == 0] # [(2, 2), (4, 4),..., (100, 100)"
   ]
  },
  {
   "cell_type": "markdown",
   "metadata": {},
   "source": [
    " Также можно умножать, делить, прибавлять, вычитать. Например, умножить значение на 2"
   ]
  },
  {
   "cell_type": "code",
   "execution_count": 17,
   "metadata": {},
   "outputs": [
    {
     "name": "stdout",
     "output_type": "stream",
     "text": [
      "[0, 4, 8, 12, 16]\n"
     ]
    }
   ],
   "source": [
    "list_1 = [i * 2 for i in range(10) if i % 2 == 0]\n",
    "print(list_1) # [0, 4, 8, 12, 16"
   ]
  },
  {
   "cell_type": "markdown",
   "metadata": {},
   "source": [
    "# Профилирование и отладка"
   ]
  },
  {
   "cell_type": "markdown",
   "metadata": {},
   "source": [
    "## Профилирование кода\n",
    "\n",
    "Основные методы профилирования\n",
    "1. Статистическое профилирование: собирает статистику о выполнении кода во время его работы.\n",
    "2. Инструментальное профилирование: использует специальные инструменты для измерения производительности.\n",
    "3. Симметричное профилирование: анализирует как время выполнения, так и время простоя.\n",
    "4. Асинхронное профилирование: измеряет время между вызовами функций."
   ]
  },
  {
   "cell_type": "markdown",
   "metadata": {},
   "source": [
    "Вот пример использования профилировщика cProfile для анализа производительности Python-кода:"
   ]
  },
  {
   "cell_type": "code",
   "execution_count": 31,
   "metadata": {},
   "outputs": [
    {
     "name": "stdout",
     "output_type": "stream",
     "text": [
      "Wed Nov  6 11:53:09 2024    profile.out\n",
      "\n",
      "         4 function calls in 0.000 seconds\n",
      "\n",
      "   Ordered by: cumulative time\n",
      "\n",
      "   ncalls  tottime  percall  cumtime  percall filename:lineno(function)\n",
      "        1    0.000    0.000    0.000    0.000 {method 'disable' of '_lsprof.Profiler' objects}\n",
      "        1    0.000    0.000    0.000    0.000 {built-in method builtins.exec}\n",
      "        1    0.000    0.000    0.000    0.000 <string>:1(<module>)\n",
      "        1    0.000    0.000    0.000    0.000 2913159222.py:4(main)\n",
      "\n",
      "\n"
     ]
    }
   ],
   "source": [
    "import cProfile\n",
    "import pstats\n",
    "\n",
    "def main():\n",
    "    # Ваш код здесь\n",
    "    \n",
    "    pass\n",
    "\n",
    "if __name__ == \"__main__\":\n",
    "    cProfile.run('main()', filename='profile.out')\n",
    "    stats = pstats.Stats('profile.out').strip_dirs().sort_stats('cumulative')\n",
    "    stats.print_stats()"
   ]
  },
  {
   "cell_type": "markdown",
   "metadata": {},
   "source": [
    "Этот скрипт запустит профилирование вашего основного кода и выведет статистику о времени выполнения функций."
   ]
  },
  {
   "cell_type": "markdown",
   "metadata": {},
   "source": [
    "## Самые распространенные ошибки: SyntaxError(Синтаксическая ошибка)"
   ]
  },
  {
   "cell_type": "code",
   "execution_count": 18,
   "metadata": {},
   "outputs": [
    {
     "ename": "SyntaxError",
     "evalue": "expected ':' (3594549034.py, line 3)",
     "output_type": "error",
     "traceback": [
      "\u001b[1;36m  Cell \u001b[1;32mIn[18], line 3\u001b[1;36m\u001b[0m\n\u001b[1;33m    if number_first > number_second  # !!!!!\u001b[0m\n\u001b[1;37m                                     ^\u001b[0m\n\u001b[1;31mSyntaxError\u001b[0m\u001b[1;31m:\u001b[0m expected ':'\n"
     ]
    }
   ],
   "source": [
    "number_first = 5\n",
    "number_second = 7\n",
    "if number_first > number_second  # !!!!!\n",
    "    print(number_first)\n",
    "# Отсутствие :\n"
   ]
  },
  {
   "cell_type": "markdown",
   "metadata": {},
   "source": [
    "## Самые распространенные ошибки:  IndentationError(Ошибка отступов)"
   ]
  },
  {
   "cell_type": "code",
   "execution_count": 20,
   "metadata": {},
   "outputs": [
    {
     "ename": "IndentationError",
     "evalue": "expected an indented block after 'if' statement on line 3 (4054838405.py, line 4)",
     "output_type": "error",
     "traceback": [
      "\u001b[1;36m  Cell \u001b[1;32mIn[20], line 4\u001b[1;36m\u001b[0m\n\u001b[1;33m    print(number_first) # !!!!!\u001b[0m\n\u001b[1;37m    ^\u001b[0m\n\u001b[1;31mIndentationError\u001b[0m\u001b[1;31m:\u001b[0m expected an indented block after 'if' statement on line 3\n"
     ]
    }
   ],
   "source": [
    "number_first = 5\n",
    "number_second = 7\n",
    "if number_first > number_second:\n",
    "print(number_first) # !!!!!\n",
    "# Отсутствие отступов"
   ]
  },
  {
   "cell_type": "code",
   "execution_count": 65,
   "metadata": {},
   "outputs": [
    {
     "name": "stdout",
     "output_type": "stream",
     "text": [
      "5\n"
     ]
    }
   ],
   "source": [
    "number_first = 5\n",
    "number_second = 7\n",
    "if number_first > number_second:\n",
    "    pass\n",
    "print(number_first) # !!!!!\n",
    "# Отсутствие отступов"
   ]
  },
  {
   "cell_type": "markdown",
   "metadata": {},
   "source": [
    "## Самые распространенные ошибки:  TypeError(Ошибка с типами данных)"
   ]
  },
  {
   "cell_type": "code",
   "execution_count": 21,
   "metadata": {},
   "outputs": [
    {
     "ename": "TypeError",
     "evalue": "can only concatenate str (not \"int\") to str",
     "output_type": "error",
     "traceback": [
      "\u001b[1;31m---------------------------------------------------------------------------\u001b[0m",
      "\u001b[1;31mTypeError\u001b[0m                                 Traceback (most recent call last)",
      "Cell \u001b[1;32mIn[21], line 3\u001b[0m\n\u001b[0;32m      1\u001b[0m text \u001b[38;5;241m=\u001b[39m \u001b[38;5;124m'\u001b[39m\u001b[38;5;124mPython\u001b[39m\u001b[38;5;124m'\u001b[39m\n\u001b[0;32m      2\u001b[0m number \u001b[38;5;241m=\u001b[39m \u001b[38;5;241m5\u001b[39m\n\u001b[1;32m----> 3\u001b[0m \u001b[38;5;28mprint\u001b[39m(\u001b[43mtext\u001b[49m\u001b[43m \u001b[49m\u001b[38;5;241;43m+\u001b[39;49m\u001b[43m \u001b[49m\u001b[43mnumber\u001b[49m)\n\u001b[0;32m      4\u001b[0m \u001b[38;5;66;03m# Нельзя складывать строки и числа\u001b[39;00m\n",
      "\u001b[1;31mTypeError\u001b[0m: can only concatenate str (not \"int\") to str"
     ]
    }
   ],
   "source": [
    "text = 'Python'\n",
    "number = 5\n",
    "print(text + number)\n",
    "# Нельзя складывать строки и числа"
   ]
  },
  {
   "cell_type": "code",
   "execution_count": 66,
   "metadata": {},
   "outputs": [
    {
     "name": "stdout",
     "output_type": "stream",
     "text": [
      "Python5\n"
     ]
    }
   ],
   "source": [
    "text = 'Python'\n",
    "number = 5\n",
    "print(text + str(number))\n",
    "# Нельзя складывать строки и числа"
   ]
  },
  {
   "cell_type": "markdown",
   "metadata": {},
   "source": [
    "## Самые распространенные ошибки:  ZeroDivisionError(Деление на 0)"
   ]
  },
  {
   "cell_type": "code",
   "execution_count": 22,
   "metadata": {},
   "outputs": [
    {
     "ename": "ZeroDivisionError",
     "evalue": "integer division or modulo by zero",
     "output_type": "error",
     "traceback": [
      "\u001b[1;31m---------------------------------------------------------------------------\u001b[0m",
      "\u001b[1;31mZeroDivisionError\u001b[0m                         Traceback (most recent call last)",
      "Cell \u001b[1;32mIn[22], line 3\u001b[0m\n\u001b[0;32m      1\u001b[0m number_first \u001b[38;5;241m=\u001b[39m \u001b[38;5;241m5\u001b[39m\n\u001b[0;32m      2\u001b[0m number_second \u001b[38;5;241m=\u001b[39m \u001b[38;5;241m0\u001b[39m\n\u001b[1;32m----> 3\u001b[0m \u001b[38;5;28mprint\u001b[39m(\u001b[43mnumber_first\u001b[49m\u001b[43m \u001b[49m\u001b[38;5;241;43m/\u001b[39;49m\u001b[38;5;241;43m/\u001b[39;49m\u001b[43m \u001b[49m\u001b[43mnumber_second\u001b[49m) \n\u001b[0;32m      4\u001b[0m \u001b[38;5;66;03m# Делить на 0 нельзя\u001b[39;00m\n",
      "\u001b[1;31mZeroDivisionError\u001b[0m: integer division or modulo by zero"
     ]
    }
   ],
   "source": [
    "number_first = 5\n",
    "number_second = 0\n",
    "print(number_first // number_second) \n",
    "# Делить на 0 нельзя"
   ]
  },
  {
   "cell_type": "markdown",
   "metadata": {},
   "source": [
    "## Самые распространенные ошибки:   KeyError(Ошибка ключа)"
   ]
  },
  {
   "cell_type": "code",
   "execution_count": 23,
   "metadata": {},
   "outputs": [
    {
     "ename": "KeyError",
     "evalue": "3",
     "output_type": "error",
     "traceback": [
      "\u001b[1;31m---------------------------------------------------------------------------\u001b[0m",
      "\u001b[1;31mKeyError\u001b[0m                                  Traceback (most recent call last)",
      "Cell \u001b[1;32mIn[23], line 2\u001b[0m\n\u001b[0;32m      1\u001b[0m dictionary \u001b[38;5;241m=\u001b[39m {\u001b[38;5;241m1\u001b[39m: \u001b[38;5;124m'\u001b[39m\u001b[38;5;124mMonday\u001b[39m\u001b[38;5;124m'\u001b[39m, \u001b[38;5;241m2\u001b[39m: \u001b[38;5;124m'\u001b[39m\u001b[38;5;124mTuesday\u001b[39m\u001b[38;5;124m'\u001b[39m}\n\u001b[1;32m----> 2\u001b[0m \u001b[38;5;28mprint\u001b[39m(\u001b[43mdictionary\u001b[49m\u001b[43m[\u001b[49m\u001b[38;5;241;43m3\u001b[39;49m\u001b[43m]\u001b[49m)\n\u001b[0;32m      3\u001b[0m \u001b[38;5;66;03m# Такого ключа не существует\u001b[39;00m\n",
      "\u001b[1;31mKeyError\u001b[0m: 3"
     ]
    }
   ],
   "source": [
    "dictionary = {1: 'Monday', 2: 'Tuesday'}\n",
    "print(dictionary[3])\n",
    "# Такого ключа не существует\n"
   ]
  },
  {
   "cell_type": "markdown",
   "metadata": {},
   "source": [
    "## Самые распространенные ошибки:   NameError(Ошибка имени переменной)"
   ]
  },
  {
   "cell_type": "code",
   "execution_count": 24,
   "metadata": {},
   "outputs": [
    {
     "ename": "NameError",
     "evalue": "name 'names' is not defined",
     "output_type": "error",
     "traceback": [
      "\u001b[1;31m---------------------------------------------------------------------------\u001b[0m",
      "\u001b[1;31mNameError\u001b[0m                                 Traceback (most recent call last)",
      "Cell \u001b[1;32mIn[24], line 2\u001b[0m\n\u001b[0;32m      1\u001b[0m name \u001b[38;5;241m=\u001b[39m \u001b[38;5;124m'\u001b[39m\u001b[38;5;124mIvan\u001b[39m\u001b[38;5;124m'\u001b[39m\n\u001b[1;32m----> 2\u001b[0m \u001b[38;5;28mprint\u001b[39m(\u001b[43mnames\u001b[49m)\n\u001b[0;32m      3\u001b[0m \u001b[38;5;66;03m# Переменной names не существует\u001b[39;00m\n",
      "\u001b[1;31mNameError\u001b[0m: name 'names' is not defined"
     ]
    }
   ],
   "source": [
    "name = 'Ivan'\n",
    "print(names)\n",
    "# Переменной names не существует"
   ]
  },
  {
   "cell_type": "markdown",
   "metadata": {},
   "source": [
    "## Самые распространенные ошибки:    ValueError(Ошибка значения)"
   ]
  },
  {
   "cell_type": "code",
   "execution_count": 25,
   "metadata": {},
   "outputs": [
    {
     "ename": "ValueError",
     "evalue": "invalid literal for int() with base 10: 'Python'",
     "output_type": "error",
     "traceback": [
      "\u001b[1;31m---------------------------------------------------------------------------\u001b[0m",
      "\u001b[1;31mValueError\u001b[0m                                Traceback (most recent call last)",
      "Cell \u001b[1;32mIn[25], line 2\u001b[0m\n\u001b[0;32m      1\u001b[0m text \u001b[38;5;241m=\u001b[39m \u001b[38;5;124m'\u001b[39m\u001b[38;5;124mPython\u001b[39m\u001b[38;5;124m'\u001b[39m\n\u001b[1;32m----> 2\u001b[0m \u001b[38;5;28mprint\u001b[39m(\u001b[38;5;28;43mint\u001b[39;49m\u001b[43m(\u001b[49m\u001b[43mtext\u001b[49m\u001b[43m)\u001b[49m)\n\u001b[0;32m      3\u001b[0m \u001b[38;5;66;03m# Нельзя символы перевести в целые значения\u001b[39;00m\n",
      "\u001b[1;31mValueError\u001b[0m: invalid literal for int() with base 10: 'Python'"
     ]
    }
   ],
   "source": [
    "text = 'Python'\n",
    "print(int(text))\n",
    "# Нельзя символы перевести в целые значения"
   ]
  },
  {
   "cell_type": "markdown",
   "metadata": {},
   "source": [
    "## Как обрабатывать исключения в Python (try except)"
   ]
  },
  {
   "cell_type": "markdown",
   "metadata": {},
   "source": [
    "В Python исключения обрабатываются с помощью блоков try/except. Для этого операция, которая может вызвать исключение, помещается внутрь блока try. А код, который должен быть выполнен при возникновении ошибки, находится внутри except."
   ]
  },
  {
   "cell_type": "code",
   "execution_count": 1,
   "metadata": {},
   "outputs": [
    {
     "name": "stdout",
     "output_type": "stream",
     "text": [
      "Ошибка! Деление на 0\n"
     ]
    }
   ],
   "source": [
    "try:\n",
    "    a = 7 / 0\n",
    "except:\n",
    "    print('Ошибка! Деление на 0')"
   ]
  },
  {
   "cell_type": "markdown",
   "metadata": {},
   "source": [
    "💭 PEP 8 рекомендует, по возможности, указывать конкретный тип исключения после ключевого слова except (чтобы перехватывать и обрабатывать конкретные исключения):"
   ]
  },
  {
   "cell_type": "code",
   "execution_count": null,
   "metadata": {},
   "outputs": [],
   "source": [
    "try:\n",
    "    a = 7 / 0\n",
    "except ZeroDivisionError:\n",
    "    print('Ошибка! Деление на 0')"
   ]
  },
  {
   "cell_type": "markdown",
   "metadata": {},
   "source": [
    "Однако если вы хотите перехватывать все исключения, которые сигнализируют об ошибках программы, используйте тип исключения Exception:"
   ]
  },
  {
   "cell_type": "code",
   "execution_count": null,
   "metadata": {},
   "outputs": [],
   "source": [
    "try:\n",
    "    a = 7 / 0\n",
    "except Exception:\n",
    "    print('Любая ошибка!')"
   ]
  },
  {
   "cell_type": "markdown",
   "metadata": {},
   "source": [
    "## As — сохраняет ошибку в переменную"
   ]
  },
  {
   "cell_type": "code",
   "execution_count": null,
   "metadata": {},
   "outputs": [],
   "source": [
    "try:\n",
    "    file = open('ok123.txt', 'r')\n",
    "except FileNotFoundError as e:\n",
    "    print(e)\n",
    "\n",
    "# [Errno 2] No such file or directory: 'ok123.txt'"
   ]
  },
  {
   "cell_type": "markdown",
   "metadata": {},
   "source": [
    "У каждого объекта есть поля, к которым можно обращаться (например если нужно логировать ошибку в собственном формате):"
   ]
  },
  {
   "cell_type": "code",
   "execution_count": null,
   "metadata": {},
   "outputs": [],
   "source": [
    "import datetime\n",
    "\n",
    "now = datetime.datetime.now().strftime(\"%d-%m-%Y %H:%M:%S\")\n",
    "\n",
    "try:\n",
    "    file = open('ok123.txt', 'r')\n",
    "except FileNotFoundError as e:\n",
    "    print(f\"{now} [FileNotFoundError]: {e.strerror}, filename: {e.filename}\")\n",
    "\n",
    "# 20-11-2021 18:42:01 [FileNotFoundError]: No such file or directory, filename: ok123.txt"
   ]
  },
  {
   "cell_type": "markdown",
   "metadata": {},
   "source": [
    "## Finally — выполняется всегда"
   ]
  },
  {
   "cell_type": "markdown",
   "metadata": {},
   "source": [
    "В следующем примере откроем файл и обратимся к несуществующей строке:"
   ]
  },
  {
   "cell_type": "code",
   "execution_count": null,
   "metadata": {},
   "outputs": [],
   "source": [
    "file = open('ok.txt', 'r')\n",
    "\n",
    "try:\n",
    "    lines = file.readlines()\n",
    "    print(lines[5])\n",
    "finally:\n",
    "    file.close()\n",
    "    if file.closed:\n",
    "        print(\"файл закрыт!\")\n",
    "\n",
    "\"\"\"\n",
    "> файл закрыт!\n",
    "> Traceback (most recent call last):\n",
    ">   File \"test.py\", line 5, in <module>\n",
    ">     print(lines[5])\n",
    "> IndexError: list index out of range\n",
    "\"\"\""
   ]
  },
  {
   "cell_type": "markdown",
   "metadata": {},
   "source": [
    "Также можно использовать одновременно три блока try/except/finally. В этом случае:\n",
    "\n",
    "* в try — код, который может вызвать исключения;\n",
    "* в except — код, который должен выполниться при возникновении исключения;\n",
    "* в finally — код, который должен выполниться в любом случае."
   ]
  },
  {
   "cell_type": "code",
   "execution_count": 3,
   "metadata": {},
   "outputs": [
    {
     "name": "stdout",
     "output_type": "stream",
     "text": [
      "a = 1, b = 2, res = 3\n"
     ]
    }
   ],
   "source": [
    "def sum(a, b):\n",
    "    res = 0\n",
    "\n",
    "    try:\n",
    "        res = a + b\n",
    "    except TypeError:\n",
    "        res = int(a) + int(b)\n",
    "    finally:\n",
    "        print(f\"a = {a}, b = {b}, res = {res}\")\n",
    "\n",
    "\n",
    "sum(1, \"2\")\n",
    "\n",
    "# a = 1, b = 2, res = 3"
   ]
  },
  {
   "cell_type": "markdown",
   "metadata": {},
   "source": [
    "## Несколько блоков except"
   ]
  },
  {
   "cell_type": "code",
   "execution_count": null,
   "metadata": {},
   "outputs": [],
   "source": [
    "try:\n",
    "    b = float(input('b = '))\n",
    "    c = float(input('c = '))\n",
    "    a = b / c\n",
    "except ZeroDivisionError:\n",
    "    print('Ошибка! Деление на 0')\n",
    "except ValueError:\n",
    "    print('Число введено неверно')\n",
    "else:\n",
    "    print(f\"a = {a}\")\n",
    "\n",
    "\"\"\"\n",
    "> b = 10\n",
    "> c = 0\n",
    "> Ошибка! Деление на 0\n",
    "\n",
    "> b = 10\n",
    "> c = питон\n",
    "> Число введено неверно\n",
    "\"\"\""
   ]
  },
  {
   "cell_type": "markdown",
   "metadata": {},
   "source": [
    "## Несколько блоков except"
   ]
  },
  {
   "cell_type": "code",
   "execution_count": null,
   "metadata": {},
   "outputs": [],
   "source": [
    "try:\n",
    "    b = float(input('b = '))\n",
    "    c = float(input('c = '))\n",
    "    a = b / c\n",
    "except (ZeroDivisionError, ValueError) as er:\n",
    "    print(er)\n",
    "else:\n",
    "    print('a = ', a)"
   ]
  }
 ],
 "metadata": {
  "kernelspec": {
   "display_name": "Python (condavenv)",
   "language": "python",
   "name": "condavenv"
  },
  "language_info": {
   "codemirror_mode": {
    "name": "ipython",
    "version": 3
   },
   "file_extension": ".py",
   "mimetype": "text/x-python",
   "name": "python",
   "nbconvert_exporter": "python",
   "pygments_lexer": "ipython3",
   "version": "3.11.13"
  }
 },
 "nbformat": 4,
 "nbformat_minor": 4
}
