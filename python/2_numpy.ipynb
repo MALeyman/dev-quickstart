{
 "cells": [
  {
   "cell_type": "markdown",
   "metadata": {
    "id": "HcEE4QLl7XzJ"
   },
   "source": [
    "# Введение в NumPy"
   ]
  },
  {
   "cell_type": "markdown",
   "metadata": {
    "id": "0saHbVDYmodf"
   },
   "source": [
    "## Основная информация и создание"
   ]
  },
  {
   "cell_type": "markdown",
   "metadata": {
    "id": "rmRVGzhK8KkY"
   },
   "source": [
    "Главный объект NumPy - это однородный многомерный массив.\n",
    "\n",
    "однородный - один тип\n",
    "\n",
    "многомерный - N измерения, от матрицы с 2 измерениями до ...\n",
    "\n",
    "Чаще всего это одномерная последовательность или двумерная таблица, заполненная элементами одного типа, как правило числами, которые проиндексированы кортежем положительных целых чисел.\n",
    "\n",
    "- ***``Numpy`` - это библиотека Python для вычислительно эффективных операций с многомерными массивами, предназначенная в основном для научных вычислений.***\n",
    "\n",
    "\n",
    "- ***Пакет ``Numpy`` предоставляет $n$-мерные однородные массивы (все элементы одного типа) в них нельзя вставить или удалить элемент в произвольном месте. В ``Numpy`` реализовано много операций над массивами в целом.***"
   ]
  },
  {
   "cell_type": "markdown",
   "metadata": {
    "id": "HOFNGRmB8UjZ"
   },
   "source": [
    "### Создание\n"
   ]
  },
  {
   "cell_type": "code",
   "execution_count": 60,
   "metadata": {},
   "outputs": [],
   "source": [
    "import numpy as np"
   ]
  },
  {
   "cell_type": "code",
   "execution_count": 61,
   "metadata": {},
   "outputs": [
    {
     "name": "stdout",
     "output_type": "stream",
     "text": [
      "[1 2 3 4]\n",
      "[[1 2 3]\n",
      " [4 5 6]]\n"
     ]
    }
   ],
   "source": [
    "# создание из списка  np.array()\n",
    "\n",
    "import numpy as np\n",
    "\n",
    "a = np.array([1, 2, 3, 4])\n",
    "b = np.array((5, 6, 7, 8))\n",
    "c = np.array([[1, 2, 3], [4, 5, 6]])\n",
    "print(a)  # [1 2 3 4]\n",
    "print(c)  # [[1 2 3]\n",
    "          #  [4 5 6]]\n"
   ]
  },
  {
   "cell_type": "code",
   "execution_count": 62,
   "metadata": {},
   "outputs": [
    {
     "name": "stdout",
     "output_type": "stream",
     "text": [
      "[[0. 0. 0.]\n",
      " [0. 0. 0.]\n",
      " [0. 0. 0.]]\n",
      "[1. 1. 1. 1. 1.]\n",
      "[[7 7 7 7]\n",
      " [7 7 7 7]]\n"
     ]
    }
   ],
   "source": [
    "# Создание массивов с заранее заданными значениями\n",
    "\n",
    "zeros_arr = np.zeros((3, 3))\n",
    "ones_arr = np.ones(5)\n",
    "full_arr = np.full((2, 4), 7)\n",
    "print(zeros_arr)\n",
    "print(ones_arr)\n",
    "print(full_arr)\n",
    "\n"
   ]
  },
  {
   "cell_type": "code",
   "execution_count": 63,
   "metadata": {},
   "outputs": [],
   "source": [
    "# Создание массивов с использованием функций генерации\n",
    "\n",
    "arr1 = np.arange(0, 10, 2)  # [0 2 4 6 8]   - cоздает массив с шагом\n",
    "arr2 = np.linspace(0, 1, 5) # [0.   0.25 0.5  0.75 1. ] - создает массив из num равномерно распределенных чисел между start и stop\n"
   ]
  },
  {
   "cell_type": "code",
   "execution_count": 64,
   "metadata": {},
   "outputs": [
    {
     "name": "stdout",
     "output_type": "stream",
     "text": [
      "[[0. 1. 2.]\n",
      " [1. 2. 3.]\n",
      " [2. 3. 4.]]\n"
     ]
    }
   ],
   "source": [
    "# Создание массивов с помощью функции по координатам элементов\n",
    "\n",
    "def rule(i, j):\n",
    "    return i + j\n",
    "\n",
    "arr = np.fromfunction(rule, (3, 3))\n",
    "print(arr)\n",
    "# [[0. 1. 2.]\n",
    "#  [1. 2. 3.]\n",
    "#  [2. 3. 4.]]\n"
   ]
  },
  {
   "cell_type": "code",
   "execution_count": 65,
   "metadata": {},
   "outputs": [],
   "source": [
    "# Копирование существующих массивов\n",
    "origin = np.array([1, 2, 3])\n",
    "copy_arr = origin.copy()\n"
   ]
  },
  {
   "cell_type": "code",
   "execution_count": 66,
   "metadata": {},
   "outputs": [
    {
     "data": {
      "text/plain": [
       "(array([[1, 1, 1],\n",
       "        [1, 1, 1]]),\n",
       " (2, 3))"
      ]
     },
     "execution_count": 66,
     "metadata": {},
     "output_type": "execute_result"
    }
   ],
   "source": [
    "# создание матрицы единиц размерностью матрица \"а\"\n",
    "b = np.ones_like(c)\n",
    "b, b.shape"
   ]
  },
  {
   "cell_type": "code",
   "execution_count": 67,
   "metadata": {},
   "outputs": [
    {
     "data": {
      "text/plain": [
       "array([[                  0,                   0,                   0,\n",
       "        4607182418800017408, 4607182418800017408, 4607182418800017408],\n",
       "       [4611686018427387904, 4611686018427387904, 4611686018427387904,\n",
       "                          0, 4607182418800017408, 4611686018427387904],\n",
       "       [                  0, 4607182418800017408, 4611686018427387904,\n",
       "                          0, 4607182418800017408, 4611686018427387904]])"
      ]
     },
     "execution_count": 67,
     "metadata": {},
     "output_type": "execute_result"
    }
   ],
   "source": [
    "# создание пустой матрицы (случайные элементы)\n",
    "c = np.empty((3,6), dtype='int')\n",
    "c"
   ]
  },
  {
   "cell_type": "markdown",
   "metadata": {},
   "source": [
    "### list comprehension \n",
    "\n",
    "list comprehension — мощный Python-инструмент для создания списков; с NumPy лучше предпочитать векторные операции для производительности. "
   ]
  },
  {
   "cell_type": "code",
   "execution_count": 68,
   "metadata": {},
   "outputs": [
    {
     "name": "stdout",
     "output_type": "stream",
     "text": [
      "[np.int64(1), np.int64(4), np.int64(9), np.int64(16), np.int64(25)]\n",
      "[ 1  4  9 16 25]\n"
     ]
    }
   ],
   "source": [
    "# List comprehension с массивами NumPy\n",
    "\n",
    "import numpy as np\n",
    "\n",
    "mass = np.array([1, 2, 3, 4, 5])\n",
    "\n",
    "# Создаём список квадратов элементов mass\n",
    "list_squares = [x**2 for x in mass]\n",
    "print(list_squares)  # [1, 4, 9, 16, 25]\n",
    "\n",
    "# Создаём массив из list comprehension (обратно в numpy.ndarray)\n",
    "arr_squares = np.array([x**2 for x in mass])\n",
    "print(arr_squares)   # [ 1  4  9 16 25]\n"
   ]
  },
  {
   "cell_type": "code",
   "execution_count": 69,
   "metadata": {},
   "outputs": [
    {
     "name": "stdout",
     "output_type": "stream",
     "text": [
      "[ 1  4  9 16 25]\n"
     ]
    }
   ],
   "source": [
    "# Векторизированные операции — лучше чем list comprehension\n",
    "\n",
    "import numpy as np\n",
    "\n",
    "mass = np.array([1, 2, 3, 4, 5])\n",
    "\n",
    "# Возводим в квадрат все элементы сразу (векторное умножение)\n",
    "arr_squares = mass ** 2\n",
    "print(arr_squares)  # [ 1  4  9 16 25]\n"
   ]
  },
  {
   "cell_type": "code",
   "execution_count": 70,
   "metadata": {},
   "outputs": [
    {
     "name": "stdout",
     "output_type": "stream",
     "text": [
      "[ 0 -1  4 -1 16 -1 36 -1 64 -1]\n"
     ]
    }
   ],
   "source": [
    "# Создание массивов с помощью list comprehension внутри np.array()\n",
    "\n",
    "import numpy as np\n",
    "\n",
    "# Создадим массив, где элементы от 0 до 9 возведены в квадрат,\n",
    "# но только для чётных чисел, остальные заменены на -1\n",
    "arr_custom = np.array([x**2 if x % 2 == 0 else -1 for x in range(10)])\n",
    "print(arr_custom)\n",
    "# [-1  -1   4  -1  16  -1  36  -1  64  -1]\n"
   ]
  },
  {
   "cell_type": "markdown",
   "metadata": {},
   "source": [
    "### Основные операции"
   ]
  },
  {
   "cell_type": "code",
   "execution_count": 71,
   "metadata": {
    "colab": {
     "base_uri": "https://localhost:8080/"
    },
    "id": "S6BB1YhP6hTH",
    "outputId": "22274ab3-7d20-4cd8-f5cd-6504c2287707"
   },
   "outputs": [
    {
     "name": "stdout",
     "output_type": "stream",
     "text": [
      "[11 22 33 44 55 66 77 88 99]\n",
      "9\n"
     ]
    }
   ],
   "source": [
    "lst = [11, 22, 33, 44, 55, 66, 77, 88, 99]\n",
    "mass = np.array(lst, dtype=np.int32) # вектор\n",
    "print(mass)\n",
    "print(len(mass))"
   ]
  },
  {
   "cell_type": "markdown",
   "metadata": {
    "id": "cLXdiRv1H7KD"
   },
   "source": [
    "Теперь у нас есть одномерный массив, т.е. у него всего одна ось вдоль которой происходит индексирование его элементов."
   ]
  },
  {
   "cell_type": "markdown",
   "metadata": {
    "id": "i9PiiC1XH7KD"
   },
   "source": [
    "![image](https://raw.githubusercontent.com/dm-fedorov/numpy_basic/master/pic/1nd_array.jpg)"
   ]
  },
  {
   "cell_type": "code",
   "execution_count": 72,
   "metadata": {
    "colab": {
     "base_uri": "https://localhost:8080/"
    },
    "id": "7GvEEu7gGO_o",
    "outputId": "9a1cc856-4322-4fd5-8309-2ec1100e1174"
   },
   "outputs": [
    {
     "name": "stdout",
     "output_type": "stream",
     "text": [
      "[np.int32(11), np.int32(22), np.int32(33), np.int32(44), np.int32(55), np.int32(66), np.int32(77), np.int32(88), np.int32(99)]\n"
     ]
    }
   ],
   "source": [
    "# Генерация списка из элементов вектора\n",
    "\n",
    "new_lst = [0]*9 # генерируем list из 0 len = 9\n",
    "indices = 0\n",
    "for val in mass:\n",
    "  # foreach\n",
    "  new_lst[indices] = val\n",
    "  indices +=1\n",
    "print(new_lst)"
   ]
  },
  {
   "cell_type": "code",
   "execution_count": 73,
   "metadata": {
    "colab": {
     "base_uri": "https://localhost:8080/"
    },
    "id": "445MYy2CH7KE",
    "outputId": "2a20658a-69e7-4dff-aa76-ace14e70bc86"
   },
   "outputs": [
    {
     "data": {
      "text/plain": [
       "array([88, 11, 44, 44, 44, 11, 88], dtype=int32)"
      ]
     },
     "execution_count": 73,
     "metadata": {},
     "output_type": "execute_result"
    }
   ],
   "source": [
    "# создание нового вектора из старого по индексам\n",
    "new_mass = mass[[7, 0, 3, 3, 3, 0, 7]] # двойные скобки позволяют взять элементы по индексу\n",
    "new_mass # новый из массива выше"
   ]
  },
  {
   "cell_type": "code",
   "execution_count": 74,
   "metadata": {
    "colab": {
     "base_uri": "https://localhost:8080/",
     "height": 141
    },
    "id": "gKMVx5ENGv8O",
    "outputId": "73c86a44-07b0-4046-c8ac-4dc8ea991316"
   },
   "outputs": [
    {
     "ename": "TypeError",
     "evalue": "list indices must be integers or slices, not list",
     "output_type": "error",
     "traceback": [
      "\u001b[31m---------------------------------------------------------------------------\u001b[39m",
      "\u001b[31mTypeError\u001b[39m                                 Traceback (most recent call last)",
      "\u001b[36mCell\u001b[39m\u001b[36m \u001b[39m\u001b[32mIn[74]\u001b[39m\u001b[32m, line 1\u001b[39m\n\u001b[32m----> \u001b[39m\u001b[32m1\u001b[39m \u001b[43mnew_lst\u001b[49m\u001b[43m[\u001b[49m\u001b[43m[\u001b[49m\u001b[32;43m7\u001b[39;49m\u001b[43m,\u001b[49m\u001b[43m \u001b[49m\u001b[32;43m0\u001b[39;49m\u001b[43m,\u001b[49m\u001b[43m \u001b[49m\u001b[32;43m3\u001b[39;49m\u001b[43m,\u001b[49m\u001b[43m \u001b[49m\u001b[32;43m3\u001b[39;49m\u001b[43m,\u001b[49m\u001b[43m \u001b[49m\u001b[32;43m3\u001b[39;49m\u001b[43m,\u001b[49m\u001b[43m \u001b[49m\u001b[32;43m0\u001b[39;49m\u001b[43m,\u001b[49m\u001b[43m \u001b[49m\u001b[32;43m7\u001b[39;49m\u001b[43m]\u001b[49m\u001b[43m]\u001b[49m \u001b[38;5;66;03m# нельзя так!\u001b[39;00m\n",
      "\u001b[31mTypeError\u001b[39m: list indices must be integers or slices, not list"
     ]
    }
   ],
   "source": [
    "new_lst[[7, 0, 3, 3, 3, 0, 7]] # нельзя так!"
   ]
  },
  {
   "cell_type": "markdown",
   "metadata": {
    "id": "OUEqPUn0H7KE"
   },
   "source": [
    "Вместо одного индекса, указан целый список индексов. А вот еще любопытный пример, теперь вместо индекса укажем логическое выражение:"
   ]
  },
  {
   "cell_type": "code",
   "execution_count": 75,
   "metadata": {
    "colab": {
     "base_uri": "https://localhost:8080/"
    },
    "id": "A7UhFL_wH7KE",
    "outputId": "120e18e4-6a7a-4794-cd81-686dc59e5b67"
   },
   "outputs": [
    {
     "data": {
      "text/plain": [
       "array([55, 66, 77, 88, 99], dtype=int32)"
      ]
     },
     "execution_count": 75,
     "metadata": {},
     "output_type": "execute_result"
    }
   ],
   "source": [
    "# Взять элементы вектора по условию\n",
    "\n",
    "mass[mass > 50] # в скобках условие"
   ]
  },
  {
   "cell_type": "code",
   "execution_count": 76,
   "metadata": {},
   "outputs": [
    {
     "data": {
      "text/plain": [
       "array([55, 66, 77], dtype=int32)"
      ]
     },
     "execution_count": 76,
     "metadata": {},
     "output_type": "execute_result"
    }
   ],
   "source": [
    "# двойное условие\n",
    "mass[(mass > 50) & (mass < 80)] "
   ]
  },
  {
   "cell_type": "code",
   "execution_count": 77,
   "metadata": {},
   "outputs": [
    {
     "ename": "TypeError",
     "evalue": "'>' not supported between instances of 'list' and 'int'",
     "output_type": "error",
     "traceback": [
      "\u001b[31m---------------------------------------------------------------------------\u001b[39m",
      "\u001b[31mTypeError\u001b[39m                                 Traceback (most recent call last)",
      "\u001b[36mCell\u001b[39m\u001b[36m \u001b[39m\u001b[32mIn[77]\u001b[39m\u001b[32m, line 1\u001b[39m\n\u001b[32m----> \u001b[39m\u001b[32m1\u001b[39m new_lst[\u001b[43mnew_lst\u001b[49m\u001b[43m \u001b[49m\u001b[43m>\u001b[49m\u001b[43m \u001b[49m\u001b[32;43m50\u001b[39;49m] \u001b[38;5;66;03m# Ошибка  - нужно, чтобы new_lst был NumPy массивом, а не списком.\u001b[39;00m\n",
      "\u001b[31mTypeError\u001b[39m: '>' not supported between instances of 'list' and 'int'"
     ]
    }
   ],
   "source": [
    "new_lst[new_lst > 50] # Ошибка  - нужно, чтобы new_lst был NumPy массивом, а не списком.\n"
   ]
  },
  {
   "cell_type": "markdown",
   "metadata": {
    "id": "8PVNQ4wfH7KG"
   },
   "source": [
    "Цель этих двух примеров - не устраивать головоломку, а продемонстрировать расширенные возможности индексирования массивов NumPy.\n",
    "\n",
    "Что еще интересного можно продемонстрировать? Векторизованные вычисления:"
   ]
  },
  {
   "cell_type": "code",
   "execution_count": 78,
   "metadata": {
    "colab": {
     "base_uri": "https://localhost:8080/"
    },
    "id": "lLxlT9wbH7KG",
    "outputId": "f7370a5a-d553-403c-8d0e-98770a579d31"
   },
   "outputs": [
    {
     "data": {
      "text/plain": [
       "array([ 32,  54,  76,  98, 120, 142, 164, 186, 208], dtype=int32)"
      ]
     },
     "execution_count": 78,
     "metadata": {},
     "output_type": "execute_result"
    }
   ],
   "source": [
    "2*mass + 10"
   ]
  },
  {
   "cell_type": "code",
   "execution_count": 79,
   "metadata": {
    "colab": {
     "base_uri": "https://localhost:8080/"
    },
    "id": "gJrc3-PRH7KG",
    "outputId": "99520b51-8d4d-4ad5-fde2-31cb6451d689"
   },
   "outputs": [
    {
     "data": {
      "text/plain": [
       "array([1., 1., 1., 1., 1., 1., 1., 1., 1.])"
      ]
     },
     "execution_count": 79,
     "metadata": {},
     "output_type": "execute_result"
    }
   ],
   "source": [
    "np.sin(mass)**2 + np.cos(mass)**2 # np - numpy сокращение"
   ]
  },
  {
   "cell_type": "markdown",
   "metadata": {
    "id": "1RJo4JiqH7KH"
   },
   "source": [
    "Векторизованные - означает, что все арифметические операции и математические функции выполняются сразу над всеми элементами массивов. А это в свою очередь означает, что нет никакой необходимости выполнять вычисления в цикле.\n",
    "\n",
    "Давайте перейдем к двумерным массивам:"
   ]
  },
  {
   "cell_type": "code",
   "execution_count": 80,
   "metadata": {
    "colab": {
     "base_uri": "https://localhost:8080/"
    },
    "id": "hgXeBRehH7KH",
    "outputId": "255f91c0-292c-4cda-c6d5-b122482f5ff2"
   },
   "outputs": [
    {
     "data": {
      "text/plain": [
       "array([ 0,  1,  2,  3,  4,  5,  6,  7,  8,  9, 10, 11])"
      ]
     },
     "execution_count": 80,
     "metadata": {},
     "output_type": "execute_result"
    }
   ],
   "source": [
    "gen_X = np.arange(12) # не включая последнее число, с 0\n",
    "gen_X"
   ]
  },
  {
   "cell_type": "code",
   "execution_count": 81,
   "metadata": {
    "colab": {
     "base_uri": "https://localhost:8080/"
    },
    "id": "BRhRhWw5H7KH",
    "outputId": "54eb8353-3239-4077-f225-45342848e2a4"
   },
   "outputs": [
    {
     "data": {
      "text/plain": [
       "array([[ 0,  1,  2,  3],\n",
       "       [ 4,  5,  6,  7],\n",
       "       [ 8,  9, 10, 11]])"
      ]
     },
     "execution_count": 81,
     "metadata": {},
     "output_type": "execute_result"
    }
   ],
   "source": [
    "matrix_gen_X = gen_X.reshape(3, 4)\n",
    "matrix_gen_X"
   ]
  },
  {
   "cell_type": "markdown",
   "metadata": {
    "id": "oSonO9MNH7KH"
   },
   "source": [
    "Сейчас мы создали массив с помощью функции `np.arange()`, которая во многом аналогична функции `range()` языка Python.\n",
    "\n",
    "Затем, мы изменили форму массива с помощью метода `reshape()`, т.е. на самом деле создать этот массив мы могли бы и одной командой:"
   ]
  },
  {
   "cell_type": "code",
   "execution_count": 82,
   "metadata": {
    "colab": {
     "base_uri": "https://localhost:8080/"
    },
    "id": "qtBohRaBH7KJ",
    "outputId": "fb8daabd-76ee-4c88-e58f-c1e86ab6b42f"
   },
   "outputs": [
    {
     "data": {
      "text/plain": [
       "array([[ 0,  1,  2,  3],\n",
       "       [ 4,  5,  6,  7],\n",
       "       [ 8,  9, 10, 11]])"
      ]
     },
     "execution_count": 82,
     "metadata": {},
     "output_type": "execute_result"
    }
   ],
   "source": [
    "a = np.arange(12).reshape(3, 4)\n",
    "a"
   ]
  },
  {
   "cell_type": "markdown",
   "metadata": {
    "id": "LgnT09vaH7KK"
   },
   "source": [
    "Визуально, данный массив выглядит следующим образом:"
   ]
  },
  {
   "cell_type": "markdown",
   "metadata": {
    "id": "a9N8NcTFH7KK"
   },
   "source": [
    "![image](https://raw.githubusercontent.com/dm-fedorov/numpy_basic/master/pic/2nd_array.jpg)"
   ]
  },
  {
   "cell_type": "markdown",
   "metadata": {
    "id": "8GTR3qgVH7KK"
   },
   "source": [
    "Глядя на картинку, становится понятно, что первая ось (и индекс соответственно) - это строки, вторая ось - это столбцы. Т.е. получить элемент 9 можно простой командой:"
   ]
  },
  {
   "cell_type": "code",
   "execution_count": 83,
   "metadata": {
    "colab": {
     "base_uri": "https://localhost:8080/"
    },
    "id": "nqRDW2VJH7KL",
    "outputId": "e0c1de19-081a-472e-e054-a9bf9d99458e"
   },
   "outputs": [
    {
     "data": {
      "text/plain": [
       "np.int64(9)"
      ]
     },
     "execution_count": 83,
     "metadata": {},
     "output_type": "execute_result"
    }
   ],
   "source": [
    "a[2][1]    #  равносильно команде a[2, 1]"
   ]
  },
  {
   "cell_type": "markdown",
   "metadata": {
    "id": "qENoG-AuH7KM"
   },
   "source": [
    "Снова можно подумать, что ничего нового - все как в стандартном Python.\n",
    "Да, так и есть, и, это круто!\n",
    "\n",
    "Еще круто, то что NumPy добавляет к удобному и привычному синтаксису Python, весьма удобные трюки, например - *транслирование массивов*:"
   ]
  },
  {
   "cell_type": "code",
   "execution_count": 84,
   "metadata": {},
   "outputs": [
    {
     "data": {
      "text/plain": [
       "array([[ 0,  1,  2,  3],\n",
       "       [ 4,  5,  6,  7],\n",
       "       [ 8,  9, 10, 11]])"
      ]
     },
     "execution_count": 84,
     "metadata": {},
     "output_type": "execute_result"
    }
   ],
   "source": [
    "a"
   ]
  },
  {
   "cell_type": "code",
   "execution_count": 85,
   "metadata": {},
   "outputs": [
    {
     "data": {
      "text/plain": [
       "[2, 3, 4, 5]"
      ]
     },
     "execution_count": 85,
     "metadata": {},
     "output_type": "execute_result"
    }
   ],
   "source": [
    "b = [2, 3, 4, 5]\n",
    "b"
   ]
  },
  {
   "cell_type": "code",
   "execution_count": 86,
   "metadata": {
    "colab": {
     "base_uri": "https://localhost:8080/"
    },
    "id": "yW_aVPH2H7KN",
    "outputId": "910bb3c8-63d6-40b2-b1eb-a94921ee4b1d"
   },
   "outputs": [
    {
     "data": {
      "text/plain": [
       "array([[ 0,  3,  8, 15],\n",
       "       [ 8, 15, 24, 35],\n",
       "       [16, 27, 40, 55]])"
      ]
     },
     "execution_count": 86,
     "metadata": {},
     "output_type": "execute_result"
    }
   ],
   "source": [
    "\n",
    "a * b"
   ]
  },
  {
   "cell_type": "markdown",
   "metadata": {
    "id": "Wf3oYZd1H7KN"
   },
   "source": [
    "В данном примере, без всяких циклов, мы умножили каждый столбец из массива `a` на соответствующий элемент из массива `b`.\n",
    "\n",
    "Т.е. мы как бы транслировали (в какой-то степени можно сказать - растянули) массив `b` по массиву `a`."
   ]
  },
  {
   "cell_type": "markdown",
   "metadata": {
    "id": "sKTx-wgEH7KN"
   },
   "source": [
    "То же самое мы можем проделать с каждой строкой массива `a`:"
   ]
  },
  {
   "cell_type": "code",
   "execution_count": 87,
   "metadata": {
    "colab": {
     "base_uri": "https://localhost:8080/"
    },
    "id": "DUxzKc0TZbDy",
    "outputId": "82e764aa-8752-48e0-ceeb-bf916f552882"
   },
   "outputs": [
    {
     "data": {
      "text/plain": [
       "array([[ 0,  1,  2,  3],\n",
       "       [ 4,  5,  6,  7],\n",
       "       [ 8,  9, 10, 11]])"
      ]
     },
     "execution_count": 87,
     "metadata": {},
     "output_type": "execute_result"
    }
   ],
   "source": [
    "a"
   ]
  },
  {
   "cell_type": "code",
   "execution_count": 88,
   "metadata": {
    "colab": {
     "base_uri": "https://localhost:8080/"
    },
    "id": "tdAmi-mNH7KN",
    "outputId": "f5c01c7c-8627-453f-b030-ff1cbb3b8fd2"
   },
   "outputs": [
    {
     "data": {
      "text/plain": [
       "array([[10, 11, 12, 13],\n",
       "       [24, 25, 26, 27],\n",
       "       [38, 39, 40, 41]])"
      ]
     },
     "execution_count": 88,
     "metadata": {},
     "output_type": "execute_result"
    }
   ],
   "source": [
    "c = [[10],\n",
    "     [20],\n",
    "     [30]]\n",
    "a + c"
   ]
  },
  {
   "cell_type": "code",
   "execution_count": 89,
   "metadata": {},
   "outputs": [
    {
     "data": {
      "text/plain": [
       "[[10], [20], [30]]"
      ]
     },
     "execution_count": 89,
     "metadata": {},
     "output_type": "execute_result"
    }
   ],
   "source": [
    "c"
   ]
  },
  {
   "cell_type": "markdown",
   "metadata": {
    "id": "V-z-F2olH7KN"
   },
   "source": [
    "В данном случае мы просто прибавили к массиву `a` массив-столбец `c`. И получили, то что хотели.\n",
    "\n",
    "При работе с двумерными или трехмерными массивами, особенно с массивами большей размерности, становится очень важным удобство работы с элементами массива, которые расположены вдоль отдельных измерений - его осей.\n",
    "\n",
    "Например, у нас есть двумерный массив и мы хотим узнать его минимальные элементы по строкам и столбцам.\n",
    "\n",
    "Для начала создадим массив из случайных чисел и пусть, для нашего удобства, эти числа будут целыми:"
   ]
  },
  {
   "cell_type": "code",
   "execution_count": 90,
   "metadata": {
    "colab": {
     "base_uri": "https://localhost:8080/"
    },
    "id": "qnP3hWwdH7KN",
    "outputId": "35093660-e014-4dbb-e7cb-63a0fa3f1042"
   },
   "outputs": [
    {
     "data": {
      "text/plain": [
       "array([[ 8,  5,  2,  2,  1, 14],\n",
       "       [13,  3,  1,  2,  5,  0],\n",
       "       [13,  9,  9,  3, 11,  5],\n",
       "       [11,  2,  6,  0,  5,  8]])"
      ]
     },
     "execution_count": 90,
     "metadata": {},
     "output_type": "execute_result"
    }
   ],
   "source": [
    "a = np.random.randint(0, 15, size=(4, 6)) # (4, 6) - shape, структура массива\n",
    "a"
   ]
  },
  {
   "cell_type": "code",
   "execution_count": 91,
   "metadata": {
    "colab": {
     "base_uri": "https://localhost:8080/"
    },
    "id": "yyzmokLMISzS",
    "outputId": "38f3fe04-0350-4199-a370-4b160e735ab3"
   },
   "outputs": [
    {
     "data": {
      "text/plain": [
       "array([[407, 491, 153, 166, 426],\n",
       "       [498, 211, 488, 300, 343],\n",
       "       [423, 200, 231, 409, 330],\n",
       "       [350, 348, 443, 489, 159],\n",
       "       [396, 243, 272, 363, 221]])"
      ]
     },
     "execution_count": 91,
     "metadata": {},
     "output_type": "execute_result"
    }
   ],
   "source": [
    "test_gen_rnd = np.random.randint(150, 500, size=(5,5))\n",
    "test_gen_rnd"
   ]
  },
  {
   "cell_type": "markdown",
   "metadata": {
    "id": "iIf4XvgaH7KO"
   },
   "source": [
    "Минимальный элемент в данном массиве это:"
   ]
  },
  {
   "cell_type": "code",
   "execution_count": 93,
   "metadata": {
    "colab": {
     "base_uri": "https://localhost:8080/"
    },
    "id": "y86oEGxBH7KO",
    "outputId": "a69f3b7b-a6d2-491a-881f-0c260a676781"
   },
   "outputs": [
    {
     "data": {
      "text/plain": [
       "np.int64(153)"
      ]
     },
     "execution_count": 93,
     "metadata": {},
     "output_type": "execute_result"
    }
   ],
   "source": [
    "test_gen_rnd.min()"
   ]
  },
  {
   "cell_type": "code",
   "execution_count": 96,
   "metadata": {},
   "outputs": [
    {
     "data": {
      "text/plain": [
       "11"
      ]
     },
     "execution_count": 96,
     "metadata": {},
     "output_type": "execute_result"
    }
   ],
   "source": [
    "# У списка так\n",
    "\n",
    "min(lst)"
   ]
  },
  {
   "cell_type": "code",
   "execution_count": 95,
   "metadata": {},
   "outputs": [
    {
     "data": {
      "text/plain": [
       "np.int32(11)"
      ]
     },
     "execution_count": 95,
     "metadata": {},
     "output_type": "execute_result"
    }
   ],
   "source": [
    "mass.min()"
   ]
  },
  {
   "cell_type": "markdown",
   "metadata": {
    "id": "zHm5r3WaH7KP"
   },
   "source": [
    "А вот минимальные элементы по столбцам и строкам:"
   ]
  },
  {
   "cell_type": "code",
   "execution_count": 33,
   "metadata": {
    "colab": {
     "base_uri": "https://localhost:8080/"
    },
    "id": "RMJbQdLPH7KP",
    "outputId": "35757110-6ab8-4819-9b34-9de67999f85b"
   },
   "outputs": [
    {
     "data": {
      "text/plain": [
       "array([170, 171, 165, 196, 225], dtype=int32)"
      ]
     },
     "execution_count": 33,
     "metadata": {},
     "output_type": "execute_result"
    }
   ],
   "source": [
    "test_gen_rnd.min(axis=0)    #  минимальные элементы по столбцам"
   ]
  },
  {
   "cell_type": "code",
   "execution_count": 34,
   "metadata": {
    "colab": {
     "base_uri": "https://localhost:8080/"
    },
    "id": "tIXx1DdMH7KP",
    "outputId": "0c22dbb1-c92c-4bd8-e315-3fcad7a4a655"
   },
   "outputs": [
    {
     "data": {
      "text/plain": [
       "array([234, 314, 226, 170, 165], dtype=int32)"
      ]
     },
     "execution_count": 34,
     "metadata": {},
     "output_type": "execute_result"
    }
   ],
   "source": [
    "test_gen_rnd.min(axis=1)    #  минимальные элементы по строкам"
   ]
  },
  {
   "cell_type": "markdown",
   "metadata": {
    "id": "Gpym6UbvH7KP"
   },
   "source": [
    "Такое поведение заложено практически во все функции и методы NumPy:"
   ]
  },
  {
   "cell_type": "code",
   "execution_count": 35,
   "metadata": {
    "colab": {
     "base_uri": "https://localhost:8080/"
    },
    "id": "snQdQd9aH7KP",
    "outputId": "2be12af7-ef14-4a5b-fb31-f5607c63c0a6"
   },
   "outputs": [
    {
     "data": {
      "text/plain": [
       "array([267.2, 341. , 266. , 291.2, 279.8])"
      ]
     },
     "execution_count": 35,
     "metadata": {},
     "output_type": "execute_result"
    }
   ],
   "source": [
    "test_gen_rnd.mean(axis=0)    #  среднее по столбцам"
   ]
  },
  {
   "cell_type": "code",
   "execution_count": 36,
   "metadata": {
    "colab": {
     "base_uri": "https://localhost:8080/"
    },
    "id": "VshEvnuXH7KQ",
    "outputId": "98e2d0b8-4451-4cfe-93af-1353a704c110"
   },
   "outputs": [
    {
     "data": {
      "text/plain": [
       "array([ 35.65389179,  50.13342199,  60.9832764 ,  58.39041017,\n",
       "       102.686708  ])"
      ]
     },
     "execution_count": 36,
     "metadata": {},
     "output_type": "execute_result"
    }
   ],
   "source": [
    "np.std(test_gen_rnd, axis=1)    #  стандартное отклонение по строкам"
   ]
  },
  {
   "cell_type": "markdown",
   "metadata": {
    "id": "0rEpmCVpH7KR"
   },
   "source": [
    "Что насчет вычислений, их скорости и занимаемой памяти?\n",
    "\n",
    "Для примера, создадим трехмерный массив:"
   ]
  },
  {
   "cell_type": "code",
   "execution_count": 37,
   "metadata": {
    "colab": {
     "base_uri": "https://localhost:8080/"
    },
    "id": "eo2M6EaeH7KR",
    "outputId": "97088cea-9b60-441d-972c-d5f098c18890"
   },
   "outputs": [
    {
     "data": {
      "text/plain": [
       "array([[[ 0,  1,  2,  3],\n",
       "        [ 4,  5,  6,  7],\n",
       "        [ 8,  9, 10, 11]],\n",
       "\n",
       "       [[12, 13, 14, 15],\n",
       "        [16, 17, 18, 19],\n",
       "        [20, 21, 22, 23]],\n",
       "\n",
       "       [[24, 25, 26, 27],\n",
       "        [28, 29, 30, 31],\n",
       "        [32, 33, 34, 35]],\n",
       "\n",
       "       [[36, 37, 38, 39],\n",
       "        [40, 41, 42, 43],\n",
       "        [44, 45, 46, 47]]])"
      ]
     },
     "execution_count": 37,
     "metadata": {},
     "output_type": "execute_result"
    }
   ],
   "source": [
    "a = np.arange(48).reshape(4, 3, 4)\n",
    "a"
   ]
  },
  {
   "cell_type": "markdown",
   "metadata": {
    "id": "OSKBTt1vH7KS"
   },
   "source": [
    "Почему именно трехмерный?\n",
    "\n",
    "На самом деле реальный мир вовсе не ограничивается таблицами, векторами и матрицами.\n",
    "\n",
    "Еще существуют тензоры, кватернионы, октавы. А некоторые данные, гораздо удобнее представлять именно в трехмерном и четырехмерном представлении:"
   ]
  },
  {
   "cell_type": "markdown",
   "metadata": {
    "id": "E-AnzFVEH7KS"
   },
   "source": [
    "![image](https://raw.githubusercontent.com/dm-fedorov/numpy_basic/master/pic/3nd_array.jpg)"
   ]
  },
  {
   "cell_type": "markdown",
   "metadata": {
    "id": "8fDMwnONH7KS"
   },
   "source": [
    "Визуализация (и хорошее воображение) позволяет сразу догадаться, как устроена индексация трехмерных массивов. Например, если нам нужно вытащить из данного массива число 31, то достаточно выполнить:"
   ]
  },
  {
   "cell_type": "code",
   "execution_count": 38,
   "metadata": {
    "colab": {
     "base_uri": "https://localhost:8080/"
    },
    "id": "imaHwIKJH7KS",
    "outputId": "cb4354aa-5e1a-4699-d633-17657c15c598"
   },
   "outputs": [
    {
     "data": {
      "text/plain": [
       "np.int64(31)"
      ]
     },
     "execution_count": 38,
     "metadata": {},
     "output_type": "execute_result"
    }
   ],
   "source": [
    "a[2][1][3]    #  или a[2, 1, 3]"
   ]
  },
  {
   "cell_type": "markdown",
   "metadata": {
    "id": "H_TYf4XPH7KS"
   },
   "source": [
    "В самом деле, у массивов есть целый ряд важных атрибутов. Например, количество осей массива (его размерность), которую при работе с очень большими массивами, не всегда легко увидеть:"
   ]
  },
  {
   "cell_type": "code",
   "execution_count": 41,
   "metadata": {
    "colab": {
     "base_uri": "https://localhost:8080/"
    },
    "id": "XB1yxOowH7KS",
    "outputId": "f8ce7843-a4d4-420b-fc63-2ff1c0f20fa2"
   },
   "outputs": [
    {
     "data": {
      "text/plain": [
       "3"
      ]
     },
     "execution_count": 41,
     "metadata": {},
     "output_type": "execute_result"
    }
   ],
   "source": [
    "a.ndim # размерность пространства"
   ]
  },
  {
   "cell_type": "code",
   "execution_count": 40,
   "metadata": {},
   "outputs": [
    {
     "data": {
      "text/plain": [
       "1"
      ]
     },
     "execution_count": 40,
     "metadata": {},
     "output_type": "execute_result"
    }
   ],
   "source": [
    "mass.ndim # размерность пространства"
   ]
  },
  {
   "cell_type": "code",
   "execution_count": 42,
   "metadata": {},
   "outputs": [
    {
     "data": {
      "text/plain": [
       "2"
      ]
     },
     "execution_count": 42,
     "metadata": {},
     "output_type": "execute_result"
    }
   ],
   "source": [
    "test_gen_rnd.ndim"
   ]
  },
  {
   "cell_type": "markdown",
   "metadata": {
    "id": "Zx-mot_0H7KT"
   },
   "source": [
    "Массив a действительно трехмерный.\n",
    "\n",
    "Но иногда становится интересно, а на сколько же большой массив перед нами. Например, какой он формы, т.е. сколько элементов расположено вдоль каждой оси?\n",
    "Ответить позволяет метод `ndarray.shape`:"
   ]
  },
  {
   "cell_type": "code",
   "execution_count": 43,
   "metadata": {
    "colab": {
     "base_uri": "https://localhost:8080/"
    },
    "id": "mRmNDLKQH7KT",
    "outputId": "21baec5f-60ad-4a06-f9cb-97c67b7e4e6e"
   },
   "outputs": [
    {
     "data": {
      "text/plain": [
       "(4, 3, 4)"
      ]
     },
     "execution_count": 43,
     "metadata": {},
     "output_type": "execute_result"
    }
   ],
   "source": [
    "a.shape"
   ]
  },
  {
   "cell_type": "markdown",
   "metadata": {
    "id": "JxPJfAAAH7KT"
   },
   "source": [
    "Метод `ndarray.size` просто возвращает общее количество элементов массива:"
   ]
  },
  {
   "cell_type": "code",
   "execution_count": 44,
   "metadata": {
    "colab": {
     "base_uri": "https://localhost:8080/"
    },
    "id": "oXVWZURSH7KT",
    "outputId": "293f7ba3-059e-4f5b-88ba-e79f25ecb0ea"
   },
   "outputs": [
    {
     "data": {
      "text/plain": [
       "48"
      ]
     },
     "execution_count": 44,
     "metadata": {},
     "output_type": "execute_result"
    }
   ],
   "source": [
    "a.size"
   ]
  },
  {
   "cell_type": "markdown",
   "metadata": {
    "id": "0bL52VrnH7KT"
   },
   "source": [
    "Еще может встать такой вопрос - сколько памяти занимает наш массив?\n",
    "\n",
    "Иногда даже возникает такой вопрос - влезет ли результирующий массив после всех вычислений в оперативную память?\n",
    "\n",
    "Что бы на него ответить надо знать, сколько \"весит\" один элемент массива:"
   ]
  },
  {
   "cell_type": "code",
   "execution_count": 45,
   "metadata": {
    "colab": {
     "base_uri": "https://localhost:8080/"
    },
    "id": "0u0HIIBsH7KU",
    "outputId": "ec9a751b-e847-43dc-d28c-89b417935b1a"
   },
   "outputs": [
    {
     "data": {
      "text/plain": [
       "8"
      ]
     },
     "execution_count": 45,
     "metadata": {},
     "output_type": "execute_result"
    }
   ],
   "source": [
    "a.itemsize    #  эквивалентно ndarray.dtype.itemsize"
   ]
  },
  {
   "cell_type": "markdown",
   "metadata": {
    "id": "r2nzL02TH7KU"
   },
   "source": [
    "`ndarray.itemsize` возвращает размер элемента в байтах.\n",
    "\n",
    "Теперь мы можем узнать сколько \"весит\" наш массив:"
   ]
  },
  {
   "cell_type": "code",
   "execution_count": 46,
   "metadata": {
    "colab": {
     "base_uri": "https://localhost:8080/"
    },
    "id": "S6n9XfwwH7KU",
    "outputId": "656a58fc-f244-42ac-9dbf-623418a59303"
   },
   "outputs": [
    {
     "data": {
      "text/plain": [
       "384"
      ]
     },
     "execution_count": 46,
     "metadata": {},
     "output_type": "execute_result"
    }
   ],
   "source": [
    "a.size * a.itemsize # сколько весит в памяти наш массив"
   ]
  },
  {
   "cell_type": "markdown",
   "metadata": {
    "id": "GkmiwHoAH7KU"
   },
   "source": [
    "Итого - 384 байта. На самом деле, размер занимаемой массивом памяти, зависит не только от количества элементов в нем, но и от испльзуемого типа данных:"
   ]
  },
  {
   "cell_type": "code",
   "execution_count": 47,
   "metadata": {
    "colab": {
     "base_uri": "https://localhost:8080/"
    },
    "id": "euRpySilH7KU",
    "outputId": "c7e7614f-3e69-4555-cee3-80a37c6d41e0"
   },
   "outputs": [
    {
     "data": {
      "text/plain": [
       "dtype('int64')"
      ]
     },
     "execution_count": 47,
     "metadata": {},
     "output_type": "execute_result"
    }
   ],
   "source": [
    "a.dtype"
   ]
  },
  {
   "cell_type": "markdown",
   "metadata": {
    "id": "JWk5V0GHH7KV"
   },
   "source": [
    "`dtype('int64')` - означает, что используется целочисленный тип данных, в котором для хранения одного числа выделяется 64 бита памяти.\n",
    "\n",
    "Но если мы выполним какие-нибудь вычисления с массивом, то тип данных может измениться:"
   ]
  },
  {
   "cell_type": "code",
   "execution_count": 48,
   "metadata": {
    "colab": {
     "base_uri": "https://localhost:8080/"
    },
    "id": "l0cun49QH7KV",
    "outputId": "d744c7b6-3c44-4944-a1f9-192325c1c314"
   },
   "outputs": [
    {
     "data": {
      "text/plain": [
       "array([[[ 0.        ,  0.31847134,  0.63694268,  0.95541401],\n",
       "        [ 1.27388535,  1.59235669,  1.91082803,  2.22929936],\n",
       "        [ 2.5477707 ,  2.86624204,  3.18471338,  3.50318471]],\n",
       "\n",
       "       [[ 3.82165605,  4.14012739,  4.45859873,  4.77707006],\n",
       "        [ 5.0955414 ,  5.41401274,  5.73248408,  6.05095541],\n",
       "        [ 6.36942675,  6.68789809,  7.00636943,  7.32484076]],\n",
       "\n",
       "       [[ 7.6433121 ,  7.96178344,  8.28025478,  8.59872611],\n",
       "        [ 8.91719745,  9.23566879,  9.55414013,  9.87261146],\n",
       "        [10.1910828 , 10.50955414, 10.82802548, 11.14649682]],\n",
       "\n",
       "       [[11.46496815, 11.78343949, 12.10191083, 12.42038217],\n",
       "        [12.7388535 , 13.05732484, 13.37579618, 13.69426752],\n",
       "        [14.01273885, 14.33121019, 14.64968153, 14.96815287]]])"
      ]
     },
     "execution_count": 48,
     "metadata": {},
     "output_type": "execute_result"
    }
   ],
   "source": [
    "b = a/3.14\n",
    "b"
   ]
  },
  {
   "cell_type": "code",
   "execution_count": 49,
   "metadata": {
    "colab": {
     "base_uri": "https://localhost:8080/"
    },
    "id": "sm34aOedH7KV",
    "outputId": "4d34a1f8-245e-4a62-f4b7-ff12675978b3"
   },
   "outputs": [
    {
     "data": {
      "text/plain": [
       "dtype('float64')"
      ]
     },
     "execution_count": 49,
     "metadata": {},
     "output_type": "execute_result"
    }
   ],
   "source": [
    "b.dtype"
   ]
  },
  {
   "cell_type": "markdown",
   "metadata": {
    "id": "wjVte_oRH7KV"
   },
   "source": [
    "Теперь у нас есть еще один массив - массив `b` и его тип данных `'float64'` - вещественные числа (числа с плавающей точкой) длинной 64 бита.\n",
    "\n",
    "А его размер:"
   ]
  },
  {
   "cell_type": "code",
   "execution_count": 50,
   "metadata": {
    "colab": {
     "base_uri": "https://localhost:8080/"
    },
    "id": "9xOupSNNH7KV",
    "outputId": "6ba9a3df-86b3-4876-ae71-ccd17a052e7e"
   },
   "outputs": [
    {
     "data": {
      "text/plain": [
       "384"
      ]
     },
     "execution_count": 50,
     "metadata": {},
     "output_type": "execute_result"
    }
   ],
   "source": [
    "b.size * b.itemsize"
   ]
  },
  {
   "cell_type": "markdown",
   "metadata": {
    "id": "7Jxy4qjomv4B"
   },
   "source": [
    "Скалярное произведение матриц"
   ]
  },
  {
   "cell_type": "code",
   "execution_count": 51,
   "metadata": {
    "colab": {
     "base_uri": "https://localhost:8080/"
    },
    "id": "pF-ysQ0umuuz",
    "outputId": "04ba1856-2385-4f54-8f00-12d811655cc8"
   },
   "outputs": [
    {
     "name": "stdout",
     "output_type": "stream",
     "text": [
      "[[ 1.  2.  3.  4.]\n",
      " [ 5.  6.  7.  8.]\n",
      " [ 9. 10. 11. 12.]\n",
      " [ 3.  4.  5.  6.]]\n",
      "[[ 1.  2.  3.  4.]\n",
      " [ 5.  6.  7.  8.]\n",
      " [ 9. 10. 11. 12.]\n",
      " [ 3.  4.  5.  6.]]\n",
      "[[ 1.  2.  3.  4.]\n",
      " [ 5.  6.  7.  8.]\n",
      " [ 9. 10. 11. 12.]\n",
      " [ 3.  4.  5.  6.]]\n"
     ]
    }
   ],
   "source": [
    "a = np.array([[1, 2, 3, 4.0],\n",
    "[5, 6, 7, 8],\n",
    "[9, 10, 11, 12],\n",
    "[3, 4, 5, 6]])\n",
    "b = np.eye(4)\n",
    "print(np.dot(a, b))\n",
    "print(a.dot(b))\n",
    "print(a @ b)"
   ]
  },
  {
   "cell_type": "markdown",
   "metadata": {
    "id": "myEposgXnLft"
   },
   "source": [
    "преумножение всех элементов в массиве\n"
   ]
  },
  {
   "cell_type": "code",
   "execution_count": null,
   "metadata": {
    "colab": {
     "base_uri": "https://localhost:8080/"
    },
    "id": "-mP4jmqWnI2F",
    "outputId": "7883586f-8a99-4f34-e62f-858ded32a332"
   },
   "outputs": [
    {
     "name": "stdout",
     "output_type": "stream",
     "text": [
      "172440576000.0\n"
     ]
    }
   ],
   "source": [
    "a = np.array([[1, 2, 3, 4.0],\n",
    "[5, 6, 7, 8],\n",
    "[9, 10, 11, 12],\n",
    "[3, 4, 5, 6]])\n",
    "print(np.prod(a))\n"
   ]
  },
  {
   "cell_type": "code",
   "execution_count": 52,
   "metadata": {
    "colab": {
     "base_uri": "https://localhost:8080/"
    },
    "id": "_1PcuyNqnYxv",
    "outputId": "64ca369c-0f44-4570-d165-1b41bc77c639"
   },
   "outputs": [
    {
     "name": "stdout",
     "output_type": "stream",
     "text": [
      "[[ 0.84147098  0.91294525  0.         -0.2794155 ]\n",
      " [-0.95892427 -0.7568025   0.6569866   0.98935825]\n",
      " [ 0.41211849  0.         -0.04424268  0.        ]\n",
      " [ 0.90929743 -0.7568025  -0.95892427 -0.2794155 ]]\n",
      "[[ 0.54030231  0.40808206  1.          0.96017029]\n",
      " [ 0.28366219 -0.65364362  0.75390225 -0.14550003]\n",
      " [-0.91113026  1.         -0.99902081  1.        ]\n",
      " [-0.41614684 -0.65364362  0.28366219  0.96017029]]\n",
      "[[ 1.55740772  2.23716094  0.         -0.29100619]\n",
      " [-3.38051501  1.15782128  0.87144798 -6.79971146]\n",
      " [-0.45231566  0.          0.04428604  0.        ]\n",
      " [-2.18503986  1.15782128 -3.38051501 -0.29100619]]\n",
      "0.8509035245341184\n",
      "-0.4480736161291701\n",
      "1.6197751905438615\n"
     ]
    }
   ],
   "source": [
    "a = np.array([[1, 20, 0, 6],\n",
    "[5, 4, 7, 8.0],\n",
    "[9, 0, 110,0],\n",
    "[2, 4, 5, 6]])\n",
    "print(np.sin(a))\n",
    "print(np.cos(a))\n",
    "print(np.tan(a))\n",
    "print(np.sin(45))\n",
    "print(np.cos(90))\n",
    "print(np.tan(45))"
   ]
  },
  {
   "cell_type": "code",
   "execution_count": null,
   "metadata": {
    "colab": {
     "base_uri": "https://localhost:8080/"
    },
    "id": "FvRevIZBn_G7",
    "outputId": "9d8ab1b8-f816-48e3-a28b-5504e37c4663"
   },
   "outputs": [
    {
     "name": "stdout",
     "output_type": "stream",
     "text": [
      "[[ 1.          4.47213595  0.          2.44948974]\n",
      " [ 2.23606798  2.          2.64575131  2.82842712]\n",
      " [ 3.          0.         10.48808848  0.        ]\n",
      " [ 1.41421356  2.          2.23606798  2.44948974]]\n",
      "5.0\n"
     ]
    }
   ],
   "source": [
    "import numpy as np\n",
    "a = np.array([[1, 20, 0, 6],\n",
    "[5, 4, 7, 8.0],\n",
    "[9, 0, 110,0],\n",
    "[2, 4, 5, 6]])\n",
    "print(np.sqrt(a))\n",
    "print(np.sqrt(25))"
   ]
  },
  {
   "cell_type": "markdown",
   "metadata": {
    "id": "XvMx8RV7H7KZ"
   },
   "source": [
    "Очень часто возникает задача создания массива определенного размера, причем, чем заполнен массив абсолютно неважно.\n",
    "\n",
    "В этом случае можно воспользоваться циклами или генераторами списков (кортежей), но NumPy для таких случаев предлагает более быстрые и менее затратные функции-заполнители.\n",
    "\n",
    "Функция `zeros` заполняет массив нулями, функция `ones` - единицами, а функция `empty` - случайными числами, которые зависят от состояния памяти.\n",
    "\n",
    "По умолчанию, тип создаваемого массива - `float64`."
   ]
  },
  {
   "cell_type": "code",
   "execution_count": null,
   "metadata": {
    "colab": {
     "base_uri": "https://localhost:8080/"
    },
    "id": "6PE3t5O6H7KZ",
    "outputId": "6d865c00-6be2-49a9-b8d9-fe09b1e979fb"
   },
   "outputs": [
    {
     "data": {
      "text/plain": [
       "array([[0., 0., 0.],\n",
       "       [0., 0., 0.],\n",
       "       [0., 0., 0.]])"
      ]
     },
     "execution_count": 76,
     "metadata": {},
     "output_type": "execute_result"
    }
   ],
   "source": [
    "np.zeros((3,3))"
   ]
  },
  {
   "cell_type": "code",
   "execution_count": null,
   "metadata": {
    "colab": {
     "base_uri": "https://localhost:8080/"
    },
    "id": "EKjyLMLsk87p",
    "outputId": "b2feb6ef-c956-4f49-8d24-1c55907794a1"
   },
   "outputs": [
    {
     "name": "stdout",
     "output_type": "stream",
     "text": [
      "[[0 0 0 0]\n",
      " [0 0 0 0]]\n"
     ]
    }
   ],
   "source": [
    "import numpy as np\n",
    "a = np.zeros((2, 4), int)\n",
    "print(a)"
   ]
  },
  {
   "cell_type": "code",
   "execution_count": null,
   "metadata": {
    "colab": {
     "base_uri": "https://localhost:8080/"
    },
    "id": "LGGXUlXQH7KZ",
    "outputId": "6d25d8f3-6a35-43ba-c710-0678474b6911"
   },
   "outputs": [
    {
     "data": {
      "text/plain": [
       "array([[1., 1., 1.],\n",
       "       [1., 1., 1.],\n",
       "       [1., 1., 1.]])"
      ]
     },
     "execution_count": 75,
     "metadata": {},
     "output_type": "execute_result"
    }
   ],
   "source": [
    "np.ones((3,3))"
   ]
  },
  {
   "cell_type": "code",
   "execution_count": null,
   "metadata": {
    "colab": {
     "base_uri": "https://localhost:8080/"
    },
    "id": "iHtgS9cxlPu-",
    "outputId": "766c9ba0-ec6b-4332-823b-68a5c22fd22b"
   },
   "outputs": [
    {
     "name": "stdout",
     "output_type": "stream",
     "text": [
      "[[1. 1. 1.]\n",
      " [1. 1. 1.]]\n"
     ]
    }
   ],
   "source": [
    "import numpy as np\n",
    "a = np.ones((2, 3))\n",
    "print(a)"
   ]
  },
  {
   "cell_type": "code",
   "execution_count": null,
   "metadata": {
    "colab": {
     "base_uri": "https://localhost:8080/"
    },
    "id": "fisjskFhlnQO",
    "outputId": "754ef6ba-8ac4-48c0-f816-d62270e84cf0"
   },
   "outputs": [
    {
     "name": "stdout",
     "output_type": "stream",
     "text": [
      "[[ 1.  2.  3.  4.]\n",
      " [ 5.  6.  7.  8.]\n",
      " [ 9. 10. 11. 12.]]\n"
     ]
    }
   ],
   "source": [
    "a = np.array([[1, 2, 3, 4.0],\n",
    "[5, 6, 7, 8],\n",
    "[9, 10, 11, 12]])\n",
    "b = np.copy(a)\n",
    "print(b)\n"
   ]
  },
  {
   "cell_type": "code",
   "execution_count": null,
   "metadata": {
    "colab": {
     "base_uri": "https://localhost:8080/"
    },
    "id": "Qphl9Fzvl73Q",
    "outputId": "36d86e92-f8ac-4015-b057-3447e159a5fb"
   },
   "outputs": [
    {
     "name": "stdout",
     "output_type": "stream",
     "text": [
      "[12 17 22 27 32 37 42 47 52 57 62 67 72 77 82 87 92 97]\n"
     ]
    }
   ],
   "source": [
    "gen_X = np.arange(12, 100, 5)\n",
    "print(gen_X)"
   ]
  },
  {
   "cell_type": "code",
   "execution_count": null,
   "metadata": {
    "colab": {
     "base_uri": "https://localhost:8080/"
    },
    "id": "N78o32vImOKa",
    "outputId": "5f75dd4f-fee7-493d-8ae4-8b49111cadbb"
   },
   "outputs": [
    {
     "name": "stdout",
     "output_type": "stream",
     "text": [
      "[[1. 0. 0. 0.]\n",
      " [0. 1. 0. 0.]\n",
      " [0. 0. 1. 0.]\n",
      " [0. 0. 0. 1.]]\n"
     ]
    }
   ],
   "source": [
    "a = np.eye(4)\n",
    "print(a)"
   ]
  },
  {
   "cell_type": "markdown",
   "metadata": {
    "id": "CIiQ02w8B2Ox"
   },
   "source": [
    "**Линейная алгебра**"
   ]
  },
  {
   "cell_type": "markdown",
   "metadata": {
    "id": "koLxI-FWuAiT"
   },
   "source": [
    "Довольно часто приходится вычислять ранг матриц:"
   ]
  },
  {
   "cell_type": "code",
   "execution_count": null,
   "metadata": {
    "colab": {
     "base_uri": "https://localhost:8080/"
    },
    "id": "MLkWREgeuAiX",
    "outputId": "38f9c90d-e943-4b46-aee7-6fc7a9f00e25"
   },
   "outputs": [
    {
     "data": {
      "text/plain": [
       "array([[1, 2, 3],\n",
       "       [4, 5, 6],\n",
       "       [7, 8, 9]])"
      ]
     },
     "execution_count": 77,
     "metadata": {},
     "output_type": "execute_result"
    }
   ],
   "source": [
    "a = np.arange(1, 10).reshape(3, 3)\n",
    "a"
   ]
  },
  {
   "cell_type": "code",
   "execution_count": null,
   "metadata": {
    "colab": {
     "base_uri": "https://localhost:8080/"
    },
    "id": "2hv0e7RouAiY",
    "outputId": "f0ac8c4e-a15b-4f2f-ed62-d462e957020a"
   },
   "outputs": [
    {
     "data": {
      "text/plain": [
       "2"
      ]
     },
     "execution_count": 79,
     "metadata": {},
     "output_type": "execute_result"
    }
   ],
   "source": [
    "np.linalg.matrix_rank(a)"
   ]
  },
  {
   "cell_type": "code",
   "execution_count": null,
   "metadata": {
    "colab": {
     "base_uri": "https://localhost:8080/"
    },
    "id": "9oMKlwcIuAiY",
    "outputId": "35682fd1-7cca-4307-9ed5-9fbb9e795986"
   },
   "outputs": [
    {
     "data": {
      "text/plain": [
       "array([[ 1,  3,  5,  7],\n",
       "       [ 9, 11, 13, 15],\n",
       "       [17, 19, 21, 23]])"
      ]
     },
     "execution_count": 78,
     "metadata": {},
     "output_type": "execute_result"
    }
   ],
   "source": [
    "b = np.arange(1, 24, 2).reshape(3, 4)\n",
    "b"
   ]
  },
  {
   "cell_type": "code",
   "execution_count": null,
   "metadata": {
    "colab": {
     "base_uri": "https://localhost:8080/"
    },
    "id": "IJ4t4FumuAiY",
    "outputId": "f997474e-e00d-49d0-8dbf-599c9e28a846"
   },
   "outputs": [
    {
     "data": {
      "text/plain": [
       "2"
      ]
     },
     "execution_count": 80,
     "metadata": {},
     "output_type": "execute_result"
    }
   ],
   "source": [
    "np.linalg.matrix_rank(b)"
   ]
  },
  {
   "cell_type": "markdown",
   "metadata": {
    "id": "VyP_9Y-FuAib"
   },
   "source": [
    "Еще чаще приходится вычислять определитель матриц, хотя результат вас может немного удивить:"
   ]
  },
  {
   "cell_type": "code",
   "execution_count": null,
   "metadata": {
    "colab": {
     "base_uri": "https://localhost:8080/"
    },
    "id": "KHsdaq5HuAib",
    "outputId": "de69d3ea-e49b-4bfd-e321-7632b86dce71"
   },
   "outputs": [
    {
     "data": {
      "text/plain": [
       "array([[1, 3],\n",
       "       [4, 3]])"
      ]
     },
     "execution_count": 81,
     "metadata": {},
     "output_type": "execute_result"
    }
   ],
   "source": [
    "a = np.array([[1, 3], [4, 3]])\n",
    "a"
   ]
  },
  {
   "cell_type": "code",
   "execution_count": null,
   "metadata": {
    "colab": {
     "base_uri": "https://localhost:8080/"
    },
    "id": "k_ko-dixuAic",
    "outputId": "e33f356d-fe28-4f9b-f5b8-4d4e2e92663b"
   },
   "outputs": [
    {
     "data": {
      "text/plain": [
       "-8.999999999999998"
      ]
     },
     "execution_count": 46,
     "metadata": {},
     "output_type": "execute_result"
    }
   ],
   "source": [
    "np.linalg.det(a)"
   ]
  },
  {
   "cell_type": "code",
   "execution_count": null,
   "metadata": {
    "colab": {
     "base_uri": "https://localhost:8080/"
    },
    "id": "YfFZm20luAla",
    "outputId": "2644db12-bb99-48b1-cd0b-4b0c6d3eced6"
   },
   "outputs": [
    {
     "data": {
      "text/plain": [
       "-9"
      ]
     },
     "execution_count": 47,
     "metadata": {},
     "output_type": "execute_result"
    }
   ],
   "source": [
    "1*3 - 3*4    #  Результат должен быть целым числом"
   ]
  },
  {
   "cell_type": "markdown",
   "metadata": {
    "id": "IrRc9cxauAla"
   },
   "source": [
    "В данном случае, из-за двоичной арифметики, результат нецелое число и округлять до ближайшего целого придется вручную.\n",
    "\n",
    "Это связано с тем, что алгоритм вычисления определителя использует [LU-разложение](https://ru.wikipedia.org/wiki/LU-%D1%80%D0%B0%D0%B7%D0%BB%D0%BE%D0%B6%D0%B5%D0%BD%D0%B8%D0%B5) - это намного быстрее, чем обычный алгоритм, но за скорость все же приходится немного заплатить ручным округлением (конечно, если таковое требуется):"
   ]
  },
  {
   "cell_type": "code",
   "execution_count": null,
   "metadata": {
    "colab": {
     "base_uri": "https://localhost:8080/"
    },
    "id": "h8kbdiJkuAlc",
    "outputId": "5ec0fbe2-b2d0-475d-ca7e-ac55978a5a16"
   },
   "outputs": [
    {
     "data": {
      "text/plain": [
       "-8.999999999999998"
      ]
     },
     "execution_count": 48,
     "metadata": {},
     "output_type": "execute_result"
    }
   ],
   "source": [
    "np.linalg.det(a)"
   ]
  },
  {
   "cell_type": "code",
   "execution_count": null,
   "metadata": {
    "colab": {
     "base_uri": "https://localhost:8080/"
    },
    "id": "fbC5Rj0quAld",
    "outputId": "1c9caf1d-c290-491c-edf7-61cfd7ac81eb"
   },
   "outputs": [
    {
     "data": {
      "text/plain": [
       "-9.0"
      ]
     },
     "execution_count": 82,
     "metadata": {},
     "output_type": "execute_result"
    }
   ],
   "source": [
    "round(np.linalg.det(a))"
   ]
  },
  {
   "cell_type": "code",
   "execution_count": null,
   "metadata": {
    "colab": {
     "base_uri": "https://localhost:8080/"
    },
    "id": "xnim4LHfuAlj",
    "outputId": "83d2e54c-b3e2-41a8-cc62-76ad8c02672e"
   },
   "outputs": [
    {
     "data": {
      "text/plain": [
       "array([[ 1,  4,  7, 10],\n",
       "       [13, 16, 19, 22],\n",
       "       [25, 28, 31, 34],\n",
       "       [37, 40, 43, 46]])"
      ]
     },
     "execution_count": 84,
     "metadata": {},
     "output_type": "execute_result"
    }
   ],
   "source": [
    "b = np.arange(1, 48, 3).reshape(4, 4)\n",
    "b"
   ]
  },
  {
   "cell_type": "code",
   "execution_count": null,
   "metadata": {
    "colab": {
     "base_uri": "https://localhost:8080/"
    },
    "id": "GLbf8xR8uAlk",
    "outputId": "30896e23-f508-407d-9bb5-c31cbb3b31a1"
   },
   "outputs": [
    {
     "data": {
      "text/plain": [
       "0.0"
      ]
     },
     "execution_count": 85,
     "metadata": {},
     "output_type": "execute_result"
    }
   ],
   "source": [
    "np.linalg.det(b)"
   ]
  },
  {
   "cell_type": "code",
   "execution_count": null,
   "metadata": {
    "colab": {
     "base_uri": "https://localhost:8080/"
    },
    "id": "N9V5S7nduAlk",
    "outputId": "b0ff3597-af29-4fb6-8f6d-a6f1c29ba313"
   },
   "outputs": [
    {
     "data": {
      "text/plain": [
       "0"
      ]
     },
     "execution_count": 86,
     "metadata": {},
     "output_type": "execute_result"
    }
   ],
   "source": [
    "round(np.linalg.det(b))"
   ]
  },
  {
   "cell_type": "markdown",
   "metadata": {
    "id": "05IhcXATuAlk"
   },
   "source": [
    "Транспонирование матриц:"
   ]
  },
  {
   "cell_type": "code",
   "execution_count": null,
   "metadata": {
    "colab": {
     "base_uri": "https://localhost:8080/"
    },
    "id": "hJeMnbnauAlk",
    "outputId": "e1c955d5-2054-42fc-c35f-e10d78ecb99a"
   },
   "outputs": [
    {
     "data": {
      "text/plain": [
       "array([[1, 3],\n",
       "       [4, 3]])"
      ]
     },
     "execution_count": 87,
     "metadata": {},
     "output_type": "execute_result"
    }
   ],
   "source": [
    "a"
   ]
  },
  {
   "cell_type": "code",
   "execution_count": null,
   "metadata": {
    "colab": {
     "base_uri": "https://localhost:8080/"
    },
    "id": "g9Wy6MZauAlk",
    "outputId": "80ee5ea1-08dc-4eb6-e272-a51e3fbeb625"
   },
   "outputs": [
    {
     "data": {
      "text/plain": [
       "array([[1, 4],\n",
       "       [3, 3]])"
      ]
     },
     "execution_count": 88,
     "metadata": {},
     "output_type": "execute_result"
    }
   ],
   "source": [
    "a.T"
   ]
  },
  {
   "cell_type": "markdown",
   "metadata": {
    "id": "vMGk2ls6uAlk"
   },
   "source": [
    "Вычисление обратных матриц:"
   ]
  },
  {
   "cell_type": "code",
   "execution_count": null,
   "metadata": {
    "colab": {
     "base_uri": "https://localhost:8080/"
    },
    "id": "86OaAVY6uAll",
    "outputId": "997688c1-f061-46bc-d079-c37a9493c54b"
   },
   "outputs": [
    {
     "data": {
      "text/plain": [
       "array([[1, 3],\n",
       "       [4, 3]])"
      ]
     },
     "execution_count": 89,
     "metadata": {},
     "output_type": "execute_result"
    }
   ],
   "source": [
    "a"
   ]
  },
  {
   "cell_type": "code",
   "execution_count": null,
   "metadata": {
    "colab": {
     "base_uri": "https://localhost:8080/"
    },
    "id": "N25SLKHsuAll",
    "outputId": "56109be8-855d-40c3-830c-52b60f8c0fa2"
   },
   "outputs": [
    {
     "data": {
      "text/plain": [
       "array([[-0.33333333,  0.33333333],\n",
       "       [ 0.44444444, -0.11111111]])"
      ]
     },
     "execution_count": 90,
     "metadata": {},
     "output_type": "execute_result"
    }
   ],
   "source": [
    "b = np.linalg.inv(a)\n",
    "b"
   ]
  },
  {
   "cell_type": "code",
   "execution_count": null,
   "metadata": {
    "colab": {
     "base_uri": "https://localhost:8080/"
    },
    "id": "loqu-FDQuAll",
    "outputId": "9681eaca-8e10-4121-8785-ccc2536e074a"
   },
   "outputs": [
    {
     "data": {
      "text/plain": [
       "array([[1., 0.],\n",
       "       [0., 1.]])"
      ]
     },
     "execution_count": 91,
     "metadata": {},
     "output_type": "execute_result"
    }
   ],
   "source": [
    "np.dot(a, b)"
   ]
  },
  {
   "cell_type": "markdown",
   "metadata": {
    "id": "5z8ihrRTuAll"
   },
   "source": [
    "Решение систем линейных уравнений:"
   ]
  },
  {
   "cell_type": "code",
   "execution_count": null,
   "metadata": {
    "id": "0t6I5z33uAll"
   },
   "outputs": [],
   "source": [
    "#  система из двух линейных уравнений:\n",
    "#  1*x1 + 5*x2 = 11\n",
    "#  2*x1 + 3*x2 = 8\n",
    "a = np.array([[1, 5], [2, 3]])\n",
    "b = np.array([11, 8])"
   ]
  },
  {
   "cell_type": "code",
   "execution_count": null,
   "metadata": {
    "colab": {
     "base_uri": "https://localhost:8080/"
    },
    "id": "Bxfp_974uAll",
    "outputId": "35722796-ae9b-4f7f-84a9-cd33b2da0586"
   },
   "outputs": [
    {
     "data": {
      "text/plain": [
       "array([1., 2.])"
      ]
     },
     "execution_count": 93,
     "metadata": {},
     "output_type": "execute_result"
    }
   ],
   "source": [
    "x = np.linalg.solve(a, b)\n",
    "x"
   ]
  },
  {
   "cell_type": "code",
   "execution_count": null,
   "metadata": {
    "colab": {
     "base_uri": "https://localhost:8080/"
    },
    "id": "4CbuyvFEuAll",
    "outputId": "41af61ce-7281-4ed3-f80f-f3e63c6f2dbe"
   },
   "outputs": [
    {
     "data": {
      "text/plain": [
       "array([11.,  8.])"
      ]
     },
     "execution_count": 94,
     "metadata": {},
     "output_type": "execute_result"
    }
   ],
   "source": [
    "np.dot(a, x)"
   ]
  },
  {
   "cell_type": "markdown",
   "metadata": {
    "id": "rqSu2-uxCefy"
   },
   "source": [
    "**Статистика**"
   ]
  },
  {
   "cell_type": "code",
   "execution_count": null,
   "metadata": {
    "colab": {
     "base_uri": "https://localhost:8080/"
    },
    "id": "_i1Y1a-ZCgLY",
    "outputId": "fe03b338-e7e0-4454-efae-4ec4d468268e"
   },
   "outputs": [
    {
     "data": {
      "text/plain": [
       "array([[133, 119, 174, 139, 137],\n",
       "       [ 26,   2, 156, 162,  63],\n",
       "       [153, 186, 171, 136, 115],\n",
       "       [ 90, 158, 115,  97,  28],\n",
       "       [133,  74,  21, 109,  44]])"
      ]
     },
     "execution_count": 95,
     "metadata": {},
     "output_type": "execute_result"
    }
   ],
   "source": [
    "a = np.random.randint(200, size=(5, 5))\n",
    "a"
   ]
  },
  {
   "cell_type": "code",
   "execution_count": null,
   "metadata": {
    "colab": {
     "base_uri": "https://localhost:8080/"
    },
    "id": "tWy6HM4muAls",
    "outputId": "b0cdaf39-7d60-4f69-cc98-313c03efcdde"
   },
   "outputs": [
    {
     "data": {
      "text/plain": [
       "74.0"
      ]
     },
     "execution_count": 96,
     "metadata": {},
     "output_type": "execute_result"
    }
   ],
   "source": [
    "#  Процентили:\n",
    "np.percentile(a, 25)"
   ]
  },
  {
   "cell_type": "code",
   "execution_count": null,
   "metadata": {
    "colab": {
     "base_uri": "https://localhost:8080/"
    },
    "id": "9D9bi7khuAls",
    "outputId": "6b40bf43-d76c-4d53-9a30-07d6034bb2fb"
   },
   "outputs": [
    {
     "data": {
      "text/plain": [
       "119.0"
      ]
     },
     "execution_count": 97,
     "metadata": {},
     "output_type": "execute_result"
    }
   ],
   "source": [
    "np.percentile(a, 50)"
   ]
  },
  {
   "cell_type": "code",
   "execution_count": null,
   "metadata": {
    "colab": {
     "base_uri": "https://localhost:8080/"
    },
    "id": "1-EDFKIMuAlt",
    "outputId": "c03dcb92-0d02-4c0f-e32a-d54a942298fd"
   },
   "outputs": [
    {
     "data": {
      "text/plain": [
       "153.0"
      ]
     },
     "execution_count": 98,
     "metadata": {},
     "output_type": "execute_result"
    }
   ],
   "source": [
    "np.percentile(a, 75)"
   ]
  },
  {
   "cell_type": "markdown",
   "metadata": {
    "id": "p3p21AfJuAlt"
   },
   "source": [
    "Средние значения элементов массива и их отклонения:"
   ]
  },
  {
   "cell_type": "code",
   "execution_count": null,
   "metadata": {
    "colab": {
     "base_uri": "https://localhost:8080/"
    },
    "id": "I7wJsfWHuAlt",
    "outputId": "604b1c2a-dc31-4475-d6fc-c81832911229"
   },
   "outputs": [
    {
     "data": {
      "text/plain": [
       "array([[ 6,  7,  9,  7,  2],\n",
       "       [ 3,  7,  1,  3,  3],\n",
       "       [ 9,  5,  1, 12, 11],\n",
       "       [11,  4,  5,  4, 10],\n",
       "       [ 0,  6,  7,  8,  9]])"
      ]
     },
     "execution_count": 99,
     "metadata": {},
     "output_type": "execute_result"
    }
   ],
   "source": [
    "a = np.random.randint(13, size=(5, 5))\n",
    "a"
   ]
  },
  {
   "cell_type": "code",
   "execution_count": null,
   "metadata": {
    "colab": {
     "base_uri": "https://localhost:8080/"
    },
    "id": "23hhjwXnuAlu",
    "outputId": "2113da94-0250-4745-af85-491f1d75c0ba"
   },
   "outputs": [
    {
     "data": {
      "text/plain": [
       "9.0"
      ]
     },
     "execution_count": 66,
     "metadata": {},
     "output_type": "execute_result"
    }
   ],
   "source": [
    "np.median(a)    #  медиана элементов массива"
   ]
  },
  {
   "cell_type": "code",
   "execution_count": null,
   "metadata": {
    "colab": {
     "base_uri": "https://localhost:8080/"
    },
    "id": "cGUMgTgguAlu",
    "outputId": "f89c16c8-792a-44fd-caad-d5a704e039a9"
   },
   "outputs": [
    {
     "data": {
      "text/plain": [
       "6.0"
      ]
     },
     "execution_count": 100,
     "metadata": {},
     "output_type": "execute_result"
    }
   ],
   "source": [
    "np.mean(a)    #  среднее арифметическое"
   ]
  },
  {
   "cell_type": "code",
   "execution_count": null,
   "metadata": {
    "colab": {
     "base_uri": "https://localhost:8080/"
    },
    "id": "wQHJcIWxuAlu",
    "outputId": "b8d60a94-c486-4f0a-f3a2-ec93beda8be8"
   },
   "outputs": [
    {
     "data": {
      "text/plain": [
       "11.04"
      ]
     },
     "execution_count": 101,
     "metadata": {},
     "output_type": "execute_result"
    }
   ],
   "source": [
    "np.var(a)    #  дисперсия"
   ]
  },
  {
   "cell_type": "code",
   "execution_count": null,
   "metadata": {
    "colab": {
     "base_uri": "https://localhost:8080/"
    },
    "id": "Nty81U3ouAlu",
    "outputId": "08d0853e-35d9-4864-a63e-6c6719bcb1b6"
   },
   "outputs": [
    {
     "data": {
      "text/plain": [
       "3.3226495451672298"
      ]
     },
     "execution_count": 102,
     "metadata": {},
     "output_type": "execute_result"
    }
   ],
   "source": [
    "np.std(a)    #  стандартное отклонение"
   ]
  },
  {
   "cell_type": "markdown",
   "metadata": {
    "id": "6xQEElNhuAlu"
   },
   "source": [
    "Корреляционные коэфициенты и ковариационные матрицы величин:"
   ]
  },
  {
   "cell_type": "code",
   "execution_count": null,
   "metadata": {
    "id": "6AnteAMAuAlv"
   },
   "outputs": [],
   "source": [
    "x = np.array([1, 4, 3, 7, 10, 8, 14, 21, 20, 23])\n",
    "y = np.array([4, 1, 6, 9, 13, 11, 16, 19, 15, 22])\n",
    "z = np.array([29, 22, 24, 20, 18, 14, 16, 11, 9, 10])"
   ]
  },
  {
   "cell_type": "code",
   "execution_count": null,
   "metadata": {
    "colab": {
     "base_uri": "https://localhost:8080/"
    },
    "id": "NgTdgcjVuAlv",
    "outputId": "6ea2103b-3e96-46c1-dc1e-09a021f1b717"
   },
   "outputs": [
    {
     "data": {
      "text/plain": [
       "array([[ 1,  4],\n",
       "       [ 4,  1],\n",
       "       [ 3,  6],\n",
       "       [ 7,  9],\n",
       "       [10, 13],\n",
       "       [ 8, 11],\n",
       "       [14, 16],\n",
       "       [21, 19],\n",
       "       [20, 15],\n",
       "       [23, 22]])"
      ]
     },
     "execution_count": 105,
     "metadata": {},
     "output_type": "execute_result"
    }
   ],
   "source": [
    "#  Линейный коэфициент корреляции Пирсона\n",
    "#  величин 'x' и 'y'\n",
    "\n",
    "XY = np.stack((x, y), axis=1)\n",
    "XY"
   ]
  },
  {
   "cell_type": "code",
   "execution_count": null,
   "metadata": {
    "colab": {
     "base_uri": "https://localhost:8080/"
    },
    "id": "Fzn2HHGzuAlv",
    "outputId": "e1906a0a-85fd-4538-aa1a-c8449511976c"
   },
   "outputs": [
    {
     "data": {
      "text/plain": [
       "array([[ 1., -1.,  1.,  1.,  1.,  1.,  1., -1., -1., -1.],\n",
       "       [-1.,  1., -1., -1., -1., -1., -1.,  1.,  1.,  1.],\n",
       "       [ 1., -1.,  1.,  1.,  1.,  1.,  1., -1., -1., -1.],\n",
       "       [ 1., -1.,  1.,  1.,  1.,  1.,  1., -1., -1., -1.],\n",
       "       [ 1., -1.,  1.,  1.,  1.,  1.,  1., -1., -1., -1.],\n",
       "       [ 1., -1.,  1.,  1.,  1.,  1.,  1., -1., -1., -1.],\n",
       "       [ 1., -1.,  1.,  1.,  1.,  1.,  1., -1., -1., -1.],\n",
       "       [-1.,  1., -1., -1., -1., -1., -1.,  1.,  1.,  1.],\n",
       "       [-1.,  1., -1., -1., -1., -1., -1.,  1.,  1.,  1.],\n",
       "       [-1.,  1., -1., -1., -1., -1., -1.,  1.,  1.,  1.]])"
      ]
     },
     "execution_count": 106,
     "metadata": {},
     "output_type": "execute_result"
    }
   ],
   "source": [
    "np.corrcoef(XY)"
   ]
  },
  {
   "cell_type": "code",
   "execution_count": null,
   "metadata": {
    "colab": {
     "base_uri": "https://localhost:8080/"
    },
    "id": "omdVkU5buAlv",
    "outputId": "21f585ff-71f5-4274-ba28-e03ce7d9fa94"
   },
   "outputs": [
    {
     "data": {
      "text/plain": [
       "array([1736])"
      ]
     },
     "execution_count": 107,
     "metadata": {},
     "output_type": "execute_result"
    }
   ],
   "source": [
    "#  Кросс-корреляции:\n",
    "np.correlate(x, y)"
   ]
  },
  {
   "cell_type": "code",
   "execution_count": null,
   "metadata": {
    "colab": {
     "base_uri": "https://localhost:8080/"
    },
    "id": "yTxumYpKuAlv",
    "outputId": "21b09c48-839b-4484-eee9-5ccbb1fdbf93"
   },
   "outputs": [
    {
     "data": {
      "text/plain": [
       "array([1486])"
      ]
     },
     "execution_count": 108,
     "metadata": {},
     "output_type": "execute_result"
    }
   ],
   "source": [
    "np.correlate(x, z)"
   ]
  },
  {
   "cell_type": "code",
   "execution_count": null,
   "metadata": {
    "colab": {
     "base_uri": "https://localhost:8080/"
    },
    "id": "6cuqsXb8uAlv",
    "outputId": "2629214a-6280-42b4-b162-93de6346efc7"
   },
   "outputs": [
    {
     "data": {
      "text/plain": [
       "array([[ 4.5, -4.5,  4.5,  3. ,  4.5,  4.5,  3. , -3. , -7.5, -1.5],\n",
       "       [-4.5,  4.5, -4.5, -3. , -4.5, -4.5, -3. ,  3. ,  7.5,  1.5],\n",
       "       [ 4.5, -4.5,  4.5,  3. ,  4.5,  4.5,  3. , -3. , -7.5, -1.5],\n",
       "       [ 3. , -3. ,  3. ,  2. ,  3. ,  3. ,  2. , -2. , -5. , -1. ],\n",
       "       [ 4.5, -4.5,  4.5,  3. ,  4.5,  4.5,  3. , -3. , -7.5, -1.5],\n",
       "       [ 4.5, -4.5,  4.5,  3. ,  4.5,  4.5,  3. , -3. , -7.5, -1.5],\n",
       "       [ 3. , -3. ,  3. ,  2. ,  3. ,  3. ,  2. , -2. , -5. , -1. ],\n",
       "       [-3. ,  3. , -3. , -2. , -3. , -3. , -2. ,  2. ,  5. ,  1. ],\n",
       "       [-7.5,  7.5, -7.5, -5. , -7.5, -7.5, -5. ,  5. , 12.5,  2.5],\n",
       "       [-1.5,  1.5, -1.5, -1. , -1.5, -1.5, -1. ,  1. ,  2.5,  0.5]])"
      ]
     },
     "execution_count": 109,
     "metadata": {},
     "output_type": "execute_result"
    }
   ],
   "source": [
    "#  Ковариационные матрицы:\n",
    "np.cov(XY)"
   ]
  },
  {
   "cell_type": "code",
   "execution_count": null,
   "metadata": {
    "colab": {
     "base_uri": "https://localhost:8080/"
    },
    "id": "IGQGnx4guAlv",
    "outputId": "a2399a94-6086-4db7-bdf0-07afa5c98645"
   },
   "outputs": [
    {
     "data": {
      "text/plain": [
       "array(63.65555556)"
      ]
     },
     "execution_count": 110,
     "metadata": {},
     "output_type": "execute_result"
    }
   ],
   "source": [
    "np.cov(x)"
   ]
  },
  {
   "cell_type": "markdown",
   "metadata": {
    "id": "3y0s39IHuAl2"
   },
   "source": [
    "NumPy предоставляет [порядка 30 функций](https://pyprog.pro/random_sampling_functions/random_sampling_functions.html), позволяющих генерировать случайные числа с самыми разными вероятностными распределениями:"
   ]
  },
  {
   "cell_type": "code",
   "execution_count": null,
   "metadata": {
    "colab": {
     "base_uri": "https://localhost:8080/"
    },
    "id": "tq8zvo2FuAl2",
    "outputId": "744128a1-e534-4dfd-9c22-d4888fb90433"
   },
   "outputs": [
    {
     "data": {
      "text/plain": [
       "array([7.92713309e-03, 2.87234368e-10, 4.09388263e-06, 5.53163533e-02,\n",
       "       3.60681696e-04])"
      ]
     },
     "execution_count": 111,
     "metadata": {},
     "output_type": "execute_result"
    }
   ],
   "source": [
    "np.random.beta(0.1, 0.6, size=5)    #  бета распределение"
   ]
  },
  {
   "cell_type": "code",
   "execution_count": null,
   "metadata": {
    "colab": {
     "base_uri": "https://localhost:8080/"
    },
    "id": "BES4Z3SJuAl2",
    "outputId": "b6b9d84c-1aca-40b9-ae4e-dc180d9a4aa0"
   },
   "outputs": [
    {
     "data": {
      "text/plain": [
       "array([0.04923457, 1.76728972, 0.29066241, 0.08721191, 0.31709391])"
      ]
     },
     "execution_count": 112,
     "metadata": {},
     "output_type": "execute_result"
    }
   ],
   "source": [
    "np.random.gamma(shape=0.8, scale=1.7, size=5)    # гамма распределение"
   ]
  },
  {
   "cell_type": "code",
   "execution_count": null,
   "metadata": {
    "colab": {
     "base_uri": "https://localhost:8080/"
    },
    "id": "TiRNJxZruAl2",
    "outputId": "47c1d6aa-83a3-4b3b-810f-e472901e8619"
   },
   "outputs": [
    {
     "data": {
      "text/plain": [
       "array([0.24347805, 0.01003316, 1.23638848, 0.14471213, 0.88225519])"
      ]
     },
     "execution_count": 113,
     "metadata": {},
     "output_type": "execute_result"
    }
   ],
   "source": [
    "np.random.pareto(3.5, size=5)    #  Паретто распределение"
   ]
  },
  {
   "cell_type": "code",
   "execution_count": null,
   "metadata": {
    "colab": {
     "base_uri": "https://localhost:8080/"
    },
    "id": "8Y7AuutEuAl3",
    "outputId": "074b9589-6875-4e5d-fa83-8014bdc2b182"
   },
   "outputs": [
    {
     "data": {
      "text/plain": [
       "array([2.56589767, 6.74122626, 0.92194733, 3.29904345, 3.01434815])"
      ]
     },
     "execution_count": 114,
     "metadata": {},
     "output_type": "execute_result"
    }
   ],
   "source": [
    "np.random.chisquare(2.2, size=5)     #  хи-квадрат распределение"
   ]
  },
  {
   "cell_type": "markdown",
   "metadata": {
    "id": "X9Y7LQ0duAl3"
   },
   "source": [
    "Вы так же имеете доступ к состоянию генератора случайных чисел, а так же можете управлять им:"
   ]
  },
  {
   "cell_type": "code",
   "execution_count": null,
   "metadata": {
    "id": "lslB6zwcuAl4"
   },
   "outputs": [],
   "source": [
    "#np.random.get_state()    #  Вы можете узнать состояние генератора"
   ]
  },
  {
   "cell_type": "code",
   "execution_count": null,
   "metadata": {
    "id": "CxOBuw0HuAl4"
   },
   "outputs": [],
   "source": [
    "np.random.seed(123)    #  устанавливает состояние генератора"
   ]
  },
  {
   "cell_type": "code",
   "execution_count": null,
   "metadata": {
    "colab": {
     "base_uri": "https://localhost:8080/"
    },
    "id": "usjAagb7uAl5",
    "outputId": "a3998e13-7aa2-400e-94ea-08aac53b815a"
   },
   "outputs": [
    {
     "data": {
      "text/plain": [
       "array([0.69646919, 0.28613933, 0.22685145, 0.55131477, 0.71946897])"
      ]
     },
     "execution_count": 120,
     "metadata": {},
     "output_type": "execute_result"
    }
   ],
   "source": [
    "np.random.rand(5)"
   ]
  }
 ],
 "metadata": {
  "colab": {
   "collapsed_sections": [
    "gR-OsBBoZac4",
    "X5D1edLUOvuI",
    "HcEE4QLl7XzJ"
   ],
   "provenance": []
  },
  "kernelspec": {
   "display_name": "env1",
   "language": "python",
   "name": "python3"
  },
  "language_info": {
   "codemirror_mode": {
    "name": "ipython",
    "version": 3
   },
   "file_extension": ".py",
   "mimetype": "text/x-python",
   "name": "python",
   "nbconvert_exporter": "python",
   "pygments_lexer": "ipython3",
   "version": "3.12.3"
  }
 },
 "nbformat": 4,
 "nbformat_minor": 4
}
