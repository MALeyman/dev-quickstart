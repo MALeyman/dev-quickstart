{
 "cells": [
  {
   "cell_type": "markdown",
   "metadata": {
    "id": "WA0oo2vjftGj"
   },
   "source": [
    "# Декораторы в Python\n",
    "\n",
    "Декоратор – это функция, которая принимает другую функцию и расширяет поведение последней, не изменяя ее явным образом. \n",
    "\n",
    "Код из оригинальной статьи доступен в [GitHub-репозитории](https://github.com/realpython/materials/tree/master/primer-on-python-decorators).\n",
    "\n",
    "# 1. Предварительные соображения: функции\n",
    "\n",
    "Прежде чем начать разбираться в декораторах, немного поговорим о важных для их понимания свойствах функций.\n",
    "\n",
    "## 1.1. Передача функции в качестве аргумента\n",
    "\n",
    "В Python функции можно передавать и использовать в качестве аргументов, как и любой другой объект. Рассмотрим следующие три функции:"
   ]
  },
  {
   "cell_type": "code",
   "execution_count": 2,
   "metadata": {
    "id": "YEe5nCI_ftGn"
   },
   "outputs": [],
   "source": [
    "def say_hello(name):\n",
    "    return f\"Привет, {name}!\"\n",
    "\n",
    "def be_awesome(name):\n",
    "    return f\"Класс, {name}, быть вместе так круто!\"\n",
    "\n",
    "def greet_vanya(greeter_func):\n",
    "    return greeter_func(\"Ваня\")"
   ]
  },
  {
   "cell_type": "markdown",
   "metadata": {
    "id": "_XhQ6G6VftGo"
   },
   "source": [
    "Здесь `say_hello()` и `be_awesome()` – обычные функции, которые получают строковую переменную `name`. Функция `greet_vanya()` в качестве аргумента получает другую функцию, например `say_hello()` или `be_awesome()`:"
   ]
  },
  {
   "cell_type": "code",
   "execution_count": 3,
   "metadata": {
    "id": "R7e3N8m5ftGo"
   },
   "outputs": [
    {
     "data": {
      "text/plain": [
       "'Привет, Ваня!'"
      ]
     },
     "execution_count": 3,
     "metadata": {},
     "output_type": "execute_result"
    }
   ],
   "source": [
    "greet_vanya(say_hello)"
   ]
  },
  {
   "cell_type": "code",
   "execution_count": 4,
   "metadata": {
    "id": "DqX3SkjoftGp"
   },
   "outputs": [
    {
     "data": {
      "text/plain": [
       "'Класс, Ваня, быть вместе так круто!'"
      ]
     },
     "execution_count": 4,
     "metadata": {},
     "output_type": "execute_result"
    }
   ],
   "source": [
    "greet_vanya(be_awesome)"
   ]
  },
  {
   "cell_type": "markdown",
   "metadata": {
    "id": "twBtu1-HftGp"
   },
   "source": [
    "При передаче в качестве аргумента имя функции указывается без скобок – передаётся только ссылка на функцию. Сама функция не выполняется, пока не будет вызвана функция `greet_vanya()`.\n",
    "\n",
    "## 1.2. Внутренние функции\n",
    "Функции, определенные внутри других функций, называются внутренними (inner functions). Пример функции с двумя внутренними функциями:"
   ]
  },
  {
   "cell_type": "code",
   "execution_count": 5,
   "metadata": {
    "id": "d4R0rPtmftGp"
   },
   "outputs": [],
   "source": [
    "def parent():\n",
    "    print(\"Привет из функции parent().\")\n",
    "\n",
    "    def first_child():\n",
    "        print(\"Привет из функции first_child().\")\n",
    "\n",
    "    def second_child():\n",
    "        print(\"Привет из функции second_child().\")\n",
    "\n",
    "    second_child()\n",
    "    first_child()"
   ]
  },
  {
   "cell_type": "markdown",
   "metadata": {
    "id": "D2f-xkMMftGq"
   },
   "source": [
    "Что произойдёт при вызове функции `parent()`? Остановитесь, чтобы подумать. Вывод будет следующим:"
   ]
  },
  {
   "cell_type": "code",
   "execution_count": 6,
   "metadata": {
    "id": "iL7AiID8ftGq"
   },
   "outputs": [
    {
     "name": "stdout",
     "output_type": "stream",
     "text": [
      "Привет из функции parent().\n",
      "Привет из функции second_child().\n",
      "Привет из функции first_child().\n"
     ]
    }
   ],
   "source": [
    "parent()"
   ]
  },
  {
   "cell_type": "markdown",
   "metadata": {
    "id": "8TX3mT-4ftGr"
   },
   "source": [
    "Обратите внимание, что порядок, в котором определены внутренние функции, не имеет значения. Печать происходит только при вызове функции.\n",
    "\n",
    "Внутренние функции не определены, пока не вызвана родительская функция. То есть они локально ограничены `parent()` и существуют только внутри нее, как локальные переменные. При вызове функции `first_child()` за пределами `parent()` будет получена ошибка:"
   ]
  },
  {
   "cell_type": "code",
   "execution_count": 7,
   "metadata": {
    "id": "TUowjKRVftGr"
   },
   "outputs": [
    {
     "ename": "NameError",
     "evalue": "name 'first_child' is not defined",
     "output_type": "error",
     "traceback": [
      "\u001b[1;31m---------------------------------------------------------------------------\u001b[0m",
      "\u001b[1;31mNameError\u001b[0m                                 Traceback (most recent call last)",
      "Cell \u001b[1;32mIn[7], line 1\u001b[0m\n\u001b[1;32m----> 1\u001b[0m \u001b[43mfirst_child\u001b[49m()\n",
      "\u001b[1;31mNameError\u001b[0m: name 'first_child' is not defined"
     ]
    }
   ],
   "source": [
    "first_child()"
   ]
  },
  {
   "cell_type": "markdown",
   "metadata": {
    "id": "nPyxbgAhftGr"
   },
   "source": [
    "## 1.3. Возврат функций из функций\n",
    "Python позволяет использовать функции в качестве возвращаемых значений. В следующем примере возвращается одна из внутренних функций внешней функции `parent()`:"
   ]
  },
  {
   "cell_type": "code",
   "execution_count": 9,
   "metadata": {
    "id": "Sx96hy5QftGr"
   },
   "outputs": [],
   "source": [
    "def parent(num):\n",
    "    def first_child():\n",
    "        return \"Привет, меня зовут Ксавье.\"\n",
    "\n",
    "    def second_child():\n",
    "        return \"Зови меня X Æ A-12.\"\n",
    "\n",
    "    if num == 1:\n",
    "        return first_child\n",
    "    else:\n",
    "        return second_child"
   ]
  },
  {
   "cell_type": "markdown",
   "metadata": {
    "id": "CiW6kn3fftGr"
   },
   "source": [
    "В инструкции `return` возвращается ссылка на функцию, то есть имя функции указывается без скобок (иначе бы возвращался результат выполнения функции)."
   ]
  },
  {
   "cell_type": "code",
   "execution_count": 13,
   "metadata": {
    "id": "4BXMIjkTftGs"
   },
   "outputs": [
    {
     "data": {
      "text/plain": [
       "<function __main__.parent.<locals>.first_child()>"
      ]
     },
     "execution_count": 13,
     "metadata": {},
     "output_type": "execute_result"
    }
   ],
   "source": [
    "first = parent(1)\n",
    "second = parent(2)\n",
    "first"
   ]
  },
  {
   "cell_type": "code",
   "execution_count": 14,
   "metadata": {},
   "outputs": [
    {
     "data": {
      "text/plain": [
       "'Привет, меня зовут Ксавье.'"
      ]
     },
     "execution_count": 14,
     "metadata": {},
     "output_type": "execute_result"
    }
   ],
   "source": [
    "first()"
   ]
  },
  {
   "cell_type": "code",
   "execution_count": 11,
   "metadata": {
    "id": "3RWa7JjwftGs"
   },
   "outputs": [
    {
     "data": {
      "text/plain": [
       "<function __main__.parent.<locals>.second_child()>"
      ]
     },
     "execution_count": 11,
     "metadata": {},
     "output_type": "execute_result"
    }
   ],
   "source": [
    "second"
   ]
  },
  {
   "cell_type": "markdown",
   "metadata": {
    "id": "PO4PPshaftGs"
   },
   "source": [
    "В приведенном примере `first` и `second` – переменные, в которые были записаны ссылки на локальные функции `first_child()` и `second_child()` внутри функции `parent()`. Теперь `first` и `second` можно использовать как обычные функции, хотя функции, на которые они указывают, недоступны напрямую:"
   ]
  },
  {
   "cell_type": "code",
   "execution_count": 15,
   "metadata": {
    "id": "l193meh7ftGs"
   },
   "outputs": [
    {
     "data": {
      "text/plain": [
       "'Привет, меня зовут Ксавье.'"
      ]
     },
     "execution_count": 15,
     "metadata": {},
     "output_type": "execute_result"
    }
   ],
   "source": [
    "first()"
   ]
  },
  {
   "cell_type": "code",
   "execution_count": 16,
   "metadata": {
    "id": "5CbX_OvZftGs"
   },
   "outputs": [
    {
     "data": {
      "text/plain": [
       "'Зови меня X Æ A-12.'"
      ]
     },
     "execution_count": 16,
     "metadata": {},
     "output_type": "execute_result"
    }
   ],
   "source": [
    "second()"
   ]
  },
  {
   "cell_type": "markdown",
   "metadata": {
    "id": "fRMjZuMAftGs"
   },
   "source": [
    "Обратите внимание, что в предыдущем разделе о внутренних функциях мы не имели доступа к `first_child()`. В последнем же примере мы получили ссылку на каждую функцию и можем их вызывать в будущем.\n",
    "\n",
    "# 2. Простые декораторы \n",
    "## 2.1. Общая идея: используем знания о функциях\n",
    "Теперь, когда мы увидели, что функции в Python похожи на любые другие объекты, нам будет проще понять «магию» декораторов. Начнём с искусственного примера, поясняющего идею:"
   ]
  },
  {
   "cell_type": "code",
   "execution_count": 18,
   "metadata": {
    "id": "hK-BUk_RftGt"
   },
   "outputs": [
    {
     "data": {
      "text/plain": [
       "<function __main__.my_decorator.<locals>.wrapper()>"
      ]
     },
     "execution_count": 18,
     "metadata": {},
     "output_type": "execute_result"
    }
   ],
   "source": [
    "def my_decorator(func):\n",
    "    def wrapper():\n",
    "        print(\"До вызова функции.\")\n",
    "        func()\n",
    "        print(\"После вызова функции.\")\n",
    "    return wrapper\n",
    "\n",
    "def say_whee():\n",
    "    print(\"Ура!\")\n",
    "\n",
    "say_whee = my_decorator(say_whee)\n",
    "say_whee"
   ]
  },
  {
   "cell_type": "markdown",
   "metadata": {
    "id": "98ki8gB7ftGt"
   },
   "source": [
    "Знаете, что произойдёт при вызове `say_where()`?"
   ]
  },
  {
   "cell_type": "code",
   "execution_count": 19,
   "metadata": {
    "id": "RpJq_BzPftGt"
   },
   "outputs": [
    {
     "name": "stdout",
     "output_type": "stream",
     "text": [
      "До вызова функции.\n",
      "Ура!\n",
      "После вызова функции.\n"
     ]
    }
   ],
   "source": [
    "say_whee()"
   ]
  },
  {
   "cell_type": "markdown",
   "metadata": {
    "id": "sgHVmyKvftGt"
   },
   "source": [
    "Чтобы понять, что происходит, оглянемся на предыдущие примеры. Мы просто применяем всё, что узнали до сих пор. Декорирование происходит в последней строчке:\n",
    "\n",
    "`say_whee = my_decorator(say_whee)`\n",
    "\n",
    "Мы передаем в функцию `my_decorator()` ссылку на функцию say_whee. В `my_decorator()` есть внутренняя функция `wrapper()`, ссылка на которую возвращается в инструкции `return` внешней функции. В результате мы передали в `my_decorator()` в качестве аргумента ссылку на одну функцию, а назад получили ссылку на её функцию-обёртку.\n",
    "\n",
    "Теперь имя `say_whee` указывает на внутреннюю функцию `wrapper`:"
   ]
  },
  {
   "cell_type": "code",
   "execution_count": null,
   "metadata": {
    "id": "FkcDWxIMftGt"
   },
   "outputs": [],
   "source": [
    "say_whee"
   ]
  },
  {
   "cell_type": "markdown",
   "metadata": {
    "id": "R7BkVipBftGt"
   },
   "source": [
    "Однако `wrapper()` содержит ссылку на оригинал `say_whee()` и вызывает эту функцию между двумя вызовами `print()`. Проще говоря, декоратор обертывает функцию, изменяя ее поведение.\n",
    "\n",
    "**Добавим динамики**. Рассмотрим второй пример, иллюстрирующий динамическое поведение декораторов. Сделаем так, чтобы наша функция кричала \"Ура!\" только в дневное время."
   ]
  },
  {
   "cell_type": "code",
   "execution_count": 21,
   "metadata": {
    "id": "QJxJSfhFftGt"
   },
   "outputs": [],
   "source": [
    "from datetime import datetime\n",
    "\n",
    "def not_during_the_night(func):\n",
    "    def wrapper():\n",
    "        if 8 <= datetime.now().hour < 22:\n",
    "            func()\n",
    "        else:\n",
    "            pass  # Тише, соседи спят!\n",
    "    return wrapper\n",
    "\n",
    "def say_whee():\n",
    "    print(\"Ура!\")\n",
    "\n",
    "say_whee = not_during_the_night(say_whee)"
   ]
  },
  {
   "cell_type": "code",
   "execution_count": 23,
   "metadata": {},
   "outputs": [
    {
     "name": "stdout",
     "output_type": "stream",
     "text": [
      "Ура!\n"
     ]
    }
   ],
   "source": [
    "say_whee()"
   ]
  },
  {
   "cell_type": "markdown",
   "metadata": {
    "id": "ff1VAjN8ftGt"
   },
   "source": [
    "Декорированная функция `say_whee()` будет выводить `\"Ура\"` только, если она запущена в интервале c 8:00 до 22:00 (чтобы проверить разницу в поведении, «подкрутите стрелки»).\n",
    "\n",
    "## 2.2. Немного синтаксического сахара! \n",
    "То, как мы декорировали `say_whee()`, прямо скажем, выглядит неуклюже. В последнем примере мы три раза использовали имя say_whee: при определении функции-оригинала, при передаче ссылку в функцию `not_during_the_night()` и при переопределении имени для создания ссылки на декоратор.\n",
    "\n",
    "Чтобы не заниматься такими глупостями, в Python можно создать декоратор с помощью символа `@`. Следующий код эквивалентен первому рассмотренному примеру:"
   ]
  },
  {
   "cell_type": "code",
   "execution_count": 25,
   "metadata": {
    "id": "_WiGz31dftGt"
   },
   "outputs": [],
   "source": [
    "def my_decorator(func):\n",
    "    def wrapper():\n",
    "        print(\"До вызова функции.\")\n",
    "        func()\n",
    "        print(\"После вызова функции.\")\n",
    "    return wrapper\n",
    "\n",
    "@my_decorator\n",
    "def say_whee():\n",
    "    print(\"Ура!\")"
   ]
  },
  {
   "cell_type": "code",
   "execution_count": 26,
   "metadata": {
    "id": "SvSpg2iSftGu"
   },
   "outputs": [
    {
     "name": "stdout",
     "output_type": "stream",
     "text": [
      "До вызова функции.\n",
      "Ура!\n",
      "После вызова функции.\n"
     ]
    }
   ],
   "source": [
    "say_whee()"
   ]
  },
  {
   "cell_type": "markdown",
   "metadata": {
    "id": "4MtJUA-mftGu"
   },
   "source": [
    "То есть инструкция `@my_decorator`, идущая перед определением функции `say_whee()` эквивалентна инструкции `say_whee = my_decorator(say_whee)`.\n",
    "\n",
    "## 2.3. Повторное использование декораторов\n",
    "Как и любую другую функцию, декоратор можно поместить в отдельный модуль и использовать для различных целей. К примеру, можно создать файл `decorators.py` со всеми декораторами и импортировать из него необходимые функции.\n",
    "\n",
    "В отличие от статей, на которые мы сослались в начале документа, для удобства работы мы будем описывать и переопределеять все декораторы непосредственном в этом Jupyter-блоноте.\n",
    "\n",
    "## 2.4. Декорирование функций, принимающих аргументы \n",
    "\n",
    "Пусть у нас есть функция, принимающая аргументы. Можем ли мы ее декорировать? Попробуем. Напишем простой декоратор, который дважды выполняет переданную функцию:"
   ]
  },
  {
   "cell_type": "code",
   "execution_count": 30,
   "metadata": {
    "id": "yORPgfKdftGu"
   },
   "outputs": [],
   "source": [
    "def do_twice(func):\n",
    "    def wrapper_do_twice():\n",
    "        func() # TypeError\n",
    "        func()\n",
    "    return wrapper_do_twice\n",
    "\n",
    "@do_twice\n",
    "def greet(name):\n",
    "    print(f\"Привет, {name}!\")"
   ]
  },
  {
   "cell_type": "markdown",
   "metadata": {
    "id": "k74pB_EGftGu"
   },
   "source": [
    "К сожалению, запуск кода вызовет ошибку:"
   ]
  },
  {
   "cell_type": "code",
   "execution_count": 29,
   "metadata": {
    "id": "HF_eH9q5ftGu"
   },
   "outputs": [
    {
     "ename": "TypeError",
     "evalue": "do_twice.<locals>.wrapper_do_twice() takes 0 positional arguments but 1 was given",
     "output_type": "error",
     "traceback": [
      "\u001b[1;31m---------------------------------------------------------------------------\u001b[0m",
      "\u001b[1;31mTypeError\u001b[0m                                 Traceback (most recent call last)",
      "Cell \u001b[1;32mIn[29], line 1\u001b[0m\n\u001b[1;32m----> 1\u001b[0m \u001b[43mgreet\u001b[49m\u001b[43m(\u001b[49m\u001b[38;5;124;43m\"\u001b[39;49m\u001b[38;5;124;43mмир\u001b[39;49m\u001b[38;5;124;43m\"\u001b[39;49m\u001b[43m)\u001b[49m\n",
      "\u001b[1;31mTypeError\u001b[0m: do_twice.<locals>.wrapper_do_twice() takes 0 positional arguments but 1 was given"
     ]
    }
   ],
   "source": [
    "greet(\"мир\")"
   ]
  },
  {
   "cell_type": "markdown",
   "metadata": {
    "id": "bf9uPUtaftGu"
   },
   "source": [
    "Проблема в том, что внутренняя функция декоратора `wrapper_do_twice()` не принимает аргументов. Нужно добавить их обработку. Перепишем декоратор следующим образом:"
   ]
  },
  {
   "cell_type": "code",
   "execution_count": 36,
   "metadata": {
    "id": "yeYxDm4RftGu"
   },
   "outputs": [],
   "source": [
    "def do_twice(func):\n",
    "    def wrapper_do_twice(*args, **kwargs):\n",
    "        func(*args, **kwargs) # *args - кортеж (a, b, ...), **kwargs - словарь {'key': 'value'}\n",
    "        func(*args, **kwargs)\n",
    "    return wrapper_do_twice\n",
    "\n",
    "@do_twice\n",
    "def greet(name, people=\"люди\"):\n",
    "    print(f\"Привет, {name} и {people}!\") # невозвращаемая функция"
   ]
  },
  {
   "cell_type": "markdown",
   "metadata": {
    "id": "pAMz46YdftGu"
   },
   "source": [
    "Теперь внутренняя функция декоратора принимает любое число аргументов и пересылает их декорируемой функции. Так обе декорированные функции будут работать корректно:"
   ]
  },
  {
   "cell_type": "code",
   "execution_count": 32,
   "metadata": {
    "id": "C-02q2sYftGv"
   },
   "outputs": [
    {
     "name": "stdout",
     "output_type": "stream",
     "text": [
      "До вызова функции.\n",
      "Ура!\n",
      "После вызова функции.\n"
     ]
    }
   ],
   "source": [
    "say_whee()"
   ]
  },
  {
   "cell_type": "code",
   "execution_count": 35,
   "metadata": {
    "id": "RMsny-PDftGv"
   },
   "outputs": [
    {
     "name": "stdout",
     "output_type": "stream",
     "text": [
      "Привет, мир и Люди!\n",
      "Привет, мир и Люди!\n"
     ]
    }
   ],
   "source": [
    "greet(\"мир\")"
   ]
  },
  {
   "cell_type": "markdown",
   "metadata": {
    "id": "1S7WOQYjftGz"
   },
   "source": [
    "## 2.5. Возвращение значение из декорированных функций \n",
    "В декораторе можно описать, что делать со значением, возвращаемым декорированной функцией:"
   ]
  },
  {
   "cell_type": "code",
   "execution_count": 37,
   "metadata": {
    "id": "CYLraTJ0ftGz"
   },
   "outputs": [],
   "source": [
    "@do_twice\n",
    "def return_greeting(name):\n",
    "    print(\"Готовлюсь приветствовать...\")\n",
    "    return f\"Привет, {name}!\""
   ]
  },
  {
   "cell_type": "markdown",
   "metadata": {
    "id": "MCTA806bftGz"
   },
   "source": [
    "Попытаемся использовать декорированную функцию:"
   ]
  },
  {
   "cell_type": "code",
   "execution_count": 38,
   "metadata": {
    "id": "eBVSzQUxftGz"
   },
   "outputs": [
    {
     "name": "stdout",
     "output_type": "stream",
     "text": [
      "Готовлюсь приветствовать...\n",
      "Готовлюсь приветствовать...\n"
     ]
    }
   ],
   "source": [
    "hi_adam = return_greeting(\"Адам\")"
   ]
  },
  {
   "cell_type": "code",
   "execution_count": 39,
   "metadata": {
    "id": "VN_HyFdhftGz"
   },
   "outputs": [
    {
     "name": "stdout",
     "output_type": "stream",
     "text": [
      "None\n"
     ]
    }
   ],
   "source": [
    "print(hi_adam) #None"
   ]
  },
  {
   "cell_type": "markdown",
   "metadata": {
    "id": "2I8UL0o1ftGz"
   },
   "source": [
    "К сожалению, декоратор «съел» значение, возвращаемое оригинальной функцией. Поскольку `do_twice_wrapper()` в явном виде не возвращает никакое значение, вызов в `return_greeting(\"Адам\")` в конечном итоге вернул `None`.\n",
    "\n",
    "Сделаем так, чтобы внутренняя функция декоратора возвращала значение декорированной функции. Поправим декоратор:"
   ]
  },
  {
   "cell_type": "code",
   "execution_count": 40,
   "metadata": {
    "id": "4xvFXaS7ftGz"
   },
   "outputs": [],
   "source": [
    "def do_twice(func):\n",
    "    def wrapper_do_twice(*args, **kwargs):\n",
    "        func(*args, **kwargs)\n",
    "        return func(*args, **kwargs) # вернуть значение\n",
    "    return wrapper_do_twice # вернуть значение\n",
    "\n",
    "@do_twice\n",
    "def return_greeting(name):\n",
    "    print(\"Готовлюсь приветствовать...\")\n",
    "    return f\"Привет, {name}!\""
   ]
  },
  {
   "cell_type": "markdown",
   "metadata": {
    "id": "c3Av-3RxftGz"
   },
   "source": [
    "Проверим, как всё работает теперь:"
   ]
  },
  {
   "cell_type": "code",
   "execution_count": 41,
   "metadata": {
    "id": "v2XxXy7qftG0"
   },
   "outputs": [
    {
     "name": "stdout",
     "output_type": "stream",
     "text": [
      "Готовлюсь приветствовать...\n",
      "Готовлюсь приветствовать...\n"
     ]
    },
    {
     "data": {
      "text/plain": [
       "'Привет, Адам!'"
      ]
     },
     "execution_count": 41,
     "metadata": {},
     "output_type": "execute_result"
    }
   ],
   "source": [
    "return_greeting(\"Адам\")"
   ]
  },
  {
   "cell_type": "markdown",
   "metadata": {
    "id": "WB46wZWdftG0"
   },
   "source": [
    "## 2.6. Интроспекция: «кто ты такой, в самом деле?» \n",
    "\n",
    "Большое удобство в работе с Python – его способность к [интроспекции](https://ru.wikipedia.org/wiki/%D0%98%D0%BD%D1%82%D1%80%D0%BE%D1%81%D0%BF%D0%B5%D0%BA%D1%86%D0%B8%D1%8F_(%D0%BF%D1%80%D0%BE%D0%B3%D1%80%D0%B0%D0%BC%D0%BC%D0%B8%D1%80%D0%BE%D0%B2%D0%B0%D0%BD%D0%B8%D0%B5)). У объекта есть доступ к собственным атрибутам. К примеру, у функции можно спросить её имя и вызвать документацию:"
   ]
  },
  {
   "cell_type": "code",
   "execution_count": 42,
   "metadata": {
    "id": "uo6gJfJDftG0"
   },
   "outputs": [
    {
     "data": {
      "text/plain": [
       "<function print(*args, sep=' ', end='\\n', file=None, flush=False)>"
      ]
     },
     "execution_count": 42,
     "metadata": {},
     "output_type": "execute_result"
    }
   ],
   "source": [
    "print"
   ]
  },
  {
   "cell_type": "code",
   "execution_count": 43,
   "metadata": {
    "id": "Pb_tNneXftG0"
   },
   "outputs": [
    {
     "data": {
      "text/plain": [
       "'print'"
      ]
     },
     "execution_count": 43,
     "metadata": {},
     "output_type": "execute_result"
    }
   ],
   "source": [
    "print.__name__"
   ]
  },
  {
   "cell_type": "code",
   "execution_count": 44,
   "metadata": {
    "id": "orERAvYVftG0"
   },
   "outputs": [
    {
     "name": "stdout",
     "output_type": "stream",
     "text": [
      "Help on built-in function print in module builtins:\n",
      "\n",
      "print(*args, sep=' ', end='\\n', file=None, flush=False)\n",
      "    Prints the values to a stream, or to sys.stdout by default.\n",
      "\n",
      "    sep\n",
      "      string inserted between values, default a space.\n",
      "    end\n",
      "      string appended after the last value, default a newline.\n",
      "    file\n",
      "      a file-like object (stream); defaults to the current sys.stdout.\n",
      "    flush\n",
      "      whether to forcibly flush the stream.\n",
      "\n"
     ]
    }
   ],
   "source": [
    "help(print)"
   ]
  },
  {
   "cell_type": "markdown",
   "metadata": {
    "id": "lvKBwx4LftG0"
   },
   "source": [
    "Интроспекция работает и для пользовательских функций:"
   ]
  },
  {
   "cell_type": "code",
   "execution_count": 45,
   "metadata": {
    "id": "scSXoHtqftG0"
   },
   "outputs": [
    {
     "data": {
      "text/plain": [
       "<function __main__.my_decorator.<locals>.wrapper()>"
      ]
     },
     "execution_count": 45,
     "metadata": {},
     "output_type": "execute_result"
    }
   ],
   "source": [
    "say_whee"
   ]
  },
  {
   "cell_type": "code",
   "execution_count": 46,
   "metadata": {
    "id": "AGj-AbFCftG1"
   },
   "outputs": [
    {
     "data": {
      "text/plain": [
       "'wrapper'"
      ]
     },
     "execution_count": 46,
     "metadata": {},
     "output_type": "execute_result"
    }
   ],
   "source": [
    "say_whee.__name__"
   ]
  },
  {
   "cell_type": "code",
   "execution_count": 47,
   "metadata": {
    "id": "7zmFOm8OftG1"
   },
   "outputs": [
    {
     "name": "stdout",
     "output_type": "stream",
     "text": [
      "Help on function wrapper in module __main__:\n",
      "\n",
      "wrapper()\n",
      "\n"
     ]
    }
   ],
   "source": [
    "help(say_whee)"
   ]
  },
  {
   "cell_type": "markdown",
   "metadata": {
    "id": "AB9UqJuZftG1"
   },
   "source": [
    "Как видим, в результате декорирования функция `say_whee()` запуталась в собственной идентичности. В результате декорирования мы получаем информацию о внутренней функции декоратора, а не об оригинальной функции. Хотя это технически верно, эта информация не очень полезна.\n",
    "\n",
    "Чтобы исправить ситуацию, декоратор должен использовать... *специальный декоратор* `@functools.wraps`. Этот декоратор позволяет сохранить информацию об исходной функции. Вновь перепишем наш декоратор:"
   ]
  },
  {
   "cell_type": "code",
   "execution_count": 57,
   "metadata": {
    "id": "l4f32XU2ftG1"
   },
   "outputs": [],
   "source": [
    "import functools\n",
    "\n",
    "def do_twice(func):\n",
    "    @functools.wraps(func)\n",
    "    def wrapper_do_twice(*args, **kwargs):\n",
    "        func(*args, **kwargs)\n",
    "        func.__doc__\n",
    "        return func(*args, **kwargs)\n",
    "    functools.update_wrapper(wrapper_do_twice, func)\n",
    "    return wrapper_do_twice\n",
    "\n",
    "@do_twice\n",
    "def say_whee():\n",
    "    '''\n",
    "    Метод для приветствия\n",
    "    '''\n",
    "    print(\"Ура!\")"
   ]
  },
  {
   "cell_type": "code",
   "execution_count": 50,
   "metadata": {
    "id": "lggTFWIaftG1"
   },
   "outputs": [
    {
     "data": {
      "text/plain": [
       "<function __main__.say_whee()>"
      ]
     },
     "execution_count": 50,
     "metadata": {},
     "output_type": "execute_result"
    }
   ],
   "source": [
    "say_whee"
   ]
  },
  {
   "cell_type": "code",
   "execution_count": 51,
   "metadata": {
    "id": "zRMWicaSftG1"
   },
   "outputs": [
    {
     "data": {
      "text/plain": [
       "'say_whee'"
      ]
     },
     "execution_count": 51,
     "metadata": {},
     "output_type": "execute_result"
    }
   ],
   "source": [
    "say_whee.__name__"
   ]
  },
  {
   "cell_type": "code",
   "execution_count": 58,
   "metadata": {},
   "outputs": [
    {
     "data": {
      "text/plain": [
       "'\\n    Метод для приветствия\\n    '"
      ]
     },
     "execution_count": 58,
     "metadata": {},
     "output_type": "execute_result"
    }
   ],
   "source": [
    "say_whee.__doc__"
   ]
  },
  {
   "cell_type": "code",
   "execution_count": 52,
   "metadata": {
    "id": "EdYP43IRftG1"
   },
   "outputs": [
    {
     "name": "stdout",
     "output_type": "stream",
     "text": [
      "Help on function say_whee in module __main__:\n",
      "\n",
      "say_whee()\n",
      "\n"
     ]
    }
   ],
   "source": [
    "help(say_whee)"
   ]
  },
  {
   "cell_type": "markdown",
   "metadata": {},
   "source": [
    "# 3. Встроенные декораторы Python"
   ]
  },
  {
   "cell_type": "code",
   "execution_count": 53,
   "metadata": {},
   "outputs": [],
   "source": [
    "from abc import ABC, abstractmethod\n",
    "\n",
    "class Gun(ABC):\n",
    "    \"\"\"\n",
    "    Абстрактное оружие, которое умеет стрелять\n",
    "    \"\"\"\n",
    "    \n",
    "    @property\n",
    "    @abstractmethod\n",
    "    def title(self):\n",
    "        pass\n",
    "    \n",
    "    @abstractmethod\n",
    "    def shoot(self):\n",
    "        class_name = self.title\n",
    "        print('Shoot from {}'.format(class_name))"
   ]
  },
  {
   "cell_type": "code",
   "execution_count": 54,
   "metadata": {},
   "outputs": [],
   "source": [
    "class Pistol(Gun):\n",
    "    \"\"\"Пистолет\"\"\"\n",
    "    \n",
    "    @property\n",
    "    def title(self):\n",
    "        return 'Pistol'\n",
    "    \n",
    "    def shoot(self):\n",
    "        super().shoot()"
   ]
  },
  {
   "cell_type": "code",
   "execution_count": 55,
   "metadata": {},
   "outputs": [],
   "source": [
    "class SilencerDecorator(Gun):\n",
    " \"\"\"Декоратор глушителя\"\"\"\n",
    " \n",
    " \n",
    "class LightingDecorator(Gun):\n",
    " \"\"\"Декоратор для фонарика\"\"\""
   ]
  },
  {
   "cell_type": "code",
   "execution_count": null,
   "metadata": {},
   "outputs": [],
   "source": [
    "class AllGunSilencerDecorator(SilencerDecorator):\n",
    "    @property\n",
    "    def title(self):\n",
    "        return self._gun.title\n",
    "    \n",
    "    def __init__(self, gun: Gun):\n",
    "        self._gun = gun   \n",
    "    \n",
    "    def shoot(self):\n",
    "        print('Надеваем глушитель...')\n",
    "        self._gun.shoot()\n",
    "        print('Снимаем глушитель...')"
   ]
  },
  {
   "cell_type": "code",
   "execution_count": null,
   "metadata": {},
   "outputs": [],
   "source": [
    "class PistolSilencerDecorator(SilencerDecorator):\n",
    "    @property\n",
    "    def title(self):\n",
    "        return self._pistol.title\n",
    "\n",
    "    def __init__(self, pistol: Pistol):\n",
    "        self._pistol= pistol\n",
    "        \n",
    "    def shoot(self):\n",
    "        print('Надеваем специальный глушитель для пистолетов...')\n",
    "        self._pistol.shoot()\n",
    "        print('Снимаем специальный глушитель для пистолетов...')\n"
   ]
  },
  {
   "cell_type": "markdown",
   "metadata": {
    "id": "j1kfYx5FftG2"
   },
   "source": [
    "Гораздо лучше! Теперь у функции `say_whee()` не наступает амнезии после декорирования.\n",
    "\n",
    "# 4. Несколько примеров из реального мира\n",
    "Посмотрим на несколько полезных примеров декораторов. Как вы заметите, схема применения декораторов будет соответствовать тому паттерну, что мы получили в результате наших рассуждений:\n",
    "\n",
    "```\n",
    "def decorator(func):\n",
    "    @functools.wraps(func)\n",
    "    def wrapper_decorator(*args, **kwargs):\n",
    "        # Что-то делаем до\n",
    "        value = func(*args, **kwargs)\n",
    "        # Что-то делаем после\n",
    "        return value\n",
    "    return wrapper_decorator\n",
    "```\n",
    "\n",
    "Этот блок кода является хорошим шаблоном для создания более сложных декораторов.\n",
    "\n",
    "## 4.1. Декоратор для тайминга кода \n",
    "Начнем с создания декоратора `@timer`. Он будет измерять время выполнения функции и выводить результат в консоль:"
   ]
  },
  {
   "cell_type": "code",
   "execution_count": 62,
   "metadata": {
    "id": "VfWuEWBeftG2"
   },
   "outputs": [],
   "source": [
    "import time\n",
    "\n",
    "def timer(func):\n",
    "    \"\"\"Выводит время выполнения декорируемой функции\"\"\"\n",
    "    @functools.wraps(func)\n",
    "    def wrapper_timer(*args, **kwargs):\n",
    "        start_time = time.perf_counter()\n",
    "        value = func(*args, **kwargs)\n",
    "        end_time = time.perf_counter()\n",
    "        run_time = end_time - start_time\n",
    "        print(f\"Функция {func.__name__!r} выполнена за {run_time:.4f} с\")\n",
    "        return value\n",
    "    return wrapper_timer\n",
    "\n",
    "@timer\n",
    "def waste_some_time(num_times, list_len=100000):\n",
    "    for _ in range(num_times):\n",
    "        sum([i**2 for i in range(list_len)])"
   ]
  },
  {
   "cell_type": "markdown",
   "metadata": {
    "id": "0j2bd0NcftG2"
   },
   "source": [
    "Декоратор сохраняет текущее время в переменной `start_time` непосредственно перед запуском декорируемой функции. Это значение впоследствии вычитается из текущего значения `end_time` после выполнения функции. Полученная разность `run_time` передается в форматированную строку. Пара примеров:"
   ]
  },
  {
   "cell_type": "code",
   "execution_count": 63,
   "metadata": {
    "id": "ADnnhharftG2"
   },
   "outputs": [
    {
     "name": "stdout",
     "output_type": "stream",
     "text": [
      "Функция 'waste_some_time' выполнена за 0.0309 с\n"
     ]
    }
   ],
   "source": [
    "waste_some_time(1)"
   ]
  },
  {
   "cell_type": "code",
   "execution_count": 64,
   "metadata": {
    "id": "aM65PbbdftG2"
   },
   "outputs": [
    {
     "name": "stdout",
     "output_type": "stream",
     "text": [
      "Функция 'waste_some_time' выполнена за 39.2966 с\n"
     ]
    }
   ],
   "source": [
    "waste_some_time(999)"
   ]
  },
  {
   "cell_type": "markdown",
   "metadata": {
    "id": "eN6qBNfFftG2"
   },
   "source": [
    "**Примечание**: декоратор `@timer` отлично подходит, если вы хотите получить представление о времени выполнения функции. Для более точных замеров используйте модуль стандартной библиотеки `timeit`.\n",
    "\n",
    "## 4.2. Отладочный декоратор \n",
    "Следующий декоратор `@debug` будет выводить аргументы, с которыми вызвана функция, а также возвращаемое функцией значение:"
   ]
  },
  {
   "cell_type": "code",
   "execution_count": 66,
   "metadata": {
    "id": "dACyVHHMftG3"
   },
   "outputs": [],
   "source": [
    "def debug(func):\n",
    "    @functools.wraps(func)\n",
    "    def wrapper_debug(*args, **kwargs):\n",
    "        args_repr = [repr(a) for a in args]                      # 1\n",
    "        kwargs_repr = [f\"{k}={v!r}\" for k, v in kwargs.items()]  # 2\n",
    "        signature = \", \".join(args_repr + kwargs_repr)           # 3\n",
    "        print(f\"Вызываем {func.__name__}({signature})\")\n",
    "        value = func(*args, **kwargs)\n",
    "        print(f\"{func.__name__!r} возвращает {value!r}\")         # 4\n",
    "        return value\n",
    "    return wrapper_debug"
   ]
  },
  {
   "cell_type": "markdown",
   "metadata": {
    "id": "PN1aetTmftG3"
   },
   "source": [
    "Отмеченные комментариями строки соответствуют следующим операциям:\n",
    "\n",
    "1. Создание списка позиционных аргументов: `repr()` используется для строкового представления каждого аргумента.\n",
    "2. Создание списка аргументов, передающихся по ключу: `f`-строка форматирует каждый элемент в формате `key=value` со спецификатором `!r`, соответствующим `repr()`.\n",
    "3. Списки аргументов объединяются в общую подпись, элементы разделены запятыми.\n",
    "4. Возвращаемое значение выводится после исполняемой функции.\n",
    "\n",
    "Давайте посмотрим, как декоратор работает на практике, применив его к простой функции с одним позиционным аргументов и одним аргументом, передаваемым по ключу:"
   ]
  },
  {
   "cell_type": "code",
   "execution_count": 67,
   "metadata": {
    "id": "xHkqScjOftG3"
   },
   "outputs": [],
   "source": [
    "@debug\n",
    "def make_greeting(name, age=None):\n",
    "    if age is None:\n",
    "        return f\"Привет, {name}!\"\n",
    "    else:\n",
    "        return f\"Ого, {name}! Тебе уже {age}, как ты быстро растёшь!\""
   ]
  },
  {
   "cell_type": "code",
   "execution_count": 68,
   "metadata": {
    "id": "B-x6KMJRftG3"
   },
   "outputs": [
    {
     "name": "stdout",
     "output_type": "stream",
     "text": [
      "Вызываем make_greeting('Бенджамин')\n",
      "'make_greeting' возвращает 'Привет, Бенджамин!'\n"
     ]
    },
    {
     "data": {
      "text/plain": [
       "'Привет, Бенджамин!'"
      ]
     },
     "execution_count": 68,
     "metadata": {},
     "output_type": "execute_result"
    }
   ],
   "source": [
    "make_greeting(\"Бенджамин\")"
   ]
  },
  {
   "cell_type": "code",
   "execution_count": 69,
   "metadata": {
    "id": "PMzbPYroftG3"
   },
   "outputs": [
    {
     "name": "stdout",
     "output_type": "stream",
     "text": [
      "Вызываем make_greeting('Ричард', age=112)\n",
      "'make_greeting' возвращает 'Ого, Ричард! Тебе уже 112, как ты быстро растёшь!'\n"
     ]
    },
    {
     "data": {
      "text/plain": [
       "'Ого, Ричард! Тебе уже 112, как ты быстро растёшь!'"
      ]
     },
     "execution_count": 69,
     "metadata": {},
     "output_type": "execute_result"
    }
   ],
   "source": [
    "make_greeting(\"Ричард\", age=112)"
   ]
  },
  {
   "cell_type": "markdown",
   "metadata": {
    "id": "ByTrRk9RftG3"
   },
   "source": [
    "Пример не сразу покажется полезным – декоратор `@debug` просто повторяет то, что мы ему прислали. Но он гораздо эффективнее, если его применить к небольшим вспомогательным функциям. Следующий пример иллюстрирует аппроксимацию для нахождения числа `e`."
   ]
  },
  {
   "cell_type": "code",
   "execution_count": 70,
   "metadata": {
    "id": "f_pTZnjUftG3"
   },
   "outputs": [],
   "source": [
    "import math\n",
    "math.factorial = debug(math.factorial)\n",
    "\n",
    "def approximate_e(terms=18):\n",
    "    return sum(1 / math.factorial(n) for n in range(terms))"
   ]
  },
  {
   "cell_type": "markdown",
   "metadata": {
    "id": "jRpb8WcGftG4"
   },
   "source": [
    "Этот пример показывает, как вы можете применить декоратор к уже определенной функции. Аппроксимация нахождения числа $е$ основана на разложении в ряд через суммую обратных факториалов. При вызове функции `approximate_e()` вы увидим `@debug` за работой:"
   ]
  },
  {
   "cell_type": "code",
   "execution_count": 71,
   "metadata": {
    "id": "3gM7Jd9-ftG4"
   },
   "outputs": [
    {
     "name": "stdout",
     "output_type": "stream",
     "text": [
      "Вызываем factorial(0)\n",
      "'factorial' возвращает 1\n",
      "Вызываем factorial(1)\n",
      "'factorial' возвращает 1\n",
      "Вызываем factorial(2)\n",
      "'factorial' возвращает 2\n",
      "Вызываем factorial(3)\n",
      "'factorial' возвращает 6\n",
      "Вызываем factorial(4)\n",
      "'factorial' возвращает 24\n"
     ]
    },
    {
     "data": {
      "text/plain": [
       "2.7083333333333335"
      ]
     },
     "execution_count": 71,
     "metadata": {},
     "output_type": "execute_result"
    }
   ],
   "source": [
    "approximate_e(5)"
   ]
  },
  {
   "cell_type": "code",
   "execution_count": 72,
   "metadata": {},
   "outputs": [],
   "source": [
    "import functools\n",
    "# декоратор с параметрами\n",
    "\n",
    "def decorator_with_params(param1, param2):\n",
    "    def decorate_func(func):\n",
    "        @functools.wraps(func)\n",
    "        def wrapper(*args, **kwargs):\n",
    "            print(f\"параметры декоратора {param1}, {param2}\")\n",
    "            result = func(*args, **kwargs)\n",
    "            return result\n",
    "        return wrapper\n",
    "    return decorate_func\n",
    "\n",
    "@decorator_with_params(param1=1, param2='test')\n",
    "def sum_func(a, b):\n",
    "    return a + b"
   ]
  },
  {
   "cell_type": "code",
   "execution_count": 73,
   "metadata": {},
   "outputs": [
    {
     "name": "stdout",
     "output_type": "stream",
     "text": [
      "параметры декоратора 1, test\n"
     ]
    },
    {
     "data": {
      "text/plain": [
       "14"
      ]
     },
     "execution_count": 73,
     "metadata": {},
     "output_type": "execute_result"
    }
   ],
   "source": [
    "sum_func(6, 8)"
   ]
  },
  {
   "cell_type": "markdown",
   "metadata": {
    "id": "eXUsBYC_ftG4"
   },
   "source": [
    "Видно, что сложив только пять первых членов ряда, мы получаем довольно близкое значение к числу $e$.\n",
    "\n",
    "## 4.3. Замедление кода \n",
    "Следующий пример вряд ли покажется полезным. Зачем нам вообще замедлять код Python? Например, мы хотим ограничить частоту, с которой функция проверяет обновление веб-ресурса. Декоратор `@slow_down` будет выжидать одну секунду перед запуском декорируемой функции:"
   ]
  },
  {
   "cell_type": "code",
   "execution_count": 74,
   "metadata": {
    "id": "is3SOD9_ftG4"
   },
   "outputs": [],
   "source": [
    "def slow_down(func):\n",
    "    \"\"\"Ждёт 1 секунду, прежде чем вызвать переданную функцию\"\"\"\n",
    "    @functools.wraps(func)\n",
    "    def wrapper_slow_down(*args, **kwargs):\n",
    "        time.sleep(1)\n",
    "        return func(*args, **kwargs)\n",
    "    return wrapper_slow_down\n",
    "\n",
    "@slow_down\n",
    "def countdown(from_number):\n",
    "    if from_number < 1:\n",
    "        print(\"Поехали!\")\n",
    "    else:\n",
    "        print(from_number)\n",
    "        countdown(from_number - 1)"
   ]
  },
  {
   "cell_type": "markdown",
   "metadata": {
    "id": "BXv8uaXgftG4"
   },
   "source": [
    "Чтобы увидеть результат действия декоратора, запустите пример:"
   ]
  },
  {
   "cell_type": "code",
   "execution_count": 75,
   "metadata": {
    "id": "zbE4Hr2WftG4"
   },
   "outputs": [
    {
     "name": "stdout",
     "output_type": "stream",
     "text": [
      "3\n",
      "2\n",
      "1\n",
      "Поехали!\n"
     ]
    }
   ],
   "source": [
    "countdown(3)"
   ]
  },
  {
   "cell_type": "markdown",
   "metadata": {
    "id": "yI8TnDlRftG4"
   },
   "source": [
    "Декоратор `@slow_down` спит всегда лишь одну секунду. Позднее мы увидим, как передавать декоратору аргумент, чтобы контролировать его скорость.\n",
    "\n",
    "## 4.4. Регистрация плагинов\n",
    "Вообще декораторы не обязаны «оборачивать» функцию, которую они декорируют. Они могут просто регистрировать то, что функция существует и возвращать на нее ссылку. Это может использоваться для создания легковесной архитектуры:"
   ]
  },
  {
   "cell_type": "code",
   "execution_count": 77,
   "metadata": {
    "id": "4OJBM9j4ftG5"
   },
   "outputs": [],
   "source": [
    "import random\n",
    "PLUGINS = dict()\n",
    "\n",
    "def register(func):\n",
    "    \"\"\"Регистрирует функцию как плагин\"\"\"\n",
    "    PLUGINS[func.__name__] = func\n",
    "    return func\n",
    "\n",
    "@register\n",
    "def say_hello(name):\n",
    "    return f\"Привет, {name}!\"\n",
    "\n",
    "@register\n",
    "def be_awesome(name):\n",
    "    return f\"Привет, {name}, классно быть вместе!\"\n",
    "\n",
    "def randomly_greet(name):\n",
    "    greeter, greeter_func = random.choice(list(PLUGINS.items()))\n",
    "    print(f\"Используется {greeter!r}\")\n",
    "    return greeter_func(name)"
   ]
  },
  {
   "cell_type": "markdown",
   "metadata": {
    "id": "L9VIHDruftG5"
   },
   "source": [
    "В приведенном примере декоратор `@register` просто добавляет ссылку на декорируемую функцию в глобальный словарь `PLUGINS`. Никакой внутренней функции у декоратора нет, оригинальная функция возвращается немодифицированной, поэтому нет необходимости использовать `@functools.wraps`.\n",
    "\n",
    "Функция `randomly_greet()` случайным образом выбирает, какую из зарегистрированных функций использовать для поздравления. Удобство состоит в том, что словарь `PLUGINS` уже содержит ссылку для каждой функции, к которой был применен декоратор `@register`:"
   ]
  },
  {
   "cell_type": "code",
   "execution_count": 78,
   "metadata": {
    "id": "nG9qPE-kftG5"
   },
   "outputs": [
    {
     "data": {
      "text/plain": [
       "{'say_hello': <function __main__.say_hello(name)>,\n",
       " 'be_awesome': <function __main__.be_awesome(name)>}"
      ]
     },
     "execution_count": 78,
     "metadata": {},
     "output_type": "execute_result"
    }
   ],
   "source": [
    "PLUGINS"
   ]
  },
  {
   "cell_type": "code",
   "execution_count": 79,
   "metadata": {
    "id": "M_HLLDXqftG5"
   },
   "outputs": [
    {
     "name": "stdout",
     "output_type": "stream",
     "text": [
      "Используется 'be_awesome'\n"
     ]
    },
    {
     "data": {
      "text/plain": [
       "'Привет, Лео, классно быть вместе!'"
      ]
     },
     "execution_count": 79,
     "metadata": {},
     "output_type": "execute_result"
    }
   ],
   "source": [
    "randomly_greet(\"Лео\")"
   ]
  },
  {
   "cell_type": "markdown",
   "metadata": {
    "id": "whLnJIBCftG5"
   },
   "source": [
    "# 5. Декораторы поинтереснее \n",
    "До сих пор мы видели довольно простые декораторы – нам нужно было понять, как они работают. Вы можете передохнуть и попрактиковаться в применении декораторов, чтобы позднее вернуться к этому разделу, посвященному продвинутым концепциям.\n",
    "\n",
    "## 5.1. Декорирование классов\n",
    "Есть два способа применения декораторов к классам. Первый способ похож на то, что мы делали с функциями, – **декорировать методы класса**. Давайте определим класс, в котором декорируем некоторые из методов с помощью вышеописанных декораторов `@debug` и `@timer`:"
   ]
  },
  {
   "cell_type": "code",
   "execution_count": 80,
   "metadata": {
    "id": "RXac-Rh5ftG5"
   },
   "outputs": [],
   "source": [
    "class TimeWaster:\n",
    "    @debug\n",
    "    def __init__(self, max_num):\n",
    "        self.max_num = max_num\n",
    "\n",
    "    @timer\n",
    "    def waste_time(self, num_times):\n",
    "        for _ in range(num_times):\n",
    "            sum([i**2 for i in range(self.max_num)])"
   ]
  },
  {
   "cell_type": "markdown",
   "metadata": {
    "id": "2QK5VjDcftG6"
   },
   "source": [
    "Воспользуемся классом, чтобы увидеть действие декораторов:"
   ]
  },
  {
   "cell_type": "code",
   "execution_count": 81,
   "metadata": {
    "id": "vlNDj3CfftG6"
   },
   "outputs": [
    {
     "name": "stdout",
     "output_type": "stream",
     "text": [
      "Вызываем __init__(<__main__.TimeWaster object at 0x000002149C657860>, 1000)\n",
      "'__init__' возвращает None\n"
     ]
    }
   ],
   "source": [
    "tw = TimeWaster(1000)"
   ]
  },
  {
   "cell_type": "code",
   "execution_count": 82,
   "metadata": {
    "id": "8bmEhpiOftG6"
   },
   "outputs": [
    {
     "name": "stdout",
     "output_type": "stream",
     "text": [
      "Функция 'waste_time' выполнена за 0.2317 с\n"
     ]
    }
   ],
   "source": [
    "tw.waste_time(999)"
   ]
  },
  {
   "cell_type": "markdown",
   "metadata": {
    "id": "T7tnKKfqftG6"
   },
   "source": [
    "Другой подход – **декорировать классы целиком**. Написание декоратора класса очень похоже на написание декоратора функции. Разница лишь в том, что декоратор в качестве аргумента получит класс, а не функцию. Однако когда мы применяем декораторы функций к классам, их эффект может оказаться не таким, как предполагалось. В следующем примере мы применили декоратор `@timer` к классу:"
   ]
  },
  {
   "cell_type": "code",
   "execution_count": 83,
   "metadata": {
    "id": "FwSeRJy2ftG6"
   },
   "outputs": [],
   "source": [
    "@timer\n",
    "class TimeWaster:\n",
    "    def __init__(self, max_num):\n",
    "        self.max_num = max_num\n",
    "\n",
    "    def waste_time(self, num_times):\n",
    "        for _ in range(num_times):\n",
    "            sum([i**2 for i in range(self.max_num)])"
   ]
  },
  {
   "cell_type": "markdown",
   "metadata": {
    "id": "QqYb1jdqftG6"
   },
   "source": [
    "Декорирование класса не приведет к декорированию его методов. В результате `@timer` измерит только время создания экземпляра класса:"
   ]
  },
  {
   "cell_type": "code",
   "execution_count": 84,
   "metadata": {
    "id": "nFNVhR1QftG6"
   },
   "outputs": [
    {
     "name": "stdout",
     "output_type": "stream",
     "text": [
      "Функция 'TimeWaster' выполнена за 0.0000 с\n"
     ]
    }
   ],
   "source": [
    "tw = TimeWaster(1000)"
   ]
  },
  {
   "cell_type": "code",
   "execution_count": 85,
   "metadata": {
    "id": "tss7eghyftG6"
   },
   "outputs": [],
   "source": [
    "tw.waste_time(999)"
   ]
  },
  {
   "cell_type": "markdown",
   "metadata": {
    "id": "wD-mPDRuftG7"
   },
   "source": [
    "Позднее мы покажем примеры правильного декорирования классов.\n",
    "\n",
    "## 5.2. Вложенные декораторы \n",
    "К функции можно применить несколько декораторов, накладывая их действие друг на друга:"
   ]
  },
  {
   "cell_type": "code",
   "execution_count": 86,
   "metadata": {
    "id": "Tet2b3_zftG7"
   },
   "outputs": [],
   "source": [
    "@debug\n",
    "@do_twice\n",
    "def greet(name):\n",
    "    print(f\"Привет, {name}!\")"
   ]
  },
  {
   "cell_type": "markdown",
   "metadata": {
    "id": "FzxdkqNSftG7"
   },
   "source": [
    "В этом случае к функции будет применен сначала декоратор `@do_twice`, потом `@debug`:"
   ]
  },
  {
   "cell_type": "code",
   "execution_count": 87,
   "metadata": {
    "id": "NpI6ZcHCftG7"
   },
   "outputs": [
    {
     "name": "stdout",
     "output_type": "stream",
     "text": [
      "Вызываем greet('Ева')\n",
      "Привет, Ева!\n",
      "Привет, Ева!\n",
      "'greet' возвращает None\n"
     ]
    }
   ],
   "source": [
    "greet(\"Ева\")"
   ]
  },
  {
   "cell_type": "markdown",
   "metadata": {
    "id": "Frf2xTXaftG7"
   },
   "source": [
    "Посмотрим, что будет, если поменять порядок вызова декораторов:"
   ]
  },
  {
   "cell_type": "code",
   "execution_count": 88,
   "metadata": {
    "id": "VwX4J58IftG7"
   },
   "outputs": [],
   "source": [
    "@do_twice\n",
    "@debug\n",
    "def greet(name):\n",
    "    print(f\"Привет, {name}!\")"
   ]
  },
  {
   "cell_type": "code",
   "execution_count": 89,
   "metadata": {
    "id": "Pc3kGT75ftG7"
   },
   "outputs": [
    {
     "name": "stdout",
     "output_type": "stream",
     "text": [
      "Вызываем greet('Ева')\n",
      "Привет, Ева!\n",
      "'greet' возвращает None\n",
      "Вызываем greet('Ева')\n",
      "Привет, Ева!\n",
      "'greet' возвращает None\n"
     ]
    }
   ],
   "source": [
    "greet(\"Ева\")"
   ]
  },
  {
   "cell_type": "markdown",
   "metadata": {
    "id": "YAbu5_NPftG7"
   },
   "source": [
    "## 5.3. Декораторы, принимающие аргументы \n",
    "Иногда полезно передавать декораторам аргументы, чтобы управлять их поведением. Например, `@do_twice` может быть расширен до декоратора `@repeat(num_times)`. Число повторений декорируемой функции можно было бы указать в качестве аргумента `num_times`.\n",
    "\n",
    "Подумаем, как добиться такого поведения. Обычно декоратор создает и возвращает внутреннюю функцию-обертку. Мы могли бы дополнительно «обернуть» ее поведение с помощью другой внутренней функции:"
   ]
  },
  {
   "cell_type": "code",
   "execution_count": 90,
   "metadata": {
    "id": "I4xUCaOJftG8"
   },
   "outputs": [],
   "source": [
    "def repeat(num_times):\n",
    "    def decorator_repeat(func):\n",
    "        @functools.wraps(func)\n",
    "        def wrapper_repeat(*args, **kwargs):\n",
    "            for _ in range(num_times):\n",
    "                value = func(*args, **kwargs)\n",
    "            return value\n",
    "        return wrapper_repeat\n",
    "    return decorator_repeat"
   ]
  },
  {
   "cell_type": "code",
   "execution_count": 91,
   "metadata": {
    "id": "_p7g2OixftG8"
   },
   "outputs": [],
   "source": [
    "@repeat(num_times=4)\n",
    "def greet(name):\n",
    "    print(f\"Привет, {name}!\")"
   ]
  },
  {
   "cell_type": "code",
   "execution_count": 92,
   "metadata": {
    "id": "xIzPlK3hftG8"
   },
   "outputs": [
    {
     "name": "stdout",
     "output_type": "stream",
     "text": [
      "Привет, мир!\n",
      "Привет, мир!\n",
      "Привет, мир!\n",
      "Привет, мир!\n"
     ]
    }
   ],
   "source": [
    "greet(\"мир\")"
   ]
  },
  {
   "cell_type": "markdown",
   "metadata": {
    "id": "0MGwiD65ftG8"
   },
   "source": [
    "## 5.4. «И того, и другого, и можно без хлеба!»\n",
    "Немного потрудившись, мы можем определить декоратор, который можно использовать как с аргументами, так и без них.\n",
    "\n",
    "Поскольку ссылка на декорируемую функцию передается напрямую только в случае, если декоратор был вызван без аргументов, ссылка на функцию должна быть необязательным аргументом. То есть все аргументы декоратора должны передаваться по ключу. Для этого мы можем применить специальный синтаксис (`*`), указывающий, что все остальные аргументы передаются по ключу:\n",
    "\n",
    "```\n",
    "def name(_func=None, *, kw1=val1, kw2=val2, ...):\n",
    "    def decorator_name(func):\n",
    "        ...  # Создает и возвращает функцию-обёртку.\n",
    "\n",
    "    if _func is None:\n",
    "        return decorator_name\n",
    "    else:\n",
    "        return decorator_name(_func)\n",
    "```\n",
    "\n",
    "Здесь аргумент `_func` действует как маркер, отмечающий, был ли декоратор вызван с аргументами или без них.\n",
    "\n",
    "Если функция декоратора `name` будет вызвана без аргументов, декорируемая функция будет передана как `_func`. Если декоратор будет вызван с аргументами, тогда значение `_func` останется `None`, а передаваемые по ключу аргументы заменят значения по умолчанию. Символ `*` в списке аргументов означает, что следующие за ним аргументы не могут быть переданы как позиционные.\n",
    "\n",
    "То есть в сравнении с предыдущей версией к декоратору добавилось условие `if-else`:"
   ]
  },
  {
   "cell_type": "code",
   "execution_count": 93,
   "metadata": {
    "id": "ZJ8biO8pftG8"
   },
   "outputs": [],
   "source": [
    "def repeat(_func=None, *, num_times=2):\n",
    "    def decorator_repeat(func):\n",
    "        @functools.wraps(func)\n",
    "        def wrapper_repeat(*args, **kwargs):\n",
    "            for _ in range(num_times):\n",
    "                value = func(*args, **kwargs)\n",
    "            return value\n",
    "        return wrapper_repeat\n",
    "\n",
    "    if _func is None:\n",
    "        return decorator_repeat\n",
    "    else:\n",
    "        return decorator_repeat(_func)"
   ]
  },
  {
   "cell_type": "code",
   "execution_count": 94,
   "metadata": {
    "id": "nLFMJwOzftG8"
   },
   "outputs": [],
   "source": [
    "@repeat\n",
    "def say_whee():\n",
    "    print(\"Ура!\")\n",
    "\n",
    "@repeat(num_times=3)\n",
    "def greet(name):\n",
    "    print(f\"Привет, {name}!\")"
   ]
  },
  {
   "cell_type": "code",
   "execution_count": 95,
   "metadata": {
    "id": "ewUFU34iftG9"
   },
   "outputs": [
    {
     "name": "stdout",
     "output_type": "stream",
     "text": [
      "Ура!\n",
      "Ура!\n"
     ]
    }
   ],
   "source": [
    "say_whee()"
   ]
  },
  {
   "cell_type": "code",
   "execution_count": 96,
   "metadata": {
    "id": "yJcOgGwVftG9"
   },
   "outputs": [
    {
     "name": "stdout",
     "output_type": "stream",
     "text": [
      "Привет, мир!\n",
      "Привет, мир!\n",
      "Привет, мир!\n"
     ]
    }
   ],
   "source": [
    "greet('мир')"
   ]
  },
  {
   "cell_type": "markdown",
   "metadata": {
    "id": "IC39n4BuftG9"
   },
   "source": [
    "## 5.5. Декораторы, хранящие состояние \n",
    "Иногда полезно иметь декораторы, отслеживающие состояние. В качестве простого примера мы создадим декоратор, который подсчитывает, сколько раз вызывалась функция.\n",
    "\n",
    "В следующем разделе мы увидим, как использовать для сохранения состояния классы. Но в простых случаях достаточно декораторов функций:"
   ]
  },
  {
   "cell_type": "code",
   "execution_count": null,
   "metadata": {
    "id": "X2MmSIrqftG9"
   },
   "outputs": [],
   "source": [
    "def count_calls(func):\n",
    "    @functools.wraps(func)\n",
    "    def wrapper_count_calls(*args, **kwargs):\n",
    "        wrapper_count_calls.num_calls += 1\n",
    "        print(f\"{wrapper_count_calls.num_calls} вызов функции {func.__name__!r}\")\n",
    "        return func(*args, **kwargs)\n",
    "    wrapper_count_calls.num_calls = 0\n",
    "    return wrapper_count_calls\n",
    "\n",
    "@count_calls\n",
    "def say_whee():\n",
    "    print(\"Ура!\")"
   ]
  },
  {
   "cell_type": "code",
   "execution_count": null,
   "metadata": {
    "id": "eQ3OzG4XftG9"
   },
   "outputs": [],
   "source": [
    "say_whee()"
   ]
  },
  {
   "cell_type": "code",
   "execution_count": null,
   "metadata": {
    "id": "DWQRMZ3gftG9"
   },
   "outputs": [],
   "source": [
    "say_whee()"
   ]
  },
  {
   "cell_type": "code",
   "execution_count": null,
   "metadata": {
    "id": "-u5DCyH1ftG9"
   },
   "outputs": [],
   "source": [
    "say_whee.num_calls"
   ]
  },
  {
   "cell_type": "markdown",
   "metadata": {
    "id": "RKaQmdEcftG9"
   },
   "source": [
    "## 5.6. Классы в качестве декораторов функций\n",
    "Обычным способом хранения состояния является использование классов. Перепишем `@count_calls` из предыдущего раздела, используя в качестве декоратора класс.\n",
    "\n",
    "Напомним, что синтаксис декоратора @my_decorator – это всего лишь более простой способ сказать `func = my_decorator(func`). Если my_decorator является классом, он должен принять func в качестве аргумента в методе `__init__()`.\n",
    "\n",
    "Кроме того, класс должен быть вызван так, чтобы он его можно было вызвать вместо декорируемой функции. Для этого в нем должен быть описан метод `__call__()`:"
   ]
  },
  {
   "cell_type": "code",
   "execution_count": null,
   "metadata": {
    "id": "xOZmxdi0ftG-"
   },
   "outputs": [],
   "source": [
    "class Counter:\n",
    "    def __init__(self, start=0):\n",
    "        self.count = start\n",
    "\n",
    "    def __call__(self):\n",
    "        self.count += 1\n",
    "        print(f\"Текущее значение счетчика – {self.count}\")"
   ]
  },
  {
   "cell_type": "markdown",
   "metadata": {
    "id": "Cf3vSIC3ftG-"
   },
   "source": [
    "Метод `__call__()` вызывается всякий раз, когда мы обращаемся к экземпляру класса:"
   ]
  },
  {
   "cell_type": "code",
   "execution_count": null,
   "metadata": {
    "id": "Rjm0SVmdftG-"
   },
   "outputs": [],
   "source": [
    "counter = Counter()"
   ]
  },
  {
   "cell_type": "code",
   "execution_count": null,
   "metadata": {
    "id": "kPcQ_HoNftG-"
   },
   "outputs": [],
   "source": [
    "counter()"
   ]
  },
  {
   "cell_type": "code",
   "execution_count": null,
   "metadata": {
    "id": "ChX4ofA6ftG-"
   },
   "outputs": [],
   "source": [
    "counter()"
   ]
  },
  {
   "cell_type": "code",
   "execution_count": null,
   "metadata": {
    "id": "tWVe-uzkftG-"
   },
   "outputs": [],
   "source": [
    "counter.count"
   ]
  },
  {
   "cell_type": "markdown",
   "metadata": {
    "id": "EYtkmHLAftG-"
   },
   "source": [
    "Таким, образом типичная реализация класса декоратора должна содержать `__init__()` и `__call__()`:"
   ]
  },
  {
   "cell_type": "code",
   "execution_count": null,
   "metadata": {
    "id": "58Esr0PZftG-"
   },
   "outputs": [],
   "source": [
    "class CountCalls:\n",
    "    def __init__(self, func):\n",
    "        functools.update_wrapper(self, func)\n",
    "        self.func = func\n",
    "        self.num_calls = 0\n",
    "\n",
    "    def __call__(self, *args, **kwargs):\n",
    "        self.num_calls += 1\n",
    "        print(f\"{self.num_calls} вызов функции {self.func.__name__!r}\")\n",
    "        return self.func(*args, **kwargs)\n",
    "\n",
    "@CountCalls\n",
    "def say_whee():\n",
    "    print(\"Ура!\")"
   ]
  },
  {
   "cell_type": "markdown",
   "metadata": {
    "id": "7QZoynhOftG_"
   },
   "source": [
    "Метод `__init__()` должен хранить ссылку на функцию и может выполнять любую другую необходимую инициализацию.\n",
    "\n",
    "Метод `__call__()` будет вызываться вместо декорированной функции. По сути, он делает то же самое, что и функция wrapper() в наших предыдущих примерах.\n",
    "\n",
    "Обратите внимание, что в случае методов классов нужно использовать функцию `functools.update_wrapper()` вместо `@functools.wraps`.\n",
    "\n",
    "Декоратор `@CountCalls` работает так же, как и в предыдущем разделе:"
   ]
  },
  {
   "cell_type": "code",
   "execution_count": null,
   "metadata": {
    "id": "Q9L5ixBZftG_"
   },
   "outputs": [],
   "source": [
    "say_whee()"
   ]
  },
  {
   "cell_type": "code",
   "execution_count": null,
   "metadata": {
    "id": "B7navZdoftG_"
   },
   "outputs": [],
   "source": [
    "say_whee()"
   ]
  },
  {
   "cell_type": "code",
   "execution_count": null,
   "metadata": {
    "id": "J9ij-BfMftG_"
   },
   "outputs": [],
   "source": [
    "say_whee.num_calls"
   ]
  },
  {
   "cell_type": "markdown",
   "metadata": {
    "id": "q8Mm_0dgftG_"
   },
   "source": [
    "# 6. Ещё несколько примеров из реального мира \n",
    "Мы прошли долгий путь и узнали, как создаются всевозможные декораторы. Давайте подведем итоги, применив полученные знания для анализа полезных на практике программных конструкций.\n",
    "\n",
    "## 6.1. Вновь замедляем код, но уже по-умному \n",
    "Наша предыдущая реализация замедлителя кода `@slow_down` всегда «усыпляла» декорируемую функцию на одно и то же время. Давайте воспользуемся нашими знаниями о передачи в декоратор аргументов:"
   ]
  },
  {
   "cell_type": "code",
   "execution_count": null,
   "metadata": {
    "id": "zSKUnj_-ftG_"
   },
   "outputs": [],
   "source": [
    "def slow_down(_func=None, *, rate=1):\n",
    "    \"\"\"Усыпляет функцию перед вызовом на переданное количество секунд\"\"\"\n",
    "    def decorator_slow_down(func):\n",
    "        @functools.wraps(func)\n",
    "        def wrapper_slow_down(*args, **kwargs):\n",
    "            time.sleep(rate)\n",
    "            return func(*args, **kwargs)\n",
    "        return wrapper_slow_down\n",
    "\n",
    "    if _func is None:\n",
    "        return decorator_slow_down\n",
    "    else:\n",
    "        return decorator_slow_down(_func)"
   ]
  },
  {
   "cell_type": "markdown",
   "metadata": {
    "id": "H5Y2DAF6ftG_"
   },
   "source": [
    "Проверим на примере функции `countdown()`:"
   ]
  },
  {
   "cell_type": "code",
   "execution_count": null,
   "metadata": {
    "id": "BceyJm0vftHA"
   },
   "outputs": [],
   "source": [
    "@slow_down(rate=2)\n",
    "def countdown(from_number):\n",
    "    if from_number < 1:\n",
    "        print(\"Поехали!\")\n",
    "    else:\n",
    "        print(from_number)\n",
    "        countdown(from_number - 1)"
   ]
  },
  {
   "cell_type": "code",
   "execution_count": null,
   "metadata": {
    "id": "X2MCGbx6ftHA"
   },
   "outputs": [],
   "source": [
    "countdown(3)"
   ]
  },
  {
   "cell_type": "markdown",
   "metadata": {
    "id": "G0adKaZKftHA"
   },
   "source": [
    "## 6.2. Создание синглтонов \n",
    "Синглтон – это класс с единственным экземпляром. В Python есть несколько часто используемых синглтонов, к примеру: `None`, `True` и `False`. Тот факт, что `None` является синглтоном, позволяет использовать оператор `is` для сравнения объектов с `None`. Мы пользовались этим выше:\n",
    "\n",
    "```\n",
    "if _func is None:\n",
    "    return decorator_name\n",
    "else:\n",
    "    return decorator_name(_func)\n",
    "```\n",
    "\n",
    "Оператор `is` возвращает `True` только для объектов, представляющих одну и ту же сущность.\n",
    "\n",
    "Описанный ниже декоратор `@singleton` превращает класс в одноэлементный, сохраняя первый экземпляр класса в качестве атрибута. Последующие попытки создания экземпляра просто возвращают сохраненный экземпляр:"
   ]
  },
  {
   "cell_type": "code",
   "execution_count": null,
   "metadata": {
    "id": "3390o7OCftHA"
   },
   "outputs": [],
   "source": [
    "def singleton(cls):\n",
    "    \"\"\"Превращает класс в Singleton-класс с единственным экземпляром\"\"\"\n",
    "    @functools.wraps(cls)\n",
    "    def wrapper_singleton(*args, **kwargs):\n",
    "        if not wrapper_singleton.instance:\n",
    "            wrapper_singleton.instance = cls(*args, **kwargs)\n",
    "        return wrapper_singleton.instance\n",
    "    wrapper_singleton.instance = None\n",
    "    return wrapper_singleton\n",
    "\n",
    "@singleton\n",
    "class TheOne:\n",
    "    pass"
   ]
  },
  {
   "cell_type": "markdown",
   "metadata": {
    "id": "fe63Qr6nftHA"
   },
   "source": [
    "Как видите, этот декоратор класса следует тому же шаблону, что и наши декораторы функций. Единственное отличие состоит в том, что мы используем `cls` вместо `func` в качестве имени параметра."
   ]
  },
  {
   "cell_type": "code",
   "execution_count": null,
   "metadata": {
    "id": "ktuzDeBVftHA"
   },
   "outputs": [],
   "source": [
    "first_one = TheOne()\n",
    "another_one = TheOne()"
   ]
  },
  {
   "cell_type": "code",
   "execution_count": null,
   "metadata": {
    "id": "vtd1kvSUftHA"
   },
   "outputs": [],
   "source": [
    "id(first_one)"
   ]
  },
  {
   "cell_type": "code",
   "execution_count": null,
   "metadata": {
    "id": "1jzgM2UtftHB"
   },
   "outputs": [],
   "source": [
    "id(another_one)"
   ]
  },
  {
   "cell_type": "code",
   "execution_count": null,
   "metadata": {
    "id": "y0Wl1eh0ftHB"
   },
   "outputs": [],
   "source": [
    "first_one is another_one"
   ]
  },
  {
   "cell_type": "markdown",
   "metadata": {
    "id": "LakP684QftHB"
   },
   "source": [
    "Таким образом, `first_one` действительно представляет тот же экземпляр, что и `another_one`.\n",
    "\n",
    "**Примечание**. Singleton-классы не так часто используются в Python, как в других языках. Эффект синглтона обычно лучше реализовать через глобальную переменную модуля.\n",
    "\n",
    "## 6.3. Кэширование возвращаемых значений \n",
    "Декораторы предоставляют прекрасный механизм для кэширования и мемоизации. В качестве примера давайте рассмотрим рекурсивное определение последовательности Фибоначчи:"
   ]
  },
  {
   "cell_type": "code",
   "execution_count": null,
   "metadata": {
    "id": "bEYFyLJAftHB"
   },
   "outputs": [],
   "source": [
    "@count_calls\n",
    "def fibonacci(num):\n",
    "    if num < 2:\n",
    "        return num\n",
    "    return fibonacci(num - 1) + fibonacci(num - 2)"
   ]
  },
  {
   "cell_type": "markdown",
   "metadata": {
    "id": "9B4EWkT6ftHB"
   },
   "source": [
    "Хотя реализация и выглядит просто, с производительностью дела обстоят плохо:"
   ]
  },
  {
   "cell_type": "code",
   "execution_count": null,
   "metadata": {
    "id": "PucqDVRTftHB"
   },
   "outputs": [],
   "source": [
    "fibonacci(10)"
   ]
  },
  {
   "cell_type": "code",
   "execution_count": null,
   "metadata": {
    "id": "lSR3D_tPftHB"
   },
   "outputs": [],
   "source": [
    "fibonacci.num_calls"
   ]
  },
  {
   "cell_type": "markdown",
   "metadata": {
    "id": "aRc764dlftHB"
   },
   "source": [
    "Чтобы рассчитать десятое число в последовательности Фибоначчи, в действительности достаточно лишь вычислить предыдущие числа этого ряда. Однако указанная реализация требует выполнения `177` вычислений. И ситуация быстро ухудшается: для 30-го числа потребуется 2.7 млн. операций. Это объясняется тем, что код каждый раз пересчитывает числа последовательности, уже известные из предыдущих этапов.\n",
    "\n",
    "Обычное решение состоит в том, чтобы находить числа Фибоначчи, используя цикл for и справочную таблицу. Тем не менее, можно просто добавить к рекурсии кэширование вычислений:"
   ]
  },
  {
   "cell_type": "code",
   "execution_count": null,
   "metadata": {
    "id": "5kz1LlT9ftHC"
   },
   "outputs": [],
   "source": [
    "def cache(func):\n",
    "    \"\"\"Кэширует предыдущие вызовы функции\"\"\"\n",
    "    @functools.wraps(func)\n",
    "    def wrapper_cache(*args, **kwargs):\n",
    "        cache_key = args + tuple(kwargs.items())\n",
    "        if cache_key not in wrapper_cache.cache:\n",
    "            wrapper_cache.cache[cache_key] = func(*args, **kwargs)\n",
    "        return wrapper_cache.cache[cache_key]\n",
    "    wrapper_cache.cache = dict()\n",
    "    return wrapper_cache\n",
    "\n",
    "@cache\n",
    "@count_calls\n",
    "def fibonacci(num):\n",
    "    if num < 2:\n",
    "        return num\n",
    "    return fibonacci(num - 1) + fibonacci(num - 2)"
   ]
  },
  {
   "cell_type": "markdown",
   "metadata": {
    "id": "UuJ2L2rxftHC"
   },
   "source": [
    "Кэш работает как справочная таблица, поэтому теперь `fibonacci()` выполняет необходимые вычисления только один раз:"
   ]
  },
  {
   "cell_type": "code",
   "execution_count": null,
   "metadata": {
    "id": "ZIqRGMKIftHC"
   },
   "outputs": [],
   "source": [
    "fibonacci(10)"
   ]
  },
  {
   "cell_type": "code",
   "execution_count": null,
   "metadata": {
    "id": "w1c6Lv2nftHC"
   },
   "outputs": [],
   "source": [
    "fibonacci(8)"
   ]
  },
  {
   "cell_type": "markdown",
   "metadata": {
    "id": "d9lHD0f6ftHC"
   },
   "source": [
    "Заметьте, что при вызове `fibonacci(8)` не происходит никаких дополнительных расчетов – все необходимые значения уже найдены и сохранены при вычислении `fibonacci(11)`.\n",
    "\n",
    "**Примечание**: в стандартной библиотеке Python есть также декоратор для [LRU-кэширования](https://ru.wikipedia.org/wiki/%D0%90%D0%BB%D0%B3%D0%BE%D1%80%D0%B8%D1%82%D0%BC%D1%8B_%D0%BA%D1%8D%D1%88%D0%B8%D1%80%D0%BE%D0%B2%D0%B0%D0%BD%D0%B8%D1%8F) – [`@functools.lru_cache`](https://docs.python.org/library/functools.html#functools.lru_cache). Этот декоратор имеет больше возможностей, чем тот, что мы написали выше.\n",
    "\n",
    "## 6.4. Добавление единиц измерения \n",
    "Следующий пример похож на задачу о регистрации плагинов (функций) – здесь тоже не будет меняться поведение декорированной функции. Вместо этого к атрибутам функции будут добавляться единицы измерения:"
   ]
  },
  {
   "cell_type": "code",
   "execution_count": null,
   "metadata": {
    "id": "l64-n7GeftHC"
   },
   "outputs": [],
   "source": [
    "def set_unit(unit):\n",
    "    \"\"\"Регистрирует юнит для переданной функции\"\"\"\n",
    "    def decorator_set_unit(func):\n",
    "        func.unit = unit\n",
    "        return func\n",
    "    return decorator_set_unit"
   ]
  },
  {
   "cell_type": "markdown",
   "metadata": {
    "id": "sF4bUWJsftHD"
   },
   "source": [
    "В следующем примере вычисляется объем цилиндра по известному радиусу и высоте, указанных в сантиметрах:"
   ]
  },
  {
   "cell_type": "code",
   "execution_count": null,
   "metadata": {
    "id": "0Ddxe9hbftHD"
   },
   "outputs": [],
   "source": [
    "@set_unit(\"см^3\")\n",
    "def volume(radius, height):\n",
    "    return math.pi * radius**2 * height"
   ]
  },
  {
   "cell_type": "markdown",
   "metadata": {
    "id": "i_HC1pGZftHD"
   },
   "source": [
    "Атрибут `unit` можно далее использовать по мере необходимости:"
   ]
  },
  {
   "cell_type": "code",
   "execution_count": null,
   "metadata": {
    "id": "lkofNDvFftHD"
   },
   "outputs": [],
   "source": [
    "volume(3, 5)"
   ]
  },
  {
   "cell_type": "code",
   "execution_count": null,
   "metadata": {
    "id": "xriomur0ftHD"
   },
   "outputs": [],
   "source": [
    "volume.unit"
   ]
  },
  {
   "cell_type": "markdown",
   "metadata": {
    "id": "MYqJ282MftHD"
   },
   "source": [
    "**Примечание**: если вам нужно регулярно использовать единицы измерения, например, преобразовывать одни единицы в другие, обратите внимание на библиотеку pint: [pip install Pint](http://pint.readthedocs.io/).\n",
    "\n",
    "# Заключение\n",
    "\n",
    "Итак, мы разобрали:\n",
    "\n",
    "* Как создавать декораторы функций и классов.\n",
    "* Как передавать в декораторы аргументы и возвращать из них значения.\n",
    "* Зачем в декораторах используется @functools.wraps.\n",
    "* Как использовать вложенные декораторы.\n",
    "* Как при помощи декораторов хранить состояния и кэшировать результаты функций.\n",
    "\n",
    "В определении декораторов нет никакой магии. Обычно всё направлено на создание функции или класса, выступающих в качестве обёртки над оригинальной функцией. Для передачи аргументов применяется обычная нотация `*args` и `**kwargs`. А использование знака `@` представляет лишь синтаксический сахар, облегчающий вызов декораторов.\n",
    "\n",
    "Декораторы очень удобны, чтобы модифицировать поведение функций и классов, создавать для их обработки дополнительную логику. При этом такие шаблоны модификации легко наслаивать друг на друга с помощью вложенных декораторов. Чтобы снять декорирование, достаточно просто удалить строчку с упоминанием декоратора.\n",
    "\n",
    "Для ещё более глубокого погружения в декораторы, посмотрите исторический документ [PEP 318](https://www.python.org/dev/peps/pep-0318/), а также [вики-страницу](https://wiki.python.org/moin/PythonDecorators), посвященную декораторам Python.\n",
    "\n",
    "Сторонний модуль [decorator](https://realpython.com/primer-on-python-decorators/) поможет вам в создании собственных декораторов. Его [документация](https://github.com/micheles/decorator/blob/master/docs/documentation.md) содержит ещё больше примеров использования декораторов.\n"
   ]
  }
 ],
 "metadata": {
  "colab": {
   "provenance": []
  },
  "kernelspec": {
   "display_name": "Python 3 (ipykernel)",
   "language": "python",
   "name": "python3"
  },
  "language_info": {
   "codemirror_mode": {
    "name": "ipython",
    "version": 3
   },
   "file_extension": ".py",
   "mimetype": "text/x-python",
   "name": "python",
   "nbconvert_exporter": "python",
   "pygments_lexer": "ipython3",
   "version": "3.12.8"
  }
 },
 "nbformat": 4,
 "nbformat_minor": 4
}
