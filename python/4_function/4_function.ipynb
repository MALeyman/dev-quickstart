{
 "cells": [
  {
   "cell_type": "markdown",
   "id": "efe2eeaf",
   "metadata": {},
   "source": [
    "# Функции"
   ]
  },
  {
   "cell_type": "markdown",
   "id": "0f485255",
   "metadata": {},
   "source": [
    "## Области видимости"
   ]
  },
  {
   "cell_type": "code",
   "execution_count": 4,
   "id": "d5f62413",
   "metadata": {},
   "outputs": [
    {
     "name": "stdout",
     "output_type": "stream",
     "text": [
      "Локальная x: 10\n",
      "Вне функции x: 5\n"
     ]
    }
   ],
   "source": [
    "x = 5\n",
    "def func():\n",
    "    x = 10  # локальная переменная\n",
    "    print(\"Локальная x:\", x)\n",
    "\n",
    "func()\n",
    "print(\"Вне функции x:\", x) #  x не определена в глобальной области видимости\n"
   ]
  },
  {
   "cell_type": "code",
   "execution_count": null,
   "id": "8c8c9259",
   "metadata": {},
   "outputs": [
    {
     "name": "stdout",
     "output_type": "stream",
     "text": [
      "Внутри inner: 10\n",
      "Внутри outer после inner: 10\n",
      "Вне функции x: 55\n"
     ]
    }
   ],
   "source": [
    "# nonlocal меняет значение  переменной внешней функции (не глобальной переменной)\n",
    "\n",
    "x = 55\n",
    "\n",
    "def outer():\n",
    "    x = 5  # локальная для outer\n",
    "\n",
    "    def inner():\n",
    "        nonlocal x  # ссылка на x из outer\n",
    "        x = 10      # изменяем внешний x\n",
    "        print(\"Внутри inner:\", x)\n",
    "\n",
    "    inner()\n",
    "    print(\"Внутри outer после inner:\", x)\n",
    "\n",
    "outer()\n",
    "\n",
    "print(\"Вне функции x:\", x)"
   ]
  },
  {
   "cell_type": "code",
   "execution_count": null,
   "id": "9c0faaaa",
   "metadata": {},
   "outputs": [
    {
     "name": "stdout",
     "output_type": "stream",
     "text": [
      "Внутри inner: 10\n",
      "Внутри outer после inner: 5\n",
      "Вне функции x: 10\n"
     ]
    }
   ],
   "source": [
    "# global меняет значение глобальной переменной (но не локальной переменной для outer)\n",
    "\n",
    "x = 55\n",
    "\n",
    "def outer():\n",
    "    x = 5  # локальная для outer\n",
    "\n",
    "    def inner():\n",
    "        global x  # ссылка на x из outer\n",
    "        x = 10      # изменяем внешний x\n",
    "        print(\"Внутри inner:\", x)\n",
    "\n",
    "    inner()\n",
    "    print(\"Внутри outer после inner:\", x)\n",
    "\n",
    "outer()\n",
    "\n",
    "print(\"Вне функции x:\", x)"
   ]
  },
  {
   "cell_type": "code",
   "execution_count": null,
   "id": "d6e38205",
   "metadata": {},
   "outputs": [],
   "source": []
  },
  {
   "cell_type": "code",
   "execution_count": null,
   "id": "c242db22",
   "metadata": {},
   "outputs": [],
   "source": []
  },
  {
   "cell_type": "code",
   "execution_count": null,
   "id": "45a05855",
   "metadata": {},
   "outputs": [],
   "source": []
  }
 ],
 "metadata": {
  "kernelspec": {
   "display_name": "env1",
   "language": "python",
   "name": "python3"
  },
  "language_info": {
   "codemirror_mode": {
    "name": "ipython",
    "version": 3
   },
   "file_extension": ".py",
   "mimetype": "text/x-python",
   "name": "python",
   "nbconvert_exporter": "python",
   "pygments_lexer": "ipython3",
   "version": "3.12.3"
  }
 },
 "nbformat": 4,
 "nbformat_minor": 5
}
