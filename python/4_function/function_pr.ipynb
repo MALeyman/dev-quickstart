{
 "cells": [
  {
   "cell_type": "markdown",
   "metadata": {},
   "source": [
    "# Функциональное программирование в Python"
   ]
  },
  {
   "cell_type": "markdown",
   "metadata": {},
   "source": [
    "### Задача 1 Фильтрация данных"
   ]
  },
  {
   "cell_type": "code",
   "execution_count": null,
   "metadata": {},
   "outputs": [
    {
     "name": "stdout",
     "output_type": "stream",
     "text": [
      "Города длиной не менее трех символов: ['Москва', 'Ростов-на-Дону', 'Челябинск']\n"
     ]
    }
   ],
   "source": [
    "from itertools import filterfalse\n",
    "\n",
    "# Функция для фильтрации строк\n",
    "def is_valid_city(city):\n",
    "    return len(city) >= 3\n",
    "\n",
    "# Чтение списка городов\n",
    "input_data = input(\"Введите список городов через пробел: \")\n",
    "\n",
    "# Генерация списка с использованием filter\n",
    "cities = input_data.split()\n",
    "valid_cities = list(filter(is_valid_city, cities))\n",
    "\n",
    "# Вывод результата\n",
    "print(\"Города длиной не менее трех символов:\", valid_cities)\n"
   ]
  },
  {
   "cell_type": "markdown",
   "metadata": {},
   "source": [
    "### Задача 2 Вложенные функции"
   ]
  },
  {
   "cell_type": "code",
   "execution_count": 9,
   "metadata": {},
   "outputs": [
    {
     "name": "stdout",
     "output_type": "stream",
     "text": [
      "Отсортированный список: [4, 6, 9, 22, 33, 123]\n"
     ]
    }
   ],
   "source": [
    "# Функция для преобразования строки в список целых чисел\n",
    "def get_list():\n",
    "    input_string = input(\"Введите числа, разделенные пробелами: \")\n",
    "    return list(map(int, input_string.split()))\n",
    "\n",
    "\n",
    "# Декоратор для сортировки результата другой функции\n",
    "def sort_decorator(func):\n",
    "    def wrapper():\n",
    "        result = func()  # Вызов переданной функции\n",
    "        return sorted(result)  # Сортировка результата\n",
    "    return wrapper\n",
    "\n",
    "\n",
    "# Применяем декоратор к функции get_list\n",
    "@sort_decorator\n",
    "def sorted_get_list():\n",
    "    return get_list()\n",
    "\n",
    "# Вызов функции с декоратором\n",
    "sorted_numbers = sorted_get_list()\n",
    "\n",
    "# Вывод результата\n",
    "print(\"Отсортированный список:\", sorted_numbers)\n"
   ]
  },
  {
   "cell_type": "markdown",
   "metadata": {},
   "source": [
    "### Задача 3 Перестановки строк\n"
   ]
  },
  {
   "cell_type": "code",
   "execution_count": 28,
   "metadata": {},
   "outputs": [
    {
     "name": "stdout",
     "output_type": "stream",
     "text": [
      "Строка:  Иннополис Зала\n",
      "n =  2\n",
      "Перестановки: \n",
      "[' З', ' И', ' а', ' и', ' л', ' н', ' о', ' п', ' с', 'З ', 'ЗИ', 'За', 'Зи', 'Зл', 'Зн', 'Зо', 'Зп', 'Зс', 'И ', 'ИЗ', 'Иа', 'Ии', 'Ил', 'Ин', 'Ио', 'Ип', 'Ис', 'а ', 'аЗ', 'аИ', 'аа', 'аи', 'ал', 'ан', 'ао', 'ап', 'ас', 'и ', 'иЗ', 'иИ', 'иа', 'ил', 'ин', 'ио', 'ип', 'ис', 'л ', 'лЗ', 'лИ', 'ла', 'ли', 'лл', 'лн', 'ло', 'лп', 'лс', 'н ', 'нЗ', 'нИ', 'на', 'ни', 'нл', 'нн', 'но', 'нп', 'нс', 'о ', 'оЗ', 'оИ', 'оа', 'ои', 'ол', 'он', 'оо', 'оп', 'ос', 'п ', 'пЗ', 'пИ', 'па', 'пи', 'пл', 'пн', 'по', 'пс', 'с ', 'сЗ', 'сИ', 'са', 'си', 'сл', 'сн', 'со', 'сп']\n"
     ]
    }
   ],
   "source": [
    "from itertools import permutations  \n",
    "\n",
    "def lexicographic_permutations(s, n):  \n",
    "    unique_permutations = set(permutations(s, n))  \n",
    "    return sorted(''.join(p) for p in unique_permutations)  \n",
    "\n",
    "# Пример использования\n",
    "s = input(\"Введите строку: \")\n",
    "print(\"Строка: \", s)\n",
    "n = int(input(\"Введите длину перестановок: \"))\n",
    "print(\"n = \", n)\n",
    "print(\"Перестановки: \")\n",
    "print(lexicographic_permutations(s, n))  "
   ]
  },
  {
   "cell_type": "markdown",
   "metadata": {},
   "source": [
    "### Задача 4 Комбинации символов"
   ]
  },
  {
   "cell_type": "code",
   "execution_count": 29,
   "metadata": {},
   "outputs": [
    {
     "name": "stdout",
     "output_type": "stream",
     "text": [
      "Строка : Иннополис\n",
      "Длина:  2\n",
      "Всевозможные комбинации: ['И', 'Ии', 'Ил', 'Ин', 'Ин', 'Ио', 'Ио', 'Ип', 'Ис', 'и', 'ис', 'л', 'ли', 'лс', 'н', 'н', 'ни', 'ни', 'нл', 'нл', 'нн', 'но', 'но', 'но', 'но', 'нп', 'нп', 'нс', 'нс', 'о', 'о', 'ои', 'ои', 'ол', 'ол', 'оо', 'оп', 'ос', 'ос', 'п', 'пи', 'пл', 'по', 'пс', 'с']\n"
     ]
    }
   ],
   "source": [
    "from itertools import combinations\n",
    "\n",
    "# Функция для получения комбинаций\n",
    "def get_combinations(s, k):\n",
    "    # Генерация всех комбинаций для длины от 1 до k\n",
    "    all_combinations = []\n",
    "    for i in range(1, k + 1):\n",
    "        # Добавляем комбинации длины i\n",
    "        all_combinations.extend(combinations(s, i))\n",
    "    # Сортировка и объединение символов в строки\n",
    "    return sorted(''.join(c) for c in all_combinations)\n",
    "\n",
    "# Пример использования\n",
    "s = input(\"Введите строку: \")\n",
    "print(\"Строка :\", s)\n",
    "k = int(input(\"Введите максимальную длину комбинаций: \"))\n",
    "print(\"Длина: \", k)\n",
    "# Вызов функции и вывод результата\n",
    "result = get_combinations(s, k)\n",
    "print(\"Всевозможные комбинации:\", result)\n"
   ]
  },
  {
   "cell_type": "markdown",
   "metadata": {},
   "source": [
    "### Задача 5 Функция с частичными аргументами\n"
   ]
  },
  {
   "cell_type": "code",
   "execution_count": 31,
   "metadata": {},
   "outputs": [
    {
     "name": "stdout",
     "output_type": "stream",
     "text": [
      "Сортировка по возрастанию возраста: [{'Имя': 'Сергей', 'Возраст': 25}, {'Имя': 'Иван', 'Возраст': 30}, {'Имя': 'Пётр', 'Возраст': 35}]\n",
      "Сортировка по убыванию возраста: [{'Имя': 'Пётр', 'Возраст': 35}, {'Имя': 'Иван', 'Возраст': 30}, {'Имя': 'Сергей', 'Возраст': 25}]\n"
     ]
    }
   ],
   "source": [
    "from functools import partial\n",
    "\n",
    "# Функция для сортировки пользователей по возрасту\n",
    "def _sort_users_by_age(users, reverse=False):\n",
    "    return sorted(users, key=lambda user: user['Возраст'], reverse=reverse)\n",
    "\n",
    "# Частичные функции для сортировки по возрастанию и убыванию\n",
    "sort_users_by_age_asc = partial(_sort_users_by_age, reverse=False)\n",
    "sort_users_by_age_desc = partial(_sort_users_by_age, reverse=True)\n",
    "\n",
    "# Пример использования\n",
    "users = [\n",
    "    {'Имя': 'Иван', 'Возраст': 30},\n",
    "    {'Имя': 'Сергей', 'Возраст': 25},\n",
    "    {'Имя': 'Пётр', 'Возраст': 35}\n",
    "]\n",
    "\n",
    "# Сортировка по возрастанию возраста\n",
    "sorted_asc = sort_users_by_age_asc(users)\n",
    "print(\"Сортировка по возрастанию возраста:\", sorted_asc)\n",
    "\n",
    "# Сортировка по убыванию возраста\n",
    "sorted_desc = sort_users_by_age_desc(users)\n",
    "print(\"Сортировка по убыванию возраста:\", sorted_desc)\n"
   ]
  }
 ],
 "metadata": {
  "kernelspec": {
   "display_name": ".venv",
   "language": "python",
   "name": "python3"
  },
  "language_info": {
   "codemirror_mode": {
    "name": "ipython",
    "version": 3
   },
   "file_extension": ".py",
   "mimetype": "text/x-python",
   "name": "python",
   "nbconvert_exporter": "python",
   "pygments_lexer": "ipython3",
   "version": "3.13.0"
  }
 },
 "nbformat": 4,
 "nbformat_minor": 2
}
